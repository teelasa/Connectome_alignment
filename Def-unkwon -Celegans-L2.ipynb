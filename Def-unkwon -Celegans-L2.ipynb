{
 "cells": [
  {
   "cell_type": "markdown",
   "id": "c69eba05",
   "metadata": {},
   "source": [
    "# SIN Anchors:\n",
    "Si cambio entre A2 y L2 tengo que cambiar la parte de cambios colectivos"
   ]
  },
  {
   "cell_type": "code",
   "execution_count": 4,
   "id": "eefb8125",
   "metadata": {},
   "outputs": [],
   "source": [
    "import itertools\n",
    "import pickle\n",
    "import matplotlib.pyplot as plt\n",
    "import numpy as np\n",
    "import math\n",
    "import random\n",
    "import os\n",
    "import time\n",
    "from numba import jit, njit\n",
    "from numba.types import bool_, int_, float32\n",
    "from math import comb\n",
    "from copy import deepcopy\n",
    "from tqdm import tqdm\n",
    "import networkx as nx\n",
    "import pandas as pd\n",
    "from collections import defaultdict\n",
    "from itertools import permutations"
   ]
  },
  {
   "cell_type": "code",
   "execution_count": 5,
   "id": "c848c94b",
   "metadata": {},
   "outputs": [
    {
     "name": "stdout",
     "output_type": "stream",
     "text": [
      "Fichero leído: 0 tamaño (227, 183)\n",
      "Fichero leído: 1 tamaño (227, 183)\n",
      "Fichero leído: 2 tamaño (227, 183)\n",
      "Fichero leído: 3 tamaño (227, 183)\n",
      "Fichero leído: 4 tamaño (227, 183)\n",
      "Fichero leído: 5 tamaño (227, 183)\n",
      "Fichero leído: 6 tamaño (227, 183)\n",
      "Fichero leído: 7 tamaño (227, 183)\n"
     ]
    }
   ],
   "source": [
    "tablas = 8\n",
    "n_grupo = 4\n",
    "\n",
    "d = {}\n",
    "D = \"Dataset\"\n",
    "for i in range(0,tablas):\n",
    "    d[\"group\" + str(i)] = pd.read_excel(\"datasets.ods\", sheet_name=D+str(i+1))\n",
    "    print('Fichero leído:',i, 'tamaño', d[\"group\" + str(i)].shape)"
   ]
  },
  {
   "cell_type": "code",
   "execution_count": 6,
   "id": "0d8624d9",
   "metadata": {},
   "outputs": [
    {
     "name": "stdout",
     "output_type": "stream",
     "text": [
      "Filas: 224\n"
     ]
    }
   ],
   "source": [
    "## Vamos a meter los Dataset en una hipermatriz M , donde cada capa es un dataset\n",
    "rows = d[\"group\" + str(i)].shape[0] - 3\n",
    "columns = d[\"group\" + str(i)].shape[1] - 3\n",
    "#En el excel empieza en (5,4). Es decir una diferencia de 5 y 4 respecto a los números que saquemos\n",
    "\n",
    "\n",
    "M = np.zeros((tablas,rows,columns))\n",
    "\n",
    "for i in range(0, tablas):\n",
    "    Data = d['group' + str(i)]\n",
    "    M[i,:,:] = Data.iloc[3:,3:]\n",
    "\n",
    "## No son cuadradas, pero puede que a mí me interese que lo sean (y llenar lo que sobre de ceros)\n",
    "M_square = np.zeros((tablas, rows, rows))\n",
    "M_square[:,:, 0:columns] = M[:,:,:]\n",
    "\n",
    "\n",
    "#Lo queremos BINARIO, ignorando su peso (Luego pensar cómo se haría con el peso)\n",
    "M_bin = np.zeros((tablas,rows,columns))\n",
    "M_square_bin = np.zeros((tablas,rows,rows))\n",
    "for i in range(tablas):\n",
    "    for j in range(rows):\n",
    "        for k in range(columns):\n",
    "            if (M[i,j,k] >= 1):\n",
    "                M_bin[i,j,k] = 1\n",
    "                M_square_bin[i,j,k] = 1\n",
    "                \n",
    "Nx = rows\n",
    "print('Filas:',rows)"
   ]
  },
  {
   "cell_type": "markdown",
   "id": "8955c46f",
   "metadata": {},
   "source": [
    "## FUNCIONES DE ENERGÍA"
   ]
  },
  {
   "cell_type": "code",
   "execution_count": 7,
   "id": "077b7307",
   "metadata": {},
   "outputs": [],
   "source": [
    "@jit(nopython = True)\n",
    "def hamiltonian_prob(Edges_NoL, Edges_L, overlap_0, overlap_1, alpha, beta):\n",
    "    n1 = int(Edges_L + alpha + beta - 2)\n",
    "    k1 = overlap_1 + alpha -1\n",
    "    \n",
    "    n0 = int(Edges_NoL + alpha + beta - 2)\n",
    "    k0 = overlap_0 + alpha - 1\n",
    "    \n",
    "    # !!!! Con numba los factoriales grandes dan errores: usar [ math.lgamma(n+1) == log(n!) ]\n",
    "    H1 = math.lgamma(n1+1)- math.lgamma(k1+1) - math.lgamma(n1-k1 +1) + math.log( Edges_L + alpha+beta-1)\n",
    "    H0 = math.lgamma(n0+1)- math.lgamma(k0+1) - math.lgamma(n0-k0 +1) + math.log( Edges_NoL + alpha+beta-1)\n",
    "    \n",
    "    H = H1 + H0\n",
    "\n",
    "    return H\n",
    "    \n",
    "    \n",
    "@jit(nopython=True)\n",
    "def overlap_total_prob(L_f, A_f, P_inv_f):\n",
    "    Nx = L_f.shape[0]\n",
    "    Ny = L_f.shape[1]\n",
    "    K = A_f.shape[0]\n",
    "    \n",
    "    ovlp_0 = np.zeros((K))\n",
    "    ovlp_1 = np.zeros((K))\n",
    "    for k in range(0,K):\n",
    "        for f in range(0,Ny): #Overlap de cada fila (pero no lo necesitamos guardar, solo queremos el total)\n",
    "            for c in range(0,Nx):\n",
    "            #El overlap depende de la permutación!\n",
    "                p_f=int(P_inv_f[k,f])\n",
    "                p_c=int(P_inv_f[k,c])           \n",
    "            \n",
    "                if (L_f[f,c] == A_f[k,p_f,p_c]): #Antes tenía esto al revés\n",
    "                    if (L_f[f,c] == 1):\n",
    "                        ovlp_1[k] = ovlp_1[k]+1\n",
    "                    else:\n",
    "                        ovlp_0[k] = ovlp_0[k] +1\n",
    "\n",
    "    ovlp_1 = int(sum(ovlp_1))\n",
    "    ovlp_0 = int(sum(ovlp_0))\n",
    "   \n",
    "    return ovlp_0, ovlp_1\n",
    "\n",
    "\n",
    "@jit(nopython=True)\n",
    "def hamiltonian(Edges, overlap, alpha, beta):\n",
    "    n = int(Edges+alpha+beta-2)\n",
    "    k = overlap+alpha-1\n",
    "    # !!!! Con numba los factoriales grandes dan errores: usar [ math.lgamma(n+1) == log(n!) ]\n",
    "    H = math.lgamma(n+1)- math.lgamma(k+1) - math.lgamma(n-k+1) + math.log( Edges+alpha+beta-1)\n",
    "    return H\n",
    "\n",
    "@jit(nopython=True)\n",
    "def deltaE(Edges, overlap, alpha, beta, delta_o):\n",
    "    abs_o=abs(delta_o)\n",
    "    logaritmo_b = 0  #Lo tengo que hacer por separad\n",
    "    logaritmo_ab = 0\n",
    "    \n",
    "    A_max = Edges + alpha + beta -2 #Mirar pag 18 del cuaderno de bitácora\n",
    "    B_max = overlap + delta_o + alpha -1\n",
    "\n",
    "    if (delta_o<0):        \n",
    "      \n",
    "        logaritmo_b = math.lgamma((B_max + abs_o) + 1) - math.lgamma(B_max + 1)\n",
    "        logaritmo_ab = math.lgamma(A_max - B_max +1) - math.lgamma(A_max - (B_max + abs_o)+1)\n",
    "        logaritmo =  logaritmo_b - logaritmo_ab\n",
    "\n",
    "        dE = logaritmo\n",
    "        \n",
    "    else:\n",
    "        \n",
    "        logaritmo_ab = math.lgamma(A_max - B_max + abs_o + 1) - math.lgamma(A_max - B_max + 1)\n",
    "        logaritmo_b = math.lgamma(B_max + 1) - math.lgamma(B_max - abs_o + 1)   \n",
    "        logaritmo = logaritmo_b - logaritmo_ab\n",
    "        \n",
    "        dE = -logaritmo   \n",
    "        \n",
    "    return dE \n",
    "\n",
    "@jit(nopython=True)\n",
    "def overlap_total(L_f, A_f, P_inv_f):\n",
    "    Nx = L_f.shape[0]\n",
    "    Ny = L_f.shape[1]\n",
    "    K = A_f.shape[0]\n",
    "    \n",
    "    ovlp_f=np.zeros((K))\n",
    "    for k in range(0,K):\n",
    "        for f in range(0,Ny): #Overlap de cada fila (pero no lo necesitamos guardar, solo queremos el total)\n",
    "            for c in range(0,Nx):\n",
    "            #El overlap depende de la permutación!\n",
    "                p_f=int(P_inv_f[k,f])\n",
    "                p_c=int(P_inv_f[k,c])           \n",
    "            \n",
    "                if (L_f[f][c] == A_f[k,p_f,p_c]): #Antes tenía esto al revés\n",
    "                    ovlp_f[k] = ovlp_f[k]+1\n",
    "\n",
    "    ovlp_f=int(sum(ovlp_f))\n",
    "   \n",
    "    return ovlp_f\n",
    "\n",
    "@jit(nopython=True)\n",
    "def L_wiring(A_f, P_inv_f):\n",
    "    \n",
    "    Nx = A_f.shape[1]\n",
    "    Ny = A_f.shape[2]\n",
    "    K = A_f.shape[0]\n",
    "    L_new_f = np.zeros((Nx,Ny))\n",
    "    \n",
    "    for i in range(0,Nx):\n",
    "        for j in range(0,Ny):\n",
    "            for k in range(0,K):\n",
    "                #Necesito la permutación\n",
    "                p1 = int(P_inv_f[k,i]) #A la fila y columna i de L, la fila y columna que le corresponde en A\n",
    "                p2 = int(P_inv_f[k,j]) #A la fila y columna j de L, la fila y columna que le corresponde en A\n",
    "                L_new_f[i,j] += A_f[k,p1,p2]\n",
    "            \n",
    "#             print('i,j', i,j,'L_new', L_new_)\n",
    "            valor_lnew=1/K* L_new_f[i,j]\n",
    "            if (valor_lnew!=0.5):#Para que el 0.5 no siempre me lo redondee hacia arriba o hacia abajo\n",
    "                L_new_f[i,j] = round( valor_lnew )\n",
    "            else:\n",
    "                L_new_f[i,j] =np.random.randint(2)\n",
    "            #MIRAR BOOLEANOS\n",
    "            #L_new[i][j] = round( 1/K* L_new[i][j])*(L_new!=0.5)+np.random.randint(1)*(L_new==0.5) \n",
    "\n",
    "    #Recalculamiento de energia\n",
    "    \n",
    "    \n",
    "    return L_new_f\n",
    "\n",
    "\n",
    "#Este tiene en cuenta una lista secundaria\n",
    "#(que puede ser por ejemplo el hub de mayor tamaño)\n",
    "@jit(nopython=True)\n",
    "def partition(array,  etiquetas, begin, end):\n",
    "    pivot = begin\n",
    "    for i in range(begin+1, end+1):\n",
    "        if array[i] < array[begin]:\n",
    "            pivot += 1\n",
    "            array[i], array[pivot] = array[pivot], array[i]\n",
    "            etiquetas[i], etiquetas[pivot] = etiquetas[pivot], etiquetas[i]\n",
    "    array[pivot], array[begin] = array[begin], array[pivot]\n",
    "    etiquetas[pivot], etiquetas[begin] = etiquetas[begin], etiquetas[pivot] \n",
    "\n",
    "    return pivot\n",
    "@jit(nopython=True)\n",
    "def quicksort(array, etiquetas, begin=0, end=None):\n",
    "    #print('dentro:',array, begin, end)\n",
    "    if end is None:\n",
    "        end = len(array) - 1\n",
    "    if begin >= end: #Para acabar el algoritmo\n",
    "        return\n",
    "    pivot = partition(array,  etiquetas, begin, end)\n",
    "    #print('pivot', pivot, 'array', array)\n",
    "    \n",
    "    #Aquí ordenamos la derecha y la izquierda\n",
    "    quicksort(array, etiquetas, begin, pivot-1)\n",
    "    quicksort(array,  etiquetas, pivot+1, end)\n",
    "    \n",
    "@njit \n",
    "#Vamos a ordenar igual las etiquetas de nodos con las de a que grupo pertenecen\n",
    "def permu_groups(L_f, A_f, start_f): #En este caso no lo voy a hacer con anchors\n",
    "    Nx = L_f.shape[0]\n",
    "    Ny = L_f.shape[1]\n",
    "    K = A_f.shape[0]\n",
    "    N_groups = len(start_f)\n",
    "    \n",
    "    \n",
    "    #Matrices permutación y sus inversas\n",
    "    P_f=np.zeros((K,Nx))\n",
    "    P_inv_f=np.zeros((K,Nx))\n",
    "    P_new=np.zeros((K,Nx))\n",
    "    \n",
    "    #Vamos a ordenar las matrices Observación según el grado de los nodos de L_inf\n",
    "    orden_L=np.zeros((Nx))\n",
    "    for i in range(Nx):\n",
    "        b=np.nonzero(L_f[i,:])\n",
    "        orden_L[i] = b[0].size#.size\n",
    "        \n",
    "    array_L = np.arange(Nx)\n",
    "    quicksort(orden_L, array_L)\n",
    "    #Luego para igualar el array_L con el array_A tenemos que tener en cuenta lo de labels_f\n",
    "    \n",
    "    #Ahora voy a hacer dos arrays_extras para colocar sus etiquetas\n",
    "    #Cada grupo en orden\n",
    "    #A_L_La=[#0, #1, #2, #3, #4,#5]\n",
    "    array_L_labels = np.zeros((Nx))\n",
    "    group_number = np.zeros((N_groups))\n",
    "    for i in range(Nx):\n",
    "        n_type = 0\n",
    "        #Tenemos que ver a qué tipo pertenece\n",
    "        while ( (array_L[i] >= start_f[n_type]) and (n_type < N_groups)):\n",
    "            n_type += 1\n",
    "       \n",
    "        grupo = int(n_type-1)\n",
    "        g = int(start_f[grupo])\n",
    "        array_L_labels[g + int(group_number[grupo])] = array_L[i]\n",
    "        group_number[grupo] += 1\n",
    "\n",
    "    #Lo mismo para todas las A's\n",
    "        \n",
    "    #Órdenes de A\n",
    "    for i in range(0,K):\n",
    "        orden_A = np.zeros((Nx))\n",
    "        for i_orden in range(Nx):\n",
    "            b = np.nonzero(A_f[i,i_orden,:])\n",
    "            orden_A[i_orden] = b[0].size\n",
    "\n",
    "        array_A = np.arange(Nx) #Para las etiquetas\n",
    "        quicksort(orden_A, array_A)\n",
    "            \n",
    "        ## Ahora empiezo a ordenarlos según el tipo \n",
    "        array_A_labels = np.zeros((Nx))\n",
    "        group_number = np.zeros((N_groups))\n",
    "        \n",
    "        for i_g in range(Nx):\n",
    "            n_type = 0\n",
    "            #Tenemos que ver a qué tipo pertenece\n",
    "            while ( (array_A[i_g] >= start_f[n_type]) and (n_type < N_groups) ):\n",
    "                n_type += 1\n",
    "\n",
    "            grupo = int(n_type-1)\n",
    "            g = int(start_f[grupo])\n",
    "            array_A_labels[ g + int(group_number[grupo])] = array_A[i_g]\n",
    "            group_number[grupo] += 1\n",
    "    \n",
    "\n",
    "    # Ahora la permutación es ordenar array_L = [0,1,2,3...]\n",
    "    # Y luego ordenar el array_A _labels según se haya ordenado el array_L_labels\n",
    "        array_A_labels = array_A_labels[np.argsort(array_L_labels)]\n",
    "        P_f[i,:] = array_A_labels\n",
    "        \n",
    "        for i_inv in range(0,Nx):\n",
    "            for j_inv in range(0,Ny):\n",
    "                if (P_f[i,i_inv] == j_inv):\n",
    "                    P_inv_f[i, j_inv]=i_inv\n",
    "    \n",
    "    P_todo = np.zeros((2,K,Nx))\n",
    "    P_todo[0,:,:] = P_f.copy()\n",
    "    P_todo[1,:,:] = P_inv_f.copy()\n",
    "\n",
    "    \n",
    "    \n",
    "    return P_todo\n",
    "\n",
    "@njit \n",
    "#Vamos a ordenar igual las etiquetas de nodos con las de a que grupo pertenecen\n",
    "def random_groups(L_f, A_f, start_f, end_f): #En este caso no lo voy a hacer con anchors\n",
    "    Nx = L_f.shape[0]\n",
    "    Ny = L_f.shape[1]\n",
    "    K = A_f.shape[0]\n",
    "    N_groups = len(start_f)\n",
    "    \n",
    "    \n",
    "    #Matrices permutación y sus inversas\n",
    "    P_f=np.zeros((K,Nx))\n",
    "    P_inv_f=np.zeros((K,Nx))\n",
    "    P_new=np.zeros((K,Nx))\n",
    "    \n",
    "    for i in range(0,K):\n",
    "        for i_g in range(N_groups):\n",
    "            start = start_f[i_g]\n",
    "            end = end_f[i_g]\n",
    "            \n",
    "            ordenado = np.arange(start, end)\n",
    "            np.random.shuffle(ordenado)\n",
    "            P_f[i,start:end] = ordenado\n",
    "        for i_inv in range(0,Nx):\n",
    "            for j_inv in range(0,Ny):\n",
    "                if (P_f[i,i_inv] == j_inv):\n",
    "                    P_inv_f[i, j_inv]=i_inv\n",
    "\n",
    "    \n",
    "    P_todo = np.zeros((2,K,Nx))\n",
    "    P_todo[0,:,:] = P_f.copy()\n",
    "    P_todo[1,:,:] = P_inv_f.copy()\n",
    "\n",
    "    \n",
    "    \n",
    "    return P_todo\n"
   ]
  },
  {
   "cell_type": "markdown",
   "id": "4331825a",
   "metadata": {},
   "source": [
    "# CONDICIONES INICIALES Y GRUPOS\n",
    "\n",
    "Ahora es cuando vamos a poner los unkwons!"
   ]
  },
  {
   "cell_type": "code",
   "execution_count": 8,
   "id": "4c5e011f",
   "metadata": {},
   "outputs": [
    {
     "name": "stdout",
     "output_type": "stream",
     "text": [
      "grupos: Sensory, Inter, Motor, Modulatory, Muscle, Other\n",
      "SIZE GROUPS: [65 44 42 29 32 12]\n",
      "***********************************\n",
      "Primer nodo de cada grupo [  0  65 109 151 180 212]\n",
      "Último nodo de cada grupo [ 65 109 151 180 212 224]\n"
     ]
    }
   ],
   "source": [
    "# Por ahora no las sé buscar en excell pero seguramente no sea difícil leer celdas\n",
    "Sensory = 69-5 #0\n",
    "Inter = 113-70 # 1\n",
    "Motor = 155-114 #2\n",
    "Modulatory = 184-156 #3\n",
    "Muscle = 216-185 #4 \n",
    "Others = 228-217 #5\n",
    "\n",
    "size_groups = np.array([Sensory, Inter, Motor, Modulatory, Muscle, Others]) + 1 #Porque empezamos en cero\n",
    "n_groups = len(size_groups)\n",
    "start_groups = np.zeros(n_groups) #En que posición empieza cada grupo\n",
    "end_groups = np.zeros(n_groups)\n",
    "\n",
    "\n",
    "print('grupos: Sensory, Inter, Motor, Modulatory, Muscle, Other')\n",
    "print('SIZE GROUPS:', size_groups)\n",
    "#Para evitar trabajar con diccionarios (por NUMBA), vamos a hacer matrices \n",
    "# Cada matriz tiene el tamaño de la de mayor, pero luego las vamos cortando\n",
    "rows_g, columns_g = size_groups.max(), size_groups.max()\n",
    "G = np.zeros((tablas, n_groups, rows_g, columns_g))  #Aunque en las matrices G no voy a estar muy interesada\n",
    "labels = np.zeros((rows))\n",
    "\n",
    "size_suma = 0\n",
    "start_groups[0] = 0\n",
    "\n",
    "for i in range(n_groups):\n",
    "    size = size_groups[i]\n",
    "    if (i!=n_groups-1):\n",
    "        start_groups[i+1] = int(size_suma + size)\n",
    "    for i_label in range(size_suma, size + size_suma):\n",
    "        labels[i_label] = i\n",
    "        \n",
    "    G[:,i, :size,  :size] = M_square[:, size_suma:(size + size_suma), size_suma :(size + size_suma)] \n",
    "    size_suma = size_suma + (size) \n",
    "\n",
    "    \n",
    "\n",
    "g1 = int((start_groups[-2]))\n",
    "\n",
    "for i in range(0,n_groups):\n",
    "    if (i!= n_groups-1):\n",
    "        end_groups[i] = start_groups[i+1]\n",
    "    else:\n",
    "        end_groups[i] = Nx\n",
    "start_groups = start_groups.astype(int)\n",
    "end_groups = end_groups.astype(int)\n",
    "\n",
    "print('***********************************')\n",
    "print('Primer nodo de cada grupo', start_groups)\n",
    "print('Último nodo de cada grupo', end_groups)\n",
    "\n"
   ]
  },
  {
   "cell_type": "markdown",
   "id": "d2881b5b",
   "metadata": {},
   "source": [
    "## C-elegants\n",
    "\n",
    "Cogemos los estadios más evolucionados: A2,A1, L4,L3"
   ]
  },
  {
   "cell_type": "code",
   "execution_count": 9,
   "id": "32ce360e",
   "metadata": {},
   "outputs": [
    {
     "name": "stdout",
     "output_type": "stream",
     "text": [
      "MATRICES OBSERVACIÓN\n",
      "(4, 224, 224)\n",
      "7428.0\n"
     ]
    }
   ],
   "source": [
    "### DATOS\n",
    "Nx, Ny = rows, rows #Nodos en la red\n",
    "#Nx, Ny = rows, columns\n",
    "\n",
    "qn = 0.9 #Prob copia de nodo\n",
    "qe = 0.2 #Prob copia de edge\n",
    "K = 4 #tablas #Matrices copiadas K\n",
    "alpha,beta = 5,2 #Distribución beta que usamos\n",
    "Edges = Nx*Ny #Entradas de la matriz de adjacency\n",
    "micropasos = Edges*K #Para pasar por todas las posibilidades\n",
    "\n",
    "np.random.seed( random.randint(1,1999) )\n",
    "dic = pickle.load(open(\"Matriz_unkwn_epochs_A.pickle\", \"rb\"))\n",
    "A = dic[\"A\"]\n",
    "                \n",
    "print('MATRICES OBSERVACIÓN')  \n",
    "print(A.shape)\n",
    "print(np.sum(A))\n",
    "####################################\n",
    "## CONDICIONES INICIALES ##\n",
    "L_ini = np.zeros((Nx,Ny))\n",
    "P_ini_0 = np.zeros((K,Nx))\n",
    "P_inv_ini_0 = np.zeros((K,Nx))\n",
    "L_ini = (A[0,:,:]).copy()\n",
    "\n",
    "groups_ini = np.zeros((K,Nx))\n",
    "for m1 in range(K):\n",
    "    for i_g in range(n_groups):\n",
    "        start = start_groups[i_g]\n",
    "        end = end_groups[i_g]\n",
    "        groups_ini[m1, start:end] = i_g\n",
    "groups_ini_0 = groups_ini.copy()"
   ]
  },
  {
   "cell_type": "code",
   "execution_count": 10,
   "id": "0e762fed-e095-45f1-9f1b-6a5b06aa75b8",
   "metadata": {},
   "outputs": [
    {
     "data": {
      "text/plain": [
       "array([[0., 0., 0., 0., 0., 0., 0., 0., 0., 0., 0., 0., 0., 0., 0., 0.,\n",
       "        0., 0., 0., 0., 0., 0., 0., 0., 0., 0., 0., 0., 0., 0., 0., 0.,\n",
       "        0., 0., 0., 0., 0., 0., 0., 0., 0., 0., 0., 0., 0., 0., 0., 0.,\n",
       "        0., 0., 0., 0., 0., 0., 0., 0., 0., 0., 0., 0., 0., 0., 0., 0.,\n",
       "        0., 1., 1., 1., 1., 1., 1., 1., 1., 1., 1., 1., 1., 1., 1., 1.,\n",
       "        1., 1., 1., 1., 1., 1., 1., 1., 1., 1., 1., 1., 1., 1., 1., 1.,\n",
       "        1., 1., 1., 1., 1., 1., 1., 1., 1., 1., 1., 1., 1., 2., 2., 2.,\n",
       "        2., 2., 2., 2., 2., 2., 2., 2., 2., 2., 2., 2., 2., 2., 2., 2.,\n",
       "        2., 2., 2., 2., 2., 2., 2., 2., 2., 2., 2., 2., 2., 2., 2., 2.,\n",
       "        2., 2., 2., 2., 2., 2., 2., 3., 3., 3., 3., 3., 3., 3., 3., 3.,\n",
       "        3., 3., 3., 3., 3., 3., 3., 3., 3., 3., 3., 3., 3., 3., 3., 3.,\n",
       "        3., 3., 3., 3., 4., 4., 4., 4., 4., 4., 4., 4., 4., 4., 4., 4.,\n",
       "        4., 4., 4., 4., 4., 4., 4., 4., 4., 4., 4., 4., 4., 4., 4., 4.,\n",
       "        4., 4., 4., 4., 5., 5., 5., 5., 5., 5., 5., 5., 5., 5., 5., 5.],\n",
       "       [0., 0., 0., 0., 0., 0., 0., 0., 0., 0., 0., 0., 0., 0., 0., 0.,\n",
       "        0., 0., 0., 0., 0., 0., 0., 0., 0., 0., 0., 0., 0., 0., 0., 0.,\n",
       "        0., 0., 0., 0., 0., 0., 0., 0., 0., 0., 0., 0., 0., 0., 0., 0.,\n",
       "        0., 0., 0., 0., 0., 0., 0., 0., 0., 0., 0., 0., 0., 0., 0., 0.,\n",
       "        0., 1., 1., 1., 1., 1., 1., 1., 1., 1., 1., 1., 1., 1., 1., 1.,\n",
       "        1., 1., 1., 1., 1., 1., 1., 1., 1., 1., 1., 1., 1., 1., 1., 1.,\n",
       "        1., 1., 1., 1., 1., 1., 1., 1., 1., 1., 1., 1., 1., 2., 2., 2.,\n",
       "        2., 2., 2., 2., 2., 2., 2., 2., 2., 2., 2., 2., 2., 2., 2., 2.,\n",
       "        2., 2., 2., 2., 2., 2., 2., 2., 2., 2., 2., 2., 2., 2., 2., 2.,\n",
       "        2., 2., 2., 2., 2., 2., 2., 3., 3., 3., 3., 3., 3., 3., 3., 3.,\n",
       "        3., 3., 3., 3., 3., 3., 3., 3., 3., 3., 3., 3., 3., 3., 3., 3.,\n",
       "        3., 3., 3., 3., 4., 4., 4., 4., 4., 4., 4., 4., 4., 4., 4., 4.,\n",
       "        4., 4., 4., 4., 4., 4., 4., 4., 4., 4., 4., 4., 4., 4., 4., 4.,\n",
       "        4., 4., 4., 4., 5., 5., 5., 5., 5., 5., 5., 5., 5., 5., 5., 5.],\n",
       "       [0., 0., 0., 0., 0., 0., 0., 0., 0., 0., 0., 0., 0., 0., 0., 0.,\n",
       "        0., 0., 0., 0., 0., 0., 0., 0., 0., 0., 0., 0., 0., 0., 0., 0.,\n",
       "        0., 0., 0., 0., 0., 0., 0., 0., 0., 0., 0., 0., 0., 0., 0., 0.,\n",
       "        0., 0., 0., 0., 0., 0., 0., 0., 0., 0., 0., 0., 0., 0., 0., 0.,\n",
       "        0., 1., 1., 1., 1., 1., 1., 1., 1., 1., 1., 1., 1., 1., 1., 1.,\n",
       "        1., 1., 1., 1., 1., 1., 1., 1., 1., 1., 1., 1., 1., 1., 1., 1.,\n",
       "        1., 1., 1., 1., 1., 1., 1., 1., 1., 1., 1., 1., 1., 2., 2., 2.,\n",
       "        2., 2., 2., 2., 2., 2., 2., 2., 2., 2., 2., 2., 2., 2., 2., 2.,\n",
       "        2., 2., 2., 2., 2., 2., 2., 2., 2., 2., 2., 2., 2., 2., 2., 2.,\n",
       "        2., 2., 2., 2., 2., 2., 2., 3., 3., 3., 3., 3., 3., 3., 3., 3.,\n",
       "        3., 3., 3., 3., 3., 3., 3., 3., 3., 3., 3., 3., 3., 3., 3., 3.,\n",
       "        3., 3., 3., 3., 4., 4., 4., 4., 4., 4., 4., 4., 4., 4., 4., 4.,\n",
       "        4., 4., 4., 4., 4., 4., 4., 4., 4., 4., 4., 4., 4., 4., 4., 4.,\n",
       "        4., 4., 4., 4., 5., 5., 5., 5., 5., 5., 5., 5., 5., 5., 5., 5.],\n",
       "       [0., 0., 0., 0., 0., 0., 0., 0., 0., 0., 0., 0., 0., 0., 0., 0.,\n",
       "        0., 0., 0., 0., 0., 0., 0., 0., 0., 0., 0., 0., 0., 0., 0., 0.,\n",
       "        0., 0., 0., 0., 0., 0., 0., 0., 0., 0., 0., 0., 0., 0., 0., 0.,\n",
       "        0., 0., 0., 0., 0., 0., 0., 0., 0., 0., 0., 0., 0., 0., 0., 0.,\n",
       "        0., 1., 1., 1., 1., 1., 1., 1., 1., 1., 1., 1., 1., 1., 1., 1.,\n",
       "        1., 1., 1., 1., 1., 1., 1., 1., 1., 1., 1., 1., 1., 1., 1., 1.,\n",
       "        1., 1., 1., 1., 1., 1., 1., 1., 1., 1., 1., 1., 1., 2., 2., 2.,\n",
       "        2., 2., 2., 2., 2., 2., 2., 2., 2., 2., 2., 2., 2., 2., 2., 2.,\n",
       "        2., 2., 2., 2., 2., 2., 2., 2., 2., 2., 2., 2., 2., 2., 2., 2.,\n",
       "        2., 2., 2., 2., 2., 2., 2., 3., 3., 3., 3., 3., 3., 3., 3., 3.,\n",
       "        3., 3., 3., 3., 3., 3., 3., 3., 3., 3., 3., 3., 3., 3., 3., 3.,\n",
       "        3., 3., 3., 3., 4., 4., 4., 4., 4., 4., 4., 4., 4., 4., 4., 4.,\n",
       "        4., 4., 4., 4., 4., 4., 4., 4., 4., 4., 4., 4., 4., 4., 4., 4.,\n",
       "        4., 4., 4., 4., 5., 5., 5., 5., 5., 5., 5., 5., 5., 5., 5., 5.]])"
      ]
     },
     "execution_count": 10,
     "metadata": {},
     "output_type": "execute_result"
    }
   ],
   "source": [
    "groups_ini"
   ]
  },
  {
   "cell_type": "code",
   "execution_count": 12,
   "id": "9a99050e-1dc0-44c1-adc7-331153db014b",
   "metadata": {},
   "outputs": [],
   "source": [
    "#Vamos a ordenar igual las etiquetas de nodos con las de a que grupo pertenecen\n",
    "def permu_groups_unk_capa1(L_f, A_f, start_f, unkwn, grupos_t_f): #En este caso no lo voy a hacer con anchors\n",
    "    #num_unkw: los números de unkwn que no sabemos\n",
    "    Nx = L_f.shape[0]\n",
    "    Ny = L_f.shape[1]\n",
    "    K = A_f.shape[0]\n",
    "    N_groups = len(start_f)\n",
    "    \n",
    "    #Matrices permutación y sus inversas\n",
    "    P_f = np.zeros((K,Nx))\n",
    "    P_inv_f = np.zeros((K,Nx))\n",
    "    P_new = np.zeros((K,Nx))\n",
    "    \n",
    "    #Vamos a ordenar las matrices Observación según el grado de los nodos de L_inf\n",
    "    orden_L_in = np.zeros((Nx))\n",
    "    array_L = np.arange(Nx)\n",
    "\n",
    "    for i in range(Nx):\n",
    "        b = np.nonzero(L_f[i,:])\n",
    "        orden_L_in[i] = b[0].size#.size\n",
    "\n",
    "    orden_L = orden_L_in.copy()\n",
    "    quicksort(orden_L, array_L)\n",
    "    array_L = array_L[::-1]\n",
    "    \n",
    "    grupos_L = np.zeros((Nx))\n",
    "    for  i_g in range(N_groups):\n",
    "        start = start_f[i_g]\n",
    "        if (i_g != N_groups-1):\n",
    "            end = start_f[i_g+1]\n",
    "        else:\n",
    "            end = Nx\n",
    "        grupos_L[start:end] = i_g\n",
    "    grupos_L = grupos_L.astype(int)\n",
    "    orden_L = orden_L_in.copy()\n",
    "    quicksort(orden_L, grupos_L )\n",
    "    grupos_L = grupos_L[::-1]\n",
    "    # print('L', grupos_L) \n",
    "    \n",
    "    #Órdenes de A\n",
    "    for i in range(0,K):\n",
    "        orden_A_in = np.zeros((Nx))\n",
    "        grupos_A = np.zeros((Nx))\n",
    "        array_A = np.arange(Nx) #Para las etiquetas\n",
    "\n",
    "        for i_orden in range(Nx):\n",
    "            b = np.nonzero(A_f[i,i_orden,:])\n",
    "            orden_A_in[i_orden] = b[0].size\n",
    "            grupos_A[i_orden] = grupos_t_f[i, i_orden]\n",
    "\n",
    "        orden_A = orden_A_in.copy()\n",
    "        quicksort(orden_A, array_A)\n",
    "        array_A = array_A[::-1]\n",
    "\n",
    "        ## Ahora empiezo a ordenarlos según el tipo \n",
    "        orden_A = orden_A_in.copy()\n",
    "        quicksort(orden_A, grupos_A)\n",
    "        grupos_A = grupos_A[::-1]\n",
    "\n",
    "        # print('i_k', i, 'A', grupos_A)\n",
    "        \n",
    "        array_A_L = np.zeros((Nx))\n",
    "        for i_n in range(Nx):\n",
    "            if ((grupos_A[i_n] == grupos_L[i_n]) or (grupos_A[i_n] == N_groups)):\n",
    "                array_A_L[i_n] = array_A[i_n]\n",
    "            else:\n",
    "                # Busco el siguiente del mismo grupo y lo cambio\n",
    "                count = 0\n",
    "                for i_nn in range(i_n, Nx):\n",
    "                    if ((grupos_A[i_nn] == grupos_L[i_n]) or (grupos_A[i_nn] == N_groups)): \n",
    "                        array_A_L[i_n] = array_A[i_nn]\n",
    "                        #Cambio\n",
    "                        array_A[i_nn] = array_A[i_n]\n",
    "                        aux = grupos_A[i_nn]\n",
    "                        grupos_A[i_nn] = grupos_A[i_n]\n",
    "                        grupos_A[i_n] = aux\n",
    "                        count = 1\n",
    "                        break\n",
    "                if (count == 0):\n",
    "                    # Significa que no ha entrado en ninguno\n",
    "                    # Necesita hacer un cambio con un unkwon del grupo que sea\n",
    "                    grupo = grupos_A[i_n]\n",
    "\n",
    "                    extras_A = np.where( grupos_A == N_groups)[0]\n",
    "                    extras_L = np.where(grupos_L == grupo)[0]\n",
    "         \n",
    "                    inter = np.array(list(set(extras_A).intersection(extras_L)))\n",
    "                    # print(extras_A, extras_L, '// grupo', grupo)\n",
    "                    unkwn_1 = random.choice(inter)\n",
    "                    \n",
    "                    # Coloco\n",
    "                    array_A_L[i_n] = array_A_L[unkwn_1]\n",
    "                    # Cambio\n",
    "                    array_A_L[unkwn_1] = array_A[i_n]\n",
    "                    aux = grupos_A[unkwn_1]\n",
    "                    grupos_A[unkwn_1] = grupos_A[i_n]\n",
    "                    grupos_A[i_n] = grupos_A[unkwn_1]\n",
    "\n",
    "\n",
    "        array_A_L = array_A_L[np.argsort(array_L)]\n",
    "        P_inv_f[i,:] = array_A_L\n",
    "        \n",
    "        for i_inv in range(0,Nx):\n",
    "            for j_inv in range(0,Ny):\n",
    "                if (P_inv_f[i,i_inv] == j_inv):\n",
    "                    P_f[i, j_inv]=i_inv\n",
    "    \n",
    "    P_todo = np.zeros((2,K,Nx))\n",
    "    P_todo[0,:,:] = P_f.copy()\n",
    "    P_todo[1,:,:] = P_inv_f.copy()\n",
    "\n",
    "    return P_todo"
   ]
  },
  {
   "cell_type": "code",
   "execution_count": 20,
   "id": "038c0a0c",
   "metadata": {},
   "outputs": [
    {
     "name": "stdout",
     "output_type": "stream",
     "text": [
      "Labels unkwons cada capa\n",
      "[[225 225 225 225 225 225 225 225 225 225 225 225 225 225 225 225 225 225\n",
      "  225 225 225]\n",
      " [ 15  21  22  27  52  53  69  84  86  89 123 128 135 141 152 155 161 184\n",
      "  199 201 222]\n",
      " [ 16  20  40  52  56  60  80  86  92 106 115 125 132 139 158 162 163 190\n",
      "  199 210 220]\n",
      " [  1   9  16  18  47  52  71  80  91 102 126 127 129 132 161 174 175 182\n",
      "  195 198 222]]\n",
      "\n",
      "[[225 225 225 225 225 225 225 225 225 225 225 225 225 225 225 225 225 225\n",
      "  225 225 225]\n",
      " [184  48 204  11  59 149 128  84  65 155  51  16 129 197 221  73 127 176\n",
      "   31  90 152]\n",
      " [215   5  48 115 204 180 102  84  30 110 128  49 194 169 116  81  63   8\n",
      "  168  88 155]\n",
      " [188 187 219   8 155 116 198 129  71  77 125  51 114 104  49 175  12 156\n",
      "   38  50  72]]\n",
      "i_k 1\n",
      "0\n",
      "21\n",
      "21\n",
      "(array([], dtype=int64),)\n",
      "i_k 2\n",
      "0\n",
      "21\n",
      "21\n",
      "(array([], dtype=int64),)\n",
      "i_k 3\n",
      "0\n",
      "21\n",
      "21\n",
      "(array([], dtype=int64),)\n"
     ]
    }
   ],
   "source": [
    "# Hay que ordenar las permutaciones como si hubiera 6 grupos y uno es el de los unkwons\n",
    "\n",
    "# LISTA DE UNKWONS DE LAS LAYERS:Cogemos aleatoriamente num de cada grupo\n",
    "# Le tenemos que poner la etiqeta del grupo al que pertenecen\n",
    "group_extra = (n_groups-1) + 1\n",
    "\n",
    "# Ahora el número de nodos depende del grupo\n",
    "num = np.zeros((K, n_groups))\n",
    "###################### PRIMERA CAPA TODOS CONOCIDOS #####################################\n",
    "num[1:,:] = np.round(size_groups*0.1)\n",
    "########################################################################################\n",
    "\n",
    "num_unk = np.zeros(K) # En cada capa puede tener un número diferente de unkwns (AHORA NO)\n",
    "for i in range(K):\n",
    "    num_unk[i] = sum(num[i,:])\n",
    "\n",
    "num = num.astype(int)\n",
    "num_unk = num_unk.astype(int)\n",
    "# Voy a hacer vectores del máximo. Los que no lleguen al máximo los ponemos con Nx+1 o un número alto (ahora no implementado)\n",
    "max_num = (np.amax(num_unk))\n",
    "    \n",
    "posi_unkwons_ini = np.zeros ((K,max_num))+ (Nx+1) # Esto son los unkwons que luego voy a mezclar\n",
    "labels_unkwons_ini = np.zeros ((K,max_num)) + (Nx+1)\n",
    "\n",
    "groups_ini_permu = np.zeros((K,Nx))\n",
    "\n",
    "####### Para el mismo número de nodos no hace falta correrlo en cada capa\n",
    "# count = 0\n",
    "# for i_g in range(n_groups):\n",
    "#     start = start_groups[i_g]\n",
    "#     end = end_groups[i_g]\n",
    "#     groups_ini[:,start:end] = i_g\n",
    "#     groups_ini_0[:,start:end] = i_g\n",
    "#     nodos = []\n",
    "#     for i_un in range(num[1,i_g]):\n",
    "#         nodo1 = np.random.randint(start,end)\n",
    "# ##### No queremos que esté en Anchors justo los que hemos cogido\n",
    "#         while ((nodo1 in nodos) ):\n",
    "#             nodo1 = np.random.randint(start,end)\n",
    "#         groups_ini[1:,nodo1] = group_extra\n",
    "#         nodos.append(nodo1)\n",
    "#         labels_unkwons_ini[1:, count] = nodo1            \n",
    "#         count +=1\n",
    "### PAra distinto número\n",
    "###########################################################\n",
    "for m1 in range(K):\n",
    "    count = 0\n",
    "    # Si no llega al maximo rellenamos el final\n",
    "    if (num_unk[m1]< max_num):\n",
    "        extras = int(max_num - num_unk[m1])\n",
    "        labels_unkwons_ini[m1, - extras: ] = Nx+1\n",
    "    for i_g in range(n_groups):\n",
    "        start = start_groups[i_g]\n",
    "        end = end_groups[i_g]\n",
    "        groups_ini_permu[m1,start:end] = i_g\n",
    "        groups_ini_permu[m1,start:end] = i_g\n",
    "        nodos = []\n",
    "        for i_un in range(num[m1,i_g]):\n",
    "            nodo1 = np.random.randint(start,end)\n",
    "            while (nodo1 in nodos):\n",
    "                nodo1 = np.random.randint(start,end)\n",
    "            nodos.append(nodo1)\n",
    "            groups_ini_permu[m1,nodo1] = group_extra\n",
    "            labels_unkwons_ini[m1, count] = nodo1            \n",
    "            count +=1\n",
    "###################################################\n",
    "##################################################\n",
    "\n",
    "P_inis = permu_groups_unk_capa1(L_ini, A, start_groups,labels_unkwons_ini,groups_ini_permu) \n",
    "P_inis = P_inis.astype(int)\n",
    "P_ini_0 = (P_inis[0,:,:]).copy()#\n",
    "P_inv_ini_0 = (P_inis[1,:,:]).copy()\n",
    "# print('*************************')\n",
    "# print(P_ini_0)\n",
    "\n",
    "\n",
    "# # Ahora lo busco en posiciones \n",
    "groups_ini = groups_ini_0.copy()\n",
    "\n",
    "\n",
    "for m1 in range(K): \n",
    "    label_v = []\n",
    "    for i_n in range(max_num):\n",
    "        label = int(labels_unkwons_ini[m1,i_n])\n",
    "        label_v.append(label)\n",
    "        if (label != Nx+1):\n",
    "            posi = int(P_ini_0[m1,label])\n",
    "            posi_unkwons_ini[m1,i_n] = posi \n",
    "            # print('posi', posi, 'label', label, P_inv_ini_0[m1, posi])\n",
    "            #Etiqueta de grupo\n",
    "            groups_ini[m1,posi] = group_extra\n",
    "        else:\n",
    "            posi_unkwons_ini[m1,i_n] = Nx+1\n",
    "    posi_unkwons_ini= posi_unkwons_ini.astype(int)\n",
    "    \n",
    "labels_unkwons_ini_0 = labels_unkwons_ini.astype(int)\n",
    "groups_ini= groups_ini.astype(int)\n",
    "posi_unkwons_ini_0 = posi_unkwons_ini.astype(int)\n",
    "\n",
    "\n",
    "groups_ini = groups_ini.astype(int)\n",
    "posi_unkwons_ini = posi_unkwons_ini.astype(int)\n",
    "\n",
    "################## RANDOMMIZACION\n",
    "\n",
    "# print('Posiciones unkwons', posi_unkwons_ini_0[:,:])            \n",
    "print('Labels unkwons cada capa')\n",
    "print(np.sort(labels_unkwons_ini_0[:,:]) )\n",
    "print()\n",
    "print(posi_unkwons_ini)\n",
    "\n",
    "for i_k in range(1,K):\n",
    "    print('i_k', i_k)\n",
    "    print(len(np.where(groups_ini_0[i_k, :] == 6)[0]))\n",
    "    print(len(np.where(groups_ini_permu[i_k, :] == 6)[0]))\n",
    "    print(len(np.where(groups_ini[i_k, :] == 6)[0]))\n",
    "    print(np.where(groups_ini[i_k, posi_unkwons_ini[i_k,:]]!= 6))\n",
    "\n"
   ]
  },
  {
   "cell_type": "code",
   "execution_count": 23,
   "id": "1195a079-db3a-4a76-8153-63a443ba314b",
   "metadata": {},
   "outputs": [
    {
     "name": "stdout",
     "output_type": "stream",
     "text": [
      "[ 15  21  22  27  52  53  69  84  86  89 123 128 135 141 152 155 161 184\n",
      " 199 201 222]\n",
      "[ 16  20  40  52  56  60  80  86  92 106 115 125 132 139 158 162 163 190\n",
      " 199 210 220]\n",
      "[  1   9  16  18  47  52  71  80  91 102 126 127 129 132 161 174 175 182\n",
      " 195 198 222]\n"
     ]
    }
   ],
   "source": [
    "P_inv = P_inv_ini_0\n",
    "posi_unk = posi_unkwons_ini\n",
    "\n",
    "for i_k in range(1,K):\n",
    "    print(np.sort(P_inv[i_k, posi_unk[i_k,:]]))"
   ]
  },
  {
   "cell_type": "code",
   "execution_count": 24,
   "id": "c8948074-76b2-453d-93bc-caa6ab28701e",
   "metadata": {},
   "outputs": [
    {
     "name": "stdout",
     "output_type": "stream",
     "text": [
      "0 65\n",
      "[[  0   1   2   3   4   5   6   7   8   9  10  11  12  13  14  15  16  17\n",
      "   18  19  20  21  22  23  24  25  26  27  28  29  30  31  32  33  34  35\n",
      "   36  37  38  39  40  41  42  43  44  45  46  47  48  49  50  51  52  53\n",
      "   54  55  56  57  58  59  60  61  62  63  64]\n",
      " [ 55  54   2   6   7  30  35  23  18  50  29  53  32  20  63   8 141  58\n",
      "   36  61  25  47  43  34  46   3  10  17  14  60  24 184  48  33  31  41\n",
      "   64   9  49  11  56  13  19  40  59  62  28  16  15  37  38 128   0  45\n",
      "   39   1  42  57  44  52  51  26   4   5  12]\n",
      " [ 39   4  48   3  46  40   5  31 190  38  54  11  34  19  50  55   2   8\n",
      "   57  36   0  33  22  59   7  49  61  17  45  25 106  10  51  32  30  18\n",
      "   58   6  37   1  15  64  35  26  47  29  13  44  60 139  42  12  28  23\n",
      "   21  63  62   9  14  24  43  41  27 158  53]\n",
      " [ 39  21  64  42  61  34  26  40  18  38  43  23 161   7  36  29  63  17\n",
      "   49  20   6  12  25  32  48  50  44  37  57   5   2  31  59  33  51  56\n",
      "   19  55 182  15  22  11   8   3  27  45   4  30  24 175 195 129  53  13\n",
      "   54   0  58  14  35  28  60  41  62  46  10]]\n",
      "\n",
      "65 109\n",
      "[[ 65  66  67  68  69  70  71  72  73  74  75  76  77  78  79  80  81  82\n",
      "   83  84  85  86  87  88  89  90  91  92  93  94  95  96  97  98  99 100\n",
      "  101 102 103 104 105 106 107 108]\n",
      " [ 89 106  67  68  71  95  88  72 152  74  70  75  96  97  83  80 101  66\n",
      "   79  84 108  85  87  93 103 199  99 100  91  94  78  77  81 105  90  92\n",
      "  102  76  65  98 104  82 107  73]\n",
      " [ 68  75  97  67  78  96  71  72 100 107  77 102  69 105  83  95 163  73\n",
      "   70  80  98  74  88 210  66 101  91  93  87  94  79  84  82  65  89  99\n",
      "   81  86  90 104  85  76 108 103]\n",
      " [ 82  74  97  68  70  96  71 222  73  89  95 105  80 104  69  79  85  65\n",
      "   78  77  81  66  72  92 106  99  93  88 100  94  83  84  98  67  90  87\n",
      "  108  76 103 127  75 101  86 107]]\n",
      "\n",
      "109 151\n",
      "[[109 110 111 112 113 114 115 116 117 118 119 120 121 122 123 124 125 126\n",
      "  127 128 129 130 131 132 133 134 135 136 137 138 139 140 141 142 143 144\n",
      "  145 146 147 148 149 150]\n",
      " [115 127 111 149 116 150 114 140 119 146 120 121 122 117 113 125 126 145\n",
      "  155  86 123 129 131 134 137 132 109 136 142 139 138 112 147 110 143 144\n",
      "  124 118 148 133  21 130]\n",
      " [138  92 142 110 131 150  56 162 119 147 120 143 117 118 124 140 144 130\n",
      "  148 132 128 126 136 135 114 149 113 137 116 141 127 129 133 121 146 145\n",
      "  123 122 111 134 109 112]\n",
      " [135 113 114 115 138 132 147   1 120 117 119 144 121 118 124 123 126 146\n",
      "  150 133 102 142 134 110 112 109 140 148 130 136 139 125 128 137 145 143\n",
      "  122 141 111 149 131 116]]\n",
      "\n",
      "151 180\n",
      "[[151 152 153 154 155 156 157 158 159 160 161 162 163 164 165 166 167 168\n",
      "  169 170 171 172 173 174 175 176 177 178 179]\n",
      " [176 222 171 167  69 157 178 156 173 159 179 154 163 151 174 177 153 172\n",
      "  168 169 170 158 162 175 166 201 164 160 165]\n",
      " [156 168 176 172 220 160 174 178 153 154 157 152 171 164 170 179 173 199\n",
      "  125 166 155 167 159 175 169 151 177 161 165]\n",
      " [152 179 154 172  16 198 160 159 173 157 171 151 169 178 165 166 170 162\n",
      "  153 167 155 158 164 177 174 168 163 156 176]]\n",
      "\n",
      "180 212\n",
      "[[180 181 182 183 184 185 186 187 188 189 190 191 192 193 194 195 196 197\n",
      "  198 199 200 201 202 203 204 205 206 207 208 209 210 211]\n",
      " [195 183 187 192  22 193 180 194 198 190 202 188 186 185 182 181 206 135\n",
      "  211 197 191 196 210 189  27 200 207 209 205 204 208 203]\n",
      " [ 16 185 187 188 198 194 201 193 180 183 186 191 184 195 115 192 204 181\n",
      "  209 207 189 200 203 182  20 208 196 205 202 206 211 197]\n",
      " [187 191 192 193 210 194 183  52  47 190 180 202 181 185 184 186 201 199\n",
      "   91 206 197 188 203 189 196 208 205 200 207 209 204 211]]\n",
      "\n",
      "212 224\n",
      "[[212 213 214 215 216 217 218 219 220 221 222 223]\n",
      " [212 218 214 216 217 213 219 215 223 161 220 221]\n",
      " [218 213 216  52 212 219 215 214 223 222 217 221]\n",
      " [221 220 216 213 217 212 219   9 218 223 214 215]]\n",
      "\n"
     ]
    }
   ],
   "source": [
    "for i_g in range(n_groups):\n",
    "    start, end = start_groups[i_g], end_groups[i_g]\n",
    "    print(start, end)\n",
    "    print(P_inv_ini_0[:, start:end])\n",
    "\n",
    "    print()"
   ]
  },
  {
   "cell_type": "code",
   "execution_count": 27,
   "id": "c28990de",
   "metadata": {},
   "outputs": [
    {
     "name": "stdout",
     "output_type": "stream",
     "text": [
      "# 3 unkwons: 1\n",
      "En: [[[155]]\n",
      "\n",
      " [[127]]\n",
      "\n",
      " [[171]]\n",
      "\n",
      " [[171]]]\n",
      "posis [155]\n",
      "[[155]\n",
      " [ 69]\n",
      " [220]\n",
      " [ 16]]\n"
     ]
    }
   ],
   "source": [
    "vector_unkwn_ini = np.zeros((Nx))\n",
    "for i_x in range(Nx):\n",
    "    for m1 in range(K):\n",
    "        if ( groups_ini[m1, i_x] == group_extra):\n",
    "            vector_unkwn_ini[i_x] += 1\n",
    "posis = np.where(vector_unkwn_ini==(K-1))[0]\n",
    "print('# 3 unkwons:',len(np.where(vector_unkwn_ini==(K-1))[0]))\n",
    "print('En:', P_ini_0[:,np.where(vector_unkwn_ini==(K-1))])\n",
    "print('posis', posis)\n",
    "print(P_inv_ini_0[ :, posis])\n",
    "\n",
    "\n"
   ]
  },
  {
   "cell_type": "code",
   "execution_count": 29,
   "id": "71d27b17-3caa-437b-bc6d-c689eec12ba7",
   "metadata": {},
   "outputs": [
    {
     "data": {
      "text/plain": [
       "array([[225, 225, 225, 225, 225, 225, 225, 225, 225, 225, 225, 225, 225,\n",
       "        225, 225, 225, 225, 225, 225, 225, 225],\n",
       "       [ 22,  15,  27,  53,  52,  21,  86,  84,  89,  69, 128, 141, 123,\n",
       "        135, 161, 152, 155, 201, 184, 199, 222],\n",
       "       [ 52,  40,  60,  56,  20,  16,  86,  80, 106,  92, 132, 139, 115,\n",
       "        125, 162, 163, 158, 190, 199, 210, 220],\n",
       "       [ 47,  52,   9,  18,  16,   1,  91, 102,  71,  80, 126, 129, 132,\n",
       "        127, 175, 174, 161, 198, 182, 195, 222]])"
      ]
     },
     "execution_count": 29,
     "metadata": {},
     "output_type": "execute_result"
    }
   ],
   "source": [
    "labels_unkwons_ini_0[:,:]"
   ]
  },
  {
   "cell_type": "markdown",
   "id": "c5ea5703",
   "metadata": {},
   "source": [
    "## Temperaturas\n",
    "\n"
   ]
  },
  {
   "cell_type": "code",
   "execution_count": 30,
   "id": "28c07022",
   "metadata": {},
   "outputs": [
    {
     "name": "stdout",
     "output_type": "stream",
     "text": [
      "betas: [0.30655684 0.33357139 0.36296653 0.39495204 0.4297562  0.46762738\n",
      " 0.50883587 0.55367575 0.60246704 0.65555793 0.71332732 0.7761875\n",
      " 0.84458707 0.91901419 1.        ]\n"
     ]
    }
   ],
   "source": [
    "# LISTA DE TEMPERATURAS\n",
    "beta_o = 1.03\n",
    "total = 15\n",
    "b_exp = np.linspace(-40,0,num = total)\n",
    "temper = beta_o**b_exp\n",
    "tempers = temper\n",
    "\n",
    "# tempers = np.zeros((total+1))\n",
    "# mitad = int(total/2)\n",
    "# tempers[:mitad] = temper[:mitad]\n",
    "# tempers[mitad] = 1.0000\n",
    "# tempers[mitad+1:] = temper[mitad:]\n",
    "\n",
    "# ### odd and even \n",
    "# total_i = total +1 \n",
    "total_i = total\n",
    "tempers_odd1 = np.arange(0,total_i-1,2, dtype = int)\n",
    "tempers_odd2 = np.arange(1, total_i, 2,dtype = int)\n",
    "tempers_odd = np.zeros((2, len(tempers_odd1)))\n",
    "tempers_odd[0,:] = tempers_odd1\n",
    "tempers_odd[1,:] = tempers_odd2\n",
    "# print('Odd', tempers_odd)\n",
    "\n",
    "tempers_even1 = np.arange(1,total_i,2)\n",
    "tempers_even2 = np.arange(2, total_i, 2)\n",
    "tempers_even = np.zeros((2, len(tempers_even1)))\n",
    "tempers_even[0,:] = tempers_even1\n",
    "tempers_even[1,:] = tempers_even2\n",
    "print('betas:', tempers)\n",
    "N_t = len(tempers)\n",
    "        \n",
    "P_ini_t = np.zeros((N_t,K,Nx))\n",
    "P_inv_ini_t = np.zeros((N_t,K,Nx))\n",
    "L_ini_t = np.zeros((N_t,Nx,Ny)) \n",
    "posi_unkwons_ini_t , labels_unkwons_ini_t = np.zeros((N_t,K,max_num)), np.zeros((N_t,K,max_num))\n",
    "groups_ini_t = np.zeros((N_t, K, Nx ))\n",
    "vector_unkwn_ini_t = np.zeros((N_t,Nx))\n",
    "\n",
    "for i in range(0,N_t): #Aquí estoy inicializando para las temperaturas\n",
    "    P_ini_t[i,:,:] = P_ini_0[:,:].copy()\n",
    "    P_inv_ini_t[i,:,:] = P_inv_ini_0[:,:].copy()\n",
    "    L_ini_t[i,:,:] = L_ini.copy()\n",
    "    posi_unkwons_ini_t[i,:,:] = posi_unkwons_ini.copy()\n",
    "    labels_unkwons_ini_t[i,:,:] = labels_unkwons_ini_0.copy()\n",
    "    groups_ini_t[i,:,:] = groups_ini.copy()\n",
    "    vector_unkwn_ini_t[i,:] = vector_unkwn_ini.copy()\n",
    "    L_label_ini_t = []\n"
   ]
  },
  {
   "cell_type": "markdown",
   "id": "060faab1",
   "metadata": {},
   "source": [
    "# Funciones MonteCarlo: Parallel sampling"
   ]
  },
  {
   "cell_type": "code",
   "execution_count": 31,
   "id": "f3d43eef",
   "metadata": {},
   "outputs": [],
   "source": [
    "@jit(nopython=True)\n",
    "def overlap_total_change_filas(m1,L_f_v1v2_old,L_c_v1v2_old,L_f_v1v2,L_c_v1v2,A_f, P_inv_old, i_change, j_change,pp1, pp2): \n",
    "\n",
    "    Nx = L_f_v1v2_old.shape[1]\n",
    "    K = A_f.shape[0]\n",
    "    \n",
    "    ovlp_0_new , ovlp_1_new = 0,0\n",
    "    ovlp_0_old , ovlp_1_old = 0,0\n",
    "    ovlp_0_dif, ovlp_1_dif = 0,0\n",
    "  \n",
    "    #old and new: changes and mapping changes\n",
    "    changes = np.array([i_change, j_change], dtype = np.int32)\n",
    "    changes_p = np.array([pp1, pp2], dtype = np.int32)  \n",
    "    changes_old = np.array([j_change, i_change], dtype = np.int32)\n",
    "    changes_p_old = np.array([pp2, pp1], dtype = np.int32)\n",
    "    \n",
    "    for i_k in range(K):\n",
    "        for i_chan,change in enumerate(changes):\n",
    "            for i_x in range(Nx):\n",
    "                if (i_k != m1): # Only changes in the networks m1\n",
    "                    p_f = int(P_inv_old[i_k,change])\n",
    "                    p_c = int(P_inv_old[i_k,i_x])\n",
    "                    p_old, p_old_c = p_f, p_c\n",
    "                \n",
    "                else:\n",
    "                    p_f = changes_p[i_chan]\n",
    "                    p_old = changes_p_old[i_chan]\n",
    "                    if (i_x == i_change):\n",
    "                        p_c = pp1\n",
    "                        p_old_c = pp2\n",
    "                    elif(i_x == j_change):\n",
    "                        p_c = pp2\n",
    "                        p_old_c = pp1\n",
    "                    else: # Only changes in the nodes i,j\n",
    "                        p_c = int(P_inv_old[i_k, i_x])\n",
    "                        p_old_c = p_c\n",
    "\n",
    "                ## rows\n",
    "                valor_L_old, valor_A_old = L_f_v1v2_old[i_chan,i_x], A_f[i_k,p_old,p_old_c]   \n",
    "                valor_L_new, valor_A_new = L_f_v1v2[i_chan,i_x], A_f[i_k,p_f,p_c]\n",
    "                ## columns\n",
    "                valor_L_old_c, valor_A_old_c = 0,0\n",
    "                valor_L_new_c, valor_A_new_c = 0,0\n",
    "                column = 0        \n",
    "                if (i_x not in changes):\n",
    "                    column = 1\n",
    "                    valor_L_old_c, valor_A_old_c = L_c_v1v2_old[i_chan,i_x],A_f[i_k,p_old_c, p_old]\n",
    "                    valor_L_new_c, valor_A_new_c = L_c_v1v2[i_chan,i_x], A_f[i_k,p_c,p_f]\n",
    "\n",
    "                ovlp_1_old = ovlp_1_old + valor_L_old*valor_A_old + valor_L_old_c*valor_A_old_c*column\n",
    "                ovlp_0_old = ovlp_0_old + (1-valor_L_old)*(1-valor_A_old) + (1-valor_L_old_c)*(1-valor_A_old_c)*column\n",
    "                \n",
    "                ovlp_1_new = ovlp_1_new + valor_L_new*valor_A_new + valor_L_new_c*valor_A_new_c*column\n",
    "                ovlp_0_new = ovlp_0_new + (1-valor_L_new)*(1-valor_A_new) + (1-valor_L_new_c)*(1-valor_A_new_c)*column\n",
    "                \n",
    "    ovlp_1_def = ovlp_1_new - ovlp_1_old\n",
    "    ovlp_0_def = ovlp_0_new- ovlp_0_old\n",
    "   \n",
    "    return ovlp_0_def, ovlp_1_def\n",
    "### Some functions that numba do not have\n",
    "@njit\n",
    "def concatenate_numba_sinrep(a,b):\n",
    "    size_a, size_b = len(a), len(b)\n",
    "    no_double = []\n",
    "    for i_b in range(size_b):\n",
    "        if b[i_b] in a:\n",
    "            size_b = size_b-1\n",
    "        else:\n",
    "            no_double.append(b[i_b])\n",
    "    size = size_a + size_b\n",
    "    c = np.zeros((size))\n",
    "    c[0:size_a] = a\n",
    "    c[size_a:] = no_double\n",
    "    \n",
    "    return a\n",
    "\n",
    "@njit\n",
    "def concatenate_numba(a,b):\n",
    "    size_a, size_b = len(a), len(b)\n",
    "    size = size_a + size_b\n",
    "    c = np.zeros((size))\n",
    "    c[0:size_a] = a\n",
    "    c[size_a:] = b \n",
    "    \n",
    "    return c\n",
    "\n",
    "@njit\n",
    "def sum_numba(S):\n",
    "    Nx = S.shape[0]\n",
    "    Ny = S.shape[1]\n",
    "    \n",
    "    suma = 0\n",
    "    for i_s in range(Nx):\n",
    "        suma = suma + sum(S[i_s,:])\n",
    "        \n",
    "    return suma\n",
    "@njit\n",
    "def sum_numba_filas(S): # 2 dimensions\n",
    "    Nx = S.shape[0]\n",
    "    Ny = S.shape[1]\n",
    "    suma = np.zeros((Nx))\n",
    "    for i_s in range(Nx):\n",
    "        suma_c = 0 # sum of the column\n",
    "        for i_y in range(Ny):\n",
    "            suma[i_s] = suma_c + S[i_y,i_s] \n",
    "        \n",
    "    return suma\n",
    "\n",
    "@jit(nopython = True)\n",
    "def hamiltonian_prob(Edges_NoL, Edges_L, overlap_0, overlap_1, alpha, beta):\n",
    "\n",
    "    A_1 = overlap_1 + alpha\n",
    "    B_1 = (Edges_L - overlap_1 + beta)\n",
    "    C_1 = Edges_L + alpha + beta\n",
    "    \n",
    "    A_0 = overlap_0 + alpha\n",
    "    B_0 = (Edges_NoL - overlap_0 + beta)\n",
    "    C_0 = Edges_NoL + alpha + beta\n",
    "    \n",
    "    #  [ math.lgamma(n+1) == log(n!) ]\n",
    "    H1 = math.lgamma(A_1)+ math.lgamma(B_1) - math.lgamma(C_1) \n",
    "    H0 = math.lgamma(A_0)+ math.lgamma(B_0) - math.lgamma(C_0) \n",
    "    \n",
    "    H = -(H1 + H0)\n",
    "    return H\n",
    "    \n",
    "    \n",
    "@jit(nopython=True)\n",
    "def overlap_total_prob(L_f, A_f, P_inv_f):\n",
    "    Nx = L_f.shape[0]\n",
    "    Ny = L_f.shape[1]\n",
    "    K = A_f.shape[0]\n",
    "    \n",
    "    ovlp_0 = np.zeros((K))\n",
    "    ovlp_1 = np.zeros((K))\n",
    "    for k in range(0,K):\n",
    "        for f in range(0,Ny): \n",
    "            for c in range(0,Nx):\n",
    "                p_f=int(P_inv_f[k,f])\n",
    "                p_c=int(P_inv_f[k,c])  \n",
    "                \n",
    "                valor_L, valor_A = L_f[f,c], A_f[k,p_f,p_c]\n",
    "                \n",
    "                ovlp_0[k] = ovlp_0[k] + (1-valor_L)*(1-valor_A )\n",
    "                ovlp_1[k] = ovlp_1[k] + valor_L*valor_A\n",
    "                \n",
    "                \n",
    "    ovlp_1 = int(sum(ovlp_1))\n",
    "    ovlp_0 = int(sum(ovlp_0))\n",
    "    return ovlp_0, ovlp_1\n",
    "\n",
    "\n",
    "@jit(nopython=True) # The blueprint is the average of the observations (taking into account the mapping)  \n",
    "def L_wiring(A_f, P_inv_f):\n",
    "    \n",
    "    Nx = A_f.shape[1]\n",
    "    Ny = A_f.shape[2]\n",
    "    K = A_f.shape[0]\n",
    "    L_new_f = np.zeros((Nx,Ny))\n",
    "    \n",
    "    for i in range(0,Nx):\n",
    "        for j in range(0,Ny):\n",
    "            for k in range(0,K):\n",
    "        \n",
    "                p1 = int(P_inv_f[k,i]) # Mapping of the observations\n",
    "                p2 = int(P_inv_f[k,j]) # Mapping of the observations\n",
    "                L_new_f[i,j] += A_f[k,p1,p2]\n",
    "            valor_lnew=1/K* L_new_f[i,j]\n",
    "            L_new_f[i,j] = round( valor_lnew ) \n",
    "            # If valor_lnew = 0, L=0 (we could establish L=1, but it is more probable to not have a connection)\n",
    "    \n",
    "    return L_new_f\n",
    "\n",
    "\n",
    "#### Some algorithm for sorting\n",
    "@jit(nopython=True)\n",
    "def partition(array,  etiquetas, begin, end):\n",
    "    pivot = begin\n",
    "    for i in range(begin+1, end+1):\n",
    "        if array[i] < array[begin]:\n",
    "            pivot += 1\n",
    "            array[i], array[pivot] = array[pivot], array[i]\n",
    "            etiquetas[i], etiquetas[pivot] = etiquetas[pivot], etiquetas[i]\n",
    "    array[pivot], array[begin] = array[begin], array[pivot]\n",
    "    etiquetas[pivot], etiquetas[begin] = etiquetas[begin], etiquetas[pivot] \n",
    "\n",
    "    return pivot\n",
    "@jit(nopython=True)\n",
    "def quicksort(array, etiquetas, begin=0, end=None):\n",
    "    if end is None:\n",
    "        end = len(array) - 1\n",
    "    if begin >= end: #To end\n",
    "        return\n",
    "    pivot = partition(array,  etiquetas, begin, end)\n",
    "    \n",
    "    #Order right and left\n",
    "    quicksort(array, etiquetas, begin, pivot-1)\n",
    "    quicksort(array,  etiquetas, pivot+1, end)\n",
    "    \n",
    "@njit \n",
    "# We inizialise the algorithm sorting by node degree, but also taking into account the group labels\n",
    "def permu_groups(L_f, A_f, start_f): \n",
    "    Nx = L_f.shape[0]\n",
    "    Ny = L_f.shape[1]\n",
    "    K = A_f.shape[0]\n",
    "    N_groups = len(start_f)\n",
    "    \n",
    "    \n",
    "    # Mappings\n",
    "    P_f = np.zeros((K,Nx)) #Mapping from L to A\n",
    "    P_inv_f = np.zeros((K,Nx)) #Mapping from A to L\n",
    "    P_new = np.zeros((K,Nx))\n",
    "    \n",
    "    # First we order the blueprint and after the observations\n",
    "    # Blueprint:\n",
    "    orden_L=np.zeros((Nx))\n",
    "    for i in range(Nx):\n",
    "        b=np.nonzero(L_f[i,:])\n",
    "        orden_L[i] = b[0].size\n",
    "        \n",
    "    array_L = np.arange(Nx) #For the labels \n",
    "    quicksort(orden_L, array_L)\n",
    "    \n",
    "    # Now according to the group label\n",
    "    array_L_labels = np.zeros((Nx))\n",
    "    group_number = np.zeros((N_groups))\n",
    "    for i in range(Nx):\n",
    "        n_type = 0\n",
    "        #Group\n",
    "        while ( (array_L[i] >= start_f[n_type]) and (n_type < N_groups)):\n",
    "            n_type += 1\n",
    "       \n",
    "        grupo = int(n_type-1)\n",
    "        g = int(start_f[grupo])\n",
    "        array_L_labels[g + int(group_number[grupo])] = array_L[i]\n",
    "        group_number[grupo] += 1\n",
    "\n",
    "    #Observations: \n",
    "    for i in range(0,K):\n",
    "        orden_A = np.zeros((Nx))\n",
    "        for i_orden in range(Nx):\n",
    "            b = np.nonzero(A_f[i,i_orden,:])\n",
    "            orden_A[i_orden] = b[0].size\n",
    "\n",
    "        array_A = np.arange(Nx) #For the labels \n",
    "        quicksort(orden_A, array_A)\n",
    "            \n",
    "        # Now according to the group label\n",
    "        array_A_labels = np.zeros((Nx))\n",
    "        group_number = np.zeros((N_groups))\n",
    "        \n",
    "        for i_g in range(Nx):\n",
    "            n_type = 0\n",
    "            while ( (array_A[i_g] >= start_f[n_type]) and (n_type < N_groups) ):\n",
    "                n_type += 1\n",
    "\n",
    "            grupo = int(n_type-1)\n",
    "            g = int(start_f[grupo])\n",
    "            array_A_labels[ g + int(group_number[grupo])] = array_A[i_g]\n",
    "            group_number[grupo] += 1\n",
    "    \n",
    "\n",
    "    # Now ordered together both label array  array_L = [0,1,2,3...]\n",
    "        array_A_labels = array_A_labels[np.argsort(array_L_labels)]\n",
    "        P_f[i,:] = array_A_labels\n",
    "        \n",
    "        for i_inv in range(0,Nx):\n",
    "            for j_inv in range(0,Ny):\n",
    "                if (P_f[i,i_inv] == j_inv):\n",
    "                    P_inv_f[i, j_inv]=i_inv\n",
    "    \n",
    "    P_todo = np.zeros((2,K,Nx))\n",
    "    P_todo[0,:,:] = P_f.copy() \n",
    "    P_todo[1,:,:] = P_inv_f.copy()\n",
    "\n",
    "    return P_todo\n",
    "\n",
    "@njit \n",
    "# We inizialise the algorithm sorting by node degree, but also taking into account the group labels\n",
    "def permu_groups_random(A_f, start_f, end_f): \n",
    "    Nx = A_f.shape[1]\n",
    "    K = A_f.shape[0]\n",
    "    n_groups = len(start_f)\n",
    "    # Mappings\n",
    "    P_f = np.zeros((K, Nx), dtype=np.int64)  # Mapping from L to A\n",
    "    P_inv_f = np.zeros((K, Nx), dtype=np.int64)  # Mapping from A to L\n",
    "    \n",
    "    for i_g in range(n_groups):\n",
    "        s, e = start_f[i_g], end_f[i_g]\n",
    "        for i_k in range(K):\n",
    "            vector = np.arange(s, e)\n",
    "            np.random.shuffle(vector)  # Use numpy's shuffle function\n",
    "            P_f[i_k, s:e] = vector\n",
    "    \n",
    "    # Compute inverse permutation\n",
    "    for i_k in range(K):\n",
    "        P_inv_f[i_k] = np.argsort(P_f[i_k])\n",
    "    \n",
    "    P_todo = np.stack((P_f, P_inv_f))\n",
    "    return P_todo\n",
    "def ground_state(A,K,Nx, alpha, beta):\n",
    "    P_new, P_inv_new = np.zeros((K,Nx)),np.zeros((K,Nx))\n",
    "    for k in range(0,K):\n",
    "        for i in range(0,Nx):\n",
    "            P_new[k,i]=i \n",
    "            P_inv_new[k,i]=i            \n",
    "    L_new = np.zeros((Nx,Nx))\n",
    "    L_new =  L_wiring(A, P_inv_new)\n",
    "    \n",
    "    Edges_sum = K*Nx*Nx\n",
    "    Edges_L = K*(sum(sum(L_new))) # Los edges=1 que tiene la matriz A\n",
    "    Edges_NoL = Edges_sum - Edges_L #Los edges=0 que tiene la matriz A\n",
    "    overlap_0, overlap_1 = overlap_total_prob(L_new,A,P_inv_new)\n",
    "    \n",
    "    Energy_new = hamiltonian_prob(Edges_NoL, Edges_L, overlap_0, overlap_1, alpha, beta)\n",
    "\n",
    "    return P_new, P_inv_new, L_new, Energy_new\n",
    "\n",
    "def initialization_random(A, start_groups,end_groups, K, Nx, N_t, tempers, alpha, beta):\n",
    "    \n",
    "    L_ini = A[0,:,:].copy() ## Inicialize to compute permutation ranked by node degree\n",
    "    # P_inis = permu_groups(L_ini, A, start_groups)\n",
    "    P_inis = permu_groups_random(A, start_groups, end_groups)\n",
    "    P_inis = P_inis.astype(int)\n",
    "    P_ini_0 = (P_inis[0,:,:]).copy() # Mapping L to A\n",
    "    P_inv_ini_0 = (P_inis[1,:,:]).copy() # Mapping A to L\n",
    "    ## Inizialitation of the system for each temperature, with the same mappings\n",
    "    P_ini_t = np.zeros((N_t,K,Nx))\n",
    "    P_inv_ini_t = np.zeros((N_t,K,Nx))\n",
    "    L_ini_t = np.zeros((N_t,Nx,Nx)) \n",
    "    groups_ini_t = np.zeros((N_t, K, Nx ))\n",
    "    n_groups = len(start_groups)\n",
    "\n",
    "    groups_ini = np.zeros((K,Nx)) #Groups label\n",
    "    for m1 in range(K):\n",
    "        for i_g in range(n_groups):\n",
    "            start = start_groups[i_g]\n",
    "            end = end_groups[i_g]\n",
    "            groups_ini[m1, start:end] = i_g\n",
    "    \n",
    "        \n",
    "    \n",
    "    for i in range(0,N_t): \n",
    "        P_ini_t[i,:,:] = P_ini_0[:,:].copy()\n",
    "        P_inv_ini_t[i,:,:] = P_inv_ini_0[:,:].copy()\n",
    "        L_ini_t[i,:,:] = L_ini.copy()\n",
    "        groups_ini_t[i,:,:] = groups_ini.copy()\n",
    "    P_t = np.zeros((N_t,K,Nx))\n",
    "    P_inv_t = np.zeros((N_t,K,Nx))\n",
    "    L_t = np.zeros((N_t,Nx, Nx))\n",
    "\n",
    "    P_t = (P_ini_t).copy()\n",
    "    P_inv_t = (P_inv_ini_t).copy()\n",
    "    groups_t = groups_ini_t.copy()\n",
    "\n",
    "\n",
    "    Energy_t, Energy_ini_t = np.zeros((N_t)), np.zeros((N_t))\n",
    "    Edges_L_t, Edges_NoL_t = np.zeros((N_t)), np.zeros((N_t))\n",
    "    ovlp_t0, ovlp_t1 = np.zeros((N_t)) , np.zeros((N_t)) \n",
    "    suma_L_t = np.zeros(N_t)\n",
    "\n",
    "    ovlp_t0, ovlp_t1 = ovlp_t0.astype(int), ovlp_t1.astype(int)\n",
    "    P_t = P_t.astype(int)\n",
    "    P_inv_t = P_inv_t.astype(int)\n",
    "    L_t = L_t.astype(int)\n",
    "    groups_t = groups_t.astype(int)\n",
    "    \n",
    "    #### Now the Blueprint is averaged\n",
    "    Edges_sum = K*Nx*Nx\n",
    "    for k_nt in range(N_t):\n",
    "        L_t[k_nt,:,:] =  L_wiring(A, P_inv_t[k_nt,:,:])\n",
    "        Edges_L_t[k_nt] = K*sum(sum(L_t[k_nt,:,:]))\n",
    "        Edges_NoL_t[k_nt] = Edges_sum - Edges_L_t[k_nt]\n",
    "        overlap_0, overlap_1 = overlap_total_prob(L_t[k_nt,:,:],A,P_inv_t[k_nt,:,:])\n",
    "        Energy_t[k_nt] = hamiltonian_prob(Edges_NoL_t[k_nt], Edges_L_t[k_nt], overlap_0, overlap_1,alpha, beta)\n",
    "        ovlp_t0[k_nt], ovlp_t1[k_nt] = overlap_0, overlap_1\n",
    "        suma_L_t[k_nt] = sum_numba(L_t[k_nt,:,:])\n",
    "    \n",
    "\n",
    "    \n",
    "    return P_t, P_inv_t, L_t, Edges_L_t,Edges_NoL_t, Energy_t, ovlp_t0,ovlp_t1, suma_L_t,groups_t \n",
    "def initialization(A, start_groups,end_groups, K, Nx, N_t, tempers, alpha, beta):\n",
    "    \n",
    "    L_ini = A[0,:,:].copy() ## Inicialize to compute permutation ranked by node degree\n",
    "    P_inis = permu_groups(L_ini, A, start_groups)\n",
    "    # P_inis = permu_groups_random(A, start_groups, end_groups)\n",
    "    P_inis = P_inis.astype(int)\n",
    "    P_ini_0 = (P_inis[0,:,:]).copy() # Mapping L to A\n",
    "    P_inv_ini_0 = (P_inis[1,:,:]).copy() # Mapping A to L\n",
    "    ## Inizialitation of the system for each temperature, with the same mappings\n",
    "    P_ini_t = np.zeros((N_t,K,Nx))\n",
    "    P_inv_ini_t = np.zeros((N_t,K,Nx))\n",
    "    L_ini_t = np.zeros((N_t,Nx,Nx)) \n",
    "    groups_ini_t = np.zeros((N_t, K, Nx ))\n",
    "    n_groups = len(start_groups)\n",
    "\n",
    "    groups_ini = np.zeros((K,Nx)) #Groups label\n",
    "    for m1 in range(K):\n",
    "        for i_g in range(n_groups):\n",
    "            start = start_groups[i_g]\n",
    "            end = end_groups[i_g]\n",
    "            groups_ini[m1, start:end] = i_g\n",
    "    \n",
    "        \n",
    "    \n",
    "    for i in range(0,N_t): \n",
    "        P_ini_t[i,:,:] = P_ini_0[:,:].copy()\n",
    "        P_inv_ini_t[i,:,:] = P_inv_ini_0[:,:].copy()\n",
    "        L_ini_t[i,:,:] = L_ini.copy()\n",
    "        groups_ini_t[i,:,:] = groups_ini.copy()\n",
    "    P_t = np.zeros((N_t,K,Nx))\n",
    "    P_inv_t = np.zeros((N_t,K,Nx))\n",
    "    L_t = np.zeros((N_t,Nx, Nx))\n",
    "\n",
    "    P_t = (P_ini_t).copy()\n",
    "    P_inv_t = (P_inv_ini_t).copy()\n",
    "    groups_t = groups_ini_t.copy()\n",
    "\n",
    "\n",
    "    Energy_t, Energy_ini_t = np.zeros((N_t)), np.zeros((N_t))\n",
    "    Edges_L_t, Edges_NoL_t = np.zeros((N_t)), np.zeros((N_t))\n",
    "    ovlp_t0, ovlp_t1 = np.zeros((N_t)) , np.zeros((N_t)) \n",
    "    suma_L_t = np.zeros(N_t)\n",
    "\n",
    "    ovlp_t0, ovlp_t1 = ovlp_t0.astype(int), ovlp_t1.astype(int)\n",
    "    P_t = P_t.astype(int)\n",
    "    P_inv_t = P_inv_t.astype(int)\n",
    "    L_t = L_t.astype(int)\n",
    "    groups_t = groups_t.astype(int)\n",
    "    \n",
    "    #### Now the Blueprint is averaged\n",
    "    Edges_sum = K*Nx*Nx\n",
    "    for k_nt in range(N_t):\n",
    "        L_t[k_nt,:,:] =  L_wiring(A, P_inv_t[k_nt,:,:])\n",
    "        Edges_L_t[k_nt] = K*sum(sum(L_t[k_nt,:,:]))\n",
    "        Edges_NoL_t[k_nt] = Edges_sum - Edges_L_t[k_nt]\n",
    "        overlap_0, overlap_1 = overlap_total_prob(L_t[k_nt,:,:],A,P_inv_t[k_nt,:,:])\n",
    "        Energy_t[k_nt] = hamiltonian_prob(Edges_NoL_t[k_nt], Edges_L_t[k_nt], overlap_0, overlap_1,alpha, beta)\n",
    "        ovlp_t0[k_nt], ovlp_t1[k_nt] = overlap_0, overlap_1\n",
    "        suma_L_t[k_nt] = sum_numba(L_t[k_nt,:,:])\n",
    "    \n",
    "\n",
    "    \n",
    "    return P_t, P_inv_t, L_t, Edges_L_t,Edges_NoL_t, Energy_t, ovlp_t0,ovlp_t1, suma_L_t,groups_t \n",
    "def initialization_continuation(A, P_inv_t, start_groups,end_groups, K, Nx, N_t, tempers, alpha, beta):\n",
    "    \n",
    "    \n",
    "    ## recalculo la L_t\n",
    "    P_inv_ini = P_inv_t.copy()\n",
    "    L_ini = np.zeros((N_t, Nx, Nx))\n",
    "    P_ini = np.zeros((P_inv_t.shape))\n",
    "    Edges_L_ini, Edges_NoL_ini = np.zeros((N_t)), np.zeros((N_t))\n",
    "    Energy_ini, suma_L_ini = np.zeros((N_t)), np.zeros((N_t))\n",
    "    overlap_0_ini, overlap_1_ini = np.zeros((N_t)), np.zeros((N_t))\n",
    "    for k_nt in range(N_t):\n",
    "        for i_k in range(K):\n",
    "            P_ini[k_nt, i_k,:] = np.argsort(P_inv_ini[k_nt, i_k,:])\n",
    "\n",
    "        L_ini[k_nt, :,:] =  L_wiring(A,P_inv_ini[k_nt, :,:])\n",
    "\n",
    "        Edges_sum = K*Nx*Nx\n",
    "        Edges_L_ini[k_nt] = K*(sum(sum(L_ini[k_nt, :,:]))) # Los edges=1 que tiene la matriz A\n",
    "        Edges_NoL_ini[k_nt] = Edges_sum - Edges_L_ini[k_nt] #Los edges=0 que tiene la matriz A\n",
    "        overlap_0_ini[k_nt], overlap_1_ini[k_nt] = overlap_total_prob(L_ini[k_nt, :,:],A,P_inv_ini[k_nt, :,:])     \n",
    "        Energy_ini[k_nt] = hamiltonian_prob(Edges_NoL_ini[k_nt], Edges_L_ini[k_nt], overlap_0_ini[k_nt], overlap_1_ini[k_nt], alpha, beta)\n",
    "        suma_L_ini[k_nt] = sum_numba(L_ini[k_nt,:,:])\n",
    "    \n",
    "    \n",
    "    groups_ini = np.zeros((N_t, K, Nx ))\n",
    "    for m1 in range(K):\n",
    "        for i_g in range(n_groups):\n",
    "            start = start_groups[i_g]\n",
    "            end = end_groups[i_g]\n",
    "            groups_ini[:,m1, start:end] = i_g\n",
    "    \n",
    "    overlap_0_ini, overlap_1_ini = overlap_0_ini.astype(int), overlap_1_ini.astype(int)\n",
    "    P_ini = P_ini.astype(int)\n",
    "    P_inv_ini = P_inv_ini.astype(int)\n",
    "    L_ini = L_ini.astype(int)\n",
    "    groups_ini = groups_ini.astype(int)\n",
    "    \n",
    "    return P_ini, P_inv_ini, L_ini, Edges_L_ini,Edges_NoL_ini, Energy_ini, overlap_0_ini, overlap_1_ini,suma_L_ini, groups_ini\n",
    "\n",
    "def initialization_anchors(A, start_groups,end_groups,groups_ini, start_anchor,end_anchor,Anchors,grupos_extra, K, Nx, N_t, tempers, alpha, beta):\n",
    "    \n",
    "    L_ini = A[0,:,:].copy() ## Inicialize to compute permutation ranked by node degree\n",
    "    P_inis = permu_groups_capa1_anchors_knwn(L_ini, A, start_groups,end_groups,start_anchor,end_anchor,groups_ini, Anchors, grupos_extra) \n",
    "    # P_inis = permu_groups_random(A, start_groups, end_groups)\n",
    "    P_inis = P_inis.astype(int)\n",
    "    P_ini_0 = (P_inis[0,:,:]).copy() # Mapping L to A\n",
    "    P_inv_ini_0 = (P_inis[1,:,:]).copy() # Mapping A to L\n",
    "    ## Inizialitation of the system for each temperature, with the same mappings\n",
    "    P_ini_t = np.zeros((N_t,K,Nx))\n",
    "    P_inv_ini_t = np.zeros((N_t,K,Nx))\n",
    "    L_ini_t = np.zeros((N_t,Nx,Nx)) \n",
    "    groups_ini_t = np.zeros((N_t, K, Nx ))\n",
    "    groups_anch_ini_t = np.zeros((N_t, K, Nx ))\n",
    "    n_groups = len(start_groups)\n",
    "\n",
    "    groups_ini = np.zeros((K,Nx)) #Groups label\n",
    "    for m1 in range(K):\n",
    "        for i_g in range(n_groups):\n",
    "            start = start_groups[i_g]\n",
    "            end = end_groups[i_g]\n",
    "            groups_ini[m1, start:end] = i_g\n",
    "    \n",
    "    groups_ini_anchor = np.zeros((K,Nx))-1\n",
    "    for m1 in range(K):\n",
    "        for i_g in range(n_groups):\n",
    "            start = start_anchor[i_g]\n",
    "            end = end_anchor[i_g]\n",
    "            groups_ini_anchor[m1, start:end] = i_g      \n",
    "    \n",
    "    for i in range(0,N_t): \n",
    "        P_ini_t[i,:,:] = P_ini_0[:,:].copy()\n",
    "        P_inv_ini_t[i,:,:] = P_inv_ini_0[:,:].copy()\n",
    "        L_ini_t[i,:,:] = L_ini.copy()\n",
    "        groups_ini_t[i,:,:] = groups_ini.copy()\n",
    "        groups_anch_ini_t[i,:,:] = groups_ini_anchor.copy()\n",
    "        \n",
    "    P_t = np.zeros((N_t,K,Nx))\n",
    "    P_inv_t = np.zeros((N_t,K,Nx))\n",
    "    L_t = np.zeros((N_t,Nx, Nx))\n",
    "\n",
    "    P_t = (P_ini_t).copy()\n",
    "    P_inv_t = (P_inv_ini_t).copy()\n",
    "    groups_t = groups_ini_t.copy()\n",
    "    groups_anch_t = groups_anch_ini_t.copy()\n",
    "\n",
    "    Energy_t, Energy_ini_t = np.zeros((N_t)), np.zeros((N_t))\n",
    "    Edges_L_t, Edges_NoL_t = np.zeros((N_t)), np.zeros((N_t))\n",
    "    ovlp_t0, ovlp_t1 = np.zeros((N_t)) , np.zeros((N_t)) \n",
    "    suma_L_t = np.zeros(N_t)\n",
    "\n",
    "    ovlp_t0, ovlp_t1 = ovlp_t0.astype(int), ovlp_t1.astype(int)\n",
    "    P_t = P_t.astype(int)\n",
    "    P_inv_t = P_inv_t.astype(int)\n",
    "    L_t = L_t.astype(int)\n",
    "    groups_t = groups_t.astype(int)\n",
    "    groups_anch_t = groups_anch_t.astype(int)\n",
    "    \n",
    "    #### Now the Blueprint is averaged\n",
    "    Edges_sum = K*Nx*Nx\n",
    "    for k_nt in range(N_t):\n",
    "        L_t[k_nt,:,:] =  L_wiring(A, P_inv_t[k_nt,:,:])\n",
    "        Edges_L_t[k_nt] = K*sum(sum(L_t[k_nt,:,:]))\n",
    "        Edges_NoL_t[k_nt] = Edges_sum - Edges_L_t[k_nt]\n",
    "        overlap_0, overlap_1 = overlap_total_prob(L_t[k_nt,:,:],A,P_inv_t[k_nt,:,:])\n",
    "        Energy_t[k_nt] = hamiltonian_prob(Edges_NoL_t[k_nt], Edges_L_t[k_nt], overlap_0, overlap_1,alpha, beta)\n",
    "        ovlp_t0[k_nt], ovlp_t1[k_nt] = overlap_0, overlap_1\n",
    "        suma_L_t[k_nt] = sum_numba(L_t[k_nt,:,:])\n",
    "    \n",
    "\n",
    "    \n",
    "    return P_t, P_inv_t, L_t, Edges_L_t,Edges_NoL_t, Energy_t, ovlp_t0,ovlp_t1, suma_L_t,groups_t, groups_anch_t\n",
    "#Vamos a ordenar igual las etiquetas de nodos con las de a que grupo pertenecen\n",
    "def permu_groups_capa1_anchors_knwn(L_f, A_f, start_f,end_f,start_anch_f,end_anch_f,grupos_t, Anchors,grupos_extra): #En este caso no lo voy a hacer con anchors\n",
    "   \n",
    "    Nx = L_f.shape[0]\n",
    "    Ny = L_f.shape[1]\n",
    "    K = A_f.shape[0]\n",
    "    N_groups = len(start_f)\n",
    "    \n",
    "    start_anchor = start_anch_f.copy()\n",
    "    end_anchor = end_anch_f.copy()\n",
    "    #Matrices permutación y sus inversas\n",
    "    P_f = np.zeros((K,Nx))\n",
    "    P_inv_f = np.zeros((K,Nx))\n",
    "    P_new = np.zeros((K,Nx))\n",
    "    \n",
    "    \n",
    "    ### Colocamos primero los anchors\n",
    "    n_an = len(Anchors)\n",
    "    P_inv_f[:,:n_an] = Anchors\n",
    "    \n",
    "    #Vamos a ordenar las matrices Observación según el grado de los nodos de L_inf\n",
    "    orden_L_in = np.zeros((Nx-n_an ))\n",
    "    array_L = np.zeros((Nx-n_an ))\n",
    "    c_o = 0\n",
    "\n",
    "    for i in range(Nx):\n",
    "        if (i not in Anchors):\n",
    "            b = np.nonzero(L_f[i,:])\n",
    "            array_L[c_o] = i\n",
    "            orden_L_in[c_o] = b[0].size\n",
    "            c_o += 1\n",
    "     \n",
    "    orden_L = orden_L_in.copy()\n",
    "    quicksort(orden_L, array_L)\n",
    "    array_L = array_L[::-1]\n",
    "\n",
    "    grupos_L = np.zeros((Nx-n_an))\n",
    "    c_o = 0\n",
    "    for  i_g in range(N_groups):\n",
    "        for i_x in range(start_f[i_g], end_f[i_g]):\n",
    "            if i_x not in Anchors:\n",
    "                grupos_L[c_o] = i_g\n",
    "                c_o += 1\n",
    "    grupos_L = grupos_L.astype(int)\n",
    "    orden_L = orden_L_in.copy()\n",
    "    quicksort(orden_L, grupos_L )\n",
    "    grupos_L = grupos_L[::-1]\n",
    "\n",
    "    #Órdenes de A\n",
    "    for i in range(0,K):\n",
    "        orden_A_in = np.zeros((Nx- n_an))\n",
    "        array_A = np.zeros((Nx-n_an))\n",
    "        grupos_A = np.zeros((Nx-n_an))\n",
    "        c_o = 0\n",
    "        for i_orden in range(Nx):\n",
    "            if (i_orden not in Anchors):\n",
    "                b = np.nonzero(A_f[i,i_orden,:])\n",
    "                array_A[c_o] = i_orden\n",
    "                grupos_A[c_o] = grupos_t[i, i_orden]\n",
    "                orden_A_in[c_o] = b[0].size#.size\n",
    "                c_o += 1\n",
    "        \n",
    "        orden_A = orden_A_in.copy()\n",
    "        quicksort(orden_A, array_A)  \n",
    "        array_A = array_A[::-1]\n",
    "\n",
    "        orden_A = orden_A_in.copy()\n",
    "        quicksort(orden_A, grupos_A)\n",
    "        grupos_A = grupos_A[::-1]\n",
    "\n",
    "        \n",
    "        array_A_L = np.zeros((Nx - n_an))\n",
    "        for i_n in range(Nx-n_an):\n",
    "            if ((grupos_A[i_n] == grupos_L[i_n])):\n",
    "                array_A_L[i_n] = array_A[i_n]\n",
    "            else:\n",
    "                # Busco el siguiente del mismo grupo y lo cambio\n",
    "                count = 0\n",
    "                for i_nn in range(i_n, Nx-n_an):\n",
    "                    if ((grupos_A[i_nn] == grupos_L[i_n])): \n",
    "                        array_A_L[i_n] = array_A[i_nn]\n",
    "                        #Cambio\n",
    "                        array_A[i_nn] = array_A[i_n]\n",
    "                        aux = grupos_A[i_nn]\n",
    "                        grupos_A[i_nn] = grupos_A[i_n]\n",
    "                        grupos_A[i_n] = aux\n",
    "                        count = 1\n",
    "                        break\n",
    "        array_A_L = array_A_L[np.argsort(array_L)]\n",
    "        P_inv_f[i,n_an:] = array_A_L\n",
    "        \n",
    "        for i_inv in range(0,Nx):\n",
    "            for j_inv in range(0,Ny):\n",
    "                if (P_inv_f[i,i_inv] == j_inv):\n",
    "                    P_f[i, j_inv]=i_inv\n",
    "    \n",
    "    P_todo = np.zeros((2,K,Nx))\n",
    "    P_todo[0,:,:] = P_f.copy()\n",
    "    P_todo[1,:,:] = P_inv_f.copy()  \n",
    "    \n",
    "    return P_todo   \n",
    "\n",
    "def variable_store(PasosMC,Pasos_store,N_epochs, N_t, K, Nx):\n",
    "    energies_pasos = np.zeros((N_epochs,N_t,PasosMC))\n",
    "    P_store = np.zeros((N_epochs,Pasos_store,N_t, K, Nx))\n",
    "    Energy_store = np.zeros((N_epochs,Pasos_store, N_t))\n",
    "    L_store = np.zeros((N_epochs,Pasos_store,N_t, Nx, Nx))\n",
    "    return energies_pasos, P_store,L_store, Energy_store\n",
    "@jit(nopython=True)\n",
    "def L_wiring_change_filas(m1,L_old,A_f, i_change, j_change, P_inv_old):\n",
    "    \n",
    "    Nx = A_f.shape[1]\n",
    "    K = A_f.shape[0] \n",
    "    \n",
    "    L_new_f = L_old.copy()\n",
    "    L_f_v1v2,L_c_v1v2  = np.zeros((2,Nx)),np.zeros((2,Nx))\n",
    "    \n",
    "    ## changes\n",
    "    changes = np.array([i_change, j_change])\n",
    "    changes_new = np.array([j_change, i_change])\n",
    "    \n",
    "    ## Old values\n",
    "    suma_old =(np.sum(L_old[i_change,:]) + np.sum(L_old[j_change,:]) + np.sum(L_old[:,i_change]) + np.sum(L_old[:,j_change]))-L_old[i_change,j_change]-L_old[j_change,j_change]-L_old[i_change,i_change]-L_old[j_change,i_change]\n",
    "    \n",
    "    ## New row and column\n",
    "    L_new_f[i_change,:], L_new_f[j_change,:], L_new_f[:,i_change], L_new_f[:,j_change] = np.zeros(Nx),np.zeros(Nx),np.zeros(Nx),np.zeros(Nx)\n",
    "    \n",
    "\n",
    "    suma_1 = 0\n",
    "    \n",
    "    for i_i,i_chan in enumerate(changes): #Only looking at the \n",
    "        ############### ROWS & COLUMNS\n",
    "        for i_x in range(Nx):\n",
    "            if (i_x in changes): # The rest of nodes\n",
    "                for k in range(K):\n",
    "                    if (k == m1):\n",
    "                        chan_new = changes_new[i_i]\n",
    "                        \n",
    "                        if (i_x == changes_new[0]):\n",
    "                            p2_2 = int(P_inv_old[k,changes_new[1]])\n",
    "                        else:\n",
    "                            p2_2 = int(P_inv_old[k,changes_new[0]])\n",
    "                    else:\n",
    "                        chan_new = changes[i_i]\n",
    "                        p2_2 = int(P_inv_old[k,i_x])\n",
    "                    p1_2 = int (P_inv_old[k,chan_new])\n",
    "\n",
    "                    L_f_v1v2[i_i,i_x] += A_f[k,p1_2,p2_2]\n",
    "                    L_c_v1v2[i_i,i_x] += A_f[k,p2_2,p1_2]\n",
    "\n",
    "            else: # The nodes that change\n",
    "                for k in range(K):\n",
    "                    if (k == m1):\n",
    "                        chan_new = changes_new[i_i]\n",
    "                    else:\n",
    "                        chan_new = changes[i_i]\n",
    "                    \n",
    "                    \n",
    "                    p1_2 = int (P_inv_old[k,chan_new])\n",
    "                    p2_2 = int(P_inv_old[k,i_x])\n",
    "                    \n",
    "                    L_f_v1v2[i_i,i_x] += A_f[k,p1_2,p2_2]\n",
    "                    L_c_v1v2[i_i,i_x] += A_f[k,p2_2,p1_2]\n",
    "                    \n",
    "                    \n",
    "                    \n",
    "            valor_lnew_2=1/K*  L_f_v1v2[i_i,i_x]\n",
    "            L_f_v1v2[i_i,i_x] = round( valor_lnew_2 )\n",
    "\n",
    "            valor_lnew_c=1/K* L_c_v1v2[i_i,i_x]\n",
    "            L_c_v1v2[i_i,i_x] = round( valor_lnew_c)\n",
    "                    \n",
    "    suma_new = np.sum(L_f_v1v2[0,:]) + np.sum(L_f_v1v2[1,:]) + np.sum(L_c_v1v2[0,:]) + np.sum(L_c_v1v2[1,:])-L_c_v1v2[0,j_change]-L_c_v1v2[0,i_change]-L_c_v1v2[1,j_change]-L_c_v1v2[1,i_change]\n",
    "    suma_1 = suma_new - suma_old\n",
    "    return L_f_v1v2,L_c_v1v2, suma_1    \n",
    "\n",
    "@jit(nopython=True)\n",
    "def L_wiring_overlap_change_filas(m1,L_f_v1v2_old,L_c_v1v2_old,A_f, i_change, j_change, P_inv_old, pp1, pp2):\n",
    "    \n",
    "    Nx = A_f.shape[1]\n",
    "    K = A_f.shape[0] \n",
    "\n",
    "    #### Para la parte del WIRING    \n",
    "    L_f_v1v2,L_c_v1v2  = np.zeros((2,Nx)),np.zeros((2,Nx))\n",
    "    \n",
    "    ## changes\n",
    "    changes = np.array([i_change, j_change])\n",
    "    changes_new = np.array([j_change, i_change])\n",
    "    \n",
    "    ## Old values\n",
    "    suma_old =(np.sum(L_f_v1v2_old[0,:]) + np.sum(L_f_v1v2_old[1,:]) + np.sum(L_c_v1v2_old[0,:]) + np.sum(L_c_v1v2_old[1,:]))-L_f_v1v2_old[0,j_change]-L_f_v1v2_old[1,j_change]-L_f_v1v2_old[0,i_change]-L_f_v1v2_old[1,i_change]\n",
    "    \n",
    "    ## New row and column\n",
    "    ##### Para la parte del OVERLAP\n",
    "    ovlp_0_new , ovlp_1_new = 0,0\n",
    "    ovlp_0_old , ovlp_1_old = 0,0\n",
    "    ovlp_0_dif, ovlp_1_dif = 0,0\n",
    "    changes_p = np.array([pp1, pp2], dtype = np.int32)  \n",
    "    changes_p_old = np.array([pp2, pp1], dtype = np.int32)\n",
    "    suma_1 = 0\n",
    "    \n",
    "    for i_i,i_chan in enumerate(changes): #Only looking at the \n",
    "        ############### ROWS & COLUMNS\n",
    "        for i_x in range(Nx):\n",
    "            if (i_x in changes): # The rest of nodes\n",
    "                for k in range(K):\n",
    "                    if (k == m1):\n",
    "                        chan_new = changes_new[i_i]\n",
    "                        \n",
    "                        if (i_x == changes_new[0]):\n",
    "                            p2_2 = int(P_inv_old[k,changes_new[1]])\n",
    "                        else:\n",
    "                            p2_2 = int(P_inv_old[k,changes_new[0]])\n",
    "                    else:\n",
    "                        chan_new = changes[i_i]\n",
    "                        p2_2 = int(P_inv_old[k,i_x])\n",
    "                    p1_2 = int (P_inv_old[k,chan_new])\n",
    "\n",
    "                    L_f_v1v2[i_i,i_x] += A_f[k,p1_2,p2_2]\n",
    "                    L_c_v1v2[i_i,i_x] += A_f[k,p2_2,p1_2]\n",
    "\n",
    "            else: # The nodes that change\n",
    "                for k in range(K):\n",
    "                    if (k == m1):\n",
    "                        chan_new = changes_new[i_i]\n",
    "                    else:\n",
    "                        chan_new = changes[i_i]\n",
    "                    \n",
    "                    \n",
    "                    p1_2 = int (P_inv_old[k,chan_new])\n",
    "                    p2_2 = int(P_inv_old[k,i_x])\n",
    "                    \n",
    "                    L_f_v1v2[i_i,i_x] += A_f[k,p1_2,p2_2]\n",
    "                    L_c_v1v2[i_i,i_x] += A_f[k,p2_2,p1_2]\n",
    "                    \n",
    "                    \n",
    "                    \n",
    "            valor_lnew_2=1/K*  L_f_v1v2[i_i,i_x]\n",
    "            L_f_v1v2[i_i,i_x] = round( valor_lnew_2 )\n",
    "\n",
    "            valor_lnew_c=1/K* L_c_v1v2[i_i,i_x]\n",
    "            L_c_v1v2[i_i,i_x] = round( valor_lnew_c)\n",
    "                    \n",
    "            ## Una vez que tenemos los valores de la L podemos mirar el overlap!\n",
    "            for i_k in range(K):\n",
    "                if i_k != m1: # Only changes in m1\n",
    "                    p_f = int(P_inv_old[i_k,i_chan])\n",
    "                    p_c = int(P_inv_old[i_k,i_x])\n",
    "                    p_old, p_old_c = p_f, p_c\n",
    "                else:\n",
    "                    p_f = changes_p[i_i]\n",
    "                    p_old = changes_p_old[i_i]\n",
    "                    if (i_x == i_change):\n",
    "                        p_c = pp1\n",
    "                        p_old_c = pp2\n",
    "                    elif(i_x == j_change):\n",
    "                        p_c = pp2\n",
    "                        p_old_c = pp1\n",
    "                    else: # Only changes in the nodes i,j\n",
    "                        p_c = int(P_inv_old[i_k, i_x])\n",
    "                        p_old_c = p_c\n",
    "            \n",
    "                valor_L_old, valor_A_old = L_f_v1v2_old[i_i,i_x], A_f[i_k,p_old,p_old_c]   \n",
    "                valor_L_new, valor_A_new = L_f_v1v2[i_i,i_x], A_f[i_k,p_f,p_c]\n",
    "                ## columns\n",
    "                valor_L_old_c, valor_A_old_c = 0,0\n",
    "                valor_L_new_c, valor_A_new_c = 0,0\n",
    "                column = 0        \n",
    "                if (i_x not in changes):\n",
    "                    column = 1\n",
    "                    valor_L_old_c, valor_A_old_c = L_c_v1v2_old[i_i,i_x],A_f[i_k,p_old_c, p_old]\n",
    "                    valor_L_new_c, valor_A_new_c = L_c_v1v2[i_i,i_x], A_f[i_k,p_c,p_f]\n",
    "    \n",
    "                ovlp_1_old = ovlp_1_old + valor_L_old*valor_A_old + valor_L_old_c*valor_A_old_c*column\n",
    "                ovlp_0_old = ovlp_0_old + (1-valor_L_old)*(1-valor_A_old) + (1-valor_L_old_c)*(1-valor_A_old_c)*column\n",
    "                \n",
    "                ovlp_1_new = ovlp_1_new + valor_L_new*valor_A_new + valor_L_new_c*valor_A_new_c*column\n",
    "                ovlp_0_new = ovlp_0_new + (1-valor_L_new)*(1-valor_A_new) + (1-valor_L_new_c)*(1-valor_A_new_c)*column\n",
    "                \n",
    "\n",
    "    \n",
    "                    \n",
    "    suma_new = np.sum(L_f_v1v2[0,:]) + np.sum(L_f_v1v2[1,:]) + np.sum(L_c_v1v2[0,:]) + np.sum(L_c_v1v2[1,:])-L_c_v1v2[0,j_change]-L_c_v1v2[0,i_change]-L_c_v1v2[1,j_change]-L_c_v1v2[1,i_change]\n",
    "    suma_1 = suma_new - suma_old\n",
    "\n",
    "    ## Parte del overlap \n",
    "    ovlp_1_def = ovlp_1_new - ovlp_1_old\n",
    "    ovlp_0_def = ovlp_0_new- ovlp_0_old\n",
    "\n",
    "\n",
    "\n",
    "    \n",
    "    return L_f_v1v2,L_c_v1v2, suma_1, ovlp_0_def, ovlp_1_def\n",
    "\n",
    "\n",
    "@njit\n",
    "def custom_round(number):\n",
    "    if number >= 0.5:\n",
    "        return 1\n",
    "    else:\n",
    "        return 0\n",
    "\n",
    "@njit\n",
    "def random_menos_mas(number):\n",
    "    if number >= 0.5:\n",
    "        return 1\n",
    "    else:\n",
    "        return -1\n"
   ]
  },
  {
   "cell_type": "code",
   "execution_count": 32,
   "id": "73ff2dea-5f87-4749-acc1-8af6fc8c4d75",
   "metadata": {},
   "outputs": [],
   "source": [
    "@jit(nopython=True)\n",
    "\n",
    "## ME QUEDAN LOS DE EN MEDIO LOS CRUCES PENSAR\n",
    "def L_wiring_change_filas(m1,L_old,A_f, i_change, j_change, P_inv_old):\n",
    "    #P_inv_f es la permutación nueva!!\n",
    "    Nx = A_f.shape[1]\n",
    "    Ny = A_f.shape[2]\n",
    "    K = A_f.shape[0]\n",
    "    \n",
    "    L_new_f = L_old.copy()\n",
    "    L_f_v1v2,L_c_v1v2  = np.zeros((2,Nx)),np.zeros((2,Nx))\n",
    "\n",
    "    #cambio toda la fila y la columna\n",
    "    changes = np.array([i_change, j_change])\n",
    "    changes_new = np.array([j_change, i_change])\n",
    "    #print(np.array([j_change, i_change]))\n",
    "        # FILAS\n",
    "    L_new_f[i_change,:], L_new_f[j_change,:], L_new_f[:,i_change], L_new_f[:,j_change] = np.zeros(Nx),np.zeros(Nx),np.zeros(Nx),np.zeros(Nx)\n",
    "    \n",
    "    suma_old =(np.sum(L_old[i_change,:]) + np.sum(L_old[j_change,:]) + np.sum(L_old[:,i_change]) + np.sum(L_old[:,j_change]))-L_old[i_change,j_change]-L_old[j_change,j_change]-L_old[i_change,i_change]-L_old[j_change,i_change]\n",
    "\n",
    "    suma_1 = 0\n",
    "    for i_i,i_chan in enumerate(changes):\n",
    "        for i_x in range(Nx):\n",
    "            ################### borrar\n",
    "            if (i_x not in changes ):\n",
    "                for k in range(K):\n",
    "                    if (k == m1):\n",
    "                        chan_new = changes_new[i_i]\n",
    "                    else:\n",
    "                        chan_new = changes[i_i]\n",
    "                    p1_2 = int (P_inv_old[k,chan_new])\n",
    "                    p2_2 = int(P_inv_old[k,i_x])\n",
    "                    ### fila\n",
    "                    L_f_v1v2[i_i,i_x] += A_f[k,p1_2,p2_2]\n",
    "\n",
    "            else:\n",
    "                for k in range(K):\n",
    "\n",
    "                    if (k == m1):\n",
    "                        chan_new = changes_new[i_i]\n",
    "                        \n",
    "                        if (i_x == changes_new[0]):\n",
    "                            p2_2 = int(P_inv_old[k,changes_new[1]])\n",
    "                        else:\n",
    "                            p2_2 = int(P_inv_old[k,changes_new[0]])\n",
    "                    else:\n",
    "                        chan_new = changes[i_i]\n",
    "                        p2_2 = int(P_inv_old[k,i_x])\n",
    "\n",
    "                    p1_2 = int (P_inv_old[k,chan_new])\n",
    "\n",
    "                    L_f_v1v2[i_i,i_x] += A_f[k,p1_2,p2_2]\n",
    "                    \n",
    "            valor_lnew_2=1/K*  L_f_v1v2[i_i,i_x]\n",
    "            if (valor_lnew_2!=0.5):#Para que el 0.5 no siempre me lo redondee hacia arriba o hacia abajo\n",
    "                L_f_v1v2[i_i,i_x] = round( valor_lnew_2 )\n",
    "            else:\n",
    "                L_f_v1v2[i_i,i_x] = np.random.randint(2)\n",
    "      \n",
    "                    \n",
    "    ## COLUMNAS (quitando los cruces)\n",
    "    for j_j,j_chan in enumerate(changes):\n",
    "        for i_x in range(Nx):\n",
    "            changes_x = 0\n",
    "            if (i_x not in changes):\n",
    "                for k in range(K):\n",
    "                    \n",
    "                    if (k == m1):\n",
    "                        chan_new = changes_new[j_j]\n",
    "                    else:\n",
    "                        chan_new = changes[j_j]\n",
    "                        \n",
    "                    p1_2 = int (P_inv_old[k,chan_new])\n",
    "                    p2_2 = int(P_inv_old[k,i_x])\n",
    "                    L_c_v1v2[j_j,i_x] += A_f[k,p2_2,p1_2]\n",
    "                \n",
    "                valor_lnew_2=1/K* L_c_v1v2[j_j,i_x]\n",
    "                if (valor_lnew_2!=0.5):#Para que el 0.5 no siempre me lo redondee hacia arriba o hacia abajo\n",
    "                    L_c_v1v2[j_j,i_x] = round( valor_lnew_2)\n",
    "                else:\n",
    "                    L_c_v1v2[j_j,i_x] =np.random.randint(2)\n",
    "                    \n",
    "            else:\n",
    "                changes_x = 1\n",
    "                if (i_x == j_chan):\n",
    "                    L_c_v1v2[j_j,i_x] =  L_f_v1v2[j_j,i_x]\n",
    "                else:\n",
    "                    i_x_inv = changes[j_j]\n",
    "                    if (j_j  == 0):\n",
    "                        L_c_v1v2[j_j,i_x] =  L_f_v1v2[1,i_x_inv]\n",
    "\n",
    "                    else:\n",
    "                        L_c_v1v2[j_j,i_x] =  L_f_v1v2[0,i_x_inv]\n",
    "           \n",
    "    suma_new = np.sum(L_f_v1v2[0,:]) + np.sum(L_f_v1v2[1,:]) + np.sum(L_c_v1v2[0,:]) + np.sum(L_c_v1v2[1,:])-L_c_v1v2[0,j_change]-L_c_v1v2[0,i_change]-L_c_v1v2[1,j_change]-L_c_v1v2[1,i_change]\n",
    "    suma_1 = suma_new - suma_old\n",
    "    return L_f_v1v2,L_c_v1v2, suma_1\n",
    "\n",
    "### no se si realmente se puede hacer sin repetir todo y solo las diferencias\n",
    "\n",
    "@jit(nopython=True)\n",
    "def overlap_total_change_filas(m1,L_f_v1v2_old,L_c_v1v2_old,L_f_v1v2,L_c_v1v2,A_f, P_inv_old, i_change, j_change,pp1, pp2): \n",
    "\n",
    "    Nx = L_f_v1v2_old.shape[1]\n",
    "    K = A_f.shape[0]\n",
    "    \n",
    "    ovlp_0_new , ovlp_1_new = 0,0\n",
    "    ovlp_0_old , ovlp_1_old = 0,0\n",
    "    ovlp_0_dif, ovlp_1_dif = 0,0\n",
    "  \n",
    "    #cambio toda la fila y la columna\n",
    "    changes = np.array([i_change, j_change], dtype = np.int32)\n",
    "    changes_p = np.array([pp1, pp2], dtype = np.int32)\n",
    "    \n",
    "    changes_old = np.array([j_change, i_change], dtype = np.int32)\n",
    "    changes_p_old = np.array([pp2, pp1], dtype = np.int32)\n",
    "    \n",
    "    \n",
    "    ### Esto en verdad hacerlo fuer\n",
    "\n",
    "    for i_k in range(K):\n",
    "        for i_chan,change in enumerate(changes):\n",
    "            for i_x in range(Nx):\n",
    "                if (i_k != m1):\n",
    "                    p_f = int(P_inv_old[i_k,change])\n",
    "                    p_c = int(P_inv_old[i_k,i_x])\n",
    "                    p_old, p_old_c = p_f, p_c\n",
    "                \n",
    "                else:\n",
    "                    p_f = changes_p[i_chan]\n",
    "                    p_old = changes_p_old[i_chan]\n",
    "\n",
    "                    if (i_x == i_change):\n",
    "                        p_c = pp1\n",
    "                        p_old_c = pp2\n",
    "                    elif(i_x == j_change):\n",
    "                        p_c = pp2\n",
    "                        p_old_c = pp1\n",
    "                    else:\n",
    "                        p_c = int(P_inv_old[i_k, i_x])\n",
    "                        p_old_c = p_c\n",
    "\n",
    "                ### FILAS\n",
    "                if (L_f_v1v2_old[i_chan,i_x] == A_f[i_k,p_old,p_old_c]): #Antes tenía esto al revés\n",
    "                    if (L_f_v1v2_old[i_chan,i_x] == 1):\n",
    "                        ovlp_1_old = ovlp_1_old + 1\n",
    "                    else:\n",
    "                        ovlp_0_old = ovlp_0_old + 1\n",
    "\n",
    "                if (L_f_v1v2[i_chan,i_x]  == A_f[i_k,p_f,p_c]): #Antes tenía esto al revés\n",
    "                    if (L_f_v1v2[i_chan,i_x] == 1):\n",
    "                        ovlp_1_new = ovlp_1_new + 1\n",
    "                    else:\n",
    "                        ovlp_0_new = ovlp_0_new + 1 \n",
    "\n",
    "                ### COLUMNAS\n",
    "                if i_x not in changes:\n",
    "                    if (L_c_v1v2_old[i_chan,i_x]  == A_f[i_k,p_old_c, p_old]): #Antes tenía esto al revés\n",
    "                        if (L_c_v1v2_old[i_chan,i_x] == 1):\n",
    "                            ovlp_1_old = ovlp_1_old +1\n",
    "                        else:\n",
    "                            ovlp_0_old = ovlp_0_old +1\n",
    "\n",
    "                    if (L_c_v1v2[i_chan,i_x] == A_f[i_k,p_c,p_f]): #Antes tenía esto al revés\n",
    "                        if (L_c_v1v2[i_chan,i_x] == 1):\n",
    "                            ovlp_1_new= ovlp_1_new + 1\n",
    "                        else:\n",
    "                            ovlp_0_new = ovlp_0_new +1  \n",
    "    ### por capaas\n",
    "    ovlp_1_def = ovlp_1_new - ovlp_1_old\n",
    "    ovlp_0_def = ovlp_0_new- ovlp_0_old\n",
    "   \n",
    "    return ovlp_0_def, ovlp_1_def"
   ]
  },
  {
   "cell_type": "code",
   "execution_count": 33,
   "id": "2a25adeb-7c31-4cfd-8499-efced77e3043",
   "metadata": {},
   "outputs": [],
   "source": [
    "@jit(nopython = True)\n",
    "def parallel_L_unknwn_change_groups(c_parallel,c_unlabel,alpha,beta,fijado_f,groups_f, N_groups_f, start_f, end_f,posi_unkw,labels_unkw, vector_unkw,\n",
    "                       A, P_t_f, P_inv_t_f, L_t_f,suma_L, Energy_t_f, ovlp_t_f0, ovlp_t_f1, tempers_f,tempers_odd, tempers_even,\n",
    "                                    c_accep, c_odd, m_old, round_trip_old, c_rounds):\n",
    "    \n",
    "# start_f, end,f: posiciones del gs\n",
    "    # Latent_f = el grupo de los grupos descartados\n",
    "    # N_groups_f: El grupo de las neuronas, NO EL DE GS CON EL EXTRA\n",
    "    # groups_f: Me dice que vector es cada grupo, no sé si es más rápido que la otra versión\n",
    "    # posi_unkwn: cuáles son las posiciones de los unlabelled\n",
    "    # labels_unkwn : cuáles son las etiquetas\n",
    "    # vector_unkw : Dice el número de capas con unkwons en esa posicion\n",
    "    \n",
    "    ### Movimiento\n",
    "    # 1-Elijo grupo\n",
    "    ####1.1- Elijo dos partículas dentro del grupo\n",
    "    # 2- Cada cuatro movientos hago un cambio entre los del unlabel\n",
    "    \n",
    "    alpha,beta = 5,2\n",
    "    N_t = L_t_f.shape[0]\n",
    "    Nx = L_t_f.shape[1]\n",
    "    K = A.shape[0]\n",
    "    Edges_sum = K*Nx*Nx\n",
    "    prob_change = int(Nx/len(posi_unkw))\n",
    "\n",
    "   \n",
    "    if (c_parallel < 4*Nx):\n",
    "        c_parallel += 1\n",
    "        if (fijado_f == 1):\n",
    "            m1 = np.random.randint(K-1)+1 #Elijo matrix, pero fijando la primera matriz \n",
    "        else:\n",
    "            m1 = np.random.randint(K)    \n",
    "        \n",
    "        c_unlabel += 1\n",
    "        for k_nt in range(N_t):\n",
    "            # Saber de qué grupo son para qué cambios hacer luego en el cambio de energía      \n",
    "            cv1, cv2 = 0,0\n",
    "            \n",
    "            #### ANCHOR: Esto no hace falta cambiarlo porque las unkwons nunca están en el anchor\n",
    "            if(c_unlabel == prob_change):\n",
    "                \n",
    "                c_unlabel = 0\n",
    "                end_v = np.where(posi_unkw[k_nt,m1,:] == Nx+1)[0]\n",
    "                if (len(end_v)>= 1):\n",
    "                    end_p = np.where(posi_unkw[k_nt,m1,:] == Nx+1)[0][0] # Cojo el primero\n",
    "                else:\n",
    "                    end_p = len(labels_unkw[0,0,:])\n",
    "                \n",
    "               \n",
    "                if (end_p > 1):   \n",
    "                    pos_aux = np.random.randint( 0,end_p)\n",
    "                    v1_mapping = labels_unkw[k_nt, m1,pos_aux]\n",
    "                    v1 = posi_unkw[k_nt, m1,pos_aux]\n",
    "\n",
    "                    pos_aux = np.random.randint( 0, end_p)\n",
    "                    v2_mapping = labels_unkw[k_nt, m1,pos_aux]\n",
    "                    while (v1_mapping == v2_mapping):\n",
    "                        pos_aux = np.random.randint(end_p)\n",
    "                        v2_mapping = labels_unkw[k_nt, m1,pos_aux]\n",
    "\n",
    "                    v2 = posi_unkw[k_nt, m1,pos_aux]\n",
    "\n",
    "                    # cambio unlabels\n",
    "                    cv1, cv2 = 1, 1\n",
    "\n",
    "                    # print('i_k', m1, 'v1,v2:', v1, v2)\n",
    "                    # print('v1_m, v2_m', v1_mapping, v2_mapping)\n",
    "                    # if m1 != 3:\n",
    "                    #     print(np.where(np.sort(labels_unkw[k_nt, m1,:])!= np.sort(P_inv_t_f[k_nt,m1, posi_unkw[k_nt, m1,:]])))                    # En este caso el vector_unkw NO cambia, porque ambas posiciones ganan 1\n",
    "                    \n",
    "                else:\n",
    "                    continue\n",
    "                \n",
    "            else: \n",
    "                grupo = np.random.randint(N_groups_f)\n",
    "                start, end = start_f[grupo], end_f[grupo]\n",
    "                size_group = end - start\n",
    "                todos = size_group \n",
    "                if (todos <1):\n",
    "                    continue\n",
    "                else:\n",
    "\n",
    "                    # Si cojo el mapping vale siempre el anchor\n",
    "                    v1_mapping = np.random.randint(start, end)\n",
    "\n",
    "                    v2_mapping = np.random.randint(start, end)\n",
    "                    while (v2_mapping == v1_mapping):\n",
    "                        v2_mapping = np.random.randint(start, end)\n",
    "                        \n",
    "                    v1 = P_t_f[k_nt, m1,v1_mapping]\n",
    "                    v2 = P_t_f[k_nt, m1, v2_mapping]\n",
    "\n",
    "                    n_type1 = groups_f[k_nt, m1, v1]\n",
    "                    n_type2 = groups_f[k_nt, m1, v2]\n",
    "                    if (n_type1 == N_groups_f):\n",
    "                        cv1 = 1 # En este caso v1_mapping era el 6, va a perder una\n",
    "                    if (n_type2 == N_groups_f):\n",
    "                        cv2 = 1 # En este caso v2_mapping era el 6\n",
    "            \n",
    "            ### Solo voy a trbajar con las filas y las columnas\n",
    "            L_f_v1v2, L_f_v1v2_old = np.zeros((2,Nx)),np.zeros((2,Nx))\n",
    "            L_c_v1v2, L_c_v1v2_old = np.zeros((2,Nx)),np.zeros((2,Nx))\n",
    "\n",
    "            pp_1 = int(P_inv_t_f[k_nt,m1,v2])\n",
    "            pp_2 = int(P_inv_t_f[k_nt,m1,v1]) \n",
    "\n",
    "\n",
    "            #Actualizamos luego  P si aceptamos \n",
    "            #Actualizamos L\n",
    "            L_f_v1v2_old[0,:],L_f_v1v2_old[1,:] = L_t_f[k_nt,v1,:].copy(),L_t_f[k_nt,v2,:].copy()\n",
    "            L_c_v1v2_old[0,:],L_c_v1v2_old[1,:] = L_t_f[k_nt,:,v1].copy(),L_t_f[k_nt,:,v2].copy()\n",
    "           # Changes in the blueprint\n",
    "            L_f_v1v2,L_c_v1v2 , suma_aux,ovl_0_new, ovl_1_new = L_wiring_overlap_change_filas(m1,L_f_v1v2_old,L_c_v1v2_old, A, v1, v2, P_inv_t_f[k_nt,:,:], pp_1, pp_2)\n",
    "            \n",
    "            # Parameters to change\n",
    "            Edges_L = K*(suma_L[k_nt] + suma_aux)\n",
    "            Edges_NoL = Edges_sum - Edges_L\n",
    "            overlap_0,overlap_1 = ovlp_t_f0[k_nt] + ovl_0_new, ovlp_t_f1[k_nt] + ovl_1_new\n",
    "            Energy_bucle = hamiltonian_prob(Edges_NoL, Edges_L, overlap_0,overlap_1,alpha, beta)\n",
    "            dE_sampler = Energy_bucle - Energy_t_f[k_nt]\n",
    "            dE_t = dE_sampler\n",
    "\n",
    "            ### UPDATE\n",
    "            if (dE_t < 0):\n",
    "                # print('precanvi')\n",
    "                if (cv1 == 1 or cv2 == 1):\n",
    "\n",
    "                    if (cv1 == 1 and cv2 == 1):  #los dos eran de unkwons\n",
    "                        # print('cv,cv2')\n",
    "                        # print('i_k', m1, 'v1,v2:', v1, v2)\n",
    "                        # print('v1_m, v2_m', v1_mapping, v2_mapping)\n",
    "                        # print('label no match',np.where(np.sort(labels_unkw[k_nt, m1,:])!= np.sort(P_inv_t_f[k_nt,m1, posi_unkw[k_nt, m1,:]])))\n",
    "                        # print('groups', np.where(groups_f[0, m1, posi_unkw[0, m1,:]]!= 6))\n",
    "                        posi1 = np.where(labels_unkw[k_nt,m1,:] == v1_mapping)[0][0]\n",
    "                        posi2 = np.where(labels_unkw[k_nt,m1,:] == v2_mapping)[0][0]\n",
    "                        posi_unkw[k_nt,m1,posi1] = v2\n",
    "                        posi_unkw[k_nt,m1,posi2] = v1\n",
    "                    elif (cv2 == 1): # Solo eran de unkwons el primero\n",
    "                        # print('cv2')\n",
    "                        # print('i_k', m1, 'v1,v2:', v1, v2)\n",
    "                        # print('v1_m, v2_m', v1_mapping, v2_mapping)\n",
    "                        # print('label no match',np.where(np.sort(labels_unkw[k_nt, m1,:])!= np.sort(P_inv_t_f[k_nt,m1, posi_unkw[k_nt, m1,:]])))\n",
    "                        # print('groups', np.where(groups_f[0, m1, posi_unkw[0, m1,:]]!= 6))\n",
    "                        posi = np.where(labels_unkw[k_nt,m1,:] == v2_mapping)[0][0]\n",
    "                        posi_unkw[k_nt,m1,posi] = v1 #La posición que tenía v2\n",
    "                        vector_unkw[k_nt, v2] -=1\n",
    "                        vector_unkw[k_nt, v1] += 1\n",
    "                        \n",
    "                        \n",
    "                    elif (cv1 == 1 ): # Solo eran de unkwons el primero\n",
    "                        # print('cv1')\n",
    "                        # print('i_k', m1, 'v1,v2:', v1, v2)\n",
    "                        # print('v1_m, v2_m', v1_mapping, v2_mapping)\n",
    "                        # print('groups', np.where(groups_t[0, m1, posi_unkwons_t[0, m1,:]]!= 0))\n",
    "                        # print('label no match', np.where(np.sort(labels_unkw[k_nt, m1,:])!= np.sort(P_inv_t_f[k_nt,m1, posi_unkw[k_nt, m1,:]])))\n",
    "                        # print('groups', np.where(groups_f[0, m1, posi_unkw[0, m1,:]]!= 6))\n",
    "                        # Solo cambio la posición \n",
    "                        posi = np.where(labels_unkw[k_nt,m1,:] == v1_mapping)[0][0]\n",
    "                        posi_unkw[k_nt,m1,posi] = v2 #La posición que tenía v2\n",
    "                        vector_unkw[k_nt, v1] -=1\n",
    "                        vector_unkw[k_nt, v2] += 1\n",
    "\n",
    "                    ####### los he echado palante\n",
    "                    groups_aux1 = groups_f[k_nt, m1,v2]\n",
    "                    groups_f[k_nt, m1, v2] = groups_f[k_nt, m1,v1]\n",
    "                    groups_f[k_nt, m1, v1] = groups_aux1\n",
    "                    # print('groups2', np.where(groups_f[0, m1, posi_unkw[0, m1,:]]!= 6))\n",
    "                \n",
    "                P_aux1 = P_t_f[k_nt, m1,pp_2]\n",
    "                P_t_f[k_nt, m1, pp_2] = P_t_f[k_nt, m1,pp_1]\n",
    "                P_t_f[k_nt, m1, pp_1] = P_aux1\n",
    "\n",
    "                P_invaux1 = P_inv_t_f[k_nt,m1,v2]\n",
    "                P_inv_t_f[k_nt,m1,v2] = P_inv_t_f[k_nt,m1,v1]\n",
    "                P_inv_t_f[k_nt,m1,v1] = P_invaux1\n",
    "\n",
    "                Energy_t_f[k_nt] = Energy_t_f[k_nt] + dE_t\n",
    "                ovlp_t_f0[k_nt] = overlap_0\n",
    "                ovlp_t_f1[k_nt] = overlap_1\n",
    "                L_t_f[k_nt,v1, :],L_t_f[k_nt,v2, :] = L_f_v1v2[0,:],L_f_v1v2[1,:]\n",
    "                L_t_f[k_nt,:,v1],L_t_f[k_nt,:,v2] = L_c_v1v2[0,:],L_c_v1v2[1,:]\n",
    "                suma_L[k_nt] = suma_L[k_nt] + suma_aux\n",
    "                # print('canvi')\n",
    "                # if m1 != 3:\n",
    "                #     print('i_k', m1, 'v1,v2:', v1, v2)\n",
    "                #     print('v1_m, v2_m', v1_mapping, v2_mapping)\n",
    "                #     print('label no match',np.where(np.sort(labels_unkw[k_nt, m1,:])!= np.sort(P_inv_t_f[k_nt,m1, posi_unkw[k_nt, m1,:]])))\n",
    "                #     print('groups', np.where(groups_f[0, m1, posi_unkw[0, m1,:]]!= 6))\n",
    "\n",
    "            elif (np.random.rand() < np.exp(-dE_t*tempers_f[k_nt])):\n",
    "                # print('precanvi')\n",
    "                if (cv1 == 1 or cv2 == 1):\n",
    "\n",
    "                    if (cv1 == 1 and cv2 == 1):  #los dos eran de unkwons\n",
    "                        # print('cv,cv2')\n",
    "                        # print('i_k', m1, 'v1,v2:', v1, v2)\n",
    "                        # print('v1_m, v2_m', v1_mapping, v2_mapping)\n",
    "                        # print('label no match',np.where(np.sort(labels_unkw[k_nt, m1,:])!= np.sort(P_inv_t_f[k_nt,m1, posi_unkw[k_nt, m1,:]])))\n",
    "                        # print('groups', np.where(groups_f[0, m1, posi_unkw[0, m1,:]]!= 6))\n",
    "                        posi1 = np.where(labels_unkw[k_nt,m1,:] == v1_mapping)[0][0]\n",
    "                        posi2 = np.where(labels_unkw[k_nt,m1,:] == v2_mapping)[0][0]\n",
    "                        posi_unkw[k_nt,m1,posi1] = v2\n",
    "                        posi_unkw[k_nt,m1,posi2] = v1\n",
    "                    elif (cv2 == 1): # Solo eran de unkwons el primero\n",
    "                        # print('cv2')\n",
    "                        # print('i_k', m1, 'v1,v2:', v1, v2)\n",
    "                        # print('v1_m, v2_m', v1_mapping, v2_mapping)\n",
    "                        # print('label no match',np.where(np.sort(labels_unkw[k_nt, m1,:])!= np.sort(P_inv_t_f[k_nt,m1, posi_unkw[k_nt, m1,:]])))\n",
    "                        # print('groups', np.where(groups_f[0, m1, posi_unkw[0, m1,:]]!= 6))\n",
    "                        posi = np.where(labels_unkw[k_nt,m1,:] == v2_mapping)[0][0]\n",
    "                        posi_unkw[k_nt,m1,posi] = v1 #La posición que tenía v2\n",
    "                        vector_unkw[k_nt, v2] -=1\n",
    "                        vector_unkw[k_nt, v1] += 1\n",
    "                        \n",
    "                        \n",
    "                    elif (cv1 == 1 ): # Solo eran de unkwons el primero\n",
    "                        # print('cv1')\n",
    "                        # print('i_k', m1, 'v1,v2:', v1, v2)\n",
    "                        # print('v1_m, v2_m', v1_mapping, v2_mapping)\n",
    "                        # print('groups', np.where(groups_t[0, m1, posi_unkwons_t[0, m1,:]]!= 0))\n",
    "                        # print('label no match', np.where(np.sort(labels_unkw[k_nt, m1,:])!= np.sort(P_inv_t_f[k_nt,m1, posi_unkw[k_nt, m1,:]])))\n",
    "                        # print('groups', np.where(groups_f[0, m1, posi_unkw[0, m1,:]]!= 6))\n",
    "                        # Solo cambio la posición \n",
    "                        posi = np.where(labels_unkw[k_nt,m1,:] == v1_mapping)[0][0]\n",
    "                        posi_unkw[k_nt,m1,posi] = v2 #La posición que tenía v2\n",
    "                        vector_unkw[k_nt, v1] -=1\n",
    "                        vector_unkw[k_nt, v2] += 1\n",
    "\n",
    "                    ####### los he echado palante\n",
    "                    groups_aux1 = groups_f[k_nt, m1,v2]\n",
    "                    groups_f[k_nt, m1, v2] = groups_f[k_nt, m1,v1]\n",
    "                    groups_f[k_nt, m1, v1] = groups_aux1\n",
    "                    # print('groups2', np.where(groups_f[0, m1, posi_unkw[0, m1,:]]!= 6))\n",
    "                \n",
    "                P_aux1 = P_t_f[k_nt, m1,pp_2]\n",
    "                P_t_f[k_nt, m1, pp_2] = P_t_f[k_nt, m1,pp_1]\n",
    "                P_t_f[k_nt, m1, pp_1] = P_aux1\n",
    "\n",
    "                P_invaux1 = P_inv_t_f[k_nt,m1,v2]\n",
    "                P_inv_t_f[k_nt,m1,v2] = P_inv_t_f[k_nt,m1,v1]\n",
    "                P_inv_t_f[k_nt,m1,v1] = P_invaux1\n",
    "\n",
    "                Energy_t_f[k_nt] = Energy_t_f[k_nt] + dE_t\n",
    "                ovlp_t_f0[k_nt] = overlap_0\n",
    "                ovlp_t_f1[k_nt] = overlap_1\n",
    "                L_t_f[k_nt,v1, :],L_t_f[k_nt,v2, :] = L_f_v1v2[0,:],L_f_v1v2[1,:]\n",
    "                L_t_f[k_nt,:,v1],L_t_f[k_nt,:,v2] = L_c_v1v2[0,:],L_c_v1v2[1,:]\n",
    "                suma_L[k_nt] = suma_L[k_nt] + suma_aux\n",
    "                # print('canvi')\n",
    "                # if m1 != 3:\n",
    "                #     print('i_k', m1, 'v1,v2:', v1, v2)\n",
    "                #     print('v1_m, v2_m', v1_mapping, v2_mapping)\n",
    "                #     print('label no match',np.where(np.sort(labels_unkw[k_nt, m1,:])!= np.sort(P_inv_t_f[k_nt,m1, posi_unkw[k_nt, m1,:]])))\n",
    "                #     print('groups', np.where(groups_f[0, m1, posi_unkw[0, m1,:]]!= 6))\n",
    "\n",
    "    else: # Change in temperatures\n",
    "        c_parallel = 0\n",
    "        mt1 = np.random.randint(N_t) \n",
    "        if mt1 == 0:\n",
    "            mt2 = 1\n",
    "        elif mt1 == (N_t - 1):\n",
    "            mt2 = mt1 -1\n",
    "        else:\n",
    "            mt2 = mt1 + random_menos_mas(np.random.rand())\n",
    "        \n",
    "\n",
    "\n",
    "        #Probar el cambio de energía\n",
    "        #Cambio del 1:\n",
    "        Energy_1 = Energy_t_f[mt1]\n",
    "        #Cambio del 2:\n",
    "        Energy_2 = Energy_t_f[mt2] \n",
    "\n",
    "        dE_parallel = -(tempers_f[mt1]-tempers_f[mt2])*(Energy_1-Energy_2)\n",
    "        if (dE_parallel <0):#Se acepta directamente\n",
    "            #Auxliar\n",
    "            P_aux1 = (P_t_f[mt1, :, :]).copy()\n",
    "            P_inv_aux1 = (P_inv_t_f[mt1,:,:]).copy()\n",
    "            L_aux1 = (L_t_f[mt1,:,:]).copy()\n",
    "            \n",
    "            groups_aux = groups_f[mt1,:,:].copy()\n",
    "            posi_aux = posi_unkw[mt1,:,:].copy()\n",
    "            label_aux = labels_unkw[mt1,:,:].copy()\n",
    "            vector_aux = vector_unkw[mt1,:].copy()\n",
    "\n",
    "            ovlp_aux0 = (ovlp_t_f0[mt1])\n",
    "            ovlp_aux1 = (ovlp_t_f1[mt1])\n",
    "            suma_aux = suma_L[mt1]\n",
    "            #El 1 lo guardo en el 2\n",
    "            Energy_t_f[mt1] = Energy_2\n",
    "            P_t_f[mt1,:,:] = (P_t_f[mt2, :, :]).copy()\n",
    "            P_inv_t_f[mt1,:,:] = (P_inv_t_f[mt2,:,:]).copy()\n",
    "            L_t_f[mt1,:,:] = (L_t_f[mt2,:,:]).copy()\n",
    "            suma_L[mt1] = suma_L[mt2]\n",
    "            ovlp_t_f0[mt1] = ovlp_t_f0[mt2]\n",
    "            ovlp_t_f1[mt1] = ovlp_t_f1[mt2]\n",
    "            groups_f[mt1,:,:] = groups_f[mt2,:,:].copy()\n",
    "            posi_unkw[mt1,:,:] = posi_unkw[mt2,:,:].copy()\n",
    "            labels_unkw[mt1,:,:] = labels_unkw[mt2,:,:].copy()\n",
    "            vector_unkw[mt1,:] = vector_unkw[mt2,:].copy()\n",
    "\n",
    "            #El 2 lo guardo en el 1 (que previamente lo he guardado bien)\n",
    "            Energy_t_f[mt2] = Energy_1\n",
    "            P_t_f[mt2,:,:] = P_aux1.copy()\n",
    "            P_inv_t_f[mt2,:,:] = P_inv_aux1.copy()\n",
    "            L_t_f[mt2,:,:] = L_aux1.copy()\n",
    "\n",
    "            ovlp_t_f0[mt2] = ovlp_aux0\n",
    "            ovlp_t_f1[mt2] = ovlp_aux1\n",
    "            suma_L[mt2] = suma_aux\n",
    "            groups_f[mt2,:,:] = groups_aux.copy()\n",
    "            posi_unkw[mt2,:,:] = posi_aux.copy()\n",
    "            labels_unkw[mt2,:,:] = label_aux.copy()\n",
    "            vector_unkw[mt2,:] = vector_aux\n",
    "        elif (np.random.rand() < np.exp(-dE_parallel)):\n",
    "            #Auxliar\n",
    "            P_aux1 = (P_t_f[mt1, :, :]).copy()\n",
    "            P_inv_aux1 = (P_inv_t_f[mt1,:,:]).copy()\n",
    "            L_aux1 = (L_t_f[mt1,:,:]).copy()\n",
    "            \n",
    "            groups_aux = groups_f[mt1,:,:].copy()\n",
    "            posi_aux = posi_unkw[mt1,:,:].copy()\n",
    "            label_aux = labels_unkw[mt1,:,:].copy()\n",
    "            vector_aux = vector_unkw[mt1,:].copy()\n",
    "\n",
    "            ovlp_aux0 = (ovlp_t_f0[mt1])\n",
    "            ovlp_aux1 = (ovlp_t_f1[mt1])\n",
    "            suma_aux = suma_L[mt1]\n",
    "            #El 1 lo guardo en el 2\n",
    "            Energy_t_f[mt1] = Energy_2\n",
    "            P_t_f[mt1,:,:] = (P_t_f[mt2, :, :]).copy()\n",
    "            P_inv_t_f[mt1,:,:] = (P_inv_t_f[mt2,:,:]).copy()\n",
    "            L_t_f[mt1,:,:] = (L_t_f[mt2,:,:]).copy()\n",
    "            suma_L[mt1] = suma_L[mt2]\n",
    "            ovlp_t_f0[mt1] = ovlp_t_f0[mt2]\n",
    "            ovlp_t_f1[mt1] = ovlp_t_f1[mt2]\n",
    "            groups_f[mt1,:,:] = groups_f[mt2,:,:].copy()\n",
    "            posi_unkw[mt1,:,:] = posi_unkw[mt2,:,:].copy()\n",
    "            labels_unkw[mt1,:,:] = labels_unkw[mt2,:,:].copy()\n",
    "            vector_unkw[mt1,:] = vector_unkw[mt2,:].copy()\n",
    "\n",
    "            #El 2 lo guardo en el 1 (que previamente lo he guardado bien)\n",
    "            Energy_t_f[mt2] = Energy_1\n",
    "            P_t_f[mt2,:,:] = P_aux1.copy()\n",
    "            P_inv_t_f[mt2,:,:] = P_inv_aux1.copy()\n",
    "            L_t_f[mt2,:,:] = L_aux1.copy()\n",
    "\n",
    "            ovlp_t_f0[mt2] = ovlp_aux0\n",
    "            ovlp_t_f1[mt2] = ovlp_aux1\n",
    "            suma_L[mt2] = suma_aux\n",
    "            groups_f[mt2,:,:] = groups_aux.copy()\n",
    "            posi_unkw[mt2,:,:] = posi_aux.copy()\n",
    "            labels_unkw[mt2,:,:] = label_aux.copy()\n",
    "            vector_unkw[mt2,:] = vector_aux\n",
    "            \n",
    "    return c_parallel,c_unlabel, P_t_f, P_inv_t_f,Energy_t_f, ovlp_t_f0, ovlp_t_f1, L_t_f, posi_unkw, groups_f,vector_unkw,  suma_L, c_accep, c_odd, m_old, round_trip_old, c_rounds"
   ]
  },
  {
   "cell_type": "code",
   "execution_count": 35,
   "id": "1faa255b",
   "metadata": {},
   "outputs": [],
   "source": [
    "\n",
    "@jit(nopython = True)\n",
    "def change_unlabels_gibbs_1knwon(groups_f, N_groups_f, posi_unkw,labels_unkw, vector_unkw, \n",
    "                        A, P_t_f, P_inv_t_f,  L_t_f, Energy_t_f, ovlp_t_f0, ovlp_t_f1, tempers_f, i_mc):\n",
    "\n",
    "    alpha,beta = 5,2\n",
    "    N_t = L_t_f.shape[0]\n",
    "    Nx = L_t_f.shape[1]\n",
    "    K = A.shape[0]\n",
    "    Edges_sum = K*Nx*Nx\n",
    "    for k_nt in range(N_t):\n",
    "        \n",
    "        # Por hacerlo un poco más rápido meter los Anchors, pero creo que no es worthy\n",
    "        # posiciones_6 = np.where(vector_unkw[k_nt,len(Anchors):] == (K-1))[0]\n",
    "        \n",
    "        posiciones_6 = np.where(vector_unkw[k_nt,:] == (K-1))[0]\n",
    "        # print('len', len(posiciones_6), P_inv_t_f[k_nt, :, posiciones_6])\n",
    "        # print()\n",
    "        num_6 = len(posiciones_6) \n",
    "        if (num_6 >1): \n",
    "            Energies_sampler = np.zeros((num_6)) + 100 #Para que siempre la de ella misma sea menor que una random (no entramos a poner todos)\n",
    "            v1_j = np.random.randint(num_6)\n",
    "            v1 = posiciones_6[v1_j]\n",
    "            Energies_sampler[v1_j] = 0 \n",
    "            # Tener un vector que me diga las capas! (Me ahorro los np.where)\n",
    "            capa_1 = 0\n",
    "\n",
    "\n",
    "\n",
    "            for j_sampler in range(num_6):\n",
    "                v2 = posiciones_6[j_sampler]\n",
    "                if (v1 != v2):\n",
    "\n",
    "                    L_aux = np.zeros((Nx,Nx)) \n",
    "                    P_inv_new_t = (P_inv_t_f).copy()\n",
    "\n",
    "                    for capa in range(K):\n",
    "                        if(capa == capa_1): # Esta capa la dejamos igual\n",
    "                            continue\n",
    "                        else:  \n",
    "                            v1_mapping = P_inv_t_f[k_nt, capa, v1]\n",
    "                            v2_mapping = P_inv_t_f[k_nt, capa, v2]\n",
    "\n",
    "                            P_inv_new_t[k_nt,capa,v1] = (P_inv_t_f[k_nt,capa,v2])\n",
    "                            P_inv_new_t[k_nt,capa,v2] = (P_inv_t_f[k_nt,capa,v1]) \n",
    "\n",
    "\n",
    "                    #Actualizamos luego  P si aceptamos \n",
    "                    #Actualizamos L\n",
    "                    L_aux = L_wiring(A, P_inv_new_t[k_nt, :,:])\n",
    "                    Edges_L = K*sum_numba(L_aux)\n",
    "                    Edges_NoL = Edges_sum - Edges_L\n",
    "                    overlap_0, overlap_1 = overlap_total_prob(L_aux,A,P_inv_new_t[k_nt,:,:])\n",
    "                    E_bucle = hamiltonian_prob(Edges_NoL, Edges_L, overlap_0,overlap_1,alpha, beta) \n",
    "                    Energies_sampler[j_sampler] = E_bucle  - Energy_t_f[k_nt]\n",
    "\n",
    "\n",
    "            cambio = np.argmin(Energies_sampler)\n",
    "            v2 = posiciones_6[cambio]\n",
    "\n",
    "            if (v1 != v2): ## Lo cambio con el menor\n",
    "\n",
    "    #             print('before, dE:', Energies_sampler[cambio])\n",
    "    #             print( P_t_f[k_nt,:, v1_mapping])\n",
    "    #             print( P_t_f[k_nt,:, v2_mapping])\n",
    "\n",
    "                for capa in range(K):\n",
    "                    if(capa == capa_1): # Esta capa la dejamos igual\n",
    "                        continue\n",
    "                    else:\n",
    "                        # el v1_mapping y el v2_mapping son iguales para todos\n",
    "                        v1_mapping = P_inv_t_f[k_nt, capa, v1]\n",
    "                        v2_mapping = P_inv_t_f[k_nt, capa, v2]\n",
    "\n",
    "                        posi1 = np.where(labels_unkw[k_nt,capa,:] == v1_mapping)[0][0]\n",
    "                        posi2 = np.where(labels_unkw[k_nt,capa,:] == v2_mapping)[0][0]\n",
    "                        posi_unkw[k_nt,capa,posi1] = v2 #Las cambio de posi\n",
    "                        posi_unkw[k_nt,capa,posi2] = v1\n",
    "\n",
    "                        #Actualizamos P\n",
    "                        pp_1 = int(P_inv_t_f[k_nt, capa, v1]) \n",
    "                        pp_2 = int(P_inv_t_f[k_nt, capa, v2])\n",
    "\n",
    "                        P_aux1 = P_t_f[k_nt, capa,pp_2]\n",
    "                        P_t_f[k_nt, capa, pp_2] = P_t_f[k_nt, capa,pp_1]\n",
    "                        P_t_f[k_nt, capa, pp_1] = P_aux1\n",
    "\n",
    "                        P_invaux1 = P_inv_t_f[k_nt,capa,v2]\n",
    "                        P_inv_t_f[k_nt,capa,v2] = P_inv_t_f[k_nt,capa,v1]\n",
    "                        P_inv_t_f[k_nt,capa,v1] = P_invaux1\n",
    "\n",
    "                L_aux = L_wiring(A, P_inv_t_f[k_nt, :,:])\n",
    "                Edges_L = K*sum_numba(L_aux)\n",
    "                Edges_NoL = Edges_sum - Edges_L\n",
    "                overlap_0, overlap_1 = overlap_total_prob(L_aux,A,P_inv_t_f[k_nt,:,:])\n",
    "                Energy_t_f[k_nt] = hamiltonian_prob(Edges_NoL, Edges_L, overlap_0,overlap_1,alpha, beta) \n",
    "                ovlp_t_f0[k_nt] = overlap_0\n",
    "                ovlp_t_f1[k_nt] = overlap_1\n",
    "                L_t_f[k_nt,:, :] = L_aux.copy()\n",
    "\n",
    "    return P_t_f, P_inv_t_f,Energy_t_f, ovlp_t_f0, ovlp_t_f1, L_t_f, posi_unkw"
   ]
  },
  {
   "cell_type": "markdown",
   "id": "d26bc917",
   "metadata": {},
   "source": [
    "# Iteraciones MC"
   ]
  },
  {
   "cell_type": "code",
   "execution_count": 44,
   "id": "20a6fd4f",
   "metadata": {
    "scrolled": true
   },
   "outputs": [
    {
     "name": "stdout",
     "output_type": "stream",
     "text": [
      "Nodos unkwons capa 1:\n",
      "Labels [ 22.  15.  27.  53.  52.  21.  86.  84.  89.  69. 128. 141. 123. 135.\n",
      " 161. 152. 155. 201. 184. 199. 222.]\n",
      "posi [184.  48. 204.  11.  59. 149. 128.  84.  65. 155.  51.  16. 129. 197.\n",
      " 221.  73. 127. 176.  31.  90. 152.]\n",
      "\n",
      "Energía con permutación de media de matrices: 16019.663954670905\n",
      "overlap_0: 192861 /overlap_1: 4653\n",
      "%Overlaps: 98.41059470663265 %\n",
      "\n",
      "Energía inicial: 28530.09081004921\n",
      "\n",
      "Energía INICIAL TRAS WIRING: 30889.573364318123\n",
      "overlaps 0: 193180 1: 340\n",
      "%Overlaps: 96.42059948979592 %\n",
      "\n",
      "Pasos_store 15 //Pasos*runs: 150\n"
     ]
    },
    {
     "name": "stderr",
     "output_type": "stream",
     "text": [
      " 70%|██████████████████████████▌           | 7004/10000 [06:47<02:56, 16.98it/s]"
     ]
    },
    {
     "name": "stdout",
     "output_type": "stream",
     "text": [
      "Step 7000 Energy (temper = 1): 18239.258787870756\n"
     ]
    },
    {
     "name": "stderr",
     "output_type": "stream",
     "text": [
      " 72%|███████████████████████████▍          | 7204/10000 [06:59<02:40, 17.46it/s]"
     ]
    },
    {
     "name": "stdout",
     "output_type": "stream",
     "text": [
      "Step 7200 Energy (temper = 1): 18251.272892540328\n"
     ]
    },
    {
     "name": "stderr",
     "output_type": "stream",
     "text": [
      " 74%|████████████████████████████▏         | 7404/10000 [07:10<02:26, 17.77it/s]"
     ]
    },
    {
     "name": "stdout",
     "output_type": "stream",
     "text": [
      "Step 7400 Energy (temper = 1): 18191.543685349017\n"
     ]
    },
    {
     "name": "stderr",
     "output_type": "stream",
     "text": [
      " 76%|████████████████████████████▉         | 7606/10000 [07:22<02:25, 16.41it/s]"
     ]
    },
    {
     "name": "stdout",
     "output_type": "stream",
     "text": [
      "Step 7600 Energy (temper = 1): 18259.73054753172\n"
     ]
    },
    {
     "name": "stderr",
     "output_type": "stream",
     "text": [
      " 78%|█████████████████████████████▋        | 7804/10000 [07:34<02:13, 16.40it/s]"
     ]
    },
    {
     "name": "stdout",
     "output_type": "stream",
     "text": [
      "Step 7800 Energy (temper = 1): 18199.68255111338\n"
     ]
    },
    {
     "name": "stderr",
     "output_type": "stream",
     "text": [
      " 80%|██████████████████████████████▍       | 8004/10000 [07:47<01:59, 16.64it/s]"
     ]
    },
    {
     "name": "stdout",
     "output_type": "stream",
     "text": [
      "Step 8000 Energy (temper = 1): 18189.78057217451\n"
     ]
    },
    {
     "name": "stderr",
     "output_type": "stream",
     "text": [
      " 82%|███████████████████████████████▏      | 8204/10000 [07:58<01:48, 16.59it/s]"
     ]
    },
    {
     "name": "stdout",
     "output_type": "stream",
     "text": [
      "Step 8200 Energy (temper = 1): 18165.72568217636\n"
     ]
    },
    {
     "name": "stderr",
     "output_type": "stream",
     "text": [
      " 84%|███████████████████████████████▉      | 8404/10000 [08:10<01:30, 17.56it/s]"
     ]
    },
    {
     "name": "stdout",
     "output_type": "stream",
     "text": [
      "Step 8400 Energy (temper = 1): 18207.45412210829\n"
     ]
    },
    {
     "name": "stderr",
     "output_type": "stream",
     "text": [
      " 86%|████████████████████████████████▋     | 8604/10000 [08:21<01:22, 16.84it/s]"
     ]
    },
    {
     "name": "stdout",
     "output_type": "stream",
     "text": [
      "Step 8600 Energy (temper = 1): 18209.185725533127\n"
     ]
    },
    {
     "name": "stderr",
     "output_type": "stream",
     "text": [
      " 88%|█████████████████████████████████▍    | 8804/10000 [08:33<01:06, 17.93it/s]"
     ]
    },
    {
     "name": "stdout",
     "output_type": "stream",
     "text": [
      "Step 8800 Energy (temper = 1): 18215.20466858952\n"
     ]
    },
    {
     "name": "stderr",
     "output_type": "stream",
     "text": [
      " 90%|██████████████████████████████████▏   | 9004/10000 [08:44<01:00, 16.56it/s]"
     ]
    },
    {
     "name": "stdout",
     "output_type": "stream",
     "text": [
      "Step 9000 Energy (temper = 1): 18162.15597247801\n"
     ]
    },
    {
     "name": "stderr",
     "output_type": "stream",
     "text": [
      " 92%|██████████████████████████████████▉   | 9204/10000 [08:56<00:47, 16.80it/s]"
     ]
    },
    {
     "name": "stdout",
     "output_type": "stream",
     "text": [
      "Step 9200 Energy (temper = 1): 18149.801196909262\n"
     ]
    },
    {
     "name": "stderr",
     "output_type": "stream",
     "text": [
      " 94%|███████████████████████████████████▋  | 9404/10000 [09:08<00:34, 17.30it/s]"
     ]
    },
    {
     "name": "stdout",
     "output_type": "stream",
     "text": [
      "Step 9400 Energy (temper = 1): 18144.13021871682\n"
     ]
    },
    {
     "name": "stderr",
     "output_type": "stream",
     "text": [
      " 96%|████████████████████████████████████▍ | 9604/10000 [09:20<00:25, 15.28it/s]"
     ]
    },
    {
     "name": "stdout",
     "output_type": "stream",
     "text": [
      "Step 9600 Energy (temper = 1): 18179.13578976017\n"
     ]
    },
    {
     "name": "stderr",
     "output_type": "stream",
     "text": [
      " 98%|█████████████████████████████████████▎| 9804/10000 [09:32<00:10, 18.11it/s]"
     ]
    },
    {
     "name": "stdout",
     "output_type": "stream",
     "text": [
      "Step 9800 Energy (temper = 1): 18190.076885167175\n"
     ]
    },
    {
     "name": "stderr",
     "output_type": "stream",
     "text": [
      "100%|█████████████████████████████████████| 10000/10000 [09:44<00:00, 17.11it/s]\n",
      " 70%|██████████████████████████▌           | 7004/10000 [06:53<02:53, 17.25it/s]"
     ]
    },
    {
     "name": "stdout",
     "output_type": "stream",
     "text": [
      "Step 7000 Energy (temper = 1): 18322.547074571565\n"
     ]
    },
    {
     "name": "stderr",
     "output_type": "stream",
     "text": [
      " 72%|███████████████████████████▍          | 7204/10000 [07:04<03:04, 15.13it/s]"
     ]
    },
    {
     "name": "stdout",
     "output_type": "stream",
     "text": [
      "Step 7200 Energy (temper = 1): 18362.93232504387\n"
     ]
    },
    {
     "name": "stderr",
     "output_type": "stream",
     "text": [
      " 74%|████████████████████████████▏         | 7404/10000 [07:16<02:28, 17.43it/s]"
     ]
    },
    {
     "name": "stdout",
     "output_type": "stream",
     "text": [
      "Step 7400 Energy (temper = 1): 18350.99089909304\n"
     ]
    },
    {
     "name": "stderr",
     "output_type": "stream",
     "text": [
      " 76%|████████████████████████████▉         | 7604/10000 [07:28<02:27, 16.25it/s]"
     ]
    },
    {
     "name": "stdout",
     "output_type": "stream",
     "text": [
      "Step 7600 Energy (temper = 1): 18328.8910649416\n"
     ]
    },
    {
     "name": "stderr",
     "output_type": "stream",
     "text": [
      " 78%|█████████████████████████████▋        | 7804/10000 [07:40<02:11, 16.65it/s]"
     ]
    },
    {
     "name": "stdout",
     "output_type": "stream",
     "text": [
      "Step 7800 Energy (temper = 1): 18286.505807834175\n"
     ]
    },
    {
     "name": "stderr",
     "output_type": "stream",
     "text": [
      " 80%|██████████████████████████████▍       | 8004/10000 [07:51<01:54, 17.36it/s]"
     ]
    },
    {
     "name": "stdout",
     "output_type": "stream",
     "text": [
      "Step 8000 Energy (temper = 1): 18296.373023825377\n"
     ]
    },
    {
     "name": "stderr",
     "output_type": "stream",
     "text": [
      " 82%|███████████████████████████████▏      | 8206/10000 [08:03<01:43, 17.35it/s]"
     ]
    },
    {
     "name": "stdout",
     "output_type": "stream",
     "text": [
      "Step 8200 Energy (temper = 1): 18259.02791674484\n"
     ]
    },
    {
     "name": "stderr",
     "output_type": "stream",
     "text": [
      " 84%|███████████████████████████████▉      | 8404/10000 [08:15<01:34, 16.85it/s]"
     ]
    },
    {
     "name": "stdout",
     "output_type": "stream",
     "text": [
      "Step 8400 Energy (temper = 1): 18326.787969259116\n"
     ]
    },
    {
     "name": "stderr",
     "output_type": "stream",
     "text": [
      " 86%|████████████████████████████████▋     | 8604/10000 [08:27<01:24, 16.61it/s]"
     ]
    },
    {
     "name": "stdout",
     "output_type": "stream",
     "text": [
      "Step 8600 Energy (temper = 1): 18249.496580150386\n"
     ]
    },
    {
     "name": "stderr",
     "output_type": "stream",
     "text": [
      " 88%|█████████████████████████████████▍    | 8804/10000 [08:38<01:12, 16.47it/s]"
     ]
    },
    {
     "name": "stdout",
     "output_type": "stream",
     "text": [
      "Step 8800 Energy (temper = 1): 18239.60118553717\n"
     ]
    },
    {
     "name": "stderr",
     "output_type": "stream",
     "text": [
      " 90%|██████████████████████████████████▏   | 9006/10000 [08:50<00:56, 17.48it/s]"
     ]
    },
    {
     "name": "stdout",
     "output_type": "stream",
     "text": [
      "Step 9000 Energy (temper = 1): 18177.359114099832\n"
     ]
    },
    {
     "name": "stderr",
     "output_type": "stream",
     "text": [
      " 92%|██████████████████████████████████▉   | 9204/10000 [09:02<00:46, 17.23it/s]"
     ]
    },
    {
     "name": "stdout",
     "output_type": "stream",
     "text": [
      "Step 9200 Energy (temper = 1): 18164.26123095619\n"
     ]
    },
    {
     "name": "stderr",
     "output_type": "stream",
     "text": [
      " 94%|███████████████████████████████████▋  | 9404/10000 [09:13<00:35, 16.90it/s]"
     ]
    },
    {
     "name": "stdout",
     "output_type": "stream",
     "text": [
      "Step 9400 Energy (temper = 1): 18083.842603704266\n"
     ]
    },
    {
     "name": "stderr",
     "output_type": "stream",
     "text": [
      " 96%|████████████████████████████████████▌ | 9606/10000 [09:25<00:22, 17.52it/s]"
     ]
    },
    {
     "name": "stdout",
     "output_type": "stream",
     "text": [
      "Step 9600 Energy (temper = 1): 18121.05698625208\n"
     ]
    },
    {
     "name": "stderr",
     "output_type": "stream",
     "text": [
      " 98%|█████████████████████████████████████▎| 9804/10000 [09:37<00:11, 16.38it/s]"
     ]
    },
    {
     "name": "stdout",
     "output_type": "stream",
     "text": [
      "Step 9800 Energy (temper = 1): 18122.53619222968\n"
     ]
    },
    {
     "name": "stderr",
     "output_type": "stream",
     "text": [
      "100%|█████████████████████████████████████| 10000/10000 [09:48<00:00, 16.99it/s]\n",
      " 70%|██████████████████████████▌           | 7004/10000 [06:58<02:48, 17.78it/s]"
     ]
    },
    {
     "name": "stdout",
     "output_type": "stream",
     "text": [
      "Step 7000 Energy (temper = 1): 18084.54952310807\n"
     ]
    },
    {
     "name": "stderr",
     "output_type": "stream",
     "text": [
      " 72%|███████████████████████████▍          | 7204/10000 [07:09<02:36, 17.89it/s]"
     ]
    },
    {
     "name": "stdout",
     "output_type": "stream",
     "text": [
      "Step 7200 Energy (temper = 1): 18045.844888045292\n"
     ]
    },
    {
     "name": "stderr",
     "output_type": "stream",
     "text": [
      " 74%|████████████████████████████▏         | 7404/10000 [07:20<02:38, 16.35it/s]"
     ]
    },
    {
     "name": "stdout",
     "output_type": "stream",
     "text": [
      "Step 7400 Energy (temper = 1): 18015.418604880993\n"
     ]
    },
    {
     "name": "stderr",
     "output_type": "stream",
     "text": [
      " 76%|████████████████████████████▉         | 7604/10000 [07:32<02:14, 17.87it/s]"
     ]
    },
    {
     "name": "stdout",
     "output_type": "stream",
     "text": [
      "Step 7600 Energy (temper = 1): 18068.59104769637\n"
     ]
    },
    {
     "name": "stderr",
     "output_type": "stream",
     "text": [
      " 78%|█████████████████████████████▋        | 7804/10000 [07:43<02:09, 17.02it/s]"
     ]
    },
    {
     "name": "stdout",
     "output_type": "stream",
     "text": [
      "Step 7800 Energy (temper = 1): 18057.24344705011\n"
     ]
    },
    {
     "name": "stderr",
     "output_type": "stream",
     "text": [
      " 80%|██████████████████████████████▍       | 8004/10000 [07:55<01:51, 17.94it/s]"
     ]
    },
    {
     "name": "stdout",
     "output_type": "stream",
     "text": [
      "Step 8000 Energy (temper = 1): 18073.959772036316\n"
     ]
    },
    {
     "name": "stderr",
     "output_type": "stream",
     "text": [
      " 82%|███████████████████████████████▏      | 8204/10000 [08:06<01:43, 17.42it/s]"
     ]
    },
    {
     "name": "stdout",
     "output_type": "stream",
     "text": [
      "Step 8200 Energy (temper = 1): 18049.650036121493\n"
     ]
    },
    {
     "name": "stderr",
     "output_type": "stream",
     "text": [
      " 84%|███████████████████████████████▉      | 8404/10000 [08:18<01:30, 17.72it/s]"
     ]
    },
    {
     "name": "stdout",
     "output_type": "stream",
     "text": [
      "Step 8400 Energy (temper = 1): 18064.073688038545\n"
     ]
    },
    {
     "name": "stderr",
     "output_type": "stream",
     "text": [
      " 86%|████████████████████████████████▋     | 8604/10000 [08:29<01:28, 15.74it/s]"
     ]
    },
    {
     "name": "stdout",
     "output_type": "stream",
     "text": [
      "Step 8600 Energy (temper = 1): 17965.15526502482\n"
     ]
    },
    {
     "name": "stderr",
     "output_type": "stream",
     "text": [
      " 88%|█████████████████████████████████▍    | 8804/10000 [08:41<01:08, 17.42it/s]"
     ]
    },
    {
     "name": "stdout",
     "output_type": "stream",
     "text": [
      "Step 8800 Energy (temper = 1): 17951.462351427515\n"
     ]
    },
    {
     "name": "stderr",
     "output_type": "stream",
     "text": [
      " 90%|██████████████████████████████████▏   | 9004/10000 [08:53<00:59, 16.73it/s]"
     ]
    },
    {
     "name": "stdout",
     "output_type": "stream",
     "text": [
      "Step 9000 Energy (temper = 1): 17953.75524592326\n"
     ]
    },
    {
     "name": "stderr",
     "output_type": "stream",
     "text": [
      " 92%|██████████████████████████████████▉   | 9204/10000 [09:04<00:45, 17.67it/s]"
     ]
    },
    {
     "name": "stdout",
     "output_type": "stream",
     "text": [
      "Step 9200 Energy (temper = 1): 17957.560921356067\n"
     ]
    },
    {
     "name": "stderr",
     "output_type": "stream",
     "text": [
      " 94%|███████████████████████████████████▋  | 9404/10000 [09:16<00:33, 17.63it/s]"
     ]
    },
    {
     "name": "stdout",
     "output_type": "stream",
     "text": [
      "Step 9400 Energy (temper = 1): 17873.693238362\n"
     ]
    },
    {
     "name": "stderr",
     "output_type": "stream",
     "text": [
      " 96%|████████████████████████████████████▍ | 9604/10000 [09:28<00:22, 17.54it/s]"
     ]
    },
    {
     "name": "stdout",
     "output_type": "stream",
     "text": [
      "Step 9600 Energy (temper = 1): 17933.153064403414\n"
     ]
    },
    {
     "name": "stderr",
     "output_type": "stream",
     "text": [
      " 98%|█████████████████████████████████████▎| 9804/10000 [09:39<00:11, 17.36it/s]"
     ]
    },
    {
     "name": "stdout",
     "output_type": "stream",
     "text": [
      "Step 9800 Energy (temper = 1): 17861.298462648774\n"
     ]
    },
    {
     "name": "stderr",
     "output_type": "stream",
     "text": [
      "100%|█████████████████████████████████████| 10000/10000 [09:51<00:00, 16.91it/s]\n",
      " 70%|██████████████████████████▌           | 7004/10000 [06:49<02:52, 17.35it/s]"
     ]
    },
    {
     "name": "stdout",
     "output_type": "stream",
     "text": [
      "Step 7000 Energy (temper = 1): 17832.35042669395\n"
     ]
    },
    {
     "name": "stderr",
     "output_type": "stream",
     "text": [
      " 72%|███████████████████████████▍          | 7204/10000 [07:00<02:35, 17.98it/s]"
     ]
    },
    {
     "name": "stdout",
     "output_type": "stream",
     "text": [
      "Step 7200 Energy (temper = 1): 17789.66919769319\n"
     ]
    },
    {
     "name": "stderr",
     "output_type": "stream",
     "text": [
      " 74%|████████████████████████████▏         | 7404/10000 [07:11<02:25, 17.83it/s]"
     ]
    },
    {
     "name": "stdout",
     "output_type": "stream",
     "text": [
      "Step 7400 Energy (temper = 1): 17798.800779787278\n"
     ]
    },
    {
     "name": "stderr",
     "output_type": "stream",
     "text": [
      " 76%|████████████████████████████▉         | 7604/10000 [07:22<02:16, 17.55it/s]"
     ]
    },
    {
     "name": "stdout",
     "output_type": "stream",
     "text": [
      "Step 7600 Energy (temper = 1): 17791.190022666102\n"
     ]
    },
    {
     "name": "stderr",
     "output_type": "stream",
     "text": [
      " 78%|█████████████████████████████▋        | 7804/10000 [07:33<01:58, 18.50it/s]"
     ]
    },
    {
     "name": "stdout",
     "output_type": "stream",
     "text": [
      "Step 7800 Energy (temper = 1): 17744.962517062704\n"
     ]
    },
    {
     "name": "stderr",
     "output_type": "stream",
     "text": [
      " 80%|██████████████████████████████▍       | 8004/10000 [07:45<01:54, 17.48it/s]"
     ]
    },
    {
     "name": "stdout",
     "output_type": "stream",
     "text": [
      "Step 8000 Energy (temper = 1): 17750.170084546568\n"
     ]
    },
    {
     "name": "stderr",
     "output_type": "stream",
     "text": [
      " 82%|███████████████████████████████▏      | 8204/10000 [07:56<01:39, 18.07it/s]"
     ]
    },
    {
     "name": "stdout",
     "output_type": "stream",
     "text": [
      "Step 8200 Energy (temper = 1): 17761.260297896675\n"
     ]
    },
    {
     "name": "stderr",
     "output_type": "stream",
     "text": [
      " 84%|███████████████████████████████▉      | 8404/10000 [08:07<01:28, 18.09it/s]"
     ]
    },
    {
     "name": "stdout",
     "output_type": "stream",
     "text": [
      "Step 8400 Energy (temper = 1): 17769.87423745446\n"
     ]
    },
    {
     "name": "stderr",
     "output_type": "stream",
     "text": [
      " 86%|████████████████████████████████▋     | 8604/10000 [08:18<01:17, 18.00it/s]"
     ]
    },
    {
     "name": "stdout",
     "output_type": "stream",
     "text": [
      "Step 8600 Energy (temper = 1): 17742.745834937028\n"
     ]
    },
    {
     "name": "stderr",
     "output_type": "stream",
     "text": [
      " 88%|█████████████████████████████████▍    | 8804/10000 [08:30<01:16, 15.55it/s]"
     ]
    },
    {
     "name": "stdout",
     "output_type": "stream",
     "text": [
      "Step 8800 Energy (temper = 1): 17734.09451294561\n"
     ]
    },
    {
     "name": "stderr",
     "output_type": "stream",
     "text": [
      " 90%|██████████████████████████████████▏   | 9004/10000 [08:41<00:54, 18.40it/s]"
     ]
    },
    {
     "name": "stdout",
     "output_type": "stream",
     "text": [
      "Step 9000 Energy (temper = 1): 17758.74968422713\n"
     ]
    },
    {
     "name": "stderr",
     "output_type": "stream",
     "text": [
      " 92%|██████████████████████████████████▉   | 9204/10000 [08:52<00:44, 17.87it/s]"
     ]
    },
    {
     "name": "stdout",
     "output_type": "stream",
     "text": [
      "Step 9200 Energy (temper = 1): 17751.379993075498\n"
     ]
    },
    {
     "name": "stderr",
     "output_type": "stream",
     "text": [
      " 94%|███████████████████████████████████▋  | 9404/10000 [09:03<00:32, 18.29it/s]"
     ]
    },
    {
     "name": "stdout",
     "output_type": "stream",
     "text": [
      "Step 9400 Energy (temper = 1): 17748.873207677636\n"
     ]
    },
    {
     "name": "stderr",
     "output_type": "stream",
     "text": [
      " 96%|████████████████████████████████████▍ | 9604/10000 [09:14<00:21, 18.21it/s]"
     ]
    },
    {
     "name": "stdout",
     "output_type": "stream",
     "text": [
      "Step 9600 Energy (temper = 1): 17793.155169789963\n"
     ]
    },
    {
     "name": "stderr",
     "output_type": "stream",
     "text": [
      " 98%|█████████████████████████████████████▎| 9804/10000 [09:26<00:11, 17.26it/s]"
     ]
    },
    {
     "name": "stdout",
     "output_type": "stream",
     "text": [
      "Step 9800 Energy (temper = 1): 17689.481085120955\n"
     ]
    },
    {
     "name": "stderr",
     "output_type": "stream",
     "text": [
      "100%|█████████████████████████████████████| 10000/10000 [09:37<00:00, 17.31it/s]\n",
      " 70%|██████████████████████████▌           | 7004/10000 [06:42<02:54, 17.15it/s]"
     ]
    },
    {
     "name": "stdout",
     "output_type": "stream",
     "text": [
      "Step 7000 Energy (temper = 1): 17808.007081626885\n"
     ]
    },
    {
     "name": "stderr",
     "output_type": "stream",
     "text": [
      " 72%|███████████████████████████▍          | 7204/10000 [06:54<02:43, 17.12it/s]"
     ]
    },
    {
     "name": "stdout",
     "output_type": "stream",
     "text": [
      "Step 7200 Energy (temper = 1): 17729.974382288092\n"
     ]
    },
    {
     "name": "stderr",
     "output_type": "stream",
     "text": [
      " 74%|████████████████████████████▏         | 7404/10000 [07:06<02:24, 17.96it/s]"
     ]
    },
    {
     "name": "stdout",
     "output_type": "stream",
     "text": [
      "Step 7400 Energy (temper = 1): 17801.121217794724\n"
     ]
    },
    {
     "name": "stderr",
     "output_type": "stream",
     "text": [
      " 76%|████████████████████████████▉         | 7604/10000 [07:17<02:21, 16.92it/s]"
     ]
    },
    {
     "name": "stdout",
     "output_type": "stream",
     "text": [
      "Step 7600 Energy (temper = 1): 17785.844872202106\n"
     ]
    },
    {
     "name": "stderr",
     "output_type": "stream",
     "text": [
      " 78%|█████████████████████████████▋        | 7804/10000 [07:29<02:08, 17.12it/s]"
     ]
    },
    {
     "name": "stdout",
     "output_type": "stream",
     "text": [
      "Step 7800 Energy (temper = 1): 17768.546581417984\n"
     ]
    },
    {
     "name": "stderr",
     "output_type": "stream",
     "text": [
      " 80%|██████████████████████████████▍       | 8004/10000 [07:40<02:04, 15.98it/s]"
     ]
    },
    {
     "name": "stdout",
     "output_type": "stream",
     "text": [
      "Step 8000 Energy (temper = 1): 17784.20097814031\n"
     ]
    },
    {
     "name": "stderr",
     "output_type": "stream",
     "text": [
      " 82%|███████████████████████████████▏      | 8204/10000 [07:52<01:41, 17.76it/s]"
     ]
    },
    {
     "name": "stdout",
     "output_type": "stream",
     "text": [
      "Step 8200 Energy (temper = 1): 17731.27190335325\n"
     ]
    },
    {
     "name": "stderr",
     "output_type": "stream",
     "text": [
      " 84%|███████████████████████████████▉      | 8404/10000 [08:04<01:30, 17.67it/s]"
     ]
    },
    {
     "name": "stdout",
     "output_type": "stream",
     "text": [
      "Step 8400 Energy (temper = 1): 17719.92484916193\n"
     ]
    },
    {
     "name": "stderr",
     "output_type": "stream",
     "text": [
      " 86%|████████████████████████████████▋     | 8604/10000 [08:15<01:17, 18.03it/s]"
     ]
    },
    {
     "name": "stdout",
     "output_type": "stream",
     "text": [
      "Step 8600 Energy (temper = 1): 17729.236322209006\n"
     ]
    },
    {
     "name": "stderr",
     "output_type": "stream",
     "text": [
      " 88%|█████████████████████████████████▍    | 8804/10000 [08:27<01:11, 16.73it/s]"
     ]
    },
    {
     "name": "stdout",
     "output_type": "stream",
     "text": [
      "Step 8800 Energy (temper = 1): 17754.879133191047\n"
     ]
    },
    {
     "name": "stderr",
     "output_type": "stream",
     "text": [
      " 90%|██████████████████████████████████▏   | 9004/10000 [08:38<00:59, 16.83it/s]"
     ]
    },
    {
     "name": "stdout",
     "output_type": "stream",
     "text": [
      "Step 9000 Energy (temper = 1): 17669.478888075522\n"
     ]
    },
    {
     "name": "stderr",
     "output_type": "stream",
     "text": [
      " 92%|██████████████████████████████████▉   | 9204/10000 [08:50<00:46, 16.96it/s]"
     ]
    },
    {
     "name": "stdout",
     "output_type": "stream",
     "text": [
      "Step 9200 Energy (temper = 1): 17778.452927810198\n"
     ]
    },
    {
     "name": "stderr",
     "output_type": "stream",
     "text": [
      " 94%|███████████████████████████████████▋  | 9404/10000 [09:02<00:32, 18.25it/s]"
     ]
    },
    {
     "name": "stdout",
     "output_type": "stream",
     "text": [
      "Step 9400 Energy (temper = 1): 17709.98758443463\n"
     ]
    },
    {
     "name": "stderr",
     "output_type": "stream",
     "text": [
      " 96%|████████████████████████████████████▍ | 9604/10000 [09:13<00:21, 18.04it/s]"
     ]
    },
    {
     "name": "stdout",
     "output_type": "stream",
     "text": [
      "Step 9600 Energy (temper = 1): 17716.979711674787\n"
     ]
    },
    {
     "name": "stderr",
     "output_type": "stream",
     "text": [
      " 98%|█████████████████████████████████████▎| 9804/10000 [09:25<00:11, 17.55it/s]"
     ]
    },
    {
     "name": "stdout",
     "output_type": "stream",
     "text": [
      "Step 9800 Energy (temper = 1): 17656.98058796791\n"
     ]
    },
    {
     "name": "stderr",
     "output_type": "stream",
     "text": [
      "100%|█████████████████████████████████████| 10000/10000 [09:36<00:00, 17.34it/s]\n",
      " 70%|██████████████████████████▌           | 7006/10000 [06:51<02:52, 17.32it/s]"
     ]
    },
    {
     "name": "stdout",
     "output_type": "stream",
     "text": [
      "Step 7000 Energy (temper = 1): 18643.47939266274\n"
     ]
    },
    {
     "name": "stderr",
     "output_type": "stream",
     "text": [
      " 72%|███████████████████████████▍          | 7204/10000 [07:02<02:43, 17.07it/s]"
     ]
    },
    {
     "name": "stdout",
     "output_type": "stream",
     "text": [
      "Step 7200 Energy (temper = 1): 18642.74048861891\n"
     ]
    },
    {
     "name": "stderr",
     "output_type": "stream",
     "text": [
      " 74%|████████████████████████████▏         | 7404/10000 [07:14<02:31, 17.13it/s]"
     ]
    },
    {
     "name": "stdout",
     "output_type": "stream",
     "text": [
      "Step 7400 Energy (temper = 1): 18671.272146014002\n"
     ]
    },
    {
     "name": "stderr",
     "output_type": "stream",
     "text": [
      " 76%|████████████████████████████▉         | 7604/10000 [07:25<02:20, 17.08it/s]"
     ]
    },
    {
     "name": "stdout",
     "output_type": "stream",
     "text": [
      "Step 7600 Energy (temper = 1): 18680.258233015033\n"
     ]
    },
    {
     "name": "stderr",
     "output_type": "stream",
     "text": [
      " 78%|█████████████████████████████▋        | 7804/10000 [07:37<02:08, 17.07it/s]"
     ]
    },
    {
     "name": "stdout",
     "output_type": "stream",
     "text": [
      "Step 7800 Energy (temper = 1): 18690.019343843574\n"
     ]
    },
    {
     "name": "stderr",
     "output_type": "stream",
     "text": [
      " 80%|██████████████████████████████▍       | 8004/10000 [07:49<01:56, 17.17it/s]"
     ]
    },
    {
     "name": "stdout",
     "output_type": "stream",
     "text": [
      "Step 8000 Energy (temper = 1): 18673.29508899457\n"
     ]
    },
    {
     "name": "stderr",
     "output_type": "stream",
     "text": [
      " 82%|███████████████████████████████▏      | 8204/10000 [08:00<01:46, 16.90it/s]"
     ]
    },
    {
     "name": "stdout",
     "output_type": "stream",
     "text": [
      "Step 8200 Energy (temper = 1): 18653.732062427247\n"
     ]
    },
    {
     "name": "stderr",
     "output_type": "stream",
     "text": [
      " 84%|███████████████████████████████▉      | 8404/10000 [08:12<01:31, 17.37it/s]"
     ]
    },
    {
     "name": "stdout",
     "output_type": "stream",
     "text": [
      "Step 8400 Energy (temper = 1): 18655.894143938167\n"
     ]
    },
    {
     "name": "stderr",
     "output_type": "stream",
     "text": [
      " 86%|████████████████████████████████▋     | 8604/10000 [08:24<01:25, 16.24it/s]"
     ]
    },
    {
     "name": "stdout",
     "output_type": "stream",
     "text": [
      "Step 8600 Energy (temper = 1): 18645.75526262135\n"
     ]
    },
    {
     "name": "stderr",
     "output_type": "stream",
     "text": [
      " 88%|█████████████████████████████████▍    | 8804/10000 [08:35<01:07, 17.70it/s]"
     ]
    },
    {
     "name": "stdout",
     "output_type": "stream",
     "text": [
      "Step 8800 Energy (temper = 1): 18595.414669425016\n"
     ]
    },
    {
     "name": "stderr",
     "output_type": "stream",
     "text": [
      " 90%|██████████████████████████████████▏   | 9004/10000 [08:47<00:58, 17.04it/s]"
     ]
    },
    {
     "name": "stdout",
     "output_type": "stream",
     "text": [
      "Step 9000 Energy (temper = 1): 18626.237580554458\n"
     ]
    },
    {
     "name": "stderr",
     "output_type": "stream",
     "text": [
      " 92%|██████████████████████████████████▉   | 9204/10000 [08:59<00:46, 17.22it/s]"
     ]
    },
    {
     "name": "stdout",
     "output_type": "stream",
     "text": [
      "Step 9200 Energy (temper = 1): 18635.99798409881\n"
     ]
    },
    {
     "name": "stderr",
     "output_type": "stream",
     "text": [
      " 94%|███████████████████████████████████▋  | 9406/10000 [09:11<00:37, 15.85it/s]"
     ]
    },
    {
     "name": "stdout",
     "output_type": "stream",
     "text": [
      "Step 9400 Energy (temper = 1): 18597.581208047734\n"
     ]
    },
    {
     "name": "stderr",
     "output_type": "stream",
     "text": [
      " 96%|████████████████████████████████████▍ | 9604/10000 [09:22<00:23, 17.19it/s]"
     ]
    },
    {
     "name": "stdout",
     "output_type": "stream",
     "text": [
      "Step 9600 Energy (temper = 1): 18502.772719707755\n"
     ]
    },
    {
     "name": "stderr",
     "output_type": "stream",
     "text": [
      " 98%|█████████████████████████████████████▎| 9804/10000 [09:34<00:11, 17.57it/s]"
     ]
    },
    {
     "name": "stdout",
     "output_type": "stream",
     "text": [
      "Step 9800 Energy (temper = 1): 18492.350811246157\n"
     ]
    },
    {
     "name": "stderr",
     "output_type": "stream",
     "text": [
      "100%|█████████████████████████████████████| 10000/10000 [09:45<00:00, 17.08it/s]\n",
      " 70%|██████████████████████████▌           | 7004/10000 [06:32<02:57, 16.84it/s]"
     ]
    },
    {
     "name": "stdout",
     "output_type": "stream",
     "text": [
      "Step 7000 Energy (temper = 1): 18049.354651358328\n"
     ]
    },
    {
     "name": "stderr",
     "output_type": "stream",
     "text": [
      " 72%|███████████████████████████▍          | 7204/10000 [06:43<02:29, 18.69it/s]"
     ]
    },
    {
     "name": "stdout",
     "output_type": "stream",
     "text": [
      "Step 7200 Energy (temper = 1): 18061.031669700445\n"
     ]
    },
    {
     "name": "stderr",
     "output_type": "stream",
     "text": [
      " 74%|████████████████████████████▏         | 7404/10000 [06:54<02:20, 18.44it/s]"
     ]
    },
    {
     "name": "stdout",
     "output_type": "stream",
     "text": [
      "Step 7400 Energy (temper = 1): 18053.449562464106\n"
     ]
    },
    {
     "name": "stderr",
     "output_type": "stream",
     "text": [
      " 76%|████████████████████████████▉         | 7604/10000 [07:05<02:11, 18.21it/s]"
     ]
    },
    {
     "name": "stdout",
     "output_type": "stream",
     "text": [
      "Step 7600 Energy (temper = 1): 18014.581925470935\n"
     ]
    },
    {
     "name": "stderr",
     "output_type": "stream",
     "text": [
      " 78%|█████████████████████████████▋        | 7804/10000 [07:16<01:58, 18.56it/s]"
     ]
    },
    {
     "name": "stdout",
     "output_type": "stream",
     "text": [
      "Step 7800 Energy (temper = 1): 18042.75476989319\n"
     ]
    },
    {
     "name": "stderr",
     "output_type": "stream",
     "text": [
      " 80%|██████████████████████████████▍       | 8004/10000 [07:27<01:49, 18.20it/s]"
     ]
    },
    {
     "name": "stdout",
     "output_type": "stream",
     "text": [
      "Step 8000 Energy (temper = 1): 18045.065798595242\n"
     ]
    },
    {
     "name": "stderr",
     "output_type": "stream",
     "text": [
      " 82%|███████████████████████████████▏      | 8204/10000 [07:39<01:45, 17.02it/s]"
     ]
    },
    {
     "name": "stdout",
     "output_type": "stream",
     "text": [
      "Step 8200 Energy (temper = 1): 18030.558788217946\n"
     ]
    },
    {
     "name": "stderr",
     "output_type": "stream",
     "text": [
      " 84%|███████████████████████████████▉      | 8404/10000 [07:50<01:28, 18.11it/s]"
     ]
    },
    {
     "name": "stdout",
     "output_type": "stream",
     "text": [
      "Step 8400 Energy (temper = 1): 18041.27656830594\n"
     ]
    },
    {
     "name": "stderr",
     "output_type": "stream",
     "text": [
      " 86%|████████████████████████████████▋     | 8604/10000 [08:01<01:17, 18.00it/s]"
     ]
    },
    {
     "name": "stdout",
     "output_type": "stream",
     "text": [
      "Step 8600 Energy (temper = 1): 18016.903402837685\n"
     ]
    },
    {
     "name": "stderr",
     "output_type": "stream",
     "text": [
      " 88%|█████████████████████████████████▍    | 8804/10000 [08:12<01:07, 17.81it/s]"
     ]
    },
    {
     "name": "stdout",
     "output_type": "stream",
     "text": [
      "Step 8800 Energy (temper = 1): 18024.457373791156\n"
     ]
    },
    {
     "name": "stderr",
     "output_type": "stream",
     "text": [
      " 90%|██████████████████████████████████▏   | 9004/10000 [08:23<00:58, 16.99it/s]"
     ]
    },
    {
     "name": "stdout",
     "output_type": "stream",
     "text": [
      "Step 9000 Energy (temper = 1): 18013.117837439153\n"
     ]
    },
    {
     "name": "stderr",
     "output_type": "stream",
     "text": [
      " 92%|██████████████████████████████████▉   | 9204/10000 [08:34<00:45, 17.54it/s]"
     ]
    },
    {
     "name": "stdout",
     "output_type": "stream",
     "text": [
      "Step 9200 Energy (temper = 1): 18003.78761604108\n"
     ]
    },
    {
     "name": "stderr",
     "output_type": "stream",
     "text": [
      " 94%|███████████████████████████████████▋  | 9404/10000 [08:46<00:33, 17.80it/s]"
     ]
    },
    {
     "name": "stdout",
     "output_type": "stream",
     "text": [
      "Step 9400 Energy (temper = 1): 18000.187852057694\n"
     ]
    },
    {
     "name": "stderr",
     "output_type": "stream",
     "text": [
      " 96%|████████████████████████████████████▍ | 9604/10000 [08:57<00:21, 18.01it/s]"
     ]
    },
    {
     "name": "stdout",
     "output_type": "stream",
     "text": [
      "Step 9600 Energy (temper = 1): 17987.24696929328\n"
     ]
    },
    {
     "name": "stderr",
     "output_type": "stream",
     "text": [
      " 98%|█████████████████████████████████████▎| 9804/10000 [09:08<00:10, 18.12it/s]"
     ]
    },
    {
     "name": "stdout",
     "output_type": "stream",
     "text": [
      "Step 9800 Energy (temper = 1): 18013.89962259787\n"
     ]
    },
    {
     "name": "stderr",
     "output_type": "stream",
     "text": [
      "100%|█████████████████████████████████████| 10000/10000 [09:19<00:00, 17.88it/s]\n",
      " 70%|██████████████████████████▌           | 7004/10000 [06:33<02:57, 16.92it/s]"
     ]
    },
    {
     "name": "stdout",
     "output_type": "stream",
     "text": [
      "Step 7000 Energy (temper = 1): 18100.39812212903\n"
     ]
    },
    {
     "name": "stderr",
     "output_type": "stream",
     "text": [
      " 72%|███████████████████████████▍          | 7204/10000 [06:45<02:49, 16.49it/s]"
     ]
    },
    {
     "name": "stdout",
     "output_type": "stream",
     "text": [
      "Step 7200 Energy (temper = 1): 18045.31518561196\n"
     ]
    },
    {
     "name": "stderr",
     "output_type": "stream",
     "text": [
      " 74%|████████████████████████████▏         | 7404/10000 [06:57<02:24, 17.91it/s]"
     ]
    },
    {
     "name": "stdout",
     "output_type": "stream",
     "text": [
      "Step 7400 Energy (temper = 1): 18136.801001178203\n"
     ]
    },
    {
     "name": "stderr",
     "output_type": "stream",
     "text": [
      " 76%|████████████████████████████▉         | 7604/10000 [07:08<02:15, 17.74it/s]"
     ]
    },
    {
     "name": "stdout",
     "output_type": "stream",
     "text": [
      "Step 7600 Energy (temper = 1): 17944.507923111923\n"
     ]
    },
    {
     "name": "stderr",
     "output_type": "stream",
     "text": [
      " 78%|█████████████████████████████▋        | 7806/10000 [07:20<02:02, 17.98it/s]"
     ]
    },
    {
     "name": "stdout",
     "output_type": "stream",
     "text": [
      "Step 7800 Energy (temper = 1): 17982.611970467937\n"
     ]
    },
    {
     "name": "stderr",
     "output_type": "stream",
     "text": [
      " 80%|██████████████████████████████▍       | 8006/10000 [07:31<01:59, 16.63it/s]"
     ]
    },
    {
     "name": "stdout",
     "output_type": "stream",
     "text": [
      "Step 8000 Energy (temper = 1): 17999.949513113002\n"
     ]
    },
    {
     "name": "stderr",
     "output_type": "stream",
     "text": [
      " 82%|███████████████████████████████▏      | 8206/10000 [07:43<01:41, 17.63it/s]"
     ]
    },
    {
     "name": "stdout",
     "output_type": "stream",
     "text": [
      "Step 8200 Energy (temper = 1): 17951.949436689443\n"
     ]
    },
    {
     "name": "stderr",
     "output_type": "stream",
     "text": [
      " 84%|███████████████████████████████▉      | 8404/10000 [07:54<01:32, 17.33it/s]"
     ]
    },
    {
     "name": "stdout",
     "output_type": "stream",
     "text": [
      "Step 8400 Energy (temper = 1): 17965.82669511596\n"
     ]
    },
    {
     "name": "stderr",
     "output_type": "stream",
     "text": [
      " 86%|████████████████████████████████▋     | 8604/10000 [08:06<01:24, 16.42it/s]"
     ]
    },
    {
     "name": "stdout",
     "output_type": "stream",
     "text": [
      "Step 8600 Energy (temper = 1): 18014.893321827585\n"
     ]
    },
    {
     "name": "stderr",
     "output_type": "stream",
     "text": [
      " 88%|█████████████████████████████████▍    | 8804/10000 [08:18<01:10, 16.93it/s]"
     ]
    },
    {
     "name": "stdout",
     "output_type": "stream",
     "text": [
      "Step 8800 Energy (temper = 1): 17975.646818029294\n"
     ]
    },
    {
     "name": "stderr",
     "output_type": "stream",
     "text": [
      " 90%|██████████████████████████████████▏   | 9004/10000 [08:29<00:55, 17.86it/s]"
     ]
    },
    {
     "name": "stdout",
     "output_type": "stream",
     "text": [
      "Step 9000 Energy (temper = 1): 17961.9304146762\n"
     ]
    },
    {
     "name": "stderr",
     "output_type": "stream",
     "text": [
      " 92%|██████████████████████████████████▉   | 9204/10000 [08:41<00:49, 16.09it/s]"
     ]
    },
    {
     "name": "stdout",
     "output_type": "stream",
     "text": [
      "Step 9200 Energy (temper = 1): 17921.437433205516\n"
     ]
    },
    {
     "name": "stderr",
     "output_type": "stream",
     "text": [
      " 94%|███████████████████████████████████▋  | 9404/10000 [08:53<00:32, 18.23it/s]"
     ]
    },
    {
     "name": "stdout",
     "output_type": "stream",
     "text": [
      "Step 9400 Energy (temper = 1): 17967.459562836935\n"
     ]
    },
    {
     "name": "stderr",
     "output_type": "stream",
     "text": [
      " 96%|████████████████████████████████████▍ | 9604/10000 [09:04<00:22, 17.80it/s]"
     ]
    },
    {
     "name": "stdout",
     "output_type": "stream",
     "text": [
      "Step 9600 Energy (temper = 1): 17941.08594283725\n"
     ]
    },
    {
     "name": "stderr",
     "output_type": "stream",
     "text": [
      " 98%|█████████████████████████████████████▏| 9802/10000 [09:16<00:13, 15.09it/s]"
     ]
    },
    {
     "name": "stdout",
     "output_type": "stream",
     "text": [
      "Step 9800 Energy (temper = 1): 17995.302863729354\n"
     ]
    },
    {
     "name": "stderr",
     "output_type": "stream",
     "text": [
      "100%|█████████████████████████████████████| 10000/10000 [09:28<00:00, 17.60it/s]\n",
      " 70%|██████████████████████████▌           | 7004/10000 [06:48<02:52, 17.35it/s]"
     ]
    },
    {
     "name": "stdout",
     "output_type": "stream",
     "text": [
      "Step 7000 Energy (temper = 1): 17988.00303968507\n"
     ]
    },
    {
     "name": "stderr",
     "output_type": "stream",
     "text": [
      " 72%|███████████████████████████▍          | 7204/10000 [06:59<02:47, 16.74it/s]"
     ]
    },
    {
     "name": "stdout",
     "output_type": "stream",
     "text": [
      "Step 7200 Energy (temper = 1): 17976.72271812208\n"
     ]
    },
    {
     "name": "stderr",
     "output_type": "stream",
     "text": [
      " 74%|████████████████████████████▏         | 7404/10000 [07:12<02:48, 15.41it/s]"
     ]
    },
    {
     "name": "stdout",
     "output_type": "stream",
     "text": [
      "Step 7400 Energy (temper = 1): 17920.935528982103\n"
     ]
    },
    {
     "name": "stderr",
     "output_type": "stream",
     "text": [
      " 76%|████████████████████████████▉         | 7604/10000 [07:24<02:23, 16.75it/s]"
     ]
    },
    {
     "name": "stdout",
     "output_type": "stream",
     "text": [
      "Step 7600 Energy (temper = 1): 17986.957954724436\n"
     ]
    },
    {
     "name": "stderr",
     "output_type": "stream",
     "text": [
      " 78%|█████████████████████████████▋        | 7804/10000 [07:36<02:16, 16.13it/s]"
     ]
    },
    {
     "name": "stdout",
     "output_type": "stream",
     "text": [
      "Step 7800 Energy (temper = 1): 17977.11152285691\n"
     ]
    },
    {
     "name": "stderr",
     "output_type": "stream",
     "text": [
      " 80%|██████████████████████████████▍       | 8004/10000 [07:47<02:01, 16.43it/s]"
     ]
    },
    {
     "name": "stdout",
     "output_type": "stream",
     "text": [
      "Step 8000 Energy (temper = 1): 17970.876201502848\n"
     ]
    },
    {
     "name": "stderr",
     "output_type": "stream",
     "text": [
      " 82%|███████████████████████████████▏      | 8204/10000 [07:59<01:47, 16.74it/s]"
     ]
    },
    {
     "name": "stdout",
     "output_type": "stream",
     "text": [
      "Step 8200 Energy (temper = 1): 17979.543950017716\n"
     ]
    },
    {
     "name": "stderr",
     "output_type": "stream",
     "text": [
      " 84%|███████████████████████████████▉      | 8404/10000 [08:11<01:35, 16.64it/s]"
     ]
    },
    {
     "name": "stdout",
     "output_type": "stream",
     "text": [
      "Step 8400 Energy (temper = 1): 18014.00827419031\n"
     ]
    },
    {
     "name": "stderr",
     "output_type": "stream",
     "text": [
      " 86%|████████████████████████████████▋     | 8604/10000 [08:23<01:26, 16.07it/s]"
     ]
    },
    {
     "name": "stdout",
     "output_type": "stream",
     "text": [
      "Step 8600 Energy (temper = 1): 17926.299817205632\n"
     ]
    },
    {
     "name": "stderr",
     "output_type": "stream",
     "text": [
      " 88%|█████████████████████████████████▍    | 8804/10000 [08:35<01:09, 17.28it/s]"
     ]
    },
    {
     "name": "stdout",
     "output_type": "stream",
     "text": [
      "Step 8800 Energy (temper = 1): 17942.52432217014\n"
     ]
    },
    {
     "name": "stderr",
     "output_type": "stream",
     "text": [
      " 90%|██████████████████████████████████▏   | 9004/10000 [08:47<00:59, 16.86it/s]"
     ]
    },
    {
     "name": "stdout",
     "output_type": "stream",
     "text": [
      "Step 9000 Energy (temper = 1): 17935.20168981709\n"
     ]
    },
    {
     "name": "stderr",
     "output_type": "stream",
     "text": [
      " 92%|██████████████████████████████████▉   | 9204/10000 [08:59<00:45, 17.46it/s]"
     ]
    },
    {
     "name": "stdout",
     "output_type": "stream",
     "text": [
      "Step 9200 Energy (temper = 1): 17919.18760994399\n"
     ]
    },
    {
     "name": "stderr",
     "output_type": "stream",
     "text": [
      " 94%|███████████████████████████████████▋  | 9404/10000 [09:11<00:34, 17.17it/s]"
     ]
    },
    {
     "name": "stdout",
     "output_type": "stream",
     "text": [
      "Step 9400 Energy (temper = 1): 17869.083294450727\n"
     ]
    },
    {
     "name": "stderr",
     "output_type": "stream",
     "text": [
      " 96%|████████████████████████████████████▍ | 9604/10000 [09:23<00:24, 15.97it/s]"
     ]
    },
    {
     "name": "stdout",
     "output_type": "stream",
     "text": [
      "Step 9600 Energy (temper = 1): 17970.876201502848\n"
     ]
    },
    {
     "name": "stderr",
     "output_type": "stream",
     "text": [
      " 98%|█████████████████████████████████████▎| 9804/10000 [09:35<00:11, 17.09it/s]"
     ]
    },
    {
     "name": "stdout",
     "output_type": "stream",
     "text": [
      "Step 9800 Energy (temper = 1): 17965.82669511596\n"
     ]
    },
    {
     "name": "stderr",
     "output_type": "stream",
     "text": [
      "100%|█████████████████████████████████████| 10000/10000 [09:46<00:00, 17.04it/s]\n",
      " 70%|██████████████████████████▌           | 7004/10000 [06:52<02:40, 18.61it/s]"
     ]
    },
    {
     "name": "stdout",
     "output_type": "stream",
     "text": [
      "Step 7000 Energy (temper = 1): 17938.393219957812\n"
     ]
    },
    {
     "name": "stderr",
     "output_type": "stream",
     "text": [
      " 72%|███████████████████████████▍          | 7204/10000 [07:03<02:39, 17.49it/s]"
     ]
    },
    {
     "name": "stdout",
     "output_type": "stream",
     "text": [
      "Step 7200 Energy (temper = 1): 17867.43841260828\n"
     ]
    },
    {
     "name": "stderr",
     "output_type": "stream",
     "text": [
      " 74%|████████████████████████████▏         | 7404/10000 [07:15<02:24, 17.97it/s]"
     ]
    },
    {
     "name": "stdout",
     "output_type": "stream",
     "text": [
      "Step 7400 Energy (temper = 1): 17857.580868034238\n"
     ]
    },
    {
     "name": "stderr",
     "output_type": "stream",
     "text": [
      " 76%|████████████████████████████▉         | 7604/10000 [07:26<02:16, 17.61it/s]"
     ]
    },
    {
     "name": "stdout",
     "output_type": "stream",
     "text": [
      "Step 7600 Energy (temper = 1): 17871.974113630196\n"
     ]
    },
    {
     "name": "stderr",
     "output_type": "stream",
     "text": [
      " 78%|█████████████████████████████▋        | 7804/10000 [07:37<02:05, 17.47it/s]"
     ]
    },
    {
     "name": "stdout",
     "output_type": "stream",
     "text": [
      "Step 7800 Energy (temper = 1): 17838.478275255053\n"
     ]
    },
    {
     "name": "stderr",
     "output_type": "stream",
     "text": [
      " 80%|██████████████████████████████▍       | 8004/10000 [07:48<01:45, 18.86it/s]"
     ]
    },
    {
     "name": "stdout",
     "output_type": "stream",
     "text": [
      "Step 8000 Energy (temper = 1): 17890.351811262342\n"
     ]
    },
    {
     "name": "stderr",
     "output_type": "stream",
     "text": [
      " 82%|███████████████████████████████▏      | 8204/10000 [07:59<01:38, 18.15it/s]"
     ]
    },
    {
     "name": "stdout",
     "output_type": "stream",
     "text": [
      "Step 8200 Energy (temper = 1): 17869.931899770236\n"
     ]
    },
    {
     "name": "stderr",
     "output_type": "stream",
     "text": [
      " 84%|███████████████████████████████▉      | 8404/10000 [08:10<01:24, 18.78it/s]"
     ]
    },
    {
     "name": "stdout",
     "output_type": "stream",
     "text": [
      "Step 8400 Energy (temper = 1): 17824.200740393157\n"
     ]
    },
    {
     "name": "stderr",
     "output_type": "stream",
     "text": [
      " 86%|████████████████████████████████▋     | 8604/10000 [08:21<01:17, 18.00it/s]"
     ]
    },
    {
     "name": "stdout",
     "output_type": "stream",
     "text": [
      "Step 8600 Energy (temper = 1): 17843.97649841159\n"
     ]
    },
    {
     "name": "stderr",
     "output_type": "stream",
     "text": [
      " 88%|█████████████████████████████████▍    | 8804/10000 [08:31<01:03, 18.76it/s]"
     ]
    },
    {
     "name": "stdout",
     "output_type": "stream",
     "text": [
      "Step 8800 Energy (temper = 1): 17758.818034355907\n"
     ]
    },
    {
     "name": "stderr",
     "output_type": "stream",
     "text": [
      " 90%|██████████████████████████████████▏   | 9004/10000 [08:42<00:53, 18.66it/s]"
     ]
    },
    {
     "name": "stdout",
     "output_type": "stream",
     "text": [
      "Step 9000 Energy (temper = 1): 17844.031894449305\n"
     ]
    },
    {
     "name": "stderr",
     "output_type": "stream",
     "text": [
      " 92%|██████████████████████████████████▉   | 9204/10000 [08:53<00:42, 18.85it/s]"
     ]
    },
    {
     "name": "stdout",
     "output_type": "stream",
     "text": [
      "Step 9200 Energy (temper = 1): 17801.121217794724\n"
     ]
    },
    {
     "name": "stderr",
     "output_type": "stream",
     "text": [
      " 94%|███████████████████████████████████▋  | 9404/10000 [09:04<00:31, 18.72it/s]"
     ]
    },
    {
     "name": "stdout",
     "output_type": "stream",
     "text": [
      "Step 9400 Energy (temper = 1): 17801.897786038382\n"
     ]
    },
    {
     "name": "stderr",
     "output_type": "stream",
     "text": [
      " 96%|████████████████████████████████████▍ | 9604/10000 [09:15<00:22, 17.45it/s]"
     ]
    },
    {
     "name": "stdout",
     "output_type": "stream",
     "text": [
      "Step 9600 Energy (temper = 1): 17759.838437308586\n"
     ]
    },
    {
     "name": "stderr",
     "output_type": "stream",
     "text": [
      " 98%|█████████████████████████████████████▎| 9804/10000 [09:26<00:10, 18.40it/s]"
     ]
    },
    {
     "name": "stdout",
     "output_type": "stream",
     "text": [
      "Step 9800 Energy (temper = 1): 17752.640713205197\n"
     ]
    },
    {
     "name": "stderr",
     "output_type": "stream",
     "text": [
      "100%|█████████████████████████████████████| 10000/10000 [09:37<00:00, 17.32it/s]"
     ]
    },
    {
     "name": "stdout",
     "output_type": "stream",
     "text": [
      "Elapsed (after compilation) = 5796.3018708229065\n",
      "Energía final: [21772.25247843 18194.22151488 17922.38485641 17852.56001629\n",
      " 17744.4844154  17727.6984098  17742.74583494 17637.52612377\n",
      " 17382.07500758 17321.74986784 17310.34293953 17232.6240817\n",
      " 17226.70545869 17138.92336333 16723.23897064] Calculada: [21772.25247843 18194.22151488 17922.38485641 17852.56001629\n",
      " 17744.4844154  17727.6984098  17742.74583494 17637.52612377\n",
      " 17382.07500758 17321.74986784 17310.34293953 17232.6240817\n",
      " 17226.70545869 17138.92336333 16723.23897064]\n",
      "overlaps_0: 192716 overlap_1: 3268 %overlaps totales: 97.64827806122449 %\n"
     ]
    },
    {
     "name": "stderr",
     "output_type": "stream",
     "text": [
      "\n"
     ]
    }
   ],
   "source": [
    "parejas = 0 # Para saber si coger parejas o no\n",
    "fijado = 0 # Para saber si fijar la primera red o no\n",
    "print('Nodos unkwons capa 1:')\n",
    "print('Labels', labels_unkwons_ini_t[-1,1,:])\n",
    "print('posi', posi_unkwons_ini_t[-1,1,:])\n",
    "\n",
    "print()\n",
    "\n",
    "P_new, P_inv_new = np.zeros((K,Nx)),np.zeros((K,Nx))\n",
    "for k in range(0,K):\n",
    "    for i in range(0,Nx):\n",
    "        P_new[k,i]=i \n",
    "        P_inv_new[k,i]=i            \n",
    "L_new = np.zeros((Nx,Ny)) #La propuesta de cambio\n",
    "L_new =  L_wiring(A, P_inv_new)\n",
    "\n",
    "Edges_sum = K*Nx*Nx\n",
    "Edges_L = K*(sum(sum(L_new))) # Los edges=1 que tiene la matriz A\n",
    "Edges_NoL = Edges_sum - Edges_L #Los edges=0 que tiene la matriz A\n",
    "overlap_0, overlap_1 = overlap_total_prob(L_new,A,P_inv_new)     \n",
    "Energy_new = hamiltonian_prob(Edges_NoL, Edges_L, overlap_0, overlap_1, alpha, beta)\n",
    "print('Energía con permutación de media de matrices:', Energy_new)\n",
    "print( 'overlap_0:', overlap_0,'/overlap_1:', overlap_1)\n",
    "print('%Overlaps:',100*(overlap_0+overlap_1)/Edges_sum ,'%')\n",
    "E_gs = Energy_new\n",
    "# Nuestro problema\n",
    "ovlp_ini0, ovlp_ini1 = overlap_total_prob(L_ini,A,P_inv_ini_0)\n",
    "\n",
    "# METIENDO LAS TEMPERATURAS\n",
    "ovlp_ini0_t = np.zeros((N_t)) + ovlp_ini0\n",
    "ovlp_ini1_t = np.zeros((N_t)) + ovlp_ini1\n",
    "ovlp_ini0_t, ovlp_ini1_t = ovlp_ini0_t.astype(int), ovlp_ini1_t.astype(int)\n",
    "\n",
    "P_t = np.zeros((N_t,K,Nx))\n",
    "P_inv_t = np.zeros((N_t,K,Nx))\n",
    "L_t = np.zeros((N_t,Nx, Ny))\n",
    "Energy_t, Energy_ini_t = np.zeros((N_t)), np.zeros((N_t))\n",
    "Edges_L_t, Edges_NoL_t = np.zeros((N_t)), np.zeros((N_t))\n",
    "posi_unkwons_t , labels_unkwons_t = np.zeros((N_t,K,max_num)), np.zeros((N_t,K,max_num))\n",
    "groups_t = np.zeros((N_t, K, Nx))\n",
    "vector_unkwn_t = np.zeros((N_t, Nx))\n",
    "\n",
    "# Inicializamos\n",
    "L_label_t = L_label_ini_t.copy()\n",
    "ovlp_t0, ovlp_t1 = np.zeros((N_t)) + ovlp_ini0, np.zeros((N_t)) + ovlp_ini1\n",
    "P_t = (P_ini_t).copy()\n",
    "P_inv_t = (P_inv_ini_t).copy()\n",
    "L_t = (L_ini_t).copy()\n",
    "posi_unkwons_t , labels_unkwons_t = posi_unkwons_ini_t.copy() , labels_unkwons_ini_t.copy()\n",
    "groups_t = groups_ini_t.copy()\n",
    "vector_unkwn_t = vector_unkwn_ini_t.copy()\n",
    "#Convertirlos en enteros\n",
    "ovlp_t0, ovlp_t1 = ovlp_t0.astype(int), ovlp_t1.astype(int)\n",
    "P_t = P_t.astype(int)\n",
    "P_inv_t = P_inv_t.astype(int)\n",
    "L_t = L_t.astype(int)\n",
    "posi_unkwons_t , labels_unkwons_t = posi_unkwons_t.astype(int) , labels_unkwons_t.astype(int)\n",
    "groups_t = groups_t.astype(int)\n",
    "vector_unkwn_t = vector_unkwn_t.astype(int)\n",
    "\n",
    "## Vamos a guardar las aceptaciones\n",
    "Edges_L = K*sum(sum(L_ini))\n",
    "Edges_NoL = Edges_sum - Edges_L            \n",
    "Energy_ini = hamiltonian_prob(Edges_NoL, Edges_L, ovlp_ini0, ovlp_ini1 ,alpha, beta)\n",
    "Energy_ini_t = np.zeros((N_t))+ Energy_ini \n",
    "print()\n",
    "print('Energía inicial:', Energy_ini)\n",
    "print()\n",
    "\n",
    "\n",
    "#######################################\n",
    "start = time.time()\n",
    "count_mc = 0\n",
    "#### Bloque del wiring\n",
    "for k_nt in range(N_t):\n",
    "    L_t[k_nt,:,:] =  L_wiring(A, P_inv_t[k_nt,:,:])\n",
    "    Edges_L_t[k_nt] = K*sum(sum(L_t[k_nt,:,:]))\n",
    "    Edges_NoL_t[k_nt] = Edges_sum - Edges_L_t[k_nt]\n",
    "    overlap_0, overlap_1 = overlap_total_prob(L_t[k_nt,:,:],A,P_inv_t[k_nt,:,:])\n",
    "    Energy_t[k_nt] = hamiltonian_prob(Edges_NoL_t[k_nt], Edges_L_t[k_nt], overlap_0, overlap_1,alpha, beta)\n",
    "    ovlp_t0[k_nt], ovlp_t1[k_nt] = overlap_0, overlap_1\n",
    "#####\n",
    "print('Energía INICIAL TRAS WIRING:', Energy_t[0]) \n",
    "print('overlaps 0:', ovlp_t0[0], '1:', ovlp_t1[0])\n",
    "print('%Overlaps:',100*(ovlp_t0[0] + ovlp_t1[0])/Edges_sum ,'%')\n",
    "\n",
    "print()\n",
    "Energy_ini_wiring = Energy_t.copy()\n",
    "############################################ MONTE CARLO\n",
    "#Guardamos la energía\n",
    "runs = 10#17\n",
    "PasosMC = 10000\n",
    "energies_pasos = np.zeros((runs,N_t,PasosMC))\n",
    "energies_pasos[0,:,0] = Energy_ini_wiring\n",
    "count_parallel, count_unl = 0, 0\n",
    "\n",
    "# Guardamos configuraciones\n",
    "Long_corr = 200\n",
    "Pasos_corr = 7000\n",
    "Pasos_store = int((PasosMC - Pasos_corr)/Long_corr)\n",
    "if (Pasos_store<0):\n",
    "    Pasos_store = 0\n",
    "\n",
    "print('Pasos_store', Pasos_store, '//Pasos*runs:', Pasos_store*runs)\n",
    "\n",
    "\n",
    "count_long, i_long = 0, 0 \n",
    "P_store = np.zeros((runs,Pasos_store,N_t, K, Nx))\n",
    "Energy_store = np.zeros((runs,Pasos_store, N_t))\n",
    "posi_store = np.zeros((runs,Pasos_store, N_t, K, max_num))\n",
    "vector_unkwn_store = np.zeros((runs,Pasos_store, N_t, Nx))\n",
    "groups_store = np.zeros((runs,Pasos_store, N_t,K,Nx))\n",
    "\n",
    "i_count_micro,i_count_micro2 = 0,0\n",
    "\n",
    "P_intermediate_shot = np.zeros((2,N_t,K,Nx))\n",
    "E_intermediate_shot = np.zeros((2,N_t))\n",
    "steps_middle_0 = 50\n",
    "steps_middle_1 = 100\n",
    "\n",
    "suma_L_t = np.zeros(N_t)\n",
    "for k_nt in range(N_t):\n",
    "    suma_L_t[k_nt] = sum_numba(L_t[k_nt,:,:])\n",
    "########################################################\n",
    "\n",
    "\n",
    "\n",
    "L_run, Edges_L_run, Edges_noL_run, ov0_run, ov1_run, E_run, suma_run, P_run, P_inv_run = L_t.copy(), Edges_L_t.copy(), Edges_NoL_t.copy(), ovlp_t0.copy(), ovlp_t1.copy(), Energy_t.copy(), suma_L_t.copy(),P_t.copy(), P_inv_t.copy()\n",
    "Edges_L_run, Edges_noL_run, ov0_run, ov1_run = Edges_L_run.astype(int), Edges_noL_run.astype(int), ov0_run.astype(int), ov1_run.astype(int)\n",
    "posi_unkwons_run, groups_run,  vector_unkwn_run = posi_unkwons_t.copy(), groups_t.copy(),  vector_unkwn_t.copy()\n",
    "for i_epoch in range(runs):\n",
    "    L_t, ovlp_t0, ovlp_t1, Energy_t,suma_L_t,P_t, P_inv_t = L_run.copy(), ov0_run.copy(), ov1_run.copy(), E_run.copy(), suma_run.copy(), P_run.copy(), P_inv_run.copy()\n",
    "    posi_unkwons_t, groups_t,  vector_unkwn_t = posi_unkwons_run.copy(), groups_run.copy(),  vector_unkwn_run.copy()\n",
    "    i_long ,count_long= 0,0\n",
    "    c_accep, c_odd, c_rounds = 0,0,0\n",
    "    m_old, round_trip_old = 0,1\n",
    "\n",
    "\n",
    "    for i_mc in tqdm(range(0,PasosMC)):\n",
    "        ### GUARDAR CONFIGURACIONES\n",
    "        if (i_mc > Pasos_corr-Long_corr):\n",
    "            count_long += 1\n",
    "            if (count_long == Long_corr):\n",
    "                count_long = 0\n",
    "                P_store[i_epoch,i_long,:,:,:] = P_inv_t.copy()\n",
    "                Energy_store[i_epoch,i_long,:] = Energy_t.copy()\n",
    "                vector_unkwn_store[i_epoch,i_long, :,:] = vector_unkwn_t.copy()\n",
    "                posi_store[i_epoch,i_long,:,:,:] = posi_unkwons_t.copy()\n",
    "                groups_store[i_epoch,i_long, :,:] = groups_t.copy()\n",
    "                i_long += 1\n",
    "                print('Step', i_mc, 'Energy (temper = 1):', Energy_t[4])\n",
    "        ### FIN GUARDAR CONFIGURACIONES \n",
    "        ### FIN GUARDAR CONFIGURACIONES \n",
    "        \n",
    "        if (i_mc == steps_middle_0 ):\n",
    "            P_intermediate_shot[0,:,:,:] = P_t.copy()\n",
    "            E_intermediate_shot[0,:] = Energy_t.copy()\n",
    "            \n",
    "        if (i_mc == steps_middle_1 ):\n",
    "            P_intermediate_shot[1,:,:,:] = P_t.copy()\n",
    "            E_intermediate_shot[1,:] = Energy_t.copy()\n",
    "            \n",
    "            \n",
    "            \n",
    "        energies_pasos[i_epoch,:, i_mc] = Energy_t[:]\n",
    "        count_mc += 1\n",
    "#         print('****')\n",
    "#         print(L_label_t)\n",
    "        for i_micro in range(Nx):#Nx):\n",
    "            i_count_micro += 1\n",
    "            i_count_micro2 += 1\n",
    "            \n",
    "            tempers_loop, tempers_odd_loop, tempers_even_loop =  tempers,tempers_odd, tempers_even\n",
    "            tempers_odd_loop, tempers_even_loop =  tempers_odd_loop.astype(int), tempers_even_loop.astype(int)\n",
    "            count_parallel,count_unl,P_t, P_inv_t, Energy_t, ovlp_t0, ovlp_t1, L_t,posi_unkwons_t, groups_t,  vector_unkwn_t,suma_L_t,c_accep, c_odd, m_old, round_trip_old, c_rounds = parallel_L_unknwn_change_groups( count_parallel,count_unl,alpha,beta,fijado,groups_t,n_groups, start_groups, \n",
    "                                                                                                     end_groups, posi_unkwons_t, labels_unkwons_t, vector_unkwn_t, A, P_t, P_inv_t, L_t,suma_L_t, Energy_t, ovlp_t0, \n",
    "                                                                                                     ovlp_t1,tempers_loop, tempers_odd_loop, tempers_even_loop,c_accep, c_odd, m_old, round_trip_old, c_rounds)\n",
    "\n",
    "          \n",
    "            if (i_count_micro == 50):\n",
    "                i_count_micro = 0\n",
    "                P_t, P_inv_t,Energy_t, ovlp_t0, ovlp_t1, L_t, posi_unkwons_t =  change_unlabels_gibbs_1knwon(groups_t,n_groups, posi_unkwons_t,labels_unkwons_t, vector_unkwn_t, A, P_t, P_inv_t,  L_t, Energy_t,\n",
    "                                                                                            ovlp_t0, ovlp_t1, tempers, i_mc)\n",
    "                for k_nt in range(N_t):\n",
    "                    suma_L_t[k_nt] = sum_numba(L_t[k_nt,:,:])\n",
    "                                                                                                         \n",
    "end = time.time()\n",
    "\n",
    "print(\"Elapsed (after compilation) = %s\" % (end - start))  \n",
    "\n",
    "Energy_calculada = np.zeros((N_t))\n",
    "for k_nt in range(N_t):\n",
    "    Edges_L= K*sum(sum(L_t[k_nt,:,:]))\n",
    "    Edges_NoL = Edges_sum - Edges_L\n",
    "#     print('Para t=', tempers[k_nt], 'Edges_L', Edges_L)\n",
    "    overlap_0, overlap_1 = overlap_total_prob(L_t[k_nt,:,:],A,P_inv_t[k_nt,:,:])\n",
    "    Energy_calculada[k_nt] = hamiltonian_prob(Edges_NoL, Edges_L, overlap_0,overlap_1,alpha, beta)\n",
    "    \n",
    "print('Energía final:', Energy_t, 'Calculada:', Energy_calculada) \n",
    "print('overlaps_0:', ovlp_t0[0], 'overlap_1:', ovlp_t1[0], '%overlaps totales:', 100*(ovlp_t0[0] + ovlp_t1[0])/Edges_sum ,'%')\n",
    "\n",
    "\n",
    "# print('Nodos unkwons finales:')\n",
    "# print('labels',labels_unkwons_t[-1,:,:])\n",
    "# print('posi',posi_unkwons_t[-1,:,:])"
   ]
  },
  {
   "cell_type": "code",
   "execution_count": 45,
   "id": "11fca3e7-ce54-4a1d-9141-f94593264ffe",
   "metadata": {},
   "outputs": [],
   "source": [
    "d_s = {}\n",
    "d_s[\"P_sto\"] = P_store\n",
    "d_s[\"E_sto\"] = Energy_store\n",
    "d_s[\"start_groups\"] = start_groups\n",
    "d_s[\"end_groups\"] = end_groups\n",
    "d_s[\"Datos_energy\"] = energies_pasos\n",
    "d_s[\"E_groundtruth\"] = E_gs\n",
    "d_s[\"Pasos_corr_ini\"] = Pasos_corr  \n",
    "d_s[\"Step_corr\"] = Long_corr  \n",
    "d_s[\"temper\"] = tempers\n",
    "d_s[\"groups\"] = groups_store\n",
    "d_s[\"labels_unkwn\"] = labels_unkwons_t\n",
    "d_s[\"posisstore_unkwn\"] = posi_store\n",
    "d_s[\"num\"] = num\n",
    "d_s[\"vector\"] = vector_unkwn_store\n",
    "\n",
    "file_name = \"unkwon_C_elegans_groups_dif_L2_final.pickle\"\n",
    "with open(file_name, \"wb\") as file:  # \"wb\" means \"write in binary mode\"\n",
    "    pickle.dump(d_s, file)"
   ]
  },
  {
   "cell_type": "code",
   "execution_count": null,
   "id": "b6003849-a924-40a1-9742-7333e1a00eaf",
   "metadata": {},
   "outputs": [],
   "source": [
    "labels_unkwons_t[-1,:,:]"
   ]
  },
  {
   "cell_type": "code",
   "execution_count": 46,
   "id": "d9139c11-2ef4-4b30-88b7-a04edeb03e1c",
   "metadata": {},
   "outputs": [
    {
     "data": {
      "text/plain": [
       "array([[[  2.,  39.,  28., ..., 223., 214., 218.],\n",
       "        [  2., 113., 138., ..., 198., 156., 139.],\n",
       "        [  3., 114., 124., ..., 220., 223., 142.],\n",
       "        [  2., 109.,  50., ..., 217., 133., 113.]],\n",
       "\n",
       "       [[ 37.,  10.,  62., ..., 212., 215., 223.],\n",
       "        [ 41.,  10.,  43., ..., 162., 214., 219.],\n",
       "        [ 41.,  10.,  43., ..., 219., 215., 212.],\n",
       "        [ 42.,  10.,  44., ..., 213., 220., 222.]],\n",
       "\n",
       "       [[ 11.,   5.,  51., ..., 222., 217., 215.],\n",
       "        [ 12.,   4.,  51., ..., 168., 216., 212.],\n",
       "        [ 12.,   4.,  53., ..., 218., 216., 215.],\n",
       "        [ 11.,   5.,  52., ..., 220., 217., 215.]],\n",
       "\n",
       "       ...,\n",
       "\n",
       "       [[ 61.,  39.,  21., ..., 216., 223., 215.],\n",
       "        [ 62.,  40.,  21., ..., 156., 220., 215.],\n",
       "        [ 62.,  40.,  22., ..., 215., 220., 214.],\n",
       "        [ 61.,  39.,  21., ..., 215., 219., 223.]],\n",
       "\n",
       "       [[ 60.,  23.,   9., ..., 221., 214., 217.],\n",
       "        [ 60.,  23.,   9., ..., 170., 213., 217.],\n",
       "        [ 59.,  24.,   8., ..., 222., 213., 216.],\n",
       "        [ 60.,  23.,   9., ..., 221., 215., 217.]],\n",
       "\n",
       "       [[ 60.,  52.,  34., ..., 212., 219., 216.],\n",
       "        [ 60.,  52.,  34., ..., 169., 222., 216.],\n",
       "        [ 59.,  51.,  34., ..., 212., 220., 215.],\n",
       "        [ 59.,  51.,  34., ..., 214., 218., 217.]]])"
      ]
     },
     "execution_count": 46,
     "metadata": {},
     "output_type": "execute_result"
    }
   ],
   "source": [
    "P_store[-1,-1,:,:10]"
   ]
  },
  {
   "cell_type": "code",
   "execution_count": null,
   "id": "ddd2a37e-b939-4c7f-a7c9-1ba75df7b6df",
   "metadata": {},
   "outputs": [],
   "source": []
  },
  {
   "cell_type": "code",
   "execution_count": null,
   "id": "ec145403-3a8d-4224-b4ec-86fb695e294a",
   "metadata": {},
   "outputs": [],
   "source": []
  },
  {
   "cell_type": "code",
   "execution_count": 218,
   "id": "6c25c16d",
   "metadata": {},
   "outputs": [
    {
     "data": {
      "image/png": "[encoded data removed]",
      "text/plain": [
       "<Figure size 640x480 with 1 Axes>"
      ]
     },
     "metadata": {},
     "output_type": "display_data"
    }
   ],
   "source": [
    "x=np.arange(PasosMC)\n",
    "for k_nt in range(0,N_t):\n",
    "    energies_pasos_temper = energies_pasos[0,k_nt,:] \n",
    "    plt.plot(x,energies_pasos_temper,'.',label='%s temper' % tempers[k_nt])\n",
    "    plt.xlabel('iteration')\n",
    "    plt.ylabel('Energy per node')\n",
    "# plt.legend()"
   ]
  },
  {
   "cell_type": "code",
   "execution_count": null,
   "id": "8b9f6208",
   "metadata": {},
   "outputs": [],
   "source": [
    "runs"
   ]
  },
  {
   "cell_type": "code",
   "execution_count": null,
   "id": "7efcd1e7",
   "metadata": {},
   "outputs": [],
   "source": []
  },
  {
   "cell_type": "code",
   "execution_count": null,
   "id": "b39ede02-205b-46f3-8743-153cf84f386a",
   "metadata": {},
   "outputs": [],
   "source": []
  },
  {
   "cell_type": "code",
   "execution_count": null,
   "id": "86f13d2f-72bb-441a-9a31-0b867f4f105c",
   "metadata": {},
   "outputs": [],
   "source": []
  },
  {
   "cell_type": "code",
   "execution_count": null,
   "id": "eb355700-3122-45e8-9e4c-ca58bd0933e2",
   "metadata": {},
   "outputs": [],
   "source": []
  }
 ],
 "metadata": {
  "kernelspec": {
   "display_name": "Python 3 (ipykernel)",
   "language": "python",
   "name": "python3"
  },
  "language_info": {
   "codemirror_mode": {
    "name": "ipython",
    "version": 3
   },
   "file_extension": ".py",
   "mimetype": "text/x-python",
   "name": "python",
   "nbconvert_exporter": "python",
   "pygments_lexer": "ipython3",
   "version": "3.10.12"
  }
 },
 "nbformat": 4,
 "nbformat_minor": 5
}
