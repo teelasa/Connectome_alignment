{
 "cells": [
  {
   "cell_type": "markdown",
   "id": "15283d4d-e5be-4d54-a8d7-66933ff1737c",
   "metadata": {},
   "source": [
    "## Study the dependency on the error\n",
    "\n",
    "In this case we have delete the nodes without connections"
   ]
  },
  {
   "cell_type": "code",
   "execution_count": 1,
   "id": "682a9df1-3f90-4bdd-b571-fdd80db223a2",
   "metadata": {},
   "outputs": [],
   "source": [
    "import itertools\n",
    "import pickle\n",
    "import matplotlib.pyplot as plt\n",
    "import numpy as np\n",
    "import math\n",
    "import random\n",
    "import os\n",
    "import time\n",
    "from numba import jit, njit\n",
    "from numba.types import bool_, int_, float32\n",
    "from math import comb\n",
    "from copy import deepcopy\n",
    "from tqdm import tqdm\n",
    "import networkx as nx\n",
    "import pandas as pd\n",
    "from collections import defaultdict\n",
    "from itertools import permutations"
   ]
  },
  {
   "cell_type": "markdown",
   "id": "a25e3c80-aedb-48ae-b17d-79149eff5872",
   "metadata": {},
   "source": [
    "### DataSet and Group information"
   ]
  },
  {
   "cell_type": "code",
   "execution_count": 2,
   "id": "1cac2d58-276e-4e17-b346-df32b8dcb3b0",
   "metadata": {},
   "outputs": [
    {
     "name": "stdout",
     "output_type": "stream",
     "text": [
      "[0.0, 0.1, 0.2, 0.3, 0.4, 0.5, 0.6]\n",
      "N_probs, N_reps 7 10\n"
     ]
    }
   ],
   "source": [
    "with open(\"def_Celegans_2syn_layers_219_cluster.pkl\", 'rb') as file:\n",
    "    Celegans_syn_layers = pickle.load(file)\n",
    "\n",
    "K = 2\n",
    "dic_A = Celegans_syn_layers\n",
    "probs = list(dic_A.keys())\n",
    "print(probs)\n",
    "N_probs = len(probs)\n",
    "N_reps = dic_A[probs[0]].shape[0]\n",
    "start_groups = np.array([0,65,109,151,180,212])\n",
    "end_groups = np.array([65,109,151,180,212,219])\n",
    "n_groups = len(start_groups)\n",
    "\n",
    "Nx = len(dic_A[probs[0]][0,0,0,:])\n",
    "print('N_probs, N_reps', N_probs, N_reps)"
   ]
  },
  {
   "cell_type": "markdown",
   "id": "296a25f4-4efa-431e-953f-0643d27e07a8",
   "metadata": {},
   "source": [
    "## Functions"
   ]
  },
  {
   "cell_type": "code",
   "execution_count": 3,
   "id": "0e103f33-d366-471f-8e7e-de1b229dc1ee",
   "metadata": {},
   "outputs": [],
   "source": [
    "@jit(nopython=True)\n",
    "def overlap_total_change_filas(m1,L_f_v1v2_old,L_c_v1v2_old,L_f_v1v2,L_c_v1v2,A_f, P_inv_old, i_change, j_change,pp1, pp2): \n",
    "\n",
    "    Nx = L_f_v1v2_old.shape[1]\n",
    "    K = A_f.shape[0]\n",
    "    \n",
    "    ovlp_0_new , ovlp_1_new = 0,0\n",
    "    ovlp_0_old , ovlp_1_old = 0,0\n",
    "    ovlp_0_dif, ovlp_1_dif = 0,0\n",
    "  \n",
    "    #old and new: changes and mapping changes\n",
    "    changes = np.array([i_change, j_change], dtype = np.int32)\n",
    "    changes_p = np.array([pp1, pp2], dtype = np.int32)  \n",
    "    changes_old = np.array([j_change, i_change], dtype = np.int32)\n",
    "    changes_p_old = np.array([pp2, pp1], dtype = np.int32)\n",
    "    \n",
    "    for i_k in range(K):\n",
    "        for i_chan,change in enumerate(changes):\n",
    "            for i_x in range(Nx):\n",
    "                if (i_k != m1): # Only changes in the networks m1\n",
    "                    p_f = int(P_inv_old[i_k,change])\n",
    "                    p_c = int(P_inv_old[i_k,i_x])\n",
    "                    p_old, p_old_c = p_f, p_c\n",
    "                \n",
    "                else:\n",
    "                    p_f = changes_p[i_chan]\n",
    "                    p_old = changes_p_old[i_chan]\n",
    "                    if (i_x == i_change):\n",
    "                        p_c = pp1\n",
    "                        p_old_c = pp2\n",
    "                    elif(i_x == j_change):\n",
    "                        p_c = pp2\n",
    "                        p_old_c = pp1\n",
    "                    else: # Only changes in the nodes i,j\n",
    "                        p_c = int(P_inv_old[i_k, i_x])\n",
    "                        p_old_c = p_c\n",
    "\n",
    "                ## rows\n",
    "                valor_L_old, valor_A_old = L_f_v1v2_old[i_chan,i_x], A_f[i_k,p_old,p_old_c]   \n",
    "                valor_L_new, valor_A_new = L_f_v1v2[i_chan,i_x], A_f[i_k,p_f,p_c]\n",
    "                ## columns\n",
    "                valor_L_old_c, valor_A_old_c = 0,0\n",
    "                valor_L_new_c, valor_A_new_c = 0,0\n",
    "                column = 0        \n",
    "                if (i_x not in changes):\n",
    "                    column = 1\n",
    "                    valor_L_old_c, valor_A_old_c = L_c_v1v2_old[i_chan,i_x],A_f[i_k,p_old_c, p_old]\n",
    "                    valor_L_new_c, valor_A_new_c = L_c_v1v2[i_chan,i_x], A_f[i_k,p_c,p_f]\n",
    "\n",
    "                ovlp_1_old = ovlp_1_old + valor_L_old*valor_A_old + valor_L_old_c*valor_A_old_c*column\n",
    "                ovlp_0_old = ovlp_0_old + (1-valor_L_old)*(1-valor_A_old) + (1-valor_L_old_c)*(1-valor_A_old_c)*column\n",
    "                \n",
    "                ovlp_1_new = ovlp_1_new + valor_L_new*valor_A_new + valor_L_new_c*valor_A_new_c*column\n",
    "                ovlp_0_new = ovlp_0_new + (1-valor_L_new)*(1-valor_A_new) + (1-valor_L_new_c)*(1-valor_A_new_c)*column\n",
    "                \n",
    "    ovlp_1_def = ovlp_1_new - ovlp_1_old\n",
    "    ovlp_0_def = ovlp_0_new- ovlp_0_old\n",
    "   \n",
    "    return ovlp_0_def, ovlp_1_def\n"
   ]
  },
  {
   "cell_type": "code",
   "execution_count": 4,
   "id": "e92eb03d-7123-46c5-bc9f-24088201375c",
   "metadata": {},
   "outputs": [],
   "source": [
    "### Some functions that numba do not have\n",
    "@njit\n",
    "def concatenate_numba_sinrep(a,b):\n",
    "    size_a, size_b = len(a), len(b)\n",
    "    no_double = []\n",
    "    for i_b in range(size_b):\n",
    "        if b[i_b] in a:\n",
    "            size_b = size_b-1\n",
    "        else:\n",
    "            no_double.append(b[i_b])\n",
    "    size = size_a + size_b\n",
    "    c = np.zeros((size))\n",
    "    c[0:size_a] = a\n",
    "    c[size_a:] = no_double\n",
    "    \n",
    "    return a\n",
    "\n",
    "@njit\n",
    "def concatenate_numba(a,b):\n",
    "    size_a, size_b = len(a), len(b)\n",
    "    size = size_a + size_b\n",
    "    c = np.zeros((size))\n",
    "    c[0:size_a] = a\n",
    "    c[size_a:] = b \n",
    "    \n",
    "    return c\n",
    "\n",
    "@njit\n",
    "def sum_numba(S):\n",
    "    Nx = S.shape[0]\n",
    "    Ny = S.shape[1]\n",
    "    \n",
    "    suma = 0\n",
    "    for i_s in range(Nx):\n",
    "        suma = suma + sum(S[i_s,:])\n",
    "        \n",
    "    return suma\n",
    "@njit\n",
    "def sum_numba_filas(S): # 2 dimensions\n",
    "    Nx = S.shape[0]\n",
    "    Ny = S.shape[1]\n",
    "    suma = np.zeros((Nx))\n",
    "    for i_s in range(Nx):\n",
    "        suma_c = 0 # sum of the column\n",
    "        for i_y in range(Ny):\n",
    "            suma[i_s] = suma_c + S[i_y,i_s] \n",
    "        \n",
    "    return suma\n",
    "\n"
   ]
  },
  {
   "cell_type": "code",
   "execution_count": 5,
   "id": "96ff67d9-4510-44b3-a150-d247f45ee1a7",
   "metadata": {},
   "outputs": [],
   "source": [
    "@jit(nopython = True)\n",
    "def hamiltonian_prob(Edges_NoL, Edges_L, overlap_0, overlap_1, alpha, beta):\n",
    "\n",
    "    A_1 = overlap_1 + alpha\n",
    "    B_1 = (Edges_L - overlap_1 + beta)\n",
    "    C_1 = Edges_L + alpha + beta\n",
    "    \n",
    "    A_0 = overlap_0 + alpha\n",
    "    B_0 = (Edges_NoL - overlap_0 + beta)\n",
    "    C_0 = Edges_NoL + alpha + beta\n",
    "    \n",
    "    #  [ math.lgamma(n+1) == log(n!) ]\n",
    "    H1 = math.lgamma(A_1)+ math.lgamma(B_1) - math.lgamma(C_1) \n",
    "    H0 = math.lgamma(A_0)+ math.lgamma(B_0) - math.lgamma(C_0) \n",
    "    \n",
    "    H = -(H1 + H0)\n",
    "    return H\n",
    "    \n",
    "    \n",
    "@jit(nopython=True)\n",
    "def overlap_total_prob(L_f, A_f, P_inv_f):\n",
    "    Nx = L_f.shape[0]\n",
    "    Ny = L_f.shape[1]\n",
    "    K = A_f.shape[0]\n",
    "    \n",
    "    ovlp_0 = np.zeros((K))\n",
    "    ovlp_1 = np.zeros((K))\n",
    "    for k in range(0,K):\n",
    "        for f in range(0,Ny): \n",
    "            for c in range(0,Nx):\n",
    "                p_f=int(P_inv_f[k,f])\n",
    "                p_c=int(P_inv_f[k,c])  \n",
    "                \n",
    "                valor_L, valor_A = L_f[f,c], A_f[k,p_f,p_c]\n",
    "                \n",
    "                ovlp_0[k] = ovlp_0[k] + (1-valor_L)*(1-valor_A )\n",
    "                ovlp_1[k] = ovlp_1[k] + valor_L*valor_A\n",
    "                \n",
    "                \n",
    "    ovlp_1 = int(sum(ovlp_1))\n",
    "    ovlp_0 = int(sum(ovlp_0))\n",
    "    return ovlp_0, ovlp_1\n",
    "\n",
    "\n",
    "@jit(nopython=True) # The blueprint is the average of the observations (taking into account the mapping)  \n",
    "def L_wiring(A_f, P_inv_f):\n",
    "    \n",
    "    Nx = A_f.shape[1]\n",
    "    Ny = A_f.shape[2]\n",
    "    K = A_f.shape[0]\n",
    "    L_new_f = np.zeros((Nx,Ny))\n",
    "    \n",
    "    for i in range(0,Nx):\n",
    "        for j in range(0,Ny):\n",
    "            for k in range(0,K):\n",
    "        \n",
    "                p1 = int(P_inv_f[k,i]) # Mapping of the observations\n",
    "                p2 = int(P_inv_f[k,j]) # Mapping of the observations\n",
    "                L_new_f[i,j] += A_f[k,p1,p2]\n",
    "            valor_lnew=1/K* L_new_f[i,j]\n",
    "            L_new_f[i,j] = round( valor_lnew ) \n",
    "            # If valor_lnew = 0, L=0 (we could establish L=1, but it is more probable to not have a connection)\n",
    "    \n",
    "    return L_new_f\n",
    "\n",
    "\n",
    "#### Some algorithm for sorting\n",
    "@jit(nopython=True)\n",
    "def partition(array,  etiquetas, begin, end):\n",
    "    pivot = begin\n",
    "    for i in range(begin+1, end+1):\n",
    "        if array[i] < array[begin]:\n",
    "            pivot += 1\n",
    "            array[i], array[pivot] = array[pivot], array[i]\n",
    "            etiquetas[i], etiquetas[pivot] = etiquetas[pivot], etiquetas[i]\n",
    "    array[pivot], array[begin] = array[begin], array[pivot]\n",
    "    etiquetas[pivot], etiquetas[begin] = etiquetas[begin], etiquetas[pivot] \n",
    "\n",
    "    return pivot\n",
    "@jit(nopython=True)\n",
    "def quicksort(array, etiquetas, begin=0, end=None):\n",
    "    if end is None:\n",
    "        end = len(array) - 1\n",
    "    if begin >= end: #To end\n",
    "        return\n",
    "    pivot = partition(array,  etiquetas, begin, end)\n",
    "    \n",
    "    #Order right and left\n",
    "    quicksort(array, etiquetas, begin, pivot-1)\n",
    "    quicksort(array,  etiquetas, pivot+1, end)\n",
    "    \n",
    "@njit \n",
    "# We inizialise the algorithm sorting by node degree, but also taking into account the group labels\n",
    "def permu_groups(L_f, A_f, start_f): \n",
    "    Nx = L_f.shape[0]\n",
    "    Ny = L_f.shape[1]\n",
    "    K = A_f.shape[0]\n",
    "    N_groups = len(start_f)\n",
    "    \n",
    "    \n",
    "    # Mappings\n",
    "    P_f = np.zeros((K,Nx)) #Mapping from L to A\n",
    "    P_inv_f = np.zeros((K,Nx)) #Mapping from A to L\n",
    "    P_new = np.zeros((K,Nx))\n",
    "    \n",
    "    # First we order the blueprint and after the observations\n",
    "    # Blueprint:\n",
    "    orden_L=np.zeros((Nx))\n",
    "    for i in range(Nx):\n",
    "        b=np.nonzero(L_f[i,:])\n",
    "        orden_L[i] = b[0].size\n",
    "        \n",
    "    array_L = np.arange(Nx) #For the labels \n",
    "    quicksort(orden_L, array_L)\n",
    "    \n",
    "    # Now according to the group label\n",
    "    array_L_labels = np.zeros((Nx))\n",
    "    group_number = np.zeros((N_groups))\n",
    "    for i in range(Nx):\n",
    "        n_type = 0\n",
    "        #Group\n",
    "        while ( (array_L[i] >= start_f[n_type]) and (n_type < N_groups)):\n",
    "            n_type += 1\n",
    "       \n",
    "        grupo = int(n_type-1)\n",
    "        g = int(start_f[grupo])\n",
    "        array_L_labels[g + int(group_number[grupo])] = array_L[i]\n",
    "        group_number[grupo] += 1\n",
    "\n",
    "    #Observations: \n",
    "    for i in range(0,K):\n",
    "        orden_A = np.zeros((Nx))\n",
    "        for i_orden in range(Nx):\n",
    "            b = np.nonzero(A_f[i,i_orden,:])\n",
    "            orden_A[i_orden] = b[0].size\n",
    "\n",
    "        array_A = np.arange(Nx) #For the labels \n",
    "        quicksort(orden_A, array_A)\n",
    "            \n",
    "        # Now according to the group label\n",
    "        array_A_labels = np.zeros((Nx))\n",
    "        group_number = np.zeros((N_groups))\n",
    "        \n",
    "        for i_g in range(Nx):\n",
    "            n_type = 0\n",
    "            while ( (array_A[i_g] >= start_f[n_type]) and (n_type < N_groups) ):\n",
    "                n_type += 1\n",
    "\n",
    "            grupo = int(n_type-1)\n",
    "            g = int(start_f[grupo])\n",
    "            array_A_labels[ g + int(group_number[grupo])] = array_A[i_g]\n",
    "            group_number[grupo] += 1\n",
    "    \n",
    "\n",
    "    # Now ordered together both label array  array_L = [0,1,2,3...]\n",
    "        array_A_labels = array_A_labels[np.argsort(array_L_labels)]\n",
    "        P_f[i,:] = array_A_labels\n",
    "        \n",
    "        for i_inv in range(0,Nx):\n",
    "            for j_inv in range(0,Ny):\n",
    "                if (P_f[i,i_inv] == j_inv):\n",
    "                    P_inv_f[i, j_inv]=i_inv\n",
    "    \n",
    "    P_todo = np.zeros((2,K,Nx))\n",
    "    P_todo[0,:,:] = P_f.copy() \n",
    "    P_todo[1,:,:] = P_inv_f.copy()\n",
    "\n",
    "    return P_todo\n",
    "\n",
    "@njit \n",
    "# We inizialise the algorithm sorting by node degree, but also taking into account the group labels\n",
    "def permu_groups_random(A_f, start_f, end_f): \n",
    "    Nx = A_f.shape[1]\n",
    "    K = A_f.shape[0]\n",
    "    n_groups = len(start_f)\n",
    "    # Mappings\n",
    "    P_f = np.zeros((K, Nx), dtype=np.int64)  # Mapping from L to A\n",
    "    P_inv_f = np.zeros((K, Nx), dtype=np.int64)  # Mapping from A to L\n",
    "    \n",
    "    for i_g in range(n_groups):\n",
    "        s, e = start_f[i_g], end_f[i_g]\n",
    "        for i_k in range(K):\n",
    "            vector = np.arange(s, e)\n",
    "            np.random.shuffle(vector)  # Use numpy's shuffle function\n",
    "            P_f[i_k, s:e] = vector\n",
    "    \n",
    "    # Compute inverse permutation\n",
    "    for i_k in range(K):\n",
    "        P_inv_f[i_k] = np.argsort(P_f[i_k])\n",
    "    \n",
    "    P_todo = np.stack((P_f, P_inv_f))\n",
    "    return P_todo\n"
   ]
  },
  {
   "cell_type": "code",
   "execution_count": 6,
   "id": "e8ed3c77-d49b-47d7-8783-300f4582b7d3",
   "metadata": {},
   "outputs": [],
   "source": [
    "def ground_state(A,K,Nx, alpha, beta):\n",
    "    P_new, P_inv_new = np.zeros((K,Nx)),np.zeros((K,Nx))\n",
    "    for k in range(0,K):\n",
    "        for i in range(0,Nx):\n",
    "            P_new[k,i]=i \n",
    "            P_inv_new[k,i]=i            \n",
    "    L_new = np.zeros((Nx,Nx))\n",
    "    L_new =  L_wiring(A, P_inv_new)\n",
    "    \n",
    "    Edges_sum = K*Nx*Nx\n",
    "    Edges_L = K*(sum(sum(L_new))) # Los edges=1 que tiene la matriz A\n",
    "    Edges_NoL = Edges_sum - Edges_L #Los edges=0 que tiene la matriz A\n",
    "    overlap_0, overlap_1 = overlap_total_prob(L_new,A,P_inv_new)\n",
    "    \n",
    "    Energy_new = hamiltonian_prob(Edges_NoL, Edges_L, overlap_0, overlap_1, alpha, beta)\n",
    "\n",
    "    return P_new, P_inv_new, L_new, Energy_new"
   ]
  },
  {
   "cell_type": "code",
   "execution_count": 7,
   "id": "40ba4918-2048-4fd9-9133-cfd7203bca3e",
   "metadata": {},
   "outputs": [],
   "source": [
    "\n",
    "def initialization_random(A, start_groups,end_groups, K, Nx, N_t, tempers, alpha, beta):\n",
    "    \n",
    "    L_ini = A[0,:,:].copy() ## Inicialize to compute permutation ranked by node degree\n",
    "    # P_inis = permu_groups(L_ini, A, start_groups)\n",
    "    P_inis = permu_groups_random(A, start_groups, end_groups)\n",
    "    P_inis = P_inis.astype(int)\n",
    "    P_ini_0 = (P_inis[0,:,:]).copy() # Mapping L to A\n",
    "    P_inv_ini_0 = (P_inis[1,:,:]).copy() # Mapping A to L\n",
    "    ## Inizialitation of the system for each temperature, with the same mappings\n",
    "    P_ini_t = np.zeros((N_t,K,Nx))\n",
    "    P_inv_ini_t = np.zeros((N_t,K,Nx))\n",
    "    L_ini_t = np.zeros((N_t,Nx,Nx)) \n",
    "    groups_ini_t = np.zeros((N_t, K, Nx ))\n",
    "    n_groups = len(start_groups)\n",
    "\n",
    "    groups_ini = np.zeros((K,Nx)) #Groups label\n",
    "    for m1 in range(K):\n",
    "        for i_g in range(n_groups):\n",
    "            start = start_groups[i_g]\n",
    "            end = end_groups[i_g]\n",
    "            groups_ini[m1, start:end] = i_g\n",
    "    \n",
    "        \n",
    "    \n",
    "    for i in range(0,N_t): \n",
    "        P_ini_t[i,:,:] = P_ini_0[:,:].copy()\n",
    "        P_inv_ini_t[i,:,:] = P_inv_ini_0[:,:].copy()\n",
    "        L_ini_t[i,:,:] = L_ini.copy()\n",
    "        groups_ini_t[i,:,:] = groups_ini.copy()\n",
    "    P_t = np.zeros((N_t,K,Nx))\n",
    "    P_inv_t = np.zeros((N_t,K,Nx))\n",
    "    L_t = np.zeros((N_t,Nx, Nx))\n",
    "\n",
    "    P_t = (P_ini_t).copy()\n",
    "    P_inv_t = (P_inv_ini_t).copy()\n",
    "    groups_t = groups_ini_t.copy()\n",
    "\n",
    "\n",
    "    Energy_t, Energy_ini_t = np.zeros((N_t)), np.zeros((N_t))\n",
    "    Edges_L_t, Edges_NoL_t = np.zeros((N_t)), np.zeros((N_t))\n",
    "    ovlp_t0, ovlp_t1 = np.zeros((N_t)) , np.zeros((N_t)) \n",
    "    suma_L_t = np.zeros(N_t)\n",
    "\n",
    "    ovlp_t0, ovlp_t1 = ovlp_t0.astype(int), ovlp_t1.astype(int)\n",
    "    P_t = P_t.astype(int)\n",
    "    P_inv_t = P_inv_t.astype(int)\n",
    "    L_t = L_t.astype(int)\n",
    "    groups_t = groups_t.astype(int)\n",
    "    \n",
    "    #### Now the Blueprint is averaged\n",
    "    Edges_sum = K*Nx*Nx\n",
    "    for k_nt in range(N_t):\n",
    "        L_t[k_nt,:,:] =  L_wiring(A, P_inv_t[k_nt,:,:])\n",
    "        Edges_L_t[k_nt] = K*sum(sum(L_t[k_nt,:,:]))\n",
    "        Edges_NoL_t[k_nt] = Edges_sum - Edges_L_t[k_nt]\n",
    "        overlap_0, overlap_1 = overlap_total_prob(L_t[k_nt,:,:],A,P_inv_t[k_nt,:,:])\n",
    "        Energy_t[k_nt] = hamiltonian_prob(Edges_NoL_t[k_nt], Edges_L_t[k_nt], overlap_0, overlap_1,alpha, beta)\n",
    "        ovlp_t0[k_nt], ovlp_t1[k_nt] = overlap_0, overlap_1\n",
    "        suma_L_t[k_nt] = sum_numba(L_t[k_nt,:,:])\n",
    "    \n",
    "\n",
    "    \n",
    "    return P_t, P_inv_t, L_t, Edges_L_t,Edges_NoL_t, Energy_t, ovlp_t0,ovlp_t1, suma_L_t,groups_t "
   ]
  },
  {
   "cell_type": "code",
   "execution_count": 8,
   "id": "5bc35f1e-153b-40f1-8ead-36881b692eb3",
   "metadata": {},
   "outputs": [],
   "source": [
    "def initialization(A, start_groups,end_groups, K, Nx, N_t, tempers, alpha, beta):\n",
    "    \n",
    "    L_ini = A[0,:,:].copy() ## Inicialize to compute permutation ranked by node degree\n",
    "    P_inis = permu_groups(L_ini, A, start_groups)\n",
    "    # P_inis = permu_groups_random(A, start_groups, end_groups)\n",
    "    P_inis = P_inis.astype(int)\n",
    "    P_ini_0 = (P_inis[0,:,:]).copy() # Mapping L to A\n",
    "    P_inv_ini_0 = (P_inis[1,:,:]).copy() # Mapping A to L\n",
    "    ## Inizialitation of the system for each temperature, with the same mappings\n",
    "    P_ini_t = np.zeros((N_t,K,Nx))\n",
    "    P_inv_ini_t = np.zeros((N_t,K,Nx))\n",
    "    L_ini_t = np.zeros((N_t,Nx,Nx)) \n",
    "    groups_ini_t = np.zeros((N_t, K, Nx ))\n",
    "    n_groups = len(start_groups)\n",
    "\n",
    "    groups_ini = np.zeros((K,Nx)) #Groups label\n",
    "    for m1 in range(K):\n",
    "        for i_g in range(n_groups):\n",
    "            start = start_groups[i_g]\n",
    "            end = end_groups[i_g]\n",
    "            groups_ini[m1, start:end] = i_g\n",
    "    \n",
    "        \n",
    "    \n",
    "    for i in range(0,N_t): \n",
    "        P_ini_t[i,:,:] = P_ini_0[:,:].copy()\n",
    "        P_inv_ini_t[i,:,:] = P_inv_ini_0[:,:].copy()\n",
    "        L_ini_t[i,:,:] = L_ini.copy()\n",
    "        groups_ini_t[i,:,:] = groups_ini.copy()\n",
    "    P_t = np.zeros((N_t,K,Nx))\n",
    "    P_inv_t = np.zeros((N_t,K,Nx))\n",
    "    L_t = np.zeros((N_t,Nx, Nx))\n",
    "\n",
    "    P_t = (P_ini_t).copy()\n",
    "    P_inv_t = (P_inv_ini_t).copy()\n",
    "    groups_t = groups_ini_t.copy()\n",
    "\n",
    "\n",
    "    Energy_t, Energy_ini_t = np.zeros((N_t)), np.zeros((N_t))\n",
    "    Edges_L_t, Edges_NoL_t = np.zeros((N_t)), np.zeros((N_t))\n",
    "    ovlp_t0, ovlp_t1 = np.zeros((N_t)) , np.zeros((N_t)) \n",
    "    suma_L_t = np.zeros(N_t)\n",
    "\n",
    "    ovlp_t0, ovlp_t1 = ovlp_t0.astype(int), ovlp_t1.astype(int)\n",
    "    P_t = P_t.astype(int)\n",
    "    P_inv_t = P_inv_t.astype(int)\n",
    "    L_t = L_t.astype(int)\n",
    "    groups_t = groups_t.astype(int)\n",
    "    \n",
    "    #### Now the Blueprint is averaged\n",
    "    Edges_sum = K*Nx*Nx\n",
    "    for k_nt in range(N_t):\n",
    "        L_t[k_nt,:,:] =  L_wiring(A, P_inv_t[k_nt,:,:])\n",
    "        Edges_L_t[k_nt] = K*sum(sum(L_t[k_nt,:,:]))\n",
    "        Edges_NoL_t[k_nt] = Edges_sum - Edges_L_t[k_nt]\n",
    "        overlap_0, overlap_1 = overlap_total_prob(L_t[k_nt,:,:],A,P_inv_t[k_nt,:,:])\n",
    "        Energy_t[k_nt] = hamiltonian_prob(Edges_NoL_t[k_nt], Edges_L_t[k_nt], overlap_0, overlap_1,alpha, beta)\n",
    "        ovlp_t0[k_nt], ovlp_t1[k_nt] = overlap_0, overlap_1\n",
    "        suma_L_t[k_nt] = sum_numba(L_t[k_nt,:,:])\n",
    "    \n",
    "\n",
    "    \n",
    "    return P_t, P_inv_t, L_t, Edges_L_t,Edges_NoL_t, Energy_t, ovlp_t0,ovlp_t1, suma_L_t,groups_t "
   ]
  },
  {
   "cell_type": "code",
   "execution_count": 9,
   "id": "0ae57ff8-6a50-4c59-87ff-4a03653509c6",
   "metadata": {},
   "outputs": [],
   "source": [
    "def initialization_continuation(A, P_inv_t, start_groups,end_groups, K, Nx, N_t, tempers, alpha, beta):\n",
    "    \n",
    "    \n",
    "    ## recalculo la L_t\n",
    "    P_inv_ini = P_inv_t.copy()\n",
    "    L_ini = np.zeros((N_t, Nx, Nx))\n",
    "    P_ini = np.zeros((P_inv_t.shape))\n",
    "    Edges_L_ini, Edges_NoL_ini = np.zeros((N_t)), np.zeros((N_t))\n",
    "    Energy_ini, suma_L_ini = np.zeros((N_t)), np.zeros((N_t))\n",
    "    overlap_0_ini, overlap_1_ini = np.zeros((N_t)), np.zeros((N_t))\n",
    "    for k_nt in range(N_t):\n",
    "        for i_k in range(K):\n",
    "            P_ini[k_nt, i_k,:] = np.argsort(P_inv_ini[k_nt, i_k,:])\n",
    "\n",
    "        L_ini[k_nt, :,:] =  L_wiring(A,P_inv_ini[k_nt, :,:])\n",
    "\n",
    "        Edges_sum = K*Nx*Nx\n",
    "        Edges_L_ini[k_nt] = K*(sum(sum(L_ini[k_nt, :,:]))) # Los edges=1 que tiene la matriz A\n",
    "        Edges_NoL_ini[k_nt] = Edges_sum - Edges_L_ini[k_nt] #Los edges=0 que tiene la matriz A\n",
    "        overlap_0_ini[k_nt], overlap_1_ini[k_nt] = overlap_total_prob(L_ini[k_nt, :,:],A,P_inv_ini[k_nt, :,:])     \n",
    "        Energy_ini[k_nt] = hamiltonian_prob(Edges_NoL_ini[k_nt], Edges_L_ini[k_nt], overlap_0_ini[k_nt], overlap_1_ini[k_nt], alpha, beta)\n",
    "        suma_L_ini[k_nt] = sum_numba(L_ini[k_nt,:,:])\n",
    "    \n",
    "    \n",
    "    groups_ini = np.zeros((N_t, K, Nx ))\n",
    "    for m1 in range(K):\n",
    "        for i_g in range(n_groups):\n",
    "            start = start_groups[i_g]\n",
    "            end = end_groups[i_g]\n",
    "            groups_ini[:,m1, start:end] = i_g\n",
    "    \n",
    "    overlap_0_ini, overlap_1_ini = overlap_0_ini.astype(int), overlap_1_ini.astype(int)\n",
    "    P_ini = P_ini.astype(int)\n",
    "    P_inv_ini = P_inv_ini.astype(int)\n",
    "    L_ini = L_ini.astype(int)\n",
    "    groups_ini = groups_ini.astype(int)\n",
    "    \n",
    "    return P_ini, P_inv_ini, L_ini, Edges_L_ini,Edges_NoL_ini, Energy_ini, overlap_0_ini, overlap_1_ini,suma_L_ini, groups_ini\n"
   ]
  },
  {
   "cell_type": "code",
   "execution_count": 10,
   "id": "1144ce79-7cc0-400b-91df-811d28e85971",
   "metadata": {},
   "outputs": [],
   "source": [
    "def variable_store(PasosMC,Pasos_store,N_epochs, N_t, K, Nx):\n",
    "    energies_pasos = np.zeros((N_epochs,N_t,PasosMC))\n",
    "    P_store = np.zeros((N_epochs,Pasos_store,N_t, K, Nx))\n",
    "    Energy_store = np.zeros((N_epochs,Pasos_store, N_t))\n",
    "    L_store = np.zeros((N_epochs,Pasos_store,N_t, Nx, Nx))\n",
    "    return energies_pasos, P_store,L_store, Energy_store\n",
    "    "
   ]
  },
  {
   "cell_type": "code",
   "execution_count": 11,
   "id": "27120e99-87e5-444c-bd2e-a329e7ef15d3",
   "metadata": {},
   "outputs": [],
   "source": [
    "@jit(nopython=True)\n",
    "def L_wiring_change_filas(m1,L_old,A_f, i_change, j_change, P_inv_old):\n",
    "    \n",
    "    Nx = A_f.shape[1]\n",
    "    K = A_f.shape[0] \n",
    "    \n",
    "    L_new_f = L_old.copy()\n",
    "    L_f_v1v2,L_c_v1v2  = np.zeros((2,Nx)),np.zeros((2,Nx))\n",
    "    \n",
    "    ## changes\n",
    "    changes = np.array([i_change, j_change])\n",
    "    changes_new = np.array([j_change, i_change])\n",
    "    \n",
    "    ## Old values\n",
    "    suma_old =(np.sum(L_old[i_change,:]) + np.sum(L_old[j_change,:]) + np.sum(L_old[:,i_change]) + np.sum(L_old[:,j_change]))-L_old[i_change,j_change]-L_old[j_change,j_change]-L_old[i_change,i_change]-L_old[j_change,i_change]\n",
    "    \n",
    "    ## New row and column\n",
    "    L_new_f[i_change,:], L_new_f[j_change,:], L_new_f[:,i_change], L_new_f[:,j_change] = np.zeros(Nx),np.zeros(Nx),np.zeros(Nx),np.zeros(Nx)\n",
    "    \n",
    "\n",
    "    suma_1 = 0\n",
    "    \n",
    "    for i_i,i_chan in enumerate(changes): #Only looking at the \n",
    "        ############### ROWS & COLUMNS\n",
    "        for i_x in range(Nx):\n",
    "            if (i_x in changes): # The rest of nodes\n",
    "                for k in range(K):\n",
    "                    if (k == m1):\n",
    "                        chan_new = changes_new[i_i]\n",
    "                        \n",
    "                        if (i_x == changes_new[0]):\n",
    "                            p2_2 = int(P_inv_old[k,changes_new[1]])\n",
    "                        else:\n",
    "                            p2_2 = int(P_inv_old[k,changes_new[0]])\n",
    "                    else:\n",
    "                        chan_new = changes[i_i]\n",
    "                        p2_2 = int(P_inv_old[k,i_x])\n",
    "                    p1_2 = int (P_inv_old[k,chan_new])\n",
    "\n",
    "                    L_f_v1v2[i_i,i_x] += A_f[k,p1_2,p2_2]\n",
    "                    L_c_v1v2[i_i,i_x] += A_f[k,p2_2,p1_2]\n",
    "\n",
    "            else: # The nodes that change\n",
    "                for k in range(K):\n",
    "                    if (k == m1):\n",
    "                        chan_new = changes_new[i_i]\n",
    "                    else:\n",
    "                        chan_new = changes[i_i]\n",
    "                    \n",
    "                    \n",
    "                    p1_2 = int (P_inv_old[k,chan_new])\n",
    "                    p2_2 = int(P_inv_old[k,i_x])\n",
    "                    \n",
    "                    L_f_v1v2[i_i,i_x] += A_f[k,p1_2,p2_2]\n",
    "                    L_c_v1v2[i_i,i_x] += A_f[k,p2_2,p1_2]\n",
    "                    \n",
    "                    \n",
    "                    \n",
    "            valor_lnew_2=1/K*  L_f_v1v2[i_i,i_x]\n",
    "            L_f_v1v2[i_i,i_x] = round( valor_lnew_2 )\n",
    "\n",
    "            valor_lnew_c=1/K* L_c_v1v2[i_i,i_x]\n",
    "            L_c_v1v2[i_i,i_x] = round( valor_lnew_c)\n",
    "                    \n",
    "    suma_new = np.sum(L_f_v1v2[0,:]) + np.sum(L_f_v1v2[1,:]) + np.sum(L_c_v1v2[0,:]) + np.sum(L_c_v1v2[1,:])-L_c_v1v2[0,j_change]-L_c_v1v2[0,i_change]-L_c_v1v2[1,j_change]-L_c_v1v2[1,i_change]\n",
    "    suma_1 = suma_new - suma_old\n",
    "    return L_f_v1v2,L_c_v1v2, suma_1    \n"
   ]
  },
  {
   "cell_type": "code",
   "execution_count": 12,
   "id": "2b75b7fa-9cac-492c-a667-9d807ffa8c6d",
   "metadata": {},
   "outputs": [],
   "source": [
    "@jit(nopython=True)\n",
    "def L_wiring_overlap_change_filas(m1,L_f_v1v2_old,L_c_v1v2_old,A_f, i_change, j_change, P_inv_old, pp1, pp2):\n",
    "    \n",
    "    Nx = A_f.shape[1]\n",
    "    K = A_f.shape[0] \n",
    "\n",
    "    #### Para la parte del WIRING    \n",
    "    L_f_v1v2,L_c_v1v2  = np.zeros((2,Nx)),np.zeros((2,Nx))\n",
    "    \n",
    "    ## changes\n",
    "    changes = np.array([i_change, j_change])\n",
    "    changes_new = np.array([j_change, i_change])\n",
    "    \n",
    "    ## Old values\n",
    "    suma_old =(np.sum(L_f_v1v2_old[0,:]) + np.sum(L_f_v1v2_old[1,:]) + np.sum(L_c_v1v2_old[0,:]) + np.sum(L_c_v1v2_old[1,:]))-L_f_v1v2_old[0,j_change]-L_f_v1v2_old[1,j_change]-L_f_v1v2_old[0,i_change]-L_f_v1v2_old[1,i_change]\n",
    "    \n",
    "    ## New row and column\n",
    "    ##### Para la parte del OVERLAP\n",
    "    ovlp_0_new , ovlp_1_new = 0,0\n",
    "    ovlp_0_old , ovlp_1_old = 0,0\n",
    "    ovlp_0_dif, ovlp_1_dif = 0,0\n",
    "    changes_p = np.array([pp1, pp2], dtype = np.int32)  \n",
    "    changes_p_old = np.array([pp2, pp1], dtype = np.int32)\n",
    "    suma_1 = 0\n",
    "    \n",
    "    for i_i,i_chan in enumerate(changes): #Only looking at the \n",
    "        ############### ROWS & COLUMNS\n",
    "        for i_x in range(Nx):\n",
    "            if (i_x in changes): # The rest of nodes\n",
    "                for k in range(K):\n",
    "                    if (k == m1):\n",
    "                        chan_new = changes_new[i_i]\n",
    "                        \n",
    "                        if (i_x == changes_new[0]):\n",
    "                            p2_2 = int(P_inv_old[k,changes_new[1]])\n",
    "                        else:\n",
    "                            p2_2 = int(P_inv_old[k,changes_new[0]])\n",
    "                    else:\n",
    "                        chan_new = changes[i_i]\n",
    "                        p2_2 = int(P_inv_old[k,i_x])\n",
    "                    p1_2 = int (P_inv_old[k,chan_new])\n",
    "\n",
    "                    L_f_v1v2[i_i,i_x] += A_f[k,p1_2,p2_2]\n",
    "                    L_c_v1v2[i_i,i_x] += A_f[k,p2_2,p1_2]\n",
    "\n",
    "            else: # The nodes that change\n",
    "                for k in range(K):\n",
    "                    if (k == m1):\n",
    "                        chan_new = changes_new[i_i]\n",
    "                    else:\n",
    "                        chan_new = changes[i_i]\n",
    "                    \n",
    "                    \n",
    "                    p1_2 = int (P_inv_old[k,chan_new])\n",
    "                    p2_2 = int(P_inv_old[k,i_x])\n",
    "                    \n",
    "                    L_f_v1v2[i_i,i_x] += A_f[k,p1_2,p2_2]\n",
    "                    L_c_v1v2[i_i,i_x] += A_f[k,p2_2,p1_2]\n",
    "                    \n",
    "                    \n",
    "                    \n",
    "            valor_lnew_2=1/K*  L_f_v1v2[i_i,i_x]\n",
    "            L_f_v1v2[i_i,i_x] = round( valor_lnew_2 )\n",
    "\n",
    "            valor_lnew_c=1/K* L_c_v1v2[i_i,i_x]\n",
    "            L_c_v1v2[i_i,i_x] = round( valor_lnew_c)\n",
    "                    \n",
    "            ## Una vez que tenemos los valores de la L podemos mirar el overlap!\n",
    "            for i_k in range(K):\n",
    "                if i_k != m1: # Only changes in m1\n",
    "                    p_f = int(P_inv_old[i_k,i_chan])\n",
    "                    p_c = int(P_inv_old[i_k,i_x])\n",
    "                    p_old, p_old_c = p_f, p_c\n",
    "                else:\n",
    "                    p_f = changes_p[i_i]\n",
    "                    p_old = changes_p_old[i_i]\n",
    "                    if (i_x == i_change):\n",
    "                        p_c = pp1\n",
    "                        p_old_c = pp2\n",
    "                    elif(i_x == j_change):\n",
    "                        p_c = pp2\n",
    "                        p_old_c = pp1\n",
    "                    else: # Only changes in the nodes i,j\n",
    "                        p_c = int(P_inv_old[i_k, i_x])\n",
    "                        p_old_c = p_c\n",
    "            \n",
    "                valor_L_old, valor_A_old = L_f_v1v2_old[i_i,i_x], A_f[i_k,p_old,p_old_c]   \n",
    "                valor_L_new, valor_A_new = L_f_v1v2[i_i,i_x], A_f[i_k,p_f,p_c]\n",
    "                ## columns\n",
    "                valor_L_old_c, valor_A_old_c = 0,0\n",
    "                valor_L_new_c, valor_A_new_c = 0,0\n",
    "                column = 0        \n",
    "                if (i_x not in changes):\n",
    "                    column = 1\n",
    "                    valor_L_old_c, valor_A_old_c = L_c_v1v2_old[i_i,i_x],A_f[i_k,p_old_c, p_old]\n",
    "                    valor_L_new_c, valor_A_new_c = L_c_v1v2[i_i,i_x], A_f[i_k,p_c,p_f]\n",
    "    \n",
    "                ovlp_1_old = ovlp_1_old + valor_L_old*valor_A_old + valor_L_old_c*valor_A_old_c*column\n",
    "                ovlp_0_old = ovlp_0_old + (1-valor_L_old)*(1-valor_A_old) + (1-valor_L_old_c)*(1-valor_A_old_c)*column\n",
    "                \n",
    "                ovlp_1_new = ovlp_1_new + valor_L_new*valor_A_new + valor_L_new_c*valor_A_new_c*column\n",
    "                ovlp_0_new = ovlp_0_new + (1-valor_L_new)*(1-valor_A_new) + (1-valor_L_new_c)*(1-valor_A_new_c)*column\n",
    "                \n",
    "\n",
    "    \n",
    "                    \n",
    "    suma_new = np.sum(L_f_v1v2[0,:]) + np.sum(L_f_v1v2[1,:]) + np.sum(L_c_v1v2[0,:]) + np.sum(L_c_v1v2[1,:])-L_c_v1v2[0,j_change]-L_c_v1v2[0,i_change]-L_c_v1v2[1,j_change]-L_c_v1v2[1,i_change]\n",
    "    suma_1 = suma_new - suma_old\n",
    "\n",
    "    ## Parte del overlap \n",
    "    ovlp_1_def = ovlp_1_new - ovlp_1_old\n",
    "    ovlp_0_def = ovlp_0_new- ovlp_0_old\n",
    "\n",
    "\n",
    "\n",
    "    \n",
    "    return L_f_v1v2,L_c_v1v2, suma_1, ovlp_0_def, ovlp_1_def\n"
   ]
  },
  {
   "cell_type": "code",
   "execution_count": 13,
   "id": "d02a7492-1228-4b44-8f63-a53469c70b66",
   "metadata": {},
   "outputs": [],
   "source": [
    "@jit(nopython = True)\n",
    "def parallel_L_knwn_change_groups(c_parallel,alpha,beta,fijado_f,groups_f, N_groups_f, start_f, end_f,\n",
    "                       A, P_t_f, P_inv_t_f, L_t_f,suma_L, Energy_t_f, ovlp_t_f0, ovlp_t_f1, tempers_f,tempers_odd, tempers_even,\n",
    "                                    c_accep, c_odd, m_old, round_trip_old, c_rounds):\n",
    "    \n",
    "    # fijado_f : To let one of the networks fixed or not (If only two networks it doesn't matter)\n",
    "    # c_parallel: counter to change temperatures\n",
    "    # start_f, end,f\n",
    "    # N_groups_f: Number of groups\n",
    "    # groups_f: Directly the ggroup numbeer from the position\n",
    "    ### Movement:\n",
    "    # 1) Choose one node and see their group (also we can choose a group first)\n",
    "    # 2) Choose another random node inside this group \n",
    "    # 3) Each 4 movements, we propose change the temperatures\n",
    "\n",
    "    N_t = L_t_f.shape[0] # Numbers of tempers\n",
    "    Nx = L_t_f.shape[1] # Numbers of nodes\n",
    "    K = A.shape[0] # Numbers of networks\n",
    "    Edges_sum = K*Nx*Nx\n",
    "   \n",
    "    if (c_parallel <4*Nx): # If not change of temperatures\n",
    "        c_parallel += 1\n",
    "        \n",
    "        #Choose the networks to propose the change (in all temperatures)\n",
    "        if (fijado_f == 1):\n",
    "            m1 = np.random.randint(K-1)+1 #One networks\n",
    "        else:\n",
    "            m1 = np.random.randint(K)    \n",
    "        \n",
    "        for k_nt in range(N_t):    \n",
    "            # 1) Choose a random node (node in A)\n",
    "            v1_mapping = np.random.randint(0, Nx)\n",
    "            grupo = groups_f[k_nt,m1,v1_mapping]\n",
    "            start, end = start_f[grupo], end_f[grupo]\n",
    "            size_group = end - start\n",
    "            todos = size_group \n",
    "            if (size_group > 1): \n",
    "                v2_mapping = np.random.randint(start, end)\n",
    "                while (v2_mapping == v1_mapping):\n",
    "                    v2_mapping = np.random.randint(start, end)\n",
    "    \n",
    "                # Nodes in L\n",
    "                v1 = P_t_f[k_nt, m1,v1_mapping]\n",
    "                v2 = P_t_f[k_nt, m1, v2_mapping]\n",
    "    \n",
    "    \n",
    "                ### Only changes in the specific columns and rows\n",
    "                L_f_v1v2, L_f_v1v2_old = np.zeros((2,Nx)),np.zeros((2,Nx))\n",
    "                L_c_v1v2, L_c_v1v2_old = np.zeros((2,Nx)),np.zeros((2,Nx))\n",
    "    \n",
    "                pp_1 = int(P_inv_t_f[k_nt,m1,v2]) # v2_mapping\n",
    "                pp_2 = int(P_inv_t_f[k_nt,m1,v1]) # v1_mapping\n",
    "    \n",
    "                L_f_v1v2_old[0,:],L_f_v1v2_old[1,:] = L_t_f[k_nt,v1,:].copy(),L_t_f[k_nt,v2,:].copy()\n",
    "                L_c_v1v2_old[0,:],L_c_v1v2_old[1,:] = L_t_f[k_nt,:,v1].copy(),L_t_f[k_nt,:,v2].copy()\n",
    "                \n",
    "                # Changes in the blueprint\n",
    "                L_f_v1v2,L_c_v1v2 , suma_aux,ovl_0_new, ovl_1_new = L_wiring_overlap_change_filas(m1,L_f_v1v2_old,L_c_v1v2_old, A, v1, v2, P_inv_t_f[k_nt,:,:], pp_1, pp_2)\n",
    "                \n",
    "                # Parameters to change\n",
    "                Edges_L = K*(suma_L[k_nt] + suma_aux)\n",
    "                Edges_NoL = Edges_sum - Edges_L\n",
    "                overlap_0,overlap_1 = ovlp_t_f0[k_nt] + ovl_0_new, ovlp_t_f1[k_nt] + ovl_1_new\n",
    "                Energy_bucle = hamiltonian_prob(Edges_NoL, Edges_L, overlap_0,overlap_1,alpha, beta)\n",
    "                dE_sampler = Energy_bucle - Energy_t_f[k_nt]\n",
    "                dE_t = dE_sampler\n",
    "                \n",
    "                ### UPDATE\n",
    "                if (dE_t < 0):\n",
    "                    \n",
    "                    P_aux1 = P_t_f[k_nt, m1,pp_2]\n",
    "                    P_t_f[k_nt, m1, pp_2] = P_t_f[k_nt, m1,pp_1]\n",
    "                    P_t_f[k_nt, m1, pp_1] = P_aux1\n",
    "    \n",
    "                    P_invaux1 = P_inv_t_f[k_nt,m1,v2]\n",
    "                    P_inv_t_f[k_nt,m1,v2] = P_inv_t_f[k_nt,m1,v1]\n",
    "                    P_inv_t_f[k_nt,m1,v1] = P_invaux1\n",
    "    \n",
    "                    Energy_t_f[k_nt] = Energy_t_f[k_nt] + dE_t\n",
    "                    ovlp_t_f0[k_nt] = overlap_0\n",
    "                    ovlp_t_f1[k_nt] = overlap_1\n",
    "                    L_t_f[k_nt,v1, :],L_t_f[k_nt,v2, :] = L_f_v1v2[0,:],L_f_v1v2[1,:]\n",
    "                    L_t_f[k_nt,:,v1],L_t_f[k_nt,:,v2] = L_c_v1v2[0,:],L_c_v1v2[1,:]\n",
    "                    suma_L[k_nt] = suma_L[k_nt] + suma_aux\n",
    "    \n",
    "                elif (np.random.rand() < np.exp(-dE_t*tempers_f[k_nt])):\n",
    "    \n",
    "                    P_aux1 = P_t_f[k_nt, m1,pp_2]\n",
    "                    P_t_f[k_nt, m1, pp_2] = P_t_f[k_nt, m1,pp_1]\n",
    "                    P_t_f[k_nt, m1, pp_1] = P_aux1\n",
    "    \n",
    "                    P_invaux1 = P_inv_t_f[k_nt,m1,v2]\n",
    "                    P_inv_t_f[k_nt,m1,v2] = P_inv_t_f[k_nt,m1,v1]\n",
    "                    P_inv_t_f[k_nt,m1,v1] = P_invaux1\n",
    "    \n",
    "                    Energy_t_f[k_nt] = Energy_t_f[k_nt] + dE_t\n",
    "                    ovlp_t_f0[k_nt] = overlap_0\n",
    "                    ovlp_t_f1[k_nt] = overlap_1\n",
    "                    L_t_f[k_nt,v1, :],L_t_f[k_nt,v2, :] = L_f_v1v2[0,:].copy(),L_f_v1v2[1,:].copy()\n",
    "                    L_t_f[k_nt,:,v1],L_t_f[k_nt,:,v2] = L_c_v1v2[0,:].copy(),L_c_v1v2[1,:].copy()\n",
    "                    suma_L[k_nt] = suma_L[k_nt] + suma_aux\n",
    "\n",
    "    else: # Change in temperatures\n",
    "        c_parallel = 0\n",
    "        mt1 = np.random.randint(N_t) \n",
    "        if mt1 == 0:\n",
    "            mt2 = 1\n",
    "        elif mt1 == (N_t - 1):\n",
    "            mt2 = mt1 -1\n",
    "        else:\n",
    "            mt2 = mt1 + random_menos_mas(np.random.rand())\n",
    "        \n",
    "            \n",
    "    \n",
    "        \n",
    "        #Probar el cambio de energía\n",
    "        #Cambio del 1:\n",
    "        Energy_1 = Energy_t_f[mt1]\n",
    "        #Cambio del 2:\n",
    "        Energy_2 = Energy_t_f[mt2] \n",
    "\n",
    "\n",
    "        dE_parallel = -(tempers_f[mt1]-tempers_f[mt2])*(Energy_1-Energy_2)\n",
    "            \n",
    "        if (dE_parallel <0):\n",
    "            P_aux1 = (P_t_f[mt1, :, :]).copy()\n",
    "            P_inv_aux1 = (P_inv_t_f[mt1,:,:]).copy()\n",
    "            L_aux1 = (L_t_f[mt1,:,:]).copy()\n",
    "\n",
    "            ovlp_aux0 = (ovlp_t_f0[mt1])\n",
    "            ovlp_aux1 = (ovlp_t_f1[mt1])\n",
    "            suma_aux = suma_L[mt1]\n",
    "\n",
    "            # 1 --> 2\n",
    "            Energy_t_f[mt1] = Energy_2\n",
    "            P_t_f[mt1,:,:] = (P_t_f[mt2, :, :]).copy()\n",
    "            P_inv_t_f[mt1,:,:] = (P_inv_t_f[mt2,:,:]).copy()\n",
    "            L_t_f[mt1,:,:] = (L_t_f[mt2,:,:]).copy()\n",
    "\n",
    "            ovlp_t_f0[mt1] = ovlp_t_f0[mt2]\n",
    "            ovlp_t_f1[mt1] = ovlp_t_f1[mt2]\n",
    "            suma_L[mt1] = suma_L[mt2]\n",
    "\n",
    "            # 2 --> 1\n",
    "            Energy_t_f[mt2] = Energy_1\n",
    "            P_t_f[mt2,:,:] = P_aux1\n",
    "            P_inv_t_f[mt2,:,:] = P_inv_aux1\n",
    "            L_t_f[mt2,:,:] = L_aux1\n",
    "\n",
    "            ovlp_t_f0[mt2] = ovlp_aux0\n",
    "            ovlp_t_f1[mt2] = ovlp_aux1\n",
    "            suma_L[mt2] = suma_aux\n",
    "            \n",
    "\n",
    "        elif (np.random.rand() < np.exp(-dE_parallel)):\n",
    "            P_aux1 = (P_t_f[mt1, :, :]).copy()\n",
    "            P_inv_aux1 = (P_inv_t_f[mt1,:,:]).copy()\n",
    "            L_aux1 = (L_t_f[mt1,:,:]).copy()\n",
    "\n",
    "            ovlp_aux0 = (ovlp_t_f0[mt1])\n",
    "            ovlp_aux1 = (ovlp_t_f1[mt1])\n",
    "            suma_aux = suma_L[mt1]\n",
    "\n",
    "            # 1 --> 2\n",
    "            Energy_t_f[mt1] = Energy_2\n",
    "            P_t_f[mt1,:,:] = (P_t_f[mt2, :, :]).copy()\n",
    "            P_inv_t_f[mt1,:,:] = (P_inv_t_f[mt2,:,:]).copy()\n",
    "            L_t_f[mt1,:,:] = (L_t_f[mt2,:,:]).copy()\n",
    "\n",
    "            ovlp_t_f0[mt1] = ovlp_t_f0[mt2]\n",
    "            ovlp_t_f1[mt1] = ovlp_t_f1[mt2]\n",
    "            suma_L[mt1] = suma_L[mt2]\n",
    "\n",
    "            # 2 --> 1\n",
    "            Energy_t_f[mt2] = Energy_1\n",
    "            P_t_f[mt2,:,:] = P_aux1\n",
    "            P_inv_t_f[mt2,:,:] = P_inv_aux1\n",
    "            L_t_f[mt2,:,:] = L_aux1\n",
    "\n",
    "            ovlp_t_f0[mt2] = ovlp_aux0\n",
    "            ovlp_t_f1[mt2] = ovlp_aux1\n",
    "            suma_L[mt2] = suma_aux\n",
    "            \n",
    "\n",
    "\n",
    "  \n",
    "    return c_parallel, P_t_f, P_inv_t_f,Energy_t_f, ovlp_t_f0, ovlp_t_f1, L_t_f, suma_L, c_accep, c_odd, m_old, round_trip_old, c_rounds\n",
    "\n",
    "@njit\n",
    "def random_menos_mas(number):\n",
    "    if number >= 0.5:\n",
    "        return 1\n",
    "    else:\n",
    "        return -1"
   ]
  },
  {
   "cell_type": "markdown",
   "id": "5a324ab3-07ba-48b1-b2a9-afd9d29571cf",
   "metadata": {},
   "source": [
    "\n",
    "## Initialization"
   ]
  },
  {
   "cell_type": "code",
   "execution_count": 14,
   "id": "e33d8b40-6f67-4622-8c43-0d0dc0c0dce5",
   "metadata": {},
   "outputs": [
    {
     "name": "stdout",
     "output_type": "stream",
     "text": [
      "[40. 40. 40. 40. 40. 40. 40.]\n"
     ]
    }
   ],
   "source": [
    "## Parameters \n",
    "fijado = 0  # To maintain fix the first network\n",
    "alpha, beta = 5,2\n",
    "Edges_sum = K*Nx*Nx\n",
    "\n",
    "PasosMC, Long_corr,Pasos_corr,Pasos_store = np.zeros((N_probs)), np.zeros((N_probs)),np.zeros((N_probs)),np.zeros((N_probs))\n",
    "PasosMC = PasosMC + 200 +50*40\n",
    "Long_corr = Long_corr + 50\n",
    "Pasos_corr = Pasos_corr + 200\n",
    "\n",
    "# i_min, i_max = 0,3\n",
    "# PasosMC[i_min:i_max] = 1000\n",
    "# Pasos_corr[i_min:i_max] = 500\n",
    "# Long_corr[i_min:i_max] = 100\n",
    "\n",
    "# i_min, i_max = 3,4\n",
    "# PasosMC[i_min:i_max] = 1200\n",
    "# Pasos_corr[i_min:i_max] = 600\n",
    "# Long_corr[i_min:i_max] = 100\n",
    "# i= 4\n",
    "# PasosMC[i] = 1200\n",
    "# Pasos_corr[i] = 800\n",
    "# Long_corr[i] = 100\n",
    "# i_min, i_max = 5,7\n",
    "# PasosMC[i_min:i_max] = 1700\n",
    "# Pasos_corr[i_min:i_max] = 1500\n",
    "# Long_corr[i_min:i_max] = 100\n",
    "# i = 7\n",
    "# PasosMC[i] = 3000\n",
    "# Pasos_corr[i] = 2500\n",
    "# Long_corr[i] = 100\n",
    "# i = 8\n",
    "# PasosMC[i] = 15000\n",
    "# Pasos_corr[i] = 13000\n",
    "# Long_corr[i] = 100\n",
    "\n",
    "# i_min, i_max = 9,15\n",
    "# PasosMC[i_min:i_max] = 100000\n",
    "# Pasos_corr[i_min:i_max] = 50000\n",
    "# Long_corr[i_min:i_max] = 2000\n",
    "\n",
    "\n",
    "# i_min, i_max = 15,18\n",
    "# PasosMC[i_min:i_max] = 100000\n",
    "# Pasos_corr[i_min:i_max] = 50000\n",
    "# Long_corr[i_min:i_max] = 2000\n",
    "\n",
    "\n",
    "for i_prob in range(N_probs):\n",
    "    Pasos_store[i_prob] = int((PasosMC[i_prob] -( Pasos_corr[i_prob]))/Long_corr[i_prob])\n",
    "    if (Pasos_store[i_prob]<0):\n",
    "        Pasos_store[i_prob] = 0\n",
    "print(Pasos_store)\n",
    "\n",
    "PasosMC, Long_corr,Pasos_corr,Pasos_store = PasosMC.astype(int), Long_corr.astype(int),Pasos_corr.astype(int),Pasos_store.astype(int)"
   ]
  },
  {
   "cell_type": "code",
   "execution_count": 15,
   "id": "42a0a883-7b8a-4eb0-b4d4-2cd61e824676",
   "metadata": {},
   "outputs": [],
   "source": [
    "### TEMPERATURAS\n",
    "tempers, tempers_odd,tempers_even = {},  {}, {}\n",
    "total, max = np.zeros((N_probs)), np.zeros((N_probs)) \n",
    "total = total + 11\n",
    "max = max - 40\n",
    "total, max = total.astype(int), max.astype(int) \n",
    "\n",
    "\n",
    "for i_probs in range(N_probs):\n",
    "    beta_o = 1.03\n",
    "    total_i = total[i_probs] # Odd name, in order to have beta = 1\n",
    "    b_exp = np.linspace(max[i_probs],0,num = total_i)\n",
    "    tempers[i_probs] = beta_o**b_exp# Account for 1/KT, called beta in thermodinamics\n",
    "    # print('betas tempers:', tempers[i_probs])\n",
    "    \n",
    "    tempers_odd1 = np.arange(0,total_i-1,2, dtype = int)\n",
    "    tempers_odd2 = np.arange(1, total_i, 2,dtype = int)\n",
    "    tempers_odd[i_probs] = np.zeros((2, len(tempers_odd1)))\n",
    "    tempers_odd[i_probs][0,:] = tempers_odd1\n",
    "    tempers_odd[i_probs][1,:] = tempers_odd2\n",
    "    # print('Odd', tempers_odd)\n",
    "    \n",
    "    tempers_even1 = np.arange(1,total_i,2)\n",
    "    tempers_even2 = np.arange(2, total_i, 2)\n",
    "    tempers_even[i_probs] = np.zeros((2, len(tempers_even1)))\n",
    "    tempers_even[i_probs][0,:] = tempers_even1\n",
    "    tempers_even[i_probs][1,:] = tempers_even2\n",
    "    # print('even', tempers_even)   "
   ]
  },
  {
   "cell_type": "markdown",
   "id": "e57d8ba1-130d-4c21-b143-428ca6779bff",
   "metadata": {},
   "source": [
    "## Montecarlo"
   ]
  },
  {
   "cell_type": "code",
   "execution_count": 16,
   "id": "16e623cc-b206-4e97-94e0-16250bfe58bc",
   "metadata": {},
   "outputs": [
    {
     "data": {
      "text/plain": [
       "0.1"
      ]
     },
     "execution_count": 16,
     "metadata": {},
     "output_type": "execute_result"
    }
   ],
   "source": [
    "N_epochs = 1\n",
    "vector = np.arange(1,2)\n",
    "probs[vector[0]]\n"
   ]
  },
  {
   "cell_type": "code",
   "execution_count": 17,
   "id": "28847355-90d2-4617-a2ca-3dfdf75af5b9",
   "metadata": {},
   "outputs": [
    {
     "name": "stdout",
     "output_type": "stream",
     "text": [
      "\n",
      "\n",
      "i_prob: 1 0.1 [0.30655684 0.34503243 0.38833703 0.43707675 0.49193374 0.55367575\n",
      " 0.62316694 0.70137988 0.78940923 0.88848705 1.        ] alpha_t -40 N_t 11\n",
      "i_reps 0\n",
      "Energía ini: 15856.085997169503 /gs: 4775.090609339986\n"
     ]
    },
    {
     "name": "stderr",
     "output_type": "stream",
     "text": [
      "  9%|███▋                                    | 206/2200 [00:07<00:44, 45.09it/s]"
     ]
    },
    {
     "name": "stdout",
     "output_type": "stream",
     "text": [
      "Energy: [4897.08940484 5018.30878236 4775.09060934 4775.09060934 4775.09060934\n",
      " 4775.09060934 4775.09060934 4775.09060934 4775.09060934 4775.09060934\n",
      " 4775.09060934]\n"
     ]
    },
    {
     "name": "stderr",
     "output_type": "stream",
     "text": [
      " 12%|████▋                                   | 260/2200 [00:08<00:45, 43.10it/s]"
     ]
    },
    {
     "name": "stdout",
     "output_type": "stream",
     "text": [
      "Energy: [4784.50335293 4775.09060934 4775.09060934 4775.09060934 4775.09060934\n",
      " 4775.09060934 4775.09060934 4775.09060934 4775.09060934 4775.09060934\n",
      " 4775.09060934]\n"
     ]
    },
    {
     "name": "stderr",
     "output_type": "stream",
     "text": [
      " 14%|█████▋                                  | 310/2200 [00:09<00:41, 45.24it/s]"
     ]
    },
    {
     "name": "stdout",
     "output_type": "stream",
     "text": [
      "Energy: [4775.09060934 4775.09060934 4775.09060934 4775.09060934 4775.09060934\n",
      " 4775.09060934 4775.09060934 4775.09060934 4775.09060934 4775.09060934\n",
      " 4775.09060934]\n"
     ]
    },
    {
     "name": "stderr",
     "output_type": "stream",
     "text": [
      " 16%|██████▌                                 | 360/2200 [00:10<00:42, 43.68it/s]"
     ]
    },
    {
     "name": "stdout",
     "output_type": "stream",
     "text": [
      "Energy: [4775.09060934 4775.09060934 4775.09060934 4775.09060934 4775.09060934\n",
      " 4775.09060934 4775.09060934 4775.09060934 4775.09060934 4775.09060934\n",
      " 4775.09060934]\n"
     ]
    },
    {
     "name": "stderr",
     "output_type": "stream",
     "text": [
      " 19%|███████▍                                | 410/2200 [00:12<00:41, 43.65it/s]"
     ]
    },
    {
     "name": "stdout",
     "output_type": "stream",
     "text": [
      "Energy: [4775.09060934 4775.09060934 4775.09060934 4775.09060934 4775.09060934\n",
      " 4775.09060934 4775.09060934 4775.09060934 4775.09060934 4775.09060934\n",
      " 4775.09060934]\n"
     ]
    },
    {
     "name": "stderr",
     "output_type": "stream",
     "text": [
      " 21%|████████▎                               | 460/2200 [00:13<00:43, 40.19it/s]"
     ]
    },
    {
     "name": "stdout",
     "output_type": "stream",
     "text": [
      "Energy: [4775.09060934 4775.09060934 4775.09060934 4775.09060934 4775.09060934\n",
      " 4775.09060934 4775.09060934 4775.09060934 4775.09060934 4775.09060934\n",
      " 4775.09060934]\n"
     ]
    },
    {
     "name": "stderr",
     "output_type": "stream",
     "text": [
      " 23%|█████████▎                              | 510/2200 [00:14<00:37, 45.06it/s]"
     ]
    },
    {
     "name": "stdout",
     "output_type": "stream",
     "text": [
      "Energy: [4775.09060934 4775.09060934 4775.09060934 4775.09060934 4775.09060934\n",
      " 4775.09060934 4775.09060934 4775.09060934 4775.09060934 4775.09060934\n",
      " 4775.09060934]\n"
     ]
    },
    {
     "name": "stderr",
     "output_type": "stream",
     "text": [
      " 25%|██████████▏                             | 560/2200 [00:15<00:37, 44.04it/s]"
     ]
    },
    {
     "name": "stdout",
     "output_type": "stream",
     "text": [
      "Energy: [4775.09060934 4803.31461685 4775.09060934 4775.09060934 4775.09060934\n",
      " 4775.09060934 4775.09060934 4775.09060934 4775.09060934 4775.09060934\n",
      " 4775.09060934]\n"
     ]
    },
    {
     "name": "stderr",
     "output_type": "stream",
     "text": [
      " 28%|███████████                             | 610/2200 [00:16<00:36, 43.30it/s]"
     ]
    },
    {
     "name": "stdout",
     "output_type": "stream",
     "text": [
      "Energy: [4775.09060934 4775.09060934 4775.09060934 4775.09060934 4775.09060934\n",
      " 4775.09060934 4775.09060934 4775.09060934 4784.50335293 4775.09060934\n",
      " 4775.09060934]\n"
     ]
    },
    {
     "name": "stderr",
     "output_type": "stream",
     "text": [
      " 30%|████████████                            | 660/2200 [00:17<00:36, 42.09it/s]"
     ]
    },
    {
     "name": "stdout",
     "output_type": "stream",
     "text": [
      "Energy: [4793.91135163 4775.09060934 4775.09060934 4775.09060934 4775.09060934\n",
      " 4775.09060934 4775.09060934 4775.09060934 4775.09060934 4775.09060934\n",
      " 4775.09060934]\n"
     ]
    },
    {
     "name": "stderr",
     "output_type": "stream",
     "text": [
      " 32%|████████████▉                           | 710/2200 [00:18<00:33, 44.61it/s]"
     ]
    },
    {
     "name": "stdout",
     "output_type": "stream",
     "text": [
      "Energy: [4775.09060934 4775.09060934 4775.09060934 4775.09060934 4775.09060934\n",
      " 4775.09060934 4775.09060934 4775.09060934 4775.09060934 4775.09060934\n",
      " 4775.09060934]\n"
     ]
    },
    {
     "name": "stderr",
     "output_type": "stream",
     "text": [
      " 35%|█████████████▊                          | 760/2200 [00:20<00:33, 42.63it/s]"
     ]
    },
    {
     "name": "stdout",
     "output_type": "stream",
     "text": [
      "Energy: [4775.09060934 4775.09060934 4775.09060934 4775.09060934 4775.09060934\n",
      " 4775.09060934 4775.09060934 4775.09060934 4775.09060934 4775.09060934\n",
      " 4775.09060934]\n"
     ]
    },
    {
     "name": "stderr",
     "output_type": "stream",
     "text": [
      " 37%|██████████████▋                         | 810/2200 [00:21<00:31, 43.86it/s]"
     ]
    },
    {
     "name": "stdout",
     "output_type": "stream",
     "text": [
      "Energy: [4775.09060934 4775.09060934 4775.09060934 4775.09060934 4775.09060934\n",
      " 4775.09060934 4775.09060934 4775.09060934 4775.09060934 4775.09060934\n",
      " 4775.09060934]\n"
     ]
    },
    {
     "name": "stderr",
     "output_type": "stream",
     "text": [
      " 39%|███████████████▌                        | 855/2200 [00:22<00:29, 45.16it/s]"
     ]
    },
    {
     "name": "stdout",
     "output_type": "stream",
     "text": [
      "Energy: [4775.09060934 4775.09060934 4775.09060934 4775.09060934 4775.09060934\n",
      " 4775.09060934 4775.09060934 4775.09060934 4775.09060934 4775.09060934\n",
      " 4775.09060934]\n"
     ]
    },
    {
     "name": "stderr",
     "output_type": "stream",
     "text": [
      " 41%|████████████████▌                       | 910/2200 [00:23<00:30, 42.23it/s]"
     ]
    },
    {
     "name": "stdout",
     "output_type": "stream",
     "text": [
      "Energy: [4775.09060934 4775.09060934 4793.91135163 4775.09060934 4775.09060934\n",
      " 4775.09060934 4775.09060934 4775.09060934 4775.09060934 4775.09060934\n",
      " 4775.09060934]\n"
     ]
    },
    {
     "name": "stderr",
     "output_type": "stream",
     "text": [
      " 44%|█████████████████▍                      | 960/2200 [00:24<00:27, 44.29it/s]"
     ]
    },
    {
     "name": "stdout",
     "output_type": "stream",
     "text": [
      "Energy: [4775.09060934 4775.09060934 4775.09060934 4775.09060934 4775.09060934\n",
      " 4775.09060934 4775.09060934 4775.09060934 4775.09060934 4775.09060934\n",
      " 4775.09060934]\n"
     ]
    },
    {
     "name": "stderr",
     "output_type": "stream",
     "text": [
      " 46%|█████████████████▉                     | 1010/2200 [00:25<00:26, 45.13it/s]"
     ]
    },
    {
     "name": "stdout",
     "output_type": "stream",
     "text": [
      "Energy: [4775.09060934 4784.50335293 4775.09060934 4775.09060934 4775.09060934\n",
      " 4775.09060934 4775.09060934 4775.09060934 4775.09060934 4775.09060934\n",
      " 4775.09060934]\n"
     ]
    },
    {
     "name": "stderr",
     "output_type": "stream",
     "text": [
      " 48%|██████████████████▊                    | 1060/2200 [00:26<00:25, 44.22it/s]"
     ]
    },
    {
     "name": "stdout",
     "output_type": "stream",
     "text": [
      "Energy: [4784.50335293 4775.09060934 4775.09060934 4775.09060934 4784.50335293\n",
      " 4775.09060934 4775.09060934 4775.09060934 4775.09060934 4775.09060934\n",
      " 4775.09060934]\n"
     ]
    },
    {
     "name": "stderr",
     "output_type": "stream",
     "text": [
      " 50%|███████████████████▋                   | 1110/2200 [00:28<00:26, 40.47it/s]"
     ]
    },
    {
     "name": "stdout",
     "output_type": "stream",
     "text": [
      "Energy: [4775.09060934 4775.09060934 4775.09060934 4775.09060934 4775.09060934\n",
      " 4775.09060934 4775.09060934 4775.09060934 4775.09060934 4775.09060934\n",
      " 4775.09060934]\n"
     ]
    },
    {
     "name": "stderr",
     "output_type": "stream",
     "text": [
      " 53%|████████████████████▌                  | 1160/2200 [00:29<00:23, 45.21it/s]"
     ]
    },
    {
     "name": "stdout",
     "output_type": "stream",
     "text": [
      "Energy: [4775.09060934 4775.09060934 4775.09060934 4775.09060934 4775.09060934\n",
      " 4775.09060934 4775.09060934 4775.09060934 4775.09060934 4775.09060934\n",
      " 4775.09060934]\n"
     ]
    },
    {
     "name": "stderr",
     "output_type": "stream",
     "text": [
      " 55%|█████████████████████▍                 | 1210/2200 [00:30<00:22, 44.67it/s]"
     ]
    },
    {
     "name": "stdout",
     "output_type": "stream",
     "text": [
      "Energy: [4775.09060934 4775.09060934 4775.09060934 4775.09060934 4775.09060934\n",
      " 4775.09060934 4793.91135163 4775.09060934 4775.09060934 4775.09060934\n",
      " 4775.09060934]\n"
     ]
    },
    {
     "name": "stderr",
     "output_type": "stream",
     "text": [
      " 57%|██████████████████████▏                | 1255/2200 [00:31<00:21, 43.58it/s]"
     ]
    },
    {
     "name": "stdout",
     "output_type": "stream",
     "text": [
      "Energy: [4775.09060934 4775.09060934 4775.09060934 4775.09060934 4775.09060934\n",
      " 4775.09060934 4775.09060934 4775.09060934 4775.09060934 4775.09060934\n",
      " 4775.09060934]\n"
     ]
    },
    {
     "name": "stderr",
     "output_type": "stream",
     "text": [
      " 60%|███████████████████████▏               | 1310/2200 [00:32<00:20, 42.64it/s]"
     ]
    },
    {
     "name": "stdout",
     "output_type": "stream",
     "text": [
      "Energy: [4775.09060934 4775.09060934 4775.09060934 4775.09060934 4775.09060934\n",
      " 4784.50335293 4775.09060934 4775.09060934 4775.09060934 4775.09060934\n",
      " 4775.09060934]\n"
     ]
    },
    {
     "name": "stderr",
     "output_type": "stream",
     "text": [
      " 62%|████████████████████████               | 1360/2200 [00:33<00:19, 43.30it/s]"
     ]
    },
    {
     "name": "stdout",
     "output_type": "stream",
     "text": [
      "Energy: [4775.09060934 4775.09060934 4775.09060934 4775.09060934 4775.09060934\n",
      " 4775.09060934 4775.09060934 4775.09060934 4775.09060934 4775.09060934\n",
      " 4775.09060934]\n"
     ]
    },
    {
     "name": "stderr",
     "output_type": "stream",
     "text": [
      " 64%|████████████████████████▉              | 1410/2200 [00:35<00:17, 44.27it/s]"
     ]
    },
    {
     "name": "stdout",
     "output_type": "stream",
     "text": [
      "Energy: [4775.09060934 4775.09060934 4775.09060934 4775.09060934 4775.09060934\n",
      " 4775.09060934 4775.09060934 4775.09060934 4775.09060934 4775.09060934\n",
      " 4775.09060934]\n"
     ]
    },
    {
     "name": "stderr",
     "output_type": "stream",
     "text": [
      " 66%|█████████████████████████▉             | 1460/2200 [00:36<00:16, 44.22it/s]"
     ]
    },
    {
     "name": "stdout",
     "output_type": "stream",
     "text": [
      "Energy: [4775.09060934 4775.09060934 4775.09060934 4775.09060934 4775.09060934\n",
      " 4784.50335293 4775.09060934 4775.09060934 4775.09060934 4775.09060934\n",
      " 4775.09060934]\n"
     ]
    },
    {
     "name": "stderr",
     "output_type": "stream",
     "text": [
      " 69%|██████████████████████████▊            | 1510/2200 [00:37<00:15, 45.18it/s]"
     ]
    },
    {
     "name": "stdout",
     "output_type": "stream",
     "text": [
      "Energy: [4775.09060934 4775.09060934 4784.50335293 4775.09060934 4775.09060934\n",
      " 4775.09060934 4775.09060934 4775.09060934 4775.09060934 4775.09060934\n",
      " 4775.09060934]\n"
     ]
    },
    {
     "name": "stderr",
     "output_type": "stream",
     "text": [
      " 71%|███████████████████████████▌           | 1555/2200 [00:38<00:15, 42.31it/s]"
     ]
    },
    {
     "name": "stdout",
     "output_type": "stream",
     "text": [
      "Energy: [4775.09060934 4775.09060934 4775.09060934 4775.09060934 4775.09060934\n",
      " 4775.09060934 4784.50335293 4775.09060934 4775.09060934 4775.09060934\n",
      " 4775.09060934]\n"
     ]
    },
    {
     "name": "stderr",
     "output_type": "stream",
     "text": [
      " 73%|████████████████████████████▌          | 1610/2200 [00:39<00:13, 42.63it/s]"
     ]
    },
    {
     "name": "stdout",
     "output_type": "stream",
     "text": [
      "Energy: [4793.91135163 4775.09060934 4775.09060934 4775.09060934 4775.09060934\n",
      " 4775.09060934 4775.09060934 4775.09060934 4775.09060934 4775.09060934\n",
      " 4775.09060934]\n"
     ]
    },
    {
     "name": "stderr",
     "output_type": "stream",
     "text": [
      " 75%|█████████████████████████████▍         | 1660/2200 [00:40<00:11, 45.01it/s]"
     ]
    },
    {
     "name": "stdout",
     "output_type": "stream",
     "text": [
      "Energy: [4775.09060934 4775.09060934 4775.09060934 4784.50335293 4775.09060934\n",
      " 4775.09060934 4775.09060934 4775.09060934 4775.09060934 4775.09060934\n",
      " 4775.09060934]\n"
     ]
    },
    {
     "name": "stderr",
     "output_type": "stream",
     "text": [
      " 78%|██████████████████████████████▎        | 1710/2200 [00:41<00:10, 45.85it/s]"
     ]
    },
    {
     "name": "stdout",
     "output_type": "stream",
     "text": [
      "Energy: [4775.09060934 4775.09060934 4775.09060934 4775.09060934 4775.09060934\n",
      " 4775.09060934 4775.09060934 4775.09060934 4775.09060934 4775.09060934\n",
      " 4775.09060934]\n"
     ]
    },
    {
     "name": "stderr",
     "output_type": "stream",
     "text": [
      " 80%|███████████████████████████████▏       | 1760/2200 [00:43<00:11, 39.99it/s]"
     ]
    },
    {
     "name": "stdout",
     "output_type": "stream",
     "text": [
      "Energy: [4775.09060934 4775.09060934 4775.09060934 4775.09060934 4775.09060934\n",
      " 4775.09060934 4775.09060934 4775.09060934 4775.09060934 4775.09060934\n",
      " 4775.09060934]\n"
     ]
    },
    {
     "name": "stderr",
     "output_type": "stream",
     "text": [
      " 82%|████████████████████████████████       | 1810/2200 [00:44<00:08, 43.63it/s]"
     ]
    },
    {
     "name": "stdout",
     "output_type": "stream",
     "text": [
      "Energy: [4775.09060934 4784.50335293 4775.09060934 4775.09060934 4775.09060934\n",
      " 4775.09060934 4775.09060934 4775.09060934 4775.09060934 4775.09060934\n",
      " 4775.09060934]\n"
     ]
    },
    {
     "name": "stderr",
     "output_type": "stream",
     "text": [
      " 84%|████████████████████████████████▉      | 1855/2200 [00:45<00:07, 44.48it/s]"
     ]
    },
    {
     "name": "stdout",
     "output_type": "stream",
     "text": [
      "Energy: [4775.09060934 4775.09060934 4784.50335293 4775.09060934 4775.09060934\n",
      " 4775.09060934 4775.09060934 4775.09060934 4775.09060934 4775.09060934\n",
      " 4775.09060934]\n"
     ]
    },
    {
     "name": "stderr",
     "output_type": "stream",
     "text": [
      " 87%|█████████████████████████████████▊     | 1905/2200 [00:46<00:06, 42.57it/s]"
     ]
    },
    {
     "name": "stdout",
     "output_type": "stream",
     "text": [
      "Energy: [4775.09060934 4775.09060934 4775.09060934 4775.09060934 4775.09060934\n",
      " 4775.09060934 4775.09060934 4775.09060934 4775.09060934 4775.09060934\n",
      " 4775.09060934]\n"
     ]
    },
    {
     "name": "stderr",
     "output_type": "stream",
     "text": [
      " 89%|██████████████████████████████████▋    | 1960/2200 [00:47<00:05, 44.21it/s]"
     ]
    },
    {
     "name": "stdout",
     "output_type": "stream",
     "text": [
      "Energy: [4775.09060934 4775.09060934 4775.09060934 4775.09060934 4775.09060934\n",
      " 4775.09060934 4775.09060934 4775.09060934 4775.09060934 4775.09060934\n",
      " 4775.09060934]\n"
     ]
    },
    {
     "name": "stderr",
     "output_type": "stream",
     "text": [
      " 91%|███████████████████████████████████▋   | 2010/2200 [00:48<00:04, 43.50it/s]"
     ]
    },
    {
     "name": "stdout",
     "output_type": "stream",
     "text": [
      "Energy: [4775.09060934 4784.50335293 4775.09060934 4775.09060934 4775.09060934\n",
      " 4775.09060934 4775.09060934 4775.09060934 4775.09060934 4775.09060934\n",
      " 4775.09060934]\n"
     ]
    },
    {
     "name": "stderr",
     "output_type": "stream",
     "text": [
      " 94%|████████████████████████████████████▌  | 2060/2200 [00:50<00:03, 43.79it/s]"
     ]
    },
    {
     "name": "stdout",
     "output_type": "stream",
     "text": [
      "Energy: [4775.09060934 4775.09060934 4775.09060934 4775.09060934 4775.09060934\n",
      " 4775.09060934 4775.09060934 4775.09060934 4775.09060934 4775.09060934\n",
      " 4775.09060934]\n"
     ]
    },
    {
     "name": "stderr",
     "output_type": "stream",
     "text": [
      " 96%|█████████████████████████████████████▍ | 2110/2200 [00:51<00:02, 42.89it/s]"
     ]
    },
    {
     "name": "stdout",
     "output_type": "stream",
     "text": [
      "Energy: [4784.50335293 4775.09060934 4775.09060934 4775.09060934 4775.09060934\n",
      " 4775.09060934 4775.09060934 4775.09060934 4775.09060934 4775.09060934\n",
      " 4775.09060934]\n"
     ]
    },
    {
     "name": "stderr",
     "output_type": "stream",
     "text": [
      " 98%|██████████████████████████████████████▎| 2160/2200 [00:52<00:00, 44.86it/s]"
     ]
    },
    {
     "name": "stdout",
     "output_type": "stream",
     "text": [
      "Energy: [4775.09060934 4775.09060934 4775.09060934 4775.09060934 4775.09060934\n",
      " 4775.09060934 4775.09060934 4775.09060934 4775.09060934 4775.09060934\n",
      " 4775.09060934]\n"
     ]
    },
    {
     "name": "stderr",
     "output_type": "stream",
     "text": [
      "100%|███████████████████████████████████████| 2200/2200 [00:53<00:00, 41.32it/s]\n"
     ]
    },
    {
     "name": "stdout",
     "output_type": "stream",
     "text": [
      "Fin Energy_t 4775.090609339986 Energy_gs 4775.090609339986\n",
      "c_accep 0 c_rounds 0\n",
      "Elapsed (after compilation) = 53.24527382850647\n",
      "[[184 199 189 191 202 216 212 214 215 213 217 218]\n",
      " [184 199 189 191 202 216 212 214 215 213 217 218]]\n",
      "[[184 199 189 191 202 216 212 214 215 213 217 218]\n",
      " [184 199 189 191 202 216 212 214 215 213 217 218]]\n",
      "[[210 180 208 190 205 218 212 214 215 217 213 216]\n",
      " [210 180 208 190 205 218 212 214 215 217 213 216]]\n",
      "[[184 199 189 191 202 216 212 214 215 213 217 218]\n",
      " [184 199 189 191 202 216 212 214 215 213 217 218]]\n",
      "[[210 180 208 190 205 218 212 214 215 217 213 216]\n",
      " [210 180 208 190 205 218 212 214 215 217 213 216]]\n",
      "[[184 199 189 191 202 216 212 214 215 213 217 218]\n",
      " [184 199 189 191 202 216 212 214 215 213 217 218]]\n",
      "[[184 199 189 191 202 216 212 214 215 213 217 218]\n",
      " [184 199 189 191 202 216 212 214 215 213 217 218]]\n",
      "[[184 199 189 191 202 216 212 214 215 213 217 218]\n",
      " [184 199 189 191 202 216 212 214 215 213 217 218]]\n",
      "[[210 180 208 190 205 218 212 214 215 217 213 216]\n",
      " [210 180 208 190 205 218 212 214 215 217 213 216]]\n",
      "[[197 206 211 201 182 216 213 214 215 212 218 217]\n",
      " [197 206 211 201 182 216 213 214 215 212 218 217]]\n",
      "[[197 206 211 201 182 216 213 214 215 212 218 217]\n",
      " [197 206 211 201 182 216 213 214 215 212 218 217]]\n",
      "[[197 206 207 201 182 216 213 214 215 212 218 217]\n",
      " [197 206 211 201 182 216 213 214 215 212 218 217]]\n",
      "[[184 199 189 191 202 218 212 214 215 213 217 216]\n",
      " [184 199 189 191 202 218 212 214 215 213 217 216]]\n",
      "[[184 199 189 191 202 218 212 214 215 213 217 216]\n",
      " [184 199 189 191 202 218 212 214 215 213 217 216]]\n",
      "[[197 206 211 201 182 216 213 214 215 212 218 217]\n",
      " [197 206 211 201 182 216 213 214 215 212 218 217]]\n",
      "[[197 206 207 201 182 216 213 214 215 212 218 217]\n",
      " [197 206 207 201 182 216 213 214 215 212 218 217]]\n",
      "[[188 198 200 180 183 215 213 214 212 217 218 216]\n",
      " [188 198 200 180 183 215 213 214 212 217 218 216]]\n",
      "[[184 199 189 191 202 218 212 214 215 213 217 216]\n",
      " [184 199 189 191 202 218 212 214 215 213 217 216]]\n",
      "[[210 180 208 190 205 218 212 214 215 217 213 216]\n",
      " [210 180 208 190 205 218 212 214 215 217 213 216]]\n",
      "[[210 180 208 190 205 218 212 214 215 217 213 216]\n",
      " [210 180 208 190 205 218 212 214 215 217 213 216]]\n",
      "[[200 211 205 190 204 217 218 214 215 212 216 213]\n",
      " [200 211 205 190 204 217 218 214 215 212 216 213]]\n",
      "[[200 210 204 193 209 218 213 214 215 217 212 216]\n",
      " [200 210 204 193 209 218 213 214 215 217 212 216]]\n",
      "[[200 210 204 193 209 218 213 214 215 217 212 216]\n",
      " [200 210 204 193 209 218 213 214 215 217 212 216]]\n",
      "[[200 210 204 193 209 218 213 214 215 217 212 216]\n",
      " [200 210 204 193 209 218 213 214 215 217 212 216]]\n",
      "[[200 210 204 193 209 218 213 214 215 217 212 216]\n",
      " [200 210 204 193 209 218 213 214 215 217 212 216]]\n",
      "[[210 180 208 190 205 218 212 214 215 217 213 216]\n",
      " [210 180 208 190 205 218 212 214 215 217 213 216]]\n",
      "[[197 206 207 201 182 216 213 214 215 212 218 217]\n",
      " [197 206 211 201 182 216 213 214 215 212 218 217]]\n",
      "[[210 180 208 190 205 218 212 214 215 217 213 216]\n",
      " [210 180 208 190 205 218 212 214 215 217 213 216]]\n",
      "[[200 210 204 193 209 218 213 214 215 217 212 216]\n",
      " [200 210 204 193 209 218 213 214 215 217 212 216]]\n",
      "[[200 210 204 193 209 218 213 214 215 217 212 216]\n",
      " [200 210 204 193 209 218 213 214 215 217 212 216]]\n",
      "[[200 208 205 190 204 217 218 214 215 212 216 213]\n",
      " [200 208 205 190 204 217 218 214 215 212 216 213]]\n",
      "[[183 184 182 204 194 212 214 218 215 216 213 217]\n",
      " [183 184 182 204 194 212 214 218 215 216 213 217]]\n",
      "[[210 180 208 190 205 218 212 214 215 217 213 216]\n",
      " [210 180 208 190 205 218 212 214 215 217 213 216]]\n",
      "[[210 180 208 190 205 218 212 214 215 217 213 216]\n",
      " [210 180 208 190 205 218 212 214 215 217 213 216]]\n",
      "[[184 199 189 191 202 218 212 214 215 213 217 216]\n",
      " [184 199 189 191 202 218 212 214 215 213 217 216]]\n",
      "[[198 206 187 200 181 216 215 214 212 218 213 217]\n",
      " [198 206 187 200 181 216 215 214 212 218 213 217]]\n",
      "[[189 201 206 188 208 218 213 214 215 217 212 216]\n",
      " [189 201 206 188 208 218 213 214 215 217 212 216]]\n",
      "[[198 206 187 200 181 216 215 214 212 218 213 217]\n",
      " [198 206 187 200 181 216 215 214 212 218 213 217]]\n",
      "[[198 206 187 200 181 216 215 214 212 218 213 217]\n",
      " [198 206 187 200 181 216 215 214 212 218 213 217]]\n",
      "[[198 206 187 200 181 216 215 214 212 218 213 217]\n",
      " [198 206 187 200 181 216 215 214 212 218 213 217]]\n",
      "[0.99086758] [1.]\n",
      "i_reps 1\n",
      "Energía ini: 16081.526930671918 /gs: 4775.090609339986\n"
     ]
    },
    {
     "name": "stderr",
     "output_type": "stream",
     "text": [
      " 10%|███▊                                    | 209/2200 [00:04<00:49, 40.20it/s]"
     ]
    },
    {
     "name": "stdout",
     "output_type": "stream",
     "text": [
      "Energy: [5046.17426521 4775.09060934 4775.09060934 4775.09060934 4971.77668135\n",
      " 4953.13223011 4775.09060934 4878.37168779 4775.09060934 4775.09060934\n",
      " 4775.09060934]\n"
     ]
    },
    {
     "name": "stderr",
     "output_type": "stream",
     "text": [
      " 12%|████▋                                   | 259/2200 [00:06<00:43, 44.48it/s]"
     ]
    },
    {
     "name": "stdout",
     "output_type": "stream",
     "text": [
      "Energy: [4784.50335293 4775.09060934 4784.50335293 4784.50335293 4775.09060934\n",
      " 4775.09060934 4775.09060934 4775.09060934 4775.09060934 4775.09060934\n",
      " 4775.09060934]\n"
     ]
    },
    {
     "name": "stderr",
     "output_type": "stream",
     "text": [
      " 14%|█████▌                                  | 309/2200 [00:07<00:42, 44.21it/s]"
     ]
    },
    {
     "name": "stdout",
     "output_type": "stream",
     "text": [
      "Energy: [4775.09060934 4775.09060934 4775.09060934 4775.09060934 4775.09060934\n",
      " 4784.50335293 4775.09060934 4775.09060934 4775.09060934 4775.09060934\n",
      " 4775.09060934]\n"
     ]
    },
    {
     "name": "stderr",
     "output_type": "stream",
     "text": [
      " 16%|██████▌                                 | 359/2200 [00:08<00:41, 44.33it/s]"
     ]
    },
    {
     "name": "stdout",
     "output_type": "stream",
     "text": [
      "Energy: [4775.09060934 4793.91135163 4784.50335293 4775.09060934 4775.09060934\n",
      " 4775.09060934 4775.09060934 4775.09060934 4775.09060934 4775.09060934\n",
      " 4775.09060934]\n"
     ]
    },
    {
     "name": "stderr",
     "output_type": "stream",
     "text": [
      " 18%|███████▎                                | 404/2200 [00:09<00:39, 44.93it/s]"
     ]
    },
    {
     "name": "stdout",
     "output_type": "stream",
     "text": [
      "Energy: [4775.09060934 4775.09060934 4775.09060934 4775.09060934 4775.09060934\n",
      " 4775.09060934 4775.09060934 4775.09060934 4775.09060934 4775.09060934\n",
      " 4775.09060934]\n"
     ]
    },
    {
     "name": "stderr",
     "output_type": "stream",
     "text": [
      " 21%|████████▎                               | 459/2200 [00:10<00:40, 43.45it/s]"
     ]
    },
    {
     "name": "stdout",
     "output_type": "stream",
     "text": [
      "Energy: [4793.91135163 4775.09060934 4775.09060934 4775.09060934 4775.09060934\n",
      " 4775.09060934 4775.09060934 4775.09060934 4775.09060934 4775.09060934\n",
      " 4775.09060934]\n"
     ]
    },
    {
     "name": "stderr",
     "output_type": "stream",
     "text": [
      " 23%|█████████▎                              | 509/2200 [00:11<00:37, 45.12it/s]"
     ]
    },
    {
     "name": "stdout",
     "output_type": "stream",
     "text": [
      "Energy: [4775.09060934 4775.09060934 4775.09060934 4775.09060934 4775.09060934\n",
      " 4775.09060934 4775.09060934 4775.09060934 4775.09060934 4775.09060934\n",
      " 4775.09060934]\n"
     ]
    },
    {
     "name": "stderr",
     "output_type": "stream",
     "text": [
      " 25%|██████████▏                             | 559/2200 [00:12<00:37, 43.92it/s]"
     ]
    },
    {
     "name": "stdout",
     "output_type": "stream",
     "text": [
      "Energy: [4784.50335293 4775.09060934 4775.09060934 4775.09060934 4775.09060934\n",
      " 4775.09060934 4775.09060934 4775.09060934 4775.09060934 4775.09060934\n",
      " 4775.09060934]\n"
     ]
    },
    {
     "name": "stderr",
     "output_type": "stream",
     "text": [
      " 28%|███████████                             | 609/2200 [00:13<00:36, 43.45it/s]"
     ]
    },
    {
     "name": "stdout",
     "output_type": "stream",
     "text": [
      "Energy: [4784.50335293 4775.09060934 4775.09060934 4775.09060934 4775.09060934\n",
      " 4775.09060934 4775.09060934 4775.09060934 4775.09060934 4775.09060934\n",
      " 4775.09060934]\n"
     ]
    },
    {
     "name": "stderr",
     "output_type": "stream",
     "text": [
      " 30%|███████████▉                            | 659/2200 [00:15<00:36, 42.32it/s]"
     ]
    },
    {
     "name": "stdout",
     "output_type": "stream",
     "text": [
      "Energy: [4775.09060934 4775.09060934 4775.09060934 4775.09060934 4775.09060934\n",
      " 4775.09060934 4775.09060934 4775.09060934 4775.09060934 4775.09060934\n",
      " 4775.09060934]\n"
     ]
    },
    {
     "name": "stderr",
     "output_type": "stream",
     "text": [
      " 32%|████████████▉                           | 709/2200 [00:16<00:33, 44.53it/s]"
     ]
    },
    {
     "name": "stdout",
     "output_type": "stream",
     "text": [
      "Energy: [4784.50335293 4775.09060934 4775.09060934 4775.09060934 4775.09060934\n",
      " 4775.09060934 4775.09060934 4775.09060934 4775.09060934 4775.09060934\n",
      " 4775.09060934]\n"
     ]
    },
    {
     "name": "stderr",
     "output_type": "stream",
     "text": [
      " 34%|█████████████▋                          | 754/2200 [00:17<00:32, 44.44it/s]"
     ]
    },
    {
     "name": "stdout",
     "output_type": "stream",
     "text": [
      "Energy: [4775.09060934 4784.50335293 4775.09060934 4775.09060934 4775.09060934\n",
      " 4775.09060934 4775.09060934 4775.09060934 4775.09060934 4775.09060934\n",
      " 4775.09060934]\n"
     ]
    },
    {
     "name": "stderr",
     "output_type": "stream",
     "text": [
      " 37%|██████████████▋                         | 809/2200 [00:18<00:31, 43.79it/s]"
     ]
    },
    {
     "name": "stdout",
     "output_type": "stream",
     "text": [
      "Energy: [4775.09060934 4775.09060934 4775.09060934 4775.09060934 4775.09060934\n",
      " 4775.09060934 4775.09060934 4775.09060934 4775.09060934 4775.09060934\n",
      " 4775.09060934]\n"
     ]
    },
    {
     "name": "stderr",
     "output_type": "stream",
     "text": [
      " 39%|███████████████▌                        | 854/2200 [00:19<00:31, 42.41it/s]"
     ]
    },
    {
     "name": "stdout",
     "output_type": "stream",
     "text": [
      "Energy: [4775.09060934 4775.09060934 4775.09060934 4775.09060934 4775.09060934\n",
      " 4775.09060934 4775.09060934 4775.09060934 4775.09060934 4775.09060934\n",
      " 4775.09060934]\n"
     ]
    },
    {
     "name": "stderr",
     "output_type": "stream",
     "text": [
      " 41%|████████████████▌                       | 909/2200 [00:20<00:29, 43.76it/s]"
     ]
    },
    {
     "name": "stdout",
     "output_type": "stream",
     "text": [
      "Energy: [4775.09060934 4775.09060934 4775.09060934 4775.09060934 4775.09060934\n",
      " 4775.09060934 4775.09060934 4775.09060934 4775.09060934 4775.09060934\n",
      " 4775.09060934]\n"
     ]
    },
    {
     "name": "stderr",
     "output_type": "stream",
     "text": [
      " 44%|█████████████████▍                      | 959/2200 [00:22<00:28, 43.02it/s]"
     ]
    },
    {
     "name": "stdout",
     "output_type": "stream",
     "text": [
      "Energy: [4793.91135163 4775.09060934 4775.09060934 4775.09060934 4775.09060934\n",
      " 4775.09060934 4775.09060934 4775.09060934 4775.09060934 4775.09060934\n",
      " 4775.09060934]\n"
     ]
    },
    {
     "name": "stderr",
     "output_type": "stream",
     "text": [
      " 46%|█████████████████▉                     | 1009/2200 [00:23<00:29, 40.41it/s]"
     ]
    },
    {
     "name": "stdout",
     "output_type": "stream",
     "text": [
      "Energy: [4775.09060934 4775.09060934 4775.09060934 4775.09060934 4784.50335293\n",
      " 4775.09060934 4775.09060934 4775.09060934 4775.09060934 4775.09060934\n",
      " 4775.09060934]\n"
     ]
    },
    {
     "name": "stderr",
     "output_type": "stream",
     "text": [
      " 48%|██████████████████▊                    | 1059/2200 [00:24<00:26, 43.12it/s]"
     ]
    },
    {
     "name": "stdout",
     "output_type": "stream",
     "text": [
      "Energy: [4784.50335293 4775.09060934 4775.09060934 4775.09060934 4775.09060934\n",
      " 4775.09060934 4775.09060934 4775.09060934 4775.09060934 4775.09060934\n",
      " 4775.09060934]\n"
     ]
    },
    {
     "name": "stderr",
     "output_type": "stream",
     "text": [
      " 51%|███████████████████▋                   | 1113/2200 [00:25<00:25, 43.06it/s]"
     ]
    },
    {
     "name": "stdout",
     "output_type": "stream",
     "text": [
      "Energy: [4775.09060934 4775.09060934 4775.09060934 4775.09060934 4775.09060934\n",
      " 4775.09060934 4775.09060934 4775.09060934 4775.09060934 4775.09060934\n",
      " 4775.09060934]\n"
     ]
    },
    {
     "name": "stderr",
     "output_type": "stream",
     "text": [
      " 53%|████████████████████▌                  | 1158/2200 [00:26<00:23, 44.72it/s]"
     ]
    },
    {
     "name": "stdout",
     "output_type": "stream",
     "text": [
      "Energy: [4775.09060934 4775.09060934 4775.09060934 4775.09060934 4775.09060934\n",
      " 4775.09060934 4775.09060934 4775.09060934 4775.09060934 4775.09060934\n",
      " 4775.09060934]\n"
     ]
    },
    {
     "name": "stderr",
     "output_type": "stream",
     "text": [
      " 55%|█████████████████████▍                 | 1208/2200 [00:27<00:22, 43.70it/s]"
     ]
    },
    {
     "name": "stdout",
     "output_type": "stream",
     "text": [
      "Energy: [4775.09060934 4793.91135163 4775.09060934 4775.09060934 4775.09060934\n",
      " 4775.09060934 4775.09060934 4775.09060934 4775.09060934 4775.09060934\n",
      " 4775.09060934]\n"
     ]
    },
    {
     "name": "stderr",
     "output_type": "stream",
     "text": [
      " 57%|██████████████████████▎                | 1258/2200 [00:28<00:21, 43.99it/s]"
     ]
    },
    {
     "name": "stdout",
     "output_type": "stream",
     "text": [
      "Energy: [4793.91135163 4775.09060934 4775.09060934 4775.09060934 4775.09060934\n",
      " 4775.09060934 4775.09060934 4775.09060934 4775.09060934 4775.09060934\n",
      " 4775.09060934]\n"
     ]
    },
    {
     "name": "stderr",
     "output_type": "stream",
     "text": [
      " 59%|███████████████████████▏               | 1308/2200 [00:30<00:21, 42.18it/s]"
     ]
    },
    {
     "name": "stdout",
     "output_type": "stream",
     "text": [
      "Energy: [4784.50335293 4775.09060934 4775.09060934 4775.09060934 4775.09060934\n",
      " 4775.09060934 4775.09060934 4775.09060934 4775.09060934 4775.09060934\n",
      " 4775.09060934]\n"
     ]
    },
    {
     "name": "stderr",
     "output_type": "stream",
     "text": [
      " 62%|████████████████████████               | 1358/2200 [00:31<00:19, 43.06it/s]"
     ]
    },
    {
     "name": "stdout",
     "output_type": "stream",
     "text": [
      "Energy: [4775.09060934 4775.09060934 4775.09060934 4775.09060934 4775.09060934\n",
      " 4775.09060934 4775.09060934 4775.09060934 4775.09060934 4775.09060934\n",
      " 4775.09060934]\n"
     ]
    },
    {
     "name": "stderr",
     "output_type": "stream",
     "text": [
      " 64%|████████████████████████▉              | 1408/2200 [00:32<00:17, 44.03it/s]"
     ]
    },
    {
     "name": "stdout",
     "output_type": "stream",
     "text": [
      "Energy: [4775.09060934 4775.09060934 4775.09060934 4775.09060934 4775.09060934\n",
      " 4775.09060934 4775.09060934 4775.09060934 4775.09060934 4775.09060934\n",
      " 4775.09060934]\n"
     ]
    },
    {
     "name": "stderr",
     "output_type": "stream",
     "text": [
      " 66%|█████████████████████████▊             | 1458/2200 [00:33<00:16, 44.30it/s]"
     ]
    },
    {
     "name": "stdout",
     "output_type": "stream",
     "text": [
      "Energy: [4775.09060934 4775.09060934 4775.09060934 4775.09060934 4775.09060934\n",
      " 4775.09060934 4775.09060934 4775.09060934 4775.09060934 4775.09060934\n",
      " 4775.09060934]\n"
     ]
    },
    {
     "name": "stderr",
     "output_type": "stream",
     "text": [
      " 69%|██████████████████████████▋            | 1508/2200 [00:34<00:16, 41.23it/s]"
     ]
    },
    {
     "name": "stdout",
     "output_type": "stream",
     "text": [
      "Energy: [4775.09060934 4775.09060934 4775.09060934 4775.09060934 4775.09060934\n",
      " 4775.09060934 4775.09060934 4775.09060934 4775.09060934 4775.09060934\n",
      " 4775.09060934]\n"
     ]
    },
    {
     "name": "stderr",
     "output_type": "stream",
     "text": [
      " 71%|███████████████████████████▌           | 1558/2200 [00:35<00:14, 43.58it/s]"
     ]
    },
    {
     "name": "stdout",
     "output_type": "stream",
     "text": [
      "Energy: [4784.50335293 4775.09060934 4775.09060934 4784.50335293 4775.09060934\n",
      " 4775.09060934 4775.09060934 4775.09060934 4775.09060934 4775.09060934\n",
      " 4775.09060934]\n"
     ]
    },
    {
     "name": "stderr",
     "output_type": "stream",
     "text": [
      " 73%|████████████████████████████▌          | 1608/2200 [00:37<00:13, 44.08it/s]"
     ]
    },
    {
     "name": "stdout",
     "output_type": "stream",
     "text": [
      "Energy: [4775.09060934 4784.50335293 4775.09060934 4775.09060934 4775.09060934\n",
      " 4775.09060934 4775.09060934 4775.09060934 4775.09060934 4775.09060934\n",
      " 4775.09060934]\n"
     ]
    },
    {
     "name": "stderr",
     "output_type": "stream",
     "text": [
      " 75%|█████████████████████████████▍         | 1658/2200 [00:38<00:12, 43.02it/s]"
     ]
    },
    {
     "name": "stdout",
     "output_type": "stream",
     "text": [
      "Energy: [4784.50335293 4775.09060934 4775.09060934 4775.09060934 4775.09060934\n",
      " 4775.09060934 4775.09060934 4775.09060934 4775.09060934 4775.09060934\n",
      " 4775.09060934]\n"
     ]
    },
    {
     "name": "stderr",
     "output_type": "stream",
     "text": [
      " 78%|██████████████████████████████▎        | 1713/2200 [00:39<00:11, 41.32it/s]"
     ]
    },
    {
     "name": "stdout",
     "output_type": "stream",
     "text": [
      "Energy: [4784.50335293 4775.09060934 4775.09060934 4775.09060934 4775.09060934\n",
      " 4775.09060934 4775.09060934 4775.09060934 4775.09060934 4775.09060934\n",
      " 4775.09060934]\n"
     ]
    },
    {
     "name": "stderr",
     "output_type": "stream",
     "text": [
      " 80%|███████████████████████████████▏       | 1756/2200 [00:40<00:12, 36.81it/s]"
     ]
    },
    {
     "name": "stdout",
     "output_type": "stream",
     "text": [
      "Energy: [4775.09060934 4775.09060934 4775.09060934 4775.09060934 4775.09060934\n",
      " 4775.09060934 4775.09060934 4775.09060934 4775.09060934 4775.09060934\n",
      " 4775.09060934]\n"
     ]
    },
    {
     "name": "stderr",
     "output_type": "stream",
     "text": [
      " 82%|████████████████████████████████       | 1806/2200 [00:41<00:08, 44.46it/s]"
     ]
    },
    {
     "name": "stdout",
     "output_type": "stream",
     "text": [
      "Energy: [4775.09060934 4775.09060934 4775.09060934 4775.09060934 4775.09060934\n",
      " 4775.09060934 4775.09060934 4775.09060934 4775.09060934 4775.09060934\n",
      " 4775.09060934]\n"
     ]
    },
    {
     "name": "stderr",
     "output_type": "stream",
     "text": [
      " 85%|████████████████████████████████▉      | 1861/2200 [00:43<00:08, 42.32it/s]"
     ]
    },
    {
     "name": "stdout",
     "output_type": "stream",
     "text": [
      "Energy: [4775.09060934 4775.09060934 4775.09060934 4775.09060934 4775.09060934\n",
      " 4775.09060934 4775.09060934 4775.09060934 4775.09060934 4775.09060934\n",
      " 4775.09060934]\n"
     ]
    },
    {
     "name": "stderr",
     "output_type": "stream",
     "text": [
      " 87%|█████████████████████████████████▉     | 1911/2200 [00:44<00:06, 44.18it/s]"
     ]
    },
    {
     "name": "stdout",
     "output_type": "stream",
     "text": [
      "Energy: [4784.50335293 4775.09060934 4775.09060934 4775.09060934 4775.09060934\n",
      " 4775.09060934 4775.09060934 4775.09060934 4775.09060934 4775.09060934\n",
      " 4775.09060934]\n"
     ]
    },
    {
     "name": "stderr",
     "output_type": "stream",
     "text": [
      " 89%|██████████████████████████████████▋    | 1956/2200 [00:45<00:05, 43.42it/s]"
     ]
    },
    {
     "name": "stdout",
     "output_type": "stream",
     "text": [
      "Energy: [4775.09060934 4775.09060934 4775.09060934 4775.09060934 4775.09060934\n",
      " 4775.09060934 4775.09060934 4775.09060934 4775.09060934 4775.09060934\n",
      " 4775.09060934]\n"
     ]
    },
    {
     "name": "stderr",
     "output_type": "stream",
     "text": [
      " 91%|███████████████████████████████████▋   | 2011/2200 [00:46<00:04, 43.96it/s]"
     ]
    },
    {
     "name": "stdout",
     "output_type": "stream",
     "text": [
      "Energy: [4775.09060934 4775.09060934 4775.09060934 4775.09060934 4775.09060934\n",
      " 4775.09060934 4775.09060934 4784.50335293 4775.09060934 4775.09060934\n",
      " 4775.09060934]\n"
     ]
    },
    {
     "name": "stderr",
     "output_type": "stream",
     "text": [
      " 93%|████████████████████████████████████▍  | 2056/2200 [00:47<00:03, 43.96it/s]"
     ]
    },
    {
     "name": "stdout",
     "output_type": "stream",
     "text": [
      "Energy: [4775.09060934 4775.09060934 4775.09060934 4775.09060934 4775.09060934\n",
      " 4775.09060934 4775.09060934 4775.09060934 4775.09060934 4775.09060934\n",
      " 4775.09060934]\n"
     ]
    },
    {
     "name": "stderr",
     "output_type": "stream",
     "text": [
      " 96%|█████████████████████████████████████▍ | 2111/2200 [00:49<00:02, 43.19it/s]"
     ]
    },
    {
     "name": "stdout",
     "output_type": "stream",
     "text": [
      "Energy: [4784.50335293 4775.09060934 4775.09060934 4775.09060934 4775.09060934\n",
      " 4775.09060934 4775.09060934 4775.09060934 4775.09060934 4775.09060934\n",
      " 4775.09060934]\n"
     ]
    },
    {
     "name": "stderr",
     "output_type": "stream",
     "text": [
      " 98%|██████████████████████████████████████▏| 2156/2200 [00:50<00:01, 42.46it/s]"
     ]
    },
    {
     "name": "stdout",
     "output_type": "stream",
     "text": [
      "Energy: [4775.09060934 4775.09060934 4775.09060934 4775.09060934 4775.09060934\n",
      " 4775.09060934 4775.09060934 4775.09060934 4775.09060934 4775.09060934\n",
      " 4775.09060934]\n"
     ]
    },
    {
     "name": "stderr",
     "output_type": "stream",
     "text": [
      "100%|███████████████████████████████████████| 2200/2200 [00:51<00:00, 43.00it/s]\n"
     ]
    },
    {
     "name": "stdout",
     "output_type": "stream",
     "text": [
      "Fin Energy_t 4775.090609339986 Energy_gs 4775.090609339986\n",
      "c_accep 0 c_rounds 0\n",
      "Elapsed (after compilation) = 51.15929579734802\n",
      "[[189 210 180 205 188 212 214 218 217 216 215 213]\n",
      " [189 210 180 205 188 212 214 218 217 216 215 213]]\n",
      "[[186 182 200 208 205 217 212 214 215 216 218 213]\n",
      " [186 182 200 208 205 217 212 214 215 216 218 213]]\n",
      "[[189 210 180 205 188 212 214 218 217 216 215 213]\n",
      " [189 210 180 205 188 212 214 218 217 216 215 213]]\n",
      "[[189 210 180 205 188 212 214 218 217 216 215 213]\n",
      " [189 210 180 205 188 212 214 218 217 216 215 213]]\n",
      "[[183 182 198 196 180 216 218 215 214 217 212 213]\n",
      " [183 182 198 196 180 216 218 215 214 217 212 213]]\n",
      "[[183 182 198 196 180 216 218 215 214 217 212 213]\n",
      " [183 182 198 196 180 216 218 215 214 217 212 213]]\n",
      "[[189 210 180 205 188 212 214 218 217 216 215 213]\n",
      " [189 210 180 205 188 212 214 218 217 216 215 213]]\n",
      "[[189 210 180 205 188 212 214 218 217 216 215 213]\n",
      " [189 210 180 205 188 212 214 218 217 216 215 213]]\n",
      "[[183 182 198 196 180 216 218 215 214 217 212 213]\n",
      " [183 182 198 196 180 216 218 215 214 217 212 213]]\n",
      "[[183 182 198 196 180 216 218 215 214 217 212 213]\n",
      " [183 182 198 196 180 216 218 215 214 217 212 213]]\n",
      "[[211 193 206 201 188 214 216 217 213 218 212 215]\n",
      " [211 193 206 201 188 214 216 217 213 218 212 215]]\n",
      "[[211 193 206 201 188 214 216 217 213 218 212 215]\n",
      " [211 193 206 201 188 214 216 217 213 218 212 215]]\n",
      "[[186 182 200 208 205 217 212 214 215 216 218 213]\n",
      " [186 182 200 208 205 217 212 214 215 216 218 213]]\n",
      "[[186 182 200 208 205 217 212 214 215 216 218 213]\n",
      " [186 182 200 208 205 217 212 214 215 216 218 213]]\n",
      "[[211 193 206 201 188 214 216 217 213 218 212 215]\n",
      " [211 193 206 201 188 214 216 217 213 218 212 215]]\n",
      "[[186 182 200 208 205 217 212 214 215 216 218 213]\n",
      " [186 182 200 208 205 217 212 214 215 216 218 213]]\n",
      "[[189 210 180 205 188 212 214 218 217 216 215 213]\n",
      " [189 210 180 205 188 212 214 218 217 216 215 213]]\n",
      "[[186 182 200 208 205 217 212 214 215 216 218 213]\n",
      " [186 182 200 208 205 217 212 214 215 216 218 213]]\n",
      "[[186 182 200 208 205 217 212 214 215 216 218 213]\n",
      " [186 182 200 208 205 217 212 214 215 216 218 213]]\n",
      "[[189 210 180 205 188 212 214 218 217 216 215 213]\n",
      " [189 210 180 205 188 212 214 218 217 216 215 213]]\n",
      "[[204 189 196 187 208 216 212 214 215 217 213 218]\n",
      " [204 189 196 187 208 216 212 214 215 217 213 218]]\n",
      "[[204 189 196 187 208 216 212 214 215 217 213 218]\n",
      " [204 189 196 187 208 216 212 214 215 217 213 218]]\n",
      "[[204 189 196 187 208 216 212 214 215 217 213 218]\n",
      " [204 189 196 187 208 216 212 214 215 217 213 218]]\n",
      "[[204 189 196 187 208 216 212 214 215 217 213 218]\n",
      " [204 189 196 187 208 216 212 214 215 217 213 218]]\n",
      "[[204 189 196 187 208 216 212 214 215 217 213 218]\n",
      " [204 189 196 187 208 216 212 214 215 217 213 218]]\n",
      "[[204 189 196 187 208 216 212 214 215 217 213 218]\n",
      " [204 189 196 187 208 216 212 214 215 217 213 218]]\n",
      "[[211 193 206 201 188 214 216 217 213 218 212 215]\n",
      " [211 193 206 201 188 214 216 217 213 218 212 215]]\n",
      "[[204 189 196 187 208 216 212 214 215 217 213 218]\n",
      " [204 189 196 187 208 216 212 214 215 217 213 218]]\n",
      "[[204 189 196 187 208 216 212 214 215 217 213 218]\n",
      " [204 189 196 187 208 216 212 214 215 217 213 218]]\n",
      "[[186 182 200 208 205 217 212 214 215 216 218 213]\n",
      " [186 182 200 208 205 217 212 214 215 216 218 213]]\n",
      "[[204 189 196 187 208 216 212 214 215 217 213 218]\n",
      " [204 189 196 187 208 216 212 214 215 217 213 218]]\n",
      "[[186 182 200 208 205 217 212 214 215 216 218 213]\n",
      " [186 182 200 208 205 217 212 214 215 216 218 213]]\n",
      "[[186 182 200 208 205 217 212 214 215 216 218 213]\n",
      " [186 182 200 208 205 217 212 214 215 216 218 213]]\n",
      "[[185 209 203 207 205 214 217 215 218 216 213 212]\n",
      " [185 209 203 207 205 214 217 215 218 216 213 212]]\n",
      "[[204 189 196 187 208 216 212 214 215 217 213 218]\n",
      " [204 189 196 187 208 216 212 214 215 217 213 218]]\n",
      "[[186 182 200 208 205 217 212 214 215 216 218 213]\n",
      " [186 182 200 208 205 217 212 214 215 216 218 213]]\n",
      "[[199 202 207 186 205 213 215 216 214 218 212 217]\n",
      " [199 202 207 186 205 213 215 216 214 218 212 217]]\n",
      "[[199 202 207 186 205 213 215 216 214 218 212 217]\n",
      " [199 202 207 186 205 213 215 216 214 218 212 217]]\n",
      "[[185 209 203 207 205 214 217 215 218 216 213 212]\n",
      " [185 209 203 207 205 214 217 215 218 216 213 212]]\n",
      "[[191 202 207 186 205 213 215 216 214 218 212 217]\n",
      " [191 202 207 186 205 213 215 216 214 218 212 217]]\n",
      "[1.] [1.]\n",
      "i_reps 2\n",
      "Energía ini: 16344.01213788546 /gs: 4727.955313928476\n"
     ]
    },
    {
     "name": "stderr",
     "output_type": "stream",
     "text": [
      "  9%|███▋                                    | 205/2200 [00:04<00:50, 39.89it/s]"
     ]
    },
    {
     "name": "stdout",
     "output_type": "stream",
     "text": [
      "Energy: [4746.82379403 4727.95531393 4727.95531393 4727.95531393 4727.95531393\n",
      " 4727.95531393 4727.95531393 4727.95531393 4727.95531393 4727.95531393\n",
      " 4727.95531393]\n"
     ]
    },
    {
     "name": "stderr",
     "output_type": "stream",
     "text": [
      " 12%|████▋                                   | 255/2200 [00:05<00:43, 44.29it/s]"
     ]
    },
    {
     "name": "stdout",
     "output_type": "stream",
     "text": [
      "Energy: [4727.95531393 4727.95531393 4727.95531393 4727.95531393 4727.95531393\n",
      " 4727.95531393 4727.95531393 4727.95531393 4727.95531393 4727.95531393\n",
      " 4727.95531393]\n"
     ]
    },
    {
     "name": "stderr",
     "output_type": "stream",
     "text": [
      " 14%|█████▌                                  | 305/2200 [00:07<00:42, 45.09it/s]"
     ]
    },
    {
     "name": "stdout",
     "output_type": "stream",
     "text": [
      "Energy: [4727.95531393 4727.95531393 4727.95531393 4727.95531393 4727.95531393\n",
      " 4727.95531393 4727.95531393 4727.95531393 4727.95531393 4727.95531393\n",
      " 4727.95531393]\n"
     ]
    },
    {
     "name": "stderr",
     "output_type": "stream",
     "text": [
      " 16%|██████▌                                 | 360/2200 [00:08<00:40, 44.98it/s]"
     ]
    },
    {
     "name": "stdout",
     "output_type": "stream",
     "text": [
      "Energy: [4727.95531393 4727.95531393 4727.95531393 4727.95531393 4727.95531393\n",
      " 4727.95531393 4727.95531393 4727.95531393 4727.95531393 4727.95531393\n",
      " 4727.95531393]\n"
     ]
    },
    {
     "name": "stderr",
     "output_type": "stream",
     "text": [
      " 19%|███████▍                                | 410/2200 [00:09<00:41, 42.90it/s]"
     ]
    },
    {
     "name": "stdout",
     "output_type": "stream",
     "text": [
      "Energy: [4727.95531393 4727.95531393 4727.95531393 4727.95531393 4727.95531393\n",
      " 4727.95531393 4727.95531393 4727.95531393 4727.95531393 4727.95531393\n",
      " 4727.95531393]\n"
     ]
    },
    {
     "name": "stderr",
     "output_type": "stream",
     "text": [
      " 21%|████████▎                               | 460/2200 [00:10<00:38, 44.81it/s]"
     ]
    },
    {
     "name": "stdout",
     "output_type": "stream",
     "text": [
      "Energy: [4727.95531393 4727.95531393 4727.95531393 4727.95531393 4727.95531393\n",
      " 4727.95531393 4727.95531393 4727.95531393 4727.95531393 4727.95531393\n",
      " 4727.95531393]\n"
     ]
    },
    {
     "name": "stderr",
     "output_type": "stream",
     "text": [
      " 23%|█████████▎                              | 510/2200 [00:11<00:38, 43.41it/s]"
     ]
    },
    {
     "name": "stdout",
     "output_type": "stream",
     "text": [
      "Energy: [4737.39195542 4727.95531393 4727.95531393 4727.95531393 4727.95531393\n",
      " 4727.95531393 4727.95531393 4727.95531393 4727.95531393 4727.95531393\n",
      " 4727.95531393]\n"
     ]
    },
    {
     "name": "stderr",
     "output_type": "stream",
     "text": [
      " 25%|██████████▏                             | 560/2200 [00:12<00:37, 43.50it/s]"
     ]
    },
    {
     "name": "stdout",
     "output_type": "stream",
     "text": [
      "Energy: [4727.95531393 4727.95531393 4727.95531393 4727.95531393 4727.95531393\n",
      " 4727.95531393 4727.95531393 4727.95531393 4727.95531393 4727.95531393\n",
      " 4727.95531393]\n"
     ]
    },
    {
     "name": "stderr",
     "output_type": "stream",
     "text": [
      " 28%|███████████                             | 610/2200 [00:13<00:37, 42.32it/s]"
     ]
    },
    {
     "name": "stdout",
     "output_type": "stream",
     "text": [
      "Energy: [4727.95531393 4727.95531393 4727.95531393 4727.95531393 4727.95531393\n",
      " 4727.95531393 4727.95531393 4727.95531393 4727.95531393 4727.95531393\n",
      " 4727.95531393]\n"
     ]
    },
    {
     "name": "stderr",
     "output_type": "stream",
     "text": [
      " 30%|████████████                            | 660/2200 [00:15<00:35, 43.14it/s]"
     ]
    },
    {
     "name": "stdout",
     "output_type": "stream",
     "text": [
      "Energy: [4727.95531393 4727.95531393 4727.95531393 4727.95531393 4727.95531393\n",
      " 4727.95531393 4727.95531393 4727.95531393 4727.95531393 4727.95531393\n",
      " 4727.95531393]\n"
     ]
    },
    {
     "name": "stderr",
     "output_type": "stream",
     "text": [
      " 32%|████████████▉                           | 710/2200 [00:16<00:33, 44.57it/s]"
     ]
    },
    {
     "name": "stdout",
     "output_type": "stream",
     "text": [
      "Energy: [4727.95531393 4727.95531393 4727.95531393 4727.95531393 4727.95531393\n",
      " 4727.95531393 4727.95531393 4727.95531393 4727.95531393 4727.95531393\n",
      " 4727.95531393]\n"
     ]
    },
    {
     "name": "stderr",
     "output_type": "stream",
     "text": [
      " 35%|█████████████▊                          | 760/2200 [00:17<00:32, 44.05it/s]"
     ]
    },
    {
     "name": "stdout",
     "output_type": "stream",
     "text": [
      "Energy: [4727.95531393 4727.95531393 4727.95531393 4737.39195542 4727.95531393\n",
      " 4727.95531393 4727.95531393 4727.95531393 4727.95531393 4727.95531393\n",
      " 4727.95531393]\n"
     ]
    },
    {
     "name": "stderr",
     "output_type": "stream",
     "text": [
      " 37%|██████████████▋                         | 810/2200 [00:18<00:31, 44.04it/s]"
     ]
    },
    {
     "name": "stdout",
     "output_type": "stream",
     "text": [
      "Energy: [4727.95531393 4727.95531393 4727.95531393 4727.95531393 4727.95531393\n",
      " 4727.95531393 4727.95531393 4727.95531393 4727.95531393 4727.95531393\n",
      " 4727.95531393]\n"
     ]
    },
    {
     "name": "stderr",
     "output_type": "stream",
     "text": [
      " 39%|███████████████▋                        | 860/2200 [00:19<00:32, 41.57it/s]"
     ]
    },
    {
     "name": "stdout",
     "output_type": "stream",
     "text": [
      "Energy: [4727.95531393 4727.95531393 4727.95531393 4727.95531393 4727.95531393\n",
      " 4727.95531393 4727.95531393 4727.95531393 4727.95531393 4727.95531393\n",
      " 4727.95531393]\n"
     ]
    },
    {
     "name": "stderr",
     "output_type": "stream",
     "text": [
      " 41%|████████████████▌                       | 910/2200 [00:20<00:31, 41.54it/s]"
     ]
    },
    {
     "name": "stdout",
     "output_type": "stream",
     "text": [
      "Energy: [4727.95531393 4727.95531393 4727.95531393 4727.95531393 4737.39195542\n",
      " 4727.95531393 4727.95531393 4727.95531393 4727.95531393 4727.95531393\n",
      " 4727.95531393]\n"
     ]
    },
    {
     "name": "stderr",
     "output_type": "stream",
     "text": [
      " 44%|█████████████████▍                      | 960/2200 [00:22<00:27, 45.30it/s]"
     ]
    },
    {
     "name": "stdout",
     "output_type": "stream",
     "text": [
      "Energy: [4727.95531393 4727.95531393 4727.95531393 4727.95531393 4727.95531393\n",
      " 4727.95531393 4727.95531393 4727.95531393 4727.95531393 4727.95531393\n",
      " 4727.95531393]\n"
     ]
    },
    {
     "name": "stderr",
     "output_type": "stream",
     "text": [
      " 46%|█████████████████▉                     | 1010/2200 [00:23<00:26, 44.42it/s]"
     ]
    },
    {
     "name": "stdout",
     "output_type": "stream",
     "text": [
      "Energy: [4727.95531393 4727.95531393 4727.95531393 4727.95531393 4727.95531393\n",
      " 4727.95531393 4727.95531393 4727.95531393 4727.95531393 4727.95531393\n",
      " 4727.95531393]\n"
     ]
    },
    {
     "name": "stderr",
     "output_type": "stream",
     "text": [
      " 48%|██████████████████▊                    | 1060/2200 [00:24<00:25, 44.27it/s]"
     ]
    },
    {
     "name": "stdout",
     "output_type": "stream",
     "text": [
      "Energy: [4727.95531393 4727.95531393 4727.95531393 4727.95531393 4727.95531393\n",
      " 4727.95531393 4727.95531393 4727.95531393 4727.95531393 4727.95531393\n",
      " 4727.95531393]\n"
     ]
    },
    {
     "name": "stderr",
     "output_type": "stream",
     "text": [
      " 50%|███████████████████▋                   | 1110/2200 [00:25<00:25, 42.25it/s]"
     ]
    },
    {
     "name": "stdout",
     "output_type": "stream",
     "text": [
      "Energy: [4727.95531393 4727.95531393 4727.95531393 4727.95531393 4727.95531393\n",
      " 4727.95531393 4727.95531393 4727.95531393 4727.95531393 4727.95531393\n",
      " 4727.95531393]\n"
     ]
    },
    {
     "name": "stderr",
     "output_type": "stream",
     "text": [
      " 53%|████████████████████▌                  | 1160/2200 [00:26<00:23, 43.94it/s]"
     ]
    },
    {
     "name": "stdout",
     "output_type": "stream",
     "text": [
      "Energy: [4746.82379403 4727.95531393 4727.95531393 4737.39195542 4727.95531393\n",
      " 4727.95531393 4727.95531393 4727.95531393 4727.95531393 4727.95531393\n",
      " 4727.95531393]\n"
     ]
    },
    {
     "name": "stderr",
     "output_type": "stream",
     "text": [
      " 55%|█████████████████████▍                 | 1210/2200 [00:27<00:24, 41.06it/s]"
     ]
    },
    {
     "name": "stdout",
     "output_type": "stream",
     "text": [
      "Energy: [4727.95531393 4727.95531393 4727.95531393 4727.95531393 4727.95531393\n",
      " 4727.95531393 4727.95531393 4727.95531393 4727.95531393 4727.95531393\n",
      " 4727.95531393]\n"
     ]
    },
    {
     "name": "stderr",
     "output_type": "stream",
     "text": [
      " 57%|██████████████████████▎                | 1260/2200 [00:28<00:21, 44.02it/s]"
     ]
    },
    {
     "name": "stdout",
     "output_type": "stream",
     "text": [
      "Energy: [4746.82379403 4727.95531393 4737.39195542 4727.95531393 4727.95531393\n",
      " 4727.95531393 4727.95531393 4727.95531393 4727.95531393 4727.95531393\n",
      " 4727.95531393]\n"
     ]
    },
    {
     "name": "stderr",
     "output_type": "stream",
     "text": [
      " 60%|███████████████████████▏               | 1310/2200 [00:30<00:20, 42.60it/s]"
     ]
    },
    {
     "name": "stdout",
     "output_type": "stream",
     "text": [
      "Energy: [4727.95531393 4727.95531393 4727.95531393 4727.95531393 4727.95531393\n",
      " 4727.95531393 4727.95531393 4727.95531393 4727.95531393 4727.95531393\n",
      " 4727.95531393]\n"
     ]
    },
    {
     "name": "stderr",
     "output_type": "stream",
     "text": [
      " 62%|████████████████████████               | 1355/2200 [00:31<00:19, 42.32it/s]"
     ]
    },
    {
     "name": "stdout",
     "output_type": "stream",
     "text": [
      "Energy: [4727.95531393 4727.95531393 4727.95531393 4727.95531393 4727.95531393\n",
      " 4727.95531393 4727.95531393 4727.95531393 4727.95531393 4727.95531393\n",
      " 4727.95531393]\n"
     ]
    },
    {
     "name": "stderr",
     "output_type": "stream",
     "text": [
      " 64%|████████████████████████▉              | 1410/2200 [00:32<00:17, 45.16it/s]"
     ]
    },
    {
     "name": "stdout",
     "output_type": "stream",
     "text": [
      "Energy: [4727.95531393 4727.95531393 4727.95531393 4727.95531393 4727.95531393\n",
      " 4727.95531393 4727.95531393 4727.95531393 4727.95531393 4727.95531393\n",
      " 4727.95531393]\n"
     ]
    },
    {
     "name": "stderr",
     "output_type": "stream",
     "text": [
      " 66%|█████████████████████████▉             | 1460/2200 [00:33<00:17, 42.92it/s]"
     ]
    },
    {
     "name": "stdout",
     "output_type": "stream",
     "text": [
      "Energy: [4727.95531393 4727.95531393 4737.39195542 4727.95531393 4727.95531393\n",
      " 4727.95531393 4727.95531393 4727.95531393 4727.95531393 4727.95531393\n",
      " 4727.95531393]\n"
     ]
    },
    {
     "name": "stderr",
     "output_type": "stream",
     "text": [
      " 69%|██████████████████████████▊            | 1510/2200 [00:34<00:16, 40.80it/s]"
     ]
    },
    {
     "name": "stdout",
     "output_type": "stream",
     "text": [
      "Energy: [4727.95531393 4727.95531393 4727.95531393 4737.39195542 4727.95531393\n",
      " 4727.95531393 4727.95531393 4727.95531393 4727.95531393 4727.95531393\n",
      " 4727.95531393]\n"
     ]
    },
    {
     "name": "stderr",
     "output_type": "stream",
     "text": [
      " 71%|███████████████████████████▋           | 1559/2200 [00:36<00:15, 40.84it/s]"
     ]
    },
    {
     "name": "stdout",
     "output_type": "stream",
     "text": [
      "Energy: [4727.95531393 4727.95531393 4727.95531393 4727.95531393 4727.95531393\n",
      " 4727.95531393 4727.95531393 4737.39195542 4727.95531393 4727.95531393\n",
      " 4727.95531393]\n"
     ]
    },
    {
     "name": "stderr",
     "output_type": "stream",
     "text": [
      " 73%|████████████████████████████▌          | 1609/2200 [00:37<00:13, 44.59it/s]"
     ]
    },
    {
     "name": "stdout",
     "output_type": "stream",
     "text": [
      "Energy: [4727.95531393 4727.95531393 4727.95531393 4727.95531393 4727.95531393\n",
      " 4727.95531393 4727.95531393 4727.95531393 4727.95531393 4727.95531393\n",
      " 4727.95531393]\n"
     ]
    },
    {
     "name": "stderr",
     "output_type": "stream",
     "text": [
      " 75%|█████████████████████████████▍         | 1659/2200 [00:38<00:12, 44.17it/s]"
     ]
    },
    {
     "name": "stdout",
     "output_type": "stream",
     "text": [
      "Energy: [4727.95531393 4737.39195542 4727.95531393 4727.95531393 4727.95531393\n",
      " 4727.95531393 4727.95531393 4727.95531393 4727.95531393 4727.95531393\n",
      " 4727.95531393]\n"
     ]
    },
    {
     "name": "stderr",
     "output_type": "stream",
     "text": [
      " 78%|██████████████████████████████▎        | 1709/2200 [00:39<00:11, 42.01it/s]"
     ]
    },
    {
     "name": "stdout",
     "output_type": "stream",
     "text": [
      "Energy: [4727.95531393 4727.95531393 4727.95531393 4737.39195542 4727.95531393\n",
      " 4727.95531393 4727.95531393 4727.95531393 4727.95531393 4727.95531393\n",
      " 4727.95531393]\n"
     ]
    },
    {
     "name": "stderr",
     "output_type": "stream",
     "text": [
      " 80%|███████████████████████████████▏       | 1759/2200 [00:40<00:09, 44.80it/s]"
     ]
    },
    {
     "name": "stdout",
     "output_type": "stream",
     "text": [
      "Energy: [4737.39195542 4727.95531393 4727.95531393 4727.95531393 4727.95531393\n",
      " 4727.95531393 4727.95531393 4727.95531393 4727.95531393 4727.95531393\n",
      " 4727.95531393]\n"
     ]
    },
    {
     "name": "stderr",
     "output_type": "stream",
     "text": [
      " 82%|████████████████████████████████       | 1809/2200 [00:41<00:09, 41.33it/s]"
     ]
    },
    {
     "name": "stdout",
     "output_type": "stream",
     "text": [
      "Energy: [4727.95531393 4727.95531393 4727.95531393 4727.95531393 4727.95531393\n",
      " 4727.95531393 4727.95531393 4727.95531393 4727.95531393 4727.95531393\n",
      " 4727.95531393]\n"
     ]
    },
    {
     "name": "stderr",
     "output_type": "stream",
     "text": [
      " 84%|████████████████████████████████▉      | 1859/2200 [00:42<00:07, 43.93it/s]"
     ]
    },
    {
     "name": "stdout",
     "output_type": "stream",
     "text": [
      "Energy: [4727.95531393 4727.95531393 4727.95531393 4727.95531393 4727.95531393\n",
      " 4727.95531393 4727.95531393 4727.95531393 4727.95531393 4727.95531393\n",
      " 4727.95531393]\n"
     ]
    },
    {
     "name": "stderr",
     "output_type": "stream",
     "text": [
      " 87%|█████████████████████████████████▊     | 1904/2200 [00:44<00:07, 41.85it/s]"
     ]
    },
    {
     "name": "stdout",
     "output_type": "stream",
     "text": [
      "Energy: [4746.82379403 4727.95531393 4737.39195542 4727.95531393 4727.95531393\n",
      " 4727.95531393 4727.95531393 4727.95531393 4727.95531393 4727.95531393\n",
      " 4727.95531393]\n"
     ]
    },
    {
     "name": "stderr",
     "output_type": "stream",
     "text": [
      " 89%|██████████████████████████████████▋    | 1959/2200 [00:45<00:05, 45.26it/s]"
     ]
    },
    {
     "name": "stdout",
     "output_type": "stream",
     "text": [
      "Energy: [4727.95531393 4746.82379403 4727.95531393 4727.95531393 4727.95531393\n",
      " 4727.95531393 4727.95531393 4727.95531393 4727.95531393 4727.95531393\n",
      " 4727.95531393]\n"
     ]
    },
    {
     "name": "stderr",
     "output_type": "stream",
     "text": [
      " 91%|███████████████████████████████████▌   | 2009/2200 [00:46<00:04, 42.96it/s]"
     ]
    },
    {
     "name": "stdout",
     "output_type": "stream",
     "text": [
      "Energy: [4765.67310936 4737.39195542 4737.39195542 4727.95531393 4727.95531393\n",
      " 4727.95531393 4727.95531393 4727.95531393 4727.95531393 4727.95531393\n",
      " 4727.95531393]\n"
     ]
    },
    {
     "name": "stderr",
     "output_type": "stream",
     "text": [
      " 94%|████████████████████████████████████▌  | 2059/2200 [00:47<00:03, 44.82it/s]"
     ]
    },
    {
     "name": "stdout",
     "output_type": "stream",
     "text": [
      "Energy: [4727.95531393 4727.95531393 4727.95531393 4727.95531393 4727.95531393\n",
      " 4727.95531393 4727.95531393 4727.95531393 4727.95531393 4727.95531393\n",
      " 4727.95531393]\n"
     ]
    },
    {
     "name": "stderr",
     "output_type": "stream",
     "text": [
      " 96%|█████████████████████████████████████▍ | 2109/2200 [00:48<00:01, 45.52it/s]"
     ]
    },
    {
     "name": "stdout",
     "output_type": "stream",
     "text": [
      "Energy: [4746.82379403 4727.95531393 4727.95531393 4727.95531393 4727.95531393\n",
      " 4727.95531393 4727.95531393 4727.95531393 4727.95531393 4727.95531393\n",
      " 4727.95531393]\n"
     ]
    },
    {
     "name": "stderr",
     "output_type": "stream",
     "text": [
      " 98%|██████████████████████████████████████▎| 2159/2200 [00:49<00:00, 45.85it/s]"
     ]
    },
    {
     "name": "stdout",
     "output_type": "stream",
     "text": [
      "Energy: [4727.95531393 4746.82379403 4727.95531393 4727.95531393 4727.95531393\n",
      " 4727.95531393 4727.95531393 4727.95531393 4727.95531393 4727.95531393\n",
      " 4727.95531393]\n"
     ]
    },
    {
     "name": "stderr",
     "output_type": "stream",
     "text": [
      "100%|███████████████████████████████████████| 2200/2200 [00:50<00:00, 43.41it/s]\n"
     ]
    },
    {
     "name": "stdout",
     "output_type": "stream",
     "text": [
      "Fin Energy_t 4727.955313928476 Energy_gs 4727.955313928476\n",
      "c_accep 0 c_rounds 0\n",
      "Elapsed (after compilation) = 50.683377504348755\n",
      "[[198 183 209 200 201 213 212 215 214 216 218 217]\n",
      " [198 183 209 200 201 213 212 215 214 216 218 217]]\n",
      "[[209 210 202 204 206 212 218 217 215 213 214 216]\n",
      " [209 210 202 204 206 212 218 217 215 213 214 216]]\n",
      "[[192 194 209 202 195 212 217 213 215 218 214 216]\n",
      " [192 194 209 202 195 212 217 213 215 218 214 216]]\n",
      "[[209 210 202 204 206 212 218 217 215 213 214 216]\n",
      " [209 210 202 204 206 212 218 217 215 213 214 216]]\n",
      "[[198 183 209 200 201 213 212 215 214 216 218 217]\n",
      " [198 183 209 200 201 213 212 215 214 216 218 217]]\n",
      "[[185 183 200 190 189 212 214 217 215 216 213 218]\n",
      " [185 183 200 190 189 212 214 217 215 216 213 218]]\n",
      "[[185 183 200 190 189 212 214 217 215 216 213 218]\n",
      " [185 183 200 190 189 212 214 217 215 216 213 218]]\n",
      "[[185 183 200 190 189 212 214 217 215 216 213 218]\n",
      " [185 183 200 190 189 212 214 217 215 216 213 218]]\n",
      "[[203 192 180 187 205 212 218 216 213 215 214 217]\n",
      " [203 192 180 187 205 212 218 216 213 215 214 217]]\n",
      "[[203 192 180 187 205 212 218 216 213 215 214 217]\n",
      " [203 192 180 187 205 212 218 216 213 215 214 217]]\n",
      "[[185 183 200 190 189 212 214 217 215 216 213 218]\n",
      " [185 183 200 190 189 212 214 217 215 216 213 218]]\n",
      "[[185 183 200 190 189 212 214 217 215 216 213 218]\n",
      " [185 183 200 190 189 212 214 217 215 216 213 218]]\n",
      "[[209 210 202 204 206 212 218 217 215 213 214 216]\n",
      " [209 210 202 204 206 212 218 217 215 213 214 216]]\n",
      "[[209 210 202 204 206 212 218 217 215 213 214 216]\n",
      " [209 210 202 204 206 212 218 217 215 213 214 216]]\n",
      "[[209 210 202 204 206 212 218 217 215 213 214 216]\n",
      " [209 210 202 204 206 212 218 217 215 213 214 216]]\n",
      "[[184 192 210 193 207 212 213 217 214 216 218 215]\n",
      " [184 192 210 193 207 212 213 217 214 216 218 215]]\n",
      "[[184 192 210 193 207 212 213 217 214 216 218 215]\n",
      " [184 192 210 193 207 212 213 217 214 216 218 215]]\n",
      "[[184 192 210 193 207 212 213 217 214 216 218 215]\n",
      " [184 192 210 193 207 212 213 217 214 216 218 215]]\n",
      "[[185 183 200 190 189 212 214 217 215 216 213 218]\n",
      " [185 183 200 190 189 212 214 217 215 216 213 218]]\n",
      "[[184 192 210 193 207 212 213 217 214 216 218 215]\n",
      " [184 192 210 193 207 212 213 217 214 216 218 215]]\n",
      "[[185 183 200 190 189 212 214 217 215 216 213 218]\n",
      " [185 183 200 190 189 212 214 217 215 216 213 218]]\n",
      "[[184 192 210 193 207 212 213 217 214 216 218 215]\n",
      " [184 192 210 193 207 212 213 217 214 216 218 215]]\n",
      "[[184 192 210 193 207 212 213 217 214 216 218 215]\n",
      " [184 192 210 193 207 212 213 217 214 216 218 215]]\n",
      "[[184 192 210 193 207 212 213 217 214 216 218 215]\n",
      " [184 192 210 193 207 212 213 217 214 216 218 215]]\n",
      "[[191 187 184 209 203 212 213 216 215 214 217 218]\n",
      " [191 187 184 209 203 212 213 216 215 214 217 218]]\n",
      "[[191 187 184 209 203 212 213 216 215 214 217 218]\n",
      " [191 187 184 209 203 212 213 216 215 214 217 218]]\n",
      "[[184 192 210 193 207 212 213 217 214 216 218 215]\n",
      " [184 192 210 193 207 212 213 217 214 216 218 215]]\n",
      "[[191 187 184 209 203 212 213 216 215 214 217 218]\n",
      " [191 187 184 209 203 212 213 216 215 214 217 218]]\n",
      "[[192 182 186 190 193 213 218 216 215 212 217 214]\n",
      " [192 182 186 190 193 213 218 216 215 212 217 214]]\n",
      "[[192 182 186 190 193 213 218 216 215 212 217 214]\n",
      " [192 182 186 190 193 213 218 216 215 212 217 214]]\n",
      "[[209 196 185 188 181 212 214 217 215 218 213 216]\n",
      " [209 196 185 188 181 212 214 217 215 218 213 216]]\n",
      "[[209 196 185 188 181 212 214 217 215 218 213 216]\n",
      " [209 196 185 188 181 212 214 217 215 218 213 216]]\n",
      "[[192 182 186 190 193 213 218 216 215 212 217 214]\n",
      " [192 182 186 190 193 213 218 216 215 212 217 214]]\n",
      "[[209 196 185 188 181 212 214 217 215 218 213 216]\n",
      " [209 196 185 188 181 212 214 217 215 218 213 216]]\n",
      "[[191 187 184 209 203 212 213 216 215 214 217 218]\n",
      " [191 187 184 209 203 212 213 216 215 214 217 218]]\n",
      "[[191 187 184 209 203 212 213 216 215 214 217 218]\n",
      " [191 187 184 209 203 212 213 216 215 214 217 218]]\n",
      "[[191 187 184 209 203 212 213 216 215 214 217 218]\n",
      " [191 187 184 209 203 212 213 216 215 214 217 218]]\n",
      "[[192 194 209 202 195 212 217 213 215 218 214 216]\n",
      " [192 194 209 202 195 212 217 213 215 218 214 216]]\n",
      "[[192 194 209 202 195 212 217 213 215 218 214 216]\n",
      " [192 194 209 202 195 212 217 213 215 218 214 216]]\n",
      "[[185 183 200 190 189 212 214 217 215 216 213 218]\n",
      " [185 183 200 190 189 212 214 217 215 216 213 218]]\n",
      "[1.] [1.]\n",
      "i_reps 3\n",
      "Energía ini: 16209.78325134071 /gs: 4737.391955421175\n"
     ]
    },
    {
     "name": "stderr",
     "output_type": "stream",
     "text": [
      "  9%|███▊                                    | 208/2200 [00:04<00:44, 44.93it/s]"
     ]
    },
    {
     "name": "stdout",
     "output_type": "stream",
     "text": [
      "Energy: [4737.39195542 4878.37168779 4887.73285736 4737.39195542 4737.39195542\n",
      " 4737.39195542 4737.39195542 4737.39195542 4737.39195542 4737.39195542\n",
      " 4737.39195542]\n"
     ]
    },
    {
     "name": "stderr",
     "output_type": "stream",
     "text": [
      " 12%|████▊                                   | 263/2200 [00:06<00:46, 41.82it/s]"
     ]
    },
    {
     "name": "stdout",
     "output_type": "stream",
     "text": [
      "Energy: [4737.39195542 4746.82379403 4737.39195542 4737.39195542 4737.39195542\n",
      " 4737.39195542 4737.39195542 4737.39195542 4737.39195542 4737.39195542\n",
      " 4737.39195542]\n"
     ]
    },
    {
     "name": "stderr",
     "output_type": "stream",
     "text": [
      " 14%|█████▌                                  | 308/2200 [00:07<00:43, 43.81it/s]"
     ]
    },
    {
     "name": "stdout",
     "output_type": "stream",
     "text": [
      "Energy: [4737.39195542 4746.82379403 4737.39195542 4737.39195542 4737.39195542\n",
      " 4737.39195542 4737.39195542 4737.39195542 4737.39195542 4737.39195542\n",
      " 4737.39195542]\n"
     ]
    },
    {
     "name": "stderr",
     "output_type": "stream",
     "text": [
      " 16%|██████▌                                 | 358/2200 [00:08<00:40, 45.29it/s]"
     ]
    },
    {
     "name": "stdout",
     "output_type": "stream",
     "text": [
      "Energy: [4737.39195542 4756.25084146 4737.39195542 4737.39195542 4737.39195542\n",
      " 4737.39195542 4737.39195542 4737.39195542 4737.39195542 4737.39195542\n",
      " 4737.39195542]\n"
     ]
    },
    {
     "name": "stderr",
     "output_type": "stream",
     "text": [
      " 19%|███████▍                                | 408/2200 [00:09<00:41, 42.75it/s]"
     ]
    },
    {
     "name": "stdout",
     "output_type": "stream",
     "text": [
      "Energy: [4737.39195542 4737.39195542 4737.39195542 4737.39195542 4737.39195542\n",
      " 4737.39195542 4737.39195542 4737.39195542 4737.39195542 4737.39195542\n",
      " 4737.39195542]\n"
     ]
    },
    {
     "name": "stderr",
     "output_type": "stream",
     "text": [
      " 21%|████████▎                               | 458/2200 [00:10<00:40, 42.93it/s]"
     ]
    },
    {
     "name": "stdout",
     "output_type": "stream",
     "text": [
      "Energy: [4737.39195542 4746.82379403 4737.39195542 4737.39195542 4737.39195542\n",
      " 4737.39195542 4737.39195542 4746.82379403 4737.39195542 4737.39195542\n",
      " 4737.39195542]\n"
     ]
    },
    {
     "name": "stderr",
     "output_type": "stream",
     "text": [
      " 23%|█████████▏                              | 508/2200 [00:11<00:38, 44.04it/s]"
     ]
    },
    {
     "name": "stdout",
     "output_type": "stream",
     "text": [
      "Energy: [4746.82379403 4746.82379403 4737.39195542 4737.39195542 4746.82379403\n",
      " 4737.39195542 4737.39195542 4737.39195542 4737.39195542 4737.39195542\n",
      " 4737.39195542]\n"
     ]
    },
    {
     "name": "stderr",
     "output_type": "stream",
     "text": [
      " 25%|██████████▏                             | 558/2200 [00:12<00:41, 39.92it/s]"
     ]
    },
    {
     "name": "stdout",
     "output_type": "stream",
     "text": [
      "Energy: [4737.39195542 4737.39195542 4737.39195542 4737.39195542 4737.39195542\n",
      " 4737.39195542 4737.39195542 4737.39195542 4737.39195542 4737.39195542\n",
      " 4737.39195542]\n"
     ]
    },
    {
     "name": "stderr",
     "output_type": "stream",
     "text": [
      " 28%|███████████                             | 608/2200 [00:14<00:37, 42.44it/s]"
     ]
    },
    {
     "name": "stdout",
     "output_type": "stream",
     "text": [
      "Energy: [4737.39195542 4737.39195542 4737.39195542 4737.39195542 4737.39195542\n",
      " 4737.39195542 4737.39195542 4737.39195542 4737.39195542 4737.39195542\n",
      " 4737.39195542]\n"
     ]
    },
    {
     "name": "stderr",
     "output_type": "stream",
     "text": [
      " 30%|███████████▉                            | 658/2200 [00:15<00:35, 43.72it/s]"
     ]
    },
    {
     "name": "stdout",
     "output_type": "stream",
     "text": [
      "Energy: [4737.39195542 4737.39195542 4737.39195542 4737.39195542 4737.39195542\n",
      " 4737.39195542 4737.39195542 4737.39195542 4737.39195542 4737.39195542\n",
      " 4737.39195542]\n"
     ]
    },
    {
     "name": "stderr",
     "output_type": "stream",
     "text": [
      " 32%|████████████▊                           | 708/2200 [00:16<00:33, 43.92it/s]"
     ]
    },
    {
     "name": "stdout",
     "output_type": "stream",
     "text": [
      "Energy: [4737.39195542 4737.39195542 4737.39195542 4737.39195542 4737.39195542\n",
      " 4737.39195542 4737.39195542 4737.39195542 4737.39195542 4737.39195542\n",
      " 4737.39195542]\n"
     ]
    },
    {
     "name": "stderr",
     "output_type": "stream",
     "text": [
      " 34%|█████████████▊                          | 758/2200 [00:17<00:33, 42.49it/s]"
     ]
    },
    {
     "name": "stdout",
     "output_type": "stream",
     "text": [
      "Energy: [4746.82379403 4737.39195542 4737.39195542 4737.39195542 4737.39195542\n",
      " 4737.39195542 4737.39195542 4737.39195542 4737.39195542 4737.39195542\n",
      " 4737.39195542]\n"
     ]
    },
    {
     "name": "stderr",
     "output_type": "stream",
     "text": [
      " 37%|██████████████▋                         | 808/2200 [00:18<00:31, 44.01it/s]"
     ]
    },
    {
     "name": "stdout",
     "output_type": "stream",
     "text": [
      "Energy: [4746.82379403 4737.39195542 4737.39195542 4746.82379403 4737.39195542\n",
      " 4737.39195542 4737.39195542 4737.39195542 4737.39195542 4737.39195542\n",
      " 4737.39195542]\n"
     ]
    },
    {
     "name": "stderr",
     "output_type": "stream",
     "text": [
      " 39%|███████████████▌                        | 858/2200 [00:19<00:30, 43.43it/s]"
     ]
    },
    {
     "name": "stdout",
     "output_type": "stream",
     "text": [
      "Energy: [4737.39195542 4737.39195542 4737.39195542 4737.39195542 4746.82379403\n",
      " 4737.39195542 4737.39195542 4737.39195542 4737.39195542 4737.39195542\n",
      " 4737.39195542]\n"
     ]
    },
    {
     "name": "stderr",
     "output_type": "stream",
     "text": [
      " 41%|████████████████▌                       | 908/2200 [00:21<00:29, 44.50it/s]"
     ]
    },
    {
     "name": "stdout",
     "output_type": "stream",
     "text": [
      "Energy: [4746.82379403 4737.39195542 4737.39195542 4737.39195542 4737.39195542\n",
      " 4737.39195542 4737.39195542 4737.39195542 4737.39195542 4737.39195542\n",
      " 4737.39195542]\n"
     ]
    },
    {
     "name": "stderr",
     "output_type": "stream",
     "text": [
      " 44%|█████████████████▍                      | 958/2200 [00:22<00:28, 43.72it/s]"
     ]
    },
    {
     "name": "stdout",
     "output_type": "stream",
     "text": [
      "Energy: [4746.82379403 4737.39195542 4737.39195542 4746.82379403 4737.39195542\n",
      " 4737.39195542 4737.39195542 4737.39195542 4737.39195542 4737.39195542\n",
      " 4737.39195542]\n"
     ]
    },
    {
     "name": "stderr",
     "output_type": "stream",
     "text": [
      " 46%|█████████████████▊                     | 1008/2200 [00:23<00:27, 43.46it/s]"
     ]
    },
    {
     "name": "stdout",
     "output_type": "stream",
     "text": [
      "Energy: [4737.39195542 4737.39195542 4737.39195542 4737.39195542 4737.39195542\n",
      " 4737.39195542 4737.39195542 4737.39195542 4737.39195542 4737.39195542\n",
      " 4737.39195542]\n"
     ]
    },
    {
     "name": "stderr",
     "output_type": "stream",
     "text": [
      " 48%|██████████████████▊                    | 1063/2200 [00:24<00:26, 43.21it/s]"
     ]
    },
    {
     "name": "stdout",
     "output_type": "stream",
     "text": [
      "Energy: [4737.39195542 4737.39195542 4737.39195542 4737.39195542 4737.39195542\n",
      " 4737.39195542 4737.39195542 4737.39195542 4737.39195542 4737.39195542\n",
      " 4737.39195542]\n"
     ]
    },
    {
     "name": "stderr",
     "output_type": "stream",
     "text": [
      " 50%|███████████████████▋                   | 1108/2200 [00:25<00:25, 43.63it/s]"
     ]
    },
    {
     "name": "stdout",
     "output_type": "stream",
     "text": [
      "Energy: [4746.82379403 4746.82379403 4737.39195542 4737.39195542 4746.82379403\n",
      " 4737.39195542 4737.39195542 4737.39195542 4737.39195542 4737.39195542\n",
      " 4737.39195542]\n"
     ]
    },
    {
     "name": "stderr",
     "output_type": "stream",
     "text": [
      " 53%|████████████████████▌                  | 1158/2200 [00:26<00:24, 42.19it/s]"
     ]
    },
    {
     "name": "stdout",
     "output_type": "stream",
     "text": [
      "Energy: [4737.39195542 4737.39195542 4737.39195542 4737.39195542 4737.39195542\n",
      " 4737.39195542 4737.39195542 4737.39195542 4737.39195542 4737.39195542\n",
      " 4737.39195542]\n"
     ]
    },
    {
     "name": "stderr",
     "output_type": "stream",
     "text": [
      " 55%|█████████████████████▍                 | 1207/2200 [00:28<00:24, 40.63it/s]"
     ]
    },
    {
     "name": "stdout",
     "output_type": "stream",
     "text": [
      "Energy: [4746.82379403 4737.39195542 4737.39195542 4737.39195542 4737.39195542\n",
      " 4737.39195542 4737.39195542 4737.39195542 4737.39195542 4737.39195542\n",
      " 4737.39195542]\n"
     ]
    },
    {
     "name": "stderr",
     "output_type": "stream",
     "text": [
      " 57%|██████████████████████▎                | 1257/2200 [00:29<00:21, 42.87it/s]"
     ]
    },
    {
     "name": "stdout",
     "output_type": "stream",
     "text": [
      "Energy: [4756.25084146 4737.39195542 4737.39195542 4737.39195542 4737.39195542\n",
      " 4737.39195542 4737.39195542 4737.39195542 4737.39195542 4737.39195542\n",
      " 4737.39195542]\n"
     ]
    },
    {
     "name": "stderr",
     "output_type": "stream",
     "text": [
      " 59%|███████████████████████▏               | 1307/2200 [00:30<00:21, 41.68it/s]"
     ]
    },
    {
     "name": "stdout",
     "output_type": "stream",
     "text": [
      "Energy: [4737.39195542 4756.25084146 4737.39195542 4746.82379403 4737.39195542\n",
      " 4737.39195542 4737.39195542 4737.39195542 4737.39195542 4737.39195542\n",
      " 4737.39195542]\n"
     ]
    },
    {
     "name": "stderr",
     "output_type": "stream",
     "text": [
      " 62%|████████████████████████               | 1357/2200 [00:31<00:19, 42.44it/s]"
     ]
    },
    {
     "name": "stdout",
     "output_type": "stream",
     "text": [
      "Energy: [4746.82379403 4737.39195542 4737.39195542 4737.39195542 4737.39195542\n",
      " 4737.39195542 4737.39195542 4737.39195542 4737.39195542 4737.39195542\n",
      " 4737.39195542]\n"
     ]
    },
    {
     "name": "stderr",
     "output_type": "stream",
     "text": [
      " 64%|████████████████████████▉              | 1407/2200 [00:32<00:19, 41.60it/s]"
     ]
    },
    {
     "name": "stdout",
     "output_type": "stream",
     "text": [
      "Energy: [4746.82379403 4737.39195542 4737.39195542 4737.39195542 4737.39195542\n",
      " 4737.39195542 4746.82379403 4737.39195542 4737.39195542 4737.39195542\n",
      " 4737.39195542]\n"
     ]
    },
    {
     "name": "stderr",
     "output_type": "stream",
     "text": [
      " 66%|█████████████████████████▊             | 1457/2200 [00:33<00:17, 42.88it/s]"
     ]
    },
    {
     "name": "stdout",
     "output_type": "stream",
     "text": [
      "Energy: [4737.39195542 4737.39195542 4737.39195542 4737.39195542 4737.39195542\n",
      " 4737.39195542 4737.39195542 4737.39195542 4737.39195542 4737.39195542\n",
      " 4737.39195542]\n"
     ]
    },
    {
     "name": "stderr",
     "output_type": "stream",
     "text": [
      " 68%|██████████████████████████▋            | 1507/2200 [00:35<00:16, 43.01it/s]"
     ]
    },
    {
     "name": "stdout",
     "output_type": "stream",
     "text": [
      "Energy: [4737.39195542 4737.39195542 4737.39195542 4737.39195542 4737.39195542\n",
      " 4737.39195542 4737.39195542 4737.39195542 4737.39195542 4737.39195542\n",
      " 4737.39195542]\n"
     ]
    },
    {
     "name": "stderr",
     "output_type": "stream",
     "text": [
      " 71%|███████████████████████████▌           | 1557/2200 [00:36<00:15, 42.49it/s]"
     ]
    },
    {
     "name": "stdout",
     "output_type": "stream",
     "text": [
      "Energy: [4746.82379403 4737.39195542 4746.82379403 4737.39195542 4737.39195542\n",
      " 4737.39195542 4737.39195542 4737.39195542 4737.39195542 4737.39195542\n",
      " 4737.39195542]\n"
     ]
    },
    {
     "name": "stderr",
     "output_type": "stream",
     "text": [
      " 73%|████████████████████████████▍          | 1607/2200 [00:37<00:13, 43.23it/s]"
     ]
    },
    {
     "name": "stdout",
     "output_type": "stream",
     "text": [
      "Energy: [4737.39195542 4737.39195542 4737.39195542 4737.39195542 4737.39195542\n",
      " 4737.39195542 4737.39195542 4737.39195542 4737.39195542 4737.39195542\n",
      " 4737.39195542]\n"
     ]
    },
    {
     "name": "stderr",
     "output_type": "stream",
     "text": [
      " 75%|█████████████████████████████▎         | 1657/2200 [00:38<00:12, 43.45it/s]"
     ]
    },
    {
     "name": "stdout",
     "output_type": "stream",
     "text": [
      "Energy: [4756.25084146 4737.39195542 4737.39195542 4737.39195542 4737.39195542\n",
      " 4737.39195542 4737.39195542 4737.39195542 4737.39195542 4737.39195542\n",
      " 4737.39195542]\n"
     ]
    },
    {
     "name": "stderr",
     "output_type": "stream",
     "text": [
      " 78%|██████████████████████████████▎        | 1707/2200 [00:39<00:10, 45.56it/s]"
     ]
    },
    {
     "name": "stdout",
     "output_type": "stream",
     "text": [
      "Energy: [4737.39195542 4737.39195542 4737.39195542 4737.39195542 4737.39195542\n",
      " 4737.39195542 4737.39195542 4737.39195542 4737.39195542 4737.39195542\n",
      " 4737.39195542]\n"
     ]
    },
    {
     "name": "stderr",
     "output_type": "stream",
     "text": [
      " 80%|███████████████████████████████▏       | 1757/2200 [00:40<00:10, 44.10it/s]"
     ]
    },
    {
     "name": "stdout",
     "output_type": "stream",
     "text": [
      "Energy: [4746.82379403 4746.82379403 4737.39195542 4737.39195542 4737.39195542\n",
      " 4737.39195542 4737.39195542 4737.39195542 4737.39195542 4737.39195542\n",
      " 4737.39195542]\n"
     ]
    },
    {
     "name": "stderr",
     "output_type": "stream",
     "text": [
      " 82%|████████████████████████████████       | 1807/2200 [00:41<00:09, 43.18it/s]"
     ]
    },
    {
     "name": "stdout",
     "output_type": "stream",
     "text": [
      "Energy: [4737.39195542 4737.39195542 4737.39195542 4737.39195542 4737.39195542\n",
      " 4737.39195542 4737.39195542 4737.39195542 4737.39195542 4737.39195542\n",
      " 4737.39195542]\n"
     ]
    },
    {
     "name": "stderr",
     "output_type": "stream",
     "text": [
      " 84%|████████████████████████████████▉      | 1856/2200 [00:43<00:08, 38.93it/s]"
     ]
    },
    {
     "name": "stdout",
     "output_type": "stream",
     "text": [
      "Energy: [4737.39195542 4737.39195542 4737.39195542 4737.39195542 4737.39195542\n",
      " 4737.39195542 4737.39195542 4737.39195542 4737.39195542 4737.39195542\n",
      " 4737.39195542]\n"
     ]
    },
    {
     "name": "stderr",
     "output_type": "stream",
     "text": [
      " 87%|█████████████████████████████████▊     | 1906/2200 [00:44<00:07, 41.82it/s]"
     ]
    },
    {
     "name": "stdout",
     "output_type": "stream",
     "text": [
      "Energy: [4746.82379403 4746.82379403 4737.39195542 4737.39195542 4737.39195542\n",
      " 4737.39195542 4737.39195542 4737.39195542 4737.39195542 4737.39195542\n",
      " 4737.39195542]\n"
     ]
    },
    {
     "name": "stderr",
     "output_type": "stream",
     "text": [
      " 89%|██████████████████████████████████▋    | 1956/2200 [00:45<00:05, 42.44it/s]"
     ]
    },
    {
     "name": "stdout",
     "output_type": "stream",
     "text": [
      "Energy: [4737.39195542 4746.82379403 4737.39195542 4737.39195542 4737.39195542\n",
      " 4737.39195542 4737.39195542 4737.39195542 4737.39195542 4737.39195542\n",
      " 4737.39195542]\n"
     ]
    },
    {
     "name": "stderr",
     "output_type": "stream",
     "text": [
      " 91%|███████████████████████████████████▌   | 2006/2200 [00:46<00:04, 40.79it/s]"
     ]
    },
    {
     "name": "stdout",
     "output_type": "stream",
     "text": [
      "Energy: [4737.39195542 4746.82379403 4737.39195542 4737.39195542 4737.39195542\n",
      " 4737.39195542 4737.39195542 4737.39195542 4737.39195542 4737.39195542\n",
      " 4737.39195542]\n"
     ]
    },
    {
     "name": "stderr",
     "output_type": "stream",
     "text": [
      " 93%|████████████████████████████████████▍  | 2056/2200 [00:47<00:03, 40.64it/s]"
     ]
    },
    {
     "name": "stdout",
     "output_type": "stream",
     "text": [
      "Energy: [4737.39195542 4737.39195542 4737.39195542 4737.39195542 4737.39195542\n",
      " 4737.39195542 4737.39195542 4737.39195542 4737.39195542 4737.39195542\n",
      " 4737.39195542]\n"
     ]
    },
    {
     "name": "stderr",
     "output_type": "stream",
     "text": [
      " 96%|█████████████████████████████████████▍ | 2111/2200 [00:49<00:02, 43.23it/s]"
     ]
    },
    {
     "name": "stdout",
     "output_type": "stream",
     "text": [
      "Energy: [4746.82379403 4737.39195542 4737.39195542 4737.39195542 4737.39195542\n",
      " 4737.39195542 4737.39195542 4737.39195542 4737.39195542 4737.39195542\n",
      " 4737.39195542]\n"
     ]
    },
    {
     "name": "stderr",
     "output_type": "stream",
     "text": [
      " 98%|██████████████████████████████████████▎| 2161/2200 [00:50<00:00, 44.62it/s]"
     ]
    },
    {
     "name": "stdout",
     "output_type": "stream",
     "text": [
      "Energy: [4737.39195542 4737.39195542 4737.39195542 4737.39195542 4737.39195542\n",
      " 4737.39195542 4737.39195542 4737.39195542 4737.39195542 4737.39195542\n",
      " 4737.39195542]\n"
     ]
    },
    {
     "name": "stderr",
     "output_type": "stream",
     "text": [
      "100%|███████████████████████████████████████| 2200/2200 [00:51<00:00, 43.01it/s]\n"
     ]
    },
    {
     "name": "stdout",
     "output_type": "stream",
     "text": [
      "Fin Energy_t 4737.391955421175 Energy_gs 4737.391955421175\n",
      "c_accep 0 c_rounds 0\n",
      "Elapsed (after compilation) = 51.14667081832886\n",
      "[[205 200 189 211 190 213 217 216 215 214 212 218]\n",
      " [205 200 189 211 190 213 217 216 215 214 212 218]]\n",
      "[[206 207 201 193 191 213 214 212 215 218 216 217]\n",
      " [206 207 201 193 191 213 214 212 215 218 216 217]]\n",
      "[[205 200 189 211 190 213 217 216 215 214 212 218]\n",
      " [205 200 189 211 190 213 217 216 215 214 212 218]]\n",
      "[[205 200 189 211 190 213 217 216 215 214 212 218]\n",
      " [205 200 189 211 190 213 217 216 215 214 212 218]]\n",
      "[[205 200 189 211 190 213 217 216 215 214 212 218]\n",
      " [205 200 189 211 190 213 217 216 215 214 212 218]]\n",
      "[[205 200 189 211 190 213 217 216 215 214 212 218]\n",
      " [205 200 189 211 190 213 217 216 215 214 212 218]]\n",
      "[[205 200 189 211 190 213 217 216 215 214 212 218]\n",
      " [205 200 189 211 190 213 217 216 215 214 212 218]]\n",
      "[[183 211 192 207 190 217 216 214 215 212 218 213]\n",
      " [183 211 192 207 190 217 216 214 215 212 218 213]]\n",
      "[[183 211 192 207 190 217 216 214 215 212 218 213]\n",
      " [183 211 192 207 190 217 216 214 215 212 218 213]]\n",
      "[[183 211 192 207 190 217 216 214 215 212 218 213]\n",
      " [183 211 192 207 190 217 216 214 215 212 218 213]]\n",
      "[[183 211 192 207 190 217 216 214 215 212 218 213]\n",
      " [183 211 192 207 190 217 216 214 215 212 218 213]]\n",
      "[[183 211 192 207 190 217 216 214 215 212 218 213]\n",
      " [183 211 192 207 190 217 216 214 215 212 218 213]]\n",
      "[[183 211 192 207 190 217 216 214 215 212 218 213]\n",
      " [183 211 192 207 190 217 216 214 215 212 218 213]]\n",
      "[[201 181 190 180 183 213 212 218 215 217 214 216]\n",
      " [201 181 190 180 183 213 212 218 215 217 214 216]]\n",
      "[[183 211 192 207 190 217 216 214 215 212 218 213]\n",
      " [183 211 192 207 190 217 216 214 215 212 218 213]]\n",
      "[[183 211 192 207 190 217 216 214 215 212 218 213]\n",
      " [183 211 192 207 190 217 216 214 215 212 218 213]]\n",
      "[[201 181 190 180 183 213 212 218 215 217 214 216]\n",
      " [201 181 190 180 183 213 212 218 215 217 214 216]]\n",
      "[[201 181 190 180 183 213 212 218 215 217 214 216]\n",
      " [201 181 190 180 183 213 212 218 215 217 214 216]]\n",
      "[[183 211 192 207 190 217 216 214 215 212 218 213]\n",
      " [183 211 192 207 190 217 216 214 215 212 218 213]]\n",
      "[[183 211 192 207 190 217 216 214 215 212 218 213]\n",
      " [183 211 192 207 190 217 216 214 215 212 218 213]]\n",
      "[[196 181 208 190 204 213 212 214 215 216 217 218]\n",
      " [196 181 208 190 204 213 212 214 215 216 217 218]]\n",
      "[[183 211 192 207 190 217 216 214 215 212 218 213]\n",
      " [183 211 192 207 190 217 216 214 215 212 218 213]]\n",
      "[[187 200 204 203 192 213 214 212 215 217 218 216]\n",
      " [187 200 204 203 192 213 214 212 215 217 218 216]]\n",
      "[[187 200 204 203 192 213 214 212 215 217 218 216]\n",
      " [187 200 204 203 192 213 214 212 215 217 218 216]]\n",
      "[[187 200 204 203 192 213 214 212 215 217 218 216]\n",
      " [187 200 204 203 192 213 214 212 215 217 218 216]]\n",
      "[[201 181 190 180 183 213 212 218 215 217 214 216]\n",
      " [201 181 190 180 183 213 212 218 215 217 214 216]]\n",
      "[[201 181 190 180 183 213 212 218 215 217 214 216]\n",
      " [201 181 190 180 183 213 212 218 215 217 214 216]]\n",
      "[[187 200 204 203 192 213 214 212 215 217 218 216]\n",
      " [187 200 204 203 192 213 214 212 215 217 218 216]]\n",
      "[[187 200 204 203 192 213 214 212 215 217 218 216]\n",
      " [187 200 204 203 192 213 214 212 215 217 218 216]]\n",
      "[[196 181 208 190 204 213 212 214 215 216 217 218]\n",
      " [196 181 208 190 204 213 212 214 215 216 217 218]]\n",
      "[[187 200 204 203 192 213 214 212 215 217 218 216]\n",
      " [187 200 204 203 192 213 214 212 215 217 218 216]]\n",
      "[[196 181 208 190 204 213 212 214 215 216 217 218]\n",
      " [196 181 208 190 204 213 212 214 215 216 217 218]]\n",
      "[[196 181 208 190 204 213 212 214 215 216 217 218]\n",
      " [196 181 208 190 204 213 212 214 215 216 217 218]]\n",
      "[[187 200 204 203 192 213 214 212 215 217 218 216]\n",
      " [187 200 204 203 192 213 214 212 215 217 218 216]]\n",
      "[[187 200 204 203 192 213 214 212 215 217 218 216]\n",
      " [187 200 204 203 192 213 214 212 215 217 218 216]]\n",
      "[[183 211 192 207 190 217 216 214 215 212 218 213]\n",
      " [183 211 192 207 190 217 216 214 215 212 218 213]]\n",
      "[[187 200 204 203 192 213 214 212 215 217 218 216]\n",
      " [187 200 204 203 192 213 214 212 215 217 218 216]]\n",
      "[[187 200 204 203 192 213 214 212 215 217 218 216]\n",
      " [187 200 204 203 192 213 214 212 215 217 218 216]]\n",
      "[[183 211 192 207 190 217 216 214 215 212 218 213]\n",
      " [183 211 192 207 190 217 216 214 215 212 218 213]]\n",
      "[[201 181 190 180 183 213 212 218 215 217 214 216]\n",
      " [201 181 190 180 183 213 212 218 215 217 214 216]]\n",
      "[1.] [1.]\n",
      "i_reps 4\n",
      "Energía ini: 16292.93034257044 /gs: 4680.699649320999\n"
     ]
    },
    {
     "name": "stderr",
     "output_type": "stream",
     "text": [
      " 10%|███▊                                    | 210/2200 [00:04<00:45, 43.90it/s]"
     ]
    },
    {
     "name": "stdout",
     "output_type": "stream",
     "text": [
      "Energy: [4680.69964932 4680.69964932 4680.69964932 4934.46959017 4680.69964932\n",
      " 4680.69964932 4680.69964932 4680.69964932 4680.69964932 4680.69964932\n",
      " 4680.69964932]\n"
     ]
    },
    {
     "name": "stderr",
     "output_type": "stream",
     "text": [
      " 12%|████▋                                   | 260/2200 [00:06<00:44, 43.75it/s]"
     ]
    },
    {
     "name": "stdout",
     "output_type": "stream",
     "text": [
      "Energy: [4680.69964932 4699.61645418 4680.69964932 4680.69964932 4680.69964932\n",
      " 4680.69964932 4680.69964932 4680.69964932 4680.69964932 4680.69964932\n",
      " 4680.69964932]\n"
     ]
    },
    {
     "name": "stderr",
     "output_type": "stream",
     "text": [
      " 14%|█████▋                                  | 310/2200 [00:07<00:43, 43.82it/s]"
     ]
    },
    {
     "name": "stdout",
     "output_type": "stream",
     "text": [
      "Energy: [4680.69964932 4680.69964932 4680.69964932 4680.69964932 4680.69964932\n",
      " 4680.69964932 4680.69964932 4680.69964932 4680.69964932 4680.69964932\n",
      " 4680.69964932]\n"
     ]
    },
    {
     "name": "stderr",
     "output_type": "stream",
     "text": [
      " 16%|██████▌                                 | 360/2200 [00:08<00:41, 44.26it/s]"
     ]
    },
    {
     "name": "stdout",
     "output_type": "stream",
     "text": [
      "Energy: [4690.1604829  4690.1604829  4680.69964932 4680.69964932 4680.69964932\n",
      " 4680.69964932 4680.69964932 4680.69964932 4680.69964932 4680.69964932\n",
      " 4680.69964932]\n"
     ]
    },
    {
     "name": "stderr",
     "output_type": "stream",
     "text": [
      " 19%|███████▍                                | 410/2200 [00:09<00:40, 44.22it/s]"
     ]
    },
    {
     "name": "stdout",
     "output_type": "stream",
     "text": [
      "Energy: [4690.1604829  4680.69964932 4680.69964932 4680.69964932 4680.69964932\n",
      " 4680.69964932 4680.69964932 4680.69964932 4680.69964932 4680.69964932\n",
      " 4680.69964932]\n"
     ]
    },
    {
     "name": "stderr",
     "output_type": "stream",
     "text": [
      " 21%|████████▎                               | 460/2200 [00:10<00:38, 45.05it/s]"
     ]
    },
    {
     "name": "stdout",
     "output_type": "stream",
     "text": [
      "Energy: [4680.69964932 4680.69964932 4690.1604829  4690.1604829  4680.69964932\n",
      " 4680.69964932 4680.69964932 4680.69964932 4680.69964932 4680.69964932\n",
      " 4680.69964932]\n"
     ]
    },
    {
     "name": "stderr",
     "output_type": "stream",
     "text": [
      " 23%|█████████▏                              | 508/2200 [00:11<00:42, 40.13it/s]"
     ]
    },
    {
     "name": "stdout",
     "output_type": "stream",
     "text": [
      "Energy: [4680.69964932 4680.69964932 4680.69964932 4680.69964932 4680.69964932\n",
      " 4680.69964932 4680.69964932 4680.69964932 4680.69964932 4680.69964932\n",
      " 4680.69964932]\n"
     ]
    },
    {
     "name": "stderr",
     "output_type": "stream",
     "text": [
      " 25%|██████████▏                             | 558/2200 [00:13<00:38, 42.63it/s]"
     ]
    },
    {
     "name": "stdout",
     "output_type": "stream",
     "text": [
      "Energy: [4680.69964932 4680.69964932 4680.69964932 4680.69964932 4680.69964932\n",
      " 4680.69964932 4680.69964932 4680.69964932 4680.69964932 4680.69964932\n",
      " 4680.69964932]\n"
     ]
    },
    {
     "name": "stderr",
     "output_type": "stream",
     "text": [
      " 28%|███████████                             | 608/2200 [00:14<00:36, 43.93it/s]"
     ]
    },
    {
     "name": "stdout",
     "output_type": "stream",
     "text": [
      "Energy: [4680.69964932 4690.1604829  4680.69964932 4680.69964932 4680.69964932\n",
      " 4680.69964932 4680.69964932 4680.69964932 4680.69964932 4680.69964932\n",
      " 4680.69964932]\n"
     ]
    },
    {
     "name": "stderr",
     "output_type": "stream",
     "text": [
      " 30%|███████████▉                            | 658/2200 [00:15<00:35, 43.72it/s]"
     ]
    },
    {
     "name": "stdout",
     "output_type": "stream",
     "text": [
      "Energy: [4680.69964932 4680.69964932 4680.69964932 4680.69964932 4680.69964932\n",
      " 4680.69964932 4680.69964932 4680.69964932 4680.69964932 4680.69964932\n",
      " 4680.69964932]\n"
     ]
    },
    {
     "name": "stderr",
     "output_type": "stream",
     "text": [
      " 32%|████████████▊                           | 708/2200 [00:16<00:36, 40.67it/s]"
     ]
    },
    {
     "name": "stdout",
     "output_type": "stream",
     "text": [
      "Energy: [4680.69964932 4680.69964932 4680.69964932 4680.69964932 4680.69964932\n",
      " 4680.69964932 4680.69964932 4680.69964932 4680.69964932 4680.69964932\n",
      " 4680.69964932]\n"
     ]
    },
    {
     "name": "stderr",
     "output_type": "stream",
     "text": [
      " 34%|█████████████▊                          | 758/2200 [00:17<00:33, 43.33it/s]"
     ]
    },
    {
     "name": "stdout",
     "output_type": "stream",
     "text": [
      "Energy: [4690.1604829  4690.1604829  4680.69964932 4680.69964932 4690.1604829\n",
      " 4680.69964932 4680.69964932 4680.69964932 4680.69964932 4680.69964932\n",
      " 4680.69964932]\n"
     ]
    },
    {
     "name": "stderr",
     "output_type": "stream",
     "text": [
      " 37%|██████████████▋                         | 808/2200 [00:18<00:32, 42.61it/s]"
     ]
    },
    {
     "name": "stdout",
     "output_type": "stream",
     "text": [
      "Energy: [4680.69964932 4680.69964932 4680.69964932 4680.69964932 4680.69964932\n",
      " 4680.69964932 4680.69964932 4680.69964932 4680.69964932 4680.69964932\n",
      " 4680.69964932]\n"
     ]
    },
    {
     "name": "stderr",
     "output_type": "stream",
     "text": [
      " 39%|███████████████▌                        | 858/2200 [00:19<00:29, 45.07it/s]"
     ]
    },
    {
     "name": "stdout",
     "output_type": "stream",
     "text": [
      "Energy: [4680.69964932 4680.69964932 4690.1604829  4680.69964932 4680.69964932\n",
      " 4690.1604829  4680.69964932 4680.69964932 4680.69964932 4680.69964932\n",
      " 4680.69964932]\n"
     ]
    },
    {
     "name": "stderr",
     "output_type": "stream",
     "text": [
      " 41%|████████████████▌                       | 908/2200 [00:20<00:28, 45.08it/s]"
     ]
    },
    {
     "name": "stdout",
     "output_type": "stream",
     "text": [
      "Energy: [4680.69964932 4680.69964932 4690.1604829  4680.69964932 4690.1604829\n",
      " 4680.69964932 4680.69964932 4680.69964932 4680.69964932 4680.69964932\n",
      " 4680.69964932]\n"
     ]
    },
    {
     "name": "stderr",
     "output_type": "stream",
     "text": [
      " 43%|█████████████████▎                      | 953/2200 [00:22<00:31, 39.17it/s]"
     ]
    },
    {
     "name": "stdout",
     "output_type": "stream",
     "text": [
      "Energy: [4680.69964932 4680.69964932 4680.69964932 4680.69964932 4680.69964932\n",
      " 4680.69964932 4680.69964932 4680.69964932 4680.69964932 4680.69964932\n",
      " 4680.69964932]\n"
     ]
    },
    {
     "name": "stderr",
     "output_type": "stream",
     "text": [
      " 46%|█████████████████▊                     | 1008/2200 [00:23<00:26, 44.26it/s]"
     ]
    },
    {
     "name": "stdout",
     "output_type": "stream",
     "text": [
      "Energy: [4690.1604829  4680.69964932 4680.69964932 4680.69964932 4680.69964932\n",
      " 4680.69964932 4680.69964932 4680.69964932 4680.69964932 4680.69964932\n",
      " 4680.69964932]\n"
     ]
    },
    {
     "name": "stderr",
     "output_type": "stream",
     "text": [
      " 48%|██████████████████▋                    | 1053/2200 [00:24<00:25, 44.48it/s]"
     ]
    },
    {
     "name": "stdout",
     "output_type": "stream",
     "text": [
      "Energy: [4680.69964932 4680.69964932 4680.69964932 4680.69964932 4680.69964932\n",
      " 4680.69964932 4680.69964932 4680.69964932 4680.69964932 4680.69964932\n",
      " 4680.69964932]\n"
     ]
    },
    {
     "name": "stderr",
     "output_type": "stream",
     "text": [
      " 50%|███████████████████▋                   | 1108/2200 [00:25<00:24, 44.31it/s]"
     ]
    },
    {
     "name": "stdout",
     "output_type": "stream",
     "text": [
      "Energy: [4680.69964932 4680.69964932 4690.1604829  4690.1604829  4680.69964932\n",
      " 4680.69964932 4680.69964932 4680.69964932 4680.69964932 4680.69964932\n",
      " 4680.69964932]\n"
     ]
    },
    {
     "name": "stderr",
     "output_type": "stream",
     "text": [
      " 53%|████████████████████▌                  | 1163/2200 [00:26<00:24, 42.43it/s]"
     ]
    },
    {
     "name": "stdout",
     "output_type": "stream",
     "text": [
      "Energy: [4690.1604829  4680.69964932 4680.69964932 4680.69964932 4690.1604829\n",
      " 4680.69964932 4680.69964932 4680.69964932 4680.69964932 4680.69964932\n",
      " 4680.69964932]\n"
     ]
    },
    {
     "name": "stderr",
     "output_type": "stream",
     "text": [
      " 55%|█████████████████████▌                 | 1213/2200 [00:28<00:23, 41.66it/s]"
     ]
    },
    {
     "name": "stdout",
     "output_type": "stream",
     "text": [
      "Energy: [4680.69964932 4690.1604829  4680.69964932 4680.69964932 4680.69964932\n",
      " 4680.69964932 4680.69964932 4680.69964932 4680.69964932 4680.69964932\n",
      " 4680.69964932]\n"
     ]
    },
    {
     "name": "stderr",
     "output_type": "stream",
     "text": [
      " 57%|██████████████████████▎                | 1258/2200 [00:29<00:20, 45.77it/s]"
     ]
    },
    {
     "name": "stdout",
     "output_type": "stream",
     "text": [
      "Energy: [4680.69964932 4680.69964932 4680.69964932 4680.69964932 4680.69964932\n",
      " 4680.69964932 4680.69964932 4680.69964932 4680.69964932 4680.69964932\n",
      " 4680.69964932]\n"
     ]
    },
    {
     "name": "stderr",
     "output_type": "stream",
     "text": [
      " 59%|███████████████████████▏               | 1308/2200 [00:30<00:20, 43.15it/s]"
     ]
    },
    {
     "name": "stdout",
     "output_type": "stream",
     "text": [
      "Energy: [4690.1604829  4680.69964932 4680.69964932 4680.69964932 4680.69964932\n",
      " 4680.69964932 4680.69964932 4680.69964932 4680.69964932 4680.69964932\n",
      " 4680.69964932]\n"
     ]
    },
    {
     "name": "stderr",
     "output_type": "stream",
     "text": [
      " 62%|████████████████████████               | 1358/2200 [00:31<00:20, 41.91it/s]"
     ]
    },
    {
     "name": "stdout",
     "output_type": "stream",
     "text": [
      "Energy: [4680.69964932 4680.69964932 4680.69964932 4680.69964932 4690.1604829\n",
      " 4680.69964932 4680.69964932 4680.69964932 4680.69964932 4680.69964932\n",
      " 4680.69964932]\n"
     ]
    },
    {
     "name": "stderr",
     "output_type": "stream",
     "text": [
      " 64%|████████████████████████▉              | 1408/2200 [00:32<00:18, 42.13it/s]"
     ]
    },
    {
     "name": "stdout",
     "output_type": "stream",
     "text": [
      "Energy: [4680.69964932 4680.69964932 4690.1604829  4680.69964932 4680.69964932\n",
      " 4680.69964932 4680.69964932 4680.69964932 4680.69964932 4680.69964932\n",
      " 4680.69964932]\n"
     ]
    },
    {
     "name": "stderr",
     "output_type": "stream",
     "text": [
      " 66%|█████████████████████████▊             | 1458/2200 [00:33<00:16, 44.13it/s]"
     ]
    },
    {
     "name": "stdout",
     "output_type": "stream",
     "text": [
      "Energy: [4680.69964932 4680.69964932 4680.69964932 4680.69964932 4680.69964932\n",
      " 4680.69964932 4680.69964932 4680.69964932 4680.69964932 4680.69964932\n",
      " 4680.69964932]\n"
     ]
    },
    {
     "name": "stderr",
     "output_type": "stream",
     "text": [
      " 69%|██████████████████████████▋            | 1508/2200 [00:34<00:15, 43.27it/s]"
     ]
    },
    {
     "name": "stdout",
     "output_type": "stream",
     "text": [
      "Energy: [4680.69964932 4690.1604829  4690.1604829  4680.69964932 4680.69964932\n",
      " 4680.69964932 4680.69964932 4680.69964932 4680.69964932 4680.69964932\n",
      " 4680.69964932]\n"
     ]
    },
    {
     "name": "stderr",
     "output_type": "stream",
     "text": [
      " 71%|███████████████████████████▌           | 1558/2200 [00:36<00:15, 42.72it/s]"
     ]
    },
    {
     "name": "stdout",
     "output_type": "stream",
     "text": [
      "Energy: [4680.69964932 4709.06757516 4680.69964932 4690.1604829  4680.69964932\n",
      " 4680.69964932 4680.69964932 4680.69964932 4680.69964932 4680.69964932\n",
      " 4680.69964932]\n"
     ]
    },
    {
     "name": "stderr",
     "output_type": "stream",
     "text": [
      " 73%|████████████████████████████▌          | 1608/2200 [00:37<00:13, 43.86it/s]"
     ]
    },
    {
     "name": "stdout",
     "output_type": "stream",
     "text": [
      "Energy: [4680.69964932 4680.69964932 4680.69964932 4680.69964932 4680.69964932\n",
      " 4680.69964932 4680.69964932 4680.69964932 4680.69964932 4680.69964932\n",
      " 4680.69964932]\n"
     ]
    },
    {
     "name": "stderr",
     "output_type": "stream",
     "text": [
      " 75%|█████████████████████████████▍         | 1658/2200 [00:38<00:11, 45.49it/s]"
     ]
    },
    {
     "name": "stdout",
     "output_type": "stream",
     "text": [
      "Energy: [4690.1604829  4680.69964932 4680.69964932 4680.69964932 4680.69964932\n",
      " 4680.69964932 4680.69964932 4680.69964932 4680.69964932 4680.69964932\n",
      " 4680.69964932]\n"
     ]
    },
    {
     "name": "stderr",
     "output_type": "stream",
     "text": [
      " 78%|██████████████████████████████▎        | 1708/2200 [00:39<00:11, 43.65it/s]"
     ]
    },
    {
     "name": "stdout",
     "output_type": "stream",
     "text": [
      "Energy: [4680.69964932 4680.69964932 4680.69964932 4680.69964932 4680.69964932\n",
      " 4680.69964932 4680.69964932 4680.69964932 4680.69964932 4680.69964932\n",
      " 4680.69964932]\n"
     ]
    },
    {
     "name": "stderr",
     "output_type": "stream",
     "text": [
      " 80%|███████████████████████████████▏       | 1758/2200 [00:40<00:10, 43.06it/s]"
     ]
    },
    {
     "name": "stdout",
     "output_type": "stream",
     "text": [
      "Energy: [4680.69964932 4680.69964932 4680.69964932 4680.69964932 4680.69964932\n",
      " 4680.69964932 4680.69964932 4680.69964932 4680.69964932 4680.69964932\n",
      " 4680.69964932]\n"
     ]
    },
    {
     "name": "stderr",
     "output_type": "stream",
     "text": [
      " 82%|████████████████████████████████       | 1808/2200 [00:41<00:09, 41.34it/s]"
     ]
    },
    {
     "name": "stdout",
     "output_type": "stream",
     "text": [
      "Energy: [4709.06757516 4680.69964932 4680.69964932 4680.69964932 4680.69964932\n",
      " 4680.69964932 4680.69964932 4680.69964932 4680.69964932 4680.69964932\n",
      " 4680.69964932]\n"
     ]
    },
    {
     "name": "stderr",
     "output_type": "stream",
     "text": [
      " 84%|████████████████████████████████▉      | 1858/2200 [00:43<00:07, 43.58it/s]"
     ]
    },
    {
     "name": "stdout",
     "output_type": "stream",
     "text": [
      "Energy: [4680.69964932 4680.69964932 4680.69964932 4680.69964932 4680.69964932\n",
      " 4680.69964932 4680.69964932 4680.69964932 4680.69964932 4680.69964932\n",
      " 4680.69964932]\n"
     ]
    },
    {
     "name": "stderr",
     "output_type": "stream",
     "text": [
      " 87%|█████████████████████████████████▊     | 1908/2200 [00:44<00:06, 43.37it/s]"
     ]
    },
    {
     "name": "stdout",
     "output_type": "stream",
     "text": [
      "Energy: [4680.69964932 4680.69964932 4680.69964932 4680.69964932 4680.69964932\n",
      " 4680.69964932 4680.69964932 4680.69964932 4680.69964932 4680.69964932\n",
      " 4680.69964932]\n"
     ]
    },
    {
     "name": "stderr",
     "output_type": "stream",
     "text": [
      " 89%|██████████████████████████████████▋    | 1958/2200 [00:45<00:05, 43.53it/s]"
     ]
    },
    {
     "name": "stdout",
     "output_type": "stream",
     "text": [
      "Energy: [4680.69964932 4680.69964932 4680.69964932 4680.69964932 4680.69964932\n",
      " 4680.69964932 4680.69964932 4680.69964932 4680.69964932 4680.69964932\n",
      " 4680.69964932]\n"
     ]
    },
    {
     "name": "stderr",
     "output_type": "stream",
     "text": [
      " 91%|███████████████████████████████████▌   | 2008/2200 [00:46<00:04, 44.18it/s]"
     ]
    },
    {
     "name": "stdout",
     "output_type": "stream",
     "text": [
      "Energy: [4680.69964932 4690.1604829  4690.1604829  4680.69964932 4680.69964932\n",
      " 4680.69964932 4680.69964932 4680.69964932 4680.69964932 4680.69964932\n",
      " 4680.69964932]\n"
     ]
    },
    {
     "name": "stderr",
     "output_type": "stream",
     "text": [
      " 94%|████████████████████████████████████▍  | 2058/2200 [00:47<00:03, 41.91it/s]"
     ]
    },
    {
     "name": "stdout",
     "output_type": "stream",
     "text": [
      "Energy: [4680.69964932 4680.69964932 4680.69964932 4680.69964932 4680.69964932\n",
      " 4680.69964932 4680.69964932 4680.69964932 4680.69964932 4680.69964932\n",
      " 4680.69964932]\n"
     ]
    },
    {
     "name": "stderr",
     "output_type": "stream",
     "text": [
      " 96%|█████████████████████████████████████▎ | 2108/2200 [00:48<00:02, 43.18it/s]"
     ]
    },
    {
     "name": "stdout",
     "output_type": "stream",
     "text": [
      "Energy: [4680.69964932 4680.69964932 4680.69964932 4680.69964932 4680.69964932\n",
      " 4680.69964932 4680.69964932 4680.69964932 4680.69964932 4680.69964932\n",
      " 4680.69964932]\n"
     ]
    },
    {
     "name": "stderr",
     "output_type": "stream",
     "text": [
      " 98%|██████████████████████████████████████▎| 2158/2200 [00:49<00:00, 43.52it/s]"
     ]
    },
    {
     "name": "stdout",
     "output_type": "stream",
     "text": [
      "Energy: [4680.69964932 4680.69964932 4680.69964932 4680.69964932 4680.69964932\n",
      " 4680.69964932 4680.69964932 4680.69964932 4680.69964932 4680.69964932\n",
      " 4680.69964932]\n"
     ]
    },
    {
     "name": "stderr",
     "output_type": "stream",
     "text": [
      "100%|███████████████████████████████████████| 2200/2200 [00:50<00:00, 43.24it/s]\n"
     ]
    },
    {
     "name": "stdout",
     "output_type": "stream",
     "text": [
      "Fin Energy_t 4680.699649320999 Energy_gs 4680.699649320999\n",
      "c_accep 0 c_rounds 0\n",
      "Elapsed (after compilation) = 50.88304114341736\n",
      "[[187 204 195 186 180 212 216 214 215 213 218 217]\n",
      " [187 204 195 186 180 212 216 214 215 213 218 217]]\n",
      "[[187 204 195 186 180 212 216 214 215 213 218 217]\n",
      " [187 204 195 186 180 212 216 214 215 213 218 217]]\n",
      "[[190 205 195 181 198 212 214 217 215 216 213 218]\n",
      " [190 205 195 181 198 212 214 217 215 216 213 218]]\n",
      "[[190 205 195 181 198 212 214 217 215 216 213 218]\n",
      " [190 205 195 181 198 212 214 217 215 216 213 218]]\n",
      "[[190 205 195 181 198 212 214 217 215 216 213 218]\n",
      " [190 205 195 181 198 212 214 217 215 216 213 218]]\n",
      "[[211 210 184 201 194 212 217 213 215 214 216 218]\n",
      " [211 210 184 201 194 212 217 213 215 214 216 218]]\n",
      "[[211 210 184 201 194 212 217 213 215 214 216 218]\n",
      " [211 210 184 201 194 212 217 213 215 214 216 218]]\n",
      "[[188 185 206 180 189 218 212 217 216 215 214 213]\n",
      " [188 185 206 180 189 218 212 217 216 215 214 213]]\n",
      "[[190 205 195 181 198 212 214 217 215 216 213 218]\n",
      " [190 205 195 181 198 212 214 217 215 216 213 218]]\n",
      "[[190 205 195 181 198 212 214 217 215 216 213 218]\n",
      " [190 205 195 181 198 212 214 217 215 216 213 218]]\n",
      "[[188 185 206 180 189 218 212 217 216 215 214 213]\n",
      " [188 185 206 180 189 218 212 217 216 215 214 213]]\n",
      "[[182 211 195 185 210 216 213 212 215 217 214 218]\n",
      " [182 211 195 185 210 216 213 212 215 217 214 218]]\n",
      "[[188 185 206 180 189 218 212 217 216 215 214 213]\n",
      " [188 185 206 180 189 218 212 217 216 215 214 213]]\n",
      "[[211 210 184 201 194 212 217 213 215 214 216 218]\n",
      " [211 210 184 201 194 212 217 213 215 214 216 218]]\n",
      "[[182 211 195 185 210 216 213 212 215 217 214 218]\n",
      " [182 211 195 185 210 216 213 212 215 217 214 218]]\n",
      "[[211 210 184 201 194 212 217 213 215 214 216 218]\n",
      " [211 210 184 201 194 212 217 213 215 214 216 218]]\n",
      "[[182 211 195 185 210 216 213 212 215 217 214 218]\n",
      " [182 211 195 185 210 216 213 212 215 217 214 218]]\n",
      "[[211 210 184 201 194 212 217 213 215 214 216 218]\n",
      " [211 210 184 201 194 212 217 213 215 214 216 218]]\n",
      "[[188 185 206 180 189 218 212 217 216 215 214 213]\n",
      " [188 185 206 180 189 218 212 217 216 215 214 213]]\n",
      "[[188 185 206 180 189 218 212 217 216 215 214 213]\n",
      " [188 185 206 180 189 218 212 217 216 215 214 213]]\n",
      "[[188 185 206 180 189 218 212 217 216 215 214 213]\n",
      " [188 185 206 180 189 218 212 217 216 215 214 213]]\n",
      "[[188 185 206 180 189 218 212 217 216 215 214 213]\n",
      " [188 185 206 180 189 218 212 217 216 215 214 213]]\n",
      "[[199 183 181 211 196 214 216 217 212 213 218 215]\n",
      " [199 183 181 211 196 214 216 217 212 213 218 215]]\n",
      "[[199 183 181 211 196 214 216 217 212 213 218 215]\n",
      " [199 183 181 211 196 214 216 217 212 213 218 215]]\n",
      "[[199 208 211 191 209 217 216 212 215 218 214 213]\n",
      " [199 208 211 191 209 217 216 212 215 218 214 213]]\n",
      "[[188 185 206 180 189 218 212 217 216 215 214 213]\n",
      " [188 185 206 180 189 218 212 217 216 215 214 213]]\n",
      "[[182 189 208 198 183 216 217 212 215 213 214 218]\n",
      " [182 189 208 198 183 216 217 212 215 213 214 218]]\n",
      "[[188 185 206 180 189 218 212 217 216 215 214 213]\n",
      " [188 185 206 180 189 218 212 217 216 215 214 213]]\n",
      "[[188 185 206 180 189 218 212 217 216 215 214 213]\n",
      " [188 185 206 180 189 218 212 217 216 215 214 213]]\n",
      "[[188 185 206 180 189 218 212 217 216 215 214 213]\n",
      " [188 185 206 180 189 218 212 217 216 215 214 213]]\n",
      "[[180 196 210 194 183 214 216 213 215 212 217 218]\n",
      " [180 196 210 194 183 214 216 213 215 212 217 218]]\n",
      "[[180 196 210 194 183 214 216 213 215 212 217 218]\n",
      " [180 196 210 194 183 214 216 213 215 212 217 218]]\n",
      "[[182 189 208 198 183 216 217 212 215 213 214 218]\n",
      " [182 189 208 198 183 216 217 212 215 213 214 218]]\n",
      "[[182 189 208 198 183 216 217 212 215 213 214 218]\n",
      " [182 189 208 198 183 216 217 212 215 213 214 218]]\n",
      "[[182 189 208 198 183 216 217 212 215 213 214 218]\n",
      " [182 189 208 198 183 216 217 212 215 213 214 218]]\n",
      "[[180 196 210 194 183 214 216 213 215 212 217 218]\n",
      " [180 196 210 194 183 214 216 213 215 212 217 218]]\n",
      "[[180 196 210 194 183 214 216 213 215 212 217 218]\n",
      " [180 196 210 194 183 214 216 213 215 212 217 218]]\n",
      "[[180 196 210 194 183 214 216 213 215 212 217 218]\n",
      " [180 196 210 194 183 214 216 213 215 212 217 218]]\n",
      "[[180 196 210 194 183 214 216 213 215 212 217 218]\n",
      " [180 196 210 194 183 214 216 213 215 212 217 218]]\n",
      "[[180 196 210 194 183 214 216 213 215 212 217 218]\n",
      " [180 196 210 194 183 214 216 213 215 212 217 218]]\n",
      "[1.] [1.]\n",
      "i_reps 5\n",
      "Energía ini: 16075.103331738575 /gs: 4690.160482897783\n"
     ]
    },
    {
     "name": "stderr",
     "output_type": "stream",
     "text": [
      " 10%|███▊                                    | 210/2200 [00:04<00:45, 43.72it/s]"
     ]
    },
    {
     "name": "stdout",
     "output_type": "stream",
     "text": [
      "Energy: [4690.1604829  4690.1604829  4765.67310936 4690.1604829  4690.1604829\n",
      " 4690.1604829  4690.1604829  4690.1604829  4690.1604829  4690.1604829\n",
      " 4690.1604829 ]\n"
     ]
    },
    {
     "name": "stderr",
     "output_type": "stream",
     "text": [
      " 12%|████▋                                   | 260/2200 [00:05<00:44, 43.71it/s]"
     ]
    },
    {
     "name": "stdout",
     "output_type": "stream",
     "text": [
      "Energy: [4690.1604829  4765.67310936 4690.1604829  4690.1604829  4690.1604829\n",
      " 4690.1604829  4690.1604829  4690.1604829  4690.1604829  4690.1604829\n",
      " 4690.1604829 ]\n"
     ]
    },
    {
     "name": "stderr",
     "output_type": "stream",
     "text": [
      " 14%|█████▋                                  | 310/2200 [00:07<00:42, 44.11it/s]"
     ]
    },
    {
     "name": "stdout",
     "output_type": "stream",
     "text": [
      "Energy: [4690.1604829 4690.1604829 4690.1604829 4690.1604829 4690.1604829\n",
      " 4690.1604829 4690.1604829 4690.1604829 4690.1604829 4690.1604829\n",
      " 4690.1604829]\n"
     ]
    },
    {
     "name": "stderr",
     "output_type": "stream",
     "text": [
      " 16%|██████▌                                 | 360/2200 [00:08<00:42, 43.09it/s]"
     ]
    },
    {
     "name": "stdout",
     "output_type": "stream",
     "text": [
      "Energy: [4690.1604829  4690.1604829  4699.61645418 4690.1604829  4690.1604829\n",
      " 4690.1604829  4690.1604829  4690.1604829  4690.1604829  4690.1604829\n",
      " 4690.1604829 ]\n"
     ]
    },
    {
     "name": "stderr",
     "output_type": "stream",
     "text": [
      " 19%|███████▍                                | 410/2200 [00:09<00:41, 43.01it/s]"
     ]
    },
    {
     "name": "stdout",
     "output_type": "stream",
     "text": [
      "Energy: [4690.1604829 4690.1604829 4690.1604829 4690.1604829 4690.1604829\n",
      " 4690.1604829 4690.1604829 4690.1604829 4690.1604829 4690.1604829\n",
      " 4690.1604829]\n"
     ]
    },
    {
     "name": "stderr",
     "output_type": "stream",
     "text": [
      " 21%|████████▎                               | 460/2200 [00:10<00:39, 43.53it/s]"
     ]
    },
    {
     "name": "stdout",
     "output_type": "stream",
     "text": [
      "Energy: [4690.1604829 4690.1604829 4690.1604829 4690.1604829 4690.1604829\n",
      " 4690.1604829 4690.1604829 4690.1604829 4690.1604829 4690.1604829\n",
      " 4690.1604829]\n"
     ]
    },
    {
     "name": "stderr",
     "output_type": "stream",
     "text": [
      " 23%|█████████▎                              | 510/2200 [00:11<00:37, 45.07it/s]"
     ]
    },
    {
     "name": "stdout",
     "output_type": "stream",
     "text": [
      "Energy: [4690.1604829 4690.1604829 4690.1604829 4690.1604829 4690.1604829\n",
      " 4690.1604829 4690.1604829 4690.1604829 4690.1604829 4690.1604829\n",
      " 4690.1604829]\n"
     ]
    },
    {
     "name": "stderr",
     "output_type": "stream",
     "text": [
      " 25%|██████████▏                             | 560/2200 [00:12<00:37, 43.83it/s]"
     ]
    },
    {
     "name": "stdout",
     "output_type": "stream",
     "text": [
      "Energy: [4690.1604829 4690.1604829 4690.1604829 4690.1604829 4690.1604829\n",
      " 4690.1604829 4690.1604829 4690.1604829 4690.1604829 4690.1604829\n",
      " 4690.1604829]\n"
     ]
    },
    {
     "name": "stderr",
     "output_type": "stream",
     "text": [
      " 28%|███████████                             | 605/2200 [00:13<00:37, 42.99it/s]"
     ]
    },
    {
     "name": "stdout",
     "output_type": "stream",
     "text": [
      "Energy: [4709.06757516 4690.1604829  4690.1604829  4690.1604829  4690.1604829\n",
      " 4690.1604829  4690.1604829  4690.1604829  4690.1604829  4690.1604829\n",
      " 4690.1604829 ]\n"
     ]
    },
    {
     "name": "stderr",
     "output_type": "stream",
     "text": [
      " 30%|████████████                            | 660/2200 [00:15<00:36, 42.49it/s]"
     ]
    },
    {
     "name": "stdout",
     "output_type": "stream",
     "text": [
      "Energy: [4690.1604829 4690.1604829 4690.1604829 4690.1604829 4690.1604829\n",
      " 4690.1604829 4690.1604829 4690.1604829 4690.1604829 4690.1604829\n",
      " 4690.1604829]\n"
     ]
    },
    {
     "name": "stderr",
     "output_type": "stream",
     "text": [
      " 32%|████████████▉                           | 710/2200 [00:16<00:34, 43.55it/s]"
     ]
    },
    {
     "name": "stdout",
     "output_type": "stream",
     "text": [
      "Energy: [4690.1604829 4690.1604829 4690.1604829 4690.1604829 4690.1604829\n",
      " 4690.1604829 4690.1604829 4690.1604829 4690.1604829 4690.1604829\n",
      " 4690.1604829]\n"
     ]
    },
    {
     "name": "stderr",
     "output_type": "stream",
     "text": [
      " 35%|█████████████▊                          | 760/2200 [00:17<00:33, 43.02it/s]"
     ]
    },
    {
     "name": "stdout",
     "output_type": "stream",
     "text": [
      "Energy: [4690.1604829 4690.1604829 4690.1604829 4690.1604829 4690.1604829\n",
      " 4690.1604829 4690.1604829 4690.1604829 4690.1604829 4690.1604829\n",
      " 4690.1604829]\n"
     ]
    },
    {
     "name": "stderr",
     "output_type": "stream",
     "text": [
      " 37%|██████████████▋                         | 810/2200 [00:18<00:30, 45.18it/s]"
     ]
    },
    {
     "name": "stdout",
     "output_type": "stream",
     "text": [
      "Energy: [4690.1604829 4690.1604829 4690.1604829 4690.1604829 4690.1604829\n",
      " 4690.1604829 4690.1604829 4690.1604829 4690.1604829 4690.1604829\n",
      " 4690.1604829]\n"
     ]
    },
    {
     "name": "stderr",
     "output_type": "stream",
     "text": [
      " 39%|███████████████▌                        | 859/2200 [00:19<00:32, 40.88it/s]"
     ]
    },
    {
     "name": "stdout",
     "output_type": "stream",
     "text": [
      "Energy: [4690.1604829 4690.1604829 4690.1604829 4690.1604829 4690.1604829\n",
      " 4690.1604829 4690.1604829 4690.1604829 4690.1604829 4690.1604829\n",
      " 4690.1604829]\n"
     ]
    },
    {
     "name": "stderr",
     "output_type": "stream",
     "text": [
      " 41%|████████████████▌                       | 909/2200 [00:20<00:29, 43.94it/s]"
     ]
    },
    {
     "name": "stdout",
     "output_type": "stream",
     "text": [
      "Energy: [4690.1604829 4690.1604829 4690.1604829 4690.1604829 4690.1604829\n",
      " 4690.1604829 4690.1604829 4690.1604829 4690.1604829 4690.1604829\n",
      " 4690.1604829]\n"
     ]
    },
    {
     "name": "stderr",
     "output_type": "stream",
     "text": [
      " 44%|█████████████████▍                      | 959/2200 [00:22<00:28, 43.50it/s]"
     ]
    },
    {
     "name": "stdout",
     "output_type": "stream",
     "text": [
      "Energy: [4690.1604829  4709.06757516 4690.1604829  4690.1604829  4690.1604829\n",
      " 4690.1604829  4690.1604829  4690.1604829  4690.1604829  4690.1604829\n",
      " 4690.1604829 ]\n"
     ]
    },
    {
     "name": "stderr",
     "output_type": "stream",
     "text": [
      " 46%|█████████████████▉                     | 1009/2200 [00:23<00:26, 45.77it/s]"
     ]
    },
    {
     "name": "stdout",
     "output_type": "stream",
     "text": [
      "Energy: [4690.1604829 4690.1604829 4690.1604829 4690.1604829 4690.1604829\n",
      " 4690.1604829 4690.1604829 4690.1604829 4690.1604829 4690.1604829\n",
      " 4690.1604829]\n"
     ]
    },
    {
     "name": "stderr",
     "output_type": "stream",
     "text": [
      " 48%|██████████████████▋                    | 1054/2200 [00:24<00:26, 43.11it/s]"
     ]
    },
    {
     "name": "stdout",
     "output_type": "stream",
     "text": [
      "Energy: [4690.1604829 4690.1604829 4690.1604829 4690.1604829 4690.1604829\n",
      " 4690.1604829 4690.1604829 4690.1604829 4690.1604829 4690.1604829\n",
      " 4690.1604829]\n"
     ]
    },
    {
     "name": "stderr",
     "output_type": "stream",
     "text": [
      " 50%|███████████████████▋                   | 1109/2200 [00:25<00:26, 41.09it/s]"
     ]
    },
    {
     "name": "stdout",
     "output_type": "stream",
     "text": [
      "Energy: [4690.1604829  4690.1604829  4690.1604829  4690.1604829  4699.61645418\n",
      " 4690.1604829  4690.1604829  4690.1604829  4690.1604829  4690.1604829\n",
      " 4690.1604829 ]\n"
     ]
    },
    {
     "name": "stderr",
     "output_type": "stream",
     "text": [
      " 53%|████████████████████▌                  | 1159/2200 [00:26<00:23, 43.42it/s]"
     ]
    },
    {
     "name": "stdout",
     "output_type": "stream",
     "text": [
      "Energy: [4690.1604829  4690.1604829  4690.1604829  4699.61645418 4690.1604829\n",
      " 4690.1604829  4690.1604829  4690.1604829  4690.1604829  4690.1604829\n",
      " 4690.1604829 ]\n"
     ]
    },
    {
     "name": "stderr",
     "output_type": "stream",
     "text": [
      " 55%|█████████████████████▍                 | 1209/2200 [00:27<00:22, 43.60it/s]"
     ]
    },
    {
     "name": "stdout",
     "output_type": "stream",
     "text": [
      "Energy: [4690.1604829 4690.1604829 4690.1604829 4690.1604829 4690.1604829\n",
      " 4690.1604829 4690.1604829 4690.1604829 4690.1604829 4690.1604829\n",
      " 4690.1604829]\n"
     ]
    },
    {
     "name": "stderr",
     "output_type": "stream",
     "text": [
      " 57%|██████████████████████▏                | 1254/2200 [00:28<00:22, 42.84it/s]"
     ]
    },
    {
     "name": "stdout",
     "output_type": "stream",
     "text": [
      "Energy: [4690.1604829 4690.1604829 4690.1604829 4690.1604829 4690.1604829\n",
      " 4690.1604829 4690.1604829 4690.1604829 4690.1604829 4690.1604829\n",
      " 4690.1604829]\n"
     ]
    },
    {
     "name": "stderr",
     "output_type": "stream",
     "text": [
      " 60%|███████████████████████▏               | 1309/2200 [00:30<00:20, 43.17it/s]"
     ]
    },
    {
     "name": "stdout",
     "output_type": "stream",
     "text": [
      "Energy: [4690.1604829 4690.1604829 4690.1604829 4690.1604829 4690.1604829\n",
      " 4690.1604829 4690.1604829 4690.1604829 4690.1604829 4690.1604829\n",
      " 4690.1604829]\n"
     ]
    },
    {
     "name": "stderr",
     "output_type": "stream",
     "text": [
      " 62%|████████████████████████               | 1359/2200 [00:31<00:19, 43.42it/s]"
     ]
    },
    {
     "name": "stdout",
     "output_type": "stream",
     "text": [
      "Energy: [4690.1604829 4690.1604829 4690.1604829 4690.1604829 4690.1604829\n",
      " 4690.1604829 4690.1604829 4690.1604829 4690.1604829 4690.1604829\n",
      " 4690.1604829]\n"
     ]
    },
    {
     "name": "stderr",
     "output_type": "stream",
     "text": [
      " 64%|████████████████████████▉              | 1409/2200 [00:32<00:18, 42.68it/s]"
     ]
    },
    {
     "name": "stdout",
     "output_type": "stream",
     "text": [
      "Energy: [4690.1604829 4690.1604829 4690.1604829 4690.1604829 4690.1604829\n",
      " 4690.1604829 4690.1604829 4690.1604829 4690.1604829 4690.1604829\n",
      " 4690.1604829]\n"
     ]
    },
    {
     "name": "stderr",
     "output_type": "stream",
     "text": [
      " 66%|█████████████████████████▊             | 1454/2200 [00:33<00:17, 43.46it/s]"
     ]
    },
    {
     "name": "stdout",
     "output_type": "stream",
     "text": [
      "Energy: [4690.1604829 4690.1604829 4690.1604829 4690.1604829 4690.1604829\n",
      " 4690.1604829 4690.1604829 4690.1604829 4690.1604829 4690.1604829\n",
      " 4690.1604829]\n"
     ]
    },
    {
     "name": "stderr",
     "output_type": "stream",
     "text": [
      " 69%|██████████████████████████▊            | 1509/2200 [00:34<00:15, 43.72it/s]"
     ]
    },
    {
     "name": "stdout",
     "output_type": "stream",
     "text": [
      "Energy: [4690.1604829 4690.1604829 4690.1604829 4690.1604829 4690.1604829\n",
      " 4690.1604829 4690.1604829 4690.1604829 4690.1604829 4690.1604829\n",
      " 4690.1604829]\n"
     ]
    },
    {
     "name": "stderr",
     "output_type": "stream",
     "text": [
      " 71%|███████████████████████████▋           | 1559/2200 [00:36<00:14, 43.07it/s]"
     ]
    },
    {
     "name": "stdout",
     "output_type": "stream",
     "text": [
      "Energy: [4690.1604829 4690.1604829 4690.1604829 4690.1604829 4690.1604829\n",
      " 4690.1604829 4690.1604829 4690.1604829 4690.1604829 4690.1604829\n",
      " 4690.1604829]\n"
     ]
    },
    {
     "name": "stderr",
     "output_type": "stream",
     "text": [
      " 73%|████████████████████████████▌          | 1609/2200 [00:37<00:13, 43.03it/s]"
     ]
    },
    {
     "name": "stdout",
     "output_type": "stream",
     "text": [
      "Energy: [4690.1604829 4690.1604829 4690.1604829 4690.1604829 4690.1604829\n",
      " 4690.1604829 4690.1604829 4690.1604829 4690.1604829 4690.1604829\n",
      " 4690.1604829]\n"
     ]
    },
    {
     "name": "stderr",
     "output_type": "stream",
     "text": [
      " 75%|█████████████████████████████▍         | 1659/2200 [00:38<00:12, 43.91it/s]"
     ]
    },
    {
     "name": "stdout",
     "output_type": "stream",
     "text": [
      "Energy: [4690.1604829 4690.1604829 4690.1604829 4690.1604829 4690.1604829\n",
      " 4690.1604829 4690.1604829 4690.1604829 4690.1604829 4690.1604829\n",
      " 4690.1604829]\n"
     ]
    },
    {
     "name": "stderr",
     "output_type": "stream",
     "text": [
      " 78%|██████████████████████████████▎        | 1709/2200 [00:39<00:11, 43.57it/s]"
     ]
    },
    {
     "name": "stdout",
     "output_type": "stream",
     "text": [
      "Energy: [4690.1604829  4690.1604829  4690.1604829  4699.61645418 4690.1604829\n",
      " 4690.1604829  4690.1604829  4690.1604829  4690.1604829  4690.1604829\n",
      " 4690.1604829 ]\n"
     ]
    },
    {
     "name": "stderr",
     "output_type": "stream",
     "text": [
      " 80%|███████████████████████████████▏       | 1759/2200 [00:40<00:10, 40.33it/s]"
     ]
    },
    {
     "name": "stdout",
     "output_type": "stream",
     "text": [
      "Energy: [4690.1604829 4690.1604829 4690.1604829 4690.1604829 4690.1604829\n",
      " 4690.1604829 4690.1604829 4690.1604829 4690.1604829 4690.1604829\n",
      " 4690.1604829]\n"
     ]
    },
    {
     "name": "stderr",
     "output_type": "stream",
     "text": [
      " 82%|███████████████████████████████▉       | 1804/2200 [00:41<00:09, 43.81it/s]"
     ]
    },
    {
     "name": "stdout",
     "output_type": "stream",
     "text": [
      "Energy: [4690.1604829 4690.1604829 4690.1604829 4690.1604829 4690.1604829\n",
      " 4690.1604829 4690.1604829 4690.1604829 4690.1604829 4690.1604829\n",
      " 4690.1604829]\n"
     ]
    },
    {
     "name": "stderr",
     "output_type": "stream",
     "text": [
      " 84%|████████████████████████████████▉      | 1859/2200 [00:43<00:07, 43.64it/s]"
     ]
    },
    {
     "name": "stdout",
     "output_type": "stream",
     "text": [
      "Energy: [4690.1604829 4690.1604829 4690.1604829 4690.1604829 4690.1604829\n",
      " 4690.1604829 4690.1604829 4690.1604829 4690.1604829 4690.1604829\n",
      " 4690.1604829]\n"
     ]
    },
    {
     "name": "stderr",
     "output_type": "stream",
     "text": [
      " 87%|█████████████████████████████████▊     | 1904/2200 [00:44<00:06, 44.37it/s]"
     ]
    },
    {
     "name": "stdout",
     "output_type": "stream",
     "text": [
      "Energy: [4690.1604829 4690.1604829 4690.1604829 4690.1604829 4690.1604829\n",
      " 4690.1604829 4690.1604829 4690.1604829 4690.1604829 4690.1604829\n",
      " 4690.1604829]\n"
     ]
    },
    {
     "name": "stderr",
     "output_type": "stream",
     "text": [
      " 89%|██████████████████████████████████▋    | 1954/2200 [00:45<00:05, 42.82it/s]"
     ]
    },
    {
     "name": "stdout",
     "output_type": "stream",
     "text": [
      "Energy: [4690.1604829  4690.1604829  4699.61645418 4690.1604829  4690.1604829\n",
      " 4690.1604829  4690.1604829  4690.1604829  4690.1604829  4690.1604829\n",
      " 4690.1604829 ]\n"
     ]
    },
    {
     "name": "stderr",
     "output_type": "stream",
     "text": [
      " 91%|███████████████████████████████████▌   | 2008/2200 [00:46<00:04, 43.99it/s]"
     ]
    },
    {
     "name": "stdout",
     "output_type": "stream",
     "text": [
      "Energy: [4690.1604829 4690.1604829 4690.1604829 4690.1604829 4690.1604829\n",
      " 4690.1604829 4690.1604829 4690.1604829 4690.1604829 4690.1604829\n",
      " 4690.1604829]\n"
     ]
    },
    {
     "name": "stderr",
     "output_type": "stream",
     "text": [
      " 94%|████████████████████████████████████▍  | 2058/2200 [00:47<00:03, 44.46it/s]"
     ]
    },
    {
     "name": "stdout",
     "output_type": "stream",
     "text": [
      "Energy: [4690.1604829 4690.1604829 4690.1604829 4690.1604829 4690.1604829\n",
      " 4690.1604829 4690.1604829 4690.1604829 4690.1604829 4690.1604829\n",
      " 4690.1604829]\n"
     ]
    },
    {
     "name": "stderr",
     "output_type": "stream",
     "text": [
      " 96%|█████████████████████████████████████▎ | 2108/2200 [00:48<00:02, 43.37it/s]"
     ]
    },
    {
     "name": "stdout",
     "output_type": "stream",
     "text": [
      "Energy: [4690.1604829 4690.1604829 4690.1604829 4690.1604829 4690.1604829\n",
      " 4690.1604829 4690.1604829 4690.1604829 4690.1604829 4690.1604829\n",
      " 4690.1604829]\n"
     ]
    },
    {
     "name": "stderr",
     "output_type": "stream",
     "text": [
      " 98%|██████████████████████████████████████▎| 2158/2200 [00:49<00:00, 43.28it/s]"
     ]
    },
    {
     "name": "stdout",
     "output_type": "stream",
     "text": [
      "Energy: [4690.1604829 4690.1604829 4690.1604829 4690.1604829 4690.1604829\n",
      " 4690.1604829 4690.1604829 4690.1604829 4690.1604829 4690.1604829\n",
      " 4690.1604829]\n"
     ]
    },
    {
     "name": "stderr",
     "output_type": "stream",
     "text": [
      "100%|███████████████████████████████████████| 2200/2200 [00:50<00:00, 43.20it/s]\n"
     ]
    },
    {
     "name": "stdout",
     "output_type": "stream",
     "text": [
      "Fin Energy_t 4690.160482897783 Energy_gs 4690.160482897783\n",
      "c_accep 0 c_rounds 0\n",
      "Elapsed (after compilation) = 50.93080711364746\n",
      "[[182 198 190 188 191 216 213 214 215 217 218 212]\n",
      " [182 198 190 180 191 216 213 214 215 217 218 212]]\n",
      "[[202 200 196 191 204 213 214 217 215 216 212 218]\n",
      " [202 200 196 191 204 213 214 217 215 216 212 218]]\n",
      "[[202 200 196 191 204 213 214 217 215 216 212 218]\n",
      " [202 200 196 191 204 213 214 217 215 216 212 218]]\n",
      "[[182 198 190 188 191 216 213 214 215 217 218 212]\n",
      " [182 198 190 180 191 216 213 214 215 217 218 212]]\n",
      "[[182 198 190 180 191 216 213 214 215 217 218 212]\n",
      " [182 198 190 180 191 216 213 214 215 217 218 212]]\n",
      "[[190 185 200 197 181 216 213 217 218 215 214 212]\n",
      " [190 185 200 197 181 216 213 217 218 215 214 212]]\n",
      "[[182 198 190 180 191 216 213 214 215 217 218 212]\n",
      " [182 198 190 180 191 216 213 214 215 217 218 212]]\n",
      "[[190 185 200 197 181 216 213 217 218 215 214 212]\n",
      " [190 185 200 197 181 216 213 217 218 215 214 212]]\n",
      "[[188 211 193 208 190 212 216 217 213 214 215 218]\n",
      " [188 211 193 208 190 212 216 217 213 214 215 218]]\n",
      "[[190 185 200 197 181 216 213 217 218 215 214 212]\n",
      " [190 185 200 197 181 216 213 217 218 215 214 212]]\n",
      "[[190 185 200 197 181 216 213 217 218 215 214 212]\n",
      " [190 185 200 197 181 216 213 217 218 215 214 212]]\n",
      "[[182 197 204 191 198 213 218 214 215 217 212 216]\n",
      " [182 197 204 191 198 213 218 214 215 217 212 216]]\n",
      "[[182 198 190 188 191 216 213 214 215 217 218 212]\n",
      " [182 198 190 188 191 216 213 214 215 217 218 212]]\n",
      "[[182 197 204 191 198 213 218 214 215 217 212 216]\n",
      " [182 197 204 191 198 213 218 214 215 217 212 216]]\n",
      "[[182 198 190 180 191 216 213 214 215 217 218 212]\n",
      " [182 198 190 180 191 216 213 214 215 217 218 212]]\n",
      "[[188 211 193 208 190 212 216 217 213 214 215 218]\n",
      " [188 211 193 208 190 212 216 217 213 214 215 218]]\n",
      "[[182 197 204 191 198 213 218 214 215 217 212 216]\n",
      " [182 197 204 191 198 213 218 214 215 217 212 216]]\n",
      "[[188 211 193 208 190 212 216 217 213 214 215 218]\n",
      " [180 211 193 208 190 212 216 217 213 214 215 218]]\n",
      "[[182 198 190 180 191 216 213 214 215 217 218 212]\n",
      " [182 198 190 188 191 216 213 214 215 217 218 212]]\n",
      "[[180 211 193 210 190 212 216 217 213 214 215 218]\n",
      " [180 211 193 210 190 212 216 217 213 214 215 218]]\n",
      "[[184 206 203 196 188 217 213 214 215 216 218 212]\n",
      " [184 206 203 196 188 217 213 214 215 216 218 212]]\n",
      "[[182 197 204 191 198 213 218 214 215 217 212 216]\n",
      " [182 197 204 191 198 213 218 214 215 217 212 216]]\n",
      "[[182 197 204 191 198 213 218 214 215 217 212 216]\n",
      " [182 197 204 191 198 213 218 214 215 217 212 216]]\n",
      "[[182 197 204 191 198 213 218 214 215 217 212 216]\n",
      " [182 197 204 191 198 213 218 214 215 217 212 216]]\n",
      "[[188 211 193 210 190 212 216 217 213 214 215 218]\n",
      " [180 211 193 208 190 212 216 217 213 214 215 218]]\n",
      "[[182 198 190 188 191 216 213 214 215 217 218 212]\n",
      " [182 198 190 180 191 216 213 214 215 217 218 212]]\n",
      "[[180 211 193 210 190 212 216 217 213 214 215 218]\n",
      " [180 211 193 208 190 212 216 217 213 214 215 218]]\n",
      "[[180 211 193 210 190 212 216 217 213 214 215 218]\n",
      " [180 211 193 210 190 212 216 217 213 214 215 218]]\n",
      "[[180 211 193 210 190 212 216 217 213 214 215 218]\n",
      " [180 211 193 210 190 212 216 217 213 214 215 218]]\n",
      "[[184 206 203 196 188 217 213 214 215 216 218 212]\n",
      " [184 206 203 196 188 217 213 214 215 216 218 212]]\n",
      "[[184 206 203 196 188 217 213 214 215 216 218 212]\n",
      " [184 206 203 196 188 217 213 214 215 216 218 212]]\n",
      "[[184 206 203 196 180 217 213 214 215 216 218 212]\n",
      " [184 206 203 196 188 217 213 214 215 216 218 212]]\n",
      "[[182 197 204 191 198 213 218 214 215 217 212 216]\n",
      " [182 197 204 191 198 213 218 214 215 217 212 216]]\n",
      "[[182 197 204 191 198 213 218 214 215 217 212 216]\n",
      " [182 197 204 191 198 213 218 214 215 217 212 216]]\n",
      "[[184 206 203 196 180 217 213 214 215 216 218 212]\n",
      " [184 206 203 196 180 217 213 214 215 216 218 212]]\n",
      "[[182 198 190 188 191 216 213 214 215 217 218 212]\n",
      " [182 198 190 180 191 216 213 214 215 217 218 212]]\n",
      "[[182 197 204 191 198 213 218 214 215 217 212 216]\n",
      " [182 197 204 191 198 213 218 214 215 217 212 216]]\n",
      "[[182 197 204 191 198 213 218 214 215 217 212 216]\n",
      " [182 197 204 191 198 213 218 214 215 217 212 216]]\n",
      "[[182 198 190 180 191 216 213 214 215 217 218 212]\n",
      " [182 198 190 180 191 216 213 214 215 217 218 212]]\n",
      "[[184 206 203 196 180 217 213 214 215 216 218 212]\n",
      " [184 206 203 196 180 217 213 214 215 216 218 212]]\n",
      "[0.99086758] [0.99086758]\n",
      "i_reps 6\n",
      "Energía ini: 16055.826356903046 /gs: 4765.673109361302\n"
     ]
    },
    {
     "name": "stderr",
     "output_type": "stream",
     "text": [
      " 10%|███▊                                    | 210/2200 [00:04<00:48, 41.39it/s]"
     ]
    },
    {
     "name": "stdout",
     "output_type": "stream",
     "text": [
      "Energy: [4765.67310936 4765.67310936 4765.67310936 4765.67310936 4765.67310936\n",
      " 4765.67310936 4765.67310936 4765.67310936 4765.67310936 4765.67310936\n",
      " 4765.67310936]\n"
     ]
    },
    {
     "name": "stderr",
     "output_type": "stream",
     "text": [
      " 12%|████▋                                   | 260/2200 [00:05<00:43, 44.74it/s]"
     ]
    },
    {
     "name": "stdout",
     "output_type": "stream",
     "text": [
      "Energy: [4765.67310936 4775.09060934 4765.67310936 4765.67310936 4765.67310936\n",
      " 4765.67310936 4765.67310936 4765.67310936 4765.67310936 4765.67310936\n",
      " 4765.67310936]\n"
     ]
    },
    {
     "name": "stderr",
     "output_type": "stream",
     "text": [
      " 14%|█████▋                                  | 310/2200 [00:07<00:42, 44.38it/s]"
     ]
    },
    {
     "name": "stdout",
     "output_type": "stream",
     "text": [
      "Energy: [4775.09060934 4765.67310936 4765.67310936 4765.67310936 4765.67310936\n",
      " 4765.67310936 4765.67310936 4765.67310936 4765.67310936 4765.67310936\n",
      " 4765.67310936]\n"
     ]
    },
    {
     "name": "stderr",
     "output_type": "stream",
     "text": [
      " 16%|██████▌                                 | 360/2200 [00:08<00:40, 45.09it/s]"
     ]
    },
    {
     "name": "stdout",
     "output_type": "stream",
     "text": [
      "Energy: [4765.67310936 4765.67310936 4765.67310936 4765.67310936 4765.67310936\n",
      " 4765.67310936 4765.67310936 4765.67310936 4765.67310936 4765.67310936\n",
      " 4765.67310936]\n"
     ]
    },
    {
     "name": "stderr",
     "output_type": "stream",
     "text": [
      " 18%|███████▎                                | 405/2200 [00:09<00:43, 41.63it/s]"
     ]
    },
    {
     "name": "stdout",
     "output_type": "stream",
     "text": [
      "Energy: [4765.67310936 4765.67310936 4765.67310936 4765.67310936 4765.67310936\n",
      " 4765.67310936 4765.67310936 4765.67310936 4765.67310936 4765.67310936\n",
      " 4765.67310936]\n"
     ]
    },
    {
     "name": "stderr",
     "output_type": "stream",
     "text": [
      " 21%|████████▎                               | 459/2200 [00:10<00:40, 42.47it/s]"
     ]
    },
    {
     "name": "stdout",
     "output_type": "stream",
     "text": [
      "Energy: [4765.67310936 4765.67310936 4765.67310936 4765.67310936 4765.67310936\n",
      " 4765.67310936 4765.67310936 4765.67310936 4765.67310936 4765.67310936\n",
      " 4765.67310936]\n"
     ]
    },
    {
     "name": "stderr",
     "output_type": "stream",
     "text": [
      " 23%|█████████▏                              | 504/2200 [00:11<00:39, 42.82it/s]"
     ]
    },
    {
     "name": "stdout",
     "output_type": "stream",
     "text": [
      "Energy: [4765.67310936 4765.67310936 4765.67310936 4765.67310936 4765.67310936\n",
      " 4765.67310936 4765.67310936 4765.67310936 4765.67310936 4765.67310936\n",
      " 4765.67310936]\n"
     ]
    },
    {
     "name": "stderr",
     "output_type": "stream",
     "text": [
      " 25%|██████████▏                             | 559/2200 [00:12<00:38, 42.92it/s]"
     ]
    },
    {
     "name": "stdout",
     "output_type": "stream",
     "text": [
      "Energy: [4765.67310936 4784.50335293 4765.67310936 4765.67310936 4765.67310936\n",
      " 4765.67310936 4765.67310936 4765.67310936 4765.67310936 4765.67310936\n",
      " 4765.67310936]\n"
     ]
    },
    {
     "name": "stderr",
     "output_type": "stream",
     "text": [
      " 28%|███████████                             | 609/2200 [00:14<00:37, 42.96it/s]"
     ]
    },
    {
     "name": "stdout",
     "output_type": "stream",
     "text": [
      "Energy: [4765.67310936 4765.67310936 4775.09060934 4765.67310936 4765.67310936\n",
      " 4765.67310936 4765.67310936 4765.67310936 4765.67310936 4765.67310936\n",
      " 4765.67310936]\n"
     ]
    },
    {
     "name": "stderr",
     "output_type": "stream",
     "text": [
      " 30%|███████████▉                            | 658/2200 [00:15<00:36, 42.34it/s]"
     ]
    },
    {
     "name": "stdout",
     "output_type": "stream",
     "text": [
      "Energy: [4765.67310936 4765.67310936 4765.67310936 4765.67310936 4765.67310936\n",
      " 4765.67310936 4765.67310936 4765.67310936 4765.67310936 4765.67310936\n",
      " 4765.67310936]\n"
     ]
    },
    {
     "name": "stderr",
     "output_type": "stream",
     "text": [
      " 32%|████████████▊                           | 708/2200 [00:16<00:34, 43.66it/s]"
     ]
    },
    {
     "name": "stdout",
     "output_type": "stream",
     "text": [
      "Energy: [4784.50335293 4765.67310936 4765.67310936 4765.67310936 4765.67310936\n",
      " 4765.67310936 4765.67310936 4765.67310936 4765.67310936 4765.67310936\n",
      " 4765.67310936]\n"
     ]
    },
    {
     "name": "stderr",
     "output_type": "stream",
     "text": [
      " 34%|█████████████▊                          | 758/2200 [00:17<00:33, 42.72it/s]"
     ]
    },
    {
     "name": "stdout",
     "output_type": "stream",
     "text": [
      "Energy: [4765.67310936 4765.67310936 4765.67310936 4765.67310936 4765.67310936\n",
      " 4765.67310936 4765.67310936 4765.67310936 4765.67310936 4765.67310936\n",
      " 4765.67310936]\n"
     ]
    },
    {
     "name": "stderr",
     "output_type": "stream",
     "text": [
      " 37%|██████████████▋                         | 808/2200 [00:18<00:31, 44.41it/s]"
     ]
    },
    {
     "name": "stdout",
     "output_type": "stream",
     "text": [
      "Energy: [4765.67310936 4765.67310936 4765.67310936 4765.67310936 4765.67310936\n",
      " 4765.67310936 4765.67310936 4765.67310936 4765.67310936 4765.67310936\n",
      " 4765.67310936]\n"
     ]
    },
    {
     "name": "stderr",
     "output_type": "stream",
     "text": [
      " 39%|███████████████▌                        | 856/2200 [00:19<00:33, 40.59it/s]"
     ]
    },
    {
     "name": "stdout",
     "output_type": "stream",
     "text": [
      "Energy: [4765.67310936 4765.67310936 4765.67310936 4765.67310936 4765.67310936\n",
      " 4765.67310936 4765.67310936 4765.67310936 4765.67310936 4765.67310936\n",
      " 4765.67310936]\n"
     ]
    },
    {
     "name": "stderr",
     "output_type": "stream",
     "text": [
      " 41%|████████████████▌                       | 911/2200 [00:21<00:29, 44.04it/s]"
     ]
    },
    {
     "name": "stdout",
     "output_type": "stream",
     "text": [
      "Energy: [4765.67310936 4765.67310936 4765.67310936 4765.67310936 4765.67310936\n",
      " 4765.67310936 4765.67310936 4765.67310936 4765.67310936 4765.67310936\n",
      " 4765.67310936]\n"
     ]
    },
    {
     "name": "stderr",
     "output_type": "stream",
     "text": [
      " 44%|█████████████████▍                      | 961/2200 [00:22<00:28, 43.26it/s]"
     ]
    },
    {
     "name": "stdout",
     "output_type": "stream",
     "text": [
      "Energy: [4765.67310936 4765.67310936 4765.67310936 4775.09060934 4765.67310936\n",
      " 4765.67310936 4765.67310936 4765.67310936 4765.67310936 4765.67310936\n",
      " 4765.67310936]\n"
     ]
    },
    {
     "name": "stderr",
     "output_type": "stream",
     "text": [
      " 46%|█████████████████▊                     | 1006/2200 [00:23<00:28, 42.49it/s]"
     ]
    },
    {
     "name": "stdout",
     "output_type": "stream",
     "text": [
      "Energy: [4765.67310936 4765.67310936 4765.67310936 4765.67310936 4765.67310936\n",
      " 4765.67310936 4765.67310936 4765.67310936 4765.67310936 4765.67310936\n",
      " 4765.67310936]\n"
     ]
    },
    {
     "name": "stderr",
     "output_type": "stream",
     "text": [
      " 48%|██████████████████▋                    | 1056/2200 [00:24<00:28, 39.82it/s]"
     ]
    },
    {
     "name": "stdout",
     "output_type": "stream",
     "text": [
      "Energy: [4765.67310936 4784.50335293 4765.67310936 4765.67310936 4765.67310936\n",
      " 4765.67310936 4765.67310936 4765.67310936 4765.67310936 4765.67310936\n",
      " 4765.67310936]\n"
     ]
    },
    {
     "name": "stderr",
     "output_type": "stream",
     "text": [
      " 50%|███████████████████▌                   | 1106/2200 [00:25<00:25, 43.52it/s]"
     ]
    },
    {
     "name": "stdout",
     "output_type": "stream",
     "text": [
      "Energy: [4765.67310936 4765.67310936 4765.67310936 4765.67310936 4765.67310936\n",
      " 4765.67310936 4765.67310936 4765.67310936 4765.67310936 4765.67310936\n",
      " 4765.67310936]\n"
     ]
    },
    {
     "name": "stderr",
     "output_type": "stream",
     "text": [
      " 53%|████████████████████▍                  | 1156/2200 [00:26<00:24, 43.32it/s]"
     ]
    },
    {
     "name": "stdout",
     "output_type": "stream",
     "text": [
      "Energy: [4765.67310936 4765.67310936 4765.67310936 4765.67310936 4765.67310936\n",
      " 4765.67310936 4765.67310936 4765.67310936 4765.67310936 4765.67310936\n",
      " 4765.67310936]\n"
     ]
    },
    {
     "name": "stderr",
     "output_type": "stream",
     "text": [
      " 55%|█████████████████████▍                 | 1206/2200 [00:28<00:23, 43.18it/s]"
     ]
    },
    {
     "name": "stdout",
     "output_type": "stream",
     "text": [
      "Energy: [4765.67310936 4765.67310936 4765.67310936 4765.67310936 4765.67310936\n",
      " 4765.67310936 4765.67310936 4765.67310936 4765.67310936 4765.67310936\n",
      " 4765.67310936]\n"
     ]
    },
    {
     "name": "stderr",
     "output_type": "stream",
     "text": [
      " 57%|██████████████████████▎                | 1256/2200 [00:29<00:21, 43.86it/s]"
     ]
    },
    {
     "name": "stdout",
     "output_type": "stream",
     "text": [
      "Energy: [4765.67310936 4765.67310936 4765.67310936 4765.67310936 4765.67310936\n",
      " 4765.67310936 4765.67310936 4765.67310936 4765.67310936 4765.67310936\n",
      " 4765.67310936]\n"
     ]
    },
    {
     "name": "stderr",
     "output_type": "stream",
     "text": [
      " 60%|███████████████████████▏               | 1311/2200 [00:30<00:19, 44.75it/s]"
     ]
    },
    {
     "name": "stdout",
     "output_type": "stream",
     "text": [
      "Energy: [4775.09060934 4765.67310936 4765.67310936 4765.67310936 4765.67310936\n",
      " 4765.67310936 4765.67310936 4765.67310936 4765.67310936 4765.67310936\n",
      " 4765.67310936]\n"
     ]
    },
    {
     "name": "stderr",
     "output_type": "stream",
     "text": [
      " 62%|████████████████████████               | 1356/2200 [00:31<00:19, 43.68it/s]"
     ]
    },
    {
     "name": "stdout",
     "output_type": "stream",
     "text": [
      "Energy: [4765.67310936 4765.67310936 4765.67310936 4765.67310936 4765.67310936\n",
      " 4765.67310936 4765.67310936 4765.67310936 4765.67310936 4765.67310936\n",
      " 4765.67310936]\n"
     ]
    },
    {
     "name": "stderr",
     "output_type": "stream",
     "text": [
      " 64%|████████████████████████▉              | 1406/2200 [00:32<00:19, 40.45it/s]"
     ]
    },
    {
     "name": "stdout",
     "output_type": "stream",
     "text": [
      "Energy: [4765.67310936 4765.67310936 4765.67310936 4765.67310936 4765.67310936\n",
      " 4765.67310936 4765.67310936 4765.67310936 4765.67310936 4765.67310936\n",
      " 4765.67310936]\n"
     ]
    },
    {
     "name": "stderr",
     "output_type": "stream",
     "text": [
      " 66%|█████████████████████████▉             | 1461/2200 [00:33<00:17, 43.09it/s]"
     ]
    },
    {
     "name": "stdout",
     "output_type": "stream",
     "text": [
      "Energy: [4765.67310936 4765.67310936 4765.67310936 4765.67310936 4765.67310936\n",
      " 4765.67310936 4765.67310936 4765.67310936 4765.67310936 4765.67310936\n",
      " 4765.67310936]\n"
     ]
    },
    {
     "name": "stderr",
     "output_type": "stream",
     "text": [
      " 69%|██████████████████████████▊            | 1510/2200 [00:35<00:16, 42.07it/s]"
     ]
    },
    {
     "name": "stdout",
     "output_type": "stream",
     "text": [
      "Energy: [4765.67310936 4765.67310936 4765.67310936 4765.67310936 4765.67310936\n",
      " 4765.67310936 4765.67310936 4765.67310936 4765.67310936 4765.67310936\n",
      " 4765.67310936]\n"
     ]
    },
    {
     "name": "stderr",
     "output_type": "stream",
     "text": [
      " 71%|███████████████████████████▋           | 1560/2200 [00:36<00:14, 43.28it/s]"
     ]
    },
    {
     "name": "stdout",
     "output_type": "stream",
     "text": [
      "Energy: [4765.67310936 4765.67310936 4765.67310936 4765.67310936 4765.67310936\n",
      " 4765.67310936 4765.67310936 4765.67310936 4765.67310936 4765.67310936\n",
      " 4765.67310936]\n"
     ]
    },
    {
     "name": "stderr",
     "output_type": "stream",
     "text": [
      " 73%|████████████████████████████▌          | 1610/2200 [00:37<00:13, 43.08it/s]"
     ]
    },
    {
     "name": "stdout",
     "output_type": "stream",
     "text": [
      "Energy: [4765.67310936 4765.67310936 4765.67310936 4765.67310936 4765.67310936\n",
      " 4765.67310936 4765.67310936 4765.67310936 4765.67310936 4765.67310936\n",
      " 4765.67310936]\n"
     ]
    },
    {
     "name": "stderr",
     "output_type": "stream",
     "text": [
      " 75%|█████████████████████████████▍         | 1660/2200 [00:38<00:12, 43.46it/s]"
     ]
    },
    {
     "name": "stdout",
     "output_type": "stream",
     "text": [
      "Energy: [4765.67310936 4765.67310936 4765.67310936 4765.67310936 4765.67310936\n",
      " 4765.67310936 4765.67310936 4765.67310936 4765.67310936 4765.67310936\n",
      " 4765.67310936]\n"
     ]
    },
    {
     "name": "stderr",
     "output_type": "stream",
     "text": [
      " 78%|██████████████████████████████▎        | 1710/2200 [00:39<00:11, 42.00it/s]"
     ]
    },
    {
     "name": "stdout",
     "output_type": "stream",
     "text": [
      "Energy: [4775.09060934 4784.50335293 4765.67310936 4765.67310936 4765.67310936\n",
      " 4765.67310936 4765.67310936 4765.67310936 4765.67310936 4765.67310936\n",
      " 4765.67310936]\n"
     ]
    },
    {
     "name": "stderr",
     "output_type": "stream",
     "text": [
      " 80%|███████████████████████████████▏       | 1760/2200 [00:40<00:10, 43.61it/s]"
     ]
    },
    {
     "name": "stdout",
     "output_type": "stream",
     "text": [
      "Energy: [4765.67310936 4775.09060934 4765.67310936 4765.67310936 4765.67310936\n",
      " 4765.67310936 4765.67310936 4765.67310936 4765.67310936 4765.67310936\n",
      " 4765.67310936]\n"
     ]
    },
    {
     "name": "stderr",
     "output_type": "stream",
     "text": [
      " 82%|████████████████████████████████       | 1810/2200 [00:42<00:09, 41.87it/s]"
     ]
    },
    {
     "name": "stdout",
     "output_type": "stream",
     "text": [
      "Energy: [4765.67310936 4784.50335293 4765.67310936 4765.67310936 4765.67310936\n",
      " 4765.67310936 4765.67310936 4765.67310936 4765.67310936 4765.67310936\n",
      " 4765.67310936]\n"
     ]
    },
    {
     "name": "stderr",
     "output_type": "stream",
     "text": [
      " 85%|████████████████████████████████▉      | 1860/2200 [00:43<00:07, 43.34it/s]"
     ]
    },
    {
     "name": "stdout",
     "output_type": "stream",
     "text": [
      "Energy: [4765.67310936 4765.67310936 4765.67310936 4765.67310936 4765.67310936\n",
      " 4765.67310936 4765.67310936 4765.67310936 4765.67310936 4765.67310936\n",
      " 4765.67310936]\n"
     ]
    },
    {
     "name": "stderr",
     "output_type": "stream",
     "text": [
      " 87%|█████████████████████████████████▊     | 1910/2200 [00:44<00:07, 40.35it/s]"
     ]
    },
    {
     "name": "stdout",
     "output_type": "stream",
     "text": [
      "Energy: [4765.67310936 4775.09060934 4765.67310936 4765.67310936 4765.67310936\n",
      " 4765.67310936 4765.67310936 4765.67310936 4765.67310936 4765.67310936\n",
      " 4765.67310936]\n"
     ]
    },
    {
     "name": "stderr",
     "output_type": "stream",
     "text": [
      " 89%|██████████████████████████████████▋    | 1960/2200 [00:45<00:05, 41.20it/s]"
     ]
    },
    {
     "name": "stdout",
     "output_type": "stream",
     "text": [
      "Energy: [4775.09060934 4765.67310936 4765.67310936 4775.09060934 4765.67310936\n",
      " 4765.67310936 4765.67310936 4765.67310936 4765.67310936 4765.67310936\n",
      " 4765.67310936]\n"
     ]
    },
    {
     "name": "stderr",
     "output_type": "stream",
     "text": [
      " 91%|███████████████████████████████████▋   | 2010/2200 [00:46<00:04, 42.74it/s]"
     ]
    },
    {
     "name": "stdout",
     "output_type": "stream",
     "text": [
      "Energy: [4775.09060934 4765.67310936 4765.67310936 4765.67310936 4765.67310936\n",
      " 4765.67310936 4765.67310936 4765.67310936 4765.67310936 4765.67310936\n",
      " 4765.67310936]\n"
     ]
    },
    {
     "name": "stderr",
     "output_type": "stream",
     "text": [
      " 94%|████████████████████████████████████▌  | 2060/2200 [00:48<00:03, 42.58it/s]"
     ]
    },
    {
     "name": "stdout",
     "output_type": "stream",
     "text": [
      "Energy: [4765.67310936 4765.67310936 4765.67310936 4765.67310936 4765.67310936\n",
      " 4765.67310936 4765.67310936 4765.67310936 4765.67310936 4765.67310936\n",
      " 4765.67310936]\n"
     ]
    },
    {
     "name": "stderr",
     "output_type": "stream",
     "text": [
      " 96%|█████████████████████████████████████▍ | 2110/2200 [00:49<00:02, 42.65it/s]"
     ]
    },
    {
     "name": "stdout",
     "output_type": "stream",
     "text": [
      "Energy: [4765.67310936 4765.67310936 4765.67310936 4765.67310936 4765.67310936\n",
      " 4765.67310936 4765.67310936 4765.67310936 4765.67310936 4765.67310936\n",
      " 4765.67310936]\n"
     ]
    },
    {
     "name": "stderr",
     "output_type": "stream",
     "text": [
      " 98%|██████████████████████████████████████▎| 2158/2200 [00:50<00:00, 43.79it/s]"
     ]
    },
    {
     "name": "stdout",
     "output_type": "stream",
     "text": [
      "Energy: [4765.67310936 4765.67310936 4765.67310936 4765.67310936 4765.67310936\n",
      " 4765.67310936 4765.67310936 4765.67310936 4765.67310936 4765.67310936\n",
      " 4765.67310936]\n"
     ]
    },
    {
     "name": "stderr",
     "output_type": "stream",
     "text": [
      "100%|███████████████████████████████████████| 2200/2200 [00:51<00:00, 42.87it/s]\n"
     ]
    },
    {
     "name": "stdout",
     "output_type": "stream",
     "text": [
      "Fin Energy_t 4765.673109361302 Energy_gs 4765.673109361302\n",
      "c_accep 0 c_rounds 0\n",
      "Elapsed (after compilation) = 51.31551218032837\n",
      "[[206 209 195 198 197 216 215 214 212 217 218 213]\n",
      " [206 209 195 198 205 216 215 214 212 217 218 213]]\n",
      "[[183 193 197 181 207 213 214 215 212 217 218 216]\n",
      " [183 193 197 181 207 213 214 215 212 217 218 216]]\n",
      "[[192 209 198 206 182 212 218 214 217 216 213 215]\n",
      " [192 209 198 206 182 212 218 214 217 216 213 215]]\n",
      "[[191 201 190 182 196 216 218 215 214 213 217 212]\n",
      " [191 201 190 182 196 216 218 215 214 213 217 212]]\n",
      "[[183 193 205 181 207 213 214 215 212 217 218 216]\n",
      " [183 193 197 181 207 213 214 215 212 217 218 216]]\n",
      "[[183 193 197 181 207 213 214 215 212 217 218 216]\n",
      " [183 193 197 181 207 213 214 215 212 217 218 216]]\n",
      "[[183 193 197 181 207 213 214 215 212 217 218 216]\n",
      " [183 193 197 181 207 213 214 215 212 217 218 216]]\n",
      "[[183 193 205 181 207 213 214 215 212 217 218 216]\n",
      " [183 193 197 181 207 213 214 215 212 217 218 216]]\n",
      "[[205 195 207 200 209 212 214 213 215 216 218 217]\n",
      " [197 195 207 200 209 212 214 213 215 216 218 217]]\n",
      "[[180 204 197 192 208 215 213 214 212 217 216 218]\n",
      " [180 204 205 192 208 215 213 214 212 217 216 218]]\n",
      "[[197 195 207 200 209 212 214 213 215 216 218 217]\n",
      " [205 195 207 200 209 212 214 213 215 216 218 217]]\n",
      "[[205 195 207 200 209 212 214 213 215 216 218 217]\n",
      " [205 195 207 200 209 212 214 213 215 216 218 217]]\n",
      "[[197 195 207 200 209 212 214 213 215 216 218 217]\n",
      " [197 195 207 200 209 212 214 213 215 216 218 217]]\n",
      "[[197 195 207 200 209 212 214 213 215 216 218 217]\n",
      " [205 195 207 200 209 212 214 213 215 216 218 217]]\n",
      "[[197 195 207 200 209 212 214 213 215 216 218 217]\n",
      " [205 195 207 200 209 212 214 213 215 216 218 217]]\n",
      "[[197 195 207 200 209 212 214 213 215 216 218 217]\n",
      " [197 195 207 200 209 212 214 213 215 216 218 217]]\n",
      "[[197 195 207 200 209 212 214 213 215 216 218 217]\n",
      " [197 195 207 200 209 212 214 213 215 216 218 217]]\n",
      "[[191 201 190 182 196 216 218 215 214 213 217 212]\n",
      " [191 201 190 182 196 216 218 215 214 213 217 212]]\n",
      "[[205 195 207 200 209 212 214 213 215 216 218 217]\n",
      " [205 195 207 200 209 212 214 213 215 216 218 217]]\n",
      "[[191 201 190 182 196 216 218 215 214 213 217 212]\n",
      " [191 201 190 182 196 216 218 215 214 213 217 212]]\n",
      "[[189 200 196 205 210 218 214 215 217 216 213 212]\n",
      " [189 200 196 197 210 218 214 215 217 216 213 212]]\n",
      "[[183 193 197 181 207 213 214 215 212 217 218 216]\n",
      " [183 193 197 181 207 213 214 215 212 217 218 216]]\n",
      "[[189 200 196 205 210 218 214 215 217 216 213 212]\n",
      " [189 200 196 205 210 218 214 215 217 216 213 212]]\n",
      "[[189 200 196 197 210 218 214 215 217 216 213 212]\n",
      " [189 200 196 197 210 218 214 215 217 216 213 212]]\n",
      "[[189 200 196 205 210 218 214 215 217 216 213 212]\n",
      " [189 200 196 197 210 218 214 215 217 216 213 212]]\n",
      "[[183 193 197 181 207 213 214 215 212 217 218 216]\n",
      " [183 193 205 181 207 213 214 215 212 217 218 216]]\n",
      "[[183 193 197 181 207 213 214 215 212 217 218 216]\n",
      " [183 193 205 181 207 213 214 215 212 217 218 216]]\n",
      "[[189 200 196 197 210 218 214 215 217 216 213 212]\n",
      " [189 200 196 197 210 218 214 215 217 216 213 212]]\n",
      "[[189 200 196 205 210 218 214 215 217 216 213 212]\n",
      " [189 200 196 205 210 218 214 215 217 216 213 212]]\n",
      "[[189 200 196 197 210 218 214 215 217 216 213 212]\n",
      " [189 200 196 197 210 218 214 215 217 216 213 212]]\n",
      "[[191 201 190 182 196 216 218 215 214 213 217 212]\n",
      " [191 201 190 182 196 216 218 215 214 213 217 212]]\n",
      "[[197 195 207 200 209 212 214 213 215 216 218 217]\n",
      " [197 195 207 200 209 212 214 213 215 216 218 217]]\n",
      "[[191 201 190 182 196 216 218 215 214 213 217 212]\n",
      " [191 201 190 182 196 216 218 215 214 213 217 212]]\n",
      "[[191 201 190 182 196 216 218 215 214 213 217 212]\n",
      " [191 201 190 182 196 216 218 215 214 213 217 212]]\n",
      "[[205 181 209 202 211 212 214 217 216 213 218 215]\n",
      " [197 181 209 202 211 212 214 217 216 213 218 215]]\n",
      "[[205 181 209 202 211 212 214 217 216 213 218 215]\n",
      " [197 181 209 202 211 212 214 217 216 213 218 215]]\n",
      "[[197 181 209 202 211 212 214 217 216 213 218 215]\n",
      " [197 181 209 202 211 212 214 217 216 213 218 215]]\n",
      "[[205 181 209 202 211 212 214 217 216 213 218 215]\n",
      " [205 181 209 202 211 212 214 217 216 213 218 215]]\n",
      "[[197 181 209 202 211 212 214 217 216 213 218 215]\n",
      " [197 181 209 202 211 212 214 217 216 213 218 215]]\n",
      "[[192 211 198 206 182 212 218 214 217 216 213 215]\n",
      " [192 211 198 206 182 212 218 214 217 216 213 215]]\n",
      "[0.99086758] [1.]\n",
      "i_reps 7\n",
      "Energía ini: 16254.576198236155 /gs: 4699.6164541778635\n"
     ]
    },
    {
     "name": "stderr",
     "output_type": "stream",
     "text": [
      " 10%|███▊                                    | 210/2200 [00:04<00:44, 45.21it/s]"
     ]
    },
    {
     "name": "stdout",
     "output_type": "stream",
     "text": [
      "Energy: [4699.61645418 4971.77668135 4699.61645418 4699.61645418 4699.61645418\n",
      " 4699.61645418 4699.61645418 4699.61645418 4906.44134108 4859.63543873\n",
      " 4699.61645418]\n"
     ]
    },
    {
     "name": "stderr",
     "output_type": "stream",
     "text": [
      " 12%|████▋                                   | 260/2200 [00:05<00:45, 42.67it/s]"
     ]
    },
    {
     "name": "stdout",
     "output_type": "stream",
     "text": [
      "Energy: [4699.61645418 4699.61645418 4709.06757516 4699.61645418 4699.61645418\n",
      " 4699.61645418 4699.61645418 4699.61645418 4699.61645418 4699.61645418\n",
      " 4699.61645418]\n"
     ]
    },
    {
     "name": "stderr",
     "output_type": "stream",
     "text": [
      " 14%|█████▌                                  | 305/2200 [00:06<00:42, 44.86it/s]"
     ]
    },
    {
     "name": "stdout",
     "output_type": "stream",
     "text": [
      "Energy: [4709.06757516 4699.61645418 4709.06757516 4699.61645418 4699.61645418\n",
      " 4699.61645418 4699.61645418 4699.61645418 4699.61645418 4699.61645418\n",
      " 4699.61645418]\n"
     ]
    },
    {
     "name": "stderr",
     "output_type": "stream",
     "text": [
      " 16%|██████▌                                 | 360/2200 [00:08<00:46, 39.29it/s]"
     ]
    },
    {
     "name": "stdout",
     "output_type": "stream",
     "text": [
      "Energy: [4699.61645418 4699.61645418 4699.61645418 4699.61645418 4699.61645418\n",
      " 4699.61645418 4699.61645418 4699.61645418 4699.61645418 4699.61645418\n",
      " 4699.61645418]\n"
     ]
    },
    {
     "name": "stderr",
     "output_type": "stream",
     "text": [
      " 19%|███████▍                                | 409/2200 [00:09<00:41, 43.15it/s]"
     ]
    },
    {
     "name": "stdout",
     "output_type": "stream",
     "text": [
      "Energy: [4699.61645418 4699.61645418 4699.61645418 4699.61645418 4699.61645418\n",
      " 4699.61645418 4699.61645418 4699.61645418 4699.61645418 4699.61645418\n",
      " 4699.61645418]\n"
     ]
    },
    {
     "name": "stderr",
     "output_type": "stream",
     "text": [
      " 21%|████████▎                               | 459/2200 [00:10<00:40, 43.48it/s]"
     ]
    },
    {
     "name": "stdout",
     "output_type": "stream",
     "text": [
      "Energy: [4699.61645418 4699.61645418 4699.61645418 4699.61645418 4699.61645418\n",
      " 4699.61645418 4699.61645418 4699.61645418 4699.61645418 4699.61645418\n",
      " 4699.61645418]\n"
     ]
    },
    {
     "name": "stderr",
     "output_type": "stream",
     "text": [
      " 23%|█████████▏                              | 504/2200 [00:11<00:38, 43.82it/s]"
     ]
    },
    {
     "name": "stdout",
     "output_type": "stream",
     "text": [
      "Energy: [4709.06757516 4709.06757516 4699.61645418 4699.61645418 4699.61645418\n",
      " 4699.61645418 4699.61645418 4699.61645418 4699.61645418 4699.61645418\n",
      " 4699.61645418]\n"
     ]
    },
    {
     "name": "stderr",
     "output_type": "stream",
     "text": [
      " 25%|██████████▏                             | 559/2200 [00:12<00:39, 41.93it/s]"
     ]
    },
    {
     "name": "stdout",
     "output_type": "stream",
     "text": [
      "Energy: [4699.61645418 4699.61645418 4709.06757516 4699.61645418 4699.61645418\n",
      " 4699.61645418 4699.61645418 4699.61645418 4699.61645418 4699.61645418\n",
      " 4699.61645418]\n"
     ]
    },
    {
     "name": "stderr",
     "output_type": "stream",
     "text": [
      " 28%|███████████                             | 607/2200 [00:14<00:36, 43.94it/s]"
     ]
    },
    {
     "name": "stdout",
     "output_type": "stream",
     "text": [
      "Energy: [4699.61645418 4699.61645418 4699.61645418 4709.06757516 4699.61645418\n",
      " 4699.61645418 4699.61645418 4699.61645418 4699.61645418 4699.61645418\n",
      " 4699.61645418]\n"
     ]
    },
    {
     "name": "stderr",
     "output_type": "stream",
     "text": [
      " 30%|███████████▉                            | 657/2200 [00:15<00:35, 43.95it/s]"
     ]
    },
    {
     "name": "stdout",
     "output_type": "stream",
     "text": [
      "Energy: [4699.61645418 4699.61645418 4699.61645418 4699.61645418 4709.06757516\n",
      " 4699.61645418 4699.61645418 4699.61645418 4699.61645418 4699.61645418\n",
      " 4699.61645418]\n"
     ]
    },
    {
     "name": "stderr",
     "output_type": "stream",
     "text": [
      " 32%|████████████▉                           | 712/2200 [00:16<00:34, 43.66it/s]"
     ]
    },
    {
     "name": "stdout",
     "output_type": "stream",
     "text": [
      "Energy: [4699.61645418 4699.61645418 4699.61645418 4699.61645418 4699.61645418\n",
      " 4699.61645418 4699.61645418 4699.61645418 4699.61645418 4699.61645418\n",
      " 4699.61645418]\n"
     ]
    },
    {
     "name": "stderr",
     "output_type": "stream",
     "text": [
      " 34%|█████████████▊                          | 757/2200 [00:17<00:32, 44.89it/s]"
     ]
    },
    {
     "name": "stdout",
     "output_type": "stream",
     "text": [
      "Energy: [4699.61645418 4699.61645418 4699.61645418 4699.61645418 4699.61645418\n",
      " 4699.61645418 4699.61645418 4699.61645418 4699.61645418 4699.61645418\n",
      " 4699.61645418]\n"
     ]
    },
    {
     "name": "stderr",
     "output_type": "stream",
     "text": [
      " 37%|██████████████▋                         | 807/2200 [00:18<00:32, 43.43it/s]"
     ]
    },
    {
     "name": "stdout",
     "output_type": "stream",
     "text": [
      "Energy: [4699.61645418 4699.61645418 4699.61645418 4699.61645418 4699.61645418\n",
      " 4699.61645418 4699.61645418 4699.61645418 4699.61645418 4699.61645418\n",
      " 4699.61645418]\n"
     ]
    },
    {
     "name": "stderr",
     "output_type": "stream",
     "text": [
      " 39%|███████████████▌                        | 857/2200 [00:19<00:30, 44.29it/s]"
     ]
    },
    {
     "name": "stdout",
     "output_type": "stream",
     "text": [
      "Energy: [4699.61645418 4699.61645418 4699.61645418 4699.61645418 4699.61645418\n",
      " 4699.61645418 4699.61645418 4699.61645418 4699.61645418 4699.61645418\n",
      " 4699.61645418]\n"
     ]
    },
    {
     "name": "stderr",
     "output_type": "stream",
     "text": [
      " 41%|████████████████▍                       | 907/2200 [00:20<00:29, 44.45it/s]"
     ]
    },
    {
     "name": "stdout",
     "output_type": "stream",
     "text": [
      "Energy: [4699.61645418 4709.06757516 4699.61645418 4699.61645418 4718.51385778\n",
      " 4699.61645418 4699.61645418 4699.61645418 4699.61645418 4699.61645418\n",
      " 4699.61645418]\n"
     ]
    },
    {
     "name": "stderr",
     "output_type": "stream",
     "text": [
      " 44%|█████████████████▍                      | 957/2200 [00:22<00:27, 45.83it/s]"
     ]
    },
    {
     "name": "stdout",
     "output_type": "stream",
     "text": [
      "Energy: [4699.61645418 4709.06757516 4699.61645418 4699.61645418 4699.61645418\n",
      " 4699.61645418 4699.61645418 4699.61645418 4699.61645418 4699.61645418\n",
      " 4699.61645418]\n"
     ]
    },
    {
     "name": "stderr",
     "output_type": "stream",
     "text": [
      " 46%|█████████████████▊                     | 1007/2200 [00:23<00:29, 40.33it/s]"
     ]
    },
    {
     "name": "stdout",
     "output_type": "stream",
     "text": [
      "Energy: [4699.61645418 4699.61645418 4699.61645418 4709.06757516 4699.61645418\n",
      " 4699.61645418 4699.61645418 4699.61645418 4699.61645418 4699.61645418\n",
      " 4699.61645418]\n"
     ]
    },
    {
     "name": "stderr",
     "output_type": "stream",
     "text": [
      " 48%|██████████████████▋                    | 1057/2200 [00:24<00:25, 45.13it/s]"
     ]
    },
    {
     "name": "stdout",
     "output_type": "stream",
     "text": [
      "Energy: [4709.06757516 4699.61645418 4709.06757516 4699.61645418 4699.61645418\n",
      " 4699.61645418 4699.61645418 4699.61645418 4699.61645418 4699.61645418\n",
      " 4699.61645418]\n"
     ]
    },
    {
     "name": "stderr",
     "output_type": "stream",
     "text": [
      " 50%|███████████████████▌                   | 1107/2200 [00:25<00:24, 44.38it/s]"
     ]
    },
    {
     "name": "stdout",
     "output_type": "stream",
     "text": [
      "Energy: [4699.61645418 4699.61645418 4699.61645418 4699.61645418 4699.61645418\n",
      " 4699.61645418 4699.61645418 4699.61645418 4699.61645418 4699.61645418\n",
      " 4699.61645418]\n"
     ]
    },
    {
     "name": "stderr",
     "output_type": "stream",
     "text": [
      " 53%|████████████████████▌                  | 1157/2200 [00:26<00:24, 42.33it/s]"
     ]
    },
    {
     "name": "stdout",
     "output_type": "stream",
     "text": [
      "Energy: [4699.61645418 4699.61645418 4699.61645418 4699.61645418 4699.61645418\n",
      " 4699.61645418 4699.61645418 4699.61645418 4699.61645418 4699.61645418\n",
      " 4699.61645418]\n"
     ]
    },
    {
     "name": "stderr",
     "output_type": "stream",
     "text": [
      " 55%|█████████████████████▍                 | 1207/2200 [00:27<00:24, 41.16it/s]"
     ]
    },
    {
     "name": "stdout",
     "output_type": "stream",
     "text": [
      "Energy: [4699.61645418 4699.61645418 4718.51385778 4709.06757516 4699.61645418\n",
      " 4699.61645418 4699.61645418 4699.61645418 4699.61645418 4699.61645418\n",
      " 4699.61645418]\n"
     ]
    },
    {
     "name": "stderr",
     "output_type": "stream",
     "text": [
      " 57%|██████████████████████▎                | 1257/2200 [00:29<00:21, 43.54it/s]"
     ]
    },
    {
     "name": "stdout",
     "output_type": "stream",
     "text": [
      "Energy: [4699.61645418 4699.61645418 4699.61645418 4699.61645418 4699.61645418\n",
      " 4699.61645418 4699.61645418 4699.61645418 4699.61645418 4699.61645418\n",
      " 4699.61645418]\n"
     ]
    },
    {
     "name": "stderr",
     "output_type": "stream",
     "text": [
      " 59%|███████████████████████▏               | 1307/2200 [00:30<00:20, 43.42it/s]"
     ]
    },
    {
     "name": "stdout",
     "output_type": "stream",
     "text": [
      "Energy: [4699.61645418 4699.61645418 4699.61645418 4699.61645418 4699.61645418\n",
      " 4699.61645418 4699.61645418 4699.61645418 4699.61645418 4699.61645418\n",
      " 4699.61645418]\n"
     ]
    },
    {
     "name": "stderr",
     "output_type": "stream",
     "text": [
      " 62%|████████████████████████               | 1357/2200 [00:31<00:18, 45.13it/s]"
     ]
    },
    {
     "name": "stdout",
     "output_type": "stream",
     "text": [
      "Energy: [4699.61645418 4699.61645418 4699.61645418 4699.61645418 4699.61645418\n",
      " 4699.61645418 4699.61645418 4699.61645418 4699.61645418 4699.61645418\n",
      " 4699.61645418]\n"
     ]
    },
    {
     "name": "stderr",
     "output_type": "stream",
     "text": [
      " 64%|████████████████████████▉              | 1407/2200 [00:32<00:18, 43.79it/s]"
     ]
    },
    {
     "name": "stdout",
     "output_type": "stream",
     "text": [
      "Energy: [4699.61645418 4699.61645418 4699.61645418 4699.61645418 4699.61645418\n",
      " 4699.61645418 4699.61645418 4699.61645418 4699.61645418 4699.61645418\n",
      " 4699.61645418]\n"
     ]
    },
    {
     "name": "stderr",
     "output_type": "stream",
     "text": [
      " 66%|█████████████████████████▊             | 1457/2200 [00:33<00:16, 44.45it/s]"
     ]
    },
    {
     "name": "stdout",
     "output_type": "stream",
     "text": [
      "Energy: [4699.61645418 4699.61645418 4699.61645418 4699.61645418 4699.61645418\n",
      " 4699.61645418 4699.61645418 4699.61645418 4699.61645418 4699.61645418\n",
      " 4699.61645418]\n"
     ]
    },
    {
     "name": "stderr",
     "output_type": "stream",
     "text": [
      " 68%|██████████████████████████▋            | 1507/2200 [00:34<00:15, 43.55it/s]"
     ]
    },
    {
     "name": "stdout",
     "output_type": "stream",
     "text": [
      "Energy: [4699.61645418 4699.61645418 4699.61645418 4699.61645418 4699.61645418\n",
      " 4699.61645418 4699.61645418 4699.61645418 4699.61645418 4699.61645418\n",
      " 4699.61645418]\n"
     ]
    },
    {
     "name": "stderr",
     "output_type": "stream",
     "text": [
      " 71%|███████████████████████████▋           | 1562/2200 [00:36<00:15, 42.31it/s]"
     ]
    },
    {
     "name": "stdout",
     "output_type": "stream",
     "text": [
      "Energy: [4699.61645418 4699.61645418 4699.61645418 4699.61645418 4699.61645418\n",
      " 4699.61645418 4699.61645418 4699.61645418 4699.61645418 4699.61645418\n",
      " 4699.61645418]\n"
     ]
    },
    {
     "name": "stderr",
     "output_type": "stream",
     "text": [
      " 73%|████████████████████████████▍          | 1607/2200 [00:37<00:13, 44.22it/s]"
     ]
    },
    {
     "name": "stdout",
     "output_type": "stream",
     "text": [
      "Energy: [4699.61645418 4699.61645418 4699.61645418 4699.61645418 4699.61645418\n",
      " 4699.61645418 4699.61645418 4699.61645418 4699.61645418 4699.61645418\n",
      " 4699.61645418]\n"
     ]
    },
    {
     "name": "stderr",
     "output_type": "stream",
     "text": [
      " 75%|█████████████████████████████▎         | 1657/2200 [00:38<00:14, 38.76it/s]"
     ]
    },
    {
     "name": "stdout",
     "output_type": "stream",
     "text": [
      "Energy: [4709.06757516 4699.61645418 4699.61645418 4699.61645418 4699.61645418\n",
      " 4699.61645418 4699.61645418 4699.61645418 4699.61645418 4699.61645418\n",
      " 4699.61645418]\n"
     ]
    },
    {
     "name": "stderr",
     "output_type": "stream",
     "text": [
      " 78%|██████████████████████████████▎        | 1707/2200 [00:39<00:11, 43.08it/s]"
     ]
    },
    {
     "name": "stdout",
     "output_type": "stream",
     "text": [
      "Energy: [4709.06757516 4709.06757516 4699.61645418 4699.61645418 4699.61645418\n",
      " 4699.61645418 4699.61645418 4699.61645418 4699.61645418 4699.61645418\n",
      " 4699.61645418]\n"
     ]
    },
    {
     "name": "stderr",
     "output_type": "stream",
     "text": [
      " 80%|███████████████████████████████▏       | 1757/2200 [00:40<00:10, 42.59it/s]"
     ]
    },
    {
     "name": "stdout",
     "output_type": "stream",
     "text": [
      "Energy: [4699.61645418 4699.61645418 4699.61645418 4699.61645418 4699.61645418\n",
      " 4699.61645418 4699.61645418 4699.61645418 4699.61645418 4699.61645418\n",
      " 4699.61645418]\n"
     ]
    },
    {
     "name": "stderr",
     "output_type": "stream",
     "text": [
      " 82%|████████████████████████████████       | 1812/2200 [00:41<00:08, 43.47it/s]"
     ]
    },
    {
     "name": "stdout",
     "output_type": "stream",
     "text": [
      "Energy: [4709.06757516 4699.61645418 4699.61645418 4699.61645418 4699.61645418\n",
      " 4709.06757516 4699.61645418 4699.61645418 4699.61645418 4699.61645418\n",
      " 4699.61645418]\n"
     ]
    },
    {
     "name": "stderr",
     "output_type": "stream",
     "text": [
      " 84%|████████████████████████████████▉      | 1857/2200 [00:42<00:08, 42.74it/s]"
     ]
    },
    {
     "name": "stdout",
     "output_type": "stream",
     "text": [
      "Energy: [4699.61645418 4699.61645418 4699.61645418 4699.61645418 4709.06757516\n",
      " 4699.61645418 4699.61645418 4699.61645418 4699.61645418 4699.61645418\n",
      " 4699.61645418]\n"
     ]
    },
    {
     "name": "stderr",
     "output_type": "stream",
     "text": [
      " 87%|█████████████████████████████████▊     | 1910/2200 [00:44<00:06, 44.79it/s]"
     ]
    },
    {
     "name": "stdout",
     "output_type": "stream",
     "text": [
      "Energy: [4699.61645418 4699.61645418 4699.61645418 4709.06757516 4699.61645418\n",
      " 4699.61645418 4699.61645418 4699.61645418 4699.61645418 4699.61645418\n",
      " 4699.61645418]\n"
     ]
    },
    {
     "name": "stderr",
     "output_type": "stream",
     "text": [
      " 89%|██████████████████████████████████▋    | 1960/2200 [00:45<00:05, 43.12it/s]"
     ]
    },
    {
     "name": "stdout",
     "output_type": "stream",
     "text": [
      "Energy: [4699.61645418 4709.06757516 4709.06757516 4699.61645418 4699.61645418\n",
      " 4699.61645418 4699.61645418 4699.61645418 4699.61645418 4699.61645418\n",
      " 4699.61645418]\n"
     ]
    },
    {
     "name": "stderr",
     "output_type": "stream",
     "text": [
      " 91%|███████████████████████████████████▋   | 2010/2200 [00:46<00:04, 44.09it/s]"
     ]
    },
    {
     "name": "stdout",
     "output_type": "stream",
     "text": [
      "Energy: [4699.61645418 4699.61645418 4718.51385778 4699.61645418 4699.61645418\n",
      " 4699.61645418 4699.61645418 4699.61645418 4699.61645418 4699.61645418\n",
      " 4699.61645418]\n"
     ]
    },
    {
     "name": "stderr",
     "output_type": "stream",
     "text": [
      " 94%|████████████████████████████████████▌  | 2060/2200 [00:47<00:03, 43.61it/s]"
     ]
    },
    {
     "name": "stdout",
     "output_type": "stream",
     "text": [
      "Energy: [4699.61645418 4699.61645418 4699.61645418 4699.61645418 4699.61645418\n",
      " 4699.61645418 4699.61645418 4699.61645418 4699.61645418 4699.61645418\n",
      " 4699.61645418]\n"
     ]
    },
    {
     "name": "stderr",
     "output_type": "stream",
     "text": [
      " 96%|█████████████████████████████████████▍ | 2113/2200 [00:48<00:02, 42.71it/s]"
     ]
    },
    {
     "name": "stdout",
     "output_type": "stream",
     "text": [
      "Energy: [4699.61645418 4699.61645418 4699.61645418 4699.61645418 4699.61645418\n",
      " 4699.61645418 4699.61645418 4699.61645418 4699.61645418 4699.61645418\n",
      " 4699.61645418]\n"
     ]
    },
    {
     "name": "stderr",
     "output_type": "stream",
     "text": [
      " 98%|██████████████████████████████████████▎| 2158/2200 [00:49<00:00, 44.27it/s]"
     ]
    },
    {
     "name": "stdout",
     "output_type": "stream",
     "text": [
      "Energy: [4699.61645418 4699.61645418 4699.61645418 4699.61645418 4699.61645418\n",
      " 4699.61645418 4699.61645418 4699.61645418 4699.61645418 4699.61645418\n",
      " 4699.61645418]\n"
     ]
    },
    {
     "name": "stderr",
     "output_type": "stream",
     "text": [
      "100%|███████████████████████████████████████| 2200/2200 [00:50<00:00, 43.24it/s]\n"
     ]
    },
    {
     "name": "stdout",
     "output_type": "stream",
     "text": [
      "Fin Energy_t 4699.6164541778635 Energy_gs 4699.6164541778635\n",
      "c_accep 0 c_rounds 0\n",
      "Elapsed (after compilation) = 50.88177275657654\n",
      "[[197 193 206 204 209 213 218 215 214 212 217 216]\n",
      " [197 193 206 204 209 213 218 215 214 212 217 216]]\n",
      "[[197 193 206 204 209 213 218 215 214 212 217 216]\n",
      " [197 193 206 204 209 213 218 215 214 212 217 216]]\n",
      "[[183 184 203 180 197 212 217 215 216 213 218 214]\n",
      " [183 184 203 180 197 212 217 215 216 213 218 214]]\n",
      "[[183 184 203 180 197 212 217 215 216 213 218 214]\n",
      " [183 184 203 180 197 212 217 215 216 213 218 214]]\n",
      "[[183 184 203 180 197 212 217 215 216 213 218 214]\n",
      " [183 184 203 180 197 212 217 215 216 213 218 214]]\n",
      "[[203 188 208 185 194 214 213 216 212 215 218 217]\n",
      " [203 188 208 185 194 214 213 216 212 215 218 217]]\n",
      "[[198 211 201 192 206 213 212 215 217 218 214 216]\n",
      " [198 211 201 192 206 213 212 215 217 218 214 216]]\n",
      "[[183 184 203 180 197 212 217 215 216 213 218 214]\n",
      " [183 184 203 180 197 212 217 215 216 213 218 214]]\n",
      "[[197 191 194 181 209 212 214 215 217 218 216 213]\n",
      " [197 191 194 181 209 212 214 215 217 218 216 213]]\n",
      "[[198 211 201 192 206 213 212 215 217 218 214 216]\n",
      " [198 211 201 192 206 213 212 215 217 218 214 216]]\n",
      "[[197 191 194 181 209 212 214 215 217 218 216 213]\n",
      " [197 191 194 181 209 212 214 215 217 218 216 213]]\n",
      "[[183 184 203 180 197 212 217 215 216 213 218 214]\n",
      " [183 184 203 180 197 212 217 215 216 213 218 214]]\n",
      "[[197 191 194 181 209 212 214 215 217 218 216 213]\n",
      " [197 191 194 181 209 212 214 215 217 218 216 213]]\n",
      "[[197 193 206 204 209 213 218 215 214 212 217 216]\n",
      " [197 193 206 204 209 213 218 215 214 212 217 216]]\n",
      "[[198 211 201 192 206 213 212 215 217 218 214 216]\n",
      " [198 211 201 192 206 213 212 215 217 218 214 216]]\n",
      "[[198 211 201 192 206 213 212 215 217 218 214 216]\n",
      " [198 211 201 192 206 213 212 215 217 218 214 216]]\n",
      "[[198 211 201 192 206 213 212 215 217 218 214 216]\n",
      " [198 211 201 192 206 213 212 215 217 218 214 216]]\n",
      "[[198 211 201 192 206 213 212 215 217 218 214 216]\n",
      " [198 211 201 192 206 213 212 215 217 218 214 216]]\n",
      "[[183 184 203 180 197 212 217 215 216 213 218 214]\n",
      " [183 184 203 180 197 212 217 215 216 213 218 214]]\n",
      "[[183 184 203 180 197 212 217 215 216 213 218 214]\n",
      " [183 184 203 180 197 212 217 215 216 213 218 214]]\n",
      "[[183 184 203 180 197 212 217 215 216 213 218 214]\n",
      " [183 184 203 180 197 212 217 215 216 213 218 214]]\n",
      "[[183 184 203 180 197 212 217 215 216 213 218 214]\n",
      " [183 184 203 180 197 212 217 215 216 213 218 214]]\n",
      "[[197 193 206 204 209 213 218 215 214 212 217 216]\n",
      " [197 193 206 204 209 213 218 215 214 212 217 216]]\n",
      "[[203 188 208 185 194 214 213 216 212 215 218 217]\n",
      " [203 188 208 185 194 214 213 216 212 215 218 217]]\n",
      "[[197 193 206 204 209 213 218 215 214 212 217 216]\n",
      " [197 193 206 204 209 213 218 215 214 212 217 216]]\n",
      "[[183 184 203 180 197 212 217 215 216 213 218 214]\n",
      " [183 184 203 180 197 212 217 215 216 213 218 214]]\n",
      "[[200 199 208 183 191 216 217 214 215 212 218 213]\n",
      " [200 199 208 183 191 216 217 214 215 212 218 213]]\n",
      "[[183 184 203 180 197 212 217 215 216 213 218 214]\n",
      " [183 184 203 180 197 212 217 215 216 213 218 214]]\n",
      "[[200 199 208 183 191 216 217 214 215 212 218 213]\n",
      " [200 199 208 183 191 216 217 214 215 212 218 213]]\n",
      "[[200 199 208 183 191 216 217 214 215 212 218 213]\n",
      " [200 199 208 183 191 216 217 214 215 212 218 213]]\n",
      "[[197 193 206 204 209 213 218 215 214 212 217 216]\n",
      " [197 193 206 204 209 213 218 215 214 212 217 216]]\n",
      "[[197 193 206 204 209 213 218 215 214 212 217 216]\n",
      " [197 193 206 204 209 213 218 215 214 212 217 216]]\n",
      "[[197 193 206 204 209 213 218 215 214 212 217 216]\n",
      " [197 193 206 204 209 213 218 215 214 212 217 216]]\n",
      "[[197 193 206 204 209 213 218 215 214 212 217 216]\n",
      " [197 193 206 204 209 213 218 215 214 212 217 216]]\n",
      "[[200 199 208 183 191 216 217 214 215 212 218 213]\n",
      " [200 199 208 183 191 216 217 214 215 212 218 213]]\n",
      "[[203 188 208 185 194 214 213 216 212 215 218 217]\n",
      " [203 188 208 185 194 214 213 216 212 215 218 217]]\n",
      "[[200 199 208 183 191 216 217 214 215 212 218 213]\n",
      " [200 199 208 183 191 216 217 214 215 212 218 213]]\n",
      "[[203 188 208 185 194 214 213 216 212 215 218 217]\n",
      " [203 188 208 185 194 214 213 216 212 215 218 217]]\n",
      "[[203 188 208 185 194 214 213 216 212 215 218 217]\n",
      " [203 188 208 185 194 214 213 216 212 215 218 217]]\n",
      "[[183 184 203 180 197 212 217 215 216 213 218 214]\n",
      " [183 184 203 180 197 212 217 215 216 213 218 214]]\n",
      "[1.] [1.]\n",
      "i_reps 8\n",
      "Energía ini: 16158.529947724299 /gs: 4775.090609339986\n"
     ]
    },
    {
     "name": "stderr",
     "output_type": "stream",
     "text": [
      " 10%|███▊                                    | 210/2200 [00:04<00:45, 43.38it/s]"
     ]
    },
    {
     "name": "stdout",
     "output_type": "stream",
     "text": [
      "Energy: [4784.50335293 4775.09060934 4775.09060934 4925.13142302 4775.09060934\n",
      " 4775.09060934 4775.09060934 4775.09060934 4775.09060934 4775.09060934\n",
      " 4775.09060934]\n"
     ]
    },
    {
     "name": "stderr",
     "output_type": "stream",
     "text": [
      " 12%|████▋                                   | 260/2200 [00:05<00:43, 44.62it/s]"
     ]
    },
    {
     "name": "stdout",
     "output_type": "stream",
     "text": [
      "Energy: [4775.09060934 4775.09060934 4784.50335293 4775.09060934 4775.09060934\n",
      " 4775.09060934 4775.09060934 4775.09060934 4775.09060934 4775.09060934\n",
      " 4775.09060934]\n"
     ]
    },
    {
     "name": "stderr",
     "output_type": "stream",
     "text": [
      " 14%|█████▋                                  | 310/2200 [00:07<00:46, 41.02it/s]"
     ]
    },
    {
     "name": "stdout",
     "output_type": "stream",
     "text": [
      "Energy: [4784.50335293 4775.09060934 4775.09060934 4775.09060934 4775.09060934\n",
      " 4775.09060934 4775.09060934 4775.09060934 4775.09060934 4775.09060934\n",
      " 4775.09060934]\n"
     ]
    },
    {
     "name": "stderr",
     "output_type": "stream",
     "text": [
      " 16%|██████▌                                 | 360/2200 [00:08<00:42, 43.34it/s]"
     ]
    },
    {
     "name": "stdout",
     "output_type": "stream",
     "text": [
      "Energy: [4775.09060934 4775.09060934 4793.91135163 4775.09060934 4775.09060934\n",
      " 4775.09060934 4775.09060934 4775.09060934 4775.09060934 4775.09060934\n",
      " 4775.09060934]\n"
     ]
    },
    {
     "name": "stderr",
     "output_type": "stream",
     "text": [
      " 19%|███████▍                                | 410/2200 [00:09<00:41, 43.33it/s]"
     ]
    },
    {
     "name": "stdout",
     "output_type": "stream",
     "text": [
      "Energy: [4775.09060934 4775.09060934 4775.09060934 4775.09060934 4775.09060934\n",
      " 4775.09060934 4775.09060934 4775.09060934 4775.09060934 4775.09060934\n",
      " 4775.09060934]\n"
     ]
    },
    {
     "name": "stderr",
     "output_type": "stream",
     "text": [
      " 21%|████████▎                               | 460/2200 [00:10<00:38, 45.62it/s]"
     ]
    },
    {
     "name": "stdout",
     "output_type": "stream",
     "text": [
      "Energy: [4775.09060934 4793.91135163 4775.09060934 4775.09060934 4775.09060934\n",
      " 4775.09060934 4775.09060934 4775.09060934 4775.09060934 4775.09060934\n",
      " 4775.09060934]\n"
     ]
    },
    {
     "name": "stderr",
     "output_type": "stream",
     "text": [
      " 23%|█████████▎                              | 510/2200 [00:11<00:38, 43.57it/s]"
     ]
    },
    {
     "name": "stdout",
     "output_type": "stream",
     "text": [
      "Energy: [4775.09060934 4775.09060934 4775.09060934 4775.09060934 4775.09060934\n",
      " 4775.09060934 4775.09060934 4775.09060934 4775.09060934 4775.09060934\n",
      " 4775.09060934]\n"
     ]
    },
    {
     "name": "stderr",
     "output_type": "stream",
     "text": [
      " 25%|██████████▏                             | 560/2200 [00:12<00:39, 42.02it/s]"
     ]
    },
    {
     "name": "stdout",
     "output_type": "stream",
     "text": [
      "Energy: [4775.09060934 4775.09060934 4775.09060934 4784.50335293 4775.09060934\n",
      " 4775.09060934 4775.09060934 4775.09060934 4775.09060934 4775.09060934\n",
      " 4775.09060934]\n"
     ]
    },
    {
     "name": "stderr",
     "output_type": "stream",
     "text": [
      " 28%|███████████                             | 610/2200 [00:14<00:36, 43.05it/s]"
     ]
    },
    {
     "name": "stdout",
     "output_type": "stream",
     "text": [
      "Energy: [4775.09060934 4784.50335293 4775.09060934 4775.09060934 4775.09060934\n",
      " 4775.09060934 4775.09060934 4775.09060934 4775.09060934 4775.09060934\n",
      " 4775.09060934]\n"
     ]
    },
    {
     "name": "stderr",
     "output_type": "stream",
     "text": [
      " 30%|████████████                            | 660/2200 [00:15<00:35, 42.96it/s]"
     ]
    },
    {
     "name": "stdout",
     "output_type": "stream",
     "text": [
      "Energy: [4793.91135163 4775.09060934 4775.09060934 4775.09060934 4775.09060934\n",
      " 4775.09060934 4775.09060934 4775.09060934 4775.09060934 4775.09060934\n",
      " 4775.09060934]\n"
     ]
    },
    {
     "name": "stderr",
     "output_type": "stream",
     "text": [
      " 32%|████████████▉                           | 710/2200 [00:16<00:34, 43.71it/s]"
     ]
    },
    {
     "name": "stdout",
     "output_type": "stream",
     "text": [
      "Energy: [4775.09060934 4775.09060934 4775.09060934 4775.09060934 4775.09060934\n",
      " 4775.09060934 4775.09060934 4775.09060934 4775.09060934 4775.09060934\n",
      " 4775.09060934]\n"
     ]
    },
    {
     "name": "stderr",
     "output_type": "stream",
     "text": [
      " 35%|█████████████▊                          | 760/2200 [00:17<00:33, 43.33it/s]"
     ]
    },
    {
     "name": "stdout",
     "output_type": "stream",
     "text": [
      "Energy: [4775.09060934 4775.09060934 4775.09060934 4775.09060934 4775.09060934\n",
      " 4775.09060934 4775.09060934 4775.09060934 4775.09060934 4775.09060934\n",
      " 4775.09060934]\n"
     ]
    },
    {
     "name": "stderr",
     "output_type": "stream",
     "text": [
      " 37%|██████████████▋                         | 810/2200 [00:18<00:33, 41.35it/s]"
     ]
    },
    {
     "name": "stdout",
     "output_type": "stream",
     "text": [
      "Energy: [4775.09060934 4775.09060934 4775.09060934 4775.09060934 4775.09060934\n",
      " 4775.09060934 4775.09060934 4775.09060934 4775.09060934 4775.09060934\n",
      " 4775.09060934]\n"
     ]
    },
    {
     "name": "stderr",
     "output_type": "stream",
     "text": [
      " 39%|███████████████▋                        | 860/2200 [00:19<00:29, 44.93it/s]"
     ]
    },
    {
     "name": "stdout",
     "output_type": "stream",
     "text": [
      "Energy: [4775.09060934 4775.09060934 4775.09060934 4775.09060934 4775.09060934\n",
      " 4775.09060934 4775.09060934 4775.09060934 4775.09060934 4775.09060934\n",
      " 4775.09060934]\n"
     ]
    },
    {
     "name": "stderr",
     "output_type": "stream",
     "text": [
      " 41%|████████████████▌                       | 910/2200 [00:21<00:29, 43.49it/s]"
     ]
    },
    {
     "name": "stdout",
     "output_type": "stream",
     "text": [
      "Energy: [4775.09060934 4775.09060934 4775.09060934 4775.09060934 4775.09060934\n",
      " 4775.09060934 4775.09060934 4775.09060934 4775.09060934 4775.09060934\n",
      " 4775.09060934]\n"
     ]
    },
    {
     "name": "stderr",
     "output_type": "stream",
     "text": [
      " 44%|█████████████████▍                      | 959/2200 [00:22<00:31, 39.04it/s]"
     ]
    },
    {
     "name": "stdout",
     "output_type": "stream",
     "text": [
      "Energy: [4784.50335293 4775.09060934 4775.09060934 4775.09060934 4775.09060934\n",
      " 4775.09060934 4775.09060934 4775.09060934 4775.09060934 4775.09060934\n",
      " 4775.09060934]\n"
     ]
    },
    {
     "name": "stderr",
     "output_type": "stream",
     "text": [
      " 46%|█████████████████▉                     | 1009/2200 [00:23<00:26, 44.75it/s]"
     ]
    },
    {
     "name": "stdout",
     "output_type": "stream",
     "text": [
      "Energy: [4775.09060934 4775.09060934 4775.09060934 4775.09060934 4775.09060934\n",
      " 4775.09060934 4775.09060934 4775.09060934 4775.09060934 4775.09060934\n",
      " 4775.09060934]\n"
     ]
    },
    {
     "name": "stderr",
     "output_type": "stream",
     "text": [
      " 48%|██████████████████▊                    | 1059/2200 [00:24<00:25, 44.51it/s]"
     ]
    },
    {
     "name": "stdout",
     "output_type": "stream",
     "text": [
      "Energy: [4775.09060934 4775.09060934 4775.09060934 4775.09060934 4775.09060934\n",
      " 4775.09060934 4775.09060934 4775.09060934 4775.09060934 4775.09060934\n",
      " 4775.09060934]\n"
     ]
    },
    {
     "name": "stderr",
     "output_type": "stream",
     "text": [
      " 50%|███████████████████▋                   | 1109/2200 [00:25<00:25, 42.49it/s]"
     ]
    },
    {
     "name": "stdout",
     "output_type": "stream",
     "text": [
      "Energy: [4775.09060934 4775.09060934 4775.09060934 4775.09060934 4775.09060934\n",
      " 4775.09060934 4775.09060934 4775.09060934 4775.09060934 4775.09060934\n",
      " 4775.09060934]\n"
     ]
    },
    {
     "name": "stderr",
     "output_type": "stream",
     "text": [
      " 53%|████████████████████▌                  | 1159/2200 [00:26<00:24, 42.20it/s]"
     ]
    },
    {
     "name": "stdout",
     "output_type": "stream",
     "text": [
      "Energy: [4775.09060934 4775.09060934 4784.50335293 4775.09060934 4775.09060934\n",
      " 4775.09060934 4775.09060934 4775.09060934 4775.09060934 4775.09060934\n",
      " 4775.09060934]\n"
     ]
    },
    {
     "name": "stderr",
     "output_type": "stream",
     "text": [
      " 55%|█████████████████████▍                 | 1209/2200 [00:28<00:22, 44.17it/s]"
     ]
    },
    {
     "name": "stdout",
     "output_type": "stream",
     "text": [
      "Energy: [4775.09060934 4775.09060934 4775.09060934 4775.09060934 4775.09060934\n",
      " 4775.09060934 4775.09060934 4775.09060934 4775.09060934 4775.09060934\n",
      " 4775.09060934]\n"
     ]
    },
    {
     "name": "stderr",
     "output_type": "stream",
     "text": [
      " 57%|██████████████████████▎                | 1259/2200 [00:29<00:20, 45.21it/s]"
     ]
    },
    {
     "name": "stdout",
     "output_type": "stream",
     "text": [
      "Energy: [4775.09060934 4775.09060934 4775.09060934 4775.09060934 4775.09060934\n",
      " 4775.09060934 4775.09060934 4775.09060934 4775.09060934 4775.09060934\n",
      " 4775.09060934]\n"
     ]
    },
    {
     "name": "stderr",
     "output_type": "stream",
     "text": [
      " 59%|███████████████████████                | 1304/2200 [00:30<00:20, 43.61it/s]"
     ]
    },
    {
     "name": "stdout",
     "output_type": "stream",
     "text": [
      "Energy: [4775.09060934 4775.09060934 4775.09060934 4775.09060934 4775.09060934\n",
      " 4775.09060934 4775.09060934 4775.09060934 4775.09060934 4775.09060934\n",
      " 4775.09060934]\n"
     ]
    },
    {
     "name": "stderr",
     "output_type": "stream",
     "text": [
      " 62%|████████████████████████               | 1354/2200 [00:31<00:24, 33.96it/s]"
     ]
    },
    {
     "name": "stdout",
     "output_type": "stream",
     "text": [
      "Energy: [4775.09060934 4775.09060934 4775.09060934 4775.09060934 4775.09060934\n",
      " 4775.09060934 4775.09060934 4775.09060934 4775.09060934 4775.09060934\n",
      " 4775.09060934]\n"
     ]
    },
    {
     "name": "stderr",
     "output_type": "stream",
     "text": [
      " 64%|████████████████████████▉              | 1409/2200 [00:32<00:18, 43.86it/s]"
     ]
    },
    {
     "name": "stdout",
     "output_type": "stream",
     "text": [
      "Energy: [4775.09060934 4775.09060934 4775.09060934 4775.09060934 4775.09060934\n",
      " 4775.09060934 4775.09060934 4775.09060934 4775.09060934 4775.09060934\n",
      " 4775.09060934]\n"
     ]
    },
    {
     "name": "stderr",
     "output_type": "stream",
     "text": [
      " 66%|█████████████████████████▊             | 1459/2200 [00:33<00:17, 43.53it/s]"
     ]
    },
    {
     "name": "stdout",
     "output_type": "stream",
     "text": [
      "Energy: [4775.09060934 4775.09060934 4775.09060934 4775.09060934 4775.09060934\n",
      " 4775.09060934 4775.09060934 4775.09060934 4775.09060934 4784.50335293\n",
      " 4775.09060934]\n"
     ]
    },
    {
     "name": "stderr",
     "output_type": "stream",
     "text": [
      " 69%|██████████████████████████▊            | 1509/2200 [00:35<00:15, 44.24it/s]"
     ]
    },
    {
     "name": "stdout",
     "output_type": "stream",
     "text": [
      "Energy: [4775.09060934 4775.09060934 4775.09060934 4775.09060934 4775.09060934\n",
      " 4775.09060934 4775.09060934 4775.09060934 4775.09060934 4775.09060934\n",
      " 4775.09060934]\n"
     ]
    },
    {
     "name": "stderr",
     "output_type": "stream",
     "text": [
      " 71%|███████████████████████████▋           | 1559/2200 [00:36<00:15, 42.45it/s]"
     ]
    },
    {
     "name": "stdout",
     "output_type": "stream",
     "text": [
      "Energy: [4775.09060934 4775.09060934 4775.09060934 4775.09060934 4775.09060934\n",
      " 4775.09060934 4775.09060934 4775.09060934 4775.09060934 4775.09060934\n",
      " 4775.09060934]\n"
     ]
    },
    {
     "name": "stderr",
     "output_type": "stream",
     "text": [
      " 73%|████████████████████████████▍          | 1604/2200 [00:37<00:14, 39.94it/s]"
     ]
    },
    {
     "name": "stdout",
     "output_type": "stream",
     "text": [
      "Energy: [4775.09060934 4775.09060934 4775.09060934 4775.09060934 4775.09060934\n",
      " 4775.09060934 4775.09060934 4775.09060934 4775.09060934 4775.09060934\n",
      " 4775.09060934]\n"
     ]
    },
    {
     "name": "stderr",
     "output_type": "stream",
     "text": [
      " 75%|█████████████████████████████▍         | 1658/2200 [00:38<00:12, 43.40it/s]"
     ]
    },
    {
     "name": "stdout",
     "output_type": "stream",
     "text": [
      "Energy: [4793.91135163 4775.09060934 4775.09060934 4775.09060934 4775.09060934\n",
      " 4775.09060934 4775.09060934 4775.09060934 4775.09060934 4775.09060934\n",
      " 4775.09060934]\n"
     ]
    },
    {
     "name": "stderr",
     "output_type": "stream",
     "text": [
      " 78%|██████████████████████████████▎        | 1708/2200 [00:39<00:11, 44.43it/s]"
     ]
    },
    {
     "name": "stdout",
     "output_type": "stream",
     "text": [
      "Energy: [4775.09060934 4775.09060934 4775.09060934 4775.09060934 4775.09060934\n",
      " 4775.09060934 4775.09060934 4775.09060934 4775.09060934 4775.09060934\n",
      " 4775.09060934]\n"
     ]
    },
    {
     "name": "stderr",
     "output_type": "stream",
     "text": [
      " 80%|███████████████████████████████▏       | 1758/2200 [00:40<00:10, 43.37it/s]"
     ]
    },
    {
     "name": "stdout",
     "output_type": "stream",
     "text": [
      "Energy: [4775.09060934 4775.09060934 4775.09060934 4775.09060934 4775.09060934\n",
      " 4775.09060934 4775.09060934 4775.09060934 4775.09060934 4775.09060934\n",
      " 4775.09060934]\n"
     ]
    },
    {
     "name": "stderr",
     "output_type": "stream",
     "text": [
      " 82%|████████████████████████████████       | 1808/2200 [00:42<00:09, 40.17it/s]"
     ]
    },
    {
     "name": "stdout",
     "output_type": "stream",
     "text": [
      "Energy: [4775.09060934 4775.09060934 4775.09060934 4775.09060934 4775.09060934\n",
      " 4775.09060934 4775.09060934 4775.09060934 4775.09060934 4775.09060934\n",
      " 4775.09060934]\n"
     ]
    },
    {
     "name": "stderr",
     "output_type": "stream",
     "text": [
      " 84%|████████████████████████████████▊      | 1853/2200 [00:43<00:07, 44.91it/s]"
     ]
    },
    {
     "name": "stdout",
     "output_type": "stream",
     "text": [
      "Energy: [4775.09060934 4775.09060934 4775.09060934 4775.09060934 4775.09060934\n",
      " 4775.09060934 4775.09060934 4775.09060934 4775.09060934 4775.09060934\n",
      " 4775.09060934]\n"
     ]
    },
    {
     "name": "stderr",
     "output_type": "stream",
     "text": [
      " 87%|█████████████████████████████████▊     | 1908/2200 [00:44<00:06, 43.44it/s]"
     ]
    },
    {
     "name": "stdout",
     "output_type": "stream",
     "text": [
      "Energy: [4775.09060934 4775.09060934 4775.09060934 4775.09060934 4775.09060934\n",
      " 4775.09060934 4775.09060934 4775.09060934 4775.09060934 4775.09060934\n",
      " 4775.09060934]\n"
     ]
    },
    {
     "name": "stderr",
     "output_type": "stream",
     "text": [
      " 89%|██████████████████████████████████▌    | 1953/2200 [00:45<00:07, 35.27it/s]"
     ]
    },
    {
     "name": "stdout",
     "output_type": "stream",
     "text": [
      "Energy: [4775.09060934 4775.09060934 4775.09060934 4775.09060934 4775.09060934\n",
      " 4775.09060934 4775.09060934 4775.09060934 4775.09060934 4775.09060934\n",
      " 4775.09060934]\n"
     ]
    },
    {
     "name": "stderr",
     "output_type": "stream",
     "text": [
      " 91%|███████████████████████████████████▋   | 2011/2200 [00:46<00:04, 39.56it/s]"
     ]
    },
    {
     "name": "stdout",
     "output_type": "stream",
     "text": [
      "Energy: [4775.09060934 4775.09060934 4775.09060934 4775.09060934 4775.09060934\n",
      " 4775.09060934 4775.09060934 4775.09060934 4775.09060934 4775.09060934\n",
      " 4775.09060934]\n"
     ]
    },
    {
     "name": "stderr",
     "output_type": "stream",
     "text": [
      " 93%|████████████████████████████████████▍  | 2054/2200 [00:48<00:03, 39.95it/s]"
     ]
    },
    {
     "name": "stdout",
     "output_type": "stream",
     "text": [
      "Energy: [4775.09060934 4775.09060934 4775.09060934 4775.09060934 4775.09060934\n",
      " 4775.09060934 4775.09060934 4775.09060934 4775.09060934 4775.09060934\n",
      " 4775.09060934]\n"
     ]
    },
    {
     "name": "stderr",
     "output_type": "stream",
     "text": [
      " 96%|█████████████████████████████████████▎ | 2108/2200 [00:49<00:02, 42.41it/s]"
     ]
    },
    {
     "name": "stdout",
     "output_type": "stream",
     "text": [
      "Energy: [4775.09060934 4775.09060934 4775.09060934 4784.50335293 4775.09060934\n",
      " 4775.09060934 4775.09060934 4775.09060934 4775.09060934 4775.09060934\n",
      " 4775.09060934]\n"
     ]
    },
    {
     "name": "stderr",
     "output_type": "stream",
     "text": [
      " 98%|██████████████████████████████████████▎| 2158/2200 [00:50<00:00, 44.14it/s]"
     ]
    },
    {
     "name": "stdout",
     "output_type": "stream",
     "text": [
      "Energy: [4775.09060934 4775.09060934 4784.50335293 4775.09060934 4775.09060934\n",
      " 4775.09060934 4775.09060934 4775.09060934 4775.09060934 4775.09060934\n",
      " 4775.09060934]\n"
     ]
    },
    {
     "name": "stderr",
     "output_type": "stream",
     "text": [
      "100%|███████████████████████████████████████| 2200/2200 [00:51<00:00, 42.79it/s]\n"
     ]
    },
    {
     "name": "stdout",
     "output_type": "stream",
     "text": [
      "Fin Energy_t 4775.090609339986 Energy_gs 4775.090609339986\n",
      "c_accep 0 c_rounds 0\n",
      "Elapsed (after compilation) = 51.410473346710205\n",
      "[[184 206 192 210 194 217 212 214 215 216 213 218]\n",
      " [184 206 192 210 194 217 212 214 215 216 213 218]]\n",
      "[[203 185 184 197 192 212 213 214 215 216 217 218]\n",
      " [203 185 184 197 192 212 213 214 215 216 217 218]]\n",
      "[[203 185 184 197 192 212 213 214 215 216 217 218]\n",
      " [203 185 184 197 192 212 213 214 215 216 217 218]]\n",
      "[[203 185 184 197 192 212 213 214 215 216 217 218]\n",
      " [203 185 184 197 192 212 213 214 215 216 217 218]]\n",
      "[[190 207 203 193 209 213 212 214 215 216 217 218]\n",
      " [190 207 203 193 209 213 212 214 215 216 217 218]]\n",
      "[[190 207 203 193 209 213 212 214 215 216 217 218]\n",
      " [190 207 203 193 209 213 212 214 215 216 217 218]]\n",
      "[[190 207 203 193 209 213 212 214 215 216 217 218]\n",
      " [190 207 203 193 209 213 212 214 215 216 217 218]]\n",
      "[[190 207 203 193 209 213 212 214 215 216 217 218]\n",
      " [190 207 203 193 209 213 212 214 215 216 217 218]]\n",
      "[[203 185 184 197 192 212 213 214 215 216 217 218]\n",
      " [203 185 184 197 192 212 213 214 215 216 217 218]]\n",
      "[[200 188 202 201 181 214 216 212 215 213 217 218]\n",
      " [200 188 202 201 181 214 216 212 215 213 217 218]]\n",
      "[[184 206 192 210 194 217 212 214 215 216 213 218]\n",
      " [184 206 192 210 194 217 212 214 215 216 213 218]]\n",
      "[[184 206 192 210 194 217 212 214 215 216 213 218]\n",
      " [184 206 192 210 194 217 212 214 215 216 213 218]]\n",
      "[[184 206 192 210 194 217 212 214 215 216 213 218]\n",
      " [184 206 192 210 194 217 212 214 215 216 213 218]]\n",
      "[[184 206 192 210 194 217 212 214 215 216 213 218]\n",
      " [184 206 192 210 194 217 212 214 215 216 213 218]]\n",
      "[[184 206 192 210 194 217 212 214 215 216 213 218]\n",
      " [184 206 192 210 194 217 212 214 215 216 213 218]]\n",
      "[[190 207 203 193 209 213 212 214 215 216 217 218]\n",
      " [190 207 203 193 209 213 212 214 215 216 217 218]]\n",
      "[[200 188 202 201 181 214 216 212 215 213 217 218]\n",
      " [200 180 202 201 181 214 216 212 215 213 217 218]]\n",
      "[[190 207 203 193 209 213 212 214 215 216 217 218]\n",
      " [190 207 203 193 209 213 212 214 215 216 217 218]]\n",
      "[[200 180 202 201 181 214 216 212 215 213 217 218]\n",
      " [200 180 202 201 181 214 216 212 215 213 217 218]]\n",
      "[[208 198 190 183 187 213 218 217 215 214 212 216]\n",
      " [208 198 190 183 187 213 218 217 215 214 212 216]]\n",
      "[[208 198 190 183 187 213 218 217 215 214 212 216]\n",
      " [208 198 190 183 187 213 218 217 215 214 212 216]]\n",
      "[[190 207 203 193 209 213 212 214 215 216 217 218]\n",
      " [190 207 203 193 209 213 212 214 215 216 217 218]]\n",
      "[[208 198 190 183 187 213 218 217 215 214 212 216]\n",
      " [208 198 190 183 187 213 218 217 215 214 212 216]]\n",
      "[[184 206 192 210 194 217 212 214 215 216 213 218]\n",
      " [184 206 192 210 194 217 212 214 215 216 213 218]]\n",
      "[[200 180 202 201 181 214 216 212 215 213 217 218]\n",
      " [200 180 202 201 181 214 216 212 215 213 217 218]]\n",
      "[[200 180 202 201 181 214 216 212 215 213 217 218]\n",
      " [200 180 202 201 181 214 216 212 215 213 217 218]]\n",
      "[[200 180 202 201 181 214 216 212 215 213 217 218]\n",
      " [200 180 202 201 181 214 216 212 215 213 217 218]]\n",
      "[[200 188 202 201 181 214 216 212 215 213 217 218]\n",
      " [200 188 202 201 181 214 216 212 215 213 217 218]]\n",
      "[[200 188 202 201 181 214 216 212 215 213 217 218]\n",
      " [200 188 202 201 181 214 216 212 215 213 217 218]]\n",
      "[[200 180 202 201 181 214 216 212 215 213 217 218]\n",
      " [200 188 202 201 181 214 216 212 215 213 217 218]]\n",
      "[[200 180 202 201 181 214 216 212 215 213 217 218]\n",
      " [200 188 202 201 181 214 216 212 215 213 217 218]]\n",
      "[[200 188 202 201 181 214 216 212 215 213 217 218]\n",
      " [200 180 202 201 181 214 216 212 215 213 217 218]]\n",
      "[[210 197 203 208 198 215 218 214 213 216 217 212]\n",
      " [210 197 203 208 198 215 218 214 213 216 217 212]]\n",
      "[[190 207 203 193 209 213 212 214 215 216 217 218]\n",
      " [190 207 203 193 209 213 212 214 215 216 217 218]]\n",
      "[[200 188 202 201 181 214 216 212 215 213 217 218]\n",
      " [200 188 202 201 181 214 216 212 215 213 217 218]]\n",
      "[[184 206 192 210 194 217 212 214 215 216 213 218]\n",
      " [184 206 192 210 194 217 212 214 215 216 213 218]]\n",
      "[[200 188 202 201 181 214 216 212 215 213 217 218]\n",
      " [200 188 202 201 181 214 216 212 215 213 217 218]]\n",
      "[[210 197 203 208 198 215 218 214 213 216 217 212]\n",
      " [210 197 203 208 198 215 218 214 213 216 217 212]]\n",
      "[[200 188 202 201 181 214 216 212 215 213 217 218]\n",
      " [200 180 202 201 181 214 216 212 215 213 217 218]]\n",
      "[[211 188 206 205 201 218 213 216 215 212 214 217]\n",
      " [211 188 206 205 201 218 213 216 215 212 214 217]]\n",
      "[1.] [1.]\n",
      "i_reps 9\n",
      "Energía ini: 16375.905189349756 /gs: 4775.090609339986\n"
     ]
    },
    {
     "name": "stderr",
     "output_type": "stream",
     "text": [
      " 10%|███▊                                    | 210/2200 [00:04<00:44, 44.28it/s]"
     ]
    },
    {
     "name": "stdout",
     "output_type": "stream",
     "text": [
      "Energy: [4784.50335293 4775.09060934 4775.09060934 4775.09060934 4775.09060934\n",
      " 4775.09060934 4775.09060934 4775.09060934 4775.09060934 4775.09060934\n",
      " 4775.09060934]\n"
     ]
    },
    {
     "name": "stderr",
     "output_type": "stream",
     "text": [
      " 12%|████▋                                   | 260/2200 [00:05<00:44, 43.51it/s]"
     ]
    },
    {
     "name": "stdout",
     "output_type": "stream",
     "text": [
      "Energy: [4784.50335293 4793.91135163 4775.09060934 4775.09060934 4775.09060934\n",
      " 4775.09060934 4775.09060934 4775.09060934 4775.09060934 4775.09060934\n",
      " 4775.09060934]\n"
     ]
    },
    {
     "name": "stderr",
     "output_type": "stream",
     "text": [
      " 14%|█████▋                                  | 310/2200 [00:07<00:43, 43.47it/s]"
     ]
    },
    {
     "name": "stdout",
     "output_type": "stream",
     "text": [
      "Energy: [4803.31461685 4775.09060934 4775.09060934 4775.09060934 4775.09060934\n",
      " 4775.09060934 4775.09060934 4775.09060934 4775.09060934 4775.09060934\n",
      " 4775.09060934]\n"
     ]
    },
    {
     "name": "stderr",
     "output_type": "stream",
     "text": [
      " 16%|██████▌                                 | 360/2200 [00:08<00:45, 40.71it/s]"
     ]
    },
    {
     "name": "stdout",
     "output_type": "stream",
     "text": [
      "Energy: [4793.91135163 4775.09060934 4775.09060934 4775.09060934 4775.09060934\n",
      " 4775.09060934 4775.09060934 4775.09060934 4775.09060934 4775.09060934\n",
      " 4775.09060934]\n"
     ]
    },
    {
     "name": "stderr",
     "output_type": "stream",
     "text": [
      " 18%|███████▎                                | 405/2200 [00:09<00:42, 42.08it/s]"
     ]
    },
    {
     "name": "stdout",
     "output_type": "stream",
     "text": [
      "Energy: [4775.09060934 4775.09060934 4775.09060934 4775.09060934 4775.09060934\n",
      " 4775.09060934 4775.09060934 4775.09060934 4775.09060934 4775.09060934\n",
      " 4775.09060934]\n"
     ]
    },
    {
     "name": "stderr",
     "output_type": "stream",
     "text": [
      " 21%|████████▎                               | 460/2200 [00:10<00:41, 42.06it/s]"
     ]
    },
    {
     "name": "stdout",
     "output_type": "stream",
     "text": [
      "Energy: [4775.09060934 4775.09060934 4775.09060934 4775.09060934 4775.09060934\n",
      " 4775.09060934 4775.09060934 4775.09060934 4775.09060934 4775.09060934\n",
      " 4775.09060934]\n"
     ]
    },
    {
     "name": "stderr",
     "output_type": "stream",
     "text": [
      " 23%|█████████▏                              | 507/2200 [00:11<00:42, 39.96it/s]"
     ]
    },
    {
     "name": "stdout",
     "output_type": "stream",
     "text": [
      "Energy: [4775.09060934 4775.09060934 4775.09060934 4775.09060934 4775.09060934\n",
      " 4775.09060934 4775.09060934 4775.09060934 4775.09060934 4775.09060934\n",
      " 4775.09060934]\n"
     ]
    },
    {
     "name": "stderr",
     "output_type": "stream",
     "text": [
      " 26%|██████████▏                             | 561/2200 [00:13<00:37, 43.75it/s]"
     ]
    },
    {
     "name": "stdout",
     "output_type": "stream",
     "text": [
      "Energy: [4784.50335293 4775.09060934 4775.09060934 4775.09060934 4775.09060934\n",
      " 4775.09060934 4775.09060934 4775.09060934 4775.09060934 4775.09060934\n",
      " 4775.09060934]\n"
     ]
    },
    {
     "name": "stderr",
     "output_type": "stream",
     "text": [
      " 28%|███████████                             | 606/2200 [00:14<00:37, 42.47it/s]"
     ]
    },
    {
     "name": "stdout",
     "output_type": "stream",
     "text": [
      "Energy: [4775.09060934 4775.09060934 4775.09060934 4775.09060934 4775.09060934\n",
      " 4775.09060934 4775.09060934 4775.09060934 4775.09060934 4775.09060934\n",
      " 4775.09060934]\n"
     ]
    },
    {
     "name": "stderr",
     "output_type": "stream",
     "text": [
      " 30%|████████████                            | 661/2200 [00:15<00:35, 42.85it/s]"
     ]
    },
    {
     "name": "stdout",
     "output_type": "stream",
     "text": [
      "Energy: [4775.09060934 4775.09060934 4775.09060934 4775.09060934 4775.09060934\n",
      " 4775.09060934 4775.09060934 4784.50335293 4775.09060934 4775.09060934\n",
      " 4775.09060934]\n"
     ]
    },
    {
     "name": "stderr",
     "output_type": "stream",
     "text": [
      " 32%|████████████▊                           | 704/2200 [00:16<00:38, 38.81it/s]"
     ]
    },
    {
     "name": "stdout",
     "output_type": "stream",
     "text": [
      "Energy: [4803.31461685 4775.09060934 4775.09060934 4775.09060934 4775.09060934\n",
      " 4775.09060934 4775.09060934 4775.09060934 4775.09060934 4775.09060934\n",
      " 4775.09060934]\n"
     ]
    },
    {
     "name": "stderr",
     "output_type": "stream",
     "text": [
      " 34%|█████████████▊                          | 759/2200 [00:18<00:33, 42.82it/s]"
     ]
    },
    {
     "name": "stdout",
     "output_type": "stream",
     "text": [
      "Energy: [4803.31461685 4775.09060934 4775.09060934 4775.09060934 4775.09060934\n",
      " 4775.09060934 4775.09060934 4775.09060934 4775.09060934 4775.09060934\n",
      " 4775.09060934]\n"
     ]
    },
    {
     "name": "stderr",
     "output_type": "stream",
     "text": [
      " 37%|██████████████▋                         | 809/2200 [00:19<00:32, 42.78it/s]"
     ]
    },
    {
     "name": "stdout",
     "output_type": "stream",
     "text": [
      "Energy: [4775.09060934 4784.50335293 4775.09060934 4775.09060934 4775.09060934\n",
      " 4775.09060934 4775.09060934 4775.09060934 4775.09060934 4775.09060934\n",
      " 4775.09060934]\n"
     ]
    },
    {
     "name": "stderr",
     "output_type": "stream",
     "text": [
      " 39%|███████████████▌                        | 859/2200 [00:20<00:31, 42.60it/s]"
     ]
    },
    {
     "name": "stdout",
     "output_type": "stream",
     "text": [
      "Energy: [4775.09060934 4784.50335293 4775.09060934 4775.09060934 4775.09060934\n",
      " 4775.09060934 4775.09060934 4775.09060934 4775.09060934 4775.09060934\n",
      " 4775.09060934]\n"
     ]
    },
    {
     "name": "stderr",
     "output_type": "stream",
     "text": [
      " 41%|████████████████▌                       | 909/2200 [00:21<00:32, 39.47it/s]"
     ]
    },
    {
     "name": "stdout",
     "output_type": "stream",
     "text": [
      "Energy: [4775.09060934 4775.09060934 4784.50335293 4775.09060934 4775.09060934\n",
      " 4775.09060934 4775.09060934 4775.09060934 4775.09060934 4775.09060934\n",
      " 4775.09060934]\n"
     ]
    },
    {
     "name": "stderr",
     "output_type": "stream",
     "text": [
      " 44%|█████████████████▍                      | 957/2200 [00:22<00:30, 41.04it/s]"
     ]
    },
    {
     "name": "stdout",
     "output_type": "stream",
     "text": [
      "Energy: [4793.91135163 4775.09060934 4775.09060934 4775.09060934 4775.09060934\n",
      " 4775.09060934 4775.09060934 4775.09060934 4775.09060934 4775.09060934\n",
      " 4775.09060934]\n"
     ]
    },
    {
     "name": "stderr",
     "output_type": "stream",
     "text": [
      " 46%|█████████████████▊                     | 1006/2200 [00:23<00:28, 41.72it/s]"
     ]
    },
    {
     "name": "stdout",
     "output_type": "stream",
     "text": [
      "Energy: [4784.50335293 4775.09060934 4775.09060934 4775.09060934 4775.09060934\n",
      " 4775.09060934 4775.09060934 4775.09060934 4775.09060934 4775.09060934\n",
      " 4775.09060934]\n"
     ]
    },
    {
     "name": "stderr",
     "output_type": "stream",
     "text": [
      " 48%|██████████████████▋                    | 1056/2200 [00:25<00:27, 41.69it/s]"
     ]
    },
    {
     "name": "stdout",
     "output_type": "stream",
     "text": [
      "Energy: [4775.09060934 4775.09060934 4775.09060934 4775.09060934 4775.09060934\n",
      " 4775.09060934 4775.09060934 4775.09060934 4775.09060934 4775.09060934\n",
      " 4775.09060934]\n"
     ]
    },
    {
     "name": "stderr",
     "output_type": "stream",
     "text": [
      " 50%|███████████████████▋                   | 1110/2200 [00:26<00:27, 38.97it/s]"
     ]
    },
    {
     "name": "stdout",
     "output_type": "stream",
     "text": [
      "Energy: [4775.09060934 4775.09060934 4775.09060934 4775.09060934 4775.09060934\n",
      " 4775.09060934 4775.09060934 4775.09060934 4775.09060934 4775.09060934\n",
      " 4775.09060934]\n"
     ]
    },
    {
     "name": "stderr",
     "output_type": "stream",
     "text": [
      " 53%|████████████████████▌                  | 1157/2200 [00:27<00:24, 41.84it/s]"
     ]
    },
    {
     "name": "stdout",
     "output_type": "stream",
     "text": [
      "Energy: [4775.09060934 4784.50335293 4775.09060934 4775.09060934 4775.09060934\n",
      " 4775.09060934 4775.09060934 4775.09060934 4775.09060934 4775.09060934\n",
      " 4775.09060934]\n"
     ]
    },
    {
     "name": "stderr",
     "output_type": "stream",
     "text": [
      " 55%|█████████████████████▍                 | 1207/2200 [00:28<00:24, 40.06it/s]"
     ]
    },
    {
     "name": "stdout",
     "output_type": "stream",
     "text": [
      "Energy: [4775.09060934 4784.50335293 4775.09060934 4775.09060934 4775.09060934\n",
      " 4775.09060934 4775.09060934 4775.09060934 4775.09060934 4775.09060934\n",
      " 4775.09060934]\n"
     ]
    },
    {
     "name": "stderr",
     "output_type": "stream",
     "text": [
      " 57%|██████████████████████▎                | 1257/2200 [00:30<00:22, 42.43it/s]"
     ]
    },
    {
     "name": "stdout",
     "output_type": "stream",
     "text": [
      "Energy: [4784.50335293 4784.50335293 4775.09060934 4775.09060934 4775.09060934\n",
      " 4775.09060934 4775.09060934 4775.09060934 4775.09060934 4775.09060934\n",
      " 4775.09060934]\n"
     ]
    },
    {
     "name": "stderr",
     "output_type": "stream",
     "text": [
      " 59%|███████████████████████▏               | 1307/2200 [00:31<00:20, 42.94it/s]"
     ]
    },
    {
     "name": "stdout",
     "output_type": "stream",
     "text": [
      "Energy: [4775.09060934 4775.09060934 4793.91135163 4775.09060934 4775.09060934\n",
      " 4775.09060934 4775.09060934 4775.09060934 4775.09060934 4775.09060934\n",
      " 4775.09060934]\n"
     ]
    },
    {
     "name": "stderr",
     "output_type": "stream",
     "text": [
      " 62%|████████████████████████               | 1356/2200 [00:32<00:19, 42.99it/s]"
     ]
    },
    {
     "name": "stdout",
     "output_type": "stream",
     "text": [
      "Energy: [4775.09060934 4784.50335293 4775.09060934 4775.09060934 4775.09060934\n",
      " 4775.09060934 4775.09060934 4775.09060934 4775.09060934 4775.09060934\n",
      " 4775.09060934]\n"
     ]
    },
    {
     "name": "stderr",
     "output_type": "stream",
     "text": [
      " 64%|████████████████████████▉              | 1406/2200 [00:33<00:18, 43.04it/s]"
     ]
    },
    {
     "name": "stdout",
     "output_type": "stream",
     "text": [
      "Energy: [4775.09060934 4793.91135163 4775.09060934 4775.09060934 4775.09060934\n",
      " 4775.09060934 4775.09060934 4775.09060934 4775.09060934 4775.09060934\n",
      " 4775.09060934]\n"
     ]
    },
    {
     "name": "stderr",
     "output_type": "stream",
     "text": [
      " 66%|█████████████████████████▊             | 1456/2200 [00:34<00:16, 43.98it/s]"
     ]
    },
    {
     "name": "stdout",
     "output_type": "stream",
     "text": [
      "Energy: [4775.09060934 4784.50335293 4775.09060934 4775.09060934 4775.09060934\n",
      " 4775.09060934 4775.09060934 4775.09060934 4775.09060934 4775.09060934\n",
      " 4775.09060934]\n"
     ]
    },
    {
     "name": "stderr",
     "output_type": "stream",
     "text": [
      " 69%|██████████████████████████▊            | 1511/2200 [00:35<00:15, 43.18it/s]"
     ]
    },
    {
     "name": "stdout",
     "output_type": "stream",
     "text": [
      "Energy: [4775.09060934 4775.09060934 4775.09060934 4775.09060934 4775.09060934\n",
      " 4775.09060934 4775.09060934 4775.09060934 4775.09060934 4775.09060934\n",
      " 4775.09060934]\n"
     ]
    },
    {
     "name": "stderr",
     "output_type": "stream",
     "text": [
      " 71%|███████████████████████████▋           | 1560/2200 [00:37<00:15, 42.48it/s]"
     ]
    },
    {
     "name": "stdout",
     "output_type": "stream",
     "text": [
      "Energy: [4784.50335293 4784.50335293 4775.09060934 4775.09060934 4775.09060934\n",
      " 4775.09060934 4775.09060934 4775.09060934 4775.09060934 4775.09060934\n",
      " 4775.09060934]\n"
     ]
    },
    {
     "name": "stderr",
     "output_type": "stream",
     "text": [
      " 73%|████████████████████████████▍          | 1605/2200 [00:38<00:13, 43.07it/s]"
     ]
    },
    {
     "name": "stdout",
     "output_type": "stream",
     "text": [
      "Energy: [4784.50335293 4775.09060934 4775.09060934 4775.09060934 4775.09060934\n",
      " 4775.09060934 4775.09060934 4775.09060934 4775.09060934 4775.09060934\n",
      " 4775.09060934]\n"
     ]
    },
    {
     "name": "stderr",
     "output_type": "stream",
     "text": [
      " 75%|█████████████████████████████▍         | 1660/2200 [00:39<00:12, 43.75it/s]"
     ]
    },
    {
     "name": "stdout",
     "output_type": "stream",
     "text": [
      "Energy: [4793.91135163 4775.09060934 4775.09060934 4775.09060934 4775.09060934\n",
      " 4775.09060934 4775.09060934 4775.09060934 4775.09060934 4775.09060934\n",
      " 4775.09060934]\n"
     ]
    },
    {
     "name": "stderr",
     "output_type": "stream",
     "text": [
      " 78%|██████████████████████████████▎        | 1710/2200 [00:40<00:11, 43.25it/s]"
     ]
    },
    {
     "name": "stdout",
     "output_type": "stream",
     "text": [
      "Energy: [4784.50335293 4775.09060934 4775.09060934 4775.09060934 4775.09060934\n",
      " 4775.09060934 4775.09060934 4775.09060934 4775.09060934 4775.09060934\n",
      " 4775.09060934]\n"
     ]
    },
    {
     "name": "stderr",
     "output_type": "stream",
     "text": [
      " 80%|███████████████████████████████▏       | 1759/2200 [00:41<00:11, 39.12it/s]"
     ]
    },
    {
     "name": "stdout",
     "output_type": "stream",
     "text": [
      "Energy: [4784.50335293 4775.09060934 4775.09060934 4775.09060934 4775.09060934\n",
      " 4775.09060934 4784.50335293 4775.09060934 4775.09060934 4775.09060934\n",
      " 4775.09060934]\n"
     ]
    },
    {
     "name": "stderr",
     "output_type": "stream",
     "text": [
      " 82%|████████████████████████████████       | 1808/2200 [00:42<00:09, 40.91it/s]"
     ]
    },
    {
     "name": "stdout",
     "output_type": "stream",
     "text": [
      "Energy: [4775.09060934 4784.50335293 4775.09060934 4775.09060934 4775.09060934\n",
      " 4775.09060934 4775.09060934 4775.09060934 4775.09060934 4775.09060934\n",
      " 4775.09060934]\n"
     ]
    },
    {
     "name": "stderr",
     "output_type": "stream",
     "text": [
      " 84%|████████████████████████████████▉      | 1858/2200 [00:44<00:07, 42.76it/s]"
     ]
    },
    {
     "name": "stdout",
     "output_type": "stream",
     "text": [
      "Energy: [4775.09060934 4775.09060934 4775.09060934 4775.09060934 4775.09060934\n",
      " 4775.09060934 4775.09060934 4775.09060934 4775.09060934 4775.09060934\n",
      " 4775.09060934]\n"
     ]
    },
    {
     "name": "stderr",
     "output_type": "stream",
     "text": [
      " 87%|█████████████████████████████████▉     | 1913/2200 [00:45<00:06, 43.21it/s]"
     ]
    },
    {
     "name": "stdout",
     "output_type": "stream",
     "text": [
      "Energy: [4793.91135163 4775.09060934 4775.09060934 4775.09060934 4775.09060934\n",
      " 4775.09060934 4775.09060934 4775.09060934 4775.09060934 4775.09060934\n",
      " 4775.09060934]\n"
     ]
    },
    {
     "name": "stderr",
     "output_type": "stream",
     "text": [
      " 89%|██████████████████████████████████▋    | 1958/2200 [00:46<00:05, 40.51it/s]"
     ]
    },
    {
     "name": "stdout",
     "output_type": "stream",
     "text": [
      "Energy: [4775.09060934 4775.09060934 4775.09060934 4775.09060934 4775.09060934\n",
      " 4775.09060934 4775.09060934 4775.09060934 4775.09060934 4775.09060934\n",
      " 4775.09060934]\n"
     ]
    },
    {
     "name": "stderr",
     "output_type": "stream",
     "text": [
      " 91%|███████████████████████████████████▌   | 2006/2200 [00:47<00:04, 41.57it/s]"
     ]
    },
    {
     "name": "stdout",
     "output_type": "stream",
     "text": [
      "Energy: [4775.09060934 4775.09060934 4775.09060934 4775.09060934 4775.09060934\n",
      " 4775.09060934 4775.09060934 4775.09060934 4775.09060934 4775.09060934\n",
      " 4775.09060934]\n"
     ]
    },
    {
     "name": "stderr",
     "output_type": "stream",
     "text": [
      " 93%|████████████████████████████████████▍  | 2055/2200 [00:48<00:03, 39.22it/s]"
     ]
    },
    {
     "name": "stdout",
     "output_type": "stream",
     "text": [
      "Energy: [4775.09060934 4775.09060934 4775.09060934 4775.09060934 4784.50335293\n",
      " 4775.09060934 4775.09060934 4775.09060934 4775.09060934 4775.09060934\n",
      " 4775.09060934]\n"
     ]
    },
    {
     "name": "stderr",
     "output_type": "stream",
     "text": [
      " 96%|█████████████████████████████████████▍ | 2110/2200 [00:50<00:02, 42.28it/s]"
     ]
    },
    {
     "name": "stdout",
     "output_type": "stream",
     "text": [
      "Energy: [4775.09060934 4775.09060934 4775.09060934 4775.09060934 4775.09060934\n",
      " 4775.09060934 4775.09060934 4775.09060934 4775.09060934 4775.09060934\n",
      " 4775.09060934]\n"
     ]
    },
    {
     "name": "stderr",
     "output_type": "stream",
     "text": [
      " 98%|██████████████████████████████████████▎| 2160/2200 [00:51<00:01, 39.22it/s]"
     ]
    },
    {
     "name": "stdout",
     "output_type": "stream",
     "text": [
      "Energy: [4784.50335293 4775.09060934 4775.09060934 4775.09060934 4775.09060934\n",
      " 4775.09060934 4775.09060934 4775.09060934 4775.09060934 4775.09060934\n",
      " 4775.09060934]\n"
     ]
    },
    {
     "name": "stderr",
     "output_type": "stream",
     "text": [
      "100%|███████████████████████████████████████| 2200/2200 [00:52<00:00, 41.95it/s]\n"
     ]
    },
    {
     "name": "stdout",
     "output_type": "stream",
     "text": [
      "Fin Energy_t 4775.090609339986 Energy_gs 4775.090609339986\n",
      "c_accep 0 c_rounds 0\n",
      "Elapsed (after compilation) = 52.44735407829285\n",
      "[[202 204 183 188 193 214 212 216 213 215 217 218]\n",
      " [202 204 183 188 193 214 212 216 213 215 217 218]]\n",
      "[[184 202 205 181 203 212 214 213 215 217 216 218]\n",
      " [184 202 205 181 203 212 214 213 215 217 216 218]]\n",
      "[[184 202 205 181 203 212 214 213 215 217 216 218]\n",
      " [184 202 205 181 203 212 214 213 215 217 216 218]]\n",
      "[[202 204 183 188 193 214 212 216 213 215 217 218]\n",
      " [202 204 183 188 193 214 212 216 213 215 217 218]]\n",
      "[[202 204 183 188 193 214 212 216 213 215 217 218]\n",
      " [202 204 183 188 193 214 212 216 213 215 217 218]]\n",
      "[[181 180 203 191 202 214 217 212 215 213 216 218]\n",
      " [181 180 203 191 202 214 217 212 215 213 216 218]]\n",
      "[[184 202 205 181 203 212 214 213 215 217 216 218]\n",
      " [184 202 205 181 203 212 214 213 215 217 216 218]]\n",
      "[[184 202 205 181 203 212 214 213 215 217 216 218]\n",
      " [184 202 205 181 203 212 214 213 215 217 216 218]]\n",
      "[[184 202 205 181 203 212 214 213 215 217 216 218]\n",
      " [184 202 205 181 203 212 214 213 215 217 216 218]]\n",
      "[[202 204 183 188 193 214 212 216 213 215 217 218]\n",
      " [202 204 183 188 193 214 212 216 213 215 217 218]]\n",
      "[[198 194 190 184 206 213 218 215 214 217 212 216]\n",
      " [198 194 190 184 206 213 218 215 214 217 212 216]]\n",
      "[[184 202 205 181 203 212 214 213 215 217 216 218]\n",
      " [184 202 205 181 203 212 214 213 215 217 216 218]]\n",
      "[[202 204 183 188 193 214 212 216 213 215 217 218]\n",
      " [202 204 183 188 193 214 212 216 213 215 217 218]]\n",
      "[[202 204 183 188 193 214 212 216 213 215 217 218]\n",
      " [202 204 183 188 193 214 212 216 213 215 217 218]]\n",
      "[[183 202 197 196 210 215 212 213 214 217 216 218]\n",
      " [183 202 197 196 210 215 212 213 214 217 216 218]]\n",
      "[[207 210 200 180 184 218 215 217 216 214 213 212]\n",
      " [207 210 200 180 184 218 215 217 216 214 213 212]]\n",
      "[[184 202 205 181 203 212 214 213 215 217 216 218]\n",
      " [184 202 205 181 203 212 214 213 215 217 216 218]]\n",
      "[[183 202 197 196 210 215 212 213 214 217 216 218]\n",
      " [183 202 197 196 210 215 212 213 214 217 216 218]]\n",
      "[[184 202 205 181 203 212 214 213 215 217 216 218]\n",
      " [184 202 205 181 203 212 214 213 215 217 216 218]]\n",
      "[[184 202 205 181 203 212 214 213 215 217 216 218]\n",
      " [184 202 205 181 203 212 214 213 215 217 216 218]]\n",
      "[[207 210 200 180 184 218 215 217 216 214 213 212]\n",
      " [207 210 200 180 184 218 215 217 216 214 213 212]]\n",
      "[[207 210 200 180 184 218 215 217 216 214 213 212]\n",
      " [207 210 200 180 184 218 215 217 216 214 213 212]]\n",
      "[[183 202 197 196 210 215 212 213 214 217 216 218]\n",
      " [183 202 197 196 210 215 212 213 214 217 216 218]]\n",
      "[[181 180 203 191 202 214 217 212 215 213 216 218]\n",
      " [181 180 203 191 202 214 217 212 215 213 216 218]]\n",
      "[[183 202 197 196 210 215 212 213 214 217 216 218]\n",
      " [183 202 197 196 210 215 212 213 214 217 216 218]]\n",
      "[[207 210 200 180 184 218 215 217 216 214 213 212]\n",
      " [207 210 200 180 184 218 215 217 216 214 213 212]]\n",
      "[[207 210 200 180 184 218 215 217 216 214 213 212]\n",
      " [207 210 200 180 184 218 215 217 216 214 213 212]]\n",
      "[[191 182 205 209 188 216 213 214 215 217 212 218]\n",
      " [191 182 205 209 188 216 213 214 215 217 212 218]]\n",
      "[[191 182 205 209 188 216 213 214 215 217 212 218]\n",
      " [191 182 205 209 188 216 213 214 215 217 212 218]]\n",
      "[[207 210 200 180 184 218 215 217 216 214 213 212]\n",
      " [207 210 200 180 184 218 215 217 216 214 213 212]]\n",
      "[[191 182 205 209 188 216 213 214 215 217 212 218]\n",
      " [191 182 205 209 188 216 213 214 215 217 212 218]]\n",
      "[[207 210 200 180 184 218 215 217 216 214 213 212]\n",
      " [207 210 200 180 184 218 215 217 216 214 213 212]]\n",
      "[[207 210 200 180 184 218 215 217 216 214 213 212]\n",
      " [207 210 200 180 184 218 215 217 216 214 213 212]]\n",
      "[[181 180 203 191 202 214 217 212 215 213 216 218]\n",
      " [181 180 203 191 202 214 217 212 215 213 216 218]]\n",
      "[[207 210 200 180 184 218 215 217 216 214 213 212]\n",
      " [207 210 200 180 184 218 215 217 216 214 213 212]]\n",
      "[[207 210 200 180 184 218 215 217 216 214 213 212]\n",
      " [207 210 200 180 184 218 215 217 216 214 213 212]]\n",
      "[[207 210 200 180 184 218 215 217 216 214 213 212]\n",
      " [207 210 200 180 184 218 215 217 216 214 213 212]]\n",
      "[[207 210 200 180 184 218 215 217 216 214 213 212]\n",
      " [207 210 200 180 184 218 215 217 216 214 213 212]]\n",
      "[[195 209 205 190 206 213 217 212 218 214 215 216]\n",
      " [195 209 205 190 206 213 217 212 218 214 215 216]]\n",
      "[[195 209 205 190 206 213 217 212 218 214 215 216]\n",
      " [195 209 205 190 206 213 217 212 218 214 215 216]]\n",
      "[1.] [1.]\n"
     ]
    }
   ],
   "source": [
    "\n",
    "for i_prob in vector: #range(N_probs):\n",
    "    ## Cada uno de estos es un error distinto\n",
    "    A_tot = dic_A[probs[i_prob]]\n",
    "    print()\n",
    "    print()\n",
    "    print('i_prob:', i_prob, probs[i_prob], tempers[i_prob], 'alpha_t',max[i_prob],'N_t', total[i_prob])\n",
    "    N_t = len(tempers[i_prob])\n",
    "    for i_reps in range(N_reps): # Para tener estadística\n",
    "        print('i_reps', i_reps)\n",
    "        A = np.zeros((K, Nx, Nx))\n",
    "        A = A_tot[i_reps,:,:,:].copy()\n",
    "        \n",
    "        ### variables to store:\n",
    "        energies_pasos, P_store, L_store, Energy_store =  variable_store(PasosMC[i_prob],Pasos_store[i_prob], N_epochs, N_t, K, Nx)\n",
    "        P_gs, P_inv_gs, L_gs, E_gs = ground_state(A, K, Nx, alpha, beta)\n",
    "        for i_epoch in range(N_epochs):\n",
    "            c_accep, c_odd, c_rounds = 0,0,0\n",
    "            m_old, round_trip_old = 0,1\n",
    "\n",
    "            if probs[i_prob] == 0:\n",
    "                P_t, P_inv_t, L_t, Edges_L_t,Edges_NoL_t, Energy_t, ovlp_t0,ovlp_t1, suma_L_t,groups_t  = initialization_random(A, start_groups,end_groups, K, Nx, N_t, tempers, alpha, beta)\n",
    "\n",
    "            else:\n",
    "                P_t, P_inv_t, L_t, Edges_L_t,Edges_NoL_t, Energy_t, ovlp_t0,ovlp_t1, suma_L_t,groups_t  = initialization(A, start_groups,end_groups, K, Nx, N_t, tempers, alpha, beta)\n",
    "            # P_t, P_inv_t, L_t, Edges_L_t,Edges_NoL_t, Energy_t, ovlp_t0,ovlp_t1, suma_L_t,groups_t  = initialization_continuation(A,P_inv_ini, start_groups,end_groups, K, Nx, N_t, tempers, alpha, beta)\n",
    "\n",
    "            \n",
    "            \n",
    "            print('Energía ini:', Energy_t[-1], '/gs:', E_gs)\n",
    "            ## MonteCarlo \n",
    "            start = time.time()\n",
    "            count_parallel, count_long, i_long = 0,0,0\n",
    "            for i_mc in tqdm(range(0,PasosMC[i_prob])):\n",
    "                ## Starting to store sampling configurations\n",
    "                if (i_mc > Pasos_corr[i_prob]-Long_corr[i_prob]):\n",
    "                    count_long += 1\n",
    "                    if (count_long == Long_corr[i_prob]):\n",
    "                        count_long = 0\n",
    "                        print('Energy:', Energy_t)\n",
    "                        P_store[i_epoch, i_long,:,:,:] = P_inv_t.copy()\n",
    "                        Energy_store[i_epoch, i_long,:] = Energy_t.copy()\n",
    "                        L_store[i_epoch, i_long,:,:,:] = L_t.copy()\n",
    "                        i_long += 1\n",
    "                \n",
    "                energies_pasos[i_epoch,:, i_mc] = Energy_t[:]\n",
    "                # print(Energy_t)\n",
    "                for i_micro in range(Nx):\n",
    "                    tempers_loop, tempers_odd_loop, tempers_even_loop =  tempers[i_prob],tempers_odd[i_prob], tempers_even[i_prob]\n",
    "                    tempers_odd_loop, tempers_even_loop =  tempers_odd_loop.astype(int), tempers_even_loop.astype(int)\n",
    "                    # print(tempers_loop.dtype, tempers_odd_loop.dtype, tempers_even_loop.dtype)\n",
    "                    count_parallel,P_t, P_inv_t, Energy_t, ovlp_t0, ovlp_t1, L_t,suma_L_t,c_accep, c_odd, m_old, round_trip_old, c_rounds = parallel_L_knwn_change_groups( count_parallel,alpha,beta,fijado,groups_t,n_groups, start_groups, \n",
    "                                                                                                             end_groups,  A, P_t, P_inv_t, L_t,suma_L_t, Energy_t, ovlp_t0, \n",
    "                                                                                                             ovlp_t1,tempers_loop, tempers_odd_loop, tempers_even_loop,c_accep, c_odd, m_old, round_trip_old, c_rounds)\n",
    "            if i_epoch == 0:\n",
    "                print('Fin Energy_t', Energy_t[-1], 'Energy_gs', E_gs) \n",
    "                print('c_accep', c_accep,'c_rounds',  c_rounds )\n",
    "\n",
    "            \n",
    "            end = time.time()\n",
    "            print(\"Elapsed (after compilation) = %s\" % (end - start))  \n",
    "        \n",
    "        x=np.arange( len(energies_pasos[0,0,:]) )\n",
    "    \n",
    "        string = \"0.1_llarg_Celegans_cluster_\"+str(K)+\"capas_rep\"+str(i_reps)+\"_prob\"+str(probs[i_prob]) +\".pickle\"\n",
    "        d_store = {}\n",
    "        Pasos_equ = 0\n",
    "        tem = -1\n",
    "        P_store = P_store.astype(int)\n",
    "        Porcentaje_sta,Porcentaje_gs = np.zeros(N_epochs),np.zeros(N_epochs)\n",
    "        Pasos = Pasos_store[i_prob]\n",
    "        Pasos = Pasos \n",
    "        for i_epoch in range(N_epochs):\n",
    "            nodes_good = np.zeros((Nx))\n",
    "            nodes_maxim = np.zeros((Nx, Nx))\n",
    "            nodes_good_min = np.zeros((Nx))\n",
    "            i_p_min, i_nt_min =  0, 0\n",
    "            E_min = Energy_store[i_epoch, i_p_min, i_nt_min]\n",
    "            for i_p in range(Pasos_equ, Pasos):\n",
    "                ############## stadistics\n",
    "                P_aux = P_store[i_epoch,i_p,tem,:, :]\n",
    "                print(P_aux[:,-12:])\n",
    "                for i_x in range(Nx):\n",
    "                    ## Statistical: tem = 1\n",
    "                    n_node0 = P_aux[0,i_x]\n",
    "                    n_node1 = P_aux[1,i_x]\n",
    "                    nodes_maxim[n_node0, n_node1] += 1\n",
    "\n",
    "                ########### GROUND STATE\n",
    "                for k_nt in range(N_t):\n",
    "                    if (Energy_store[i_epoch,i_p, k_nt]<E_min):\n",
    "                        i_p_min, i_nt_min = i_p, k_nt\n",
    "                        E_min = Energy_store[i_epoch,i_p, k_nt]\n",
    "            \n",
    "            \n",
    "            for i_x in range(Nx):\n",
    "                ##############3 stadsitics\n",
    "                sorted_indices = np.argsort(nodes_maxim[i_x,:])[::-1]\n",
    "                max_value = nodes_maxim[i_x,sorted_indices[0]]\n",
    "                max_indices = sorted_indices[nodes_maxim[i_x,sorted_indices] == max_value]\n",
    "                if len(max_indices) > 1:\n",
    "                    pos = np.random.randint(len(max_indices))\n",
    "                    node = max_indices[pos]\n",
    "                else:\n",
    "                    node = max_indices[0]\n",
    "                if node == i_x:\n",
    "                    nodes_good[i_x] = 1 \n",
    "                ########## GROUND STATE\n",
    "                P_min = P_store[i_epoch,i_p_min,i_nt_min,:,:].copy()\n",
    "                n_node0, n_node1 = P_min[0,i_x], P_min[1,i_x]\n",
    "                if n_node0 == n_node1 :\n",
    "                    nodes_good_min[i_x] = 1\n",
    "\n",
    "            Porcentaje_gs[i_epoch] = np.sum(nodes_good_min)/Nx\n",
    "            Porcentaje_sta[i_epoch] = np.sum(nodes_good)/(Nx)\n",
    "        \n",
    "        print(Porcentaje_gs,Porcentaje_sta)\n",
    "        d_store[\"Probabilidad_error\"] = probs[i_prob] \n",
    "        d_store[\"Datos_energy\"] = energies_pasos\n",
    "        d_store[\"Porcentaje_gs\"] = Porcentaje_gs\n",
    "        d_store[\"Porcentaje_sta\"] = Porcentaje_sta\n",
    "        d_store[\"temper\"] = tempers\n",
    "        d_store[\"A\"] = A       \n",
    "        d_store[\"E_groundtruth\"] = E_gs\n",
    "        d_store[\"Pasos_corr_ini\"] = Pasos_corr[i_prob] \n",
    "        d_store[\"Step_corr\"] = Long_corr[i_prob] \n",
    "        \n",
    "        with open(string, 'wb') as file:\n",
    "            pickle.dump(d_store, file)\n",
    "    \n",
    "\n",
    "    "
   ]
  },
  {
   "cell_type": "code",
   "execution_count": 18,
   "id": "d0bddc7b-2c0d-4049-b252-49cfd589c342",
   "metadata": {},
   "outputs": [
    {
     "data": {
      "text/plain": [
       "array([1.])"
      ]
     },
     "execution_count": 18,
     "metadata": {},
     "output_type": "execute_result"
    }
   ],
   "source": [
    "Porcentaje_sta"
   ]
  },
  {
   "cell_type": "code",
   "execution_count": 19,
   "id": "59b28a1a-4923-4c86-b1bb-8026f8d1d37d",
   "metadata": {},
   "outputs": [
    {
     "data": {
      "image/png": "[encoded data removed]",
      "text/plain": [
       "<Figure size 640x480 with 1 Axes>"
      ]
     },
     "metadata": {},
     "output_type": "display_data"
    }
   ],
   "source": [
    "max_step = 8000\n",
    "x=np.arange( len(energies_pasos[0,0,:max_step]) )\n",
    "for k_nt in range(0,N_t):\n",
    "    energies_pasos_temper = energies_pasos[0,k_nt,:max_step] \n",
    "    # plt.plot(x[:],energies_pasos_temper[:],'.',color = 'gray',label='%s beta' % tempers[k_nt])\n",
    "    plt.plot(x[:],energies_pasos_temper[:max_step],'-',label='%s beta' % tempers_loop[k_nt])\n",
    "    plt.xlabel('iteration')\n",
    "    plt.ylabel('Energy per node')\n",
    "# plt.legend()\n",
    "\n",
    "temper = -1# np.where(tempers == 1)[0][0]\n",
    "energies_pasos_temper = energies_pasos[0,temper,:max_step] \n",
    "plt.plot(x[:],energies_pasos_temper[:max_step],'b.',label='%s beta' % tempers_loop[k_nt])\n",
    "plt.show()"
   ]
  },
  {
   "cell_type": "code",
   "execution_count": 20,
   "id": "59e8ec01-0bb4-4d41-8242-ee57648d6b38",
   "metadata": {},
   "outputs": [
    {
     "name": "stdout",
     "output_type": "stream",
     "text": [
      "1.0\n"
     ]
    }
   ],
   "source": [
    "suma = 0\n",
    "for i_x in range(Nx):\n",
    "    node0 = P_store[0,0,-1,0, i_x]\n",
    "    node1 = P_store[0,0,-1,1, i_x]\n",
    "    if node0 == node1:\n",
    "        suma += 1\n",
    "print(suma/Nx)"
   ]
  },
  {
   "cell_type": "code",
   "execution_count": 21,
   "id": "a38927b8-8f5d-4e98-a5d5-36c65c118dba",
   "metadata": {},
   "outputs": [
    {
     "data": {
      "text/plain": [
       "array([ 0,  1,  2,  3,  4,  5,  6,  7,  8,  9, 10, 11, 12, 13, 14, 15, 16,\n",
       "       17, 18, 19, 20, 21, 22, 23, 24, 25, 26, 27, 28, 29, 30, 31, 32, 33,\n",
       "       34, 35, 36, 37, 38])"
      ]
     },
     "execution_count": 21,
     "metadata": {},
     "output_type": "execute_result"
    }
   ],
   "source": [
    "np.where(Energy_store[0,:-1,-1]== np.min(Energy_store[0,:-1,-1]))[0]"
   ]
  },
  {
   "cell_type": "code",
   "execution_count": null,
   "id": "028c9fa1-455e-48d5-acda-667ff70a70c9",
   "metadata": {},
   "outputs": [],
   "source": []
  },
  {
   "cell_type": "code",
   "execution_count": 22,
   "id": "565af7c7-80a0-491d-af20-c37c222b22cb",
   "metadata": {},
   "outputs": [
    {
     "name": "stdout",
     "output_type": "stream",
     "text": [
      "Energy final: [4775.09060934 4775.09060934 4784.50335293 4775.09060934 4775.09060934\n",
      " 4775.09060934 4775.09060934 4784.50335293 4775.09060934 4775.09060934\n",
      " 4775.09060934] /Computed final: [4775.09060934 4775.09060934 4784.50335293 4775.09060934 4775.09060934\n",
      " 4775.09060934 4775.09060934 4784.50335293 4775.09060934 4775.09060934\n",
      " 4775.09060934]\n"
     ]
    }
   ],
   "source": [
    "## Final energy\n",
    "Energy_calculada = np.zeros((N_t))\n",
    "for k_nt in range(N_t):\n",
    "    Edges_L= K*sum(sum(L_t[k_nt,:,:]))\n",
    "    Edges_NoL = Edges_sum - Edges_L\n",
    "    overlap_0, overlap_1 = overlap_total_prob(L_t[k_nt,:,:],A,P_inv_t[k_nt,:,:])\n",
    "    Energy_calculada[k_nt] = hamiltonian_prob(Edges_NoL, Edges_L, overlap_0,overlap_1,alpha, beta)\n",
    "    \n",
    "print('Energy final:', Energy_t, '/Computed final:', Energy_calculada) "
   ]
  },
  {
   "cell_type": "code",
   "execution_count": null,
   "id": "8c52530d-2844-4c24-a3d7-dc1c82a7ed5e",
   "metadata": {},
   "outputs": [],
   "source": []
  },
  {
   "cell_type": "code",
   "execution_count": null,
   "id": "36f17c09-b443-4029-8b65-a3b6ec64fc87",
   "metadata": {},
   "outputs": [],
   "source": []
  },
  {
   "cell_type": "code",
   "execution_count": null,
   "id": "6bc7ff4a-4d1c-4774-99b4-88477a7ea8b0",
   "metadata": {},
   "outputs": [],
   "source": []
  },
  {
   "cell_type": "code",
   "execution_count": null,
   "id": "24e158c0-f196-4b6c-80ac-6253aa1faf62",
   "metadata": {},
   "outputs": [],
   "source": []
  },
  {
   "cell_type": "code",
   "execution_count": null,
   "id": "e3abdf4b-0352-484c-8779-85989c12c4cc",
   "metadata": {},
   "outputs": [],
   "source": []
  }
 ],
 "metadata": {
  "kernelspec": {
   "display_name": "Python 3 (ipykernel)",
   "language": "python",
   "name": "python3"
  },
  "language_info": {
   "codemirror_mode": {
    "name": "ipython",
    "version": 3
   },
   "file_extension": ".py",
   "mimetype": "text/x-python",
   "name": "python",
   "nbconvert_exporter": "python",
   "pygments_lexer": "ipython3",
   "version": "3.10.12"
  }
 },
 "nbformat": 4,
 "nbformat_minor": 5
}
