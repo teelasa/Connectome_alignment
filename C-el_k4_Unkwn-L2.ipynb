{
 "cells": [
  {
   "cell_type": "markdown",
   "id": "c69eba05",
   "metadata": {},
   "source": [
    "# Parallel Tempering\n",
    "\n",
    "In the following code, we will use data from https://www.nature.com/articles/s41586-021-03778-8\n",
    "\n",
    "In this case, we will align the last four connectome networks, corresponding to the latest stages of development: L2,L3, A1, A2\n",
    "\n",
    "In this notebook we are not working with weighted networks, only with the presence or not of a connection (Binary adjacency matrices).\n",
    "\n",
    "In that database we have information about the neuron type (the neuroblast it belongs to). \n",
    "In this notebook we choose some nodes (~10%) to have unknwon group labels, and we want to see if we are still able to recover the mapping and also infer their group label (we see in which group the neuron spend the majority of its time). \n",
    "Always there is a networks with all the neurons labeled (to have a reference). The rest, these unknowns neurons are chosen randomly, but proportionated to the size of the group. They can be chosen DIFFERENT in all the networks, or the SAME. "
   ]
  },
  {
   "cell_type": "code",
   "execution_count": 22,
   "id": "eefb8125",
   "metadata": {},
   "outputs": [],
   "source": [
    "import itertools\n",
    "import pickle\n",
    "import matplotlib.pyplot as plt\n",
    "import numpy as np\n",
    "import math\n",
    "import random\n",
    "import os\n",
    "import time\n",
    "from numba import jit, njit\n",
    "from numba.types import bool_, int_, float32\n",
    "from math import comb\n",
    "from copy import deepcopy\n",
    "from tqdm import tqdm\n",
    "import networkx as nx\n",
    "import pandas as pd\n",
    "from collections import defaultdict\n",
    "from itertools import permutations"
   ]
  },
  {
   "cell_type": "markdown",
   "id": "37c980ea",
   "metadata": {},
   "source": [
    "# DATASET"
   ]
  },
  {
   "cell_type": "code",
   "execution_count": 23,
   "id": "c848c94b",
   "metadata": {},
   "outputs": [
    {
     "name": "stdout",
     "output_type": "stream",
     "text": [
      "Read: 0 size (227, 183)\n",
      "Read: 1 size (227, 183)\n",
      "Read: 2 size (227, 183)\n",
      "Read: 3 size (227, 183)\n",
      "Read: 4 size (227, 183)\n",
      "Read: 5 size (227, 183)\n",
      "Read: 6 size (227, 183)\n",
      "Read: 7 size (227, 183)\n"
     ]
    }
   ],
   "source": [
    "### Open the files\n",
    "tablas = 8\n",
    "n_grupo = 4\n",
    "\n",
    "d = {}\n",
    "D = \"Dataset\"\n",
    "for i in range(0,tablas):\n",
    "    d[\"group\" + str(i)] = pd.read_excel(\"datasets.ods\", sheet_name=D+str(i+1))\n",
    "    print('Read:',i, 'size', d[\"group\" + str(i)].shape)"
   ]
  },
  {
   "cell_type": "code",
   "execution_count": 24,
   "id": "0d8624d9",
   "metadata": {},
   "outputs": [],
   "source": [
    "## Hipermatrix M with the data (Only the synapses) \n",
    "rows = d[\"group\" + str(i)].shape[0] - 3\n",
    "columns = d[\"group\" + str(i)].shape[1] - 3\n",
    "\n",
    "M = np.zeros((tablas,rows,columns))\n",
    "for i in range(0, tablas):\n",
    "    Data = d['group' + str(i)]\n",
    "    M[i,:,:] = Data.iloc[3:,3:]\n",
    "    \n",
    "## Since we work with same number of nodes, we want them equal and square (zeros when no connections)\n",
    "M_square = np.zeros((tablas, rows, rows))\n",
    "M_square[:,:, 0:columns] = M[:,:,:]\n",
    "\n",
    "## Binarization: No weights\n",
    "#Lo queremos BINARIO, ignorando su peso (Luego pensar cómo se haría con el peso)\n",
    "M_square_bin = np.zeros((tablas,rows,rows))\n",
    "for i in range(tablas):\n",
    "    for j in range(rows):\n",
    "        for k in range(columns):\n",
    "            if (M[i,j,k] >= 1):\n",
    "                M_square_bin[i,j,k] = 1\n",
    "                \n",
    "Nx = rows # Number of nodes (we imposed rows == columns)"
   ]
  },
  {
   "cell_type": "markdown",
   "id": "0cdacd8c",
   "metadata": {},
   "source": [
    "### GROUP INFORMATION"
   ]
  },
  {
   "cell_type": "code",
   "execution_count": 25,
   "id": "01e315e9",
   "metadata": {},
   "outputs": [
    {
     "name": "stdout",
     "output_type": "stream",
     "text": [
      "grupos: Sensory, Inter, Motor, Modulatory, Muscle, Other\n",
      "SIZE GROUPS: [65 44 42 29 32 12]\n",
      "***********************************\n",
      "First node in each group [  0  65 109 151 180 212]\n",
      "Last node in each group [ 65 109 151 180 212 224]\n"
     ]
    }
   ],
   "source": [
    "# Groups from the database\n",
    "Sensory = 69-5 #0\n",
    "Inter = 113-70 # 1\n",
    "Motor = 155-114 #2\n",
    "Modulatory = 184-156 #3\n",
    "Muscle = 216-185 #4 \n",
    "Others = 228-217 #5\n",
    "\n",
    "size_groups = np.array([Sensory, Inter, Motor, Modulatory, Muscle, Others]) + 1 #Started in 0\n",
    "n_groups = len(size_groups)\n",
    "start_groups = np.zeros(n_groups)\n",
    "end_groups = np.zeros(n_groups)\n",
    "\n",
    "\n",
    "print('grupos: Sensory, Inter, Motor, Modulatory, Muscle, Other')\n",
    "print('SIZE GROUPS:', size_groups)\n",
    "\n",
    "\n",
    "#Para evitar trabajar con diccionarios (por NUMBA), vamos a hacer matrices \n",
    "# Cada matriz tiene el tamaño de la de mayor, pero luego las vamos cortando\n",
    "rows_g, columns_g = size_groups.max(), size_groups.max()\n",
    "\n",
    "size_suma = 0\n",
    "start_groups[0] = 0\n",
    "for i in range(n_groups):\n",
    "    size = size_groups[i]\n",
    "    if (i != n_groups-1):\n",
    "        start_groups[i+1] = int(size_suma + size)\n",
    "    size_suma = size_suma + (size) \n",
    "#end\n",
    "for i in range(0,n_groups):\n",
    "    if (i!= n_groups-1):\n",
    "        end_groups[i] = start_groups[i+1]\n",
    "    else:\n",
    "        end_groups[i] = Nx\n",
    "start_groups = start_groups.astype(int)\n",
    "end_groups = end_groups.astype(int)\n",
    "\n",
    "print('***********************************')\n",
    "print('First node in each group', start_groups)\n",
    "print('Last node in each group', end_groups)\n",
    "\n"
   ]
  },
  {
   "cell_type": "markdown",
   "id": "8955c46f",
   "metadata": {},
   "source": [
    "## ENERGY FUNCTIONS\n"
   ]
  },
  {
   "cell_type": "code",
   "execution_count": 26,
   "id": "077b7307",
   "metadata": {},
   "outputs": [],
   "source": [
    "@jit(nopython = True)\n",
    "def hamiltonian_prob(Edges_NoL, Edges_L, overlap_0, overlap_1, alpha, beta):\n",
    "\n",
    "    A_1 = overlap_1 + alpha\n",
    "    B_1 = (Edges_L - overlap_1 + beta)\n",
    "    C_1 = Edges_L + alpha + beta\n",
    "    \n",
    "    A_0 = overlap_0 + alpha\n",
    "    B_0 = (Edges_NoL - overlap_0 + beta)\n",
    "    C_0 = Edges_NoL + alpha + beta\n",
    "    \n",
    "    #  [ math.lgamma(n+1) == log(n!) ]\n",
    "    H1 = math.lgamma(A_1)+ math.lgamma(B_1) - math.lgamma(C_1) \n",
    "    H0 = math.lgamma(A_0)+ math.lgamma(B_0) - math.lgamma(C_0) \n",
    "    \n",
    "    H = -(H1 + H0)\n",
    "    return H\n",
    "    \n",
    "    \n",
    "@jit(nopython=True)\n",
    "def overlap_total_prob(L_f, A_f, P_inv_f):\n",
    "    Nx = L_f.shape[0]\n",
    "    Ny = L_f.shape[1]\n",
    "    K = A_f.shape[0]\n",
    "    \n",
    "    ovlp_0 = np.zeros((K))\n",
    "    ovlp_1 = np.zeros((K))\n",
    "    for k in range(0,K):\n",
    "        for f in range(0,Ny): \n",
    "            for c in range(0,Nx):\n",
    "                p_f=int(P_inv_f[k,f])\n",
    "                p_c=int(P_inv_f[k,c])  \n",
    "                \n",
    "                valor_L, valor_A = L_f[f,c], A_f[k,p_f,p_c]\n",
    "                \n",
    "                ovlp_0[k] = ovlp_0[k] + (1-valor_L)*(1-valor_A )\n",
    "                ovlp_1[k] = ovlp_1[k] + valor_L*valor_A\n",
    "                \n",
    "                \n",
    "    ovlp_1 = int(sum(ovlp_1))\n",
    "    ovlp_0 = int(sum(ovlp_0))\n",
    "    return ovlp_0, ovlp_1\n",
    "\n",
    "\n",
    "@jit(nopython=True) # The blueprint is the average of the observations (taking into account the mapping)  \n",
    "def L_wiring(A_f, P_inv_f):\n",
    "    \n",
    "    Nx = A_f.shape[1]\n",
    "    Ny = A_f.shape[2]\n",
    "    K = A_f.shape[0]\n",
    "    L_new_f = np.zeros((Nx,Ny))\n",
    "    \n",
    "    for i in range(0,Nx):\n",
    "        for j in range(0,Ny):\n",
    "            for k in range(0,K):\n",
    "        \n",
    "                p1 = int(P_inv_f[k,i]) # Mapping of the observations\n",
    "                p2 = int(P_inv_f[k,j]) # Mapping of the observations\n",
    "                L_new_f[i,j] += A_f[k,p1,p2]\n",
    "            valor_lnew=1/K* L_new_f[i,j]\n",
    "            L_new_f[i,j] = round( valor_lnew ) \n",
    "            # If valor_lnew = 0, L=0 (we could establish L=1, but it is more probable to not have a connection)\n",
    "    \n",
    "    return L_new_f\n",
    "\n",
    "\n",
    "#### Some algorithm for sorting\n",
    "@jit(nopython=True)\n",
    "def partition(array,  etiquetas, begin, end):\n",
    "    pivot = begin\n",
    "    for i in range(begin+1, end+1):\n",
    "        if array[i] < array[begin]:\n",
    "            pivot += 1\n",
    "            array[i], array[pivot] = array[pivot], array[i]\n",
    "            etiquetas[i], etiquetas[pivot] = etiquetas[pivot], etiquetas[i]\n",
    "    array[pivot], array[begin] = array[begin], array[pivot]\n",
    "    etiquetas[pivot], etiquetas[begin] = etiquetas[begin], etiquetas[pivot] \n",
    "\n",
    "    return pivot\n",
    "@jit(nopython=True)\n",
    "def quicksort(array, etiquetas, begin=0, end=None):\n",
    "    if end is None:\n",
    "        end = len(array) - 1\n",
    "    if begin >= end: #To end\n",
    "        return\n",
    "    pivot = partition(array,  etiquetas, begin, end)\n",
    "    \n",
    "    #Order right and left\n",
    "    quicksort(array, etiquetas, begin, pivot-1)\n",
    "    quicksort(array,  etiquetas, pivot+1, end)\n",
    "\n",
    "\n",
    "# Some nodes are unkwon and are located random in the end of the places\n",
    "def permu_groups_unk_capa1(L_f, A_f, start_f, unkwn, grupos_t):    \n",
    "    Nx = L_f.shape[0]\n",
    "    Ny = L_f.shape[1]\n",
    "    K = A_f.shape[0]\n",
    "    N_groups = len(start_f)\n",
    "    \n",
    "    # Mappings\n",
    "    P_f = np.zeros((K,Nx)) #Mapping from L to A\n",
    "    P_inv_f = np.zeros((K,Nx)) #Mapping from A to L\n",
    "    P_new = np.zeros((K,Nx))\n",
    "    \n",
    "    #Blueprints\n",
    "    orden_L_in = np.zeros((Nx))\n",
    "    array_L = np.arange(Nx)\n",
    "\n",
    "    for i in range(Nx):\n",
    "        b = np.nonzero(L_f[i,:])\n",
    "        orden_L_in[i] = b[0].size#.size\n",
    "\n",
    "    orden_L = orden_L_in.copy()\n",
    "    quicksort(orden_L, array_L)\n",
    "    array_L = array_L[::-1]\n",
    "    \n",
    "    grupos_L = np.zeros((Nx))\n",
    "    for  i_g in range(N_groups):\n",
    "        start = start_f[i_g]\n",
    "        if (i_g != N_groups-1):\n",
    "            end = start_f[i_g+1]\n",
    "        else:\n",
    "            end = Nx\n",
    "        grupos_L[start:end] = i_g\n",
    "    grupos_L = grupos_L.astype(int)\n",
    "    orden_L = orden_L_in.copy()\n",
    "    quicksort(orden_L, grupos_L )\n",
    "    grupos_L = grupos_L[::-1]\n",
    "        \n",
    "    \n",
    "    #Observations\n",
    "    for m in range(0,K):\n",
    "        orden_A_in = np.zeros((Nx))\n",
    "        grupos_A = np.zeros((Nx))\n",
    "        array_A = np.arange(Nx)\n",
    "\n",
    "        for i_orden in range(Nx):\n",
    "            b = np.nonzero(A_f[m,i_orden,:])\n",
    "            orden_A_in[i_orden] = b[0].size\n",
    "            grupos_A[i_orden] = grupos_t[m, i_orden]\n",
    "\n",
    "        orden_A = orden_A_in.copy()\n",
    "        quicksort(orden_A, array_A)\n",
    "        array_A = array_A[::-1]\n",
    "\n",
    "        orden_A = orden_A_in.copy()\n",
    "        quicksort(orden_A, grupos_A)\n",
    "        grupos_A = grupos_A[::-1]\n",
    "        \n",
    "        array_A_L = np.zeros((Nx))\n",
    "        nodos = []\n",
    "        for i_n in range(Nx): \n",
    "            if ((grupos_A[i_n] == grupos_L[i_n]) or (grupos_A[i_n] == N_groups)):\n",
    "                array_A_L[i_n] = array_A[i_n]\n",
    "                nodos.append(i_n)\n",
    "            else:\n",
    "                # Look for the next one with the same group label and i change it \n",
    "                count = 0\n",
    "                for i_nn in range(0, Nx):\n",
    "                    if i_nn not in nodos:\n",
    "                        if ((grupos_A[i_nn] == grupos_L[i_n]) or (grupos_A[i_nn] == N_groups)): \n",
    "\n",
    "                            aux = array_A[i_nn]\n",
    "                            array_A_L[i_n] = array_A[i_nn]\n",
    "                            array_A[i_nn] = array_A[i_n]\n",
    "                            #array_A[i_n] = aux\n",
    "\n",
    "                            aux = grupos_A[i_nn]\n",
    "                            grupos_A[i_nn] = grupos_A[i_n]\n",
    "                            grupos_A[i_n] = aux\n",
    "                            nodos.append(i_n)\n",
    "                            count = 1\n",
    "                            break\n",
    "                            \n",
    "                if (count == 0): #There is no place in its group \n",
    "                    #we need to do a change with an unknwon in its group \n",
    "                    grupo = grupos_A[i_n]\n",
    "\n",
    "                    extras_A = np.where( grupos_A == N_groups)[0]\n",
    "                    extras_L = np.where(grupos_L == grupo)[0]\n",
    "         \n",
    "                    inter = np.array(list(set(extras_A).intersection(extras_L)))\n",
    "                    unkwn_1 = random.choice(inter)\n",
    "                    # Locate\n",
    "                    array_A_L[i_n] = array_A_L[unkwn_1]\n",
    "                    # Change\n",
    "                    array_A_L[unkwn_1] = array_A[i_n]\n",
    "                    aux = grupos_A[unkwn_1]\n",
    "                    grupos_A[unkwn_1] = grupos_A[i_n]\n",
    "                    grupos_A[i_n] = grupos_A[unkwn_1]\n",
    "                    nodos.append(i_n)\n",
    "\n",
    "        array_A_L = array_A_L[np.argsort(array_L)]\n",
    "        P_f[m,:] = array_A_L\n",
    "        for i_inv in range(0,Nx):\n",
    "            for j_inv in range(0,Ny):\n",
    "                if (P_f[m,i_inv] == j_inv):\n",
    "                    P_inv_f[m, j_inv]=i_inv\n",
    "    \n",
    "    P_todo = np.zeros((2,K,Nx))\n",
    "    P_todo[0,:,:] = P_f.copy()\n",
    "    P_todo[1,:,:] = P_inv_f.copy()\n",
    "\n",
    "    return P_todo\n",
    "\n",
    "\n",
    "# This function can be generalized for having the labeled-nodes in any of the networks. In this case  in the last one\n",
    "def def_unkwn_nodes(chosen_unk,K,n_groups,groups_ini, labels_unkwons_ini):\n",
    "    if chosen_unk == 0: # All unkwons nodes different across networks\n",
    "        for m1 in range(K):\n",
    "            count = 0\n",
    "            # Si no llega al maximo rellenamos el final\n",
    "            if (num_unk[m1]< max_num):\n",
    "                extras = int(max_num - num_unk[m1])\n",
    "                labels_unkwons_ini[m1, - extras: ] = Nx+1\n",
    "            for i_g in range(n_groups):\n",
    "                start = start_groups[i_g]\n",
    "                end = end_groups[i_g]\n",
    "                groups_ini[m1,start:end] = i_g\n",
    "                groups_ini_0[m1,start:end] = i_g\n",
    "                nodos = []\n",
    "                for i_un in range(num[m1,i_g]):\n",
    "                    nodo1 = np.random.randint(start,end)\n",
    "                    while (nodo1 in nodos):\n",
    "                        nodo1 = np.random.randint(start,end)\n",
    "                    nodos.append(nodo1)\n",
    "                    labels_unkwons_ini[m1, count] = nodo1            \n",
    "                    count +=1\n",
    "    else:  # All unkwons nodes the same across networks\n",
    "        count = 0\n",
    "        for i_g in range(n_groups):\n",
    "            start = start_groups[i_g]\n",
    "            end = end_groups[i_g]\n",
    "            groups_ini[:,start:end] = i_g\n",
    "            groups_ini_0[:,start:end] = i_g\n",
    "            nodos = []\n",
    "            for i_un in range(num[-1,i_g]):# If the all-labeled nodes are in the last one \n",
    "                nodo1 = np.random.randint(start,end)\n",
    "                while ((nodo1 in nodos) ):\n",
    "                    nodo1 = np.random.randint(start,end)\n",
    "                groups_ini[1:,nodo1] = group_extra # groups_ini[1:,nodo1] IF it is the first one  \n",
    "                nodos.append(nodo1)\n",
    "                labels_unkwons_ini[1:, count] = nodo1 # labels_unkwons_ini[1:,nodo1] IF it is the first one            \n",
    "                count +=1\n",
    "    return groups_ini, labels_unkwons_ini, nodos\n"
   ]
  },
  {
   "cell_type": "markdown",
   "id": "4331825a",
   "metadata": {},
   "source": [
    "## INITIAL CONDITIONS\n",
    "\n",
    "We will align the 4 last networks: L2, L3, A1, A2"
   ]
  },
  {
   "cell_type": "code",
   "execution_count": 27,
   "id": "32ce360e",
   "metadata": {},
   "outputs": [
    {
     "name": "stdout",
     "output_type": "stream",
     "text": [
      "OBSERVATIONS\n",
      "(4, 224, 224)\n"
     ]
    }
   ],
   "source": [
    "Nx = rows # Nodes\n",
    "K = 4 # Number of networks\n",
    "alpha,beta = 5,2 # Values for the beta prior distribution \n",
    "Edges = Nx*Nx \n",
    "micropasos = Edges*K #Microsteps for each MCMC\n",
    "A = np.zeros((K,Nx,Nx))\n",
    "A = M_square_bin[4:, :,:] #Only the latest four                \n",
    "print('OBSERVATIONS')  \n",
    "print(A.shape)\n",
    "####################################\n",
    "\n",
    "## INITIALIZATION ##\n",
    "\n",
    "L_ini = np.zeros((Nx,Nx))\n",
    "P_ini_0 = np.zeros((K,Nx))\n",
    "P_inv_ini_0 = np.zeros((K,Nx))\n",
    "\n",
    "# We inizialize with the Blueprint = L2\n",
    "L_ini = (A[0,:,:]).copy()\n",
    "\n",
    "groups_ini = np.zeros((K,Nx)) #Groups label\n",
    "for m1 in range(K):\n",
    "    for i_g in range(n_groups):\n",
    "        start = start_groups[i_g]\n",
    "        end = end_groups[i_g]\n",
    "        groups_ini[m1, start:end] = i_g\n",
    "        \n",
    "## Overlaps\n",
    "ovlp_ini0, ovlp_ini1 = overlap_total_prob(L_ini,A,P_inv_ini_0)\n"
   ]
  },
  {
   "cell_type": "markdown",
   "id": "781a0ed9",
   "metadata": {},
   "source": [
    "## UNKWNON LABEL: \n",
    "\n",
    "In this case we choose at the begining if we want same or different unkwon nodes (in the networks with unkwon nodes, K-1)"
   ]
  },
  {
   "cell_type": "code",
   "execution_count": 28,
   "id": "de7b9f86",
   "metadata": {},
   "outputs": [
    {
     "name": "stdout",
     "output_type": "stream",
     "text": [
      "Unkwon nodes per network\n",
      "[[225 225 225 225 225 225 225 225 225 225 225 225 225 225 225 225 225 225\n",
      "  225 225 225]\n",
      " [ 17  57  47  32  46  25  84  79 101  97 125 113 112 111 171 158 153 200\n",
      "  195 204 212]\n",
      " [ 17  57  47  32  46  25  84  79 101  97 125 113 112 111 171 158 153 200\n",
      "  195 204 212]\n",
      " [ 17  57  47  32  46  25  84  79 101  97 125 113 112 111 171 158 153 200\n",
      "  195 204 212]]\n"
     ]
    }
   ],
   "source": [
    "# chosen = 1 (same), 0(different)\n",
    "chosen_unk = 1\n",
    "\n",
    "## Now we have an extra group \n",
    "group_extra = (n_groups-1) + 1\n",
    "# Unkwon nodes prop to the group size\n",
    "num = np.zeros((K, n_groups))\n",
    "## Last networks (A2) all labeled: Change this if i want another network\n",
    "num[1:,:] = np.round(size_groups*0.1)\n",
    "\n",
    "## In the case in each network we have different quantity of unkwon (Not in this case)\n",
    "num_unk = np.zeros(K) \n",
    "for i in range(K):\n",
    "    num_unk[i] = sum(num[i,:])\n",
    "num = num.astype(int)\n",
    "num_unk = num_unk.astype(int)\n",
    "# Voy a hacer vectores del máximo. Los que no lleguen al máximo los ponemos con Nx+1 o un número alto (ahora no implementado)\n",
    "# In the case each network different quantity, we fill with (Nx+1) the spaces\n",
    "max_num = (np.amax(num_unk))\n",
    "posi_unkwons_ini = np.zeros ((K,max_num))+ (Nx+1) # Esto son los unkwons que luego voy a mezclar\n",
    "labels_unkwons_ini = np.zeros ((K,max_num)) + (Nx+1)\n",
    "groups_ini_0 = np.zeros((K,Nx))\n",
    "groups_ini = groups_ini_0.copy()\n",
    "\n",
    "groups_ini, labels_unkwons_ini, nodos = def_unkwn_nodes(chosen_unk,K,n_groups,groups_ini, labels_unkwons_ini)\n",
    "\n",
    "# Initial mapping taking into account the unkwon nodes\n",
    "P_inis = permu_groups_unk_capa1(L_ini, A, start_groups,labels_unkwons_ini,groups_ini) \n",
    "P_inis = P_inis.astype(int)\n",
    "P_ini_0 = (P_inis[0,:,:]).copy()\n",
    "P_inv_ini_0 = (P_inis[1,:,:]).copy()\n",
    "\n",
    "#Now the position of these nodes\n",
    "groups_ini = groups_ini_0.copy()\n",
    "for m1 in range(K):\n",
    "    for i_n in range(max_num):\n",
    "        label = int(labels_unkwons_ini[m1,i_n])\n",
    "        if (label != Nx+1):\n",
    "            posi_unkwons_ini[m1,i_n] = P_inv_ini_0[m1,label]\n",
    "            posi = int(P_inv_ini_0[m1,label])\n",
    "            groups_ini[m1,posi] = group_extra\n",
    "        else:\n",
    "            posi_unkwons_ini[m1,i] = Nx+1\n",
    "#Integer            \n",
    "labels_unkwons_ini_0 = labels_unkwons_ini.astype(int)\n",
    "groups_ini_0 = groups_ini.astype(int)\n",
    "posi_unkwons_ini_0 = posi_unkwons_ini.astype(int)\n",
    "labels_unkwons_ini = labels_unkwons_ini.astype(int)\n",
    "groups_ini = groups_ini.astype(int)\n",
    "posi_unkwons_ini = posi_unkwons_ini.astype(int)\n",
    "          \n",
    "print('Unkwon nodes per network')\n",
    "print(labels_unkwons_ini_0[:,:])\n",
    "\n"
   ]
  },
  {
   "cell_type": "code",
   "execution_count": 29,
   "id": "c28990de",
   "metadata": {},
   "outputs": [
    {
     "name": "stdout",
     "output_type": "stream",
     "text": [
      "# 3 unkwons: 1\n",
      "Position: [[[204]]\n",
      "\n",
      " [[158]]\n",
      "\n",
      " [[212]]\n",
      "\n",
      " [[212]]]\n"
     ]
    }
   ],
   "source": [
    "# We will propose changes when K-1 nodes are unkwon in the same position. N.B: At least we need two positions!\n",
    "\n",
    "vector_unkwn_ini = np.zeros((Nx))\n",
    "for i_x in range(Nx):\n",
    "    for m1 in range(K):\n",
    "        if ( groups_ini[m1, i_x] == group_extra):\n",
    "            vector_unkwn_ini[i_x] += 1\n",
    "\n",
    "print('# 3 unkwons:',len(np.where(vector_unkwn_ini==(K-1))[0]))\n",
    "print('Position:', P_ini_0[:,np.where(vector_unkwn_ini==(K-1))])\n"
   ]
  },
  {
   "cell_type": "code",
   "execution_count": 30,
   "id": "3ca9cde2",
   "metadata": {},
   "outputs": [
    {
     "name": "stdout",
     "output_type": "stream",
     "text": [
      "Matriz_unkwn_epochs_L2_1.pickle\n"
     ]
    }
   ],
   "source": [
    "#Store it to sample with the same nodes\n",
    "d_store={}\n",
    "string = \"Matriz_unkwn_epochs_L2_\"+str(chosen_unk)+\".pickle\"\n",
    "print(string)\n",
    "d_store[\"A\"] = A\n",
    "d_store[\"labels_unkwons_ini_0\"]= labels_unkwons_ini_0\n",
    "d_store[\"posi_unkwons_ini_0\"] = posi_unkwons_ini_0\n",
    "d_store[\"vector_unkwn_ini\"] = vector_unkwn_ini\n",
    "d_store[\"groups_ini_0\"] = groups_ini_0\n",
    "d_store[\"P_ini_0\"] = P_ini_0\n",
    "d_store[\"P_inv_ini_0\"] = P_inv_ini_0\n",
    "\n",
    "file1 = open(string,\"wb\")\n",
    "pickle.dump( d_store, file1)\n",
    "file1 = open(string,\"wb\")\n",
    "pickle.dump( d_store, file1)\n",
    "prueba = pickle.load(open(string, \"rb\"))"
   ]
  },
  {
   "cell_type": "markdown",
   "id": "c5ea5703",
   "metadata": {},
   "source": [
    "## Temperatures\n",
    "\n",
    "We are permorfing a Parallel tempering Markov Chain MonteCarlo\n",
    "\n",
    "We run our MCMC at difference temperatures (proposing changes between them), and we will sample at temper = 1"
   ]
  },
  {
   "cell_type": "code",
   "execution_count": 31,
   "id": "97bdcf86",
   "metadata": {},
   "outputs": [
    {
     "name": "stdout",
     "output_type": "stream",
     "text": [
      "betas: [0.86260878 0.88101504 0.89981405 0.91901419 0.93862401 0.95865228\n",
      " 0.9791079  1.         1.0213379  1.0431311  1.06538932 1.08812249\n",
      " 1.11134073 1.1350544  1.15927407]\n"
     ]
    }
   ],
   "source": [
    "# Temperature distributin\n",
    "beta_o = 1.03\n",
    "total = 15 # Odd name, in order to have beta = 1\n",
    "b_exp = np.linspace(-5,5,num = total)\n",
    "tempers = beta_o**b_exp # Account for 1/KT, called beta in thermodinamics\n",
    "print('betas:', tempers)\n",
    "N_t = len(tempers)\n",
    "\n",
    "## Inizialitation of the system for each temperature, with the same mappings\n",
    "P_ini_t = np.zeros((N_t,K,Nx))\n",
    "P_inv_ini_t = np.zeros((N_t,K,Nx))\n",
    "L_ini_t = np.zeros((N_t,Nx,Nx)) \n",
    "groups_ini_t = np.zeros((N_t, K, Nx ))\n",
    "groups_ini_t = np.zeros((N_t, K, Nx ))\n",
    "vector_unkwn_ini_t = np.zeros((N_t,Nx))\n",
    "posi_unkwons_ini_t , labels_unkwons_ini_t = np.zeros((N_t,K,max_num)), np.zeros((N_t,K,max_num))\n",
    "\n",
    "\n",
    "for i in range(0,N_t): \n",
    "    P_ini_t[i,:,:] = P_ini_0[:,:].copy()\n",
    "    P_inv_ini_t[i,:,:] = P_inv_ini_0[:,:].copy()\n",
    "    L_ini_t[i,:,:] = L_ini.copy()\n",
    "    posi_unkwons_ini_t[i,:,:] = posi_unkwons_ini.copy()\n",
    "    labels_unkwons_ini_t[i,:,:] = labels_unkwons_ini.copy()\n",
    "    groups_ini_t[i,:,:] = groups_ini.copy()\n",
    "    vector_unkwn_ini_t[i,:] = vector_unkwn_ini.copy()\n"
   ]
  },
  {
   "cell_type": "markdown",
   "id": "060faab1",
   "metadata": {},
   "source": [
    "# MONTE CARLO FUNCTIONS \n",
    "\n",
    "Probably some functions are easy to optimize."
   ]
  },
  {
   "cell_type": "code",
   "execution_count": 32,
   "id": "f3d43eef",
   "metadata": {},
   "outputs": [],
   "source": [
    "### Some functions that numba do not have\n",
    "@njit\n",
    "def concatenate_numba_sinrep(a,b):\n",
    "    size_a, size_b = len(a), len(b)\n",
    "    no_double = []\n",
    "    for i_b in range(size_b):\n",
    "        if b[i_b] in a:\n",
    "            size_b = size_b-1\n",
    "        else:\n",
    "            no_double.append(b[i_b])\n",
    "    size = size_a + size_b\n",
    "    c = np.zeros((size))\n",
    "    c[0:size_a] = a\n",
    "    c[size_a:] = no_double\n",
    "    \n",
    "    return a\n",
    "\n",
    "@njit\n",
    "def concatenate_numba(a,b):\n",
    "    size_a, size_b = len(a), len(b)\n",
    "    size = size_a + size_b\n",
    "    c = np.zeros((size))\n",
    "    c[0:size_a] = a\n",
    "    c[size_a:] = b \n",
    "    \n",
    "    return c\n",
    "\n",
    "@njit\n",
    "def sum_numba(S):\n",
    "    Nx = S.shape[0]\n",
    "    Ny = S.shape[1]\n",
    "    \n",
    "    suma = 0\n",
    "    for i_s in range(Nx):\n",
    "        suma = suma + sum(S[i_s,:])\n",
    "        \n",
    "    return suma\n",
    "@njit\n",
    "def sum_numba_filas(S): # 2 dimensions\n",
    "    Nx = S.shape[0]\n",
    "    Ny = S.shape[1]\n",
    "    suma = np.zeros((Nx))\n",
    "    for i_s in range(Nx):\n",
    "        suma_c = 0 # sum of the column\n",
    "        for i_y in range(Ny):\n",
    "            suma[i_s] = suma_c + S[i_y,i_s] \n",
    "        \n",
    "    return suma\n",
    "\n",
    "@njit\n",
    "def numba_choice():\n",
    "    random_val = random.randint(0, 1)  # Generate a random integer between 0 and 1\n",
    "    return 2 * random_val - 1"
   ]
  },
  {
   "cell_type": "code",
   "execution_count": 33,
   "id": "1faa255b",
   "metadata": {},
   "outputs": [],
   "source": [
    "@jit(nopython = True)\n",
    "def parallel_L_v(c_parallel,c_unlabel,alpha,beta,fijado_f,groups_f, N_groups_f, start_f, end_f,\n",
    "                       posi_unkw,labels_unkw, vector_unkw, A, P_t_f, P_inv_t_f, \n",
    "                       L_t_f,suma_L, Energy_t_f, ovlp_t_f0, ovlp_t_f1, tempers_f):\n",
    "    \n",
    "    # fijado_f : To let one of the networks fixed or not (If only two networks it doesn't matter)\n",
    "    # c_parallel: counter to change temperatures\n",
    "    # c_unlabel: counter to change unknwon nodes\n",
    "    # start_f, end,f\n",
    "    # N_groups_f: Number of groups\n",
    "    # groups_f: Directly the ggroup numbeer from the position\n",
    "    # posi_unkwn: position of the unkwons\n",
    "    # labels_unkwn : labels of the unkwons\n",
    "    # vector_unkw : number of unknwons in each position (when there is K-1 we propose the change)\n",
    "    \n",
    "    ### Movement:\n",
    "    # 1) Choose one node and see their group (also we can choose a group first)\n",
    "    # 2) Choose another random node inside this group \n",
    "    # 3) Each 4 movements, we propose change the temperatures\n",
    "    # 4) Also each some movements, mov_change , we propose a change between two unknwons\n",
    "    \n",
    "    N_t = L_t_f.shape[0] # Numbers of tempers\n",
    "    Nx = L_t_f.shape[1] # Numbers of nodes\n",
    "    K = A.shape[0] # Numbers of networks\n",
    "    Edges_sum = K*Nx*Nx\n",
    "    mov_change = int(Nx/len(posi_unkw))\n",
    "    \n",
    "    \n",
    "    if (c_parallel <4*Nx): # If not change of temperatures\n",
    "        c_parallel += 1\n",
    "        \n",
    "        #Choose the networks to propose the change (in all temperatures)\n",
    "        if (fijado_f == 1):\n",
    "            m1 = np.random.randint(K-1)+1 #One networks\n",
    "        else:\n",
    "            m1 = np.random.randint(K)    \n",
    "        \n",
    "        for k_nt in range(N_t):\n",
    "            # Counter to know the movement\n",
    "            cv1, cv2 = 0,0\n",
    "            ## 4) Movement between unkwons\n",
    "            if(c_unlabel == mov_change):\n",
    "                \n",
    "                c_unlabel = 0\n",
    "                end_v = np.where(posi_unkw[k_nt,m1,:] == Nx+1)[0]\n",
    "                if (len(end_v)>= 1):\n",
    "                    end_p = np.where(posi_unkw[k_nt,m1,:] == Nx+1)[0][0] #The first one (in cases each network different number)\n",
    "                else:\n",
    "                    end_p = len(labels_unkw[0,0,:])\n",
    "                \n",
    "               \n",
    "                if (end_p > 1):   \n",
    "                    pos_aux = np.random.randint( 0,end_p)\n",
    "                    v1 = labels_unkw[k_nt, m1,pos_aux]\n",
    "                    v1_mapping = posi_unkw[k_nt, m1,pos_aux]\n",
    "\n",
    "                    pos_aux = np.random.randint( 0, end_p)\n",
    "                    v2 = labels_unkw[k_nt, m1,pos_aux]\n",
    "                    while (v1 == v2):\n",
    "                        pos_aux = np.random.randint(end_p)\n",
    "                        v2 = labels_unkw[k_nt, m1,pos_aux]\n",
    "\n",
    "                    v2_mapping = posi_unkw[k_nt, m1,pos_aux]\n",
    "\n",
    "                    # we have change the unkwons\n",
    "                    # vector_unkn has NOT change \n",
    "                    cv1, cv2 = 1, 1                    \n",
    "                else:\n",
    "                    continue\n",
    "                \n",
    "            else: \n",
    "                \n",
    "                # 1) Choose a random node (node in A)\n",
    "                v1_mapping = np.random.randint(start_f[0], Nx)\n",
    "                # Inside the group:\n",
    "                grupo = groups_f[k_nt,m1,v1_mapping]\n",
    "                while (grupo == N_groups_f): #at least one of them with a known label\n",
    "                    v1_mapping = np.random.randint(start_f[0], Nx)\n",
    "                    grupo = groups_f[k_nt,m1,v1_mapping]\n",
    "                    \n",
    "                start, end = start_f[grupo], end_f[grupo]\n",
    "                size_group = end - start\n",
    "                todos = size_group \n",
    "                if (size_group > 1): \n",
    "\n",
    "                    v2_mapping = np.random.randint(start, end)\n",
    "                    while (v2_mapping == v1_mapping):\n",
    "                        v2_mapping = np.random.randint(start, end)\n",
    "\n",
    "                    # Nodes in L\n",
    "                    v1 = P_t_f[k_nt, m1, v1_mapping]\n",
    "                    v2 = P_t_f[k_nt, m1, v2_mapping]\n",
    "                    #print('v1,v2', v1,v2)\n",
    "                    \n",
    "                    n_type1 = groups_f[k_nt, m1, v1_mapping]\n",
    "                    n_type2 = groups_f[k_nt, m1, v2_mapping]\n",
    "                    if (n_type1 == N_groups_f):\n",
    "                        cv1 = 1 # v1_mapping was unlabel, the vector_unkw will change\n",
    "                    if (n_type2 == N_groups_f):\n",
    "                        cv2 = 1 # v2_mapping was unlabel, the vector_unkw will change\n",
    "\n",
    "                 ### Only changes in the specific columns and rows\n",
    "                L_f_v1v2, L_f_v1v2_old = np.zeros((2,Nx)),np.zeros((2,Nx))\n",
    "                L_c_v1v2, L_c_v1v2_old = np.zeros((2,Nx)),np.zeros((2,Nx))\n",
    "\n",
    "                pp_1 = int(P_inv_t_f[k_nt,m1,v2]) # v2_mapping\n",
    "                pp_2 = int(P_inv_t_f[k_nt,m1,v1]) # v1_mapping\n",
    "\n",
    "                # Changes in the blueprint\n",
    "                L_f_v1v2,L_c_v1v2 , suma_aux = L_wiring_change_filas(m1,L_t_f[k_nt,:,:], A, v1, v2, P_inv_t_f[k_nt,:,:])\n",
    "                L_f_v1v2_old[0,:],L_f_v1v2_old[1,:] = L_t_f[k_nt,v1,:].copy(),L_t_f[k_nt,v2,:].copy()\n",
    "                L_c_v1v2_old[0,:],L_c_v1v2_old[1,:] = L_t_f[k_nt,:,v1].copy(),L_t_f[k_nt,:,v2].copy()\n",
    "\n",
    "                # Parameters to change\n",
    "                Edges_L = K*(suma_L[k_nt] + suma_aux)\n",
    "                Edges_NoL = Edges_sum - Edges_L\n",
    "                ovl_0_new, ovl_1_new = overlap_total_change_filas(m1,L_f_v1v2_old,L_c_v1v2_old,L_f_v1v2,L_c_v1v2 ,A,P_inv_t_f[k_nt,:,:], v1,v2, pp_1, pp_2)\n",
    "                overlap_0,overlap_1 = ovlp_t_f0[k_nt] + ovl_0_new, ovlp_t_f1[k_nt] + ovl_1_new\n",
    "                Energy_bucle = hamiltonian_prob(Edges_NoL, Edges_L, overlap_0,overlap_1,alpha, beta)\n",
    "                dE_sampler = Energy_bucle - Energy_t_f[k_nt]\n",
    "                dE_t = dE_sampler\n",
    "\n",
    "                # UPDATE\n",
    "\n",
    "                if (dE_t < 0):\n",
    "\n",
    "                    if (cv1 == 1 or cv2 == 1):\n",
    "                        if (cv1 == 1 and cv2 == 1):  #both unkwons\n",
    "                            posi1 = np.where(labels_unkw[k_nt,m1,:] == v1)[0][0]\n",
    "                            posi2 = np.where(labels_unkw[k_nt,m1,:] == v2)[0][0]\n",
    "                            posi_unkw[k_nt,m1,posi1] = pp_1\n",
    "                            posi_unkw[k_nt,m1,posi2] = pp_2\n",
    "\n",
    "                        elif (cv2 == 1): #Unkwons the first one\n",
    "                            posi = np.where(labels_unkw[k_nt,m1,:] == v2)[0][0]\n",
    "                            posi_unkw[k_nt,m1,posi] = pp_2 #The position of v1\n",
    "                            vector_unkw[k_nt, v2_mapping] -=1\n",
    "                            vector_unkw[k_nt, v1_mapping] += 1\n",
    "\n",
    "                        elif (cv1 == 1 ): #Unkwons the second one\n",
    "                            posi = np.where(labels_unkw[k_nt,m1,:] == v1)[0][0]\n",
    "                            posi_unkw[k_nt,m1,posi] = pp_1 #La posición que tenía v2\n",
    "                            vector_unkw[k_nt, v1_mapping] -=1\n",
    "                            vector_unkw[k_nt, v2_mapping] += 1\n",
    "\n",
    "                        # Change in group labels\n",
    "                        groups_aux1 = groups_f[k_nt, m1,pp_2]\n",
    "                        groups_f[k_nt, m1, pp_2] = groups_f[k_nt, m1,pp_1]\n",
    "                        groups_f[k_nt, m1, pp_1] = groups_aux1\n",
    "\n",
    "                    # Update mapping\n",
    "                    P_aux1 = P_t_f[k_nt, m1,pp_2]\n",
    "                    P_t_f[k_nt, m1, pp_2] = P_t_f[k_nt, m1,pp_1]\n",
    "                    P_t_f[k_nt, m1, pp_1] = P_aux1\n",
    "\n",
    "                    P_invaux1 = P_inv_t_f[k_nt,m1,v2]\n",
    "                    P_inv_t_f[k_nt,m1,v2] = P_inv_t_f[k_nt,m1,v1]\n",
    "                    P_inv_t_f[k_nt,m1,v1] = P_invaux1\n",
    "\n",
    "                    Energy_t_f[k_nt] = Energy_t_f[k_nt] + dE_t\n",
    "                    ovlp_t_f0[k_nt] = overlap_0\n",
    "                    ovlp_t_f1[k_nt] = overlap_1\n",
    "                    L_t_f[k_nt,v1, :],L_t_f[k_nt,v2, :] = L_f_v1v2[0,:].copy(),L_f_v1v2[1,:].copy()\n",
    "                    L_t_f[k_nt,:,v1],L_t_f[k_nt,:,v2] = L_c_v1v2[0,:].copy(),L_c_v1v2[1,:].copy()\n",
    "                    suma_L[k_nt] = suma_L[k_nt] + suma_aux\n",
    "\n",
    "\n",
    "                elif (np.random.rand() < np.exp(-dE_t*tempers_f[k_nt])):\n",
    "                    if (cv1 == 1 or cv2 == 1):\n",
    "                        if (cv1 == 1 and cv2 == 1):  #both unkwons\n",
    "                            posi1 = np.where(labels_unkw[k_nt,m1,:] == v1)[0][0]\n",
    "                            posi2 = np.where(labels_unkw[k_nt,m1,:] == v2)[0][0]\n",
    "                            posi_unkw[k_nt,m1,posi1] = pp_1\n",
    "                            posi_unkw[k_nt,m1,posi2] = pp_2\n",
    "\n",
    "                        elif (cv2 == 1): #Unkwons the first one\n",
    "                            posi = np.where(labels_unkw[k_nt,m1,:] == v2)[0][0]\n",
    "                            posi_unkw[k_nt,m1,posi] = pp_2 #The position of v1\n",
    "                            vector_unkw[k_nt, v2_mapping] -=1\n",
    "                            vector_unkw[k_nt, v1_mapping] += 1\n",
    "\n",
    "                        elif (cv1 == 1 ): #Unkwons the second one\n",
    "                            posi = np.where(labels_unkw[k_nt,m1,:] == v1)[0][0]\n",
    "                            posi_unkw[k_nt,m1,posi] = pp_1 #The position of v2\n",
    "                            vector_unkw[k_nt, v1_mapping] -=1\n",
    "                            vector_unkw[k_nt, v2_mapping] += 1\n",
    "\n",
    "                        # Change in group labels\n",
    "                        groups_aux1 = groups_f[k_nt, m1,pp_2]\n",
    "                        groups_f[k_nt, m1, pp_2] = groups_f[k_nt, m1,pp_1]\n",
    "                        groups_f[k_nt, m1, pp_1] = groups_aux1\n",
    "\n",
    "                    # Update mapping\n",
    "                    P_aux1 = P_t_f[k_nt, m1,pp_2]\n",
    "                    P_t_f[k_nt, m1, pp_2] = P_t_f[k_nt, m1,pp_1]\n",
    "                    P_t_f[k_nt, m1, pp_1] = P_aux1\n",
    "\n",
    "                    P_invaux1 = P_inv_t_f[k_nt,m1,v2]\n",
    "                    P_inv_t_f[k_nt,m1,v2] = P_inv_t_f[k_nt,m1,v1]\n",
    "                    P_inv_t_f[k_nt,m1,v1] = P_invaux1\n",
    "\n",
    "                    Energy_t_f[k_nt] = Energy_t_f[k_nt] + dE_t\n",
    "                    ovlp_t_f0[k_nt] = overlap_0\n",
    "                    ovlp_t_f1[k_nt] = overlap_1\n",
    "                    L_t_f[k_nt,v1, :],L_t_f[k_nt,v2, :] = L_f_v1v2[0,:].copy(),L_f_v1v2[1,:].copy()\n",
    "                    L_t_f[k_nt,:,v1],L_t_f[k_nt,:,v2] = L_c_v1v2[0,:].copy(),L_c_v1v2[1,:].copy()\n",
    "                    suma_L[k_nt] = suma_L[k_nt] + suma_aux\n",
    "\n",
    "    else: # Change in temperatures\n",
    "        c_parallel = 0 \n",
    "        \n",
    "        mt1 = np.random.randint(N_t)  #temper 1\n",
    "        mt2 =  mt1 + numba_choice()#temper 2\n",
    "        while (mt1 == mt2):\n",
    "            mt2 =  mt1 + numba_choice()\n",
    "        if (mt2 == N_t ):\n",
    "            mt2 = N_t-2\n",
    "\n",
    "        Energy_1 = Energy_t_f[mt1]\n",
    "        Energy_2 = Energy_t_f[mt2] \n",
    "\n",
    "        dE_parallel = -(tempers_f[mt1]-tempers_f[mt2])*(Energy_1-Energy_2)\n",
    "        if (dE_parallel <0):\n",
    "            P_aux1 = (P_t_f[mt1, :, :]).copy()\n",
    "            P_inv_aux1 = (P_inv_t_f[mt1,:,:]).copy()\n",
    "            L_aux1 = (L_t_f[mt1,:,:]).copy()\n",
    "\n",
    "            groups_aux = groups_f[mt1,:,:].copy()\n",
    "            posi_aux = posi_unkw[mt1,:,:].copy()\n",
    "            label_aux = labels_unkw[mt1,:,:].copy()\n",
    "            vector_aux = vector_unkw[mt1,:].copy()\n",
    "\n",
    "            ovlp_aux0 = (ovlp_t_f0[mt1])\n",
    "            ovlp_aux1 = (ovlp_t_f1[mt1])\n",
    "            suma_aux = suma_L[mt1]\n",
    "            \n",
    "            # 1 --> 2\n",
    "            Energy_t_f[mt1] = Energy_2\n",
    "            P_t_f[mt1,:,:] = (P_t_f[mt2, :, :]).copy()\n",
    "            P_inv_t_f[mt1,:,:] = (P_inv_t_f[mt2,:,:]).copy()\n",
    "            L_t_f[mt1,:,:] = (L_t_f[mt2,:,:]).copy()\n",
    "\n",
    "            groups_f[mt1,:,:] = groups_f[mt2,:,:].copy()\n",
    "            posi_unkw[mt1,:,:] = posi_unkw[mt2,:,:].copy()\n",
    "            labels_unkw[mt1,:,:] = labels_unkw[mt2,:,:].copy()\n",
    "            vector_unkw[mt1,:] = vector_unkw[mt2,:].copy()\n",
    "\n",
    "            ovlp_t_f0[mt1] = ovlp_t_f0[mt2]\n",
    "            ovlp_t_f1[mt1] = ovlp_t_f1[mt2]\n",
    "            suma_L[mt1] = suma_L[mt2]\n",
    "            \n",
    "            # 2 --> 1\n",
    "            Energy_t_f[mt2] = Energy_1\n",
    "            P_t_f[mt2,:,:] = P_aux1.copy()\n",
    "            P_inv_t_f[mt2,:,:] = P_inv_aux1.copy()\n",
    "            L_t_f[mt2,:,:] = L_aux1.copy()\n",
    "\n",
    "            groups_f[mt2,:,:] = groups_aux.copy()\n",
    "            posi_unkw[mt2,:,:] = posi_aux.copy()\n",
    "            labels_unkw[mt2,:,:] = label_aux.copy()\n",
    "            vector_unkw[mt2,:] = vector_aux\n",
    "\n",
    "            ovlp_t_f0[mt2] = ovlp_aux0\n",
    "            ovlp_t_f1[mt2] = ovlp_aux1\n",
    "            suma_L[mt2] = suma_aux\n",
    "\n",
    "        elif (np.random.rand() < np.exp(-dE_parallel)):\n",
    "            P_aux1 = (P_t_f[mt1, :, :]).copy()\n",
    "            P_inv_aux1 = (P_inv_t_f[mt1,:,:]).copy()\n",
    "            L_aux1 = (L_t_f[mt1,:,:]).copy()\n",
    "\n",
    "            groups_aux = groups_f[mt1,:,:].copy()\n",
    "            posi_aux = posi_unkw[mt1,:,:].copy()\n",
    "            label_aux = labels_unkw[mt1,:,:].copy()\n",
    "            vector_aux = vector_unkw[mt1,:].copy()\n",
    "\n",
    "            ovlp_aux0 = (ovlp_t_f0[mt1])\n",
    "            ovlp_aux1 = (ovlp_t_f1[mt1])\n",
    "            suma_aux = suma_L[mt1]\n",
    "            \n",
    "            # 1 --> 2\n",
    "            Energy_t_f[mt1] = Energy_2\n",
    "            P_t_f[mt1,:,:] = (P_t_f[mt2, :, :]).copy()\n",
    "            P_inv_t_f[mt1,:,:] = (P_inv_t_f[mt2,:,:]).copy()\n",
    "            L_t_f[mt1,:,:] = (L_t_f[mt2,:,:]).copy()\n",
    "\n",
    "            groups_f[mt1,:,:] = groups_f[mt2,:,:].copy()\n",
    "            posi_unkw[mt1,:,:] = posi_unkw[mt2,:,:].copy()\n",
    "            labels_unkw[mt1,:,:] = labels_unkw[mt2,:,:].copy()\n",
    "            vector_unkw[mt1,:] = vector_unkw[mt2,:].copy()\n",
    "\n",
    "            ovlp_t_f0[mt1] = ovlp_t_f0[mt2]\n",
    "            ovlp_t_f1[mt1] = ovlp_t_f1[mt2]\n",
    "            suma_L[mt1] = suma_L[mt2]\n",
    "            \n",
    "            # 2 --> 1\n",
    "            Energy_t_f[mt2] = Energy_1\n",
    "            P_t_f[mt2,:,:] = P_aux1.copy()\n",
    "            P_inv_t_f[mt2,:,:] = P_inv_aux1.copy()\n",
    "            L_t_f[mt2,:,:] = L_aux1.copy()\n",
    "\n",
    "            groups_f[mt2,:,:] = groups_aux.copy()\n",
    "            posi_unkw[mt2,:,:] = posi_aux.copy()\n",
    "            labels_unkw[mt2,:,:] = label_aux.copy()\n",
    "            vector_unkw[mt2,:] = vector_aux\n",
    "\n",
    "            ovlp_t_f0[mt2] = ovlp_aux0\n",
    "            ovlp_t_f1[mt2] = ovlp_aux1\n",
    "            suma_L[mt2] = suma_aux\n",
    "\n",
    "\n",
    "    return c_parallel, c_unlabel, P_t_f, P_inv_t_f,Energy_t_f, ovlp_t_f0, ovlp_t_f1, L_t_f, posi_unkw, groups_f,vector_unkw, suma_L"
   ]
  },
  {
   "cell_type": "code",
   "execution_count": 34,
   "id": "7e1a8604",
   "metadata": {},
   "outputs": [],
   "source": [
    "@jit(nopython=True)\n",
    "def overlap_total_change_filas(m1,L_f_v1v2_old,L_c_v1v2_old,L_f_v1v2,L_c_v1v2,A_f, P_inv_old, i_change, j_change,pp1, pp2): \n",
    "\n",
    "    Nx = L_f_v1v2_old.shape[1]\n",
    "    K = A_f.shape[0]\n",
    "    \n",
    "    ovlp_0_new , ovlp_1_new = 0,0\n",
    "    ovlp_0_old , ovlp_1_old = 0,0\n",
    "    ovlp_0_dif, ovlp_1_dif = 0,0\n",
    "  \n",
    "    #old and new: changes and mapping changes\n",
    "    changes = np.array([i_change, j_change], dtype = np.int32)\n",
    "    changes_p = np.array([pp1, pp2], dtype = np.int32)  \n",
    "    changes_old = np.array([j_change, i_change], dtype = np.int32)\n",
    "    changes_p_old = np.array([pp2, pp1], dtype = np.int32)\n",
    "    \n",
    "    for i_k in range(K):\n",
    "        for i_chan,change in enumerate(changes):\n",
    "            for i_x in range(Nx):\n",
    "                if (i_k != m1): # Only changes in the networks m1\n",
    "                    p_f = int(P_inv_old[i_k,change])\n",
    "                    p_c = int(P_inv_old[i_k,i_x])\n",
    "                    p_old, p_old_c = p_f, p_c\n",
    "                \n",
    "                else:\n",
    "                    p_f = changes_p[i_chan]\n",
    "                    p_old = changes_p_old[i_chan]\n",
    "                    if (i_x == i_change):\n",
    "                        p_c = pp1\n",
    "                        p_old_c = pp2\n",
    "                    elif(i_x == j_change):\n",
    "                        p_c = pp2\n",
    "                        p_old_c = pp1\n",
    "                    else: # Only changes in the nodes i,j\n",
    "                        p_c = int(P_inv_old[i_k, i_x])\n",
    "                        p_old_c = p_c\n",
    "\n",
    "                ## rows\n",
    "                valor_L_old, valor_A_old = L_f_v1v2_old[i_chan,i_x], A_f[i_k,p_old,p_old_c]   \n",
    "                valor_L_new, valor_A_new = L_f_v1v2[i_chan,i_x], A_f[i_k,p_f,p_c]\n",
    "                ## columns\n",
    "                valor_L_old_c, valor_A_old_c = 0,0\n",
    "                valor_L_new_c, valor_A_new_c = 0,0\n",
    "                column = 0\n",
    "                if (i_x not in changes):\n",
    "                    column = 1\n",
    "                    valor_L_old_c, valor_A_old_c = L_c_v1v2_old[i_chan,i_x],A_f[i_k,p_old_c, p_old]\n",
    "                    valor_L_new_c, valor_A_new_c = L_c_v1v2[i_chan,i_x], A_f[i_k,p_c,p_f]\n",
    "\n",
    "                ovlp_1_old = ovlp_1_old + valor_L_old*valor_A_old + valor_L_old_c*valor_A_old_c*column\n",
    "                ovlp_0_old = ovlp_0_old + (1-valor_L_old)*(1-valor_A_old) + (1-valor_L_old_c)*(1-valor_A_old_c)*column\n",
    "                \n",
    "                ovlp_1_new = ovlp_1_new + valor_L_new*valor_A_new + valor_L_new_c*valor_A_new_c*column\n",
    "                ovlp_0_new = ovlp_0_new + (1-valor_L_new)*(1-valor_A_new) + (1-valor_L_new_c)*(1-valor_A_new_c)*column\n",
    "                \n",
    "    ovlp_1_def = ovlp_1_new - ovlp_1_old\n",
    "    ovlp_0_def = ovlp_0_new- ovlp_0_old\n",
    "   \n",
    "    return ovlp_0_def, ovlp_1_def\n",
    "\n",
    "@jit(nopython=True)\n",
    "def L_wiring_change_filas(m1,L_old,A_f, i_change, j_change, P_inv_old):\n",
    "    \n",
    "    Nx = A_f.shape[1]\n",
    "    K = A_f.shape[0] \n",
    "    \n",
    "    L_new_f = L_old.copy()\n",
    "    L_f_v1v2,L_c_v1v2  = np.zeros((2,Nx)),np.zeros((2,Nx))\n",
    "    \n",
    "    ## changes\n",
    "    changes = np.array([i_change, j_change])\n",
    "    changes_new = np.array([j_change, i_change])\n",
    "    \n",
    "    ## Old values\n",
    "    suma_old =(np.sum(L_old[i_change,:]) + np.sum(L_old[j_change,:]) + np.sum(L_old[:,i_change]) + np.sum(L_old[:,j_change]))-L_old[i_change,j_change]-L_old[j_change,j_change]-L_old[i_change,i_change]-L_old[j_change,i_change]\n",
    "    \n",
    "    ## New row and column\n",
    "    L_new_f[i_change,:], L_new_f[j_change,:], L_new_f[:,i_change], L_new_f[:,j_change] = np.zeros(Nx),np.zeros(Nx),np.zeros(Nx),np.zeros(Nx)\n",
    "    \n",
    "\n",
    "    suma_1 = 0\n",
    "    ## ROWS\n",
    "    for i_i,i_chan in enumerate(changes): #Only looking at the \n",
    "        for i_x in range(Nx):\n",
    "            if (i_x not in changes): # The rest of nodes\n",
    "                for k in range(K):\n",
    "                    if (k == m1):\n",
    "                        chan_new = changes_new[i_i]\n",
    "                    else:\n",
    "                        chan_new = changes[i_i]\n",
    "                    p1_2 = int (P_inv_old[k,chan_new])\n",
    "                    p2_2 = int(P_inv_old[k,i_x])\n",
    "                    \n",
    "                    L_f_v1v2[i_i,i_x] += A_f[k,p1_2,p2_2]\n",
    "\n",
    "            else: # The nodes that change\n",
    "                for k in range(K):\n",
    "                    if (k == m1):\n",
    "                        chan_new = changes_new[i_i]\n",
    "                        \n",
    "                        if (i_x == changes_new[0]):\n",
    "                            p2_2 = int(P_inv_old[k,changes_new[1]])\n",
    "                        else:\n",
    "                            p2_2 = int(P_inv_old[k,changes_new[0]])\n",
    "                    else:\n",
    "                        chan_new = changes[i_i]\n",
    "                        p2_2 = int(P_inv_old[k,i_x])\n",
    "                    p1_2 = int (P_inv_old[k,chan_new])\n",
    "\n",
    "                    L_f_v1v2[i_i,i_x] += A_f[k,p1_2,p2_2]\n",
    "                    \n",
    "            valor_lnew_2=1/K*  L_f_v1v2[i_i,i_x]\n",
    "            L_f_v1v2[i_i,i_x] = round( valor_lnew_2 )\n",
    "            \n",
    "                    \n",
    "    ## COLUMNS \n",
    "    for j_j,j_chan in enumerate(changes):\n",
    "        for i_x in range(Nx):\n",
    "            changes_x = 0\n",
    "            if (i_x not in changes):\n",
    "                for k in range(K):\n",
    "                    \n",
    "                    if (k == m1):\n",
    "                        chan_new = changes_new[j_j]\n",
    "                    else:\n",
    "                        chan_new = changes[j_j]\n",
    "                        \n",
    "                    p1_2 = int (P_inv_old[k,chan_new])\n",
    "                    p2_2 = int(P_inv_old[k,i_x])\n",
    "                    L_c_v1v2[j_j,i_x] += A_f[k,p2_2,p1_2]\n",
    "                \n",
    "                valor_lnew_2=1/K* L_c_v1v2[j_j,i_x]\n",
    "                L_c_v1v2[j_j,i_x] = round( valor_lnew_2)\n",
    "\n",
    "                    \n",
    "            else: # the changes are the same as the columns\n",
    "                changes_x = 1\n",
    "                if (i_x == j_chan):\n",
    "                    L_c_v1v2[j_j,i_x] =  L_f_v1v2[j_j,i_x]\n",
    "                else:\n",
    "                    i_x_inv = changes[j_j]\n",
    "                    if (j_j  == 0):\n",
    "                        L_c_v1v2[j_j,i_x] =  L_f_v1v2[1,i_x_inv]\n",
    "\n",
    "                    else:\n",
    "                        L_c_v1v2[j_j,i_x] =  L_f_v1v2[0,i_x_inv]\n",
    "           \n",
    "    suma_new = np.sum(L_f_v1v2[0,:]) + np.sum(L_f_v1v2[1,:]) + np.sum(L_c_v1v2[0,:]) + np.sum(L_c_v1v2[1,:])-L_c_v1v2[0,j_change]-L_c_v1v2[0,i_change]-L_c_v1v2[1,j_change]-L_c_v1v2[1,i_change]\n",
    "    suma_1 = suma_new - suma_old\n",
    "    return L_f_v1v2,L_c_v1v2, suma_1"
   ]
  },
  {
   "cell_type": "code",
   "execution_count": 35,
   "id": "6d44f970",
   "metadata": {},
   "outputs": [],
   "source": [
    "# Each some steps we propose a change between the two position where K-1 networks have unkwnown labels\n",
    "# We choose one randomly and then look for its better change (~Gibbs algorithm)\n",
    "\n",
    "### N.B: This algorithm is valid where the known nodes are in the last networks. \n",
    "### If the labeled nodes are not always there we need np.where() or having an extra vector with the number of networks [Slower for our specific case]\n",
    "\n",
    "@jit(nopython = True)\n",
    "def change_unlabels_gibbs_1knwon(alpha,beta,groups_f, N_groups_f, posi_unkw,labels_unkw, vector_unkw, \n",
    "                        A, P_t_f, P_inv_t_f,  L_t_f, Energy_t_f, ovlp_t_f0, ovlp_t_f1, tempers_f):\n",
    "    N_t = L_t_f.shape[0]\n",
    "    Nx = L_t_f.shape[1]\n",
    "    K = A.shape[0]\n",
    "    Edges_sum = K*Nx*Nx\n",
    "    \n",
    "    ### Network with all known\n",
    "    capa_1 = 0\n",
    "    \n",
    "    for k_nt in range(N_t):\n",
    "   \n",
    "        posiciones_6 = np.where(vector_unkw[k_nt,:] == (K-1))[0]\n",
    "        num_6 = len(posiciones_6) \n",
    "        if (num_6 >1): # We need two positions\n",
    "            Energies_sampler = np.zeros((num_6)) \n",
    "            v1_j = np.random.randint(num_6)\n",
    "            v1_mapping = posiciones_6[v1_j]\n",
    "            Energies_sampler[v1_j] = 0 \n",
    "\n",
    "            for j_sampler in range(num_6):\n",
    "                v2_mapping = posiciones_6[j_sampler]\n",
    "                if (v1_mapping != v2_mapping):\n",
    "\n",
    "                    L_aux = np.zeros((Nx,Nx)) \n",
    "                    P_inv_new_t = (P_inv_t_f).copy()\n",
    "\n",
    "                    for capa in range(K):\n",
    "                        if(capa == capa_1): #The network with all knowns\n",
    "                            continue\n",
    "                        else:  \n",
    "                            v1 = P_t_f[k_nt, capa, v1_mapping]\n",
    "                            v2 = P_t_f[k_nt, capa, v2_mapping]\n",
    "\n",
    "                            P_inv_new_t[k_nt,capa,v1] = (P_inv_t_f[k_nt,capa,v2])\n",
    "                            P_inv_new_t[k_nt,capa,v2] = (P_inv_t_f[k_nt,capa,v1]) \n",
    "                    L_aux = L_wiring(A, P_inv_new_t[k_nt, :,:])\n",
    "                    Edges_L = K*sum_numba(L_aux)\n",
    "                    Edges_NoL = Edges_sum - Edges_L\n",
    "                    overlap_0, overlap_1 = overlap_total_prob(L_aux,A,P_inv_new_t[k_nt,:,:])\n",
    "                    E_bucle = hamiltonian_prob(Edges_NoL, Edges_L, overlap_0,overlap_1,alpha, beta) \n",
    "                    Energies_sampler[j_sampler] = E_bucle  - Energy_t_f[k_nt]\n",
    "\n",
    "\n",
    "            cambio = np.argmin(Energies_sampler)\n",
    "            v2_mapping = posiciones_6[cambio]\n",
    "\n",
    "            if (v1_mapping != v2_mapping):\n",
    "                for capa in range(K):\n",
    "                    if(capa == capa_1): \n",
    "                        continue\n",
    "                    else:\n",
    "                        # el v1_mapping and v2_mapping same for all (positions). v1,v2 not (the labels)\n",
    "                        v1 = P_t_f[k_nt, capa, v1_mapping]\n",
    "                        v2 = P_t_f[k_nt, capa, v2_mapping]\n",
    "\n",
    "                        posi1 = np.where(labels_unkw[k_nt,capa,:] == v1)[0][0]\n",
    "                        posi2 = np.where(labels_unkw[k_nt,capa,:] == v2)[0][0]\n",
    "                        posi_unkw[k_nt,capa,posi1] = v2_mapping\n",
    "                        posi_unkw[k_nt,capa,posi2] = v1_mapping\n",
    "\n",
    "                        #Update P\n",
    "                        pp_1 = int(P_inv_t_f[k_nt, capa, v1]) \n",
    "                        pp_2 = int(P_inv_t_f[k_nt, capa, v2])\n",
    "\n",
    "                        P_aux1 = P_t_f[k_nt, capa,pp_2]\n",
    "                        P_t_f[k_nt, capa, pp_2] = P_t_f[k_nt, capa,pp_1]\n",
    "                        P_t_f[k_nt, capa, pp_1] = P_aux1\n",
    "\n",
    "                        P_invaux1 = P_inv_t_f[k_nt,capa,v2]\n",
    "                        P_inv_t_f[k_nt,capa,v2] = P_inv_t_f[k_nt,capa,v1]\n",
    "                        P_inv_t_f[k_nt,capa,v1] = P_invaux1\n",
    "\n",
    "                L_aux = L_wiring(A, P_inv_t_f[k_nt, :,:])\n",
    "                Edges_L = K*sum_numba(L_aux)\n",
    "                Edges_NoL = Edges_sum - Edges_L\n",
    "                overlap_0, overlap_1 = overlap_total_prob(L_aux,A,P_inv_t_f[k_nt,:,:])\n",
    "                Energy_t_f[k_nt] = hamiltonian_prob(Edges_NoL, Edges_L, overlap_0,overlap_1,alpha, beta) \n",
    "                ovlp_t_f0[k_nt] = overlap_0\n",
    "                ovlp_t_f1[k_nt] = overlap_1\n",
    "                L_t_f[k_nt,:, :] = L_aux.copy()\n",
    "\n",
    "    return P_t_f, P_inv_t_f,Energy_t_f, ovlp_t_f0, ovlp_t_f1, L_t_f, posi_unkw"
   ]
  },
  {
   "cell_type": "markdown",
   "id": "d26bc917",
   "metadata": {},
   "source": [
    "# Running MonteCarlo"
   ]
  },
  {
   "cell_type": "code",
   "execution_count": 36,
   "id": "078591b2",
   "metadata": {},
   "outputs": [],
   "source": [
    "fijado = 0 # Para saber si fijar la primera red o no"
   ]
  },
  {
   "cell_type": "code",
   "execution_count": 37,
   "id": "6af79cf7",
   "metadata": {},
   "outputs": [
    {
     "name": "stdout",
     "output_type": "stream",
     "text": [
      "Energy with the reference mapping: 16019.663954670905\n",
      "overlap_0: 192861 /overlap_1: 4653\n",
      "%Overlaps: 98.41059470663265 %\n"
     ]
    }
   ],
   "source": [
    "P_new, P_inv_new = np.zeros((K,Nx)),np.zeros((K,Nx))\n",
    "for k in range(0,K):\n",
    "    for i in range(0,Nx):\n",
    "        P_new[k,i]=i \n",
    "        P_inv_new[k,i]=i            \n",
    "L_new = np.zeros((Nx,Nx)) \n",
    "L_new =  L_wiring(A, P_inv_new)\n",
    "\n",
    "Edges_sum = K*Nx*Nx\n",
    "Edges_L = K*(sum(sum(L_new))) # Los edges=1 que tiene la matriz A\n",
    "Edges_NoL = Edges_sum - Edges_L #Los edges=0 que tiene la matriz A\n",
    "overlap_0, overlap_1 = overlap_total_prob(L_new,A,P_inv_new)     \n",
    "Energy_new = hamiltonian_prob(Edges_NoL, Edges_L, overlap_0, overlap_1, alpha, beta)\n",
    "print('Energy with the reference mapping:', Energy_new)\n",
    "print( 'overlap_0:', overlap_0,'/overlap_1:', overlap_1)\n",
    "print('%Overlaps:',100*(overlap_0+overlap_1)/Edges_sum ,'%')\n"
   ]
  },
  {
   "cell_type": "code",
   "execution_count": 38,
   "id": "20a6fd4f",
   "metadata": {},
   "outputs": [
    {
     "name": "stdout",
     "output_type": "stream",
     "text": [
      "labels unkwon: [225 225 225 225 225 225 225 225 225 225 225 225 225 225 225 225 225 225\n",
      " 225 225 225]\n",
      "Energy with the reference mapping: 16019.663954670905\n",
      "overlap_0: 192861 /overlap_1: 4653\n",
      "%Overlaps: 98.41059470663265 %\n",
      "\n",
      "Initial energy with L = A[0]: 64.73048223888327\n",
      "\n",
      "Energy with L_wiring: 31059.248274906455\n",
      "overlaps 0: 193186 1: 282\n",
      "%Overlaps: 96.39469068877551 %\n"
     ]
    },
    {
     "name": "stderr",
     "output_type": "stream",
     "text": [
      " 18%|██████▌                             | 5500/30000 [29:12<3:25:12,  1.99it/s]"
     ]
    },
    {
     "name": "stdout",
     "output_type": "stream",
     "text": [
      "Step 5500 Energy (temper = 1): 17151.05030806186\n"
     ]
    },
    {
     "name": "stderr",
     "output_type": "stream",
     "text": [
      " 20%|███████▏                            | 6000/30000 [33:21<3:19:34,  2.00it/s]"
     ]
    },
    {
     "name": "stdout",
     "output_type": "stream",
     "text": [
      "Step 6000 Energy (temper = 1): 17088.5192168856\n"
     ]
    },
    {
     "name": "stderr",
     "output_type": "stream",
     "text": [
      " 22%|███████▊                            | 6500/30000 [37:24<3:02:51,  2.14it/s]"
     ]
    },
    {
     "name": "stdout",
     "output_type": "stream",
     "text": [
      "Step 6500 Energy (temper = 1): 17133.71888790011\n"
     ]
    },
    {
     "name": "stderr",
     "output_type": "stream",
     "text": [
      " 23%|████████▍                           | 7000/30000 [41:27<3:16:09,  1.95it/s]"
     ]
    },
    {
     "name": "stdout",
     "output_type": "stream",
     "text": [
      "Step 7000 Energy (temper = 1): 16981.080639638058\n"
     ]
    },
    {
     "name": "stderr",
     "output_type": "stream",
     "text": [
      " 25%|█████████                           | 7500/30000 [45:34<3:01:05,  2.07it/s]"
     ]
    },
    {
     "name": "stdout",
     "output_type": "stream",
     "text": [
      "Step 7500 Energy (temper = 1): 17026.22457246468\n"
     ]
    },
    {
     "name": "stderr",
     "output_type": "stream",
     "text": [
      " 27%|█████████▌                          | 8000/30000 [49:40<3:05:23,  1.98it/s]"
     ]
    },
    {
     "name": "stdout",
     "output_type": "stream",
     "text": [
      "Step 8000 Energy (temper = 1): 17134.766974016988\n"
     ]
    },
    {
     "name": "stderr",
     "output_type": "stream",
     "text": [
      " 28%|██████████▏                         | 8500/30000 [53:49<2:57:10,  2.02it/s]"
     ]
    },
    {
     "name": "stdout",
     "output_type": "stream",
     "text": [
      "Step 8500 Energy (temper = 1): 16943.338840915174\n"
     ]
    },
    {
     "name": "stderr",
     "output_type": "stream",
     "text": [
      " 30%|██████████▊                         | 9000/30000 [57:56<2:53:48,  2.01it/s]"
     ]
    },
    {
     "name": "stdout",
     "output_type": "stream",
     "text": [
      "Step 9000 Energy (temper = 1): 16955.92899855414\n"
     ]
    },
    {
     "name": "stderr",
     "output_type": "stream",
     "text": [
      " 32%|██████████▊                       | 9500/30000 [1:02:00<2:53:53,  1.96it/s]"
     ]
    },
    {
     "name": "stdout",
     "output_type": "stream",
     "text": [
      "Step 9500 Energy (temper = 1): 16943.338840915174\n"
     ]
    },
    {
     "name": "stderr",
     "output_type": "stream",
     "text": [
      " 33%|███████████                      | 10000/30000 [1:06:09<2:41:03,  2.07it/s]"
     ]
    },
    {
     "name": "stdout",
     "output_type": "stream",
     "text": [
      "Step 10000 Energy (temper = 1): 16954.67822607969\n"
     ]
    },
    {
     "name": "stderr",
     "output_type": "stream",
     "text": [
      " 35%|███████████▌                     | 10500/30000 [1:10:14<2:39:25,  2.04it/s]"
     ]
    },
    {
     "name": "stdout",
     "output_type": "stream",
     "text": [
      "Step 10500 Energy (temper = 1): 16939.578430381713\n"
     ]
    },
    {
     "name": "stderr",
     "output_type": "stream",
     "text": [
      " 37%|████████████                     | 11000/30000 [1:14:26<2:57:30,  1.78it/s]"
     ]
    },
    {
     "name": "stdout",
     "output_type": "stream",
     "text": [
      "Step 11000 Energy (temper = 1): 16943.338840915174\n"
     ]
    },
    {
     "name": "stderr",
     "output_type": "stream",
     "text": [
      " 38%|████████████▋                    | 11500/30000 [1:18:40<2:33:16,  2.01it/s]"
     ]
    },
    {
     "name": "stdout",
     "output_type": "stream",
     "text": [
      "Step 11500 Energy (temper = 1): 16939.578430381713\n"
     ]
    },
    {
     "name": "stderr",
     "output_type": "stream",
     "text": [
      " 40%|█████████████▏                   | 12000/30000 [1:22:45<2:26:08,  2.05it/s]"
     ]
    },
    {
     "name": "stdout",
     "output_type": "stream",
     "text": [
      "Step 12000 Energy (temper = 1): 16945.872173949174\n"
     ]
    },
    {
     "name": "stderr",
     "output_type": "stream",
     "text": [
      " 42%|█████████████▊                   | 12500/30000 [1:26:57<2:18:10,  2.11it/s]"
     ]
    },
    {
     "name": "stdout",
     "output_type": "stream",
     "text": [
      "Step 12500 Energy (temper = 1): 16945.872173949174\n"
     ]
    },
    {
     "name": "stderr",
     "output_type": "stream",
     "text": [
      " 43%|██████████████▎                  | 13000/30000 [1:31:00<2:26:03,  1.94it/s]"
     ]
    },
    {
     "name": "stdout",
     "output_type": "stream",
     "text": [
      "Step 13000 Energy (temper = 1): 16948.3917628263\n"
     ]
    },
    {
     "name": "stderr",
     "output_type": "stream",
     "text": [
      " 45%|██████████████▊                  | 13500/30000 [1:35:11<2:22:12,  1.93it/s]"
     ]
    },
    {
     "name": "stdout",
     "output_type": "stream",
     "text": [
      "Step 13500 Energy (temper = 1): 16945.872173949174\n"
     ]
    },
    {
     "name": "stderr",
     "output_type": "stream",
     "text": [
      " 47%|███████████████▍                 | 14000/30000 [1:39:19<2:15:58,  1.96it/s]"
     ]
    },
    {
     "name": "stdout",
     "output_type": "stream",
     "text": [
      "Step 14000 Energy (temper = 1): 16949.635117316284\n"
     ]
    },
    {
     "name": "stderr",
     "output_type": "stream",
     "text": [
      " 48%|███████████████▉                 | 14500/30000 [1:43:27<2:10:54,  1.97it/s]"
     ]
    },
    {
     "name": "stdout",
     "output_type": "stream",
     "text": [
      "Step 14500 Energy (temper = 1): 16939.578430381713\n"
     ]
    },
    {
     "name": "stderr",
     "output_type": "stream",
     "text": [
      " 50%|████████████████▌                | 15000/30000 [1:47:32<2:06:53,  1.97it/s]"
     ]
    },
    {
     "name": "stdout",
     "output_type": "stream",
     "text": [
      "Step 15000 Energy (temper = 1): 16945.872173949174\n"
     ]
    },
    {
     "name": "stderr",
     "output_type": "stream",
     "text": [
      " 52%|█████████████████                | 15500/30000 [1:51:42<2:04:38,  1.94it/s]"
     ]
    },
    {
     "name": "stdout",
     "output_type": "stream",
     "text": [
      "Step 15500 Energy (temper = 1): 17001.03023119297\n"
     ]
    },
    {
     "name": "stderr",
     "output_type": "stream",
     "text": [
      " 53%|█████████████████▌               | 16000/30000 [1:55:44<1:54:17,  2.04it/s]"
     ]
    },
    {
     "name": "stdout",
     "output_type": "stream",
     "text": [
      "Step 16000 Energy (temper = 1): 16997.301673935202\n"
     ]
    },
    {
     "name": "stderr",
     "output_type": "stream",
     "text": [
      " 55%|██████████████████▏              | 16500/30000 [1:59:48<1:49:30,  2.05it/s]"
     ]
    },
    {
     "name": "stdout",
     "output_type": "stream",
     "text": [
      "Step 16500 Energy (temper = 1): 16954.581894761322\n"
     ]
    },
    {
     "name": "stderr",
     "output_type": "stream",
     "text": [
      " 57%|██████████████████▋              | 17000/30000 [2:03:51<1:44:03,  2.08it/s]"
     ]
    },
    {
     "name": "stdout",
     "output_type": "stream",
     "text": [
      "Step 17000 Energy (temper = 1): 17001.03023119297\n"
     ]
    },
    {
     "name": "stderr",
     "output_type": "stream",
     "text": [
      " 58%|███████████████████▎             | 17500/30000 [2:07:58<1:44:06,  2.00it/s]"
     ]
    },
    {
     "name": "stdout",
     "output_type": "stream",
     "text": [
      "Step 17500 Energy (temper = 1): 16953.391727287955\n"
     ]
    },
    {
     "name": "stderr",
     "output_type": "stream",
     "text": [
      " 60%|███████████████████▊             | 18000/30000 [2:12:09<1:42:02,  1.96it/s]"
     ]
    },
    {
     "name": "stdout",
     "output_type": "stream",
     "text": [
      "Step 18000 Energy (temper = 1): 16942.102920736375\n"
     ]
    },
    {
     "name": "stderr",
     "output_type": "stream",
     "text": [
      " 62%|████████████████████▎            | 18500/30000 [2:16:16<1:37:02,  1.97it/s]"
     ]
    },
    {
     "name": "stdout",
     "output_type": "stream",
     "text": [
      "Step 18500 Energy (temper = 1): 16998.445077941127\n"
     ]
    },
    {
     "name": "stderr",
     "output_type": "stream",
     "text": [
      " 63%|████████████████████▉            | 19000/30000 [2:20:22<1:31:33,  2.00it/s]"
     ]
    },
    {
     "name": "stdout",
     "output_type": "stream",
     "text": [
      "Step 19000 Energy (temper = 1): 16949.635117316284\n"
     ]
    },
    {
     "name": "stderr",
     "output_type": "stream",
     "text": [
      " 65%|█████████████████████▍           | 19500/30000 [2:24:26<1:26:51,  2.01it/s]"
     ]
    },
    {
     "name": "stdout",
     "output_type": "stream",
     "text": [
      "Step 19500 Energy (temper = 1): 16992.13537601431\n"
     ]
    },
    {
     "name": "stderr",
     "output_type": "stream",
     "text": [
      " 67%|██████████████████████           | 20000/30000 [2:28:34<1:20:22,  2.07it/s]"
     ]
    },
    {
     "name": "stdout",
     "output_type": "stream",
     "text": [
      "Step 20000 Energy (temper = 1): 16947.110924998626\n"
     ]
    },
    {
     "name": "stderr",
     "output_type": "stream",
     "text": [
      " 68%|██████████████████████▌          | 20500/30000 [2:32:41<1:21:35,  1.94it/s]"
     ]
    },
    {
     "name": "stdout",
     "output_type": "stream",
     "text": [
      "Step 20500 Energy (temper = 1): 16988.41850691515\n"
     ]
    },
    {
     "name": "stderr",
     "output_type": "stream",
     "text": [
      " 70%|███████████████████████          | 21000/30000 [2:36:50<1:16:01,  1.97it/s]"
     ]
    },
    {
     "name": "stdout",
     "output_type": "stream",
     "text": [
      "Step 21000 Energy (temper = 1): 16942.102920736375\n"
     ]
    },
    {
     "name": "stderr",
     "output_type": "stream",
     "text": [
      " 72%|███████████████████████▋         | 21500/30000 [2:40:57<1:09:36,  2.04it/s]"
     ]
    },
    {
     "name": "stdout",
     "output_type": "stream",
     "text": [
      "Step 21500 Energy (temper = 1): 16948.3917628263\n"
     ]
    },
    {
     "name": "stderr",
     "output_type": "stream",
     "text": [
      " 73%|████████████████████████▏        | 22000/30000 [2:45:05<1:07:19,  1.98it/s]"
     ]
    },
    {
     "name": "stdout",
     "output_type": "stream",
     "text": [
      "Step 22000 Energy (temper = 1): 16945.872173949174\n"
     ]
    },
    {
     "name": "stderr",
     "output_type": "stream",
     "text": [
      " 75%|████████████████████████▊        | 22500/30000 [2:49:14<1:04:07,  1.95it/s]"
     ]
    },
    {
     "name": "stdout",
     "output_type": "stream",
     "text": [
      "Step 22500 Energy (temper = 1): 16942.102920736375\n"
     ]
    },
    {
     "name": "stderr",
     "output_type": "stream",
     "text": [
      " 77%|██████████████████████████▊        | 23000/30000 [2:53:19<58:27,  2.00it/s]"
     ]
    },
    {
     "name": "stdout",
     "output_type": "stream",
     "text": [
      "Step 23000 Energy (temper = 1): 16952.064860814935\n"
     ]
    },
    {
     "name": "stderr",
     "output_type": "stream",
     "text": [
      " 78%|███████████████████████████▍       | 23500/30000 [2:57:28<51:52,  2.09it/s]"
     ]
    },
    {
     "name": "stdout",
     "output_type": "stream",
     "text": [
      "Step 23500 Energy (temper = 1): 16952.007803019813\n"
     ]
    },
    {
     "name": "stderr",
     "output_type": "stream",
     "text": [
      " 80%|████████████████████████████       | 24000/30000 [3:01:35<49:41,  2.01it/s]"
     ]
    },
    {
     "name": "stdout",
     "output_type": "stream",
     "text": [
      "Step 24000 Energy (temper = 1): 16952.007803019813\n"
     ]
    },
    {
     "name": "stderr",
     "output_type": "stream",
     "text": [
      " 82%|████████████████████████████▌      | 24500/30000 [3:05:37<45:35,  2.01it/s]"
     ]
    },
    {
     "name": "stdout",
     "output_type": "stream",
     "text": [
      "Step 24500 Energy (temper = 1): 16945.872173949174\n"
     ]
    },
    {
     "name": "stderr",
     "output_type": "stream",
     "text": [
      " 83%|█████████████████████████████▏     | 25000/30000 [3:09:42<40:52,  2.04it/s]"
     ]
    },
    {
     "name": "stdout",
     "output_type": "stream",
     "text": [
      "Step 25000 Energy (temper = 1): 16945.872173949174\n"
     ]
    },
    {
     "name": "stderr",
     "output_type": "stream",
     "text": [
      " 85%|█████████████████████████████▊     | 25500/30000 [3:13:42<37:45,  1.99it/s]"
     ]
    },
    {
     "name": "stdout",
     "output_type": "stream",
     "text": [
      "Step 25500 Energy (temper = 1): 16952.007803019813\n"
     ]
    },
    {
     "name": "stderr",
     "output_type": "stream",
     "text": [
      " 87%|██████████████████████████████▎    | 26000/30000 [3:17:41<32:51,  2.03it/s]"
     ]
    },
    {
     "name": "stdout",
     "output_type": "stream",
     "text": [
      "Step 26000 Energy (temper = 1): 16942.102920736375\n"
     ]
    },
    {
     "name": "stderr",
     "output_type": "stream",
     "text": [
      " 88%|██████████████████████████████▉    | 26500/30000 [3:21:42<26:23,  2.21it/s]"
     ]
    },
    {
     "name": "stdout",
     "output_type": "stream",
     "text": [
      "Step 26500 Energy (temper = 1): 16942.102920736375\n"
     ]
    },
    {
     "name": "stderr",
     "output_type": "stream",
     "text": [
      " 90%|███████████████████████████████▌   | 27000/30000 [3:25:27<24:10,  2.07it/s]"
     ]
    },
    {
     "name": "stdout",
     "output_type": "stream",
     "text": [
      "Step 27000 Energy (temper = 1): 16963.165809475257\n"
     ]
    },
    {
     "name": "stderr",
     "output_type": "stream",
     "text": [
      " 92%|████████████████████████████████   | 27500/30000 [3:29:12<19:43,  2.11it/s]"
     ]
    },
    {
     "name": "stdout",
     "output_type": "stream",
     "text": [
      "Step 27500 Energy (temper = 1): 16952.007803019813\n"
     ]
    },
    {
     "name": "stderr",
     "output_type": "stream",
     "text": [
      " 93%|████████████████████████████████▋  | 28000/30000 [3:33:02<15:02,  2.21it/s]"
     ]
    },
    {
     "name": "stdout",
     "output_type": "stream",
     "text": [
      "Step 28000 Energy (temper = 1): 16952.007803019813\n"
     ]
    },
    {
     "name": "stderr",
     "output_type": "stream",
     "text": [
      " 95%|█████████████████████████████████▎ | 28500/30000 [3:36:47<11:29,  2.18it/s]"
     ]
    },
    {
     "name": "stdout",
     "output_type": "stream",
     "text": [
      "Step 28500 Energy (temper = 1): 16952.007803019813\n"
     ]
    },
    {
     "name": "stderr",
     "output_type": "stream",
     "text": [
      " 97%|█████████████████████████████████▊ | 29000/30000 [3:40:37<07:53,  2.11it/s]"
     ]
    },
    {
     "name": "stdout",
     "output_type": "stream",
     "text": [
      "Step 29000 Energy (temper = 1): 16939.578430381713\n"
     ]
    },
    {
     "name": "stderr",
     "output_type": "stream",
     "text": [
      " 98%|██████████████████████████████████▍| 29500/30000 [3:44:26<04:02,  2.06it/s]"
     ]
    },
    {
     "name": "stdout",
     "output_type": "stream",
     "text": [
      "Step 29500 Energy (temper = 1): 16943.338840915174\n"
     ]
    },
    {
     "name": "stderr",
     "output_type": "stream",
     "text": [
      "100%|███████████████████████████████████| 30000/30000 [3:48:16<00:00,  2.19it/s]"
     ]
    },
    {
     "name": "stdout",
     "output_type": "stream",
     "text": [
      "Elapsed (after compilation) = 13696.238148450851\n",
      "Energy final: [17963.31696903 17495.34601681 17205.43480405 16949.63511732\n",
      " 16952.00780302 16774.3463807  16705.9228406  16739.13696986\n",
      " 16730.2702936  16635.0949851  16651.83547991 16593.4673242\n",
      " 16419.01369214 16361.25963098 16140.49422883] /Computed final: [17963.31696903 17495.34601681 17205.43480405 16949.63511732\n",
      " 16952.00780302 16774.3463807  16705.9228406  16739.13696986\n",
      " 16730.2702936  16635.0949851  16651.83547991 16593.4673242\n",
      " 16419.01369214 16361.25963098 16140.49422883]\n",
      "overlaps_0: 192710 overlap_1: 4262 %overlaps: 98.14054528061224 %\n"
     ]
    },
    {
     "name": "stderr",
     "output_type": "stream",
     "text": [
      "\n"
     ]
    }
   ],
   "source": [
    "print('labels unkwon:', labels_unkwons_ini[0,:])\n",
    "\n",
    "np.random.seed( random.randint(1,1999))\n",
    "P_new, P_inv_new = np.zeros((K,Nx)),np.zeros((K,Nx))\n",
    "for k in range(0,K):\n",
    "    for i in range(0,Nx):\n",
    "        P_new[k,i]=i \n",
    "        P_inv_new[k,i]=i            \n",
    "L_new = np.zeros((Nx,Nx))\n",
    "L_new =  L_wiring(A, P_inv_new)\n",
    "\n",
    "Edges_sum = K*Nx*Nx\n",
    "Edges_L = K*(sum(sum(L_new))) # edges=1 in A\n",
    "Edges_NoL = Edges_sum - Edges_L # edges=0 in A\n",
    "overlap_0, overlap_1 = overlap_total_prob(L_new,A,P_inv_new)     \n",
    "Energy_new = hamiltonian_prob(Edges_NoL, Edges_L, overlap_0, overlap_1, alpha, beta)\n",
    "print('Energy with the reference mapping:', Energy_new)\n",
    "print( 'overlap_0:', overlap_0,'/overlap_1:', overlap_1)\n",
    "print('%Overlaps:',100*(overlap_0+overlap_1)/Edges_sum ,'%')\n",
    "\n",
    "# VARIABLE USING INITIAL CONDITIONS\n",
    "P_t = np.zeros((N_t,K,Nx))\n",
    "P_inv_t = np.zeros((N_t,K,Nx))\n",
    "L_t = np.zeros((N_t,Nx, Nx))\n",
    "Energy_t, Energy_ini_t = np.zeros((N_t)), np.zeros((N_t))\n",
    "Edges_L_t, Edges_NoL_t = np.zeros((N_t)), np.zeros((N_t))\n",
    "posi_unkwons_t , labels_unkwons_t = np.zeros((N_t,K,max_num)), np.zeros((N_t,K,max_num))\n",
    "groups_t = np.zeros((N_t, K, Nx))\n",
    "vector_unkwn_t = np.zeros((N_t, Nx))\n",
    "ovlp_ini0_t = np.zeros((N_t)) + ovlp_ini0\n",
    "ovlp_ini1_t = np.zeros((N_t)) + ovlp_ini1\n",
    "ovlp_ini0_t, ovlp_ini1_t = ovlp_ini0_t.astype(int), ovlp_ini1_t.astype(int)\n",
    "ovlp_t0, ovlp_t1 = np.zeros((N_t)) + ovlp_ini0, np.zeros((N_t)) + ovlp_ini1\n",
    "P_t = (P_ini_t).copy()\n",
    "P_inv_t = (P_inv_ini_t).copy()\n",
    "L_t = (L_ini_t).copy()\n",
    "posi_unkwons_t , labels_unkwons_t = posi_unkwons_ini_t.copy() , labels_unkwons_ini_t.copy()\n",
    "groups_t = groups_ini_t.copy()\n",
    "vector_unkwn_t = vector_unkwn_ini_t.copy()\n",
    "#Integer variables\n",
    "ovlp_t0, ovlp_t1 = ovlp_t0.astype(int), ovlp_t1.astype(int)\n",
    "P_t = P_t.astype(int)\n",
    "P_inv_t = P_inv_t.astype(int)\n",
    "L_t = L_t.astype(int)\n",
    "posi_unkwons_t , labels_unkwons_t = posi_unkwons_t.astype(int) , labels_unkwons_t.astype(int)\n",
    "groups_t = groups_t.astype(int)\n",
    "vector_unkwn_t = vector_unkwn_t.astype(int)\n",
    "\n",
    "## Initial energy with L = A[0]\n",
    "Edges_L = K*sum(sum(L_ini))\n",
    "Edges_NoL = Edges_sum - Edges_L            \n",
    "Energy_ini = hamiltonian_prob(Edges_NoL, Edges_L, ovlp_ini0, ovlp_ini1 ,alpha, beta)\n",
    "Energy_ini_t = np.zeros((N_t))+ Energy_ini \n",
    "print()\n",
    "print('Initial energy with L = A[0]:', Energy_ini)\n",
    "print()\n",
    "\n",
    "#### Now the Blueprint is averaged\n",
    "for k_nt in range(N_t):\n",
    "    L_t[k_nt,:,:] =  L_wiring(A, P_inv_t[k_nt,:,:])\n",
    "    Edges_L_t[k_nt] = K*sum(sum(L_t[k_nt,:,:]))\n",
    "    Edges_NoL_t[k_nt] = Edges_sum - Edges_L_t[k_nt]\n",
    "    overlap_0, overlap_1 = overlap_total_prob(L_t[k_nt,:,:],A,P_inv_t[k_nt,:,:])\n",
    "    Energy_t[k_nt] = hamiltonian_prob(Edges_NoL_t[k_nt], Edges_L_t[k_nt], overlap_0, overlap_1,alpha, beta)\n",
    "    ovlp_t0[k_nt], ovlp_t1[k_nt] = overlap_0, overlap_1\n",
    "print('Energy with L_wiring:', Energy_t[0]) \n",
    "print('overlaps 0:', ovlp_t0[0], '1:', ovlp_t1[0])\n",
    "print('%Overlaps:',100*(ovlp_t0[0] + ovlp_t1[0])/Edges_sum ,'%')\n",
    "\n",
    "Energy_ini_wiring = Energy_t.copy()\n",
    "suma_L_t = np.zeros(N_t)\n",
    "for k_nt in range(N_t):\n",
    "    suma_L_t[k_nt] = sum_numba(L_t[k_nt,:,:])\n",
    "\n",
    "\n",
    "### MONTE CARLO\n",
    "# Parameters\n",
    "PasosMC = 30000\n",
    "Long_corr = 500\n",
    "Pasos_corr = 5000\n",
    "Pasos_store = int((PasosMC - Pasos_corr)/Long_corr)\n",
    "if (Pasos_store<0):\n",
    "    Pasos_store = 0\n",
    "steps_middle_0 = 500\n",
    "steps_middle_1 = 1000\n",
    "\n",
    "# Variables to store    \n",
    "energies_pasos = np.zeros((N_t,PasosMC))\n",
    "energies_pasos[:,0] = Energy_ini_wiring\n",
    "count_parallel, count_unl = 0, 0\n",
    "P_store = np.zeros((Pasos_store,N_t, K, Nx))\n",
    "posi_store = np.zeros((Pasos_store, N_t, K, max_num))\n",
    "vector_unkwn_store = np.zeros((Pasos_store, N_t, Nx))\n",
    "groups_store = np.zeros((Pasos_store, N_t,K,Nx))\n",
    "Energy_store = np.zeros((Pasos_store, N_t))\n",
    "L_store = np.zeros((Pasos_store,N_t, Nx, Nx))\n",
    "P_intermediate_shot = np.zeros((2,N_t,K,Nx))\n",
    "E_intermediate_shot = np.zeros((2,N_t))\n",
    "#######################################\n",
    "start = time.time()\n",
    "count_parallel, count_long, i_long, i_count_micro = 0,0,0,0\n",
    "for i_mc in tqdm(range(0,PasosMC)):\n",
    "    ## Starting to store sampling configurations\n",
    "    if (i_mc > Pasos_corr):\n",
    "        count_long += 1\n",
    "        if (count_long == Long_corr):\n",
    "            count_long = 0\n",
    "            P_store[i_long,:,:,:] = P_t.copy()\n",
    "            Energy_store[i_long,:] = Energy_t.copy()\n",
    "            L_store[i_long,:,:,:] = L_t.copy()\n",
    "            vector_unkwn_store[i_long, :,:] = vector_unkwn_t.copy()\n",
    "            posi_store[i_long,:,:,:] = posi_unkwons_t.copy()\n",
    "            groups_store[i_long, :,:] = groups_t.copy()\n",
    "            i_long += 1\n",
    "            print('Step', i_mc, 'Energy (temper = 1):', Energy_t[4])\n",
    "    \n",
    "    ## Store transient configurations\n",
    "    if (i_mc == steps_middle_0 ):\n",
    "        P_intermediate_shot[0,:,:,:] = P_t.copy()\n",
    "        E_intermediate_shot[0,:] = Energy_t.copy()\n",
    "    if (i_mc == steps_middle_1 ):\n",
    "        P_intermediate_shot[1,:,:,:] = P_t.copy()\n",
    "        E_intermediate_shot[1,:] = Energy_t.copy()\n",
    "        \n",
    "\n",
    "    energies_pasos[:, i_mc] = Energy_t[:]\n",
    "    for i_micro in range(Nx):\n",
    "        i_count_micro += 1\n",
    "        count_parallel,count_unl,P_t, P_inv_t, Energy_t, ovlp_t0, ovlp_t1, L_t, posi_unkwons_t, groups_t,  vector_unkwn_t,suma_L_t  = parallel_L_v( count_parallel,count_unl,alpha,beta,fijado,groups_t,n_groups, \n",
    "                                                                                                                             start_groups, end_groups,posi_unkwons_t, labels_unkwons_t, vector_unkwn_t,\n",
    "                                                                                                                          A, P_t, P_inv_t, L_t, suma_L_t,Energy_t, ovlp_t0, ovlp_t1, tempers)\n",
    "\n",
    "        if (i_count_micro == 50):\n",
    "            i_count_micro = 0\n",
    "            P_t, P_inv_t,Energy_t, ovlp_t0, ovlp_t1, L_t, posi_unkwons_t =  change_unlabels_gibbs_1knwon(alpha,beta,groups_t,n_groups, posi_unkwons_t,labels_unkwons_t, vector_unkwn_t, A, P_t, P_inv_t,  L_t, Energy_t,\n",
    "                                                                                        ovlp_t0, ovlp_t1, tempers)\n",
    "            for k_nt in range(N_t):\n",
    "                suma_L_t[k_nt] = sum_numba(L_t[k_nt,:,:])\n",
    "\n",
    "end = time.time()\n",
    "\n",
    "print(\"Elapsed (after compilation) = %s\" % (end - start))  \n",
    "\n",
    "## Final energy\n",
    "Energy_calculada = np.zeros((N_t))\n",
    "for k_nt in range(N_t):\n",
    "    Edges_L= K*sum(sum(L_t[k_nt,:,:]))\n",
    "    Edges_NoL = Edges_sum - Edges_L\n",
    "    overlap_0, overlap_1 = overlap_total_prob(L_t[k_nt,:,:],A,P_inv_t[k_nt,:,:])\n",
    "    Energy_calculada[k_nt] = hamiltonian_prob(Edges_NoL, Edges_L, overlap_0,overlap_1,alpha, beta)\n",
    "    \n",
    "print('Energy final:', Energy_t, '/Computed final:', Energy_calculada) \n",
    "print('overlaps_0:', ovlp_t0[0], 'overlap_1:', ovlp_t1[0], '%overlaps:', 100*(ovlp_t0[0] + ovlp_t1[0])/Edges_sum ,'%')\n"
   ]
  },
  {
   "cell_type": "code",
   "execution_count": 18,
   "id": "7380e197",
   "metadata": {},
   "outputs": [
    {
     "data": {
      "image/png": "[encoded data removed]",
      "text/plain": [
       "<Figure size 640x480 with 1 Axes>"
      ]
     },
     "metadata": {},
     "output_type": "display_data"
    }
   ],
   "source": [
    "x=np.arange(PasosMC)\n",
    "for k_nt in range(0,N_t):\n",
    "    energies_pasos_temper = energies_pasos[k_nt,:] \n",
    "    plt.plot(x,energies_pasos_temper,'.',label='%s temper' % tempers[k_nt])\n",
    "    plt.xlabel('iteration')\n",
    "    plt.ylabel('Energy per node')\n",
    "# plt.legend()\n",
    "plt.show()"
   ]
  },
  {
   "cell_type": "code",
   "execution_count": 39,
   "id": "f5fa5215",
   "metadata": {},
   "outputs": [],
   "source": [
    "# Voy a construir un diccionario para guardar todo\n",
    "d_store={}\n",
    "string = \"celegant_normal_k4_unk_same_L2_0.pickle\"\n",
    "d_store[\"Datos_energy\"] = energies_pasos\n",
    "d_store[\"Permus\"] = P_t\n",
    "d_store[\"Permus_inv\"] = P_inv_t\n",
    "d_store[\"Permusstore\"] = P_store\n",
    "d_store[\"L_latent\"] = L_t\n",
    "d_store[\"temper\"] = tempers\n",
    "d_store[\"A\"] = A\n",
    "d_store[\"start_groups\"] = start_groups\n",
    "d_store[\"end_groups\"] = end_groups\n",
    "d_store[\"groups\"] = groups_store\n",
    "d_store[\"labels_unkwn\"] = labels_unkwons_t\n",
    "d_store[\"posisstore_unkwn\"] = posi_store\n",
    "d_store[\"num\"] = num\n",
    "d_store[\"vector\"] = vector_unkwn_store\n",
    "\n",
    "\n",
    "d_store[\"P_inter\"] = P_intermediate_shot\n",
    "d_store[\"E_inter\"] = E_intermediate_shot\n",
    "d_store[\"E_store\"] = Energy_store\n",
    "d_store[\"L_store\"] = L_store\n",
    "d_store[\"posi_store\"] = posi_store\n",
    "\n",
    "d_store[\"E_groundtruth\"] = Energy_new\n",
    "d_store[\"Pasos_corr_ini\"] = Pasos_corr \n",
    "d_store[\"Step_corr\"] = Long_corr \n",
    "\n",
    "file1 = open(string,\"wb\")\n",
    "pickle.dump( d_store, file1)\n",
    "# prueba = pickle.load(open(string, \"rb\"))"
   ]
  },
  {
   "cell_type": "code",
   "execution_count": 40,
   "id": "2307d888",
   "metadata": {},
   "outputs": [],
   "source": [
    "# Voy a construir un diccionario para guardar todo\n",
    "d_store={}\n",
    "d_store[\"Datos_energy\"] = energies_pasos\n",
    "d_store[\"Permus\"] = P_t\n",
    "d_store[\"Permus_inv\"] = P_inv_t\n",
    "d_store[\"Permusstore\"] = P_store\n",
    "d_store[\"L_latent\"] = L_t\n",
    "d_store[\"temper\"] = tempers\n",
    "d_store[\"A\"] = A\n",
    "d_store[\"start_groups\"] = start_groups\n",
    "d_store[\"end_groups\"] = end_groups\n",
    "d_store[\"groups\"] = groups_store\n",
    "d_store[\"labels_unkwn\"] = labels_unkwons_t\n",
    "d_store[\"posisstore_unkwn\"] = posi_store\n",
    "d_store[\"num\"] = num\n",
    "d_store[\"vector\"] = vector_unkwn_store\n",
    "\n",
    "\n",
    "d_store[\"P_inter\"] = P_intermediate_shot\n",
    "d_store[\"E_inter\"] = E_intermediate_shot\n",
    "d_store[\"E_store\"] = Energy_store\n",
    "d_store[\"L_store\"] = L_store\n",
    "d_store[\"posi_store\"] = posi_store\n",
    "\n",
    "\n",
    "d_store[\"E_groundtruth\"] = Energy_new\n",
    "d_store[\"Pasos_corr_ini\"] = Pasos_corr \n",
    "d_store[\"Step_corr\"] = Long_corr \n",
    "\n",
    "file1 = open(string,\"wb\")\n",
    "pickle.dump( d_store, file1)\n",
    "prueba = pickle.load(open(string, \"rb\"))"
   ]
  },
  {
   "cell_type": "code",
   "execution_count": 21,
   "id": "ea8209a8",
   "metadata": {},
   "outputs": [
    {
     "data": {
      "text/plain": [
       "array([  1,  13,  15,  31,  48,  50,  65,  81,  92, 107, 120, 124, 134,\n",
       "       149, 158, 165, 173, 195, 209, 211, 212])"
      ]
     },
     "execution_count": 21,
     "metadata": {},
     "output_type": "execute_result"
    }
   ],
   "source": [
    "np.sort(labels_unkwons_ini[1,:])"
   ]
  },
  {
   "cell_type": "code",
   "execution_count": null,
   "id": "16251035-61e9-41b4-b454-b15a27ad1468",
   "metadata": {},
   "outputs": [],
   "source": []
  }
 ],
 "metadata": {
  "kernelspec": {
   "display_name": "Python 3 (ipykernel)",
   "language": "python",
   "name": "python3"
  },
  "language_info": {
   "codemirror_mode": {
    "name": "ipython",
    "version": 3
   },
   "file_extension": ".py",
   "mimetype": "text/x-python",
   "name": "python",
   "nbconvert_exporter": "python",
   "pygments_lexer": "ipython3",
   "version": "3.10.12"
  }
 },
 "nbformat": 4,
 "nbformat_minor": 5
}
