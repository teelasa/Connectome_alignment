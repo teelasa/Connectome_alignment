{
 "cells": [
  {
   "cell_type": "markdown",
   "id": "15283d4d-e5be-4d54-a8d7-66933ff1737c",
   "metadata": {},
   "source": [
    "## Study the dependency on the error\n",
    "\n",
    "In this case we have delete the nodes without connections"
   ]
  },
  {
   "cell_type": "code",
   "execution_count": 1,
   "id": "682a9df1-3f90-4bdd-b571-fdd80db223a2",
   "metadata": {},
   "outputs": [],
   "source": [
    "import itertools\n",
    "import pickle\n",
    "import matplotlib.pyplot as plt\n",
    "import numpy as np\n",
    "import math\n",
    "import random\n",
    "import os\n",
    "import time\n",
    "from numba import jit, njit\n",
    "from numba.types import bool_, int_, float32\n",
    "from math import comb\n",
    "from copy import deepcopy\n",
    "from tqdm import tqdm\n",
    "import networkx as nx\n",
    "import pandas as pd\n",
    "from collections import defaultdict\n",
    "from itertools import permutations"
   ]
  },
  {
   "cell_type": "markdown",
   "id": "a25e3c80-aedb-48ae-b17d-79149eff5872",
   "metadata": {},
   "source": [
    "### DataSet and Group information"
   ]
  },
  {
   "cell_type": "code",
   "execution_count": 2,
   "id": "1cac2d58-276e-4e17-b346-df32b8dcb3b0",
   "metadata": {},
   "outputs": [
    {
     "name": "stdout",
     "output_type": "stream",
     "text": [
      "[0.0, 0.1, 0.2, 0.3, 0.4, 0.5, 0.6]\n",
      "N_probs, N_reps 7 10\n"
     ]
    }
   ],
   "source": [
    "with open(\"def_Celegans_3syn_layers_219_cluster.pkl\", 'rb') as file:\n",
    "    Celegans_syn_layers = pickle.load(file)\n",
    "\n",
    "K = 3\n",
    "dic_A = Celegans_syn_layers\n",
    "probs = list(dic_A.keys())\n",
    "print(probs)\n",
    "N_probs = len(probs)\n",
    "N_reps = dic_A[probs[0]].shape[0]\n",
    "start_groups = np.array([0,65,109,151,180,212])\n",
    "end_groups = np.array([65,109,151,180,212,219])\n",
    "n_groups = len(start_groups)\n",
    "\n",
    "Nx = len(dic_A[probs[0]][0,0,0,:])\n",
    "print('N_probs, N_reps', N_probs, N_reps)"
   ]
  },
  {
   "cell_type": "markdown",
   "id": "296a25f4-4efa-431e-953f-0643d27e07a8",
   "metadata": {},
   "source": [
    "## Functions"
   ]
  },
  {
   "cell_type": "code",
   "execution_count": 3,
   "id": "0e103f33-d366-471f-8e7e-de1b229dc1ee",
   "metadata": {},
   "outputs": [],
   "source": [
    "@jit(nopython=True)\n",
    "def overlap_total_change_filas(m1,L_f_v1v2_old,L_c_v1v2_old,L_f_v1v2,L_c_v1v2,A_f, P_inv_old, i_change, j_change,pp1, pp2): \n",
    "\n",
    "    Nx = L_f_v1v2_old.shape[1]\n",
    "    K = A_f.shape[0]\n",
    "    \n",
    "    ovlp_0_new , ovlp_1_new = 0,0\n",
    "    ovlp_0_old , ovlp_1_old = 0,0\n",
    "    ovlp_0_dif, ovlp_1_dif = 0,0\n",
    "  \n",
    "    #old and new: changes and mapping changes\n",
    "    changes = np.array([i_change, j_change], dtype = np.int32)\n",
    "    changes_p = np.array([pp1, pp2], dtype = np.int32)  \n",
    "    changes_old = np.array([j_change, i_change], dtype = np.int32)\n",
    "    changes_p_old = np.array([pp2, pp1], dtype = np.int32)\n",
    "    \n",
    "    for i_k in range(K):\n",
    "        for i_chan,change in enumerate(changes):\n",
    "            for i_x in range(Nx):\n",
    "                if (i_k != m1): # Only changes in the networks m1\n",
    "                    p_f = int(P_inv_old[i_k,change])\n",
    "                    p_c = int(P_inv_old[i_k,i_x])\n",
    "                    p_old, p_old_c = p_f, p_c\n",
    "                \n",
    "                else:\n",
    "                    p_f = changes_p[i_chan]\n",
    "                    p_old = changes_p_old[i_chan]\n",
    "                    if (i_x == i_change):\n",
    "                        p_c = pp1\n",
    "                        p_old_c = pp2\n",
    "                    elif(i_x == j_change):\n",
    "                        p_c = pp2\n",
    "                        p_old_c = pp1\n",
    "                    else: # Only changes in the nodes i,j\n",
    "                        p_c = int(P_inv_old[i_k, i_x])\n",
    "                        p_old_c = p_c\n",
    "\n",
    "                ## rows\n",
    "                valor_L_old, valor_A_old = L_f_v1v2_old[i_chan,i_x], A_f[i_k,p_old,p_old_c]   \n",
    "                valor_L_new, valor_A_new = L_f_v1v2[i_chan,i_x], A_f[i_k,p_f,p_c]\n",
    "                ## columns\n",
    "                valor_L_old_c, valor_A_old_c = 0,0\n",
    "                valor_L_new_c, valor_A_new_c = 0,0\n",
    "                column = 0        \n",
    "                if (i_x not in changes):\n",
    "                    column = 1\n",
    "                    valor_L_old_c, valor_A_old_c = L_c_v1v2_old[i_chan,i_x],A_f[i_k,p_old_c, p_old]\n",
    "                    valor_L_new_c, valor_A_new_c = L_c_v1v2[i_chan,i_x], A_f[i_k,p_c,p_f]\n",
    "\n",
    "                ovlp_1_old = ovlp_1_old + valor_L_old*valor_A_old + valor_L_old_c*valor_A_old_c*column\n",
    "                ovlp_0_old = ovlp_0_old + (1-valor_L_old)*(1-valor_A_old) + (1-valor_L_old_c)*(1-valor_A_old_c)*column\n",
    "                \n",
    "                ovlp_1_new = ovlp_1_new + valor_L_new*valor_A_new + valor_L_new_c*valor_A_new_c*column\n",
    "                ovlp_0_new = ovlp_0_new + (1-valor_L_new)*(1-valor_A_new) + (1-valor_L_new_c)*(1-valor_A_new_c)*column\n",
    "                \n",
    "    ovlp_1_def = ovlp_1_new - ovlp_1_old\n",
    "    ovlp_0_def = ovlp_0_new- ovlp_0_old\n",
    "   \n",
    "    return ovlp_0_def, ovlp_1_def\n"
   ]
  },
  {
   "cell_type": "code",
   "execution_count": 4,
   "id": "e92eb03d-7123-46c5-bc9f-24088201375c",
   "metadata": {},
   "outputs": [],
   "source": [
    "### Some functions that numba do not have\n",
    "@njit\n",
    "def concatenate_numba_sinrep(a,b):\n",
    "    size_a, size_b = len(a), len(b)\n",
    "    no_double = []\n",
    "    for i_b in range(size_b):\n",
    "        if b[i_b] in a:\n",
    "            size_b = size_b-1\n",
    "        else:\n",
    "            no_double.append(b[i_b])\n",
    "    size = size_a + size_b\n",
    "    c = np.zeros((size))\n",
    "    c[0:size_a] = a\n",
    "    c[size_a:] = no_double\n",
    "    \n",
    "    return a\n",
    "\n",
    "@njit\n",
    "def concatenate_numba(a,b):\n",
    "    size_a, size_b = len(a), len(b)\n",
    "    size = size_a + size_b\n",
    "    c = np.zeros((size))\n",
    "    c[0:size_a] = a\n",
    "    c[size_a:] = b \n",
    "    \n",
    "    return c\n",
    "\n",
    "@njit\n",
    "def sum_numba(S):\n",
    "    Nx = S.shape[0]\n",
    "    Ny = S.shape[1]\n",
    "    \n",
    "    suma = 0\n",
    "    for i_s in range(Nx):\n",
    "        suma = suma + sum(S[i_s,:])\n",
    "        \n",
    "    return suma\n",
    "@njit\n",
    "def sum_numba_filas(S): # 2 dimensions\n",
    "    Nx = S.shape[0]\n",
    "    Ny = S.shape[1]\n",
    "    suma = np.zeros((Nx))\n",
    "    for i_s in range(Nx):\n",
    "        suma_c = 0 # sum of the column\n",
    "        for i_y in range(Ny):\n",
    "            suma[i_s] = suma_c + S[i_y,i_s] \n",
    "        \n",
    "    return suma\n",
    "\n"
   ]
  },
  {
   "cell_type": "code",
   "execution_count": 5,
   "id": "96ff67d9-4510-44b3-a150-d247f45ee1a7",
   "metadata": {},
   "outputs": [],
   "source": [
    "@jit(nopython = True)\n",
    "def hamiltonian_prob(Edges_NoL, Edges_L, overlap_0, overlap_1, alpha, beta):\n",
    "\n",
    "    A_1 = overlap_1 + alpha\n",
    "    B_1 = (Edges_L - overlap_1 + beta)\n",
    "    C_1 = Edges_L + alpha + beta\n",
    "    \n",
    "    A_0 = overlap_0 + alpha\n",
    "    B_0 = (Edges_NoL - overlap_0 + beta)\n",
    "    C_0 = Edges_NoL + alpha + beta\n",
    "    \n",
    "    #  [ math.lgamma(n+1) == log(n!) ]\n",
    "    H1 = math.lgamma(A_1)+ math.lgamma(B_1) - math.lgamma(C_1) \n",
    "    H0 = math.lgamma(A_0)+ math.lgamma(B_0) - math.lgamma(C_0) \n",
    "    \n",
    "    H = -(H1 + H0)\n",
    "    return H\n",
    "    \n",
    "    \n",
    "@jit(nopython=True)\n",
    "def overlap_total_prob(L_f, A_f, P_inv_f):\n",
    "    Nx = L_f.shape[0]\n",
    "    Ny = L_f.shape[1]\n",
    "    K = A_f.shape[0]\n",
    "    \n",
    "    ovlp_0 = np.zeros((K))\n",
    "    ovlp_1 = np.zeros((K))\n",
    "    for k in range(0,K):\n",
    "        for f in range(0,Ny): \n",
    "            for c in range(0,Nx):\n",
    "                p_f=int(P_inv_f[k,f])\n",
    "                p_c=int(P_inv_f[k,c])  \n",
    "                \n",
    "                valor_L, valor_A = L_f[f,c], A_f[k,p_f,p_c]\n",
    "                \n",
    "                ovlp_0[k] = ovlp_0[k] + (1-valor_L)*(1-valor_A )\n",
    "                ovlp_1[k] = ovlp_1[k] + valor_L*valor_A\n",
    "                \n",
    "                \n",
    "    ovlp_1 = int(sum(ovlp_1))\n",
    "    ovlp_0 = int(sum(ovlp_0))\n",
    "    return ovlp_0, ovlp_1\n",
    "\n",
    "\n",
    "@jit(nopython=True) # The blueprint is the average of the observations (taking into account the mapping)  \n",
    "def L_wiring(A_f, P_inv_f):\n",
    "    \n",
    "    Nx = A_f.shape[1]\n",
    "    Ny = A_f.shape[2]\n",
    "    K = A_f.shape[0]\n",
    "    L_new_f = np.zeros((Nx,Ny))\n",
    "    \n",
    "    for i in range(0,Nx):\n",
    "        for j in range(0,Ny):\n",
    "            for k in range(0,K):\n",
    "        \n",
    "                p1 = int(P_inv_f[k,i]) # Mapping of the observations\n",
    "                p2 = int(P_inv_f[k,j]) # Mapping of the observations\n",
    "                L_new_f[i,j] += A_f[k,p1,p2]\n",
    "            valor_lnew=1/K* L_new_f[i,j]\n",
    "            L_new_f[i,j] = round( valor_lnew ) \n",
    "            # If valor_lnew = 0, L=0 (we could establish L=1, but it is more probable to not have a connection)\n",
    "    \n",
    "    return L_new_f\n",
    "\n",
    "\n",
    "#### Some algorithm for sorting\n",
    "@jit(nopython=True)\n",
    "def partition(array,  etiquetas, begin, end):\n",
    "    pivot = begin\n",
    "    for i in range(begin+1, end+1):\n",
    "        if array[i] < array[begin]:\n",
    "            pivot += 1\n",
    "            array[i], array[pivot] = array[pivot], array[i]\n",
    "            etiquetas[i], etiquetas[pivot] = etiquetas[pivot], etiquetas[i]\n",
    "    array[pivot], array[begin] = array[begin], array[pivot]\n",
    "    etiquetas[pivot], etiquetas[begin] = etiquetas[begin], etiquetas[pivot] \n",
    "\n",
    "    return pivot\n",
    "@jit(nopython=True)\n",
    "def quicksort(array, etiquetas, begin=0, end=None):\n",
    "    if end is None:\n",
    "        end = len(array) - 1\n",
    "    if begin >= end: #To end\n",
    "        return\n",
    "    pivot = partition(array,  etiquetas, begin, end)\n",
    "    \n",
    "    #Order right and left\n",
    "    quicksort(array, etiquetas, begin, pivot-1)\n",
    "    quicksort(array,  etiquetas, pivot+1, end)\n",
    "    \n",
    "@njit \n",
    "# We inizialise the algorithm sorting by node degree, but also taking into account the group labels\n",
    "def permu_groups(L_f, A_f, start_f): \n",
    "    Nx = L_f.shape[0]\n",
    "    Ny = L_f.shape[1]\n",
    "    K = A_f.shape[0]\n",
    "    N_groups = len(start_f)\n",
    "    \n",
    "    \n",
    "    # Mappings\n",
    "    P_f = np.zeros((K,Nx)) #Mapping from L to A\n",
    "    P_inv_f = np.zeros((K,Nx)) #Mapping from A to L\n",
    "    P_new = np.zeros((K,Nx))\n",
    "    \n",
    "    # First we order the blueprint and after the observations\n",
    "    # Blueprint:\n",
    "    orden_L=np.zeros((Nx))\n",
    "    for i in range(Nx):\n",
    "        b=np.nonzero(L_f[i,:])\n",
    "        orden_L[i] = b[0].size\n",
    "        \n",
    "    array_L = np.arange(Nx) #For the labels \n",
    "    quicksort(orden_L, array_L)\n",
    "    \n",
    "    # Now according to the group label\n",
    "    array_L_labels = np.zeros((Nx))\n",
    "    group_number = np.zeros((N_groups))\n",
    "    for i in range(Nx):\n",
    "        n_type = 0\n",
    "        #Group\n",
    "        while ( (array_L[i] >= start_f[n_type]) and (n_type < N_groups)):\n",
    "            n_type += 1\n",
    "       \n",
    "        grupo = int(n_type-1)\n",
    "        g = int(start_f[grupo])\n",
    "        array_L_labels[g + int(group_number[grupo])] = array_L[i]\n",
    "        group_number[grupo] += 1\n",
    "\n",
    "    #Observations: \n",
    "    for i in range(0,K):\n",
    "        orden_A = np.zeros((Nx))\n",
    "        for i_orden in range(Nx):\n",
    "            b = np.nonzero(A_f[i,i_orden,:])\n",
    "            orden_A[i_orden] = b[0].size\n",
    "\n",
    "        array_A = np.arange(Nx) #For the labels \n",
    "        quicksort(orden_A, array_A)\n",
    "            \n",
    "        # Now according to the group label\n",
    "        array_A_labels = np.zeros((Nx))\n",
    "        group_number = np.zeros((N_groups))\n",
    "        \n",
    "        for i_g in range(Nx):\n",
    "            n_type = 0\n",
    "            while ( (array_A[i_g] >= start_f[n_type]) and (n_type < N_groups) ):\n",
    "                n_type += 1\n",
    "\n",
    "            grupo = int(n_type-1)\n",
    "            g = int(start_f[grupo])\n",
    "            array_A_labels[ g + int(group_number[grupo])] = array_A[i_g]\n",
    "            group_number[grupo] += 1\n",
    "    \n",
    "\n",
    "    # Now ordered together both label array  array_L = [0,1,2,3...]\n",
    "        array_A_labels = array_A_labels[np.argsort(array_L_labels)]\n",
    "        P_f[i,:] = array_A_labels\n",
    "        \n",
    "        for i_inv in range(0,Nx):\n",
    "            for j_inv in range(0,Ny):\n",
    "                if (P_f[i,i_inv] == j_inv):\n",
    "                    P_inv_f[i, j_inv]=i_inv\n",
    "    \n",
    "    P_todo = np.zeros((2,K,Nx))\n",
    "    P_todo[0,:,:] = P_f.copy() \n",
    "    P_todo[1,:,:] = P_inv_f.copy()\n",
    "\n",
    "    return P_todo\n",
    "\n",
    "@njit \n",
    "# We inizialise the algorithm sorting by node degree, but also taking into account the group labels\n",
    "def permu_groups_random(A_f, start_f, end_f): \n",
    "    Nx = A_f.shape[1]\n",
    "    K = A_f.shape[0]\n",
    "    n_groups = len(start_f)\n",
    "    # Mappings\n",
    "    P_f = np.zeros((K, Nx), dtype=np.int64)  # Mapping from L to A\n",
    "    P_inv_f = np.zeros((K, Nx), dtype=np.int64)  # Mapping from A to L\n",
    "    \n",
    "    for i_g in range(n_groups):\n",
    "        s, e = start_f[i_g], end_f[i_g]\n",
    "        for i_k in range(K):\n",
    "            vector = np.arange(s, e)\n",
    "            np.random.shuffle(vector)  # Use numpy's shuffle function\n",
    "            P_f[i_k, s:e] = vector\n",
    "    \n",
    "    # Compute inverse permutation\n",
    "    for i_k in range(K):\n",
    "        P_inv_f[i_k] = np.argsort(P_f[i_k])\n",
    "    \n",
    "    P_todo = np.stack((P_f, P_inv_f))\n",
    "    return P_todo\n"
   ]
  },
  {
   "cell_type": "code",
   "execution_count": 6,
   "id": "e8ed3c77-d49b-47d7-8783-300f4582b7d3",
   "metadata": {},
   "outputs": [],
   "source": [
    "def ground_state(A,K,Nx, alpha, beta):\n",
    "    P_new, P_inv_new = np.zeros((K,Nx)),np.zeros((K,Nx))\n",
    "    for k in range(0,K):\n",
    "        for i in range(0,Nx):\n",
    "            P_new[k,i]=i \n",
    "            P_inv_new[k,i]=i            \n",
    "    L_new = np.zeros((Nx,Nx))\n",
    "    L_new =  L_wiring(A, P_inv_new)\n",
    "    \n",
    "    Edges_sum = K*Nx*Nx\n",
    "    Edges_L = K*(sum(sum(L_new))) # Los edges=1 que tiene la matriz A\n",
    "    Edges_NoL = Edges_sum - Edges_L #Los edges=0 que tiene la matriz A\n",
    "    overlap_0, overlap_1 = overlap_total_prob(L_new,A,P_inv_new)\n",
    "    \n",
    "    Energy_new = hamiltonian_prob(Edges_NoL, Edges_L, overlap_0, overlap_1, alpha, beta)\n",
    "\n",
    "    return P_new, P_inv_new, L_new, Energy_new"
   ]
  },
  {
   "cell_type": "code",
   "execution_count": 7,
   "id": "40ba4918-2048-4fd9-9133-cfd7203bca3e",
   "metadata": {},
   "outputs": [],
   "source": [
    "\n",
    "def initialization_random(A, start_groups,end_groups, K, Nx, N_t, tempers, alpha, beta):\n",
    "    \n",
    "    L_ini = A[0,:,:].copy() ## Inicialize to compute permutation ranked by node degree\n",
    "    # P_inis = permu_groups(L_ini, A, start_groups)\n",
    "    P_inis = permu_groups_random(A, start_groups, end_groups)\n",
    "    P_inis = P_inis.astype(int)\n",
    "    P_ini_0 = (P_inis[0,:,:]).copy() # Mapping L to A\n",
    "    P_inv_ini_0 = (P_inis[1,:,:]).copy() # Mapping A to L\n",
    "    ## Inizialitation of the system for each temperature, with the same mappings\n",
    "    P_ini_t = np.zeros((N_t,K,Nx))\n",
    "    P_inv_ini_t = np.zeros((N_t,K,Nx))\n",
    "    L_ini_t = np.zeros((N_t,Nx,Nx)) \n",
    "    groups_ini_t = np.zeros((N_t, K, Nx ))\n",
    "    n_groups = len(start_groups)\n",
    "\n",
    "    groups_ini = np.zeros((K,Nx)) #Groups label\n",
    "    for m1 in range(K):\n",
    "        for i_g in range(n_groups):\n",
    "            start = start_groups[i_g]\n",
    "            end = end_groups[i_g]\n",
    "            groups_ini[m1, start:end] = i_g\n",
    "    \n",
    "        \n",
    "    \n",
    "    for i in range(0,N_t): \n",
    "        P_ini_t[i,:,:] = P_ini_0[:,:].copy()\n",
    "        P_inv_ini_t[i,:,:] = P_inv_ini_0[:,:].copy()\n",
    "        L_ini_t[i,:,:] = L_ini.copy()\n",
    "        groups_ini_t[i,:,:] = groups_ini.copy()\n",
    "    P_t = np.zeros((N_t,K,Nx))\n",
    "    P_inv_t = np.zeros((N_t,K,Nx))\n",
    "    L_t = np.zeros((N_t,Nx, Nx))\n",
    "\n",
    "    P_t = (P_ini_t).copy()\n",
    "    P_inv_t = (P_inv_ini_t).copy()\n",
    "    groups_t = groups_ini_t.copy()\n",
    "\n",
    "\n",
    "    Energy_t, Energy_ini_t = np.zeros((N_t)), np.zeros((N_t))\n",
    "    Edges_L_t, Edges_NoL_t = np.zeros((N_t)), np.zeros((N_t))\n",
    "    ovlp_t0, ovlp_t1 = np.zeros((N_t)) , np.zeros((N_t)) \n",
    "    suma_L_t = np.zeros(N_t)\n",
    "\n",
    "    ovlp_t0, ovlp_t1 = ovlp_t0.astype(int), ovlp_t1.astype(int)\n",
    "    P_t = P_t.astype(int)\n",
    "    P_inv_t = P_inv_t.astype(int)\n",
    "    L_t = L_t.astype(int)\n",
    "    groups_t = groups_t.astype(int)\n",
    "    \n",
    "    #### Now the Blueprint is averaged\n",
    "    Edges_sum = K*Nx*Nx\n",
    "    for k_nt in range(N_t):\n",
    "        L_t[k_nt,:,:] =  L_wiring(A, P_inv_t[k_nt,:,:])\n",
    "        Edges_L_t[k_nt] = K*sum(sum(L_t[k_nt,:,:]))\n",
    "        Edges_NoL_t[k_nt] = Edges_sum - Edges_L_t[k_nt]\n",
    "        overlap_0, overlap_1 = overlap_total_prob(L_t[k_nt,:,:],A,P_inv_t[k_nt,:,:])\n",
    "        Energy_t[k_nt] = hamiltonian_prob(Edges_NoL_t[k_nt], Edges_L_t[k_nt], overlap_0, overlap_1,alpha, beta)\n",
    "        ovlp_t0[k_nt], ovlp_t1[k_nt] = overlap_0, overlap_1\n",
    "        suma_L_t[k_nt] = sum_numba(L_t[k_nt,:,:])\n",
    "    \n",
    "\n",
    "    \n",
    "    return P_t, P_inv_t, L_t, Edges_L_t,Edges_NoL_t, Energy_t, ovlp_t0,ovlp_t1, suma_L_t,groups_t "
   ]
  },
  {
   "cell_type": "code",
   "execution_count": 8,
   "id": "5bc35f1e-153b-40f1-8ead-36881b692eb3",
   "metadata": {},
   "outputs": [],
   "source": [
    "def initialization(A, start_groups,end_groups, K, Nx, N_t, tempers, alpha, beta):\n",
    "    \n",
    "    L_ini = A[0,:,:].copy() ## Inicialize to compute permutation ranked by node degree\n",
    "    P_inis = permu_groups(L_ini, A, start_groups)\n",
    "    # P_inis = permu_groups_random(A, start_groups, end_groups)\n",
    "    P_inis = P_inis.astype(int)\n",
    "    P_ini_0 = (P_inis[0,:,:]).copy() # Mapping L to A\n",
    "    P_inv_ini_0 = (P_inis[1,:,:]).copy() # Mapping A to L\n",
    "    ## Inizialitation of the system for each temperature, with the same mappings\n",
    "    P_ini_t = np.zeros((N_t,K,Nx))\n",
    "    P_inv_ini_t = np.zeros((N_t,K,Nx))\n",
    "    L_ini_t = np.zeros((N_t,Nx,Nx)) \n",
    "    groups_ini_t = np.zeros((N_t, K, Nx ))\n",
    "    n_groups = len(start_groups)\n",
    "\n",
    "    groups_ini = np.zeros((K,Nx)) #Groups label\n",
    "    for m1 in range(K):\n",
    "        for i_g in range(n_groups):\n",
    "            start = start_groups[i_g]\n",
    "            end = end_groups[i_g]\n",
    "            groups_ini[m1, start:end] = i_g\n",
    "    \n",
    "        \n",
    "    \n",
    "    for i in range(0,N_t): \n",
    "        P_ini_t[i,:,:] = P_ini_0[:,:].copy()\n",
    "        P_inv_ini_t[i,:,:] = P_inv_ini_0[:,:].copy()\n",
    "        L_ini_t[i,:,:] = L_ini.copy()\n",
    "        groups_ini_t[i,:,:] = groups_ini.copy()\n",
    "    P_t = np.zeros((N_t,K,Nx))\n",
    "    P_inv_t = np.zeros((N_t,K,Nx))\n",
    "    L_t = np.zeros((N_t,Nx, Nx))\n",
    "\n",
    "    P_t = (P_ini_t).copy()\n",
    "    P_inv_t = (P_inv_ini_t).copy()\n",
    "    groups_t = groups_ini_t.copy()\n",
    "\n",
    "\n",
    "    Energy_t, Energy_ini_t = np.zeros((N_t)), np.zeros((N_t))\n",
    "    Edges_L_t, Edges_NoL_t = np.zeros((N_t)), np.zeros((N_t))\n",
    "    ovlp_t0, ovlp_t1 = np.zeros((N_t)) , np.zeros((N_t)) \n",
    "    suma_L_t = np.zeros(N_t)\n",
    "\n",
    "    ovlp_t0, ovlp_t1 = ovlp_t0.astype(int), ovlp_t1.astype(int)\n",
    "    P_t = P_t.astype(int)\n",
    "    P_inv_t = P_inv_t.astype(int)\n",
    "    L_t = L_t.astype(int)\n",
    "    groups_t = groups_t.astype(int)\n",
    "    \n",
    "    #### Now the Blueprint is averaged\n",
    "    Edges_sum = K*Nx*Nx\n",
    "    for k_nt in range(N_t):\n",
    "        L_t[k_nt,:,:] =  L_wiring(A, P_inv_t[k_nt,:,:])\n",
    "        Edges_L_t[k_nt] = K*sum(sum(L_t[k_nt,:,:]))\n",
    "        Edges_NoL_t[k_nt] = Edges_sum - Edges_L_t[k_nt]\n",
    "        overlap_0, overlap_1 = overlap_total_prob(L_t[k_nt,:,:],A,P_inv_t[k_nt,:,:])\n",
    "        Energy_t[k_nt] = hamiltonian_prob(Edges_NoL_t[k_nt], Edges_L_t[k_nt], overlap_0, overlap_1,alpha, beta)\n",
    "        ovlp_t0[k_nt], ovlp_t1[k_nt] = overlap_0, overlap_1\n",
    "        suma_L_t[k_nt] = sum_numba(L_t[k_nt,:,:])\n",
    "    \n",
    "\n",
    "    \n",
    "    return P_t, P_inv_t, L_t, Edges_L_t,Edges_NoL_t, Energy_t, ovlp_t0,ovlp_t1, suma_L_t,groups_t "
   ]
  },
  {
   "cell_type": "code",
   "execution_count": 9,
   "id": "0ae57ff8-6a50-4c59-87ff-4a03653509c6",
   "metadata": {},
   "outputs": [],
   "source": [
    "def initialization_continuation(A, P_inv_t, start_groups,end_groups, K, Nx, N_t, tempers, alpha, beta):\n",
    "    \n",
    "    \n",
    "    ## recalculo la L_t\n",
    "    P_inv_ini = P_inv_t.copy()\n",
    "    L_ini = np.zeros((N_t, Nx, Nx))\n",
    "    P_ini = np.zeros((P_inv_t.shape))\n",
    "    Edges_L_ini, Edges_NoL_ini = np.zeros((N_t)), np.zeros((N_t))\n",
    "    Energy_ini, suma_L_ini = np.zeros((N_t)), np.zeros((N_t))\n",
    "    overlap_0_ini, overlap_1_ini = np.zeros((N_t)), np.zeros((N_t))\n",
    "    for k_nt in range(N_t):\n",
    "        for i_k in range(K):\n",
    "            P_ini[k_nt, i_k,:] = np.argsort(P_inv_ini[k_nt, i_k,:])\n",
    "\n",
    "        L_ini[k_nt, :,:] =  L_wiring(A,P_inv_ini[k_nt, :,:])\n",
    "\n",
    "        Edges_sum = K*Nx*Nx\n",
    "        Edges_L_ini[k_nt] = K*(sum(sum(L_ini[k_nt, :,:]))) # Los edges=1 que tiene la matriz A\n",
    "        Edges_NoL_ini[k_nt] = Edges_sum - Edges_L_ini[k_nt] #Los edges=0 que tiene la matriz A\n",
    "        overlap_0_ini[k_nt], overlap_1_ini[k_nt] = overlap_total_prob(L_ini[k_nt, :,:],A,P_inv_ini[k_nt, :,:])     \n",
    "        Energy_ini[k_nt] = hamiltonian_prob(Edges_NoL_ini[k_nt], Edges_L_ini[k_nt], overlap_0_ini[k_nt], overlap_1_ini[k_nt], alpha, beta)\n",
    "        suma_L_ini[k_nt] = sum_numba(L_ini[k_nt,:,:])\n",
    "    \n",
    "    \n",
    "    groups_ini = np.zeros((N_t, K, Nx ))\n",
    "    for m1 in range(K):\n",
    "        for i_g in range(n_groups):\n",
    "            start = start_groups[i_g]\n",
    "            end = end_groups[i_g]\n",
    "            groups_ini[:,m1, start:end] = i_g\n",
    "    \n",
    "    overlap_0_ini, overlap_1_ini = overlap_0_ini.astype(int), overlap_1_ini.astype(int)\n",
    "    P_ini = P_ini.astype(int)\n",
    "    P_inv_ini = P_inv_ini.astype(int)\n",
    "    L_ini = L_ini.astype(int)\n",
    "    groups_ini = groups_ini.astype(int)\n",
    "    \n",
    "    return P_ini, P_inv_ini, L_ini, Edges_L_ini,Edges_NoL_ini, Energy_ini, overlap_0_ini, overlap_1_ini,suma_L_ini, groups_ini\n"
   ]
  },
  {
   "cell_type": "code",
   "execution_count": 10,
   "id": "1144ce79-7cc0-400b-91df-811d28e85971",
   "metadata": {},
   "outputs": [],
   "source": [
    "def variable_store(PasosMC,Pasos_store,N_epochs, N_t, K, Nx):\n",
    "    energies_pasos = np.zeros((N_epochs,N_t,PasosMC))\n",
    "    P_store = np.zeros((N_epochs,Pasos_store,N_t, K, Nx))\n",
    "    Energy_store = np.zeros((N_epochs,Pasos_store, N_t))\n",
    "    L_store = np.zeros((N_epochs,Pasos_store,N_t, Nx, Nx))\n",
    "    return energies_pasos, P_store,L_store, Energy_store\n",
    "    "
   ]
  },
  {
   "cell_type": "code",
   "execution_count": 11,
   "id": "27120e99-87e5-444c-bd2e-a329e7ef15d3",
   "metadata": {},
   "outputs": [],
   "source": [
    "@jit(nopython=True)\n",
    "def L_wiring_change_filas(m1,L_old,A_f, i_change, j_change, P_inv_old):\n",
    "    \n",
    "    Nx = A_f.shape[1]\n",
    "    K = A_f.shape[0] \n",
    "    \n",
    "    L_new_f = L_old.copy()\n",
    "    L_f_v1v2,L_c_v1v2  = np.zeros((2,Nx)),np.zeros((2,Nx))\n",
    "    \n",
    "    ## changes\n",
    "    changes = np.array([i_change, j_change])\n",
    "    changes_new = np.array([j_change, i_change])\n",
    "    \n",
    "    ## Old values\n",
    "    suma_old =(np.sum(L_old[i_change,:]) + np.sum(L_old[j_change,:]) + np.sum(L_old[:,i_change]) + np.sum(L_old[:,j_change]))-L_old[i_change,j_change]-L_old[j_change,j_change]-L_old[i_change,i_change]-L_old[j_change,i_change]\n",
    "    \n",
    "    ## New row and column\n",
    "    L_new_f[i_change,:], L_new_f[j_change,:], L_new_f[:,i_change], L_new_f[:,j_change] = np.zeros(Nx),np.zeros(Nx),np.zeros(Nx),np.zeros(Nx)\n",
    "    \n",
    "\n",
    "    suma_1 = 0\n",
    "    \n",
    "    for i_i,i_chan in enumerate(changes): #Only looking at the \n",
    "        ############### ROWS & COLUMNS\n",
    "        for i_x in range(Nx):\n",
    "            if (i_x in changes): # The rest of nodes\n",
    "                for k in range(K):\n",
    "                    if (k == m1):\n",
    "                        chan_new = changes_new[i_i]\n",
    "                        \n",
    "                        if (i_x == changes_new[0]):\n",
    "                            p2_2 = int(P_inv_old[k,changes_new[1]])\n",
    "                        else:\n",
    "                            p2_2 = int(P_inv_old[k,changes_new[0]])\n",
    "                    else:\n",
    "                        chan_new = changes[i_i]\n",
    "                        p2_2 = int(P_inv_old[k,i_x])\n",
    "                    p1_2 = int (P_inv_old[k,chan_new])\n",
    "\n",
    "                    L_f_v1v2[i_i,i_x] += A_f[k,p1_2,p2_2]\n",
    "                    L_c_v1v2[i_i,i_x] += A_f[k,p2_2,p1_2]\n",
    "\n",
    "            else: # The nodes that change\n",
    "                for k in range(K):\n",
    "                    if (k == m1):\n",
    "                        chan_new = changes_new[i_i]\n",
    "                    else:\n",
    "                        chan_new = changes[i_i]\n",
    "                    \n",
    "                    \n",
    "                    p1_2 = int (P_inv_old[k,chan_new])\n",
    "                    p2_2 = int(P_inv_old[k,i_x])\n",
    "                    \n",
    "                    L_f_v1v2[i_i,i_x] += A_f[k,p1_2,p2_2]\n",
    "                    L_c_v1v2[i_i,i_x] += A_f[k,p2_2,p1_2]\n",
    "                    \n",
    "                    \n",
    "                    \n",
    "            valor_lnew_2=1/K*  L_f_v1v2[i_i,i_x]\n",
    "            L_f_v1v2[i_i,i_x] = round( valor_lnew_2 )\n",
    "\n",
    "            valor_lnew_c=1/K* L_c_v1v2[i_i,i_x]\n",
    "            L_c_v1v2[i_i,i_x] = round( valor_lnew_c)\n",
    "                    \n",
    "    suma_new = np.sum(L_f_v1v2[0,:]) + np.sum(L_f_v1v2[1,:]) + np.sum(L_c_v1v2[0,:]) + np.sum(L_c_v1v2[1,:])-L_c_v1v2[0,j_change]-L_c_v1v2[0,i_change]-L_c_v1v2[1,j_change]-L_c_v1v2[1,i_change]\n",
    "    suma_1 = suma_new - suma_old\n",
    "    return L_f_v1v2,L_c_v1v2, suma_1    \n"
   ]
  },
  {
   "cell_type": "code",
   "execution_count": 12,
   "id": "2b75b7fa-9cac-492c-a667-9d807ffa8c6d",
   "metadata": {},
   "outputs": [],
   "source": [
    "@jit(nopython=True)\n",
    "def L_wiring_overlap_change_filas(m1,L_f_v1v2_old,L_c_v1v2_old,A_f, i_change, j_change, P_inv_old, pp1, pp2):\n",
    "    \n",
    "    Nx = A_f.shape[1]\n",
    "    K = A_f.shape[0] \n",
    "\n",
    "    #### Para la parte del WIRING    \n",
    "    L_f_v1v2,L_c_v1v2  = np.zeros((2,Nx)),np.zeros((2,Nx))\n",
    "    \n",
    "    ## changes\n",
    "    changes = np.array([i_change, j_change])\n",
    "    changes_new = np.array([j_change, i_change])\n",
    "    \n",
    "    ## Old values\n",
    "    suma_old =(np.sum(L_f_v1v2_old[0,:]) + np.sum(L_f_v1v2_old[1,:]) + np.sum(L_c_v1v2_old[0,:]) + np.sum(L_c_v1v2_old[1,:]))-L_f_v1v2_old[0,j_change]-L_f_v1v2_old[1,j_change]-L_f_v1v2_old[0,i_change]-L_f_v1v2_old[1,i_change]\n",
    "    \n",
    "    ## New row and column\n",
    "    ##### Para la parte del OVERLAP\n",
    "    ovlp_0_new , ovlp_1_new = 0,0\n",
    "    ovlp_0_old , ovlp_1_old = 0,0\n",
    "    ovlp_0_dif, ovlp_1_dif = 0,0\n",
    "    changes_p = np.array([pp1, pp2], dtype = np.int32)  \n",
    "    changes_p_old = np.array([pp2, pp1], dtype = np.int32)\n",
    "    suma_1 = 0\n",
    "    \n",
    "    for i_i,i_chan in enumerate(changes): #Only looking at the \n",
    "        ############### ROWS & COLUMNS\n",
    "        for i_x in range(Nx):\n",
    "            if (i_x in changes): # The rest of nodes\n",
    "                for k in range(K):\n",
    "                    if (k == m1):\n",
    "                        chan_new = changes_new[i_i]\n",
    "                        \n",
    "                        if (i_x == changes_new[0]):\n",
    "                            p2_2 = int(P_inv_old[k,changes_new[1]])\n",
    "                        else:\n",
    "                            p2_2 = int(P_inv_old[k,changes_new[0]])\n",
    "                    else:\n",
    "                        chan_new = changes[i_i]\n",
    "                        p2_2 = int(P_inv_old[k,i_x])\n",
    "                    p1_2 = int (P_inv_old[k,chan_new])\n",
    "\n",
    "                    L_f_v1v2[i_i,i_x] += A_f[k,p1_2,p2_2]\n",
    "                    L_c_v1v2[i_i,i_x] += A_f[k,p2_2,p1_2]\n",
    "\n",
    "            else: # The nodes that change\n",
    "                for k in range(K):\n",
    "                    if (k == m1):\n",
    "                        chan_new = changes_new[i_i]\n",
    "                    else:\n",
    "                        chan_new = changes[i_i]\n",
    "                    \n",
    "                    \n",
    "                    p1_2 = int (P_inv_old[k,chan_new])\n",
    "                    p2_2 = int(P_inv_old[k,i_x])\n",
    "                    \n",
    "                    L_f_v1v2[i_i,i_x] += A_f[k,p1_2,p2_2]\n",
    "                    L_c_v1v2[i_i,i_x] += A_f[k,p2_2,p1_2]\n",
    "                    \n",
    "                    \n",
    "                    \n",
    "            valor_lnew_2=1/K*  L_f_v1v2[i_i,i_x]\n",
    "            L_f_v1v2[i_i,i_x] = round( valor_lnew_2 )\n",
    "\n",
    "            valor_lnew_c=1/K* L_c_v1v2[i_i,i_x]\n",
    "            L_c_v1v2[i_i,i_x] = round( valor_lnew_c)\n",
    "                    \n",
    "            ## Una vez que tenemos los valores de la L podemos mirar el overlap!\n",
    "            for i_k in range(K):\n",
    "                if i_k != m1: # Only changes in m1\n",
    "                    p_f = int(P_inv_old[i_k,i_chan])\n",
    "                    p_c = int(P_inv_old[i_k,i_x])\n",
    "                    p_old, p_old_c = p_f, p_c\n",
    "                else:\n",
    "                    p_f = changes_p[i_i]\n",
    "                    p_old = changes_p_old[i_i]\n",
    "                    if (i_x == i_change):\n",
    "                        p_c = pp1\n",
    "                        p_old_c = pp2\n",
    "                    elif(i_x == j_change):\n",
    "                        p_c = pp2\n",
    "                        p_old_c = pp1\n",
    "                    else: # Only changes in the nodes i,j\n",
    "                        p_c = int(P_inv_old[i_k, i_x])\n",
    "                        p_old_c = p_c\n",
    "            \n",
    "                valor_L_old, valor_A_old = L_f_v1v2_old[i_i,i_x], A_f[i_k,p_old,p_old_c]   \n",
    "                valor_L_new, valor_A_new = L_f_v1v2[i_i,i_x], A_f[i_k,p_f,p_c]\n",
    "                ## columns\n",
    "                valor_L_old_c, valor_A_old_c = 0,0\n",
    "                valor_L_new_c, valor_A_new_c = 0,0\n",
    "                column = 0        \n",
    "                if (i_x not in changes):\n",
    "                    column = 1\n",
    "                    valor_L_old_c, valor_A_old_c = L_c_v1v2_old[i_i,i_x],A_f[i_k,p_old_c, p_old]\n",
    "                    valor_L_new_c, valor_A_new_c = L_c_v1v2[i_i,i_x], A_f[i_k,p_c,p_f]\n",
    "    \n",
    "                ovlp_1_old = ovlp_1_old + valor_L_old*valor_A_old + valor_L_old_c*valor_A_old_c*column\n",
    "                ovlp_0_old = ovlp_0_old + (1-valor_L_old)*(1-valor_A_old) + (1-valor_L_old_c)*(1-valor_A_old_c)*column\n",
    "                \n",
    "                ovlp_1_new = ovlp_1_new + valor_L_new*valor_A_new + valor_L_new_c*valor_A_new_c*column\n",
    "                ovlp_0_new = ovlp_0_new + (1-valor_L_new)*(1-valor_A_new) + (1-valor_L_new_c)*(1-valor_A_new_c)*column\n",
    "                \n",
    "\n",
    "    \n",
    "                    \n",
    "    suma_new = np.sum(L_f_v1v2[0,:]) + np.sum(L_f_v1v2[1,:]) + np.sum(L_c_v1v2[0,:]) + np.sum(L_c_v1v2[1,:])-L_c_v1v2[0,j_change]-L_c_v1v2[0,i_change]-L_c_v1v2[1,j_change]-L_c_v1v2[1,i_change]\n",
    "    suma_1 = suma_new - suma_old\n",
    "\n",
    "    ## Parte del overlap \n",
    "    ovlp_1_def = ovlp_1_new - ovlp_1_old\n",
    "    ovlp_0_def = ovlp_0_new- ovlp_0_old\n",
    "\n",
    "\n",
    "\n",
    "    \n",
    "    return L_f_v1v2,L_c_v1v2, suma_1, ovlp_0_def, ovlp_1_def\n"
   ]
  },
  {
   "cell_type": "code",
   "execution_count": 13,
   "id": "d02a7492-1228-4b44-8f63-a53469c70b66",
   "metadata": {},
   "outputs": [],
   "source": [
    "@jit(nopython = True)\n",
    "def parallel_L_knwn_change_groups(c_parallel,alpha,beta,fijado_f,groups_f, N_groups_f, start_f, end_f,\n",
    "                       A, P_t_f, P_inv_t_f, L_t_f,suma_L, Energy_t_f, ovlp_t_f0, ovlp_t_f1, tempers_f,tempers_odd, tempers_even,\n",
    "                                    c_accep, c_odd, m_old, round_trip_old, c_rounds):\n",
    "    \n",
    "    # fijado_f : To let one of the networks fixed or not (If only two networks it doesn't matter)\n",
    "    # c_parallel: counter to change temperatures\n",
    "    # start_f, end,f\n",
    "    # N_groups_f: Number of groups\n",
    "    # groups_f: Directly the ggroup numbeer from the position\n",
    "    ### Movement:\n",
    "    # 1) Choose one node and see their group (also we can choose a group first)\n",
    "    # 2) Choose another random node inside this group \n",
    "    # 3) Each 4 movements, we propose change the temperatures\n",
    "\n",
    "    N_t = L_t_f.shape[0] # Numbers of tempers\n",
    "    Nx = L_t_f.shape[1] # Numbers of nodes\n",
    "    K = A.shape[0] # Numbers of networks\n",
    "    Edges_sum = K*Nx*Nx\n",
    "   \n",
    "    if (c_parallel <4*Nx): # If not change of temperatures\n",
    "        c_parallel += 1\n",
    "        \n",
    "        #Choose the networks to propose the change (in all temperatures)\n",
    "        if (fijado_f == 1):\n",
    "            m1 = np.random.randint(K-1)+1 #One networks\n",
    "        else:\n",
    "            m1 = np.random.randint(K)    \n",
    "        \n",
    "        for k_nt in range(N_t):    \n",
    "            # 1) Choose a random node (node in A)\n",
    "            v1_mapping = np.random.randint(0, Nx)\n",
    "            grupo = groups_f[k_nt,m1,v1_mapping]\n",
    "            start, end = start_f[grupo], end_f[grupo]\n",
    "            size_group = end - start\n",
    "            todos = size_group \n",
    "            if (size_group > 1): \n",
    "                v2_mapping = np.random.randint(start, end)\n",
    "                while (v2_mapping == v1_mapping):\n",
    "                    v2_mapping = np.random.randint(start, end)\n",
    "    \n",
    "                # Nodes in L\n",
    "                v1 = P_t_f[k_nt, m1,v1_mapping]\n",
    "                v2 = P_t_f[k_nt, m1, v2_mapping]\n",
    "    \n",
    "    \n",
    "                ### Only changes in the specific columns and rows\n",
    "                L_f_v1v2, L_f_v1v2_old = np.zeros((2,Nx)),np.zeros((2,Nx))\n",
    "                L_c_v1v2, L_c_v1v2_old = np.zeros((2,Nx)),np.zeros((2,Nx))\n",
    "    \n",
    "                pp_1 = int(P_inv_t_f[k_nt,m1,v2]) # v2_mapping\n",
    "                pp_2 = int(P_inv_t_f[k_nt,m1,v1]) # v1_mapping\n",
    "    \n",
    "                L_f_v1v2_old[0,:],L_f_v1v2_old[1,:] = L_t_f[k_nt,v1,:].copy(),L_t_f[k_nt,v2,:].copy()\n",
    "                L_c_v1v2_old[0,:],L_c_v1v2_old[1,:] = L_t_f[k_nt,:,v1].copy(),L_t_f[k_nt,:,v2].copy()\n",
    "                \n",
    "                # Changes in the blueprint\n",
    "                L_f_v1v2,L_c_v1v2 , suma_aux,ovl_0_new, ovl_1_new = L_wiring_overlap_change_filas(m1,L_f_v1v2_old,L_c_v1v2_old, A, v1, v2, P_inv_t_f[k_nt,:,:], pp_1, pp_2)\n",
    "                \n",
    "                # Parameters to change\n",
    "                Edges_L = K*(suma_L[k_nt] + suma_aux)\n",
    "                Edges_NoL = Edges_sum - Edges_L\n",
    "                overlap_0,overlap_1 = ovlp_t_f0[k_nt] + ovl_0_new, ovlp_t_f1[k_nt] + ovl_1_new\n",
    "                Energy_bucle = hamiltonian_prob(Edges_NoL, Edges_L, overlap_0,overlap_1,alpha, beta)\n",
    "                dE_sampler = Energy_bucle - Energy_t_f[k_nt]\n",
    "                dE_t = dE_sampler\n",
    "                \n",
    "                ### UPDATE\n",
    "                if (dE_t < 0):\n",
    "                    \n",
    "                    P_aux1 = P_t_f[k_nt, m1,pp_2]\n",
    "                    P_t_f[k_nt, m1, pp_2] = P_t_f[k_nt, m1,pp_1]\n",
    "                    P_t_f[k_nt, m1, pp_1] = P_aux1\n",
    "    \n",
    "                    P_invaux1 = P_inv_t_f[k_nt,m1,v2]\n",
    "                    P_inv_t_f[k_nt,m1,v2] = P_inv_t_f[k_nt,m1,v1]\n",
    "                    P_inv_t_f[k_nt,m1,v1] = P_invaux1\n",
    "    \n",
    "                    Energy_t_f[k_nt] = Energy_t_f[k_nt] + dE_t\n",
    "                    ovlp_t_f0[k_nt] = overlap_0\n",
    "                    ovlp_t_f1[k_nt] = overlap_1\n",
    "                    L_t_f[k_nt,v1, :],L_t_f[k_nt,v2, :] = L_f_v1v2[0,:],L_f_v1v2[1,:]\n",
    "                    L_t_f[k_nt,:,v1],L_t_f[k_nt,:,v2] = L_c_v1v2[0,:],L_c_v1v2[1,:]\n",
    "                    suma_L[k_nt] = suma_L[k_nt] + suma_aux\n",
    "    \n",
    "                elif (np.random.rand() < np.exp(-dE_t*tempers_f[k_nt])):\n",
    "    \n",
    "                    P_aux1 = P_t_f[k_nt, m1,pp_2]\n",
    "                    P_t_f[k_nt, m1, pp_2] = P_t_f[k_nt, m1,pp_1]\n",
    "                    P_t_f[k_nt, m1, pp_1] = P_aux1\n",
    "    \n",
    "                    P_invaux1 = P_inv_t_f[k_nt,m1,v2]\n",
    "                    P_inv_t_f[k_nt,m1,v2] = P_inv_t_f[k_nt,m1,v1]\n",
    "                    P_inv_t_f[k_nt,m1,v1] = P_invaux1\n",
    "    \n",
    "                    Energy_t_f[k_nt] = Energy_t_f[k_nt] + dE_t\n",
    "                    ovlp_t_f0[k_nt] = overlap_0\n",
    "                    ovlp_t_f1[k_nt] = overlap_1\n",
    "                    L_t_f[k_nt,v1, :],L_t_f[k_nt,v2, :] = L_f_v1v2[0,:].copy(),L_f_v1v2[1,:].copy()\n",
    "                    L_t_f[k_nt,:,v1],L_t_f[k_nt,:,v2] = L_c_v1v2[0,:].copy(),L_c_v1v2[1,:].copy()\n",
    "                    suma_L[k_nt] = suma_L[k_nt] + suma_aux\n",
    "\n",
    "    else: # Change in temperatures\n",
    "        c_parallel = 0\n",
    "        mt1 = np.random.randint(N_t) \n",
    "        if mt1 == 0:\n",
    "            mt2 = 1\n",
    "        elif mt1 == (N_t - 1):\n",
    "            mt2 = mt1 -1\n",
    "        else:\n",
    "            mt2 = mt1 + random_menos_mas(np.random.rand())\n",
    "        \n",
    "            \n",
    "    \n",
    "        \n",
    "        #Probar el cambio de energía\n",
    "        #Cambio del 1:\n",
    "        Energy_1 = Energy_t_f[mt1]\n",
    "        #Cambio del 2:\n",
    "        Energy_2 = Energy_t_f[mt2] \n",
    "\n",
    "\n",
    "        dE_parallel = -(tempers_f[mt1]-tempers_f[mt2])*(Energy_1-Energy_2)\n",
    "            \n",
    "        if (dE_parallel <0):\n",
    "            P_aux1 = (P_t_f[mt1, :, :]).copy()\n",
    "            P_inv_aux1 = (P_inv_t_f[mt1,:,:]).copy()\n",
    "            L_aux1 = (L_t_f[mt1,:,:]).copy()\n",
    "\n",
    "            ovlp_aux0 = (ovlp_t_f0[mt1])\n",
    "            ovlp_aux1 = (ovlp_t_f1[mt1])\n",
    "            suma_aux = suma_L[mt1]\n",
    "\n",
    "            # 1 --> 2\n",
    "            Energy_t_f[mt1] = Energy_2\n",
    "            P_t_f[mt1,:,:] = (P_t_f[mt2, :, :]).copy()\n",
    "            P_inv_t_f[mt1,:,:] = (P_inv_t_f[mt2,:,:]).copy()\n",
    "            L_t_f[mt1,:,:] = (L_t_f[mt2,:,:]).copy()\n",
    "\n",
    "            ovlp_t_f0[mt1] = ovlp_t_f0[mt2]\n",
    "            ovlp_t_f1[mt1] = ovlp_t_f1[mt2]\n",
    "            suma_L[mt1] = suma_L[mt2]\n",
    "\n",
    "            # 2 --> 1\n",
    "            Energy_t_f[mt2] = Energy_1\n",
    "            P_t_f[mt2,:,:] = P_aux1\n",
    "            P_inv_t_f[mt2,:,:] = P_inv_aux1\n",
    "            L_t_f[mt2,:,:] = L_aux1\n",
    "\n",
    "            ovlp_t_f0[mt2] = ovlp_aux0\n",
    "            ovlp_t_f1[mt2] = ovlp_aux1\n",
    "            suma_L[mt2] = suma_aux\n",
    "            \n",
    "\n",
    "        elif (np.random.rand() < np.exp(-dE_parallel)):\n",
    "            P_aux1 = (P_t_f[mt1, :, :]).copy()\n",
    "            P_inv_aux1 = (P_inv_t_f[mt1,:,:]).copy()\n",
    "            L_aux1 = (L_t_f[mt1,:,:]).copy()\n",
    "\n",
    "            ovlp_aux0 = (ovlp_t_f0[mt1])\n",
    "            ovlp_aux1 = (ovlp_t_f1[mt1])\n",
    "            suma_aux = suma_L[mt1]\n",
    "\n",
    "            # 1 --> 2\n",
    "            Energy_t_f[mt1] = Energy_2\n",
    "            P_t_f[mt1,:,:] = (P_t_f[mt2, :, :]).copy()\n",
    "            P_inv_t_f[mt1,:,:] = (P_inv_t_f[mt2,:,:]).copy()\n",
    "            L_t_f[mt1,:,:] = (L_t_f[mt2,:,:]).copy()\n",
    "\n",
    "            ovlp_t_f0[mt1] = ovlp_t_f0[mt2]\n",
    "            ovlp_t_f1[mt1] = ovlp_t_f1[mt2]\n",
    "            suma_L[mt1] = suma_L[mt2]\n",
    "\n",
    "            # 2 --> 1\n",
    "            Energy_t_f[mt2] = Energy_1\n",
    "            P_t_f[mt2,:,:] = P_aux1\n",
    "            P_inv_t_f[mt2,:,:] = P_inv_aux1\n",
    "            L_t_f[mt2,:,:] = L_aux1\n",
    "\n",
    "            ovlp_t_f0[mt2] = ovlp_aux0\n",
    "            ovlp_t_f1[mt2] = ovlp_aux1\n",
    "            suma_L[mt2] = suma_aux\n",
    "            \n",
    "\n",
    "\n",
    "  \n",
    "    return c_parallel, P_t_f, P_inv_t_f,Energy_t_f, ovlp_t_f0, ovlp_t_f1, L_t_f, suma_L, c_accep, c_odd, m_old, round_trip_old, c_rounds\n",
    "\n",
    "@njit\n",
    "def random_menos_mas(number):\n",
    "    if number >= 0.5:\n",
    "        return 1\n",
    "    else:\n",
    "        return -1"
   ]
  },
  {
   "cell_type": "markdown",
   "id": "5a324ab3-07ba-48b1-b2a9-afd9d29571cf",
   "metadata": {},
   "source": [
    "\n",
    "## Initialization"
   ]
  },
  {
   "cell_type": "code",
   "execution_count": 20,
   "id": "e33d8b40-6f67-4622-8c43-0d0dc0c0dce5",
   "metadata": {},
   "outputs": [
    {
     "name": "stdout",
     "output_type": "stream",
     "text": [
      "[40. 40. 40. 40. 40. 40. 40.]\n"
     ]
    }
   ],
   "source": [
    "## Parameters \n",
    "\n",
    "fijado = 0  # To maintain fix the first network\n",
    "alpha, beta = 5,2\n",
    "Edges_sum = K*Nx*Nx\n",
    "\n",
    "PasosMC, Long_corr,Pasos_corr,Pasos_store = np.zeros((N_probs)), np.zeros((N_probs)),np.zeros((N_probs)),np.zeros((N_probs))\n",
    "PasosMC = PasosMC + 600+40*50\n",
    "Long_corr = Long_corr + 50\n",
    "Pasos_corr = Pasos_corr + 600\n",
    "\n",
    "# i_min, i_max = 0,3\n",
    "# PasosMC[i_min:i_max] = 1000\n",
    "# Pasos_corr[i_min:i_max] = 500\n",
    "# Long_corr[i_min:i_max] = 100\n",
    "\n",
    "# i_min, i_max = 3,4\n",
    "# PasosMC[i_min:i_max] = 1200\n",
    "# Pasos_corr[i_min:i_max] = 600\n",
    "# Long_corr[i_min:i_max] = 100\n",
    "# i= 4\n",
    "# PasosMC[i] = 1200\n",
    "# Pasos_corr[i] = 800\n",
    "# Long_corr[i] = 100\n",
    "# i_min, i_max = 5,7\n",
    "# PasosMC[i_min:i_max] = 1700\n",
    "# Pasos_corr[i_min:i_max] = 1500\n",
    "# Long_corr[i_min:i_max] = 100\n",
    "# i = 7\n",
    "# PasosMC[i] = 3000\n",
    "# Pasos_corr[i] = 2500\n",
    "# Long_corr[i] = 100\n",
    "# i = 8\n",
    "# PasosMC[i] = 15000\n",
    "# Pasos_corr[i] = 13000\n",
    "# Long_corr[i] = 100\n",
    "\n",
    "# i_min, i_max = 9,15\n",
    "# PasosMC[i_min:i_max] = 100000\n",
    "# Pasos_corr[i_min:i_max] = 50000\n",
    "# Long_corr[i_min:i_max] = 2000\n",
    "\n",
    "\n",
    "# i_min, i_max = 15,18\n",
    "# PasosMC[i_min:i_max] = 100000\n",
    "# Pasos_corr[i_min:i_max] = 50000\n",
    "# Long_corr[i_min:i_max] = 2000\n",
    "\n",
    "\n",
    "for i_prob in range(N_probs):\n",
    "    Pasos_store[i_prob] = int((PasosMC[i_prob] -( Pasos_corr[i_prob]))/Long_corr[i_prob])\n",
    "    if (Pasos_store[i_prob]<0):\n",
    "        Pasos_store[i_prob] = 0\n",
    "print(Pasos_store)\n",
    "\n",
    "PasosMC, Long_corr,Pasos_corr,Pasos_store = PasosMC.astype(int), Long_corr.astype(int),Pasos_corr.astype(int),Pasos_store.astype(int)"
   ]
  },
  {
   "cell_type": "code",
   "execution_count": 21,
   "id": "42a0a883-7b8a-4eb0-b4d4-2cd61e824676",
   "metadata": {},
   "outputs": [],
   "source": [
    "### TEMPERATURAS\n",
    "tempers, tempers_odd,tempers_even = {},  {}, {}\n",
    "total, max = np.zeros((N_probs)), np.zeros((N_probs)) \n",
    "total = total + 11\n",
    "max = max - 40\n",
    "total, max = total.astype(int), max.astype(int) \n",
    "\n",
    "\n",
    "for i_probs in range(N_probs):\n",
    "    beta_o = 1.03\n",
    "    total_i = total[i_probs] # Odd name, in order to have beta = 1\n",
    "    b_exp = np.linspace(max[i_probs],0,num = total_i)\n",
    "    tempers[i_probs] = beta_o**b_exp# Account for 1/KT, called beta in thermodinamics\n",
    "    # print('betas tempers:', tempers[i_probs])\n",
    "    \n",
    "    tempers_odd1 = np.arange(0,total_i-1,2, dtype = int)\n",
    "    tempers_odd2 = np.arange(1, total_i, 2,dtype = int)\n",
    "    tempers_odd[i_probs] = np.zeros((2, len(tempers_odd1)))\n",
    "    tempers_odd[i_probs][0,:] = tempers_odd1\n",
    "    tempers_odd[i_probs][1,:] = tempers_odd2\n",
    "    # print('Odd', tempers_odd)\n",
    "    \n",
    "    tempers_even1 = np.arange(1,total_i,2)\n",
    "    tempers_even2 = np.arange(2, total_i, 2)\n",
    "    tempers_even[i_probs] = np.zeros((2, len(tempers_even1)))\n",
    "    tempers_even[i_probs][0,:] = tempers_even1\n",
    "    tempers_even[i_probs][1,:] = tempers_even2\n",
    "    # print('even', tempers_even)   "
   ]
  },
  {
   "cell_type": "markdown",
   "id": "e57d8ba1-130d-4c21-b143-428ca6779bff",
   "metadata": {},
   "source": [
    "## Montecarlo"
   ]
  },
  {
   "cell_type": "code",
   "execution_count": 22,
   "id": "16e623cc-b206-4e97-94e0-16250bfe58bc",
   "metadata": {},
   "outputs": [
    {
     "data": {
      "text/plain": [
       "0.1"
      ]
     },
     "execution_count": 22,
     "metadata": {},
     "output_type": "execute_result"
    }
   ],
   "source": [
    "N_epochs = 1\n",
    "vector = np.arange(1,2)\n",
    "probs[vector[0]]\n"
   ]
  },
  {
   "cell_type": "code",
   "execution_count": 23,
   "id": "28847355-90d2-4617-a2ca-3dfdf75af5b9",
   "metadata": {},
   "outputs": [
    {
     "name": "stdout",
     "output_type": "stream",
     "text": [
      "\n",
      "\n",
      "i_prob: 1 0.1 [0.30655684 0.34503243 0.38833703 0.43707675 0.49193374 0.55367575\n",
      " 0.62316694 0.70137988 0.78940923 0.88848705 1.        ] alpha_t -40 N_t 11\n",
      "i_reps 0\n",
      "Energía ini: 23646.638007809917 /gs: 6277.711903843141\n"
     ]
    },
    {
     "name": "stderr",
     "output_type": "stream",
     "text": [
      " 23%|█████████▎                              | 607/2600 [00:18<01:00, 32.75it/s]"
     ]
    },
    {
     "name": "stdout",
     "output_type": "stream",
     "text": [
      "Energy: [6469.45821722 6515.16513546 6277.71190384 6277.93460929 6277.93460929\n",
      " 6277.71190384 6277.71190384 6277.93460929 6277.93460929 6277.93460929\n",
      " 6277.93460929]\n"
     ]
    },
    {
     "name": "stderr",
     "output_type": "stream",
     "text": [
      " 25%|██████████                              | 655/2600 [00:20<00:59, 32.47it/s]"
     ]
    },
    {
     "name": "stdout",
     "output_type": "stream",
     "text": [
      "Energy: [6507.83809722 6469.21161791 6277.93460929 6277.71190384 6277.71190384\n",
      " 6277.93460929 6277.93460929 6277.93460929 6277.93460929 6277.93460929\n",
      " 6277.93460929]\n"
     ]
    },
    {
     "name": "stderr",
     "output_type": "stream",
     "text": [
      " 27%|██████████▉                             | 707/2600 [00:21<00:57, 32.69it/s]"
     ]
    },
    {
     "name": "stdout",
     "output_type": "stream",
     "text": [
      "Energy: [6522.7313914  6277.71190384 6277.71190384 6285.59542953 6277.71190384\n",
      " 6277.93460929 6277.71190384 6277.71190384 6277.71190384 6277.93460929\n",
      " 6277.71190384]\n"
     ]
    },
    {
     "name": "stderr",
     "output_type": "stream",
     "text": [
      " 29%|███████████▌                            | 755/2600 [00:23<00:54, 33.60it/s]"
     ]
    },
    {
     "name": "stdout",
     "output_type": "stream",
     "text": [
      "Energy: [6500.02262167 6277.93460929 6277.93460929 6277.93460929 6277.93460929\n",
      " 6277.93460929 6277.71190384 6277.93460929 6277.93460929 6277.71190384\n",
      " 6277.71190384]\n"
     ]
    },
    {
     "name": "stderr",
     "output_type": "stream",
     "text": [
      " 31%|████████████▍                           | 807/2600 [00:24<00:52, 34.04it/s]"
     ]
    },
    {
     "name": "stdout",
     "output_type": "stream",
     "text": [
      "Energy: [6285.13802781 6277.71190384 6277.71190384 6277.93460929 6277.93460929\n",
      " 6277.93460929 6277.93460929 6277.93460929 6277.93460929 6277.71190384\n",
      " 6277.71190384]\n"
     ]
    },
    {
     "name": "stderr",
     "output_type": "stream",
     "text": [
      " 33%|█████████████▏                          | 859/2600 [00:26<00:52, 33.41it/s]"
     ]
    },
    {
     "name": "stdout",
     "output_type": "stream",
     "text": [
      "Energy: [6277.71190384 6277.71190384 6277.93460929 6277.93460929 6277.71190384\n",
      " 6277.93460929 6277.71190384 6277.93460929 6277.71190384 6277.71190384\n",
      " 6277.71190384]\n"
     ]
    },
    {
     "name": "stderr",
     "output_type": "stream",
     "text": [
      " 35%|█████████████▉                          | 907/2600 [00:27<00:51, 33.16it/s]"
     ]
    },
    {
     "name": "stdout",
     "output_type": "stream",
     "text": [
      "Energy: [6293.47222341 6285.37053932 6277.71190384 6277.71190384 6277.93460929\n",
      " 6277.71190384 6277.93460929 6277.93460929 6277.93460929 6277.93460929\n",
      " 6277.93460929]\n"
     ]
    },
    {
     "name": "stderr",
     "output_type": "stream",
     "text": [
      " 37%|██████████████▋                         | 955/2600 [00:29<00:49, 33.10it/s]"
     ]
    },
    {
     "name": "stdout",
     "output_type": "stream",
     "text": [
      "Energy: [6285.59542953 6285.37053932 6285.59542953 6277.93460929 6277.93460929\n",
      " 6277.71190384 6277.71190384 6277.71190384 6277.71190384 6277.71190384\n",
      " 6277.93460929]\n"
     ]
    },
    {
     "name": "stderr",
     "output_type": "stream",
     "text": [
      " 39%|███████████████                        | 1007/2600 [00:30<00:46, 34.56it/s]"
     ]
    },
    {
     "name": "stdout",
     "output_type": "stream",
     "text": [
      "Energy: [6308.08671713 6277.93460929 6277.93460929 6285.81267295 6277.71190384\n",
      " 6277.71190384 6277.93460929 6277.93460929 6277.93460929 6277.93460929\n",
      " 6277.71190384]\n"
     ]
    },
    {
     "name": "stderr",
     "output_type": "stream",
     "text": [
      " 41%|███████████████▉                       | 1059/2600 [00:32<00:48, 31.71it/s]"
     ]
    },
    {
     "name": "stdout",
     "output_type": "stream",
     "text": [
      "Energy: [6308.08671713 6293.68400619 6285.59542953 6277.93460929 6277.71190384\n",
      " 6277.71190384 6277.71190384 6277.71190384 6277.93460929 6277.71190384\n",
      " 6277.93460929]\n"
     ]
    },
    {
     "name": "stderr",
     "output_type": "stream",
     "text": [
      " 43%|████████████████▌                      | 1107/2600 [00:33<00:43, 34.21it/s]"
     ]
    },
    {
     "name": "stdout",
     "output_type": "stream",
     "text": [
      "Energy: [6315.97053137 6277.93460929 6277.71190384 6277.93460929 6277.71190384\n",
      " 6277.93460929 6277.71190384 6277.71190384 6277.93460929 6277.71190384\n",
      " 6277.71190384]\n"
     ]
    },
    {
     "name": "stderr",
     "output_type": "stream",
     "text": [
      " 44%|█████████████████▎                     | 1155/2600 [00:35<00:41, 35.02it/s]"
     ]
    },
    {
     "name": "stdout",
     "output_type": "stream",
     "text": [
      "Energy: [6308.55711913 6285.37053932 6277.93460929 6277.93460929 6277.93460929\n",
      " 6277.93460929 6277.93460929 6277.93460929 6277.71190384 6277.71190384\n",
      " 6277.71190384]\n"
     ]
    },
    {
     "name": "stderr",
     "output_type": "stream",
     "text": [
      " 46%|██████████████████                     | 1207/2600 [00:36<00:41, 33.97it/s]"
     ]
    },
    {
     "name": "stdout",
     "output_type": "stream",
     "text": [
      "Energy: [6292.7910391  6285.37053932 6285.37053932 6277.71190384 6277.71190384\n",
      " 6277.93460929 6277.93460929 6277.93460929 6277.71190384 6277.71190384\n",
      " 6277.93460929]\n"
     ]
    },
    {
     "name": "stderr",
     "output_type": "stream",
     "text": [
      " 48%|██████████████████▉                    | 1259/2600 [00:38<00:40, 33.09it/s]"
     ]
    },
    {
     "name": "stdout",
     "output_type": "stream",
     "text": [
      "Energy: [6285.37053932 6277.71190384 6277.71190384 6277.93460929 6277.71190384\n",
      " 6277.93460929 6277.93460929 6277.71190384 6277.71190384 6277.93460929\n",
      " 6277.93460929]\n"
     ]
    },
    {
     "name": "stderr",
     "output_type": "stream",
     "text": [
      " 50%|███████████████████▌                   | 1307/2600 [00:39<00:39, 33.09it/s]"
     ]
    },
    {
     "name": "stdout",
     "output_type": "stream",
     "text": [
      "Energy: [6277.71190384 6277.71190384 6285.59542953 6277.93460929 6277.93460929\n",
      " 6277.71190384 6277.71190384 6277.71190384 6277.71190384 6277.71190384\n",
      " 6277.93460929]\n"
     ]
    },
    {
     "name": "stderr",
     "output_type": "stream",
     "text": [
      " 52%|████████████████████▎                  | 1355/2600 [00:41<00:37, 33.35it/s]"
     ]
    },
    {
     "name": "stdout",
     "output_type": "stream",
     "text": [
      "Energy: [6277.71190384 6285.59542953 6277.93460929 6277.93460929 6277.71190384\n",
      " 6277.71190384 6277.71190384 6277.71190384 6277.93460929 6277.93460929\n",
      " 6277.71190384]\n"
     ]
    },
    {
     "name": "stderr",
     "output_type": "stream",
     "text": [
      " 54%|█████████████████████                  | 1407/2600 [00:42<00:37, 31.82it/s]"
     ]
    },
    {
     "name": "stdout",
     "output_type": "stream",
     "text": [
      "Energy: [6293.47222341 6277.71190384 6285.59542953 6277.71190384 6277.93460929\n",
      " 6277.93460929 6277.71190384 6277.71190384 6277.93460929 6277.93460929\n",
      " 6277.71190384]\n"
     ]
    },
    {
     "name": "stderr",
     "output_type": "stream",
     "text": [
      " 56%|█████████████████████▊                 | 1455/2600 [00:44<00:36, 31.11it/s]"
     ]
    },
    {
     "name": "stdout",
     "output_type": "stream",
     "text": [
      "Energy: [6277.93460929 6277.71190384 6277.71190384 6293.25278427 6277.93460929\n",
      " 6277.93460929 6277.71190384 6277.93460929 6277.71190384 6277.71190384\n",
      " 6277.71190384]\n"
     ]
    },
    {
     "name": "stderr",
     "output_type": "stream",
     "text": [
      " 58%|██████████████████████▌                | 1507/2600 [00:45<00:32, 33.77it/s]"
     ]
    },
    {
     "name": "stdout",
     "output_type": "stream",
     "text": [
      "Energy: [6285.59542953 6277.93460929 6293.02571437 6277.71190384 6277.93460929\n",
      " 6277.71190384 6277.71190384 6277.71190384 6277.93460929 6277.71190384\n",
      " 6285.37053932]\n"
     ]
    },
    {
     "name": "stderr",
     "output_type": "stream",
     "text": [
      " 60%|███████████████████████▍               | 1559/2600 [00:47<00:30, 34.10it/s]"
     ]
    },
    {
     "name": "stdout",
     "output_type": "stream",
     "text": [
      "Energy: [6277.71190384 6277.71190384 6277.93460929 6277.93460929 6277.71190384\n",
      " 6277.93460929 6277.71190384 6277.71190384 6277.71190384 6277.71190384\n",
      " 6277.93460929]\n"
     ]
    },
    {
     "name": "stderr",
     "output_type": "stream",
     "text": [
      " 62%|████████████████████████               | 1607/2600 [00:48<00:31, 31.49it/s]"
     ]
    },
    {
     "name": "stdout",
     "output_type": "stream",
     "text": [
      "Energy: [6277.71190384 6277.71190384 6277.93460929 6277.93460929 6277.93460929\n",
      " 6277.93460929 6277.71190384 6277.93460929 6277.71190384 6277.93460929\n",
      " 6277.93460929]\n"
     ]
    },
    {
     "name": "stderr",
     "output_type": "stream",
     "text": [
      " 64%|████████████████████████▊              | 1658/2600 [00:50<00:31, 30.19it/s]"
     ]
    },
    {
     "name": "stdout",
     "output_type": "stream",
     "text": [
      "Energy: [6277.71190384 6285.37053932 6277.93460929 6277.71190384 6277.93460929\n",
      " 6277.93460929 6277.71190384 6277.71190384 6277.71190384 6277.93460929\n",
      " 6277.71190384]\n"
     ]
    },
    {
     "name": "stderr",
     "output_type": "stream",
     "text": [
      " 66%|█████████████████████████▌             | 1706/2600 [00:51<00:27, 33.03it/s]"
     ]
    },
    {
     "name": "stdout",
     "output_type": "stream",
     "text": [
      "Energy: [6277.71190384 6293.25278427 6277.71190384 6277.71190384 6277.93460929\n",
      " 6277.71190384 6277.93460929 6277.93460929 6277.93460929 6277.71190384\n",
      " 6277.71190384]\n"
     ]
    },
    {
     "name": "stderr",
     "output_type": "stream",
     "text": [
      " 68%|██████████████████████████▎            | 1758/2600 [00:53<00:26, 32.09it/s]"
     ]
    },
    {
     "name": "stdout",
     "output_type": "stream",
     "text": [
      "Energy: [6277.71190384 6277.71190384 6293.25278427 6277.93460929 6277.71190384\n",
      " 6277.93460929 6277.93460929 6277.71190384 6277.71190384 6277.71190384\n",
      " 6277.93460929]\n"
     ]
    },
    {
     "name": "stderr",
     "output_type": "stream",
     "text": [
      " 70%|███████████████████████████            | 1808/2600 [00:55<00:24, 31.93it/s]"
     ]
    },
    {
     "name": "stdout",
     "output_type": "stream",
     "text": [
      "Energy: [6285.37053932 6285.59542953 6277.93460929 6277.93460929 6277.71190384\n",
      " 6277.93460929 6277.71190384 6277.71190384 6277.93460929 6277.71190384\n",
      " 6277.71190384]\n"
     ]
    },
    {
     "name": "stderr",
     "output_type": "stream",
     "text": [
      " 72%|███████████████████████████▉           | 1860/2600 [00:56<00:23, 31.29it/s]"
     ]
    },
    {
     "name": "stdout",
     "output_type": "stream",
     "text": [
      "Energy: [6277.71190384 6285.59542953 6277.71190384 6277.93460929 6277.93460929\n",
      " 6277.71190384 6277.93460929 6277.93460929 6277.93460929 6277.71190384\n",
      " 6277.93460929]\n"
     ]
    },
    {
     "name": "stderr",
     "output_type": "stream",
     "text": [
      " 73%|████████████████████████████▌          | 1908/2600 [00:58<00:21, 32.80it/s]"
     ]
    },
    {
     "name": "stdout",
     "output_type": "stream",
     "text": [
      "Energy: [6277.93460929 6285.37053932 6277.93460929 6285.37053932 6277.71190384\n",
      " 6277.93460929 6277.93460929 6277.71190384 6277.71190384 6277.71190384\n",
      " 6277.71190384]\n"
     ]
    },
    {
     "name": "stderr",
     "output_type": "stream",
     "text": [
      " 75%|█████████████████████████████▎         | 1956/2600 [00:59<00:19, 32.30it/s]"
     ]
    },
    {
     "name": "stdout",
     "output_type": "stream",
     "text": [
      "Energy: [6277.71190384 6293.25278427 6277.93460929 6285.59542953 6285.13802781\n",
      " 6277.93460929 6277.93460929 6277.71190384 6277.93460929 6277.93460929\n",
      " 6277.71190384]\n"
     ]
    },
    {
     "name": "stderr",
     "output_type": "stream",
     "text": [
      " 77%|██████████████████████████████         | 2008/2600 [01:01<00:17, 33.31it/s]"
     ]
    },
    {
     "name": "stdout",
     "output_type": "stream",
     "text": [
      "Energy: [6285.37053932 6277.71190384 6277.93460929 6277.71190384 6285.59542953\n",
      " 6277.93460929 6277.71190384 6277.71190384 6277.93460929 6277.93460929\n",
      " 6277.71190384]\n"
     ]
    },
    {
     "name": "stderr",
     "output_type": "stream",
     "text": [
      " 79%|██████████████████████████████▊        | 2056/2600 [01:02<00:16, 32.88it/s]"
     ]
    },
    {
     "name": "stdout",
     "output_type": "stream",
     "text": [
      "Energy: [6277.71190384 6277.71190384 6285.37053932 6277.71190384 6277.93460929\n",
      " 6277.93460929 6277.93460929 6277.93460929 6277.93460929 6277.71190384\n",
      " 6277.93460929]\n"
     ]
    },
    {
     "name": "stderr",
     "output_type": "stream",
     "text": [
      " 81%|███████████████████████████████▌       | 2108/2600 [01:04<00:15, 32.30it/s]"
     ]
    },
    {
     "name": "stdout",
     "output_type": "stream",
     "text": [
      "Energy: [6277.93460929 6300.67743444 6277.93460929 6277.93460929 6277.71190384\n",
      " 6277.71190384 6277.93460929 6277.93460929 6277.93460929 6277.71190384\n",
      " 6277.71190384]\n"
     ]
    },
    {
     "name": "stderr",
     "output_type": "stream",
     "text": [
      " 83%|████████████████████████████████▎      | 2156/2600 [01:05<00:13, 33.91it/s]"
     ]
    },
    {
     "name": "stdout",
     "output_type": "stream",
     "text": [
      "Energy: [6293.02571437 6285.37053932 6285.59542953 6277.93460929 6277.71190384\n",
      " 6277.93460929 6277.93460929 6277.93460929 6277.71190384 6277.71190384\n",
      " 6277.93460929]\n"
     ]
    },
    {
     "name": "stderr",
     "output_type": "stream",
     "text": [
      " 85%|█████████████████████████████████      | 2208/2600 [01:07<00:11, 34.18it/s]"
     ]
    },
    {
     "name": "stdout",
     "output_type": "stream",
     "text": [
      "Energy: [6277.93460929 6285.59542953 6293.02571437 6277.93460929 6277.93460929\n",
      " 6277.71190384 6277.71190384 6277.93460929 6277.71190384 6277.71190384\n",
      " 6277.71190384]\n"
     ]
    },
    {
     "name": "stderr",
     "output_type": "stream",
     "text": [
      " 87%|█████████████████████████████████▊     | 2256/2600 [01:08<00:11, 30.67it/s]"
     ]
    },
    {
     "name": "stdout",
     "output_type": "stream",
     "text": [
      "Energy: [6285.59542953 6277.93460929 6277.71190384 6285.37053932 6277.93460929\n",
      " 6277.71190384 6277.71190384 6277.93460929 6277.71190384 6277.93460929\n",
      " 6277.71190384]\n"
     ]
    },
    {
     "name": "stderr",
     "output_type": "stream",
     "text": [
      " 89%|██████████████████████████████████▌    | 2308/2600 [01:10<00:08, 33.29it/s]"
     ]
    },
    {
     "name": "stdout",
     "output_type": "stream",
     "text": [
      "Energy: [6277.71190384 6285.59542953 6277.93460929 6285.37053932 6277.71190384\n",
      " 6285.37053932 6285.13802781 6277.71190384 6277.71190384 6277.93460929\n",
      " 6277.93460929]\n"
     ]
    },
    {
     "name": "stderr",
     "output_type": "stream",
     "text": [
      " 91%|███████████████████████████████████▎   | 2356/2600 [01:11<00:07, 31.61it/s]"
     ]
    },
    {
     "name": "stdout",
     "output_type": "stream",
     "text": [
      "Energy: [6277.93460929 6285.37053932 6277.71190384 6277.71190384 6277.93460929\n",
      " 6285.13802781 6277.93460929 6285.37053932 6277.93460929 6277.93460929\n",
      " 6277.93460929]\n"
     ]
    },
    {
     "name": "stderr",
     "output_type": "stream",
     "text": [
      " 93%|████████████████████████████████████   | 2408/2600 [01:13<00:05, 32.11it/s]"
     ]
    },
    {
     "name": "stdout",
     "output_type": "stream",
     "text": [
      "Energy: [6285.59542953 6293.02571437 6285.13802781 6277.71190384 6277.71190384\n",
      " 6277.71190384 6277.71190384 6277.93460929 6277.71190384 6277.93460929\n",
      " 6277.71190384]\n"
     ]
    },
    {
     "name": "stderr",
     "output_type": "stream",
     "text": [
      " 94%|████████████████████████████████████▊  | 2456/2600 [01:15<00:04, 32.69it/s]"
     ]
    },
    {
     "name": "stdout",
     "output_type": "stream",
     "text": [
      "Energy: [6285.59542953 6277.71190384 6285.59542953 6277.93460929 6277.71190384\n",
      " 6277.71190384 6277.71190384 6277.71190384 6277.93460929 6277.93460929\n",
      " 6277.93460929]\n"
     ]
    },
    {
     "name": "stderr",
     "output_type": "stream",
     "text": [
      " 96%|█████████████████████████████████████▌ | 2508/2600 [01:16<00:02, 34.00it/s]"
     ]
    },
    {
     "name": "stdout",
     "output_type": "stream",
     "text": [
      "Energy: [6277.71190384 6277.93460929 6277.93460929 6285.59542953 6277.93460929\n",
      " 6277.71190384 6285.37053932 6277.93460929 6277.71190384 6277.71190384\n",
      " 6277.93460929]\n"
     ]
    },
    {
     "name": "stderr",
     "output_type": "stream",
     "text": [
      " 98%|██████████████████████████████████████▎| 2556/2600 [01:18<00:01, 34.70it/s]"
     ]
    },
    {
     "name": "stdout",
     "output_type": "stream",
     "text": [
      "Energy: [6277.93460929 6331.71810807 6277.71190384 6277.93460929 6277.71190384\n",
      " 6277.93460929 6277.71190384 6277.93460929 6277.93460929 6277.93460929\n",
      " 6277.71190384]\n"
     ]
    },
    {
     "name": "stderr",
     "output_type": "stream",
     "text": [
      "100%|███████████████████████████████████████| 2600/2600 [01:19<00:00, 32.76it/s]\n"
     ]
    },
    {
     "name": "stdout",
     "output_type": "stream",
     "text": [
      "Fin Energy_t 6277.934609294665 Energy_gs 6277.711903843141\n",
      "c_accep 0 c_rounds 0\n",
      "Elapsed (after compilation) = 79.35695934295654\n",
      "[[195 184 185 210 180 213 212 215 214 218 216 217]\n",
      " [203 184 185 210 180 213 212 215 214 218 216 217]\n",
      " [195 184 185 208 180 213 212 215 214 218 216 217]]\n",
      "[[195 184 185 210 180 213 212 215 214 218 216 217]\n",
      " [203 184 185 210 180 213 212 215 214 218 216 217]\n",
      " [195 184 185 210 180 213 212 215 214 218 216 217]]\n",
      "[[211 182 190 181 191 213 212 215 218 217 214 216]\n",
      " [211 182 190 181 191 213 212 215 218 217 214 216]\n",
      " [211 182 190 181 191 213 212 215 218 217 214 216]]\n",
      "[[196 188 194 210 192 215 216 213 214 217 218 212]\n",
      " [196 188 194 210 192 215 216 213 214 217 218 212]\n",
      " [196 188 194 210 192 215 216 213 214 217 218 212]]\n",
      "[[196 188 194 210 192 215 216 213 214 217 218 212]\n",
      " [196 188 194 210 192 215 216 213 214 217 218 212]\n",
      " [196 188 194 210 192 215 216 213 214 217 218 212]]\n",
      "[[195 184 185 210 180 213 212 215 214 218 216 217]\n",
      " [195 184 185 210 180 213 212 215 214 218 216 217]\n",
      " [195 184 185 208 180 213 212 215 214 218 216 217]]\n",
      "[[195 184 185 210 180 213 212 215 214 218 216 217]\n",
      " [203 184 185 210 180 213 212 215 214 218 216 217]\n",
      " [195 184 185 208 180 213 212 215 214 218 216 217]]\n",
      "[[195 184 185 210 180 213 212 215 214 218 216 217]\n",
      " [203 184 185 210 180 213 212 215 214 218 216 217]\n",
      " [195 184 185 208 180 213 212 215 214 218 216 217]]\n",
      "[[205 210 207 204 182 216 212 215 214 217 213 218]\n",
      " [205 210 207 204 182 216 212 215 214 217 213 218]\n",
      " [205 210 207 204 182 216 212 215 214 217 213 218]]\n",
      "[[188 190 209 207 195 212 213 214 215 217 216 218]\n",
      " [188 190 209 207 203 212 213 214 215 217 216 218]\n",
      " [188 190 209 207 195 212 213 214 215 217 216 218]]\n",
      "[[188 190 209 207 195 212 213 214 215 217 216 218]\n",
      " [188 190 209 207 195 212 213 214 215 217 216 218]\n",
      " [188 190 209 207 195 212 213 214 215 217 216 218]]\n",
      "[[195 184 185 210 180 213 212 215 214 218 216 217]\n",
      " [195 184 185 210 180 213 212 215 214 218 216 217]\n",
      " [195 184 185 210 180 213 212 215 214 218 216 217]]\n",
      "[[188 190 209 207 195 212 213 214 215 217 216 218]\n",
      " [188 190 209 207 203 212 213 214 215 217 216 218]\n",
      " [188 190 209 207 195 212 213 214 215 217 216 218]]\n",
      "[[200 208 191 190 205 218 212 216 215 213 214 217]\n",
      " [200 208 191 190 205 218 212 216 215 213 214 217]\n",
      " [200 208 191 190 205 218 212 216 215 213 214 217]]\n",
      "[[200 208 191 190 205 218 212 216 215 213 214 217]\n",
      " [200 208 191 190 205 218 212 216 215 213 214 217]\n",
      " [200 210 191 190 205 218 212 216 215 213 214 217]]\n",
      "[[205 210 207 204 182 216 212 215 214 217 213 218]\n",
      " [205 210 207 204 182 216 212 215 214 217 213 218]\n",
      " [205 208 207 204 182 216 212 215 214 217 213 218]]\n",
      "[[205 210 207 204 182 216 212 215 214 217 213 218]\n",
      " [205 210 207 204 182 216 212 215 214 217 213 218]\n",
      " [205 208 207 204 182 216 212 215 214 217 213 218]]\n",
      "[[200 208 191 190 205 218 212 216 215 213 214 217]\n",
      " [200 208 191 190 205 218 212 216 215 213 214 217]\n",
      " [200 208 191 190 205 218 212 216 215 213 214 217]]\n",
      "[[205 210 207 204 182 216 212 215 214 217 213 218]\n",
      " [205 210 207 196 182 216 212 215 214 217 213 218]\n",
      " [205 210 207 196 182 216 212 215 214 217 213 218]]\n",
      "[[205 210 207 196 182 216 212 215 214 217 213 218]\n",
      " [205 210 207 196 182 216 212 215 214 217 213 218]\n",
      " [205 210 207 196 182 216 212 215 214 217 213 218]]\n",
      "[[200 208 191 190 205 218 212 216 215 213 214 217]\n",
      " [200 208 191 190 205 218 212 216 215 213 214 217]\n",
      " [200 208 191 190 205 218 212 216 215 213 214 217]]\n",
      "[[200 208 191 190 205 218 212 216 215 213 214 217]\n",
      " [200 208 191 190 205 218 212 216 215 213 214 217]\n",
      " [200 208 191 190 205 218 212 216 215 213 214 217]]\n",
      "[[200 208 191 190 205 218 212 216 215 213 214 217]\n",
      " [200 208 191 190 205 218 212 216 215 213 214 217]\n",
      " [200 210 191 190 205 218 212 216 215 213 214 217]]\n",
      "[[205 210 207 196 182 216 212 215 214 217 213 218]\n",
      " [205 210 207 196 182 216 212 215 214 217 213 218]\n",
      " [205 210 207 196 182 216 212 215 214 217 213 218]]\n",
      "[[205 210 207 196 182 216 212 215 214 217 213 218]\n",
      " [205 210 207 196 182 216 212 215 214 217 213 218]\n",
      " [205 210 207 196 182 216 212 215 214 217 213 218]]\n",
      "[[205 210 207 196 182 216 212 215 214 217 213 218]\n",
      " [205 210 207 196 182 216 212 215 214 217 213 218]\n",
      " [205 208 207 196 182 216 212 215 214 217 213 218]]\n",
      "[[183 200 182 209 208 217 218 215 213 214 216 212]\n",
      " [183 200 182 209 208 217 218 215 213 214 216 212]\n",
      " [183 200 182 209 210 217 218 215 213 214 216 212]]\n",
      "[[196 180 194 210 192 215 218 213 214 217 216 212]\n",
      " [196 180 194 210 192 215 218 213 214 217 216 212]\n",
      " [196 180 194 210 192 215 218 213 214 217 216 212]]\n",
      "[[196 180 194 210 192 215 218 213 214 217 216 212]\n",
      " [196 180 194 210 192 215 218 213 214 217 216 212]\n",
      " [196 180 194 210 192 215 218 213 214 217 216 212]]\n",
      "[[196 180 194 210 192 215 218 213 214 217 216 212]\n",
      " [196 180 194 210 192 215 218 213 214 217 216 212]\n",
      " [196 180 194 208 192 215 218 213 214 217 216 212]]\n",
      "[[196 180 194 210 192 215 218 213 214 217 216 212]\n",
      " [196 180 194 210 192 215 218 213 214 217 216 212]\n",
      " [196 180 194 208 192 215 218 213 214 217 216 212]]\n",
      "[[211 182 190 181 191 213 212 215 216 217 214 218]\n",
      " [211 182 190 181 191 213 212 215 216 217 214 218]\n",
      " [211 182 190 181 191 213 212 215 216 217 214 218]]\n",
      "[[196 180 194 210 192 215 218 213 214 217 216 212]\n",
      " [196 180 194 210 192 215 218 213 214 217 216 212]\n",
      " [196 180 194 210 192 215 218 213 214 217 216 212]]\n",
      "[[183 200 182 209 208 217 218 215 213 214 216 212]\n",
      " [183 200 182 209 208 217 218 215 213 214 216 212]\n",
      " [183 200 182 209 208 217 218 215 213 214 216 212]]\n",
      "[[196 180 194 210 192 215 218 213 214 217 216 212]\n",
      " [196 180 194 210 192 215 218 213 214 217 216 212]\n",
      " [196 180 194 210 192 215 218 213 214 217 216 212]]\n",
      "[[196 180 194 210 192 215 218 213 214 217 216 212]\n",
      " [196 180 194 210 192 215 218 213 214 217 216 212]\n",
      " [196 180 194 208 192 215 218 213 214 217 216 212]]\n",
      "[[211 182 190 181 191 213 212 215 216 217 214 218]\n",
      " [211 182 190 181 191 213 212 215 216 217 214 218]\n",
      " [211 182 190 181 191 213 212 215 216 217 214 218]]\n",
      "[[196 180 194 210 192 215 218 213 214 217 216 212]\n",
      " [196 180 194 210 192 215 218 213 214 217 216 212]\n",
      " [196 180 194 208 192 215 218 213 214 217 216 212]]\n",
      "[[196 180 194 210 192 215 218 213 214 217 216 212]\n",
      " [196 180 194 210 192 215 218 213 214 217 216 212]\n",
      " [196 180 194 208 192 215 218 213 214 217 216 212]]\n",
      "[[196 180 194 210 192 215 218 213 214 217 216 212]\n",
      " [196 180 194 210 192 215 218 213 214 217 216 212]\n",
      " [196 180 194 210 192 215 218 213 214 217 216 212]]\n",
      "[1.] [1.]\n",
      "i_reps 1\n",
      "Energía ini: 23594.63868020528 /gs: 6262.8131757469455\n"
     ]
    },
    {
     "name": "stderr",
     "output_type": "stream",
     "text": [
      " 23%|█████████▎                              | 608/2600 [00:18<01:05, 30.27it/s]"
     ]
    },
    {
     "name": "stdout",
     "output_type": "stream",
     "text": [
      "Energy: [6277.93460929 6285.81267295 6599.23982964 6576.11817424 6507.59554724\n",
      " 6262.81317575 6370.55631203 6263.01607989 6262.81317575 6270.68828626\n",
      " 6262.81317575]\n"
     ]
    },
    {
     "name": "stderr",
     "output_type": "stream",
     "text": [
      " 25%|██████████                              | 656/2600 [00:19<01:00, 32.26it/s]"
     ]
    },
    {
     "name": "stdout",
     "output_type": "stream",
     "text": [
      "Energy: [6262.81317575 6262.81317575 6263.01607989 6263.01607989 6263.01607989\n",
      " 6262.81317575 6370.55631203 6263.01607989 6262.81317575 6262.81317575\n",
      " 6262.81317575]\n"
     ]
    },
    {
     "name": "stderr",
     "output_type": "stream",
     "text": [
      " 27%|██████████▉                             | 708/2600 [00:21<00:55, 33.79it/s]"
     ]
    },
    {
     "name": "stdout",
     "output_type": "stream",
     "text": [
      "Energy: [6270.48315464 6263.01607989 6263.01607989 6263.01607989 6262.81317575\n",
      " 6270.68828626 6263.01607989 6262.81317575 6262.81317575 6262.81317575\n",
      " 6263.01607989]\n"
     ]
    },
    {
     "name": "stderr",
     "output_type": "stream",
     "text": [
      " 29%|███████████▋                            | 756/2600 [00:22<00:52, 34.92it/s]"
     ]
    },
    {
     "name": "stdout",
     "output_type": "stream",
     "text": [
      "Energy: [6270.68828626 6278.55664489 6263.01607989 6270.48315464 6262.81317575\n",
      " 6263.01607989 6263.01607989 6263.01607989 6262.81317575 6263.01607989\n",
      " 6262.81317575]\n"
     ]
    },
    {
     "name": "stderr",
     "output_type": "stream",
     "text": [
      " 31%|████████████▍                           | 808/2600 [00:24<00:58, 30.61it/s]"
     ]
    },
    {
     "name": "stdout",
     "output_type": "stream",
     "text": [
      "Energy: [6270.48315464 6263.01607989 6262.81317575 6263.01607989 6262.81317575\n",
      " 6262.81317575 6263.01607989 6262.81317575 6263.01607989 6262.81317575\n",
      " 6263.01607989]\n"
     ]
    },
    {
     "name": "stderr",
     "output_type": "stream",
     "text": [
      " 33%|█████████████▏                          | 856/2600 [00:26<00:53, 32.84it/s]"
     ]
    },
    {
     "name": "stdout",
     "output_type": "stream",
     "text": [
      "Energy: [6262.81317575 6270.48315464 6262.81317575 6278.35700574 6270.27031807\n",
      " 6262.81317575 6262.81317575 6262.81317575 6270.48315464 6262.81317575\n",
      " 6262.81317575]\n"
     ]
    },
    {
     "name": "stderr",
     "output_type": "stream",
     "text": [
      " 35%|█████████████▉                          | 908/2600 [00:27<00:49, 33.93it/s]"
     ]
    },
    {
     "name": "stdout",
     "output_type": "stream",
     "text": [
      "Energy: [6277.93460929 6263.01607989 6262.81317575 6263.01607989 6262.81317575\n",
      " 6263.01607989 6262.81317575 6262.81317575 6270.48315464 6263.01607989\n",
      " 6263.01607989]\n"
     ]
    },
    {
     "name": "stderr",
     "output_type": "stream",
     "text": [
      " 37%|██████████████▊                         | 960/2600 [00:29<00:50, 32.64it/s]"
     ]
    },
    {
     "name": "stdout",
     "output_type": "stream",
     "text": [
      "Energy: [6270.27031807 6270.48315464 6263.01607989 6263.01607989 6263.01607989\n",
      " 6262.81317575 6263.01607989 6263.01607989 6263.01607989 6263.01607989\n",
      " 6263.01607989]\n"
     ]
    },
    {
     "name": "stderr",
     "output_type": "stream",
     "text": [
      " 39%|███████████████                        | 1008/2600 [00:30<00:47, 33.53it/s]"
     ]
    },
    {
     "name": "stdout",
     "output_type": "stream",
     "text": [
      "Energy: [6270.27031807 6270.48315464 6293.47222341 6263.01607989 6263.01607989\n",
      " 6270.48315464 6263.01607989 6262.81317575 6263.01607989 6263.01607989\n",
      " 6263.01607989]\n"
     ]
    },
    {
     "name": "stderr",
     "output_type": "stream",
     "text": [
      " 41%|███████████████▊                       | 1056/2600 [00:32<00:46, 33.06it/s]"
     ]
    },
    {
     "name": "stdout",
     "output_type": "stream",
     "text": [
      "Energy: [6285.59542953 6270.27031807 6262.81317575 6262.81317575 6270.48315464\n",
      " 6270.48315464 6262.81317575 6263.01607989 6263.01607989 6263.01607989\n",
      " 6262.81317575]\n"
     ]
    },
    {
     "name": "stderr",
     "output_type": "stream",
     "text": [
      " 43%|████████████████▌                      | 1108/2600 [00:33<00:44, 33.38it/s]"
     ]
    },
    {
     "name": "stdout",
     "output_type": "stream",
     "text": [
      "Energy: [6278.14965186 6262.81317575 6270.48315464 6262.81317575 6263.01607989\n",
      " 6263.01607989 6262.81317575 6262.81317575 6263.01607989 6263.01607989\n",
      " 6263.01607989]\n"
     ]
    },
    {
     "name": "stderr",
     "output_type": "stream",
     "text": [
      " 45%|█████████████████▍                     | 1160/2600 [00:35<00:43, 33.26it/s]"
     ]
    },
    {
     "name": "stdout",
     "output_type": "stream",
     "text": [
      "Energy: [6270.48315464 6270.48315464 6262.81317575 6263.01607989 6270.48315464\n",
      " 6262.81317575 6262.81317575 6263.01607989 6263.01607989 6262.81317575\n",
      " 6263.01607989]\n"
     ]
    },
    {
     "name": "stderr",
     "output_type": "stream",
     "text": [
      " 46%|██████████████████                     | 1208/2600 [00:36<00:41, 33.35it/s]"
     ]
    },
    {
     "name": "stdout",
     "output_type": "stream",
     "text": [
      "Energy: [6285.59542953 6278.14965186 6277.93460929 6263.01607989 6262.81317575\n",
      " 6263.01607989 6263.01607989 6262.81317575 6263.01607989 6263.01607989\n",
      " 6262.81317575]\n"
     ]
    },
    {
     "name": "stderr",
     "output_type": "stream",
     "text": [
      " 48%|██████████████████▊                    | 1256/2600 [00:38<00:40, 32.93it/s]"
     ]
    },
    {
     "name": "stdout",
     "output_type": "stream",
     "text": [
      "Energy: [6263.01607989 6262.81317575 6278.14965186 6263.01607989 6263.01607989\n",
      " 6263.01607989 6262.81317575 6263.01607989 6263.01607989 6262.81317575\n",
      " 6263.01607989]\n"
     ]
    },
    {
     "name": "stderr",
     "output_type": "stream",
     "text": [
      " 50%|███████████████████▌                   | 1308/2600 [00:39<00:42, 30.70it/s]"
     ]
    },
    {
     "name": "stdout",
     "output_type": "stream",
     "text": [
      "Energy: [6270.48315464 6262.81317575 6263.01607989 6270.04980246 6262.81317575\n",
      " 6262.81317575 6263.01607989 6263.01607989 6262.81317575 6263.01607989\n",
      " 6262.81317575]\n"
     ]
    },
    {
     "name": "stderr",
     "output_type": "stream",
     "text": [
      " 52%|████████████████████▎                  | 1356/2600 [00:41<00:39, 31.79it/s]"
     ]
    },
    {
     "name": "stdout",
     "output_type": "stream",
     "text": [
      "Energy: [6263.01607989 6263.01607989 6262.81317575 6263.01607989 6262.81317575\n",
      " 6262.81317575 6270.27031807 6263.01607989 6262.81317575 6270.27031807\n",
      " 6263.01607989]\n"
     ]
    },
    {
     "name": "stderr",
     "output_type": "stream",
     "text": [
      " 54%|█████████████████████                  | 1408/2600 [00:42<00:36, 32.37it/s]"
     ]
    },
    {
     "name": "stdout",
     "output_type": "stream",
     "text": [
      "Energy: [6262.81317575 6263.01607989 6270.68828626 6263.01607989 6262.81317575\n",
      " 6270.04980246 6263.01607989 6263.01607989 6262.81317575 6263.01607989\n",
      " 6263.01607989]\n"
     ]
    },
    {
     "name": "stderr",
     "output_type": "stream",
     "text": [
      " 56%|█████████████████████▊                 | 1456/2600 [00:44<00:33, 33.69it/s]"
     ]
    },
    {
     "name": "stdout",
     "output_type": "stream",
     "text": [
      "Energy: [6263.01607989 6270.27031807 6270.48315464 6263.01607989 6263.01607989\n",
      " 6270.27031807 6262.81317575 6263.01607989 6263.01607989 6262.81317575\n",
      " 6263.01607989]\n"
     ]
    },
    {
     "name": "stderr",
     "output_type": "stream",
     "text": [
      " 58%|██████████████████████▌                | 1508/2600 [00:45<00:34, 31.79it/s]"
     ]
    },
    {
     "name": "stdout",
     "output_type": "stream",
     "text": [
      "Energy: [6270.48315464 6270.27031807 6270.27031807 6263.01607989 6262.81317575\n",
      " 6263.01607989 6270.27031807 6262.81317575 6262.81317575 6263.01607989\n",
      " 6263.01607989]\n"
     ]
    },
    {
     "name": "stderr",
     "output_type": "stream",
     "text": [
      " 60%|███████████████████████▍               | 1560/2600 [00:47<00:30, 33.86it/s]"
     ]
    },
    {
     "name": "stdout",
     "output_type": "stream",
     "text": [
      "Energy: [6278.14965186 6262.81317575 6293.25278427 6262.81317575 6263.01607989\n",
      " 6262.81317575 6262.81317575 6262.81317575 6262.81317575 6262.81317575\n",
      " 6262.81317575]\n"
     ]
    },
    {
     "name": "stderr",
     "output_type": "stream",
     "text": [
      " 62%|████████████████████████               | 1608/2600 [00:48<00:29, 33.07it/s]"
     ]
    },
    {
     "name": "stdout",
     "output_type": "stream",
     "text": [
      "Energy: [6293.47222341 6270.68828626 6262.81317575 6270.27031807 6263.01607989\n",
      " 6270.68828626 6263.01607989 6263.01607989 6263.01607989 6263.01607989\n",
      " 6263.01607989]\n"
     ]
    },
    {
     "name": "stderr",
     "output_type": "stream",
     "text": [
      " 64%|████████████████████████▊              | 1656/2600 [00:50<00:27, 33.88it/s]"
     ]
    },
    {
     "name": "stdout",
     "output_type": "stream",
     "text": [
      "Energy: [6270.48315464 6270.04980246 6262.81317575 6262.81317575 6263.01607989\n",
      " 6262.81317575 6270.68828626 6263.01607989 6263.01607989 6262.81317575\n",
      " 6262.81317575]\n"
     ]
    },
    {
     "name": "stderr",
     "output_type": "stream",
     "text": [
      " 66%|█████████████████████████▌             | 1708/2600 [00:51<00:27, 32.36it/s]"
     ]
    },
    {
     "name": "stdout",
     "output_type": "stream",
     "text": [
      "Energy: [6270.68828626 6270.27031807 6270.27031807 6270.48315464 6270.04980246\n",
      " 6270.68828626 6263.01607989 6262.81317575 6263.01607989 6262.81317575\n",
      " 6262.81317575]\n"
     ]
    },
    {
     "name": "stderr",
     "output_type": "stream",
     "text": [
      " 68%|██████████████████████████▍            | 1760/2600 [00:53<00:25, 33.14it/s]"
     ]
    },
    {
     "name": "stdout",
     "output_type": "stream",
     "text": [
      "Energy: [6262.81317575 6270.48315464 6270.68828626 6270.27031807 6262.81317575\n",
      " 6262.81317575 6262.81317575 6263.01607989 6270.68828626 6262.81317575\n",
      " 6262.81317575]\n"
     ]
    },
    {
     "name": "stderr",
     "output_type": "stream",
     "text": [
      " 70%|███████████████████████████            | 1808/2600 [00:54<00:23, 33.15it/s]"
     ]
    },
    {
     "name": "stdout",
     "output_type": "stream",
     "text": [
      "Energy: [6270.68828626 6270.68828626 6270.68828626 6262.81317575 6263.01607989\n",
      " 6262.81317575 6263.01607989 6262.81317575 6263.01607989 6270.68828626\n",
      " 6262.81317575]\n"
     ]
    },
    {
     "name": "stderr",
     "output_type": "stream",
     "text": [
      " 71%|███████████████████████████▊           | 1856/2600 [00:56<00:22, 32.45it/s]"
     ]
    },
    {
     "name": "stdout",
     "output_type": "stream",
     "text": [
      "Energy: [6286.22411636 6277.93460929 6270.48315464 6262.81317575 6262.81317575\n",
      " 6262.81317575 6263.01607989 6263.01607989 6262.81317575 6262.81317575\n",
      " 6262.81317575]\n"
     ]
    },
    {
     "name": "stderr",
     "output_type": "stream",
     "text": [
      " 73%|████████████████████████████▌          | 1904/2600 [00:57<00:21, 31.75it/s]"
     ]
    },
    {
     "name": "stdout",
     "output_type": "stream",
     "text": [
      "Energy: [6293.25278427 6286.02224386 6270.04980246 6262.81317575 6263.01607989\n",
      " 6262.81317575 6262.81317575 6262.81317575 6262.81317575 6262.81317575\n",
      " 6263.01607989]\n"
     ]
    },
    {
     "name": "stderr",
     "output_type": "stream",
     "text": [
      " 75%|█████████████████████████████▍         | 1960/2600 [00:59<00:19, 33.46it/s]"
     ]
    },
    {
     "name": "stdout",
     "output_type": "stream",
     "text": [
      "Energy: [6293.47222341 6286.02224386 6270.48315464 6263.01607989 6262.81317575\n",
      " 6262.81317575 6263.01607989 6262.81317575 6263.01607989 6263.01607989\n",
      " 6262.81317575]\n"
     ]
    },
    {
     "name": "stderr",
     "output_type": "stream",
     "text": [
      " 77%|██████████████████████████████         | 2008/2600 [01:01<00:17, 33.93it/s]"
     ]
    },
    {
     "name": "stdout",
     "output_type": "stream",
     "text": [
      "Energy: [6262.81317575 6270.48315464 6277.93460929 6263.01607989 6263.01607989\n",
      " 6270.48315464 6262.81317575 6262.81317575 6263.01607989 6262.81317575\n",
      " 6263.01607989]\n"
     ]
    },
    {
     "name": "stderr",
     "output_type": "stream",
     "text": [
      " 79%|██████████████████████████████▊        | 2056/2600 [01:02<00:16, 32.59it/s]"
     ]
    },
    {
     "name": "stdout",
     "output_type": "stream",
     "text": [
      "Energy: [6285.59542953 6270.27031807 6263.01607989 6270.68828626 6270.68828626\n",
      " 6262.81317575 6263.01607989 6262.81317575 6262.81317575 6262.81317575\n",
      " 6262.81317575]\n"
     ]
    },
    {
     "name": "stderr",
     "output_type": "stream",
     "text": [
      " 81%|███████████████████████████████▌       | 2108/2600 [01:04<00:15, 32.55it/s]"
     ]
    },
    {
     "name": "stdout",
     "output_type": "stream",
     "text": [
      "Energy: [6262.81317575 6262.81317575 6263.01607989 6263.01607989 6263.01607989\n",
      " 6262.81317575 6262.81317575 6263.01607989 6262.81317575 6263.01607989\n",
      " 6263.01607989]\n"
     ]
    },
    {
     "name": "stderr",
     "output_type": "stream",
     "text": [
      " 83%|████████████████████████████████▎      | 2156/2600 [01:05<00:13, 32.86it/s]"
     ]
    },
    {
     "name": "stdout",
     "output_type": "stream",
     "text": [
      "Energy: [6270.48315464 6278.14965186 6263.01607989 6262.81317575 6263.01607989\n",
      " 6262.81317575 6262.81317575 6262.81317575 6262.81317575 6263.01607989\n",
      " 6263.01607989]\n"
     ]
    },
    {
     "name": "stderr",
     "output_type": "stream",
     "text": [
      " 85%|█████████████████████████████████      | 2204/2600 [01:07<00:11, 33.90it/s]"
     ]
    },
    {
     "name": "stdout",
     "output_type": "stream",
     "text": [
      "Energy: [6270.68828626 6286.02224386 6263.01607989 6262.81317575 6262.81317575\n",
      " 6263.01607989 6262.81317575 6262.81317575 6262.81317575 6262.81317575\n",
      " 6263.01607989]\n"
     ]
    },
    {
     "name": "stderr",
     "output_type": "stream",
     "text": [
      " 87%|█████████████████████████████████▊     | 2256/2600 [01:08<00:11, 30.47it/s]"
     ]
    },
    {
     "name": "stdout",
     "output_type": "stream",
     "text": [
      "Energy: [6293.88810679 6262.81317575 6263.01607989 6270.68828626 6262.81317575\n",
      " 6262.81317575 6262.81317575 6263.01607989 6263.01607989 6263.01607989\n",
      " 6262.81317575]\n"
     ]
    },
    {
     "name": "stderr",
     "output_type": "stream",
     "text": [
      " 89%|██████████████████████████████████▌    | 2308/2600 [01:10<00:08, 33.56it/s]"
     ]
    },
    {
     "name": "stdout",
     "output_type": "stream",
     "text": [
      "Energy: [6270.48315464 6263.01607989 6270.48315464 6262.81317575 6262.81317575\n",
      " 6262.81317575 6262.81317575 6263.01607989 6262.81317575 6263.01607989\n",
      " 6262.81317575]\n"
     ]
    },
    {
     "name": "stderr",
     "output_type": "stream",
     "text": [
      " 91%|███████████████████████████████████▎   | 2356/2600 [01:11<00:07, 34.07it/s]"
     ]
    },
    {
     "name": "stdout",
     "output_type": "stream",
     "text": [
      "Energy: [6262.81317575 6270.48315464 6263.01607989 6263.01607989 6262.81317575\n",
      " 6262.81317575 6270.48315464 6263.01607989 6263.01607989 6262.81317575\n",
      " 6263.01607989]\n"
     ]
    },
    {
     "name": "stderr",
     "output_type": "stream",
     "text": [
      " 93%|████████████████████████████████████   | 2408/2600 [01:13<00:05, 33.91it/s]"
     ]
    },
    {
     "name": "stdout",
     "output_type": "stream",
     "text": [
      "Energy: [6263.01607989 6270.68828626 6263.01607989 6263.01607989 6262.81317575\n",
      " 6263.01607989 6263.01607989 6262.81317575 6263.01607989 6262.81317575\n",
      " 6263.01607989]\n"
     ]
    },
    {
     "name": "stderr",
     "output_type": "stream",
     "text": [
      " 94%|████████████████████████████████████▊  | 2456/2600 [01:14<00:04, 30.01it/s]"
     ]
    },
    {
     "name": "stdout",
     "output_type": "stream",
     "text": [
      "Energy: [6278.14965186 6262.81317575 6270.68828626 6263.01607989 6263.01607989\n",
      " 6263.01607989 6263.01607989 6262.81317575 6263.01607989 6262.81317575\n",
      " 6262.81317575]\n"
     ]
    },
    {
     "name": "stderr",
     "output_type": "stream",
     "text": [
      " 96%|█████████████████████████████████████▌ | 2504/2600 [01:16<00:02, 32.65it/s]"
     ]
    },
    {
     "name": "stdout",
     "output_type": "stream",
     "text": [
      "Energy: [6277.93460929 6263.01607989 6263.01607989 6270.48315464 6263.01607989\n",
      " 6263.01607989 6263.01607989 6262.81317575 6263.01607989 6263.01607989\n",
      " 6262.81317575]\n"
     ]
    },
    {
     "name": "stderr",
     "output_type": "stream",
     "text": [
      " 98%|██████████████████████████████████████▎| 2556/2600 [01:17<00:01, 32.92it/s]"
     ]
    },
    {
     "name": "stdout",
     "output_type": "stream",
     "text": [
      "Energy: [6262.81317575 6263.01607989 6262.81317575 6262.81317575 6270.68828626\n",
      " 6262.81317575 6263.01607989 6263.01607989 6262.81317575 6262.81317575\n",
      " 6262.81317575]\n"
     ]
    },
    {
     "name": "stderr",
     "output_type": "stream",
     "text": [
      "100%|███████████████████████████████████████| 2600/2600 [01:19<00:00, 32.90it/s]\n"
     ]
    },
    {
     "name": "stdout",
     "output_type": "stream",
     "text": [
      "Fin Energy_t 6263.016079893343 Energy_gs 6262.8131757469455\n",
      "c_accep 0 c_rounds 0\n",
      "Elapsed (after compilation) = 79.02237582206726\n",
      "[[201 186 181 198 207 213 212 215 214 218 217 216]\n",
      " [201 186 181 198 207 213 212 215 214 218 217 216]\n",
      " [209 186 181 198 207 213 212 215 214 218 217 216]]\n",
      "[[202 198 193 197 188 212 216 214 215 218 213 217]\n",
      " [202 198 193 197 188 212 216 214 215 218 213 217]\n",
      " [202 198 193 197 188 212 216 214 215 218 213 217]]\n",
      "[[198 197 210 204 193 214 215 218 217 212 216 213]\n",
      " [198 197 210 204 193 214 215 218 217 212 216 213]\n",
      " [198 197 210 204 193 214 215 218 217 212 216 213]]\n",
      "[[198 197 210 204 193 214 215 218 217 212 216 213]\n",
      " [198 197 210 204 193 214 215 218 217 212 216 213]\n",
      " [198 197 210 204 193 214 215 218 217 212 216 213]]\n",
      "[[189 206 198 208 211 217 212 214 215 213 218 216]\n",
      " [189 206 198 208 211 217 212 214 215 213 218 216]\n",
      " [189 206 198 208 211 217 212 214 215 213 218 216]]\n",
      "[[189 206 198 208 211 217 212 214 215 213 218 216]\n",
      " [189 206 198 208 211 217 212 214 215 213 218 216]\n",
      " [189 206 198 208 211 217 212 214 215 213 218 216]]\n",
      "[[189 206 198 208 211 217 212 214 215 213 218 216]\n",
      " [189 206 198 208 211 217 212 214 215 213 218 216]\n",
      " [189 206 198 208 211 217 212 214 215 213 218 216]]\n",
      "[[189 206 198 208 211 217 212 214 215 213 218 216]\n",
      " [189 206 198 208 211 217 212 214 215 213 218 216]\n",
      " [189 206 198 208 211 217 212 214 215 213 218 216]]\n",
      "[[189 206 198 208 211 217 212 214 215 213 218 216]\n",
      " [189 206 198 208 211 217 212 214 215 213 218 216]\n",
      " [189 206 198 208 211 217 212 214 215 213 218 216]]\n",
      "[[189 206 198 208 211 217 212 214 215 213 218 216]\n",
      " [189 206 198 208 211 217 212 214 215 213 218 216]\n",
      " [189 206 198 208 211 217 212 214 215 213 218 216]]\n",
      "[[189 206 198 208 211 217 212 214 215 213 218 216]\n",
      " [189 206 198 208 211 217 212 214 215 213 218 216]\n",
      " [189 206 198 208 211 217 212 214 215 213 218 216]]\n",
      "[[201 186 181 198 207 213 212 215 214 218 217 216]\n",
      " [201 186 181 198 207 213 212 215 214 218 217 216]\n",
      " [209 186 181 198 207 213 212 215 214 218 217 216]]\n",
      "[[202 184 181 187 209 212 216 213 215 217 218 214]\n",
      " [202 184 181 187 209 212 216 213 215 217 218 214]\n",
      " [202 184 181 187 209 212 216 213 215 217 218 214]]\n",
      "[[202 184 181 187 209 212 216 213 215 217 218 214]\n",
      " [202 184 181 187 209 212 216 213 215 217 218 214]\n",
      " [202 184 181 187 201 212 216 213 215 217 218 214]]\n",
      "[[202 184 181 187 209 212 216 213 215 217 218 214]\n",
      " [202 184 181 187 209 212 216 213 215 217 218 214]\n",
      " [202 184 181 187 209 212 216 213 215 217 218 214]]\n",
      "[[202 198 193 197 188 212 216 214 215 218 213 217]\n",
      " [202 198 193 197 188 212 216 214 215 218 213 217]\n",
      " [202 198 193 197 188 212 216 214 215 218 213 217]]\n",
      "[[189 206 198 208 211 217 212 214 215 213 218 216]\n",
      " [189 206 198 208 211 217 212 214 215 213 218 216]\n",
      " [189 206 198 208 211 217 212 214 215 213 218 216]]\n",
      "[[189 206 198 208 211 217 212 214 215 213 218 216]\n",
      " [189 206 198 208 211 217 212 214 215 213 218 216]\n",
      " [189 206 198 208 211 217 212 214 215 213 218 216]]\n",
      "[[202 184 181 187 209 212 216 213 215 217 218 214]\n",
      " [202 184 181 187 209 212 216 213 215 217 218 214]\n",
      " [202 184 181 187 209 212 216 213 215 217 218 214]]\n",
      "[[189 206 198 208 211 217 212 214 215 213 218 216]\n",
      " [189 206 198 208 211 217 212 214 215 213 218 216]\n",
      " [189 206 198 208 211 217 212 214 215 213 218 216]]\n",
      "[[202 198 193 197 188 212 216 214 215 218 213 217]\n",
      " [202 198 193 197 188 212 216 214 215 218 213 217]\n",
      " [202 198 193 197 188 212 216 214 215 218 213 217]]\n",
      "[[202 198 193 197 188 212 216 214 215 218 213 217]\n",
      " [202 198 193 197 188 212 216 214 215 218 213 217]\n",
      " [202 198 193 197 188 212 216 214 215 218 213 217]]\n",
      "[[206 193 189 181 180 217 213 218 215 212 216 214]\n",
      " [206 193 189 181 180 217 213 218 215 212 216 214]\n",
      " [206 193 189 181 180 217 213 218 215 212 216 214]]\n",
      "[[202 198 193 197 188 212 216 214 215 218 213 217]\n",
      " [202 198 193 197 188 212 216 214 215 218 213 217]\n",
      " [202 198 193 197 188 212 216 214 215 218 213 217]]\n",
      "[[206 193 189 181 180 217 213 218 215 212 216 214]\n",
      " [206 193 189 181 180 217 213 218 215 212 216 214]\n",
      " [206 193 189 181 180 217 213 218 215 212 216 214]]\n",
      "[[202 198 193 197 188 212 216 214 215 218 213 217]\n",
      " [202 198 193 197 188 212 216 214 215 218 213 217]\n",
      " [202 198 193 197 188 212 216 214 215 218 213 217]]\n",
      "[[202 198 193 197 188 212 216 214 215 218 213 217]\n",
      " [202 198 193 197 188 212 216 214 215 218 213 217]\n",
      " [202 198 193 197 188 212 216 214 215 218 213 217]]\n",
      "[[202 198 193 197 188 212 216 214 215 218 213 217]\n",
      " [202 198 193 197 188 212 216 214 215 218 213 217]\n",
      " [202 198 193 197 188 212 216 214 215 218 213 217]]\n",
      "[[202 198 193 197 188 212 216 214 215 218 213 217]\n",
      " [202 198 193 197 188 212 216 214 215 218 213 217]\n",
      " [202 198 193 197 188 212 216 214 215 218 213 217]]\n",
      "[[202 198 193 197 188 212 216 214 215 218 213 217]\n",
      " [202 198 193 197 188 212 216 214 215 218 213 217]\n",
      " [202 198 193 197 188 212 216 214 215 218 213 217]]\n",
      "[[187 192 202 201 184 213 212 216 215 217 218 214]\n",
      " [187 192 202 201 184 213 212 216 215 217 218 214]\n",
      " [187 192 202 209 184 213 212 216 215 217 218 214]]\n",
      "[[208 200 201 205 185 218 212 216 215 217 214 213]\n",
      " [208 200 201 205 185 218 212 216 215 217 214 213]\n",
      " [208 200 201 205 185 218 212 216 215 217 214 213]]\n",
      "[[202 198 193 197 188 212 216 214 215 218 213 217]\n",
      " [202 198 193 197 188 212 216 214 215 218 213 217]\n",
      " [202 198 193 197 188 212 216 214 215 218 213 217]]\n",
      "[[206 193 189 181 180 217 213 218 215 212 216 214]\n",
      " [206 193 189 181 180 217 213 218 215 212 216 214]\n",
      " [206 193 189 181 180 217 213 218 215 212 216 214]]\n",
      "[[202 198 193 197 188 212 216 214 215 218 213 217]\n",
      " [202 198 193 197 188 212 216 214 215 218 213 217]\n",
      " [202 198 193 197 188 212 216 214 215 218 213 217]]\n",
      "[[202 184 181 187 209 212 216 213 215 217 218 214]\n",
      " [202 184 181 187 209 212 216 213 215 217 218 214]\n",
      " [202 184 181 187 209 212 216 213 215 217 218 214]]\n",
      "[[206 193 189 181 180 217 213 218 215 212 216 214]\n",
      " [206 193 189 181 180 217 213 218 215 212 216 214]\n",
      " [206 193 189 181 180 217 213 218 215 212 216 214]]\n",
      "[[202 184 181 187 209 212 216 213 215 217 218 214]\n",
      " [202 184 181 187 209 212 216 213 215 217 218 214]\n",
      " [202 184 181 187 209 212 216 213 215 217 218 214]]\n",
      "[[206 193 189 181 180 217 213 218 215 212 216 214]\n",
      " [206 193 189 181 180 217 213 218 215 212 216 214]\n",
      " [206 193 189 181 180 217 213 218 215 212 216 214]]\n",
      "[[202 184 181 187 209 212 216 213 215 217 218 214]\n",
      " [202 184 181 187 209 212 216 213 215 217 218 214]\n",
      " [202 184 181 187 209 212 216 213 215 217 218 214]]\n",
      "[1.] [0.99086758]\n",
      "i_reps 2\n",
      "Energía ini: 23699.886902383056 /gs: 6307.586120146545\n"
     ]
    },
    {
     "name": "stderr",
     "output_type": "stream",
     "text": [
      " 23%|█████████▎                              | 604/2600 [00:18<01:01, 32.58it/s]"
     ]
    },
    {
     "name": "stdout",
     "output_type": "stream",
     "text": [
      "Energy: [6307.58612015 6322.85954954 6315.2245469  6307.58612015 6307.58612015\n",
      " 6307.58612015 6307.58612015 6307.58612015 6307.58612015 6307.58612015\n",
      " 6307.58612015]\n"
     ]
    },
    {
     "name": "stderr",
     "output_type": "stream",
     "text": [
      " 25%|██████████                              | 656/2600 [00:19<01:00, 32.18it/s]"
     ]
    },
    {
     "name": "stdout",
     "output_type": "stream",
     "text": [
      "Energy: [6307.58612015 6315.2245469  6307.58612015 6307.58612015 6307.58612015\n",
      " 6307.58612015 6307.58612015 6307.58612015 6307.58612015 6307.58612015\n",
      " 6307.58612015]\n"
     ]
    },
    {
     "name": "stderr",
     "output_type": "stream",
     "text": [
      " 27%|██████████▉                             | 708/2600 [00:21<00:55, 34.30it/s]"
     ]
    },
    {
     "name": "stdout",
     "output_type": "stream",
     "text": [
      "Energy: [6322.85954954 6315.2245469  6307.58612015 6307.58612015 6307.58612015\n",
      " 6307.58612015 6307.58612015 6307.58612015 6307.58612015 6307.58612015\n",
      " 6307.58612015]\n"
     ]
    },
    {
     "name": "stderr",
     "output_type": "stream",
     "text": [
      " 29%|███████████▋                            | 756/2600 [00:22<01:00, 30.43it/s]"
     ]
    },
    {
     "name": "stdout",
     "output_type": "stream",
     "text": [
      "Energy: [6307.58612015 6307.58612015 6307.58612015 6307.58612015 6315.2245469\n",
      " 6307.58612015 6307.58612015 6307.58612015 6307.58612015 6307.58612015\n",
      " 6307.58612015]\n"
     ]
    },
    {
     "name": "stderr",
     "output_type": "stream",
     "text": [
      " 31%|████████████▍                           | 808/2600 [00:24<00:54, 32.78it/s]"
     ]
    },
    {
     "name": "stdout",
     "output_type": "stream",
     "text": [
      "Energy: [6315.2245469  6307.58612015 6307.58612015 6307.58612015 6330.49113339\n",
      " 6307.58612015 6307.58612015 6307.58612015 6307.58612015 6307.58612015\n",
      " 6307.58612015]\n"
     ]
    },
    {
     "name": "stderr",
     "output_type": "stream",
     "text": [
      " 33%|█████████████▏                          | 856/2600 [00:26<00:55, 31.21it/s]"
     ]
    },
    {
     "name": "stdout",
     "output_type": "stream",
     "text": [
      "Energy: [6331.00445375 6307.58612015 6307.58612015 6307.58612015 6307.58612015\n",
      " 6307.58612015 6307.58612015 6307.58612015 6307.58612015 6307.58612015\n",
      " 6307.58612015]\n"
     ]
    },
    {
     "name": "stderr",
     "output_type": "stream",
     "text": [
      " 35%|█████████████▉                          | 908/2600 [00:27<00:51, 32.56it/s]"
     ]
    },
    {
     "name": "stdout",
     "output_type": "stream",
     "text": [
      "Energy: [6383.5345683  6307.58612015 6315.2245469  6315.2245469  6307.58612015\n",
      " 6307.58612015 6307.58612015 6307.58612015 6307.58612015 6307.58612015\n",
      " 6307.58612015]\n"
     ]
    },
    {
     "name": "stderr",
     "output_type": "stream",
     "text": [
      " 37%|██████████████▋                         | 956/2600 [00:29<00:49, 33.53it/s]"
     ]
    },
    {
     "name": "stdout",
     "output_type": "stream",
     "text": [
      "Energy: [6353.09132356 6307.58612015 6315.2245469  6307.58612015 6307.58612015\n",
      " 6307.58612015 6307.58612015 6307.58612015 6307.58612015 6307.58612015\n",
      " 6307.58612015]\n"
     ]
    },
    {
     "name": "stderr",
     "output_type": "stream",
     "text": [
      " 39%|███████████████                        | 1008/2600 [00:30<00:51, 31.17it/s]"
     ]
    },
    {
     "name": "stdout",
     "output_type": "stream",
     "text": [
      "Energy: [6330.49113339 6307.58612015 6307.58612015 6307.58612015 6307.58612015\n",
      " 6307.58612015 6307.58612015 6307.58612015 6307.58612015 6307.58612015\n",
      " 6307.58612015]\n"
     ]
    },
    {
     "name": "stderr",
     "output_type": "stream",
     "text": [
      " 41%|███████████████▊                       | 1056/2600 [00:32<00:47, 32.69it/s]"
     ]
    },
    {
     "name": "stdout",
     "output_type": "stream",
     "text": [
      "Energy: [6307.58612015 6307.58612015 6322.85954954 6307.58612015 6315.2245469\n",
      " 6307.58612015 6307.58612015 6307.58612015 6307.58612015 6307.58612015\n",
      " 6307.58612015]\n"
     ]
    },
    {
     "name": "stderr",
     "output_type": "stream",
     "text": [
      " 43%|████████████████▌                      | 1108/2600 [00:33<00:45, 32.72it/s]"
     ]
    },
    {
     "name": "stdout",
     "output_type": "stream",
     "text": [
      "Energy: [6338.11930376 6307.58612015 6323.11784041 6307.58612015 6307.58612015\n",
      " 6307.58612015 6307.58612015 6307.58612015 6307.58612015 6307.58612015\n",
      " 6307.58612015]\n"
     ]
    },
    {
     "name": "stderr",
     "output_type": "stream",
     "text": [
      " 44%|█████████████████▎                     | 1156/2600 [00:35<00:45, 32.03it/s]"
     ]
    },
    {
     "name": "stdout",
     "output_type": "stream",
     "text": [
      "Energy: [6322.59379022 6307.58612015 6315.2245469  6307.58612015 6307.58612015\n",
      " 6307.58612015 6307.58612015 6307.58612015 6307.58612015 6307.58612015\n",
      " 6307.58612015]\n"
     ]
    },
    {
     "name": "stderr",
     "output_type": "stream",
     "text": [
      " 46%|██████████████████                     | 1208/2600 [00:36<00:41, 33.63it/s]"
     ]
    },
    {
     "name": "stdout",
     "output_type": "stream",
     "text": [
      "Energy: [6322.59379022 6307.58612015 6338.11930376 6307.58612015 6315.2245469\n",
      " 6307.58612015 6307.58612015 6307.58612015 6307.58612015 6307.58612015\n",
      " 6307.58612015]\n"
     ]
    },
    {
     "name": "stderr",
     "output_type": "stream",
     "text": [
      " 48%|██████████████████▉                    | 1260/2600 [00:38<00:40, 32.99it/s]"
     ]
    },
    {
     "name": "stdout",
     "output_type": "stream",
     "text": [
      "Energy: [6307.58612015 6307.58612015 6307.58612015 6307.58612015 6307.58612015\n",
      " 6307.58612015 6307.58612015 6307.58612015 6307.58612015 6307.58612015\n",
      " 6307.58612015]\n"
     ]
    },
    {
     "name": "stderr",
     "output_type": "stream",
     "text": [
      " 50%|███████████████████▌                   | 1308/2600 [00:39<00:37, 34.47it/s]"
     ]
    },
    {
     "name": "stdout",
     "output_type": "stream",
     "text": [
      "Energy: [6307.58612015 6307.58612015 6307.58612015 6307.58612015 6315.2245469\n",
      " 6307.58612015 6307.58612015 6307.58612015 6307.58612015 6307.58612015\n",
      " 6307.58612015]\n"
     ]
    },
    {
     "name": "stderr",
     "output_type": "stream",
     "text": [
      " 52%|████████████████████▎                  | 1356/2600 [00:41<00:37, 32.81it/s]"
     ]
    },
    {
     "name": "stdout",
     "output_type": "stream",
     "text": [
      "Energy: [6307.58612015 6315.2245469  6307.58612015 6315.2245469  6307.58612015\n",
      " 6307.58612015 6307.58612015 6307.58612015 6307.58612015 6307.58612015\n",
      " 6307.58612015]\n"
     ]
    },
    {
     "name": "stderr",
     "output_type": "stream",
     "text": [
      " 54%|█████████████████████                  | 1408/2600 [00:42<00:35, 33.72it/s]"
     ]
    },
    {
     "name": "stdout",
     "output_type": "stream",
     "text": [
      "Energy: [6315.2245469  6307.58612015 6315.2245469  6307.58612015 6307.58612015\n",
      " 6307.58612015 6307.58612015 6307.58612015 6307.58612015 6307.58612015\n",
      " 6307.58612015]\n"
     ]
    },
    {
     "name": "stderr",
     "output_type": "stream",
     "text": [
      " 56%|█████████████████████▊                 | 1456/2600 [00:44<00:35, 32.68it/s]"
     ]
    },
    {
     "name": "stdout",
     "output_type": "stream",
     "text": [
      "Energy: [6315.2245469  6322.85954954 6307.58612015 6307.58612015 6307.58612015\n",
      " 6307.58612015 6307.58612015 6307.58612015 6307.58612015 6307.58612015\n",
      " 6307.58612015]\n"
     ]
    },
    {
     "name": "stderr",
     "output_type": "stream",
     "text": [
      " 58%|██████████████████████▌                | 1508/2600 [00:45<00:32, 33.24it/s]"
     ]
    },
    {
     "name": "stdout",
     "output_type": "stream",
     "text": [
      "Energy: [6307.58612015 6307.58612015 6307.58612015 6315.2245469  6307.58612015\n",
      " 6307.58612015 6307.58612015 6307.58612015 6307.58612015 6307.58612015\n",
      " 6307.58612015]\n"
     ]
    },
    {
     "name": "stderr",
     "output_type": "stream",
     "text": [
      " 60%|███████████████████████▎               | 1556/2600 [00:47<00:31, 33.05it/s]"
     ]
    },
    {
     "name": "stdout",
     "output_type": "stream",
     "text": [
      "Energy: [6307.58612015 6307.58612015 6315.2245469  6307.58612015 6307.58612015\n",
      " 6315.2245469  6307.58612015 6307.58612015 6307.58612015 6307.58612015\n",
      " 6307.58612015]\n"
     ]
    },
    {
     "name": "stderr",
     "output_type": "stream",
     "text": [
      " 62%|████████████████████████               | 1604/2600 [00:48<00:30, 33.09it/s]"
     ]
    },
    {
     "name": "stdout",
     "output_type": "stream",
     "text": [
      "Energy: [6307.58612015 6330.22328143 6307.58612015 6307.58612015 6307.58612015\n",
      " 6307.58612015 6307.58612015 6307.58612015 6307.58612015 6307.58612015\n",
      " 6307.58612015]\n"
     ]
    },
    {
     "name": "stderr",
     "output_type": "stream",
     "text": [
      " 64%|████████████████████████▊              | 1656/2600 [00:50<00:30, 31.46it/s]"
     ]
    },
    {
     "name": "stdout",
     "output_type": "stream",
     "text": [
      "Energy: [6346.00866648 6307.58612015 6307.58612015 6315.2245469  6322.3205866\n",
      " 6307.58612015 6307.58612015 6307.58612015 6307.58612015 6307.58612015\n",
      " 6307.58612015]\n"
     ]
    },
    {
     "name": "stderr",
     "output_type": "stream",
     "text": [
      " 66%|█████████████████████████▌             | 1704/2600 [00:51<00:26, 33.27it/s]"
     ]
    },
    {
     "name": "stdout",
     "output_type": "stream",
     "text": [
      "Energy: [6338.11930376 6315.2245469  6315.2245469  6315.2245469  6307.58612015\n",
      " 6315.2245469  6307.58612015 6307.58612015 6307.58612015 6307.58612015\n",
      " 6307.58612015]\n"
     ]
    },
    {
     "name": "stderr",
     "output_type": "stream",
     "text": [
      " 68%|██████████████████████████▎            | 1756/2600 [00:53<00:26, 31.49it/s]"
     ]
    },
    {
     "name": "stdout",
     "output_type": "stream",
     "text": [
      "Energy: [6329.94800046 6315.2245469  6307.58612015 6315.2245469  6307.58612015\n",
      " 6307.58612015 6307.58612015 6307.58612015 6307.58612015 6307.58612015\n",
      " 6307.58612015]\n"
     ]
    },
    {
     "name": "stderr",
     "output_type": "stream",
     "text": [
      " 70%|███████████████████████████            | 1808/2600 [00:54<00:23, 33.21it/s]"
     ]
    },
    {
     "name": "stdout",
     "output_type": "stream",
     "text": [
      "Energy: [6307.58612015 6307.58612015 6307.58612015 6307.58612015 6315.2245469\n",
      " 6307.58612015 6307.58612015 6307.58612015 6307.58612015 6307.58612015\n",
      " 6307.58612015]\n"
     ]
    },
    {
     "name": "stderr",
     "output_type": "stream",
     "text": [
      " 71%|███████████████████████████▊           | 1856/2600 [00:56<00:23, 31.86it/s]"
     ]
    },
    {
     "name": "stdout",
     "output_type": "stream",
     "text": [
      "Energy: [6322.85954954 6323.11784041 6307.58612015 6307.58612015 6307.58612015\n",
      " 6307.58612015 6307.58612015 6307.58612015 6307.58612015 6307.58612015\n",
      " 6307.58612015]\n"
     ]
    },
    {
     "name": "stderr",
     "output_type": "stream",
     "text": [
      " 73%|████████████████████████████▌          | 1908/2600 [00:58<00:22, 31.43it/s]"
     ]
    },
    {
     "name": "stdout",
     "output_type": "stream",
     "text": [
      "Energy: [6322.85954954 6307.58612015 6315.2245469  6307.58612015 6307.58612015\n",
      " 6307.58612015 6307.58612015 6307.58612015 6307.58612015 6307.58612015\n",
      " 6307.58612015]\n"
     ]
    },
    {
     "name": "stderr",
     "output_type": "stream",
     "text": [
      " 75%|█████████████████████████████▍         | 1960/2600 [00:59<00:19, 33.32it/s]"
     ]
    },
    {
     "name": "stdout",
     "output_type": "stream",
     "text": [
      "Energy: [6315.2245469  6307.58612015 6307.58612015 6315.2245469  6307.58612015\n",
      " 6307.58612015 6307.58612015 6307.58612015 6307.58612015 6307.58612015\n",
      " 6307.58612015]\n"
     ]
    },
    {
     "name": "stderr",
     "output_type": "stream",
     "text": [
      " 77%|██████████████████████████████         | 2008/2600 [01:01<00:18, 32.62it/s]"
     ]
    },
    {
     "name": "stdout",
     "output_type": "stream",
     "text": [
      "Energy: [6330.49113339 6307.58612015 6315.2245469  6307.58612015 6307.58612015\n",
      " 6307.58612015 6315.2245469  6307.58612015 6307.58612015 6307.58612015\n",
      " 6307.58612015]\n"
     ]
    },
    {
     "name": "stderr",
     "output_type": "stream",
     "text": [
      " 79%|██████████████████████████████▊        | 2056/2600 [01:02<00:16, 33.45it/s]"
     ]
    },
    {
     "name": "stdout",
     "output_type": "stream",
     "text": [
      "Energy: [6307.58612015 6322.85954954 6307.58612015 6307.58612015 6307.58612015\n",
      " 6307.58612015 6307.58612015 6307.58612015 6307.58612015 6307.58612015\n",
      " 6307.58612015]\n"
     ]
    },
    {
     "name": "stderr",
     "output_type": "stream",
     "text": [
      " 81%|███████████████████████████████▌       | 2108/2600 [01:04<00:15, 32.10it/s]"
     ]
    },
    {
     "name": "stdout",
     "output_type": "stream",
     "text": [
      "Energy: [6315.2245469  6307.58612015 6307.58612015 6307.58612015 6307.58612015\n",
      " 6307.58612015 6307.58612015 6307.58612015 6307.58612015 6307.58612015\n",
      " 6307.58612015]\n"
     ]
    },
    {
     "name": "stderr",
     "output_type": "stream",
     "text": [
      " 83%|████████████████████████████████▍      | 2160/2600 [01:05<00:14, 31.40it/s]"
     ]
    },
    {
     "name": "stdout",
     "output_type": "stream",
     "text": [
      "Energy: [6307.58612015 6307.58612015 6315.2245469  6307.58612015 6307.58612015\n",
      " 6307.58612015 6307.58612015 6307.58612015 6307.58612015 6307.58612015\n",
      " 6307.58612015]\n"
     ]
    },
    {
     "name": "stderr",
     "output_type": "stream",
     "text": [
      " 85%|█████████████████████████████████      | 2208/2600 [01:07<00:11, 33.68it/s]"
     ]
    },
    {
     "name": "stdout",
     "output_type": "stream",
     "text": [
      "Energy: [6315.2245469  6307.58612015 6315.2245469  6315.2245469  6307.58612015\n",
      " 6307.58612015 6315.2245469  6307.58612015 6307.58612015 6307.58612015\n",
      " 6307.58612015]\n"
     ]
    },
    {
     "name": "stderr",
     "output_type": "stream",
     "text": [
      " 87%|█████████████████████████████████▊     | 2256/2600 [01:08<00:10, 33.45it/s]"
     ]
    },
    {
     "name": "stdout",
     "output_type": "stream",
     "text": [
      "Energy: [6315.2245469  6322.85954954 6307.58612015 6315.2245469  6307.58612015\n",
      " 6307.58612015 6315.2245469  6307.58612015 6307.58612015 6307.58612015\n",
      " 6307.58612015]\n"
     ]
    },
    {
     "name": "stderr",
     "output_type": "stream",
     "text": [
      " 89%|██████████████████████████████████▌    | 2308/2600 [01:10<00:08, 32.62it/s]"
     ]
    },
    {
     "name": "stdout",
     "output_type": "stream",
     "text": [
      "Energy: [6307.58612015 6315.2245469  6315.2245469  6322.3205866  6307.58612015\n",
      " 6307.58612015 6307.58612015 6307.58612015 6307.58612015 6307.58612015\n",
      " 6307.58612015]\n"
     ]
    },
    {
     "name": "stderr",
     "output_type": "stream",
     "text": [
      " 91%|███████████████████████████████████▍   | 2360/2600 [01:11<00:07, 33.58it/s]"
     ]
    },
    {
     "name": "stdout",
     "output_type": "stream",
     "text": [
      "Energy: [6307.58612015 6322.85954954 6307.58612015 6322.3205866  6307.58612015\n",
      " 6307.58612015 6307.58612015 6307.58612015 6307.58612015 6307.58612015\n",
      " 6307.58612015]\n"
     ]
    },
    {
     "name": "stderr",
     "output_type": "stream",
     "text": [
      " 93%|████████████████████████████████████   | 2408/2600 [01:13<00:05, 32.97it/s]"
     ]
    },
    {
     "name": "stdout",
     "output_type": "stream",
     "text": [
      "Energy: [6315.2245469  6307.58612015 6307.58612015 6315.2245469  6307.58612015\n",
      " 6322.85954954 6307.58612015 6307.58612015 6307.58612015 6307.58612015\n",
      " 6307.58612015]\n"
     ]
    },
    {
     "name": "stderr",
     "output_type": "stream",
     "text": [
      " 94%|████████████████████████████████████▊  | 2456/2600 [01:14<00:04, 33.68it/s]"
     ]
    },
    {
     "name": "stdout",
     "output_type": "stream",
     "text": [
      "Energy: [6315.2245469  6315.2245469  6307.58612015 6307.58612015 6315.2245469\n",
      " 6307.58612015 6307.58612015 6307.58612015 6307.58612015 6307.58612015\n",
      " 6307.58612015]\n"
     ]
    },
    {
     "name": "stderr",
     "output_type": "stream",
     "text": [
      " 96%|█████████████████████████████████████▌ | 2508/2600 [01:16<00:02, 33.70it/s]"
     ]
    },
    {
     "name": "stdout",
     "output_type": "stream",
     "text": [
      "Energy: [6322.85954954 6315.2245469  6307.58612015 6322.85954954 6307.58612015\n",
      " 6307.58612015 6307.58612015 6307.58612015 6307.58612015 6307.58612015\n",
      " 6307.58612015]\n"
     ]
    },
    {
     "name": "stderr",
     "output_type": "stream",
     "text": [
      " 98%|██████████████████████████████████████▍| 2560/2600 [01:17<00:01, 33.02it/s]"
     ]
    },
    {
     "name": "stdout",
     "output_type": "stream",
     "text": [
      "Energy: [6330.75153226 6307.58612015 6315.2245469  6307.58612015 6307.58612015\n",
      " 6307.58612015 6307.58612015 6307.58612015 6307.58612015 6307.58612015\n",
      " 6307.58612015]\n"
     ]
    },
    {
     "name": "stderr",
     "output_type": "stream",
     "text": [
      "100%|███████████████████████████████████████| 2600/2600 [01:18<00:00, 32.93it/s]\n"
     ]
    },
    {
     "name": "stdout",
     "output_type": "stream",
     "text": [
      "Fin Energy_t 6307.586120146545 Energy_gs 6307.586120146545\n",
      "c_accep 0 c_rounds 0\n",
      "Elapsed (after compilation) = 78.95921778678894\n",
      "[[204 193 208 188 198 215 216 217 213 214 212 218]\n",
      " [204 193 208 188 198 215 216 217 213 214 212 218]\n",
      " [204 193 208 188 198 215 216 217 213 214 212 218]]\n",
      "[[204 193 208 188 198 215 216 217 213 214 212 218]\n",
      " [204 193 208 188 198 215 216 217 213 214 212 218]\n",
      " [204 193 208 188 198 215 216 217 213 214 212 218]]\n",
      "[[204 193 208 188 198 215 216 217 213 214 212 218]\n",
      " [204 193 208 188 198 215 216 217 213 214 212 218]\n",
      " [204 193 208 188 198 215 216 217 213 214 212 218]]\n",
      "[[204 193 208 188 198 215 216 217 213 214 212 218]\n",
      " [204 193 208 188 198 215 216 217 213 214 212 218]\n",
      " [204 193 208 188 198 215 216 217 213 214 212 218]]\n",
      "[[188 198 182 203 199 218 215 214 212 213 217 216]\n",
      " [188 198 182 203 199 218 215 214 212 213 217 216]\n",
      " [188 198 182 203 199 218 215 214 212 213 217 216]]\n",
      "[[188 198 182 203 199 218 215 214 212 213 217 216]\n",
      " [188 198 182 203 199 218 215 214 212 213 217 216]\n",
      " [188 198 182 203 199 218 215 214 212 213 217 216]]\n",
      "[[188 198 182 203 199 218 215 214 212 213 217 216]\n",
      " [188 198 182 203 199 218 215 214 212 213 217 216]\n",
      " [188 198 182 203 199 218 215 214 212 213 217 216]]\n",
      "[[188 198 182 203 199 218 215 214 212 213 217 216]\n",
      " [188 198 182 203 199 218 215 214 212 213 217 216]\n",
      " [188 198 182 203 199 218 215 214 212 213 217 216]]\n",
      "[[209 201 184 200 186 218 215 214 213 217 212 216]\n",
      " [209 201 184 200 186 218 215 214 213 217 212 216]\n",
      " [209 201 184 200 186 218 215 214 213 217 212 216]]\n",
      "[[188 198 182 203 199 218 215 214 212 213 217 216]\n",
      " [188 198 182 203 199 218 215 214 212 213 217 216]\n",
      " [188 198 182 203 199 218 215 214 212 213 217 216]]\n",
      "[[209 201 184 200 186 218 215 214 213 217 212 216]\n",
      " [209 201 184 200 186 218 215 214 213 217 212 216]\n",
      " [209 201 184 200 186 218 215 214 213 217 212 216]]\n",
      "[[188 198 182 203 199 218 215 214 212 213 217 216]\n",
      " [188 198 182 203 199 218 215 214 212 213 217 216]\n",
      " [188 198 182 203 199 218 215 214 212 213 217 216]]\n",
      "[[194 183 207 197 205 217 212 214 215 218 213 216]\n",
      " [194 183 207 197 205 217 212 214 215 218 213 216]\n",
      " [194 183 207 197 205 217 212 214 215 218 213 216]]\n",
      "[[209 201 184 200 186 218 215 214 213 217 212 216]\n",
      " [209 201 184 200 186 218 215 214 213 217 212 216]\n",
      " [209 201 184 200 186 218 215 214 213 217 212 216]]\n",
      "[[188 198 182 203 199 218 215 214 212 213 217 216]\n",
      " [188 198 182 203 199 218 215 214 212 213 217 216]\n",
      " [188 198 182 203 199 218 215 214 212 213 217 216]]\n",
      "[[188 198 182 203 199 218 215 214 212 213 217 216]\n",
      " [188 198 182 203 199 218 215 214 212 213 217 216]\n",
      " [188 198 182 203 199 218 215 214 212 213 217 216]]\n",
      "[[188 198 182 203 199 218 215 214 212 213 217 216]\n",
      " [188 198 182 203 199 218 215 214 212 213 217 216]\n",
      " [188 198 182 203 199 218 215 214 212 213 217 216]]\n",
      "[[188 198 182 203 199 218 215 214 212 213 217 216]\n",
      " [188 198 182 203 199 218 215 214 212 213 217 216]\n",
      " [188 198 182 203 199 218 215 214 212 213 217 216]]\n",
      "[[184 195 210 197 200 212 213 214 215 218 217 216]\n",
      " [184 195 210 197 200 212 213 214 215 218 217 216]\n",
      " [184 195 210 197 200 212 213 214 215 218 217 216]]\n",
      "[[188 198 182 203 199 218 215 214 212 213 217 216]\n",
      " [188 198 182 203 199 218 215 214 212 213 217 216]\n",
      " [188 198 182 203 199 218 215 214 212 213 217 216]]\n",
      "[[188 198 182 203 199 218 215 214 212 213 217 216]\n",
      " [188 198 182 203 199 218 215 214 212 213 217 216]\n",
      " [188 198 182 203 199 218 215 214 212 213 217 216]]\n",
      "[[204 193 210 180 198 215 216 217 213 214 212 218]\n",
      " [204 193 210 180 198 215 216 217 213 214 212 218]\n",
      " [204 193 210 180 198 215 216 217 213 214 212 218]]\n",
      "[[188 198 182 203 199 218 215 214 212 213 217 216]\n",
      " [188 198 182 203 199 218 215 214 212 213 217 216]\n",
      " [188 198 182 203 199 218 215 214 212 213 217 216]]\n",
      "[[188 198 182 203 199 218 215 214 212 213 217 216]\n",
      " [188 198 182 203 199 218 215 214 212 213 217 216]\n",
      " [188 198 182 203 199 218 215 214 212 213 217 216]]\n",
      "[[188 198 182 203 199 218 215 214 212 213 217 216]\n",
      " [188 198 182 203 199 218 215 214 212 213 217 216]\n",
      " [188 198 182 203 199 218 215 214 212 213 217 216]]\n",
      "[[188 198 182 203 199 218 215 214 212 213 217 216]\n",
      " [188 198 182 203 199 218 215 214 212 213 217 216]\n",
      " [188 198 182 203 199 218 215 214 212 213 217 216]]\n",
      "[[184 195 210 197 200 212 213 214 215 218 217 216]\n",
      " [184 195 210 197 200 212 213 214 215 218 217 216]\n",
      " [184 195 210 197 200 212 213 214 215 218 217 216]]\n",
      "[[184 195 210 197 200 212 213 214 215 218 217 216]\n",
      " [184 195 210 197 200 212 213 214 215 218 217 216]\n",
      " [184 195 210 197 200 212 213 214 215 218 217 216]]\n",
      "[[183 208 198 190 187 212 213 215 214 217 218 216]\n",
      " [183 208 198 190 187 212 213 215 214 217 218 216]\n",
      " [183 208 198 190 187 212 213 215 214 217 218 216]]\n",
      "[[183 208 198 190 187 212 213 215 214 217 218 216]\n",
      " [183 208 198 190 187 212 213 215 214 217 218 216]\n",
      " [183 208 198 190 187 212 213 215 214 217 218 216]]\n",
      "[[183 208 198 190 187 212 213 215 214 217 218 216]\n",
      " [183 208 198 190 187 212 213 215 214 217 218 216]\n",
      " [183 208 198 190 187 212 213 215 214 217 218 216]]\n",
      "[[210 201 202 183 194 213 217 214 215 212 216 218]\n",
      " [210 201 202 183 194 213 217 214 215 212 216 218]\n",
      " [210 201 202 183 194 213 217 214 215 212 216 218]]\n",
      "[[183 208 198 190 187 212 213 215 214 217 218 216]\n",
      " [183 208 198 190 187 212 213 215 214 217 218 216]\n",
      " [183 208 198 190 187 212 213 215 214 217 218 216]]\n",
      "[[183 208 198 190 187 212 213 215 214 217 218 216]\n",
      " [183 208 198 190 187 212 213 215 214 217 218 216]\n",
      " [183 208 198 190 187 212 213 215 214 217 218 216]]\n",
      "[[211 202 195 197 198 212 213 214 217 215 216 218]\n",
      " [211 202 195 197 198 212 213 214 217 215 216 218]\n",
      " [211 202 195 197 198 212 213 214 217 215 216 218]]\n",
      "[[211 202 195 197 198 212 213 214 217 215 216 218]\n",
      " [211 202 195 197 198 212 213 214 217 215 216 218]\n",
      " [211 202 195 197 198 212 213 214 217 215 216 218]]\n",
      "[[211 202 195 197 198 212 213 214 217 215 216 218]\n",
      " [211 202 195 197 198 212 213 214 217 215 216 218]\n",
      " [211 202 195 197 198 212 213 214 217 215 216 218]]\n",
      "[[211 202 195 197 198 212 213 214 217 215 216 218]\n",
      " [211 202 195 197 198 212 213 214 217 215 216 218]\n",
      " [211 202 195 197 198 212 213 214 217 215 216 218]]\n",
      "[[211 202 195 197 198 212 213 214 217 215 216 218]\n",
      " [211 202 195 197 198 212 213 214 217 215 216 218]\n",
      " [211 202 195 197 198 212 213 214 217 215 216 218]]\n",
      "[[183 208 198 190 187 212 213 215 214 217 218 216]\n",
      " [183 208 198 190 187 212 213 215 214 217 218 216]\n",
      " [183 208 198 190 187 212 213 215 214 217 218 216]]\n",
      "[1.] [1.]\n",
      "i_reps 3\n",
      "Energía ini: 23600.018234688207 /gs: 6294.6271631535055\n"
     ]
    },
    {
     "name": "stderr",
     "output_type": "stream",
     "text": [
      " 23%|█████████▎                              | 608/2600 [00:18<00:59, 33.53it/s]"
     ]
    },
    {
     "name": "stdout",
     "output_type": "stream",
     "text": [
      "Energy: [6402.4279739  6302.29673341 6547.61163695 6294.62716315 6294.62716315\n",
      " 6294.62716315 6294.62716315 6294.62716315 6401.88252087 6294.62716315\n",
      " 6294.62716315]\n"
     ]
    },
    {
     "name": "stderr",
     "output_type": "stream",
     "text": [
      " 25%|██████████                              | 656/2600 [00:19<00:59, 32.59it/s]"
     ]
    },
    {
     "name": "stdout",
     "output_type": "stream",
     "text": [
      "Energy: [6294.62716315 6302.29673341 6294.62716315 6294.62716315 6294.62716315\n",
      " 6294.62716315 6294.62716315 6294.62716315 6401.88252087 6294.62716315\n",
      " 6294.62716315]\n"
     ]
    },
    {
     "name": "stderr",
     "output_type": "stream",
     "text": [
      " 27%|██████████▉                             | 708/2600 [00:21<01:00, 31.12it/s]"
     ]
    },
    {
     "name": "stdout",
     "output_type": "stream",
     "text": [
      "Energy: [6294.62716315 6294.62716315 6294.62716315 6294.62716315 6294.62716315\n",
      " 6302.29673341 6302.29673341 6294.62716315 6294.62716315 6294.62716315\n",
      " 6294.62716315]\n"
     ]
    },
    {
     "name": "stderr",
     "output_type": "stream",
     "text": [
      " 29%|███████████▋                            | 756/2600 [00:23<00:56, 32.82it/s]"
     ]
    },
    {
     "name": "stdout",
     "output_type": "stream",
     "text": [
      "Energy: [6325.45900104 6310.13271197 6294.62716315 6294.62716315 6294.62716315\n",
      " 6294.62716315 6294.62716315 6294.62716315 6294.62716315 6294.62716315\n",
      " 6294.62716315]\n"
     ]
    },
    {
     "name": "stderr",
     "output_type": "stream",
     "text": [
      " 31%|████████████▍                           | 808/2600 [00:24<00:54, 33.07it/s]"
     ]
    },
    {
     "name": "stdout",
     "output_type": "stream",
     "text": [
      "Energy: [6309.96281226 6294.62716315 6294.62716315 6294.62716315 6294.62716315\n",
      " 6294.62716315 6294.62716315 6294.62716315 6294.62716315 6294.62716315\n",
      " 6294.62716315]\n"
     ]
    },
    {
     "name": "stderr",
     "output_type": "stream",
     "text": [
      " 33%|█████████████▏                          | 856/2600 [00:26<00:56, 30.75it/s]"
     ]
    },
    {
     "name": "stdout",
     "output_type": "stream",
     "text": [
      "Energy: [6294.62716315 6309.96281226 6294.62716315 6294.62716315 6294.62716315\n",
      " 6294.62716315 6294.62716315 6294.62716315 6294.62716315 6294.62716315\n",
      " 6294.62716315]\n"
     ]
    },
    {
     "name": "stderr",
     "output_type": "stream",
     "text": [
      " 35%|█████████████▉                          | 908/2600 [00:27<00:50, 33.81it/s]"
     ]
    },
    {
     "name": "stdout",
     "output_type": "stream",
     "text": [
      "Energy: [6294.62716315 6302.29673341 6294.62716315 6294.62716315 6294.62716315\n",
      " 6294.62716315 6294.62716315 6294.62716315 6294.62716315 6294.62716315\n",
      " 6294.62716315]\n"
     ]
    },
    {
     "name": "stderr",
     "output_type": "stream",
     "text": [
      " 37%|██████████████▊                         | 960/2600 [00:29<00:50, 32.55it/s]"
     ]
    },
    {
     "name": "stdout",
     "output_type": "stream",
     "text": [
      "Energy: [6294.62716315 6294.62716315 6294.62716315 6302.4643333  6294.62716315\n",
      " 6302.4643333  6294.62716315 6294.62716315 6294.62716315 6294.62716315\n",
      " 6294.62716315]\n"
     ]
    },
    {
     "name": "stderr",
     "output_type": "stream",
     "text": [
      " 39%|███████████████                        | 1008/2600 [00:30<00:47, 33.20it/s]"
     ]
    },
    {
     "name": "stdout",
     "output_type": "stream",
     "text": [
      "Energy: [6294.62716315 6294.62716315 6294.62716315 6294.62716315 6302.4643333\n",
      " 6294.62716315 6294.62716315 6294.62716315 6294.62716315 6294.62716315\n",
      " 6294.62716315]\n"
     ]
    },
    {
     "name": "stderr",
     "output_type": "stream",
     "text": [
      " 41%|███████████████▉                       | 1060/2600 [00:32<00:47, 32.67it/s]"
     ]
    },
    {
     "name": "stdout",
     "output_type": "stream",
     "text": [
      "Energy: [6317.62540531 6294.62716315 6294.62716315 6294.62716315 6294.62716315\n",
      " 6294.62716315 6294.62716315 6294.62716315 6294.62716315 6294.62716315\n",
      " 6294.62716315]\n"
     ]
    },
    {
     "name": "stderr",
     "output_type": "stream",
     "text": [
      " 43%|████████████████▌                      | 1108/2600 [00:33<00:46, 32.08it/s]"
     ]
    },
    {
     "name": "stdout",
     "output_type": "stream",
     "text": [
      "Energy: [6309.59969567 6309.96281226 6302.29673341 6294.62716315 6294.62716315\n",
      " 6294.62716315 6294.62716315 6294.62716315 6294.62716315 6294.62716315\n",
      " 6294.62716315]\n"
     ]
    },
    {
     "name": "stderr",
     "output_type": "stream",
     "text": [
      " 44%|█████████████████▎                     | 1156/2600 [00:35<00:43, 33.01it/s]"
     ]
    },
    {
     "name": "stdout",
     "output_type": "stream",
     "text": [
      "Energy: [6302.29673341 6302.29673341 6294.62716315 6294.62716315 6294.62716315\n",
      " 6294.62716315 6294.62716315 6294.62716315 6294.62716315 6294.62716315\n",
      " 6294.62716315]\n"
     ]
    },
    {
     "name": "stderr",
     "output_type": "stream",
     "text": [
      " 46%|██████████████████                     | 1208/2600 [00:36<00:42, 32.52it/s]"
     ]
    },
    {
     "name": "stdout",
     "output_type": "stream",
     "text": [
      "Energy: [6294.62716315 6302.29673341 6294.62716315 6294.62716315 6294.62716315\n",
      " 6294.62716315 6294.62716315 6294.62716315 6294.62716315 6294.62716315\n",
      " 6294.62716315]\n"
     ]
    },
    {
     "name": "stderr",
     "output_type": "stream",
     "text": [
      " 48%|██████████████████▊                    | 1256/2600 [00:38<00:39, 33.63it/s]"
     ]
    },
    {
     "name": "stdout",
     "output_type": "stream",
     "text": [
      "Energy: [6309.96281226 6294.62716315 6294.62716315 6294.62716315 6294.62716315\n",
      " 6294.62716315 6294.62716315 6294.62716315 6294.62716315 6294.62716315\n",
      " 6294.62716315]\n"
     ]
    },
    {
     "name": "stderr",
     "output_type": "stream",
     "text": [
      " 50%|███████████████████▌                   | 1308/2600 [00:39<00:38, 33.50it/s]"
     ]
    },
    {
     "name": "stdout",
     "output_type": "stream",
     "text": [
      "Energy: [6309.96281226 6309.96281226 6302.29673341 6294.62716315 6294.62716315\n",
      " 6302.4643333  6294.62716315 6294.62716315 6294.62716315 6294.62716315\n",
      " 6294.62716315]\n"
     ]
    },
    {
     "name": "stderr",
     "output_type": "stream",
     "text": [
      " 52%|████████████████████▍                  | 1359/2600 [00:41<00:41, 29.90it/s]"
     ]
    },
    {
     "name": "stdout",
     "output_type": "stream",
     "text": [
      "Energy: [6309.96281226 6302.4643333  6302.4643333  6302.29673341 6294.62716315\n",
      " 6294.62716315 6294.62716315 6294.62716315 6294.62716315 6294.62716315\n",
      " 6294.62716315]\n"
     ]
    },
    {
     "name": "stderr",
     "output_type": "stream",
     "text": [
      " 54%|█████████████████████                  | 1407/2600 [00:43<00:37, 31.93it/s]"
     ]
    },
    {
     "name": "stdout",
     "output_type": "stream",
     "text": [
      "Energy: [6309.96281226 6302.29673341 6294.62716315 6302.29673341 6294.62716315\n",
      " 6294.62716315 6294.62716315 6294.62716315 6294.62716315 6294.62716315\n",
      " 6294.62716315]\n"
     ]
    },
    {
     "name": "stderr",
     "output_type": "stream",
     "text": [
      " 56%|█████████████████████▊                 | 1455/2600 [00:44<00:34, 32.78it/s]"
     ]
    },
    {
     "name": "stdout",
     "output_type": "stream",
     "text": [
      "Energy: [6302.29673341 6294.62716315 6302.4643333  6294.62716315 6294.62716315\n",
      " 6294.62716315 6294.62716315 6294.62716315 6294.62716315 6294.62716315\n",
      " 6294.62716315]\n"
     ]
    },
    {
     "name": "stderr",
     "output_type": "stream",
     "text": [
      " 58%|██████████████████████▌                | 1507/2600 [00:46<00:34, 31.41it/s]"
     ]
    },
    {
     "name": "stdout",
     "output_type": "stream",
     "text": [
      "Energy: [6294.62716315 6309.78513125 6325.10228698 6302.4643333  6294.62716315\n",
      " 6294.62716315 6294.62716315 6294.62716315 6294.62716315 6294.62716315\n",
      " 6294.62716315]\n"
     ]
    },
    {
     "name": "stderr",
     "output_type": "stream",
     "text": [
      " 60%|███████████████████████▎               | 1555/2600 [00:47<00:30, 34.37it/s]"
     ]
    },
    {
     "name": "stdout",
     "output_type": "stream",
     "text": [
      "Energy: [6294.62716315 6302.29673341 6294.62716315 6294.62716315 6294.62716315\n",
      " 6294.62716315 6294.62716315 6294.62716315 6294.62716315 6294.62716315\n",
      " 6294.62716315]\n"
     ]
    },
    {
     "name": "stderr",
     "output_type": "stream",
     "text": [
      " 62%|████████████████████████               | 1607/2600 [00:49<00:30, 32.50it/s]"
     ]
    },
    {
     "name": "stdout",
     "output_type": "stream",
     "text": [
      "Energy: [6294.62716315 6294.62716315 6302.29673341 6294.62716315 6294.62716315\n",
      " 6294.62716315 6294.62716315 6294.62716315 6294.62716315 6294.62716315\n",
      " 6294.62716315]\n"
     ]
    },
    {
     "name": "stderr",
     "output_type": "stream",
     "text": [
      " 64%|████████████████████████▉              | 1659/2600 [00:50<00:28, 33.35it/s]"
     ]
    },
    {
     "name": "stdout",
     "output_type": "stream",
     "text": [
      "Energy: [6294.62716315 6302.4643333  6294.62716315 6309.96281226 6294.62716315\n",
      " 6294.62716315 6294.62716315 6294.62716315 6294.62716315 6294.62716315\n",
      " 6294.62716315]\n"
     ]
    },
    {
     "name": "stderr",
     "output_type": "stream",
     "text": [
      " 66%|█████████████████████████▌             | 1707/2600 [00:52<00:27, 32.42it/s]"
     ]
    },
    {
     "name": "stdout",
     "output_type": "stream",
     "text": [
      "Energy: [6294.62716315 6294.62716315 6294.62716315 6294.62716315 6294.62716315\n",
      " 6294.62716315 6302.29673341 6294.62716315 6294.62716315 6294.62716315\n",
      " 6294.62716315]\n"
     ]
    },
    {
     "name": "stderr",
     "output_type": "stream",
     "text": [
      " 68%|██████████████████████████▎            | 1755/2600 [00:53<00:26, 32.41it/s]"
     ]
    },
    {
     "name": "stdout",
     "output_type": "stream",
     "text": [
      "Energy: [6294.62716315 6302.29673341 6294.62716315 6294.62716315 6302.29673341\n",
      " 6294.62716315 6294.62716315 6294.62716315 6294.62716315 6294.62716315\n",
      " 6294.62716315]\n"
     ]
    },
    {
     "name": "stderr",
     "output_type": "stream",
     "text": [
      " 70%|███████████████████████████            | 1807/2600 [00:55<00:23, 33.70it/s]"
     ]
    },
    {
     "name": "stdout",
     "output_type": "stream",
     "text": [
      "Energy: [6294.62716315 6294.62716315 6317.62540531 6302.29673341 6310.13271197\n",
      " 6294.62716315 6294.62716315 6294.62716315 6294.62716315 6294.62716315\n",
      " 6294.62716315]\n"
     ]
    },
    {
     "name": "stderr",
     "output_type": "stream",
     "text": [
      " 72%|███████████████████████████▉           | 1859/2600 [00:56<00:22, 32.60it/s]"
     ]
    },
    {
     "name": "stdout",
     "output_type": "stream",
     "text": [
      "Energy: [6302.29673341 6302.29673341 6310.13271197 6294.62716315 6294.62716315\n",
      " 6294.62716315 6294.62716315 6294.62716315 6294.62716315 6294.62716315\n",
      " 6294.62716315]\n"
     ]
    },
    {
     "name": "stderr",
     "output_type": "stream",
     "text": [
      " 73%|████████████████████████████▌          | 1907/2600 [00:58<00:21, 32.71it/s]"
     ]
    },
    {
     "name": "stdout",
     "output_type": "stream",
     "text": [
      "Energy: [6302.4643333  6302.29673341 6310.13271197 6294.62716315 6294.62716315\n",
      " 6294.62716315 6294.62716315 6294.62716315 6294.62716315 6294.62716315\n",
      " 6294.62716315]\n"
     ]
    },
    {
     "name": "stderr",
     "output_type": "stream",
     "text": [
      " 75%|█████████████████████████████▎         | 1955/2600 [00:59<00:20, 32.12it/s]"
     ]
    },
    {
     "name": "stdout",
     "output_type": "stream",
     "text": [
      "Energy: [6294.62716315 6294.62716315 6302.4643333  6294.62716315 6294.62716315\n",
      " 6302.29673341 6294.62716315 6294.62716315 6294.62716315 6294.62716315\n",
      " 6294.62716315]\n"
     ]
    },
    {
     "name": "stderr",
     "output_type": "stream",
     "text": [
      " 77%|██████████████████████████████         | 2007/2600 [01:01<00:19, 30.60it/s]"
     ]
    },
    {
     "name": "stdout",
     "output_type": "stream",
     "text": [
      "Energy: [6294.62716315 6302.29673341 6294.62716315 6294.62716315 6294.62716315\n",
      " 6294.62716315 6294.62716315 6294.62716315 6294.62716315 6294.62716315\n",
      " 6294.62716315]\n"
     ]
    },
    {
     "name": "stderr",
     "output_type": "stream",
     "text": [
      " 79%|██████████████████████████████▉        | 2059/2600 [01:03<00:16, 32.04it/s]"
     ]
    },
    {
     "name": "stdout",
     "output_type": "stream",
     "text": [
      "Energy: [6302.29673341 6309.78513125 6294.62716315 6294.62716315 6294.62716315\n",
      " 6294.62716315 6294.62716315 6294.62716315 6294.62716315 6294.62716315\n",
      " 6294.62716315]\n"
     ]
    },
    {
     "name": "stderr",
     "output_type": "stream",
     "text": [
      " 81%|███████████████████████████████▌       | 2107/2600 [01:04<00:15, 32.61it/s]"
     ]
    },
    {
     "name": "stdout",
     "output_type": "stream",
     "text": [
      "Energy: [6294.62716315 6294.62716315 6302.4643333  6294.62716315 6294.62716315\n",
      " 6294.62716315 6294.62716315 6294.62716315 6294.62716315 6294.62716315\n",
      " 6294.62716315]\n"
     ]
    },
    {
     "name": "stderr",
     "output_type": "stream",
     "text": [
      " 83%|████████████████████████████████▍      | 2159/2600 [01:06<00:13, 32.19it/s]"
     ]
    },
    {
     "name": "stdout",
     "output_type": "stream",
     "text": [
      "Energy: [6294.62716315 6294.62716315 6302.29673341 6294.62716315 6294.62716315\n",
      " 6294.62716315 6294.62716315 6294.62716315 6294.62716315 6294.62716315\n",
      " 6294.62716315]\n"
     ]
    },
    {
     "name": "stderr",
     "output_type": "stream",
     "text": [
      " 85%|█████████████████████████████████      | 2207/2600 [01:07<00:11, 33.16it/s]"
     ]
    },
    {
     "name": "stdout",
     "output_type": "stream",
     "text": [
      "Energy: [6317.79759936 6294.62716315 6294.62716315 6294.62716315 6294.62716315\n",
      " 6294.62716315 6294.62716315 6294.62716315 6294.62716315 6294.62716315\n",
      " 6294.62716315]\n"
     ]
    },
    {
     "name": "stderr",
     "output_type": "stream",
     "text": [
      " 87%|█████████████████████████████████▊     | 2255/2600 [01:09<00:10, 32.94it/s]"
     ]
    },
    {
     "name": "stdout",
     "output_type": "stream",
     "text": [
      "Energy: [6302.29673341 6310.13271197 6294.62716315 6294.62716315 6294.62716315\n",
      " 6294.62716315 6294.62716315 6294.62716315 6294.62716315 6294.62716315\n",
      " 6294.62716315]\n"
     ]
    },
    {
     "name": "stderr",
     "output_type": "stream",
     "text": [
      " 89%|██████████████████████████████████▌    | 2307/2600 [01:10<00:08, 32.94it/s]"
     ]
    },
    {
     "name": "stdout",
     "output_type": "stream",
     "text": [
      "Energy: [6294.62716315 6302.4643333  6294.62716315 6294.62716315 6294.62716315\n",
      " 6294.62716315 6294.62716315 6294.62716315 6294.62716315 6294.62716315\n",
      " 6294.62716315]\n"
     ]
    },
    {
     "name": "stderr",
     "output_type": "stream",
     "text": [
      " 91%|███████████████████████████████████▍   | 2359/2600 [01:12<00:07, 33.02it/s]"
     ]
    },
    {
     "name": "stdout",
     "output_type": "stream",
     "text": [
      "Energy: [6302.4643333  6294.62716315 6294.62716315 6302.29673341 6302.29673341\n",
      " 6294.62716315 6294.62716315 6294.62716315 6294.62716315 6294.62716315\n",
      " 6294.62716315]\n"
     ]
    },
    {
     "name": "stderr",
     "output_type": "stream",
     "text": [
      " 92%|████████████████████████████████████   | 2403/2600 [01:13<00:05, 33.55it/s]"
     ]
    },
    {
     "name": "stdout",
     "output_type": "stream",
     "text": [
      "Energy: [6294.62716315 6302.29673341 6302.29673341 6294.62716315 6294.62716315\n",
      " 6294.62716315 6294.62716315 6294.62716315 6294.62716315 6294.62716315\n",
      " 6294.62716315]\n"
     ]
    },
    {
     "name": "stderr",
     "output_type": "stream",
     "text": [
      " 94%|████████████████████████████████████▊  | 2455/2600 [01:15<00:04, 34.21it/s]"
     ]
    },
    {
     "name": "stdout",
     "output_type": "stream",
     "text": [
      "Energy: [6302.29673341 6294.62716315 6294.62716315 6294.62716315 6294.62716315\n",
      " 6294.62716315 6294.62716315 6294.62716315 6294.62716315 6294.62716315\n",
      " 6294.62716315]\n"
     ]
    },
    {
     "name": "stderr",
     "output_type": "stream",
     "text": [
      " 96%|█████████████████████████████████████▌ | 2503/2600 [01:16<00:03, 31.87it/s]"
     ]
    },
    {
     "name": "stdout",
     "output_type": "stream",
     "text": [
      "Energy: [6294.62716315 6302.4643333  6294.62716315 6310.13271197 6294.62716315\n",
      " 6294.62716315 6294.62716315 6294.62716315 6294.62716315 6294.62716315\n",
      " 6294.62716315]\n"
     ]
    },
    {
     "name": "stderr",
     "output_type": "stream",
     "text": [
      " 98%|██████████████████████████████████████▍| 2559/2600 [01:18<00:01, 33.16it/s]"
     ]
    },
    {
     "name": "stdout",
     "output_type": "stream",
     "text": [
      "Energy: [6309.78513125 6294.62716315 6294.62716315 6310.13271197 6294.62716315\n",
      " 6294.62716315 6294.62716315 6294.62716315 6294.62716315 6294.62716315\n",
      " 6294.62716315]\n"
     ]
    },
    {
     "name": "stderr",
     "output_type": "stream",
     "text": [
      "100%|███████████████████████████████████████| 2600/2600 [01:19<00:00, 32.66it/s]\n"
     ]
    },
    {
     "name": "stdout",
     "output_type": "stream",
     "text": [
      "Fin Energy_t 6294.6271631535055 Energy_gs 6294.6271631535055\n",
      "c_accep 0 c_rounds 0\n",
      "Elapsed (after compilation) = 79.61077332496643\n",
      "[[198 209 205 202 211 214 218 212 215 213 217 216]\n",
      " [198 209 205 202 211 214 218 212 215 213 217 216]\n",
      " [198 209 205 202 211 214 218 212 215 213 217 216]]\n",
      "[[209 181 186 210 198 217 216 214 213 218 215 212]\n",
      " [209 181 186 210 198 217 216 214 213 218 215 212]\n",
      " [209 181 186 208 198 217 216 214 213 218 215 212]]\n",
      "[[209 181 186 210 198 217 216 214 213 218 215 212]\n",
      " [209 181 186 210 198 217 216 214 213 218 215 212]\n",
      " [209 181 186 210 198 217 216 214 213 218 215 212]]\n",
      "[[198 209 205 202 211 214 218 212 215 213 217 216]\n",
      " [198 209 205 202 211 214 218 212 215 213 217 216]\n",
      " [198 209 205 202 211 214 218 212 215 213 217 216]]\n",
      "[[198 209 205 202 211 214 218 212 215 213 217 216]\n",
      " [198 209 205 202 211 214 218 212 215 213 217 216]\n",
      " [198 209 205 202 211 214 218 212 215 213 217 216]]\n",
      "[[182 195 190 206 193 216 212 215 218 214 217 213]\n",
      " [182 195 190 206 193 216 212 215 218 214 217 213]\n",
      " [182 195 190 206 193 216 212 215 218 214 217 213]]\n",
      "[[182 195 190 206 193 216 212 215 218 214 217 213]\n",
      " [182 195 190 206 193 216 212 215 218 214 217 213]\n",
      " [182 195 190 206 193 216 212 215 218 214 217 213]]\n",
      "[[198 209 205 202 211 214 218 212 215 213 217 216]\n",
      " [198 209 205 202 211 214 218 212 215 213 217 216]\n",
      " [198 209 205 202 211 214 218 212 215 213 217 216]]\n",
      "[[203 198 208 209 211 218 213 215 214 216 217 212]\n",
      " [203 198 208 209 211 218 213 215 214 216 217 212]\n",
      " [203 198 210 209 211 218 213 215 214 216 217 212]]\n",
      "[[203 198 208 209 211 218 213 215 214 216 217 212]\n",
      " [203 198 208 209 211 218 213 215 214 216 217 212]\n",
      " [203 198 210 209 211 218 213 215 214 216 217 212]]\n",
      "[[203 198 208 209 211 218 213 215 214 216 217 212]\n",
      " [203 198 208 209 211 218 213 215 214 216 217 212]\n",
      " [203 198 208 209 211 218 213 215 214 216 217 212]]\n",
      "[[203 198 208 209 211 218 213 215 214 216 217 212]\n",
      " [203 198 208 209 211 218 213 215 214 216 217 212]\n",
      " [203 198 210 209 211 218 213 215 214 216 217 212]]\n",
      "[[198 209 205 202 211 214 218 212 215 213 217 216]\n",
      " [198 209 205 202 211 214 218 212 215 213 217 216]\n",
      " [198 209 205 202 211 214 218 212 215 213 217 216]]\n",
      "[[209 181 186 210 198 217 216 214 213 218 215 212]\n",
      " [209 181 186 210 198 217 216 214 213 218 215 212]\n",
      " [209 181 186 210 198 217 216 214 213 218 215 212]]\n",
      "[[182 195 190 206 193 216 212 215 218 214 217 213]\n",
      " [182 195 190 206 193 216 212 215 218 214 217 213]\n",
      " [182 195 190 206 193 216 212 215 218 214 217 213]]\n",
      "[[201 200 184 191 185 214 212 218 213 216 217 215]\n",
      " [201 200 184 191 185 214 212 218 213 216 217 215]\n",
      " [201 200 184 191 185 214 212 218 213 216 217 215]]\n",
      "[[182 195 190 206 193 216 212 215 218 214 217 213]\n",
      " [182 195 190 206 193 216 212 215 218 214 217 213]\n",
      " [182 195 190 206 193 216 212 215 218 214 217 213]]\n",
      "[[182 195 190 206 193 216 212 215 218 214 217 213]\n",
      " [182 195 190 206 193 216 212 215 218 214 217 213]\n",
      " [182 195 190 206 193 216 212 215 218 214 217 213]]\n",
      "[[209 181 186 210 198 217 216 214 213 218 215 212]\n",
      " [209 181 186 210 198 217 216 214 213 218 215 212]\n",
      " [209 181 186 208 198 217 216 214 213 218 215 212]]\n",
      "[[209 181 186 210 198 217 216 214 213 218 215 212]\n",
      " [209 181 186 210 198 217 216 214 213 218 215 212]\n",
      " [209 181 186 210 198 217 216 214 213 218 215 212]]\n",
      "[[209 181 186 210 198 217 216 214 213 218 215 212]\n",
      " [209 181 186 210 198 217 216 214 213 218 215 212]\n",
      " [209 181 186 210 198 217 216 214 213 218 215 212]]\n",
      "[[209 181 186 210 198 217 216 214 213 218 215 212]\n",
      " [209 181 186 210 198 217 216 214 213 218 215 212]\n",
      " [209 181 186 210 198 217 216 214 213 218 215 212]]\n",
      "[[186 203 183 188 206 215 213 218 214 216 217 212]\n",
      " [186 203 183 188 206 215 213 218 214 216 217 212]\n",
      " [186 203 183 188 206 215 213 218 214 216 217 212]]\n",
      "[[180 202 193 186 198 217 218 216 215 213 214 212]\n",
      " [180 202 193 186 198 217 218 216 215 213 214 212]\n",
      " [180 202 193 186 198 217 218 216 215 213 214 212]]\n",
      "[[186 203 183 188 206 215 213 218 214 216 217 212]\n",
      " [186 203 183 188 206 215 213 218 214 216 217 212]\n",
      " [186 203 183 188 206 215 213 218 214 216 217 212]]\n",
      "[[186 203 183 188 206 215 213 218 214 216 217 212]\n",
      " [186 203 183 188 206 215 213 218 214 216 217 212]\n",
      " [186 203 183 188 206 215 213 218 214 216 217 212]]\n",
      "[[201 200 184 191 185 214 212 218 213 216 217 215]\n",
      " [201 200 184 199 185 214 212 218 213 216 217 215]\n",
      " [201 200 184 191 185 214 212 218 213 216 217 215]]\n",
      "[[209 181 186 210 198 217 216 214 213 218 215 212]\n",
      " [209 181 186 210 198 217 216 214 213 218 215 212]\n",
      " [209 181 186 208 198 217 216 214 213 218 215 212]]\n",
      "[[201 200 184 191 185 214 212 218 213 216 217 215]\n",
      " [201 200 184 191 185 214 212 218 213 216 217 215]\n",
      " [201 200 184 191 185 214 212 218 213 216 217 215]]\n",
      "[[201 200 184 191 185 214 212 218 213 216 217 215]\n",
      " [201 200 184 199 185 214 212 218 213 216 217 215]\n",
      " [201 200 184 191 185 214 212 218 213 216 217 215]]\n",
      "[[209 181 186 210 198 217 216 214 213 218 215 212]\n",
      " [209 181 186 210 198 217 216 214 213 218 215 212]\n",
      " [209 181 186 208 198 217 216 214 213 218 215 212]]\n",
      "[[186 203 183 188 206 215 213 218 214 216 217 212]\n",
      " [186 203 183 188 206 215 213 218 214 216 217 212]\n",
      " [186 203 183 188 206 215 213 218 214 216 217 212]]\n",
      "[[201 200 184 191 185 214 212 218 213 216 217 215]\n",
      " [201 200 184 199 185 214 212 218 213 216 217 215]\n",
      " [201 200 184 191 185 214 212 218 213 216 217 215]]\n",
      "[[182 195 190 206 193 216 212 215 218 214 217 213]\n",
      " [182 195 190 206 193 216 212 215 218 214 217 213]\n",
      " [182 195 190 206 193 216 212 215 218 214 217 213]]\n",
      "[[186 203 183 188 206 215 213 218 214 216 217 212]\n",
      " [186 203 183 188 206 215 213 218 214 216 217 212]\n",
      " [186 203 183 188 206 215 213 218 214 216 217 212]]\n",
      "[[196 186 191 198 192 214 216 218 215 212 213 217]\n",
      " [196 186 199 198 192 214 216 218 215 212 213 217]\n",
      " [196 186 191 198 192 214 216 218 215 212 213 217]]\n",
      "[[196 186 191 198 192 214 216 218 215 212 213 217]\n",
      " [196 186 191 198 192 214 216 218 215 212 213 217]\n",
      " [196 186 191 198 192 214 216 218 215 212 213 217]]\n",
      "[[186 203 183 188 206 215 213 218 214 216 217 212]\n",
      " [186 203 183 188 206 215 213 218 214 216 217 212]\n",
      " [186 203 183 188 206 215 213 218 214 216 217 212]]\n",
      "[[186 203 183 188 206 215 213 218 214 216 217 212]\n",
      " [186 203 183 188 206 215 213 218 214 216 217 212]\n",
      " [186 203 183 188 206 215 213 218 214 216 217 212]]\n",
      "[[196 186 191 198 192 214 216 218 215 212 213 217]\n",
      " [196 186 191 198 192 214 216 218 215 212 213 217]\n",
      " [196 186 191 198 192 214 216 218 215 212 213 217]]\n",
      "[1.] [0.99086758]\n",
      "i_reps 4\n",
      "Energía ini: 23615.484789692295 /gs: 6300.677434436635\n"
     ]
    },
    {
     "name": "stderr",
     "output_type": "stream",
     "text": [
      " 23%|█████████▎                              | 605/2600 [00:18<00:59, 33.57it/s]"
     ]
    },
    {
     "name": "stdout",
     "output_type": "stream",
     "text": [
      "Energy: [6315.72939468 6300.67743444 6392.73302776 6315.97053137 6300.67743444\n",
      " 6300.67743444 6300.67743444 6300.67743444 6300.67743444 6300.67743444\n",
      " 6300.67743444]\n"
     ]
    },
    {
     "name": "stderr",
     "output_type": "stream",
     "text": [
      " 25%|██████████                              | 657/2600 [00:20<00:59, 32.90it/s]"
     ]
    },
    {
     "name": "stdout",
     "output_type": "stream",
     "text": [
      "Energy: [6316.20411015 6315.72939468 6392.73302776 6300.67743444 6300.67743444\n",
      " 6300.67743444 6300.67743444 6315.72939468 6300.67743444 6300.67743444\n",
      " 6300.67743444]\n"
     ]
    },
    {
     "name": "stderr",
     "output_type": "stream",
     "text": [
      " 27%|██████████▊                             | 705/2600 [00:21<00:58, 32.63it/s]"
     ]
    },
    {
     "name": "stdout",
     "output_type": "stream",
     "text": [
      "Energy: [6308.32570497 6308.32570497 6400.58677425 6300.67743444 6300.67743444\n",
      " 6300.67743444 6315.72939468 6300.67743444 6300.67743444 6300.67743444\n",
      " 6300.67743444]\n"
     ]
    },
    {
     "name": "stderr",
     "output_type": "stream",
     "text": [
      " 29%|███████████▌                            | 753/2600 [00:23<00:56, 32.92it/s]"
     ]
    },
    {
     "name": "stdout",
     "output_type": "stream",
     "text": [
      "Energy: [6300.67743444 6308.55711913 6377.49977576 6308.32570497 6315.72939468\n",
      " 6300.67743444 6300.67743444 6300.67743444 6300.67743444 6300.67743444\n",
      " 6300.67743444]\n"
     ]
    },
    {
     "name": "stderr",
     "output_type": "stream",
     "text": [
      " 31%|████████████▍                           | 809/2600 [00:25<00:56, 31.95it/s]"
     ]
    },
    {
     "name": "stdout",
     "output_type": "stream",
     "text": [
      "Energy: [6323.61191905 6330.75153226 6300.67743444 6308.32570497 6300.67743444\n",
      " 6300.67743444 6300.67743444 6300.67743444 6300.67743444 6300.67743444\n",
      " 6300.67743444]\n"
     ]
    },
    {
     "name": "stderr",
     "output_type": "stream",
     "text": [
      " 33%|█████████████▏                          | 856/2600 [00:26<00:57, 30.34it/s]"
     ]
    },
    {
     "name": "stdout",
     "output_type": "stream",
     "text": [
      "Energy: [6308.32570497 6308.55711913 6300.67743444 6308.08671713 6300.67743444\n",
      " 6300.67743444 6300.67743444 6300.67743444 6300.67743444 6300.67743444\n",
      " 6300.67743444]\n"
     ]
    },
    {
     "name": "stderr",
     "output_type": "stream",
     "text": [
      " 35%|█████████████▉                          | 909/2600 [00:28<00:50, 33.30it/s]"
     ]
    },
    {
     "name": "stdout",
     "output_type": "stream",
     "text": [
      "Energy: [6315.72939468 6308.32570497 6300.67743444 6300.67743444 6300.67743444\n",
      " 6300.67743444 6300.67743444 6300.67743444 6300.67743444 6300.67743444\n",
      " 6300.67743444]\n"
     ]
    },
    {
     "name": "stderr",
     "output_type": "stream",
     "text": [
      " 37%|██████████████▋                         | 957/2600 [00:29<00:50, 32.50it/s]"
     ]
    },
    {
     "name": "stdout",
     "output_type": "stream",
     "text": [
      "Energy: [6308.32570497 6308.08671713 6308.32570497 6300.67743444 6300.67743444\n",
      " 6300.67743444 6300.67743444 6300.67743444 6300.67743444 6300.67743444\n",
      " 6300.67743444]\n"
     ]
    },
    {
     "name": "stderr",
     "output_type": "stream",
     "text": [
      " 39%|███████████████                        | 1005/2600 [00:31<00:49, 32.43it/s]"
     ]
    },
    {
     "name": "stdout",
     "output_type": "stream",
     "text": [
      "Energy: [6315.72939468 6300.67743444 6308.08671713 6308.32570497 6300.67743444\n",
      " 6300.67743444 6300.67743444 6300.67743444 6300.67743444 6300.67743444\n",
      " 6300.67743444]\n"
     ]
    },
    {
     "name": "stderr",
     "output_type": "stream",
     "text": [
      " 41%|███████████████▊                       | 1057/2600 [00:33<00:51, 29.85it/s]"
     ]
    },
    {
     "name": "stdout",
     "output_type": "stream",
     "text": [
      "Energy: [6338.63684597 6308.32570497 6300.67743444 6300.67743444 6308.08671713\n",
      " 6300.67743444 6300.67743444 6300.67743444 6300.67743444 6300.67743444\n",
      " 6300.67743444]\n"
     ]
    },
    {
     "name": "stderr",
     "output_type": "stream",
     "text": [
      " 42%|████████████████▌                      | 1105/2600 [00:34<00:47, 31.74it/s]"
     ]
    },
    {
     "name": "stdout",
     "output_type": "stream",
     "text": [
      "Energy: [6338.11930376 6308.55711913 6308.08671713 6300.67743444 6300.67743444\n",
      " 6300.67743444 6300.67743444 6300.67743444 6300.67743444 6300.67743444\n",
      " 6300.67743444]\n"
     ]
    },
    {
     "name": "stderr",
     "output_type": "stream",
     "text": [
      " 44%|█████████████████▎                     | 1157/2600 [00:36<00:45, 31.62it/s]"
     ]
    },
    {
     "name": "stdout",
     "output_type": "stream",
     "text": [
      "Energy: [6338.88439972 6308.32570497 6315.97053137 6300.67743444 6300.67743444\n",
      " 6300.67743444 6300.67743444 6300.67743444 6300.67743444 6300.67743444\n",
      " 6300.67743444]\n"
     ]
    },
    {
     "name": "stderr",
     "output_type": "stream",
     "text": [
      " 46%|██████████████████                     | 1207/2600 [00:38<00:45, 30.60it/s]"
     ]
    },
    {
     "name": "stdout",
     "output_type": "stream",
     "text": [
      "Energy: [6353.63211944 6308.32570497 6308.08671713 6300.67743444 6300.67743444\n",
      " 6300.67743444 6300.67743444 6300.67743444 6300.67743444 6308.08671713\n",
      " 6300.67743444]\n"
     ]
    },
    {
     "name": "stderr",
     "output_type": "stream",
     "text": [
      " 48%|██████████████████▊                    | 1255/2600 [00:39<00:41, 32.43it/s]"
     ]
    },
    {
     "name": "stdout",
     "output_type": "stream",
     "text": [
      "Energy: [6308.32570497 6300.67743444 6300.67743444 6308.32570497 6300.67743444\n",
      " 6300.67743444 6300.67743444 6300.67743444 6300.67743444 6300.67743444\n",
      " 6300.67743444]\n"
     ]
    },
    {
     "name": "stderr",
     "output_type": "stream",
     "text": [
      " 50%|███████████████████▌                   | 1307/2600 [00:41<00:39, 32.57it/s]"
     ]
    },
    {
     "name": "stdout",
     "output_type": "stream",
     "text": [
      "Energy: [6315.48072497 6300.67743444 6300.67743444 6308.08671713 6308.32570497\n",
      " 6300.67743444 6300.67743444 6300.67743444 6300.67743444 6300.67743444\n",
      " 6300.67743444]\n"
     ]
    },
    {
     "name": "stderr",
     "output_type": "stream",
     "text": [
      " 52%|████████████████████▎                  | 1354/2600 [00:42<00:42, 29.24it/s]"
     ]
    },
    {
     "name": "stdout",
     "output_type": "stream",
     "text": [
      "Energy: [6339.35694955 6323.36863844 6315.72939468 6300.67743444 6300.67743444\n",
      " 6300.67743444 6300.67743444 6300.67743444 6300.67743444 6300.67743444\n",
      " 6300.67743444]\n"
     ]
    },
    {
     "name": "stderr",
     "output_type": "stream",
     "text": [
      " 54%|█████████████████████                  | 1408/2600 [00:44<00:38, 30.64it/s]"
     ]
    },
    {
     "name": "stdout",
     "output_type": "stream",
     "text": [
      "Energy: [6331.24987338 6308.08671713 6300.67743444 6300.67743444 6308.55711913\n",
      " 6300.67743444 6300.67743444 6300.67743444 6300.67743444 6300.67743444\n",
      " 6300.67743444]\n"
     ]
    },
    {
     "name": "stderr",
     "output_type": "stream",
     "text": [
      " 56%|█████████████████████▊                 | 1456/2600 [00:45<00:36, 31.43it/s]"
     ]
    },
    {
     "name": "stdout",
     "output_type": "stream",
     "text": [
      "Energy: [6300.67743444 6338.38180585 6308.55711913 6300.67743444 6300.67743444\n",
      " 6300.67743444 6300.67743444 6300.67743444 6300.67743444 6300.67743444\n",
      " 6300.67743444]\n"
     ]
    },
    {
     "name": "stderr",
     "output_type": "stream",
     "text": [
      " 58%|██████████████████████▌                | 1504/2600 [00:47<00:37, 29.41it/s]"
     ]
    },
    {
     "name": "stdout",
     "output_type": "stream",
     "text": [
      "Energy: [6308.55711913 6361.5135372  6308.55711913 6300.67743444 6300.67743444\n",
      " 6300.67743444 6300.67743444 6308.32570497 6300.67743444 6300.67743444\n",
      " 6300.67743444]\n"
     ]
    },
    {
     "name": "stderr",
     "output_type": "stream",
     "text": [
      " 60%|███████████████████████▎               | 1557/2600 [00:49<00:33, 30.79it/s]"
     ]
    },
    {
     "name": "stdout",
     "output_type": "stream",
     "text": [
      "Energy: [6308.08671713 6308.32570497 6346.00866648 6308.55711913 6315.72939468\n",
      " 6300.67743444 6308.08671713 6300.67743444 6300.67743444 6300.67743444\n",
      " 6300.67743444]\n"
     ]
    },
    {
     "name": "stderr",
     "output_type": "stream",
     "text": [
      " 62%|████████████████████████▏              | 1609/2600 [00:50<00:30, 32.89it/s]"
     ]
    },
    {
     "name": "stdout",
     "output_type": "stream",
     "text": [
      "Energy: [6353.09132356 6308.55711913 6308.32570497 6300.67743444 6308.32570497\n",
      " 6308.55711913 6300.67743444 6300.67743444 6300.67743444 6300.67743444\n",
      " 6300.67743444]\n"
     ]
    },
    {
     "name": "stderr",
     "output_type": "stream",
     "text": [
      " 64%|████████████████████████▊              | 1657/2600 [00:52<00:30, 31.21it/s]"
     ]
    },
    {
     "name": "stdout",
     "output_type": "stream",
     "text": [
      "Energy: [6362.01392668 6308.08671713 6308.32570497 6308.32570497 6300.67743444\n",
      " 6308.32570497 6300.67743444 6300.67743444 6300.67743444 6300.67743444\n",
      " 6300.67743444]\n"
     ]
    },
    {
     "name": "stderr",
     "output_type": "stream",
     "text": [
      " 66%|█████████████████████████▋             | 1709/2600 [00:54<00:27, 32.37it/s]"
     ]
    },
    {
     "name": "stdout",
     "output_type": "stream",
     "text": [
      "Energy: [6322.59379022 6300.67743444 6308.32570497 6300.67743444 6315.72939468\n",
      " 6300.67743444 6300.67743444 6300.67743444 6300.67743444 6300.67743444\n",
      " 6300.67743444]\n"
     ]
    },
    {
     "name": "stderr",
     "output_type": "stream",
     "text": [
      " 67%|██████████████████████████▎            | 1753/2600 [00:55<00:27, 31.06it/s]"
     ]
    },
    {
     "name": "stdout",
     "output_type": "stream",
     "text": [
      "Energy: [6300.67743444 6315.48072497 6300.67743444 6300.67743444 6300.67743444\n",
      " 6300.67743444 6300.67743444 6300.67743444 6308.32570497 6300.67743444\n",
      " 6300.67743444]\n"
     ]
    },
    {
     "name": "stderr",
     "output_type": "stream",
     "text": [
      " 69%|███████████████████████████            | 1805/2600 [00:57<00:26, 29.84it/s]"
     ]
    },
    {
     "name": "stdout",
     "output_type": "stream",
     "text": [
      "Energy: [6308.55711913 6300.67743444 6308.32570497 6315.97053137 6308.32570497\n",
      " 6308.08671713 6308.08671713 6300.67743444 6300.67743444 6300.67743444\n",
      " 6300.67743444]\n"
     ]
    },
    {
     "name": "stderr",
     "output_type": "stream",
     "text": [
      " 71%|███████████████████████████▊           | 1857/2600 [00:58<00:23, 30.96it/s]"
     ]
    },
    {
     "name": "stdout",
     "output_type": "stream",
     "text": [
      "Energy: [6315.48072497 6308.32570497 6308.55711913 6300.67743444 6308.08671713\n",
      " 6315.97053137 6308.08671713 6300.67743444 6300.67743444 6300.67743444\n",
      " 6300.67743444]\n"
     ]
    },
    {
     "name": "stderr",
     "output_type": "stream",
     "text": [
      " 73%|████████████████████████████▌          | 1905/2600 [01:00<00:21, 31.78it/s]"
     ]
    },
    {
     "name": "stdout",
     "output_type": "stream",
     "text": [
      "Energy: [6330.49113339 6308.32570497 6308.32570497 6308.55711913 6300.67743444\n",
      " 6300.67743444 6300.67743444 6300.67743444 6300.67743444 6300.67743444\n",
      " 6300.67743444]\n"
     ]
    },
    {
     "name": "stderr",
     "output_type": "stream",
     "text": [
      " 75%|█████████████████████████████▎         | 1957/2600 [01:01<00:19, 32.56it/s]"
     ]
    },
    {
     "name": "stdout",
     "output_type": "stream",
     "text": [
      "Energy: [6338.88439972 6322.85954954 6300.67743444 6308.32570497 6300.67743444\n",
      " 6300.67743444 6300.67743444 6300.67743444 6300.67743444 6300.67743444\n",
      " 6300.67743444]\n"
     ]
    },
    {
     "name": "stderr",
     "output_type": "stream",
     "text": [
      " 77%|██████████████████████████████         | 2003/2600 [01:03<00:18, 32.30it/s]"
     ]
    },
    {
     "name": "stdout",
     "output_type": "stream",
     "text": [
      "Energy: [6315.48072497 6300.67743444 6323.61191905 6300.67743444 6308.08671713\n",
      " 6300.67743444 6300.67743444 6308.32570497 6300.67743444 6300.67743444\n",
      " 6300.67743444]\n"
     ]
    },
    {
     "name": "stderr",
     "output_type": "stream",
     "text": [
      " 79%|██████████████████████████████▉        | 2059/2600 [01:05<00:16, 32.22it/s]"
     ]
    },
    {
     "name": "stdout",
     "output_type": "stream",
     "text": [
      "Energy: [6315.48072497 6315.97053137 6308.55711913 6300.67743444 6308.08671713\n",
      " 6300.67743444 6300.67743444 6300.67743444 6300.67743444 6300.67743444\n",
      " 6300.67743444]\n"
     ]
    },
    {
     "name": "stderr",
     "output_type": "stream",
     "text": [
      " 81%|███████████████████████████████▌       | 2107/2600 [01:06<00:15, 31.32it/s]"
     ]
    },
    {
     "name": "stdout",
     "output_type": "stream",
     "text": [
      "Energy: [6316.20411015 6315.72939468 6308.32570497 6300.67743444 6300.67743444\n",
      " 6300.67743444 6300.67743444 6300.67743444 6300.67743444 6300.67743444\n",
      " 6300.67743444]\n"
     ]
    },
    {
     "name": "stderr",
     "output_type": "stream",
     "text": [
      " 83%|████████████████████████████████▍      | 2159/2600 [01:08<00:13, 32.05it/s]"
     ]
    },
    {
     "name": "stdout",
     "output_type": "stream",
     "text": [
      "Energy: [6308.32570497 6315.97053137 6300.67743444 6300.67743444 6300.67743444\n",
      " 6300.67743444 6300.67743444 6300.67743444 6300.67743444 6300.67743444\n",
      " 6300.67743444]\n"
     ]
    },
    {
     "name": "stderr",
     "output_type": "stream",
     "text": [
      " 85%|█████████████████████████████████      | 2203/2600 [01:09<00:12, 31.91it/s]"
     ]
    },
    {
     "name": "stdout",
     "output_type": "stream",
     "text": [
      "Energy: [6315.72939468 6308.32570497 6300.67743444 6300.67743444 6300.67743444\n",
      " 6300.67743444 6300.67743444 6300.67743444 6308.08671713 6300.67743444\n",
      " 6300.67743444]\n"
     ]
    },
    {
     "name": "stderr",
     "output_type": "stream",
     "text": [
      " 87%|█████████████████████████████████▊     | 2255/2600 [01:11<00:10, 32.98it/s]"
     ]
    },
    {
     "name": "stdout",
     "output_type": "stream",
     "text": [
      "Energy: [6330.75153226 6300.67743444 6308.32570497 6308.32570497 6300.67743444\n",
      " 6300.67743444 6300.67743444 6308.08671713 6300.67743444 6300.67743444\n",
      " 6300.67743444]\n"
     ]
    },
    {
     "name": "stderr",
     "output_type": "stream",
     "text": [
      " 89%|██████████████████████████████████▌    | 2303/2600 [01:12<00:09, 30.23it/s]"
     ]
    },
    {
     "name": "stdout",
     "output_type": "stream",
     "text": [
      "Energy: [6323.84765745 6300.67743444 6308.08671713 6308.08671713 6300.67743444\n",
      " 6308.55711913 6300.67743444 6300.67743444 6300.67743444 6300.67743444\n",
      " 6300.67743444]\n"
     ]
    },
    {
     "name": "stderr",
     "output_type": "stream",
     "text": [
      " 91%|███████████████████████████████████▍   | 2359/2600 [01:14<00:07, 34.12it/s]"
     ]
    },
    {
     "name": "stdout",
     "output_type": "stream",
     "text": [
      "Energy: [6323.61191905 6315.97053137 6308.32570497 6308.08671713 6300.67743444\n",
      " 6300.67743444 6300.67743444 6300.67743444 6300.67743444 6300.67743444\n",
      " 6300.67743444]\n"
     ]
    },
    {
     "name": "stderr",
     "output_type": "stream",
     "text": [
      " 93%|████████████████████████████████████   | 2407/2600 [01:15<00:05, 33.62it/s]"
     ]
    },
    {
     "name": "stdout",
     "output_type": "stream",
     "text": [
      "Energy: [6315.97053137 6300.67743444 6300.67743444 6300.67743444 6308.32570497\n",
      " 6300.67743444 6300.67743444 6300.67743444 6300.67743444 6300.67743444\n",
      " 6300.67743444]\n"
     ]
    },
    {
     "name": "stderr",
     "output_type": "stream",
     "text": [
      " 95%|████████████████████████████████████▉  | 2459/2600 [01:17<00:04, 31.45it/s]"
     ]
    },
    {
     "name": "stdout",
     "output_type": "stream",
     "text": [
      "Energy: [6308.32570497 6308.32570497 6300.67743444 6300.67743444 6300.67743444\n",
      " 6300.67743444 6300.67743444 6300.67743444 6300.67743444 6300.67743444\n",
      " 6300.67743444]\n"
     ]
    },
    {
     "name": "stderr",
     "output_type": "stream",
     "text": [
      " 96%|█████████████████████████████████████▌ | 2507/2600 [01:18<00:02, 33.67it/s]"
     ]
    },
    {
     "name": "stdout",
     "output_type": "stream",
     "text": [
      "Energy: [6316.20411015 6308.32570497 6300.67743444 6300.67743444 6300.67743444\n",
      " 6300.67743444 6300.67743444 6300.67743444 6300.67743444 6300.67743444\n",
      " 6300.67743444]\n"
     ]
    },
    {
     "name": "stderr",
     "output_type": "stream",
     "text": [
      " 98%|██████████████████████████████████████▍| 2559/2600 [01:20<00:01, 33.49it/s]"
     ]
    },
    {
     "name": "stdout",
     "output_type": "stream",
     "text": [
      "Energy: [6308.32570497 6300.67743444 6300.67743444 6308.08671713 6300.67743444\n",
      " 6300.67743444 6300.67743444 6300.67743444 6300.67743444 6300.67743444\n",
      " 6300.67743444]\n"
     ]
    },
    {
     "name": "stderr",
     "output_type": "stream",
     "text": [
      "100%|███████████████████████████████████████| 2600/2600 [01:21<00:00, 31.78it/s]\n"
     ]
    },
    {
     "name": "stdout",
     "output_type": "stream",
     "text": [
      "Fin Energy_t 6300.677434436635 Energy_gs 6300.677434436635\n",
      "c_accep 0 c_rounds 0\n",
      "Elapsed (after compilation) = 81.81532979011536\n",
      "[[190 194 200 193 188 215 212 214 217 213 216 218]\n",
      " [190 194 200 193 188 215 212 214 217 213 216 218]\n",
      " [190 194 200 193 188 215 212 214 217 213 216 218]]\n",
      "[[190 194 200 193 188 215 212 214 217 213 216 218]\n",
      " [190 194 200 193 188 215 212 214 217 213 216 218]\n",
      " [190 194 200 193 188 215 212 214 217 213 216 218]]\n",
      "[[205 209 180 204 203 214 213 217 215 212 218 216]\n",
      " [205 209 180 204 203 214 213 217 215 212 218 216]\n",
      " [205 209 180 204 203 214 213 217 215 212 218 216]]\n",
      "[[190 194 200 193 188 215 212 214 217 213 216 218]\n",
      " [190 194 200 193 188 215 212 214 217 213 216 218]\n",
      " [190 194 200 193 188 215 212 214 217 213 216 218]]\n",
      "[[190 194 200 193 188 215 212 214 217 213 216 218]\n",
      " [190 194 200 193 188 215 212 214 217 213 216 218]\n",
      " [190 194 200 193 188 215 212 214 217 213 216 218]]\n",
      "[[192 208 195 206 210 218 214 212 215 213 217 216]\n",
      " [192 208 195 206 210 218 214 212 215 213 217 216]\n",
      " [192 208 195 206 210 218 214 212 215 213 217 216]]\n",
      "[[190 194 200 193 188 215 212 214 217 213 216 218]\n",
      " [190 194 200 193 188 215 212 214 217 213 216 218]\n",
      " [190 194 200 193 188 215 212 214 217 213 216 218]]\n",
      "[[190 194 200 193 188 215 212 214 217 213 216 218]\n",
      " [190 194 200 193 188 215 212 214 217 213 216 218]\n",
      " [190 194 200 193 188 215 212 214 217 213 216 218]]\n",
      "[[192 208 195 206 210 218 214 212 215 213 217 216]\n",
      " [192 208 195 206 210 218 214 212 215 213 217 216]\n",
      " [192 208 195 206 210 218 214 212 215 213 217 216]]\n",
      "[[192 208 195 206 210 218 214 212 215 213 217 216]\n",
      " [192 208 195 206 210 218 214 212 215 213 217 216]\n",
      " [192 208 195 206 210 218 214 212 215 213 217 216]]\n",
      "[[192 208 195 206 210 218 214 212 215 213 217 216]\n",
      " [192 208 195 206 210 218 214 212 215 213 217 216]\n",
      " [192 208 195 206 210 218 214 212 215 213 217 216]]\n",
      "[[192 208 195 206 210 218 214 212 215 213 217 216]\n",
      " [192 208 195 206 210 218 214 212 215 213 217 216]\n",
      " [192 208 195 206 210 218 214 212 215 213 217 216]]\n",
      "[[195 202 185 200 206 217 216 214 215 218 212 213]\n",
      " [195 202 185 200 206 217 216 214 215 218 212 213]\n",
      " [195 202 185 200 206 217 216 214 215 218 212 213]]\n",
      "[[195 202 185 200 206 217 216 214 215 218 212 213]\n",
      " [195 202 185 200 206 217 216 214 215 218 212 213]\n",
      " [195 202 185 200 206 217 216 214 215 218 212 213]]\n",
      "[[205 209 180 204 203 214 213 217 215 212 218 216]\n",
      " [205 209 180 204 203 214 213 217 215 212 218 216]\n",
      " [205 209 180 204 203 214 213 217 215 212 218 216]]\n",
      "[[192 208 195 206 210 218 214 212 215 213 217 216]\n",
      " [192 208 195 206 210 218 214 212 215 213 217 216]\n",
      " [192 208 195 206 210 218 214 212 215 213 217 216]]\n",
      "[[192 208 195 206 210 218 214 212 215 213 217 216]\n",
      " [192 208 195 206 210 218 214 212 215 213 217 216]\n",
      " [192 208 195 206 210 218 214 212 215 213 217 216]]\n",
      "[[192 208 195 206 210 218 214 212 215 213 217 216]\n",
      " [192 208 195 206 210 218 214 212 215 213 217 216]\n",
      " [192 208 195 206 210 218 214 212 215 213 217 216]]\n",
      "[[205 209 180 204 203 214 213 217 215 212 218 216]\n",
      " [205 209 180 204 203 214 213 217 215 212 218 216]\n",
      " [205 209 180 204 203 214 213 217 215 212 218 216]]\n",
      "[[205 209 180 204 203 214 213 217 215 212 218 216]\n",
      " [205 209 180 204 203 214 213 217 215 212 218 216]\n",
      " [205 209 180 204 203 214 213 217 215 212 218 216]]\n",
      "[[195 202 185 200 206 217 216 214 215 218 212 213]\n",
      " [195 202 185 200 206 217 216 214 215 218 212 213]\n",
      " [195 202 185 200 206 217 216 214 215 218 212 213]]\n",
      "[[195 202 185 200 206 217 216 214 215 218 212 213]\n",
      " [195 202 185 200 206 217 216 214 215 218 212 213]\n",
      " [195 202 185 200 206 217 216 214 215 218 212 213]]\n",
      "[[208 202 200 210 182 213 215 216 218 212 217 214]\n",
      " [208 202 200 210 182 213 215 216 218 212 217 214]\n",
      " [208 202 200 210 182 213 215 216 218 212 217 214]]\n",
      "[[195 202 185 200 206 217 216 214 215 218 212 213]\n",
      " [195 202 185 200 206 217 216 214 215 218 212 213]\n",
      " [195 202 185 200 206 217 216 214 215 218 212 213]]\n",
      "[[205 209 188 204 203 214 213 217 215 212 218 216]\n",
      " [205 209 188 204 203 214 213 217 215 212 218 216]\n",
      " [205 209 188 204 203 214 213 217 215 212 218 216]]\n",
      "[[205 209 188 204 203 214 213 217 215 212 218 216]\n",
      " [205 209 188 204 203 214 213 217 215 212 218 216]\n",
      " [205 209 188 204 203 214 213 217 215 212 218 216]]\n",
      "[[205 209 188 204 203 214 213 217 215 212 218 216]\n",
      " [205 209 188 204 203 214 213 217 215 212 218 216]\n",
      " [205 209 188 204 203 214 213 217 215 212 218 216]]\n",
      "[[192 208 195 206 210 218 214 212 215 213 217 216]\n",
      " [192 208 195 206 210 218 214 212 215 213 217 216]\n",
      " [192 208 195 206 210 218 214 212 215 213 217 216]]\n",
      "[[192 208 195 206 210 218 214 212 215 213 217 216]\n",
      " [192 208 195 206 210 218 214 212 215 213 217 216]\n",
      " [192 208 195 206 210 218 214 212 215 213 217 216]]\n",
      "[[205 209 188 204 203 214 213 217 215 212 218 216]\n",
      " [205 209 188 204 203 214 213 217 215 212 218 216]\n",
      " [205 209 188 204 203 214 213 217 215 212 218 216]]\n",
      "[[211 194 205 202 192 213 212 217 215 214 218 216]\n",
      " [211 194 205 202 192 213 212 217 215 214 218 216]\n",
      " [211 194 205 202 192 213 212 217 215 214 218 216]]\n",
      "[[211 194 205 202 192 213 212 217 215 214 218 216]\n",
      " [211 194 205 202 192 213 212 217 215 214 218 216]\n",
      " [211 194 205 202 192 213 212 217 215 214 218 216]]\n",
      "[[211 194 205 202 192 213 212 217 215 214 218 216]\n",
      " [211 194 205 202 192 213 212 217 215 214 218 216]\n",
      " [211 194 205 202 192 213 212 217 215 214 218 216]]\n",
      "[[211 194 205 202 192 213 212 217 215 214 218 216]\n",
      " [211 194 205 202 192 213 212 217 215 214 218 216]\n",
      " [211 194 205 202 192 213 212 217 215 214 218 216]]\n",
      "[[190 196 202 182 184 213 216 214 218 215 217 212]\n",
      " [190 196 202 182 184 213 216 214 218 215 217 212]\n",
      " [190 196 202 182 184 213 216 214 218 215 217 212]]\n",
      "[[211 194 205 202 192 213 212 217 215 214 218 216]\n",
      " [211 194 205 202 192 213 212 217 215 214 218 216]\n",
      " [211 194 205 202 192 213 212 217 215 214 218 216]]\n",
      "[[205 209 188 204 203 214 213 217 215 212 218 216]\n",
      " [205 209 188 204 203 214 213 217 215 212 218 216]\n",
      " [205 209 188 204 203 214 213 217 215 212 218 216]]\n",
      "[[205 209 188 204 203 214 213 217 215 212 218 216]\n",
      " [205 209 188 204 203 214 213 217 215 212 218 216]\n",
      " [205 209 188 204 203 214 213 217 215 212 218 216]]\n",
      "[[205 209 188 204 203 214 213 217 215 212 218 216]\n",
      " [205 209 188 204 203 214 213 217 215 212 218 216]\n",
      " [205 209 188 204 203 214 213 217 215 212 218 216]]\n",
      "[[211 194 205 202 192 213 212 217 215 214 218 216]\n",
      " [211 194 205 202 192 213 212 217 215 214 218 216]\n",
      " [211 194 205 202 192 213 212 217 215 214 218 216]]\n",
      "[1.] [1.]\n",
      "i_reps 5\n",
      "Energía ini: 23607.326458738557 /gs: 6307.840180599182\n"
     ]
    },
    {
     "name": "stderr",
     "output_type": "stream",
     "text": [
      " 23%|█████████▎                              | 608/2600 [00:18<01:00, 33.07it/s]"
     ]
    },
    {
     "name": "stdout",
     "output_type": "stream",
     "text": [
      "Energy: [6552.15412647 6330.75153226 6323.36863844 6307.8401806  6307.8401806\n",
      " 6452.99452787 6307.8401806  6307.8401806  6307.8401806  6307.8401806\n",
      " 6307.8401806 ]\n"
     ]
    },
    {
     "name": "stderr",
     "output_type": "stream",
     "text": [
      " 25%|██████████                              | 656/2600 [00:20<01:00, 32.14it/s]"
     ]
    },
    {
     "name": "stdout",
     "output_type": "stream",
     "text": [
      "Energy: [6559.697581   6315.48072497 6307.8401806  6307.8401806  6307.8401806\n",
      " 6452.99452787 6307.8401806  6307.8401806  6307.8401806  6307.8401806\n",
      " 6307.8401806 ]\n"
     ]
    },
    {
     "name": "stderr",
     "output_type": "stream",
     "text": [
      " 27%|██████████▊                             | 704/2600 [00:21<00:56, 33.38it/s]"
     ]
    },
    {
     "name": "stdout",
     "output_type": "stream",
     "text": [
      "Energy: [6315.72939468 6307.8401806  6307.8401806  6315.48072497 6307.8401806\n",
      " 6307.8401806  6307.8401806  6307.8401806  6307.8401806  6307.8401806\n",
      " 6307.8401806 ]\n"
     ]
    },
    {
     "name": "stderr",
     "output_type": "stream",
     "text": [
      " 29%|███████████▋                            | 756/2600 [00:23<00:56, 32.62it/s]"
     ]
    },
    {
     "name": "stdout",
     "output_type": "stream",
     "text": [
      "Energy: [6307.8401806  6315.48072497 6307.8401806  6307.8401806  6307.8401806\n",
      " 6307.8401806  6307.8401806  6315.72939468 6307.8401806  6307.8401806\n",
      " 6307.8401806 ]\n"
     ]
    },
    {
     "name": "stderr",
     "output_type": "stream",
     "text": [
      " 31%|████████████▎                           | 804/2600 [00:24<00:52, 33.92it/s]"
     ]
    },
    {
     "name": "stdout",
     "output_type": "stream",
     "text": [
      "Energy: [6315.48072497 6307.8401806  6307.8401806  6307.8401806  6307.8401806\n",
      " 6307.8401806  6307.8401806  6307.8401806  6307.8401806  6307.8401806\n",
      " 6315.48072497]\n"
     ]
    },
    {
     "name": "stderr",
     "output_type": "stream",
     "text": [
      " 33%|█████████████▏                          | 856/2600 [00:26<00:52, 33.51it/s]"
     ]
    },
    {
     "name": "stdout",
     "output_type": "stream",
     "text": [
      "Energy: [6323.11784041 6315.48072497 6307.8401806  6307.8401806  6307.8401806\n",
      " 6307.8401806  6315.48072497 6315.48072497 6307.8401806  6307.8401806\n",
      " 6307.8401806 ]\n"
     ]
    },
    {
     "name": "stderr",
     "output_type": "stream",
     "text": [
      " 35%|█████████████▉                          | 908/2600 [00:28<00:51, 32.77it/s]"
     ]
    },
    {
     "name": "stdout",
     "output_type": "stream",
     "text": [
      "Energy: [6315.48072497 6307.8401806  6315.48072497 6307.8401806  6315.48072497\n",
      " 6307.8401806  6307.8401806  6307.8401806  6307.8401806  6307.8401806\n",
      " 6307.8401806 ]\n"
     ]
    },
    {
     "name": "stderr",
     "output_type": "stream",
     "text": [
      " 37%|██████████████▋                         | 956/2600 [00:29<00:50, 32.86it/s]"
     ]
    },
    {
     "name": "stdout",
     "output_type": "stream",
     "text": [
      "Energy: [6315.48072497 6323.11784041 6307.8401806  6307.8401806  6307.8401806\n",
      " 6307.8401806  6307.8401806  6307.8401806  6307.8401806  6307.8401806\n",
      " 6307.8401806 ]\n"
     ]
    },
    {
     "name": "stderr",
     "output_type": "stream",
     "text": [
      " 39%|███████████████                        | 1008/2600 [00:31<00:47, 33.30it/s]"
     ]
    },
    {
     "name": "stdout",
     "output_type": "stream",
     "text": [
      "Energy: [6307.8401806  6323.11784041 6315.48072497 6307.8401806  6307.8401806\n",
      " 6307.8401806  6307.8401806  6307.8401806  6307.8401806  6307.8401806\n",
      " 6307.8401806 ]\n"
     ]
    },
    {
     "name": "stderr",
     "output_type": "stream",
     "text": [
      " 41%|███████████████▊                       | 1056/2600 [00:32<00:48, 31.77it/s]"
     ]
    },
    {
     "name": "stdout",
     "output_type": "stream",
     "text": [
      "Energy: [6315.48072497 6307.8401806  6307.8401806  6307.8401806  6315.48072497\n",
      " 6315.72939468 6307.8401806  6307.8401806  6307.8401806  6307.8401806\n",
      " 6307.8401806 ]\n"
     ]
    },
    {
     "name": "stderr",
     "output_type": "stream",
     "text": [
      " 43%|████████████████▌                      | 1108/2600 [00:34<00:44, 33.17it/s]"
     ]
    },
    {
     "name": "stdout",
     "output_type": "stream",
     "text": [
      "Energy: [6315.48072497 6323.36863844 6307.8401806  6315.48072497 6307.8401806\n",
      " 6307.8401806  6307.8401806  6307.8401806  6315.48072497 6307.8401806\n",
      " 6307.8401806 ]\n"
     ]
    },
    {
     "name": "stderr",
     "output_type": "stream",
     "text": [
      " 44%|█████████████████▎                     | 1152/2600 [00:35<00:45, 31.85it/s]"
     ]
    },
    {
     "name": "stdout",
     "output_type": "stream",
     "text": [
      "Energy: [6307.8401806  6315.48072497 6315.48072497 6307.8401806  6307.8401806\n",
      " 6307.8401806  6307.8401806  6307.8401806  6307.8401806  6307.8401806\n",
      " 6307.8401806 ]\n"
     ]
    },
    {
     "name": "stderr",
     "output_type": "stream",
     "text": [
      " 46%|██████████████████                     | 1208/2600 [00:37<00:43, 32.05it/s]"
     ]
    },
    {
     "name": "stdout",
     "output_type": "stream",
     "text": [
      "Energy: [6307.8401806  6307.8401806  6315.72939468 6307.8401806  6307.8401806\n",
      " 6307.8401806  6307.8401806  6307.8401806  6307.8401806  6307.8401806\n",
      " 6307.8401806 ]\n"
     ]
    },
    {
     "name": "stderr",
     "output_type": "stream",
     "text": [
      " 48%|██████████████████▊                    | 1256/2600 [00:38<00:40, 32.89it/s]"
     ]
    },
    {
     "name": "stdout",
     "output_type": "stream",
     "text": [
      "Energy: [6315.48072497 6323.36863844 6307.8401806  6307.8401806  6307.8401806\n",
      " 6307.8401806  6307.8401806  6307.8401806  6307.8401806  6307.8401806\n",
      " 6307.8401806 ]\n"
     ]
    },
    {
     "name": "stderr",
     "output_type": "stream",
     "text": [
      " 50%|███████████████████▌                   | 1304/2600 [00:40<00:39, 32.61it/s]"
     ]
    },
    {
     "name": "stdout",
     "output_type": "stream",
     "text": [
      "Energy: [6315.48072497 6315.48072497 6307.8401806  6307.8401806  6307.8401806\n",
      " 6307.8401806  6307.8401806  6307.8401806  6307.8401806  6307.8401806\n",
      " 6307.8401806 ]\n"
     ]
    },
    {
     "name": "stderr",
     "output_type": "stream",
     "text": [
      " 52%|████████████████████▎                  | 1356/2600 [00:41<00:37, 32.75it/s]"
     ]
    },
    {
     "name": "stdout",
     "output_type": "stream",
     "text": [
      "Energy: [6307.8401806  6315.48072497 6307.8401806  6323.11784041 6307.8401806\n",
      " 6307.8401806  6307.8401806  6307.8401806  6307.8401806  6307.8401806\n",
      " 6307.8401806 ]\n"
     ]
    },
    {
     "name": "stderr",
     "output_type": "stream",
     "text": [
      " 54%|█████████████████████                  | 1408/2600 [00:43<00:36, 32.66it/s]"
     ]
    },
    {
     "name": "stdout",
     "output_type": "stream",
     "text": [
      "Energy: [6323.11784041 6323.11784041 6315.48072497 6307.8401806  6307.8401806\n",
      " 6307.8401806  6307.8401806  6307.8401806  6307.8401806  6307.8401806\n",
      " 6307.8401806 ]\n"
     ]
    },
    {
     "name": "stderr",
     "output_type": "stream",
     "text": [
      " 56%|█████████████████████▉                 | 1460/2600 [00:44<00:34, 33.11it/s]"
     ]
    },
    {
     "name": "stdout",
     "output_type": "stream",
     "text": [
      "Energy: [6323.11784041 6307.8401806  6307.8401806  6307.8401806  6307.8401806\n",
      " 6315.72939468 6315.72939468 6307.8401806  6307.8401806  6307.8401806\n",
      " 6307.8401806 ]\n"
     ]
    },
    {
     "name": "stderr",
     "output_type": "stream",
     "text": [
      " 58%|██████████████████████▌                | 1508/2600 [00:46<00:33, 32.46it/s]"
     ]
    },
    {
     "name": "stdout",
     "output_type": "stream",
     "text": [
      "Energy: [6307.8401806  6331.00445375 6307.8401806  6307.8401806  6307.8401806\n",
      " 6307.8401806  6315.48072497 6307.8401806  6315.48072497 6307.8401806\n",
      " 6307.8401806 ]\n"
     ]
    },
    {
     "name": "stderr",
     "output_type": "stream",
     "text": [
      " 60%|███████████████████████▍               | 1560/2600 [00:47<00:32, 31.65it/s]"
     ]
    },
    {
     "name": "stdout",
     "output_type": "stream",
     "text": [
      "Energy: [6307.8401806  6315.48072497 6315.72939468 6307.8401806  6307.8401806\n",
      " 6307.8401806  6307.8401806  6307.8401806  6315.48072497 6307.8401806\n",
      " 6307.8401806 ]\n"
     ]
    },
    {
     "name": "stderr",
     "output_type": "stream",
     "text": [
      " 62%|████████████████████████               | 1608/2600 [00:49<00:30, 32.68it/s]"
     ]
    },
    {
     "name": "stdout",
     "output_type": "stream",
     "text": [
      "Energy: [6307.8401806 6307.8401806 6307.8401806 6307.8401806 6307.8401806\n",
      " 6307.8401806 6307.8401806 6307.8401806 6307.8401806 6307.8401806\n",
      " 6307.8401806]\n"
     ]
    },
    {
     "name": "stderr",
     "output_type": "stream",
     "text": [
      " 64%|████████████████████████▊              | 1655/2600 [00:50<00:31, 30.32it/s]"
     ]
    },
    {
     "name": "stdout",
     "output_type": "stream",
     "text": [
      "Energy: [6307.8401806  6307.8401806  6307.8401806  6307.8401806  6315.72939468\n",
      " 6307.8401806  6307.8401806  6307.8401806  6307.8401806  6307.8401806\n",
      " 6307.8401806 ]\n"
     ]
    },
    {
     "name": "stderr",
     "output_type": "stream",
     "text": [
      " 66%|█████████████████████████▌             | 1703/2600 [00:52<00:26, 33.45it/s]"
     ]
    },
    {
     "name": "stdout",
     "output_type": "stream",
     "text": [
      "Energy: [6307.8401806  6307.8401806  6307.8401806  6307.8401806  6307.8401806\n",
      " 6307.8401806  6315.72939468 6307.8401806  6307.8401806  6307.8401806\n",
      " 6307.8401806 ]\n"
     ]
    },
    {
     "name": "stderr",
     "output_type": "stream",
     "text": [
      " 68%|██████████████████████████▎            | 1755/2600 [00:53<00:24, 33.85it/s]"
     ]
    },
    {
     "name": "stdout",
     "output_type": "stream",
     "text": [
      "Energy: [6315.48072497 6307.8401806  6307.8401806  6315.72939468 6307.8401806\n",
      " 6307.8401806  6307.8401806  6307.8401806  6307.8401806  6307.8401806\n",
      " 6307.8401806 ]\n"
     ]
    },
    {
     "name": "stderr",
     "output_type": "stream",
     "text": [
      " 69%|███████████████████████████            | 1803/2600 [00:55<00:26, 30.54it/s]"
     ]
    },
    {
     "name": "stdout",
     "output_type": "stream",
     "text": [
      "Energy: [6307.8401806  6315.48072497 6307.8401806  6307.8401806  6307.8401806\n",
      " 6315.48072497 6307.8401806  6315.48072497 6307.8401806  6307.8401806\n",
      " 6307.8401806 ]\n"
     ]
    },
    {
     "name": "stderr",
     "output_type": "stream",
     "text": [
      " 71%|███████████████████████████▊           | 1857/2600 [00:57<00:23, 32.01it/s]"
     ]
    },
    {
     "name": "stdout",
     "output_type": "stream",
     "text": [
      "Energy: [6315.48072497 6315.48072497 6307.8401806  6315.48072497 6307.8401806\n",
      " 6307.8401806  6307.8401806  6307.8401806  6307.8401806  6307.8401806\n",
      " 6307.8401806 ]\n"
     ]
    },
    {
     "name": "stderr",
     "output_type": "stream",
     "text": [
      " 73%|████████████████████████████▋          | 1909/2600 [00:58<00:21, 32.79it/s]"
     ]
    },
    {
     "name": "stdout",
     "output_type": "stream",
     "text": [
      "Energy: [6307.8401806  6315.48072497 6315.48072497 6315.48072497 6307.8401806\n",
      " 6307.8401806  6307.8401806  6307.8401806  6307.8401806  6307.8401806\n",
      " 6307.8401806 ]\n"
     ]
    },
    {
     "name": "stderr",
     "output_type": "stream",
     "text": [
      " 75%|█████████████████████████████▎         | 1957/2600 [01:00<00:19, 33.18it/s]"
     ]
    },
    {
     "name": "stdout",
     "output_type": "stream",
     "text": [
      "Energy: [6315.48072497 6307.8401806  6315.48072497 6307.8401806  6307.8401806\n",
      " 6307.8401806  6307.8401806  6307.8401806  6307.8401806  6307.8401806\n",
      " 6307.8401806 ]\n"
     ]
    },
    {
     "name": "stderr",
     "output_type": "stream",
     "text": [
      " 77%|██████████████████████████████         | 2005/2600 [01:01<00:17, 34.05it/s]"
     ]
    },
    {
     "name": "stdout",
     "output_type": "stream",
     "text": [
      "Energy: [6338.38180585 6307.8401806  6315.48072497 6307.8401806  6307.8401806\n",
      " 6307.8401806  6307.8401806  6307.8401806  6307.8401806  6307.8401806\n",
      " 6307.8401806 ]\n"
     ]
    },
    {
     "name": "stderr",
     "output_type": "stream",
     "text": [
      " 79%|██████████████████████████████▊        | 2057/2600 [01:03<00:16, 33.59it/s]"
     ]
    },
    {
     "name": "stdout",
     "output_type": "stream",
     "text": [
      "Energy: [6307.8401806  6315.48072497 6315.48072497 6315.48072497 6307.8401806\n",
      " 6307.8401806  6307.8401806  6307.8401806  6307.8401806  6307.8401806\n",
      " 6307.8401806 ]\n"
     ]
    },
    {
     "name": "stderr",
     "output_type": "stream",
     "text": [
      " 81%|███████████████████████████████▌       | 2105/2600 [01:04<00:15, 31.44it/s]"
     ]
    },
    {
     "name": "stdout",
     "output_type": "stream",
     "text": [
      "Energy: [6315.48072497 6330.75153226 6307.8401806  6323.11784041 6315.48072497\n",
      " 6307.8401806  6307.8401806  6307.8401806  6307.8401806  6307.8401806\n",
      " 6307.8401806 ]\n"
     ]
    },
    {
     "name": "stderr",
     "output_type": "stream",
     "text": [
      " 83%|████████████████████████████████▎      | 2157/2600 [01:06<00:13, 32.91it/s]"
     ]
    },
    {
     "name": "stdout",
     "output_type": "stream",
     "text": [
      "Energy: [6307.8401806  6323.11784041 6307.8401806  6307.8401806  6307.8401806\n",
      " 6307.8401806  6307.8401806  6307.8401806  6307.8401806  6307.8401806\n",
      " 6307.8401806 ]\n"
     ]
    },
    {
     "name": "stderr",
     "output_type": "stream",
     "text": [
      " 85%|█████████████████████████████████      | 2205/2600 [01:07<00:11, 33.43it/s]"
     ]
    },
    {
     "name": "stdout",
     "output_type": "stream",
     "text": [
      "Energy: [6315.72939468 6315.72939468 6315.48072497 6307.8401806  6307.8401806\n",
      " 6307.8401806  6307.8401806  6307.8401806  6307.8401806  6307.8401806\n",
      " 6307.8401806 ]\n"
     ]
    },
    {
     "name": "stderr",
     "output_type": "stream",
     "text": [
      " 87%|█████████████████████████████████▊     | 2253/2600 [01:09<00:10, 34.43it/s]"
     ]
    },
    {
     "name": "stdout",
     "output_type": "stream",
     "text": [
      "Energy: [6315.48072497 6315.48072497 6307.8401806  6307.8401806  6307.8401806\n",
      " 6307.8401806  6307.8401806  6307.8401806  6307.8401806  6307.8401806\n",
      " 6307.8401806 ]\n"
     ]
    },
    {
     "name": "stderr",
     "output_type": "stream",
     "text": [
      " 89%|██████████████████████████████████▋    | 2309/2600 [01:10<00:09, 31.21it/s]"
     ]
    },
    {
     "name": "stdout",
     "output_type": "stream",
     "text": [
      "Energy: [6307.8401806  6307.8401806  6307.8401806  6307.8401806  6315.48072497\n",
      " 6307.8401806  6307.8401806  6307.8401806  6307.8401806  6307.8401806\n",
      " 6307.8401806 ]\n"
     ]
    },
    {
     "name": "stderr",
     "output_type": "stream",
     "text": [
      " 91%|███████████████████████████████████▎   | 2357/2600 [01:12<00:07, 32.61it/s]"
     ]
    },
    {
     "name": "stdout",
     "output_type": "stream",
     "text": [
      "Energy: [6307.8401806  6307.8401806  6315.48072497 6307.8401806  6315.48072497\n",
      " 6307.8401806  6307.8401806  6307.8401806  6307.8401806  6307.8401806\n",
      " 6307.8401806 ]\n"
     ]
    },
    {
     "name": "stderr",
     "output_type": "stream",
     "text": [
      " 92%|████████████████████████████████████   | 2405/2600 [01:13<00:06, 32.33it/s]"
     ]
    },
    {
     "name": "stdout",
     "output_type": "stream",
     "text": [
      "Energy: [6330.75153226 6315.48072497 6323.11784041 6307.8401806  6307.8401806\n",
      " 6307.8401806  6307.8401806  6307.8401806  6307.8401806  6307.8401806\n",
      " 6307.8401806 ]\n"
     ]
    },
    {
     "name": "stderr",
     "output_type": "stream",
     "text": [
      " 94%|████████████████████████████████████▊  | 2457/2600 [01:15<00:04, 32.70it/s]"
     ]
    },
    {
     "name": "stdout",
     "output_type": "stream",
     "text": [
      "Energy: [6323.11784041 6331.00445375 6323.11784041 6323.11784041 6307.8401806\n",
      " 6307.8401806  6307.8401806  6307.8401806  6307.8401806  6307.8401806\n",
      " 6307.8401806 ]\n"
     ]
    },
    {
     "name": "stderr",
     "output_type": "stream",
     "text": [
      " 96%|█████████████████████████████████████▋ | 2509/2600 [01:17<00:02, 32.46it/s]"
     ]
    },
    {
     "name": "stdout",
     "output_type": "stream",
     "text": [
      "Energy: [6307.8401806  6323.36863844 6330.75153226 6315.48072497 6315.48072497\n",
      " 6307.8401806  6307.8401806  6307.8401806  6307.8401806  6307.8401806\n",
      " 6307.8401806 ]\n"
     ]
    },
    {
     "name": "stderr",
     "output_type": "stream",
     "text": [
      " 98%|██████████████████████████████████████▎| 2557/2600 [01:18<00:01, 32.88it/s]"
     ]
    },
    {
     "name": "stdout",
     "output_type": "stream",
     "text": [
      "Energy: [6315.72939468 6307.8401806  6315.48072497 6323.11784041 6315.48072497\n",
      " 6315.48072497 6307.8401806  6307.8401806  6307.8401806  6307.8401806\n",
      " 6307.8401806 ]\n"
     ]
    },
    {
     "name": "stderr",
     "output_type": "stream",
     "text": [
      "100%|███████████████████████████████████████| 2600/2600 [01:19<00:00, 32.60it/s]\n"
     ]
    },
    {
     "name": "stdout",
     "output_type": "stream",
     "text": [
      "Fin Energy_t 6307.840180599182 Energy_gs 6307.840180599182\n",
      "c_accep 0 c_rounds 0\n",
      "Elapsed (after compilation) = 79.75991153717041\n",
      "[[202 195 193 201 180 213 214 212 215 218 216 217]\n",
      " [202 195 193 201 188 213 214 212 215 218 216 217]\n",
      " [202 195 193 201 188 213 214 212 215 218 216 217]]\n",
      "[[201 209 210 196 207 216 218 213 215 214 212 217]\n",
      " [201 209 210 196 207 216 218 213 215 214 212 217]\n",
      " [201 209 210 196 207 216 218 213 215 214 212 217]]\n",
      "[[201 209 210 196 207 216 218 213 215 214 212 217]\n",
      " [201 209 210 196 207 216 218 213 215 214 212 217]\n",
      " [201 209 210 196 207 216 218 213 215 214 212 217]]\n",
      "[[208 196 183 194 209 218 214 212 215 217 213 216]\n",
      " [208 196 183 194 209 218 214 212 215 217 213 216]\n",
      " [208 196 183 194 209 218 214 212 215 217 213 216]]\n",
      "[[211 209 195 198 182 214 213 212 215 218 217 216]\n",
      " [211 209 195 198 182 214 213 212 215 218 217 216]\n",
      " [211 209 195 198 182 214 213 212 215 218 217 216]]\n",
      "[[204 205 184 195 199 214 218 212 215 217 213 216]\n",
      " [204 205 184 195 199 214 218 212 215 217 213 216]\n",
      " [204 205 184 195 199 214 218 212 215 217 213 216]]\n",
      "[[189 195 210 211 190 216 213 212 214 217 215 218]\n",
      " [189 195 210 211 190 216 213 212 214 217 215 218]\n",
      " [189 195 210 211 190 216 213 212 214 217 215 218]]\n",
      "[[201 209 210 196 207 216 218 213 215 214 212 217]\n",
      " [201 209 210 196 207 216 218 213 215 214 212 217]\n",
      " [201 209 210 196 207 216 218 213 215 214 212 217]]\n",
      "[[204 205 184 195 199 214 218 212 215 217 213 216]\n",
      " [204 205 184 195 199 214 218 212 215 217 213 216]\n",
      " [204 205 184 195 199 214 218 212 215 217 213 216]]\n",
      "[[189 195 210 211 190 216 213 212 214 217 215 218]\n",
      " [189 195 210 211 190 216 213 212 214 217 215 218]\n",
      " [189 195 210 211 190 216 213 212 214 217 215 218]]\n",
      "[[204 205 184 195 199 214 218 212 215 217 213 216]\n",
      " [204 205 184 195 199 214 218 212 215 217 213 216]\n",
      " [204 205 184 195 199 214 218 212 215 217 213 216]]\n",
      "[[189 195 210 211 190 216 213 212 214 217 215 218]\n",
      " [189 195 210 211 190 216 213 212 214 217 215 218]\n",
      " [189 195 210 211 190 216 213 212 214 217 215 218]]\n",
      "[[189 195 210 211 190 216 213 212 214 217 215 218]\n",
      " [189 195 210 211 190 216 213 212 214 217 215 218]\n",
      " [189 195 210 211 190 216 213 212 214 217 215 218]]\n",
      "[[189 195 210 211 190 216 213 212 214 217 215 218]\n",
      " [189 195 210 211 190 216 213 212 214 217 215 218]\n",
      " [189 195 210 211 190 216 213 212 214 217 215 218]]\n",
      "[[189 195 210 211 190 216 213 212 214 217 215 218]\n",
      " [189 195 210 211 190 216 213 212 214 217 215 218]\n",
      " [189 195 210 211 190 216 213 212 214 217 215 218]]\n",
      "[[189 195 210 211 190 216 213 212 214 217 215 218]\n",
      " [189 195 210 211 190 216 213 212 214 217 215 218]\n",
      " [189 195 210 211 190 216 213 212 214 217 215 218]]\n",
      "[[202 195 193 201 180 213 214 212 215 218 216 217]\n",
      " [202 195 193 201 188 213 214 212 215 218 216 217]\n",
      " [202 195 193 201 188 213 214 212 215 218 216 217]]\n",
      "[[202 195 193 201 180 213 214 212 215 218 216 217]\n",
      " [202 195 193 201 188 213 214 212 215 218 216 217]\n",
      " [202 195 193 201 188 213 214 212 215 218 216 217]]\n",
      "[[189 195 210 211 190 216 213 212 214 217 215 218]\n",
      " [189 195 210 211 190 216 213 212 214 217 215 218]\n",
      " [189 195 210 211 190 216 213 212 214 217 215 218]]\n",
      "[[189 195 210 211 190 216 213 212 214 217 215 218]\n",
      " [189 195 210 211 190 216 213 212 214 217 215 218]\n",
      " [189 195 210 211 190 216 213 212 214 217 215 218]]\n",
      "[[208 196 183 194 209 218 214 212 215 217 213 216]\n",
      " [208 196 183 194 209 218 214 212 215 217 213 216]\n",
      " [208 196 183 194 209 218 214 212 215 217 213 216]]\n",
      "[[208 196 183 194 209 218 214 212 215 217 213 216]\n",
      " [208 196 183 194 209 218 214 212 215 217 213 216]\n",
      " [208 196 183 194 209 218 214 212 215 217 213 216]]\n",
      "[[208 196 183 194 209 218 214 212 215 217 213 216]\n",
      " [208 196 183 194 209 218 214 212 215 217 213 216]\n",
      " [208 196 183 194 209 218 214 212 215 217 213 216]]\n",
      "[[208 196 183 194 209 218 214 212 215 217 213 216]\n",
      " [208 196 183 194 209 218 214 212 215 217 213 216]\n",
      " [208 196 183 194 209 218 214 212 215 217 213 216]]\n",
      "[[204 195 199 181 203 214 216 218 215 213 212 217]\n",
      " [204 195 199 181 203 214 216 218 215 213 212 217]\n",
      " [204 195 199 181 203 214 216 218 215 213 212 217]]\n",
      "[[204 195 199 181 203 214 216 218 215 213 212 217]\n",
      " [204 195 199 181 203 214 216 218 215 213 212 217]\n",
      " [204 195 199 181 203 214 216 218 215 213 212 217]]\n",
      "[[210 207 201 208 198 214 213 212 215 218 216 217]\n",
      " [210 207 201 208 198 214 213 212 215 218 216 217]\n",
      " [210 207 201 208 198 214 213 212 215 218 216 217]]\n",
      "[[210 207 201 208 198 214 213 212 215 218 216 217]\n",
      " [210 207 201 208 198 214 213 212 215 218 216 217]\n",
      " [210 207 201 208 198 214 213 212 215 218 216 217]]\n",
      "[[210 207 201 208 198 214 213 212 215 218 216 217]\n",
      " [210 207 201 208 198 214 213 212 215 218 216 217]\n",
      " [210 207 201 208 198 214 213 212 215 218 216 217]]\n",
      "[[210 207 201 208 198 214 213 212 215 218 216 217]\n",
      " [210 207 201 208 198 214 213 212 215 218 216 217]\n",
      " [210 207 201 208 198 214 213 212 215 218 216 217]]\n",
      "[[210 207 201 208 198 214 213 212 215 218 216 217]\n",
      " [210 207 201 208 198 214 213 212 215 218 216 217]\n",
      " [210 207 201 208 198 214 213 212 215 218 216 217]]\n",
      "[[204 195 199 181 203 214 216 218 215 213 212 217]\n",
      " [204 195 199 181 203 214 216 218 215 213 212 217]\n",
      " [204 195 199 181 203 214 216 218 215 213 212 217]]\n",
      "[[201 209 210 196 207 216 218 213 215 214 212 217]\n",
      " [201 209 210 196 207 216 218 213 215 214 212 217]\n",
      " [201 209 210 196 207 216 218 213 215 214 212 217]]\n",
      "[[208 180 203 205 189 216 218 214 215 213 217 212]\n",
      " [208 188 203 205 189 216 218 214 215 213 217 212]\n",
      " [208 188 203 205 189 216 218 214 215 213 217 212]]\n",
      "[[204 195 199 181 203 214 216 218 215 213 212 217]\n",
      " [204 195 199 181 203 214 216 218 215 213 212 217]\n",
      " [204 195 199 181 203 214 216 218 215 213 212 217]]\n",
      "[[210 207 201 208 198 214 213 212 215 218 216 217]\n",
      " [210 207 201 208 198 214 213 212 215 218 216 217]\n",
      " [210 207 201 208 198 214 213 212 215 218 216 217]]\n",
      "[[204 195 199 181 203 214 216 218 215 213 212 217]\n",
      " [204 195 199 181 203 214 216 218 215 213 212 217]\n",
      " [204 195 199 181 203 214 216 218 215 213 212 217]]\n",
      "[[204 195 199 181 203 214 216 218 215 213 212 217]\n",
      " [204 195 199 181 203 214 216 218 215 213 212 217]\n",
      " [204 195 199 181 203 214 216 218 215 213 212 217]]\n",
      "[[201 209 210 196 207 216 218 213 215 214 212 217]\n",
      " [201 209 210 196 207 216 218 213 215 214 212 217]\n",
      " [201 209 210 196 207 216 218 213 215 214 212 217]]\n",
      "[[201 209 210 196 207 216 218 213 215 214 212 217]\n",
      " [201 209 210 196 207 216 218 213 215 214 212 217]\n",
      " [201 209 210 196 207 216 218 213 215 214 212 217]]\n",
      "[0.99086758] [0.99086758]\n",
      "i_reps 6\n",
      "Energía ini: 23587.247205083877 /gs: 6262.8131757469455\n"
     ]
    },
    {
     "name": "stderr",
     "output_type": "stream",
     "text": [
      " 23%|█████████▎                              | 604/2600 [00:18<01:00, 33.09it/s]"
     ]
    },
    {
     "name": "stdout",
     "output_type": "stream",
     "text": [
      "Energy: [6637.39048262 6262.81317575 6270.48315464 6262.81317575 6262.81317575\n",
      " 6270.48315464 6262.81317575 6416.49871184 6262.81317575 6262.81317575\n",
      " 6262.81317575]\n"
     ]
    },
    {
     "name": "stderr",
     "output_type": "stream",
     "text": [
      " 25%|██████████                              | 656/2600 [00:19<00:59, 32.90it/s]"
     ]
    },
    {
     "name": "stdout",
     "output_type": "stream",
     "text": [
      "Energy: [6439.75731012 6270.48315464 6262.81317575 6262.81317575 6262.81317575\n",
      " 6408.66339522 6262.81317575 6262.81317575 6262.81317575 6262.81317575\n",
      " 6262.81317575]\n"
     ]
    },
    {
     "name": "stderr",
     "output_type": "stream",
     "text": [
      " 27%|██████████▉                             | 708/2600 [00:21<00:57, 33.18it/s]"
     ]
    },
    {
     "name": "stdout",
     "output_type": "stream",
     "text": [
      "Energy: [6447.36148103 6278.14965186 6262.81317575 6262.81317575 6262.81317575\n",
      " 6262.81317575 6270.68828626 6262.81317575 6262.81317575 6262.81317575\n",
      " 6262.81317575]\n"
     ]
    },
    {
     "name": "stderr",
     "output_type": "stream",
     "text": [
      " 29%|███████████▋                            | 760/2600 [00:22<00:55, 33.35it/s]"
     ]
    },
    {
     "name": "stdout",
     "output_type": "stream",
     "text": [
      "Energy: [6286.02224386 6262.81317575 6270.48315464 6262.81317575 6262.81317575\n",
      " 6262.81317575 6262.81317575 6262.81317575 6262.81317575 6262.81317575\n",
      " 6262.81317575]\n"
     ]
    },
    {
     "name": "stderr",
     "output_type": "stream",
     "text": [
      " 31%|████████████▎                           | 804/2600 [00:24<00:54, 33.07it/s]"
     ]
    },
    {
     "name": "stdout",
     "output_type": "stream",
     "text": [
      "Energy: [6270.48315464 6270.48315464 6262.81317575 6262.81317575 6270.48315464\n",
      " 6262.81317575 6270.48315464 6262.81317575 6262.81317575 6262.81317575\n",
      " 6262.81317575]\n"
     ]
    },
    {
     "name": "stderr",
     "output_type": "stream",
     "text": [
      " 33%|█████████████▏                          | 856/2600 [00:25<00:55, 31.53it/s]"
     ]
    },
    {
     "name": "stdout",
     "output_type": "stream",
     "text": [
      "Energy: [6270.48315464 6278.14965186 6262.81317575 6286.02224386 6270.48315464\n",
      " 6262.81317575 6270.48315464 6262.81317575 6262.81317575 6262.81317575\n",
      " 6262.81317575]\n"
     ]
    },
    {
     "name": "stderr",
     "output_type": "stream",
     "text": [
      " 35%|█████████████▉                          | 908/2600 [00:27<00:49, 34.10it/s]"
     ]
    },
    {
     "name": "stdout",
     "output_type": "stream",
     "text": [
      "Energy: [6278.14965186 6270.48315464 6270.48315464 6270.48315464 6262.81317575\n",
      " 6262.81317575 6262.81317575 6262.81317575 6262.81317575 6262.81317575\n",
      " 6262.81317575]\n"
     ]
    },
    {
     "name": "stderr",
     "output_type": "stream",
     "text": [
      " 37%|██████████████▋                         | 956/2600 [00:28<00:48, 33.93it/s]"
     ]
    },
    {
     "name": "stdout",
     "output_type": "stream",
     "text": [
      "Energy: [6286.02224386 6278.14965186 6270.48315464 6270.48315464 6270.48315464\n",
      " 6262.81317575 6270.48315464 6262.81317575 6262.81317575 6262.81317575\n",
      " 6262.81317575]\n"
     ]
    },
    {
     "name": "stderr",
     "output_type": "stream",
     "text": [
      " 39%|███████████████                        | 1008/2600 [00:30<00:48, 33.12it/s]"
     ]
    },
    {
     "name": "stdout",
     "output_type": "stream",
     "text": [
      "Energy: [6262.81317575 6270.48315464 6278.35700574 6262.81317575 6270.48315464\n",
      " 6262.81317575 6262.81317575 6262.81317575 6262.81317575 6262.81317575\n",
      " 6262.81317575]\n"
     ]
    },
    {
     "name": "stderr",
     "output_type": "stream",
     "text": [
      " 41%|███████████████▉                       | 1060/2600 [00:31<00:45, 33.55it/s]"
     ]
    },
    {
     "name": "stdout",
     "output_type": "stream",
     "text": [
      "Energy: [6262.81317575 6278.14965186 6262.81317575 6270.48315464 6262.81317575\n",
      " 6262.81317575 6262.81317575 6262.81317575 6262.81317575 6262.81317575\n",
      " 6262.81317575]\n"
     ]
    },
    {
     "name": "stderr",
     "output_type": "stream",
     "text": [
      " 43%|████████████████▌                      | 1108/2600 [00:33<00:44, 33.71it/s]"
     ]
    },
    {
     "name": "stdout",
     "output_type": "stream",
     "text": [
      "Energy: [6262.81317575 6270.48315464 6270.48315464 6262.81317575 6262.81317575\n",
      " 6262.81317575 6262.81317575 6262.81317575 6262.81317575 6262.81317575\n",
      " 6262.81317575]\n"
     ]
    },
    {
     "name": "stderr",
     "output_type": "stream",
     "text": [
      " 44%|█████████████████▎                     | 1156/2600 [00:34<00:44, 32.56it/s]"
     ]
    },
    {
     "name": "stdout",
     "output_type": "stream",
     "text": [
      "Energy: [6270.48315464 6262.81317575 6270.48315464 6262.81317575 6262.81317575\n",
      " 6270.48315464 6262.81317575 6270.48315464 6262.81317575 6262.81317575\n",
      " 6262.81317575]\n"
     ]
    },
    {
     "name": "stderr",
     "output_type": "stream",
     "text": [
      " 46%|██████████████████                     | 1204/2600 [00:36<00:42, 33.04it/s]"
     ]
    },
    {
     "name": "stdout",
     "output_type": "stream",
     "text": [
      "Energy: [6293.25278427 6262.81317575 6270.48315464 6262.81317575 6270.48315464\n",
      " 6262.81317575 6262.81317575 6262.81317575 6270.48315464 6262.81317575\n",
      " 6262.81317575]\n"
     ]
    },
    {
     "name": "stderr",
     "output_type": "stream",
     "text": [
      " 48%|██████████████████▊                    | 1256/2600 [00:37<00:40, 33.03it/s]"
     ]
    },
    {
     "name": "stdout",
     "output_type": "stream",
     "text": [
      "Energy: [6262.81317575 6262.81317575 6262.81317575 6262.81317575 6262.81317575\n",
      " 6262.81317575 6262.81317575 6262.81317575 6262.81317575 6262.81317575\n",
      " 6262.81317575]\n"
     ]
    },
    {
     "name": "stderr",
     "output_type": "stream",
     "text": [
      " 50%|███████████████████▌                   | 1304/2600 [00:39<00:43, 30.08it/s]"
     ]
    },
    {
     "name": "stdout",
     "output_type": "stream",
     "text": [
      "Energy: [6262.81317575 6262.81317575 6270.48315464 6270.48315464 6262.81317575\n",
      " 6262.81317575 6262.81317575 6262.81317575 6262.81317575 6262.81317575\n",
      " 6262.81317575]\n"
     ]
    },
    {
     "name": "stderr",
     "output_type": "stream",
     "text": [
      " 52%|████████████████████▎                  | 1356/2600 [00:41<00:41, 30.15it/s]"
     ]
    },
    {
     "name": "stdout",
     "output_type": "stream",
     "text": [
      "Energy: [6278.35700574 6262.81317575 6262.81317575 6262.81317575 6262.81317575\n",
      " 6262.81317575 6262.81317575 6262.81317575 6262.81317575 6262.81317575\n",
      " 6262.81317575]\n"
     ]
    },
    {
     "name": "stderr",
     "output_type": "stream",
     "text": [
      " 54%|█████████████████████                  | 1404/2600 [00:42<00:37, 31.51it/s]"
     ]
    },
    {
     "name": "stdout",
     "output_type": "stream",
     "text": [
      "Energy: [6270.48315464 6270.48315464 6262.81317575 6262.81317575 6262.81317575\n",
      " 6262.81317575 6262.81317575 6262.81317575 6262.81317575 6262.81317575\n",
      " 6262.81317575]\n"
     ]
    },
    {
     "name": "stderr",
     "output_type": "stream",
     "text": [
      " 56%|█████████████████████▊                 | 1456/2600 [00:44<00:34, 32.80it/s]"
     ]
    },
    {
     "name": "stdout",
     "output_type": "stream",
     "text": [
      "Energy: [6278.14965186 6262.81317575 6270.48315464 6262.81317575 6262.81317575\n",
      " 6262.81317575 6262.81317575 6262.81317575 6262.81317575 6262.81317575\n",
      " 6262.81317575]\n"
     ]
    },
    {
     "name": "stderr",
     "output_type": "stream",
     "text": [
      " 58%|██████████████████████▌                | 1508/2600 [00:45<00:35, 30.59it/s]"
     ]
    },
    {
     "name": "stdout",
     "output_type": "stream",
     "text": [
      "Energy: [6262.81317575 6278.35700574 6270.48315464 6262.81317575 6270.68828626\n",
      " 6262.81317575 6262.81317575 6262.81317575 6262.81317575 6262.81317575\n",
      " 6262.81317575]\n"
     ]
    },
    {
     "name": "stderr",
     "output_type": "stream",
     "text": [
      " 60%|███████████████████████▎               | 1556/2600 [00:47<00:31, 32.79it/s]"
     ]
    },
    {
     "name": "stdout",
     "output_type": "stream",
     "text": [
      "Energy: [6270.48315464 6270.48315464 6270.68828626 6262.81317575 6270.48315464\n",
      " 6262.81317575 6262.81317575 6262.81317575 6262.81317575 6262.81317575\n",
      " 6262.81317575]\n"
     ]
    },
    {
     "name": "stderr",
     "output_type": "stream",
     "text": [
      " 62%|████████████████████████               | 1608/2600 [00:48<00:30, 32.97it/s]"
     ]
    },
    {
     "name": "stdout",
     "output_type": "stream",
     "text": [
      "Energy: [6270.48315464 6309.20566661 6262.81317575 6270.48315464 6270.68828626\n",
      " 6262.81317575 6262.81317575 6262.81317575 6262.81317575 6262.81317575\n",
      " 6262.81317575]\n"
     ]
    },
    {
     "name": "stderr",
     "output_type": "stream",
     "text": [
      " 64%|████████████████████████▊              | 1656/2600 [00:50<00:30, 31.29it/s]"
     ]
    },
    {
     "name": "stdout",
     "output_type": "stream",
     "text": [
      "Energy: [6270.68828626 6270.48315464 6262.81317575 6262.81317575 6262.81317575\n",
      " 6262.81317575 6262.81317575 6262.81317575 6262.81317575 6262.81317575\n",
      " 6262.81317575]\n"
     ]
    },
    {
     "name": "stderr",
     "output_type": "stream",
     "text": [
      " 66%|█████████████████████████▌             | 1704/2600 [00:51<00:27, 33.18it/s]"
     ]
    },
    {
     "name": "stdout",
     "output_type": "stream",
     "text": [
      "Energy: [6262.81317575 6270.48315464 6262.81317575 6262.81317575 6262.81317575\n",
      " 6262.81317575 6262.81317575 6262.81317575 6262.81317575 6262.81317575\n",
      " 6262.81317575]\n"
     ]
    },
    {
     "name": "stderr",
     "output_type": "stream",
     "text": [
      " 68%|██████████████████████████▎            | 1756/2600 [00:53<00:25, 32.59it/s]"
     ]
    },
    {
     "name": "stdout",
     "output_type": "stream",
     "text": [
      "Energy: [6270.68828626 6278.35700574 6262.81317575 6262.81317575 6262.81317575\n",
      " 6262.81317575 6262.81317575 6262.81317575 6262.81317575 6262.81317575\n",
      " 6262.81317575]\n"
     ]
    },
    {
     "name": "stderr",
     "output_type": "stream",
     "text": [
      " 69%|███████████████████████████            | 1804/2600 [00:54<00:24, 33.15it/s]"
     ]
    },
    {
     "name": "stdout",
     "output_type": "stream",
     "text": [
      "Energy: [6270.48315464 6286.02224386 6270.48315464 6270.68828626 6270.48315464\n",
      " 6270.48315464 6262.81317575 6262.81317575 6262.81317575 6262.81317575\n",
      " 6262.81317575]\n"
     ]
    },
    {
     "name": "stderr",
     "output_type": "stream",
     "text": [
      " 71%|███████████████████████████▊           | 1856/2600 [00:56<00:22, 33.13it/s]"
     ]
    },
    {
     "name": "stdout",
     "output_type": "stream",
     "text": [
      "Energy: [6278.35700574 6262.81317575 6270.48315464 6270.48315464 6270.48315464\n",
      " 6262.81317575 6262.81317575 6262.81317575 6262.81317575 6262.81317575\n",
      " 6262.81317575]\n"
     ]
    },
    {
     "name": "stderr",
     "output_type": "stream",
     "text": [
      " 73%|████████████████████████████▌          | 1908/2600 [00:58<00:21, 32.28it/s]"
     ]
    },
    {
     "name": "stdout",
     "output_type": "stream",
     "text": [
      "Energy: [6262.81317575 6270.68828626 6262.81317575 6262.81317575 6262.81317575\n",
      " 6262.81317575 6262.81317575 6262.81317575 6262.81317575 6262.81317575\n",
      " 6262.81317575]\n"
     ]
    },
    {
     "name": "stderr",
     "output_type": "stream",
     "text": [
      " 75%|█████████████████████████████▎         | 1956/2600 [00:59<00:20, 32.16it/s]"
     ]
    },
    {
     "name": "stdout",
     "output_type": "stream",
     "text": [
      "Energy: [6262.81317575 6262.81317575 6262.81317575 6262.81317575 6262.81317575\n",
      " 6270.68828626 6262.81317575 6262.81317575 6262.81317575 6262.81317575\n",
      " 6262.81317575]\n"
     ]
    },
    {
     "name": "stderr",
     "output_type": "stream",
     "text": [
      " 77%|██████████████████████████████         | 2008/2600 [01:01<00:18, 32.30it/s]"
     ]
    },
    {
     "name": "stdout",
     "output_type": "stream",
     "text": [
      "Energy: [6270.48315464 6270.48315464 6262.81317575 6262.81317575 6262.81317575\n",
      " 6262.81317575 6262.81317575 6262.81317575 6262.81317575 6262.81317575\n",
      " 6262.81317575]\n"
     ]
    },
    {
     "name": "stderr",
     "output_type": "stream",
     "text": [
      " 79%|██████████████████████████████▊        | 2056/2600 [01:02<00:16, 32.07it/s]"
     ]
    },
    {
     "name": "stdout",
     "output_type": "stream",
     "text": [
      "Energy: [6278.14965186 6278.14965186 6262.81317575 6262.81317575 6262.81317575\n",
      " 6262.81317575 6270.48315464 6262.81317575 6262.81317575 6262.81317575\n",
      " 6262.81317575]\n"
     ]
    },
    {
     "name": "stderr",
     "output_type": "stream",
     "text": [
      " 81%|███████████████████████████████▌       | 2108/2600 [01:04<00:14, 33.50it/s]"
     ]
    },
    {
     "name": "stdout",
     "output_type": "stream",
     "text": [
      "Energy: [6301.12830874 6270.48315464 6262.81317575 6262.81317575 6262.81317575\n",
      " 6262.81317575 6270.48315464 6262.81317575 6262.81317575 6262.81317575\n",
      " 6262.81317575]\n"
     ]
    },
    {
     "name": "stderr",
     "output_type": "stream",
     "text": [
      " 83%|████████████████████████████████▎      | 2156/2600 [01:05<00:14, 31.06it/s]"
     ]
    },
    {
     "name": "stdout",
     "output_type": "stream",
     "text": [
      "Energy: [6285.81267295 6270.48315464 6270.48315464 6262.81317575 6270.48315464\n",
      " 6262.81317575 6262.81317575 6262.81317575 6270.48315464 6262.81317575\n",
      " 6262.81317575]\n"
     ]
    },
    {
     "name": "stderr",
     "output_type": "stream",
     "text": [
      " 85%|█████████████████████████████████      | 2208/2600 [01:07<00:11, 33.20it/s]"
     ]
    },
    {
     "name": "stdout",
     "output_type": "stream",
     "text": [
      "Energy: [6270.68828626 6278.14965186 6262.81317575 6262.81317575 6262.81317575\n",
      " 6270.48315464 6262.81317575 6262.81317575 6262.81317575 6262.81317575\n",
      " 6262.81317575]\n"
     ]
    },
    {
     "name": "stderr",
     "output_type": "stream",
     "text": [
      " 87%|█████████████████████████████████▉     | 2260/2600 [01:08<00:10, 33.58it/s]"
     ]
    },
    {
     "name": "stdout",
     "output_type": "stream",
     "text": [
      "Energy: [6262.81317575 6270.48315464 6262.81317575 6278.14965186 6262.81317575\n",
      " 6262.81317575 6262.81317575 6262.81317575 6262.81317575 6262.81317575\n",
      " 6262.81317575]\n"
     ]
    },
    {
     "name": "stderr",
     "output_type": "stream",
     "text": [
      " 89%|██████████████████████████████████▌    | 2304/2600 [01:10<00:09, 32.40it/s]"
     ]
    },
    {
     "name": "stdout",
     "output_type": "stream",
     "text": [
      "Energy: [6262.81317575 6262.81317575 6270.48315464 6270.48315464 6262.81317575\n",
      " 6262.81317575 6262.81317575 6262.81317575 6262.81317575 6262.81317575\n",
      " 6262.81317575]\n"
     ]
    },
    {
     "name": "stderr",
     "output_type": "stream",
     "text": [
      " 91%|███████████████████████████████████▍   | 2360/2600 [01:11<00:07, 33.71it/s]"
     ]
    },
    {
     "name": "stdout",
     "output_type": "stream",
     "text": [
      "Energy: [6285.81267295 6262.81317575 6262.81317575 6270.48315464 6262.81317575\n",
      " 6262.81317575 6270.48315464 6262.81317575 6262.81317575 6262.81317575\n",
      " 6262.81317575]\n"
     ]
    },
    {
     "name": "stderr",
     "output_type": "stream",
     "text": [
      " 92%|████████████████████████████████████   | 2404/2600 [01:13<00:06, 31.80it/s]"
     ]
    },
    {
     "name": "stdout",
     "output_type": "stream",
     "text": [
      "Energy: [6278.35700574 6278.14965186 6262.81317575 6262.81317575 6262.81317575\n",
      " 6262.81317575 6270.48315464 6262.81317575 6262.81317575 6262.81317575\n",
      " 6262.81317575]\n"
     ]
    },
    {
     "name": "stderr",
     "output_type": "stream",
     "text": [
      " 94%|████████████████████████████████████▊  | 2456/2600 [01:14<00:04, 33.27it/s]"
     ]
    },
    {
     "name": "stdout",
     "output_type": "stream",
     "text": [
      "Energy: [6270.48315464 6286.02224386 6262.81317575 6270.48315464 6262.81317575\n",
      " 6262.81317575 6262.81317575 6262.81317575 6262.81317575 6262.81317575\n",
      " 6262.81317575]\n"
     ]
    },
    {
     "name": "stderr",
     "output_type": "stream",
     "text": [
      " 96%|█████████████████████████████████████▌ | 2508/2600 [01:16<00:02, 32.94it/s]"
     ]
    },
    {
     "name": "stdout",
     "output_type": "stream",
     "text": [
      "Energy: [6270.48315464 6270.48315464 6262.81317575 6262.81317575 6262.81317575\n",
      " 6262.81317575 6262.81317575 6262.81317575 6262.81317575 6262.81317575\n",
      " 6262.81317575]\n"
     ]
    },
    {
     "name": "stderr",
     "output_type": "stream",
     "text": [
      " 98%|██████████████████████████████████████▎| 2556/2600 [01:17<00:01, 33.56it/s]"
     ]
    },
    {
     "name": "stdout",
     "output_type": "stream",
     "text": [
      "Energy: [6293.47222341 6270.48315464 6262.81317575 6278.14965186 6262.81317575\n",
      " 6262.81317575 6262.81317575 6262.81317575 6262.81317575 6262.81317575\n",
      " 6262.81317575]\n"
     ]
    },
    {
     "name": "stderr",
     "output_type": "stream",
     "text": [
      "100%|███████████████████████████████████████| 2600/2600 [01:19<00:00, 32.78it/s]\n"
     ]
    },
    {
     "name": "stdout",
     "output_type": "stream",
     "text": [
      "Fin Energy_t 6262.8131757469455 Energy_gs 6262.8131757469455\n",
      "c_accep 0 c_rounds 0\n",
      "Elapsed (after compilation) = 79.32475352287292\n",
      "[[208 182 207 186 181 216 213 214 215 212 218 217]\n",
      " [208 182 207 186 181 216 213 214 215 212 218 217]\n",
      " [208 182 207 186 181 216 213 214 215 212 218 217]]\n",
      "[[208 182 207 186 181 216 213 214 215 212 218 217]\n",
      " [208 182 207 186 181 216 213 214 215 212 218 217]\n",
      " [208 182 207 186 181 216 213 214 215 212 218 217]]\n",
      "[[183 208 196 202 203 215 216 214 213 218 217 212]\n",
      " [183 208 196 202 203 215 216 214 213 218 217 212]\n",
      " [183 208 196 202 203 215 216 214 213 218 217 212]]\n",
      "[[183 206 204 194 191 213 212 214 216 215 217 218]\n",
      " [183 206 204 194 191 213 212 214 216 215 217 218]\n",
      " [183 206 204 194 191 213 212 214 216 215 217 218]]\n",
      "[[183 206 204 194 191 213 212 214 216 215 217 218]\n",
      " [183 206 204 194 191 213 212 214 216 215 217 218]\n",
      " [183 206 204 194 191 213 212 214 216 215 217 218]]\n",
      "[[197 205 181 202 198 214 212 218 215 216 217 213]\n",
      " [197 205 181 202 198 214 212 218 215 216 217 213]\n",
      " [197 205 181 202 198 214 212 218 215 216 217 213]]\n",
      "[[197 205 181 202 198 214 212 218 215 216 217 213]\n",
      " [197 205 181 202 198 214 212 218 215 216 217 213]\n",
      " [197 205 181 202 198 214 212 218 215 216 217 213]]\n",
      "[[197 205 181 202 198 214 212 218 215 216 217 213]\n",
      " [197 205 181 202 198 214 212 218 215 216 217 213]\n",
      " [197 205 181 202 198 214 212 218 215 216 217 213]]\n",
      "[[183 206 204 194 191 213 212 214 216 215 217 218]\n",
      " [183 206 204 194 191 213 212 214 216 215 217 218]\n",
      " [183 206 204 194 191 213 212 214 216 215 217 218]]\n",
      "[[183 206 204 194 191 213 212 214 216 215 217 218]\n",
      " [183 206 204 194 191 213 212 214 216 215 217 218]\n",
      " [183 206 204 194 191 213 212 214 216 215 217 218]]\n",
      "[[183 206 204 194 191 213 212 214 216 215 217 218]\n",
      " [183 206 204 194 191 213 212 214 216 215 217 218]\n",
      " [183 206 204 194 191 213 212 214 216 215 217 218]]\n",
      "[[183 202 185 206 209 218 213 214 215 216 212 217]\n",
      " [183 202 185 206 209 218 213 214 215 216 212 217]\n",
      " [183 202 185 206 209 218 213 214 215 216 212 217]]\n",
      "[[183 202 185 206 209 218 213 214 215 216 212 217]\n",
      " [183 202 185 206 209 218 213 214 215 216 212 217]\n",
      " [183 202 185 206 209 218 213 214 215 216 212 217]]\n",
      "[[183 206 204 194 191 213 212 214 216 215 217 218]\n",
      " [183 206 204 194 191 213 212 214 216 215 217 218]\n",
      " [183 206 204 194 191 213 212 214 216 215 217 218]]\n",
      "[[183 202 185 206 209 218 213 214 215 216 212 217]\n",
      " [183 202 185 206 209 218 213 214 215 216 212 217]\n",
      " [183 202 185 206 209 218 213 214 215 216 212 217]]\n",
      "[[183 202 185 206 209 218 213 214 215 216 212 217]\n",
      " [183 202 185 206 209 218 213 214 215 216 212 217]\n",
      " [183 202 185 206 209 218 213 214 215 216 212 217]]\n",
      "[[201 200 209 202 192 218 214 213 215 216 217 212]\n",
      " [201 200 209 202 192 218 214 213 215 216 217 212]\n",
      " [201 200 209 202 192 218 214 213 215 216 217 212]]\n",
      "[[183 202 185 206 209 218 213 214 215 216 212 217]\n",
      " [183 202 185 206 209 218 213 214 215 216 212 217]\n",
      " [183 202 185 206 209 218 213 214 215 216 212 217]]\n",
      "[[201 200 209 202 192 218 214 213 215 216 217 212]\n",
      " [201 200 209 202 192 218 214 213 215 216 217 212]\n",
      " [201 200 209 202 192 218 214 213 215 216 217 212]]\n",
      "[[201 200 209 202 192 218 214 213 215 216 217 212]\n",
      " [201 200 209 202 192 218 214 213 215 216 217 212]\n",
      " [201 200 209 202 192 218 214 213 215 216 217 212]]\n",
      "[[185 208 209 195 181 213 216 212 215 214 217 218]\n",
      " [185 208 209 195 181 213 216 212 215 214 217 218]\n",
      " [185 208 209 195 181 213 216 212 215 214 217 218]]\n",
      "[[185 208 209 195 181 213 216 212 215 214 217 218]\n",
      " [185 208 209 195 181 213 216 212 215 214 217 218]\n",
      " [185 208 209 195 181 213 216 212 215 214 217 218]]\n",
      "[[198 187 205 183 190 214 217 213 215 212 218 216]\n",
      " [198 187 205 183 190 214 217 213 215 212 218 216]\n",
      " [198 187 205 183 190 214 217 213 215 212 218 216]]\n",
      "[[198 187 205 183 190 214 217 213 215 212 218 216]\n",
      " [198 187 205 183 190 214 217 213 215 212 218 216]\n",
      " [198 187 205 183 190 214 217 213 215 212 218 216]]\n",
      "[[185 208 209 195 181 213 216 212 215 214 217 218]\n",
      " [185 208 209 195 181 213 216 212 215 214 217 218]\n",
      " [185 208 209 195 181 213 216 212 215 214 217 218]]\n",
      "[[185 208 209 195 181 213 216 212 215 214 217 218]\n",
      " [185 208 209 195 181 213 216 212 215 214 217 218]\n",
      " [185 208 209 195 181 213 216 212 215 214 217 218]]\n",
      "[[198 187 205 183 190 214 217 213 215 212 218 216]\n",
      " [198 187 205 183 190 214 217 213 215 212 218 216]\n",
      " [198 187 205 183 190 214 217 213 215 212 218 216]]\n",
      "[[198 188 187 210 211 214 217 212 215 213 218 216]\n",
      " [198 188 187 210 211 214 217 212 215 213 218 216]\n",
      " [198 188 187 210 211 214 217 212 215 213 218 216]]\n",
      "[[183 206 204 194 191 213 212 214 216 215 217 218]\n",
      " [183 206 204 194 191 213 212 214 216 215 217 218]\n",
      " [183 206 204 194 191 213 212 214 216 215 217 218]]\n",
      "[[183 206 204 194 191 213 212 214 216 215 217 218]\n",
      " [183 206 204 194 191 213 212 214 216 215 217 218]\n",
      " [183 206 204 194 191 213 212 214 216 215 217 218]]\n",
      "[[185 208 209 195 181 213 216 212 215 214 217 218]\n",
      " [185 208 209 195 181 213 216 212 215 214 217 218]\n",
      " [185 208 209 195 181 213 216 212 215 214 217 218]]\n",
      "[[185 208 209 195 181 213 216 212 215 214 217 218]\n",
      " [185 208 209 195 181 213 216 212 215 214 217 218]\n",
      " [185 208 209 195 181 213 216 212 215 214 217 218]]\n",
      "[[185 208 209 195 181 213 216 212 215 214 217 218]\n",
      " [185 208 209 195 181 213 216 212 215 214 217 218]\n",
      " [185 208 209 195 181 213 216 212 215 214 217 218]]\n",
      "[[183 206 204 194 191 213 212 214 216 215 217 218]\n",
      " [183 206 204 194 191 213 212 214 216 215 217 218]\n",
      " [183 206 204 194 191 213 212 214 216 215 217 218]]\n",
      "[[185 208 209 195 181 213 216 212 215 214 217 218]\n",
      " [185 208 209 195 181 213 216 212 215 214 217 218]\n",
      " [185 208 209 195 181 213 216 212 215 214 217 218]]\n",
      "[[185 208 209 195 181 213 216 212 215 214 217 218]\n",
      " [185 208 209 195 181 213 216 212 215 214 217 218]\n",
      " [185 208 209 195 181 213 216 212 215 214 217 218]]\n",
      "[[185 208 209 195 181 213 216 212 215 214 217 218]\n",
      " [185 208 209 195 181 213 216 212 215 214 217 218]\n",
      " [185 208 209 195 181 213 216 212 215 214 217 218]]\n",
      "[[183 206 204 194 191 213 212 214 216 215 217 218]\n",
      " [183 206 204 194 191 213 212 214 216 215 217 218]\n",
      " [183 206 204 194 191 213 212 214 216 215 217 218]]\n",
      "[[195 202 199 209 189 216 214 213 215 212 218 217]\n",
      " [195 202 199 209 189 216 214 213 215 212 218 217]\n",
      " [195 202 199 209 189 216 214 213 215 212 218 217]]\n",
      "[[183 206 204 194 191 213 212 214 216 215 217 218]\n",
      " [183 206 204 194 191 213 212 214 216 215 217 218]\n",
      " [183 206 204 194 191 213 212 214 216 215 217 218]]\n",
      "[0.99086758] [0.99086758]\n",
      "i_reps 7\n",
      "Energía ini: 23697.178185750312 /gs: 6290.642820754183\n"
     ]
    },
    {
     "name": "stderr",
     "output_type": "stream",
     "text": [
      " 23%|█████████▎                              | 608/2600 [00:18<00:58, 34.13it/s]"
     ]
    },
    {
     "name": "stdout",
     "output_type": "stream",
     "text": [
      "Energy: [6451.83508914 6474.22798542 6405.4224267  6305.90511645 6290.64282075\n",
      " 6290.64282075 6297.97163626 6290.64282075 6290.64282075 6290.64282075\n",
      " 6290.64282075]\n"
     ]
    },
    {
     "name": "stderr",
     "output_type": "stream",
     "text": [
      " 25%|██████████                              | 656/2600 [00:19<00:57, 33.94it/s]"
     ]
    },
    {
     "name": "stdout",
     "output_type": "stream",
     "text": [
      "Energy: [6435.42198414 6298.27567202 6405.4224267  6290.64282075 6290.64282075\n",
      " 6290.64282075 6290.64282075 6290.64282075 6290.64282075 6290.64282075\n",
      " 6290.64282075]\n"
     ]
    },
    {
     "name": "stderr",
     "output_type": "stream",
     "text": [
      " 27%|██████████▉                             | 708/2600 [00:21<00:59, 31.66it/s]"
     ]
    },
    {
     "name": "stdout",
     "output_type": "stream",
     "text": [
      "Energy: [6298.27567202 6405.4224267  6305.90511645 6290.64282075 6290.64282075\n",
      " 6290.64282075 6290.64282075 6290.64282075 6290.64282075 6290.64282075\n",
      " 6290.64282075]\n"
     ]
    },
    {
     "name": "stderr",
     "output_type": "stream",
     "text": [
      " 29%|███████████▋                            | 756/2600 [00:23<00:54, 33.81it/s]"
     ]
    },
    {
     "name": "stdout",
     "output_type": "stream",
     "text": [
      "Energy: [6397.83283878 6298.27567202 6297.97163626 6290.64282075 6290.64282075\n",
      " 6290.64282075 6290.64282075 6290.64282075 6290.64282075 6290.64282075\n",
      " 6290.64282075]\n"
     ]
    },
    {
     "name": "stderr",
     "output_type": "stream",
     "text": [
      " 31%|████████████▎                           | 804/2600 [00:24<00:53, 33.35it/s]"
     ]
    },
    {
     "name": "stdout",
     "output_type": "stream",
     "text": [
      "Energy: [6397.83283878 6298.27567202 6290.64282075 6290.64282075 6290.64282075\n",
      " 6290.64282075 6290.64282075 6290.64282075 6290.64282075 6290.64282075\n",
      " 6290.64282075]\n"
     ]
    },
    {
     "name": "stderr",
     "output_type": "stream",
     "text": [
      " 33%|█████████████▏                          | 856/2600 [00:26<00:53, 32.69it/s]"
     ]
    },
    {
     "name": "stdout",
     "output_type": "stream",
     "text": [
      "Energy: [6397.83283878 6290.64282075 6290.64282075 6290.64282075 6290.64282075\n",
      " 6290.64282075 6290.64282075 6290.64282075 6290.64282075 6290.64282075\n",
      " 6290.64282075]\n"
     ]
    },
    {
     "name": "stderr",
     "output_type": "stream",
     "text": [
      " 35%|█████████████▉                          | 908/2600 [00:27<00:50, 33.80it/s]"
     ]
    },
    {
     "name": "stdout",
     "output_type": "stream",
     "text": [
      "Energy: [6413.00867106 6298.27567202 6290.64282075 6305.90511645 6290.64282075\n",
      " 6290.64282075 6290.64282075 6290.64282075 6290.64282075 6290.64282075\n",
      " 6290.64282075]\n"
     ]
    },
    {
     "name": "stderr",
     "output_type": "stream",
     "text": [
      " 37%|██████████████▊                         | 960/2600 [00:29<00:49, 33.41it/s]"
     ]
    },
    {
     "name": "stdout",
     "output_type": "stream",
     "text": [
      "Energy: [6290.64282075 6313.5311593  6290.64282075 6298.27567202 6290.64282075\n",
      " 6298.27567202 6290.64282075 6290.64282075 6290.64282075 6290.64282075\n",
      " 6290.64282075]\n"
     ]
    },
    {
     "name": "stderr",
     "output_type": "stream",
     "text": [
      " 39%|███████████████                        | 1004/2600 [00:30<00:48, 33.24it/s]"
     ]
    },
    {
     "name": "stdout",
     "output_type": "stream",
     "text": [
      "Energy: [6297.97163626 6290.64282075 6297.97163626 6297.97163626 6290.64282075\n",
      " 6290.64282075 6290.64282075 6290.64282075 6290.64282075 6290.64282075\n",
      " 6290.64282075]\n"
     ]
    },
    {
     "name": "stderr",
     "output_type": "stream",
     "text": [
      " 41%|███████████████▉                       | 1060/2600 [00:32<00:46, 33.32it/s]"
     ]
    },
    {
     "name": "stdout",
     "output_type": "stream",
     "text": [
      "Energy: [6290.64282075 6290.64282075 6305.90511645 6290.64282075 6290.64282075\n",
      " 6290.64282075 6290.64282075 6290.64282075 6290.64282075 6290.64282075\n",
      " 6290.64282075]\n"
     ]
    },
    {
     "name": "stderr",
     "output_type": "stream",
     "text": [
      " 42%|████████████████▌                      | 1104/2600 [00:33<00:44, 33.61it/s]"
     ]
    },
    {
     "name": "stdout",
     "output_type": "stream",
     "text": [
      "Energy: [6290.64282075 6290.64282075 6290.64282075 6290.64282075 6290.64282075\n",
      " 6290.64282075 6290.64282075 6290.64282075 6290.64282075 6290.64282075\n",
      " 6290.64282075]\n"
     ]
    },
    {
     "name": "stderr",
     "output_type": "stream",
     "text": [
      " 44%|█████████████████▎                     | 1156/2600 [00:35<00:45, 31.96it/s]"
     ]
    },
    {
     "name": "stdout",
     "output_type": "stream",
     "text": [
      "Energy: [6290.64282075 6290.64282075 6290.64282075 6290.64282075 6290.64282075\n",
      " 6290.64282075 6290.64282075 6290.64282075 6290.64282075 6290.64282075\n",
      " 6290.64282075]\n"
     ]
    },
    {
     "name": "stderr",
     "output_type": "stream",
     "text": [
      " 46%|██████████████████                     | 1206/2600 [00:36<00:47, 29.46it/s]"
     ]
    },
    {
     "name": "stdout",
     "output_type": "stream",
     "text": [
      "Energy: [6305.90511645 6290.64282075 6290.64282075 6290.64282075 6290.64282075\n",
      " 6290.64282075 6290.64282075 6290.64282075 6290.64282075 6290.64282075\n",
      " 6290.64282075]\n"
     ]
    },
    {
     "name": "stderr",
     "output_type": "stream",
     "text": [
      " 48%|██████████████████▊                    | 1258/2600 [00:38<00:40, 33.02it/s]"
     ]
    },
    {
     "name": "stdout",
     "output_type": "stream",
     "text": [
      "Energy: [6313.5311593  6290.64282075 6290.64282075 6290.64282075 6290.64282075\n",
      " 6290.64282075 6290.64282075 6290.64282075 6290.64282075 6290.64282075\n",
      " 6290.64282075]\n"
     ]
    },
    {
     "name": "stderr",
     "output_type": "stream",
     "text": [
      " 50%|███████████████████▌                   | 1306/2600 [00:39<00:38, 33.19it/s]"
     ]
    },
    {
     "name": "stdout",
     "output_type": "stream",
     "text": [
      "Energy: [6305.90511645 6290.64282075 6290.64282075 6290.64282075 6290.64282075\n",
      " 6290.64282075 6290.64282075 6290.64282075 6290.64282075 6290.64282075\n",
      " 6290.64282075]\n"
     ]
    },
    {
     "name": "stderr",
     "output_type": "stream",
     "text": [
      " 52%|████████████████████▎                  | 1358/2600 [00:41<00:39, 31.20it/s]"
     ]
    },
    {
     "name": "stdout",
     "output_type": "stream",
     "text": [
      "Energy: [6328.77306115 6290.64282075 6290.64282075 6298.27567202 6290.64282075\n",
      " 6290.64282075 6290.64282075 6290.64282075 6290.64282075 6290.64282075\n",
      " 6290.64282075]\n"
     ]
    },
    {
     "name": "stderr",
     "output_type": "stream",
     "text": [
      " 54%|█████████████████████                  | 1406/2600 [00:42<00:36, 33.15it/s]"
     ]
    },
    {
     "name": "stdout",
     "output_type": "stream",
     "text": [
      "Energy: [6313.22309669 6290.64282075 6290.64282075 6290.64282075 6298.27567202\n",
      " 6290.64282075 6290.64282075 6290.64282075 6290.64282075 6290.64282075\n",
      " 6290.64282075]\n"
     ]
    },
    {
     "name": "stderr",
     "output_type": "stream",
     "text": [
      " 56%|█████████████████████▊                 | 1454/2600 [00:44<00:34, 33.59it/s]"
     ]
    },
    {
     "name": "stdout",
     "output_type": "stream",
     "text": [
      "Energy: [6298.27567202 6290.64282075 6290.64282075 6290.64282075 6298.27567202\n",
      " 6290.64282075 6290.64282075 6290.64282075 6290.64282075 6290.64282075\n",
      " 6290.64282075]\n"
     ]
    },
    {
     "name": "stderr",
     "output_type": "stream",
     "text": [
      " 58%|██████████████████████▌                | 1506/2600 [00:45<00:32, 33.21it/s]"
     ]
    },
    {
     "name": "stdout",
     "output_type": "stream",
     "text": [
      "Energy: [6320.84373643 6298.27567202 6290.64282075 6290.64282075 6290.64282075\n",
      " 6290.64282075 6290.64282075 6290.64282075 6290.64282075 6290.64282075\n",
      " 6290.64282075]\n"
     ]
    },
    {
     "name": "stderr",
     "output_type": "stream",
     "text": [
      " 60%|███████████████████████▎               | 1554/2600 [00:47<00:31, 33.54it/s]"
     ]
    },
    {
     "name": "stdout",
     "output_type": "stream",
     "text": [
      "Energy: [6297.97163626 6298.27567202 6297.97163626 6290.64282075 6290.64282075\n",
      " 6290.64282075 6290.64282075 6290.64282075 6290.64282075 6290.64282075\n",
      " 6290.64282075]\n"
     ]
    },
    {
     "name": "stderr",
     "output_type": "stream",
     "text": [
      " 62%|████████████████████████               | 1606/2600 [00:48<00:29, 34.02it/s]"
     ]
    },
    {
     "name": "stdout",
     "output_type": "stream",
     "text": [
      "Energy: [6290.64282075 6290.64282075 6305.59906504 6290.64282075 6290.64282075\n",
      " 6290.64282075 6290.64282075 6290.64282075 6290.64282075 6290.64282075\n",
      " 6290.64282075]\n"
     ]
    },
    {
     "name": "stderr",
     "output_type": "stream",
     "text": [
      " 64%|████████████████████████▊              | 1658/2600 [00:50<00:27, 33.79it/s]"
     ]
    },
    {
     "name": "stdout",
     "output_type": "stream",
     "text": [
      "Energy: [6290.64282075 6290.64282075 6290.64282075 6290.64282075 6305.59906504\n",
      " 6298.27567202 6290.64282075 6290.64282075 6290.64282075 6290.64282075\n",
      " 6290.64282075]\n"
     ]
    },
    {
     "name": "stderr",
     "output_type": "stream",
     "text": [
      " 66%|█████████████████████████▋             | 1710/2600 [00:51<00:26, 33.63it/s]"
     ]
    },
    {
     "name": "stdout",
     "output_type": "stream",
     "text": [
      "Energy: [6290.64282075 6329.0778213  6290.64282075 6298.27567202 6298.27567202\n",
      " 6290.64282075 6298.27567202 6290.64282075 6290.64282075 6290.64282075\n",
      " 6290.64282075]\n"
     ]
    },
    {
     "name": "stderr",
     "output_type": "stream",
     "text": [
      " 68%|██████████████████████████▎            | 1758/2600 [00:53<00:25, 33.32it/s]"
     ]
    },
    {
     "name": "stdout",
     "output_type": "stream",
     "text": [
      "Energy: [6290.64282075 6305.90511645 6298.27567202 6290.64282075 6290.64282075\n",
      " 6290.64282075 6298.27567202 6290.64282075 6290.64282075 6290.64282075\n",
      " 6290.64282075]\n"
     ]
    },
    {
     "name": "stderr",
     "output_type": "stream",
     "text": [
      " 69%|███████████████████████████            | 1806/2600 [00:54<00:23, 33.76it/s]"
     ]
    },
    {
     "name": "stdout",
     "output_type": "stream",
     "text": [
      "Energy: [6298.27567202 6305.90511645 6290.64282075 6290.64282075 6290.64282075\n",
      " 6290.64282075 6290.64282075 6290.64282075 6290.64282075 6290.64282075\n",
      " 6290.64282075]\n"
     ]
    },
    {
     "name": "stderr",
     "output_type": "stream",
     "text": [
      " 71%|███████████████████████████▊           | 1854/2600 [00:56<00:22, 33.73it/s]"
     ]
    },
    {
     "name": "stdout",
     "output_type": "stream",
     "text": [
      "Energy: [6305.90511645 6297.97163626 6298.27567202 6290.64282075 6290.64282075\n",
      " 6290.64282075 6290.64282075 6290.64282075 6290.64282075 6290.64282075\n",
      " 6290.64282075]\n"
     ]
    },
    {
     "name": "stderr",
     "output_type": "stream",
     "text": [
      " 73%|████████████████████████████▌          | 1906/2600 [00:57<00:20, 33.45it/s]"
     ]
    },
    {
     "name": "stdout",
     "output_type": "stream",
     "text": [
      "Energy: [6290.64282075 6290.64282075 6290.64282075 6290.64282075 6305.90511645\n",
      " 6290.64282075 6290.64282075 6290.64282075 6290.64282075 6290.64282075\n",
      " 6290.64282075]\n"
     ]
    },
    {
     "name": "stderr",
     "output_type": "stream",
     "text": [
      " 75%|█████████████████████████████▎         | 1958/2600 [00:59<00:18, 35.08it/s]"
     ]
    },
    {
     "name": "stdout",
     "output_type": "stream",
     "text": [
      "Energy: [6290.64282075 6297.97163626 6290.64282075 6313.22309669 6290.64282075\n",
      " 6305.90511645 6290.64282075 6290.64282075 6290.64282075 6290.64282075\n",
      " 6290.64282075]\n"
     ]
    },
    {
     "name": "stderr",
     "output_type": "stream",
     "text": [
      " 77%|██████████████████████████████         | 2006/2600 [01:00<00:17, 34.73it/s]"
     ]
    },
    {
     "name": "stdout",
     "output_type": "stream",
     "text": [
      "Energy: [6290.64282075 6297.97163626 6290.64282075 6297.97163626 6313.5311593\n",
      " 6290.64282075 6290.64282075 6290.64282075 6290.64282075 6290.64282075\n",
      " 6290.64282075]\n"
     ]
    },
    {
     "name": "stderr",
     "output_type": "stream",
     "text": [
      " 79%|██████████████████████████████▊        | 2054/2600 [01:02<00:16, 33.06it/s]"
     ]
    },
    {
     "name": "stdout",
     "output_type": "stream",
     "text": [
      "Energy: [6290.64282075 6290.64282075 6313.83188065 6313.83188065 6290.64282075\n",
      " 6290.64282075 6290.64282075 6298.27567202 6290.64282075 6290.64282075\n",
      " 6290.64282075]\n"
     ]
    },
    {
     "name": "stderr",
     "output_type": "stream",
     "text": [
      " 81%|███████████████████████████████▌       | 2106/2600 [01:03<00:15, 32.54it/s]"
     ]
    },
    {
     "name": "stdout",
     "output_type": "stream",
     "text": [
      "Energy: [6298.27567202 6298.27567202 6290.64282075 6290.64282075 6290.64282075\n",
      " 6290.64282075 6290.64282075 6290.64282075 6290.64282075 6290.64282075\n",
      " 6290.64282075]\n"
     ]
    },
    {
     "name": "stderr",
     "output_type": "stream",
     "text": [
      " 83%|████████████████████████████████▎      | 2158/2600 [01:05<00:13, 32.87it/s]"
     ]
    },
    {
     "name": "stdout",
     "output_type": "stream",
     "text": [
      "Energy: [6298.27567202 6290.64282075 6290.64282075 6290.64282075 6290.64282075\n",
      " 6290.64282075 6290.64282075 6290.64282075 6290.64282075 6290.64282075\n",
      " 6290.64282075]\n"
     ]
    },
    {
     "name": "stderr",
     "output_type": "stream",
     "text": [
      " 85%|█████████████████████████████████      | 2206/2600 [01:06<00:11, 34.95it/s]"
     ]
    },
    {
     "name": "stdout",
     "output_type": "stream",
     "text": [
      "Energy: [6305.59906504 6290.64282075 6298.27567202 6290.64282075 6290.64282075\n",
      " 6290.64282075 6290.64282075 6290.64282075 6290.64282075 6290.64282075\n",
      " 6290.64282075]\n"
     ]
    },
    {
     "name": "stderr",
     "output_type": "stream",
     "text": [
      " 87%|█████████████████████████████████▊     | 2258/2600 [01:08<00:10, 33.82it/s]"
     ]
    },
    {
     "name": "stdout",
     "output_type": "stream",
     "text": [
      "Energy: [6298.27567202 6298.27567202 6298.27567202 6290.64282075 6290.64282075\n",
      " 6290.64282075 6290.64282075 6290.64282075 6290.64282075 6290.64282075\n",
      " 6290.64282075]\n"
     ]
    },
    {
     "name": "stderr",
     "output_type": "stream",
     "text": [
      " 89%|██████████████████████████████████▌    | 2306/2600 [01:09<00:08, 34.82it/s]"
     ]
    },
    {
     "name": "stdout",
     "output_type": "stream",
     "text": [
      "Energy: [6305.59906504 6298.27567202 6298.27567202 6290.64282075 6290.64282075\n",
      " 6290.64282075 6290.64282075 6290.64282075 6290.64282075 6290.64282075\n",
      " 6290.64282075]\n"
     ]
    },
    {
     "name": "stderr",
     "output_type": "stream",
     "text": [
      " 91%|███████████████████████████████████▎   | 2354/2600 [01:11<00:07, 33.93it/s]"
     ]
    },
    {
     "name": "stdout",
     "output_type": "stream",
     "text": [
      "Energy: [6298.27567202 6290.64282075 6290.64282075 6290.64282075 6290.64282075\n",
      " 6290.64282075 6290.64282075 6290.64282075 6290.64282075 6290.64282075\n",
      " 6290.64282075]\n"
     ]
    },
    {
     "name": "stderr",
     "output_type": "stream",
     "text": [
      " 93%|████████████████████████████████████   | 2406/2600 [01:12<00:05, 34.56it/s]"
     ]
    },
    {
     "name": "stdout",
     "output_type": "stream",
     "text": [
      "Energy: [6298.27567202 6290.64282075 6290.64282075 6290.64282075 6290.64282075\n",
      " 6290.64282075 6290.64282075 6290.64282075 6290.64282075 6290.64282075\n",
      " 6290.64282075]\n"
     ]
    },
    {
     "name": "stderr",
     "output_type": "stream",
     "text": [
      " 94%|████████████████████████████████████▊  | 2454/2600 [01:14<00:04, 34.49it/s]"
     ]
    },
    {
     "name": "stdout",
     "output_type": "stream",
     "text": [
      "Energy: [6313.22309669 6290.64282075 6290.64282075 6298.27567202 6290.64282075\n",
      " 6290.64282075 6290.64282075 6290.64282075 6290.64282075 6290.64282075\n",
      " 6290.64282075]\n"
     ]
    },
    {
     "name": "stderr",
     "output_type": "stream",
     "text": [
      " 96%|█████████████████████████████████████▌ | 2506/2600 [01:15<00:02, 31.99it/s]"
     ]
    },
    {
     "name": "stdout",
     "output_type": "stream",
     "text": [
      "Energy: [6290.64282075 6305.90511645 6290.64282075 6290.64282075 6290.64282075\n",
      " 6298.27567202 6290.64282075 6290.64282075 6290.64282075 6290.64282075\n",
      " 6290.64282075]\n"
     ]
    },
    {
     "name": "stderr",
     "output_type": "stream",
     "text": [
      " 98%|██████████████████████████████████████▎| 2554/2600 [01:17<00:01, 32.10it/s]"
     ]
    },
    {
     "name": "stdout",
     "output_type": "stream",
     "text": [
      "Energy: [6290.64282075 6297.97163626 6297.97163626 6290.64282075 6290.64282075\n",
      " 6290.64282075 6298.27567202 6290.64282075 6290.64282075 6290.64282075\n",
      " 6290.64282075]\n"
     ]
    },
    {
     "name": "stderr",
     "output_type": "stream",
     "text": [
      "100%|███████████████████████████████████████| 2600/2600 [01:18<00:00, 33.14it/s]\n"
     ]
    },
    {
     "name": "stdout",
     "output_type": "stream",
     "text": [
      "Fin Energy_t 6290.642820754183 Energy_gs 6290.642820754183\n",
      "c_accep 0 c_rounds 0\n",
      "Elapsed (after compilation) = 78.46024560928345\n",
      "[[202 209 201 210 198 212 216 214 213 217 215 218]\n",
      " [202 209 201 210 198 212 216 214 213 217 215 218]\n",
      " [202 209 201 210 198 212 216 214 213 217 215 218]]\n",
      "[[210 204 185 184 207 213 218 214 215 212 217 216]\n",
      " [210 204 185 184 207 213 218 214 215 212 217 216]\n",
      " [210 204 185 184 207 213 218 214 215 212 217 216]]\n",
      "[[210 204 185 184 207 213 218 214 215 212 217 216]\n",
      " [210 204 185 184 207 213 218 214 215 212 217 216]\n",
      " [210 204 185 184 207 213 218 214 215 212 217 216]]\n",
      "[[196 195 201 185 199 212 215 218 217 216 213 214]\n",
      " [196 195 201 185 199 212 215 218 217 216 213 214]\n",
      " [196 195 201 185 199 212 215 218 217 216 213 214]]\n",
      "[[196 195 201 185 199 212 215 218 217 216 213 214]\n",
      " [196 195 201 185 199 212 215 218 217 216 213 214]\n",
      " [196 195 201 185 199 212 215 218 217 216 213 214]]\n",
      "[[210 204 185 184 207 213 218 214 215 212 217 216]\n",
      " [210 204 185 184 207 213 218 214 215 212 217 216]\n",
      " [210 204 185 184 207 213 218 214 215 212 217 216]]\n",
      "[[196 195 201 185 199 212 215 218 217 216 213 214]\n",
      " [196 195 201 185 199 212 215 218 217 216 213 214]\n",
      " [196 195 201 185 199 212 215 218 217 216 213 214]]\n",
      "[[181 211 194 210 203 218 213 216 212 217 215 214]\n",
      " [181 211 194 210 203 218 213 216 212 217 215 214]\n",
      " [181 211 194 210 203 218 213 216 212 217 215 214]]\n",
      "[[210 204 185 184 207 213 218 214 215 212 217 216]\n",
      " [210 204 185 184 207 213 218 214 215 212 217 216]\n",
      " [210 204 185 184 207 213 218 214 215 212 217 216]]\n",
      "[[202 209 201 210 198 212 216 214 213 217 215 218]\n",
      " [202 209 201 210 198 212 216 214 213 217 215 218]\n",
      " [202 209 201 210 198 212 216 214 213 217 215 218]]\n",
      "[[181 211 194 210 203 218 213 216 212 217 215 214]\n",
      " [181 211 194 210 203 218 213 216 212 217 215 214]\n",
      " [181 211 194 210 203 218 213 216 212 217 215 214]]\n",
      "[[196 195 201 185 199 212 215 218 217 216 213 214]\n",
      " [196 195 201 185 199 212 215 218 217 216 213 214]\n",
      " [196 195 201 185 199 212 215 218 217 216 213 214]]\n",
      "[[196 195 201 185 199 212 215 218 217 216 213 214]\n",
      " [196 195 201 185 199 212 215 218 217 216 213 214]\n",
      " [196 195 201 185 199 212 215 218 217 216 213 214]]\n",
      "[[181 211 194 210 203 218 213 216 212 217 215 214]\n",
      " [181 211 194 210 203 218 213 216 212 217 215 214]\n",
      " [181 211 194 210 203 218 213 216 212 217 215 214]]\n",
      "[[181 211 194 210 203 218 213 216 212 217 215 214]\n",
      " [181 211 194 210 203 218 213 216 212 217 215 214]\n",
      " [181 211 194 210 203 218 213 216 212 217 215 214]]\n",
      "[[196 195 201 185 199 212 215 218 217 216 213 214]\n",
      " [196 195 201 185 199 212 215 218 217 216 213 214]\n",
      " [196 195 201 185 199 212 215 218 217 216 213 214]]\n",
      "[[181 211 194 210 203 218 213 216 212 217 215 214]\n",
      " [181 211 194 210 203 218 213 216 212 217 215 214]\n",
      " [181 211 194 210 203 218 213 216 212 217 215 214]]\n",
      "[[181 211 194 210 203 218 213 216 212 217 215 214]\n",
      " [181 211 194 210 203 218 213 216 212 217 215 214]\n",
      " [181 211 194 210 203 218 213 216 212 217 215 214]]\n",
      "[[181 211 194 210 203 218 213 216 212 217 215 214]\n",
      " [181 211 194 210 203 218 213 216 212 217 215 214]\n",
      " [181 211 194 210 203 218 213 216 212 217 215 214]]\n",
      "[[181 211 194 210 203 218 213 216 212 217 215 214]\n",
      " [181 211 194 210 203 218 213 216 212 217 215 214]\n",
      " [181 211 194 210 203 218 213 216 212 217 215 214]]\n",
      "[[210 204 185 184 207 213 218 214 215 212 217 216]\n",
      " [210 204 185 184 207 213 218 214 215 212 217 216]\n",
      " [210 204 185 184 207 213 218 214 215 212 217 216]]\n",
      "[[181 211 194 210 203 218 213 216 212 217 215 214]\n",
      " [181 211 194 210 203 218 213 216 212 217 215 214]\n",
      " [181 211 194 210 203 218 213 216 212 217 215 214]]\n",
      "[[181 211 194 210 203 218 213 216 212 217 215 214]\n",
      " [181 211 194 210 203 218 213 216 212 217 215 214]\n",
      " [181 211 194 210 203 218 213 216 212 217 215 214]]\n",
      "[[181 211 194 210 203 218 213 216 212 217 215 214]\n",
      " [181 211 194 210 203 218 213 216 212 217 215 214]\n",
      " [181 211 194 210 203 218 213 216 212 217 215 214]]\n",
      "[[210 204 185 184 207 213 218 214 215 212 217 216]\n",
      " [210 204 185 184 207 213 218 214 215 212 217 216]\n",
      " [210 204 185 184 207 213 218 214 215 212 217 216]]\n",
      "[[210 204 185 184 207 213 218 214 215 212 217 216]\n",
      " [210 204 185 184 207 213 218 214 215 212 217 216]\n",
      " [210 204 185 184 207 213 218 214 215 212 217 216]]\n",
      "[[210 204 185 184 207 213 218 214 215 212 217 216]\n",
      " [210 204 185 184 207 213 218 214 215 212 217 216]\n",
      " [210 204 185 184 207 213 218 214 215 212 217 216]]\n",
      "[[181 211 194 210 203 218 213 216 212 217 215 214]\n",
      " [181 211 194 210 203 218 213 216 212 217 215 214]\n",
      " [181 211 194 210 203 218 213 216 212 217 215 214]]\n",
      "[[196 195 201 185 199 212 215 218 217 216 213 214]\n",
      " [196 195 201 185 199 212 215 218 217 216 213 214]\n",
      " [196 195 201 185 199 212 215 218 217 216 213 214]]\n",
      "[[210 204 185 184 207 213 218 214 215 212 217 216]\n",
      " [210 204 185 184 207 213 218 214 215 212 217 216]\n",
      " [210 204 185 184 207 213 218 214 215 212 217 216]]\n",
      "[[210 204 185 184 207 213 218 214 215 212 217 216]\n",
      " [210 204 185 184 207 213 218 214 215 212 217 216]\n",
      " [210 204 185 184 207 213 218 214 215 212 217 216]]\n",
      "[[181 211 194 210 203 218 213 216 212 217 215 214]\n",
      " [181 211 194 210 203 218 213 216 212 217 215 214]\n",
      " [181 211 194 210 203 218 213 216 212 217 215 214]]\n",
      "[[196 195 201 185 199 212 215 218 217 216 213 214]\n",
      " [196 195 201 185 199 212 215 218 217 216 213 214]\n",
      " [196 195 201 185 199 212 215 218 217 216 213 214]]\n",
      "[[196 195 201 185 199 212 215 218 217 216 213 214]\n",
      " [196 195 201 185 199 212 215 218 217 216 213 214]\n",
      " [196 195 201 185 199 212 215 218 217 216 213 214]]\n",
      "[[196 195 201 185 199 212 215 218 217 216 213 214]\n",
      " [196 195 201 185 199 212 215 218 217 216 213 214]\n",
      " [196 195 201 185 199 212 215 218 217 216 213 214]]\n",
      "[[189 186 198 203 190 214 217 212 215 216 213 218]\n",
      " [189 186 198 203 190 214 217 212 215 216 213 218]\n",
      " [189 186 198 203 190 214 217 212 215 216 213 218]]\n",
      "[[196 195 201 185 199 212 215 218 217 216 213 214]\n",
      " [196 195 201 185 199 212 215 218 217 216 213 214]\n",
      " [196 195 201 185 199 212 215 218 217 216 213 214]]\n",
      "[[189 186 198 203 190 214 217 212 215 216 213 218]\n",
      " [189 186 198 203 190 214 217 212 215 216 213 218]\n",
      " [189 186 198 203 190 214 217 212 215 216 213 218]]\n",
      "[[181 211 194 210 203 218 213 216 212 217 215 214]\n",
      " [181 211 194 210 203 218 213 216 212 217 215 214]\n",
      " [181 211 194 210 203 218 213 216 212 217 215 214]]\n",
      "[[181 211 194 210 203 218 213 216 212 217 215 214]\n",
      " [181 211 194 210 203 218 213 216 212 217 215 214]\n",
      " [181 211 194 210 203 218 213 216 212 217 215 214]]\n",
      "[1.] [1.]\n",
      "i_reps 8\n",
      "Energía ini: 23734.157682364057 /gs: 6293.888106785496\n"
     ]
    },
    {
     "name": "stderr",
     "output_type": "stream",
     "text": [
      " 23%|█████████▎                              | 608/2600 [00:17<00:56, 35.03it/s]"
     ]
    },
    {
     "name": "stdout",
     "output_type": "stream",
     "text": [
      "Energy: [6484.86673818 6416.49871184 6424.10868695 6293.88810679 6401.48078174\n",
      " 6293.88810679 6293.88810679 6293.88810679 6293.88810679 6293.88810679\n",
      " 6293.88810679]\n"
     ]
    },
    {
     "name": "stderr",
     "output_type": "stream",
     "text": [
      " 25%|██████████▏                             | 660/2600 [00:19<00:57, 33.49it/s]"
     ]
    },
    {
     "name": "stdout",
     "output_type": "stream",
     "text": [
      "Energy: [6484.86673818 6416.49871184 6293.88810679 6293.88810679 6293.88810679\n",
      " 6293.88810679 6293.88810679 6293.88810679 6293.88810679 6293.88810679\n",
      " 6293.88810679]\n"
     ]
    },
    {
     "name": "stderr",
     "output_type": "stream",
     "text": [
      " 27%|██████████▊                             | 704/2600 [00:20<00:54, 35.02it/s]"
     ]
    },
    {
     "name": "stdout",
     "output_type": "stream",
     "text": [
      "Energy: [6340.00900488 6293.88810679 6293.88810679 6293.88810679 6293.88810679\n",
      " 6293.88810679 6293.88810679 6293.88810679 6293.88810679 6293.88810679\n",
      " 6293.88810679]\n"
     ]
    },
    {
     "name": "stderr",
     "output_type": "stream",
     "text": [
      " 29%|███████████▋                            | 760/2600 [00:21<00:52, 35.13it/s]"
     ]
    },
    {
     "name": "stdout",
     "output_type": "stream",
     "text": [
      "Energy: [6301.54862169 6293.88810679 6308.99712546 6301.34229822 6293.88810679\n",
      " 6293.88810679 6293.88810679 6293.88810679 6293.88810679 6293.88810679\n",
      " 6293.88810679]\n"
     ]
    },
    {
     "name": "stderr",
     "output_type": "stream",
     "text": [
      " 31%|████████████▍                           | 808/2600 [00:23<00:50, 35.34it/s]"
     ]
    },
    {
     "name": "stdout",
     "output_type": "stream",
     "text": [
      "Energy: [6316.64849339 6316.20411015 6293.88810679 6301.34229822 6301.34229822\n",
      " 6293.88810679 6293.88810679 6293.88810679 6293.88810679 6293.88810679\n",
      " 6293.88810679]\n"
     ]
    },
    {
     "name": "stderr",
     "output_type": "stream",
     "text": [
      " 33%|█████████████▏                          | 856/2600 [00:24<00:49, 34.94it/s]"
     ]
    },
    {
     "name": "stdout",
     "output_type": "stream",
     "text": [
      "Energy: [6317.06234111 6309.20566661 6308.99712546 6316.85924703 6301.34229822\n",
      " 6293.88810679 6293.88810679 6293.88810679 6293.88810679 6293.88810679\n",
      " 6293.88810679]\n"
     ]
    },
    {
     "name": "stderr",
     "output_type": "stream",
     "text": [
      " 35%|█████████████▉                          | 908/2600 [00:26<00:48, 35.13it/s]"
     ]
    },
    {
     "name": "stdout",
     "output_type": "stream",
     "text": [
      "Energy: [6316.64849339 6301.34229822 6293.88810679 6293.88810679 6309.20566661\n",
      " 6293.88810679 6293.88810679 6293.88810679 6293.88810679 6293.88810679\n",
      " 6293.88810679]\n"
     ]
    },
    {
     "name": "stderr",
     "output_type": "stream",
     "text": [
      " 37%|██████████████▋                         | 956/2600 [00:27<00:48, 34.18it/s]"
     ]
    },
    {
     "name": "stdout",
     "output_type": "stream",
     "text": [
      "Energy: [6293.88810679 6293.88810679 6293.88810679 6293.88810679 6293.88810679\n",
      " 6317.06234111 6293.88810679 6293.88810679 6293.88810679 6293.88810679\n",
      " 6293.88810679]\n"
     ]
    },
    {
     "name": "stderr",
     "output_type": "stream",
     "text": [
      " 39%|███████████████                        | 1008/2600 [00:29<00:48, 32.93it/s]"
     ]
    },
    {
     "name": "stdout",
     "output_type": "stream",
     "text": [
      "Energy: [6293.88810679 6308.99712546 6301.54862169 6301.34229822 6301.54862169\n",
      " 6293.88810679 6293.88810679 6293.88810679 6293.88810679 6293.88810679\n",
      " 6293.88810679]\n"
     ]
    },
    {
     "name": "stderr",
     "output_type": "stream",
     "text": [
      " 41%|███████████████▊                       | 1056/2600 [00:30<00:45, 33.77it/s]"
     ]
    },
    {
     "name": "stdout",
     "output_type": "stream",
     "text": [
      "Energy: [6301.54862169 6316.64849339 6293.88810679 6293.88810679 6293.88810679\n",
      " 6301.54862169 6293.88810679 6293.88810679 6293.88810679 6293.88810679\n",
      " 6293.88810679]\n"
     ]
    },
    {
     "name": "stderr",
     "output_type": "stream",
     "text": [
      " 43%|████████████████▌                      | 1108/2600 [00:32<00:44, 33.17it/s]"
     ]
    },
    {
     "name": "stdout",
     "output_type": "stream",
     "text": [
      "Energy: [6301.54862169 6301.54862169 6309.20566661 6293.88810679 6293.88810679\n",
      " 6293.88810679 6293.88810679 6293.88810679 6293.88810679 6293.88810679\n",
      " 6293.88810679]\n"
     ]
    },
    {
     "name": "stderr",
     "output_type": "stream",
     "text": [
      " 44%|█████████████████▎                     | 1156/2600 [00:33<00:44, 32.55it/s]"
     ]
    },
    {
     "name": "stdout",
     "output_type": "stream",
     "text": [
      "Energy: [6301.54862169 6301.74725322 6301.54862169 6293.88810679 6293.88810679\n",
      " 6293.88810679 6293.88810679 6293.88810679 6293.88810679 6293.88810679\n",
      " 6293.88810679]\n"
     ]
    },
    {
     "name": "stderr",
     "output_type": "stream",
     "text": [
      " 46%|██████████████████                     | 1204/2600 [00:35<00:40, 34.80it/s]"
     ]
    },
    {
     "name": "stdout",
     "output_type": "stream",
     "text": [
      "Energy: [6301.54862169 6301.74725322 6293.88810679 6293.88810679 6301.54862169\n",
      " 6293.88810679 6293.88810679 6293.88810679 6293.88810679 6293.88810679\n",
      " 6293.88810679]\n"
     ]
    },
    {
     "name": "stderr",
     "output_type": "stream",
     "text": [
      " 48%|██████████████████▊                    | 1256/2600 [00:36<00:40, 33.57it/s]"
     ]
    },
    {
     "name": "stdout",
     "output_type": "stream",
     "text": [
      "Energy: [6301.34229822 6293.88810679 6293.88810679 6293.88810679 6293.88810679\n",
      " 6301.54862169 6293.88810679 6293.88810679 6293.88810679 6301.54862169\n",
      " 6293.88810679]\n"
     ]
    },
    {
     "name": "stderr",
     "output_type": "stream",
     "text": [
      " 50%|███████████████████▌                   | 1304/2600 [00:37<00:37, 34.22it/s]"
     ]
    },
    {
     "name": "stdout",
     "output_type": "stream",
     "text": [
      "Energy: [6293.88810679 6301.34229822 6293.88810679 6293.88810679 6301.54862169\n",
      " 6293.88810679 6293.88810679 6293.88810679 6293.88810679 6301.54862169\n",
      " 6293.88810679]\n"
     ]
    },
    {
     "name": "stderr",
     "output_type": "stream",
     "text": [
      " 52%|████████████████████▎                  | 1356/2600 [00:39<00:37, 32.91it/s]"
     ]
    },
    {
     "name": "stdout",
     "output_type": "stream",
     "text": [
      "Energy: [6301.34229822 6308.99712546 6293.88810679 6301.54862169 6293.88810679\n",
      " 6293.88810679 6293.88810679 6301.54862169 6293.88810679 6293.88810679\n",
      " 6293.88810679]\n"
     ]
    },
    {
     "name": "stderr",
     "output_type": "stream",
     "text": [
      " 54%|█████████████████████                  | 1404/2600 [00:40<00:38, 31.20it/s]"
     ]
    },
    {
     "name": "stdout",
     "output_type": "stream",
     "text": [
      "Energy: [6324.29640746 6301.54862169 6293.88810679 6293.88810679 6301.34229822\n",
      " 6293.88810679 6293.88810679 6293.88810679 6293.88810679 6293.88810679\n",
      " 6293.88810679]\n"
     ]
    },
    {
     "name": "stderr",
     "output_type": "stream",
     "text": [
      " 56%|█████████████████████▊                 | 1456/2600 [00:42<00:34, 33.31it/s]"
     ]
    },
    {
     "name": "stdout",
     "output_type": "stream",
     "text": [
      "Energy: [6316.85924703 6301.34229822 6293.88810679 6301.54862169 6293.88810679\n",
      " 6301.34229822 6293.88810679 6293.88810679 6293.88810679 6293.88810679\n",
      " 6293.88810679]\n"
     ]
    },
    {
     "name": "stderr",
     "output_type": "stream",
     "text": [
      " 58%|██████████████████████▌                | 1507/2600 [00:44<00:40, 27.01it/s]"
     ]
    },
    {
     "name": "stdout",
     "output_type": "stream",
     "text": [
      "Energy: [6301.54862169 6309.20566661 6293.88810679 6301.34229822 6293.88810679\n",
      " 6293.88810679 6293.88810679 6293.88810679 6293.88810679 6293.88810679\n",
      " 6293.88810679]\n"
     ]
    },
    {
     "name": "stderr",
     "output_type": "stream",
     "text": [
      " 60%|███████████████████████▍               | 1559/2600 [00:45<00:30, 33.97it/s]"
     ]
    },
    {
     "name": "stdout",
     "output_type": "stream",
     "text": [
      "Energy: [6309.20566661 6293.88810679 6301.54862169 6301.54862169 6293.88810679\n",
      " 6293.88810679 6293.88810679 6293.88810679 6301.34229822 6293.88810679\n",
      " 6293.88810679]\n"
     ]
    },
    {
     "name": "stderr",
     "output_type": "stream",
     "text": [
      " 62%|████████████████████████               | 1607/2600 [00:47<00:28, 34.76it/s]"
     ]
    },
    {
     "name": "stdout",
     "output_type": "stream",
     "text": [
      "Energy: [6309.20566661 6301.34229822 6301.34229822 6293.88810679 6293.88810679\n",
      " 6293.88810679 6293.88810679 6293.88810679 6293.88810679 6293.88810679\n",
      " 6293.88810679]\n"
     ]
    },
    {
     "name": "stderr",
     "output_type": "stream",
     "text": [
      " 64%|████████████████████████▉              | 1659/2600 [00:48<00:26, 35.20it/s]"
     ]
    },
    {
     "name": "stdout",
     "output_type": "stream",
     "text": [
      "Energy: [6301.54862169 6293.88810679 6293.88810679 6293.88810679 6293.88810679\n",
      " 6293.88810679 6293.88810679 6293.88810679 6293.88810679 6293.88810679\n",
      " 6293.88810679]\n"
     ]
    },
    {
     "name": "stderr",
     "output_type": "stream",
     "text": [
      " 66%|█████████████████████████▌             | 1707/2600 [00:50<00:26, 33.80it/s]"
     ]
    },
    {
     "name": "stdout",
     "output_type": "stream",
     "text": [
      "Energy: [6293.88810679 6293.88810679 6293.88810679 6293.88810679 6293.88810679\n",
      " 6293.88810679 6293.88810679 6293.88810679 6293.88810679 6293.88810679\n",
      " 6293.88810679]\n"
     ]
    },
    {
     "name": "stderr",
     "output_type": "stream",
     "text": [
      " 68%|██████████████████████████▍            | 1759/2600 [00:51<00:24, 34.24it/s]"
     ]
    },
    {
     "name": "stdout",
     "output_type": "stream",
     "text": [
      "Energy: [6301.54862169 6293.88810679 6301.34229822 6308.99712546 6301.34229822\n",
      " 6301.34229822 6301.74725322 6293.88810679 6293.88810679 6293.88810679\n",
      " 6293.88810679]\n"
     ]
    },
    {
     "name": "stderr",
     "output_type": "stream",
     "text": [
      " 69%|███████████████████████████            | 1803/2600 [00:52<00:25, 31.23it/s]"
     ]
    },
    {
     "name": "stdout",
     "output_type": "stream",
     "text": [
      "Energy: [6316.85924703 6301.54862169 6301.34229822 6293.88810679 6293.88810679\n",
      " 6301.34229822 6293.88810679 6301.74725322 6293.88810679 6293.88810679\n",
      " 6293.88810679]\n"
     ]
    },
    {
     "name": "stderr",
     "output_type": "stream",
     "text": [
      " 71%|███████████████████████████▊           | 1855/2600 [00:54<00:21, 34.82it/s]"
     ]
    },
    {
     "name": "stdout",
     "output_type": "stream",
     "text": [
      "Energy: [6309.20566661 6293.88810679 6301.54862169 6301.34229822 6301.34229822\n",
      " 6293.88810679 6293.88810679 6301.74725322 6293.88810679 6293.88810679\n",
      " 6293.88810679]\n"
     ]
    },
    {
     "name": "stderr",
     "output_type": "stream",
     "text": [
      " 73%|████████████████████████████▌          | 1903/2600 [00:55<00:20, 33.59it/s]"
     ]
    },
    {
     "name": "stdout",
     "output_type": "stream",
     "text": [
      "Energy: [6301.54862169 6293.88810679 6293.88810679 6293.88810679 6293.88810679\n",
      " 6293.88810679 6293.88810679 6293.88810679 6293.88810679 6293.88810679\n",
      " 6293.88810679]\n"
     ]
    },
    {
     "name": "stderr",
     "output_type": "stream",
     "text": [
      " 75%|█████████████████████████████▎         | 1955/2600 [00:57<00:18, 34.56it/s]"
     ]
    },
    {
     "name": "stdout",
     "output_type": "stream",
     "text": [
      "Energy: [6301.54862169 6293.88810679 6309.20566661 6293.88810679 6293.88810679\n",
      " 6293.88810679 6293.88810679 6293.88810679 6293.88810679 6293.88810679\n",
      " 6293.88810679]\n"
     ]
    },
    {
     "name": "stderr",
     "output_type": "stream",
     "text": [
      " 77%|██████████████████████████████         | 2003/2600 [00:58<00:18, 32.22it/s]"
     ]
    },
    {
     "name": "stdout",
     "output_type": "stream",
     "text": [
      "Energy: [6301.34229822 6293.88810679 6293.88810679 6293.88810679 6293.88810679\n",
      " 6293.88810679 6293.88810679 6293.88810679 6293.88810679 6293.88810679\n",
      " 6293.88810679]\n"
     ]
    },
    {
     "name": "stderr",
     "output_type": "stream",
     "text": [
      " 79%|██████████████████████████████▉        | 2059/2600 [01:00<00:16, 33.48it/s]"
     ]
    },
    {
     "name": "stdout",
     "output_type": "stream",
     "text": [
      "Energy: [6309.40653203 6301.34229822 6293.88810679 6316.64849339 6293.88810679\n",
      " 6293.88810679 6293.88810679 6293.88810679 6293.88810679 6293.88810679\n",
      " 6293.88810679]\n"
     ]
    },
    {
     "name": "stderr",
     "output_type": "stream",
     "text": [
      " 81%|███████████████████████████████▌       | 2107/2600 [01:01<00:14, 33.66it/s]"
     ]
    },
    {
     "name": "stdout",
     "output_type": "stream",
     "text": [
      "Energy: [6317.06234111 6308.99712546 6293.88810679 6308.99712546 6293.88810679\n",
      " 6293.88810679 6293.88810679 6293.88810679 6293.88810679 6293.88810679\n",
      " 6293.88810679]\n"
     ]
    },
    {
     "name": "stderr",
     "output_type": "stream",
     "text": [
      " 83%|████████████████████████████████▍      | 2159/2600 [01:03<00:12, 34.25it/s]"
     ]
    },
    {
     "name": "stdout",
     "output_type": "stream",
     "text": [
      "Energy: [6316.20411015 6293.88810679 6293.88810679 6301.54862169 6308.99712546\n",
      " 6293.88810679 6301.34229822 6293.88810679 6293.88810679 6293.88810679\n",
      " 6293.88810679]\n"
     ]
    },
    {
     "name": "stderr",
     "output_type": "stream",
     "text": [
      " 85%|█████████████████████████████████      | 2207/2600 [01:04<00:12, 31.43it/s]"
     ]
    },
    {
     "name": "stdout",
     "output_type": "stream",
     "text": [
      "Energy: [6308.99712546 6308.99712546 6301.54862169 6293.88810679 6293.88810679\n",
      " 6293.88810679 6308.99712546 6293.88810679 6293.88810679 6293.88810679\n",
      " 6293.88810679]\n"
     ]
    },
    {
     "name": "stderr",
     "output_type": "stream",
     "text": [
      " 87%|█████████████████████████████████▊     | 2255/2600 [01:06<00:10, 32.94it/s]"
     ]
    },
    {
     "name": "stdout",
     "output_type": "stream",
     "text": [
      "Energy: [6316.20411015 6301.34229822 6301.54862169 6308.99712546 6293.88810679\n",
      " 6293.88810679 6293.88810679 6301.54862169 6293.88810679 6293.88810679\n",
      " 6293.88810679]\n"
     ]
    },
    {
     "name": "stderr",
     "output_type": "stream",
     "text": [
      " 89%|██████████████████████████████████▌    | 2307/2600 [01:07<00:08, 34.68it/s]"
     ]
    },
    {
     "name": "stdout",
     "output_type": "stream",
     "text": [
      "Energy: [6316.20411015 6293.88810679 6293.88810679 6301.54862169 6293.88810679\n",
      " 6293.88810679 6293.88810679 6293.88810679 6293.88810679 6293.88810679\n",
      " 6293.88810679]\n"
     ]
    },
    {
     "name": "stderr",
     "output_type": "stream",
     "text": [
      " 91%|███████████████████████████████████▎   | 2355/2600 [01:09<00:07, 34.56it/s]"
     ]
    },
    {
     "name": "stdout",
     "output_type": "stream",
     "text": [
      "Energy: [6317.25774967 6293.88810679 6301.54862169 6301.54862169 6293.88810679\n",
      " 6293.88810679 6293.88810679 6293.88810679 6293.88810679 6293.88810679\n",
      " 6293.88810679]\n"
     ]
    },
    {
     "name": "stderr",
     "output_type": "stream",
     "text": [
      " 93%|████████████████████████████████████   | 2407/2600 [01:10<00:05, 34.46it/s]"
     ]
    },
    {
     "name": "stdout",
     "output_type": "stream",
     "text": [
      "Energy: [6309.20566661 6317.06234111 6301.54862169 6301.34229822 6301.54862169\n",
      " 6293.88810679 6293.88810679 6293.88810679 6293.88810679 6293.88810679\n",
      " 6293.88810679]\n"
     ]
    },
    {
     "name": "stderr",
     "output_type": "stream",
     "text": [
      " 95%|████████████████████████████████████▉  | 2459/2600 [01:12<00:04, 33.45it/s]"
     ]
    },
    {
     "name": "stdout",
     "output_type": "stream",
     "text": [
      "Energy: [6332.1560363  6293.88810679 6309.40653203 6293.88810679 6293.88810679\n",
      " 6293.88810679 6293.88810679 6293.88810679 6293.88810679 6293.88810679\n",
      " 6293.88810679]\n"
     ]
    },
    {
     "name": "stderr",
     "output_type": "stream",
     "text": [
      " 96%|█████████████████████████████████████▌ | 2507/2600 [01:13<00:02, 32.23it/s]"
     ]
    },
    {
     "name": "stdout",
     "output_type": "stream",
     "text": [
      "Energy: [6331.71810807 6293.88810679 6301.54862169 6293.88810679 6293.88810679\n",
      " 6293.88810679 6301.34229822 6293.88810679 6293.88810679 6293.88810679\n",
      " 6293.88810679]\n"
     ]
    },
    {
     "name": "stderr",
     "output_type": "stream",
     "text": [
      " 98%|██████████████████████████████████████▎| 2555/2600 [01:15<00:01, 33.87it/s]"
     ]
    },
    {
     "name": "stdout",
     "output_type": "stream",
     "text": [
      "Energy: [6308.99712546 6317.06234111 6293.88810679 6293.88810679 6293.88810679\n",
      " 6301.34229822 6293.88810679 6293.88810679 6293.88810679 6293.88810679\n",
      " 6293.88810679]\n"
     ]
    },
    {
     "name": "stderr",
     "output_type": "stream",
     "text": [
      "100%|███████████████████████████████████████| 2600/2600 [01:16<00:00, 33.92it/s]\n"
     ]
    },
    {
     "name": "stdout",
     "output_type": "stream",
     "text": [
      "Fin Energy_t 6293.888106785496 Energy_gs 6293.888106785496\n",
      "c_accep 0 c_rounds 0\n",
      "Elapsed (after compilation) = 76.64529871940613\n",
      "[[190 209 192 184 188 216 213 214 215 218 217 212]\n",
      " [190 209 192 184 188 216 213 214 215 218 217 212]\n",
      " [190 209 192 184 188 216 213 214 215 218 217 212]]\n",
      "[[190 209 192 184 188 216 213 214 215 218 217 212]\n",
      " [190 209 192 184 188 216 213 214 215 218 217 212]\n",
      " [190 209 192 184 188 216 213 214 215 218 217 212]]\n",
      "[[190 209 192 184 188 216 213 214 215 218 217 212]\n",
      " [190 209 192 184 188 216 213 214 215 218 217 212]\n",
      " [190 209 192 184 188 216 213 214 215 218 217 212]]\n",
      "[[190 209 192 184 188 216 213 214 215 218 217 212]\n",
      " [190 209 192 184 188 216 213 214 215 218 217 212]\n",
      " [190 209 192 184 188 216 213 214 215 218 217 212]]\n",
      "[[190 209 192 184 188 216 213 214 215 218 217 212]\n",
      " [190 209 192 184 188 216 213 214 215 218 217 212]\n",
      " [190 209 192 184 188 216 213 214 215 218 217 212]]\n",
      "[[190 209 192 184 188 216 213 214 215 218 217 212]\n",
      " [190 209 192 184 188 216 213 214 215 218 217 212]\n",
      " [190 209 192 184 188 216 213 214 215 218 217 212]]\n",
      "[[190 209 192 184 188 216 213 214 215 218 217 212]\n",
      " [190 209 192 184 188 216 213 214 215 218 217 212]\n",
      " [190 209 192 184 188 216 213 214 215 218 217 212]]\n",
      "[[190 209 192 184 188 216 213 214 215 218 217 212]\n",
      " [190 209 192 184 188 216 213 214 215 218 217 212]\n",
      " [190 209 192 184 188 216 213 214 215 218 217 212]]\n",
      "[[193 210 211 202 184 217 213 212 215 216 218 214]\n",
      " [193 208 211 202 184 217 213 212 215 216 218 214]\n",
      " [193 208 211 202 184 217 213 212 215 216 218 214]]\n",
      "[[190 209 192 184 188 216 213 214 215 218 217 212]\n",
      " [190 209 192 184 188 216 213 214 215 218 217 212]\n",
      " [190 209 192 184 188 216 213 214 215 218 217 212]]\n",
      "[[190 209 192 184 188 216 213 214 215 218 217 212]\n",
      " [190 209 192 184 188 216 213 214 215 218 217 212]\n",
      " [190 209 192 184 188 216 213 214 215 218 217 212]]\n",
      "[[199 196 186 206 193 216 218 214 215 213 217 212]\n",
      " [199 196 186 206 193 216 218 214 215 213 217 212]\n",
      " [199 196 186 206 193 216 218 214 215 213 217 212]]\n",
      "[[193 210 211 202 184 217 213 212 215 216 218 214]\n",
      " [193 208 211 202 184 217 213 212 215 216 218 214]\n",
      " [193 208 211 202 184 217 213 212 215 216 218 214]]\n",
      "[[193 208 211 202 184 217 213 212 215 216 218 214]\n",
      " [193 208 211 202 184 217 213 212 215 216 218 214]\n",
      " [193 208 211 202 184 217 213 212 215 216 218 214]]\n",
      "[[193 210 211 202 184 217 213 212 215 216 218 214]\n",
      " [193 208 211 202 184 217 213 212 215 216 218 214]\n",
      " [193 208 211 202 184 217 213 212 215 216 218 214]]\n",
      "[[193 208 211 202 184 217 213 212 215 216 218 214]\n",
      " [193 208 211 202 184 217 213 212 215 216 218 214]\n",
      " [193 208 211 202 184 217 213 212 215 216 218 214]]\n",
      "[[193 210 211 202 184 217 213 212 215 216 218 214]\n",
      " [193 208 211 202 184 217 213 212 215 216 218 214]\n",
      " [193 208 211 202 184 217 213 212 215 216 218 214]]\n",
      "[[193 210 211 202 184 217 213 212 215 216 218 214]\n",
      " [193 208 211 202 184 217 213 212 215 216 218 214]\n",
      " [193 208 211 202 184 217 213 212 215 216 218 214]]\n",
      "[[193 208 211 202 184 217 213 212 215 216 218 214]\n",
      " [193 208 211 202 184 217 213 212 215 216 218 214]\n",
      " [193 208 211 202 184 217 213 212 215 216 218 214]]\n",
      "[[193 208 211 202 184 217 213 212 215 216 218 214]\n",
      " [193 208 211 202 184 217 213 212 215 216 218 214]\n",
      " [193 208 211 202 184 217 213 212 215 216 218 214]]\n",
      "[[190 209 192 184 188 216 213 214 215 218 217 212]\n",
      " [190 209 192 184 188 216 213 214 215 218 217 212]\n",
      " [190 209 192 184 188 216 213 214 215 218 217 212]]\n",
      "[[190 209 192 184 188 216 213 214 215 218 217 212]\n",
      " [190 209 192 184 188 216 213 214 215 218 217 212]\n",
      " [190 209 192 184 188 216 213 214 215 218 217 212]]\n",
      "[[193 208 211 202 184 217 213 212 215 216 218 214]\n",
      " [193 208 211 202 184 217 213 212 215 216 218 214]\n",
      " [193 208 211 202 184 217 213 212 215 216 218 214]]\n",
      "[[193 210 211 202 184 217 213 212 215 216 218 214]\n",
      " [193 208 211 202 184 217 213 212 215 216 218 214]\n",
      " [193 208 211 202 184 217 213 212 215 216 218 214]]\n",
      "[[199 196 186 206 193 216 218 214 215 213 217 212]\n",
      " [199 196 186 206 193 216 218 214 215 213 217 212]\n",
      " [199 196 186 206 193 216 218 214 215 213 217 212]]\n",
      "[[190 209 192 184 188 216 213 214 215 218 217 212]\n",
      " [190 209 192 184 188 216 213 214 215 218 217 212]\n",
      " [190 209 192 184 188 216 213 214 215 218 217 212]]\n",
      "[[186 203 181 199 182 218 216 212 215 213 217 214]\n",
      " [186 203 181 199 182 218 216 212 215 213 217 214]\n",
      " [186 203 181 199 182 218 216 212 215 213 217 214]]\n",
      "[[190 209 192 184 188 216 213 214 215 218 217 212]\n",
      " [190 209 192 184 188 216 213 214 215 218 217 212]\n",
      " [190 209 192 184 188 216 213 214 215 218 217 212]]\n",
      "[[186 203 181 199 182 218 216 212 215 213 217 214]\n",
      " [186 203 181 199 182 218 216 212 215 213 217 214]\n",
      " [186 203 181 199 182 218 216 212 215 213 217 214]]\n",
      "[[190 209 192 184 188 216 213 214 215 218 217 212]\n",
      " [190 209 192 184 188 216 213 214 215 218 217 212]\n",
      " [190 209 192 184 188 216 213 214 215 218 217 212]]\n",
      "[[190 209 192 184 188 216 213 214 215 218 217 212]\n",
      " [190 209 192 184 188 216 213 214 215 218 217 212]\n",
      " [190 209 192 184 188 216 213 214 215 218 217 212]]\n",
      "[[190 209 192 184 188 216 213 214 215 218 217 212]\n",
      " [190 209 192 184 188 216 213 214 215 218 217 212]\n",
      " [190 209 192 184 188 216 213 214 215 218 217 212]]\n",
      "[[190 209 192 184 188 216 213 214 215 218 217 212]\n",
      " [190 209 192 184 188 216 213 214 215 218 217 212]\n",
      " [190 209 192 184 188 216 213 214 215 218 217 212]]\n",
      "[[186 207 206 204 192 218 213 214 215 212 216 217]\n",
      " [186 207 206 204 192 218 213 214 215 212 216 217]\n",
      " [186 207 206 204 192 218 213 214 215 212 216 217]]\n",
      "[[186 203 181 199 182 218 216 212 215 213 217 214]\n",
      " [186 203 181 199 182 218 216 212 215 213 217 214]\n",
      " [186 203 181 199 182 218 216 212 215 213 217 214]]\n",
      "[[186 203 181 199 182 218 216 212 215 213 217 214]\n",
      " [186 203 181 199 182 218 216 212 215 213 217 214]\n",
      " [186 203 181 199 182 218 216 212 215 213 217 214]]\n",
      "[[186 203 181 199 182 218 216 212 215 213 217 214]\n",
      " [186 203 181 199 182 218 216 212 215 213 217 214]\n",
      " [186 203 181 199 182 218 216 212 215 213 217 214]]\n",
      "[[186 207 206 204 192 218 213 214 215 212 216 217]\n",
      " [186 207 206 204 192 218 213 214 215 212 216 217]\n",
      " [186 207 206 204 192 218 213 214 215 212 216 217]]\n",
      "[[186 207 206 204 192 218 213 214 215 212 216 217]\n",
      " [186 207 206 204 192 218 213 214 215 212 216 217]\n",
      " [186 207 206 204 192 218 213 214 215 212 216 217]]\n",
      "[[186 203 181 199 182 218 216 212 215 213 217 214]\n",
      " [186 203 181 199 182 218 216 212 215 213 217 214]\n",
      " [186 203 181 199 182 218 216 212 215 213 217 214]]\n",
      "[1.] [0.99086758]\n",
      "i_reps 9\n",
      "Energía ini: 23565.75836507188 /gs: 6292.298972932993\n"
     ]
    },
    {
     "name": "stderr",
     "output_type": "stream",
     "text": [
      " 23%|█████████▎                              | 608/2600 [00:18<00:57, 34.80it/s]"
     ]
    },
    {
     "name": "stdout",
     "output_type": "stream",
     "text": [
      "Energy: [6491.14517775 6299.68481105 6299.68481105 6292.29897293 6299.94426394\n",
      " 6292.29897293 6292.29897293 6292.29897293 6292.29897293 6292.29897293\n",
      " 6292.29897293]\n"
     ]
    },
    {
     "name": "stderr",
     "output_type": "stream",
     "text": [
      " 25%|██████████                              | 656/2600 [00:19<00:56, 34.30it/s]"
     ]
    },
    {
     "name": "stdout",
     "output_type": "stream",
     "text": [
      "Energy: [6299.68481105 6292.29897293 6307.32456033 6292.29897293 6292.29897293\n",
      " 6299.94426394 6292.29897293 6292.29897293 6299.94426394 6292.29897293\n",
      " 6292.29897293]\n"
     ]
    },
    {
     "name": "stderr",
     "output_type": "stream",
     "text": [
      " 27%|██████████▉                             | 708/2600 [00:21<00:53, 35.27it/s]"
     ]
    },
    {
     "name": "stdout",
     "output_type": "stream",
     "text": [
      "Energy: [6299.94426394 6299.68481105 6292.29897293 6292.29897293 6299.94426394\n",
      " 6292.29897293 6292.29897293 6292.29897293 6292.29897293 6292.29897293\n",
      " 6299.94426394]\n"
     ]
    },
    {
     "name": "stderr",
     "output_type": "stream",
     "text": [
      " 29%|███████████▋                            | 756/2600 [00:22<00:52, 35.03it/s]"
     ]
    },
    {
     "name": "stdout",
     "output_type": "stream",
     "text": [
      "Energy: [6307.32456033 6299.94426394 6292.29897293 6292.29897293 6292.29897293\n",
      " 6292.29897293 6292.29897293 6292.29897293 6299.68481105 6292.29897293\n",
      " 6292.29897293]\n"
     ]
    },
    {
     "name": "stderr",
     "output_type": "stream",
     "text": [
      " 31%|████████████▍                           | 808/2600 [00:24<00:55, 32.45it/s]"
     ]
    },
    {
     "name": "stdout",
     "output_type": "stream",
     "text": [
      "Energy: [6299.68481105 6315.2245469  6292.29897293 6292.29897293 6292.29897293\n",
      " 6292.29897293 6292.29897293 6292.29897293 6292.29897293 6292.29897293\n",
      " 6292.29897293]\n"
     ]
    },
    {
     "name": "stderr",
     "output_type": "stream",
     "text": [
      " 33%|█████████████▏                          | 856/2600 [00:25<00:49, 35.14it/s]"
     ]
    },
    {
     "name": "stdout",
     "output_type": "stream",
     "text": [
      "Energy: [6292.29897293 6299.68481105 6292.29897293 6307.58612015 6292.29897293\n",
      " 6292.29897293 6299.68481105 6292.29897293 6292.29897293 6292.29897293\n",
      " 6292.29897293]\n"
     ]
    },
    {
     "name": "stderr",
     "output_type": "stream",
     "text": [
      " 35%|█████████████▉                          | 908/2600 [00:27<00:48, 34.83it/s]"
     ]
    },
    {
     "name": "stdout",
     "output_type": "stream",
     "text": [
      "Energy: [6292.29897293 6292.29897293 6299.94426394 6292.29897293 6292.29897293\n",
      " 6292.29897293 6292.29897293 6292.29897293 6292.29897293 6292.29897293\n",
      " 6292.29897293]\n"
     ]
    },
    {
     "name": "stderr",
     "output_type": "stream",
     "text": [
      " 37%|██████████████▋                         | 956/2600 [00:28<00:47, 34.76it/s]"
     ]
    },
    {
     "name": "stdout",
     "output_type": "stream",
     "text": [
      "Energy: [6338.11930376 6292.29897293 6292.29897293 6292.29897293 6292.29897293\n",
      " 6292.29897293 6292.29897293 6292.29897293 6292.29897293 6292.29897293\n",
      " 6292.29897293]\n"
     ]
    },
    {
     "name": "stderr",
     "output_type": "stream",
     "text": [
      " 39%|███████████████                        | 1008/2600 [00:29<00:46, 33.96it/s]"
     ]
    },
    {
     "name": "stdout",
     "output_type": "stream",
     "text": [
      "Energy: [6292.29897293 6337.57201022 6292.29897293 6292.29897293 6292.29897293\n",
      " 6292.29897293 6292.29897293 6292.29897293 6292.29897293 6292.29897293\n",
      " 6292.29897293]\n"
     ]
    },
    {
     "name": "stderr",
     "output_type": "stream",
     "text": [
      " 41%|███████████████▉                       | 1060/2600 [00:31<00:45, 34.21it/s]"
     ]
    },
    {
     "name": "stdout",
     "output_type": "stream",
     "text": [
      "Energy: [6292.29897293 6314.96088495 6292.29897293 6299.68481105 6292.29897293\n",
      " 6292.29897293 6292.29897293 6292.29897293 6292.29897293 6292.29897293\n",
      " 6292.29897293]\n"
     ]
    },
    {
     "name": "stderr",
     "output_type": "stream",
     "text": [
      " 43%|████████████████▌                      | 1108/2600 [00:32<00:42, 34.91it/s]"
     ]
    },
    {
     "name": "stdout",
     "output_type": "stream",
     "text": [
      "Energy: [6292.29897293 6292.29897293 6292.29897293 6299.94426394 6292.29897293\n",
      " 6292.29897293 6299.68481105 6292.29897293 6292.29897293 6292.29897293\n",
      " 6292.29897293]\n"
     ]
    },
    {
     "name": "stderr",
     "output_type": "stream",
     "text": [
      " 44%|█████████████████▎                     | 1156/2600 [00:34<00:43, 32.99it/s]"
     ]
    },
    {
     "name": "stdout",
     "output_type": "stream",
     "text": [
      "Energy: [6292.29897293 6292.29897293 6299.68481105 6292.29897293 6292.29897293\n",
      " 6292.29897293 6292.29897293 6292.29897293 6292.29897293 6292.29897293\n",
      " 6292.29897293]\n"
     ]
    },
    {
     "name": "stderr",
     "output_type": "stream",
     "text": [
      " 46%|██████████████████                     | 1208/2600 [00:35<00:39, 35.15it/s]"
     ]
    },
    {
     "name": "stdout",
     "output_type": "stream",
     "text": [
      "Energy: [6299.68481105 6307.58612015 6292.29897293 6299.94426394 6292.29897293\n",
      " 6292.29897293 6292.29897293 6292.29897293 6292.29897293 6292.29897293\n",
      " 6292.29897293]\n"
     ]
    },
    {
     "name": "stderr",
     "output_type": "stream",
     "text": [
      " 48%|██████████████████▊                    | 1256/2600 [00:37<00:39, 34.20it/s]"
     ]
    },
    {
     "name": "stdout",
     "output_type": "stream",
     "text": [
      "Energy: [6299.68481105 6315.2245469  6292.29897293 6292.29897293 6299.94426394\n",
      " 6299.68481105 6292.29897293 6299.68481105 6292.29897293 6292.29897293\n",
      " 6292.29897293]\n"
     ]
    },
    {
     "name": "stderr",
     "output_type": "stream",
     "text": [
      " 50%|███████████████████▌                   | 1308/2600 [00:38<00:39, 33.07it/s]"
     ]
    },
    {
     "name": "stdout",
     "output_type": "stream",
     "text": [
      "Energy: [6307.32456033 6299.68481105 6299.68481105 6292.29897293 6292.29897293\n",
      " 6292.29897293 6292.29897293 6292.29897293 6292.29897293 6292.29897293\n",
      " 6292.29897293]\n"
     ]
    },
    {
     "name": "stderr",
     "output_type": "stream",
     "text": [
      " 52%|████████████████████▎                  | 1356/2600 [00:40<00:35, 34.92it/s]"
     ]
    },
    {
     "name": "stdout",
     "output_type": "stream",
     "text": [
      "Energy: [6299.94426394 6299.68481105 6299.94426394 6292.29897293 6292.29897293\n",
      " 6292.29897293 6292.29897293 6292.29897293 6292.29897293 6292.29897293\n",
      " 6292.29897293]\n"
     ]
    },
    {
     "name": "stderr",
     "output_type": "stream",
     "text": [
      " 54%|█████████████████████                  | 1408/2600 [00:41<00:34, 34.21it/s]"
     ]
    },
    {
     "name": "stdout",
     "output_type": "stream",
     "text": [
      "Energy: [6299.68481105 6292.29897293 6299.68481105 6292.29897293 6299.94426394\n",
      " 6292.29897293 6292.29897293 6292.29897293 6292.29897293 6292.29897293\n",
      " 6292.29897293]\n"
     ]
    },
    {
     "name": "stderr",
     "output_type": "stream",
     "text": [
      " 56%|█████████████████████▊                 | 1456/2600 [00:43<00:33, 34.17it/s]"
     ]
    },
    {
     "name": "stdout",
     "output_type": "stream",
     "text": [
      "Energy: [6299.68481105 6292.29897293 6299.94426394 6292.29897293 6292.29897293\n",
      " 6292.29897293 6292.29897293 6292.29897293 6292.29897293 6292.29897293\n",
      " 6292.29897293]\n"
     ]
    },
    {
     "name": "stderr",
     "output_type": "stream",
     "text": [
      " 58%|██████████████████████▌                | 1508/2600 [00:44<00:31, 35.13it/s]"
     ]
    },
    {
     "name": "stdout",
     "output_type": "stream",
     "text": [
      "Energy: [6299.68481105 6307.58612015 6299.68481105 6292.29897293 6292.29897293\n",
      " 6292.29897293 6292.29897293 6292.29897293 6292.29897293 6292.29897293\n",
      " 6292.29897293]\n"
     ]
    },
    {
     "name": "stderr",
     "output_type": "stream",
     "text": [
      " 60%|███████████████████████▎               | 1556/2600 [00:45<00:31, 32.96it/s]"
     ]
    },
    {
     "name": "stdout",
     "output_type": "stream",
     "text": [
      "Energy: [6315.2245469  6299.94426394 6292.29897293 6292.29897293 6292.29897293\n",
      " 6292.29897293 6292.29897293 6292.29897293 6292.29897293 6292.29897293\n",
      " 6292.29897293]\n"
     ]
    },
    {
     "name": "stderr",
     "output_type": "stream",
     "text": [
      " 62%|████████████████████████               | 1608/2600 [00:47<00:28, 35.03it/s]"
     ]
    },
    {
     "name": "stdout",
     "output_type": "stream",
     "text": [
      "Energy: [6307.05552552 6299.94426394 6299.94426394 6292.29897293 6292.29897293\n",
      " 6292.29897293 6299.94426394 6292.29897293 6292.29897293 6292.29897293\n",
      " 6292.29897293]\n"
     ]
    },
    {
     "name": "stderr",
     "output_type": "stream",
     "text": [
      " 64%|████████████████████████▊              | 1656/2600 [00:48<00:26, 35.36it/s]"
     ]
    },
    {
     "name": "stdout",
     "output_type": "stream",
     "text": [
      "Energy: [6299.94426394 6299.94426394 6292.29897293 6292.29897293 6292.29897293\n",
      " 6292.29897293 6292.29897293 6292.29897293 6292.29897293 6292.29897293\n",
      " 6292.29897293]\n"
     ]
    },
    {
     "name": "stderr",
     "output_type": "stream",
     "text": [
      " 66%|█████████████████████████▌             | 1708/2600 [00:50<00:25, 35.01it/s]"
     ]
    },
    {
     "name": "stdout",
     "output_type": "stream",
     "text": [
      "Energy: [6299.94426394 6299.94426394 6307.32456033 6292.29897293 6292.29897293\n",
      " 6292.29897293 6299.94426394 6292.29897293 6292.29897293 6292.29897293\n",
      " 6292.29897293]\n"
     ]
    },
    {
     "name": "stderr",
     "output_type": "stream",
     "text": [
      " 68%|██████████████████████████▍            | 1760/2600 [00:51<00:26, 31.96it/s]"
     ]
    },
    {
     "name": "stdout",
     "output_type": "stream",
     "text": [
      "Energy: [6299.94426394 6299.68481105 6292.29897293 6307.32456033 6292.29897293\n",
      " 6292.29897293 6292.29897293 6292.29897293 6292.29897293 6292.29897293\n",
      " 6292.29897293]\n"
     ]
    },
    {
     "name": "stderr",
     "output_type": "stream",
     "text": [
      " 70%|███████████████████████████            | 1808/2600 [00:53<00:22, 35.04it/s]"
     ]
    },
    {
     "name": "stdout",
     "output_type": "stream",
     "text": [
      "Energy: [6330.22328143 6299.68481105 6299.94426394 6307.32456033 6292.29897293\n",
      " 6292.29897293 6292.29897293 6292.29897293 6292.29897293 6299.68481105\n",
      " 6292.29897293]\n"
     ]
    },
    {
     "name": "stderr",
     "output_type": "stream",
     "text": [
      " 71%|███████████████████████████▊           | 1856/2600 [00:54<00:20, 35.43it/s]"
     ]
    },
    {
     "name": "stdout",
     "output_type": "stream",
     "text": [
      "Energy: [6299.94426394 6307.32456033 6299.94426394 6292.29897293 6307.32456033\n",
      " 6292.29897293 6292.29897293 6292.29897293 6299.68481105 6292.29897293\n",
      " 6292.29897293]\n"
     ]
    },
    {
     "name": "stderr",
     "output_type": "stream",
     "text": [
      " 73%|████████████████████████████▌          | 1908/2600 [00:56<00:19, 35.09it/s]"
     ]
    },
    {
     "name": "stdout",
     "output_type": "stream",
     "text": [
      "Energy: [6307.58612015 6299.68481105 6292.29897293 6292.29897293 6307.32456033\n",
      " 6292.29897293 6292.29897293 6292.29897293 6292.29897293 6292.29897293\n",
      " 6292.29897293]\n"
     ]
    },
    {
     "name": "stderr",
     "output_type": "stream",
     "text": [
      " 75%|█████████████████████████████▎         | 1956/2600 [00:57<00:18, 34.31it/s]"
     ]
    },
    {
     "name": "stdout",
     "output_type": "stream",
     "text": [
      "Energy: [6292.29897293 6314.96088495 6299.68481105 6299.94426394 6292.29897293\n",
      " 6292.29897293 6292.29897293 6292.29897293 6292.29897293 6292.29897293\n",
      " 6292.29897293]\n"
     ]
    },
    {
     "name": "stderr",
     "output_type": "stream",
     "text": [
      " 77%|██████████████████████████████         | 2008/2600 [00:59<00:17, 34.44it/s]"
     ]
    },
    {
     "name": "stdout",
     "output_type": "stream",
     "text": [
      "Energy: [6315.48072497 6307.58612015 6292.29897293 6299.94426394 6307.58612015\n",
      " 6292.29897293 6292.29897293 6292.29897293 6292.29897293 6292.29897293\n",
      " 6292.29897293]\n"
     ]
    },
    {
     "name": "stderr",
     "output_type": "stream",
     "text": [
      " 79%|██████████████████████████████▊        | 2056/2600 [01:00<00:16, 33.54it/s]"
     ]
    },
    {
     "name": "stdout",
     "output_type": "stream",
     "text": [
      "Energy: [6307.58612015 6307.32456033 6299.94426394 6307.32456033 6292.29897293\n",
      " 6292.29897293 6292.29897293 6292.29897293 6292.29897293 6292.29897293\n",
      " 6292.29897293]\n"
     ]
    },
    {
     "name": "stderr",
     "output_type": "stream",
     "text": [
      " 81%|███████████████████████████████▌       | 2108/2600 [01:02<00:15, 32.21it/s]"
     ]
    },
    {
     "name": "stdout",
     "output_type": "stream",
     "text": [
      "Energy: [6315.2245469  6299.68481105 6299.94426394 6299.94426394 6292.29897293\n",
      " 6292.29897293 6299.94426394 6292.29897293 6292.29897293 6292.29897293\n",
      " 6292.29897293]\n"
     ]
    },
    {
     "name": "stderr",
     "output_type": "stream",
     "text": [
      " 83%|████████████████████████████████▎      | 2156/2600 [01:03<00:12, 34.80it/s]"
     ]
    },
    {
     "name": "stdout",
     "output_type": "stream",
     "text": [
      "Energy: [6299.68481105 6307.58612015 6299.94426394 6292.29897293 6292.29897293\n",
      " 6292.29897293 6292.29897293 6299.94426394 6292.29897293 6292.29897293\n",
      " 6292.29897293]\n"
     ]
    },
    {
     "name": "stderr",
     "output_type": "stream",
     "text": [
      " 85%|█████████████████████████████████      | 2208/2600 [01:05<00:11, 33.06it/s]"
     ]
    },
    {
     "name": "stdout",
     "output_type": "stream",
     "text": [
      "Energy: [6307.58612015 6292.29897293 6307.32456033 6299.94426394 6292.29897293\n",
      " 6299.94426394 6292.29897293 6292.29897293 6292.29897293 6292.29897293\n",
      " 6292.29897293]\n"
     ]
    },
    {
     "name": "stderr",
     "output_type": "stream",
     "text": [
      " 87%|█████████████████████████████████▊     | 2256/2600 [01:06<00:10, 34.20it/s]"
     ]
    },
    {
     "name": "stdout",
     "output_type": "stream",
     "text": [
      "Energy: [6299.68481105 6307.32456033 6292.29897293 6292.29897293 6299.94426394\n",
      " 6292.29897293 6292.29897293 6292.29897293 6292.29897293 6292.29897293\n",
      " 6292.29897293]\n"
     ]
    },
    {
     "name": "stderr",
     "output_type": "stream",
     "text": [
      " 89%|██████████████████████████████████▌    | 2304/2600 [01:07<00:08, 34.48it/s]"
     ]
    },
    {
     "name": "stdout",
     "output_type": "stream",
     "text": [
      "Energy: [6307.58612015 6292.29897293 6299.68481105 6299.94426394 6292.29897293\n",
      " 6299.68481105 6292.29897293 6292.29897293 6292.29897293 6292.29897293\n",
      " 6292.29897293]\n"
     ]
    },
    {
     "name": "stderr",
     "output_type": "stream",
     "text": [
      " 91%|███████████████████████████████████▎   | 2356/2600 [01:09<00:06, 35.03it/s]"
     ]
    },
    {
     "name": "stdout",
     "output_type": "stream",
     "text": [
      "Energy: [6299.68481105 6292.29897293 6292.29897293 6299.94426394 6292.29897293\n",
      " 6292.29897293 6292.29897293 6292.29897293 6292.29897293 6292.29897293\n",
      " 6292.29897293]\n"
     ]
    },
    {
     "name": "stderr",
     "output_type": "stream",
     "text": [
      " 93%|████████████████████████████████████   | 2408/2600 [01:10<00:05, 34.56it/s]"
     ]
    },
    {
     "name": "stdout",
     "output_type": "stream",
     "text": [
      "Energy: [6292.29897293 6299.94426394 6292.29897293 6299.94426394 6292.29897293\n",
      " 6292.29897293 6292.29897293 6292.29897293 6292.29897293 6292.29897293\n",
      " 6292.29897293]\n"
     ]
    },
    {
     "name": "stderr",
     "output_type": "stream",
     "text": [
      " 94%|████████████████████████████████████▊  | 2456/2600 [01:12<00:04, 33.51it/s]"
     ]
    },
    {
     "name": "stdout",
     "output_type": "stream",
     "text": [
      "Energy: [6292.29897293 6299.94426394 6299.94426394 6292.29897293 6299.94426394\n",
      " 6292.29897293 6292.29897293 6292.29897293 6292.29897293 6292.29897293\n",
      " 6292.29897293]\n"
     ]
    },
    {
     "name": "stderr",
     "output_type": "stream",
     "text": [
      " 96%|█████████████████████████████████████▌ | 2504/2600 [01:13<00:02, 34.35it/s]"
     ]
    },
    {
     "name": "stdout",
     "output_type": "stream",
     "text": [
      "Energy: [6292.29897293 6299.94426394 6307.8401806  6292.29897293 6292.29897293\n",
      " 6292.29897293 6292.29897293 6292.29897293 6292.29897293 6292.29897293\n",
      " 6292.29897293]\n"
     ]
    },
    {
     "name": "stderr",
     "output_type": "stream",
     "text": [
      " 98%|██████████████████████████████████████▎| 2556/2600 [01:15<00:01, 34.66it/s]"
     ]
    },
    {
     "name": "stdout",
     "output_type": "stream",
     "text": [
      "Energy: [6299.94426394 6307.58612015 6292.29897293 6292.29897293 6292.29897293\n",
      " 6299.94426394 6292.29897293 6292.29897293 6292.29897293 6292.29897293\n",
      " 6292.29897293]\n"
     ]
    },
    {
     "name": "stderr",
     "output_type": "stream",
     "text": [
      "100%|███████████████████████████████████████| 2600/2600 [01:16<00:00, 33.99it/s]\n"
     ]
    },
    {
     "name": "stdout",
     "output_type": "stream",
     "text": [
      "Fin Energy_t 6292.298972932993 Energy_gs 6292.298972932993\n",
      "c_accep 0 c_rounds 0\n",
      "Elapsed (after compilation) = 76.49694490432739\n",
      "[[204 192 184 191 196 213 212 214 215 216 217 218]\n",
      " [204 192 184 191 196 213 212 214 215 216 217 218]\n",
      " [204 192 184 191 196 213 212 214 215 216 217 218]]\n",
      "[[204 192 184 191 196 213 212 214 215 216 217 218]\n",
      " [204 192 184 191 196 213 212 214 215 216 217 218]\n",
      " [204 192 184 191 196 213 212 214 215 216 217 218]]\n",
      "[[207 186 209 183 184 213 212 214 215 218 217 216]\n",
      " [207 186 209 183 184 213 212 214 215 218 217 216]\n",
      " [207 186 209 183 184 213 212 214 215 218 217 216]]\n",
      "[[184 195 209 205 207 218 213 212 215 217 214 216]\n",
      " [184 195 209 205 207 218 213 212 215 217 214 216]\n",
      " [184 195 209 205 207 218 213 212 215 217 214 216]]\n",
      "[[204 192 184 191 196 213 212 214 215 216 217 218]\n",
      " [204 192 184 191 196 213 212 214 215 216 217 218]\n",
      " [204 192 184 191 196 213 212 214 215 216 217 218]]\n",
      "[[207 186 209 183 184 213 212 214 215 218 217 216]\n",
      " [207 186 209 183 184 213 212 214 215 218 217 216]\n",
      " [207 186 209 183 184 213 212 214 215 218 217 216]]\n",
      "[[207 186 209 183 184 213 212 214 215 218 217 216]\n",
      " [207 186 209 183 184 213 212 214 215 218 217 216]\n",
      " [207 186 209 183 184 213 212 214 215 218 217 216]]\n",
      "[[207 186 209 183 184 213 212 214 215 218 217 216]\n",
      " [207 186 209 183 184 213 212 214 215 218 217 216]\n",
      " [207 186 209 183 184 213 212 214 215 218 217 216]]\n",
      "[[207 186 209 183 184 213 212 214 215 218 217 216]\n",
      " [207 186 209 183 184 213 212 214 215 218 217 216]\n",
      " [207 186 209 183 184 213 212 214 215 218 217 216]]\n",
      "[[185 181 197 209 202 212 218 214 215 217 216 213]\n",
      " [185 181 197 209 202 212 218 214 215 217 216 213]\n",
      " [185 181 197 209 202 212 218 214 215 217 216 213]]\n",
      "[[207 186 209 183 184 213 212 214 215 218 217 216]\n",
      " [207 186 209 183 184 213 212 214 215 218 217 216]\n",
      " [207 186 209 183 184 213 212 214 215 218 217 216]]\n",
      "[[207 186 209 183 184 213 212 214 215 218 217 216]\n",
      " [207 186 209 183 184 213 212 214 215 218 217 216]\n",
      " [207 186 209 183 184 213 212 214 215 218 217 216]]\n",
      "[[207 186 209 183 184 213 212 214 215 218 217 216]\n",
      " [207 186 209 183 184 213 212 214 215 218 217 216]\n",
      " [207 186 209 183 184 213 212 214 215 218 217 216]]\n",
      "[[207 186 209 183 184 213 212 214 215 218 217 216]\n",
      " [207 186 209 183 184 213 212 214 215 218 217 216]\n",
      " [207 186 209 183 184 213 212 214 215 218 217 216]]\n",
      "[[185 181 197 209 202 212 218 214 215 217 216 213]\n",
      " [185 181 197 209 202 212 218 214 215 217 216 213]\n",
      " [185 181 197 209 202 212 218 214 215 217 216 213]]\n",
      "[[185 181 197 209 202 212 218 214 215 217 216 213]\n",
      " [185 181 197 209 202 212 218 214 215 217 216 213]\n",
      " [185 181 197 209 202 212 218 214 215 217 216 213]]\n",
      "[[207 186 209 183 184 213 212 214 215 218 217 216]\n",
      " [207 186 209 183 184 213 212 214 215 218 217 216]\n",
      " [207 186 209 183 184 213 212 214 215 218 217 216]]\n",
      "[[180 205 182 207 211 213 212 214 215 216 217 218]\n",
      " [180 205 182 207 211 213 212 214 215 216 217 218]\n",
      " [180 205 182 207 211 213 212 214 215 216 217 218]]\n",
      "[[207 186 209 183 184 213 212 214 215 218 217 216]\n",
      " [207 186 209 183 184 213 212 214 215 218 217 216]\n",
      " [207 186 209 183 184 213 212 214 215 218 217 216]]\n",
      "[[185 181 197 209 202 212 218 214 215 217 216 213]\n",
      " [185 181 197 209 202 212 218 214 215 217 216 213]\n",
      " [185 181 197 209 202 212 218 214 215 217 216 213]]\n",
      "[[185 181 197 209 202 212 218 214 215 217 216 213]\n",
      " [185 181 197 209 202 212 218 214 215 217 216 213]\n",
      " [185 181 197 209 202 212 218 214 215 217 216 213]]\n",
      "[[184 195 209 205 211 218 213 212 215 217 214 216]\n",
      " [184 195 209 205 211 218 213 212 215 217 214 216]\n",
      " [184 195 209 205 211 218 213 212 215 217 214 216]]\n",
      "[[184 195 209 205 211 218 213 212 215 217 214 216]\n",
      " [184 195 209 205 211 218 213 212 215 217 214 216]\n",
      " [184 195 209 205 211 218 213 212 215 217 214 216]]\n",
      "[[185 181 197 209 202 212 218 214 215 217 216 213]\n",
      " [185 181 197 209 202 212 218 214 215 217 216 213]\n",
      " [185 181 197 209 202 212 218 214 215 217 216 213]]\n",
      "[[207 186 209 183 184 213 212 214 215 218 217 216]\n",
      " [207 186 209 183 184 213 212 214 215 218 217 216]\n",
      " [207 186 209 183 184 213 212 214 215 218 217 216]]\n",
      "[[207 186 209 183 184 213 212 214 215 218 217 216]\n",
      " [207 186 209 183 184 213 212 214 215 218 217 216]\n",
      " [207 186 209 183 184 213 212 214 215 218 217 216]]\n",
      "[[207 186 209 183 184 213 212 214 215 218 217 216]\n",
      " [207 186 209 183 184 213 212 214 215 218 217 216]\n",
      " [207 186 209 183 184 213 212 214 215 218 217 216]]\n",
      "[[184 195 209 205 211 218 213 212 215 217 214 216]\n",
      " [184 195 209 205 211 218 213 212 215 217 214 216]\n",
      " [184 195 209 205 211 218 213 212 215 217 214 216]]\n",
      "[[207 186 209 183 184 213 212 214 215 218 217 216]\n",
      " [207 186 209 183 184 213 212 214 215 218 217 216]\n",
      " [207 186 209 183 184 213 212 214 215 218 217 216]]\n",
      "[[207 186 209 183 184 213 212 214 215 218 217 216]\n",
      " [207 186 209 183 184 213 212 214 215 218 217 216]\n",
      " [207 186 209 183 184 213 212 214 215 218 217 216]]\n",
      "[[204 192 184 191 196 213 212 214 215 216 217 218]\n",
      " [204 192 184 191 196 213 212 214 215 216 217 218]\n",
      " [204 192 184 191 196 213 212 214 215 216 217 218]]\n",
      "[[207 186 209 183 184 213 212 214 215 218 217 216]\n",
      " [207 186 209 183 184 213 212 214 215 218 217 216]\n",
      " [207 186 209 183 184 213 212 214 215 218 217 216]]\n",
      "[[207 186 209 183 184 213 212 214 215 218 217 216]\n",
      " [207 186 209 183 184 213 212 214 215 218 217 216]\n",
      " [207 186 209 183 184 213 212 214 215 218 217 216]]\n",
      "[[204 192 184 191 196 213 212 214 215 216 217 218]\n",
      " [204 192 184 191 196 213 212 214 215 216 217 218]\n",
      " [204 192 184 191 196 213 212 214 215 216 217 218]]\n",
      "[[204 192 184 191 196 213 212 214 215 216 217 218]\n",
      " [204 192 184 191 196 213 212 214 215 216 217 218]\n",
      " [204 192 184 191 196 213 212 214 215 216 217 218]]\n",
      "[[180 206 209 200 195 215 213 214 218 217 212 216]\n",
      " [180 206 209 200 195 215 213 214 218 217 212 216]\n",
      " [180 206 209 200 195 215 213 214 218 217 212 216]]\n",
      "[[180 206 209 200 195 215 213 214 218 217 212 216]\n",
      " [180 206 209 200 195 215 213 214 218 217 212 216]\n",
      " [180 206 209 200 195 215 213 214 218 217 212 216]]\n",
      "[[180 206 209 200 195 215 213 214 218 217 212 216]\n",
      " [180 206 209 200 195 215 213 214 218 217 212 216]\n",
      " [180 206 209 200 195 215 213 214 218 217 212 216]]\n",
      "[[180 206 209 200 195 215 213 214 218 217 212 216]\n",
      " [180 206 209 200 195 215 213 214 218 217 212 216]\n",
      " [180 206 209 200 195 215 213 214 218 217 212 216]]\n",
      "[[180 206 209 200 195 215 213 214 218 217 212 216]\n",
      " [180 206 209 200 195 215 213 214 218 217 212 216]\n",
      " [180 206 209 200 195 215 213 214 218 217 212 216]]\n",
      "[1.] [1.]\n"
     ]
    }
   ],
   "source": [
    "\n",
    "for i_prob in vector: #range(N_probs):\n",
    "    ## Cada uno de estos es un error distinto\n",
    "    A_tot = dic_A[probs[i_prob]]\n",
    "    print()\n",
    "    print()\n",
    "    print('i_prob:', i_prob, probs[i_prob], tempers[i_prob], 'alpha_t',max[i_prob],'N_t', total[i_prob])\n",
    "    N_t = len(tempers[i_prob])\n",
    "    for i_reps in range(N_reps): # Para tener estadística\n",
    "        print('i_reps', i_reps)\n",
    "        A = np.zeros((K, Nx, Nx))\n",
    "        A = A_tot[i_reps,:,:,:].copy()\n",
    "        \n",
    "        ### variables to store:\n",
    "        energies_pasos, P_store, L_store, Energy_store =  variable_store(PasosMC[i_prob],Pasos_store[i_prob], N_epochs, N_t, K, Nx)\n",
    "        P_gs, P_inv_gs, L_gs, E_gs = ground_state(A, K, Nx, alpha, beta)\n",
    "        for i_epoch in range(N_epochs):\n",
    "            c_accep, c_odd, c_rounds = 0,0,0\n",
    "            m_old, round_trip_old = 0,1\n",
    "\n",
    "            if probs[i_prob] == 0:\n",
    "                P_t, P_inv_t, L_t, Edges_L_t,Edges_NoL_t, Energy_t, ovlp_t0,ovlp_t1, suma_L_t,groups_t  = initialization_random(A, start_groups,end_groups, K, Nx, N_t, tempers, alpha, beta)\n",
    "\n",
    "            else:\n",
    "                P_t, P_inv_t, L_t, Edges_L_t,Edges_NoL_t, Energy_t, ovlp_t0,ovlp_t1, suma_L_t,groups_t  = initialization(A, start_groups,end_groups, K, Nx, N_t, tempers, alpha, beta)\n",
    "            # P_t, P_inv_t, L_t, Edges_L_t,Edges_NoL_t, Energy_t, ovlp_t0,ovlp_t1, suma_L_t,groups_t  = initialization_continuation(A,P_inv_ini, start_groups,end_groups, K, Nx, N_t, tempers, alpha, beta)\n",
    "\n",
    "            \n",
    "            \n",
    "            print('Energía ini:', Energy_t[-1], '/gs:', E_gs)\n",
    "            ## MonteCarlo \n",
    "            start = time.time()\n",
    "            count_parallel, count_long, i_long = 0,0,0\n",
    "            for i_mc in tqdm(range(0,PasosMC[i_prob])):\n",
    "                ## Starting to store sampling configurations\n",
    "                if (i_mc > Pasos_corr[i_prob]-Long_corr[i_prob]):\n",
    "                    count_long += 1\n",
    "                    if (count_long == Long_corr[i_prob]):\n",
    "                        count_long = 0\n",
    "                        print('Energy:', Energy_t)\n",
    "                        P_store[i_epoch, i_long,:,:,:] = P_inv_t.copy()\n",
    "                        Energy_store[i_epoch, i_long,:] = Energy_t.copy()\n",
    "                        L_store[i_epoch, i_long,:,:,:] = L_t.copy()\n",
    "                        i_long += 1\n",
    "                \n",
    "                energies_pasos[i_epoch,:, i_mc] = Energy_t[:]\n",
    "                # print(Energy_t)\n",
    "                for i_micro in range(Nx):\n",
    "                    tempers_loop, tempers_odd_loop, tempers_even_loop =  tempers[i_prob],tempers_odd[i_prob], tempers_even[i_prob]\n",
    "                    tempers_odd_loop, tempers_even_loop =  tempers_odd_loop.astype(int), tempers_even_loop.astype(int)\n",
    "                    # print(tempers_loop.dtype, tempers_odd_loop.dtype, tempers_even_loop.dtype)\n",
    "                    count_parallel,P_t, P_inv_t, Energy_t, ovlp_t0, ovlp_t1, L_t,suma_L_t,c_accep, c_odd, m_old, round_trip_old, c_rounds = parallel_L_knwn_change_groups( count_parallel,alpha,beta,fijado,groups_t,n_groups, start_groups, \n",
    "                                                                                                             end_groups,  A, P_t, P_inv_t, L_t,suma_L_t, Energy_t, ovlp_t0, \n",
    "                                                                                                             ovlp_t1,tempers_loop, tempers_odd_loop, tempers_even_loop,c_accep, c_odd, m_old, round_trip_old, c_rounds)\n",
    "            if i_epoch == 0:\n",
    "                print('Fin Energy_t', Energy_t[-1], 'Energy_gs', E_gs) \n",
    "                print('c_accep', c_accep,'c_rounds',  c_rounds )\n",
    "\n",
    "            \n",
    "            end = time.time()\n",
    "            print(\"Elapsed (after compilation) = %s\" % (end - start))  \n",
    "        \n",
    "        x=np.arange( len(energies_pasos[0,0,:]) )\n",
    "    \n",
    "        string = \"0.1_llarg_Celegans_cluster_\"+str(K)+\"capas_rep\"+str(i_reps)+\"_prob\"+str(probs[i_prob]) +\".pickle\"\n",
    "        d_store = {}\n",
    "        Pasos_equ = 0\n",
    "        tem = -1\n",
    "        P_store = P_store.astype(int)\n",
    "        Porcentaje_sta,Porcentaje_gs = np.zeros(N_epochs),np.zeros(N_epochs)\n",
    "        Pasos = Pasos_store[i_prob]\n",
    "        Pasos = Pasos \n",
    "        for i_epoch in range(N_epochs):\n",
    "            nodes_good = np.zeros((Nx))\n",
    "            nodes_maxim = np.zeros((Nx, Nx))\n",
    "            nodes_good_min = np.zeros((Nx))\n",
    "            i_p_min, i_nt_min =  0, 0\n",
    "            E_min = Energy_store[i_epoch, i_p_min, i_nt_min]\n",
    "            for i_p in range(Pasos_equ, Pasos):\n",
    "                ############## stadistics\n",
    "                P_aux = P_store[i_epoch,i_p,tem,:, :]\n",
    "                print(P_aux[:,-12:])\n",
    "                for i_x in range(Nx):\n",
    "                    ## Statistical: tem = 1\n",
    "                    n_node0 = P_aux[0,i_x]\n",
    "                    n_node1 = P_aux[1,i_x]\n",
    "                    nodes_maxim[n_node0, n_node1] += 1\n",
    "\n",
    "                ########### GROUND STATE\n",
    "                for k_nt in range(N_t):\n",
    "                    if (Energy_store[i_epoch,i_p, k_nt]<E_min):\n",
    "                        i_p_min, i_nt_min = i_p, k_nt\n",
    "                        E_min = Energy_store[i_epoch,i_p, k_nt]\n",
    "            \n",
    "            \n",
    "            for i_x in range(Nx):\n",
    "                ##############3 stadsitics\n",
    "                sorted_indices = np.argsort(nodes_maxim[i_x,:])[::-1]\n",
    "                max_value = nodes_maxim[i_x,sorted_indices[0]]\n",
    "                max_indices = sorted_indices[nodes_maxim[i_x,sorted_indices] == max_value]\n",
    "                if len(max_indices) > 1:\n",
    "                    pos = np.random.randint(len(max_indices))\n",
    "                    node = max_indices[pos]\n",
    "                else:\n",
    "                    node = max_indices[0]\n",
    "                if node == i_x:\n",
    "                    nodes_good[i_x] = 1 \n",
    "                ########## GROUND STATE\n",
    "                P_min = P_store[i_epoch,i_p_min,i_nt_min,:,:].copy()\n",
    "                n_node0, n_node1 = P_min[0,i_x], P_min[1,i_x]\n",
    "                if n_node0 == n_node1 :\n",
    "                    nodes_good_min[i_x] = 1\n",
    "\n",
    "            Porcentaje_gs[i_epoch] = np.sum(nodes_good_min)/Nx\n",
    "            Porcentaje_sta[i_epoch] = np.sum(nodes_good)/(Nx)\n",
    "        \n",
    "        print(Porcentaje_gs,Porcentaje_sta)\n",
    "        d_store[\"Probabilidad_error\"] = probs[i_prob] \n",
    "        d_store[\"Datos_energy\"] = energies_pasos\n",
    "        d_store[\"Porcentaje_gs\"] = Porcentaje_gs\n",
    "        d_store[\"Porcentaje_sta\"] = Porcentaje_sta\n",
    "        d_store[\"temper\"] = tempers\n",
    "        d_store[\"A\"] = A       \n",
    "        d_store[\"E_groundtruth\"] = E_gs\n",
    "        d_store[\"Pasos_corr_ini\"] = Pasos_corr[i_prob] \n",
    "        d_store[\"Step_corr\"] = Long_corr[i_prob] \n",
    "        \n",
    "        with open(string, 'wb') as file:\n",
    "            pickle.dump(d_store, file)\n",
    "    \n",
    "\n",
    "    "
   ]
  },
  {
   "cell_type": "code",
   "execution_count": 34,
   "id": "d0bddc7b-2c0d-4049-b252-49cfd589c342",
   "metadata": {},
   "outputs": [
    {
     "data": {
      "text/plain": [
       "array([1., 1., 1., 1., 1., 1., 1., 1., 1., 1., 1., 1., 1., 1., 1.])"
      ]
     },
     "execution_count": 34,
     "metadata": {},
     "output_type": "execute_result"
    }
   ],
   "source": [
    "Porcentaje_sta"
   ]
  },
  {
   "cell_type": "code",
   "execution_count": null,
   "id": "59b28a1a-4923-4c86-b1bb-8026f8d1d37d",
   "metadata": {},
   "outputs": [],
   "source": [
    "max_step = 8000\n",
    "x=np.arange( len(energies_pasos[0,0,:max_step]) )\n",
    "for k_nt in range(0,N_t):\n",
    "    energies_pasos_temper = energies_pasos[0,k_nt,:max_step] \n",
    "    # plt.plot(x[:],energies_pasos_temper[:],'.',color = 'gray',label='%s beta' % tempers[k_nt])\n",
    "    plt.plot(x[:],energies_pasos_temper[:max_step],'-',label='%s beta' % tempers_loop[k_nt])\n",
    "    plt.xlabel('iteration')\n",
    "    plt.ylabel('Energy per node')\n",
    "# plt.legend()\n",
    "\n",
    "temper = -1# np.where(tempers == 1)[0][0]\n",
    "energies_pasos_temper = energies_pasos[0,temper,:max_step] \n",
    "plt.plot(x[:],energies_pasos_temper[:max_step],'b.',label='%s beta' % tempers_loop[k_nt])\n",
    "plt.show()"
   ]
  },
  {
   "cell_type": "code",
   "execution_count": null,
   "id": "59e8ec01-0bb4-4d41-8242-ee57648d6b38",
   "metadata": {},
   "outputs": [],
   "source": [
    "suma = 0\n",
    "for i_x in range(Nx):\n",
    "    node0 = P_store[0,0,-1,0, i_x]\n",
    "    node1 = P_store[0,0,-1,1, i_x]\n",
    "    if node0 == node1:\n",
    "        suma += 1\n",
    "print(suma/Nx)"
   ]
  },
  {
   "cell_type": "code",
   "execution_count": null,
   "id": "a38927b8-8f5d-4e98-a5d5-36c65c118dba",
   "metadata": {},
   "outputs": [],
   "source": [
    "np.where(Energy_store[0,:-1,-1]== np.min(Energy_store[0,:-1,-1]))[0]"
   ]
  },
  {
   "cell_type": "code",
   "execution_count": null,
   "id": "028c9fa1-455e-48d5-acda-667ff70a70c9",
   "metadata": {},
   "outputs": [],
   "source": []
  },
  {
   "cell_type": "code",
   "execution_count": null,
   "id": "565af7c7-80a0-491d-af20-c37c222b22cb",
   "metadata": {},
   "outputs": [],
   "source": [
    "## Final energy\n",
    "Energy_calculada = np.zeros((N_t))\n",
    "for k_nt in range(N_t):\n",
    "    Edges_L= K*sum(sum(L_t[k_nt,:,:]))\n",
    "    Edges_NoL = Edges_sum - Edges_L\n",
    "    overlap_0, overlap_1 = overlap_total_prob(L_t[k_nt,:,:],A,P_inv_t[k_nt,:,:])\n",
    "    Energy_calculada[k_nt] = hamiltonian_prob(Edges_NoL, Edges_L, overlap_0,overlap_1,alpha, beta)\n",
    "    \n",
    "print('Energy final:', Energy_t, '/Computed final:', Energy_calculada) "
   ]
  },
  {
   "cell_type": "code",
   "execution_count": null,
   "id": "8c52530d-2844-4c24-a3d7-dc1c82a7ed5e",
   "metadata": {},
   "outputs": [],
   "source": []
  }
 ],
 "metadata": {
  "kernelspec": {
   "display_name": "Python 3 (ipykernel)",
   "language": "python",
   "name": "python3"
  },
  "language_info": {
   "codemirror_mode": {
    "name": "ipython",
    "version": 3
   },
   "file_extension": ".py",
   "mimetype": "text/x-python",
   "name": "python",
   "nbconvert_exporter": "python",
   "pygments_lexer": "ipython3",
   "version": "3.10.12"
  }
 },
 "nbformat": 4,
 "nbformat_minor": 5
}
