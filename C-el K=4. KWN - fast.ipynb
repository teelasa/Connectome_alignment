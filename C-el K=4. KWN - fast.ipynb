{
 "cells": [
  {
   "cell_type": "markdown",
   "id": "c69eba05",
   "metadata": {},
   "source": [
    "# SIN Anchors:\n"
   ]
  },
  {
   "cell_type": "code",
   "execution_count": 1,
   "id": "eefb8125",
   "metadata": {},
   "outputs": [],
   "source": [
    "import itertools\n",
    "import pickle\n",
    "import matplotlib.pyplot as plt\n",
    "import numpy as np\n",
    "import math\n",
    "import random\n",
    "import os\n",
    "import time\n",
    "from numba import jit, njit\n",
    "from numba.types import bool_, int_, float32\n",
    "from math import comb\n",
    "from copy import deepcopy\n",
    "from tqdm import tqdm\n",
    "import networkx as nx\n",
    "import pandas as pd\n",
    "from collections import defaultdict\n",
    "from itertools import permutations"
   ]
  },
  {
   "cell_type": "code",
   "execution_count": 2,
   "id": "c848c94b",
   "metadata": {},
   "outputs": [
    {
     "name": "stdout",
     "output_type": "stream",
     "text": [
      "Fichero leído: 0 tamaño (227, 183)\n",
      "Fichero leído: 1 tamaño (227, 183)\n",
      "Fichero leído: 2 tamaño (227, 183)\n",
      "Fichero leído: 3 tamaño (227, 183)\n",
      "Fichero leído: 4 tamaño (227, 183)\n",
      "Fichero leído: 5 tamaño (227, 183)\n",
      "Fichero leído: 6 tamaño (227, 183)\n",
      "Fichero leído: 7 tamaño (227, 183)\n"
     ]
    }
   ],
   "source": [
    "tablas = 8\n",
    "n_grupo = 4\n",
    "\n",
    "d = {}\n",
    "D = \"Dataset\"\n",
    "for i in range(0,tablas):\n",
    "    d[\"group\" + str(i)] = pd.read_excel(\"datasets.ods\", sheet_name=D+str(i+1))\n",
    "    print('Fichero leído:',i, 'tamaño', d[\"group\" + str(i)].shape)"
   ]
  },
  {
   "cell_type": "code",
   "execution_count": 3,
   "id": "0d8624d9",
   "metadata": {},
   "outputs": [
    {
     "name": "stdout",
     "output_type": "stream",
     "text": [
      "Filas: 224\n"
     ]
    }
   ],
   "source": [
    "## Vamos a meter los Dataset en una hipermatriz M , donde cada capa es un dataset\n",
    "rows = d[\"group\" + str(i)].shape[0] - 3\n",
    "columns = d[\"group\" + str(i)].shape[1] - 3\n",
    "#En el excel empieza en (5,4). Es decir una diferencia de 5 y 4 respecto a los números que saquemos\n",
    "\n",
    "\n",
    "M = np.zeros((tablas,rows,columns))\n",
    "\n",
    "for i in range(0, tablas):\n",
    "    Data = d['group' + str(i)]\n",
    "    M[i,:,:] = Data.iloc[3:,3:]\n",
    "\n",
    "## No son cuadradas, pero puede que a mí me interese que lo sean (y llenar lo que sobre de ceros)\n",
    "M_square = np.zeros((tablas, rows, rows))\n",
    "M_square[:,:, 0:columns] = M[:,:,:]\n",
    "\n",
    "\n",
    "#Lo queremos BINARIO, ignorando su peso (Luego pensar cómo se haría con el peso)\n",
    "M_bin = np.zeros((tablas,rows,columns))\n",
    "M_square_bin = np.zeros((tablas,rows,rows))\n",
    "for i in range(tablas):\n",
    "    for j in range(rows):\n",
    "        for k in range(columns):\n",
    "            if (M[i,j,k] >= 1):\n",
    "                M_bin[i,j,k] = 1\n",
    "                M_square_bin[i,j,k] = 1\n",
    "                \n",
    "Nx = rows\n",
    "print('Filas:',rows)"
   ]
  },
  {
   "cell_type": "code",
   "execution_count": 77,
   "id": "c7e9cc90",
   "metadata": {},
   "outputs": [],
   "source": [
    "@jit(nopython = True)\n",
    "def hamiltonian_prob(Edges_NoL, Edges_L, overlap_0, overlap_1, alpha, beta):\n",
    "    n1 = int(Edges_L + alpha + beta - 2)\n",
    "    k1 = overlap_1 + alpha -1\n",
    "    \n",
    "    n0 = int(Edges_NoL + alpha + beta - 2)\n",
    "    k0 = overlap_0 + alpha - 1\n",
    "    \n",
    "    # !!!! Con numba los factoriales grandes dan errores: usar [ math.lgamma(n+1) == log(n!) ]\n",
    "    H1 = math.lgamma(n1+1)- math.lgamma(k1+1) - math.lgamma(n1-k1 +1) + math.log( Edges_L + alpha+beta-1)\n",
    "    H0 = math.lgamma(n0+1)- math.lgamma(k0+1) - math.lgamma(n0-k0 +1) + math.log( Edges_NoL + alpha+beta-1)\n",
    "    \n",
    "    H = H1 + H0\n",
    "\n",
    "    return H\n",
    "    \n",
    "    \n",
    "@jit(nopython=True)\n",
    "def overlap_total_prob(L_f, A_f, P_inv_f):\n",
    "    Nx = L_f.shape[0]\n",
    "    Ny = L_f.shape[1]\n",
    "    K = A_f.shape[0]\n",
    "    \n",
    "    ovlp_0 = np.zeros((K))\n",
    "    ovlp_1 = np.zeros((K))\n",
    "    for k in range(0,K):\n",
    "        for f in range(0,Ny): #Overlap de cada fila (pero no lo necesitamos guardar, solo queremos el total)\n",
    "            for c in range(0,Nx):\n",
    "            #El overlap depende de la permutación!\n",
    "                p_f=int(P_inv_f[k,f])\n",
    "                p_c=int(P_inv_f[k,c])           \n",
    "            \n",
    "                if (L_f[f,c] == A_f[k,p_f,p_c]): #Antes tenía esto al revés\n",
    "                    if (L_f[f,c] == 1):\n",
    "                        ovlp_1[k] = ovlp_1[k]+1\n",
    "                    else:\n",
    "                        ovlp_0[k] = ovlp_0[k] +1\n",
    "\n",
    "    ovlp_1 = int(sum(ovlp_1))\n",
    "    ovlp_0 = int(sum(ovlp_0))\n",
    "   \n",
    "    return ovlp_0, ovlp_1\n",
    "\n",
    "\n",
    "@jit(nopython=True)\n",
    "def hamiltonian(Edges, overlap, alpha, beta):\n",
    "    n = int(Edges+alpha+beta-2)\n",
    "    k = overlap+alpha-1\n",
    "    # !!!! Con numba los factoriales grandes dan errores: usar [ math.lgamma(n+1) == log(n!) ]\n",
    "    H = math.lgamma(n+1)- math.lgamma(k+1) - math.lgamma(n-k+1) + math.log( Edges+alpha+beta-1)\n",
    "    return H\n",
    "\n",
    "@jit(nopython=True)\n",
    "def deltaE(Edges, overlap, alpha, beta, delta_o):\n",
    "    abs_o=abs(delta_o)\n",
    "    logaritmo_b = 0  #Lo tengo que hacer por separad\n",
    "    logaritmo_ab = 0\n",
    "    \n",
    "    A_max = Edges + alpha + beta -2 #Mirar pag 18 del cuaderno de bitácora\n",
    "    B_max = overlap + delta_o + alpha -1\n",
    "\n",
    "    if (delta_o<0):        \n",
    "      \n",
    "        logaritmo_b = math.lgamma((B_max + abs_o) + 1) - math.lgamma(B_max + 1)\n",
    "        logaritmo_ab = math.lgamma(A_max - B_max +1) - math.lgamma(A_max - (B_max + abs_o)+1)\n",
    "        logaritmo =  logaritmo_b - logaritmo_ab\n",
    "\n",
    "        dE = logaritmo\n",
    "        \n",
    "    else:\n",
    "        \n",
    "        logaritmo_ab = math.lgamma(A_max - B_max + abs_o + 1) - math.lgamma(A_max - B_max + 1)\n",
    "        logaritmo_b = math.lgamma(B_max + 1) - math.lgamma(B_max - abs_o + 1)   \n",
    "        logaritmo = logaritmo_b - logaritmo_ab\n",
    "        \n",
    "        dE = -logaritmo   \n",
    "        \n",
    "    return dE \n",
    "\n",
    "@jit(nopython=True)\n",
    "def overlap_total(L_f, A_f, P_inv_f):\n",
    "    Nx = L_f.shape[0]\n",
    "    Ny = L_f.shape[1]\n",
    "    K = A_f.shape[0]\n",
    "    \n",
    "    ovlp_f=np.zeros((K))\n",
    "    for k in range(0,K):\n",
    "        for f in range(0,Ny): #Overlap de cada fila (pero no lo necesitamos guardar, solo queremos el total)\n",
    "            for c in range(0,Nx):\n",
    "            #El overlap depende de la permutación!\n",
    "                p_f=int(P_inv_f[k,f])\n",
    "                p_c=int(P_inv_f[k,c])           \n",
    "            \n",
    "                if (L_f[f][c] == A_f[k,p_f,p_c]): #Antes tenía esto al revés\n",
    "                    ovlp_f[k] = ovlp_f[k]+1\n",
    "\n",
    "    ovlp_f=int(sum(ovlp_f))\n",
    "   \n",
    "    return ovlp_f\n",
    "\n",
    "@jit(nopython=True)\n",
    "def L_wiring(A_f, P_inv_f):\n",
    "    \n",
    "    Nx = A_f.shape[1]\n",
    "    Ny = A_f.shape[2]\n",
    "    K = A_f.shape[0]\n",
    "    L_new_f = np.zeros((Nx,Ny))\n",
    "    \n",
    "    for i in range(0,Nx):\n",
    "        for j in range(0,Ny):\n",
    "            for k in range(0,K):\n",
    "                #Necesito la permutación\n",
    "                p1 = int(P_inv_f[k,i]) #A la fila y columna i de L, la fila y columna que le corresponde en A\n",
    "                p2 = int(P_inv_f[k,j]) #A la fila y columna j de L, la fila y columna que le corresponde en A\n",
    "                L_new_f[i,j] += A_f[k,p1,p2]\n",
    "            \n",
    "#             print('i,j', i,j,'L_new', L_new_)\n",
    "            valor_lnew=1/K* L_new_f[i,j]\n",
    "            if (valor_lnew!=0.5):#Para que el 0.5 no siempre me lo redondee hacia arriba o hacia abajo\n",
    "                L_new_f[i,j] = round( valor_lnew )\n",
    "            else:\n",
    "                L_new_f[i,j] =np.random.randint(2)\n",
    "            #MIRAR BOOLEANOS\n",
    "            #L_new[i][j] = round( 1/K* L_new[i][j])*(L_new!=0.5)+np.random.randint(1)*(L_new==0.5) \n",
    "\n",
    "    #Recalculamiento de energia\n",
    "    \n",
    "    \n",
    "    return L_new_f\n",
    "\n",
    "\n",
    "#Este tiene en cuenta una lista secundaria\n",
    "#(que puede ser por ejemplo el hub de mayor tamaño)\n",
    "@jit(nopython=True)\n",
    "def partition(array,  etiquetas, begin, end):\n",
    "    pivot = begin\n",
    "    for i in range(begin+1, end+1):\n",
    "        if array[i] < array[begin]:\n",
    "            pivot += 1\n",
    "            array[i], array[pivot] = array[pivot], array[i]\n",
    "            etiquetas[i], etiquetas[pivot] = etiquetas[pivot], etiquetas[i]\n",
    "    array[pivot], array[begin] = array[begin], array[pivot]\n",
    "    etiquetas[pivot], etiquetas[begin] = etiquetas[begin], etiquetas[pivot] \n",
    "\n",
    "    return pivot\n",
    "@jit(nopython=True)\n",
    "def quicksort(array, etiquetas, begin=0, end=None):\n",
    "    #print('dentro:',array, begin, end)\n",
    "    if end is None:\n",
    "        end = len(array) - 1\n",
    "    if begin >= end: #Para acabar el algoritmo\n",
    "        return\n",
    "    pivot = partition(array,  etiquetas, begin, end)\n",
    "    #print('pivot', pivot, 'array', array)\n",
    "    \n",
    "    #Aquí ordenamos la derecha y la izquierda\n",
    "    quicksort(array, etiquetas, begin, pivot-1)\n",
    "    quicksort(array,  etiquetas, pivot+1, end)\n",
    "    \n",
    "@njit \n",
    "#Vamos a ordenar igual las etiquetas de nodos con las de a que grupo pertenecen\n",
    "def permu_groups(L_f, A_f, start_f): #En este caso no lo voy a hacer con anchors\n",
    "    Nx = L_f.shape[0]\n",
    "    Ny = L_f.shape[1]\n",
    "    K = A_f.shape[0]\n",
    "    N_groups = len(start_f)\n",
    "    \n",
    "    \n",
    "    #Matrices permutación y sus inversas\n",
    "    P_f=np.zeros((K,Nx))\n",
    "    P_inv_f=np.zeros((K,Nx))\n",
    "    P_new=np.zeros((K,Nx))\n",
    "    \n",
    "    #Vamos a ordenar las matrices Observación según el grado de los nodos de L_inf\n",
    "    orden_L=np.zeros((Nx))\n",
    "    for i in range(Nx):\n",
    "        b=np.nonzero(L_f[i,:])\n",
    "        orden_L[i] = b[0].size#.size\n",
    "        \n",
    "    array_L = np.arange(Nx)\n",
    "    quicksort(orden_L, array_L)\n",
    "    #Luego para igualar el array_L con el array_A tenemos que tener en cuenta lo de labels_f\n",
    "    \n",
    "    #Ahora voy a hacer dos arrays_extras para colocar sus etiquetas\n",
    "    #Cada grupo en orden\n",
    "    #A_L_La=[#0, #1, #2, #3, #4,#5]\n",
    "    array_L_labels = np.zeros((Nx))\n",
    "    group_number = np.zeros((N_groups))\n",
    "    for i in range(Nx):\n",
    "        n_type = 0\n",
    "        #Tenemos que ver a qué tipo pertenece\n",
    "        while ( (array_L[i] >= start_f[n_type]) and (n_type < N_groups)):\n",
    "            n_type += 1\n",
    "       \n",
    "        grupo = int(n_type-1)\n",
    "        g = int(start_f[grupo])\n",
    "        array_L_labels[g + int(group_number[grupo])] = array_L[i]\n",
    "        group_number[grupo] += 1\n",
    "\n",
    "    #Lo mismo para todas las A's\n",
    "        \n",
    "    #Órdenes de A\n",
    "    for i in range(0,K):\n",
    "        orden_A = np.zeros((Nx))\n",
    "        for i_orden in range(Nx):\n",
    "            b = np.nonzero(A_f[i,i_orden,:])\n",
    "            orden_A[i_orden] = b[0].size\n",
    "\n",
    "        array_A = np.arange(Nx) #Para las etiquetas\n",
    "        quicksort(orden_A, array_A)\n",
    "            \n",
    "        ## Ahora empiezo a ordenarlos según el tipo \n",
    "        array_A_labels = np.zeros((Nx))\n",
    "        group_number = np.zeros((N_groups))\n",
    "        \n",
    "        for i_g in range(Nx):\n",
    "            n_type = 0\n",
    "            #Tenemos que ver a qué tipo pertenece\n",
    "            while ( (array_A[i_g] >= start_f[n_type]) and (n_type < N_groups) ):\n",
    "                n_type += 1\n",
    "\n",
    "            grupo = int(n_type-1)\n",
    "            g = int(start_f[grupo])\n",
    "            array_A_labels[ g + int(group_number[grupo])] = array_A[i_g]\n",
    "            group_number[grupo] += 1\n",
    "    \n",
    "\n",
    "    # Ahora la permutación es ordenar array_L = [0,1,2,3...]\n",
    "    # Y luego ordenar el array_A _labels según se haya ordenado el array_L_labels\n",
    "        array_A_labels = array_A_labels[np.argsort(array_L_labels)]\n",
    "        P_f[i,:] = array_A_labels\n",
    "        \n",
    "        for i_inv in range(0,Nx):\n",
    "            for j_inv in range(0,Ny):\n",
    "                if (P_f[i,i_inv] == j_inv):\n",
    "                    P_inv_f[i, j_inv]=i_inv\n",
    "    \n",
    "    P_todo = np.zeros((2,K,Nx))\n",
    "    P_todo[0,:,:] = P_f.copy()\n",
    "    P_todo[1,:,:] = P_inv_f.copy()\n",
    "\n",
    "    \n",
    "    \n",
    "    return P_todo\n",
    "\n",
    "@njit \n",
    "#Vamos a ordenar igual las etiquetas de nodos con las de a que grupo pertenecen\n",
    "def random_groups(L_f, A_f, start_f, end_f): #En este caso no lo voy a hacer con anchors\n",
    "    Nx = L_f.shape[0]\n",
    "    Ny = L_f.shape[1]\n",
    "    K = A_f.shape[0]\n",
    "    N_groups = len(start_f)\n",
    "    \n",
    "    \n",
    "    #Matrices permutación y sus inversas\n",
    "    P_f=np.zeros((K,Nx))\n",
    "    P_inv_f=np.zeros((K,Nx))\n",
    "    P_new=np.zeros((K,Nx))\n",
    "    \n",
    "    for i in range(0,K):\n",
    "        for i_g in range(N_groups):\n",
    "            start = start_f[i_g]\n",
    "            end = end_f[i_g]\n",
    "            \n",
    "            ordenado = np.arange(start, end)\n",
    "            np.random.shuffle(ordenado)\n",
    "            P_f[i,start:end] = ordenado\n",
    "        for i_inv in range(0,Nx):\n",
    "            for j_inv in range(0,Ny):\n",
    "                if (P_f[i,i_inv] == j_inv):\n",
    "                    P_inv_f[i, j_inv]=i_inv\n",
    "\n",
    "    \n",
    "    P_todo = np.zeros((2,K,Nx))\n",
    "    P_todo[0,:,:] = P_f.copy()\n",
    "    P_todo[1,:,:] = P_inv_f.copy()\n",
    "\n",
    "    \n",
    "    \n",
    "    return P_todo\n",
    "#Vamos a ordenar igual las etiquetas de nodos con las de a que grupo pertenecen\n",
    "def permu_groups_capa1_anchors_knwn(L_f, A_f, start_f,grupos_t, Anchors,grupos_extra): #En este caso no lo voy a hacer con anchors\n",
    "   \n",
    "    Nx = L_f.shape[0]\n",
    "    Ny = L_f.shape[1]\n",
    "    K = A_f.shape[0]\n",
    "    N_groups = len(start_f)\n",
    "    start_2 = np.zeros((len(start_f)))\n",
    "    start_2[1:] = np.cumsum(grupos_extra)[:-1]\n",
    "    start_anchor = start_f - start_2   \n",
    "    start_anchor = start_anchor.astype(int)\n",
    "    \n",
    "    #Matrices permutación y sus inversas\n",
    "    P_f = np.zeros((K,Nx))\n",
    "    P_inv_f = np.zeros((K,Nx))\n",
    "    P_new = np.zeros((K,Nx))\n",
    "    \n",
    "    \n",
    "    ### Colocamos primero los anchors\n",
    "    n_an = len(Anchors)\n",
    "    P_f[:,:n_an] = Anchors\n",
    "    \n",
    "    #Vamos a ordenar las matrices Observación según el grado de los nodos de L_inf\n",
    "    orden_L_in = np.zeros((Nx-n_an ))\n",
    "    array_L = np.zeros((Nx-n_an ))\n",
    "    c_o = 0\n",
    "\n",
    "    for i in range(Nx):\n",
    "        if (i not in Anchors):\n",
    "            b = np.nonzero(L_f[i,:])\n",
    "            array_L[c_o] = i\n",
    "            orden_L_in[c_o] = b[0].size\n",
    "            c_o += 1\n",
    "     \n",
    "    orden_L = orden_L_in.copy()\n",
    "    quicksort(orden_L, array_L)\n",
    "    array_L = array_L[::-1]\n",
    "\n",
    "    grupos_L = np.zeros((Nx-n_an))\n",
    "    for  i_g in range(N_groups):\n",
    "        start = start_anchor[i_g]\n",
    "        if (i_g != N_groups-1):\n",
    "            end = start_anchor[i_g+1]\n",
    "        else:\n",
    "            end = Nx-n_an\n",
    "        grupos_L[start:end] = i_g\n",
    "    grupos_L = grupos_L.astype(int)\n",
    "    orden_L = orden_L_in.copy()\n",
    "    quicksort(orden_L, grupos_L )\n",
    "    grupos_L = grupos_L[::-1]\n",
    "    print('array_L', np.sort(array_L)[:5])\n",
    "\n",
    "    #Órdenes de A\n",
    "    for i in range(0,K):\n",
    "        orden_A_in = np.zeros((Nx- n_an))\n",
    "        array_A = np.zeros((Nx-n_an))\n",
    "        grupos_A = np.zeros((Nx-n_an))\n",
    "        c_o = 0\n",
    "        for i_orden in range(Nx):\n",
    "            if (i_orden not in Anchors):\n",
    "                b = np.nonzero(A_f[i,i_orden,:])\n",
    "                array_A[c_o] = i_orden\n",
    "                grupos_A[c_o] = grupos_t[i, i_orden]\n",
    "                orden_A_in[c_o] = b[0].size#.size\n",
    "                c_o += 1\n",
    "        \n",
    "        orden_A = orden_A_in.copy()\n",
    "        quicksort(orden_A, array_A)  \n",
    "        array_A = array_A[::-1]\n",
    "        print('array_A', np.sort(array_A)[:5])\n",
    "\n",
    "        orden_A = orden_A_in.copy()\n",
    "        quicksort(orden_A, grupos_A)\n",
    "        grupos_A = grupos_A[::-1]\n",
    "\n",
    "        \n",
    "        array_A_L = np.zeros((Nx - n_an))\n",
    "        for i_n in range(Nx-n_an):\n",
    "            if ((grupos_A[i_n] == grupos_L[i_n])):\n",
    "                array_A_L[i_n] = array_A[i_n]\n",
    "            else:\n",
    "                # Busco el siguiente del mismo grupo y lo cambio\n",
    "                count = 0\n",
    "                for i_nn in range(i_n, Nx-n_an):\n",
    "                    if ((grupos_A[i_nn] == grupos_L[i_n])): \n",
    "                        array_A_L[i_n] = array_A[i_nn]\n",
    "                        #Cambio\n",
    "                        array_A[i_nn] = array_A[i_n]\n",
    "                        aux = grupos_A[i_nn]\n",
    "                        grupos_A[i_nn] = grupos_A[i_n]\n",
    "                        grupos_A[i_n] = aux\n",
    "                        count = 1\n",
    "                        break\n",
    "        array_A_L = array_A_L[np.argsort(array_L)]\n",
    "        P_f[i,n_an:] = array_A_L\n",
    "        \n",
    "        for i_inv in range(0,Nx):\n",
    "            for j_inv in range(0,Ny):\n",
    "                if (P_f[i,i_inv] == j_inv):\n",
    "                    P_inv_f[i, j_inv]=i_inv\n",
    "    \n",
    "    P_todo = np.zeros((2,K,Nx))\n",
    "    P_todo[0,:,:] = P_f.copy()\n",
    "    P_todo[1,:,:] = P_inv_f.copy()\n",
    "\n",
    "        \n",
    "\n",
    "    \n",
    "    \n",
    "    return P_todo"
   ]
  },
  {
   "cell_type": "markdown",
   "id": "4331825a",
   "metadata": {},
   "source": [
    "# CONDICIONES INICIALES Y GRUPOS\n",
    "\n",
    "Ahora es cuando vamos a poner los unkwons!"
   ]
  },
  {
   "cell_type": "code",
   "execution_count": 70,
   "id": "4c5e011f",
   "metadata": {},
   "outputs": [
    {
     "name": "stdout",
     "output_type": "stream",
     "text": [
      "grupos: Sensory, Inter, Motor, Modulatory, Muscle, Other\n",
      "SIZE GROUPS: [65 44 42 29 32 12]\n",
      "***********************************\n",
      "Primer nodo de cada grupo [  0  65 109 151 180 212]\n",
      "Último nodo de cada grupo [ 65 109 151 180 212 224]\n"
     ]
    }
   ],
   "source": [
    "# Por ahora no las sé buscar en excell pero seguramente no sea difícil leer celdas\n",
    "Sensory = 69-5 #0\n",
    "Inter = 113-70 # 1\n",
    "Motor = 155-114 #2\n",
    "Modulatory = 184-156 #3\n",
    "Muscle = 216-185 #4 \n",
    "Others = 228-217 #5\n",
    "\n",
    "size_groups = np.array([Sensory, Inter, Motor, Modulatory, Muscle, Others]) + 1 #Porque empezamos en cero\n",
    "n_groups = len(size_groups)\n",
    "start_groups = np.zeros(n_groups) #En que posición empieza cada grupo\n",
    "end_groups = np.zeros(n_groups)\n",
    "\n",
    "\n",
    "print('grupos: Sensory, Inter, Motor, Modulatory, Muscle, Other')\n",
    "print('SIZE GROUPS:', size_groups)\n",
    "#Para evitar trabajar con diccionarios (por NUMBA), vamos a hacer matrices \n",
    "# Cada matriz tiene el tamaño de la de mayor, pero luego las vamos cortando\n",
    "rows_g, columns_g = size_groups.max(), size_groups.max()\n",
    "G = np.zeros((tablas, n_groups, rows_g, columns_g))  #Aunque en las matrices G no voy a estar muy interesada\n",
    "labels = np.zeros((rows))\n",
    "\n",
    "size_suma = 0\n",
    "start_groups[0] = 0\n",
    "\n",
    "for i in range(n_groups):\n",
    "    size = size_groups[i]\n",
    "    if (i!=n_groups-1):\n",
    "        start_groups[i+1] = int(size_suma + size)\n",
    "    for i_label in range(size_suma, size + size_suma):\n",
    "        labels[i_label] = i\n",
    "        \n",
    "    G[:,i, :size,  :size] = M_square[:, size_suma:(size + size_suma), size_suma :(size + size_suma)] \n",
    "    size_suma = size_suma + (size) \n",
    "\n",
    "    \n",
    "\n",
    "g1 = int((start_groups[-2]))\n",
    "\n",
    "for i in range(0,n_groups):\n",
    "    if (i!= n_groups-1):\n",
    "        end_groups[i] = start_groups[i+1]\n",
    "    else:\n",
    "        end_groups[i] = Nx\n",
    "start_groups = start_groups.astype(int)\n",
    "end_groups = end_groups.astype(int)\n",
    "\n",
    "print('***********************************')\n",
    "print('Primer nodo de cada grupo', start_groups)\n",
    "print('Último nodo de cada grupo', end_groups)\n",
    "\n"
   ]
  },
  {
   "cell_type": "markdown",
   "id": "d2881b5b",
   "metadata": {},
   "source": [
    "## C-elegants\n",
    "\n",
    "Cogemos los estadios más evolucionados: A2,A1, L4,L3"
   ]
  },
  {
   "cell_type": "code",
   "execution_count": 71,
   "id": "32ce360e",
   "metadata": {},
   "outputs": [
    {
     "name": "stdout",
     "output_type": "stream",
     "text": [
      "MATRICES OBSERVACIÓN\n",
      "(4, 224, 224)\n",
      "7428.0\n"
     ]
    }
   ],
   "source": [
    "### DATOS\n",
    "Nx, Ny = rows, rows #Nodos en la red\n",
    "#Nx, Ny = rows, columns\n",
    "\n",
    "qn = 0.9 #Prob copia de nodo\n",
    "qe = 0.2 #Prob copia de edge\n",
    "K = 4 #tablas #Matrices copiadas K\n",
    "alpha,beta = 5,2 #Distribución beta que usamos\n",
    "Edges = Nx*Ny #Entradas de la matriz de adjacency\n",
    "micropasos = Edges*K #Para pasar por todas las posibilidades\n",
    "\n",
    "np.random.seed( random.randint(1,1999) )\n",
    "A = np.zeros((K,Nx,Ny))\n",
    "A = M_square_bin[4:, :,:]\n",
    "                \n",
    "print('MATRICES OBSERVACIÓN')  \n",
    "print(A.shape)\n",
    "print(np.sum(A))\n",
    "####################################\n",
    "## CONDICIONES INICIALES ##\n",
    "L_ini = np.zeros((Nx,Ny))\n",
    "P_ini_0 = np.zeros((K,Nx))\n",
    "P_inv_ini_0 = np.zeros((K,Nx))\n",
    "L_ini = (A[0,:,:]).copy()\n",
    "\n",
    "groups_ini = np.zeros((K,Nx))\n",
    "for m1 in range(K):\n",
    "    for i_g in range(n_groups):\n",
    "        start = start_groups[i_g]\n",
    "        end = end_groups[i_g]\n",
    "        groups_ini[m1, start:end] = i_g"
   ]
  },
  {
   "cell_type": "code",
   "execution_count": 72,
   "id": "bbea403b",
   "metadata": {},
   "outputs": [
    {
     "name": "stdout",
     "output_type": "stream",
     "text": [
      "*************************\n",
      "[[  0   1   2   3   4   5   6   7   8   9  10  11  12  13  14  15  16  17\n",
      "   18  19  20  21  22  23  24  25  26  27  28  29  30  31  32  33  34  35\n",
      "   36  37  38  39  40  41  42  43  44  45  46  47  48  49  50  51  52  53\n",
      "   54  55  56  57  58  59  60  61  62  63  64  65  66  67  68  69  70  71\n",
      "   72  73  74  75  76  77  78  79  80  81  82  83  84  85  86  87  88  89\n",
      "   90  91  92  93  94  95  96  97  98  99 100 101 102 103 104 105 106 107\n",
      "  108 109 110 111 112 113 114 115 116 117 118 119 120 121 122 123 124 125\n",
      "  126 127 128 129 130 131 132 133 134 135 136 137 138 139 140 141 142 143\n",
      "  144 145 146 147 148 149 150 151 152 153 154 155 156 157 158 159 160 161\n",
      "  162 163 164 165 166 167 168 169 170 171 172 173 174 175 176 177 178 179\n",
      "  180 181 182 183 184 185 186 187 188 189 190 191 192 193 194 195 196 197\n",
      "  198 199 200 201 202 203 204 205 206 207 208 209 210 211 212 213 214 215\n",
      "  216 217 218 219 220 221 222 223]\n",
      " [  4  46  55  41  44  53  23  35   8  49  54  16  32   9  57  24  11  19\n",
      "   58  50   7  48  43  34  60  26  28   3  27  59  30  31   0  47  52  17\n",
      "   63  64  38  45  56  25   6  14   5  13  62  21  39  18  37  33  22   2\n",
      "   51   1  36  42  20  15  12  61  40  10  29  89  74  67  68  69  95  72\n",
      "   71  85  76  70  75  96  97  83  80  66 107  79  84  82 103  94  88  65\n",
      "   91  92  99 100  93  78  77  81 105  90  87 108  86 106  98 104 102  73\n",
      "  101 127 149 138 109 110 135 150 140 122 146 120 143 119 121 128 129 126\n",
      "  118 131 136 123 112 132 116 141 114 134 133 142 113 139 125 147 137 117\n",
      "  144 124 145 148 115 111 130 176 159 167 157 155 179 178 160 172 152 151\n",
      "  153 163 165 175 177 173 168 169 170 171 154 158 174 166 162 164 156 161\n",
      "  192 180 181 186 190 185 182 194 199 183 202 198 184 195 187 193 206 188\n",
      "  210 207 189 211 196 191 205 208 197 209 201 200 203 204 219 212 222 214\n",
      "  217 216 213 215 223 218 221 220]\n",
      " [ 15   2  39  35  46  28  31  63  20  36  53  21  34  19  56  55  54  57\n",
      "   62  41   0  30  47  59   1  17  61  18  45   7  51  12  52  10  32   3\n",
      "   58   6  38   4  22  64   8  26  23  29  13  43  16  42  37  33  60  25\n",
      "   40  48   9  50  14  24  11  49  27   5  44  68  90  97  67  78  96  71\n",
      "   72  66  75  77 102  69 105  83  95 103  86  70  80  81 100  99  94  89\n",
      "  101  92  93  87  88  79  84  82  65 106  91  76 107  74 104  85  98  73\n",
      "  108 110 135 140 113 131 137 149 150 119 125 120 143 117 118 129 139 144\n",
      "  130 147 148 128 126 132 133 115 134 109 136 116 142 124 121 111 114 146\n",
      "  145 123 122 112 138 127 141 176 166 154 161 155 157 165 168 152 178 160\n",
      "  151 179 177 174 163 158 153 173 162 167 156 159 175 169 172 170 164 171\n",
      "  185 187 188 190 186 194 198 193 191 201 180 189 183 195 184 192 209 203\n",
      "  196 199 181 200 202 182 205 210 204 211 207 206 208 197 212 213 220 221\n",
      "  216 217 219 223 214 222 215 218]\n",
      " [ 39  15  64  58   7  54  26  40  38  37  63  60  32  45   6  28  21  14\n",
      "   36  56  35  29  25  31  47   8  44  17  57   5  24  52   2  51  12  49\n",
      "   18  61  50  48  22   1   9   3  27   4  16  10  53  20  41  33  34  13\n",
      "   23   0  19  55  11  59  30  42  62  46  43  85  74  82  68  70  96  92\n",
      "   71 106  89  95 105  80  67  69  79 108  65  78  77 101  66  72  91  73\n",
      "   99  93  88 100  94  83  84  97  75  90  87 102  76 103 104  98  81 107\n",
      "   86 113 115 128 138 137 149 147 132 120 143 119 144 145 121 129 130 126\n",
      "  117 133 150 122 123 134 110 111 109 114 148 136 142 124 125 139 131 127\n",
      "  118 141 146 140 135 116 112 158 156 172 179 162 171 166 169 173 159 176\n",
      "  152 160 163 165 161 151 155 167 170 153 154 164 177 175 168 174 178 157\n",
      "  187 191 192 193 182 186 183 194 202 190 180 199 181 185 184 195 200 189\n",
      "  201 205 197 203 188 198 208 209 206 210 211 207 196 204 212 220 214 215\n",
      "  216 217 213 218 222 223 221 219]]\n"
     ]
    }
   ],
   "source": [
    "P_inis = permu_groups(L_ini, A, start_groups)\n",
    "P_inis = P_inis.astype(int)\n",
    "P_ini_0 = (P_inis[0,:,:]).copy()#\n",
    "P_inv_ini_0 = (P_inis[1,:,:]).copy()\n",
    "print('*************************')\n",
    "print(P_ini_0)"
   ]
  },
  {
   "cell_type": "code",
   "execution_count": 73,
   "id": "4086ba20",
   "metadata": {},
   "outputs": [],
   "source": [
    "###  VOY A PONER UN VECTOR DE UNKWONS de Nx \n",
    "## ( y otro de entradas== K-1 o buscar np.where == K-1, por ahora busco pero no sé )\n",
    "# En cada entrada pongo el número de capas con groups == 6\n",
    "# cuando hago los cambios en los que se incluyen un unkwons resto y sumo. \n",
    "# Si alguno llega a ==  K-1 ---> y hay más de dos ---> propongo el cambio y veo si lo acepta"
   ]
  },
  {
   "cell_type": "markdown",
   "id": "c5ea5703",
   "metadata": {},
   "source": [
    "## Temperaturas\n",
    "\n"
   ]
  },
  {
   "cell_type": "code",
   "execution_count": 74,
   "id": "28c07022",
   "metadata": {},
   "outputs": [
    {
     "name": "stdout",
     "output_type": "stream",
     "text": [
      "betas: [0.86260878 0.88101504 0.89981405 0.91901419 0.93862401 0.95865228\n",
      " 0.9791079  1.         1.0213379  1.0431311  1.06538932 1.08812249\n",
      " 1.11134073 1.1350544  1.15927407]\n"
     ]
    }
   ],
   "source": [
    "# LISTA DE TEMPERATURAS\n",
    "beta_o = 1.03\n",
    "total = 15\n",
    "b_exp = np.linspace(-5,5,num = total)\n",
    "temper = beta_o**b_exp\n",
    "tempers = temper\n",
    "\n",
    "# tempers = np.zeros((total+1))\n",
    "# mitad = int(total/2)\n",
    "# tempers[:mitad] = temper[:mitad]\n",
    "# tempers[mitad] = 1.0000\n",
    "# tempers[mitad+1:] = temper[mitad:]\n",
    "\n",
    "# ### odd and even \n",
    "# total_i = total +1 \n",
    "total_i = total\n",
    "tempers_odd1 = np.arange(0,total_i-1,2, dtype = int)\n",
    "tempers_odd2 = np.arange(1, total_i, 2,dtype = int)\n",
    "tempers_odd = np.zeros((2, len(tempers_odd1)))\n",
    "tempers_odd[0,:] = tempers_odd1\n",
    "tempers_odd[1,:] = tempers_odd2\n",
    "# print('Odd', tempers_odd)\n",
    "\n",
    "tempers_even1 = np.arange(1,total_i,2)\n",
    "tempers_even2 = np.arange(2, total_i, 2)\n",
    "tempers_even = np.zeros((2, len(tempers_even1)))\n",
    "tempers_even[0,:] = tempers_even1\n",
    "tempers_even[1,:] = tempers_even2\n",
    "\n",
    "\n",
    "print('betas:', tempers)\n",
    "N_t = len(tempers)\n",
    "        \n",
    "P_ini_t = np.zeros((N_t,K,Nx))\n",
    "P_inv_ini_t = np.zeros((N_t,K,Nx))\n",
    "L_ini_t = np.zeros((N_t,Nx,Ny)) \n",
    "groups_ini_t = np.zeros((N_t, K, Nx ))\n",
    "\n",
    "for i in range(0,N_t): #Aquí estoy inicializando para las temperaturas\n",
    "    P_ini_t[i,:,:] = P_ini_0[:,:].copy()\n",
    "    P_inv_ini_t[i,:,:] = P_inv_ini_0[:,:].copy()\n",
    "    L_ini_t[i,:,:] = L_ini.copy()\n",
    "    groups_ini_t[i,:,:] = groups_ini.copy()\n"
   ]
  },
  {
   "cell_type": "markdown",
   "id": "060faab1",
   "metadata": {},
   "source": [
    "# Funciones MonteCarlo: Parallel sampling"
   ]
  },
  {
   "cell_type": "code",
   "execution_count": 84,
   "id": "ec84c6d3",
   "metadata": {},
   "outputs": [],
   "source": [
    "@jit(nopython=True)\n",
    "def overlap_total_change_filas(m1,L_f_v1v2_old,L_c_v1v2_old,L_f_v1v2,L_c_v1v2,A_f, P_inv_old, i_change, j_change,pp1, pp2): \n",
    "\n",
    "    Nx = L_f_v1v2_old.shape[1]\n",
    "    K = A_f.shape[0]\n",
    "    \n",
    "    ovlp_0_new , ovlp_1_new = 0,0\n",
    "    ovlp_0_old , ovlp_1_old = 0,0\n",
    "    ovlp_0_dif, ovlp_1_dif = 0,0\n",
    "  \n",
    "    #old and new: changes and mapping changes\n",
    "    changes = np.array([i_change, j_change], dtype = np.int32)\n",
    "    changes_p = np.array([pp1, pp2], dtype = np.int32)  \n",
    "    changes_old = np.array([j_change, i_change], dtype = np.int32)\n",
    "    changes_p_old = np.array([pp2, pp1], dtype = np.int32)\n",
    "    \n",
    "    for i_k in range(K):\n",
    "        for i_chan,change in enumerate(changes):\n",
    "            for i_x in range(Nx):\n",
    "                if (i_k != m1): # Only changes in the networks m1\n",
    "                    p_f = int(P_inv_old[i_k,change])\n",
    "                    p_c = int(P_inv_old[i_k,i_x])\n",
    "                    p_old, p_old_c = p_f, p_c\n",
    "                \n",
    "                else:\n",
    "                    p_f = changes_p[i_chan]\n",
    "                    p_old = changes_p_old[i_chan]\n",
    "                    if (i_x == i_change):\n",
    "                        p_c = pp1\n",
    "                        p_old_c = pp2\n",
    "                    elif(i_x == j_change):\n",
    "                        p_c = pp2\n",
    "                        p_old_c = pp1\n",
    "                    else: # Only changes in the nodes i,j\n",
    "                        p_c = int(P_inv_old[i_k, i_x])\n",
    "                        p_old_c = p_c\n",
    "\n",
    "                ## rows\n",
    "                valor_L_old, valor_A_old = L_f_v1v2_old[i_chan,i_x], A_f[i_k,p_old,p_old_c]   \n",
    "                valor_L_new, valor_A_new = L_f_v1v2[i_chan,i_x], A_f[i_k,p_f,p_c]\n",
    "                ## columns\n",
    "                valor_L_old_c, valor_A_old_c = 0,0\n",
    "                valor_L_new_c, valor_A_new_c = 0,0\n",
    "                column = 0        \n",
    "                if (i_x not in changes):\n",
    "                    column = 1\n",
    "                    valor_L_old_c, valor_A_old_c = L_c_v1v2_old[i_chan,i_x],A_f[i_k,p_old_c, p_old]\n",
    "                    valor_L_new_c, valor_A_new_c = L_c_v1v2[i_chan,i_x], A_f[i_k,p_c,p_f]\n",
    "\n",
    "                ovlp_1_old = ovlp_1_old + valor_L_old*valor_A_old + valor_L_old_c*valor_A_old_c*column\n",
    "                ovlp_0_old = ovlp_0_old + (1-valor_L_old)*(1-valor_A_old) + (1-valor_L_old_c)*(1-valor_A_old_c)*column\n",
    "                \n",
    "                ovlp_1_new = ovlp_1_new + valor_L_new*valor_A_new + valor_L_new_c*valor_A_new_c*column\n",
    "                ovlp_0_new = ovlp_0_new + (1-valor_L_new)*(1-valor_A_new) + (1-valor_L_new_c)*(1-valor_A_new_c)*column\n",
    "                \n",
    "    ovlp_1_def = ovlp_1_new - ovlp_1_old\n",
    "    ovlp_0_def = ovlp_0_new- ovlp_0_old\n",
    "   \n",
    "    return ovlp_0_def, ovlp_1_def\n",
    "### Some functions that numba do not have\n",
    "@njit\n",
    "def concatenate_numba_sinrep(a,b):\n",
    "    size_a, size_b = len(a), len(b)\n",
    "    no_double = []\n",
    "    for i_b in range(size_b):\n",
    "        if b[i_b] in a:\n",
    "            size_b = size_b-1\n",
    "        else:\n",
    "            no_double.append(b[i_b])\n",
    "    size = size_a + size_b\n",
    "    c = np.zeros((size))\n",
    "    c[0:size_a] = a\n",
    "    c[size_a:] = no_double\n",
    "    \n",
    "    return a\n",
    "\n",
    "@njit\n",
    "def concatenate_numba(a,b):\n",
    "    size_a, size_b = len(a), len(b)\n",
    "    size = size_a + size_b\n",
    "    c = np.zeros((size))\n",
    "    c[0:size_a] = a\n",
    "    c[size_a:] = b \n",
    "    \n",
    "    return c\n",
    "\n",
    "@njit\n",
    "def sum_numba(S):\n",
    "    Nx = S.shape[0]\n",
    "    Ny = S.shape[1]\n",
    "    \n",
    "    suma = 0\n",
    "    for i_s in range(Nx):\n",
    "        suma = suma + sum(S[i_s,:])\n",
    "        \n",
    "    return suma\n",
    "@njit\n",
    "def sum_numba_filas(S): # 2 dimensions\n",
    "    Nx = S.shape[0]\n",
    "    Ny = S.shape[1]\n",
    "    suma = np.zeros((Nx))\n",
    "    for i_s in range(Nx):\n",
    "        suma_c = 0 # sum of the column\n",
    "        for i_y in range(Ny):\n",
    "            suma[i_s] = suma_c + S[i_y,i_s] \n",
    "        \n",
    "    return suma\n",
    "\n",
    "@jit(nopython = True)\n",
    "def hamiltonian_prob(Edges_NoL, Edges_L, overlap_0, overlap_1, alpha, beta):\n",
    "\n",
    "    A_1 = overlap_1 + alpha\n",
    "    B_1 = (Edges_L - overlap_1 + beta)\n",
    "    C_1 = Edges_L + alpha + beta\n",
    "    \n",
    "    A_0 = overlap_0 + alpha\n",
    "    B_0 = (Edges_NoL - overlap_0 + beta)\n",
    "    C_0 = Edges_NoL + alpha + beta\n",
    "    \n",
    "    #  [ math.lgamma(n+1) == log(n!) ]\n",
    "    H1 = math.lgamma(A_1)+ math.lgamma(B_1) - math.lgamma(C_1) \n",
    "    H0 = math.lgamma(A_0)+ math.lgamma(B_0) - math.lgamma(C_0) \n",
    "    \n",
    "    H = -(H1 + H0)\n",
    "    return H\n",
    "    \n",
    "    \n",
    "@jit(nopython=True)\n",
    "def overlap_total_prob(L_f, A_f, P_inv_f):\n",
    "    Nx = L_f.shape[0]\n",
    "    Ny = L_f.shape[1]\n",
    "    K = A_f.shape[0]\n",
    "    \n",
    "    ovlp_0 = np.zeros((K))\n",
    "    ovlp_1 = np.zeros((K))\n",
    "    for k in range(0,K):\n",
    "        for f in range(0,Ny): \n",
    "            for c in range(0,Nx):\n",
    "                p_f=int(P_inv_f[k,f])\n",
    "                p_c=int(P_inv_f[k,c])  \n",
    "                \n",
    "                valor_L, valor_A = L_f[f,c], A_f[k,p_f,p_c]\n",
    "                \n",
    "                ovlp_0[k] = ovlp_0[k] + (1-valor_L)*(1-valor_A )\n",
    "                ovlp_1[k] = ovlp_1[k] + valor_L*valor_A\n",
    "                \n",
    "                \n",
    "    ovlp_1 = int(sum(ovlp_1))\n",
    "    ovlp_0 = int(sum(ovlp_0))\n",
    "    return ovlp_0, ovlp_1\n",
    "\n",
    "\n",
    "@jit(nopython=True) # The blueprint is the average of the observations (taking into account the mapping)  \n",
    "def L_wiring(A_f, P_inv_f):\n",
    "    \n",
    "    Nx = A_f.shape[1]\n",
    "    Ny = A_f.shape[2]\n",
    "    K = A_f.shape[0]\n",
    "    L_new_f = np.zeros((Nx,Ny))\n",
    "    \n",
    "    for i in range(0,Nx):\n",
    "        for j in range(0,Ny):\n",
    "            for k in range(0,K):\n",
    "        \n",
    "                p1 = int(P_inv_f[k,i]) # Mapping of the observations\n",
    "                p2 = int(P_inv_f[k,j]) # Mapping of the observations\n",
    "                L_new_f[i,j] += A_f[k,p1,p2]\n",
    "            valor_lnew=1/K* L_new_f[i,j]\n",
    "            L_new_f[i,j] = round( valor_lnew ) \n",
    "            # If valor_lnew = 0, L=0 (we could establish L=1, but it is more probable to not have a connection)\n",
    "    \n",
    "    return L_new_f\n",
    "\n",
    "\n",
    "#### Some algorithm for sorting\n",
    "@jit(nopython=True)\n",
    "def partition(array,  etiquetas, begin, end):\n",
    "    pivot = begin\n",
    "    for i in range(begin+1, end+1):\n",
    "        if array[i] < array[begin]:\n",
    "            pivot += 1\n",
    "            array[i], array[pivot] = array[pivot], array[i]\n",
    "            etiquetas[i], etiquetas[pivot] = etiquetas[pivot], etiquetas[i]\n",
    "    array[pivot], array[begin] = array[begin], array[pivot]\n",
    "    etiquetas[pivot], etiquetas[begin] = etiquetas[begin], etiquetas[pivot] \n",
    "\n",
    "    return pivot\n",
    "@jit(nopython=True)\n",
    "def quicksort(array, etiquetas, begin=0, end=None):\n",
    "    if end is None:\n",
    "        end = len(array) - 1\n",
    "    if begin >= end: #To end\n",
    "        return\n",
    "    pivot = partition(array,  etiquetas, begin, end)\n",
    "    \n",
    "    #Order right and left\n",
    "    quicksort(array, etiquetas, begin, pivot-1)\n",
    "    quicksort(array,  etiquetas, pivot+1, end)\n",
    "    \n",
    "@njit \n",
    "# We inizialise the algorithm sorting by node degree, but also taking into account the group labels\n",
    "def permu_groups(L_f, A_f, start_f): \n",
    "    Nx = L_f.shape[0]\n",
    "    Ny = L_f.shape[1]\n",
    "    K = A_f.shape[0]\n",
    "    N_groups = len(start_f)\n",
    "    \n",
    "    \n",
    "    # Mappings\n",
    "    P_f = np.zeros((K,Nx)) #Mapping from L to A\n",
    "    P_inv_f = np.zeros((K,Nx)) #Mapping from A to L\n",
    "    P_new = np.zeros((K,Nx))\n",
    "    \n",
    "    # First we order the blueprint and after the observations\n",
    "    # Blueprint:\n",
    "    orden_L=np.zeros((Nx))\n",
    "    for i in range(Nx):\n",
    "        b=np.nonzero(L_f[i,:])\n",
    "        orden_L[i] = b[0].size\n",
    "        \n",
    "    array_L = np.arange(Nx) #For the labels \n",
    "    quicksort(orden_L, array_L)\n",
    "    \n",
    "    # Now according to the group label\n",
    "    array_L_labels = np.zeros((Nx))\n",
    "    group_number = np.zeros((N_groups))\n",
    "    for i in range(Nx):\n",
    "        n_type = 0\n",
    "        #Group\n",
    "        while ( (array_L[i] >= start_f[n_type]) and (n_type < N_groups)):\n",
    "            n_type += 1\n",
    "       \n",
    "        grupo = int(n_type-1)\n",
    "        g = int(start_f[grupo])\n",
    "        array_L_labels[g + int(group_number[grupo])] = array_L[i]\n",
    "        group_number[grupo] += 1\n",
    "\n",
    "    #Observations: \n",
    "    for i in range(0,K):\n",
    "        orden_A = np.zeros((Nx))\n",
    "        for i_orden in range(Nx):\n",
    "            b = np.nonzero(A_f[i,i_orden,:])\n",
    "            orden_A[i_orden] = b[0].size\n",
    "\n",
    "        array_A = np.arange(Nx) #For the labels \n",
    "        quicksort(orden_A, array_A)\n",
    "            \n",
    "        # Now according to the group label\n",
    "        array_A_labels = np.zeros((Nx))\n",
    "        group_number = np.zeros((N_groups))\n",
    "        \n",
    "        for i_g in range(Nx):\n",
    "            n_type = 0\n",
    "            while ( (array_A[i_g] >= start_f[n_type]) and (n_type < N_groups) ):\n",
    "                n_type += 1\n",
    "\n",
    "            grupo = int(n_type-1)\n",
    "            g = int(start_f[grupo])\n",
    "            array_A_labels[ g + int(group_number[grupo])] = array_A[i_g]\n",
    "            group_number[grupo] += 1\n",
    "    \n",
    "\n",
    "    # Now ordered together both label array  array_L = [0,1,2,3...]\n",
    "        array_A_labels = array_A_labels[np.argsort(array_L_labels)]\n",
    "        P_f[i,:] = array_A_labels\n",
    "        \n",
    "        for i_inv in range(0,Nx):\n",
    "            for j_inv in range(0,Ny):\n",
    "                if (P_f[i,i_inv] == j_inv):\n",
    "                    P_inv_f[i, j_inv]=i_inv\n",
    "    \n",
    "    P_todo = np.zeros((2,K,Nx))\n",
    "    P_todo[0,:,:] = P_f.copy() \n",
    "    P_todo[1,:,:] = P_inv_f.copy()\n",
    "\n",
    "    return P_todo\n",
    "\n",
    "@njit \n",
    "# We inizialise the algorithm sorting by node degree, but also taking into account the group labels\n",
    "def permu_groups_random(A_f, start_f, end_f): \n",
    "    Nx = A_f.shape[1]\n",
    "    K = A_f.shape[0]\n",
    "    n_groups = len(start_f)\n",
    "    # Mappings\n",
    "    P_f = np.zeros((K, Nx), dtype=np.int64)  # Mapping from L to A\n",
    "    P_inv_f = np.zeros((K, Nx), dtype=np.int64)  # Mapping from A to L\n",
    "    \n",
    "    for i_g in range(n_groups):\n",
    "        s, e = start_f[i_g], end_f[i_g]\n",
    "        for i_k in range(K):\n",
    "            vector = np.arange(s, e)\n",
    "            np.random.shuffle(vector)  # Use numpy's shuffle function\n",
    "            P_f[i_k, s:e] = vector\n",
    "    \n",
    "    # Compute inverse permutation\n",
    "    for i_k in range(K):\n",
    "        P_inv_f[i_k] = np.argsort(P_f[i_k])\n",
    "    \n",
    "    P_todo = np.stack((P_f, P_inv_f))\n",
    "    return P_todo\n",
    "def ground_state(A,K,Nx, alpha, beta):\n",
    "    P_new, P_inv_new = np.zeros((K,Nx)),np.zeros((K,Nx))\n",
    "    for k in range(0,K):\n",
    "        for i in range(0,Nx):\n",
    "            P_new[k,i]=i \n",
    "            P_inv_new[k,i]=i            \n",
    "    L_new = np.zeros((Nx,Nx))\n",
    "    L_new =  L_wiring(A, P_inv_new)\n",
    "    \n",
    "    Edges_sum = K*Nx*Nx\n",
    "    Edges_L = K*(sum(sum(L_new))) # Los edges=1 que tiene la matriz A\n",
    "    Edges_NoL = Edges_sum - Edges_L #Los edges=0 que tiene la matriz A\n",
    "    overlap_0, overlap_1 = overlap_total_prob(L_new,A,P_inv_new)\n",
    "    \n",
    "    Energy_new = hamiltonian_prob(Edges_NoL, Edges_L, overlap_0, overlap_1, alpha, beta)\n",
    "\n",
    "    return P_new, P_inv_new, L_new, Energy_new\n",
    "\n",
    "def initialization_random(A, start_groups,end_groups, K, Nx, N_t, tempers, alpha, beta):\n",
    "    \n",
    "    L_ini = A[0,:,:].copy() ## Inicialize to compute permutation ranked by node degree\n",
    "    # P_inis = permu_groups(L_ini, A, start_groups)\n",
    "    P_inis = permu_groups_random(A, start_groups, end_groups)\n",
    "    P_inis = P_inis.astype(int)\n",
    "    P_ini_0 = (P_inis[0,:,:]).copy() # Mapping L to A\n",
    "    P_inv_ini_0 = (P_inis[1,:,:]).copy() # Mapping A to L\n",
    "    ## Inizialitation of the system for each temperature, with the same mappings\n",
    "    P_ini_t = np.zeros((N_t,K,Nx))\n",
    "    P_inv_ini_t = np.zeros((N_t,K,Nx))\n",
    "    L_ini_t = np.zeros((N_t,Nx,Nx)) \n",
    "    groups_ini_t = np.zeros((N_t, K, Nx ))\n",
    "    n_groups = len(start_groups)\n",
    "\n",
    "    groups_ini = np.zeros((K,Nx)) #Groups label\n",
    "    for m1 in range(K):\n",
    "        for i_g in range(n_groups):\n",
    "            start = start_groups[i_g]\n",
    "            end = end_groups[i_g]\n",
    "            groups_ini[m1, start:end] = i_g\n",
    "    \n",
    "        \n",
    "    \n",
    "    for i in range(0,N_t): \n",
    "        P_ini_t[i,:,:] = P_ini_0[:,:].copy()\n",
    "        P_inv_ini_t[i,:,:] = P_inv_ini_0[:,:].copy()\n",
    "        L_ini_t[i,:,:] = L_ini.copy()\n",
    "        groups_ini_t[i,:,:] = groups_ini.copy()\n",
    "    P_t = np.zeros((N_t,K,Nx))\n",
    "    P_inv_t = np.zeros((N_t,K,Nx))\n",
    "    L_t = np.zeros((N_t,Nx, Nx))\n",
    "\n",
    "    P_t = (P_ini_t).copy()\n",
    "    P_inv_t = (P_inv_ini_t).copy()\n",
    "    groups_t = groups_ini_t.copy()\n",
    "\n",
    "\n",
    "    Energy_t, Energy_ini_t = np.zeros((N_t)), np.zeros((N_t))\n",
    "    Edges_L_t, Edges_NoL_t = np.zeros((N_t)), np.zeros((N_t))\n",
    "    ovlp_t0, ovlp_t1 = np.zeros((N_t)) , np.zeros((N_t)) \n",
    "    suma_L_t = np.zeros(N_t)\n",
    "\n",
    "    ovlp_t0, ovlp_t1 = ovlp_t0.astype(int), ovlp_t1.astype(int)\n",
    "    P_t = P_t.astype(int)\n",
    "    P_inv_t = P_inv_t.astype(int)\n",
    "    L_t = L_t.astype(int)\n",
    "    groups_t = groups_t.astype(int)\n",
    "    \n",
    "    #### Now the Blueprint is averaged\n",
    "    Edges_sum = K*Nx*Nx\n",
    "    for k_nt in range(N_t):\n",
    "        L_t[k_nt,:,:] =  L_wiring(A, P_inv_t[k_nt,:,:])\n",
    "        Edges_L_t[k_nt] = K*sum(sum(L_t[k_nt,:,:]))\n",
    "        Edges_NoL_t[k_nt] = Edges_sum - Edges_L_t[k_nt]\n",
    "        overlap_0, overlap_1 = overlap_total_prob(L_t[k_nt,:,:],A,P_inv_t[k_nt,:,:])\n",
    "        Energy_t[k_nt] = hamiltonian_prob(Edges_NoL_t[k_nt], Edges_L_t[k_nt], overlap_0, overlap_1,alpha, beta)\n",
    "        ovlp_t0[k_nt], ovlp_t1[k_nt] = overlap_0, overlap_1\n",
    "        suma_L_t[k_nt] = sum_numba(L_t[k_nt,:,:])\n",
    "    \n",
    "\n",
    "    \n",
    "    return P_t, P_inv_t, L_t, Edges_L_t,Edges_NoL_t, Energy_t, ovlp_t0,ovlp_t1, suma_L_t,groups_t \n",
    "def initialization(A, start_groups,end_groups, K, Nx, N_t, tempers, alpha, beta):\n",
    "    \n",
    "    L_ini = A[0,:,:].copy() ## Inicialize to compute permutation ranked by node degree\n",
    "    P_inis = permu_groups(L_ini, A, start_groups)\n",
    "    # P_inis = permu_groups_random(A, start_groups, end_groups)\n",
    "    P_inis = P_inis.astype(int)\n",
    "    P_ini_0 = (P_inis[0,:,:]).copy() # Mapping L to A\n",
    "    P_inv_ini_0 = (P_inis[1,:,:]).copy() # Mapping A to L\n",
    "    ## Inizialitation of the system for each temperature, with the same mappings\n",
    "    P_ini_t = np.zeros((N_t,K,Nx))\n",
    "    P_inv_ini_t = np.zeros((N_t,K,Nx))\n",
    "    L_ini_t = np.zeros((N_t,Nx,Nx)) \n",
    "    groups_ini_t = np.zeros((N_t, K, Nx ))\n",
    "    n_groups = len(start_groups)\n",
    "\n",
    "    groups_ini = np.zeros((K,Nx)) #Groups label\n",
    "    for m1 in range(K):\n",
    "        for i_g in range(n_groups):\n",
    "            start = start_groups[i_g]\n",
    "            end = end_groups[i_g]\n",
    "            groups_ini[m1, start:end] = i_g\n",
    "    \n",
    "        \n",
    "    \n",
    "    for i in range(0,N_t): \n",
    "        P_ini_t[i,:,:] = P_ini_0[:,:].copy()\n",
    "        P_inv_ini_t[i,:,:] = P_inv_ini_0[:,:].copy()\n",
    "        L_ini_t[i,:,:] = L_ini.copy()\n",
    "        groups_ini_t[i,:,:] = groups_ini.copy()\n",
    "    P_t = np.zeros((N_t,K,Nx))\n",
    "    P_inv_t = np.zeros((N_t,K,Nx))\n",
    "    L_t = np.zeros((N_t,Nx, Nx))\n",
    "\n",
    "    P_t = (P_ini_t).copy()\n",
    "    P_inv_t = (P_inv_ini_t).copy()\n",
    "    groups_t = groups_ini_t.copy()\n",
    "\n",
    "\n",
    "    Energy_t, Energy_ini_t = np.zeros((N_t)), np.zeros((N_t))\n",
    "    Edges_L_t, Edges_NoL_t = np.zeros((N_t)), np.zeros((N_t))\n",
    "    ovlp_t0, ovlp_t1 = np.zeros((N_t)) , np.zeros((N_t)) \n",
    "    suma_L_t = np.zeros(N_t)\n",
    "\n",
    "    ovlp_t0, ovlp_t1 = ovlp_t0.astype(int), ovlp_t1.astype(int)\n",
    "    P_t = P_t.astype(int)\n",
    "    P_inv_t = P_inv_t.astype(int)\n",
    "    L_t = L_t.astype(int)\n",
    "    groups_t = groups_t.astype(int)\n",
    "    \n",
    "    #### Now the Blueprint is averaged\n",
    "    Edges_sum = K*Nx*Nx\n",
    "    for k_nt in range(N_t):\n",
    "        L_t[k_nt,:,:] =  L_wiring(A, P_inv_t[k_nt,:,:])\n",
    "        Edges_L_t[k_nt] = K*sum(sum(L_t[k_nt,:,:]))\n",
    "        Edges_NoL_t[k_nt] = Edges_sum - Edges_L_t[k_nt]\n",
    "        overlap_0, overlap_1 = overlap_total_prob(L_t[k_nt,:,:],A,P_inv_t[k_nt,:,:])\n",
    "        Energy_t[k_nt] = hamiltonian_prob(Edges_NoL_t[k_nt], Edges_L_t[k_nt], overlap_0, overlap_1,alpha, beta)\n",
    "        ovlp_t0[k_nt], ovlp_t1[k_nt] = overlap_0, overlap_1\n",
    "        suma_L_t[k_nt] = sum_numba(L_t[k_nt,:,:])\n",
    "    \n",
    "\n",
    "    \n",
    "    return P_t, P_inv_t, L_t, Edges_L_t,Edges_NoL_t, Energy_t, ovlp_t0,ovlp_t1, suma_L_t,groups_t \n",
    "def initialization_continuation(A, P_inv_t, start_groups,end_groups, K, Nx, N_t, tempers, alpha, beta):\n",
    "    \n",
    "    \n",
    "    ## recalculo la L_t\n",
    "    P_inv_ini = P_inv_t.copy()\n",
    "    L_ini = np.zeros((N_t, Nx, Nx))\n",
    "    P_ini = np.zeros((P_inv_t.shape))\n",
    "    Edges_L_ini, Edges_NoL_ini = np.zeros((N_t)), np.zeros((N_t))\n",
    "    Energy_ini, suma_L_ini = np.zeros((N_t)), np.zeros((N_t))\n",
    "    overlap_0_ini, overlap_1_ini = np.zeros((N_t)), np.zeros((N_t))\n",
    "    for k_nt in range(N_t):\n",
    "        for i_k in range(K):\n",
    "            P_ini[k_nt, i_k,:] = np.argsort(P_inv_ini[k_nt, i_k,:])\n",
    "\n",
    "        L_ini[k_nt, :,:] =  L_wiring(A,P_inv_ini[k_nt, :,:])\n",
    "\n",
    "        Edges_sum = K*Nx*Nx\n",
    "        Edges_L_ini[k_nt] = K*(sum(sum(L_ini[k_nt, :,:]))) # Los edges=1 que tiene la matriz A\n",
    "        Edges_NoL_ini[k_nt] = Edges_sum - Edges_L_ini[k_nt] #Los edges=0 que tiene la matriz A\n",
    "        overlap_0_ini[k_nt], overlap_1_ini[k_nt] = overlap_total_prob(L_ini[k_nt, :,:],A,P_inv_ini[k_nt, :,:])     \n",
    "        Energy_ini[k_nt] = hamiltonian_prob(Edges_NoL_ini[k_nt], Edges_L_ini[k_nt], overlap_0_ini[k_nt], overlap_1_ini[k_nt], alpha, beta)\n",
    "        suma_L_ini[k_nt] = sum_numba(L_ini[k_nt,:,:])\n",
    "    \n",
    "    \n",
    "    groups_ini = np.zeros((N_t, K, Nx ))\n",
    "    for m1 in range(K):\n",
    "        for i_g in range(n_groups):\n",
    "            start = start_groups[i_g]\n",
    "            end = end_groups[i_g]\n",
    "            groups_ini[:,m1, start:end] = i_g\n",
    "    \n",
    "    overlap_0_ini, overlap_1_ini = overlap_0_ini.astype(int), overlap_1_ini.astype(int)\n",
    "    P_ini = P_ini.astype(int)\n",
    "    P_inv_ini = P_inv_ini.astype(int)\n",
    "    L_ini = L_ini.astype(int)\n",
    "    groups_ini = groups_ini.astype(int)\n",
    "    \n",
    "    return P_ini, P_inv_ini, L_ini, Edges_L_ini,Edges_NoL_ini, Energy_ini, overlap_0_ini, overlap_1_ini,suma_L_ini, groups_ini\n",
    "\n",
    "def initialization_anchors(A, start_groups,end_groups,groups_ini, start_anchor,end_anchor,Anchors,grupos_extra, K, Nx, N_t, tempers, alpha, beta):\n",
    "    \n",
    "    L_ini = A[0,:,:].copy() ## Inicialize to compute permutation ranked by node degree\n",
    "    P_inis = permu_groups_capa1_anchors_knwn(L_ini, A, start_groups,end_groups,start_anchor,end_anchor,groups_ini, Anchors, grupos_extra) \n",
    "    # P_inis = permu_groups_random(A, start_groups, end_groups)\n",
    "    P_inis = P_inis.astype(int)\n",
    "    P_ini_0 = (P_inis[0,:,:]).copy() # Mapping L to A\n",
    "    P_inv_ini_0 = (P_inis[1,:,:]).copy() # Mapping A to L\n",
    "    ## Inizialitation of the system for each temperature, with the same mappings\n",
    "    P_ini_t = np.zeros((N_t,K,Nx))\n",
    "    P_inv_ini_t = np.zeros((N_t,K,Nx))\n",
    "    L_ini_t = np.zeros((N_t,Nx,Nx)) \n",
    "    groups_ini_t = np.zeros((N_t, K, Nx ))\n",
    "    groups_anch_ini_t = np.zeros((N_t, K, Nx ))\n",
    "    n_groups = len(start_groups)\n",
    "\n",
    "    groups_ini = np.zeros((K,Nx)) #Groups label\n",
    "    for m1 in range(K):\n",
    "        for i_g in range(n_groups):\n",
    "            start = start_groups[i_g]\n",
    "            end = end_groups[i_g]\n",
    "            groups_ini[m1, start:end] = i_g\n",
    "    \n",
    "    groups_ini_anchor = np.zeros((K,Nx))-1\n",
    "    for m1 in range(K):\n",
    "        for i_g in range(n_groups):\n",
    "            start = start_anchor[i_g]\n",
    "            end = end_anchor[i_g]\n",
    "            groups_ini_anchor[m1, start:end] = i_g      \n",
    "    \n",
    "    for i in range(0,N_t): \n",
    "        P_ini_t[i,:,:] = P_ini_0[:,:].copy()\n",
    "        P_inv_ini_t[i,:,:] = P_inv_ini_0[:,:].copy()\n",
    "        L_ini_t[i,:,:] = L_ini.copy()\n",
    "        groups_ini_t[i,:,:] = groups_ini.copy()\n",
    "        groups_anch_ini_t[i,:,:] = groups_ini_anchor.copy()\n",
    "        \n",
    "    P_t = np.zeros((N_t,K,Nx))\n",
    "    P_inv_t = np.zeros((N_t,K,Nx))\n",
    "    L_t = np.zeros((N_t,Nx, Nx))\n",
    "\n",
    "    P_t = (P_ini_t).copy()\n",
    "    P_inv_t = (P_inv_ini_t).copy()\n",
    "    groups_t = groups_ini_t.copy()\n",
    "    groups_anch_t = groups_anch_ini_t.copy()\n",
    "\n",
    "    Energy_t, Energy_ini_t = np.zeros((N_t)), np.zeros((N_t))\n",
    "    Edges_L_t, Edges_NoL_t = np.zeros((N_t)), np.zeros((N_t))\n",
    "    ovlp_t0, ovlp_t1 = np.zeros((N_t)) , np.zeros((N_t)) \n",
    "    suma_L_t = np.zeros(N_t)\n",
    "\n",
    "    ovlp_t0, ovlp_t1 = ovlp_t0.astype(int), ovlp_t1.astype(int)\n",
    "    P_t = P_t.astype(int)\n",
    "    P_inv_t = P_inv_t.astype(int)\n",
    "    L_t = L_t.astype(int)\n",
    "    groups_t = groups_t.astype(int)\n",
    "    groups_anch_t = groups_anch_t.astype(int)\n",
    "    \n",
    "    #### Now the Blueprint is averaged\n",
    "    Edges_sum = K*Nx*Nx\n",
    "    for k_nt in range(N_t):\n",
    "        L_t[k_nt,:,:] =  L_wiring(A, P_inv_t[k_nt,:,:])\n",
    "        Edges_L_t[k_nt] = K*sum(sum(L_t[k_nt,:,:]))\n",
    "        Edges_NoL_t[k_nt] = Edges_sum - Edges_L_t[k_nt]\n",
    "        overlap_0, overlap_1 = overlap_total_prob(L_t[k_nt,:,:],A,P_inv_t[k_nt,:,:])\n",
    "        Energy_t[k_nt] = hamiltonian_prob(Edges_NoL_t[k_nt], Edges_L_t[k_nt], overlap_0, overlap_1,alpha, beta)\n",
    "        ovlp_t0[k_nt], ovlp_t1[k_nt] = overlap_0, overlap_1\n",
    "        suma_L_t[k_nt] = sum_numba(L_t[k_nt,:,:])\n",
    "    \n",
    "\n",
    "    \n",
    "    return P_t, P_inv_t, L_t, Edges_L_t,Edges_NoL_t, Energy_t, ovlp_t0,ovlp_t1, suma_L_t,groups_t, groups_anch_t\n",
    "#Vamos a ordenar igual las etiquetas de nodos con las de a que grupo pertenecen\n",
    "def permu_groups_capa1_anchors_knwn(L_f, A_f, start_f,end_f,start_anch_f,end_anch_f,grupos_t, Anchors,grupos_extra): #En este caso no lo voy a hacer con anchors\n",
    "   \n",
    "    Nx = L_f.shape[0]\n",
    "    Ny = L_f.shape[1]\n",
    "    K = A_f.shape[0]\n",
    "    N_groups = len(start_f)\n",
    "    \n",
    "    start_anchor = start_anch_f.copy()\n",
    "    end_anchor = end_anch_f.copy()\n",
    "    #Matrices permutación y sus inversas\n",
    "    P_f = np.zeros((K,Nx))\n",
    "    P_inv_f = np.zeros((K,Nx))\n",
    "    P_new = np.zeros((K,Nx))\n",
    "    \n",
    "    \n",
    "    ### Colocamos primero los anchors\n",
    "    n_an = len(Anchors)\n",
    "    P_inv_f[:,:n_an] = Anchors\n",
    "    \n",
    "    #Vamos a ordenar las matrices Observación según el grado de los nodos de L_inf\n",
    "    orden_L_in = np.zeros((Nx-n_an ))\n",
    "    array_L = np.zeros((Nx-n_an ))\n",
    "    c_o = 0\n",
    "\n",
    "    for i in range(Nx):\n",
    "        if (i not in Anchors):\n",
    "            b = np.nonzero(L_f[i,:])\n",
    "            array_L[c_o] = i\n",
    "            orden_L_in[c_o] = b[0].size\n",
    "            c_o += 1\n",
    "     \n",
    "    orden_L = orden_L_in.copy()\n",
    "    quicksort(orden_L, array_L)\n",
    "    array_L = array_L[::-1]\n",
    "\n",
    "    grupos_L = np.zeros((Nx-n_an))\n",
    "    c_o = 0\n",
    "    for  i_g in range(N_groups):\n",
    "        for i_x in range(start_f[i_g], end_f[i_g]):\n",
    "            if i_x not in Anchors:\n",
    "                grupos_L[c_o] = i_g\n",
    "                c_o += 1\n",
    "    grupos_L = grupos_L.astype(int)\n",
    "    orden_L = orden_L_in.copy()\n",
    "    quicksort(orden_L, grupos_L )\n",
    "    grupos_L = grupos_L[::-1]\n",
    "\n",
    "    #Órdenes de A\n",
    "    for i in range(0,K):\n",
    "        orden_A_in = np.zeros((Nx- n_an))\n",
    "        array_A = np.zeros((Nx-n_an))\n",
    "        grupos_A = np.zeros((Nx-n_an))\n",
    "        c_o = 0\n",
    "        for i_orden in range(Nx):\n",
    "            if (i_orden not in Anchors):\n",
    "                b = np.nonzero(A_f[i,i_orden,:])\n",
    "                array_A[c_o] = i_orden\n",
    "                grupos_A[c_o] = grupos_t[i, i_orden]\n",
    "                orden_A_in[c_o] = b[0].size#.size\n",
    "                c_o += 1\n",
    "        \n",
    "        orden_A = orden_A_in.copy()\n",
    "        quicksort(orden_A, array_A)  \n",
    "        array_A = array_A[::-1]\n",
    "\n",
    "        orden_A = orden_A_in.copy()\n",
    "        quicksort(orden_A, grupos_A)\n",
    "        grupos_A = grupos_A[::-1]\n",
    "\n",
    "        \n",
    "        array_A_L = np.zeros((Nx - n_an))\n",
    "        for i_n in range(Nx-n_an):\n",
    "            if ((grupos_A[i_n] == grupos_L[i_n])):\n",
    "                array_A_L[i_n] = array_A[i_n]\n",
    "            else:\n",
    "                # Busco el siguiente del mismo grupo y lo cambio\n",
    "                count = 0\n",
    "                for i_nn in range(i_n, Nx-n_an):\n",
    "                    if ((grupos_A[i_nn] == grupos_L[i_n])): \n",
    "                        array_A_L[i_n] = array_A[i_nn]\n",
    "                        #Cambio\n",
    "                        array_A[i_nn] = array_A[i_n]\n",
    "                        aux = grupos_A[i_nn]\n",
    "                        grupos_A[i_nn] = grupos_A[i_n]\n",
    "                        grupos_A[i_n] = aux\n",
    "                        count = 1\n",
    "                        break\n",
    "        array_A_L = array_A_L[np.argsort(array_L)]\n",
    "        P_inv_f[i,n_an:] = array_A_L\n",
    "        \n",
    "        for i_inv in range(0,Nx):\n",
    "            for j_inv in range(0,Ny):\n",
    "                if (P_inv_f[i,i_inv] == j_inv):\n",
    "                    P_f[i, j_inv]=i_inv\n",
    "    \n",
    "    P_todo = np.zeros((2,K,Nx))\n",
    "    P_todo[0,:,:] = P_f.copy()\n",
    "    P_todo[1,:,:] = P_inv_f.copy()  \n",
    "    \n",
    "    return P_todo   \n",
    "\n",
    "def variable_store(PasosMC,Pasos_store,N_epochs, N_t, K, Nx):\n",
    "    energies_pasos = np.zeros((N_epochs,N_t,PasosMC))\n",
    "    P_store = np.zeros((N_epochs,Pasos_store,N_t, K, Nx))\n",
    "    Energy_store = np.zeros((N_epochs,Pasos_store, N_t))\n",
    "    L_store = np.zeros((N_epochs,Pasos_store,N_t, Nx, Nx))\n",
    "    return energies_pasos, P_store,L_store, Energy_store\n",
    "@jit(nopython=True)\n",
    "def L_wiring_change_filas(m1,L_old,A_f, i_change, j_change, P_inv_old):\n",
    "    \n",
    "    Nx = A_f.shape[1]\n",
    "    K = A_f.shape[0] \n",
    "    \n",
    "    L_new_f = L_old.copy()\n",
    "    L_f_v1v2,L_c_v1v2  = np.zeros((2,Nx)),np.zeros((2,Nx))\n",
    "    \n",
    "    ## changes\n",
    "    changes = np.array([i_change, j_change])\n",
    "    changes_new = np.array([j_change, i_change])\n",
    "    \n",
    "    ## Old values\n",
    "    suma_old =(np.sum(L_old[i_change,:]) + np.sum(L_old[j_change,:]) + np.sum(L_old[:,i_change]) + np.sum(L_old[:,j_change]))-L_old[i_change,j_change]-L_old[j_change,j_change]-L_old[i_change,i_change]-L_old[j_change,i_change]\n",
    "    \n",
    "    ## New row and column\n",
    "    L_new_f[i_change,:], L_new_f[j_change,:], L_new_f[:,i_change], L_new_f[:,j_change] = np.zeros(Nx),np.zeros(Nx),np.zeros(Nx),np.zeros(Nx)\n",
    "    \n",
    "\n",
    "    suma_1 = 0\n",
    "    \n",
    "    for i_i,i_chan in enumerate(changes): #Only looking at the \n",
    "        ############### ROWS & COLUMNS\n",
    "        for i_x in range(Nx):\n",
    "            if (i_x in changes): # The rest of nodes\n",
    "                for k in range(K):\n",
    "                    if (k == m1):\n",
    "                        chan_new = changes_new[i_i]\n",
    "                        \n",
    "                        if (i_x == changes_new[0]):\n",
    "                            p2_2 = int(P_inv_old[k,changes_new[1]])\n",
    "                        else:\n",
    "                            p2_2 = int(P_inv_old[k,changes_new[0]])\n",
    "                    else:\n",
    "                        chan_new = changes[i_i]\n",
    "                        p2_2 = int(P_inv_old[k,i_x])\n",
    "                    p1_2 = int (P_inv_old[k,chan_new])\n",
    "\n",
    "                    L_f_v1v2[i_i,i_x] += A_f[k,p1_2,p2_2]\n",
    "                    L_c_v1v2[i_i,i_x] += A_f[k,p2_2,p1_2]\n",
    "\n",
    "            else: # The nodes that change\n",
    "                for k in range(K):\n",
    "                    if (k == m1):\n",
    "                        chan_new = changes_new[i_i]\n",
    "                    else:\n",
    "                        chan_new = changes[i_i]\n",
    "                    \n",
    "                    \n",
    "                    p1_2 = int (P_inv_old[k,chan_new])\n",
    "                    p2_2 = int(P_inv_old[k,i_x])\n",
    "                    \n",
    "                    L_f_v1v2[i_i,i_x] += A_f[k,p1_2,p2_2]\n",
    "                    L_c_v1v2[i_i,i_x] += A_f[k,p2_2,p1_2]\n",
    "                    \n",
    "                    \n",
    "                    \n",
    "            valor_lnew_2=1/K*  L_f_v1v2[i_i,i_x]\n",
    "            L_f_v1v2[i_i,i_x] = round( valor_lnew_2 )\n",
    "\n",
    "            valor_lnew_c=1/K* L_c_v1v2[i_i,i_x]\n",
    "            L_c_v1v2[i_i,i_x] = round( valor_lnew_c)\n",
    "                    \n",
    "    suma_new = np.sum(L_f_v1v2[0,:]) + np.sum(L_f_v1v2[1,:]) + np.sum(L_c_v1v2[0,:]) + np.sum(L_c_v1v2[1,:])-L_c_v1v2[0,j_change]-L_c_v1v2[0,i_change]-L_c_v1v2[1,j_change]-L_c_v1v2[1,i_change]\n",
    "    suma_1 = suma_new - suma_old\n",
    "    return L_f_v1v2,L_c_v1v2, suma_1    \n",
    "\n",
    "@jit(nopython=True)\n",
    "def L_wiring_overlap_change_filas(m1,L_f_v1v2_old,L_c_v1v2_old,A_f, i_change, j_change, P_inv_old, pp1, pp2):\n",
    "    \n",
    "    Nx = A_f.shape[1]\n",
    "    K = A_f.shape[0] \n",
    "\n",
    "    #### Para la parte del WIRING    \n",
    "    L_f_v1v2,L_c_v1v2  = np.zeros((2,Nx)),np.zeros((2,Nx))\n",
    "    \n",
    "    ## changes\n",
    "    changes = np.array([i_change, j_change])\n",
    "    changes_new = np.array([j_change, i_change])\n",
    "    \n",
    "    ## Old values\n",
    "    suma_old =(np.sum(L_f_v1v2_old[0,:]) + np.sum(L_f_v1v2_old[1,:]) + np.sum(L_c_v1v2_old[0,:]) + np.sum(L_c_v1v2_old[1,:]))-L_f_v1v2_old[0,j_change]-L_f_v1v2_old[1,j_change]-L_f_v1v2_old[0,i_change]-L_f_v1v2_old[1,i_change]\n",
    "    \n",
    "    ## New row and column\n",
    "    ##### Para la parte del OVERLAP\n",
    "    ovlp_0_new , ovlp_1_new = 0,0\n",
    "    ovlp_0_old , ovlp_1_old = 0,0\n",
    "    ovlp_0_dif, ovlp_1_dif = 0,0\n",
    "    changes_p = np.array([pp1, pp2], dtype = np.int32)  \n",
    "    changes_p_old = np.array([pp2, pp1], dtype = np.int32)\n",
    "    suma_1 = 0\n",
    "    \n",
    "    for i_i,i_chan in enumerate(changes): #Only looking at the \n",
    "        ############### ROWS & COLUMNS\n",
    "        for i_x in range(Nx):\n",
    "            if (i_x in changes): # The rest of nodes\n",
    "                for k in range(K):\n",
    "                    if (k == m1):\n",
    "                        chan_new = changes_new[i_i]\n",
    "                        \n",
    "                        if (i_x == changes_new[0]):\n",
    "                            p2_2 = int(P_inv_old[k,changes_new[1]])\n",
    "                        else:\n",
    "                            p2_2 = int(P_inv_old[k,changes_new[0]])\n",
    "                    else:\n",
    "                        chan_new = changes[i_i]\n",
    "                        p2_2 = int(P_inv_old[k,i_x])\n",
    "                    p1_2 = int (P_inv_old[k,chan_new])\n",
    "\n",
    "                    L_f_v1v2[i_i,i_x] += A_f[k,p1_2,p2_2]\n",
    "                    L_c_v1v2[i_i,i_x] += A_f[k,p2_2,p1_2]\n",
    "\n",
    "            else: # The nodes that change\n",
    "                for k in range(K):\n",
    "                    if (k == m1):\n",
    "                        chan_new = changes_new[i_i]\n",
    "                    else:\n",
    "                        chan_new = changes[i_i]\n",
    "                    \n",
    "                    \n",
    "                    p1_2 = int (P_inv_old[k,chan_new])\n",
    "                    p2_2 = int(P_inv_old[k,i_x])\n",
    "                    \n",
    "                    L_f_v1v2[i_i,i_x] += A_f[k,p1_2,p2_2]\n",
    "                    L_c_v1v2[i_i,i_x] += A_f[k,p2_2,p1_2]\n",
    "                    \n",
    "                    \n",
    "                    \n",
    "            valor_lnew_2=1/K*  L_f_v1v2[i_i,i_x]\n",
    "            L_f_v1v2[i_i,i_x] = round( valor_lnew_2 )\n",
    "\n",
    "            valor_lnew_c=1/K* L_c_v1v2[i_i,i_x]\n",
    "            L_c_v1v2[i_i,i_x] = round( valor_lnew_c)\n",
    "                    \n",
    "            ## Una vez que tenemos los valores de la L podemos mirar el overlap!\n",
    "            for i_k in range(K):\n",
    "                if i_k != m1: # Only changes in m1\n",
    "                    p_f = int(P_inv_old[i_k,i_chan])\n",
    "                    p_c = int(P_inv_old[i_k,i_x])\n",
    "                    p_old, p_old_c = p_f, p_c\n",
    "                else:\n",
    "                    p_f = changes_p[i_i]\n",
    "                    p_old = changes_p_old[i_i]\n",
    "                    if (i_x == i_change):\n",
    "                        p_c = pp1\n",
    "                        p_old_c = pp2\n",
    "                    elif(i_x == j_change):\n",
    "                        p_c = pp2\n",
    "                        p_old_c = pp1\n",
    "                    else: # Only changes in the nodes i,j\n",
    "                        p_c = int(P_inv_old[i_k, i_x])\n",
    "                        p_old_c = p_c\n",
    "            \n",
    "                valor_L_old, valor_A_old = L_f_v1v2_old[i_i,i_x], A_f[i_k,p_old,p_old_c]   \n",
    "                valor_L_new, valor_A_new = L_f_v1v2[i_i,i_x], A_f[i_k,p_f,p_c]\n",
    "                ## columns\n",
    "                valor_L_old_c, valor_A_old_c = 0,0\n",
    "                valor_L_new_c, valor_A_new_c = 0,0\n",
    "                column = 0        \n",
    "                if (i_x not in changes):\n",
    "                    column = 1\n",
    "                    valor_L_old_c, valor_A_old_c = L_c_v1v2_old[i_i,i_x],A_f[i_k,p_old_c, p_old]\n",
    "                    valor_L_new_c, valor_A_new_c = L_c_v1v2[i_i,i_x], A_f[i_k,p_c,p_f]\n",
    "    \n",
    "                ovlp_1_old = ovlp_1_old + valor_L_old*valor_A_old + valor_L_old_c*valor_A_old_c*column\n",
    "                ovlp_0_old = ovlp_0_old + (1-valor_L_old)*(1-valor_A_old) + (1-valor_L_old_c)*(1-valor_A_old_c)*column\n",
    "                \n",
    "                ovlp_1_new = ovlp_1_new + valor_L_new*valor_A_new + valor_L_new_c*valor_A_new_c*column\n",
    "                ovlp_0_new = ovlp_0_new + (1-valor_L_new)*(1-valor_A_new) + (1-valor_L_new_c)*(1-valor_A_new_c)*column\n",
    "                \n",
    "\n",
    "    \n",
    "                    \n",
    "    suma_new = np.sum(L_f_v1v2[0,:]) + np.sum(L_f_v1v2[1,:]) + np.sum(L_c_v1v2[0,:]) + np.sum(L_c_v1v2[1,:])-L_c_v1v2[0,j_change]-L_c_v1v2[0,i_change]-L_c_v1v2[1,j_change]-L_c_v1v2[1,i_change]\n",
    "    suma_1 = suma_new - suma_old\n",
    "\n",
    "    ## Parte del overlap \n",
    "    ovlp_1_def = ovlp_1_new - ovlp_1_old\n",
    "    ovlp_0_def = ovlp_0_new- ovlp_0_old\n",
    "\n",
    "\n",
    "\n",
    "    \n",
    "    return L_f_v1v2,L_c_v1v2, suma_1, ovlp_0_def, ovlp_1_def\n",
    "\n",
    "@jit(nopython = True)\n",
    "def parallel_L_knwn_change_groups(c_parallel,alpha,beta,fijado_f,groups_f, N_groups_f, start_f, end_f,\n",
    "                       A, P_t_f, P_inv_t_f, L_t_f,suma_L, Energy_t_f, ovlp_t_f0, ovlp_t_f1, tempers_f,tempers_odd, tempers_even,\n",
    "                                    c_accep, c_odd, m_old, round_trip_old, c_rounds):\n",
    "    \n",
    "    # fijado_f : To let one of the networks fixed or not (If only two networks it doesn't matter)\n",
    "    # c_parallel: counter to change temperatures\n",
    "    # start_f, end,f\n",
    "    # N_groups_f: Number of groups\n",
    "    # groups_f: Directly the ggroup numbeer from the position\n",
    "    ### Movement:\n",
    "    # 1) Choose one node and see their group (also we can choose a group first)\n",
    "    # 2) Choose another random node inside this group \n",
    "    # 3) Each 4 movements, we propose change the temperatures\n",
    "\n",
    "    N_t = L_t_f.shape[0] # Numbers of tempers\n",
    "    Nx = L_t_f.shape[1] # Numbers of nodes\n",
    "    K = A.shape[0] # Numbers of networks\n",
    "    Edges_sum = K*Nx*Nx\n",
    "   \n",
    "    if (c_parallel <4*Nx): # If not change of temperatures\n",
    "        c_parallel += 1\n",
    "        \n",
    "        #Choose the networks to propose the change (in all temperatures)\n",
    "        if (fijado_f == 1):\n",
    "            m1 = np.random.randint(K-1)+1 #One networks\n",
    "        else:\n",
    "            m1 = np.random.randint(K)    \n",
    "        \n",
    "        for k_nt in range(N_t):    \n",
    "            # 1) Choose a random node (node in A)\n",
    "            v1_mapping = np.random.randint(0, Nx)\n",
    "            grupo = groups_f[k_nt,m1,v1_mapping]\n",
    "            start, end = start_f[grupo], end_f[grupo]\n",
    "            size_group = end - start\n",
    "            todos = size_group \n",
    "            if (size_group > 1): \n",
    "                v2_mapping = np.random.randint(start, end)\n",
    "                while (v2_mapping == v1_mapping):\n",
    "                    v2_mapping = np.random.randint(start, end)\n",
    "    \n",
    "                # Nodes in L\n",
    "                v1 = P_t_f[k_nt, m1,v1_mapping]\n",
    "                v2 = P_t_f[k_nt, m1, v2_mapping]\n",
    "    \n",
    "               ### Only changes in the specific columns and rows\n",
    "                L_f_v1v2, L_f_v1v2_old = np.zeros((2,Nx)),np.zeros((2,Nx))\n",
    "                L_c_v1v2, L_c_v1v2_old = np.zeros((2,Nx)),np.zeros((2,Nx))\n",
    "    \n",
    "                pp_1 = int(P_inv_t_f[k_nt,m1,v2]) # v2_mapping\n",
    "                pp_2 = int(P_inv_t_f[k_nt,m1,v1]) # v1_mapping\n",
    "    \n",
    "                L_f_v1v2_old[0,:],L_f_v1v2_old[1,:] = L_t_f[k_nt,v1,:].copy(),L_t_f[k_nt,v2,:].copy()\n",
    "                L_c_v1v2_old[0,:],L_c_v1v2_old[1,:] = L_t_f[k_nt,:,v1].copy(),L_t_f[k_nt,:,v2].copy()\n",
    "                \n",
    "                # Changes in the blueprint\n",
    "                L_f_v1v2,L_c_v1v2 , suma_aux,ovl_0_new, ovl_1_new = L_wiring_overlap_change_filas(m1,L_f_v1v2_old,L_c_v1v2_old, A, v1, v2, P_inv_t_f[k_nt,:,:], pp_1, pp_2)\n",
    "                \n",
    "                # Parameters to change\n",
    "                Edges_L = K*(suma_L[k_nt] + suma_aux)\n",
    "                Edges_NoL = Edges_sum - Edges_L\n",
    "                overlap_0,overlap_1 = ovlp_t_f0[k_nt] + ovl_0_new, ovlp_t_f1[k_nt] + ovl_1_new\n",
    "                Energy_bucle = hamiltonian_prob(Edges_NoL, Edges_L, overlap_0,overlap_1,alpha, beta)\n",
    "                dE_sampler = Energy_bucle - Energy_t_f[k_nt]\n",
    "                dE_t = dE_sampler\n",
    "                ## borrar\n",
    "                # if k_nt == 1:\n",
    "                #     print(dE_t)\n",
    "                ## borrar\n",
    "                \n",
    "                ### UPDATE\n",
    "                if (dE_t < 0):\n",
    "                    \n",
    "                    P_aux1 = P_t_f[k_nt, m1,pp_2]\n",
    "                    P_t_f[k_nt, m1, pp_2] = P_t_f[k_nt, m1,pp_1]\n",
    "                    P_t_f[k_nt, m1, pp_1] = P_aux1\n",
    "    \n",
    "                    P_invaux1 = P_inv_t_f[k_nt,m1,v2]\n",
    "                    P_inv_t_f[k_nt,m1,v2] = P_inv_t_f[k_nt,m1,v1]\n",
    "                    P_inv_t_f[k_nt,m1,v1] = P_invaux1\n",
    "    \n",
    "                    Energy_t_f[k_nt] = Energy_t_f[k_nt] + dE_t\n",
    "                    ovlp_t_f0[k_nt] = overlap_0\n",
    "                    ovlp_t_f1[k_nt] = overlap_1\n",
    "                    L_t_f[k_nt,v1, :],L_t_f[k_nt,v2, :] = L_f_v1v2[0,:],L_f_v1v2[1,:]\n",
    "                    L_t_f[k_nt,:,v1],L_t_f[k_nt,:,v2] = L_c_v1v2[0,:],L_c_v1v2[1,:]\n",
    "                    suma_L[k_nt] = suma_L[k_nt] + suma_aux\n",
    "    \n",
    "                elif (np.random.rand() < np.exp(-dE_t*tempers_f[k_nt])):\n",
    "    \n",
    "                    P_aux1 = P_t_f[k_nt, m1,pp_2]\n",
    "                    P_t_f[k_nt, m1, pp_2] = P_t_f[k_nt, m1,pp_1]\n",
    "                    P_t_f[k_nt, m1, pp_1] = P_aux1\n",
    "    \n",
    "                    P_invaux1 = P_inv_t_f[k_nt,m1,v2]\n",
    "                    P_inv_t_f[k_nt,m1,v2] = P_inv_t_f[k_nt,m1,v1]\n",
    "                    P_inv_t_f[k_nt,m1,v1] = P_invaux1\n",
    "    \n",
    "                    Energy_t_f[k_nt] = Energy_t_f[k_nt] + dE_t\n",
    "                    ovlp_t_f0[k_nt] = overlap_0\n",
    "                    ovlp_t_f1[k_nt] = overlap_1\n",
    "                    L_t_f[k_nt,v1, :],L_t_f[k_nt,v2, :] = L_f_v1v2[0,:].copy(),L_f_v1v2[1,:].copy()\n",
    "                    L_t_f[k_nt,:,v1],L_t_f[k_nt,:,v2] = L_c_v1v2[0,:].copy(),L_c_v1v2[1,:].copy()\n",
    "                    suma_L[k_nt] = suma_L[k_nt] + suma_aux\n",
    "\n",
    "    else: # Change in temperatures\n",
    "        c_parallel = 0\n",
    "        mt1 = np.random.randint(N_t) \n",
    "        if mt1 == 0:\n",
    "            mt2 = 1\n",
    "        elif mt1 == (N_t - 1):\n",
    "            mt2 = mt1 -1\n",
    "        else:\n",
    "            mt2 = mt1 + random_menos_mas(np.random.rand())\n",
    "        \n",
    "\n",
    "\n",
    "        #Probar el cambio de energía\n",
    "        #Cambio del 1:\n",
    "        Energy_1 = Energy_t_f[mt1]\n",
    "        #Cambio del 2:\n",
    "        Energy_2 = Energy_t_f[mt2] \n",
    "\n",
    "        dE_parallel = -(tempers_f[mt1]-tempers_f[mt2])*(Energy_1-Energy_2)\n",
    "        if (dE_parallel <0):#Se acepta directamente\n",
    "            #Auxliar\n",
    "            P_aux1 = (P_t_f[mt1, :, :]).copy()\n",
    "            P_inv_aux1 = (P_inv_t_f[mt1,:,:]).copy()\n",
    "            L_aux1 = (L_t_f[mt1,:,:]).copy()\n",
    "\n",
    "            ovlp_aux0 = (ovlp_t_f0[mt1])\n",
    "            ovlp_aux1 = (ovlp_t_f1[mt1])\n",
    "            suma_aux = suma_L[mt1]\n",
    "            #El 1 lo guardo en el 2\n",
    "            Energy_t_f[mt1] = Energy_2\n",
    "            P_t_f[mt1,:,:] = (P_t_f[mt2, :, :]).copy()\n",
    "            P_inv_t_f[mt1,:,:] = (P_inv_t_f[mt2,:,:]).copy()\n",
    "            L_t_f[mt1,:,:] = (L_t_f[mt2,:,:]).copy()\n",
    "            suma_L[mt1] = suma_L[mt2]\n",
    "            ovlp_t_f0[mt1] = ovlp_t_f0[mt2]\n",
    "            ovlp_t_f1[mt1] = ovlp_t_f1[mt2]\n",
    "\n",
    "            #El 2 lo guardo en el 1 (que previamente lo he guardado bien)\n",
    "            Energy_t_f[mt2] = Energy_1\n",
    "            P_t_f[mt2,:,:] = P_aux1.copy()\n",
    "            P_inv_t_f[mt2,:,:] = P_inv_aux1.copy()\n",
    "            L_t_f[mt2,:,:] = L_aux1.copy()\n",
    "\n",
    "            ovlp_t_f0[mt2] = ovlp_aux0\n",
    "            ovlp_t_f1[mt2] = ovlp_aux1\n",
    "            suma_L[mt2] = suma_aux\n",
    "        elif (np.random.rand() < np.exp(-dE_parallel)):\n",
    "            P_aux1 = (P_t_f[mt1, :, :]).copy()\n",
    "            P_inv_aux1 = (P_inv_t_f[mt1,:,:]).copy()\n",
    "            L_aux1 = (L_t_f[mt1,:,:]).copy()\n",
    "\n",
    "            ovlp_aux0 = (ovlp_t_f0[mt1])\n",
    "            ovlp_aux1 = (ovlp_t_f1[mt1])\n",
    "            suma_aux = suma_L[mt1]\n",
    "            #El 1 lo guardo en el 2\n",
    "            Energy_t_f[mt1] = Energy_2\n",
    "            P_t_f[mt1,:,:] = (P_t_f[mt2, :, :]).copy()\n",
    "            P_inv_t_f[mt1,:,:] = (P_inv_t_f[mt2,:,:]).copy()\n",
    "            L_t_f[mt1,:,:] = (L_t_f[mt2,:,:]).copy()\n",
    "            suma_L[mt1] = suma_L[mt2]\n",
    "            ovlp_t_f0[mt1] = ovlp_t_f0[mt2]\n",
    "            ovlp_t_f1[mt1] = ovlp_t_f1[mt2]\n",
    "\n",
    "            #El 2 lo guardo en el 1 (que previamente lo he guardado bien)\n",
    "            Energy_t_f[mt2] = Energy_1\n",
    "            P_t_f[mt2,:,:] = P_aux1.copy()\n",
    "            P_inv_t_f[mt2,:,:] = P_inv_aux1.copy()\n",
    "            L_t_f[mt2,:,:] = L_aux1.copy()\n",
    "\n",
    "            ovlp_t_f0[mt2] = ovlp_aux0\n",
    "            ovlp_t_f1[mt2] = ovlp_aux1\n",
    "            suma_L[mt2] = suma_aux\n",
    "            \n",
    "        # c_parallel = 0\n",
    "        # if c_odd == 1:\n",
    "        #     c_odd = 0\n",
    "        #     mt1_tempers = tempers_odd[0,:]\n",
    "        #     mt2_tempers = tempers_odd[1,:]\n",
    "\n",
    "        # else:\n",
    "        #     c_odd = 1\n",
    "        #     mt1_tempers = tempers_even[0,:]\n",
    "        #     mt2_tempers = tempers_even[1,:]\n",
    "\n",
    "            \n",
    "        # for mt1, mt2  in zip(mt1_tempers, mt2_tempers):\n",
    "        \n",
    "        #     #Probar el cambio de energía\n",
    "        #     #Cambio del 1:\n",
    "        #     Energy_1 = Energy_t_f[mt1]\n",
    "        #     #Cambio del 2:\n",
    "        #     Energy_2 = Energy_t_f[mt2] \n",
    "\n",
    "    \n",
    "        #     dE_parallel = -(tempers_f[mt1]-tempers_f[mt2])*(Energy_1-Energy_2)\n",
    "                \n",
    "        #     if (dE_parallel <0):\n",
    "        #         P_aux1 = (P_t_f[mt1, :, :]).copy()\n",
    "        #         P_inv_aux1 = (P_inv_t_f[mt1,:,:]).copy()\n",
    "        #         L_aux1 = (L_t_f[mt1,:,:]).copy()\n",
    "\n",
    "        #         ovlp_aux0 = (ovlp_t_f0[mt1])\n",
    "        #         ovlp_aux1 = (ovlp_t_f1[mt1])\n",
    "        #         suma_aux = suma_L[mt1]\n",
    "\n",
    "        #         # 1 --> 2\n",
    "        #         Energy_t_f[mt1] = Energy_2\n",
    "        #         P_t_f[mt1,:,:] = (P_t_f[mt2, :, :]).copy()\n",
    "        #         P_inv_t_f[mt1,:,:] = (P_inv_t_f[mt2,:,:]).copy()\n",
    "        #         L_t_f[mt1,:,:] = (L_t_f[mt2,:,:]).copy()\n",
    "\n",
    "        #         ovlp_t_f0[mt1] = ovlp_t_f0[mt2]\n",
    "        #         ovlp_t_f1[mt1] = ovlp_t_f1[mt2]\n",
    "        #         suma_L[mt1] = suma_L[mt2]\n",
    "\n",
    "        #         # 2 --> 1\n",
    "        #         Energy_t_f[mt2] = Energy_1\n",
    "        #         P_t_f[mt2,:,:] = P_aux1\n",
    "        #         P_inv_t_f[mt2,:,:] = P_inv_aux1\n",
    "        #         L_t_f[mt2,:,:] = L_aux1\n",
    "\n",
    "        #         ovlp_t_f0[mt2] = ovlp_aux0\n",
    "        #         ovlp_t_f1[mt2] = ovlp_aux1\n",
    "        #         suma_L[mt2] = suma_aux\n",
    "                \n",
    "        #         if m_old == mt1:\n",
    "        #             m_old = mt2\n",
    "        #         elif m_old == mt2:\n",
    "        #             m_old = mt1\n",
    "        #         if m_old == 0 and round_trip_old == -1:\n",
    "        #             c_rounds += 1\n",
    "        #             round_trip_old = 1\n",
    "        #         elif m_old == (N_t -1) and round_trip_old == 1:\n",
    "        #             c_rounds += 1\n",
    "        #             rount_trip_old = -1\n",
    "                    \n",
    "                \n",
    "                \n",
    "        #         if tempers_f[mt1] == 1 or tempers_f[mt2] == 1:\n",
    "        #             c_accep += 1\n",
    "\n",
    "        #     elif (np.random.rand() < np.exp(-dE_parallel)):\n",
    "        #         P_aux1 = (P_t_f[mt1, :, :]).copy()\n",
    "        #         P_inv_aux1 = (P_inv_t_f[mt1,:,:]).copy()\n",
    "        #         L_aux1 = (L_t_f[mt1,:,:]).copy()\n",
    "\n",
    "        #         ovlp_aux0 = (ovlp_t_f0[mt1])\n",
    "        #         ovlp_aux1 = (ovlp_t_f1[mt1])\n",
    "        #         suma_aux = suma_L[mt1]\n",
    "\n",
    "        #         # 1 --> 2\n",
    "        #         Energy_t_f[mt1] = Energy_2\n",
    "        #         P_t_f[mt1,:,:] = (P_t_f[mt2, :, :]).copy()\n",
    "        #         P_inv_t_f[mt1,:,:] = (P_inv_t_f[mt2,:,:]).copy()\n",
    "        #         L_t_f[mt1,:,:] = (L_t_f[mt2,:,:]).copy()\n",
    "\n",
    "        #         ovlp_t_f0[mt1] = ovlp_t_f0[mt2]\n",
    "        #         ovlp_t_f1[mt1] = ovlp_t_f1[mt2]\n",
    "        #         suma_L[mt1] = suma_L[mt2]\n",
    "\n",
    "        #         # 2 --> 1\n",
    "        #         Energy_t_f[mt2] = Energy_1\n",
    "        #         P_t_f[mt2,:,:] = P_aux1\n",
    "        #         P_inv_t_f[mt2,:,:] = P_inv_aux1\n",
    "        #         L_t_f[mt2,:,:] = L_aux1\n",
    "\n",
    "        #         ovlp_t_f0[mt2] = ovlp_aux0\n",
    "        #         ovlp_t_f1[mt2] = ovlp_aux1\n",
    "        #         suma_L[mt2] = suma_aux\n",
    "                \n",
    "        #         if m_old == mt1:\n",
    "        #             m_old = mt2\n",
    "        #         elif m_old == mt2:\n",
    "        #             m_old = mt1\n",
    "        #         if m_old == 0 and round_trip_old == -1:\n",
    "        #             c_rounds += 1\n",
    "        #             round_trip_old = 1\n",
    "        #         elif m_old == (N_t -1) and round_trip_old == 1:\n",
    "        #             c_rounds += 1\n",
    "        #             round_trip_old = -1\n",
    "                    \n",
    "                \n",
    "        #         if tempers_f[mt1] == 1 or tempers_f[mt2] == 1:\n",
    "        #             c_accep += 1\n",
    "    return c_parallel, P_t_f, P_inv_t_f,Energy_t_f, ovlp_t_f0, ovlp_t_f1, L_t_f, suma_L, c_accep, c_odd, m_old, round_trip_old, c_rounds\n",
    "\n",
    "\n",
    "@njit\n",
    "def custom_round(number):\n",
    "    if number >= 0.5:\n",
    "        return 1\n",
    "    else:\n",
    "        return 0\n",
    "\n",
    "@njit\n",
    "def random_menos_mas(number):\n",
    "    if number >= 0.5:\n",
    "        return 1\n",
    "    else:\n",
    "        return -1\n"
   ]
  },
  {
   "cell_type": "markdown",
   "id": "d26bc917",
   "metadata": {},
   "source": [
    "# Iteraciones MC"
   ]
  },
  {
   "cell_type": "code",
   "execution_count": 85,
   "id": "078591b2",
   "metadata": {},
   "outputs": [],
   "source": [
    "parejas = 0 # Para saber si coger parejas o no\n",
    "fijado = 0 # Para saber si fijar la primera red o no"
   ]
  },
  {
   "cell_type": "code",
   "execution_count": 86,
   "id": "718e8e61",
   "metadata": {},
   "outputs": [
    {
     "name": "stdout",
     "output_type": "stream",
     "text": [
      "1515.0\n",
      "1525.0\n",
      "2202.0\n",
      "2186.0\n"
     ]
    }
   ],
   "source": [
    "for k in range(K):\n",
    "    print(np.sum(A[k,:,:]))"
   ]
  },
  {
   "cell_type": "code",
   "execution_count": 95,
   "id": "6af79cf7",
   "metadata": {},
   "outputs": [
    {
     "name": "stdout",
     "output_type": "stream",
     "text": [
      "1267.0\n",
      "Energía con permutación de media de matrices: 16019.663954670905\n",
      "overlap_0: 192861 /overlap_1: 4653\n",
      "%Overlaps: 98.41059470663265 %\n"
     ]
    }
   ],
   "source": [
    "P_new, P_inv_new = np.zeros((K,Nx)),np.zeros((K,Nx))\n",
    "for k in range(0,K):\n",
    "    for i in range(0,Nx):\n",
    "        P_new[k,i]=i \n",
    "        P_inv_new[k,i]=i            \n",
    "L_new = np.zeros((Nx,Ny)) #La propuesta de cambio\n",
    "L_new =  L_wiring(A, P_inv_new)\n",
    "print(np.sum(L_new))\n",
    "Edges_sum = K*Nx*Nx\n",
    "Edges_L = K*(sum(sum(L_new))) # Los edges=1 que tiene la matriz A\n",
    "Edges_NoL = Edges_sum - Edges_L #Los edges=0 que tiene la matriz A\n",
    "overlap_0, overlap_1 = overlap_total_prob(L_new,A,P_inv_new)     \n",
    "Energy_new = hamiltonian_prob(Edges_NoL, Edges_L, overlap_0, overlap_1, alpha, beta)\n",
    "print('Energía con permutación de media de matrices:', Energy_new)\n",
    "print( 'overlap_0:', overlap_0,'/overlap_1:', overlap_1)\n",
    "print('%Overlaps:',100*(overlap_0+overlap_1)/Edges_sum ,'%')\n",
    "E_gs = Energy_new\n"
   ]
  },
  {
   "cell_type": "code",
   "execution_count": null,
   "id": "63408c05-e592-4bfc-b90c-7efb684dd5a9",
   "metadata": {},
   "outputs": [],
   "source": []
  },
  {
   "cell_type": "code",
   "execution_count": 104,
   "id": "591d3c27",
   "metadata": {},
   "outputs": [
    {
     "name": "stdout",
     "output_type": "stream",
     "text": [
      "Energía con permutación de media de matrices: 16019.663954670905\n",
      "overlap_0: 192861 /overlap_1: 4653\n",
      "%Overlaps: 98.41059470663265 %\n",
      "\n",
      "Energía inicial: 28535.85329274948\n",
      "\n",
      "Energía INICIAL TRAS WIRING: 30986.88988929674\n",
      "overlaps 0: 193183 1: 307\n",
      "%Overlaps: 96.40565210459184 %\n",
      "\n"
     ]
    },
    {
     "name": "stderr",
     "output_type": "stream",
     "text": [
      " 51%|███████████████████▍                  | 8204/16000 [08:43<07:31, 17.27it/s]"
     ]
    },
    {
     "name": "stdout",
     "output_type": "stream",
     "text": [
      "Step 8200 Energy (temper = 1): 16466.67074613663\n"
     ]
    },
    {
     "name": "stderr",
     "output_type": "stream",
     "text": [
      " 53%|███████████████████▉                  | 8404/16000 [08:55<07:07, 17.76it/s]"
     ]
    },
    {
     "name": "stdout",
     "output_type": "stream",
     "text": [
      "Step 8400 Energy (temper = 1): 16377.816537569415\n"
     ]
    },
    {
     "name": "stderr",
     "output_type": "stream",
     "text": [
      " 54%|████████████████████▍                 | 8604/16000 [09:07<07:53, 15.61it/s]"
     ]
    },
    {
     "name": "stdout",
     "output_type": "stream",
     "text": [
      "Step 8600 Energy (temper = 1): 16461.250160280775\n"
     ]
    },
    {
     "name": "stderr",
     "output_type": "stream",
     "text": [
      " 55%|████████████████████▉                 | 8804/16000 [09:19<07:20, 16.32it/s]"
     ]
    },
    {
     "name": "stdout",
     "output_type": "stream",
     "text": [
      "Step 8800 Energy (temper = 1): 16475.588532594535\n"
     ]
    },
    {
     "name": "stderr",
     "output_type": "stream",
     "text": [
      " 56%|█████████████████████▍                | 9004/16000 [09:31<06:32, 17.83it/s]"
     ]
    },
    {
     "name": "stdout",
     "output_type": "stream",
     "text": [
      "Step 9000 Energy (temper = 1): 16469.23131932311\n"
     ]
    },
    {
     "name": "stderr",
     "output_type": "stream",
     "text": [
      " 58%|█████████████████████▊                | 9204/16000 [09:43<06:25, 17.64it/s]"
     ]
    },
    {
     "name": "stdout",
     "output_type": "stream",
     "text": [
      "Step 9200 Energy (temper = 1): 16470.463331269282\n"
     ]
    },
    {
     "name": "stderr",
     "output_type": "stream",
     "text": [
      " 59%|██████████████████████▎               | 9404/16000 [09:54<06:43, 16.33it/s]"
     ]
    },
    {
     "name": "stdout",
     "output_type": "stream",
     "text": [
      "Step 9400 Energy (temper = 1): 16473.0328723551\n"
     ]
    },
    {
     "name": "stderr",
     "output_type": "stream",
     "text": [
      " 60%|██████████████████████▊               | 9606/16000 [10:06<06:02, 17.61it/s]"
     ]
    },
    {
     "name": "stdout",
     "output_type": "stream",
     "text": [
      "Step 9600 Energy (temper = 1): 16467.96122721379\n"
     ]
    },
    {
     "name": "stderr",
     "output_type": "stream",
     "text": [
      " 61%|███████████████████████▎              | 9804/16000 [10:18<05:52, 17.57it/s]"
     ]
    },
    {
     "name": "stdout",
     "output_type": "stream",
     "text": [
      "Step 9800 Energy (temper = 1): 16464.138030486836\n"
     ]
    },
    {
     "name": "stderr",
     "output_type": "stream",
     "text": [
      " 63%|███████████████████████▏             | 10004/16000 [10:30<07:04, 14.11it/s]"
     ]
    },
    {
     "name": "stdout",
     "output_type": "stream",
     "text": [
      "Step 10000 Energy (temper = 1): 16352.079389194849\n"
     ]
    },
    {
     "name": "stderr",
     "output_type": "stream",
     "text": [
      " 64%|███████████████████████▌             | 10206/16000 [10:42<05:42, 16.93it/s]"
     ]
    },
    {
     "name": "stdout",
     "output_type": "stream",
     "text": [
      "Step 10200 Energy (temper = 1): 16344.48597319625\n"
     ]
    },
    {
     "name": "stderr",
     "output_type": "stream",
     "text": [
      " 65%|████████████████████████             | 10406/16000 [10:54<05:45, 16.18it/s]"
     ]
    },
    {
     "name": "stdout",
     "output_type": "stream",
     "text": [
      "Step 10400 Energy (temper = 1): 16361.259630982866\n"
     ]
    },
    {
     "name": "stderr",
     "output_type": "stream",
     "text": [
      " 66%|████████████████████████▌            | 10606/16000 [11:06<05:39, 15.87it/s]"
     ]
    },
    {
     "name": "stdout",
     "output_type": "stream",
     "text": [
      "Step 10600 Energy (temper = 1): 16318.598037310323\n"
     ]
    },
    {
     "name": "stderr",
     "output_type": "stream",
     "text": [
      " 68%|████████████████████████▉            | 10804/16000 [11:18<05:03, 17.11it/s]"
     ]
    },
    {
     "name": "stdout",
     "output_type": "stream",
     "text": [
      "Step 10800 Energy (temper = 1): 16351.126195894802\n"
     ]
    },
    {
     "name": "stderr",
     "output_type": "stream",
     "text": [
      " 69%|█████████████████████████▍           | 11002/16000 [11:30<05:53, 14.15it/s]"
     ]
    },
    {
     "name": "stdout",
     "output_type": "stream",
     "text": [
      "Step 11000 Energy (temper = 1): 16352.091834475941\n"
     ]
    },
    {
     "name": "stderr",
     "output_type": "stream",
     "text": [
      " 70%|█████████████████████████▉           | 11204/16000 [11:43<05:18, 15.06it/s]"
     ]
    },
    {
     "name": "stdout",
     "output_type": "stream",
     "text": [
      "Step 11200 Energy (temper = 1): 16352.091834475941\n"
     ]
    },
    {
     "name": "stderr",
     "output_type": "stream",
     "text": [
      " 71%|██████████████████████████▎          | 11404/16000 [11:54<04:21, 17.56it/s]"
     ]
    },
    {
     "name": "stdout",
     "output_type": "stream",
     "text": [
      "Step 11400 Energy (temper = 1): 16354.829956284098\n"
     ]
    },
    {
     "name": "stderr",
     "output_type": "stream",
     "text": [
      " 73%|██████████████████████████▊          | 11604/16000 [12:07<04:21, 16.80it/s]"
     ]
    },
    {
     "name": "stdout",
     "output_type": "stream",
     "text": [
      "Step 11600 Energy (temper = 1): 16316.333996925678\n"
     ]
    },
    {
     "name": "stderr",
     "output_type": "stream",
     "text": [
      " 74%|███████████████████████████▎         | 11806/16000 [12:20<04:20, 16.12it/s]"
     ]
    },
    {
     "name": "stdout",
     "output_type": "stream",
     "text": [
      "Step 11800 Energy (temper = 1): 16354.829956284098\n"
     ]
    },
    {
     "name": "stderr",
     "output_type": "stream",
     "text": [
      " 75%|███████████████████████████▊         | 12004/16000 [12:32<04:18, 15.48it/s]"
     ]
    },
    {
     "name": "stdout",
     "output_type": "stream",
     "text": [
      "Step 12000 Energy (temper = 1): 16352.091834475941\n"
     ]
    },
    {
     "name": "stderr",
     "output_type": "stream",
     "text": [
      " 76%|████████████████████████████▏        | 12204/16000 [12:44<03:30, 18.00it/s]"
     ]
    },
    {
     "name": "stdout",
     "output_type": "stream",
     "text": [
      "Step 12200 Energy (temper = 1): 16310.553311370095\n"
     ]
    },
    {
     "name": "stderr",
     "output_type": "stream",
     "text": [
      " 78%|████████████████████████████▋        | 12404/16000 [12:56<03:44, 16.02it/s]"
     ]
    },
    {
     "name": "stdout",
     "output_type": "stream",
     "text": [
      "Step 12400 Energy (temper = 1): 16351.126195894802\n"
     ]
    },
    {
     "name": "stderr",
     "output_type": "stream",
     "text": [
      " 79%|█████████████████████████████▏       | 12604/16000 [13:08<03:17, 17.17it/s]"
     ]
    },
    {
     "name": "stdout",
     "output_type": "stream",
     "text": [
      "Step 12600 Energy (temper = 1): 16355.77895875983\n"
     ]
    },
    {
     "name": "stderr",
     "output_type": "stream",
     "text": [
      " 80%|█████████████████████████████▌       | 12804/16000 [13:20<03:22, 15.77it/s]"
     ]
    },
    {
     "name": "stdout",
     "output_type": "stream",
     "text": [
      "Step 12800 Energy (temper = 1): 16351.126195894802\n"
     ]
    },
    {
     "name": "stderr",
     "output_type": "stream",
     "text": [
      " 81%|██████████████████████████████       | 13006/16000 [13:33<02:51, 17.45it/s]"
     ]
    },
    {
     "name": "stdout",
     "output_type": "stream",
     "text": [
      "Step 13000 Energy (temper = 1): 16352.091834475941\n"
     ]
    },
    {
     "name": "stderr",
     "output_type": "stream",
     "text": [
      " 83%|██████████████████████████████▌      | 13204/16000 [13:44<02:36, 17.83it/s]"
     ]
    },
    {
     "name": "stdout",
     "output_type": "stream",
     "text": [
      "Step 13200 Energy (temper = 1): 16351.126195894802\n"
     ]
    },
    {
     "name": "stderr",
     "output_type": "stream",
     "text": [
      " 84%|██████████████████████████████▉      | 13404/16000 [13:56<02:36, 16.61it/s]"
     ]
    },
    {
     "name": "stdout",
     "output_type": "stream",
     "text": [
      "Step 13400 Energy (temper = 1): 16352.091834475941\n"
     ]
    },
    {
     "name": "stderr",
     "output_type": "stream",
     "text": [
      " 85%|███████████████████████████████▍     | 13604/16000 [14:09<02:30, 15.87it/s]"
     ]
    },
    {
     "name": "stdout",
     "output_type": "stream",
     "text": [
      "Step 13600 Energy (temper = 1): 16444.723735502666\n"
     ]
    },
    {
     "name": "stderr",
     "output_type": "stream",
     "text": [
      " 86%|███████████████████████████████▉     | 13804/16000 [14:21<02:05, 17.51it/s]"
     ]
    },
    {
     "name": "stdout",
     "output_type": "stream",
     "text": [
      "Step 13800 Energy (temper = 1): 16351.126195894802\n"
     ]
    },
    {
     "name": "stderr",
     "output_type": "stream",
     "text": [
      " 88%|████████████████████████████████▍    | 14004/16000 [14:33<02:12, 15.09it/s]"
     ]
    },
    {
     "name": "stdout",
     "output_type": "stream",
     "text": [
      "Step 14000 Energy (temper = 1): 16352.091834475941\n"
     ]
    },
    {
     "name": "stderr",
     "output_type": "stream",
     "text": [
      " 89%|████████████████████████████████▊    | 14204/16000 [14:45<01:48, 16.57it/s]"
     ]
    },
    {
     "name": "stdout",
     "output_type": "stream",
     "text": [
      "Step 14200 Energy (temper = 1): 16345.654326486641\n"
     ]
    },
    {
     "name": "stderr",
     "output_type": "stream",
     "text": [
      " 90%|█████████████████████████████████▎   | 14404/16000 [14:58<01:44, 15.24it/s]"
     ]
    },
    {
     "name": "stdout",
     "output_type": "stream",
     "text": [
      "Step 14400 Energy (temper = 1): 16346.57032067344\n"
     ]
    },
    {
     "name": "stderr",
     "output_type": "stream",
     "text": [
      " 91%|█████████████████████████████████▊   | 14604/16000 [15:10<01:21, 17.06it/s]"
     ]
    },
    {
     "name": "stdout",
     "output_type": "stream",
     "text": [
      "Step 14600 Energy (temper = 1): 16341.963026727375\n"
     ]
    },
    {
     "name": "stderr",
     "output_type": "stream",
     "text": [
      " 93%|██████████████████████████████████▏  | 14804/16000 [15:22<01:12, 16.55it/s]"
     ]
    },
    {
     "name": "stdout",
     "output_type": "stream",
     "text": [
      "Step 14800 Energy (temper = 1): 16233.24411911489\n"
     ]
    },
    {
     "name": "stderr",
     "output_type": "stream",
     "text": [
      " 94%|██████████████████████████████████▋  | 15006/16000 [15:34<00:57, 17.40it/s]"
     ]
    },
    {
     "name": "stdout",
     "output_type": "stream",
     "text": [
      "Step 15000 Energy (temper = 1): 16323.551924851512\n"
     ]
    },
    {
     "name": "stderr",
     "output_type": "stream",
     "text": [
      " 95%|███████████████████████████████████▏ | 15204/16000 [15:46<00:48, 16.50it/s]"
     ]
    },
    {
     "name": "stdout",
     "output_type": "stream",
     "text": [
      "Step 15200 Energy (temper = 1): 16298.262414579767\n"
     ]
    },
    {
     "name": "stderr",
     "output_type": "stream",
     "text": [
      " 96%|███████████████████████████████████▋ | 15406/16000 [15:58<00:34, 17.22it/s]"
     ]
    },
    {
     "name": "stdout",
     "output_type": "stream",
     "text": [
      "Step 15400 Energy (temper = 1): 16290.728599773327\n"
     ]
    },
    {
     "name": "stderr",
     "output_type": "stream",
     "text": [
      " 98%|████████████████████████████████████ | 15606/16000 [16:10<00:23, 16.75it/s]"
     ]
    },
    {
     "name": "stdout",
     "output_type": "stream",
     "text": [
      "Step 15600 Energy (temper = 1): 16300.906463917257\n"
     ]
    },
    {
     "name": "stderr",
     "output_type": "stream",
     "text": [
      " 99%|████████████████████████████████████▌| 15804/16000 [16:22<00:12, 15.93it/s]"
     ]
    },
    {
     "name": "stdout",
     "output_type": "stream",
     "text": [
      "Step 15800 Energy (temper = 1): 16330.002444139129\n"
     ]
    },
    {
     "name": "stderr",
     "output_type": "stream",
     "text": [
      "100%|█████████████████████████████████████| 16000/16000 [16:34<00:00, 16.09it/s]\n",
      " 50%|███████████████████                   | 8004/16000 [07:43<07:47, 17.10it/s]"
     ]
    },
    {
     "name": "stdout",
     "output_type": "stream",
     "text": [
      "Step 8001 Energy (temper = 1): 16866.361741801877\n"
     ]
    },
    {
     "name": "stderr",
     "output_type": "stream",
     "text": [
      " 51%|███████████████████▍                  | 8204/16000 [07:54<07:15, 17.90it/s]"
     ]
    },
    {
     "name": "stdout",
     "output_type": "stream",
     "text": [
      "Step 8201 Energy (temper = 1): 16815.82127504362\n"
     ]
    },
    {
     "name": "stderr",
     "output_type": "stream",
     "text": [
      " 53%|███████████████████▉                  | 8404/16000 [08:06<07:23, 17.12it/s]"
     ]
    },
    {
     "name": "stdout",
     "output_type": "stream",
     "text": [
      "Step 8401 Energy (temper = 1): 16860.268226048487\n"
     ]
    },
    {
     "name": "stderr",
     "output_type": "stream",
     "text": [
      " 54%|████████████████████▍                 | 8606/16000 [08:17<07:13, 17.07it/s]"
     ]
    },
    {
     "name": "stdout",
     "output_type": "stream",
     "text": [
      "Step 8601 Energy (temper = 1): 16860.268226048487\n"
     ]
    },
    {
     "name": "stderr",
     "output_type": "stream",
     "text": [
      " 55%|████████████████████▉                 | 8804/16000 [08:29<06:48, 17.62it/s]"
     ]
    },
    {
     "name": "stdout",
     "output_type": "stream",
     "text": [
      "Step 8801 Energy (temper = 1): 16814.256631071818\n"
     ]
    },
    {
     "name": "stderr",
     "output_type": "stream",
     "text": [
      " 56%|█████████████████████▍                | 9004/16000 [08:40<06:24, 18.22it/s]"
     ]
    },
    {
     "name": "stdout",
     "output_type": "stream",
     "text": [
      "Step 9001 Energy (temper = 1): 16770.949159386088\n"
     ]
    },
    {
     "name": "stderr",
     "output_type": "stream",
     "text": [
      " 58%|█████████████████████▊                | 9204/16000 [08:52<07:19, 15.46it/s]"
     ]
    },
    {
     "name": "stdout",
     "output_type": "stream",
     "text": [
      "Step 9201 Energy (temper = 1): 16813.196637553374\n"
     ]
    },
    {
     "name": "stderr",
     "output_type": "stream",
     "text": [
      " 59%|██████████████████████▎               | 9404/16000 [09:03<06:16, 17.50it/s]"
     ]
    },
    {
     "name": "stdout",
     "output_type": "stream",
     "text": [
      "Step 9401 Energy (temper = 1): 16826.954298711957\n"
     ]
    },
    {
     "name": "stderr",
     "output_type": "stream",
     "text": [
      " 60%|██████████████████████▊               | 9606/16000 [09:15<05:57, 17.88it/s]"
     ]
    },
    {
     "name": "stdout",
     "output_type": "stream",
     "text": [
      "Step 9601 Energy (temper = 1): 16770.949159386088\n"
     ]
    },
    {
     "name": "stderr",
     "output_type": "stream",
     "text": [
      " 61%|███████████████████████▎              | 9804/16000 [09:26<05:55, 17.44it/s]"
     ]
    },
    {
     "name": "stdout",
     "output_type": "stream",
     "text": [
      "Step 9801 Energy (temper = 1): 16770.075509631162\n"
     ]
    },
    {
     "name": "stderr",
     "output_type": "stream",
     "text": [
      " 63%|███████████████████████▏             | 10004/16000 [09:38<05:28, 18.26it/s]"
     ]
    },
    {
     "name": "stdout",
     "output_type": "stream",
     "text": [
      "Step 10001 Energy (temper = 1): 16772.465246045365\n"
     ]
    },
    {
     "name": "stderr",
     "output_type": "stream",
     "text": [
      " 64%|███████████████████████▌             | 10206/16000 [09:49<05:17, 18.24it/s]"
     ]
    },
    {
     "name": "stdout",
     "output_type": "stream",
     "text": [
      "Step 10201 Energy (temper = 1): 16862.70499567243\n"
     ]
    },
    {
     "name": "stderr",
     "output_type": "stream",
     "text": [
      " 65%|████████████████████████             | 10406/16000 [10:00<05:07, 18.22it/s]"
     ]
    },
    {
     "name": "stdout",
     "output_type": "stream",
     "text": [
      "Step 10401 Energy (temper = 1): 16838.112293520928\n"
     ]
    },
    {
     "name": "stderr",
     "output_type": "stream",
     "text": [
      " 66%|████████████████████████▌            | 10604/16000 [10:12<05:01, 17.89it/s]"
     ]
    },
    {
     "name": "stdout",
     "output_type": "stream",
     "text": [
      "Step 10601 Energy (temper = 1): 16838.809372116724\n"
     ]
    },
    {
     "name": "stderr",
     "output_type": "stream",
     "text": [
      " 68%|████████████████████████▉            | 10804/16000 [10:23<04:50, 17.90it/s]"
     ]
    },
    {
     "name": "stdout",
     "output_type": "stream",
     "text": [
      "Step 10801 Energy (temper = 1): 16820.606703170284\n"
     ]
    },
    {
     "name": "stderr",
     "output_type": "stream",
     "text": [
      " 69%|█████████████████████████▍           | 11006/16000 [10:34<04:38, 17.96it/s]"
     ]
    },
    {
     "name": "stdout",
     "output_type": "stream",
     "text": [
      "Step 11001 Energy (temper = 1): 16822.417271127422\n"
     ]
    },
    {
     "name": "stderr",
     "output_type": "stream",
     "text": [
      " 70%|█████████████████████████▉           | 11204/16000 [10:45<04:21, 18.37it/s]"
     ]
    },
    {
     "name": "stdout",
     "output_type": "stream",
     "text": [
      "Step 11201 Energy (temper = 1): 16813.196637553374\n"
     ]
    },
    {
     "name": "stderr",
     "output_type": "stream",
     "text": [
      " 71%|██████████████████████████▎          | 11404/16000 [10:57<04:31, 16.95it/s]"
     ]
    },
    {
     "name": "stdout",
     "output_type": "stream",
     "text": [
      "Step 11401 Energy (temper = 1): 16813.196637553374\n"
     ]
    },
    {
     "name": "stderr",
     "output_type": "stream",
     "text": [
      " 73%|██████████████████████████▊          | 11606/16000 [11:09<04:24, 16.64it/s]"
     ]
    },
    {
     "name": "stdout",
     "output_type": "stream",
     "text": [
      "Step 11601 Energy (temper = 1): 16818.431609681866\n"
     ]
    },
    {
     "name": "stderr",
     "output_type": "stream",
     "text": [
      " 74%|███████████████████████████▎         | 11804/16000 [11:20<03:51, 18.13it/s]"
     ]
    },
    {
     "name": "stdout",
     "output_type": "stream",
     "text": [
      "Step 11801 Energy (temper = 1): 16822.15841368807\n"
     ]
    },
    {
     "name": "stderr",
     "output_type": "stream",
     "text": [
      " 75%|███████████████████████████▊         | 12004/16000 [11:31<03:38, 18.30it/s]"
     ]
    },
    {
     "name": "stdout",
     "output_type": "stream",
     "text": [
      "Step 12001 Energy (temper = 1): 16822.55788003846\n"
     ]
    },
    {
     "name": "stderr",
     "output_type": "stream",
     "text": [
      " 76%|████████████████████████████▏        | 12208/16000 [11:43<03:29, 18.08it/s]"
     ]
    },
    {
     "name": "stdout",
     "output_type": "stream",
     "text": [
      "Step 12201 Energy (temper = 1): 16822.55788003846\n"
     ]
    },
    {
     "name": "stderr",
     "output_type": "stream",
     "text": [
      " 78%|████████████████████████████▋        | 12404/16000 [11:54<03:19, 18.01it/s]"
     ]
    },
    {
     "name": "stdout",
     "output_type": "stream",
     "text": [
      "Step 12401 Energy (temper = 1): 16817.40463261342\n"
     ]
    },
    {
     "name": "stderr",
     "output_type": "stream",
     "text": [
      " 79%|█████████████████████████████▏       | 12604/16000 [12:06<03:27, 16.37it/s]"
     ]
    },
    {
     "name": "stdout",
     "output_type": "stream",
     "text": [
      "Step 12601 Energy (temper = 1): 16817.40463261342\n"
     ]
    },
    {
     "name": "stderr",
     "output_type": "stream",
     "text": [
      " 80%|█████████████████████████████▌       | 12804/16000 [12:17<03:02, 17.55it/s]"
     ]
    },
    {
     "name": "stdout",
     "output_type": "stream",
     "text": [
      "Step 12801 Energy (temper = 1): 16800.88544957532\n"
     ]
    },
    {
     "name": "stderr",
     "output_type": "stream",
     "text": [
      " 81%|██████████████████████████████       | 13004/16000 [12:29<02:59, 16.67it/s]"
     ]
    },
    {
     "name": "stdout",
     "output_type": "stream",
     "text": [
      "Step 13001 Energy (temper = 1): 16762.316475436986\n"
     ]
    },
    {
     "name": "stderr",
     "output_type": "stream",
     "text": [
      " 83%|██████████████████████████████▌      | 13204/16000 [12:40<02:37, 17.75it/s]"
     ]
    },
    {
     "name": "stdout",
     "output_type": "stream",
     "text": [
      "Step 13201 Energy (temper = 1): 16810.55760365657\n"
     ]
    },
    {
     "name": "stderr",
     "output_type": "stream",
     "text": [
      " 84%|███████████████████████████████      | 13406/16000 [12:52<02:27, 17.56it/s]"
     ]
    },
    {
     "name": "stdout",
     "output_type": "stream",
     "text": [
      "Step 13401 Energy (temper = 1): 16809.48168460455\n"
     ]
    },
    {
     "name": "stderr",
     "output_type": "stream",
     "text": [
      " 85%|███████████████████████████████▍     | 13604/16000 [13:03<02:11, 18.16it/s]"
     ]
    },
    {
     "name": "stdout",
     "output_type": "stream",
     "text": [
      "Step 13601 Energy (temper = 1): 16802.032065816275\n"
     ]
    },
    {
     "name": "stderr",
     "output_type": "stream",
     "text": [
      " 86%|███████████████████████████████▉     | 13804/16000 [13:14<02:13, 16.48it/s]"
     ]
    },
    {
     "name": "stdout",
     "output_type": "stream",
     "text": [
      "Step 13801 Energy (temper = 1): 16804.629165834223\n"
     ]
    },
    {
     "name": "stderr",
     "output_type": "stream",
     "text": [
      " 88%|████████████████████████████████▍    | 14006/16000 [13:26<01:52, 17.72it/s]"
     ]
    },
    {
     "name": "stdout",
     "output_type": "stream",
     "text": [
      "Step 14001 Energy (temper = 1): 16808.366392030082\n"
     ]
    },
    {
     "name": "stderr",
     "output_type": "stream",
     "text": [
      " 89%|████████████████████████████████▊    | 14204/16000 [13:38<01:48, 16.61it/s]"
     ]
    },
    {
     "name": "stdout",
     "output_type": "stream",
     "text": [
      "Step 14201 Energy (temper = 1): 16803.459386585106\n"
     ]
    },
    {
     "name": "stderr",
     "output_type": "stream",
     "text": [
      " 90%|█████████████████████████████████▎   | 14404/16000 [13:50<01:30, 17.63it/s]"
     ]
    },
    {
     "name": "stdout",
     "output_type": "stream",
     "text": [
      "Step 14401 Energy (temper = 1): 16823.70916817437\n"
     ]
    },
    {
     "name": "stderr",
     "output_type": "stream",
     "text": [
      " 91%|█████████████████████████████████▊   | 14604/16000 [14:01<01:18, 17.83it/s]"
     ]
    },
    {
     "name": "stdout",
     "output_type": "stream",
     "text": [
      "Step 14601 Energy (temper = 1): 16804.629165834223\n"
     ]
    },
    {
     "name": "stderr",
     "output_type": "stream",
     "text": [
      " 93%|██████████████████████████████████▏  | 14804/16000 [14:12<01:07, 17.81it/s]"
     ]
    },
    {
     "name": "stdout",
     "output_type": "stream",
     "text": [
      "Step 14801 Energy (temper = 1): 16760.793103234944\n"
     ]
    },
    {
     "name": "stderr",
     "output_type": "stream",
     "text": [
      " 94%|██████████████████████████████████▋  | 15004/16000 [14:23<00:56, 17.74it/s]"
     ]
    },
    {
     "name": "stdout",
     "output_type": "stream",
     "text": [
      "Step 15001 Energy (temper = 1): 16826.160571715518\n"
     ]
    },
    {
     "name": "stderr",
     "output_type": "stream",
     "text": [
      " 95%|███████████████████████████████████▏ | 15204/16000 [14:35<00:43, 18.32it/s]"
     ]
    },
    {
     "name": "stdout",
     "output_type": "stream",
     "text": [
      "Step 15201 Energy (temper = 1): 16800.88544957532\n"
     ]
    },
    {
     "name": "stderr",
     "output_type": "stream",
     "text": [
      " 96%|███████████████████████████████████▋ | 15406/16000 [14:47<00:34, 17.42it/s]"
     ]
    },
    {
     "name": "stdout",
     "output_type": "stream",
     "text": [
      "Step 15401 Energy (temper = 1): 16804.629165834223\n"
     ]
    },
    {
     "name": "stderr",
     "output_type": "stream",
     "text": [
      " 98%|████████████████████████████████████ | 15606/16000 [14:59<00:24, 15.78it/s]"
     ]
    },
    {
     "name": "stdout",
     "output_type": "stream",
     "text": [
      "Step 15601 Energy (temper = 1): 16803.459386585106\n"
     ]
    },
    {
     "name": "stderr",
     "output_type": "stream",
     "text": [
      " 99%|████████████████████████████████████▌| 15804/16000 [15:10<00:11, 16.83it/s]"
     ]
    },
    {
     "name": "stdout",
     "output_type": "stream",
     "text": [
      "Step 15801 Energy (temper = 1): 16764.68973381105\n"
     ]
    },
    {
     "name": "stderr",
     "output_type": "stream",
     "text": [
      "100%|█████████████████████████████████████| 16000/16000 [15:22<00:00, 17.34it/s]\n",
      " 50%|███████████████████                   | 8006/16000 [07:43<07:37, 17.49it/s]"
     ]
    },
    {
     "name": "stdout",
     "output_type": "stream",
     "text": [
      "Step 8002 Energy (temper = 1): 16816.161775309425\n"
     ]
    },
    {
     "name": "stderr",
     "output_type": "stream",
     "text": [
      " 51%|███████████████████▍                  | 8206/16000 [07:54<07:13, 17.98it/s]"
     ]
    },
    {
     "name": "stdout",
     "output_type": "stream",
     "text": [
      "Step 8202 Energy (temper = 1): 16861.50562143029\n"
     ]
    },
    {
     "name": "stderr",
     "output_type": "stream",
     "text": [
      " 53%|███████████████████▉                  | 8406/16000 [08:06<07:04, 17.88it/s]"
     ]
    },
    {
     "name": "stdout",
     "output_type": "stream",
     "text": [
      "Step 8402 Energy (temper = 1): 16862.70499567243\n"
     ]
    },
    {
     "name": "stderr",
     "output_type": "stream",
     "text": [
      " 54%|████████████████████▍                 | 8606/16000 [08:17<07:00, 17.56it/s]"
     ]
    },
    {
     "name": "stdout",
     "output_type": "stream",
     "text": [
      "Step 8602 Energy (temper = 1): 16856.38750415579\n"
     ]
    },
    {
     "name": "stderr",
     "output_type": "stream",
     "text": [
      " 55%|████████████████████▉                 | 8806/16000 [08:28<06:42, 17.88it/s]"
     ]
    },
    {
     "name": "stdout",
     "output_type": "stream",
     "text": [
      "Step 8802 Energy (temper = 1): 16870.1886231268\n"
     ]
    },
    {
     "name": "stderr",
     "output_type": "stream",
     "text": [
      " 56%|█████████████████████▍                | 9006/16000 [08:40<06:56, 16.77it/s]"
     ]
    },
    {
     "name": "stdout",
     "output_type": "stream",
     "text": [
      "Step 9002 Energy (temper = 1): 16864.043867888788\n"
     ]
    },
    {
     "name": "stderr",
     "output_type": "stream",
     "text": [
      " 58%|█████████████████████▊                | 9206/16000 [08:52<06:33, 17.28it/s]"
     ]
    },
    {
     "name": "stdout",
     "output_type": "stream",
     "text": [
      "Step 9202 Energy (temper = 1): 16861.50562143029\n"
     ]
    },
    {
     "name": "stderr",
     "output_type": "stream",
     "text": [
      " 59%|██████████████████████▎               | 9406/16000 [09:03<06:44, 16.31it/s]"
     ]
    },
    {
     "name": "stdout",
     "output_type": "stream",
     "text": [
      "Step 9402 Energy (temper = 1): 16858.953529634673\n"
     ]
    },
    {
     "name": "stderr",
     "output_type": "stream",
     "text": [
      " 60%|██████████████████████▊               | 9606/16000 [09:15<05:59, 17.77it/s]"
     ]
    },
    {
     "name": "stdout",
     "output_type": "stream",
     "text": [
      "Step 9602 Energy (temper = 1): 16851.213293713314\n"
     ]
    },
    {
     "name": "stderr",
     "output_type": "stream",
     "text": [
      " 61%|███████████████████████▎              | 9806/16000 [09:26<05:42, 18.06it/s]"
     ]
    },
    {
     "name": "stdout",
     "output_type": "stream",
     "text": [
      "Step 9802 Energy (temper = 1): 16745.63295278061\n"
     ]
    },
    {
     "name": "stderr",
     "output_type": "stream",
     "text": [
      " 63%|███████████████████████▏             | 10008/16000 [09:38<05:55, 16.84it/s]"
     ]
    },
    {
     "name": "stdout",
     "output_type": "stream",
     "text": [
      "Step 10002 Energy (temper = 1): 16860.12995871932\n"
     ]
    },
    {
     "name": "stderr",
     "output_type": "stream",
     "text": [
      " 64%|███████████████████████▌             | 10206/16000 [09:49<05:48, 16.62it/s]"
     ]
    },
    {
     "name": "stdout",
     "output_type": "stream",
     "text": [
      "Step 10202 Energy (temper = 1): 16858.953529634673\n"
     ]
    },
    {
     "name": "stderr",
     "output_type": "stream",
     "text": [
      " 65%|████████████████████████             | 10406/16000 [10:01<05:14, 17.77it/s]"
     ]
    },
    {
     "name": "stdout",
     "output_type": "stream",
     "text": [
      "Step 10402 Energy (temper = 1): 16834.825349993902\n"
     ]
    },
    {
     "name": "stderr",
     "output_type": "stream",
     "text": [
      " 66%|████████████████████████▌            | 10606/16000 [10:13<05:10, 17.35it/s]"
     ]
    },
    {
     "name": "stdout",
     "output_type": "stream",
     "text": [
      "Step 10602 Energy (temper = 1): 16862.70499567243\n"
     ]
    },
    {
     "name": "stderr",
     "output_type": "stream",
     "text": [
      " 68%|████████████████████████▉            | 10806/16000 [10:25<04:51, 17.82it/s]"
     ]
    },
    {
     "name": "stdout",
     "output_type": "stream",
     "text": [
      "Step 10802 Energy (temper = 1): 16738.477068420027\n"
     ]
    },
    {
     "name": "stderr",
     "output_type": "stream",
     "text": [
      " 69%|█████████████████████████▍           | 11006/16000 [10:36<04:37, 18.00it/s]"
     ]
    },
    {
     "name": "stdout",
     "output_type": "stream",
     "text": [
      "Step 11002 Energy (temper = 1): 16731.29240076705\n"
     ]
    },
    {
     "name": "stderr",
     "output_type": "stream",
     "text": [
      " 70%|█████████████████████████▉           | 11206/16000 [10:48<04:32, 17.60it/s]"
     ]
    },
    {
     "name": "stdout",
     "output_type": "stream",
     "text": [
      "Step 11202 Energy (temper = 1): 16828.49310414165\n"
     ]
    },
    {
     "name": "stderr",
     "output_type": "stream",
     "text": [
      " 71%|██████████████████████████▍          | 11406/16000 [10:59<04:14, 18.08it/s]"
     ]
    },
    {
     "name": "stdout",
     "output_type": "stream",
     "text": [
      "Step 11402 Energy (temper = 1): 16856.38750415579\n"
     ]
    },
    {
     "name": "stderr",
     "output_type": "stream",
     "text": [
      " 73%|██████████████████████████▊          | 11606/16000 [11:11<04:17, 17.05it/s]"
     ]
    },
    {
     "name": "stdout",
     "output_type": "stream",
     "text": [
      "Step 11602 Energy (temper = 1): 16828.49310414165\n"
     ]
    },
    {
     "name": "stderr",
     "output_type": "stream",
     "text": [
      " 74%|███████████████████████████▎         | 11806/16000 [11:22<04:11, 16.66it/s]"
     ]
    },
    {
     "name": "stdout",
     "output_type": "stream",
     "text": [
      "Step 11802 Energy (temper = 1): 16856.38750415579\n"
     ]
    },
    {
     "name": "stderr",
     "output_type": "stream",
     "text": [
      " 75%|███████████████████████████▊         | 12006/16000 [11:34<03:48, 17.52it/s]"
     ]
    },
    {
     "name": "stdout",
     "output_type": "stream",
     "text": [
      "Step 12002 Energy (temper = 1): 16855.195660974205\n"
     ]
    },
    {
     "name": "stderr",
     "output_type": "stream",
     "text": [
      " 76%|████████████████████████████▏        | 12206/16000 [11:45<03:30, 18.01it/s]"
     ]
    },
    {
     "name": "stdout",
     "output_type": "stream",
     "text": [
      "Step 12202 Energy (temper = 1): 16832.215997493477\n"
     ]
    },
    {
     "name": "stderr",
     "output_type": "stream",
     "text": [
      " 78%|████████████████████████████▋        | 12408/16000 [11:57<03:30, 17.07it/s]"
     ]
    },
    {
     "name": "stdout",
     "output_type": "stream",
     "text": [
      "Step 12402 Energy (temper = 1): 16828.49310414165\n"
     ]
    },
    {
     "name": "stderr",
     "output_type": "stream",
     "text": [
      " 79%|█████████████████████████████▏       | 12606/16000 [12:09<03:11, 17.71it/s]"
     ]
    },
    {
     "name": "stdout",
     "output_type": "stream",
     "text": [
      "Step 12602 Energy (temper = 1): 16861.26771941453\n"
     ]
    },
    {
     "name": "stderr",
     "output_type": "stream",
     "text": [
      " 80%|█████████████████████████████▌       | 12806/16000 [12:20<03:00, 17.71it/s]"
     ]
    },
    {
     "name": "stdout",
     "output_type": "stream",
     "text": [
      "Step 12802 Energy (temper = 1): 16832.215997493477\n"
     ]
    },
    {
     "name": "stderr",
     "output_type": "stream",
     "text": [
      " 81%|██████████████████████████████       | 13008/16000 [12:32<02:45, 18.04it/s]"
     ]
    },
    {
     "name": "stdout",
     "output_type": "stream",
     "text": [
      "Step 13002 Energy (temper = 1): 16832.215997493477\n"
     ]
    },
    {
     "name": "stderr",
     "output_type": "stream",
     "text": [
      " 83%|██████████████████████████████▌      | 13206/16000 [12:43<02:44, 16.95it/s]"
     ]
    },
    {
     "name": "stdout",
     "output_type": "stream",
     "text": [
      "Step 13202 Energy (temper = 1): 16844.88330715964\n"
     ]
    },
    {
     "name": "stderr",
     "output_type": "stream",
     "text": [
      " 84%|███████████████████████████████      | 13406/16000 [12:55<02:29, 17.34it/s]"
     ]
    },
    {
     "name": "stdout",
     "output_type": "stream",
     "text": [
      "Step 13402 Energy (temper = 1): 16814.698280222932\n"
     ]
    },
    {
     "name": "stderr",
     "output_type": "stream",
     "text": [
      " 85%|███████████████████████████████▍     | 13606/16000 [13:07<02:12, 18.05it/s]"
     ]
    },
    {
     "name": "stdout",
     "output_type": "stream",
     "text": [
      "Step 13602 Energy (temper = 1): 16875.33273228412\n"
     ]
    },
    {
     "name": "stderr",
     "output_type": "stream",
     "text": [
      " 86%|███████████████████████████████▉     | 13808/16000 [13:18<02:02, 17.85it/s]"
     ]
    },
    {
     "name": "stdout",
     "output_type": "stream",
     "text": [
      "Step 13802 Energy (temper = 1): 16805.760152270894\n"
     ]
    },
    {
     "name": "stderr",
     "output_type": "stream",
     "text": [
      " 88%|████████████████████████████████▍    | 14006/16000 [13:30<01:54, 17.44it/s]"
     ]
    },
    {
     "name": "stdout",
     "output_type": "stream",
     "text": [
      "Step 14002 Energy (temper = 1): 16865.266040408234\n"
     ]
    },
    {
     "name": "stderr",
     "output_type": "stream",
     "text": [
      " 89%|████████████████████████████████▊    | 14206/16000 [13:41<01:52, 15.93it/s]"
     ]
    },
    {
     "name": "stdout",
     "output_type": "stream",
     "text": [
      "Step 14202 Energy (temper = 1): 16860.12995871932\n"
     ]
    },
    {
     "name": "stderr",
     "output_type": "stream",
     "text": [
      " 90%|█████████████████████████████████▎   | 14406/16000 [13:53<01:31, 17.39it/s]"
     ]
    },
    {
     "name": "stdout",
     "output_type": "stream",
     "text": [
      "Step 14402 Energy (temper = 1): 16862.70499567243\n"
     ]
    },
    {
     "name": "stderr",
     "output_type": "stream",
     "text": [
      " 91%|█████████████████████████████████▊   | 14606/16000 [14:04<01:18, 17.85it/s]"
     ]
    },
    {
     "name": "stdout",
     "output_type": "stream",
     "text": [
      "Step 14602 Energy (temper = 1): 16736.89074915555\n"
     ]
    },
    {
     "name": "stderr",
     "output_type": "stream",
     "text": [
      " 93%|██████████████████████████████████▏  | 14808/16000 [14:16<01:06, 17.97it/s]"
     ]
    },
    {
     "name": "stdout",
     "output_type": "stream",
     "text": [
      "Step 14802 Energy (temper = 1): 16734.888317325873\n"
     ]
    },
    {
     "name": "stderr",
     "output_type": "stream",
     "text": [
      " 94%|██████████████████████████████████▋  | 15006/16000 [14:27<00:56, 17.50it/s]"
     ]
    },
    {
     "name": "stdout",
     "output_type": "stream",
     "text": [
      "Step 15002 Energy (temper = 1): 16732.055633298012\n"
     ]
    },
    {
     "name": "stderr",
     "output_type": "stream",
     "text": [
      " 95%|███████████████████████████████████▏ | 15206/16000 [14:39<00:47, 16.70it/s]"
     ]
    },
    {
     "name": "stdout",
     "output_type": "stream",
     "text": [
      "Step 15202 Energy (temper = 1): 16858.953529634673\n"
     ]
    },
    {
     "name": "stderr",
     "output_type": "stream",
     "text": [
      " 96%|███████████████████████████████████▋ | 15406/16000 [14:51<00:44, 13.27it/s]"
     ]
    },
    {
     "name": "stdout",
     "output_type": "stream",
     "text": [
      "Step 15402 Energy (temper = 1): 16741.304173024553\n"
     ]
    },
    {
     "name": "stderr",
     "output_type": "stream",
     "text": [
      " 98%|████████████████████████████████████ | 15606/16000 [15:02<00:21, 18.18it/s]"
     ]
    },
    {
     "name": "stdout",
     "output_type": "stream",
     "text": [
      "Step 15602 Energy (temper = 1): 16746.063232291453\n"
     ]
    },
    {
     "name": "stderr",
     "output_type": "stream",
     "text": [
      " 99%|████████████████████████████████████▌| 15806/16000 [15:14<00:11, 17.62it/s]"
     ]
    },
    {
     "name": "stdout",
     "output_type": "stream",
     "text": [
      "Step 15802 Energy (temper = 1): 16738.477068420027\n"
     ]
    },
    {
     "name": "stderr",
     "output_type": "stream",
     "text": [
      "100%|█████████████████████████████████████| 16000/16000 [15:25<00:00, 17.29it/s]\n",
      " 50%|███████████████████                   | 8006/16000 [07:45<07:24, 17.97it/s]"
     ]
    },
    {
     "name": "stdout",
     "output_type": "stream",
     "text": [
      "Step 8003 Energy (temper = 1): 16524.53329802049\n"
     ]
    },
    {
     "name": "stderr",
     "output_type": "stream",
     "text": [
      " 51%|███████████████████▍                  | 8206/16000 [07:56<07:34, 17.14it/s]"
     ]
    },
    {
     "name": "stdout",
     "output_type": "stream",
     "text": [
      "Step 8203 Energy (temper = 1): 16519.71762871954\n"
     ]
    },
    {
     "name": "stderr",
     "output_type": "stream",
     "text": [
      " 53%|███████████████████▉                  | 8408/16000 [08:08<07:05, 17.83it/s]"
     ]
    },
    {
     "name": "stdout",
     "output_type": "stream",
     "text": [
      "Step 8403 Energy (temper = 1): 16517.07588365226\n"
     ]
    },
    {
     "name": "stderr",
     "output_type": "stream",
     "text": [
      " 54%|████████████████████▍                 | 8606/16000 [08:19<07:56, 15.51it/s]"
     ]
    },
    {
     "name": "stdout",
     "output_type": "stream",
     "text": [
      "Step 8603 Energy (temper = 1): 16524.95815405639\n"
     ]
    },
    {
     "name": "stderr",
     "output_type": "stream",
     "text": [
      " 55%|████████████████████▉                 | 8806/16000 [08:31<06:44, 17.79it/s]"
     ]
    },
    {
     "name": "stdout",
     "output_type": "stream",
     "text": [
      "Step 8803 Energy (temper = 1): 16526.095642337183\n"
     ]
    },
    {
     "name": "stderr",
     "output_type": "stream",
     "text": [
      " 56%|█████████████████████▍                | 9006/16000 [08:42<07:11, 16.21it/s]"
     ]
    },
    {
     "name": "stdout",
     "output_type": "stream",
     "text": [
      "Step 9003 Energy (temper = 1): 16532.471202466804\n"
     ]
    },
    {
     "name": "stderr",
     "output_type": "stream",
     "text": [
      " 58%|█████████████████████▊                | 9206/16000 [08:54<06:21, 17.83it/s]"
     ]
    },
    {
     "name": "stdout",
     "output_type": "stream",
     "text": [
      "Step 9203 Energy (temper = 1): 16519.71762871954\n"
     ]
    },
    {
     "name": "stderr",
     "output_type": "stream",
     "text": [
      " 59%|██████████████████████▎               | 9406/16000 [09:05<06:08, 17.87it/s]"
     ]
    },
    {
     "name": "stdout",
     "output_type": "stream",
     "text": [
      "Step 9403 Energy (temper = 1): 16640.389180020662\n"
     ]
    },
    {
     "name": "stderr",
     "output_type": "stream",
     "text": [
      " 60%|██████████████████████▊               | 9606/16000 [09:17<06:27, 16.52it/s]"
     ]
    },
    {
     "name": "stdout",
     "output_type": "stream",
     "text": [
      "Step 9603 Energy (temper = 1): 16520.80793889184\n"
     ]
    },
    {
     "name": "stderr",
     "output_type": "stream",
     "text": [
      " 61%|███████████████████████▎              | 9806/16000 [09:28<05:41, 18.11it/s]"
     ]
    },
    {
     "name": "stdout",
     "output_type": "stream",
     "text": [
      "Step 9803 Energy (temper = 1): 16524.53329802049\n"
     ]
    },
    {
     "name": "stderr",
     "output_type": "stream",
     "text": [
      " 63%|███████████████████████▏             | 10006/16000 [09:39<05:37, 17.77it/s]"
     ]
    },
    {
     "name": "stdout",
     "output_type": "stream",
     "text": [
      "Step 10003 Energy (temper = 1): 16518.142372092036\n"
     ]
    },
    {
     "name": "stderr",
     "output_type": "stream",
     "text": [
      " 64%|███████████████████████▌             | 10206/16000 [09:51<05:24, 17.87it/s]"
     ]
    },
    {
     "name": "stdout",
     "output_type": "stream",
     "text": [
      "Step 10203 Energy (temper = 1): 16517.07588365226\n"
     ]
    },
    {
     "name": "stderr",
     "output_type": "stream",
     "text": [
      " 65%|████████████████████████             | 10406/16000 [10:03<05:12, 17.91it/s]"
     ]
    },
    {
     "name": "stdout",
     "output_type": "stream",
     "text": [
      "Step 10403 Energy (temper = 1): 16518.142372092036\n"
     ]
    },
    {
     "name": "stderr",
     "output_type": "stream",
     "text": [
      " 66%|████████████████████████▌            | 10608/16000 [10:14<05:08, 17.46it/s]"
     ]
    },
    {
     "name": "stdout",
     "output_type": "stream",
     "text": [
      "Step 10603 Energy (temper = 1): 16520.80793889184\n"
     ]
    },
    {
     "name": "stderr",
     "output_type": "stream",
     "text": [
      " 68%|████████████████████████▉            | 10806/16000 [10:26<05:09, 16.79it/s]"
     ]
    },
    {
     "name": "stdout",
     "output_type": "stream",
     "text": [
      "Step 10803 Energy (temper = 1): 16520.80793889184\n"
     ]
    },
    {
     "name": "stderr",
     "output_type": "stream",
     "text": [
      " 69%|█████████████████████████▍           | 11006/16000 [10:37<04:38, 17.90it/s]"
     ]
    },
    {
     "name": "stdout",
     "output_type": "stream",
     "text": [
      "Step 11003 Energy (temper = 1): 16520.80793889184\n"
     ]
    },
    {
     "name": "stderr",
     "output_type": "stream",
     "text": [
      " 70%|█████████████████████████▉           | 11206/16000 [10:49<04:29, 17.78it/s]"
     ]
    },
    {
     "name": "stdout",
     "output_type": "stream",
     "text": [
      "Step 11203 Energy (temper = 1): 16649.171801506767\n"
     ]
    },
    {
     "name": "stderr",
     "output_type": "stream",
     "text": [
      " 71%|██████████████████████████▍          | 11406/16000 [11:00<04:19, 17.71it/s]"
     ]
    },
    {
     "name": "stdout",
     "output_type": "stream",
     "text": [
      "Step 11403 Energy (temper = 1): 16522.345021340945\n"
     ]
    },
    {
     "name": "stderr",
     "output_type": "stream",
     "text": [
      " 73%|██████████████████████████▊          | 11606/16000 [11:12<04:32, 16.10it/s]"
     ]
    },
    {
     "name": "stdout",
     "output_type": "stream",
     "text": [
      "Step 11603 Energy (temper = 1): 16524.53329802049\n"
     ]
    },
    {
     "name": "stderr",
     "output_type": "stream",
     "text": [
      " 74%|███████████████████████████▎         | 11806/16000 [11:23<03:54, 17.85it/s]"
     ]
    },
    {
     "name": "stdout",
     "output_type": "stream",
     "text": [
      "Step 11803 Energy (temper = 1): 16647.773626730523\n"
     ]
    },
    {
     "name": "stderr",
     "output_type": "stream",
     "text": [
      " 75%|███████████████████████████▊         | 12006/16000 [11:36<03:50, 17.31it/s]"
     ]
    },
    {
     "name": "stdout",
     "output_type": "stream",
     "text": [
      "Step 12003 Energy (temper = 1): 16522.868322620685\n"
     ]
    },
    {
     "name": "stderr",
     "output_type": "stream",
     "text": [
      " 76%|████████████████████████████▏        | 12206/16000 [11:47<03:37, 17.47it/s]"
     ]
    },
    {
     "name": "stdout",
     "output_type": "stream",
     "text": [
      "Step 12203 Energy (temper = 1): 16524.53329802049\n"
     ]
    },
    {
     "name": "stderr",
     "output_type": "stream",
     "text": [
      " 78%|████████████████████████████▋        | 12406/16000 [11:59<03:21, 17.85it/s]"
     ]
    },
    {
     "name": "stdout",
     "output_type": "stream",
     "text": [
      "Step 12403 Energy (temper = 1): 16518.142372092036\n"
     ]
    },
    {
     "name": "stderr",
     "output_type": "stream",
     "text": [
      " 79%|█████████████████████████████▏       | 12606/16000 [12:10<03:09, 17.89it/s]"
     ]
    },
    {
     "name": "stdout",
     "output_type": "stream",
     "text": [
      "Step 12603 Energy (temper = 1): 16520.80793889184\n"
     ]
    },
    {
     "name": "stderr",
     "output_type": "stream",
     "text": [
      " 80%|█████████████████████████████▌       | 12806/16000 [12:22<02:57, 18.02it/s]"
     ]
    },
    {
     "name": "stdout",
     "output_type": "stream",
     "text": [
      "Step 12803 Energy (temper = 1): 16518.587809422665\n"
     ]
    },
    {
     "name": "stderr",
     "output_type": "stream",
     "text": [
      " 81%|██████████████████████████████       | 13006/16000 [12:34<03:08, 15.85it/s]"
     ]
    },
    {
     "name": "stdout",
     "output_type": "stream",
     "text": [
      "Step 13003 Energy (temper = 1): 16517.07588365226\n"
     ]
    },
    {
     "name": "stderr",
     "output_type": "stream",
     "text": [
      " 83%|██████████████████████████████▌      | 13206/16000 [12:45<02:42, 17.20it/s]"
     ]
    },
    {
     "name": "stdout",
     "output_type": "stream",
     "text": [
      "Step 13203 Energy (temper = 1): 16517.07588365226\n"
     ]
    },
    {
     "name": "stderr",
     "output_type": "stream",
     "text": [
      " 84%|███████████████████████████████      | 13406/16000 [12:57<02:33, 16.92it/s]"
     ]
    },
    {
     "name": "stdout",
     "output_type": "stream",
     "text": [
      "Step 13403 Energy (temper = 1): 16517.07588365226\n"
     ]
    },
    {
     "name": "stderr",
     "output_type": "stream",
     "text": [
      " 85%|███████████████████████████████▍     | 13606/16000 [13:08<02:14, 17.77it/s]"
     ]
    },
    {
     "name": "stdout",
     "output_type": "stream",
     "text": [
      "Step 13603 Energy (temper = 1): 16518.142372092036\n"
     ]
    },
    {
     "name": "stderr",
     "output_type": "stream",
     "text": [
      " 86%|███████████████████████████████▉     | 13806/16000 [13:20<02:01, 18.04it/s]"
     ]
    },
    {
     "name": "stdout",
     "output_type": "stream",
     "text": [
      "Step 13803 Energy (temper = 1): 16518.142372092036\n"
     ]
    },
    {
     "name": "stderr",
     "output_type": "stream",
     "text": [
      " 88%|████████████████████████████████▍    | 14006/16000 [13:32<02:01, 16.46it/s]"
     ]
    },
    {
     "name": "stdout",
     "output_type": "stream",
     "text": [
      "Step 14003 Energy (temper = 1): 16517.07588365226\n"
     ]
    },
    {
     "name": "stderr",
     "output_type": "stream",
     "text": [
      " 89%|████████████████████████████████▊    | 14206/16000 [13:43<01:43, 17.29it/s]"
     ]
    },
    {
     "name": "stdout",
     "output_type": "stream",
     "text": [
      "Step 14203 Energy (temper = 1): 16515.46220167874\n"
     ]
    },
    {
     "name": "stderr",
     "output_type": "stream",
     "text": [
      " 90%|█████████████████████████████████▎   | 14406/16000 [13:55<01:28, 18.00it/s]"
     ]
    },
    {
     "name": "stdout",
     "output_type": "stream",
     "text": [
      "Step 14403 Energy (temper = 1): 16518.142372092036\n"
     ]
    },
    {
     "name": "stderr",
     "output_type": "stream",
     "text": [
      " 91%|█████████████████████████████████▊   | 14608/16000 [14:06<01:18, 17.82it/s]"
     ]
    },
    {
     "name": "stdout",
     "output_type": "stream",
     "text": [
      "Step 14603 Energy (temper = 1): 16524.53329802049\n"
     ]
    },
    {
     "name": "stderr",
     "output_type": "stream",
     "text": [
      " 93%|██████████████████████████████████▏  | 14806/16000 [14:17<01:06, 17.86it/s]"
     ]
    },
    {
     "name": "stdout",
     "output_type": "stream",
     "text": [
      "Step 14803 Energy (temper = 1): 16514.419692522504\n"
     ]
    },
    {
     "name": "stderr",
     "output_type": "stream",
     "text": [
      " 94%|██████████████████████████████████▋  | 15006/16000 [14:29<00:59, 16.67it/s]"
     ]
    },
    {
     "name": "stdout",
     "output_type": "stream",
     "text": [
      "Step 15003 Energy (temper = 1): 16519.71762871954\n"
     ]
    },
    {
     "name": "stderr",
     "output_type": "stream",
     "text": [
      " 95%|███████████████████████████████████▏ | 15206/16000 [14:40<00:44, 17.97it/s]"
     ]
    },
    {
     "name": "stdout",
     "output_type": "stream",
     "text": [
      "Step 15203 Energy (temper = 1): 16520.80793889184\n"
     ]
    },
    {
     "name": "stderr",
     "output_type": "stream",
     "text": [
      " 96%|███████████████████████████████████▋ | 15406/16000 [14:52<00:33, 17.91it/s]"
     ]
    },
    {
     "name": "stdout",
     "output_type": "stream",
     "text": [
      "Step 15403 Energy (temper = 1): 16515.46220167874\n"
     ]
    },
    {
     "name": "stderr",
     "output_type": "stream",
     "text": [
      " 98%|████████████████████████████████████ | 15606/16000 [15:04<00:22, 17.66it/s]"
     ]
    },
    {
     "name": "stdout",
     "output_type": "stream",
     "text": [
      "Step 15603 Energy (temper = 1): 16514.419692522504\n"
     ]
    },
    {
     "name": "stderr",
     "output_type": "stream",
     "text": [
      " 99%|████████████████████████████████████▌| 15806/16000 [15:15<00:11, 17.06it/s]"
     ]
    },
    {
     "name": "stdout",
     "output_type": "stream",
     "text": [
      "Step 15803 Energy (temper = 1): 16518.142372092036\n"
     ]
    },
    {
     "name": "stderr",
     "output_type": "stream",
     "text": [
      "100%|█████████████████████████████████████| 16000/16000 [15:27<00:00, 17.26it/s]\n",
      " 50%|███████████████████                   | 8008/16000 [07:43<07:17, 18.27it/s]"
     ]
    },
    {
     "name": "stdout",
     "output_type": "stream",
     "text": [
      "Step 8004 Energy (temper = 1): 16624.467114854408\n"
     ]
    },
    {
     "name": "stderr",
     "output_type": "stream",
     "text": [
      " 51%|███████████████████▍                  | 8210/16000 [07:55<07:24, 17.54it/s]"
     ]
    },
    {
     "name": "stdout",
     "output_type": "stream",
     "text": [
      "Step 8204 Energy (temper = 1): 16751.26925687155\n"
     ]
    },
    {
     "name": "stderr",
     "output_type": "stream",
     "text": [
      " 53%|███████████████████▉                  | 8408/16000 [08:06<07:03, 17.92it/s]"
     ]
    },
    {
     "name": "stdout",
     "output_type": "stream",
     "text": [
      "Step 8404 Energy (temper = 1): 16624.467114854408\n"
     ]
    },
    {
     "name": "stderr",
     "output_type": "stream",
     "text": [
      " 54%|████████████████████▍                 | 8608/16000 [08:18<06:47, 18.13it/s]"
     ]
    },
    {
     "name": "stdout",
     "output_type": "stream",
     "text": [
      "Step 8604 Energy (temper = 1): 16630.849791544846\n"
     ]
    },
    {
     "name": "stderr",
     "output_type": "stream",
     "text": [
      " 55%|████████████████████▉                 | 8808/16000 [08:29<07:32, 15.89it/s]"
     ]
    },
    {
     "name": "stdout",
     "output_type": "stream",
     "text": [
      "Step 8804 Energy (temper = 1): 16561.166254784715\n"
     ]
    },
    {
     "name": "stderr",
     "output_type": "stream",
     "text": [
      " 56%|█████████████████████▍                | 9008/16000 [08:41<06:51, 17.00it/s]"
     ]
    },
    {
     "name": "stdout",
     "output_type": "stream",
     "text": [
      "Step 9004 Energy (temper = 1): 16627.1459128739\n"
     ]
    },
    {
     "name": "stderr",
     "output_type": "stream",
     "text": [
      " 58%|█████████████████████▊                | 9208/16000 [08:52<06:33, 17.28it/s]"
     ]
    },
    {
     "name": "stdout",
     "output_type": "stream",
     "text": [
      "Step 9204 Energy (temper = 1): 16631.84911646488\n"
     ]
    },
    {
     "name": "stderr",
     "output_type": "stream",
     "text": [
      " 59%|██████████████████████▎               | 9408/16000 [09:04<06:08, 17.90it/s]"
     ]
    },
    {
     "name": "stdout",
     "output_type": "stream",
     "text": [
      "Step 9404 Energy (temper = 1): 16625.458455533386\n"
     ]
    },
    {
     "name": "stderr",
     "output_type": "stream",
     "text": [
      " 60%|██████████████████████▊               | 9608/16000 [09:15<06:33, 16.25it/s]"
     ]
    },
    {
     "name": "stdout",
     "output_type": "stream",
     "text": [
      "Step 9604 Energy (temper = 1): 16568.132293665512\n"
     ]
    },
    {
     "name": "stderr",
     "output_type": "stream",
     "text": [
      " 61%|███████████████████████▎              | 9808/16000 [09:27<06:21, 16.24it/s]"
     ]
    },
    {
     "name": "stdout",
     "output_type": "stream",
     "text": [
      "Step 9804 Energy (temper = 1): 16629.810093574233\n"
     ]
    },
    {
     "name": "stderr",
     "output_type": "stream",
     "text": [
      " 63%|███████████████████████▏             | 10008/16000 [09:39<05:54, 16.89it/s]"
     ]
    },
    {
     "name": "stdout",
     "output_type": "stream",
     "text": [
      "Step 10004 Energy (temper = 1): 16624.467114854408\n"
     ]
    },
    {
     "name": "stderr",
     "output_type": "stream",
     "text": [
      " 64%|███████████████████████▌             | 10208/16000 [09:50<05:39, 17.07it/s]"
     ]
    },
    {
     "name": "stdout",
     "output_type": "stream",
     "text": [
      "Step 10204 Energy (temper = 1): 16728.487097911362\n"
     ]
    },
    {
     "name": "stderr",
     "output_type": "stream",
     "text": [
      " 65%|████████████████████████             | 10408/16000 [10:02<05:47, 16.09it/s]"
     ]
    },
    {
     "name": "stdout",
     "output_type": "stream",
     "text": [
      "Step 10404 Energy (temper = 1): 16627.1459128739\n"
     ]
    },
    {
     "name": "stderr",
     "output_type": "stream",
     "text": [
      " 66%|████████████████████████▌            | 10608/16000 [10:13<05:09, 17.42it/s]"
     ]
    },
    {
     "name": "stdout",
     "output_type": "stream",
     "text": [
      "Step 10604 Energy (temper = 1): 16623.435307999243\n"
     ]
    },
    {
     "name": "stderr",
     "output_type": "stream",
     "text": [
      " 68%|████████████████████████▉            | 10810/16000 [10:25<05:00, 17.26it/s]"
     ]
    },
    {
     "name": "stdout",
     "output_type": "stream",
     "text": [
      "Step 10804 Energy (temper = 1): 16634.54691765451\n"
     ]
    },
    {
     "name": "stderr",
     "output_type": "stream",
     "text": [
      " 69%|█████████████████████████▍           | 11008/16000 [10:36<04:37, 17.98it/s]"
     ]
    },
    {
     "name": "stdout",
     "output_type": "stream",
     "text": [
      "Step 11004 Energy (temper = 1): 16626.090112523314\n"
     ]
    },
    {
     "name": "stderr",
     "output_type": "stream",
     "text": [
      " 70%|█████████████████████████▉           | 11208/16000 [10:48<04:26, 18.01it/s]"
     ]
    },
    {
     "name": "stdout",
     "output_type": "stream",
     "text": [
      "Step 11204 Energy (temper = 1): 16627.1459128739\n"
     ]
    },
    {
     "name": "stderr",
     "output_type": "stream",
     "text": [
      " 71%|██████████████████████████▍          | 11410/16000 [11:00<04:21, 17.56it/s]"
     ]
    },
    {
     "name": "stdout",
     "output_type": "stream",
     "text": [
      "Step 11404 Energy (temper = 1): 16623.435307999243\n"
     ]
    },
    {
     "name": "stderr",
     "output_type": "stream",
     "text": [
      " 73%|██████████████████████████▊          | 11608/16000 [11:11<04:13, 17.31it/s]"
     ]
    },
    {
     "name": "stdout",
     "output_type": "stream",
     "text": [
      "Step 11604 Energy (temper = 1): 16623.435307999243\n"
     ]
    },
    {
     "name": "stderr",
     "output_type": "stream",
     "text": [
      " 74%|███████████████████████████▎         | 11808/16000 [11:23<03:53, 17.91it/s]"
     ]
    },
    {
     "name": "stdout",
     "output_type": "stream",
     "text": [
      "Step 11804 Energy (temper = 1): 16561.166254784715\n"
     ]
    },
    {
     "name": "stderr",
     "output_type": "stream",
     "text": [
      " 75%|███████████████████████████▊         | 12008/16000 [11:34<03:42, 17.91it/s]"
     ]
    },
    {
     "name": "stdout",
     "output_type": "stream",
     "text": [
      "Step 12004 Energy (temper = 1): 16625.458455533386\n"
     ]
    },
    {
     "name": "stderr",
     "output_type": "stream",
     "text": [
      " 76%|████████████████████████████▏        | 12208/16000 [11:46<03:47, 16.65it/s]"
     ]
    },
    {
     "name": "stdout",
     "output_type": "stream",
     "text": [
      "Step 12204 Energy (temper = 1): 16563.63129135115\n"
     ]
    },
    {
     "name": "stderr",
     "output_type": "stream",
     "text": [
      " 78%|████████████████████████████▋        | 12408/16000 [11:57<03:20, 17.95it/s]"
     ]
    },
    {
     "name": "stdout",
     "output_type": "stream",
     "text": [
      "Step 12404 Energy (temper = 1): 16723.681617962975\n"
     ]
    },
    {
     "name": "stderr",
     "output_type": "stream",
     "text": [
      " 79%|█████████████████████████████▏       | 12608/16000 [12:09<03:15, 17.37it/s]"
     ]
    },
    {
     "name": "stdout",
     "output_type": "stream",
     "text": [
      "Step 12604 Energy (temper = 1): 16628.16151283218\n"
     ]
    },
    {
     "name": "stderr",
     "output_type": "stream",
     "text": [
      " 80%|█████████████████████████████▌       | 12808/16000 [12:20<03:38, 14.59it/s]"
     ]
    },
    {
     "name": "stdout",
     "output_type": "stream",
     "text": [
      "Step 12804 Energy (temper = 1): 16628.16151283218\n"
     ]
    },
    {
     "name": "stderr",
     "output_type": "stream",
     "text": [
      " 81%|██████████████████████████████       | 13008/16000 [12:32<03:09, 15.77it/s]"
     ]
    },
    {
     "name": "stdout",
     "output_type": "stream",
     "text": [
      "Step 13004 Energy (temper = 1): 16628.16151283218\n"
     ]
    },
    {
     "name": "stderr",
     "output_type": "stream",
     "text": [
      " 83%|██████████████████████████████▌      | 13208/16000 [12:44<02:38, 17.63it/s]"
     ]
    },
    {
     "name": "stdout",
     "output_type": "stream",
     "text": [
      "Step 13204 Energy (temper = 1): 16635.52989882711\n"
     ]
    },
    {
     "name": "stderr",
     "output_type": "stream",
     "text": [
      " 84%|███████████████████████████████      | 13408/16000 [12:56<02:24, 17.98it/s]"
     ]
    },
    {
     "name": "stdout",
     "output_type": "stream",
     "text": [
      "Step 13404 Energy (temper = 1): 16708.70415422621\n"
     ]
    },
    {
     "name": "stderr",
     "output_type": "stream",
     "text": [
      " 85%|███████████████████████████████▍     | 13608/16000 [13:08<02:20, 17.06it/s]"
     ]
    },
    {
     "name": "stdout",
     "output_type": "stream",
     "text": [
      "Step 13604 Energy (temper = 1): 16626.408884119526\n"
     ]
    },
    {
     "name": "stderr",
     "output_type": "stream",
     "text": [
      " 86%|███████████████████████████████▉     | 13808/16000 [13:20<02:04, 17.63it/s]"
     ]
    },
    {
     "name": "stdout",
     "output_type": "stream",
     "text": [
      "Step 13804 Energy (temper = 1): 16624.467114854408\n"
     ]
    },
    {
     "name": "stderr",
     "output_type": "stream",
     "text": [
      " 88%|████████████████████████████████▍    | 14010/16000 [13:31<01:52, 17.76it/s]"
     ]
    },
    {
     "name": "stdout",
     "output_type": "stream",
     "text": [
      "Step 14004 Energy (temper = 1): 16623.435307999243\n"
     ]
    },
    {
     "name": "stderr",
     "output_type": "stream",
     "text": [
      " 89%|████████████████████████████████▊    | 14208/16000 [13:43<01:43, 17.37it/s]"
     ]
    },
    {
     "name": "stdout",
     "output_type": "stream",
     "text": [
      "Step 14204 Energy (temper = 1): 16627.1459128739\n"
     ]
    },
    {
     "name": "stderr",
     "output_type": "stream",
     "text": [
      " 90%|█████████████████████████████████▎   | 14408/16000 [13:54<01:28, 17.99it/s]"
     ]
    },
    {
     "name": "stdout",
     "output_type": "stream",
     "text": [
      "Step 14404 Energy (temper = 1): 16629.810093574233\n"
     ]
    },
    {
     "name": "stderr",
     "output_type": "stream",
     "text": [
      " 91%|█████████████████████████████████▊   | 14608/16000 [14:06<01:18, 17.64it/s]"
     ]
    },
    {
     "name": "stdout",
     "output_type": "stream",
     "text": [
      "Step 14604 Energy (temper = 1): 16561.166254784715\n"
     ]
    },
    {
     "name": "stderr",
     "output_type": "stream",
     "text": [
      " 93%|██████████████████████████████████▏  | 14808/16000 [14:17<01:07, 17.63it/s]"
     ]
    },
    {
     "name": "stdout",
     "output_type": "stream",
     "text": [
      "Step 14804 Energy (temper = 1): 16623.435307999243\n"
     ]
    },
    {
     "name": "stderr",
     "output_type": "stream",
     "text": [
      " 94%|██████████████████████████████████▋  | 15008/16000 [14:29<00:55, 17.77it/s]"
     ]
    },
    {
     "name": "stdout",
     "output_type": "stream",
     "text": [
      "Step 15004 Energy (temper = 1): 16624.467114854408\n"
     ]
    },
    {
     "name": "stderr",
     "output_type": "stream",
     "text": [
      " 95%|███████████████████████████████████▏ | 15208/16000 [14:41<00:47, 16.62it/s]"
     ]
    },
    {
     "name": "stdout",
     "output_type": "stream",
     "text": [
      "Step 15204 Energy (temper = 1): 16626.090112523314\n"
     ]
    },
    {
     "name": "stderr",
     "output_type": "stream",
     "text": [
      " 96%|███████████████████████████████████▋ | 15408/16000 [14:52<00:34, 17.18it/s]"
     ]
    },
    {
     "name": "stdout",
     "output_type": "stream",
     "text": [
      "Step 15404 Energy (temper = 1): 16630.849791544846\n"
     ]
    },
    {
     "name": "stderr",
     "output_type": "stream",
     "text": [
      " 98%|████████████████████████████████████ | 15608/16000 [15:04<00:23, 16.81it/s]"
     ]
    },
    {
     "name": "stdout",
     "output_type": "stream",
     "text": [
      "Step 15604 Energy (temper = 1): 16633.72486162147\n"
     ]
    },
    {
     "name": "stderr",
     "output_type": "stream",
     "text": [
      " 99%|████████████████████████████████████▌| 15808/16000 [15:15<00:11, 16.89it/s]"
     ]
    },
    {
     "name": "stdout",
     "output_type": "stream",
     "text": [
      "Step 15804 Energy (temper = 1): 16639.203832764368\n"
     ]
    },
    {
     "name": "stderr",
     "output_type": "stream",
     "text": [
      "100%|█████████████████████████████████████| 16000/16000 [15:26<00:00, 17.26it/s]\n",
      " 50%|███████████████████                   | 8008/16000 [07:44<07:44, 17.21it/s]"
     ]
    },
    {
     "name": "stdout",
     "output_type": "stream",
     "text": [
      "Step 8005 Energy (temper = 1): 16325.241578488058\n"
     ]
    },
    {
     "name": "stderr",
     "output_type": "stream",
     "text": [
      " 51%|███████████████████▍                  | 8208/16000 [07:57<07:31, 17.25it/s]"
     ]
    },
    {
     "name": "stdout",
     "output_type": "stream",
     "text": [
      "Step 8205 Energy (temper = 1): 16324.418068642524\n"
     ]
    },
    {
     "name": "stderr",
     "output_type": "stream",
     "text": [
      " 53%|███████████████████▉                  | 8410/16000 [08:08<07:36, 16.62it/s]"
     ]
    },
    {
     "name": "stdout",
     "output_type": "stream",
     "text": [
      "Step 8405 Energy (temper = 1): 16322.64362356397\n"
     ]
    },
    {
     "name": "stderr",
     "output_type": "stream",
     "text": [
      " 54%|████████████████████▍                 | 8608/16000 [08:20<07:50, 15.71it/s]"
     ]
    },
    {
     "name": "stdout",
     "output_type": "stream",
     "text": [
      "Step 8605 Energy (temper = 1): 16325.393270823362\n"
     ]
    },
    {
     "name": "stderr",
     "output_type": "stream",
     "text": [
      " 55%|████████████████████▉                 | 8808/16000 [08:32<07:04, 16.96it/s]"
     ]
    },
    {
     "name": "stdout",
     "output_type": "stream",
     "text": [
      "Step 8805 Energy (temper = 1): 16256.06032338088\n"
     ]
    },
    {
     "name": "stderr",
     "output_type": "stream",
     "text": [
      " 56%|█████████████████████▍                | 9008/16000 [08:43<06:50, 17.03it/s]"
     ]
    },
    {
     "name": "stdout",
     "output_type": "stream",
     "text": [
      "Step 9005 Energy (temper = 1): 16328.87322240875\n"
     ]
    },
    {
     "name": "stderr",
     "output_type": "stream",
     "text": [
      " 58%|█████████████████████▊                | 9210/16000 [08:55<06:22, 17.76it/s]"
     ]
    },
    {
     "name": "stdout",
     "output_type": "stream",
     "text": [
      "Step 9205 Energy (temper = 1): 16324.418068642524\n"
     ]
    },
    {
     "name": "stderr",
     "output_type": "stream",
     "text": [
      " 59%|██████████████████████▎               | 9410/16000 [09:06<06:20, 17.33it/s]"
     ]
    },
    {
     "name": "stdout",
     "output_type": "stream",
     "text": [
      "Step 9405 Energy (temper = 1): 16331.708754216903\n"
     ]
    },
    {
     "name": "stderr",
     "output_type": "stream",
     "text": [
      " 60%|██████████████████████▊               | 9608/16000 [09:17<05:57, 17.88it/s]"
     ]
    },
    {
     "name": "stdout",
     "output_type": "stream",
     "text": [
      "Step 9605 Energy (temper = 1): 16314.303499958616\n"
     ]
    },
    {
     "name": "stderr",
     "output_type": "stream",
     "text": [
      " 61%|███████████████████████▎              | 9808/16000 [09:29<06:14, 16.54it/s]"
     ]
    },
    {
     "name": "stdout",
     "output_type": "stream",
     "text": [
      "Step 9805 Energy (temper = 1): 16318.771798733593\n"
     ]
    },
    {
     "name": "stderr",
     "output_type": "stream",
     "text": [
      " 63%|███████████████████████▏             | 10008/16000 [09:41<05:29, 18.17it/s]"
     ]
    },
    {
     "name": "stdout",
     "output_type": "stream",
     "text": [
      "Step 10005 Energy (temper = 1): 16328.0669937419\n"
     ]
    },
    {
     "name": "stderr",
     "output_type": "stream",
     "text": [
      " 64%|███████████████████████▌             | 10208/16000 [09:52<05:47, 16.65it/s]"
     ]
    },
    {
     "name": "stdout",
     "output_type": "stream",
     "text": [
      "Step 10205 Energy (temper = 1): 16331.708754216903\n"
     ]
    },
    {
     "name": "stderr",
     "output_type": "stream",
     "text": [
      " 65%|████████████████████████             | 10408/16000 [10:04<05:26, 17.15it/s]"
     ]
    },
    {
     "name": "stdout",
     "output_type": "stream",
     "text": [
      "Step 10405 Energy (temper = 1): 16265.381371964257\n"
     ]
    },
    {
     "name": "stderr",
     "output_type": "stream",
     "text": [
      " 66%|████████████████████████▌            | 10608/16000 [10:15<04:59, 17.99it/s]"
     ]
    },
    {
     "name": "stdout",
     "output_type": "stream",
     "text": [
      "Step 10605 Energy (temper = 1): 16328.0669937419\n"
     ]
    },
    {
     "name": "stderr",
     "output_type": "stream",
     "text": [
      " 68%|████████████████████████▉            | 10808/16000 [10:26<04:55, 17.58it/s]"
     ]
    },
    {
     "name": "stdout",
     "output_type": "stream",
     "text": [
      "Step 10805 Energy (temper = 1): 16336.450403179639\n"
     ]
    },
    {
     "name": "stderr",
     "output_type": "stream",
     "text": [
      " 69%|█████████████████████████▍           | 11008/16000 [10:38<04:59, 16.67it/s]"
     ]
    },
    {
     "name": "stdout",
     "output_type": "stream",
     "text": [
      "Step 11005 Energy (temper = 1): 16300.520408805736\n"
     ]
    },
    {
     "name": "stderr",
     "output_type": "stream",
     "text": [
      " 70%|█████████████████████████▉           | 11208/16000 [10:50<04:45, 16.80it/s]"
     ]
    },
    {
     "name": "stdout",
     "output_type": "stream",
     "text": [
      "Step 11205 Energy (temper = 1): 16314.303499958616\n"
     ]
    },
    {
     "name": "stderr",
     "output_type": "stream",
     "text": [
      " 71%|██████████████████████████▍          | 11408/16000 [11:01<04:46, 16.05it/s]"
     ]
    },
    {
     "name": "stdout",
     "output_type": "stream",
     "text": [
      "Step 11405 Energy (temper = 1): 16259.687298279096\n"
     ]
    },
    {
     "name": "stderr",
     "output_type": "stream",
     "text": [
      " 73%|██████████████████████████▊          | 11608/16000 [11:13<04:09, 17.62it/s]"
     ]
    },
    {
     "name": "stdout",
     "output_type": "stream",
     "text": [
      "Step 11605 Energy (temper = 1): 16245.944515682066\n"
     ]
    },
    {
     "name": "stderr",
     "output_type": "stream",
     "text": [
      " 74%|███████████████████████████▎         | 11808/16000 [11:25<04:02, 17.32it/s]"
     ]
    },
    {
     "name": "stdout",
     "output_type": "stream",
     "text": [
      "Step 11805 Energy (temper = 1): 16258.905026594643\n"
     ]
    },
    {
     "name": "stderr",
     "output_type": "stream",
     "text": [
      " 75%|███████████████████████████▊         | 12008/16000 [11:36<03:40, 18.07it/s]"
     ]
    },
    {
     "name": "stdout",
     "output_type": "stream",
     "text": [
      "Step 12005 Energy (temper = 1): 16258.905026594643\n"
     ]
    },
    {
     "name": "stderr",
     "output_type": "stream",
     "text": [
      " 76%|████████████████████████████▏        | 12208/16000 [11:48<03:30, 17.99it/s]"
     ]
    },
    {
     "name": "stdout",
     "output_type": "stream",
     "text": [
      "Step 12205 Energy (temper = 1): 16250.323493109703\n"
     ]
    },
    {
     "name": "stderr",
     "output_type": "stream",
     "text": [
      " 78%|████████████████████████████▋        | 12408/16000 [11:59<03:20, 17.91it/s]"
     ]
    },
    {
     "name": "stdout",
     "output_type": "stream",
     "text": [
      "Step 12405 Energy (temper = 1): 16246.709769663008\n"
     ]
    },
    {
     "name": "stderr",
     "output_type": "stream",
     "text": [
      " 79%|█████████████████████████████▏       | 12608/16000 [12:11<03:12, 17.65it/s]"
     ]
    },
    {
     "name": "stdout",
     "output_type": "stream",
     "text": [
      "Step 12605 Energy (temper = 1): 16317.098841299492\n"
     ]
    },
    {
     "name": "stderr",
     "output_type": "stream",
     "text": [
      " 80%|█████████████████████████████▌       | 12808/16000 [12:22<03:39, 14.51it/s]"
     ]
    },
    {
     "name": "stdout",
     "output_type": "stream",
     "text": [
      "Step 12805 Energy (temper = 1): 16249.575827137647\n"
     ]
    },
    {
     "name": "stderr",
     "output_type": "stream",
     "text": [
      " 81%|██████████████████████████████       | 13008/16000 [12:34<02:50, 17.58it/s]"
     ]
    },
    {
     "name": "stdout",
     "output_type": "stream",
     "text": [
      "Step 13005 Energy (temper = 1): 16250.749194422759\n"
     ]
    },
    {
     "name": "stderr",
     "output_type": "stream",
     "text": [
      " 83%|██████████████████████████████▌      | 13208/16000 [12:46<02:36, 17.89it/s]"
     ]
    },
    {
     "name": "stdout",
     "output_type": "stream",
     "text": [
      "Step 13205 Energy (temper = 1): 16249.575827137647\n"
     ]
    },
    {
     "name": "stderr",
     "output_type": "stream",
     "text": [
      " 84%|███████████████████████████████      | 13410/16000 [12:58<02:28, 17.45it/s]"
     ]
    },
    {
     "name": "stdout",
     "output_type": "stream",
     "text": [
      "Step 13405 Energy (temper = 1): 16241.479996980226\n"
     ]
    },
    {
     "name": "stderr",
     "output_type": "stream",
     "text": [
      " 85%|███████████████████████████████▍     | 13608/16000 [13:09<02:18, 17.28it/s]"
     ]
    },
    {
     "name": "stdout",
     "output_type": "stream",
     "text": [
      "Step 13605 Energy (temper = 1): 16243.827792605443\n"
     ]
    },
    {
     "name": "stderr",
     "output_type": "stream",
     "text": [
      " 86%|███████████████████████████████▉     | 13808/16000 [13:21<02:02, 17.93it/s]"
     ]
    },
    {
     "name": "stdout",
     "output_type": "stream",
     "text": [
      "Step 13805 Energy (temper = 1): 16312.299410758642\n"
     ]
    },
    {
     "name": "stderr",
     "output_type": "stream",
     "text": [
      " 88%|████████████████████████████████▍    | 14008/16000 [13:32<01:52, 17.67it/s]"
     ]
    },
    {
     "name": "stdout",
     "output_type": "stream",
     "text": [
      "Step 14005 Energy (temper = 1): 16242.305944823922\n"
     ]
    },
    {
     "name": "stderr",
     "output_type": "stream",
     "text": [
      " 89%|████████████████████████████████▊    | 14208/16000 [13:44<01:40, 17.87it/s]"
     ]
    },
    {
     "name": "stdout",
     "output_type": "stream",
     "text": [
      "Step 14205 Energy (temper = 1): 16345.44108441536\n"
     ]
    },
    {
     "name": "stderr",
     "output_type": "stream",
     "text": [
      " 90%|█████████████████████████████████▎   | 14408/16000 [13:55<01:27, 18.16it/s]"
     ]
    },
    {
     "name": "stdout",
     "output_type": "stream",
     "text": [
      "Step 14405 Energy (temper = 1): 16243.088709009877\n"
     ]
    },
    {
     "name": "stderr",
     "output_type": "stream",
     "text": [
      " 91%|█████████████████████████████████▊   | 14608/16000 [14:07<01:16, 18.15it/s]"
     ]
    },
    {
     "name": "stdout",
     "output_type": "stream",
     "text": [
      "Step 14605 Energy (temper = 1): 16243.827792605443\n"
     ]
    },
    {
     "name": "stderr",
     "output_type": "stream",
     "text": [
      " 93%|██████████████████████████████████▏  | 14808/16000 [14:18<01:08, 17.29it/s]"
     ]
    },
    {
     "name": "stdout",
     "output_type": "stream",
     "text": [
      "Step 14805 Energy (temper = 1): 16246.709769663008\n"
     ]
    },
    {
     "name": "stderr",
     "output_type": "stream",
     "text": [
      " 94%|██████████████████████████████████▋  | 15008/16000 [14:30<01:02, 15.82it/s]"
     ]
    },
    {
     "name": "stdout",
     "output_type": "stream",
     "text": [
      "Step 15005 Energy (temper = 1): 16317.956687757716\n"
     ]
    },
    {
     "name": "stderr",
     "output_type": "stream",
     "text": [
      " 95%|███████████████████████████████████▏ | 15208/16000 [14:41<00:44, 17.69it/s]"
     ]
    },
    {
     "name": "stdout",
     "output_type": "stream",
     "text": [
      "Step 15205 Energy (temper = 1): 16317.956687757716\n"
     ]
    },
    {
     "name": "stderr",
     "output_type": "stream",
     "text": [
      " 96%|███████████████████████████████████▋ | 15410/16000 [14:53<00:32, 17.91it/s]"
     ]
    },
    {
     "name": "stdout",
     "output_type": "stream",
     "text": [
      "Step 15405 Energy (temper = 1): 16245.135883061368\n"
     ]
    },
    {
     "name": "stderr",
     "output_type": "stream",
     "text": [
      " 98%|████████████████████████████████████ | 15608/16000 [15:04<00:22, 17.15it/s]"
     ]
    },
    {
     "name": "stdout",
     "output_type": "stream",
     "text": [
      "Step 15605 Energy (temper = 1): 16245.944515682066\n"
     ]
    },
    {
     "name": "stderr",
     "output_type": "stream",
     "text": [
      " 99%|████████████████████████████████████▌| 15808/16000 [15:16<00:10, 18.04it/s]"
     ]
    },
    {
     "name": "stdout",
     "output_type": "stream",
     "text": [
      "Step 15805 Energy (temper = 1): 16336.866590316706\n"
     ]
    },
    {
     "name": "stderr",
     "output_type": "stream",
     "text": [
      "100%|█████████████████████████████████████| 16000/16000 [15:27<00:00, 17.26it/s]\n",
      " 50%|███████████████████                   | 8010/16000 [07:43<07:27, 17.85it/s]"
     ]
    },
    {
     "name": "stdout",
     "output_type": "stream",
     "text": [
      "Step 8006 Energy (temper = 1): 16668.345423732295\n"
     ]
    },
    {
     "name": "stderr",
     "output_type": "stream",
     "text": [
      " 51%|███████████████████▍                  | 8210/16000 [07:55<08:06, 16.03it/s]"
     ]
    },
    {
     "name": "stdout",
     "output_type": "stream",
     "text": [
      "Step 8206 Energy (temper = 1): 16667.019560703295\n"
     ]
    },
    {
     "name": "stderr",
     "output_type": "stream",
     "text": [
      " 53%|███████████████████▉                  | 8410/16000 [08:07<07:11, 17.60it/s]"
     ]
    },
    {
     "name": "stdout",
     "output_type": "stream",
     "text": [
      "Step 8406 Energy (temper = 1): 16669.88234321894\n"
     ]
    },
    {
     "name": "stderr",
     "output_type": "stream",
     "text": [
      " 54%|████████████████████▍                 | 8610/16000 [08:18<06:51, 17.96it/s]"
     ]
    },
    {
     "name": "stdout",
     "output_type": "stream",
     "text": [
      "Step 8606 Energy (temper = 1): 16661.926390488974\n"
     ]
    },
    {
     "name": "stderr",
     "output_type": "stream",
     "text": [
      " 55%|████████████████████▉                 | 8810/16000 [08:29<06:50, 17.51it/s]"
     ]
    },
    {
     "name": "stdout",
     "output_type": "stream",
     "text": [
      "Step 8806 Energy (temper = 1): 16717.330896487736\n"
     ]
    },
    {
     "name": "stderr",
     "output_type": "stream",
     "text": [
      " 56%|█████████████████████▍                | 9010/16000 [08:41<06:41, 17.42it/s]"
     ]
    },
    {
     "name": "stdout",
     "output_type": "stream",
     "text": [
      "Step 9006 Energy (temper = 1): 16657.46980908575\n"
     ]
    },
    {
     "name": "stderr",
     "output_type": "stream",
     "text": [
      " 58%|█████████████████████▉                | 9212/16000 [08:53<06:25, 17.62it/s]"
     ]
    },
    {
     "name": "stdout",
     "output_type": "stream",
     "text": [
      "Step 9206 Energy (temper = 1): 16653.83053289947\n"
     ]
    },
    {
     "name": "stderr",
     "output_type": "stream",
     "text": [
      " 59%|██████████████████████▎               | 9412/16000 [09:04<06:54, 15.88it/s]"
     ]
    },
    {
     "name": "stdout",
     "output_type": "stream",
     "text": [
      "Step 9406 Energy (temper = 1): 16655.504763471894\n"
     ]
    },
    {
     "name": "stderr",
     "output_type": "stream",
     "text": [
      " 60%|██████████████████████▊               | 9612/16000 [09:15<06:34, 16.21it/s]"
     ]
    },
    {
     "name": "stdout",
     "output_type": "stream",
     "text": [
      "Step 9606 Energy (temper = 1): 16654.688838940267\n"
     ]
    },
    {
     "name": "stderr",
     "output_type": "stream",
     "text": [
      " 61%|███████████████████████▎              | 9810/16000 [09:27<05:46, 17.85it/s]"
     ]
    },
    {
     "name": "stdout",
     "output_type": "stream",
     "text": [
      "Step 9806 Energy (temper = 1): 16661.10206889837\n"
     ]
    },
    {
     "name": "stderr",
     "output_type": "stream",
     "text": [
      " 63%|███████████████████████▏             | 10012/16000 [09:38<05:32, 18.00it/s]"
     ]
    },
    {
     "name": "stdout",
     "output_type": "stream",
     "text": [
      "Step 10006 Energy (temper = 1): 16723.681617962975\n"
     ]
    },
    {
     "name": "stderr",
     "output_type": "stream",
     "text": [
      " 64%|███████████████████████▌             | 10210/16000 [09:50<06:15, 15.41it/s]"
     ]
    },
    {
     "name": "stdout",
     "output_type": "stream",
     "text": [
      "Step 10206 Energy (temper = 1): 16662.70794756514\n"
     ]
    },
    {
     "name": "stderr",
     "output_type": "stream",
     "text": [
      " 65%|████████████████████████             | 10410/16000 [10:01<05:29, 16.98it/s]"
     ]
    },
    {
     "name": "stdout",
     "output_type": "stream",
     "text": [
      "Step 10406 Energy (temper = 1): 16658.311160123005\n"
     ]
    },
    {
     "name": "stderr",
     "output_type": "stream",
     "text": [
      " 66%|████████████████████████▌            | 10610/16000 [10:13<05:19, 16.86it/s]"
     ]
    },
    {
     "name": "stdout",
     "output_type": "stream",
     "text": [
      "Step 10606 Energy (temper = 1): 16712.45829136882\n"
     ]
    },
    {
     "name": "stderr",
     "output_type": "stream",
     "text": [
      " 68%|████████████████████████▉            | 10810/16000 [10:25<05:12, 16.60it/s]"
     ]
    },
    {
     "name": "stdout",
     "output_type": "stream",
     "text": [
      "Step 10806 Energy (temper = 1): 16713.59895547235\n"
     ]
    },
    {
     "name": "stderr",
     "output_type": "stream",
     "text": [
      " 69%|█████████████████████████▍           | 11010/16000 [10:37<04:42, 17.64it/s]"
     ]
    },
    {
     "name": "stdout",
     "output_type": "stream",
     "text": [
      "Step 11006 Energy (temper = 1): 16680.213537696553\n"
     ]
    },
    {
     "name": "stderr",
     "output_type": "stream",
     "text": [
      " 70%|█████████████████████████▉           | 11210/16000 [10:48<04:59, 16.01it/s]"
     ]
    },
    {
     "name": "stdout",
     "output_type": "stream",
     "text": [
      "Step 11206 Energy (temper = 1): 16676.513598727688\n"
     ]
    },
    {
     "name": "stderr",
     "output_type": "stream",
     "text": [
      " 71%|██████████████████████████▍          | 11410/16000 [10:59<04:20, 17.61it/s]"
     ]
    },
    {
     "name": "stdout",
     "output_type": "stream",
     "text": [
      "Step 11406 Energy (temper = 1): 16661.926390488974\n"
     ]
    },
    {
     "name": "stderr",
     "output_type": "stream",
     "text": [
      " 73%|██████████████████████████▊          | 11610/16000 [11:11<04:15, 17.19it/s]"
     ]
    },
    {
     "name": "stdout",
     "output_type": "stream",
     "text": [
      "Step 11606 Energy (temper = 1): 16657.00751326268\n"
     ]
    },
    {
     "name": "stderr",
     "output_type": "stream",
     "text": [
      " 74%|███████████████████████████▎         | 11810/16000 [11:23<04:19, 16.18it/s]"
     ]
    },
    {
     "name": "stdout",
     "output_type": "stream",
     "text": [
      "Step 11806 Energy (temper = 1): 16663.446245782892\n"
     ]
    },
    {
     "name": "stderr",
     "output_type": "stream",
     "text": [
      " 75%|███████████████████████████▊         | 12010/16000 [11:35<03:49, 17.38it/s]"
     ]
    },
    {
     "name": "stdout",
     "output_type": "stream",
     "text": [
      "Step 12006 Energy (temper = 1): 16673.45866913641\n"
     ]
    },
    {
     "name": "stderr",
     "output_type": "stream",
     "text": [
      " 76%|████████████████████████████▏        | 12210/16000 [11:46<03:37, 17.45it/s]"
     ]
    },
    {
     "name": "stdout",
     "output_type": "stream",
     "text": [
      "Step 12206 Energy (temper = 1): 16659.865655400157\n"
     ]
    },
    {
     "name": "stderr",
     "output_type": "stream",
     "text": [
      " 78%|████████████████████████████▋        | 12410/16000 [11:58<03:44, 16.00it/s]"
     ]
    },
    {
     "name": "stdout",
     "output_type": "stream",
     "text": [
      "Step 12406 Energy (temper = 1): 16657.693334960488\n"
     ]
    },
    {
     "name": "stderr",
     "output_type": "stream",
     "text": [
      " 79%|█████████████████████████████▏       | 12610/16000 [12:10<03:40, 15.37it/s]"
     ]
    },
    {
     "name": "stdout",
     "output_type": "stream",
     "text": [
      "Step 12606 Energy (temper = 1): 16676.513598727688\n"
     ]
    },
    {
     "name": "stderr",
     "output_type": "stream",
     "text": [
      " 80%|█████████████████████████████▌       | 12810/16000 [12:22<03:09, 16.84it/s]"
     ]
    },
    {
     "name": "stdout",
     "output_type": "stream",
     "text": [
      "Step 12806 Energy (temper = 1): 16656.277820395175\n"
     ]
    },
    {
     "name": "stderr",
     "output_type": "stream",
     "text": [
      " 81%|██████████████████████████████       | 13010/16000 [12:34<02:48, 17.73it/s]"
     ]
    },
    {
     "name": "stdout",
     "output_type": "stream",
     "text": [
      "Step 13006 Energy (temper = 1): 16657.00751326268\n"
     ]
    },
    {
     "name": "stderr",
     "output_type": "stream",
     "text": [
      " 83%|██████████████████████████████▌      | 13210/16000 [12:45<02:34, 18.09it/s]"
     ]
    },
    {
     "name": "stdout",
     "output_type": "stream",
     "text": [
      "Step 13206 Energy (temper = 1): 16659.865655400157\n"
     ]
    },
    {
     "name": "stderr",
     "output_type": "stream",
     "text": [
      " 84%|███████████████████████████████      | 13412/16000 [12:57<02:22, 18.10it/s]"
     ]
    },
    {
     "name": "stdout",
     "output_type": "stream",
     "text": [
      "Step 13406 Energy (temper = 1): 16672.80694449522\n"
     ]
    },
    {
     "name": "stderr",
     "output_type": "stream",
     "text": [
      " 85%|███████████████████████████████▍     | 13610/16000 [13:08<02:16, 17.57it/s]"
     ]
    },
    {
     "name": "stdout",
     "output_type": "stream",
     "text": [
      "Step 13606 Energy (temper = 1): 16680.213537696553\n"
     ]
    },
    {
     "name": "stderr",
     "output_type": "stream",
     "text": [
      " 86%|███████████████████████████████▉     | 13810/16000 [13:19<02:02, 17.92it/s]"
     ]
    },
    {
     "name": "stdout",
     "output_type": "stream",
     "text": [
      "Step 13806 Energy (temper = 1): 16676.513598727688\n"
     ]
    },
    {
     "name": "stderr",
     "output_type": "stream",
     "text": [
      " 88%|████████████████████████████████▍    | 14010/16000 [13:31<01:51, 17.89it/s]"
     ]
    },
    {
     "name": "stdout",
     "output_type": "stream",
     "text": [
      "Step 14006 Energy (temper = 1): 16673.83767147058\n"
     ]
    },
    {
     "name": "stderr",
     "output_type": "stream",
     "text": [
      " 89%|████████████████████████████████▊    | 14210/16000 [13:42<01:38, 18.19it/s]"
     ]
    },
    {
     "name": "stdout",
     "output_type": "stream",
     "text": [
      "Step 14206 Energy (temper = 1): 16659.865655400157\n"
     ]
    },
    {
     "name": "stderr",
     "output_type": "stream",
     "text": [
      " 90%|█████████████████████████████████▎   | 14410/16000 [13:54<01:29, 17.79it/s]"
     ]
    },
    {
     "name": "stdout",
     "output_type": "stream",
     "text": [
      "Step 14406 Energy (temper = 1): 16676.513598727688\n"
     ]
    },
    {
     "name": "stderr",
     "output_type": "stream",
     "text": [
      " 91%|█████████████████████████████████▊   | 14610/16000 [14:06<01:18, 17.72it/s]"
     ]
    },
    {
     "name": "stdout",
     "output_type": "stream",
     "text": [
      "Step 14606 Energy (temper = 1): 16660.57780877252\n"
     ]
    },
    {
     "name": "stderr",
     "output_type": "stream",
     "text": [
      " 93%|██████████████████████████████████▏  | 14810/16000 [14:17<01:05, 18.09it/s]"
     ]
    },
    {
     "name": "stdout",
     "output_type": "stream",
     "text": [
      "Step 14806 Energy (temper = 1): 16696.021145803177\n"
     ]
    },
    {
     "name": "stderr",
     "output_type": "stream",
     "text": [
      " 94%|██████████████████████████████████▋  | 15010/16000 [14:29<00:57, 17.21it/s]"
     ]
    },
    {
     "name": "stdout",
     "output_type": "stream",
     "text": [
      "Step 15006 Energy (temper = 1): 16664.72728348338\n"
     ]
    },
    {
     "name": "stderr",
     "output_type": "stream",
     "text": [
      " 95%|███████████████████████████████████▏ | 15210/16000 [14:40<00:44, 17.87it/s]"
     ]
    },
    {
     "name": "stdout",
     "output_type": "stream",
     "text": [
      "Step 15206 Energy (temper = 1): 16677.528138930407\n"
     ]
    },
    {
     "name": "stderr",
     "output_type": "stream",
     "text": [
      " 96%|███████████████████████████████████▋ | 15410/16000 [14:52<00:33, 17.50it/s]"
     ]
    },
    {
     "name": "stdout",
     "output_type": "stream",
     "text": [
      "Step 15406 Energy (temper = 1): 16661.24588760463\n"
     ]
    },
    {
     "name": "stderr",
     "output_type": "stream",
     "text": [
      " 98%|████████████████████████████████████ | 15612/16000 [15:03<00:24, 15.86it/s]"
     ]
    },
    {
     "name": "stdout",
     "output_type": "stream",
     "text": [
      "Step 15606 Energy (temper = 1): 16676.513598727688\n"
     ]
    },
    {
     "name": "stderr",
     "output_type": "stream",
     "text": [
      " 99%|████████████████████████████████████▌| 15810/16000 [15:15<00:10, 18.01it/s]"
     ]
    },
    {
     "name": "stdout",
     "output_type": "stream",
     "text": [
      "Step 15806 Energy (temper = 1): 16677.528138930407\n"
     ]
    },
    {
     "name": "stderr",
     "output_type": "stream",
     "text": [
      "100%|█████████████████████████████████████| 16000/16000 [15:26<00:00, 17.27it/s]\n",
      " 50%|███████████████████                   | 8010/16000 [07:47<07:27, 17.84it/s]"
     ]
    },
    {
     "name": "stdout",
     "output_type": "stream",
     "text": [
      "Step 8007 Energy (temper = 1): 16438.2061324018\n"
     ]
    },
    {
     "name": "stderr",
     "output_type": "stream",
     "text": [
      " 51%|███████████████████▍                  | 8210/16000 [07:58<07:14, 17.91it/s]"
     ]
    },
    {
     "name": "stdout",
     "output_type": "stream",
     "text": [
      "Step 8207 Energy (temper = 1): 16362.216716676048\n"
     ]
    },
    {
     "name": "stderr",
     "output_type": "stream",
     "text": [
      " 53%|███████████████████▉                  | 8410/16000 [08:10<06:59, 18.10it/s]"
     ]
    },
    {
     "name": "stdout",
     "output_type": "stream",
     "text": [
      "Step 8407 Energy (temper = 1): 16364.95924399719\n"
     ]
    },
    {
     "name": "stderr",
     "output_type": "stream",
     "text": [
      " 54%|████████████████████▍                 | 8610/16000 [08:21<07:13, 17.04it/s]"
     ]
    },
    {
     "name": "stdout",
     "output_type": "stream",
     "text": [
      "Step 8607 Energy (temper = 1): 16443.03373638056\n"
     ]
    },
    {
     "name": "stderr",
     "output_type": "stream",
     "text": [
      " 55%|████████████████████▉                 | 8810/16000 [08:33<07:34, 15.81it/s]"
     ]
    },
    {
     "name": "stdout",
     "output_type": "stream",
     "text": [
      "Step 8807 Energy (temper = 1): 16363.132233974495\n"
     ]
    },
    {
     "name": "stderr",
     "output_type": "stream",
     "text": [
      " 56%|█████████████████████▍                | 9010/16000 [08:45<06:35, 17.66it/s]"
     ]
    },
    {
     "name": "stdout",
     "output_type": "stream",
     "text": [
      "Step 9007 Energy (temper = 1): 16493.548270199644\n"
     ]
    },
    {
     "name": "stderr",
     "output_type": "stream",
     "text": [
      " 58%|█████████████████████▊                | 9210/16000 [08:56<07:05, 15.95it/s]"
     ]
    },
    {
     "name": "stdout",
     "output_type": "stream",
     "text": [
      "Step 9207 Energy (temper = 1): 16440.626413030885\n"
     ]
    },
    {
     "name": "stderr",
     "output_type": "stream",
     "text": [
      " 59%|██████████████████████▎               | 9410/16000 [09:08<06:19, 17.36it/s]"
     ]
    },
    {
     "name": "stdout",
     "output_type": "stream",
     "text": [
      "Step 9407 Energy (temper = 1): 16436.721779410895\n"
     ]
    },
    {
     "name": "stderr",
     "output_type": "stream",
     "text": [
      " 60%|██████████████████████▊               | 9610/16000 [09:19<05:57, 17.87it/s]"
     ]
    },
    {
     "name": "stdout",
     "output_type": "stream",
     "text": [
      "Step 9607 Energy (temper = 1): 16438.2061324018\n"
     ]
    },
    {
     "name": "stderr",
     "output_type": "stream",
     "text": [
      " 61%|███████████████████████▎              | 9810/16000 [09:31<05:53, 17.53it/s]"
     ]
    },
    {
     "name": "stdout",
     "output_type": "stream",
     "text": [
      "Step 9807 Energy (temper = 1): 16373.09730041094\n"
     ]
    },
    {
     "name": "stderr",
     "output_type": "stream",
     "text": [
      " 63%|███████████████████████▏             | 10010/16000 [09:42<05:35, 17.84it/s]"
     ]
    },
    {
     "name": "stdout",
     "output_type": "stream",
     "text": [
      "Step 10007 Energy (temper = 1): 16434.309864475166\n"
     ]
    },
    {
     "name": "stderr",
     "output_type": "stream",
     "text": [
      " 64%|███████████████████████▌             | 10210/16000 [09:53<05:22, 17.93it/s]"
     ]
    },
    {
     "name": "stdout",
     "output_type": "stream",
     "text": [
      "Step 10207 Energy (temper = 1): 16376.906420474268\n"
     ]
    },
    {
     "name": "stderr",
     "output_type": "stream",
     "text": [
      " 65%|████████████████████████             | 10410/16000 [10:05<05:17, 17.59it/s]"
     ]
    },
    {
     "name": "stdout",
     "output_type": "stream",
     "text": [
      "Step 10407 Energy (temper = 1): 16444.5249914487\n"
     ]
    },
    {
     "name": "stderr",
     "output_type": "stream",
     "text": [
      " 66%|████████████████████████▌            | 10612/16000 [10:17<05:10, 17.35it/s]"
     ]
    },
    {
     "name": "stdout",
     "output_type": "stream",
     "text": [
      "Step 10607 Energy (temper = 1): 16434.309864475166\n"
     ]
    },
    {
     "name": "stderr",
     "output_type": "stream",
     "text": [
      " 68%|████████████████████████▉            | 10810/16000 [10:29<05:32, 15.60it/s]"
     ]
    },
    {
     "name": "stdout",
     "output_type": "stream",
     "text": [
      "Step 10807 Energy (temper = 1): 16436.721779410895\n"
     ]
    },
    {
     "name": "stderr",
     "output_type": "stream",
     "text": [
      " 69%|█████████████████████████▍           | 11010/16000 [10:40<04:45, 17.47it/s]"
     ]
    },
    {
     "name": "stdout",
     "output_type": "stream",
     "text": [
      "Step 11007 Energy (temper = 1): 16493.548270199644\n"
     ]
    },
    {
     "name": "stderr",
     "output_type": "stream",
     "text": [
      " 70%|█████████████████████████▉           | 11210/16000 [10:52<04:25, 18.04it/s]"
     ]
    },
    {
     "name": "stdout",
     "output_type": "stream",
     "text": [
      "Step 11207 Energy (temper = 1): 16439.120787614906\n"
     ]
    },
    {
     "name": "stderr",
     "output_type": "stream",
     "text": [
      " 71%|██████████████████████████▍          | 11410/16000 [11:03<04:28, 17.07it/s]"
     ]
    },
    {
     "name": "stdout",
     "output_type": "stream",
     "text": [
      "Step 11407 Energy (temper = 1): 16492.553775558532\n"
     ]
    },
    {
     "name": "stderr",
     "output_type": "stream",
     "text": [
      " 73%|██████████████████████████▊          | 11612/16000 [11:15<04:00, 18.25it/s]"
     ]
    },
    {
     "name": "stdout",
     "output_type": "stream",
     "text": [
      "Step 11607 Energy (temper = 1): 16435.201836625405\n"
     ]
    },
    {
     "name": "stderr",
     "output_type": "stream",
     "text": [
      " 74%|███████████████████████████▎         | 11810/16000 [11:26<04:03, 17.21it/s]"
     ]
    },
    {
     "name": "stdout",
     "output_type": "stream",
     "text": [
      "Step 11807 Energy (temper = 1): 16442.096312122674\n"
     ]
    },
    {
     "name": "stderr",
     "output_type": "stream",
     "text": [
      " 75%|███████████████████████████▊         | 12010/16000 [11:38<03:48, 17.50it/s]"
     ]
    },
    {
     "name": "stdout",
     "output_type": "stream",
     "text": [
      "Step 12007 Energy (temper = 1): 16440.626413030885\n"
     ]
    },
    {
     "name": "stderr",
     "output_type": "stream",
     "text": [
      " 76%|████████████████████████████▏        | 12212/16000 [11:50<03:44, 16.86it/s]"
     ]
    },
    {
     "name": "stdout",
     "output_type": "stream",
     "text": [
      "Step 12207 Energy (temper = 1): 16438.2061324018\n"
     ]
    },
    {
     "name": "stderr",
     "output_type": "stream",
     "text": [
      " 78%|████████████████████████████▋        | 12410/16000 [12:02<03:23, 17.64it/s]"
     ]
    },
    {
     "name": "stdout",
     "output_type": "stream",
     "text": [
      "Step 12407 Energy (temper = 1): 16438.2061324018\n"
     ]
    },
    {
     "name": "stderr",
     "output_type": "stream",
     "text": [
      " 79%|█████████████████████████████▏       | 12610/16000 [12:14<03:17, 17.13it/s]"
     ]
    },
    {
     "name": "stdout",
     "output_type": "stream",
     "text": [
      "Step 12607 Energy (temper = 1): 16433.32638710698\n"
     ]
    },
    {
     "name": "stderr",
     "output_type": "stream",
     "text": [
      " 80%|█████████████████████████████▌       | 12810/16000 [12:25<02:56, 18.06it/s]"
     ]
    },
    {
     "name": "stdout",
     "output_type": "stream",
     "text": [
      "Step 12807 Energy (temper = 1): 16433.32638710698\n"
     ]
    },
    {
     "name": "stderr",
     "output_type": "stream",
     "text": [
      " 81%|██████████████████████████████       | 13012/16000 [12:37<02:46, 17.98it/s]"
     ]
    },
    {
     "name": "stdout",
     "output_type": "stream",
     "text": [
      "Step 13007 Energy (temper = 1): 16362.216716676048\n"
     ]
    },
    {
     "name": "stderr",
     "output_type": "stream",
     "text": [
      " 83%|██████████████████████████████▌      | 13210/16000 [12:48<02:41, 17.28it/s]"
     ]
    },
    {
     "name": "stdout",
     "output_type": "stream",
     "text": [
      "Step 13207 Energy (temper = 1): 16365.899661650787\n"
     ]
    },
    {
     "name": "stderr",
     "output_type": "stream",
     "text": [
      " 84%|███████████████████████████████      | 13410/16000 [12:59<02:25, 17.84it/s]"
     ]
    },
    {
     "name": "stdout",
     "output_type": "stream",
     "text": [
      "Step 13407 Energy (temper = 1): 16489.8527467972\n"
     ]
    },
    {
     "name": "stderr",
     "output_type": "stream",
     "text": [
      " 85%|███████████████████████████████▍     | 13612/16000 [13:11<02:26, 16.34it/s]"
     ]
    },
    {
     "name": "stdout",
     "output_type": "stream",
     "text": [
      "Step 13607 Energy (temper = 1): 16433.32638710698\n"
     ]
    },
    {
     "name": "stderr",
     "output_type": "stream",
     "text": [
      " 86%|███████████████████████████████▉     | 13810/16000 [13:22<02:03, 17.70it/s]"
     ]
    },
    {
     "name": "stdout",
     "output_type": "stream",
     "text": [
      "Step 13807 Energy (temper = 1): 16433.32638710698\n"
     ]
    },
    {
     "name": "stderr",
     "output_type": "stream",
     "text": [
      " 88%|████████████████████████████████▍    | 14010/16000 [13:33<01:48, 18.30it/s]"
     ]
    },
    {
     "name": "stdout",
     "output_type": "stream",
     "text": [
      "Step 14007 Energy (temper = 1): 16438.589898233695\n"
     ]
    },
    {
     "name": "stderr",
     "output_type": "stream",
     "text": [
      " 89%|████████████████████████████████▊    | 14210/16000 [13:45<01:39, 17.94it/s]"
     ]
    },
    {
     "name": "stdout",
     "output_type": "stream",
     "text": [
      "Step 14207 Energy (temper = 1): 16430.86676424693\n"
     ]
    },
    {
     "name": "stderr",
     "output_type": "stream",
     "text": [
      " 90%|█████████████████████████████████▎   | 14410/16000 [13:56<01:31, 17.45it/s]"
     ]
    },
    {
     "name": "stdout",
     "output_type": "stream",
     "text": [
      "Step 14407 Energy (temper = 1): 16426.995902209317\n"
     ]
    },
    {
     "name": "stderr",
     "output_type": "stream",
     "text": [
      " 91%|█████████████████████████████████▊   | 14610/16000 [14:07<01:18, 17.69it/s]"
     ]
    },
    {
     "name": "stdout",
     "output_type": "stream",
     "text": [
      "Step 14607 Energy (temper = 1): 16427.991013868435\n"
     ]
    },
    {
     "name": "stderr",
     "output_type": "stream",
     "text": [
      " 93%|██████████████████████████████████▏  | 14810/16000 [14:19<01:07, 17.71it/s]"
     ]
    },
    {
     "name": "stdout",
     "output_type": "stream",
     "text": [
      "Step 14807 Energy (temper = 1): 16430.86676424693\n"
     ]
    },
    {
     "name": "stderr",
     "output_type": "stream",
     "text": [
      " 94%|██████████████████████████████████▋  | 15012/16000 [14:30<00:56, 17.40it/s]"
     ]
    },
    {
     "name": "stdout",
     "output_type": "stream",
     "text": [
      "Step 15007 Energy (temper = 1): 16426.995902209317\n"
     ]
    },
    {
     "name": "stderr",
     "output_type": "stream",
     "text": [
      " 95%|███████████████████████████████████▏ | 15210/16000 [14:42<00:44, 17.79it/s]"
     ]
    },
    {
     "name": "stdout",
     "output_type": "stream",
     "text": [
      "Step 15207 Energy (temper = 1): 16433.32638710698\n"
     ]
    },
    {
     "name": "stderr",
     "output_type": "stream",
     "text": [
      " 96%|███████████████████████████████████▋ | 15410/16000 [14:54<00:32, 18.04it/s]"
     ]
    },
    {
     "name": "stdout",
     "output_type": "stream",
     "text": [
      "Step 15407 Energy (temper = 1): 16430.407529164317\n"
     ]
    },
    {
     "name": "stderr",
     "output_type": "stream",
     "text": [
      " 98%|████████████████████████████████████ | 15610/16000 [15:05<00:21, 18.20it/s]"
     ]
    },
    {
     "name": "stdout",
     "output_type": "stream",
     "text": [
      "Step 15607 Energy (temper = 1): 16434.731436836017\n"
     ]
    },
    {
     "name": "stderr",
     "output_type": "stream",
     "text": [
      " 99%|████████████████████████████████████▌| 15810/16000 [15:16<00:11, 16.93it/s]"
     ]
    },
    {
     "name": "stdout",
     "output_type": "stream",
     "text": [
      "Step 15807 Energy (temper = 1): 16430.86676424693\n"
     ]
    },
    {
     "name": "stderr",
     "output_type": "stream",
     "text": [
      "100%|█████████████████████████████████████| 16000/16000 [15:27<00:00, 17.25it/s]\n",
      " 50%|███████████████████                   | 8012/16000 [07:43<08:18, 16.03it/s]"
     ]
    },
    {
     "name": "stdout",
     "output_type": "stream",
     "text": [
      "Step 8008 Energy (temper = 1): 16447.552757318786\n"
     ]
    },
    {
     "name": "stderr",
     "output_type": "stream",
     "text": [
      " 51%|███████████████████▌                  | 8212/16000 [07:55<07:37, 17.03it/s]"
     ]
    },
    {
     "name": "stdout",
     "output_type": "stream",
     "text": [
      "Step 8208 Energy (temper = 1): 16462.378907778184\n"
     ]
    },
    {
     "name": "stderr",
     "output_type": "stream",
     "text": [
      " 53%|███████████████████▉                  | 8412/16000 [08:06<07:24, 17.06it/s]"
     ]
    },
    {
     "name": "stdout",
     "output_type": "stream",
     "text": [
      "Step 8408 Energy (temper = 1): 16469.68772247414\n"
     ]
    },
    {
     "name": "stderr",
     "output_type": "stream",
     "text": [
      " 54%|████████████████████▍                 | 8612/16000 [08:18<07:46, 15.82it/s]"
     ]
    },
    {
     "name": "stdout",
     "output_type": "stream",
     "text": [
      "Step 8608 Energy (temper = 1): 16466.036837276028\n"
     ]
    },
    {
     "name": "stderr",
     "output_type": "stream",
     "text": [
      " 55%|████████████████████▉                 | 8812/16000 [08:30<07:06, 16.86it/s]"
     ]
    },
    {
     "name": "stdout",
     "output_type": "stream",
     "text": [
      "Step 8808 Energy (temper = 1): 16443.920506083385\n"
     ]
    },
    {
     "name": "stderr",
     "output_type": "stream",
     "text": [
      " 56%|█████████████████████▍                | 9012/16000 [08:42<06:35, 17.65it/s]"
     ]
    },
    {
     "name": "stdout",
     "output_type": "stream",
     "text": [
      "Step 9008 Energy (temper = 1): 16450.366184365463\n"
     ]
    },
    {
     "name": "stderr",
     "output_type": "stream",
     "text": [
      " 58%|█████████████████████▉                | 9212/16000 [08:53<06:22, 17.74it/s]"
     ]
    },
    {
     "name": "stdout",
     "output_type": "stream",
     "text": [
      "Step 9208 Energy (temper = 1): 16443.074540280235\n"
     ]
    },
    {
     "name": "stderr",
     "output_type": "stream",
     "text": [
      " 59%|██████████████████████▎               | 9412/16000 [09:05<06:43, 16.33it/s]"
     ]
    },
    {
     "name": "stdout",
     "output_type": "stream",
     "text": [
      "Step 9408 Energy (temper = 1): 16433.835741823008\n"
     ]
    },
    {
     "name": "stderr",
     "output_type": "stream",
     "text": [
      " 60%|██████████████████████▊               | 9614/16000 [09:16<06:01, 17.68it/s]"
     ]
    },
    {
     "name": "stdout",
     "output_type": "stream",
     "text": [
      "Step 9608 Energy (temper = 1): 16443.920506083385\n"
     ]
    },
    {
     "name": "stderr",
     "output_type": "stream",
     "text": [
      " 61%|███████████████████████▎              | 9812/16000 [09:27<05:53, 17.50it/s]"
     ]
    },
    {
     "name": "stdout",
     "output_type": "stream",
     "text": [
      "Step 9808 Energy (temper = 1): 16442.18631838562\n"
     ]
    },
    {
     "name": "stderr",
     "output_type": "stream",
     "text": [
      " 63%|███████████████████████▏             | 10012/16000 [09:39<06:07, 16.30it/s]"
     ]
    },
    {
     "name": "stdout",
     "output_type": "stream",
     "text": [
      "Step 10008 Energy (temper = 1): 16575.587608462403\n"
     ]
    },
    {
     "name": "stderr",
     "output_type": "stream",
     "text": [
      " 64%|███████████████████████▌             | 10212/16000 [09:51<05:26, 17.71it/s]"
     ]
    },
    {
     "name": "stdout",
     "output_type": "stream",
     "text": [
      "Step 10208 Energy (temper = 1): 16433.869494680395\n"
     ]
    },
    {
     "name": "stderr",
     "output_type": "stream",
     "text": [
      " 65%|████████████████████████             | 10412/16000 [10:02<06:17, 14.79it/s]"
     ]
    },
    {
     "name": "stdout",
     "output_type": "stream",
     "text": [
      "Step 10408 Energy (temper = 1): 16435.75463924389\n"
     ]
    },
    {
     "name": "stderr",
     "output_type": "stream",
     "text": [
      " 66%|████████████████████████▌            | 10612/16000 [10:14<05:07, 17.52it/s]"
     ]
    },
    {
     "name": "stdout",
     "output_type": "stream",
     "text": [
      "Step 10608 Energy (temper = 1): 16446.723908840875\n"
     ]
    },
    {
     "name": "stderr",
     "output_type": "stream",
     "text": [
      " 68%|█████████████████████████            | 10814/16000 [10:26<04:49, 17.92it/s]"
     ]
    },
    {
     "name": "stdout",
     "output_type": "stream",
     "text": [
      "Step 10808 Energy (temper = 1): 16443.074540280235\n"
     ]
    },
    {
     "name": "stderr",
     "output_type": "stream",
     "text": [
      " 69%|█████████████████████████▍           | 11014/16000 [10:38<04:39, 17.83it/s]"
     ]
    },
    {
     "name": "stdout",
     "output_type": "stream",
     "text": [
      "Step 11008 Energy (temper = 1): 16443.074540280235\n"
     ]
    },
    {
     "name": "stderr",
     "output_type": "stream",
     "text": [
      " 70%|█████████████████████████▉           | 11212/16000 [10:49<04:57, 16.07it/s]"
     ]
    },
    {
     "name": "stdout",
     "output_type": "stream",
     "text": [
      "Step 11208 Energy (temper = 1): 16575.587608462403\n"
     ]
    },
    {
     "name": "stderr",
     "output_type": "stream",
     "text": [
      " 71%|██████████████████████████▍          | 11412/16000 [11:01<05:10, 14.78it/s]"
     ]
    },
    {
     "name": "stdout",
     "output_type": "stream",
     "text": [
      "Step 11408 Energy (temper = 1): 16378.449049125877\n"
     ]
    },
    {
     "name": "stderr",
     "output_type": "stream",
     "text": [
      " 73%|██████████████████████████▊          | 11612/16000 [11:12<04:36, 15.90it/s]"
     ]
    },
    {
     "name": "stdout",
     "output_type": "stream",
     "text": [
      "Step 11608 Energy (temper = 1): 16571.723388809638\n"
     ]
    },
    {
     "name": "stderr",
     "output_type": "stream",
     "text": [
      " 74%|███████████████████████████▎         | 11812/16000 [11:24<04:06, 16.98it/s]"
     ]
    },
    {
     "name": "stdout",
     "output_type": "stream",
     "text": [
      "Step 11808 Energy (temper = 1): 16446.723908840875\n"
     ]
    },
    {
     "name": "stderr",
     "output_type": "stream",
     "text": [
      " 75%|███████████████████████████▊         | 12012/16000 [11:36<03:45, 17.72it/s]"
     ]
    },
    {
     "name": "stdout",
     "output_type": "stream",
     "text": [
      "Step 12008 Energy (temper = 1): 16443.074540280235\n"
     ]
    },
    {
     "name": "stderr",
     "output_type": "stream",
     "text": [
      " 76%|████████████████████████████▏        | 12212/16000 [11:48<03:50, 16.40it/s]"
     ]
    },
    {
     "name": "stdout",
     "output_type": "stream",
     "text": [
      "Step 12208 Energy (temper = 1): 16428.406709138108\n"
     ]
    },
    {
     "name": "stderr",
     "output_type": "stream",
     "text": [
      " 78%|████████████████████████████▋        | 12412/16000 [12:00<03:23, 17.59it/s]"
     ]
    },
    {
     "name": "stdout",
     "output_type": "stream",
     "text": [
      "Step 12408 Energy (temper = 1): 16429.320405764534\n"
     ]
    },
    {
     "name": "stderr",
     "output_type": "stream",
     "text": [
      " 79%|█████████████████████████████▏       | 12614/16000 [12:12<03:09, 17.84it/s]"
     ]
    },
    {
     "name": "stdout",
     "output_type": "stream",
     "text": [
      "Step 12608 Energy (temper = 1): 16450.366184365463\n"
     ]
    },
    {
     "name": "stderr",
     "output_type": "stream",
     "text": [
      " 80%|█████████████████████████████▋       | 12814/16000 [12:23<02:56, 18.08it/s]"
     ]
    },
    {
     "name": "stdout",
     "output_type": "stream",
     "text": [
      "Step 12808 Energy (temper = 1): 16445.852615877237\n"
     ]
    },
    {
     "name": "stderr",
     "output_type": "stream",
     "text": [
      " 81%|██████████████████████████████       | 13012/16000 [12:34<02:56, 16.91it/s]"
     ]
    },
    {
     "name": "stdout",
     "output_type": "stream",
     "text": [
      "Step 13008 Energy (temper = 1): 16425.652751150956\n"
     ]
    },
    {
     "name": "stderr",
     "output_type": "stream",
     "text": [
      " 83%|██████████████████████████████▌      | 13212/16000 [12:46<02:37, 17.65it/s]"
     ]
    },
    {
     "name": "stdout",
     "output_type": "stream",
     "text": [
      "Step 13208 Energy (temper = 1): 16425.652751150956\n"
     ]
    },
    {
     "name": "stderr",
     "output_type": "stream",
     "text": [
      " 84%|███████████████████████████████      | 13414/16000 [12:58<02:26, 17.70it/s]"
     ]
    },
    {
     "name": "stdout",
     "output_type": "stream",
     "text": [
      "Step 13408 Energy (temper = 1): 16429.320405764534\n"
     ]
    },
    {
     "name": "stderr",
     "output_type": "stream",
     "text": [
      " 85%|███████████████████████████████▍     | 13612/16000 [13:09<02:32, 15.69it/s]"
     ]
    },
    {
     "name": "stdout",
     "output_type": "stream",
     "text": [
      "Step 13608 Energy (temper = 1): 16275.648065119414\n"
     ]
    },
    {
     "name": "stderr",
     "output_type": "stream",
     "text": [
      " 86%|███████████████████████████████▉     | 13812/16000 [13:22<02:01, 18.08it/s]"
     ]
    },
    {
     "name": "stdout",
     "output_type": "stream",
     "text": [
      "Step 13808 Energy (temper = 1): 16443.074540280235\n"
     ]
    },
    {
     "name": "stderr",
     "output_type": "stream",
     "text": [
      " 88%|████████████████████████████████▍    | 14012/16000 [13:33<01:50, 18.02it/s]"
     ]
    },
    {
     "name": "stdout",
     "output_type": "stream",
     "text": [
      "Step 14008 Energy (temper = 1): 16432.08416373642\n"
     ]
    },
    {
     "name": "stderr",
     "output_type": "stream",
     "text": [
      " 89%|████████████████████████████████▊    | 14212/16000 [13:44<01:44, 17.12it/s]"
     ]
    },
    {
     "name": "stdout",
     "output_type": "stream",
     "text": [
      "Step 14208 Energy (temper = 1): 16432.08416373642\n"
     ]
    },
    {
     "name": "stderr",
     "output_type": "stream",
     "text": [
      " 90%|█████████████████████████████████▎   | 14412/16000 [13:56<01:27, 18.14it/s]"
     ]
    },
    {
     "name": "stdout",
     "output_type": "stream",
     "text": [
      "Step 14408 Energy (temper = 1): 16449.511893861352\n"
     ]
    },
    {
     "name": "stderr",
     "output_type": "stream",
     "text": [
      " 91%|█████████████████████████████████▊   | 14612/16000 [14:07<01:29, 15.52it/s]"
     ]
    },
    {
     "name": "stdout",
     "output_type": "stream",
     "text": [
      "Step 14608 Energy (temper = 1): 16437.566349006098\n"
     ]
    },
    {
     "name": "stderr",
     "output_type": "stream",
     "text": [
      " 93%|██████████████████████████████████▎  | 14812/16000 [14:19<01:07, 17.52it/s]"
     ]
    },
    {
     "name": "stdout",
     "output_type": "stream",
     "text": [
      "Step 14808 Energy (temper = 1): 16447.67731279246\n"
     ]
    },
    {
     "name": "stderr",
     "output_type": "stream",
     "text": [
      " 94%|██████████████████████████████████▋  | 15012/16000 [14:30<00:55, 17.77it/s]"
     ]
    },
    {
     "name": "stdout",
     "output_type": "stream",
     "text": [
      "Step 15008 Energy (temper = 1): 16449.511893861352\n"
     ]
    },
    {
     "name": "stderr",
     "output_type": "stream",
     "text": [
      " 95%|███████████████████████████████████▏ | 15212/16000 [14:42<00:47, 16.57it/s]"
     ]
    },
    {
     "name": "stdout",
     "output_type": "stream",
     "text": [
      "Step 15208 Energy (temper = 1): 16439.418107545178\n"
     ]
    },
    {
     "name": "stderr",
     "output_type": "stream",
     "text": [
      " 96%|███████████████████████████████████▋ | 15412/16000 [14:53<00:34, 17.00it/s]"
     ]
    },
    {
     "name": "stdout",
     "output_type": "stream",
     "text": [
      "Step 15408 Energy (temper = 1): 16349.072271302917\n"
     ]
    },
    {
     "name": "stderr",
     "output_type": "stream",
     "text": [
      " 98%|████████████████████████████████████ | 15612/16000 [15:04<00:21, 17.72it/s]"
     ]
    },
    {
     "name": "stdout",
     "output_type": "stream",
     "text": [
      "Step 15608 Energy (temper = 1): 16431.145590018743\n"
     ]
    },
    {
     "name": "stderr",
     "output_type": "stream",
     "text": [
      " 99%|████████████████████████████████████▌| 15812/16000 [15:15<00:11, 16.18it/s]"
     ]
    },
    {
     "name": "stdout",
     "output_type": "stream",
     "text": [
      "Step 15808 Energy (temper = 1): 16449.511893861352\n"
     ]
    },
    {
     "name": "stderr",
     "output_type": "stream",
     "text": [
      "100%|█████████████████████████████████████| 16000/16000 [15:26<00:00, 17.27it/s]\n",
      " 50%|███████████████████                   | 8012/16000 [07:30<07:33, 17.61it/s]"
     ]
    },
    {
     "name": "stdout",
     "output_type": "stream",
     "text": [
      "Step 8009 Energy (temper = 1): 16265.381371964257\n"
     ]
    },
    {
     "name": "stderr",
     "output_type": "stream",
     "text": [
      " 51%|███████████████████▌                  | 8212/16000 [07:41<07:10, 18.08it/s]"
     ]
    },
    {
     "name": "stdout",
     "output_type": "stream",
     "text": [
      "Step 8209 Energy (temper = 1): 16300.520408805736\n"
     ]
    },
    {
     "name": "stderr",
     "output_type": "stream",
     "text": [
      " 53%|███████████████████▉                  | 8412/16000 [07:53<07:08, 17.71it/s]"
     ]
    },
    {
     "name": "stdout",
     "output_type": "stream",
     "text": [
      "Step 8409 Energy (temper = 1): 16274.67317685554\n"
     ]
    },
    {
     "name": "stderr",
     "output_type": "stream",
     "text": [
      " 54%|████████████████████▍                 | 8612/16000 [08:04<06:43, 18.32it/s]"
     ]
    },
    {
     "name": "stdout",
     "output_type": "stream",
     "text": [
      "Step 8609 Energy (temper = 1): 16220.72306498637\n"
     ]
    },
    {
     "name": "stderr",
     "output_type": "stream",
     "text": [
      " 55%|████████████████████▉                 | 8812/16000 [08:15<06:34, 18.23it/s]"
     ]
    },
    {
     "name": "stdout",
     "output_type": "stream",
     "text": [
      "Step 8809 Energy (temper = 1): 16273.805558697757\n"
     ]
    },
    {
     "name": "stderr",
     "output_type": "stream",
     "text": [
      " 56%|█████████████████████▍                | 9012/16000 [08:26<06:28, 17.99it/s]"
     ]
    },
    {
     "name": "stdout",
     "output_type": "stream",
     "text": [
      "Step 9009 Energy (temper = 1): 16291.26078353134\n"
     ]
    },
    {
     "name": "stderr",
     "output_type": "stream",
     "text": [
      " 58%|█████████████████████▉                | 9214/16000 [08:38<06:13, 18.16it/s]"
     ]
    },
    {
     "name": "stdout",
     "output_type": "stream",
     "text": [
      "Step 9209 Energy (temper = 1): 16289.997630578793\n"
     ]
    },
    {
     "name": "stderr",
     "output_type": "stream",
     "text": [
      " 59%|██████████████████████▎               | 9412/16000 [08:49<06:00, 18.26it/s]"
     ]
    },
    {
     "name": "stdout",
     "output_type": "stream",
     "text": [
      "Step 9409 Energy (temper = 1): 16291.26078353134\n"
     ]
    },
    {
     "name": "stderr",
     "output_type": "stream",
     "text": [
      " 60%|██████████████████████▊               | 9612/16000 [09:00<06:14, 17.04it/s]"
     ]
    },
    {
     "name": "stdout",
     "output_type": "stream",
     "text": [
      "Step 9609 Energy (temper = 1): 16271.012943727139\n"
     ]
    },
    {
     "name": "stderr",
     "output_type": "stream",
     "text": [
      " 61%|███████████████████████▎              | 9812/16000 [09:12<05:45, 17.88it/s]"
     ]
    },
    {
     "name": "stdout",
     "output_type": "stream",
     "text": [
      "Step 9809 Energy (temper = 1): 16278.32626342844\n"
     ]
    },
    {
     "name": "stderr",
     "output_type": "stream",
     "text": [
      " 63%|███████████████████████▏             | 10012/16000 [09:23<05:31, 18.09it/s]"
     ]
    },
    {
     "name": "stdout",
     "output_type": "stream",
     "text": [
      "Step 10009 Energy (temper = 1): 16304.37964038863\n"
     ]
    },
    {
     "name": "stderr",
     "output_type": "stream",
     "text": [
      " 64%|███████████████████████▌             | 10212/16000 [09:34<05:16, 18.26it/s]"
     ]
    },
    {
     "name": "stdout",
     "output_type": "stream",
     "text": [
      "Step 10209 Energy (temper = 1): 16278.32626342844\n"
     ]
    },
    {
     "name": "stderr",
     "output_type": "stream",
     "text": [
      " 65%|████████████████████████             | 10412/16000 [09:46<05:45, 16.16it/s]"
     ]
    },
    {
     "name": "stdout",
     "output_type": "stream",
     "text": [
      "Step 10409 Energy (temper = 1): 16289.997630578793\n"
     ]
    },
    {
     "name": "stderr",
     "output_type": "stream",
     "text": [
      " 66%|████████████████████████▌            | 10612/16000 [09:57<05:03, 17.78it/s]"
     ]
    },
    {
     "name": "stdout",
     "output_type": "stream",
     "text": [
      "Step 10609 Energy (temper = 1): 16295.931293786918\n"
     ]
    },
    {
     "name": "stderr",
     "output_type": "stream",
     "text": [
      " 68%|█████████████████████████            | 10812/16000 [10:08<04:49, 17.90it/s]"
     ]
    },
    {
     "name": "stdout",
     "output_type": "stream",
     "text": [
      "Step 10809 Energy (temper = 1): 16297.724164637904\n"
     ]
    },
    {
     "name": "stderr",
     "output_type": "stream",
     "text": [
      " 69%|█████████████████████████▍           | 11012/16000 [10:19<04:45, 17.46it/s]"
     ]
    },
    {
     "name": "stdout",
     "output_type": "stream",
     "text": [
      "Step 11009 Energy (temper = 1): 16273.410073233921\n"
     ]
    },
    {
     "name": "stderr",
     "output_type": "stream",
     "text": [
      " 70%|█████████████████████████▉           | 11212/16000 [10:30<04:23, 18.16it/s]"
     ]
    },
    {
     "name": "stdout",
     "output_type": "stream",
     "text": [
      "Step 11209 Energy (temper = 1): 16269.02146718654\n"
     ]
    },
    {
     "name": "stderr",
     "output_type": "stream",
     "text": [
      " 71%|██████████████████████████▍          | 11414/16000 [10:42<04:13, 18.12it/s]"
     ]
    },
    {
     "name": "stdout",
     "output_type": "stream",
     "text": [
      "Step 11409 Energy (temper = 1): 16289.997630578793\n"
     ]
    },
    {
     "name": "stderr",
     "output_type": "stream",
     "text": [
      " 73%|██████████████████████████▊          | 11614/16000 [10:53<04:04, 17.95it/s]"
     ]
    },
    {
     "name": "stdout",
     "output_type": "stream",
     "text": [
      "Step 11609 Energy (temper = 1): 16270.128288709195\n"
     ]
    },
    {
     "name": "stderr",
     "output_type": "stream",
     "text": [
      " 74%|███████████████████████████▎         | 11812/16000 [11:04<03:56, 17.71it/s]"
     ]
    },
    {
     "name": "stdout",
     "output_type": "stream",
     "text": [
      "Step 11809 Energy (temper = 1): 16297.724164637904\n"
     ]
    },
    {
     "name": "stderr",
     "output_type": "stream",
     "text": [
      " 75%|███████████████████████████▊         | 12012/16000 [11:15<03:36, 18.45it/s]"
     ]
    },
    {
     "name": "stdout",
     "output_type": "stream",
     "text": [
      "Step 12009 Energy (temper = 1): 16270.128288709195\n"
     ]
    },
    {
     "name": "stderr",
     "output_type": "stream",
     "text": [
      " 76%|████████████████████████████▏        | 12212/16000 [11:27<03:33, 17.77it/s]"
     ]
    },
    {
     "name": "stdout",
     "output_type": "stream",
     "text": [
      "Step 12209 Energy (temper = 1): 16296.848770988086\n"
     ]
    },
    {
     "name": "stderr",
     "output_type": "stream",
     "text": [
      " 78%|████████████████████████████▋        | 12412/16000 [11:38<03:26, 17.34it/s]"
     ]
    },
    {
     "name": "stdout",
     "output_type": "stream",
     "text": [
      "Step 12409 Energy (temper = 1): 16271.012943727139\n"
     ]
    },
    {
     "name": "stderr",
     "output_type": "stream",
     "text": [
      " 79%|█████████████████████████████▏       | 12612/16000 [11:50<03:27, 16.30it/s]"
     ]
    },
    {
     "name": "stdout",
     "output_type": "stream",
     "text": [
      "Step 12609 Energy (temper = 1): 16293.604225740542\n"
     ]
    },
    {
     "name": "stderr",
     "output_type": "stream",
     "text": [
      " 80%|█████████████████████████████▋       | 12812/16000 [12:01<02:58, 17.89it/s]"
     ]
    },
    {
     "name": "stdout",
     "output_type": "stream",
     "text": [
      "Step 12809 Energy (temper = 1): 16294.06246389832\n"
     ]
    },
    {
     "name": "stderr",
     "output_type": "stream",
     "text": [
      " 81%|██████████████████████████████       | 13012/16000 [12:12<02:50, 17.53it/s]"
     ]
    },
    {
     "name": "stdout",
     "output_type": "stream",
     "text": [
      "Step 13009 Energy (temper = 1): 16289.997630578793\n"
     ]
    },
    {
     "name": "stderr",
     "output_type": "stream",
     "text": [
      " 83%|██████████████████████████████▌      | 13212/16000 [12:23<02:32, 18.34it/s]"
     ]
    },
    {
     "name": "stdout",
     "output_type": "stream",
     "text": [
      "Step 13209 Energy (temper = 1): 16269.02146718654\n"
     ]
    },
    {
     "name": "stderr",
     "output_type": "stream",
     "text": [
      " 84%|███████████████████████████████      | 13412/16000 [12:34<02:19, 18.50it/s]"
     ]
    },
    {
     "name": "stdout",
     "output_type": "stream",
     "text": [
      "Step 13409 Energy (temper = 1): 16272.895745220718\n"
     ]
    },
    {
     "name": "stderr",
     "output_type": "stream",
     "text": [
      " 85%|███████████████████████████████▍     | 13612/16000 [12:45<02:12, 18.05it/s]"
     ]
    },
    {
     "name": "stdout",
     "output_type": "stream",
     "text": [
      "Step 13609 Energy (temper = 1): 16294.912477917933\n"
     ]
    },
    {
     "name": "stderr",
     "output_type": "stream",
     "text": [
      " 86%|███████████████████████████████▉     | 13812/16000 [12:57<01:59, 18.34it/s]"
     ]
    },
    {
     "name": "stdout",
     "output_type": "stream",
     "text": [
      "Step 13809 Energy (temper = 1): 16289.242350040418\n"
     ]
    },
    {
     "name": "stderr",
     "output_type": "stream",
     "text": [
      " 88%|████████████████████████████████▍    | 14012/16000 [13:08<01:48, 18.27it/s]"
     ]
    },
    {
     "name": "stdout",
     "output_type": "stream",
     "text": [
      "Step 14009 Energy (temper = 1): 16269.7947556117\n"
     ]
    },
    {
     "name": "stderr",
     "output_type": "stream",
     "text": [
      " 89%|████████████████████████████████▊    | 14212/16000 [13:19<01:39, 17.93it/s]"
     ]
    },
    {
     "name": "stdout",
     "output_type": "stream",
     "text": [
      "Step 14209 Energy (temper = 1): 16276.582866356199\n"
     ]
    },
    {
     "name": "stderr",
     "output_type": "stream",
     "text": [
      " 90%|█████████████████████████████████▎   | 14412/16000 [13:30<01:26, 18.34it/s]"
     ]
    },
    {
     "name": "stdout",
     "output_type": "stream",
     "text": [
      "Step 14409 Energy (temper = 1): 16242.305944823922\n"
     ]
    },
    {
     "name": "stderr",
     "output_type": "stream",
     "text": [
      " 91%|█████████████████████████████████▊   | 14612/16000 [13:41<01:16, 18.22it/s]"
     ]
    },
    {
     "name": "stdout",
     "output_type": "stream",
     "text": [
      "Step 14609 Energy (temper = 1): 16271.012943727139\n"
     ]
    },
    {
     "name": "stderr",
     "output_type": "stream",
     "text": [
      " 93%|██████████████████████████████████▎  | 14812/16000 [13:52<01:07, 17.52it/s]"
     ]
    },
    {
     "name": "stdout",
     "output_type": "stream",
     "text": [
      "Step 14809 Energy (temper = 1): 16274.67317685554\n"
     ]
    },
    {
     "name": "stderr",
     "output_type": "stream",
     "text": [
      " 94%|██████████████████████████████████▋  | 15012/16000 [14:04<00:55, 17.85it/s]"
     ]
    },
    {
     "name": "stdout",
     "output_type": "stream",
     "text": [
      "Step 15009 Energy (temper = 1): 16293.604225740542\n"
     ]
    },
    {
     "name": "stderr",
     "output_type": "stream",
     "text": [
      " 95%|███████████████████████████████████▏ | 15212/16000 [14:15<00:44, 17.60it/s]"
     ]
    },
    {
     "name": "stdout",
     "output_type": "stream",
     "text": [
      "Step 15209 Energy (temper = 1): 16294.2977460236\n"
     ]
    },
    {
     "name": "stderr",
     "output_type": "stream",
     "text": [
      " 96%|███████████████████████████████████▋ | 15412/16000 [14:26<00:32, 18.24it/s]"
     ]
    },
    {
     "name": "stdout",
     "output_type": "stream",
     "text": [
      "Step 15409 Energy (temper = 1): 16268.204916794697\n"
     ]
    },
    {
     "name": "stderr",
     "output_type": "stream",
     "text": [
      " 98%|████████████████████████████████████ | 15612/16000 [14:38<00:21, 18.14it/s]"
     ]
    },
    {
     "name": "stdout",
     "output_type": "stream",
     "text": [
      "Step 15609 Energy (temper = 1): 16227.919079262007\n"
     ]
    },
    {
     "name": "stderr",
     "output_type": "stream",
     "text": [
      " 99%|████████████████████████████████████▌| 15812/16000 [14:49<00:10, 18.34it/s]"
     ]
    },
    {
     "name": "stdout",
     "output_type": "stream",
     "text": [
      "Step 15809 Energy (temper = 1): 16292.86655530925\n"
     ]
    },
    {
     "name": "stderr",
     "output_type": "stream",
     "text": [
      "100%|█████████████████████████████████████| 16000/16000 [14:59<00:00, 17.78it/s]"
     ]
    },
    {
     "name": "stdout",
     "output_type": "stream",
     "text": [
      "Fin Energy_t 15785.795752577258 Energy_gs 16019.663954670905\n",
      "c_accep 0 c_rounds 0\n",
      "Elapsed (after compilation) = 9304.24234199524\n",
      "Elapsed (after compilation) = 9304.24234199524\n",
      "Energía final: [17120.84168521 17025.89122932 16518.14237209 16578.74215969\n",
      " 16292.86655531 16406.57715788 16274.67317686 16293.60422574\n",
      " 16242.30594482 16270.12828871 16218.47839758 16178.73775307\n",
      " 16134.78040515 16149.87215167 15785.79575258] Calculada: [17120.84168521 17025.89122932 16518.14237209 16578.74215969\n",
      " 16292.86655531 16406.57715788 16274.67317686 16293.60422574\n",
      " 16242.30594482 16270.12828871 16218.47839758 16178.73775307\n",
      " 16134.78040515 16149.87215167 15785.79575258]\n",
      "overlaps_0: 192658 overlap_1: 4498 %overlaps totales: 98.23222257653062 %\n"
     ]
    },
    {
     "name": "stderr",
     "output_type": "stream",
     "text": [
      "\n"
     ]
    }
   ],
   "source": [
    "np.random.seed( random.randint(1,1999) )\n",
    "\n",
    "P_new, P_inv_new = np.zeros((K,Nx)),np.zeros((K,Nx))\n",
    "for k in range(0,K):\n",
    "    for i in range(0,Nx):\n",
    "        P_new[k,i]=i \n",
    "        P_inv_new[k,i]=i            \n",
    "L_new = np.zeros((Nx,Ny)) #La propuesta de cambio\n",
    "L_new =  L_wiring(A, P_inv_new)\n",
    "\n",
    "Edges_sum = K*Nx*Nx\n",
    "Edges_L = K*(sum(sum(L_new))) # Los edges=1 que tiene la matriz A\n",
    "Edges_NoL = Edges_sum - Edges_L #Los edges=0 que tiene la matriz A\n",
    "overlap_0, overlap_1 = overlap_total_prob(L_new,A,P_inv_new)     \n",
    "Energy_new = hamiltonian_prob(Edges_NoL, Edges_L, overlap_0, overlap_1, alpha, beta)\n",
    "print('Energía con permutación de media de matrices:', Energy_new)\n",
    "print( 'overlap_0:', overlap_0,'/overlap_1:', overlap_1)\n",
    "print('%Overlaps:',100*(overlap_0+overlap_1)/Edges_sum ,'%')\n",
    "\n",
    "# Nuestro problema\n",
    "ovlp_ini0, ovlp_ini1 = overlap_total_prob(L_ini,A,P_inv_ini_0)\n",
    "\n",
    "# METIENDO LAS TEMPERATURAS\n",
    "ovlp_ini0_t = np.zeros((N_t)) + ovlp_ini0\n",
    "ovlp_ini1_t = np.zeros((N_t)) + ovlp_ini1\n",
    "ovlp_ini0_t, ovlp_ini1_t = ovlp_ini0_t.astype(int), ovlp_ini1_t.astype(int)\n",
    "\n",
    "P_t = np.zeros((N_t,K,Nx))\n",
    "P_inv_t = np.zeros((N_t,K,Nx))\n",
    "L_t = np.zeros((N_t,Nx, Ny))\n",
    "Energy_t, Energy_ini_t = np.zeros((N_t)), np.zeros((N_t))\n",
    "Edges_L_t, Edges_NoL_t = np.zeros((N_t)), np.zeros((N_t))\n",
    "groups_t = np.zeros((N_t, K, Nx))\n",
    "\n",
    "\n",
    "# Inicializamos\n",
    "ovlp_t0, ovlp_t1 = np.zeros((N_t)) + ovlp_ini0, np.zeros((N_t)) + ovlp_ini1\n",
    "P_t = (P_ini_t).copy()\n",
    "P_inv_t = (P_inv_ini_t).copy()\n",
    "L_t = (L_ini_t).copy()\n",
    "groups_t = groups_ini_t.copy()\n",
    "#Convertirlos en enteros\n",
    "ovlp_t0, ovlp_t1 = ovlp_t0.astype(int), ovlp_t1.astype(int)\n",
    "P_t = P_t.astype(int)\n",
    "P_inv_t = P_inv_t.astype(int)\n",
    "L_t = L_t.astype(int)\n",
    "groups_t = groups_t.astype(int)\n",
    "\n",
    "## Vamos a guardar las aceptaciones\n",
    "Edges_L = K*sum(sum(L_ini))\n",
    "Edges_NoL = Edges_sum - Edges_L            \n",
    "Energy_ini = hamiltonian_prob(Edges_NoL, Edges_L, ovlp_ini0, ovlp_ini1 ,alpha, beta)\n",
    "Energy_ini_t = np.zeros((N_t))+ Energy_ini \n",
    "print()\n",
    "print('Energía inicial:', Energy_ini)\n",
    "print()\n",
    "\n",
    "\n",
    "#######################################\n",
    "start = time.time()\n",
    "count_mc = 0\n",
    "#### Bloque del wiring\n",
    "for k_nt in range(N_t):\n",
    "    L_t[k_nt,:,:] =  L_wiring(A, P_inv_t[k_nt,:,:])\n",
    "    Edges_L_t[k_nt] = K*sum(sum(L_t[k_nt,:,:]))\n",
    "    Edges_NoL_t[k_nt] = Edges_sum - Edges_L_t[k_nt]\n",
    "    overlap_0, overlap_1 = overlap_total_prob(L_t[k_nt,:,:],A,P_inv_t[k_nt,:,:])\n",
    "    Energy_t[k_nt] = hamiltonian_prob(Edges_NoL_t[k_nt], Edges_L_t[k_nt], overlap_0, overlap_1,alpha, beta)\n",
    "    ovlp_t0[k_nt], ovlp_t1[k_nt] = overlap_0, overlap_1\n",
    "#####\n",
    "print('Energía INICIAL TRAS WIRING:', Energy_t[0]) \n",
    "print('overlaps 0:', ovlp_t0[0], '1:', ovlp_t1[0])\n",
    "print('%Overlaps:',100*(ovlp_t0[0] + ovlp_t1[0])/Edges_sum ,'%')\n",
    "\n",
    "print()\n",
    "Energy_ini_wiring = Energy_t.copy()\n",
    "############################################ MONTE CARLO\n",
    "#Guardamos la energía\n",
    "runs = 10\n",
    "PasosMC = 16000\n",
    "energies_pasos = np.zeros((runs,N_t,PasosMC))\n",
    "energies_pasos[:,:,0] = Energy_ini_wiring\n",
    "count_parallel, count_unl = 0, 0\n",
    "\n",
    "# Guardamos configuraciones\n",
    "Long_corr = 200\n",
    "Pasos_corr = 8000\n",
    "Pasos_store = int((PasosMC - Pasos_corr)/Long_corr)\n",
    "if (Pasos_store<0):\n",
    "    Pasos_store = 0\n",
    "count_long, i_long = 0, 0 \n",
    "P_store = np.zeros((runs,Pasos_store,N_t, K, Nx))\n",
    "Energy_store = np.zeros((runs,Pasos_store, N_t))\n",
    "\n",
    "i_count_micro,i_count_micro2 = 0,0\n",
    "\n",
    "P_intermediate_shot = np.zeros((2,N_t,K,Nx))\n",
    "E_intermediate_shot = np.zeros((2,N_t))\n",
    "steps_middle_0 = 50\n",
    "steps_middle_1 = 100\n",
    "\n",
    "suma_L_t = np.zeros(N_t)\n",
    "for k_nt in range(N_t):\n",
    "    suma_L_t[k_nt] = sum_numba(L_t[k_nt,:,:])\n",
    "\n",
    "########################################################\n",
    "L_run, Edges_L_run, Edges_noL_run, ov0_run, ov1_run, E_run, suma_run, P_run, P_inv_run = L_t.copy(), Edges_L_t.copy(), Edges_NoL_t.copy(), ovlp_t0.copy(), ovlp_t1.copy(), Energy_t.copy(), suma_L_t.copy(),P_t.copy(), P_inv_t.copy()\n",
    "Edges_L_run, Edges_noL_run, ov0_run, ov1_run = Edges_L_run.astype(int), Edges_noL_run.astype(int), ov0_run.astype(int), ov1_run.astype(int)\n",
    "\n",
    "for i_epoch in range(runs):\n",
    "    L_t, ovlp_t0, ovlp_t1, Energy_t,suma_L_t,P_t, P_inv_t = L_run.copy(), ov0_run.copy(), ov1_run.copy(), E_run.copy(), suma_run.copy(), P_run.copy(), P_inv_run.copy()\n",
    "    i_long = 0\n",
    "    c_accep, c_odd, c_rounds = 0,0,0\n",
    "    m_old, round_trip_old = 0,1\n",
    "\n",
    "    \n",
    "    for i_mc in tqdm(range(0,PasosMC)):\n",
    "    ### GUARDAR CONFIGURACIONES\n",
    "        if (i_mc > Pasos_corr):\n",
    "            count_long += 1\n",
    "            if (count_long == Long_corr):\n",
    "                count_long = 0\n",
    "                P_store[i_epoch,i_long,:,:,:] = P_inv_t.copy()\n",
    "                Energy_store[i_epoch,i_long,:] = Energy_t.copy()\n",
    "                i_long += 1\n",
    "                print('Step', i_mc, 'Energy (temper = 1):', Energy_t[np.where(tempers == 1)[0][0]])\n",
    "        ### FIN GUARDAR CONFIGURACIONES \n",
    "        \n",
    "        if (i_mc == steps_middle_0 ):\n",
    "            P_intermediate_shot[0,:,:,:] = P_inv_t.copy()\n",
    "            E_intermediate_shot[0,:] = Energy_t.copy()\n",
    "            \n",
    "        if (i_mc == steps_middle_1 ):\n",
    "            P_intermediate_shot[1,:,:,:] = P_inv_t.copy()\n",
    "            E_intermediate_shot[1,:] = Energy_t.copy()\n",
    "            \n",
    "         \n",
    "        energies_pasos[i_epoch,:, i_mc] = Energy_t[:]\n",
    "        # print(Energy_t)\n",
    "        for i_micro in range(Nx):\n",
    "            tempers_loop, tempers_odd_loop, tempers_even_loop =  tempers,tempers_odd, tempers_even\n",
    "            tempers_odd_loop, tempers_even_loop =  tempers_odd_loop.astype(int), tempers_even_loop.astype(int)\n",
    "            # print(tempers_loop.dtype, tempers_odd_loop.dtype, tempers_even_loop.dtype)\n",
    "            count_parallel,P_t, P_inv_t, Energy_t, ovlp_t0, ovlp_t1, L_t,suma_L_t,c_accep, c_odd, m_old, round_trip_old, c_rounds = parallel_L_knwn_change_groups( count_parallel,alpha,beta,fijado,groups_t,n_groups, start_groups, \n",
    "                                                                                                     end_groups,  A, P_t, P_inv_t, L_t,suma_L_t, Energy_t, ovlp_t0, \n",
    "                                                                                                     ovlp_t1,tempers_loop, tempers_odd_loop, tempers_even_loop,c_accep, c_odd, m_old, round_trip_old, c_rounds)\n",
    "print('Fin Energy_t', Energy_t[-1], 'Energy_gs', E_gs) \n",
    "print('c_accep', c_accep,'c_rounds',  c_rounds )\n",
    "\n",
    "\n",
    "end = time.time()\n",
    "print(\"Elapsed (after compilation) = %s\" % (end - start))  \n",
    "\n",
    "x=np.arange( len(energies_pasos[0,0,:]) )\n",
    "\n",
    "\n",
    "\n",
    "\n",
    "print(\"Elapsed (after compilation) = %s\" % (end - start))  \n",
    "\n",
    "Energy_calculada = np.zeros((N_t))\n",
    "for k_nt in range(N_t):\n",
    "    Edges_L= K*sum(sum(L_t[k_nt,:,:]))\n",
    "    Edges_NoL = Edges_sum - Edges_L\n",
    "#     print('Para t=', tempers[k_nt], 'Edges_L', Edges_L)\n",
    "    overlap_0, overlap_1 = overlap_total_prob(L_t[k_nt,:,:],A,P_inv_t[k_nt,:,:])\n",
    "    Energy_calculada[k_nt] = hamiltonian_prob(Edges_NoL, Edges_L, overlap_0,overlap_1,alpha, beta)\n",
    "    \n",
    "print('Energía final:', Energy_t, 'Calculada:', Energy_calculada) \n",
    "print('overlaps_0:', ovlp_t0[0], 'overlap_1:', ovlp_t1[0], '%overlaps totales:', 100*(ovlp_t0[0] + ovlp_t1[0])/Edges_sum ,'%')\n",
    "\n"
   ]
  },
  {
   "cell_type": "code",
   "execution_count": 105,
   "id": "74850f39",
   "metadata": {},
   "outputs": [],
   "source": [
    "d_s = {}\n",
    "d_s[\"P_sto\"] = P_store\n",
    "d_s[\"E_sto\"] = Energy_store\n",
    "d_s[\"start_groups\"] = start_groups\n",
    "d_s[\"end_groups\"] = end_groups\n",
    "d_s[\"Datos_energy\"] = energies_pasos\n",
    "d_s[\"E_groundtruth\"] = E_gs\n",
    "d_s[\"Pasos_corr_ini\"] = Pasos_corr  \n",
    "d_s[\"Step_corr\"] = Long_corr  \n",
    "d_s[\"temper\"] = tempers\n",
    "file_name = \"C_elegans_before_llarg.pickle\"\n",
    "with open(file_name, \"wb\") as file:  # \"wb\" means \"write in binary mode\"\n",
    "    pickle.dump(d_s, file)"
   ]
  },
  {
   "cell_type": "code",
   "execution_count": 93,
   "id": "2307d888",
   "metadata": {},
   "outputs": [
    {
     "ename": "NameError",
     "evalue": "name 'nodos_binario' is not defined",
     "output_type": "error",
     "traceback": [
      "\u001b[0;31m---------------------------------------------------------------------------\u001b[0m",
      "\u001b[0;31mNameError\u001b[0m                                 Traceback (most recent call last)",
      "Cell \u001b[0;32mIn[93], line 1\u001b[0m\n\u001b[0;32m----> 1\u001b[0m \u001b[38;5;28mprint\u001b[39m(np\u001b[38;5;241m.\u001b[39msum(\u001b[43mnodos_binario\u001b[49m)\u001b[38;5;241m/\u001b[39m(Nx\u001b[38;5;241m*\u001b[39mK)\u001b[38;5;241m*\u001b[39m\u001b[38;5;241m100\u001b[39m)\n",
      "\u001b[0;31mNameError\u001b[0m: name 'nodos_binario' is not defined"
     ]
    }
   ],
   "source": [
    "\n"
   ]
  },
  {
   "cell_type": "code",
   "execution_count": 19,
   "id": "072be59e",
   "metadata": {},
   "outputs": [
    {
     "data": {
      "text/plain": [
       "(array([7]),)"
      ]
     },
     "execution_count": 19,
     "metadata": {},
     "output_type": "execute_result"
    }
   ],
   "source": [
    "np.where(tempers == 1)"
   ]
  },
  {
   "cell_type": "code",
   "execution_count": 100,
   "id": "c28bf7ec-241d-457f-81bb-71456cc818c0",
   "metadata": {},
   "outputs": [
    {
     "data": {
      "image/png": "[encoded data removed]",
      "text/plain": [
       "<Figure size 640x480 with 1 Axes>"
      ]
     },
     "metadata": {},
     "output_type": "display_data"
    }
   ],
   "source": [
    "for k_nt in range(N_t):\n",
    "    plt.plot(energies_pasos[0,k_nt])"
   ]
  },
  {
   "cell_type": "code",
   "execution_count": 27,
   "id": "b60dec9a-ccc1-4d7d-b4b2-b7891bdf4f57",
   "metadata": {},
   "outputs": [
    {
     "name": "stdout",
     "output_type": "stream",
     "text": [
      "[[64. 12.  2. 43. 44. 63. 60. 25. 53. 26.]\n",
      " [64. 12.  2. 43. 44. 63. 60. 25. 53. 26.]\n",
      " [63. 11.  3. 43. 44. 64. 59. 25. 54. 27.]\n",
      " [64. 12.  2. 43. 44. 63. 60. 25. 53. 29.]]\n",
      "\n",
      "[[64. 12.  2. 43. 44. 63. 60. 25. 53. 26.]\n",
      " [64. 12.  2. 43. 44. 63. 60. 25. 53. 26.]\n",
      " [63. 11.  3. 43. 44. 64. 59. 25. 54. 27.]\n",
      " [64. 12.  2. 43. 44. 63. 60. 25. 53. 29.]]\n",
      "\n",
      "[[64. 12.  2. 43. 44. 63. 60. 25. 53. 26.]\n",
      " [64. 12.  2. 43. 44. 63. 60. 25. 53. 26.]\n",
      " [63. 11.  3. 43. 44. 64. 59. 25. 54. 27.]\n",
      " [64. 12.  2. 43. 44. 63. 60. 25. 53. 29.]]\n",
      "\n",
      "[[64. 12.  2. 43. 44. 63. 60. 25. 53. 26.]\n",
      " [64. 12.  2. 43. 44. 63. 60. 25. 53. 26.]\n",
      " [63. 11.  3. 43. 44. 64. 59. 25. 54. 27.]\n",
      " [64. 12.  2. 43. 44. 63. 60. 25. 53. 29.]]\n",
      "\n",
      "[[64. 12.  2. 43. 44. 63. 60. 25. 53. 26.]\n",
      " [64. 12.  2. 43. 44. 63. 60. 25. 53. 26.]\n",
      " [63. 11.  3. 43. 44. 64. 59. 25. 54. 27.]\n",
      " [64. 12.  2. 43. 44. 63. 60. 25. 53. 29.]]\n",
      "\n",
      "[[64. 12.  2. 43. 44. 63. 60. 25. 53. 26.]\n",
      " [64. 12.  2. 43. 44. 63. 60. 25. 53. 26.]\n",
      " [63. 11.  3. 43. 44. 64. 59. 25. 54. 27.]\n",
      " [64. 12.  2. 43. 44. 63. 60. 25. 53. 29.]]\n",
      "\n",
      "[[34. 41. 11. 26. 60. 56.  0. 10. 55. 61.]\n",
      " [34. 42. 11. 26. 59. 56.  0. 10. 49. 62.]\n",
      " [34. 37. 11. 26. 60. 56.  0. 10.  9. 63.]\n",
      " [34. 41. 11. 26. 60. 56.  0. 10. 50. 61.]]\n",
      "\n",
      "[[64. 12.  2. 43. 44. 63. 60. 25. 53. 26.]\n",
      " [64. 12.  2. 43. 44. 63. 60. 25. 53. 26.]\n",
      " [63. 11.  3. 43. 44. 64. 59. 25. 54. 27.]\n",
      " [64. 12.  2. 43. 44. 63. 60. 25. 53. 29.]]\n",
      "\n",
      "[[34. 41. 11. 26. 60. 56.  0. 10. 55. 61.]\n",
      " [34. 42. 11. 26. 59. 56.  0. 10. 50. 62.]\n",
      " [34. 37. 11. 26. 60. 56.  0. 10.  9. 63.]\n",
      " [34. 41. 11. 26. 60. 56.  0. 10. 50. 61.]]\n",
      "\n",
      "[[34. 41. 11. 26. 60. 56.  0. 10. 50. 61.]\n",
      " [34. 42. 11. 26. 59. 56.  0. 10. 50. 62.]\n",
      " [34. 37. 11. 26. 60. 56.  0. 10.  9. 63.]\n",
      " [34. 41. 11. 26. 60. 56.  0. 10. 50. 61.]]\n",
      "\n",
      "[[34. 41. 11. 26. 60. 56.  0. 10. 55. 61.]\n",
      " [34. 42. 11. 26. 59. 56.  0. 10. 50. 62.]\n",
      " [34. 37. 11. 26. 60. 56.  0. 10.  9. 63.]\n",
      " [34. 41. 11. 26. 60. 56.  0. 10. 50. 61.]]\n",
      "\n",
      "[[34. 41. 11. 26. 60. 56.  0. 10.  9. 61.]\n",
      " [34. 42. 11. 26. 59. 56.  0. 10. 50. 62.]\n",
      " [34. 37. 11. 26. 60. 56.  0. 10.  9. 63.]\n",
      " [34. 41. 11. 26. 60. 56.  0. 10. 50. 61.]]\n",
      "\n",
      "[[34. 41. 11. 26. 60. 56.  0. 10.  9. 61.]\n",
      " [34. 42. 11. 26. 59. 56.  0. 10. 50. 62.]\n",
      " [34. 37. 11. 26. 60. 56.  0. 10.  9. 63.]\n",
      " [34. 41. 11. 26. 60. 56.  0. 10. 50. 61.]]\n",
      "\n",
      "[[11. 16. 36. 37. 60. 42.  9.  6. 61. 44.]\n",
      " [11. 16. 55. 37. 60. 42. 50.  6. 61. 43.]\n",
      " [12. 15. 36. 38. 59. 41.  8.  7. 62. 43.]\n",
      " [11. 16. 55. 37. 60. 42.  9.  6. 61. 44.]]\n",
      "\n",
      "[[11. 16. 36. 37. 60. 42.  9.  6. 61. 44.]\n",
      " [11. 16. 55. 37. 60. 42. 49.  6. 61. 43.]\n",
      " [12. 15. 36. 38. 59. 41.  8.  7. 62. 43.]\n",
      " [11. 16. 36. 37. 60. 42.  9.  6. 61. 44.]]\n",
      "\n",
      "[[11. 16. 36. 37. 60. 42.  9.  6. 61. 44.]\n",
      " [11. 16. 55. 37. 60. 42. 50.  6. 61. 43.]\n",
      " [12. 15. 36. 38. 59. 41.  8.  7. 62. 43.]\n",
      " [11. 16. 36. 37. 60. 42.  9.  6. 61. 44.]]\n",
      "\n",
      "[[34. 41. 11. 26. 60. 56.  0. 10. 55. 61.]\n",
      " [34. 42. 11. 26. 59. 56.  0. 10. 49. 62.]\n",
      " [34. 37. 11. 26. 60. 56.  0. 10.  8. 63.]\n",
      " [34. 41. 11. 26. 60. 56.  0. 10. 49. 61.]]\n",
      "\n",
      "[[34. 41. 11. 26. 60. 56.  0. 10. 55. 61.]\n",
      " [34. 42. 11. 26. 59. 56.  0. 10. 49. 62.]\n",
      " [34. 37. 11. 26. 60. 56.  0. 10.  8. 63.]\n",
      " [34. 41. 11. 26. 60. 56.  0. 10. 50. 61.]]\n",
      "\n",
      "[[11. 16. 36. 37. 60. 42.  9.  6. 61. 44.]\n",
      " [11. 16. 55. 37. 60. 42. 50.  6. 61. 43.]\n",
      " [12. 15. 36. 38. 59. 41.  8.  7. 62. 43.]\n",
      " [11. 16. 36. 37. 60. 42.  9.  6. 61. 44.]]\n",
      "\n",
      "[[34. 41. 11. 26. 60. 56.  0. 10. 50. 61.]\n",
      " [34. 42. 11. 26. 59. 56.  0. 10. 50. 62.]\n",
      " [34. 37. 11. 26. 60. 56.  0. 10.  8. 63.]\n",
      " [34. 41. 11. 26. 60. 56.  0. 10. 49. 61.]]\n",
      "\n",
      "[[11. 16. 36. 37. 60. 42.  9.  6. 61. 44.]\n",
      " [11. 16. 55. 37. 60. 42. 50.  6. 61. 43.]\n",
      " [12. 15. 36. 38. 59. 41.  8.  7. 62. 43.]\n",
      " [11. 16. 55. 37. 60. 42.  9.  6. 61. 44.]]\n",
      "\n",
      "[[34. 41. 11. 26. 60. 56.  0. 10. 50. 61.]\n",
      " [34. 42. 11. 26. 59. 55.  0. 10. 50. 62.]\n",
      " [34. 37. 11. 26. 60. 56.  0. 10.  8. 63.]\n",
      " [34. 41. 11. 26. 60. 56.  0. 10. 49. 61.]]\n",
      "\n",
      "[[11. 16. 36. 37. 60. 42.  9.  6. 61. 44.]\n",
      " [11. 16. 55. 37. 60. 42. 49.  6. 61. 43.]\n",
      " [12. 15. 36. 38. 59. 41.  8.  7. 62. 43.]\n",
      " [11. 16. 55. 37. 60. 42.  9.  6. 61. 44.]]\n",
      "\n",
      "[[34. 41. 11. 26. 60. 56.  0. 10. 50. 61.]\n",
      " [34. 42. 11. 26. 59. 55.  0. 10. 49. 62.]\n",
      " [34. 37. 11. 26. 60. 56.  0. 10.  8. 63.]\n",
      " [34. 41. 11. 26. 60. 56.  0. 10. 50. 61.]]\n",
      "\n",
      "[[34. 41. 11. 26. 60. 56.  0. 10. 49. 61.]\n",
      " [34. 42. 11. 26. 59. 55.  0. 10. 49. 62.]\n",
      " [34. 37. 11. 26. 60. 56.  0. 10.  8. 63.]\n",
      " [34. 41. 11. 26. 60. 56.  0. 10. 49. 61.]]\n",
      "\n",
      "[[34. 41. 11. 26. 60. 56.  0. 10. 49. 61.]\n",
      " [34. 42. 11. 26. 59. 55.  0. 10. 50. 62.]\n",
      " [34. 37. 11. 26. 60. 56.  0. 10.  8. 63.]\n",
      " [34. 41. 11. 26. 60. 56.  0. 10. 50. 61.]]\n",
      "\n",
      "[[34. 41. 11. 26. 60. 56.  0. 10. 49. 61.]\n",
      " [34. 42. 11. 26. 59. 55.  0. 10. 50. 62.]\n",
      " [34. 37. 11. 26. 60. 56.  0. 10.  8. 63.]\n",
      " [34. 41. 11. 26. 60. 56.  0. 10. 50. 61.]]\n",
      "\n",
      "[[34. 41. 11. 26. 60. 56.  0. 10. 49. 61.]\n",
      " [34. 42. 11. 26. 59. 55.  0. 10. 50. 62.]\n",
      " [34. 37. 11. 26. 60. 56.  0. 10.  8. 63.]\n",
      " [34. 41. 11. 26. 60. 56.  0. 10. 50. 61.]]\n",
      "\n",
      "[[34. 41. 11. 26. 60. 56.  0. 10. 49. 61.]\n",
      " [34. 42. 11. 26. 59. 55.  0. 10. 50. 62.]\n",
      " [34. 37. 11. 26. 60. 56.  0. 10.  8. 63.]\n",
      " [34. 41. 11. 26. 60. 56.  0. 10. 50. 61.]]\n",
      "\n",
      "[[34. 41. 11. 26. 60. 56.  0. 10. 49. 61.]\n",
      " [34. 42. 11. 26. 59. 55.  0. 10. 50. 62.]\n",
      " [34. 37. 11. 26. 60. 56.  0. 10.  9. 63.]\n",
      " [34. 41. 11. 26. 60. 56.  0. 10. 50. 61.]]\n",
      "\n",
      "[[53. 17. 42. 52.  5. 23. 14. 54. 64. 62.]\n",
      " [53. 17. 41. 52.  5. 23. 14. 54. 64. 62.]\n",
      " [52. 18. 37. 51.  4. 24. 13. 53. 61. 63.]\n",
      " [53. 17. 42. 52.  5. 23. 14. 54. 64. 62.]]\n",
      "\n",
      "[[34. 41. 11. 26. 60. 56.  0. 10. 50. 61.]\n",
      " [34. 42. 11. 26. 59. 55.  0. 10. 49. 62.]\n",
      " [34. 37. 11. 26. 60. 56.  0. 10.  8. 63.]\n",
      " [34. 41. 11. 26. 60. 56.  0. 10. 49. 61.]]\n",
      "\n",
      "[[34. 41. 11. 26. 60. 56.  0. 10. 50. 61.]\n",
      " [34. 42. 11. 26. 59. 55.  0. 10. 49. 62.]\n",
      " [34. 37. 11. 26. 60. 56.  0. 10.  8. 63.]\n",
      " [34. 41. 11. 26. 60. 56.  0. 10. 49. 61.]]\n",
      "\n",
      "[[34. 41. 11. 26. 60. 56.  0. 10. 50. 61.]\n",
      " [34. 42. 11. 26. 59. 55.  0. 10. 49. 62.]\n",
      " [34. 37. 11. 26. 60. 56.  0. 10.  8. 63.]\n",
      " [34. 41. 11. 26. 60. 56.  0. 10. 49. 61.]]\n",
      "\n",
      "[[34. 41. 11. 26. 60. 56.  0. 10. 50. 61.]\n",
      " [34. 42. 11. 26. 59. 55.  0. 10. 49. 62.]\n",
      " [34. 37. 11. 26. 60. 56.  0. 10.  8. 63.]\n",
      " [34. 41. 11. 26. 60. 56.  0. 10. 50. 61.]]\n",
      "\n",
      "[[34. 41. 11. 26. 60. 56.  0. 10. 50. 61.]\n",
      " [34. 42. 11. 26. 59. 55.  0. 10. 49. 62.]\n",
      " [34. 37. 11. 26. 60. 56.  0. 10.  9. 63.]\n",
      " [34. 41. 11. 26. 60. 56.  0. 10. 49. 61.]]\n",
      "\n",
      "[[34. 41. 11. 26. 60. 56.  0. 10. 50. 61.]\n",
      " [34. 42. 11. 26. 59. 55.  0. 10. 49. 62.]\n",
      " [34. 37. 11. 26. 60. 56.  0. 10.  8. 63.]\n",
      " [34. 41. 11. 26. 60. 56.  0. 10. 50. 61.]]\n",
      "\n",
      "[[34. 41. 11. 26. 60. 56.  0. 10. 50. 61.]\n",
      " [34. 42. 11. 26. 59. 55.  0. 10. 50. 62.]\n",
      " [34. 37. 11. 26. 60. 56.  0. 10.  8. 63.]\n",
      " [34. 41. 11. 26. 60. 56.  0. 10. 49. 61.]]\n",
      "\n",
      "[[34. 41. 11. 26. 60. 56.  0. 10. 50. 61.]\n",
      " [34. 42. 11. 26. 59. 55.  0. 10. 50. 62.]\n",
      " [34. 37. 11. 26. 60. 56.  0. 10.  8. 63.]\n",
      " [34. 41. 11. 26. 60. 56.  0. 10. 49. 61.]]\n",
      "\n",
      "[[11. 16. 35. 37. 60. 42.  9.  6. 61. 44.]\n",
      " [11. 16. 55. 42. 60. 37. 50.  6. 64. 43.]\n",
      " [12. 15. 36. 38. 59. 41.  8.  7. 62. 43.]\n",
      " [11. 16. 36. 37. 60. 42.  9.  6. 61. 44.]]\n",
      "\n",
      "[[34. 41. 11. 26. 60. 56.  0. 10. 49. 61.]\n",
      " [34. 42. 11. 26. 59. 55.  0. 10. 50. 62.]\n",
      " [34. 37. 11. 26. 60. 56.  0. 10.  8. 63.]\n",
      " [34. 41. 11. 26. 60. 56.  0. 10. 50. 61.]]\n",
      "\n",
      "[[11. 16. 36. 37. 60. 42.  9.  6. 61. 44.]\n",
      " [11. 16. 55. 42. 60. 37. 50.  6. 64. 43.]\n",
      " [12. 15. 36. 38. 59. 41.  8.  7. 62. 43.]\n",
      " [11. 16. 36. 37. 60. 42.  9.  6. 61. 44.]]\n",
      "\n",
      "[[34. 41. 11. 26. 60. 56.  0. 10. 49. 61.]\n",
      " [34. 42. 11. 26. 59. 55.  0. 10. 49. 62.]\n",
      " [34. 37. 11. 26. 60. 56.  0. 10.  8. 63.]\n",
      " [34. 41. 11. 26. 60. 56.  0. 10. 50. 61.]]\n",
      "\n",
      "[[34. 41. 11. 26. 60. 56.  0. 10. 49. 61.]\n",
      " [34. 42. 11. 26. 59. 55.  0. 10. 49. 62.]\n",
      " [34. 37. 11. 26. 60. 56.  0. 10.  8. 63.]\n",
      " [34. 41. 11. 26. 60. 56.  0. 10. 50. 61.]]\n",
      "\n",
      "[[34. 41. 11. 26. 60. 56.  0. 10. 50. 61.]\n",
      " [34. 42. 11. 26. 59. 55.  0. 10. 49. 62.]\n",
      " [34. 37. 11. 26. 60. 56.  0. 10.  8. 63.]\n",
      " [34. 41. 11. 26. 60. 56.  0. 10. 49. 61.]]\n",
      "\n",
      "[[34. 41. 11. 26. 60. 56.  0. 10. 49. 61.]\n",
      " [34. 42. 11. 26. 59. 55.  0. 10. 49. 62.]\n",
      " [34. 37. 11. 26. 60. 56.  0. 10.  9. 63.]\n",
      " [34. 41. 11. 26. 60. 56.  0. 10. 49. 61.]]\n",
      "\n",
      "[[34. 41. 11. 26. 60. 56.  0. 10. 49. 61.]\n",
      " [34. 42. 11. 26. 59. 55.  0. 10. 49. 62.]\n",
      " [34. 37. 11. 26. 60. 56.  0. 10.  8. 63.]\n",
      " [34. 41. 11. 26. 60. 56.  0. 10. 49. 61.]]\n",
      "\n",
      "[[34. 41. 11. 26. 60. 56.  0. 10. 49. 61.]\n",
      " [34. 42. 11. 26. 59. 55.  0. 10. 49. 62.]\n",
      " [34. 37. 11. 26. 60. 56.  0. 10.  9. 63.]\n",
      " [34. 41. 11. 26. 60. 56.  0. 10. 49. 61.]]\n",
      "\n",
      "[[34. 41. 11. 26. 60. 56.  0. 10. 49. 61.]\n",
      " [34. 42. 11. 26. 59. 55.  0. 10. 49. 62.]\n",
      " [34. 37. 11. 26. 60. 56.  0. 10.  8. 63.]\n",
      " [34. 41. 11. 26. 60. 56.  0. 10. 49. 61.]]\n",
      "\n",
      "[[34. 41. 11. 26. 60. 56.  0. 10. 49. 61.]\n",
      " [34. 42. 11. 26. 59. 55.  0. 10. 49. 62.]\n",
      " [34. 37. 11. 26. 60. 56.  0. 10.  8. 63.]\n",
      " [34. 41. 11. 26. 60. 56.  0. 10. 50. 61.]]\n",
      "\n",
      "[[34. 41. 11. 26. 60. 56.  0. 10. 49. 61.]\n",
      " [34. 42. 11. 26. 59. 55.  0. 10. 49. 62.]\n",
      " [34. 37. 11. 26. 60. 56.  0. 10.  8. 63.]\n",
      " [34. 41. 11. 26. 60. 56.  0. 10. 50. 61.]]\n",
      "\n",
      "[[34. 41. 11. 26. 60. 56.  0. 10. 49. 61.]\n",
      " [34. 42. 11. 26. 59. 55.  0. 10. 49. 62.]\n",
      " [34. 37. 11. 26. 60. 56.  0. 10.  8. 63.]\n",
      " [34. 41. 11. 26. 60. 56.  0. 10. 50. 61.]]\n",
      "\n",
      "[[34. 41. 11. 26. 60. 56.  0. 10. 50. 61.]\n",
      " [34. 42. 11. 26. 59. 55.  0. 10. 50. 62.]\n",
      " [34. 37. 11. 26. 60. 56.  0. 10.  8. 63.]\n",
      " [34. 41. 11. 26. 60. 56.  0. 10. 50. 61.]]\n",
      "\n",
      "[[34. 41. 11. 26. 60. 56.  0. 10. 50. 61.]\n",
      " [34. 42. 11. 26. 59. 55.  0. 10. 50. 62.]\n",
      " [34. 37. 11. 26. 60. 56.  0. 10.  9. 63.]\n",
      " [34. 41. 11. 26. 60. 56.  0. 10. 50. 61.]]\n",
      "\n",
      "[[34. 41. 11. 26. 60. 56.  0. 10. 50. 61.]\n",
      " [34. 42. 11. 26. 59. 55.  0. 10. 50. 62.]\n",
      " [34. 37. 11. 26. 60. 56.  0. 10.  8. 63.]\n",
      " [34. 41. 11. 26. 60. 56.  0. 10. 50. 61.]]\n",
      "\n",
      "[[34. 41. 11. 26. 60. 56.  0. 10. 49. 61.]\n",
      " [34. 42. 11. 26. 59. 55.  0. 10. 50. 62.]\n",
      " [34. 37. 11. 26. 60. 56.  0. 10.  8. 63.]\n",
      " [34. 41. 11. 26. 60. 56.  0. 10. 50. 61.]]\n",
      "\n",
      "[[34. 41. 11. 26. 60. 56.  0. 10. 49. 61.]\n",
      " [34. 42. 11. 26. 59. 55.  0. 10. 50. 62.]\n",
      " [34. 37. 11. 26. 60. 56.  0. 10.  8. 63.]\n",
      " [34. 41. 11. 26. 60. 56.  0. 10. 50. 61.]]\n",
      "\n",
      "[[34. 41. 11. 26. 60. 56.  0. 10. 49. 61.]\n",
      " [34. 42. 11. 26. 59. 55.  0. 10. 50. 62.]\n",
      " [34. 37. 11. 26. 60. 56.  0. 10.  8. 63.]\n",
      " [34. 41. 11. 26. 60. 56.  0. 10. 49. 61.]]\n",
      "\n",
      "[[34. 41. 11. 26. 60. 56.  0. 10. 49. 61.]\n",
      " [34. 42. 11. 26. 59. 55.  0. 10. 50. 62.]\n",
      " [34. 37. 11. 26. 60. 56.  0. 10.  8. 63.]\n",
      " [34. 41. 11. 26. 60. 56.  0. 10. 50. 61.]]\n",
      "\n",
      "[[34. 41. 11. 26. 60. 56.  0. 10. 49. 61.]\n",
      " [34. 42. 11. 26. 59. 55.  0. 10. 49. 62.]\n",
      " [34. 37. 11. 26. 60. 56.  0. 10.  8. 63.]\n",
      " [34. 41. 11. 26. 60. 56.  0. 10. 50. 61.]]\n",
      "\n",
      "[[34. 41. 11. 26. 60. 56.  0. 10. 49. 61.]\n",
      " [34. 42. 11. 26. 59. 55.  0. 10. 49. 62.]\n",
      " [34. 37. 11. 26. 60. 56.  0. 10.  8. 63.]\n",
      " [34. 41. 11. 26. 60. 56.  0. 10. 50. 61.]]\n",
      "\n",
      "[[34. 41. 11. 26. 60. 56.  0. 10. 49. 61.]\n",
      " [34. 42. 11. 26. 59. 55.  0. 10. 50. 62.]\n",
      " [34. 37. 11. 26. 60. 56.  0. 10.  8. 63.]\n",
      " [34. 41. 11. 26. 60. 56.  0. 10. 50. 61.]]\n",
      "\n",
      "[[34. 41. 11. 26. 60. 56.  0. 10. 49. 61.]\n",
      " [34. 42. 11. 26. 59. 55.  0. 10. 50. 62.]\n",
      " [34. 37. 11. 26. 60. 56.  0. 10.  8. 63.]\n",
      " [34. 41. 11. 26. 60. 56.  0. 10. 50. 61.]]\n",
      "\n",
      "[[34. 41. 11. 26. 60. 56.  0. 10. 50. 61.]\n",
      " [34. 42. 11. 26. 59. 55.  0. 10. 50. 62.]\n",
      " [34. 37. 11. 26. 60. 56.  0. 10.  8. 63.]\n",
      " [34. 41. 11. 26. 60. 56.  0. 10. 49. 61.]]\n",
      "\n",
      "[[34. 41. 11. 26. 60. 56.  0. 10. 50. 61.]\n",
      " [34. 42. 11. 26. 59. 55.  0. 10. 50. 62.]\n",
      " [34. 37. 11. 26. 60. 56.  0. 10.  9. 63.]\n",
      " [34. 41. 11. 26. 60. 56.  0. 10. 49. 61.]]\n",
      "\n",
      "[[34. 41. 11. 26. 60. 56.  0. 10. 50. 61.]\n",
      " [34. 42. 11. 26. 59. 55.  0. 10. 50. 62.]\n",
      " [34. 37. 11. 26. 60. 56.  0. 10.  9. 63.]\n",
      " [34. 41. 11. 26. 60. 56.  0. 10. 50. 61.]]\n",
      "\n",
      "[[34. 41. 11. 26. 60. 56.  0. 10. 50. 61.]\n",
      " [34. 42. 11. 26. 59. 55.  0. 10. 49. 62.]\n",
      " [34. 37. 11. 26. 60. 56.  0. 10.  9. 63.]\n",
      " [34. 41. 11. 26. 60. 56.  0. 10. 49. 61.]]\n",
      "\n",
      "[[34. 41. 11. 26. 60. 56.  0. 10. 49. 61.]\n",
      " [34. 42. 11. 26. 59. 55.  0. 10. 49. 62.]\n",
      " [34. 37. 11. 26. 60. 56.  0. 10.  9. 63.]\n",
      " [34. 41. 11. 26. 60. 56.  0. 10. 49. 61.]]\n",
      "\n",
      "[[34. 41. 11. 26. 60. 56.  0. 10. 49. 61.]\n",
      " [34. 42. 11. 26. 59. 55.  0. 10. 50. 62.]\n",
      " [34. 37. 11. 26. 60. 56.  0. 10.  9. 63.]\n",
      " [34. 41. 11. 26. 60. 56.  0. 10. 49. 61.]]\n",
      "\n",
      "[[34. 41. 11. 26. 60. 56.  0. 10. 50. 61.]\n",
      " [34. 42. 11. 26. 59. 55.  0. 10. 50. 62.]\n",
      " [34. 37. 11. 26. 60. 56.  0. 10.  9. 63.]\n",
      " [34. 41. 11. 26. 60. 56.  0. 10. 50. 61.]]\n",
      "\n",
      "[[11. 16. 36. 37. 60. 42.  9.  6. 61. 44.]\n",
      " [11. 16. 56. 42. 60. 37. 50.  6. 64. 43.]\n",
      " [12. 15. 36. 38. 59. 41.  8.  7. 62. 43.]\n",
      " [11. 16. 36. 37. 60. 42.  9.  6. 61. 44.]]\n",
      "\n",
      "[[34. 41. 11. 26. 60. 56.  0. 10. 50. 61.]\n",
      " [34. 42. 11. 26. 59. 55.  0. 10. 50. 62.]\n",
      " [34. 37. 11. 26. 60. 56.  0. 10.  8. 63.]\n",
      " [34. 41. 11. 26. 60. 56.  0. 10. 50. 61.]]\n",
      "\n",
      "[[34. 41. 11. 26. 60. 56.  0. 10. 49. 61.]\n",
      " [34. 42. 11. 26. 59. 55.  0. 10. 49. 62.]\n",
      " [34. 37. 11. 26. 60. 56.  0. 10.  8. 63.]\n",
      " [34. 41. 11. 26. 60. 56.  0. 10. 50. 61.]]\n",
      "\n",
      "[[34. 41. 11. 26. 60. 56.  0. 10. 49. 61.]\n",
      " [34. 42. 11. 26. 59. 55.  0. 10. 49. 62.]\n",
      " [34. 37. 11. 26. 60. 56.  0. 10.  9. 63.]\n",
      " [34. 41. 11. 26. 60. 56.  0. 10. 49. 61.]]\n",
      "\n",
      "[[34. 41. 11. 26. 60. 56.  0. 10. 49. 61.]\n",
      " [34. 42. 11. 26. 59. 55.  0. 10. 49. 62.]\n",
      " [34. 37. 11. 26. 60. 56.  0. 10.  8. 63.]\n",
      " [34. 41. 11. 26. 60. 56.  0. 10. 49. 61.]]\n",
      "\n",
      "[[34. 41. 11. 26. 60. 56.  0. 10. 49. 61.]\n",
      " [34. 42. 11. 26. 59. 55.  0. 10. 49. 62.]\n",
      " [34. 37. 11. 26. 60. 56.  0. 10.  8. 63.]\n",
      " [34. 41. 11. 26. 60. 56.  0. 10. 50. 61.]]\n",
      "\n",
      "[[34. 41. 11. 26. 60. 56.  0. 10. 49. 61.]\n",
      " [34. 42. 11. 26. 59. 55.  0. 10. 49. 62.]\n",
      " [34. 37. 11. 26. 60. 56.  0. 10.  8. 63.]\n",
      " [34. 41. 11. 26. 60. 56.  0. 10. 50. 61.]]\n",
      "\n",
      "[[34. 41. 11. 26. 60. 56.  0. 10. 49. 61.]\n",
      " [34. 42. 11. 26. 59. 55.  0. 10. 49. 62.]\n",
      " [34. 37. 11. 26. 60. 56.  0. 10.  8. 63.]\n",
      " [34. 41. 11. 26. 60. 56.  0. 10. 49. 61.]]\n",
      "\n",
      "[[34. 41. 11. 26. 60. 56.  0. 10. 49. 61.]\n",
      " [34. 42. 11. 26. 59. 55.  0. 10. 49. 62.]\n",
      " [34. 37. 11. 26. 60. 56.  0. 10.  9. 63.]\n",
      " [34. 41. 11. 26. 60. 56.  0. 10. 49. 61.]]\n",
      "\n",
      "[[34. 41. 11. 26. 60. 56.  0. 10. 49. 61.]\n",
      " [34. 42. 11. 26. 59. 55.  0. 10. 50. 62.]\n",
      " [34. 37. 11. 26. 60. 56.  0. 10.  9. 63.]\n",
      " [34. 41. 11. 26. 60. 56.  0. 10. 49. 61.]]\n",
      "\n",
      "[[34. 41. 11. 26. 60. 56.  0. 10. 50. 61.]\n",
      " [34. 42. 11. 26. 59. 55.  0. 10. 49. 62.]\n",
      " [34. 37. 11. 26. 60. 56.  0. 10.  9. 63.]\n",
      " [34. 41. 11. 26. 60. 56.  0. 10. 49. 61.]]\n",
      "\n",
      "[[34. 41. 11. 26. 60. 56.  0. 10. 49. 61.]\n",
      " [34. 42. 11. 26. 59. 55.  0. 10. 49. 62.]\n",
      " [34. 37. 11. 26. 60. 56.  0. 10.  8. 63.]\n",
      " [34. 41. 11. 26. 60. 56.  0. 10. 49. 61.]]\n",
      "\n",
      "[[34. 41. 11. 26. 60. 56.  0. 10. 49. 61.]\n",
      " [34. 42. 11. 26. 59. 55.  0. 10. 49. 62.]\n",
      " [34. 37. 11. 26. 60. 56.  0. 10.  8. 63.]\n",
      " [34. 41. 11. 26. 60. 56.  0. 10. 50. 61.]]\n",
      "\n",
      "[[64. 12.  2. 43. 44. 63. 60. 25. 53. 26.]\n",
      " [64. 12.  2. 43. 44. 63. 60. 25. 53. 26.]\n",
      " [63. 11.  3. 43. 44. 64. 59. 25. 54. 27.]\n",
      " [64. 12.  2. 43. 44. 63. 60. 25. 53. 26.]]\n",
      "\n",
      "[[64. 12.  2. 43. 44. 63. 60. 25. 53. 26.]\n",
      " [64. 12.  2. 43. 44. 63. 60. 25. 53. 26.]\n",
      " [63. 11.  3. 43. 44. 64. 59. 25. 54. 27.]\n",
      " [64. 12.  2. 43. 44. 63. 60. 25. 53. 26.]]\n",
      "\n",
      "[[34. 41. 11. 26. 60. 56.  0. 10. 49. 61.]\n",
      " [34. 42. 11. 26. 59. 55.  0. 10. 49. 62.]\n",
      " [34. 37. 11. 26. 60. 56.  0. 10.  8. 63.]\n",
      " [34. 41. 11. 26. 60. 56.  0. 10. 49. 61.]]\n",
      "\n",
      "[[34. 41. 11. 26. 60. 56.  0. 10. 50. 61.]\n",
      " [34. 42. 11. 26. 59. 55.  0. 10. 50. 62.]\n",
      " [34. 37. 11. 26. 60. 56.  0. 10.  9. 63.]\n",
      " [34. 41. 11. 26. 60. 56.  0. 10. 49. 61.]]\n",
      "\n",
      "[[11. 16. 36. 37. 60. 42.  9.  6. 61. 44.]\n",
      " [11. 16. 56. 42. 60. 37. 50.  6. 64. 43.]\n",
      " [12. 15. 36. 38. 59. 41.  8.  7. 62. 43.]\n",
      " [11. 16. 36. 37. 60. 42.  9.  6. 61. 44.]]\n",
      "\n",
      "[[34. 41. 11. 26. 60. 56.  0. 10. 49. 61.]\n",
      " [34. 42. 11. 26. 59. 55.  0. 10. 49. 62.]\n",
      " [34. 37. 11. 26. 60. 56.  0. 10.  9. 63.]\n",
      " [34. 41. 11. 26. 60. 56.  0. 10. 50. 61.]]\n",
      "\n",
      "[[11. 16. 36. 37. 60. 42.  9.  6. 61. 44.]\n",
      " [11. 16. 56. 42. 60. 37. 49.  6. 64. 43.]\n",
      " [12. 15. 36. 38. 59. 41.  8.  7. 62. 43.]\n",
      " [11. 16. 36. 37. 60. 42.  9.  6. 61. 44.]]\n",
      "\n",
      "[[34. 41. 11. 26. 60. 56.  0. 10. 50. 61.]\n",
      " [34. 42. 11. 26. 59. 55.  0. 10. 49. 62.]\n",
      " [34. 37. 11. 26. 60. 56.  0. 10.  9. 63.]\n",
      " [34. 41. 11. 26. 60. 56.  0. 10. 49. 61.]]\n",
      "\n",
      "[[64. 12.  2. 43. 44. 63. 60. 25. 53. 26.]\n",
      " [64. 12.  2. 43. 44. 63. 60. 25. 53. 26.]\n",
      " [63. 11.  3. 43. 44. 64. 59. 25. 54. 27.]\n",
      " [64. 12.  2. 43. 44. 63. 60. 25. 53. 26.]]\n",
      "\n",
      "[[64. 12.  2. 43. 44. 63. 60. 25. 53. 26.]\n",
      " [64. 12.  2. 43. 44. 63. 60. 25. 53. 26.]\n",
      " [63. 11.  3. 43. 44. 64. 59. 25. 54. 27.]\n",
      " [64. 12.  2. 43. 44. 63. 60. 25. 53. 26.]]\n",
      "\n",
      "[[64. 12.  2. 43. 44. 63. 60. 25. 53. 26.]\n",
      " [64. 12.  2. 43. 44. 63. 60. 25. 53. 26.]\n",
      " [63. 11.  3. 43. 44. 64. 59. 25. 54. 27.]\n",
      " [64. 12.  2. 43. 44. 63. 60. 25. 53. 26.]]\n",
      "\n",
      "[[34. 41. 11. 26. 60. 56.  0. 10. 50. 61.]\n",
      " [34. 42. 11. 26. 59. 55.  0. 10. 50. 62.]\n",
      " [34. 37. 11. 26. 60. 56.  0. 10.  8. 63.]\n",
      " [34. 41. 11. 26. 60. 56.  0. 10. 50. 61.]]\n",
      "\n",
      "[[64. 12.  2. 43. 44. 63. 60. 25. 53. 26.]\n",
      " [64. 12.  2. 43. 44. 63. 60. 25. 53. 26.]\n",
      " [63. 11.  3. 43. 44. 64. 59. 25. 54. 27.]\n",
      " [64. 12.  2. 43. 44. 63. 60. 25. 53. 26.]]\n",
      "\n",
      "[[64. 12.  2. 43. 44. 63. 60. 25. 53. 26.]\n",
      " [64. 12.  2. 43. 44. 63. 60. 25. 53. 26.]\n",
      " [63. 11.  3. 43. 44. 64. 59. 25. 54. 27.]\n",
      " [64. 12.  2. 43. 44. 63. 60. 25. 53. 26.]]\n",
      "\n",
      "[[64. 12.  2. 43. 44. 63. 60. 25. 53. 26.]\n",
      " [64. 12.  2. 43. 44. 63. 60. 25. 53. 26.]\n",
      " [63. 11.  3. 43. 44. 64. 59. 25. 54. 27.]\n",
      " [64. 12.  2. 43. 44. 63. 60. 25. 53. 26.]]\n",
      "\n",
      "[[11. 16. 36. 37. 60. 42.  9.  6. 61. 44.]\n",
      " [11. 16. 56. 42. 60. 37. 49.  6. 64. 43.]\n",
      " [12. 15. 36. 38. 59. 41.  8.  7. 62. 43.]\n",
      " [11. 16. 36. 37. 60. 42.  9.  6. 61. 44.]]\n",
      "\n",
      "[[64. 12.  2. 43. 44. 63. 60. 25. 53. 26.]\n",
      " [64. 12.  2. 43. 44. 63. 60. 25. 53. 26.]\n",
      " [63. 11.  3. 43. 44. 64. 59. 25. 54. 27.]\n",
      " [64. 12.  2. 43. 44. 63. 60. 25. 53. 26.]]\n",
      "\n",
      "[[34. 41. 11. 26. 60. 56.  0. 10. 50. 61.]\n",
      " [34. 42. 11. 26. 59. 55.  0. 10. 50. 62.]\n",
      " [34. 37. 11. 26. 60. 56.  0. 10. 50. 63.]\n",
      " [34. 41. 11. 26. 60. 56.  0. 10. 50. 61.]]\n",
      "\n",
      "[[34. 41. 11. 26. 60. 56.  0. 10. 50. 61.]\n",
      " [34. 42. 11. 26. 59. 55.  0. 10. 49. 62.]\n",
      " [34. 37. 11. 26. 60. 56.  0. 10. 50. 63.]\n",
      " [34. 41. 11. 26. 60. 56.  0. 10. 50. 61.]]\n",
      "\n",
      "[[34. 41. 11. 26. 60. 56.  0. 10. 50. 61.]\n",
      " [34. 42. 11. 26. 59. 55.  0. 10. 49. 62.]\n",
      " [34. 37. 11. 26. 60. 56.  0. 10.  9. 63.]\n",
      " [34. 41. 11. 26. 60. 56.  0. 10. 50. 61.]]\n",
      "\n",
      "[[34. 41. 11. 26. 60. 56.  0. 10. 50. 61.]\n",
      " [34. 42. 11. 26. 59. 55.  0. 10. 49. 62.]\n",
      " [34. 37. 11. 26. 60. 56.  0. 10.  8. 63.]\n",
      " [34. 41. 11. 26. 60. 56.  0. 10. 50. 61.]]\n",
      "\n",
      "[[64. 12.  2. 43. 44. 63. 60. 25. 53. 26.]\n",
      " [64. 12.  2. 43. 44. 63. 60. 25. 53. 26.]\n",
      " [63. 11.  3. 43. 44. 64. 59. 25. 54. 27.]\n",
      " [64. 12.  2. 43. 44. 63. 60. 25. 53. 26.]]\n",
      "\n",
      "[[64. 12.  2. 43. 44. 63. 60. 25. 53. 26.]\n",
      " [64. 12.  2. 43. 44. 63. 60. 25. 53. 26.]\n",
      " [63. 11.  3. 43. 44. 64. 59. 25. 54. 27.]\n",
      " [64. 12.  2. 43. 44. 63. 60. 25. 53. 26.]]\n",
      "\n",
      "[[64. 12.  2. 43. 44. 63. 60. 25. 53. 26.]\n",
      " [64. 12.  2. 43. 44. 63. 60. 25. 53. 26.]\n",
      " [63. 11.  3. 43. 44. 64. 59. 25. 54. 27.]\n",
      " [64. 12.  2. 43. 44. 63. 60. 25. 53. 26.]]\n",
      "\n",
      "[[34. 41. 11. 26. 60. 56.  0. 10. 50. 61.]\n",
      " [34. 42. 11. 26. 59. 55.  0. 10. 50. 62.]\n",
      " [34. 37. 11. 26. 60. 56.  0. 10.  8. 63.]\n",
      " [34. 41. 11. 26. 60. 56.  0. 10. 49. 61.]]\n",
      "\n",
      "[[34. 41. 11. 26. 60. 56.  0. 10. 49. 61.]\n",
      " [34. 42. 11. 26. 59. 55.  0. 10. 49. 62.]\n",
      " [34. 37. 11. 26. 60. 56.  0. 10.  8. 63.]\n",
      " [34. 41. 11. 26. 60. 56.  0. 10. 49. 61.]]\n",
      "\n",
      "[[64. 12.  2. 43. 44. 63. 60. 25. 53. 26.]\n",
      " [64. 12.  2. 43. 44. 63. 60. 25. 53. 26.]\n",
      " [63. 11.  3. 43. 44. 64. 59. 25. 54. 27.]\n",
      " [64. 12.  2. 43. 44. 63. 60. 25. 53. 26.]]\n",
      "\n",
      "[[64. 12.  2. 43. 44. 63. 60. 25. 53. 26.]\n",
      " [64. 12.  2. 43. 44. 63. 60. 25. 53. 26.]\n",
      " [63. 11.  3. 43. 44. 64. 59. 25. 54. 27.]\n",
      " [64. 12.  2. 43. 44. 63. 60. 25. 53. 26.]]\n",
      "\n",
      "[[34. 41. 11. 26. 60. 56.  0. 10. 50. 61.]\n",
      " [34. 42. 11. 26. 59. 55.  0. 10. 50. 62.]\n",
      " [34. 37. 11. 26. 60. 56.  0. 10.  9. 63.]\n",
      " [34. 41. 11. 26. 60. 56.  0. 10. 50. 61.]]\n",
      "\n",
      "[[11. 16. 36. 37. 60. 42.  9.  6. 61. 44.]\n",
      " [11. 16. 56. 42. 60. 37. 50.  6. 64. 43.]\n",
      " [12. 15. 36. 38. 59. 41.  8.  7. 62. 43.]\n",
      " [11. 16. 36. 37. 60. 42.  9.  6. 61. 44.]]\n",
      "\n",
      "[[34. 41. 11. 26. 60. 56.  0. 10. 50. 61.]\n",
      " [34. 42. 11. 26. 59. 55.  0. 10. 50. 62.]\n",
      " [34. 37. 11. 26. 60. 56.  0. 10.  9. 63.]\n",
      " [34. 41. 11. 26. 60. 56.  0. 10. 49. 61.]]\n",
      "\n",
      "[[64. 12.  2. 43. 44. 63. 60. 25. 53. 26.]\n",
      " [64. 12.  2. 43. 44. 63. 60. 25. 53. 26.]\n",
      " [63. 11.  3. 43. 44. 64. 59. 25. 54. 27.]\n",
      " [64. 12.  2. 43. 44. 63. 60. 25. 53. 26.]]\n",
      "\n",
      "[[11. 16. 36. 37. 60. 42.  9.  6. 61. 44.]\n",
      " [11. 16. 56. 42. 60. 37. 50.  6. 64. 43.]\n",
      " [12. 15. 36. 38. 59. 41.  8.  7. 62. 43.]\n",
      " [11. 16. 36. 37. 60. 42.  9.  6. 61. 44.]]\n",
      "\n",
      "[[34. 41. 11. 26. 60. 56.  0. 10. 49. 61.]\n",
      " [34. 42. 11. 26. 59. 55.  0. 10. 49. 62.]\n",
      " [34. 37. 11. 26. 60. 56.  0. 10.  8. 63.]\n",
      " [34. 41. 11. 26. 60. 56.  0. 10. 50. 61.]]\n",
      "\n",
      "[[64. 12.  2. 43. 44. 63. 60. 25. 53. 26.]\n",
      " [64. 12.  2. 43. 44. 63. 60. 25. 53. 26.]\n",
      " [63. 11.  3. 43. 44. 64. 59. 25. 54. 27.]\n",
      " [64. 12.  2. 43. 44. 63. 60. 25. 53. 26.]]\n",
      "\n",
      "[[64. 12.  2. 43. 44. 63. 60. 25. 53. 26.]\n",
      " [64. 12.  2. 43. 44. 63. 60. 25. 53. 26.]\n",
      " [63. 11.  3. 43. 44. 64. 59. 25. 54. 27.]\n",
      " [64. 12.  2. 43. 44. 63. 60. 25. 53. 26.]]\n",
      "\n",
      "[[34. 41. 11. 26. 60. 56.  0. 10. 49. 61.]\n",
      " [34. 42. 11. 26. 59. 55.  0. 10. 50. 62.]\n",
      " [34. 37. 11. 26. 60. 56.  0. 10.  8. 63.]\n",
      " [34. 41. 11. 26. 60. 56.  0. 10. 49. 61.]]\n",
      "\n",
      "[[64. 12.  2. 43. 44. 63. 60. 25. 53. 26.]\n",
      " [64. 12.  2. 43. 44. 63. 60. 25. 53. 26.]\n",
      " [63. 11.  3. 43. 44. 64. 59. 25. 54. 27.]\n",
      " [64. 12.  2. 43. 44. 63. 60. 25. 53. 26.]]\n",
      "\n",
      "[[64. 12.  2. 43. 44. 63. 60. 25. 53. 26.]\n",
      " [64. 12.  2. 43. 44. 63. 60. 25. 53. 26.]\n",
      " [63. 11.  3. 43. 44. 64. 59. 25. 54. 27.]\n",
      " [64. 12.  2. 43. 44. 63. 60. 25. 53. 26.]]\n",
      "\n",
      "[[64. 12.  2. 43. 44. 63. 60. 25. 53. 26.]\n",
      " [64. 12.  2. 43. 44. 63. 60. 25. 53. 26.]\n",
      " [63. 11.  3. 43. 44. 64. 59. 25. 54. 27.]\n",
      " [64. 12.  2. 43. 44. 63. 60. 25. 53. 26.]]\n",
      "\n",
      "[[64. 12.  2. 43. 44. 63. 60. 25. 53. 26.]\n",
      " [64. 12.  2. 43. 44. 63. 60. 25. 53. 26.]\n",
      " [63. 11.  3. 43. 44. 64. 59. 25. 54. 27.]\n",
      " [64. 12.  2. 43. 44. 63. 60. 25. 53. 26.]]\n",
      "\n",
      "[[34. 41. 11. 26. 60. 56.  0. 10. 49. 61.]\n",
      " [34. 42. 11. 26. 59. 55.  0. 10. 49. 62.]\n",
      " [34. 37. 11. 26. 60. 56.  0. 10.  8. 63.]\n",
      " [34. 41. 11. 26. 60. 56.  0. 10. 49. 61.]]\n",
      "\n",
      "[[34. 41. 11. 26. 60. 56.  0. 10. 49. 61.]\n",
      " [34. 42. 11. 26. 59. 55.  0. 10. 50. 62.]\n",
      " [34. 37. 11. 26. 60. 56.  0. 10.  8. 63.]\n",
      " [34. 41. 11. 26. 60. 56.  0. 10. 49. 61.]]\n",
      "\n",
      "[[34. 41. 11. 26. 60. 56.  0. 10. 49. 61.]\n",
      " [34. 42. 11. 26. 59. 55.  0. 10. 50. 62.]\n",
      " [34. 37. 11. 26. 60. 56.  0. 10.  8. 63.]\n",
      " [34. 41. 11. 26. 60. 56.  0. 10. 49. 61.]]\n",
      "\n",
      "[[64. 12.  2. 43. 44. 63. 60. 25. 53. 26.]\n",
      " [64. 12.  2. 43. 44. 63. 60. 25. 53. 26.]\n",
      " [63. 11.  3. 43. 44. 64. 59. 25. 54. 27.]\n",
      " [64. 12.  2. 43. 44. 63. 60. 25. 53. 26.]]\n",
      "\n",
      "[[11. 16. 36. 37. 60. 42.  9.  6. 61. 44.]\n",
      " [11. 16. 56. 42. 60. 37. 49.  6. 64. 43.]\n",
      " [12. 15. 36. 38. 59. 41.  8.  7. 62. 43.]\n",
      " [11. 16. 36. 37. 60. 42.  9.  6. 61. 44.]]\n",
      "\n",
      "[[34. 41. 11. 26. 60. 56.  0. 10. 49. 61.]\n",
      " [34. 42. 11. 26. 59. 55.  0. 10. 50. 62.]\n",
      " [34. 37. 11. 26. 60. 56.  0. 10.  8. 63.]\n",
      " [34. 41. 11. 26. 60. 56.  0. 10. 49. 61.]]\n",
      "\n",
      "[[64. 12.  2. 43. 44. 63. 60. 25. 53. 26.]\n",
      " [64. 12.  2. 43. 44. 63. 60. 25. 53. 26.]\n",
      " [63. 11.  3. 43. 44. 64. 59. 25. 54. 27.]\n",
      " [64. 12.  2. 43. 44. 63. 60. 25. 53. 26.]]\n",
      "\n",
      "[[34. 41. 11. 26. 60. 56.  0. 10. 50. 61.]\n",
      " [34. 42. 11. 26. 59. 55.  0. 10. 49. 62.]\n",
      " [34. 37. 11. 26. 60. 56.  0. 10.  9. 63.]\n",
      " [34. 41. 11. 26. 60. 56.  0. 10. 49. 61.]]\n",
      "\n",
      "[[34. 41. 11. 26. 60. 56.  0. 10. 50. 61.]\n",
      " [34. 42. 11. 26. 59. 55.  0. 10. 50. 62.]\n",
      " [34. 37. 11. 26. 60. 56.  0. 10.  9. 63.]\n",
      " [34. 41. 11. 26. 60. 56.  0. 10. 49. 61.]]\n",
      "\n",
      "[[34. 41. 11. 26. 60. 56.  0. 10. 50. 61.]\n",
      " [34. 42. 11. 26. 59. 55.  0. 10. 50. 62.]\n",
      " [34. 37. 11. 26. 60. 56.  0. 10.  9. 63.]\n",
      " [34. 41. 11. 26. 60. 56.  0. 10. 49. 61.]]\n",
      "\n",
      "[[34. 41. 11. 26. 60. 56.  0. 10. 49. 61.]\n",
      " [34. 42. 11. 26. 59. 55.  0. 10. 50. 62.]\n",
      " [34. 37. 11. 26. 60. 56.  0. 10.  9. 63.]\n",
      " [34. 41. 11. 26. 60. 56.  0. 10. 50. 61.]]\n",
      "\n",
      "[[34. 41. 11. 26. 60. 56.  0. 10. 49. 61.]\n",
      " [34. 42. 11. 26. 59. 55.  0. 10. 50. 62.]\n",
      " [34. 37. 11. 26. 60. 56.  0. 10.  8. 63.]\n",
      " [34. 41. 11. 26. 60. 56.  0. 10. 49. 61.]]\n",
      "\n",
      "[[34. 41. 11. 26. 60. 56.  0. 10. 49. 61.]\n",
      " [34. 42. 11. 26. 59. 55.  0. 10. 49. 62.]\n",
      " [34. 37. 11. 26. 60. 56.  0. 10.  9. 63.]\n",
      " [34. 41. 11. 26. 60. 56.  0. 10. 49. 61.]]\n",
      "\n",
      "[[34. 41. 11. 26. 60. 56.  0. 10. 50. 61.]\n",
      " [34. 42. 11. 26. 59. 55.  0. 10. 49. 62.]\n",
      " [34. 37. 11. 26. 60. 56.  0. 10.  8. 63.]\n",
      " [34. 41. 11. 26. 60. 56.  0. 10. 49. 61.]]\n",
      "\n",
      "[[64. 12.  2. 43. 44. 63. 60. 25. 53. 26.]\n",
      " [64. 12.  2. 43. 44. 63. 60. 25. 53. 26.]\n",
      " [63. 11.  3. 43. 44. 64. 59. 25. 54. 27.]\n",
      " [64. 12.  2. 43. 44. 63. 60. 25. 53. 26.]]\n",
      "\n",
      "[[64. 12.  2. 43. 44. 63. 60. 25. 53. 26.]\n",
      " [64. 12.  2. 43. 44. 63. 60. 25. 53. 26.]\n",
      " [63. 11.  3. 43. 44. 64. 59. 25. 54. 27.]\n",
      " [64. 12.  2. 43. 44. 63. 60. 25. 53. 26.]]\n",
      "\n",
      "[[34. 41. 11. 26. 60. 56.  0. 10. 50. 61.]\n",
      " [34. 42. 11. 26. 59. 55.  0. 10. 50. 62.]\n",
      " [34. 37. 11. 26. 60. 56.  0. 10.  9. 63.]\n",
      " [34. 41. 11. 26. 60. 56.  0. 10. 49. 61.]]\n",
      "\n",
      "[[34. 41. 11. 26. 60. 56.  0. 10. 50. 61.]\n",
      " [34. 42. 11. 26. 59. 55.  0. 10. 49. 62.]\n",
      " [34. 37. 11. 26. 60. 56.  0. 10.  8. 63.]\n",
      " [34. 41. 11. 26. 60. 56.  0. 10. 50. 61.]]\n",
      "\n",
      "[[64. 12.  2. 43. 44. 63. 60. 25. 53. 26.]\n",
      " [64. 12.  2. 43. 44. 63. 60. 25. 53. 26.]\n",
      " [63. 11.  3. 43. 44. 64. 59. 25. 54. 27.]\n",
      " [64. 12.  2. 43. 44. 63. 60. 25. 53. 26.]]\n",
      "\n",
      "[[64. 12.  2. 43. 44. 63. 60. 25. 53. 26.]\n",
      " [64. 12.  2. 43. 44. 63. 60. 25. 53. 26.]\n",
      " [63. 11.  3. 43. 44. 64. 59. 25. 54. 27.]\n",
      " [64. 12.  2. 43. 44. 63. 60. 25. 53. 26.]]\n",
      "\n",
      "[[34. 41. 11. 26. 60. 56.  0. 10. 50. 61.]\n",
      " [34. 42. 11. 26. 59. 55.  0. 10. 50. 62.]\n",
      " [34. 37. 11. 26. 60. 56.  0. 10.  8. 63.]\n",
      " [34. 41. 11. 26. 60. 56.  0. 10. 49. 61.]]\n",
      "\n",
      "[[64. 12.  2. 43. 44. 63. 60. 25. 53. 26.]\n",
      " [64. 12.  2. 43. 44. 63. 60. 25. 53. 26.]\n",
      " [63. 11.  3. 43. 44. 64. 59. 25. 54. 27.]\n",
      " [64. 12.  2. 43. 44. 63. 60. 25. 53. 26.]]\n",
      "\n",
      "[[34. 41. 11. 26. 60. 56.  0. 10. 50. 61.]\n",
      " [34. 42. 11. 26. 59. 55.  0. 10. 50. 62.]\n",
      " [34. 37. 11. 26. 60. 56.  0. 10.  9. 63.]\n",
      " [34. 41. 11. 26. 60. 56.  0. 10. 49. 61.]]\n",
      "\n",
      "[[34. 41. 11. 26. 60. 56.  0. 10. 49. 61.]\n",
      " [34. 42. 11. 26. 59. 55.  0. 10. 49. 62.]\n",
      " [34. 37. 11. 26. 60. 56.  0. 10.  9. 63.]\n",
      " [34. 41. 11. 26. 60. 56.  0. 10. 49. 61.]]\n",
      "\n",
      "[[64. 12.  2. 43. 44. 63. 60. 25. 53. 26.]\n",
      " [64. 12.  2. 43. 44. 63. 60. 25. 53. 26.]\n",
      " [63. 11.  3. 43. 44. 64. 59. 25. 54. 27.]\n",
      " [64. 12.  2. 43. 44. 63. 60. 25. 53. 26.]]\n",
      "\n",
      "[[34. 41. 11. 26. 60. 56.  0. 10. 49. 61.]\n",
      " [34. 42. 11. 26. 59. 55.  0. 10. 50. 62.]\n",
      " [34. 37. 11. 26. 60. 56.  0. 10.  9. 63.]\n",
      " [34. 41. 11. 26. 60. 56.  0. 10. 49. 61.]]\n",
      "\n",
      "[[34. 41. 11. 26. 60. 56.  0. 10. 49. 61.]\n",
      " [34. 42. 11. 26. 59. 55.  0. 10. 50. 62.]\n",
      " [34. 37. 11. 26. 60. 56.  0. 10.  9. 63.]\n",
      " [34. 41. 11. 26. 60. 56.  0. 10. 49. 61.]]\n",
      "\n",
      "[[11. 16. 36. 37. 60. 42.  9.  6. 61. 44.]\n",
      " [11. 16. 56. 42. 60. 37. 50.  6. 64. 43.]\n",
      " [12. 15. 36. 38. 59. 41.  8.  7. 62. 43.]\n",
      " [11. 16. 36. 37. 60. 42.  9.  6. 61. 44.]]\n",
      "\n",
      "[[64. 12.  2. 43. 44. 63. 60. 25. 53. 26.]\n",
      " [64. 12.  2. 43. 44. 63. 60. 25. 53. 26.]\n",
      " [63. 11.  3. 43. 44. 64. 59. 25. 54. 27.]\n",
      " [64. 12.  2. 43. 44. 63. 60. 25. 53. 26.]]\n",
      "\n",
      "[[64. 12.  2. 43. 44. 63. 60. 25. 53. 26.]\n",
      " [64. 12.  2. 43. 44. 63. 60. 25. 53. 26.]\n",
      " [63. 11.  3. 43. 44. 64. 59. 25. 54. 27.]\n",
      " [64. 12.  2. 43. 44. 63. 60. 25. 53. 26.]]\n",
      "\n",
      "[[64. 12.  2. 43. 44. 63. 60. 25. 53. 26.]\n",
      " [64. 12.  2. 43. 44. 63. 60. 25. 53. 26.]\n",
      " [63. 11.  3. 43. 44. 64. 59. 25. 54. 27.]\n",
      " [64. 12.  2. 43. 44. 63. 60. 25. 53. 26.]]\n",
      "\n",
      "[[64. 12.  2. 43. 44. 63. 60. 25. 53. 26.]\n",
      " [64. 12.  2. 43. 44. 63. 60. 25. 53. 26.]\n",
      " [63. 11.  3. 43. 44. 64. 59. 25. 54. 27.]\n",
      " [64. 12.  2. 43. 44. 63. 60. 25. 53. 26.]]\n",
      "\n",
      "[[64. 12.  2. 43. 44. 63. 60. 25. 53. 26.]\n",
      " [64. 12.  2. 43. 44. 63. 60. 25. 53. 26.]\n",
      " [63. 11.  3. 43. 44. 64. 59. 25. 54. 27.]\n",
      " [64. 12.  2. 43. 44. 63. 60. 25. 53. 26.]]\n",
      "\n",
      "[[64. 12.  2. 43. 44. 63. 60. 25. 53. 26.]\n",
      " [64. 12.  2. 43. 44. 63. 60. 25. 53. 26.]\n",
      " [63. 11.  3. 43. 44. 64. 59. 25. 54. 27.]\n",
      " [64. 12.  2. 43. 44. 63. 60. 25. 53. 26.]]\n",
      "\n",
      "[[34. 41. 11. 26. 60. 56.  0. 10. 50. 61.]\n",
      " [34. 42. 11. 26. 59. 55.  0. 10. 50. 62.]\n",
      " [34. 37. 11. 26. 60. 56.  0. 10.  9. 63.]\n",
      " [34. 41. 11. 26. 60. 56.  0. 10. 49. 61.]]\n",
      "\n",
      "[[0. 0. 0. 0. 0. 0. 0. 0. 0. 0.]\n",
      " [0. 0. 0. 0. 0. 0. 0. 0. 0. 0.]\n",
      " [0. 0. 0. 0. 0. 0. 0. 0. 0. 0.]\n",
      " [0. 0. 0. 0. 0. 0. 0. 0. 0. 0.]]\n",
      "\n"
     ]
    }
   ],
   "source": [
    "Pasos = len(P_store[:,0,0])\n",
    "for i_pasos in range(Pasos):\n",
    "    print(P_store[i_pasos,7,:,:10])\n",
    "    print()"
   ]
  },
  {
   "cell_type": "code",
   "execution_count": 25,
   "id": "9f5e15ad-499d-4fd1-a3ad-b9cbcd533f14",
   "metadata": {},
   "outputs": [
    {
     "data": {
      "text/plain": [
       "(160, 15, 4, 224)"
      ]
     },
     "execution_count": 25,
     "metadata": {},
     "output_type": "execute_result"
    }
   ],
   "source": [
    "P_store.shape"
   ]
  },
  {
   "cell_type": "code",
   "execution_count": null,
   "id": "01d898dd-7808-4652-9f49-1b028a0dc894",
   "metadata": {},
   "outputs": [],
   "source": []
  },
  {
   "cell_type": "code",
   "execution_count": null,
   "id": "d8978a63-2fbe-4171-a4cb-fce4f8748645",
   "metadata": {},
   "outputs": [],
   "source": []
  },
  {
   "cell_type": "code",
   "execution_count": null,
   "id": "d31f6187-fb6a-44db-bf4b-6da6d37cc08f",
   "metadata": {},
   "outputs": [],
   "source": []
  },
  {
   "cell_type": "code",
   "execution_count": null,
   "id": "2ef451cf-2bbd-468e-b12c-17f5bc1f6caf",
   "metadata": {},
   "outputs": [],
   "source": []
  },
  {
   "cell_type": "code",
   "execution_count": null,
   "id": "b739e5b2-35dd-4190-bc18-3eec297c261e",
   "metadata": {},
   "outputs": [],
   "source": []
  },
  {
   "cell_type": "code",
   "execution_count": null,
   "id": "ce913c32-ac59-46a0-b3e6-bbbbfaa8ee9a",
   "metadata": {},
   "outputs": [],
   "source": []
  }
 ],
 "metadata": {
  "kernelspec": {
   "display_name": "Python 3 (ipykernel)",
   "language": "python",
   "name": "python3"
  },
  "language_info": {
   "codemirror_mode": {
    "name": "ipython",
    "version": 3
   },
   "file_extension": ".py",
   "mimetype": "text/x-python",
   "name": "python",
   "nbconvert_exporter": "python",
   "pygments_lexer": "ipython3",
   "version": "3.10.12"
  }
 },
 "nbformat": 4,
 "nbformat_minor": 5
}
