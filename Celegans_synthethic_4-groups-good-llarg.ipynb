{
 "cells": [
  {
   "cell_type": "markdown",
   "id": "15283d4d-e5be-4d54-a8d7-66933ff1737c",
   "metadata": {},
   "source": [
    "## Study the dependency on the error\n",
    "\n",
    "In this case we have delete the nodes without connections"
   ]
  },
  {
   "cell_type": "code",
   "execution_count": 1,
   "id": "682a9df1-3f90-4bdd-b571-fdd80db223a2",
   "metadata": {},
   "outputs": [],
   "source": [
    "import itertools\n",
    "import pickle\n",
    "import matplotlib.pyplot as plt\n",
    "import numpy as np\n",
    "import math\n",
    "import random\n",
    "import os\n",
    "import time\n",
    "from numba import jit, njit\n",
    "from numba.types import bool_, int_, float32\n",
    "from math import comb\n",
    "from copy import deepcopy\n",
    "from tqdm import tqdm\n",
    "import networkx as nx\n",
    "import pandas as pd\n",
    "from collections import defaultdict\n",
    "from itertools import permutations"
   ]
  },
  {
   "cell_type": "markdown",
   "id": "a25e3c80-aedb-48ae-b17d-79149eff5872",
   "metadata": {},
   "source": [
    "### DataSet and Group information"
   ]
  },
  {
   "cell_type": "code",
   "execution_count": 2,
   "id": "1cac2d58-276e-4e17-b346-df32b8dcb3b0",
   "metadata": {},
   "outputs": [
    {
     "name": "stdout",
     "output_type": "stream",
     "text": [
      "[0.0, 0.1, 0.2, 0.3, 0.4, 0.5, 0.6]\n",
      "N_probs, N_reps 7 10\n"
     ]
    }
   ],
   "source": [
    "with open(\"def_Celegans_4syn_layers_219_cluster.pkl\", 'rb') as file:\n",
    "    Celegans_syn_layers = pickle.load(file)\n",
    "\n",
    "K = 4\n",
    "dic_A = Celegans_syn_layers\n",
    "probs = list(dic_A.keys())\n",
    "print(probs)\n",
    "N_probs = len(probs)\n",
    "N_reps = dic_A[probs[0]].shape[0]\n",
    "start_groups = np.array([0,65,109,151,180,212])\n",
    "end_groups = np.array([65,109,151,180,212,219])\n",
    "n_groups = len(start_groups)\n",
    "\n",
    "Nx = len(dic_A[probs[0]][0,0,0,:])\n",
    "print('N_probs, N_reps', N_probs, N_reps)"
   ]
  },
  {
   "cell_type": "markdown",
   "id": "296a25f4-4efa-431e-953f-0643d27e07a8",
   "metadata": {},
   "source": [
    "## Functions"
   ]
  },
  {
   "cell_type": "code",
   "execution_count": 3,
   "id": "0e103f33-d366-471f-8e7e-de1b229dc1ee",
   "metadata": {},
   "outputs": [],
   "source": [
    "@jit(nopython=True)\n",
    "def overlap_total_change_filas(m1,L_f_v1v2_old,L_c_v1v2_old,L_f_v1v2,L_c_v1v2,A_f, P_inv_old, i_change, j_change,pp1, pp2): \n",
    "\n",
    "    Nx = L_f_v1v2_old.shape[1]\n",
    "    K = A_f.shape[0]\n",
    "    \n",
    "    ovlp_0_new , ovlp_1_new = 0,0\n",
    "    ovlp_0_old , ovlp_1_old = 0,0\n",
    "    ovlp_0_dif, ovlp_1_dif = 0,0\n",
    "  \n",
    "    #old and new: changes and mapping changes\n",
    "    changes = np.array([i_change, j_change], dtype = np.int32)\n",
    "    changes_p = np.array([pp1, pp2], dtype = np.int32)  \n",
    "    changes_old = np.array([j_change, i_change], dtype = np.int32)\n",
    "    changes_p_old = np.array([pp2, pp1], dtype = np.int32)\n",
    "    \n",
    "    for i_k in range(K):\n",
    "        for i_chan,change in enumerate(changes):\n",
    "            for i_x in range(Nx):\n",
    "                if (i_k != m1): # Only changes in the networks m1\n",
    "                    p_f = int(P_inv_old[i_k,change])\n",
    "                    p_c = int(P_inv_old[i_k,i_x])\n",
    "                    p_old, p_old_c = p_f, p_c\n",
    "                \n",
    "                else:\n",
    "                    p_f = changes_p[i_chan]\n",
    "                    p_old = changes_p_old[i_chan]\n",
    "                    if (i_x == i_change):\n",
    "                        p_c = pp1\n",
    "                        p_old_c = pp2\n",
    "                    elif(i_x == j_change):\n",
    "                        p_c = pp2\n",
    "                        p_old_c = pp1\n",
    "                    else: # Only changes in the nodes i,j\n",
    "                        p_c = int(P_inv_old[i_k, i_x])\n",
    "                        p_old_c = p_c\n",
    "\n",
    "                ## rows\n",
    "                valor_L_old, valor_A_old = L_f_v1v2_old[i_chan,i_x], A_f[i_k,p_old,p_old_c]   \n",
    "                valor_L_new, valor_A_new = L_f_v1v2[i_chan,i_x], A_f[i_k,p_f,p_c]\n",
    "                ## columns\n",
    "                valor_L_old_c, valor_A_old_c = 0,0\n",
    "                valor_L_new_c, valor_A_new_c = 0,0\n",
    "                column = 0        \n",
    "                if (i_x not in changes):\n",
    "                    column = 1\n",
    "                    valor_L_old_c, valor_A_old_c = L_c_v1v2_old[i_chan,i_x],A_f[i_k,p_old_c, p_old]\n",
    "                    valor_L_new_c, valor_A_new_c = L_c_v1v2[i_chan,i_x], A_f[i_k,p_c,p_f]\n",
    "\n",
    "                ovlp_1_old = ovlp_1_old + valor_L_old*valor_A_old + valor_L_old_c*valor_A_old_c*column\n",
    "                ovlp_0_old = ovlp_0_old + (1-valor_L_old)*(1-valor_A_old) + (1-valor_L_old_c)*(1-valor_A_old_c)*column\n",
    "                \n",
    "                ovlp_1_new = ovlp_1_new + valor_L_new*valor_A_new + valor_L_new_c*valor_A_new_c*column\n",
    "                ovlp_0_new = ovlp_0_new + (1-valor_L_new)*(1-valor_A_new) + (1-valor_L_new_c)*(1-valor_A_new_c)*column\n",
    "                \n",
    "    ovlp_1_def = ovlp_1_new - ovlp_1_old\n",
    "    ovlp_0_def = ovlp_0_new- ovlp_0_old\n",
    "   \n",
    "    return ovlp_0_def, ovlp_1_def\n"
   ]
  },
  {
   "cell_type": "code",
   "execution_count": 4,
   "id": "e92eb03d-7123-46c5-bc9f-24088201375c",
   "metadata": {},
   "outputs": [],
   "source": [
    "### Some functions that numba do not have\n",
    "@njit\n",
    "def concatenate_numba_sinrep(a,b):\n",
    "    size_a, size_b = len(a), len(b)\n",
    "    no_double = []\n",
    "    for i_b in range(size_b):\n",
    "        if b[i_b] in a:\n",
    "            size_b = size_b-1\n",
    "        else:\n",
    "            no_double.append(b[i_b])\n",
    "    size = size_a + size_b\n",
    "    c = np.zeros((size))\n",
    "    c[0:size_a] = a\n",
    "    c[size_a:] = no_double\n",
    "    \n",
    "    return a\n",
    "\n",
    "@njit\n",
    "def concatenate_numba(a,b):\n",
    "    size_a, size_b = len(a), len(b)\n",
    "    size = size_a + size_b\n",
    "    c = np.zeros((size))\n",
    "    c[0:size_a] = a\n",
    "    c[size_a:] = b \n",
    "    \n",
    "    return c\n",
    "\n",
    "@njit\n",
    "def sum_numba(S):\n",
    "    Nx = S.shape[0]\n",
    "    Ny = S.shape[1]\n",
    "    \n",
    "    suma = 0\n",
    "    for i_s in range(Nx):\n",
    "        suma = suma + sum(S[i_s,:])\n",
    "        \n",
    "    return suma\n",
    "@njit\n",
    "def sum_numba_filas(S): # 2 dimensions\n",
    "    Nx = S.shape[0]\n",
    "    Ny = S.shape[1]\n",
    "    suma = np.zeros((Nx))\n",
    "    for i_s in range(Nx):\n",
    "        suma_c = 0 # sum of the column\n",
    "        for i_y in range(Ny):\n",
    "            suma[i_s] = suma_c + S[i_y,i_s] \n",
    "        \n",
    "    return suma\n",
    "\n"
   ]
  },
  {
   "cell_type": "code",
   "execution_count": 5,
   "id": "96ff67d9-4510-44b3-a150-d247f45ee1a7",
   "metadata": {},
   "outputs": [],
   "source": [
    "@jit(nopython = True)\n",
    "def hamiltonian_prob(Edges_NoL, Edges_L, overlap_0, overlap_1, alpha, beta):\n",
    "\n",
    "    A_1 = overlap_1 + alpha\n",
    "    B_1 = (Edges_L - overlap_1 + beta)\n",
    "    C_1 = Edges_L + alpha + beta\n",
    "    \n",
    "    A_0 = overlap_0 + alpha\n",
    "    B_0 = (Edges_NoL - overlap_0 + beta)\n",
    "    C_0 = Edges_NoL + alpha + beta\n",
    "    \n",
    "    #  [ math.lgamma(n+1) == log(n!) ]\n",
    "    H1 = math.lgamma(A_1)+ math.lgamma(B_1) - math.lgamma(C_1) \n",
    "    H0 = math.lgamma(A_0)+ math.lgamma(B_0) - math.lgamma(C_0) \n",
    "    \n",
    "    H = -(H1 + H0)\n",
    "    return H\n",
    "    \n",
    "    \n",
    "@jit(nopython=True)\n",
    "def overlap_total_prob(L_f, A_f, P_inv_f):\n",
    "    Nx = L_f.shape[0]\n",
    "    Ny = L_f.shape[1]\n",
    "    K = A_f.shape[0]\n",
    "    \n",
    "    ovlp_0 = np.zeros((K))\n",
    "    ovlp_1 = np.zeros((K))\n",
    "    for k in range(0,K):\n",
    "        for f in range(0,Ny): \n",
    "            for c in range(0,Nx):\n",
    "                p_f=int(P_inv_f[k,f])\n",
    "                p_c=int(P_inv_f[k,c])  \n",
    "                \n",
    "                valor_L, valor_A = L_f[f,c], A_f[k,p_f,p_c]\n",
    "                \n",
    "                ovlp_0[k] = ovlp_0[k] + (1-valor_L)*(1-valor_A )\n",
    "                ovlp_1[k] = ovlp_1[k] + valor_L*valor_A\n",
    "                \n",
    "                \n",
    "    ovlp_1 = int(sum(ovlp_1))\n",
    "    ovlp_0 = int(sum(ovlp_0))\n",
    "    return ovlp_0, ovlp_1\n",
    "\n",
    "\n",
    "@jit(nopython=True) # The blueprint is the average of the observations (taking into account the mapping)  \n",
    "def L_wiring(A_f, P_inv_f):\n",
    "    \n",
    "    Nx = A_f.shape[1]\n",
    "    Ny = A_f.shape[2]\n",
    "    K = A_f.shape[0]\n",
    "    L_new_f = np.zeros((Nx,Ny))\n",
    "    \n",
    "    for i in range(0,Nx):\n",
    "        for j in range(0,Ny):\n",
    "            for k in range(0,K):\n",
    "        \n",
    "                p1 = int(P_inv_f[k,i]) # Mapping of the observations\n",
    "                p2 = int(P_inv_f[k,j]) # Mapping of the observations\n",
    "                L_new_f[i,j] += A_f[k,p1,p2]\n",
    "            valor_lnew=1/K* L_new_f[i,j]\n",
    "            L_new_f[i,j] = round( valor_lnew ) \n",
    "            # If valor_lnew = 0, L=0 (we could establish L=1, but it is more probable to not have a connection)\n",
    "    \n",
    "    return L_new_f\n",
    "\n",
    "\n",
    "#### Some algorithm for sorting\n",
    "@jit(nopython=True)\n",
    "def partition(array,  etiquetas, begin, end):\n",
    "    pivot = begin\n",
    "    for i in range(begin+1, end+1):\n",
    "        if array[i] < array[begin]:\n",
    "            pivot += 1\n",
    "            array[i], array[pivot] = array[pivot], array[i]\n",
    "            etiquetas[i], etiquetas[pivot] = etiquetas[pivot], etiquetas[i]\n",
    "    array[pivot], array[begin] = array[begin], array[pivot]\n",
    "    etiquetas[pivot], etiquetas[begin] = etiquetas[begin], etiquetas[pivot] \n",
    "\n",
    "    return pivot\n",
    "@jit(nopython=True)\n",
    "def quicksort(array, etiquetas, begin=0, end=None):\n",
    "    if end is None:\n",
    "        end = len(array) - 1\n",
    "    if begin >= end: #To end\n",
    "        return\n",
    "    pivot = partition(array,  etiquetas, begin, end)\n",
    "    \n",
    "    #Order right and left\n",
    "    quicksort(array, etiquetas, begin, pivot-1)\n",
    "    quicksort(array,  etiquetas, pivot+1, end)\n",
    "    \n",
    "@njit \n",
    "# We inizialise the algorithm sorting by node degree, but also taking into account the group labels\n",
    "def permu_groups(L_f, A_f, start_f): \n",
    "    Nx = L_f.shape[0]\n",
    "    Ny = L_f.shape[1]\n",
    "    K = A_f.shape[0]\n",
    "    N_groups = len(start_f)\n",
    "    \n",
    "    \n",
    "    # Mappings\n",
    "    P_f = np.zeros((K,Nx)) #Mapping from L to A\n",
    "    P_inv_f = np.zeros((K,Nx)) #Mapping from A to L\n",
    "    P_new = np.zeros((K,Nx))\n",
    "    \n",
    "    # First we order the blueprint and after the observations\n",
    "    # Blueprint:\n",
    "    orden_L=np.zeros((Nx))\n",
    "    for i in range(Nx):\n",
    "        b=np.nonzero(L_f[i,:])\n",
    "        orden_L[i] = b[0].size\n",
    "        \n",
    "    array_L = np.arange(Nx) #For the labels \n",
    "    quicksort(orden_L, array_L)\n",
    "    \n",
    "    # Now according to the group label\n",
    "    array_L_labels = np.zeros((Nx))\n",
    "    group_number = np.zeros((N_groups))\n",
    "    for i in range(Nx):\n",
    "        n_type = 0\n",
    "        #Group\n",
    "        while ( (array_L[i] >= start_f[n_type]) and (n_type < N_groups)):\n",
    "            n_type += 1\n",
    "       \n",
    "        grupo = int(n_type-1)\n",
    "        g = int(start_f[grupo])\n",
    "        array_L_labels[g + int(group_number[grupo])] = array_L[i]\n",
    "        group_number[grupo] += 1\n",
    "\n",
    "    #Observations: \n",
    "    for i in range(0,K):\n",
    "        orden_A = np.zeros((Nx))\n",
    "        for i_orden in range(Nx):\n",
    "            b = np.nonzero(A_f[i,i_orden,:])\n",
    "            orden_A[i_orden] = b[0].size\n",
    "\n",
    "        array_A = np.arange(Nx) #For the labels \n",
    "        quicksort(orden_A, array_A)\n",
    "            \n",
    "        # Now according to the group label\n",
    "        array_A_labels = np.zeros((Nx))\n",
    "        group_number = np.zeros((N_groups))\n",
    "        \n",
    "        for i_g in range(Nx):\n",
    "            n_type = 0\n",
    "            while ( (array_A[i_g] >= start_f[n_type]) and (n_type < N_groups) ):\n",
    "                n_type += 1\n",
    "\n",
    "            grupo = int(n_type-1)\n",
    "            g = int(start_f[grupo])\n",
    "            array_A_labels[ g + int(group_number[grupo])] = array_A[i_g]\n",
    "            group_number[grupo] += 1\n",
    "    \n",
    "\n",
    "    # Now ordered together both label array  array_L = [0,1,2,3...]\n",
    "        array_A_labels = array_A_labels[np.argsort(array_L_labels)]\n",
    "        P_f[i,:] = array_A_labels\n",
    "        \n",
    "        for i_inv in range(0,Nx):\n",
    "            for j_inv in range(0,Ny):\n",
    "                if (P_f[i,i_inv] == j_inv):\n",
    "                    P_inv_f[i, j_inv]=i_inv\n",
    "    \n",
    "    P_todo = np.zeros((2,K,Nx))\n",
    "    P_todo[0,:,:] = P_f.copy() \n",
    "    P_todo[1,:,:] = P_inv_f.copy()\n",
    "\n",
    "    return P_todo\n",
    "\n",
    "@njit \n",
    "# We inizialise the algorithm sorting by node degree, but also taking into account the group labels\n",
    "def permu_groups_random(A_f, start_f, end_f): \n",
    "    Nx = A_f.shape[1]\n",
    "    K = A_f.shape[0]\n",
    "    n_groups = len(start_f)\n",
    "    # Mappings\n",
    "    P_f = np.zeros((K, Nx), dtype=np.int64)  # Mapping from L to A\n",
    "    P_inv_f = np.zeros((K, Nx), dtype=np.int64)  # Mapping from A to L\n",
    "    \n",
    "    for i_g in range(n_groups):\n",
    "        s, e = start_f[i_g], end_f[i_g]\n",
    "        for i_k in range(K):\n",
    "            vector = np.arange(s, e)\n",
    "            np.random.shuffle(vector)  # Use numpy's shuffle function\n",
    "            P_f[i_k, s:e] = vector\n",
    "    \n",
    "    # Compute inverse permutation\n",
    "    for i_k in range(K):\n",
    "        P_inv_f[i_k] = np.argsort(P_f[i_k])\n",
    "    \n",
    "    P_todo = np.stack((P_f, P_inv_f))\n",
    "    return P_todo\n"
   ]
  },
  {
   "cell_type": "code",
   "execution_count": 6,
   "id": "e8ed3c77-d49b-47d7-8783-300f4582b7d3",
   "metadata": {},
   "outputs": [],
   "source": [
    "def ground_state(A,K,Nx, alpha, beta):\n",
    "    P_new, P_inv_new = np.zeros((K,Nx)),np.zeros((K,Nx))\n",
    "    for k in range(0,K):\n",
    "        for i in range(0,Nx):\n",
    "            P_new[k,i]=i \n",
    "            P_inv_new[k,i]=i            \n",
    "    L_new = np.zeros((Nx,Nx))\n",
    "    L_new =  L_wiring(A, P_inv_new)\n",
    "    \n",
    "    Edges_sum = K*Nx*Nx\n",
    "    Edges_L = K*(sum(sum(L_new))) # Los edges=1 que tiene la matriz A\n",
    "    Edges_NoL = Edges_sum - Edges_L #Los edges=0 que tiene la matriz A\n",
    "    overlap_0, overlap_1 = overlap_total_prob(L_new,A,P_inv_new)\n",
    "    \n",
    "    Energy_new = hamiltonian_prob(Edges_NoL, Edges_L, overlap_0, overlap_1, alpha, beta)\n",
    "\n",
    "    return P_new, P_inv_new, L_new, Energy_new"
   ]
  },
  {
   "cell_type": "code",
   "execution_count": 7,
   "id": "40ba4918-2048-4fd9-9133-cfd7203bca3e",
   "metadata": {},
   "outputs": [],
   "source": [
    "\n",
    "def initialization_random(A, start_groups,end_groups, K, Nx, N_t, tempers, alpha, beta):\n",
    "    \n",
    "    L_ini = A[0,:,:].copy() ## Inicialize to compute permutation ranked by node degree\n",
    "    # P_inis = permu_groups(L_ini, A, start_groups)\n",
    "    P_inis = permu_groups_random(A, start_groups, end_groups)\n",
    "    P_inis = P_inis.astype(int)\n",
    "    P_ini_0 = (P_inis[0,:,:]).copy() # Mapping L to A\n",
    "    P_inv_ini_0 = (P_inis[1,:,:]).copy() # Mapping A to L\n",
    "    ## Inizialitation of the system for each temperature, with the same mappings\n",
    "    P_ini_t = np.zeros((N_t,K,Nx))\n",
    "    P_inv_ini_t = np.zeros((N_t,K,Nx))\n",
    "    L_ini_t = np.zeros((N_t,Nx,Nx)) \n",
    "    groups_ini_t = np.zeros((N_t, K, Nx ))\n",
    "    n_groups = len(start_groups)\n",
    "\n",
    "    groups_ini = np.zeros((K,Nx)) #Groups label\n",
    "    for m1 in range(K):\n",
    "        for i_g in range(n_groups):\n",
    "            start = start_groups[i_g]\n",
    "            end = end_groups[i_g]\n",
    "            groups_ini[m1, start:end] = i_g\n",
    "    \n",
    "        \n",
    "    \n",
    "    for i in range(0,N_t): \n",
    "        P_ini_t[i,:,:] = P_ini_0[:,:].copy()\n",
    "        P_inv_ini_t[i,:,:] = P_inv_ini_0[:,:].copy()\n",
    "        L_ini_t[i,:,:] = L_ini.copy()\n",
    "        groups_ini_t[i,:,:] = groups_ini.copy()\n",
    "    P_t = np.zeros((N_t,K,Nx))\n",
    "    P_inv_t = np.zeros((N_t,K,Nx))\n",
    "    L_t = np.zeros((N_t,Nx, Nx))\n",
    "\n",
    "    P_t = (P_ini_t).copy()\n",
    "    P_inv_t = (P_inv_ini_t).copy()\n",
    "    groups_t = groups_ini_t.copy()\n",
    "\n",
    "\n",
    "    Energy_t, Energy_ini_t = np.zeros((N_t)), np.zeros((N_t))\n",
    "    Edges_L_t, Edges_NoL_t = np.zeros((N_t)), np.zeros((N_t))\n",
    "    ovlp_t0, ovlp_t1 = np.zeros((N_t)) , np.zeros((N_t)) \n",
    "    suma_L_t = np.zeros(N_t)\n",
    "\n",
    "    ovlp_t0, ovlp_t1 = ovlp_t0.astype(int), ovlp_t1.astype(int)\n",
    "    P_t = P_t.astype(int)\n",
    "    P_inv_t = P_inv_t.astype(int)\n",
    "    L_t = L_t.astype(int)\n",
    "    groups_t = groups_t.astype(int)\n",
    "    \n",
    "    #### Now the Blueprint is averaged\n",
    "    Edges_sum = K*Nx*Nx\n",
    "    for k_nt in range(N_t):\n",
    "        L_t[k_nt,:,:] =  L_wiring(A, P_inv_t[k_nt,:,:])\n",
    "        Edges_L_t[k_nt] = K*sum(sum(L_t[k_nt,:,:]))\n",
    "        Edges_NoL_t[k_nt] = Edges_sum - Edges_L_t[k_nt]\n",
    "        overlap_0, overlap_1 = overlap_total_prob(L_t[k_nt,:,:],A,P_inv_t[k_nt,:,:])\n",
    "        Energy_t[k_nt] = hamiltonian_prob(Edges_NoL_t[k_nt], Edges_L_t[k_nt], overlap_0, overlap_1,alpha, beta)\n",
    "        ovlp_t0[k_nt], ovlp_t1[k_nt] = overlap_0, overlap_1\n",
    "        suma_L_t[k_nt] = sum_numba(L_t[k_nt,:,:])\n",
    "    \n",
    "\n",
    "    \n",
    "    return P_t, P_inv_t, L_t, Edges_L_t,Edges_NoL_t, Energy_t, ovlp_t0,ovlp_t1, suma_L_t,groups_t "
   ]
  },
  {
   "cell_type": "code",
   "execution_count": 8,
   "id": "5bc35f1e-153b-40f1-8ead-36881b692eb3",
   "metadata": {},
   "outputs": [],
   "source": [
    "def initialization(A, start_groups,end_groups, K, Nx, N_t, tempers, alpha, beta):\n",
    "    \n",
    "    L_ini = A[0,:,:].copy() ## Inicialize to compute permutation ranked by node degree\n",
    "    P_inis = permu_groups(L_ini, A, start_groups)\n",
    "    # P_inis = permu_groups_random(A, start_groups, end_groups)\n",
    "    P_inis = P_inis.astype(int)\n",
    "    P_ini_0 = (P_inis[0,:,:]).copy() # Mapping L to A\n",
    "    P_inv_ini_0 = (P_inis[1,:,:]).copy() # Mapping A to L\n",
    "    ## Inizialitation of the system for each temperature, with the same mappings\n",
    "    P_ini_t = np.zeros((N_t,K,Nx))\n",
    "    P_inv_ini_t = np.zeros((N_t,K,Nx))\n",
    "    L_ini_t = np.zeros((N_t,Nx,Nx)) \n",
    "    groups_ini_t = np.zeros((N_t, K, Nx ))\n",
    "    n_groups = len(start_groups)\n",
    "\n",
    "    groups_ini = np.zeros((K,Nx)) #Groups label\n",
    "    for m1 in range(K):\n",
    "        for i_g in range(n_groups):\n",
    "            start = start_groups[i_g]\n",
    "            end = end_groups[i_g]\n",
    "            groups_ini[m1, start:end] = i_g\n",
    "    \n",
    "        \n",
    "    \n",
    "    for i in range(0,N_t): \n",
    "        P_ini_t[i,:,:] = P_ini_0[:,:].copy()\n",
    "        P_inv_ini_t[i,:,:] = P_inv_ini_0[:,:].copy()\n",
    "        L_ini_t[i,:,:] = L_ini.copy()\n",
    "        groups_ini_t[i,:,:] = groups_ini.copy()\n",
    "    P_t = np.zeros((N_t,K,Nx))\n",
    "    P_inv_t = np.zeros((N_t,K,Nx))\n",
    "    L_t = np.zeros((N_t,Nx, Nx))\n",
    "\n",
    "    P_t = (P_ini_t).copy()\n",
    "    P_inv_t = (P_inv_ini_t).copy()\n",
    "    groups_t = groups_ini_t.copy()\n",
    "\n",
    "\n",
    "    Energy_t, Energy_ini_t = np.zeros((N_t)), np.zeros((N_t))\n",
    "    Edges_L_t, Edges_NoL_t = np.zeros((N_t)), np.zeros((N_t))\n",
    "    ovlp_t0, ovlp_t1 = np.zeros((N_t)) , np.zeros((N_t)) \n",
    "    suma_L_t = np.zeros(N_t)\n",
    "\n",
    "    ovlp_t0, ovlp_t1 = ovlp_t0.astype(int), ovlp_t1.astype(int)\n",
    "    P_t = P_t.astype(int)\n",
    "    P_inv_t = P_inv_t.astype(int)\n",
    "    L_t = L_t.astype(int)\n",
    "    groups_t = groups_t.astype(int)\n",
    "    \n",
    "    #### Now the Blueprint is averaged\n",
    "    Edges_sum = K*Nx*Nx\n",
    "    for k_nt in range(N_t):\n",
    "        L_t[k_nt,:,:] =  L_wiring(A, P_inv_t[k_nt,:,:])\n",
    "        Edges_L_t[k_nt] = K*sum(sum(L_t[k_nt,:,:]))\n",
    "        Edges_NoL_t[k_nt] = Edges_sum - Edges_L_t[k_nt]\n",
    "        overlap_0, overlap_1 = overlap_total_prob(L_t[k_nt,:,:],A,P_inv_t[k_nt,:,:])\n",
    "        Energy_t[k_nt] = hamiltonian_prob(Edges_NoL_t[k_nt], Edges_L_t[k_nt], overlap_0, overlap_1,alpha, beta)\n",
    "        ovlp_t0[k_nt], ovlp_t1[k_nt] = overlap_0, overlap_1\n",
    "        suma_L_t[k_nt] = sum_numba(L_t[k_nt,:,:])\n",
    "    \n",
    "\n",
    "    \n",
    "    return P_t, P_inv_t, L_t, Edges_L_t,Edges_NoL_t, Energy_t, ovlp_t0,ovlp_t1, suma_L_t,groups_t "
   ]
  },
  {
   "cell_type": "code",
   "execution_count": 9,
   "id": "0ae57ff8-6a50-4c59-87ff-4a03653509c6",
   "metadata": {},
   "outputs": [],
   "source": [
    "def initialization_continuation(A, P_inv_t, start_groups,end_groups, K, Nx, N_t, tempers, alpha, beta):\n",
    "    \n",
    "    \n",
    "    ## recalculo la L_t\n",
    "    P_inv_ini = P_inv_t.copy()\n",
    "    L_ini = np.zeros((N_t, Nx, Nx))\n",
    "    P_ini = np.zeros((P_inv_t.shape))\n",
    "    Edges_L_ini, Edges_NoL_ini = np.zeros((N_t)), np.zeros((N_t))\n",
    "    Energy_ini, suma_L_ini = np.zeros((N_t)), np.zeros((N_t))\n",
    "    overlap_0_ini, overlap_1_ini = np.zeros((N_t)), np.zeros((N_t))\n",
    "    for k_nt in range(N_t):\n",
    "        for i_k in range(K):\n",
    "            P_ini[k_nt, i_k,:] = np.argsort(P_inv_ini[k_nt, i_k,:])\n",
    "\n",
    "        L_ini[k_nt, :,:] =  L_wiring(A,P_inv_ini[k_nt, :,:])\n",
    "\n",
    "        Edges_sum = K*Nx*Nx\n",
    "        Edges_L_ini[k_nt] = K*(sum(sum(L_ini[k_nt, :,:]))) # Los edges=1 que tiene la matriz A\n",
    "        Edges_NoL_ini[k_nt] = Edges_sum - Edges_L_ini[k_nt] #Los edges=0 que tiene la matriz A\n",
    "        overlap_0_ini[k_nt], overlap_1_ini[k_nt] = overlap_total_prob(L_ini[k_nt, :,:],A,P_inv_ini[k_nt, :,:])     \n",
    "        Energy_ini[k_nt] = hamiltonian_prob(Edges_NoL_ini[k_nt], Edges_L_ini[k_nt], overlap_0_ini[k_nt], overlap_1_ini[k_nt], alpha, beta)\n",
    "        suma_L_ini[k_nt] = sum_numba(L_ini[k_nt,:,:])\n",
    "    \n",
    "    \n",
    "    groups_ini = np.zeros((N_t, K, Nx ))\n",
    "    for m1 in range(K):\n",
    "        for i_g in range(n_groups):\n",
    "            start = start_groups[i_g]\n",
    "            end = end_groups[i_g]\n",
    "            groups_ini[:,m1, start:end] = i_g\n",
    "    \n",
    "    overlap_0_ini, overlap_1_ini = overlap_0_ini.astype(int), overlap_1_ini.astype(int)\n",
    "    P_ini = P_ini.astype(int)\n",
    "    P_inv_ini = P_inv_ini.astype(int)\n",
    "    L_ini = L_ini.astype(int)\n",
    "    groups_ini = groups_ini.astype(int)\n",
    "    \n",
    "    return P_ini, P_inv_ini, L_ini, Edges_L_ini,Edges_NoL_ini, Energy_ini, overlap_0_ini, overlap_1_ini,suma_L_ini, groups_ini\n"
   ]
  },
  {
   "cell_type": "code",
   "execution_count": 10,
   "id": "1144ce79-7cc0-400b-91df-811d28e85971",
   "metadata": {},
   "outputs": [],
   "source": [
    "def variable_store(PasosMC,Pasos_store,N_epochs, N_t, K, Nx):\n",
    "    energies_pasos = np.zeros((N_epochs,N_t,PasosMC))\n",
    "    P_store = np.zeros((N_epochs,Pasos_store,N_t, K, Nx))\n",
    "    Energy_store = np.zeros((N_epochs,Pasos_store, N_t))\n",
    "    L_store = np.zeros((N_epochs,Pasos_store,N_t, Nx, Nx))\n",
    "    return energies_pasos, P_store,L_store, Energy_store\n",
    "    "
   ]
  },
  {
   "cell_type": "code",
   "execution_count": 11,
   "id": "27120e99-87e5-444c-bd2e-a329e7ef15d3",
   "metadata": {},
   "outputs": [],
   "source": [
    "@jit(nopython=True)\n",
    "def L_wiring_change_filas(m1,L_old,A_f, i_change, j_change, P_inv_old):\n",
    "    \n",
    "    Nx = A_f.shape[1]\n",
    "    K = A_f.shape[0] \n",
    "    \n",
    "    L_new_f = L_old.copy()\n",
    "    L_f_v1v2,L_c_v1v2  = np.zeros((2,Nx)),np.zeros((2,Nx))\n",
    "    \n",
    "    ## changes\n",
    "    changes = np.array([i_change, j_change])\n",
    "    changes_new = np.array([j_change, i_change])\n",
    "    \n",
    "    ## Old values\n",
    "    suma_old =(np.sum(L_old[i_change,:]) + np.sum(L_old[j_change,:]) + np.sum(L_old[:,i_change]) + np.sum(L_old[:,j_change]))-L_old[i_change,j_change]-L_old[j_change,j_change]-L_old[i_change,i_change]-L_old[j_change,i_change]\n",
    "    \n",
    "    ## New row and column\n",
    "    L_new_f[i_change,:], L_new_f[j_change,:], L_new_f[:,i_change], L_new_f[:,j_change] = np.zeros(Nx),np.zeros(Nx),np.zeros(Nx),np.zeros(Nx)\n",
    "    \n",
    "\n",
    "    suma_1 = 0\n",
    "    \n",
    "    for i_i,i_chan in enumerate(changes): #Only looking at the \n",
    "        ############### ROWS & COLUMNS\n",
    "        for i_x in range(Nx):\n",
    "            if (i_x in changes): # The rest of nodes\n",
    "                for k in range(K):\n",
    "                    if (k == m1):\n",
    "                        chan_new = changes_new[i_i]\n",
    "                        \n",
    "                        if (i_x == changes_new[0]):\n",
    "                            p2_2 = int(P_inv_old[k,changes_new[1]])\n",
    "                        else:\n",
    "                            p2_2 = int(P_inv_old[k,changes_new[0]])\n",
    "                    else:\n",
    "                        chan_new = changes[i_i]\n",
    "                        p2_2 = int(P_inv_old[k,i_x])\n",
    "                    p1_2 = int (P_inv_old[k,chan_new])\n",
    "\n",
    "                    L_f_v1v2[i_i,i_x] += A_f[k,p1_2,p2_2]\n",
    "                    L_c_v1v2[i_i,i_x] += A_f[k,p2_2,p1_2]\n",
    "\n",
    "            else: # The nodes that change\n",
    "                for k in range(K):\n",
    "                    if (k == m1):\n",
    "                        chan_new = changes_new[i_i]\n",
    "                    else:\n",
    "                        chan_new = changes[i_i]\n",
    "                    \n",
    "                    \n",
    "                    p1_2 = int (P_inv_old[k,chan_new])\n",
    "                    p2_2 = int(P_inv_old[k,i_x])\n",
    "                    \n",
    "                    L_f_v1v2[i_i,i_x] += A_f[k,p1_2,p2_2]\n",
    "                    L_c_v1v2[i_i,i_x] += A_f[k,p2_2,p1_2]\n",
    "                    \n",
    "                    \n",
    "                    \n",
    "            valor_lnew_2=1/K*  L_f_v1v2[i_i,i_x]\n",
    "            L_f_v1v2[i_i,i_x] = round( valor_lnew_2 )\n",
    "\n",
    "            valor_lnew_c=1/K* L_c_v1v2[i_i,i_x]\n",
    "            L_c_v1v2[i_i,i_x] = round( valor_lnew_c)\n",
    "                    \n",
    "    suma_new = np.sum(L_f_v1v2[0,:]) + np.sum(L_f_v1v2[1,:]) + np.sum(L_c_v1v2[0,:]) + np.sum(L_c_v1v2[1,:])-L_c_v1v2[0,j_change]-L_c_v1v2[0,i_change]-L_c_v1v2[1,j_change]-L_c_v1v2[1,i_change]\n",
    "    suma_1 = suma_new - suma_old\n",
    "    return L_f_v1v2,L_c_v1v2, suma_1    \n"
   ]
  },
  {
   "cell_type": "code",
   "execution_count": 12,
   "id": "2b75b7fa-9cac-492c-a667-9d807ffa8c6d",
   "metadata": {},
   "outputs": [],
   "source": [
    "@jit(nopython=True)\n",
    "def L_wiring_overlap_change_filas(m1,L_f_v1v2_old,L_c_v1v2_old,A_f, i_change, j_change, P_inv_old, pp1, pp2):\n",
    "    \n",
    "    Nx = A_f.shape[1]\n",
    "    K = A_f.shape[0] \n",
    "\n",
    "    #### Para la parte del WIRING    \n",
    "    L_f_v1v2,L_c_v1v2  = np.zeros((2,Nx)),np.zeros((2,Nx))\n",
    "    \n",
    "    ## changes\n",
    "    changes = np.array([i_change, j_change])\n",
    "    changes_new = np.array([j_change, i_change])\n",
    "    \n",
    "    ## Old values\n",
    "    suma_old =(np.sum(L_f_v1v2_old[0,:]) + np.sum(L_f_v1v2_old[1,:]) + np.sum(L_c_v1v2_old[0,:]) + np.sum(L_c_v1v2_old[1,:]))-L_f_v1v2_old[0,j_change]-L_f_v1v2_old[1,j_change]-L_f_v1v2_old[0,i_change]-L_f_v1v2_old[1,i_change]\n",
    "    \n",
    "    ## New row and column\n",
    "    ##### Para la parte del OVERLAP\n",
    "    ovlp_0_new , ovlp_1_new = 0,0\n",
    "    ovlp_0_old , ovlp_1_old = 0,0\n",
    "    ovlp_0_dif, ovlp_1_dif = 0,0\n",
    "    changes_p = np.array([pp1, pp2], dtype = np.int32)  \n",
    "    changes_p_old = np.array([pp2, pp1], dtype = np.int32)\n",
    "    suma_1 = 0\n",
    "    \n",
    "    for i_i,i_chan in enumerate(changes): #Only looking at the \n",
    "        ############### ROWS & COLUMNS\n",
    "        for i_x in range(Nx):\n",
    "            if (i_x in changes): # The rest of nodes\n",
    "                for k in range(K):\n",
    "                    if (k == m1):\n",
    "                        chan_new = changes_new[i_i]\n",
    "                        \n",
    "                        if (i_x == changes_new[0]):\n",
    "                            p2_2 = int(P_inv_old[k,changes_new[1]])\n",
    "                        else:\n",
    "                            p2_2 = int(P_inv_old[k,changes_new[0]])\n",
    "                    else:\n",
    "                        chan_new = changes[i_i]\n",
    "                        p2_2 = int(P_inv_old[k,i_x])\n",
    "                    p1_2 = int (P_inv_old[k,chan_new])\n",
    "\n",
    "                    L_f_v1v2[i_i,i_x] += A_f[k,p1_2,p2_2]\n",
    "                    L_c_v1v2[i_i,i_x] += A_f[k,p2_2,p1_2]\n",
    "\n",
    "            else: # The nodes that change\n",
    "                for k in range(K):\n",
    "                    if (k == m1):\n",
    "                        chan_new = changes_new[i_i]\n",
    "                    else:\n",
    "                        chan_new = changes[i_i]\n",
    "                    \n",
    "                    \n",
    "                    p1_2 = int (P_inv_old[k,chan_new])\n",
    "                    p2_2 = int(P_inv_old[k,i_x])\n",
    "                    \n",
    "                    L_f_v1v2[i_i,i_x] += A_f[k,p1_2,p2_2]\n",
    "                    L_c_v1v2[i_i,i_x] += A_f[k,p2_2,p1_2]\n",
    "                    \n",
    "                    \n",
    "                    \n",
    "            valor_lnew_2=1/K*  L_f_v1v2[i_i,i_x]\n",
    "            L_f_v1v2[i_i,i_x] = round( valor_lnew_2 )\n",
    "\n",
    "            valor_lnew_c=1/K* L_c_v1v2[i_i,i_x]\n",
    "            L_c_v1v2[i_i,i_x] = round( valor_lnew_c)\n",
    "                    \n",
    "            ## Una vez que tenemos los valores de la L podemos mirar el overlap!\n",
    "            for i_k in range(K):\n",
    "                if i_k != m1: # Only changes in m1\n",
    "                    p_f = int(P_inv_old[i_k,i_chan])\n",
    "                    p_c = int(P_inv_old[i_k,i_x])\n",
    "                    p_old, p_old_c = p_f, p_c\n",
    "                else:\n",
    "                    p_f = changes_p[i_i]\n",
    "                    p_old = changes_p_old[i_i]\n",
    "                    if (i_x == i_change):\n",
    "                        p_c = pp1\n",
    "                        p_old_c = pp2\n",
    "                    elif(i_x == j_change):\n",
    "                        p_c = pp2\n",
    "                        p_old_c = pp1\n",
    "                    else: # Only changes in the nodes i,j\n",
    "                        p_c = int(P_inv_old[i_k, i_x])\n",
    "                        p_old_c = p_c\n",
    "            \n",
    "                valor_L_old, valor_A_old = L_f_v1v2_old[i_i,i_x], A_f[i_k,p_old,p_old_c]   \n",
    "                valor_L_new, valor_A_new = L_f_v1v2[i_i,i_x], A_f[i_k,p_f,p_c]\n",
    "                ## columns\n",
    "                valor_L_old_c, valor_A_old_c = 0,0\n",
    "                valor_L_new_c, valor_A_new_c = 0,0\n",
    "                column = 0        \n",
    "                if (i_x not in changes):\n",
    "                    column = 1\n",
    "                    valor_L_old_c, valor_A_old_c = L_c_v1v2_old[i_i,i_x],A_f[i_k,p_old_c, p_old]\n",
    "                    valor_L_new_c, valor_A_new_c = L_c_v1v2[i_i,i_x], A_f[i_k,p_c,p_f]\n",
    "    \n",
    "                ovlp_1_old = ovlp_1_old + valor_L_old*valor_A_old + valor_L_old_c*valor_A_old_c*column\n",
    "                ovlp_0_old = ovlp_0_old + (1-valor_L_old)*(1-valor_A_old) + (1-valor_L_old_c)*(1-valor_A_old_c)*column\n",
    "                \n",
    "                ovlp_1_new = ovlp_1_new + valor_L_new*valor_A_new + valor_L_new_c*valor_A_new_c*column\n",
    "                ovlp_0_new = ovlp_0_new + (1-valor_L_new)*(1-valor_A_new) + (1-valor_L_new_c)*(1-valor_A_new_c)*column\n",
    "                \n",
    "\n",
    "    \n",
    "                    \n",
    "    suma_new = np.sum(L_f_v1v2[0,:]) + np.sum(L_f_v1v2[1,:]) + np.sum(L_c_v1v2[0,:]) + np.sum(L_c_v1v2[1,:])-L_c_v1v2[0,j_change]-L_c_v1v2[0,i_change]-L_c_v1v2[1,j_change]-L_c_v1v2[1,i_change]\n",
    "    suma_1 = suma_new - suma_old\n",
    "\n",
    "    ## Parte del overlap \n",
    "    ovlp_1_def = ovlp_1_new - ovlp_1_old\n",
    "    ovlp_0_def = ovlp_0_new- ovlp_0_old\n",
    "\n",
    "\n",
    "\n",
    "    \n",
    "    return L_f_v1v2,L_c_v1v2, suma_1, ovlp_0_def, ovlp_1_def\n"
   ]
  },
  {
   "cell_type": "code",
   "execution_count": 13,
   "id": "d02a7492-1228-4b44-8f63-a53469c70b66",
   "metadata": {},
   "outputs": [],
   "source": [
    "@jit(nopython = True)\n",
    "def parallel_L_knwn_change_groups(c_parallel,alpha,beta,fijado_f,groups_f, N_groups_f, start_f, end_f,\n",
    "                       A, P_t_f, P_inv_t_f, L_t_f,suma_L, Energy_t_f, ovlp_t_f0, ovlp_t_f1, tempers_f,tempers_odd, tempers_even,\n",
    "                                    c_accep, c_odd, m_old, round_trip_old, c_rounds):\n",
    "    \n",
    "    # fijado_f : To let one of the networks fixed or not (If only two networks it doesn't matter)\n",
    "    # c_parallel: counter to change temperatures\n",
    "    # start_f, end,f\n",
    "    # N_groups_f: Number of groups\n",
    "    # groups_f: Directly the ggroup numbeer from the position\n",
    "    ### Movement:\n",
    "    # 1) Choose one node and see their group (also we can choose a group first)\n",
    "    # 2) Choose another random node inside this group \n",
    "    # 3) Each 4 movements, we propose change the temperatures\n",
    "\n",
    "    N_t = L_t_f.shape[0] # Numbers of tempers\n",
    "    Nx = L_t_f.shape[1] # Numbers of nodes\n",
    "    K = A.shape[0] # Numbers of networks\n",
    "    Edges_sum = K*Nx*Nx\n",
    "   \n",
    "    if (c_parallel <4*Nx): # If not change of temperatures\n",
    "        c_parallel += 1\n",
    "        \n",
    "        #Choose the networks to propose the change (in all temperatures)\n",
    "        if (fijado_f == 1):\n",
    "            m1 = np.random.randint(K-1)+1 #One networks\n",
    "        else:\n",
    "            m1 = np.random.randint(K)    \n",
    "        \n",
    "        for k_nt in range(N_t):    \n",
    "            # 1) Choose a random node (node in A)\n",
    "            v1_mapping = np.random.randint(0, Nx)\n",
    "            grupo = groups_f[k_nt,m1,v1_mapping]\n",
    "            start, end = start_f[grupo], end_f[grupo]\n",
    "            size_group = end - start\n",
    "            todos = size_group \n",
    "            if (size_group > 1): \n",
    "                v2_mapping = np.random.randint(start, end)\n",
    "                while (v2_mapping == v1_mapping):\n",
    "                    v2_mapping = np.random.randint(start, end)\n",
    "    \n",
    "                # Nodes in L\n",
    "                v1 = P_t_f[k_nt, m1,v1_mapping]\n",
    "                v2 = P_t_f[k_nt, m1, v2_mapping]\n",
    "    \n",
    "    \n",
    "                ### Only changes in the specific columns and rows\n",
    "                L_f_v1v2, L_f_v1v2_old = np.zeros((2,Nx)),np.zeros((2,Nx))\n",
    "                L_c_v1v2, L_c_v1v2_old = np.zeros((2,Nx)),np.zeros((2,Nx))\n",
    "    \n",
    "                pp_1 = int(P_inv_t_f[k_nt,m1,v2]) # v2_mapping\n",
    "                pp_2 = int(P_inv_t_f[k_nt,m1,v1]) # v1_mapping\n",
    "    \n",
    "                L_f_v1v2_old[0,:],L_f_v1v2_old[1,:] = L_t_f[k_nt,v1,:].copy(),L_t_f[k_nt,v2,:].copy()\n",
    "                L_c_v1v2_old[0,:],L_c_v1v2_old[1,:] = L_t_f[k_nt,:,v1].copy(),L_t_f[k_nt,:,v2].copy()\n",
    "                \n",
    "                # Changes in the blueprint\n",
    "                L_f_v1v2,L_c_v1v2 , suma_aux,ovl_0_new, ovl_1_new = L_wiring_overlap_change_filas(m1,L_f_v1v2_old,L_c_v1v2_old, A, v1, v2, P_inv_t_f[k_nt,:,:], pp_1, pp_2)\n",
    "                \n",
    "                # Parameters to change\n",
    "                Edges_L = K*(suma_L[k_nt] + suma_aux)\n",
    "                Edges_NoL = Edges_sum - Edges_L\n",
    "                overlap_0,overlap_1 = ovlp_t_f0[k_nt] + ovl_0_new, ovlp_t_f1[k_nt] + ovl_1_new\n",
    "                Energy_bucle = hamiltonian_prob(Edges_NoL, Edges_L, overlap_0,overlap_1,alpha, beta)\n",
    "                dE_sampler = Energy_bucle - Energy_t_f[k_nt]\n",
    "                dE_t = dE_sampler\n",
    "                \n",
    "                ### UPDATE\n",
    "                if (dE_t < 0):\n",
    "                    \n",
    "                    P_aux1 = P_t_f[k_nt, m1,pp_2]\n",
    "                    P_t_f[k_nt, m1, pp_2] = P_t_f[k_nt, m1,pp_1]\n",
    "                    P_t_f[k_nt, m1, pp_1] = P_aux1\n",
    "    \n",
    "                    P_invaux1 = P_inv_t_f[k_nt,m1,v2]\n",
    "                    P_inv_t_f[k_nt,m1,v2] = P_inv_t_f[k_nt,m1,v1]\n",
    "                    P_inv_t_f[k_nt,m1,v1] = P_invaux1\n",
    "    \n",
    "                    Energy_t_f[k_nt] = Energy_t_f[k_nt] + dE_t\n",
    "                    ovlp_t_f0[k_nt] = overlap_0\n",
    "                    ovlp_t_f1[k_nt] = overlap_1\n",
    "                    L_t_f[k_nt,v1, :],L_t_f[k_nt,v2, :] = L_f_v1v2[0,:],L_f_v1v2[1,:]\n",
    "                    L_t_f[k_nt,:,v1],L_t_f[k_nt,:,v2] = L_c_v1v2[0,:],L_c_v1v2[1,:]\n",
    "                    suma_L[k_nt] = suma_L[k_nt] + suma_aux\n",
    "    \n",
    "                elif (np.random.rand() < np.exp(-dE_t*tempers_f[k_nt])):\n",
    "    \n",
    "                    P_aux1 = P_t_f[k_nt, m1,pp_2]\n",
    "                    P_t_f[k_nt, m1, pp_2] = P_t_f[k_nt, m1,pp_1]\n",
    "                    P_t_f[k_nt, m1, pp_1] = P_aux1\n",
    "    \n",
    "                    P_invaux1 = P_inv_t_f[k_nt,m1,v2]\n",
    "                    P_inv_t_f[k_nt,m1,v2] = P_inv_t_f[k_nt,m1,v1]\n",
    "                    P_inv_t_f[k_nt,m1,v1] = P_invaux1\n",
    "    \n",
    "                    Energy_t_f[k_nt] = Energy_t_f[k_nt] + dE_t\n",
    "                    ovlp_t_f0[k_nt] = overlap_0\n",
    "                    ovlp_t_f1[k_nt] = overlap_1\n",
    "                    L_t_f[k_nt,v1, :],L_t_f[k_nt,v2, :] = L_f_v1v2[0,:].copy(),L_f_v1v2[1,:].copy()\n",
    "                    L_t_f[k_nt,:,v1],L_t_f[k_nt,:,v2] = L_c_v1v2[0,:].copy(),L_c_v1v2[1,:].copy()\n",
    "                    suma_L[k_nt] = suma_L[k_nt] + suma_aux\n",
    "\n",
    "    else: # Change in temperatures\n",
    "        c_parallel = 0\n",
    "        mt1 = np.random.randint(N_t) \n",
    "        if mt1 == 0:\n",
    "            mt2 = 1\n",
    "        elif mt1 == (N_t - 1):\n",
    "            mt2 = mt1 -1\n",
    "        else:\n",
    "            mt2 = mt1 + random_menos_mas(np.random.rand())\n",
    "        \n",
    "            \n",
    "    \n",
    "        \n",
    "        #Probar el cambio de energía\n",
    "        #Cambio del 1:\n",
    "        Energy_1 = Energy_t_f[mt1]\n",
    "        #Cambio del 2:\n",
    "        Energy_2 = Energy_t_f[mt2] \n",
    "\n",
    "\n",
    "        dE_parallel = -(tempers_f[mt1]-tempers_f[mt2])*(Energy_1-Energy_2)\n",
    "            \n",
    "        if (dE_parallel <0):\n",
    "            P_aux1 = (P_t_f[mt1, :, :]).copy()\n",
    "            P_inv_aux1 = (P_inv_t_f[mt1,:,:]).copy()\n",
    "            L_aux1 = (L_t_f[mt1,:,:]).copy()\n",
    "\n",
    "            ovlp_aux0 = (ovlp_t_f0[mt1])\n",
    "            ovlp_aux1 = (ovlp_t_f1[mt1])\n",
    "            suma_aux = suma_L[mt1]\n",
    "\n",
    "            # 1 --> 2\n",
    "            Energy_t_f[mt1] = Energy_2\n",
    "            P_t_f[mt1,:,:] = (P_t_f[mt2, :, :]).copy()\n",
    "            P_inv_t_f[mt1,:,:] = (P_inv_t_f[mt2,:,:]).copy()\n",
    "            L_t_f[mt1,:,:] = (L_t_f[mt2,:,:]).copy()\n",
    "\n",
    "            ovlp_t_f0[mt1] = ovlp_t_f0[mt2]\n",
    "            ovlp_t_f1[mt1] = ovlp_t_f1[mt2]\n",
    "            suma_L[mt1] = suma_L[mt2]\n",
    "\n",
    "            # 2 --> 1\n",
    "            Energy_t_f[mt2] = Energy_1\n",
    "            P_t_f[mt2,:,:] = P_aux1\n",
    "            P_inv_t_f[mt2,:,:] = P_inv_aux1\n",
    "            L_t_f[mt2,:,:] = L_aux1\n",
    "\n",
    "            ovlp_t_f0[mt2] = ovlp_aux0\n",
    "            ovlp_t_f1[mt2] = ovlp_aux1\n",
    "            suma_L[mt2] = suma_aux\n",
    "            \n",
    "\n",
    "        elif (np.random.rand() < np.exp(-dE_parallel)):\n",
    "            P_aux1 = (P_t_f[mt1, :, :]).copy()\n",
    "            P_inv_aux1 = (P_inv_t_f[mt1,:,:]).copy()\n",
    "            L_aux1 = (L_t_f[mt1,:,:]).copy()\n",
    "\n",
    "            ovlp_aux0 = (ovlp_t_f0[mt1])\n",
    "            ovlp_aux1 = (ovlp_t_f1[mt1])\n",
    "            suma_aux = suma_L[mt1]\n",
    "\n",
    "            # 1 --> 2\n",
    "            Energy_t_f[mt1] = Energy_2\n",
    "            P_t_f[mt1,:,:] = (P_t_f[mt2, :, :]).copy()\n",
    "            P_inv_t_f[mt1,:,:] = (P_inv_t_f[mt2,:,:]).copy()\n",
    "            L_t_f[mt1,:,:] = (L_t_f[mt2,:,:]).copy()\n",
    "\n",
    "            ovlp_t_f0[mt1] = ovlp_t_f0[mt2]\n",
    "            ovlp_t_f1[mt1] = ovlp_t_f1[mt2]\n",
    "            suma_L[mt1] = suma_L[mt2]\n",
    "\n",
    "            # 2 --> 1\n",
    "            Energy_t_f[mt2] = Energy_1\n",
    "            P_t_f[mt2,:,:] = P_aux1\n",
    "            P_inv_t_f[mt2,:,:] = P_inv_aux1\n",
    "            L_t_f[mt2,:,:] = L_aux1\n",
    "\n",
    "            ovlp_t_f0[mt2] = ovlp_aux0\n",
    "            ovlp_t_f1[mt2] = ovlp_aux1\n",
    "            suma_L[mt2] = suma_aux\n",
    "            \n",
    "\n",
    "\n",
    "  \n",
    "    return c_parallel, P_t_f, P_inv_t_f,Energy_t_f, ovlp_t_f0, ovlp_t_f1, L_t_f, suma_L, c_accep, c_odd, m_old, round_trip_old, c_rounds\n",
    "\n",
    "@njit\n",
    "def random_menos_mas(number):\n",
    "    if number >= 0.5:\n",
    "        return 1\n",
    "    else:\n",
    "        return -1"
   ]
  },
  {
   "cell_type": "markdown",
   "id": "5a324ab3-07ba-48b1-b2a9-afd9d29571cf",
   "metadata": {},
   "source": [
    "\n",
    "## Initialization"
   ]
  },
  {
   "cell_type": "code",
   "execution_count": 26,
   "id": "e33d8b40-6f67-4622-8c43-0d0dc0c0dce5",
   "metadata": {},
   "outputs": [
    {
     "name": "stdout",
     "output_type": "stream",
     "text": [
      "[40. 40. 40. 40. 40. 40. 40.]\n"
     ]
    }
   ],
   "source": [
    "## Parameters \n",
    "fijado = 0  # To maintain fix the first network\n",
    "alpha, beta = 5,2\n",
    "Edges_sum = K*Nx*Nx\n",
    "\n",
    "PasosMC, Long_corr,Pasos_corr,Pasos_store = np.zeros((N_probs)), np.zeros((N_probs)),np.zeros((N_probs)),np.zeros((N_probs))\n",
    "PasosMC = PasosMC + 900 +50*40\n",
    "Long_corr = Long_corr + 50\n",
    "Pasos_corr = Pasos_corr + 900\n",
    "\n",
    "# i_min, i_max = 0,3\n",
    "# PasosMC[i_min:i_max] = 1000\n",
    "# Pasos_corr[i_min:i_max] = 500\n",
    "# Long_corr[i_min:i_max] = 100\n",
    "\n",
    "# i_min, i_max = 3,4\n",
    "# PasosMC[i_min:i_max] = 1200\n",
    "# Pasos_corr[i_min:i_max] = 600\n",
    "# Long_corr[i_min:i_max] = 100\n",
    "# i= 4\n",
    "# PasosMC[i] = 1200\n",
    "# Pasos_corr[i] = 800\n",
    "# Long_corr[i] = 100\n",
    "# i_min, i_max = 5,7\n",
    "# PasosMC[i_min:i_max] = 1700\n",
    "# Pasos_corr[i_min:i_max] = 1500\n",
    "# Long_corr[i_min:i_max] = 100\n",
    "# i = 7\n",
    "# PasosMC[i] = 3000\n",
    "# Pasos_corr[i] = 2500\n",
    "# Long_corr[i] = 100\n",
    "# i = 8\n",
    "# PasosMC[i] = 15000\n",
    "# Pasos_corr[i] = 13000\n",
    "# Long_corr[i] = 100\n",
    "\n",
    "# i_min, i_max = 9,15\n",
    "# PasosMC[i_min:i_max] = 100000\n",
    "# Pasos_corr[i_min:i_max] = 50000\n",
    "# Long_corr[i_min:i_max] = 2000\n",
    "\n",
    "\n",
    "# i_min, i_max = 15,18\n",
    "# PasosMC[i_min:i_max] = 100000\n",
    "# Pasos_corr[i_min:i_max] = 50000\n",
    "# Long_corr[i_min:i_max] = 2000\n",
    "\n",
    "\n",
    "for i_prob in range(N_probs):\n",
    "    Pasos_store[i_prob] = int((PasosMC[i_prob] -( Pasos_corr[i_prob]))/Long_corr[i_prob])\n",
    "    if (Pasos_store[i_prob]<0):\n",
    "        Pasos_store[i_prob] = 0\n",
    "print(Pasos_store)\n",
    "\n",
    "PasosMC, Long_corr,Pasos_corr,Pasos_store = PasosMC.astype(int), Long_corr.astype(int),Pasos_corr.astype(int),Pasos_store.astype(int)"
   ]
  },
  {
   "cell_type": "code",
   "execution_count": 27,
   "id": "42a0a883-7b8a-4eb0-b4d4-2cd61e824676",
   "metadata": {},
   "outputs": [],
   "source": [
    "### TEMPERATURAS\n",
    "tempers, tempers_odd,tempers_even = {},  {}, {}\n",
    "total, max = np.zeros((N_probs)), np.zeros((N_probs)) \n",
    "total = total + 11\n",
    "max = max - 40\n",
    "total, max = total.astype(int), max.astype(int) \n",
    "\n",
    "\n",
    "for i_probs in range(N_probs):\n",
    "    beta_o = 1.03\n",
    "    total_i = total[i_probs] # Odd name, in order to have beta = 1\n",
    "    b_exp = np.linspace(max[i_probs],0,num = total_i)\n",
    "    tempers[i_probs] = beta_o**b_exp# Account for 1/KT, called beta in thermodinamics\n",
    "    # print('betas tempers:', tempers[i_probs])\n",
    "    \n",
    "    tempers_odd1 = np.arange(0,total_i-1,2, dtype = int)\n",
    "    tempers_odd2 = np.arange(1, total_i, 2,dtype = int)\n",
    "    tempers_odd[i_probs] = np.zeros((2, len(tempers_odd1)))\n",
    "    tempers_odd[i_probs][0,:] = tempers_odd1\n",
    "    tempers_odd[i_probs][1,:] = tempers_odd2\n",
    "    # print('Odd', tempers_odd)\n",
    "    \n",
    "    tempers_even1 = np.arange(1,total_i,2)\n",
    "    tempers_even2 = np.arange(2, total_i, 2)\n",
    "    tempers_even[i_probs] = np.zeros((2, len(tempers_even1)))\n",
    "    tempers_even[i_probs][0,:] = tempers_even1\n",
    "    tempers_even[i_probs][1,:] = tempers_even2\n",
    "    # print('even', tempers_even)   "
   ]
  },
  {
   "cell_type": "markdown",
   "id": "e57d8ba1-130d-4c21-b143-428ca6779bff",
   "metadata": {},
   "source": [
    "## Montecarlo"
   ]
  },
  {
   "cell_type": "code",
   "execution_count": 28,
   "id": "16e623cc-b206-4e97-94e0-16250bfe58bc",
   "metadata": {},
   "outputs": [
    {
     "data": {
      "text/plain": [
       "0.1"
      ]
     },
     "execution_count": 28,
     "metadata": {},
     "output_type": "execute_result"
    }
   ],
   "source": [
    "N_epochs = 1\n",
    "vector = np.arange(1,2)\n",
    "probs[vector[0]]\n"
   ]
  },
  {
   "cell_type": "code",
   "execution_count": 29,
   "id": "28847355-90d2-4617-a2ca-3dfdf75af5b9",
   "metadata": {},
   "outputs": [
    {
     "name": "stdout",
     "output_type": "stream",
     "text": [
      "\n",
      "\n",
      "i_prob: 1 0.1 [0.30655684 0.34503243 0.38833703 0.43707675 0.49193374 0.55367575\n",
      " 0.62316694 0.70137988 0.78940923 0.88848705 1.        ] alpha_t -40 N_t 11\n",
      "i_reps 0\n",
      "Energía ini: 34581.19331870551 /gs: 9015.759808373514\n"
     ]
    },
    {
     "name": "stderr",
     "output_type": "stream",
     "text": [
      " 31%|████████████▍                           | 906/2900 [00:33<01:11, 27.93it/s]"
     ]
    },
    {
     "name": "stdout",
     "output_type": "stream",
     "text": [
      "Energy: [9167.00591743 9154.5698979  9114.51775369 9136.70437534 9023.37242571\n",
      " 9013.62202927 9013.62202927 9015.75980837 9013.62202927 9016.34037409\n",
      " 9013.62202927]\n"
     ]
    },
    {
     "name": "stderr",
     "output_type": "stream",
     "text": [
      " 33%|█████████████▏                          | 954/2900 [00:35<01:09, 27.90it/s]"
     ]
    },
    {
     "name": "stdout",
     "output_type": "stream",
     "text": [
      "Energy: [9134.55090764 9169.70785238 9154.5698979  9016.34037409 9016.34037409\n",
      " 9013.62202927 9013.62202927 9016.34037409 9013.62202927 9013.62202927\n",
      " 9013.62202927]\n"
     ]
    },
    {
     "name": "stderr",
     "output_type": "stream",
     "text": [
      " 35%|█████████████▌                         | 1005/2900 [00:36<01:08, 27.52it/s]"
     ]
    },
    {
     "name": "stdout",
     "output_type": "stream",
     "text": [
      "Energy: [9134.55090764 9169.13829925 9016.34037409 9016.34037409 9016.34037409\n",
      " 9013.62202927 9013.62202927 9016.34037409 9013.62202927 9013.62202927\n",
      " 9013.62202927]\n"
     ]
    },
    {
     "name": "stderr",
     "output_type": "stream",
     "text": [
      " 36%|██████████████▏                        | 1056/2900 [00:38<01:06, 27.81it/s]"
     ]
    },
    {
     "name": "stdout",
     "output_type": "stream",
     "text": [
      "Energy: [9169.13829925 9139.42151108 9021.22959962 9015.75980837 9013.62202927\n",
      " 9016.34037409 9013.62202927 9016.34037409 9013.62202927 9013.62202927\n",
      " 9013.62202927]\n"
     ]
    },
    {
     "name": "stderr",
     "output_type": "stream",
     "text": [
      " 38%|██████████████▊                        | 1104/2900 [00:40<01:06, 26.97it/s]"
     ]
    },
    {
     "name": "stdout",
     "output_type": "stream",
     "text": [
      "Energy: [9179.43330499 9021.22959962 9028.83452623 9013.62202927 9016.34037409\n",
      " 9013.62202927 9013.62202927 9013.62202927 9013.62202927 9013.62202927\n",
      " 9013.62202927]\n"
     ]
    },
    {
     "name": "stderr",
     "output_type": "stream",
     "text": [
      " 40%|███████████████▌                       | 1155/2900 [00:42<01:02, 27.93it/s]"
     ]
    },
    {
     "name": "stdout",
     "output_type": "stream",
     "text": [
      "Energy: [9169.13829925 9028.83452623 9021.22959962 9023.37242571 9016.34037409\n",
      " 9013.62202927 9016.34037409 9013.62202927 9013.62202927 9013.62202927\n",
      " 9013.62202927]\n"
     ]
    },
    {
     "name": "stderr",
     "output_type": "stream",
     "text": [
      " 42%|████████████████▏                      | 1206/2900 [00:44<01:03, 26.88it/s]"
     ]
    },
    {
     "name": "stdout",
     "output_type": "stream",
     "text": [
      "Energy: [9179.43330499 9023.37242571 9028.83452623 9023.9441284  9013.62202927\n",
      " 9013.62202927 9013.62202927 9013.62202927 9013.62202927 9013.62202927\n",
      " 9013.62202927]\n"
     ]
    },
    {
     "name": "stderr",
     "output_type": "stream",
     "text": [
      " 43%|████████████████▊                      | 1254/2900 [00:45<00:58, 28.20it/s]"
     ]
    },
    {
     "name": "stdout",
     "output_type": "stream",
     "text": [
      "Energy: [9169.70785238 9021.22959962 9015.75980837 9015.75980837 9013.62202927\n",
      " 9013.62202927 9015.75980837 9016.34037409 9013.62202927 9013.62202927\n",
      " 9013.62202927]\n"
     ]
    },
    {
     "name": "stderr",
     "output_type": "stream",
     "text": [
      " 45%|█████████████████▌                     | 1305/2900 [00:47<00:57, 27.85it/s]"
     ]
    },
    {
     "name": "stdout",
     "output_type": "stream",
     "text": [
      "Energy: [9171.86325401 9021.22959962 9016.34037409 9023.9441284  9013.62202927\n",
      " 9016.34037409 9013.62202927 9015.75980837 9015.75980837 9013.62202927\n",
      " 9013.62202927]\n"
     ]
    },
    {
     "name": "stderr",
     "output_type": "stream",
     "text": [
      " 47%|██████████████████▏                    | 1356/2900 [00:49<01:02, 24.64it/s]"
     ]
    },
    {
     "name": "stdout",
     "output_type": "stream",
     "text": [
      "Energy: [9167.00591743 9015.75980837 9018.50151586 9013.62202927 9016.34037409\n",
      " 9023.37242571 9015.75980837 9013.62202927 9013.62202927 9013.62202927\n",
      " 9016.34037409]\n"
     ]
    },
    {
     "name": "stderr",
     "output_type": "stream",
     "text": [
      " 48%|██████████████████▉                    | 1404/2900 [00:51<00:52, 28.28it/s]"
     ]
    },
    {
     "name": "stdout",
     "output_type": "stream",
     "text": [
      "Energy: [9016.34037409 9023.9441284  9023.37242571 9021.22959962 9013.62202927\n",
      " 9015.75980837 9021.22959962 9021.22959962 9013.62202927 9013.62202927\n",
      " 9013.62202927]\n"
     ]
    },
    {
     "name": "stderr",
     "output_type": "stream",
     "text": [
      " 50%|███████████████████▌                   | 1455/2900 [00:53<00:53, 26.91it/s]"
     ]
    },
    {
     "name": "stdout",
     "output_type": "stream",
     "text": [
      "Energy: [9021.22959962 9016.34037409 9015.75980837 9023.37242571 9021.22959962\n",
      " 9018.50151586 9021.22959962 9013.62202927 9013.62202927 9013.62202927\n",
      " 9013.62202927]\n"
     ]
    },
    {
     "name": "stderr",
     "output_type": "stream",
     "text": [
      " 52%|████████████████████▎                  | 1506/2900 [00:55<00:52, 26.70it/s]"
     ]
    },
    {
     "name": "stdout",
     "output_type": "stream",
     "text": [
      "Energy: [9033.71638807 9016.34037409 9018.50151586 9015.75980837 9016.34037409\n",
      " 9028.83452623 9016.34037409 9013.62202927 9015.75980837 9013.62202927\n",
      " 9013.62202927]\n"
     ]
    },
    {
     "name": "stderr",
     "output_type": "stream",
     "text": [
      " 54%|████████████████████▉                  | 1557/2900 [00:57<00:53, 24.99it/s]"
     ]
    },
    {
     "name": "stdout",
     "output_type": "stream",
     "text": [
      "Energy: [9015.75980837 9021.22959962 9021.22959962 9015.75980837 9016.34037409\n",
      " 9013.62202927 9013.62202927 9013.62202927 9013.62202927 9013.62202927\n",
      " 9013.62202927]\n"
     ]
    },
    {
     "name": "stderr",
     "output_type": "stream",
     "text": [
      " 55%|█████████████████████▌                 | 1605/2900 [00:58<00:48, 26.60it/s]"
     ]
    },
    {
     "name": "stdout",
     "output_type": "stream",
     "text": [
      "Energy: [9021.22959962 9016.34037409 9013.62202927 9013.62202927 9015.75980837\n",
      " 9013.62202927 9016.34037409 9013.62202927 9013.62202927 9013.62202927\n",
      " 9013.62202927]\n"
     ]
    },
    {
     "name": "stderr",
     "output_type": "stream",
     "text": [
      " 57%|██████████████████████▎                | 1656/2900 [01:00<00:45, 27.55it/s]"
     ]
    },
    {
     "name": "stdout",
     "output_type": "stream",
     "text": [
      "Energy: [9016.34037409 9015.75980837 9021.22959962 9015.75980837 9013.62202927\n",
      " 9016.34037409 9013.62202927 9013.62202927 9013.62202927 9016.34037409\n",
      " 9013.62202927]\n"
     ]
    },
    {
     "name": "stderr",
     "output_type": "stream",
     "text": [
      " 59%|██████████████████████▉                | 1704/2900 [01:02<00:45, 26.27it/s]"
     ]
    },
    {
     "name": "stdout",
     "output_type": "stream",
     "text": [
      "Energy: [9041.31985649 9013.62202927 9013.62202927 9016.34037409 9013.62202927\n",
      " 9021.22959962 9016.34037409 9016.34037409 9013.62202927 9013.62202927\n",
      " 9013.62202927]\n"
     ]
    },
    {
     "name": "stderr",
     "output_type": "stream",
     "text": [
      " 61%|███████████████████████▌               | 1755/2900 [01:04<00:40, 28.15it/s]"
     ]
    },
    {
     "name": "stdout",
     "output_type": "stream",
     "text": [
      "Energy: [9048.92068429 9013.62202927 9013.62202927 9021.22959962 9021.22959962\n",
      " 9013.62202927 9013.62202927 9013.62202927 9016.34037409 9013.62202927\n",
      " 9013.62202927]\n"
     ]
    },
    {
     "name": "stderr",
     "output_type": "stream",
     "text": [
      " 62%|████████████████████████▎              | 1806/2900 [01:06<00:38, 28.13it/s]"
     ]
    },
    {
     "name": "stdout",
     "output_type": "stream",
     "text": [
      "Energy: [9016.34037409 9013.62202927 9016.34037409 9023.37242571 9021.22959962\n",
      " 9015.75980837 9013.62202927 9013.62202927 9013.62202927 9013.62202927\n",
      " 9016.34037409]\n"
     ]
    },
    {
     "name": "stderr",
     "output_type": "stream",
     "text": [
      " 64%|████████████████████████▉              | 1854/2900 [01:07<00:38, 27.26it/s]"
     ]
    },
    {
     "name": "stdout",
     "output_type": "stream",
     "text": [
      "Energy: [9021.22959962 9015.75980837 9016.34037409 9015.75980837 9013.62202927\n",
      " 9013.62202927 9016.34037409 9013.62202927 9013.62202927 9013.62202927\n",
      " 9016.34037409]\n"
     ]
    },
    {
     "name": "stderr",
     "output_type": "stream",
     "text": [
      " 66%|█████████████████████████▌             | 1905/2900 [01:09<00:36, 27.38it/s]"
     ]
    },
    {
     "name": "stdout",
     "output_type": "stream",
     "text": [
      "Energy: [9023.37242571 9023.37242571 9016.34037409 9015.75980837 9016.34037409\n",
      " 9016.34037409 9015.75980837 9013.62202927 9018.50151586 9013.62202927\n",
      " 9013.62202927]\n"
     ]
    },
    {
     "name": "stderr",
     "output_type": "stream",
     "text": [
      " 67%|██████████████████████████▎            | 1956/2900 [01:11<00:35, 26.54it/s]"
     ]
    },
    {
     "name": "stdout",
     "output_type": "stream",
     "text": [
      "Energy: [9036.43681247 9026.11027566 9016.34037409 9021.22959962 9013.62202927\n",
      " 9016.34037409 9013.62202927 9013.62202927 9013.62202927 9018.50151586\n",
      " 9013.62202927]\n"
     ]
    },
    {
     "name": "stderr",
     "output_type": "stream",
     "text": [
      " 69%|██████████████████████████▉            | 2004/2900 [01:13<00:32, 27.53it/s]"
     ]
    },
    {
     "name": "stdout",
     "output_type": "stream",
     "text": [
      "Energy: [9016.34037409 9023.9441284  9013.62202927 9023.37242571 9013.62202927\n",
      " 9013.62202927 9013.62202927 9016.34037409 9013.62202927 9016.34037409\n",
      " 9013.62202927]\n"
     ]
    },
    {
     "name": "stderr",
     "output_type": "stream",
     "text": [
      " 71%|███████████████████████████▋           | 2055/2900 [01:15<00:32, 25.75it/s]"
     ]
    },
    {
     "name": "stdout",
     "output_type": "stream",
     "text": [
      "Energy: [9016.34037409 9023.37242571 9015.75980837 9023.37242571 9021.22959962\n",
      " 9013.62202927 9018.50151586 9016.34037409 9013.62202927 9016.34037409\n",
      " 9013.62202927]\n"
     ]
    },
    {
     "name": "stderr",
     "output_type": "stream",
     "text": [
      " 73%|████████████████████████████▎          | 2106/2900 [01:17<00:29, 27.10it/s]"
     ]
    },
    {
     "name": "stdout",
     "output_type": "stream",
     "text": [
      "Energy: [9013.62202927 9023.9441284  9013.62202927 9016.34037409 9016.34037409\n",
      " 9013.62202927 9016.34037409 9016.34037409 9013.62202927 9013.62202927\n",
      " 9013.62202927]\n"
     ]
    },
    {
     "name": "stderr",
     "output_type": "stream",
     "text": [
      " 74%|████████████████████████████▉          | 2154/2900 [01:18<00:27, 27.53it/s]"
     ]
    },
    {
     "name": "stdout",
     "output_type": "stream",
     "text": [
      "Energy: [9021.22959962 9023.37242571 9013.62202927 9016.34037409 9016.34037409\n",
      " 9016.34037409 9015.75980837 9013.62202927 9016.34037409 9013.62202927\n",
      " 9013.62202927]\n"
     ]
    },
    {
     "name": "stderr",
     "output_type": "stream",
     "text": [
      " 76%|█████████████████████████████▋         | 2205/2900 [01:20<00:25, 27.22it/s]"
     ]
    },
    {
     "name": "stdout",
     "output_type": "stream",
     "text": [
      "Energy: [9026.11027566 9028.83452623 9013.62202927 9016.34037409 9013.62202927\n",
      " 9016.34037409 9015.75980837 9013.62202927 9016.34037409 9016.34037409\n",
      " 9013.62202927]\n"
     ]
    },
    {
     "name": "stderr",
     "output_type": "stream",
     "text": [
      " 78%|██████████████████████████████▎        | 2256/2900 [01:22<00:22, 28.25it/s]"
     ]
    },
    {
     "name": "stdout",
     "output_type": "stream",
     "text": [
      "Energy: [9023.37242571 9013.62202927 9021.22959962 9018.50151586 9013.62202927\n",
      " 9013.62202927 9016.34037409 9016.34037409 9013.62202927 9013.62202927\n",
      " 9016.34037409]\n"
     ]
    },
    {
     "name": "stderr",
     "output_type": "stream",
     "text": [
      " 79%|██████████████████████████████▉        | 2304/2900 [01:24<00:21, 28.30it/s]"
     ]
    },
    {
     "name": "stdout",
     "output_type": "stream",
     "text": [
      "Energy: [9013.62202927 9021.22959962 9016.34037409 9015.75980837 9018.50151586\n",
      " 9016.34037409 9015.75980837 9013.62202927 9016.34037409 9013.62202927\n",
      " 9016.34037409]\n"
     ]
    },
    {
     "name": "stderr",
     "output_type": "stream",
     "text": [
      " 81%|███████████████████████████████▋       | 2355/2900 [01:26<00:19, 27.87it/s]"
     ]
    },
    {
     "name": "stdout",
     "output_type": "stream",
     "text": [
      "Energy: [9023.9441284  9013.62202927 9013.62202927 9016.34037409 9015.75980837\n",
      " 9016.34037409 9013.62202927 9013.62202927 9013.62202927 9013.62202927\n",
      " 9013.62202927]\n"
     ]
    },
    {
     "name": "stderr",
     "output_type": "stream",
     "text": [
      " 83%|████████████████████████████████▎      | 2406/2900 [01:28<00:17, 27.58it/s]"
     ]
    },
    {
     "name": "stdout",
     "output_type": "stream",
     "text": [
      "Energy: [9044.03646172 9015.75980837 9015.75980837 9015.75980837 9016.34037409\n",
      " 9013.62202927 9013.62202927 9013.62202927 9013.62202927 9013.62202927\n",
      " 9016.34037409]\n"
     ]
    },
    {
     "name": "stderr",
     "output_type": "stream",
     "text": [
      " 85%|█████████████████████████████████      | 2454/2900 [01:29<00:16, 27.77it/s]"
     ]
    },
    {
     "name": "stdout",
     "output_type": "stream",
     "text": [
      "Energy: [9031.54524594 9015.75980837 9013.62202927 9013.62202927 9013.62202927\n",
      " 9013.62202927 9016.34037409 9013.62202927 9013.62202927 9013.62202927\n",
      " 9016.34037409]\n"
     ]
    },
    {
     "name": "stderr",
     "output_type": "stream",
     "text": [
      " 86%|█████████████████████████████████▋     | 2505/2900 [01:31<00:14, 28.10it/s]"
     ]
    },
    {
     "name": "stdout",
     "output_type": "stream",
     "text": [
      "Energy: [9026.11027566 9015.75980837 9013.62202927 9021.22959962 9013.62202927\n",
      " 9013.62202927 9021.22959962 9013.62202927 9013.62202927 9013.62202927\n",
      " 9013.62202927]\n"
     ]
    },
    {
     "name": "stderr",
     "output_type": "stream",
     "text": [
      " 88%|██████████████████████████████████▎    | 2556/2900 [01:33<00:12, 27.19it/s]"
     ]
    },
    {
     "name": "stdout",
     "output_type": "stream",
     "text": [
      "Energy: [9023.37242571 9023.37242571 9018.50151586 9016.34037409 9021.22959962\n",
      " 9013.62202927 9021.22959962 9015.75980837 9013.62202927 9013.62202927\n",
      " 9013.62202927]\n"
     ]
    },
    {
     "name": "stderr",
     "output_type": "stream",
     "text": [
      " 90%|███████████████████████████████████    | 2604/2900 [01:35<00:11, 26.19it/s]"
     ]
    },
    {
     "name": "stdout",
     "output_type": "stream",
     "text": [
      "Energy: [9018.50151586 9015.75980837 9013.62202927 9016.34037409 9021.22959962\n",
      " 9021.22959962 9016.34037409 9013.62202927 9013.62202927 9013.62202927\n",
      " 9013.62202927]\n"
     ]
    },
    {
     "name": "stderr",
     "output_type": "stream",
     "text": [
      " 92%|███████████████████████████████████▋   | 2655/2900 [01:37<00:09, 26.60it/s]"
     ]
    },
    {
     "name": "stdout",
     "output_type": "stream",
     "text": [
      "Energy: [9021.22959962 9021.22959962 9013.62202927 9013.62202927 9013.62202927\n",
      " 9013.62202927 9013.62202927 9013.62202927 9016.34037409 9013.62202927\n",
      " 9013.62202927]\n"
     ]
    },
    {
     "name": "stderr",
     "output_type": "stream",
     "text": [
      " 93%|████████████████████████████████████▍  | 2706/2900 [01:38<00:07, 26.53it/s]"
     ]
    },
    {
     "name": "stdout",
     "output_type": "stream",
     "text": [
      "Energy: [9021.22959962 9021.22959962 9013.62202927 9015.75980837 9013.62202927\n",
      " 9013.62202927 9013.62202927 9016.34037409 9013.62202927 9015.75980837\n",
      " 9013.62202927]\n"
     ]
    },
    {
     "name": "stderr",
     "output_type": "stream",
     "text": [
      " 95%|█████████████████████████████████████  | 2754/2900 [01:40<00:05, 26.57it/s]"
     ]
    },
    {
     "name": "stdout",
     "output_type": "stream",
     "text": [
      "Energy: [9028.83452623 9013.62202927 9013.62202927 9021.22959962 9013.62202927\n",
      " 9016.34037409 9013.62202927 9016.34037409 9016.34037409 9013.62202927\n",
      " 9013.62202927]\n"
     ]
    },
    {
     "name": "stderr",
     "output_type": "stream",
     "text": [
      " 97%|█████████████████████████████████████▋ | 2805/2900 [01:42<00:03, 27.52it/s]"
     ]
    },
    {
     "name": "stdout",
     "output_type": "stream",
     "text": [
      "Energy: [9033.71638807 9028.83452623 9021.22959962 9016.34037409 9013.62202927\n",
      " 9016.34037409 9013.62202927 9013.62202927 9013.62202927 9016.34037409\n",
      " 9016.34037409]\n"
     ]
    },
    {
     "name": "stderr",
     "output_type": "stream",
     "text": [
      " 98%|██████████████████████████████████████▍| 2856/2900 [01:44<00:01, 27.20it/s]"
     ]
    },
    {
     "name": "stdout",
     "output_type": "stream",
     "text": [
      "Energy: [9021.22959962 9036.43681247 9023.9441284  9013.62202927 9016.34037409\n",
      " 9016.34037409 9013.62202927 9013.62202927 9013.62202927 9013.62202927\n",
      " 9015.75980837]\n"
     ]
    },
    {
     "name": "stderr",
     "output_type": "stream",
     "text": [
      "100%|███████████████████████████████████████| 2900/2900 [01:46<00:00, 27.31it/s]\n"
     ]
    },
    {
     "name": "stdout",
     "output_type": "stream",
     "text": [
      "Fin Energy_t 9013.622029270693 Energy_gs 9015.759808373514\n",
      "c_accep 0 c_rounds 0\n",
      "Elapsed (after compilation) = 106.19821739196777\n",
      "[[198 201 210 208 197 213 214 216 215 217 212 218]\n",
      " [198 201 210 208 197 213 214 216 215 217 212 218]\n",
      " [198 201 210 208 197 213 214 216 215 217 212 218]\n",
      " [198 201 210 208 197 213 214 216 215 217 212 218]]\n",
      "[[198 201 210 208 197 213 214 216 215 217 212 218]\n",
      " [198 201 210 208 197 213 214 216 215 217 212 218]\n",
      " [198 201 210 208 197 213 214 216 215 217 212 218]\n",
      " [198 201 210 208 197 213 214 216 215 217 212 218]]\n",
      "[[196 190 202 198 205 213 218 217 215 212 216 214]\n",
      " [196 182 202 198 205 213 218 217 215 212 216 214]\n",
      " [196 182 202 198 205 213 218 217 215 212 216 214]\n",
      " [204 182 202 198 205 213 218 217 215 212 216 214]]\n",
      "[[198 201 210 208 197 213 214 216 215 217 212 218]\n",
      " [198 201 210 208 197 213 214 216 215 217 212 218]\n",
      " [198 201 210 208 197 213 214 216 215 217 212 218]\n",
      " [198 201 210 208 197 213 214 216 215 217 212 218]]\n",
      "[[198 201 210 208 197 213 214 216 215 217 212 218]\n",
      " [198 201 210 208 197 213 214 216 215 217 212 218]\n",
      " [198 201 210 208 197 213 214 216 215 217 212 218]\n",
      " [198 201 210 208 197 213 214 216 215 217 212 218]]\n",
      "[[198 201 210 208 197 213 214 216 215 217 212 218]\n",
      " [198 201 210 208 197 213 214 216 215 217 212 218]\n",
      " [198 201 210 208 197 213 214 216 215 217 212 218]\n",
      " [198 201 210 208 197 213 214 216 215 217 212 218]]\n",
      "[[191 207 206 209 199 213 212 214 215 218 217 216]\n",
      " [191 207 206 209 199 213 212 214 215 218 217 216]\n",
      " [191 207 206 209 199 213 212 214 215 218 217 216]\n",
      " [191 207 206 209 199 213 212 214 215 218 217 216]]\n",
      "[[191 207 206 209 199 213 212 214 215 218 217 216]\n",
      " [191 207 206 209 199 213 212 214 215 218 217 216]\n",
      " [191 207 206 209 199 213 212 214 215 218 217 216]\n",
      " [191 207 206 209 199 213 212 214 215 218 217 216]]\n",
      "[[198 201 210 208 197 213 214 216 215 217 212 218]\n",
      " [198 201 210 208 197 213 214 216 215 217 212 218]\n",
      " [198 201 210 208 197 213 214 216 215 217 212 218]\n",
      " [198 201 210 208 197 213 214 216 215 217 212 218]]\n",
      "[[198 201 210 208 197 213 214 216 215 217 212 218]\n",
      " [198 201 210 208 197 213 214 216 215 217 212 218]\n",
      " [198 201 210 208 197 213 214 216 215 217 212 218]\n",
      " [198 201 210 208 197 213 214 216 215 217 212 218]]\n",
      "[[181 192 184 183 186 213 214 218 215 212 216 217]\n",
      " [181 192 184 183 186 213 214 218 215 212 216 217]\n",
      " [181 192 184 183 186 213 214 218 215 212 216 217]\n",
      " [181 192 184 183 186 213 214 218 215 212 216 217]]\n",
      "[[198 201 210 208 197 213 214 216 215 217 212 218]\n",
      " [198 201 210 208 197 213 214 216 215 217 212 218]\n",
      " [198 201 210 208 197 213 214 216 215 217 212 218]\n",
      " [198 201 210 208 197 213 214 216 215 217 212 218]]\n",
      "[[198 201 210 208 197 213 214 216 215 217 212 218]\n",
      " [198 201 210 208 197 213 214 216 215 217 212 218]\n",
      " [198 201 210 208 197 213 214 216 215 217 212 218]\n",
      " [198 201 210 208 197 213 214 216 215 217 212 218]]\n",
      "[[198 201 210 208 197 213 214 216 215 217 212 218]\n",
      " [198 201 210 208 197 213 214 216 215 217 212 218]\n",
      " [198 201 210 208 197 213 214 216 215 217 212 218]\n",
      " [198 201 210 208 197 213 214 216 215 217 212 218]]\n",
      "[[196 190 202 198 205 213 218 217 215 212 216 214]\n",
      " [196 182 202 198 205 213 218 217 215 212 216 214]\n",
      " [196 182 202 198 205 213 218 217 215 212 216 214]\n",
      " [204 182 202 198 205 213 218 217 215 212 216 214]]\n",
      "[[196 190 202 198 205 213 218 217 215 212 216 214]\n",
      " [196 182 202 198 205 213 218 217 215 212 216 214]\n",
      " [196 182 202 198 205 213 218 217 215 212 216 214]\n",
      " [204 182 202 198 205 213 218 217 215 212 216 214]]\n",
      "[[196 190 202 198 205 213 218 217 215 212 216 214]\n",
      " [196 182 202 198 205 213 218 217 215 212 216 214]\n",
      " [196 182 202 198 205 213 218 217 215 212 216 214]\n",
      " [204 182 202 198 205 213 218 217 215 212 216 214]]\n",
      "[[181 192 184 183 186 213 214 218 215 212 216 217]\n",
      " [181 192 184 183 186 213 214 218 215 212 216 217]\n",
      " [181 192 184 183 186 213 214 218 215 212 216 217]\n",
      " [181 192 184 183 186 213 214 218 215 212 216 217]]\n",
      "[[181 192 184 183 186 213 214 218 215 212 216 217]\n",
      " [181 192 184 183 186 213 214 218 215 212 216 217]\n",
      " [181 192 184 183 186 213 214 218 215 212 216 217]\n",
      " [181 192 184 183 186 213 214 218 215 212 216 217]]\n",
      "[[181 192 184 183 186 213 214 218 215 212 216 217]\n",
      " [181 192 184 183 186 213 214 218 215 212 216 217]\n",
      " [181 192 184 183 186 213 214 218 215 212 216 217]\n",
      " [181 192 184 183 186 213 214 218 215 212 216 217]]\n",
      "[[198 201 210 208 197 213 214 216 215 217 212 218]\n",
      " [198 201 210 208 197 213 214 216 215 217 212 218]\n",
      " [198 201 210 208 197 213 214 216 215 217 212 218]\n",
      " [198 201 210 208 197 213 214 216 215 217 212 218]]\n",
      "[[198 201 210 208 197 213 214 216 215 217 212 218]\n",
      " [198 201 210 208 197 213 214 216 215 217 212 218]\n",
      " [198 201 210 208 197 213 214 216 215 217 212 218]\n",
      " [198 201 210 208 197 213 214 216 215 217 212 218]]\n",
      "[[198 201 210 208 197 213 214 216 215 217 212 218]\n",
      " [198 201 210 208 197 213 214 216 215 217 212 218]\n",
      " [198 201 210 208 197 213 214 216 215 217 212 218]\n",
      " [198 201 210 208 197 213 214 216 215 217 212 218]]\n",
      "[[198 201 210 208 197 213 214 216 215 217 212 218]\n",
      " [198 201 210 208 197 213 214 216 215 217 212 218]\n",
      " [198 201 210 208 197 213 214 216 215 217 212 218]\n",
      " [198 201 210 208 197 213 214 216 215 217 212 218]]\n",
      "[[208 207 188 203 204 218 215 216 214 217 212 213]\n",
      " [208 207 188 203 204 218 215 216 214 217 212 213]\n",
      " [208 207 188 203 204 218 215 216 214 217 212 213]\n",
      " [208 207 188 203 204 218 215 216 214 217 212 213]]\n",
      "[[208 207 188 203 204 218 215 216 214 217 212 213]\n",
      " [208 207 188 203 204 218 215 216 214 217 212 213]\n",
      " [208 207 188 203 204 218 215 216 214 217 212 213]\n",
      " [208 207 188 203 204 218 215 216 214 217 212 213]]\n",
      "[[181 192 184 183 186 213 214 218 215 212 216 217]\n",
      " [181 192 184 183 186 213 214 218 215 212 216 217]\n",
      " [181 192 184 183 186 213 214 218 215 212 216 217]\n",
      " [181 192 184 183 186 213 214 218 215 212 216 217]]\n",
      "[[208 207 188 203 204 218 215 216 214 217 212 213]\n",
      " [208 207 188 203 204 218 215 216 214 217 212 213]\n",
      " [208 207 180 203 204 218 215 216 214 217 212 213]\n",
      " [208 207 188 203 196 218 215 216 214 217 212 213]]\n",
      "[[208 207 188 203 204 218 215 216 214 217 212 213]\n",
      " [208 207 188 203 204 218 215 216 214 217 212 213]\n",
      " [208 207 180 203 204 218 215 216 214 217 212 213]\n",
      " [208 207 188 203 196 218 215 216 214 217 212 213]]\n",
      "[[182 197 192 204 210 214 213 218 215 212 216 217]\n",
      " [182 197 192 204 210 214 213 218 215 212 216 217]\n",
      " [182 197 192 204 210 214 213 218 215 212 216 217]\n",
      " [190 197 192 196 210 214 213 218 215 212 216 217]]\n",
      "[[182 197 192 204 210 214 213 218 215 212 216 217]\n",
      " [182 197 192 204 210 214 213 218 215 212 216 217]\n",
      " [182 197 192 204 210 214 213 218 215 212 216 217]\n",
      " [190 197 192 196 210 214 213 218 215 212 216 217]]\n",
      "[[182 197 192 204 210 214 213 218 215 212 216 217]\n",
      " [182 197 192 204 210 214 213 218 215 212 216 217]\n",
      " [182 197 192 204 210 214 213 218 215 212 216 217]\n",
      " [190 197 192 204 210 214 213 218 215 212 216 217]]\n",
      "[[181 192 184 183 186 213 214 218 215 212 216 217]\n",
      " [181 192 184 183 186 213 214 218 215 212 216 217]\n",
      " [181 192 184 183 186 213 214 218 215 212 216 217]\n",
      " [181 192 184 183 186 213 214 218 215 212 216 217]]\n",
      "[[181 192 184 183 186 213 214 218 215 212 216 217]\n",
      " [181 192 184 183 186 213 214 218 215 212 216 217]\n",
      " [181 192 184 183 186 213 214 218 215 212 216 217]\n",
      " [181 192 184 183 186 213 214 218 215 212 216 217]]\n",
      "[[181 192 184 183 186 213 214 218 215 212 216 217]\n",
      " [181 192 184 183 186 213 214 218 215 212 216 217]\n",
      " [181 192 184 183 186 213 214 218 215 212 216 217]\n",
      " [181 192 184 183 186 213 214 218 215 212 216 217]]\n",
      "[[181 192 184 183 186 213 214 218 215 212 216 217]\n",
      " [181 192 184 183 186 213 214 218 215 212 216 217]\n",
      " [181 192 184 183 186 213 214 218 215 212 216 217]\n",
      " [181 192 184 183 186 213 214 218 215 212 216 217]]\n",
      "[[191 207 206 209 199 213 212 214 215 218 217 216]\n",
      " [191 207 206 209 199 213 212 214 215 218 217 216]\n",
      " [191 207 206 209 199 213 212 214 215 218 217 216]\n",
      " [191 207 206 209 199 213 212 214 215 218 217 216]]\n",
      "[[191 207 206 209 199 213 212 214 215 218 217 216]\n",
      " [191 207 206 209 199 213 212 214 215 218 217 216]\n",
      " [191 207 206 209 199 213 212 214 215 218 217 216]\n",
      " [191 207 206 209 199 213 212 214 215 218 217 216]]\n",
      "[[181 192 184 183 186 213 214 218 215 212 216 217]\n",
      " [181 192 184 183 186 213 214 218 215 212 216 217]\n",
      " [181 192 184 183 186 213 214 218 215 212 216 217]\n",
      " [181 192 184 183 186 213 214 218 215 212 216 217]]\n",
      "[1.] [1.]\n",
      "i_reps 1\n",
      "Energía ini: 34408.635608233184 /gs: 9008.733979639132\n"
     ]
    },
    {
     "name": "stderr",
     "output_type": "stream",
     "text": [
      " 31%|████████████▍                           | 906/2900 [00:34<01:11, 27.94it/s]"
     ]
    },
    {
     "name": "stdout",
     "output_type": "stream",
     "text": [
      "Energy: [9278.02019946 9106.93676692 9003.8373805  9003.8373805  9008.73397964\n",
      " 9003.8373805  9003.8373805  9003.8373805  9003.8373805  9003.8373805\n",
      " 9003.8373805 ]\n"
     ]
    },
    {
     "name": "stderr",
     "output_type": "stream",
     "text": [
      " 33%|█████████████▏                          | 954/2900 [00:35<01:12, 26.72it/s]"
     ]
    },
    {
     "name": "stdout",
     "output_type": "stream",
     "text": [
      "Energy: [9262.96189748 9102.05282377 9003.8373805  9003.8373805  9003.8373805\n",
      " 9003.8373805  9003.8373805  9003.8373805  9003.8373805  9003.8373805\n",
      " 9003.8373805 ]\n"
     ]
    },
    {
     "name": "stderr",
     "output_type": "stream",
     "text": [
      " 35%|█████████████▌                         | 1008/2900 [00:37<01:09, 27.06it/s]"
     ]
    },
    {
     "name": "stdout",
     "output_type": "stream",
     "text": [
      "Energy: [9262.96189748 9102.05282377 9003.8373805  9003.8373805  9003.8373805\n",
      " 9003.8373805  9011.44261254 9003.8373805  9003.8373805  9003.8373805\n",
      " 9003.8373805 ]\n"
     ]
    },
    {
     "name": "stderr",
     "output_type": "stream",
     "text": [
      " 36%|██████████████▏                        | 1056/2900 [00:39<01:09, 26.64it/s]"
     ]
    },
    {
     "name": "stdout",
     "output_type": "stream",
     "text": [
      "Energy: [9262.96189748 9102.05282377 9003.8373805  9003.8373805  9003.8373805\n",
      " 9003.8373805  9003.8373805  9011.44261254 9003.8373805  9003.8373805\n",
      " 9003.8373805 ]\n"
     ]
    },
    {
     "name": "stderr",
     "output_type": "stream",
     "text": [
      " 38%|██████████████▊                        | 1104/2900 [00:41<01:08, 26.37it/s]"
     ]
    },
    {
     "name": "stdout",
     "output_type": "stream",
     "text": [
      "Energy: [9262.96189748 9102.05282377 9003.8373805  9003.8373805  9003.8373805\n",
      " 9003.8373805  9011.44261254 9003.8373805  9003.8373805  9003.8373805\n",
      " 9003.8373805 ]\n"
     ]
    },
    {
     "name": "stderr",
     "output_type": "stream",
     "text": [
      " 40%|███████████████▌                       | 1158/2900 [00:43<01:06, 26.20it/s]"
     ]
    },
    {
     "name": "stdout",
     "output_type": "stream",
     "text": [
      "Energy: [9262.96189748 9003.8373805  9003.8373805  9003.8373805  9003.8373805\n",
      " 9003.8373805  9003.8373805  9003.8373805  9003.8373805  9003.8373805\n",
      " 9003.8373805 ]\n"
     ]
    },
    {
     "name": "stderr",
     "output_type": "stream",
     "text": [
      " 42%|████████████████▏                      | 1206/2900 [00:45<01:02, 27.12it/s]"
     ]
    },
    {
     "name": "stdout",
     "output_type": "stream",
     "text": [
      "Energy: [9262.96189748 9003.8373805  9003.8373805  9003.8373805  9003.8373805\n",
      " 9003.8373805  9003.8373805  9003.8373805  9003.8373805  9003.8373805\n",
      " 9003.8373805 ]\n"
     ]
    },
    {
     "name": "stderr",
     "output_type": "stream",
     "text": [
      " 43%|████████████████▊                      | 1254/2900 [00:47<01:00, 26.99it/s]"
     ]
    },
    {
     "name": "stdout",
     "output_type": "stream",
     "text": [
      "Energy: [9262.96189748 9016.34037409 9003.8373805  9003.8373805  9003.8373805\n",
      " 9003.8373805  9003.8373805  9003.8373805  9003.8373805  9003.8373805\n",
      " 9003.8373805 ]\n"
     ]
    },
    {
     "name": "stderr",
     "output_type": "stream",
     "text": [
      " 45%|█████████████████▌                     | 1305/2900 [00:48<01:00, 26.47it/s]"
     ]
    },
    {
     "name": "stdout",
     "output_type": "stream",
     "text": [
      "Energy: [9262.96189748 9016.34037409 9003.8373805  9003.8373805  9003.8373805\n",
      " 9003.8373805  9003.8373805  9003.8373805  9003.8373805  9003.8373805\n",
      " 9003.8373805 ]\n"
     ]
    },
    {
     "name": "stderr",
     "output_type": "stream",
     "text": [
      " 47%|██████████████████▏                    | 1356/2900 [00:50<01:01, 25.17it/s]"
     ]
    },
    {
     "name": "stdout",
     "output_type": "stream",
     "text": [
      "Energy: [9262.96189748 9023.9441284  9003.8373805  9003.8373805  9003.8373805\n",
      " 9003.8373805  9003.8373805  9003.8373805  9003.8373805  9003.8373805\n",
      " 9003.8373805 ]\n"
     ]
    },
    {
     "name": "stderr",
     "output_type": "stream",
     "text": [
      " 49%|██████████████████▉                    | 1407/2900 [00:52<00:54, 27.39it/s]"
     ]
    },
    {
     "name": "stdout",
     "output_type": "stream",
     "text": [
      "Energy: [9003.8373805  9003.8373805  9003.8373805  9003.8373805  9003.8373805\n",
      " 9003.8373805  9011.44261254 9003.8373805  9003.8373805  9003.8373805\n",
      " 9003.8373805 ]\n"
     ]
    },
    {
     "name": "stderr",
     "output_type": "stream",
     "text": [
      " 50%|███████████████████▌                   | 1455/2900 [00:54<00:52, 27.27it/s]"
     ]
    },
    {
     "name": "stdout",
     "output_type": "stream",
     "text": [
      "Energy: [9003.8373805  9016.34037409 9003.8373805  9003.8373805  9003.8373805\n",
      " 9003.8373805  9003.8373805  9003.8373805  9003.8373805  9003.8373805\n",
      " 9003.8373805 ]\n"
     ]
    },
    {
     "name": "stderr",
     "output_type": "stream",
     "text": [
      " 52%|████████████████████▎                  | 1506/2900 [00:56<00:51, 26.81it/s]"
     ]
    },
    {
     "name": "stdout",
     "output_type": "stream",
     "text": [
      "Energy: [9003.8373805 9003.8373805 9023.9441284 9003.8373805 9003.8373805\n",
      " 9003.8373805 9003.8373805 9003.8373805 9003.8373805 9003.8373805\n",
      " 9003.8373805]\n"
     ]
    },
    {
     "name": "stderr",
     "output_type": "stream",
     "text": [
      " 54%|████████████████████▉                  | 1554/2900 [00:58<00:49, 26.93it/s]"
     ]
    },
    {
     "name": "stdout",
     "output_type": "stream",
     "text": [
      "Energy: [9011.44261254 9003.8373805  9003.8373805  9021.22959962 9008.73397964\n",
      " 9003.8373805  9003.8373805  9003.8373805  9003.8373805  9003.8373805\n",
      " 9003.8373805 ]\n"
     ]
    },
    {
     "name": "stderr",
     "output_type": "stream",
     "text": [
      " 55%|█████████████████████▌                 | 1605/2900 [01:00<00:48, 26.68it/s]"
     ]
    },
    {
     "name": "stdout",
     "output_type": "stream",
     "text": [
      "Energy: [9011.44261254 9003.8373805  9016.34037409 9011.44261254 9003.8373805\n",
      " 9003.8373805  9003.8373805  9003.8373805  9003.8373805  9003.8373805\n",
      " 9003.8373805 ]\n"
     ]
    },
    {
     "name": "stderr",
     "output_type": "stream",
     "text": [
      " 57%|██████████████████████▎                | 1656/2900 [01:02<00:46, 26.81it/s]"
     ]
    },
    {
     "name": "stdout",
     "output_type": "stream",
     "text": [
      "Energy: [9026.64517027 9016.34037409 9003.8373805  9003.8373805  9003.8373805\n",
      " 9011.44261254 9003.8373805  9008.73397964 9003.8373805  9003.8373805\n",
      " 9003.8373805 ]\n"
     ]
    },
    {
     "name": "stderr",
     "output_type": "stream",
     "text": [
      " 59%|██████████████████████▉                | 1704/2900 [01:03<00:45, 26.55it/s]"
     ]
    },
    {
     "name": "stdout",
     "output_type": "stream",
     "text": [
      "Energy: [9026.64517027 9003.8373805  9016.34037409 9003.8373805  9008.73397964\n",
      " 9003.8373805  9003.8373805  9003.8373805  9003.8373805  9003.8373805\n",
      " 9003.8373805 ]\n"
     ]
    },
    {
     "name": "stderr",
     "output_type": "stream",
     "text": [
      " 61%|███████████████████████▌               | 1755/2900 [01:05<00:43, 26.22it/s]"
     ]
    },
    {
     "name": "stdout",
     "output_type": "stream",
     "text": [
      "Energy: [9054.33281141 9003.8373805  9003.8373805  9003.8373805  9008.73397964\n",
      " 9003.8373805  9003.8373805  9003.8373805  9003.8373805  9003.8373805\n",
      " 9003.8373805 ]\n"
     ]
    },
    {
     "name": "stderr",
     "output_type": "stream",
     "text": [
      " 62%|████████████████████████▎              | 1806/2900 [01:07<00:41, 26.55it/s]"
     ]
    },
    {
     "name": "stdout",
     "output_type": "stream",
     "text": [
      "Energy: [9008.73397964 9003.8373805  9003.8373805  9003.8373805  9011.44261254\n",
      " 9003.8373805  9003.8373805  9003.8373805  9003.8373805  9003.8373805\n",
      " 9003.8373805 ]\n"
     ]
    },
    {
     "name": "stderr",
     "output_type": "stream",
     "text": [
      " 64%|████████████████████████▉              | 1854/2900 [01:09<00:39, 26.48it/s]"
     ]
    },
    {
     "name": "stdout",
     "output_type": "stream",
     "text": [
      "Energy: [9003.8373805  9003.8373805  9011.44261254 9008.73397964 9003.8373805\n",
      " 9003.8373805  9003.8373805  9003.8373805  9003.8373805  9003.8373805\n",
      " 9003.8373805 ]\n"
     ]
    },
    {
     "name": "stderr",
     "output_type": "stream",
     "text": [
      " 66%|█████████████████████████▋             | 1908/2900 [01:11<00:38, 26.10it/s]"
     ]
    },
    {
     "name": "stdout",
     "output_type": "stream",
     "text": [
      "Energy: [9003.8373805 9003.8373805 9003.8373805 9003.8373805 9003.8373805\n",
      " 9003.8373805 9003.8373805 9003.8373805 9003.8373805 9003.8373805\n",
      " 9003.8373805]\n"
     ]
    },
    {
     "name": "stderr",
     "output_type": "stream",
     "text": [
      " 67%|██████████████████████████▎            | 1956/2900 [01:13<00:34, 27.20it/s]"
     ]
    },
    {
     "name": "stdout",
     "output_type": "stream",
     "text": [
      "Energy: [9003.8373805  9003.8373805  9003.8373805  9003.8373805  9008.73397964\n",
      " 9003.8373805  9003.8373805  9003.8373805  9003.8373805  9003.8373805\n",
      " 9003.8373805 ]\n"
     ]
    },
    {
     "name": "stderr",
     "output_type": "stream",
     "text": [
      " 69%|██████████████████████████▉            | 2004/2900 [01:14<00:32, 27.90it/s]"
     ]
    },
    {
     "name": "stdout",
     "output_type": "stream",
     "text": [
      "Energy: [9003.8373805  9026.64517027 9003.8373805  9003.8373805  9003.8373805\n",
      " 9008.73397964 9003.8373805  9003.8373805  9003.8373805  9003.8373805\n",
      " 9003.8373805 ]\n"
     ]
    },
    {
     "name": "stderr",
     "output_type": "stream",
     "text": [
      " 71%|███████████████████████████▋           | 2055/2900 [01:16<00:30, 27.67it/s]"
     ]
    },
    {
     "name": "stdout",
     "output_type": "stream",
     "text": [
      "Energy: [9011.44261254 9011.44261254 9003.8373805  9023.9441284  9008.73397964\n",
      " 9003.8373805  9003.8373805  9003.8373805  9003.8373805  9003.8373805\n",
      " 9003.8373805 ]\n"
     ]
    },
    {
     "name": "stderr",
     "output_type": "stream",
     "text": [
      " 73%|████████████████████████████▎          | 2106/2900 [01:18<00:29, 27.18it/s]"
     ]
    },
    {
     "name": "stdout",
     "output_type": "stream",
     "text": [
      "Energy: [9003.8373805  9003.8373805  9003.8373805  9026.64517027 9003.8373805\n",
      " 9003.8373805  9003.8373805  9003.8373805  9003.8373805  9003.8373805\n",
      " 9003.8373805 ]\n"
     ]
    },
    {
     "name": "stderr",
     "output_type": "stream",
     "text": [
      " 74%|████████████████████████████▉          | 2154/2900 [01:20<00:27, 27.00it/s]"
     ]
    },
    {
     "name": "stdout",
     "output_type": "stream",
     "text": [
      "Energy: [9011.44261254 9003.8373805  9003.8373805  9003.8373805  9016.34037409\n",
      " 9003.8373805  9003.8373805  9003.8373805  9003.8373805  9003.8373805\n",
      " 9003.8373805 ]\n"
     ]
    },
    {
     "name": "stderr",
     "output_type": "stream",
     "text": [
      " 76%|█████████████████████████████▋         | 2205/2900 [01:22<00:26, 26.24it/s]"
     ]
    },
    {
     "name": "stdout",
     "output_type": "stream",
     "text": [
      "Energy: [9039.14373006 9003.8373805  9003.8373805  9003.8373805  9016.34037409\n",
      " 9003.8373805  9003.8373805  9003.8373805  9003.8373805  9003.8373805\n",
      " 9003.8373805 ]\n"
     ]
    },
    {
     "name": "stderr",
     "output_type": "stream",
     "text": [
      " 78%|██████████████████████████████▎        | 2256/2900 [01:24<00:23, 27.91it/s]"
     ]
    },
    {
     "name": "stdout",
     "output_type": "stream",
     "text": [
      "Energy: [9016.34037409 9003.8373805  9003.8373805  9003.8373805  9011.44261254\n",
      " 9003.8373805  9003.8373805  9003.8373805  9003.8373805  9003.8373805\n",
      " 9003.8373805 ]\n"
     ]
    },
    {
     "name": "stderr",
     "output_type": "stream",
     "text": [
      " 79%|██████████████████████████████▉        | 2304/2900 [01:26<00:22, 26.07it/s]"
     ]
    },
    {
     "name": "stdout",
     "output_type": "stream",
     "text": [
      "Energy: [9003.8373805  9011.44261254 9003.8373805  9011.44261254 9003.8373805\n",
      " 9011.44261254 9003.8373805  9003.8373805  9003.8373805  9003.8373805\n",
      " 9003.8373805 ]\n"
     ]
    },
    {
     "name": "stderr",
     "output_type": "stream",
     "text": [
      " 81%|███████████████████████████████▋       | 2355/2900 [01:27<00:21, 25.54it/s]"
     ]
    },
    {
     "name": "stdout",
     "output_type": "stream",
     "text": [
      "Energy: [9003.8373805  9003.8373805  9003.8373805  9003.8373805  9003.8373805\n",
      " 9011.44261254 9003.8373805  9003.8373805  9003.8373805  9003.8373805\n",
      " 9003.8373805 ]\n"
     ]
    },
    {
     "name": "stderr",
     "output_type": "stream",
     "text": [
      " 83%|████████████████████████████████▎      | 2406/2900 [01:29<00:18, 26.67it/s]"
     ]
    },
    {
     "name": "stdout",
     "output_type": "stream",
     "text": [
      "Energy: [9008.73397964 9003.8373805  9003.8373805  9003.8373805  9003.8373805\n",
      " 9008.73397964 9003.8373805  9003.8373805  9003.8373805  9003.8373805\n",
      " 9003.8373805 ]\n"
     ]
    },
    {
     "name": "stderr",
     "output_type": "stream",
     "text": [
      " 85%|█████████████████████████████████      | 2454/2900 [01:31<00:16, 26.83it/s]"
     ]
    },
    {
     "name": "stdout",
     "output_type": "stream",
     "text": [
      "Energy: [9003.8373805  9008.73397964 9003.8373805  9003.8373805  9003.8373805\n",
      " 9003.8373805  9003.8373805  9003.8373805  9003.8373805  9003.8373805\n",
      " 9003.8373805 ]\n"
     ]
    },
    {
     "name": "stderr",
     "output_type": "stream",
     "text": [
      " 86%|█████████████████████████████████▋     | 2505/2900 [01:33<00:14, 27.47it/s]"
     ]
    },
    {
     "name": "stdout",
     "output_type": "stream",
     "text": [
      "Energy: [9023.9441284 9003.8373805 9023.9441284 9003.8373805 9003.8373805\n",
      " 9003.8373805 9003.8373805 9003.8373805 9003.8373805 9003.8373805\n",
      " 9003.8373805]\n"
     ]
    },
    {
     "name": "stderr",
     "output_type": "stream",
     "text": [
      " 88%|██████████████████████████████████▎    | 2556/2900 [01:35<00:12, 27.92it/s]"
     ]
    },
    {
     "name": "stdout",
     "output_type": "stream",
     "text": [
      "Energy: [9011.44261254 9003.8373805  9003.8373805  9003.8373805  9003.8373805\n",
      " 9003.8373805  9003.8373805  9003.8373805  9003.8373805  9003.8373805\n",
      " 9003.8373805 ]\n"
     ]
    },
    {
     "name": "stderr",
     "output_type": "stream",
     "text": [
      " 90%|███████████████████████████████████    | 2604/2900 [01:37<00:10, 28.03it/s]"
     ]
    },
    {
     "name": "stdout",
     "output_type": "stream",
     "text": [
      "Energy: [9003.8373805 9003.8373805 9003.8373805 9003.8373805 9003.8373805\n",
      " 9003.8373805 9003.8373805 9003.8373805 9003.8373805 9003.8373805\n",
      " 9003.8373805]\n"
     ]
    },
    {
     "name": "stderr",
     "output_type": "stream",
     "text": [
      " 92%|███████████████████████████████████▋   | 2655/2900 [01:38<00:08, 27.57it/s]"
     ]
    },
    {
     "name": "stdout",
     "output_type": "stream",
     "text": [
      "Energy: [9003.8373805  9023.9441284  9008.73397964 9003.8373805  9003.8373805\n",
      " 9003.8373805  9003.8373805  9003.8373805  9003.8373805  9003.8373805\n",
      " 9003.8373805 ]\n"
     ]
    },
    {
     "name": "stderr",
     "output_type": "stream",
     "text": [
      " 93%|████████████████████████████████████▍  | 2706/2900 [01:40<00:07, 27.24it/s]"
     ]
    },
    {
     "name": "stdout",
     "output_type": "stream",
     "text": [
      "Energy: [9003.8373805  9003.8373805  9008.73397964 9003.8373805  9003.8373805\n",
      " 9003.8373805  9003.8373805  9003.8373805  9003.8373805  9003.8373805\n",
      " 9003.8373805 ]\n"
     ]
    },
    {
     "name": "stderr",
     "output_type": "stream",
     "text": [
      " 95%|█████████████████████████████████████  | 2754/2900 [01:42<00:05, 27.29it/s]"
     ]
    },
    {
     "name": "stdout",
     "output_type": "stream",
     "text": [
      "Energy: [9003.8373805  9011.44261254 9003.8373805  9003.8373805  9011.44261254\n",
      " 9003.8373805  9003.8373805  9003.8373805  9003.8373805  9003.8373805\n",
      " 9003.8373805 ]\n"
     ]
    },
    {
     "name": "stderr",
     "output_type": "stream",
     "text": [
      " 97%|█████████████████████████████████████▋ | 2805/2900 [01:44<00:03, 26.96it/s]"
     ]
    },
    {
     "name": "stdout",
     "output_type": "stream",
     "text": [
      "Energy: [9011.44261254 9011.44261254 9003.8373805  9003.8373805  9003.8373805\n",
      " 9003.8373805  9003.8373805  9003.8373805  9003.8373805  9003.8373805\n",
      " 9003.8373805 ]\n"
     ]
    },
    {
     "name": "stderr",
     "output_type": "stream",
     "text": [
      " 98%|██████████████████████████████████████▍| 2856/2900 [01:46<00:01, 27.51it/s]"
     ]
    },
    {
     "name": "stdout",
     "output_type": "stream",
     "text": [
      "Energy: [9011.44261254 9003.8373805  9003.8373805  9003.8373805  9003.8373805\n",
      " 9003.8373805  9003.8373805  9003.8373805  9003.8373805  9003.8373805\n",
      " 9003.8373805 ]\n"
     ]
    },
    {
     "name": "stderr",
     "output_type": "stream",
     "text": [
      "100%|███████████████████████████████████████| 2900/2900 [01:48<00:00, 26.83it/s]\n"
     ]
    },
    {
     "name": "stdout",
     "output_type": "stream",
     "text": [
      "Fin Energy_t 9003.837380502446 Energy_gs 9008.733979639132\n",
      "c_accep 0 c_rounds 0\n",
      "Elapsed (after compilation) = 108.06973195075989\n",
      "[[202 199 193 191 185 212 213 214 216 215 218 217]\n",
      " [202 199 193 191 185 212 213 214 216 215 217 218]\n",
      " [202 199 193 191 185 212 213 214 216 215 218 217]\n",
      " [202 199 193 191 185 212 213 214 216 215 218 217]]\n",
      "[[183 209 203 192 186 212 218 217 215 213 214 216]\n",
      " [183 209 203 192 186 212 218 217 215 213 214 216]\n",
      " [183 209 203 192 186 212 218 217 215 213 214 216]\n",
      " [183 209 203 192 186 212 218 217 215 213 214 216]]\n",
      "[[202 199 193 191 185 212 213 214 216 215 218 217]\n",
      " [202 199 193 191 185 212 213 214 216 215 218 217]\n",
      " [202 199 193 191 185 212 213 214 216 215 218 217]\n",
      " [202 199 193 191 185 212 213 214 216 215 218 217]]\n",
      "[[202 199 193 191 185 212 213 214 216 215 218 217]\n",
      " [202 199 193 191 185 212 213 214 216 215 217 218]\n",
      " [202 199 193 191 185 212 213 214 216 215 218 217]\n",
      " [202 199 193 191 185 212 213 214 216 215 218 217]]\n",
      "[[202 199 193 191 185 212 213 214 216 215 218 217]\n",
      " [202 199 193 191 185 212 213 214 216 215 218 217]\n",
      " [202 199 193 191 185 212 213 214 216 215 218 217]\n",
      " [202 199 193 191 185 212 213 214 216 215 218 217]]\n",
      "[[202 199 193 191 185 212 213 214 216 215 218 217]\n",
      " [202 199 193 191 185 212 213 214 216 215 218 217]\n",
      " [202 199 193 191 185 212 213 214 216 215 218 217]\n",
      " [202 199 193 191 185 212 213 214 216 215 218 217]]\n",
      "[[204 186 184 192 196 214 217 213 218 216 215 212]\n",
      " [204 186 184 192 196 214 218 213 217 216 215 212]\n",
      " [204 186 184 192 196 214 217 213 218 216 215 212]\n",
      " [204 186 184 192 196 214 217 213 218 216 215 212]]\n",
      "[[184 194 190 205 204 218 212 217 215 216 214 213]\n",
      " [184 194 182 205 204 217 212 218 215 216 214 213]\n",
      " [184 194 182 205 204 218 212 217 215 216 214 213]\n",
      " [184 194 182 205 204 218 212 217 215 216 214 213]]\n",
      "[[204 186 184 192 196 214 217 213 218 216 215 212]\n",
      " [204 186 184 192 196 214 217 213 218 216 215 212]\n",
      " [204 186 184 192 196 214 217 213 218 216 215 212]\n",
      " [204 186 184 192 196 214 217 213 218 216 215 212]]\n",
      "[[184 194 190 205 204 218 212 217 215 216 214 213]\n",
      " [184 194 182 205 204 217 212 218 215 216 214 213]\n",
      " [184 194 182 205 204 218 212 217 215 216 214 213]\n",
      " [184 194 182 205 204 218 212 217 215 216 214 213]]\n",
      "[[184 194 190 205 204 218 212 217 215 216 214 213]\n",
      " [184 194 182 205 204 217 212 218 215 216 214 213]\n",
      " [184 194 182 205 204 218 212 217 215 216 214 213]\n",
      " [184 194 182 205 204 218 212 217 215 216 214 213]]\n",
      "[[184 194 190 205 204 218 212 217 215 216 214 213]\n",
      " [184 194 182 205 204 217 212 218 215 216 214 213]\n",
      " [184 194 182 205 204 218 212 217 215 216 214 213]\n",
      " [184 194 182 205 204 218 212 217 215 216 214 213]]\n",
      "[[203 189 182 190 202 212 216 213 215 214 218 217]\n",
      " [203 189 190 182 202 212 216 213 215 214 218 217]\n",
      " [203 189 190 182 202 212 216 213 215 214 218 217]\n",
      " [203 189 190 182 202 212 216 213 215 214 218 217]]\n",
      "[[184 194 190 205 204 218 212 217 215 216 214 213]\n",
      " [184 194 182 205 204 217 212 218 215 216 214 213]\n",
      " [184 194 182 205 204 218 212 217 215 216 214 213]\n",
      " [184 194 182 205 204 218 212 217 215 216 214 213]]\n",
      "[[180 190 182 183 201 213 217 218 215 216 212 214]\n",
      " [180 182 190 183 201 213 217 218 215 216 212 214]\n",
      " [180 182 190 183 201 213 217 218 215 216 212 214]\n",
      " [180 182 190 183 201 213 217 218 215 216 212 214]]\n",
      "[[203 189 182 190 202 212 216 213 215 214 218 217]\n",
      " [203 189 190 182 202 212 216 213 215 214 217 218]\n",
      " [203 189 190 182 202 212 216 213 215 214 218 217]\n",
      " [203 189 190 182 202 212 216 213 215 214 218 217]]\n",
      "[[203 189 182 190 202 212 216 213 215 214 218 217]\n",
      " [203 189 190 182 202 212 216 213 215 214 217 218]\n",
      " [203 189 190 182 202 212 216 213 215 214 218 217]\n",
      " [203 189 190 182 202 212 216 213 215 214 218 217]]\n",
      "[[180 190 182 183 201 213 217 218 215 216 212 214]\n",
      " [180 182 190 183 201 213 218 217 215 216 212 214]\n",
      " [180 182 190 183 201 213 217 218 215 216 212 214]\n",
      " [188 182 190 183 201 213 217 218 215 216 212 214]]\n",
      "[[192 208 180 200 210 218 215 214 216 213 217 212]\n",
      " [192 208 180 200 210 218 215 214 216 213 217 212]\n",
      " [192 208 180 200 210 218 215 214 216 213 217 212]\n",
      " [192 208 188 200 210 218 215 214 216 213 217 212]]\n",
      "[[192 208 180 200 210 218 215 214 216 213 217 212]\n",
      " [192 208 180 200 210 217 215 214 216 213 218 212]\n",
      " [192 208 180 200 210 218 215 214 216 213 217 212]\n",
      " [192 208 188 200 210 218 215 214 216 213 217 212]]\n",
      "[[192 208 180 200 210 218 215 214 216 213 217 212]\n",
      " [192 208 180 200 210 217 215 214 216 213 218 212]\n",
      " [192 208 180 200 210 218 215 214 216 213 217 212]\n",
      " [192 208 188 200 210 218 215 214 216 213 217 212]]\n",
      "[[190 209 195 206 187 212 217 213 215 218 214 216]\n",
      " [182 209 195 206 187 212 217 213 215 218 214 216]\n",
      " [182 209 195 206 187 212 217 213 215 218 214 216]\n",
      " [182 209 195 206 187 212 217 213 215 218 214 216]]\n",
      "[[192 208 180 200 210 218 215 214 216 213 217 212]\n",
      " [192 208 180 200 210 217 215 214 216 213 218 212]\n",
      " [192 208 180 200 210 218 215 214 216 213 217 212]\n",
      " [192 208 180 200 210 218 215 214 216 213 217 212]]\n",
      "[[192 208 180 200 210 218 215 214 216 213 217 212]\n",
      " [192 208 180 200 210 218 215 214 216 213 217 212]\n",
      " [192 208 180 200 210 218 215 214 216 213 217 212]\n",
      " [192 208 188 200 210 218 215 214 216 213 217 212]]\n",
      "[[204 186 184 192 196 214 217 213 218 216 215 212]\n",
      " [204 186 184 192 196 214 218 213 217 216 215 212]\n",
      " [204 186 184 192 196 214 217 213 218 216 215 212]\n",
      " [204 186 184 192 196 214 217 213 218 216 215 212]]\n",
      "[[192 208 180 200 210 218 215 214 216 213 217 212]\n",
      " [192 208 180 200 210 218 215 214 216 213 217 212]\n",
      " [192 208 180 200 210 218 215 214 216 213 217 212]\n",
      " [192 208 180 200 210 218 215 214 216 213 217 212]]\n",
      "[[192 208 180 200 210 218 215 214 216 213 217 212]\n",
      " [192 208 180 200 210 218 215 214 216 213 217 212]\n",
      " [192 208 180 200 210 218 215 214 216 213 217 212]\n",
      " [192 208 188 200 210 218 215 214 216 213 217 212]]\n",
      "[[205 204 183 189 196 212 213 216 215 217 214 218]\n",
      " [205 204 183 189 196 212 213 216 215 217 214 218]\n",
      " [205 204 183 189 196 212 213 216 215 217 214 218]\n",
      " [205 204 183 189 196 212 213 216 215 217 214 218]]\n",
      "[[205 204 183 189 196 212 213 216 215 217 214 218]\n",
      " [205 204 183 189 196 212 213 216 215 217 214 218]\n",
      " [205 204 183 189 196 212 213 216 215 217 214 218]\n",
      " [205 204 183 189 196 212 213 216 215 217 214 218]]\n",
      "[[192 208 180 200 210 218 215 214 216 213 217 212]\n",
      " [192 208 180 200 210 218 215 214 216 213 217 212]\n",
      " [192 208 180 200 210 218 215 214 216 213 217 212]\n",
      " [192 208 188 200 210 218 215 214 216 213 217 212]]\n",
      "[[192 208 180 200 210 218 215 214 216 213 217 212]\n",
      " [192 208 180 200 210 218 215 214 216 213 217 212]\n",
      " [192 208 180 200 210 218 215 214 216 213 217 212]\n",
      " [192 208 180 200 210 218 215 214 216 213 217 212]]\n",
      "[[192 208 180 200 210 218 215 214 216 213 217 212]\n",
      " [192 208 180 200 210 218 215 214 216 213 217 212]\n",
      " [192 208 180 200 210 218 215 214 216 213 217 212]\n",
      " [192 208 180 200 210 218 215 214 216 213 217 212]]\n",
      "[[192 208 180 200 210 218 215 214 216 213 217 212]\n",
      " [192 208 180 200 210 218 215 214 216 213 217 212]\n",
      " [192 208 180 200 210 218 215 214 216 213 217 212]\n",
      " [192 208 180 200 210 218 215 214 216 213 217 212]]\n",
      "[[192 208 180 200 210 218 215 214 216 213 217 212]\n",
      " [192 208 180 200 210 217 215 214 216 213 218 212]\n",
      " [192 208 180 200 210 218 215 214 216 213 217 212]\n",
      " [192 208 180 200 210 218 215 214 216 213 217 212]]\n",
      "[[192 208 180 200 210 218 215 214 216 213 217 212]\n",
      " [192 208 180 200 210 217 215 214 216 213 218 212]\n",
      " [192 208 180 200 210 218 215 214 216 213 217 212]\n",
      " [192 208 180 200 210 218 215 214 216 213 217 212]]\n",
      "[[204 186 184 192 196 214 217 213 218 216 215 212]\n",
      " [204 186 184 192 196 214 217 213 218 216 215 212]\n",
      " [204 186 184 192 196 214 217 213 218 216 215 212]\n",
      " [204 186 184 192 196 214 217 213 218 216 215 212]]\n",
      "[[204 186 184 192 196 214 217 213 218 216 215 212]\n",
      " [204 186 184 192 196 214 218 213 217 216 215 212]\n",
      " [204 186 184 192 196 214 217 213 218 216 215 212]\n",
      " [204 186 184 192 196 214 217 213 218 216 215 212]]\n",
      "[[204 186 184 192 196 214 217 213 218 216 215 212]\n",
      " [204 186 184 192 196 214 218 213 217 216 215 212]\n",
      " [204 186 184 192 196 214 217 213 218 216 215 212]\n",
      " [204 186 184 192 196 214 217 213 218 216 215 212]]\n",
      "[[204 186 184 192 196 214 217 213 218 216 215 212]\n",
      " [204 186 184 192 196 214 218 213 217 216 215 212]\n",
      " [204 186 184 192 196 214 217 213 218 216 215 212]\n",
      " [204 186 184 192 196 214 217 213 218 216 215 212]]\n",
      "[0.98173516] [0.98173516]\n",
      "i_reps 2\n",
      "Energía ini: 34361.056113523606 /gs: 8990.13890485066\n"
     ]
    },
    {
     "name": "stderr",
     "output_type": "stream",
     "text": [
      " 31%|████████████▍                           | 906/2900 [00:34<01:20, 24.81it/s]"
     ]
    },
    {
     "name": "stdout",
     "output_type": "stream",
     "text": [
      "Energy: [9262.00436353 9224.22711628 8990.13890485 8990.13890485 8995.65931809\n",
      " 8988.03993464 9179.43330499 8988.03993464 8988.03993464 8990.13890485\n",
      " 8988.03993464]\n"
     ]
    },
    {
     "name": "stderr",
     "output_type": "stream",
     "text": [
      " 33%|█████████████▏                          | 954/2900 [00:36<01:12, 26.67it/s]"
     ]
    },
    {
     "name": "stdout",
     "output_type": "stream",
     "text": [
      "Energy: [9262.00436353 9216.66386071 8997.76341003 8990.13890485 8995.65931809\n",
      " 9179.43330499 8988.03993464 8988.03993464 8990.13890485 8988.03993464\n",
      " 8988.03993464]\n"
     ]
    },
    {
     "name": "stderr",
     "output_type": "stream",
     "text": [
      " 35%|█████████████▌                         | 1005/2900 [00:38<01:13, 25.94it/s]"
     ]
    },
    {
     "name": "stdout",
     "output_type": "stream",
     "text": [
      "Energy: [9003.27604049 8990.13890485 8988.03993464 8990.13890485 8990.13890485\n",
      " 8995.65931809 8988.03993464 8988.03993464 8988.03993464 8988.03993464\n",
      " 8990.13890485]\n"
     ]
    },
    {
     "name": "stderr",
     "output_type": "stream",
     "text": [
      " 36%|██████████████▏                        | 1053/2900 [00:40<01:08, 26.81it/s]"
     ]
    },
    {
     "name": "stdout",
     "output_type": "stream",
     "text": [
      "Energy: [8995.65931809 8997.76341003 9010.89010527 8990.13890485 8990.13890485\n",
      " 8995.65931809 8988.03993464 8988.03993464 8988.03993464 8988.03993464\n",
      " 8988.03993464]\n"
     ]
    },
    {
     "name": "stderr",
     "output_type": "stream",
     "text": [
      " 38%|██████████████▊                        | 1104/2900 [00:42<01:16, 23.45it/s]"
     ]
    },
    {
     "name": "stdout",
     "output_type": "stream",
     "text": [
      "Energy: [9008.14453313 8988.03993464 8988.03993464 8988.03993464 8988.03993464\n",
      " 8988.03993464 8988.03993464 8988.03993464 8988.03993464 8988.03993464\n",
      " 8988.03993464]\n"
     ]
    },
    {
     "name": "stderr",
     "output_type": "stream",
     "text": [
      " 40%|███████████████▌                       | 1155/2900 [00:44<01:10, 24.88it/s]"
     ]
    },
    {
     "name": "stdout",
     "output_type": "stream",
     "text": [
      "Energy: [8988.03993464 9005.38524317 8988.03993464 8988.03993464 8990.13890485\n",
      " 8990.13890485 8990.13890485 8988.03993464 8988.03993464 8988.03993464\n",
      " 8988.03993464]\n"
     ]
    },
    {
     "name": "stderr",
     "output_type": "stream",
     "text": [
      " 42%|████████████████▏                      | 1206/2900 [00:46<01:03, 26.67it/s]"
     ]
    },
    {
     "name": "stdout",
     "output_type": "stream",
     "text": [
      "Energy: [8988.03993464 8988.03993464 8990.13890485 8997.76341003 8990.13890485\n",
      " 8988.03993464 8990.13890485 8988.03993464 8988.03993464 8988.03993464\n",
      " 8988.03993464]\n"
     ]
    },
    {
     "name": "stderr",
     "output_type": "stream",
     "text": [
      " 43%|████████████████▊                      | 1254/2900 [00:47<01:02, 26.51it/s]"
     ]
    },
    {
     "name": "stdout",
     "output_type": "stream",
     "text": [
      "Energy: [9003.27604049 8990.13890485 8988.03993464 8988.03993464 8990.13890485\n",
      " 8988.03993464 8990.13890485 8990.13890485 8988.03993464 8988.03993464\n",
      " 8988.03993464]\n"
     ]
    },
    {
     "name": "stderr",
     "output_type": "stream",
     "text": [
      " 45%|█████████████████▌                     | 1305/2900 [00:49<01:02, 25.67it/s]"
     ]
    },
    {
     "name": "stdout",
     "output_type": "stream",
     "text": [
      "Energy: [9010.89010527 8988.03993464 8990.13890485 8990.13890485 8988.03993464\n",
      " 8988.03993464 8990.13890485 8988.03993464 8990.13890485 8988.03993464\n",
      " 8988.03993464]\n"
     ]
    },
    {
     "name": "stderr",
     "output_type": "stream",
     "text": [
      " 47%|██████████████████▏                    | 1353/2900 [00:51<00:59, 26.10it/s]"
     ]
    },
    {
     "name": "stdout",
     "output_type": "stream",
     "text": [
      "Energy: [8995.65931809 8995.65931809 8990.13890485 8988.03993464 8988.03993464\n",
      " 8990.13890485 8988.03993464 8988.03993464 8988.03993464 8988.03993464\n",
      " 8988.03993464]\n"
     ]
    },
    {
     "name": "stderr",
     "output_type": "stream",
     "text": [
      " 49%|██████████████████▉                    | 1407/2900 [00:53<01:00, 24.78it/s]"
     ]
    },
    {
     "name": "stdout",
     "output_type": "stream",
     "text": [
      "Energy: [8990.13890485 8990.13890485 8995.65931809 8990.13890485 8988.03993464\n",
      " 8988.03993464 8995.65931809 8988.03993464 8988.03993464 8988.03993464\n",
      " 8988.03993464]\n"
     ]
    },
    {
     "name": "stderr",
     "output_type": "stream",
     "text": [
      " 50%|███████████████████▌                   | 1455/2900 [00:55<00:53, 27.09it/s]"
     ]
    },
    {
     "name": "stdout",
     "output_type": "stream",
     "text": [
      "Energy: [9008.14453313 8988.03993464 8988.03993464 8988.03993464 8988.03993464\n",
      " 8995.65931809 8988.03993464 8988.03993464 8988.03993464 8988.03993464\n",
      " 8988.03993464]\n"
     ]
    },
    {
     "name": "stderr",
     "output_type": "stream",
     "text": [
      " 52%|████████████████████▎                  | 1506/2900 [00:57<00:50, 27.49it/s]"
     ]
    },
    {
     "name": "stdout",
     "output_type": "stream",
     "text": [
      "Energy: [9017.85565017 8995.65931809 8988.03993464 8988.03993464 8988.03993464\n",
      " 8995.65931809 8988.03993464 8988.03993464 8988.03993464 8990.13890485\n",
      " 8988.03993464]\n"
     ]
    },
    {
     "name": "stderr",
     "output_type": "stream",
     "text": [
      " 54%|████████████████████▉                  | 1554/2900 [00:59<00:50, 26.62it/s]"
     ]
    },
    {
     "name": "stdout",
     "output_type": "stream",
     "text": [
      "Energy: [8990.13890485 8990.13890485 8995.65931809 8990.13890485 8988.03993464\n",
      " 8988.03993464 8988.03993464 8988.03993464 8990.13890485 8988.03993464\n",
      " 8988.03993464]\n"
     ]
    },
    {
     "name": "stderr",
     "output_type": "stream",
     "text": [
      " 55%|█████████████████████▌                 | 1605/2900 [01:01<00:48, 26.68it/s]"
     ]
    },
    {
     "name": "stdout",
     "output_type": "stream",
     "text": [
      "Energy: [8990.13890485 8990.13890485 8990.13890485 8995.65931809 8988.03993464\n",
      " 8990.13890485 8990.13890485 8988.03993464 8988.03993464 8988.03993464\n",
      " 8988.03993464]\n"
     ]
    },
    {
     "name": "stderr",
     "output_type": "stream",
     "text": [
      " 57%|██████████████████████▎                | 1656/2900 [01:03<00:46, 26.98it/s]"
     ]
    },
    {
     "name": "stdout",
     "output_type": "stream",
     "text": [
      "Energy: [8990.13890485 8997.76341003 8990.13890485 8995.65931809 8988.03993464\n",
      " 8990.13890485 8988.03993464 8988.03993464 8988.03993464 8988.03993464\n",
      " 8988.03993464]\n"
     ]
    },
    {
     "name": "stderr",
     "output_type": "stream",
     "text": [
      " 59%|██████████████████████▉                | 1704/2900 [01:04<00:45, 26.03it/s]"
     ]
    },
    {
     "name": "stdout",
     "output_type": "stream",
     "text": [
      "Energy: [9015.75980837 8990.13890485 8988.03993464 8988.03993464 8990.13890485\n",
      " 8988.03993464 8988.03993464 8988.03993464 8988.03993464 8988.03993464\n",
      " 8988.03993464]\n"
     ]
    },
    {
     "name": "stderr",
     "output_type": "stream",
     "text": [
      " 61%|███████████████████████▌               | 1755/2900 [01:06<00:41, 27.55it/s]"
     ]
    },
    {
     "name": "stdout",
     "output_type": "stream",
     "text": [
      "Energy: [9005.38524317 8990.13890485 8990.13890485 8990.13890485 8988.03993464\n",
      " 8988.03993464 8988.03993464 8988.03993464 8988.03993464 8988.03993464\n",
      " 8988.03993464]\n"
     ]
    },
    {
     "name": "stderr",
     "output_type": "stream",
     "text": [
      " 62%|████████████████████████▎              | 1806/2900 [01:08<00:39, 27.54it/s]"
     ]
    },
    {
     "name": "stdout",
     "output_type": "stream",
     "text": [
      "Energy: [9005.38524317 9003.27604049 8990.13890485 8990.13890485 8995.65931809\n",
      " 8988.03993464 8990.13890485 8990.13890485 8988.03993464 8988.03993464\n",
      " 8988.03993464]\n"
     ]
    },
    {
     "name": "stderr",
     "output_type": "stream",
     "text": [
      " 64%|████████████████████████▉              | 1854/2900 [01:10<00:39, 26.76it/s]"
     ]
    },
    {
     "name": "stdout",
     "output_type": "stream",
     "text": [
      "Energy: [8988.03993464 9005.38524317 8988.03993464 8988.03993464 8988.03993464\n",
      " 8988.03993464 8988.03993464 8988.03993464 8988.03993464 8988.03993464\n",
      " 8988.03993464]\n"
     ]
    },
    {
     "name": "stderr",
     "output_type": "stream",
     "text": [
      " 66%|█████████████████████████▌             | 1905/2900 [01:12<00:36, 27.51it/s]"
     ]
    },
    {
     "name": "stdout",
     "output_type": "stream",
     "text": [
      "Energy: [8988.03993464 8997.76341003 8988.03993464 8988.03993464 8988.03993464\n",
      " 8988.03993464 8988.03993464 8988.03993464 8988.03993464 8988.03993464\n",
      " 8988.03993464]\n"
     ]
    },
    {
     "name": "stderr",
     "output_type": "stream",
     "text": [
      " 67%|██████████████████████████▎            | 1956/2900 [01:14<00:35, 26.90it/s]"
     ]
    },
    {
     "name": "stdout",
     "output_type": "stream",
     "text": [
      "Energy: [9013.00440773 8988.03993464 8988.03993464 8988.03993464 8988.03993464\n",
      " 8988.03993464 8988.03993464 8988.03993464 8988.03993464 8988.03993464\n",
      " 8988.03993464]\n"
     ]
    },
    {
     "name": "stderr",
     "output_type": "stream",
     "text": [
      " 69%|██████████████████████████▉            | 2007/2900 [01:16<00:33, 26.50it/s]"
     ]
    },
    {
     "name": "stdout",
     "output_type": "stream",
     "text": [
      "Energy: [9005.38524317 8995.65931809 8988.03993464 8988.03993464 8988.03993464\n",
      " 8988.03993464 8988.03993464 8990.13890485 8988.03993464 8990.13890485\n",
      " 8988.03993464]\n"
     ]
    },
    {
     "name": "stderr",
     "output_type": "stream",
     "text": [
      " 71%|███████████████████████████▋           | 2055/2900 [01:18<00:31, 27.11it/s]"
     ]
    },
    {
     "name": "stdout",
     "output_type": "stream",
     "text": [
      "Energy: [8988.03993464 8997.76341003 8988.03993464 8990.13890485 8988.03993464\n",
      " 8988.03993464 8988.03993464 8988.03993464 8988.03993464 8990.13890485\n",
      " 8988.03993464]\n"
     ]
    },
    {
     "name": "stderr",
     "output_type": "stream",
     "text": [
      " 73%|████████████████████████████▎          | 2106/2900 [01:19<00:30, 26.39it/s]"
     ]
    },
    {
     "name": "stdout",
     "output_type": "stream",
     "text": [
      "Energy: [8990.13890485 8997.76341003 8988.03993464 8988.03993464 8988.03993464\n",
      " 8988.03993464 8988.03993464 8990.13890485 8988.03993464 8988.03993464\n",
      " 8988.03993464]\n"
     ]
    },
    {
     "name": "stderr",
     "output_type": "stream",
     "text": [
      " 74%|████████████████████████████▉          | 2154/2900 [01:21<00:28, 26.22it/s]"
     ]
    },
    {
     "name": "stdout",
     "output_type": "stream",
     "text": [
      "Energy: [8988.03993464 8988.03993464 8988.03993464 8988.03993464 8988.03993464\n",
      " 8995.65931809 8988.03993464 8995.65931809 8988.03993464 8988.03993464\n",
      " 8988.03993464]\n"
     ]
    },
    {
     "name": "stderr",
     "output_type": "stream",
     "text": [
      " 76%|█████████████████████████████▋         | 2205/2900 [01:23<00:26, 26.66it/s]"
     ]
    },
    {
     "name": "stdout",
     "output_type": "stream",
     "text": [
      "Energy: [9003.27604049 8988.03993464 8990.13890485 8988.03993464 8990.13890485\n",
      " 8995.65931809 8988.03993464 8988.03993464 8988.03993464 8988.03993464\n",
      " 8990.13890485]\n"
     ]
    },
    {
     "name": "stderr",
     "output_type": "stream",
     "text": [
      " 78%|██████████████████████████████▎        | 2256/2900 [01:25<00:23, 27.08it/s]"
     ]
    },
    {
     "name": "stdout",
     "output_type": "stream",
     "text": [
      "Energy: [8988.03993464 8988.03993464 8988.03993464 8990.13890485 8995.65931809\n",
      " 8988.03993464 8988.03993464 8990.13890485 8988.03993464 8988.03993464\n",
      " 8988.03993464]\n"
     ]
    },
    {
     "name": "stderr",
     "output_type": "stream",
     "text": [
      " 79%|██████████████████████████████▉        | 2304/2900 [01:27<00:24, 24.21it/s]"
     ]
    },
    {
     "name": "stdout",
     "output_type": "stream",
     "text": [
      "Energy: [8988.03993464 8988.03993464 8988.03993464 8988.03993464 8988.03993464\n",
      " 8988.03993464 8988.03993464 8988.03993464 8988.03993464 8988.03993464\n",
      " 8988.03993464]\n"
     ]
    },
    {
     "name": "stderr",
     "output_type": "stream",
     "text": [
      " 81%|███████████████████████████████▋       | 2355/2900 [01:29<00:19, 27.31it/s]"
     ]
    },
    {
     "name": "stdout",
     "output_type": "stream",
     "text": [
      "Energy: [9002.61216502 8988.03993464 8988.03993464 8988.03993464 8988.03993464\n",
      " 8988.03993464 8988.03993464 8988.03993464 8990.13890485 8988.03993464\n",
      " 8988.03993464]\n"
     ]
    },
    {
     "name": "stderr",
     "output_type": "stream",
     "text": [
      " 83%|████████████████████████████████▎      | 2406/2900 [01:31<00:17, 27.46it/s]"
     ]
    },
    {
     "name": "stdout",
     "output_type": "stream",
     "text": [
      "Energy: [8988.03993464 8988.03993464 8990.13890485 8988.03993464 8988.03993464\n",
      " 8990.13890485 9003.27604049 8988.03993464 8988.03993464 8997.76341003\n",
      " 8988.03993464]\n"
     ]
    },
    {
     "name": "stderr",
     "output_type": "stream",
     "text": [
      " 85%|█████████████████████████████████      | 2454/2900 [01:33<00:17, 24.91it/s]"
     ]
    },
    {
     "name": "stdout",
     "output_type": "stream",
     "text": [
      "Energy: [8988.03993464 8988.03993464 8988.03993464 8995.65931809 8988.03993464\n",
      " 8995.65931809 8988.03993464 8988.03993464 8990.13890485 8988.03993464\n",
      " 8988.03993464]\n"
     ]
    },
    {
     "name": "stderr",
     "output_type": "stream",
     "text": [
      " 86%|█████████████████████████████████▋     | 2505/2900 [01:35<00:14, 26.95it/s]"
     ]
    },
    {
     "name": "stdout",
     "output_type": "stream",
     "text": [
      "Energy: [8988.03993464 8988.03993464 8988.03993464 8995.65931809 8995.65931809\n",
      " 8988.03993464 8988.03993464 8988.03993464 8990.13890485 8988.03993464\n",
      " 8988.03993464]\n"
     ]
    },
    {
     "name": "stderr",
     "output_type": "stream",
     "text": [
      " 88%|██████████████████████████████████▎    | 2556/2900 [01:37<00:13, 26.28it/s]"
     ]
    },
    {
     "name": "stdout",
     "output_type": "stream",
     "text": [
      "Energy: [8988.03993464 8990.13890485 8990.13890485 8990.13890485 8990.13890485\n",
      " 8988.03993464 8990.13890485 8990.13890485 8990.13890485 8988.03993464\n",
      " 8988.03993464]\n"
     ]
    },
    {
     "name": "stderr",
     "output_type": "stream",
     "text": [
      " 90%|███████████████████████████████████    | 2604/2900 [01:38<00:11, 26.72it/s]"
     ]
    },
    {
     "name": "stdout",
     "output_type": "stream",
     "text": [
      "Energy: [8995.65931809 8990.13890485 8988.03993464 8988.03993464 8990.13890485\n",
      " 8988.03993464 8988.03993464 8990.13890485 8988.03993464 8988.03993464\n",
      " 8990.13890485]\n"
     ]
    },
    {
     "name": "stderr",
     "output_type": "stream",
     "text": [
      " 92%|███████████████████████████████████▋   | 2655/2900 [01:40<00:09, 26.96it/s]"
     ]
    },
    {
     "name": "stdout",
     "output_type": "stream",
     "text": [
      "Energy: [8997.76341003 8988.03993464 8988.03993464 8988.03993464 8988.03993464\n",
      " 8988.03993464 8988.03993464 8988.03993464 8988.03993464 8988.03993464\n",
      " 8988.03993464]\n"
     ]
    },
    {
     "name": "stderr",
     "output_type": "stream",
     "text": [
      " 93%|████████████████████████████████████▍  | 2706/2900 [01:42<00:07, 25.88it/s]"
     ]
    },
    {
     "name": "stdout",
     "output_type": "stream",
     "text": [
      "Energy: [8990.13890485 8990.13890485 8990.13890485 8988.03993464 8988.03993464\n",
      " 8990.13890485 8995.65931809 8988.03993464 8988.03993464 8988.03993464\n",
      " 8988.03993464]\n"
     ]
    },
    {
     "name": "stderr",
     "output_type": "stream",
     "text": [
      " 95%|█████████████████████████████████████  | 2754/2900 [01:44<00:05, 27.31it/s]"
     ]
    },
    {
     "name": "stdout",
     "output_type": "stream",
     "text": [
      "Energy: [8995.65931809 8995.65931809 8988.03993464 8988.03993464 8990.13890485\n",
      " 8995.65931809 8990.13890485 8995.65931809 8988.03993464 8988.03993464\n",
      " 8988.03993464]\n"
     ]
    },
    {
     "name": "stderr",
     "output_type": "stream",
     "text": [
      " 97%|█████████████████████████████████████▋ | 2805/2900 [01:46<00:03, 26.34it/s]"
     ]
    },
    {
     "name": "stdout",
     "output_type": "stream",
     "text": [
      "Energy: [8995.65931809 8995.65931809 8990.13890485 8988.03993464 8988.03993464\n",
      " 8997.76341003 8988.03993464 8995.65931809 8988.03993464 8988.03993464\n",
      " 8988.03993464]\n"
     ]
    },
    {
     "name": "stderr",
     "output_type": "stream",
     "text": [
      " 98%|██████████████████████████████████████▍| 2856/2900 [01:48<00:01, 26.92it/s]"
     ]
    },
    {
     "name": "stdout",
     "output_type": "stream",
     "text": [
      "Energy: [9003.27604049 8995.65931809 8990.13890485 8988.03993464 8990.13890485\n",
      " 8988.03993464 8988.03993464 8995.65931809 8988.03993464 8988.03993464\n",
      " 8990.13890485]\n"
     ]
    },
    {
     "name": "stderr",
     "output_type": "stream",
     "text": [
      "100%|███████████████████████████████████████| 2900/2900 [01:50<00:00, 26.33it/s]\n"
     ]
    },
    {
     "name": "stdout",
     "output_type": "stream",
     "text": [
      "Fin Energy_t 8988.039934637796 Energy_gs 8990.13890485066\n",
      "c_accep 0 c_rounds 0\n",
      "Elapsed (after compilation) = 110.12930226325989\n",
      "[[207 202 209 183 196 212 218 214 215 216 217 213]\n",
      " [207 202 209 183 196 212 218 214 215 216 217 213]\n",
      " [207 202 209 183 196 212 218 214 215 216 217 213]\n",
      " [207 202 209 183 196 212 218 214 215 216 217 213]]\n",
      "[[198 181 195 210 200 212 215 218 213 216 217 214]\n",
      " [198 181 195 210 200 212 215 218 213 216 217 214]\n",
      " [198 181 195 210 200 212 215 218 213 216 217 214]\n",
      " [198 181 195 208 200 212 215 218 213 216 217 214]]\n",
      "[[195 196 201 207 199 213 217 218 215 214 216 212]\n",
      " [195 196 201 207 199 213 217 218 215 214 216 212]\n",
      " [195 196 201 207 199 213 217 218 215 214 216 212]\n",
      " [195 196 201 207 199 213 217 218 215 214 216 212]]\n",
      "[[198 181 195 210 200 212 215 218 213 216 217 214]\n",
      " [198 181 195 210 200 212 215 218 213 216 217 214]\n",
      " [198 181 195 210 200 212 215 218 213 216 217 214]\n",
      " [198 181 195 210 200 212 215 218 213 216 217 214]]\n",
      "[[198 181 195 210 200 212 215 218 213 216 217 214]\n",
      " [198 181 195 210 200 212 215 218 213 216 217 214]\n",
      " [198 181 195 210 200 212 215 218 213 216 217 214]\n",
      " [198 181 195 210 200 212 215 218 213 216 217 214]]\n",
      "[[209 191 180 189 204 213 216 214 215 218 212 217]\n",
      " [209 191 180 189 204 213 216 214 215 218 212 217]\n",
      " [209 191 180 189 204 213 216 214 215 218 212 217]\n",
      " [209 191 180 189 204 213 216 214 215 218 212 217]]\n",
      "[[209 191 180 189 204 213 216 214 215 218 212 217]\n",
      " [209 191 180 189 204 213 216 214 215 218 212 217]\n",
      " [209 191 180 189 204 213 216 214 215 218 212 217]\n",
      " [209 191 180 189 204 213 216 214 215 218 212 217]]\n",
      "[[195 196 201 207 199 213 217 218 215 214 216 212]\n",
      " [195 196 201 207 199 213 217 218 215 214 216 212]\n",
      " [195 196 201 207 199 213 217 218 215 214 216 212]\n",
      " [195 196 201 207 199 213 217 218 215 214 216 212]]\n",
      "[[198 181 195 210 200 212 215 218 213 216 217 214]\n",
      " [198 181 195 210 200 212 215 218 213 216 217 214]\n",
      " [198 181 195 210 200 212 215 218 213 216 217 214]\n",
      " [198 181 195 208 200 212 215 218 213 216 217 214]]\n",
      "[[181 211 191 207 186 213 218 215 216 212 217 214]\n",
      " [181 211 191 207 186 213 218 215 216 212 217 214]\n",
      " [181 211 191 207 186 213 218 215 216 212 217 214]\n",
      " [181 211 191 207 186 213 218 215 216 212 217 214]]\n",
      "[[181 211 191 207 186 213 218 215 216 212 217 214]\n",
      " [181 211 191 207 186 213 218 215 216 212 217 214]\n",
      " [181 211 191 207 186 213 218 215 216 212 217 214]\n",
      " [181 211 191 207 186 213 218 215 216 212 217 214]]\n",
      "[[180 189 198 183 188 214 213 218 216 215 212 217]\n",
      " [180 189 198 183 188 214 213 218 216 215 212 217]\n",
      " [180 189 198 183 188 214 213 218 216 215 212 217]\n",
      " [180 189 198 183 188 214 213 218 216 215 212 217]]\n",
      "[[181 211 191 207 186 213 218 215 216 212 217 214]\n",
      " [181 211 191 207 186 213 218 215 216 212 217 214]\n",
      " [181 211 191 207 186 213 218 215 216 212 217 214]\n",
      " [181 211 191 207 186 213 218 215 216 212 217 214]]\n",
      "[[181 211 191 207 186 213 218 215 216 212 217 214]\n",
      " [181 211 191 207 186 213 218 215 216 212 217 214]\n",
      " [181 211 191 207 186 213 218 215 216 212 217 214]\n",
      " [181 211 191 207 186 213 218 215 216 212 217 214]]\n",
      "[[181 211 191 207 186 213 218 215 216 212 217 214]\n",
      " [181 211 191 207 186 213 218 215 216 212 217 214]\n",
      " [181 211 191 207 186 213 218 215 216 212 217 214]\n",
      " [181 211 191 207 186 213 218 215 216 212 217 214]]\n",
      "[[181 211 191 207 186 213 218 215 216 212 217 214]\n",
      " [181 211 191 207 186 213 218 215 216 212 217 214]\n",
      " [181 211 191 207 186 213 218 215 216 212 217 214]\n",
      " [181 211 191 207 186 213 218 215 216 212 217 214]]\n",
      "[[209 191 180 189 204 213 216 214 215 218 212 217]\n",
      " [209 191 180 189 204 213 216 214 215 218 212 217]\n",
      " [209 191 180 189 204 213 216 214 215 218 212 217]\n",
      " [209 191 180 189 204 213 216 214 215 218 212 217]]\n",
      "[[198 181 195 210 200 212 215 218 213 216 217 214]\n",
      " [198 181 195 210 200 212 215 218 213 216 217 214]\n",
      " [198 181 195 210 200 212 215 218 213 216 217 214]\n",
      " [198 181 195 208 200 212 215 218 213 216 217 214]]\n",
      "[[209 191 180 189 204 213 216 214 215 218 212 217]\n",
      " [209 191 180 189 204 213 216 214 215 218 212 217]\n",
      " [209 191 180 189 204 213 216 214 215 218 212 217]\n",
      " [209 191 180 189 204 213 216 214 215 218 212 217]]\n",
      "[[209 191 180 189 204 213 216 214 215 218 212 217]\n",
      " [209 191 180 189 204 213 216 214 215 218 212 217]\n",
      " [209 191 180 189 204 213 216 214 215 218 212 217]\n",
      " [209 191 180 189 204 213 216 214 215 218 212 217]]\n",
      "[[181 211 191 207 186 213 218 215 216 212 217 214]\n",
      " [181 211 191 207 186 213 218 215 216 212 217 214]\n",
      " [181 211 191 207 186 213 218 215 216 212 217 214]\n",
      " [181 211 191 207 186 213 218 215 216 212 217 214]]\n",
      "[[181 211 191 207 186 213 218 215 216 212 217 214]\n",
      " [181 211 191 207 186 213 218 215 216 212 217 214]\n",
      " [181 211 191 207 186 213 218 215 216 212 217 214]\n",
      " [181 211 191 207 186 213 218 215 216 212 217 214]]\n",
      "[[181 211 191 207 186 213 218 215 216 212 217 214]\n",
      " [181 211 191 207 186 213 218 215 216 212 217 214]\n",
      " [181 211 191 207 186 213 218 215 216 212 217 214]\n",
      " [181 211 191 207 186 213 218 215 216 212 217 214]]\n",
      "[[181 211 191 207 186 213 218 215 216 212 217 214]\n",
      " [181 211 191 207 186 213 218 215 216 212 217 214]\n",
      " [181 211 191 207 186 213 218 215 216 212 217 214]\n",
      " [181 211 191 207 186 213 218 215 216 212 217 214]]\n",
      "[[198 181 195 210 200 212 215 218 213 216 217 214]\n",
      " [198 181 195 210 200 212 215 218 213 216 217 214]\n",
      " [198 181 195 210 200 212 215 218 213 216 217 214]\n",
      " [198 181 195 208 200 212 215 218 213 216 217 214]]\n",
      "[[181 211 191 207 186 213 218 215 216 212 217 214]\n",
      " [181 211 191 207 186 213 218 215 216 212 217 214]\n",
      " [181 211 191 207 186 213 218 215 216 212 217 214]\n",
      " [181 211 191 207 186 213 218 215 216 212 217 214]]\n",
      "[[198 181 195 210 200 212 215 218 213 216 217 214]\n",
      " [198 181 195 210 200 212 215 218 213 216 217 214]\n",
      " [198 181 195 210 200 212 215 218 213 216 217 214]\n",
      " [198 181 195 210 200 212 215 218 213 216 217 214]]\n",
      "[[204 203 201 199 182 217 218 214 215 212 216 213]\n",
      " [204 203 201 199 182 217 218 214 215 212 216 213]\n",
      " [204 203 201 199 182 217 218 214 215 212 216 213]\n",
      " [204 203 201 199 190 217 218 214 215 212 216 213]]\n",
      "[[181 211 191 207 186 213 218 215 216 212 217 214]\n",
      " [181 211 191 207 186 213 218 215 216 212 217 214]\n",
      " [181 211 191 207 186 213 218 215 216 212 217 214]\n",
      " [181 211 191 207 186 213 218 215 216 212 217 214]]\n",
      "[[209 191 180 189 204 213 216 214 215 218 212 217]\n",
      " [209 191 180 189 204 213 216 214 215 218 212 217]\n",
      " [209 191 180 189 204 213 216 214 215 218 212 217]\n",
      " [209 191 180 189 204 213 216 214 215 218 212 217]]\n",
      "[[209 191 180 189 204 213 216 214 215 218 212 217]\n",
      " [209 191 180 189 204 213 216 214 215 218 212 217]\n",
      " [209 191 180 189 204 213 216 214 215 218 212 217]\n",
      " [209 191 180 189 204 213 216 214 215 218 212 217]]\n",
      "[[207 202 209 183 196 212 218 214 215 216 217 213]\n",
      " [207 202 209 183 196 212 218 214 215 216 217 213]\n",
      " [207 202 209 183 196 212 218 214 215 216 217 213]\n",
      " [207 202 209 183 196 212 218 214 215 216 217 213]]\n",
      "[[207 202 209 183 196 212 218 214 215 216 217 213]\n",
      " [207 202 209 183 196 212 218 214 215 216 217 213]\n",
      " [207 202 209 183 196 212 218 214 215 216 217 213]\n",
      " [207 202 209 183 196 212 218 214 215 216 217 213]]\n",
      "[[209 191 180 189 204 213 216 214 215 218 212 217]\n",
      " [209 191 180 189 204 213 216 214 215 218 212 217]\n",
      " [209 191 180 189 204 213 216 214 215 218 212 217]\n",
      " [209 191 180 189 204 213 216 214 215 218 212 217]]\n",
      "[[195 185 196 189 192 213 218 214 215 212 216 217]\n",
      " [195 185 196 189 192 213 218 214 215 212 216 217]\n",
      " [195 185 196 189 192 213 218 214 215 212 216 217]\n",
      " [195 185 196 189 192 213 218 214 215 212 216 217]]\n",
      "[[195 185 196 189 192 213 218 214 215 212 216 217]\n",
      " [195 185 196 189 192 213 218 214 215 212 216 217]\n",
      " [195 185 196 189 192 213 218 214 215 212 216 217]\n",
      " [195 185 196 189 192 213 218 214 215 212 216 217]]\n",
      "[[195 185 196 189 192 213 218 214 215 212 216 217]\n",
      " [195 185 196 189 192 213 218 214 215 212 216 217]\n",
      " [195 185 196 189 192 213 218 214 215 212 216 217]\n",
      " [195 185 196 189 192 213 218 214 215 212 216 217]]\n",
      "[[207 202 209 183 196 212 218 214 215 216 217 213]\n",
      " [207 202 209 183 196 212 218 214 215 216 217 213]\n",
      " [207 202 209 183 196 212 218 214 215 216 217 213]\n",
      " [207 202 209 183 196 212 218 214 215 216 217 213]]\n",
      "[[207 202 209 183 196 212 218 214 215 216 217 213]\n",
      " [207 202 209 183 196 212 218 214 215 216 217 213]\n",
      " [207 202 209 183 196 212 218 214 215 216 217 213]\n",
      " [207 202 209 183 196 212 218 214 215 216 217 213]]\n",
      "[1.] [1.]\n",
      "i_reps 3\n",
      "Energía ini: 34476.39225570394 /gs: 8904.129508561316\n"
     ]
    },
    {
     "name": "stderr",
     "output_type": "stream",
     "text": [
      " 31%|████████████▍                           | 906/2900 [00:34<01:13, 27.01it/s]"
     ]
    },
    {
     "name": "stdout",
     "output_type": "stream",
     "text": [
      "Energy: [9248.65142815 8904.12950856 9113.28194561 8904.12950856 8904.12950856\n",
      " 8904.12950856 8911.71424704 8904.12950856 8904.12950856 8904.12950856\n",
      " 8904.12950856]\n"
     ]
    },
    {
     "name": "stderr",
     "output_type": "stream",
     "text": [
      " 33%|█████████████▏                          | 954/2900 [00:36<01:09, 28.07it/s]"
     ]
    },
    {
     "name": "stdout",
     "output_type": "stream",
     "text": [
      "Energy: [8904.12950856 8904.12950856 8904.12950856 8904.12950856 8904.12950856\n",
      " 8904.12950856 8904.12950856 8904.12950856 8911.71424704 8904.12950856\n",
      " 8904.12950856]\n"
     ]
    },
    {
     "name": "stderr",
     "output_type": "stream",
     "text": [
      " 35%|█████████████▌                         | 1005/2900 [00:38<01:10, 26.98it/s]"
     ]
    },
    {
     "name": "stdout",
     "output_type": "stream",
     "text": [
      "Energy: [8919.29641249 8914.22135652 8904.12950856 8904.12950856 8904.12950856\n",
      " 8904.12950856 8904.12950856 8904.12950856 8904.12950856 8904.12950856\n",
      " 8904.12950856]\n"
     ]
    },
    {
     "name": "stderr",
     "output_type": "stream",
     "text": [
      " 36%|██████████████▏                        | 1056/2900 [00:39<01:10, 26.16it/s]"
     ]
    },
    {
     "name": "stdout",
     "output_type": "stream",
     "text": [
      "Energy: [8911.71424704 8904.12950856 8904.12950856 8904.12950856 8904.12950856\n",
      " 8904.12950856 8904.12950856 8904.12950856 8904.12950856 8904.12950856\n",
      " 8904.12950856]\n"
     ]
    },
    {
     "name": "stderr",
     "output_type": "stream",
     "text": [
      " 38%|██████████████▊                        | 1104/2900 [00:41<01:05, 27.58it/s]"
     ]
    },
    {
     "name": "stdout",
     "output_type": "stream",
     "text": [
      "Energy: [8911.71424704 8919.29641249 8904.12950856 8904.12950856 8904.12950856\n",
      " 8904.12950856 8904.12950856 8904.12950856 8904.12950856 8904.12950856\n",
      " 8904.12950856]\n"
     ]
    },
    {
     "name": "stderr",
     "output_type": "stream",
     "text": [
      " 40%|███████████████▍                       | 1152/2900 [00:43<01:07, 25.72it/s]"
     ]
    },
    {
     "name": "stdout",
     "output_type": "stream",
     "text": [
      "Energy: [8919.29641249 8911.71424704 8904.12950856 8904.12950856 8904.12950856\n",
      " 8904.12950856 8904.12950856 8904.12950856 8904.12950856 8904.12950856\n",
      " 8904.12950856]\n"
     ]
    },
    {
     "name": "stderr",
     "output_type": "stream",
     "text": [
      " 42%|████████████████▏                      | 1206/2900 [00:45<01:02, 27.05it/s]"
     ]
    },
    {
     "name": "stdout",
     "output_type": "stream",
     "text": [
      "Energy: [8919.29641249 8904.12950856 8904.12950856 8904.12950856 8904.12950856\n",
      " 8904.12950856 8904.12950856 8904.12950856 8904.12950856 8904.12950856\n",
      " 8904.12950856]\n"
     ]
    },
    {
     "name": "stderr",
     "output_type": "stream",
     "text": [
      " 43%|████████████████▊                      | 1254/2900 [00:47<00:59, 27.66it/s]"
     ]
    },
    {
     "name": "stdout",
     "output_type": "stream",
     "text": [
      "Energy: [8921.80006705 8904.12950856 8919.29641249 8904.12950856 8904.12950856\n",
      " 8904.12950856 8904.12950856 8904.12950856 8904.12950856 8904.12950856\n",
      " 8904.12950856]\n"
     ]
    },
    {
     "name": "stderr",
     "output_type": "stream",
     "text": [
      " 45%|█████████████████▌                     | 1305/2900 [00:49<00:58, 27.11it/s]"
     ]
    },
    {
     "name": "stdout",
     "output_type": "stream",
     "text": [
      "Energy: [8904.12950856 8911.71424704 8904.12950856 8919.29641249 8904.12950856\n",
      " 8904.12950856 8904.12950856 8904.12950856 8904.12950856 8904.12950856\n",
      " 8904.12950856]\n"
     ]
    },
    {
     "name": "stderr",
     "output_type": "stream",
     "text": [
      " 47%|██████████████████▏                    | 1356/2900 [00:50<00:56, 27.54it/s]"
     ]
    },
    {
     "name": "stdout",
     "output_type": "stream",
     "text": [
      "Energy: [8904.12950856 8911.71424704 8904.12950856 8911.71424704 8904.12950856\n",
      " 8904.12950856 8904.12950856 8904.12950856 8904.12950856 8904.12950856\n",
      " 8904.12950856]\n"
     ]
    },
    {
     "name": "stderr",
     "output_type": "stream",
     "text": [
      " 48%|██████████████████▉                    | 1404/2900 [00:52<00:53, 27.74it/s]"
     ]
    },
    {
     "name": "stdout",
     "output_type": "stream",
     "text": [
      "Energy: [8904.12950856 8926.87600803 8904.12950856 8904.12950856 8904.12950856\n",
      " 8904.12950856 8904.12950856 8904.12950856 8904.12950856 8904.12950856\n",
      " 8904.12950856]\n"
     ]
    },
    {
     "name": "stderr",
     "output_type": "stream",
     "text": [
      " 50%|███████████████████▌                   | 1455/2900 [00:54<00:52, 27.57it/s]"
     ]
    },
    {
     "name": "stdout",
     "output_type": "stream",
     "text": [
      "Energy: [8911.71424704 8911.71424704 8914.22135652 8904.12950856 8904.12950856\n",
      " 8904.12950856 8904.12950856 8904.12950856 8904.12950856 8904.12950856\n",
      " 8904.12950856]\n"
     ]
    },
    {
     "name": "stderr",
     "output_type": "stream",
     "text": [
      " 52%|████████████████████▎                  | 1506/2900 [00:56<00:50, 27.83it/s]"
     ]
    },
    {
     "name": "stdout",
     "output_type": "stream",
     "text": [
      "Energy: [8911.71424704 8904.12950856 8904.12950856 8904.12950856 8904.12950856\n",
      " 8904.12950856 8904.12950856 8904.12950856 8904.12950856 8904.12950856\n",
      " 8904.12950856]\n"
     ]
    },
    {
     "name": "stderr",
     "output_type": "stream",
     "text": [
      " 54%|████████████████████▉                  | 1557/2900 [00:58<00:48, 27.71it/s]"
     ]
    },
    {
     "name": "stdout",
     "output_type": "stream",
     "text": [
      "Energy: [8916.78012817 8904.12950856 8904.12950856 8904.12950856 8904.12950856\n",
      " 8904.12950856 8904.12950856 8904.12950856 8904.12950856 8904.12950856\n",
      " 8904.12950856]\n"
     ]
    },
    {
     "name": "stderr",
     "output_type": "stream",
     "text": [
      " 55%|█████████████████████▌                 | 1605/2900 [01:00<00:47, 27.30it/s]"
     ]
    },
    {
     "name": "stdout",
     "output_type": "stream",
     "text": [
      "Energy: [8916.78012817 8911.71424704 8904.12950856 8904.12950856 8904.12950856\n",
      " 8904.12950856 8904.12950856 8904.12950856 8904.12950856 8904.12950856\n",
      " 8904.12950856]\n"
     ]
    },
    {
     "name": "stderr",
     "output_type": "stream",
     "text": [
      " 57%|██████████████████████▎                | 1656/2900 [01:01<00:47, 26.34it/s]"
     ]
    },
    {
     "name": "stdout",
     "output_type": "stream",
     "text": [
      "Energy: [8904.12950856 8904.12950856 8904.12950856 8904.12950856 8904.12950856\n",
      " 8904.12950856 8904.12950856 8904.12950856 8904.12950856 8904.12950856\n",
      " 8904.12950856]\n"
     ]
    },
    {
     "name": "stderr",
     "output_type": "stream",
     "text": [
      " 59%|██████████████████████▉                | 1704/2900 [01:03<00:43, 27.34it/s]"
     ]
    },
    {
     "name": "stdout",
     "output_type": "stream",
     "text": [
      "Energy: [8919.29641249 8904.12950856 8904.12950856 8904.12950856 8904.12950856\n",
      " 8904.12950856 8904.12950856 8904.12950856 8904.12950856 8904.12950856\n",
      " 8904.12950856]\n"
     ]
    },
    {
     "name": "stderr",
     "output_type": "stream",
     "text": [
      " 61%|███████████████████████▌               | 1755/2900 [01:05<00:42, 27.21it/s]"
     ]
    },
    {
     "name": "stdout",
     "output_type": "stream",
     "text": [
      "Energy: [8904.12950856 8911.71424704 8904.12950856 8904.12950856 8904.12950856\n",
      " 8904.12950856 8904.12950856 8904.12950856 8904.12950856 8904.12950856\n",
      " 8904.12950856]\n"
     ]
    },
    {
     "name": "stderr",
     "output_type": "stream",
     "text": [
      " 62%|████████████████████████▎              | 1806/2900 [01:07<00:40, 27.35it/s]"
     ]
    },
    {
     "name": "stdout",
     "output_type": "stream",
     "text": [
      "Energy: [8904.12950856 8904.12950856 8911.71424704 8904.12950856 8904.12950856\n",
      " 8904.12950856 8904.12950856 8904.12950856 8904.12950856 8904.12950856\n",
      " 8904.12950856]\n"
     ]
    },
    {
     "name": "stderr",
     "output_type": "stream",
     "text": [
      " 64%|████████████████████████▉              | 1854/2900 [01:09<00:38, 26.89it/s]"
     ]
    },
    {
     "name": "stdout",
     "output_type": "stream",
     "text": [
      "Energy: [8904.12950856 8911.71424704 8904.12950856 8904.12950856 8904.12950856\n",
      " 8904.12950856 8904.12950856 8904.12950856 8904.12950856 8904.12950856\n",
      " 8904.12950856]\n"
     ]
    },
    {
     "name": "stderr",
     "output_type": "stream",
     "text": [
      " 66%|█████████████████████████▌             | 1905/2900 [01:11<00:39, 25.15it/s]"
     ]
    },
    {
     "name": "stdout",
     "output_type": "stream",
     "text": [
      "Energy: [8926.87600803 8904.12950856 8904.12950856 8904.12950856 8904.12950856\n",
      " 8904.12950856 8904.12950856 8904.12950856 8904.12950856 8904.12950856\n",
      " 8904.12950856]\n"
     ]
    },
    {
     "name": "stderr",
     "output_type": "stream",
     "text": [
      " 67%|██████████████████████████▎            | 1956/2900 [01:13<00:37, 24.88it/s]"
     ]
    },
    {
     "name": "stdout",
     "output_type": "stream",
     "text": [
      "Energy: [8911.71424704 8911.71424704 8916.78012817 8904.12950856 8904.12950856\n",
      " 8904.12950856 8904.12950856 8904.12950856 8904.12950856 8904.12950856\n",
      " 8904.12950856]\n"
     ]
    },
    {
     "name": "stderr",
     "output_type": "stream",
     "text": [
      " 69%|██████████████████████████▉            | 2004/2900 [01:15<00:36, 24.64it/s]"
     ]
    },
    {
     "name": "stdout",
     "output_type": "stream",
     "text": [
      "Energy: [8911.71424704 8921.80006705 8911.71424704 8904.12950856 8904.12950856\n",
      " 8904.12950856 8904.12950856 8904.12950856 8904.12950856 8904.12950856\n",
      " 8904.12950856]\n"
     ]
    },
    {
     "name": "stderr",
     "output_type": "stream",
     "text": [
      " 71%|███████████████████████████▋           | 2055/2900 [01:17<00:31, 26.83it/s]"
     ]
    },
    {
     "name": "stdout",
     "output_type": "stream",
     "text": [
      "Energy: [8911.71424704 8904.12950856 8911.71424704 8904.12950856 8904.12950856\n",
      " 8904.12950856 8904.12950856 8904.12950856 8904.12950856 8904.12950856\n",
      " 8904.12950856]\n"
     ]
    },
    {
     "name": "stderr",
     "output_type": "stream",
     "text": [
      " 73%|████████████████████████████▎          | 2106/2900 [01:19<00:33, 23.66it/s]"
     ]
    },
    {
     "name": "stdout",
     "output_type": "stream",
     "text": [
      "Energy: [8904.12950856 8904.12950856 8911.71424704 8904.12950856 8904.12950856\n",
      " 8904.12950856 8904.12950856 8904.12950856 8904.12950856 8904.12950856\n",
      " 8904.12950856]\n"
     ]
    },
    {
     "name": "stderr",
     "output_type": "stream",
     "text": [
      " 74%|████████████████████████████▉          | 2154/2900 [01:20<00:28, 26.55it/s]"
     ]
    },
    {
     "name": "stdout",
     "output_type": "stream",
     "text": [
      "Energy: [8904.12950856 8904.12950856 8904.12950856 8904.12950856 8904.12950856\n",
      " 8904.12950856 8904.12950856 8904.12950856 8904.12950856 8904.12950856\n",
      " 8904.12950856]\n"
     ]
    },
    {
     "name": "stderr",
     "output_type": "stream",
     "text": [
      " 76%|█████████████████████████████▋         | 2205/2900 [01:22<00:27, 25.62it/s]"
     ]
    },
    {
     "name": "stdout",
     "output_type": "stream",
     "text": [
      "Energy: [8904.12950856 8904.12950856 8904.12950856 8904.12950856 8904.12950856\n",
      " 8904.12950856 8904.12950856 8904.12950856 8904.12950856 8904.12950856\n",
      " 8904.12950856]\n"
     ]
    },
    {
     "name": "stderr",
     "output_type": "stream",
     "text": [
      " 78%|██████████████████████████████▎        | 2256/2900 [01:24<00:24, 26.49it/s]"
     ]
    },
    {
     "name": "stdout",
     "output_type": "stream",
     "text": [
      "Energy: [8904.12950856 8904.12950856 8904.12950856 8904.12950856 8904.12950856\n",
      " 8904.12950856 8904.12950856 8904.12950856 8904.12950856 8904.12950856\n",
      " 8904.12950856]\n"
     ]
    },
    {
     "name": "stderr",
     "output_type": "stream",
     "text": [
      " 79%|██████████████████████████████▉        | 2304/2900 [01:26<00:22, 26.05it/s]"
     ]
    },
    {
     "name": "stdout",
     "output_type": "stream",
     "text": [
      "Energy: [8904.12950856 8904.12950856 8904.12950856 8904.12950856 8904.12950856\n",
      " 8904.12950856 8904.12950856 8904.12950856 8904.12950856 8904.12950856\n",
      " 8904.12950856]\n"
     ]
    },
    {
     "name": "stderr",
     "output_type": "stream",
     "text": [
      " 81%|███████████████████████████████▋       | 2355/2900 [01:28<00:20, 26.35it/s]"
     ]
    },
    {
     "name": "stdout",
     "output_type": "stream",
     "text": [
      "Energy: [8911.71424704 8904.12950856 8904.12950856 8904.12950856 8904.12950856\n",
      " 8904.12950856 8904.12950856 8904.12950856 8904.12950856 8904.12950856\n",
      " 8904.12950856]\n"
     ]
    },
    {
     "name": "stderr",
     "output_type": "stream",
     "text": [
      " 83%|████████████████████████████████▎      | 2406/2900 [01:30<00:18, 26.59it/s]"
     ]
    },
    {
     "name": "stdout",
     "output_type": "stream",
     "text": [
      "Energy: [8904.12950856 8904.12950856 8904.12950856 8904.12950856 8904.12950856\n",
      " 8904.12950856 8904.12950856 8904.12950856 8904.12950856 8904.12950856\n",
      " 8904.12950856]\n"
     ]
    },
    {
     "name": "stderr",
     "output_type": "stream",
     "text": [
      " 85%|█████████████████████████████████      | 2454/2900 [01:32<00:16, 26.30it/s]"
     ]
    },
    {
     "name": "stdout",
     "output_type": "stream",
     "text": [
      "Energy: [8914.22135652 8914.22135652 8916.78012817 8904.12950856 8904.12950856\n",
      " 8904.12950856 8904.12950856 8904.12950856 8904.12950856 8904.12950856\n",
      " 8904.12950856]\n"
     ]
    },
    {
     "name": "stderr",
     "output_type": "stream",
     "text": [
      " 86%|█████████████████████████████████▋     | 2505/2900 [01:34<00:14, 26.84it/s]"
     ]
    },
    {
     "name": "stdout",
     "output_type": "stream",
     "text": [
      "Energy: [8914.22135652 8904.12950856 8904.12950856 8911.71424704 8904.12950856\n",
      " 8904.12950856 8904.12950856 8904.12950856 8904.12950856 8904.12950856\n",
      " 8904.12950856]\n"
     ]
    },
    {
     "name": "stderr",
     "output_type": "stream",
     "text": [
      " 88%|██████████████████████████████████▎    | 2556/2900 [01:36<00:12, 27.32it/s]"
     ]
    },
    {
     "name": "stdout",
     "output_type": "stream",
     "text": [
      "Energy: [8904.12950856 8904.12950856 8904.12950856 8904.12950856 8904.12950856\n",
      " 8904.12950856 8904.12950856 8904.12950856 8904.12950856 8904.12950856\n",
      " 8904.12950856]\n"
     ]
    },
    {
     "name": "stderr",
     "output_type": "stream",
     "text": [
      " 90%|███████████████████████████████████    | 2604/2900 [01:38<00:11, 26.12it/s]"
     ]
    },
    {
     "name": "stdout",
     "output_type": "stream",
     "text": [
      "Energy: [8904.12950856 8904.12950856 8904.12950856 8904.12950856 8904.12950856\n",
      " 8904.12950856 8904.12950856 8904.12950856 8904.12950856 8904.12950856\n",
      " 8904.12950856]\n"
     ]
    },
    {
     "name": "stderr",
     "output_type": "stream",
     "text": [
      " 92%|███████████████████████████████████▋   | 2655/2900 [01:39<00:08, 27.59it/s]"
     ]
    },
    {
     "name": "stdout",
     "output_type": "stream",
     "text": [
      "Energy: [8904.12950856 8904.12950856 8904.12950856 8904.12950856 8904.12950856\n",
      " 8904.12950856 8904.12950856 8904.12950856 8904.12950856 8904.12950856\n",
      " 8904.12950856]\n"
     ]
    },
    {
     "name": "stderr",
     "output_type": "stream",
     "text": [
      " 93%|████████████████████████████████████▍  | 2706/2900 [01:41<00:07, 24.73it/s]"
     ]
    },
    {
     "name": "stdout",
     "output_type": "stream",
     "text": [
      "Energy: [8911.71424704 8904.12950856 8911.71424704 8904.12950856 8904.12950856\n",
      " 8904.12950856 8904.12950856 8904.12950856 8904.12950856 8904.12950856\n",
      " 8904.12950856]\n"
     ]
    },
    {
     "name": "stderr",
     "output_type": "stream",
     "text": [
      " 95%|█████████████████████████████████████  | 2757/2900 [01:43<00:05, 25.36it/s]"
     ]
    },
    {
     "name": "stdout",
     "output_type": "stream",
     "text": [
      "Energy: [8904.12950856 8904.12950856 8904.12950856 8904.12950856 8904.12950856\n",
      " 8911.71424704 8904.12950856 8904.12950856 8904.12950856 8904.12950856\n",
      " 8904.12950856]\n"
     ]
    },
    {
     "name": "stderr",
     "output_type": "stream",
     "text": [
      " 97%|█████████████████████████████████████▋ | 2805/2900 [01:45<00:03, 24.98it/s]"
     ]
    },
    {
     "name": "stdout",
     "output_type": "stream",
     "text": [
      "Energy: [8911.71424704 8904.12950856 8904.12950856 8904.12950856 8911.71424704\n",
      " 8904.12950856 8904.12950856 8904.12950856 8904.12950856 8904.12950856\n",
      " 8904.12950856]\n"
     ]
    },
    {
     "name": "stderr",
     "output_type": "stream",
     "text": [
      " 98%|██████████████████████████████████████▍| 2856/2900 [01:47<00:01, 27.26it/s]"
     ]
    },
    {
     "name": "stdout",
     "output_type": "stream",
     "text": [
      "Energy: [8904.12950856 8904.12950856 8904.12950856 8904.12950856 8911.71424704\n",
      " 8904.12950856 8916.78012817 8904.12950856 8904.12950856 8904.12950856\n",
      " 8904.12950856]\n"
     ]
    },
    {
     "name": "stderr",
     "output_type": "stream",
     "text": [
      "100%|███████████████████████████████████████| 2900/2900 [01:49<00:00, 26.53it/s]\n"
     ]
    },
    {
     "name": "stdout",
     "output_type": "stream",
     "text": [
      "Fin Energy_t 8904.129508561316 Energy_gs 8904.129508561316\n",
      "c_accep 0 c_rounds 0\n",
      "Elapsed (after compilation) = 109.32824444770813\n",
      "[[186 200 206 184 181 212 214 217 215 213 216 218]\n",
      " [186 200 206 184 181 212 214 217 215 213 216 218]\n",
      " [186 200 206 184 181 212 214 217 215 213 216 218]\n",
      " [186 200 206 184 181 212 214 217 215 213 216 218]]\n",
      "[[203 193 199 181 209 212 213 214 215 217 216 218]\n",
      " [203 193 199 181 209 212 213 214 215 217 216 218]\n",
      " [203 193 199 181 209 212 213 214 215 217 216 218]\n",
      " [203 193 199 181 209 212 213 214 215 217 216 218]]\n",
      "[[203 193 199 181 209 212 213 214 215 217 216 218]\n",
      " [203 193 199 181 209 212 213 214 215 217 216 218]\n",
      " [203 193 199 181 209 212 213 214 215 217 216 218]\n",
      " [203 193 199 181 209 212 213 214 215 217 216 218]]\n",
      "[[201 180 183 194 182 217 214 218 216 213 212 215]\n",
      " [201 180 183 194 182 217 214 218 216 213 212 215]\n",
      " [201 180 183 194 182 217 214 218 216 213 212 215]\n",
      " [201 180 183 194 182 217 214 218 216 213 212 215]]\n",
      "[[203 193 199 181 209 212 213 214 215 217 216 218]\n",
      " [203 193 199 181 209 212 213 214 215 217 216 218]\n",
      " [203 193 199 181 209 212 213 214 215 217 216 218]\n",
      " [203 193 199 181 209 212 213 214 215 217 216 218]]\n",
      "[[203 193 199 181 209 212 213 214 215 217 216 218]\n",
      " [203 193 199 181 209 212 213 214 215 217 216 218]\n",
      " [203 193 199 181 209 212 213 214 215 217 216 218]\n",
      " [203 193 199 181 209 212 213 214 215 217 216 218]]\n",
      "[[186 200 206 184 181 212 214 217 215 213 216 218]\n",
      " [186 200 206 184 181 212 214 217 215 213 216 218]\n",
      " [186 200 206 184 181 212 214 217 215 213 216 218]\n",
      " [186 200 206 184 181 212 214 217 215 213 216 218]]\n",
      "[[201 180 183 194 182 217 214 218 216 213 212 215]\n",
      " [201 180 183 194 182 217 214 218 216 213 212 215]\n",
      " [201 180 183 194 182 217 214 218 216 213 212 215]\n",
      " [201 180 183 194 182 217 214 218 216 213 212 215]]\n",
      "[[181 196 187 202 205 212 215 217 213 214 216 218]\n",
      " [181 196 187 202 205 212 215 217 213 214 216 218]\n",
      " [181 204 187 202 205 212 215 217 213 214 216 218]\n",
      " [181 196 187 202 205 212 215 217 213 214 216 218]]\n",
      "[[186 200 206 184 181 212 214 217 215 213 216 218]\n",
      " [186 200 206 184 181 212 214 217 215 213 216 218]\n",
      " [186 200 206 184 181 212 214 217 215 213 216 218]\n",
      " [186 200 206 184 181 212 214 217 215 213 216 218]]\n",
      "[[181 196 187 202 205 212 215 217 213 214 216 218]\n",
      " [181 196 187 202 205 212 215 217 213 214 216 218]\n",
      " [181 196 187 202 205 212 215 217 213 214 216 218]\n",
      " [181 196 187 202 205 212 215 217 213 214 216 218]]\n",
      "[[201 180 183 194 182 217 214 218 216 213 212 215]\n",
      " [201 180 183 194 182 217 214 218 216 213 212 215]\n",
      " [201 180 183 194 182 217 214 218 216 213 212 215]\n",
      " [201 180 183 194 182 217 214 218 216 213 212 215]]\n",
      "[[201 180 183 194 182 217 214 218 216 213 212 215]\n",
      " [201 180 183 194 182 217 214 218 216 213 212 215]\n",
      " [201 180 183 194 182 217 214 218 216 213 212 215]\n",
      " [201 180 183 194 182 217 214 218 216 213 212 215]]\n",
      "[[201 180 183 194 182 217 214 218 216 213 212 215]\n",
      " [201 180 183 194 182 217 214 218 216 213 212 215]\n",
      " [201 180 183 194 182 217 214 218 216 213 212 215]\n",
      " [201 180 183 194 182 217 214 218 216 213 212 215]]\n",
      "[[186 200 206 184 181 212 214 217 215 213 216 218]\n",
      " [186 200 206 184 181 212 214 217 215 213 216 218]\n",
      " [186 200 206 184 181 212 214 217 215 213 216 218]\n",
      " [186 200 206 184 181 212 214 217 215 213 216 218]]\n",
      "[[208 198 187 183 209 217 215 214 216 213 218 212]\n",
      " [208 198 187 183 209 217 215 214 216 213 218 212]\n",
      " [208 198 187 183 209 217 215 214 216 213 218 212]\n",
      " [208 198 187 183 209 217 215 214 216 213 218 212]]\n",
      "[[203 193 199 181 209 212 213 214 215 217 216 218]\n",
      " [203 193 199 181 209 212 213 214 215 217 216 218]\n",
      " [203 193 199 181 209 212 213 214 215 217 216 218]\n",
      " [203 193 199 181 209 212 213 214 215 217 216 218]]\n",
      "[[203 193 199 181 209 212 213 214 215 217 216 218]\n",
      " [203 193 199 181 209 212 213 214 215 217 216 218]\n",
      " [203 193 199 181 209 212 213 214 215 217 216 218]\n",
      " [203 193 199 181 209 212 213 214 215 217 216 218]]\n",
      "[[203 193 199 181 209 212 213 214 215 217 216 218]\n",
      " [203 193 199 181 209 212 213 214 215 217 216 218]\n",
      " [203 193 199 181 209 212 213 214 215 217 216 218]\n",
      " [203 193 199 181 209 212 213 214 215 217 216 218]]\n",
      "[[203 193 199 181 209 212 213 214 215 217 216 218]\n",
      " [203 193 199 181 209 212 213 214 215 217 216 218]\n",
      " [203 193 199 181 209 212 213 214 215 217 216 218]\n",
      " [203 193 199 181 209 212 213 214 215 217 216 218]]\n",
      "[[203 193 199 181 209 212 213 214 215 217 216 218]\n",
      " [203 193 199 181 209 212 213 214 215 217 216 218]\n",
      " [203 193 199 181 209 212 213 214 215 217 216 218]\n",
      " [203 193 199 181 209 212 213 214 215 217 216 218]]\n",
      "[[186 200 206 184 181 212 214 217 215 213 216 218]\n",
      " [186 200 206 184 181 212 214 217 215 213 216 218]\n",
      " [186 200 206 184 181 212 214 217 215 213 216 218]\n",
      " [186 200 206 184 181 212 214 217 215 213 216 218]]\n",
      "[[203 193 199 181 209 212 213 214 215 217 216 218]\n",
      " [203 193 199 181 209 212 213 214 215 217 216 218]\n",
      " [203 193 199 181 209 212 213 214 215 217 216 218]\n",
      " [203 193 199 181 209 212 213 214 215 217 216 218]]\n",
      "[[208 198 187 183 209 217 215 214 216 213 218 212]\n",
      " [208 198 187 183 209 217 215 214 216 213 218 212]\n",
      " [208 198 187 183 209 217 215 214 216 213 218 212]\n",
      " [208 198 187 183 209 217 215 214 216 213 218 212]]\n",
      "[[203 193 199 181 209 212 213 214 215 217 216 218]\n",
      " [203 193 199 181 209 212 213 214 215 217 216 218]\n",
      " [203 193 199 181 209 212 213 214 215 217 216 218]\n",
      " [203 193 199 181 209 212 213 214 215 217 216 218]]\n",
      "[[201 180 183 194 182 217 214 218 216 213 212 215]\n",
      " [201 180 183 194 182 217 214 218 216 213 212 215]\n",
      " [201 180 183 194 182 217 214 218 216 213 212 215]\n",
      " [201 180 183 194 182 217 214 218 216 213 212 215]]\n",
      "[[208 198 187 183 209 217 215 214 216 213 218 212]\n",
      " [208 198 187 183 209 217 215 214 216 213 218 212]\n",
      " [208 198 187 183 209 217 215 214 216 213 218 212]\n",
      " [208 198 187 183 209 217 215 214 216 213 218 212]]\n",
      "[[208 198 187 183 209 217 215 214 216 213 218 212]\n",
      " [208 198 187 183 209 217 215 214 216 213 218 212]\n",
      " [208 198 187 183 209 217 215 214 216 213 218 212]\n",
      " [208 198 187 183 209 217 215 214 216 213 218 212]]\n",
      "[[203 193 199 181 209 212 213 214 215 217 216 218]\n",
      " [203 193 199 181 209 212 213 214 215 217 216 218]\n",
      " [203 193 199 181 209 212 213 214 215 217 216 218]\n",
      " [203 193 199 181 209 212 213 214 215 217 216 218]]\n",
      "[[201 208 202 210 211 212 215 214 213 216 217 218]\n",
      " [201 210 202 208 211 212 215 214 213 216 217 218]\n",
      " [201 208 202 210 211 212 215 214 213 216 217 218]\n",
      " [201 208 202 210 211 212 215 214 213 216 217 218]]\n",
      "[[208 198 187 183 209 217 215 214 216 213 218 212]\n",
      " [210 198 187 183 209 217 215 214 216 213 218 212]\n",
      " [208 198 187 183 209 217 215 214 216 213 218 212]\n",
      " [208 198 187 183 209 217 215 214 216 213 218 212]]\n",
      "[[186 200 206 184 181 212 214 217 215 213 216 218]\n",
      " [186 200 206 184 181 212 214 217 215 213 216 218]\n",
      " [186 200 206 184 181 212 214 217 215 213 216 218]\n",
      " [186 200 206 184 181 212 214 217 215 213 216 218]]\n",
      "[[190 194 207 180 198 212 216 214 215 217 218 213]\n",
      " [190 194 207 180 198 212 216 214 215 217 218 213]\n",
      " [190 194 207 180 198 212 216 214 215 217 218 213]\n",
      " [190 194 207 180 198 212 216 214 215 217 218 213]]\n",
      "[[208 198 187 183 209 217 215 214 216 213 218 212]\n",
      " [208 198 187 183 209 217 215 214 216 213 218 212]\n",
      " [208 198 187 183 209 217 215 214 216 213 218 212]\n",
      " [208 198 187 183 209 217 215 214 216 213 218 212]]\n",
      "[[201 208 202 210 211 212 215 214 213 216 217 218]\n",
      " [201 210 202 208 211 212 215 214 213 216 217 218]\n",
      " [201 208 202 210 211 212 215 214 213 216 217 218]\n",
      " [201 208 202 210 211 212 215 214 213 216 217 218]]\n",
      "[[201 208 202 210 211 212 215 214 213 216 217 218]\n",
      " [201 210 202 208 211 212 215 214 213 216 217 218]\n",
      " [201 208 202 210 211 212 215 214 213 216 217 218]\n",
      " [201 208 202 210 211 212 215 214 213 216 217 218]]\n",
      "[[201 208 202 210 211 212 215 214 213 216 217 218]\n",
      " [201 208 202 210 211 212 215 214 213 216 217 218]\n",
      " [201 208 202 210 211 212 215 214 213 216 217 218]\n",
      " [201 208 202 210 211 212 215 214 213 216 217 218]]\n",
      "[[203 193 199 181 209 212 213 214 215 217 216 218]\n",
      " [203 193 199 181 209 212 213 214 215 217 216 218]\n",
      " [203 193 199 181 209 212 213 214 215 217 216 218]\n",
      " [203 193 199 181 209 212 213 214 215 217 216 218]]\n",
      "[[208 198 187 183 209 217 215 214 216 213 218 212]\n",
      " [208 198 187 183 209 217 215 214 216 213 218 212]\n",
      " [208 198 187 183 209 217 215 214 216 213 218 212]\n",
      " [208 198 187 183 209 217 215 214 216 213 218 212]]\n",
      "[1.] [1.]\n",
      "i_reps 4\n",
      "Energía ini: 34474.49926942434 /gs: 8947.097046074086\n"
     ]
    },
    {
     "name": "stderr",
     "output_type": "stream",
     "text": [
      " 31%|████████████▍                           | 905/2900 [00:34<01:15, 26.50it/s]"
     ]
    },
    {
     "name": "stdout",
     "output_type": "stream",
     "text": [
      "Energy: [9163.55491385 9186.05974297 9193.58624106 8947.09704607 9113.35931916\n",
      " 8947.09704607 9070.62694445 8947.09704607 8947.09704607 8947.09704607\n",
      " 8947.09704607]\n"
     ]
    },
    {
     "name": "stderr",
     "output_type": "stream",
     "text": [
      " 33%|█████████████▏                          | 956/2900 [00:36<01:14, 26.23it/s]"
     ]
    },
    {
     "name": "stdout",
     "output_type": "stream",
     "text": [
      "Energy: [9163.55491385 9186.05974297 8947.09704607 8947.09704607 9128.42172213\n",
      " 9070.62694445 8947.09704607 8947.09704607 8947.09704607 8947.09704607\n",
      " 8947.09704607]\n"
     ]
    },
    {
     "name": "stderr",
     "output_type": "stream",
     "text": [
      " 35%|█████████████▌                         | 1004/2900 [00:37<01:08, 27.62it/s]"
     ]
    },
    {
     "name": "stdout",
     "output_type": "stream",
     "text": [
      "Energy: [8947.09704607 8947.09704607 8947.09704607 9135.94914293 8954.67772798\n",
      " 8947.09704607 8947.09704607 8947.09704607 8947.09704607 8947.09704607\n",
      " 8947.09704607]\n"
     ]
    },
    {
     "name": "stderr",
     "output_type": "stream",
     "text": [
      " 36%|██████████████▏                        | 1055/2900 [00:39<01:08, 27.12it/s]"
     ]
    },
    {
     "name": "stdout",
     "output_type": "stream",
     "text": [
      "Energy: [8947.09704607 8947.09704607 8947.09704607 9135.94914293 8954.67772798\n",
      " 8947.09704607 8947.09704607 8947.09704607 8947.09704607 8947.09704607\n",
      " 8947.09704607]\n"
     ]
    },
    {
     "name": "stderr",
     "output_type": "stream",
     "text": [
      " 38%|██████████████▊                        | 1106/2900 [00:41<01:10, 25.57it/s]"
     ]
    },
    {
     "name": "stdout",
     "output_type": "stream",
     "text": [
      "Energy: [8947.09704607 8947.09704607 8947.09704607 8962.25583472 8947.09704607\n",
      " 8947.09704607 8947.09704607 8947.09704607 8947.09704607 8947.09704607\n",
      " 8947.09704607]\n"
     ]
    },
    {
     "name": "stderr",
     "output_type": "stream",
     "text": [
      " 40%|███████████████▌                       | 1154/2900 [00:43<01:04, 26.91it/s]"
     ]
    },
    {
     "name": "stdout",
     "output_type": "stream",
     "text": [
      "Energy: [8947.09704607 8947.09704607 8947.09704607 8962.25583472 8947.09704607\n",
      " 8947.09704607 8947.09704607 8947.09704607 8947.09704607 8947.09704607\n",
      " 8947.09704607]\n"
     ]
    },
    {
     "name": "stderr",
     "output_type": "stream",
     "text": [
      " 42%|████████████████▏                      | 1205/2900 [00:45<01:01, 27.35it/s]"
     ]
    },
    {
     "name": "stdout",
     "output_type": "stream",
     "text": [
      "Energy: [8947.09704607 8947.09704607 8954.67772798 8947.09704607 8947.09704607\n",
      " 8947.09704607 8947.09704607 8947.09704607 8947.09704607 8947.09704607\n",
      " 8947.09704607]\n"
     ]
    },
    {
     "name": "stderr",
     "output_type": "stream",
     "text": [
      " 43%|████████████████▉                      | 1256/2900 [00:47<01:06, 24.79it/s]"
     ]
    },
    {
     "name": "stdout",
     "output_type": "stream",
     "text": [
      "Energy: [8947.09704607 8947.09704607 8947.09704607 8947.09704607 8947.09704607\n",
      " 8947.09704607 8947.09704607 8947.09704607 8947.09704607 8947.09704607\n",
      " 8947.09704607]\n"
     ]
    },
    {
     "name": "stderr",
     "output_type": "stream",
     "text": [
      " 45%|█████████████████▌                     | 1304/2900 [00:49<01:00, 26.53it/s]"
     ]
    },
    {
     "name": "stdout",
     "output_type": "stream",
     "text": [
      "Energy: [8947.09704607 8947.09704607 8947.09704607 8947.09704607 8947.09704607\n",
      " 8947.09704607 8947.09704607 8947.09704607 8947.09704607 8947.09704607\n",
      " 8947.09704607]\n"
     ]
    },
    {
     "name": "stderr",
     "output_type": "stream",
     "text": [
      " 47%|██████████████████▏                    | 1355/2900 [00:51<00:57, 27.09it/s]"
     ]
    },
    {
     "name": "stdout",
     "output_type": "stream",
     "text": [
      "Energy: [8954.67772798 8947.09704607 8954.67772798 8947.09704607 8947.09704607\n",
      " 8947.09704607 8947.09704607 8947.09704607 8959.71319775 8947.09704607\n",
      " 8947.09704607]\n"
     ]
    },
    {
     "name": "stderr",
     "output_type": "stream",
     "text": [
      " 48%|██████████████████▉                    | 1406/2900 [00:53<00:54, 27.63it/s]"
     ]
    },
    {
     "name": "stdout",
     "output_type": "stream",
     "text": [
      "Energy: [8947.09704607 8954.67772798 8959.71319775 8947.09704607 8954.67772798\n",
      " 8947.09704607 8947.09704607 8947.09704607 8947.09704607 8947.09704607\n",
      " 8947.09704607]\n"
     ]
    },
    {
     "name": "stderr",
     "output_type": "stream",
     "text": [
      " 50%|███████████████████▌                   | 1454/2900 [00:54<00:53, 26.95it/s]"
     ]
    },
    {
     "name": "stdout",
     "output_type": "stream",
     "text": [
      "Energy: [8984.97473529 8947.09704607 8962.25583472 8947.09704607 8947.09704607\n",
      " 8947.09704607 8947.09704607 8947.09704607 8947.09704607 8947.09704607\n",
      " 8947.09704607]\n"
     ]
    },
    {
     "name": "stderr",
     "output_type": "stream",
     "text": [
      " 52%|████████████████████▏                  | 1505/2900 [00:56<00:52, 26.72it/s]"
     ]
    },
    {
     "name": "stdout",
     "output_type": "stream",
     "text": [
      "Energy: [8974.86871952 8947.09704607 8947.09704607 8954.67772798 8947.09704607\n",
      " 8947.09704607 8947.09704607 8947.09704607 8947.09704607 8947.09704607\n",
      " 8947.09704607]\n"
     ]
    },
    {
     "name": "stderr",
     "output_type": "stream",
     "text": [
      " 54%|████████████████████▉                  | 1556/2900 [00:58<00:51, 26.01it/s]"
     ]
    },
    {
     "name": "stdout",
     "output_type": "stream",
     "text": [
      "Energy: [8959.71319775 8947.09704607 8947.09704607 8947.09704607 8947.09704607\n",
      " 8947.09704607 8947.09704607 8947.09704607 8947.09704607 8947.09704607\n",
      " 8947.09704607]\n"
     ]
    },
    {
     "name": "stderr",
     "output_type": "stream",
     "text": [
      " 55%|█████████████████████▌                 | 1604/2900 [01:00<00:48, 26.48it/s]"
     ]
    },
    {
     "name": "stdout",
     "output_type": "stream",
     "text": [
      "Energy: [8947.09704607 8947.09704607 8947.09704607 8947.09704607 8947.09704607\n",
      " 8947.09704607 8947.09704607 8947.09704607 8947.09704607 8947.09704607\n",
      " 8947.09704607]\n"
     ]
    },
    {
     "name": "stderr",
     "output_type": "stream",
     "text": [
      " 57%|██████████████████████▏                | 1652/2900 [01:02<00:48, 25.49it/s]"
     ]
    },
    {
     "name": "stdout",
     "output_type": "stream",
     "text": [
      "Energy: [8947.09704607 8947.09704607 8947.09704607 8947.09704607 8947.09704607\n",
      " 8947.09704607 8947.09704607 8947.09704607 8947.09704607 8947.09704607\n",
      " 8947.09704607]\n"
     ]
    },
    {
     "name": "stderr",
     "output_type": "stream",
     "text": [
      " 59%|██████████████████████▉                | 1706/2900 [01:04<00:50, 23.76it/s]"
     ]
    },
    {
     "name": "stdout",
     "output_type": "stream",
     "text": [
      "Energy: [8947.09704607 8947.09704607 8969.83136944 8947.09704607 8947.09704607\n",
      " 8947.09704607 8947.09704607 8947.09704607 8947.09704607 8947.09704607\n",
      " 8947.09704607]\n"
     ]
    },
    {
     "name": "stderr",
     "output_type": "stream",
     "text": [
      " 60%|███████████████████████▌               | 1754/2900 [01:06<00:42, 27.21it/s]"
     ]
    },
    {
     "name": "stdout",
     "output_type": "stream",
     "text": [
      "Energy: [8954.67772798 8947.09704607 8947.09704607 8947.09704607 8947.09704607\n",
      " 8947.09704607 8947.09704607 8947.09704607 8947.09704607 8947.09704607\n",
      " 8947.09704607]\n"
     ]
    },
    {
     "name": "stderr",
     "output_type": "stream",
     "text": [
      " 62%|████████████████████████▎              | 1808/2900 [01:08<00:39, 27.46it/s]"
     ]
    },
    {
     "name": "stdout",
     "output_type": "stream",
     "text": [
      "Energy: [8959.71319775 8954.67772798 8947.09704607 8947.09704607 8947.09704607\n",
      " 8947.09704607 8947.09704607 8947.09704607 8947.09704607 8947.09704607\n",
      " 8947.09704607]\n"
     ]
    },
    {
     "name": "stderr",
     "output_type": "stream",
     "text": [
      " 64%|████████████████████████▉              | 1856/2900 [01:09<00:38, 27.04it/s]"
     ]
    },
    {
     "name": "stdout",
     "output_type": "stream",
     "text": [
      "Energy: [8947.09704607 8962.25583472 8947.09704607 8954.67772798 8947.09704607\n",
      " 8947.09704607 8947.09704607 8947.09704607 8947.09704607 8947.09704607\n",
      " 8947.09704607]\n"
     ]
    },
    {
     "name": "stderr",
     "output_type": "stream",
     "text": [
      " 66%|█████████████████████████▌             | 1904/2900 [01:11<00:37, 26.75it/s]"
     ]
    },
    {
     "name": "stdout",
     "output_type": "stream",
     "text": [
      "Energy: [8962.25583472 8962.25583472 8947.09704607 8954.67772798 8947.09704607\n",
      " 8947.09704607 8947.09704607 8947.09704607 8947.09704607 8947.09704607\n",
      " 8947.09704607]\n"
     ]
    },
    {
     "name": "stderr",
     "output_type": "stream",
     "text": [
      " 67%|██████████████████████████▎            | 1955/2900 [01:13<00:35, 26.89it/s]"
     ]
    },
    {
     "name": "stdout",
     "output_type": "stream",
     "text": [
      "Energy: [8947.09704607 8954.67772798 8947.09704607 8947.09704607 8947.09704607\n",
      " 8947.09704607 8947.09704607 8947.09704607 8947.09704607 8947.09704607\n",
      " 8947.09704607]\n"
     ]
    },
    {
     "name": "stderr",
     "output_type": "stream",
     "text": [
      " 69%|██████████████████████████▉            | 2006/2900 [01:15<00:32, 27.13it/s]"
     ]
    },
    {
     "name": "stdout",
     "output_type": "stream",
     "text": [
      "Energy: [8959.71319775 8959.71319775 8947.09704607 8947.09704607 8954.67772798\n",
      " 8954.67772798 8947.09704607 8947.09704607 8947.09704607 8947.09704607\n",
      " 8947.09704607]\n"
     ]
    },
    {
     "name": "stderr",
     "output_type": "stream",
     "text": [
      " 71%|███████████████████████████▌           | 2054/2900 [01:17<00:32, 26.28it/s]"
     ]
    },
    {
     "name": "stdout",
     "output_type": "stream",
     "text": [
      "Energy: [8972.32036733 8947.09704607 8947.09704607 8947.09704607 8954.67772798\n",
      " 8954.67772798 8947.09704607 8947.09704607 8947.09704607 8947.09704607\n",
      " 8947.09704607]\n"
     ]
    },
    {
     "name": "stderr",
     "output_type": "stream",
     "text": [
      " 73%|████████████████████████████▎          | 2105/2900 [01:19<00:31, 25.18it/s]"
     ]
    },
    {
     "name": "stdout",
     "output_type": "stream",
     "text": [
      "Energy: [8962.25583472 8947.09704607 8954.67772798 8947.09704607 8947.09704607\n",
      " 8947.09704607 8947.09704607 8947.09704607 8947.09704607 8947.09704607\n",
      " 8947.09704607]\n"
     ]
    },
    {
     "name": "stderr",
     "output_type": "stream",
     "text": [
      " 74%|████████████████████████████▉          | 2156/2900 [01:21<00:27, 26.95it/s]"
     ]
    },
    {
     "name": "stdout",
     "output_type": "stream",
     "text": [
      "Energy: [8947.09704607 8967.29224611 8947.09704607 8947.09704607 8947.09704607\n",
      " 8947.09704607 8947.09704607 8947.09704607 8947.09704607 8947.09704607\n",
      " 8947.09704607]\n"
     ]
    },
    {
     "name": "stderr",
     "output_type": "stream",
     "text": [
      " 76%|█████████████████████████████▋         | 2204/2900 [01:23<00:27, 25.71it/s]"
     ]
    },
    {
     "name": "stdout",
     "output_type": "stream",
     "text": [
      "Energy: [8947.09704607 8964.7857525  8947.09704607 8947.09704607 8947.09704607\n",
      " 8947.09704607 8947.09704607 8947.09704607 8947.09704607 8947.09704607\n",
      " 8947.09704607]\n"
     ]
    },
    {
     "name": "stderr",
     "output_type": "stream",
     "text": [
      " 78%|██████████████████████████████▎        | 2255/2900 [01:25<00:23, 27.51it/s]"
     ]
    },
    {
     "name": "stdout",
     "output_type": "stream",
     "text": [
      "Energy: [8954.67772798 8947.09704607 8967.29224611 8947.09704607 8947.09704607\n",
      " 8947.09704607 8947.09704607 8947.09704607 8947.09704607 8947.09704607\n",
      " 8947.09704607]\n"
     ]
    },
    {
     "name": "stderr",
     "output_type": "stream",
     "text": [
      " 80%|███████████████████████████████        | 2306/2900 [01:26<00:22, 26.80it/s]"
     ]
    },
    {
     "name": "stdout",
     "output_type": "stream",
     "text": [
      "Energy: [8954.67772798 8947.09704607 8947.09704607 8967.29224611 8947.09704607\n",
      " 8947.09704607 8947.09704607 8947.09704607 8947.09704607 8947.09704607\n",
      " 8947.09704607]\n"
     ]
    },
    {
     "name": "stderr",
     "output_type": "stream",
     "text": [
      " 81%|███████████████████████████████▋       | 2354/2900 [01:28<00:20, 26.89it/s]"
     ]
    },
    {
     "name": "stdout",
     "output_type": "stream",
     "text": [
      "Energy: [8947.09704607 8954.67772798 8947.09704607 8947.09704607 8947.09704607\n",
      " 8947.09704607 8947.09704607 8954.67772798 8947.09704607 8947.09704607\n",
      " 8947.09704607]\n"
     ]
    },
    {
     "name": "stderr",
     "output_type": "stream",
     "text": [
      " 83%|████████████████████████████████▎      | 2405/2900 [01:30<00:17, 27.61it/s]"
     ]
    },
    {
     "name": "stdout",
     "output_type": "stream",
     "text": [
      "Energy: [8947.09704607 8947.09704607 8947.09704607 8947.09704607 8947.09704607\n",
      " 8947.09704607 8947.09704607 8947.09704607 8947.09704607 8947.09704607\n",
      " 8947.09704607]\n"
     ]
    },
    {
     "name": "stderr",
     "output_type": "stream",
     "text": [
      " 85%|█████████████████████████████████      | 2456/2900 [01:32<00:16, 27.68it/s]"
     ]
    },
    {
     "name": "stdout",
     "output_type": "stream",
     "text": [
      "Energy: [8947.09704607 8954.67772798 8947.09704607 8947.09704607 8947.09704607\n",
      " 8947.09704607 8947.09704607 8947.09704607 8947.09704607 8947.09704607\n",
      " 8947.09704607]\n"
     ]
    },
    {
     "name": "stderr",
     "output_type": "stream",
     "text": [
      " 86%|█████████████████████████████████▋     | 2504/2900 [01:34<00:15, 25.71it/s]"
     ]
    },
    {
     "name": "stdout",
     "output_type": "stream",
     "text": [
      "Energy: [8962.25583472 8957.21114398 8954.67772798 8954.67772798 8947.09704607\n",
      " 8947.09704607 8947.09704607 8947.09704607 8947.09704607 8947.09704607\n",
      " 8947.09704607]\n"
     ]
    },
    {
     "name": "stderr",
     "output_type": "stream",
     "text": [
      " 88%|██████████████████████████████████▎    | 2555/2900 [01:36<00:12, 26.85it/s]"
     ]
    },
    {
     "name": "stdout",
     "output_type": "stream",
     "text": [
      "Energy: [8962.25583472 8954.67772798 8947.09704607 8954.67772798 8947.09704607\n",
      " 8947.09704607 8947.09704607 8947.09704607 8947.09704607 8947.09704607\n",
      " 8947.09704607]\n"
     ]
    },
    {
     "name": "stderr",
     "output_type": "stream",
     "text": [
      " 90%|███████████████████████████████████    | 2603/2900 [01:37<00:11, 26.85it/s]"
     ]
    },
    {
     "name": "stdout",
     "output_type": "stream",
     "text": [
      "Energy: [8962.25583472 8947.09704607 8947.09704607 8954.67772798 8947.09704607\n",
      " 8947.09704607 8947.09704607 8947.09704607 8947.09704607 8947.09704607\n",
      " 8947.09704607]\n"
     ]
    },
    {
     "name": "stderr",
     "output_type": "stream",
     "text": [
      " 92%|███████████████████████████████████▋   | 2654/2900 [01:39<00:09, 26.78it/s]"
     ]
    },
    {
     "name": "stdout",
     "output_type": "stream",
     "text": [
      "Energy: [8947.09704607 8954.67772798 8947.09704607 8947.09704607 8947.09704607\n",
      " 8947.09704607 8947.09704607 8947.09704607 8947.09704607 8947.09704607\n",
      " 8947.09704607]\n"
     ]
    },
    {
     "name": "stderr",
     "output_type": "stream",
     "text": [
      " 93%|████████████████████████████████████▍  | 2705/2900 [01:41<00:07, 27.21it/s]"
     ]
    },
    {
     "name": "stdout",
     "output_type": "stream",
     "text": [
      "Energy: [8947.09704607 8947.09704607 8947.09704607 8954.67772798 8954.67772798\n",
      " 8947.09704607 8947.09704607 8947.09704607 8947.09704607 8947.09704607\n",
      " 8947.09704607]\n"
     ]
    },
    {
     "name": "stderr",
     "output_type": "stream",
     "text": [
      " 95%|█████████████████████████████████████  | 2756/2900 [01:43<00:05, 26.73it/s]"
     ]
    },
    {
     "name": "stdout",
     "output_type": "stream",
     "text": [
      "Energy: [8947.09704607 8954.67772798 8947.09704607 8947.09704607 8947.09704607\n",
      " 8947.09704607 8947.09704607 8947.09704607 8947.09704607 8947.09704607\n",
      " 8947.09704607]\n"
     ]
    },
    {
     "name": "stderr",
     "output_type": "stream",
     "text": [
      " 97%|█████████████████████████████████████▋ | 2804/2900 [01:45<00:03, 24.04it/s]"
     ]
    },
    {
     "name": "stdout",
     "output_type": "stream",
     "text": [
      "Energy: [8947.09704607 8947.09704607 8959.71319775 8947.09704607 8954.67772798\n",
      " 8947.09704607 8947.09704607 8947.09704607 8947.09704607 8947.09704607\n",
      " 8947.09704607]\n"
     ]
    },
    {
     "name": "stderr",
     "output_type": "stream",
     "text": [
      " 98%|██████████████████████████████████████▍| 2855/2900 [01:47<00:01, 26.20it/s]"
     ]
    },
    {
     "name": "stdout",
     "output_type": "stream",
     "text": [
      "Energy: [8947.09704607 8947.09704607 8947.09704607 8947.09704607 8947.09704607\n",
      " 8947.09704607 8947.09704607 8947.09704607 8947.09704607 8947.09704607\n",
      " 8947.09704607]\n"
     ]
    },
    {
     "name": "stderr",
     "output_type": "stream",
     "text": [
      "100%|███████████████████████████████████████| 2900/2900 [01:49<00:00, 26.57it/s]\n"
     ]
    },
    {
     "name": "stdout",
     "output_type": "stream",
     "text": [
      "Fin Energy_t 8947.097046074086 Energy_gs 8947.097046074086\n",
      "c_accep 0 c_rounds 0\n",
      "Elapsed (after compilation) = 109.15342998504639\n",
      "[[188 181 201 203 194 212 214 213 217 215 216 218]\n",
      " [188 181 201 203 194 212 214 213 217 215 216 218]\n",
      " [188 181 201 203 194 212 214 213 217 215 216 218]\n",
      " [188 181 201 203 194 212 214 213 217 215 216 218]]\n",
      "[[186 198 205 210 203 216 213 218 217 214 215 212]\n",
      " [186 198 205 210 203 216 213 218 217 214 215 212]\n",
      " [186 198 205 210 203 216 213 218 217 214 215 212]\n",
      " [186 198 205 210 203 216 213 218 217 214 215 212]]\n",
      "[[186 198 205 210 203 216 213 218 217 214 215 212]\n",
      " [186 198 205 210 203 216 213 218 217 214 215 212]\n",
      " [186 198 205 210 203 216 213 218 217 214 215 212]\n",
      " [186 198 205 210 203 216 213 218 217 214 215 212]]\n",
      "[[192 187 181 198 190 216 217 214 215 212 213 218]\n",
      " [192 187 181 198 190 216 217 214 215 212 213 218]\n",
      " [192 187 181 198 190 216 217 214 215 212 213 218]\n",
      " [192 187 181 198 190 216 217 214 215 212 213 218]]\n",
      "[[188 181 201 203 194 212 214 213 217 215 216 218]\n",
      " [188 181 201 203 194 212 214 213 217 215 216 218]\n",
      " [188 181 201 203 194 212 214 213 217 215 216 218]\n",
      " [188 181 201 203 194 212 214 213 217 215 216 218]]\n",
      "[[188 181 201 203 194 212 214 213 217 215 216 218]\n",
      " [180 181 201 203 194 212 214 213 217 215 216 218]\n",
      " [188 181 201 203 194 212 214 213 217 215 216 218]\n",
      " [188 181 201 203 194 212 214 213 217 215 216 218]]\n",
      "[[204 186 180 206 197 217 213 215 214 212 216 218]\n",
      " [204 186 180 206 197 217 213 215 214 212 216 218]\n",
      " [204 186 180 206 197 217 213 215 214 212 216 218]\n",
      " [204 186 180 206 197 217 213 215 214 212 216 218]]\n",
      "[[204 186 180 206 197 217 213 215 214 212 216 218]\n",
      " [204 186 188 206 197 217 213 215 214 212 216 218]\n",
      " [204 186 180 206 197 217 213 215 214 212 216 218]\n",
      " [204 186 180 206 197 217 213 215 214 212 216 218]]\n",
      "[[204 186 180 206 197 217 213 215 214 212 216 218]\n",
      " [204 186 188 206 197 217 213 215 214 212 216 218]\n",
      " [204 186 180 206 197 217 213 215 214 212 216 218]\n",
      " [204 186 180 206 197 217 213 215 214 212 216 218]]\n",
      "[[199 204 193 201 210 214 213 212 218 217 216 215]\n",
      " [199 204 193 201 210 214 213 212 218 217 216 215]\n",
      " [199 204 193 201 208 214 213 212 218 217 216 215]\n",
      " [199 204 193 201 210 214 213 212 218 217 216 215]]\n",
      "[[188 181 201 203 194 212 214 213 217 215 216 218]\n",
      " [188 181 201 203 194 212 214 213 217 215 216 218]\n",
      " [188 181 201 203 194 212 214 213 217 215 216 218]\n",
      " [188 181 201 203 194 212 214 213 217 215 216 218]]\n",
      "[[195 181 196 209 183 214 213 212 215 218 216 217]\n",
      " [195 181 196 209 183 214 213 212 215 218 216 217]\n",
      " [195 181 196 209 183 214 213 212 215 218 216 217]\n",
      " [195 181 196 209 183 214 213 212 215 218 216 217]]\n",
      "[[204 186 180 206 197 217 213 215 214 212 216 218]\n",
      " [204 186 180 206 197 217 213 215 214 212 216 218]\n",
      " [204 186 180 206 197 217 213 215 214 212 216 218]\n",
      " [204 186 180 206 197 217 213 215 214 212 216 218]]\n",
      "[[195 181 196 209 183 214 213 212 215 218 216 217]\n",
      " [195 181 196 209 183 214 213 212 215 218 216 217]\n",
      " [195 181 196 209 183 214 213 212 215 218 216 217]\n",
      " [195 181 196 209 183 214 213 212 215 218 216 217]]\n",
      "[[188 181 201 203 194 212 214 213 217 215 216 218]\n",
      " [180 181 201 203 194 212 214 213 217 215 216 218]\n",
      " [188 181 201 203 194 212 214 213 217 215 216 218]\n",
      " [188 181 201 203 194 212 214 213 217 215 216 218]]\n",
      "[[199 204 193 201 210 214 213 212 218 217 216 215]\n",
      " [199 204 193 201 210 214 213 212 218 217 216 215]\n",
      " [199 204 193 201 208 214 213 212 218 217 216 215]\n",
      " [199 204 193 201 210 214 213 212 218 217 216 215]]\n",
      "[[188 181 201 203 194 212 214 213 217 215 216 218]\n",
      " [180 181 201 203 194 212 214 213 217 215 216 218]\n",
      " [188 181 201 203 194 212 214 213 217 215 216 218]\n",
      " [188 181 201 203 194 212 214 213 217 215 216 218]]\n",
      "[[188 181 201 203 194 212 214 213 217 215 216 218]\n",
      " [180 181 201 203 194 212 214 213 217 215 216 218]\n",
      " [188 181 201 203 194 212 214 213 217 215 216 218]\n",
      " [188 181 201 203 194 212 214 213 217 215 216 218]]\n",
      "[[188 181 201 203 194 212 214 213 217 215 216 218]\n",
      " [188 181 201 203 194 212 214 213 217 215 216 218]\n",
      " [188 181 201 203 194 212 214 213 217 215 216 218]\n",
      " [188 181 201 203 194 212 214 213 217 215 216 218]]\n",
      "[[188 181 201 203 194 212 214 213 217 215 216 218]\n",
      " [180 181 201 203 194 212 214 213 217 215 216 218]\n",
      " [188 181 201 203 194 212 214 213 217 215 216 218]\n",
      " [188 181 201 203 194 212 214 213 217 215 216 218]]\n",
      "[[204 186 180 206 197 217 213 215 214 212 216 218]\n",
      " [204 186 188 206 197 217 213 215 214 212 216 218]\n",
      " [204 186 180 206 197 217 213 215 214 212 216 218]\n",
      " [204 186 180 206 197 217 213 215 214 212 216 218]]\n",
      "[[204 186 180 206 197 217 213 215 214 212 216 218]\n",
      " [204 186 180 206 197 217 213 215 214 212 216 218]\n",
      " [204 186 180 206 197 217 213 215 214 212 216 218]\n",
      " [204 186 180 206 197 217 213 215 214 212 216 218]]\n",
      "[[204 186 180 206 197 217 213 215 214 212 216 218]\n",
      " [204 186 188 206 197 217 213 215 214 212 216 218]\n",
      " [204 186 180 206 197 217 213 215 214 212 216 218]\n",
      " [204 186 180 206 197 217 213 215 214 212 216 218]]\n",
      "[[190 185 203 187 196 215 214 212 213 217 216 218]\n",
      " [190 185 203 187 196 215 214 212 213 217 216 218]\n",
      " [190 185 203 187 196 215 214 212 213 217 216 218]\n",
      " [190 185 203 187 196 215 214 212 213 217 216 218]]\n",
      "[[190 185 203 187 196 215 214 212 213 217 216 218]\n",
      " [190 185 203 187 196 215 214 212 213 217 216 218]\n",
      " [190 185 203 187 196 215 214 212 213 217 216 218]\n",
      " [190 185 203 187 196 215 214 212 213 217 216 218]]\n",
      "[[190 185 203 187 196 215 214 212 213 217 216 218]\n",
      " [190 185 203 187 196 215 214 212 213 217 216 218]\n",
      " [190 185 203 187 196 215 214 212 213 217 216 218]\n",
      " [190 185 203 187 196 215 214 212 213 217 216 218]]\n",
      "[[190 185 203 187 196 215 214 212 213 217 216 218]\n",
      " [190 185 203 187 196 215 214 212 213 217 216 218]\n",
      " [190 185 203 187 196 215 214 212 213 217 216 218]\n",
      " [190 185 203 187 196 215 214 212 213 217 216 218]]\n",
      "[[190 185 203 187 196 215 214 212 213 217 216 218]\n",
      " [190 185 203 187 196 215 214 212 213 217 216 218]\n",
      " [190 185 203 187 196 215 214 212 213 217 216 218]\n",
      " [190 185 203 187 196 215 214 212 213 217 216 218]]\n",
      "[[190 185 203 187 196 215 214 212 213 217 216 218]\n",
      " [190 185 203 187 196 215 214 212 213 217 216 218]\n",
      " [190 185 203 187 196 215 214 212 213 217 216 218]\n",
      " [190 185 203 187 196 215 214 212 213 217 216 218]]\n",
      "[[190 185 203 187 196 215 214 212 213 217 216 218]\n",
      " [190 185 203 187 196 215 214 212 213 217 216 218]\n",
      " [190 185 203 187 196 215 214 212 213 217 216 218]\n",
      " [190 185 203 187 196 215 214 212 213 217 216 218]]\n",
      "[[188 181 201 203 194 212 214 213 217 215 216 218]\n",
      " [180 181 201 203 194 212 214 213 217 215 216 218]\n",
      " [188 181 201 203 194 212 214 213 217 215 216 218]\n",
      " [188 181 201 203 194 212 214 213 217 215 216 218]]\n",
      "[[188 181 201 203 194 212 214 213 217 215 216 218]\n",
      " [180 181 201 203 194 212 214 213 217 215 216 218]\n",
      " [188 181 201 203 194 212 214 213 217 215 216 218]\n",
      " [188 181 201 203 194 212 214 213 217 215 216 218]]\n",
      "[[188 181 201 203 194 212 214 213 217 215 216 218]\n",
      " [180 181 201 203 194 212 214 213 217 215 216 218]\n",
      " [188 181 201 203 194 212 214 213 217 215 216 218]\n",
      " [188 181 201 203 194 212 214 213 217 215 216 218]]\n",
      "[[188 181 201 203 194 212 214 213 217 215 216 218]\n",
      " [180 181 201 203 194 212 214 213 217 215 216 218]\n",
      " [188 181 201 203 194 212 214 213 217 215 216 218]\n",
      " [188 181 201 203 194 212 214 213 217 215 216 218]]\n",
      "[[192 187 181 198 190 216 217 214 215 212 213 218]\n",
      " [192 187 181 198 190 216 217 214 215 212 213 218]\n",
      " [192 187 181 198 190 216 217 214 215 212 213 218]\n",
      " [192 187 181 198 190 216 217 214 215 212 213 218]]\n",
      "[[195 181 196 209 183 214 213 212 215 218 216 217]\n",
      " [195 181 196 209 183 214 213 212 215 218 216 217]\n",
      " [195 181 196 209 183 214 213 212 215 218 216 217]\n",
      " [195 181 196 209 183 214 213 212 215 218 216 217]]\n",
      "[[188 181 201 203 194 212 214 213 217 215 216 218]\n",
      " [180 181 201 203 194 212 214 213 217 215 216 218]\n",
      " [188 181 201 203 194 212 214 213 217 215 216 218]\n",
      " [188 181 201 203 194 212 214 213 217 215 216 218]]\n",
      "[[188 181 201 203 194 212 214 213 217 215 216 218]\n",
      " [180 181 201 203 194 212 214 213 217 215 216 218]\n",
      " [188 181 201 203 194 212 214 213 217 215 216 218]\n",
      " [188 181 201 203 194 212 214 213 217 215 216 218]]\n",
      "[[188 181 201 203 194 212 214 213 217 215 216 218]\n",
      " [188 181 201 203 194 212 214 213 217 215 216 218]\n",
      " [188 181 201 203 194 212 214 213 217 215 216 218]\n",
      " [188 181 201 203 194 212 214 213 217 215 216 218]]\n",
      "[1.] [0.99086758]\n",
      "i_reps 5\n",
      "Energía ini: 34610.11851114475 /gs: 8888.923680659711\n"
     ]
    },
    {
     "name": "stderr",
     "output_type": "stream",
     "text": [
      " 31%|████████████▍                           | 906/2900 [00:33<01:10, 28.22it/s]"
     ]
    },
    {
     "name": "stdout",
     "output_type": "stream",
     "text": [
      "Energy: [9505.24021744 8888.92368066 8891.47597906 8896.52152429 8891.47597906\n",
      " 9318.66168221 9045.45314619 9045.45314619 8888.92368066 8891.47597906\n",
      " 8888.92368066]\n"
     ]
    },
    {
     "name": "stderr",
     "output_type": "stream",
     "text": [
      " 33%|█████████████▏                          | 954/2900 [00:35<01:11, 27.35it/s]"
     ]
    },
    {
     "name": "stdout",
     "output_type": "stream",
     "text": [
      "Energy: [9507.71196763 8888.92368066 8888.92368066 8888.92368066 9020.22274281\n",
      " 8888.92368066 9045.45314619 8888.92368066 8888.92368066 8888.92368066\n",
      " 8888.92368066]\n"
     ]
    },
    {
     "name": "stderr",
     "output_type": "stream",
     "text": [
      " 35%|█████████████▌                         | 1005/2900 [00:36<01:09, 27.39it/s]"
     ]
    },
    {
     "name": "stdout",
     "output_type": "stream",
     "text": [
      "Energy: [9505.24021744 8896.52152429 8888.92368066 9020.22274281 9053.0084471\n",
      " 8888.92368066 8891.47597906 8888.92368066 8888.92368066 8888.92368066\n",
      " 8888.92368066]\n"
     ]
    },
    {
     "name": "stderr",
     "output_type": "stream",
     "text": [
      " 36%|██████████████▏                        | 1056/2900 [00:38<01:06, 27.57it/s]"
     ]
    },
    {
     "name": "stdout",
     "output_type": "stream",
     "text": [
      "Energy: [9163.46505201 8888.92368066 8911.7094318  9053.0084471  8891.47597906\n",
      " 8888.92368066 8891.47597906 8888.92368066 8888.92368066 8888.92368066\n",
      " 8891.47597906]\n"
     ]
    },
    {
     "name": "stderr",
     "output_type": "stream",
     "text": [
      " 38%|██████████████▊                        | 1104/2900 [00:40<01:08, 26.41it/s]"
     ]
    },
    {
     "name": "stdout",
     "output_type": "stream",
     "text": [
      "Energy: [8919.29950201 8899.07029139 8896.52152429 8896.52152429 8891.47597906\n",
      " 8888.92368066 8888.92368066 8888.92368066 8888.92368066 8888.92368066\n",
      " 8888.92368066]\n"
     ]
    },
    {
     "name": "stderr",
     "output_type": "stream",
     "text": [
      " 40%|███████████████▌                       | 1155/2900 [00:42<01:03, 27.38it/s]"
     ]
    },
    {
     "name": "stdout",
     "output_type": "stream",
     "text": [
      "Energy: [8888.92368066 8896.52152429 8888.92368066 8891.47597906 8896.52152429\n",
      " 8891.47597906 8888.92368066 8888.92368066 8896.52152429 8888.92368066\n",
      " 8888.92368066]\n"
     ]
    },
    {
     "name": "stderr",
     "output_type": "stream",
     "text": [
      " 42%|████████████████▏                      | 1206/2900 [00:44<01:02, 27.14it/s]"
     ]
    },
    {
     "name": "stdout",
     "output_type": "stream",
     "text": [
      "Energy: [8896.52152429 8888.92368066 8896.52152429 8888.92368066 8901.55870009\n",
      " 8888.92368066 8888.92368066 8896.52152429 8888.92368066 8888.92368066\n",
      " 8888.92368066]\n"
     ]
    },
    {
     "name": "stderr",
     "output_type": "stream",
     "text": [
      " 43%|████████████████▊                      | 1254/2900 [00:46<00:59, 27.54it/s]"
     ]
    },
    {
     "name": "stdout",
     "output_type": "stream",
     "text": [
      "Energy: [8891.47597906 8896.52152429 8899.07029139 8904.11677361 8888.92368066\n",
      " 8888.92368066 8888.92368066 8888.92368066 8888.92368066 8896.52152429\n",
      " 8888.92368066]\n"
     ]
    },
    {
     "name": "stderr",
     "output_type": "stream",
     "text": [
      " 45%|█████████████████▌                     | 1305/2900 [00:47<00:58, 27.07it/s]"
     ]
    },
    {
     "name": "stdout",
     "output_type": "stream",
     "text": [
      "Energy: [8888.92368066 8906.66201552 8901.55870009 8891.47597906 8888.92368066\n",
      " 8891.47597906 8891.47597906 8888.92368066 8888.92368066 8896.52152429\n",
      " 8888.92368066]\n"
     ]
    },
    {
     "name": "stderr",
     "output_type": "stream",
     "text": [
      " 47%|██████████████████▏                    | 1356/2900 [00:49<00:59, 25.74it/s]"
     ]
    },
    {
     "name": "stdout",
     "output_type": "stream",
     "text": [
      "Energy: [8888.92368066 8899.07029139 8891.47597906 8888.92368066 8888.92368066\n",
      " 8888.92368066 8888.92368066 8888.92368066 8888.92368066 8896.52152429\n",
      " 8888.92368066]\n"
     ]
    },
    {
     "name": "stderr",
     "output_type": "stream",
     "text": [
      " 48%|██████████████████▉                    | 1404/2900 [00:51<00:55, 26.93it/s]"
     ]
    },
    {
     "name": "stdout",
     "output_type": "stream",
     "text": [
      "Energy: [8888.92368066 8891.47597906 8888.92368066 8888.92368066 8888.92368066\n",
      " 8888.92368066 8891.47597906 8888.92368066 8888.92368066 8888.92368066\n",
      " 8896.52152429]\n"
     ]
    },
    {
     "name": "stderr",
     "output_type": "stream",
     "text": [
      " 50%|███████████████████▌                   | 1455/2900 [00:53<00:53, 27.22it/s]"
     ]
    },
    {
     "name": "stdout",
     "output_type": "stream",
     "text": [
      "Energy: [8888.92368066 8888.92368066 8888.92368066 8888.92368066 8891.47597906\n",
      " 8888.92368066 8888.92368066 8888.92368066 8891.47597906 8888.92368066\n",
      " 8888.92368066]\n"
     ]
    },
    {
     "name": "stderr",
     "output_type": "stream",
     "text": [
      " 52%|████████████████████▎                  | 1506/2900 [00:55<00:51, 26.81it/s]"
     ]
    },
    {
     "name": "stdout",
     "output_type": "stream",
     "text": [
      "Energy: [8888.92368066 8888.92368066 8888.92368066 8888.92368066 8888.92368066\n",
      " 8888.92368066 8888.92368066 8888.92368066 8891.47597906 8888.92368066\n",
      " 8888.92368066]\n"
     ]
    },
    {
     "name": "stderr",
     "output_type": "stream",
     "text": [
      " 54%|████████████████████▉                  | 1557/2900 [00:57<00:52, 25.76it/s]"
     ]
    },
    {
     "name": "stdout",
     "output_type": "stream",
     "text": [
      "Energy: [8891.47597906 8891.47597906 8891.47597906 8888.92368066 8888.92368066\n",
      " 8888.92368066 8891.47597906 8888.92368066 8888.92368066 8891.47597906\n",
      " 8888.92368066]\n"
     ]
    },
    {
     "name": "stderr",
     "output_type": "stream",
     "text": [
      " 55%|█████████████████████▌                 | 1605/2900 [00:59<00:46, 27.71it/s]"
     ]
    },
    {
     "name": "stdout",
     "output_type": "stream",
     "text": [
      "Energy: [8891.47597906 8891.47597906 8891.47597906 8888.92368066 8896.52152429\n",
      " 8891.47597906 8888.92368066 8891.47597906 8888.92368066 8888.92368066\n",
      " 8891.47597906]\n"
     ]
    },
    {
     "name": "stderr",
     "output_type": "stream",
     "text": [
      " 57%|██████████████████████▎                | 1656/2900 [01:00<00:44, 27.88it/s]"
     ]
    },
    {
     "name": "stdout",
     "output_type": "stream",
     "text": [
      "Energy: [8888.92368066 8896.52152429 8891.47597906 8891.47597906 8896.52152429\n",
      " 8888.92368066 8896.52152429 8888.92368066 8888.92368066 8891.47597906\n",
      " 8888.92368066]\n"
     ]
    },
    {
     "name": "stderr",
     "output_type": "stream",
     "text": [
      " 59%|██████████████████████▉                | 1704/2900 [01:02<00:43, 27.54it/s]"
     ]
    },
    {
     "name": "stdout",
     "output_type": "stream",
     "text": [
      "Energy: [8904.11677361 8904.11677361 8896.52152429 8899.07029139 8896.52152429\n",
      " 8891.47597906 8888.92368066 8888.92368066 8891.47597906 8888.92368066\n",
      " 8888.92368066]\n"
     ]
    },
    {
     "name": "stderr",
     "output_type": "stream",
     "text": [
      " 61%|███████████████████████▌               | 1755/2900 [01:04<00:41, 27.65it/s]"
     ]
    },
    {
     "name": "stdout",
     "output_type": "stream",
     "text": [
      "Energy: [8921.83771183 8888.92368066 8888.92368066 8904.11677361 8891.47597906\n",
      " 8891.47597906 8891.47597906 8891.47597906 8891.47597906 8888.92368066\n",
      " 8888.92368066]\n"
     ]
    },
    {
     "name": "stderr",
     "output_type": "stream",
     "text": [
      " 62%|████████████████████████▎              | 1806/2900 [01:06<00:39, 27.42it/s]"
     ]
    },
    {
     "name": "stdout",
     "output_type": "stream",
     "text": [
      "Energy: [8921.83771183 8891.47597906 8891.47597906 8888.92368066 8896.52152429\n",
      " 8888.92368066 8888.92368066 8888.92368066 8888.92368066 8888.92368066\n",
      " 8888.92368066]\n"
     ]
    },
    {
     "name": "stderr",
     "output_type": "stream",
     "text": [
      " 64%|████████████████████████▉              | 1854/2900 [01:08<00:38, 27.19it/s]"
     ]
    },
    {
     "name": "stdout",
     "output_type": "stream",
     "text": [
      "Energy: [8888.92368066 8921.83771183 8888.92368066 8899.07029139 8888.92368066\n",
      " 8888.92368066 8888.92368066 8888.92368066 8888.92368066 8888.92368066\n",
      " 8888.92368066]\n"
     ]
    },
    {
     "name": "stderr",
     "output_type": "stream",
     "text": [
      " 66%|█████████████████████████▌             | 1905/2900 [01:09<00:35, 28.09it/s]"
     ]
    },
    {
     "name": "stdout",
     "output_type": "stream",
     "text": [
      "Energy: [8888.92368066 8891.47597906 8891.47597906 8899.07029139 8888.92368066\n",
      " 8888.92368066 8888.92368066 8888.92368066 8888.92368066 8888.92368066\n",
      " 8888.92368066]\n"
     ]
    },
    {
     "name": "stderr",
     "output_type": "stream",
     "text": [
      " 67%|██████████████████████████▎            | 1956/2900 [01:11<00:34, 27.29it/s]"
     ]
    },
    {
     "name": "stdout",
     "output_type": "stream",
     "text": [
      "Energy: [8891.47597906 8888.92368066 8891.47597906 8899.07029139 8888.92368066\n",
      " 8888.92368066 8888.92368066 8888.92368066 8888.92368066 8888.92368066\n",
      " 8888.92368066]\n"
     ]
    },
    {
     "name": "stderr",
     "output_type": "stream",
     "text": [
      " 69%|██████████████████████████▉            | 2004/2900 [01:13<00:32, 27.60it/s]"
     ]
    },
    {
     "name": "stdout",
     "output_type": "stream",
     "text": [
      "Energy: [8906.66201552 8891.47597906 8891.47597906 8891.47597906 8891.47597906\n",
      " 8888.92368066 8891.47597906 8888.92368066 8888.92368066 8888.92368066\n",
      " 8888.92368066]\n"
     ]
    },
    {
     "name": "stderr",
     "output_type": "stream",
     "text": [
      " 71%|███████████████████████████▋           | 2055/2900 [01:15<00:30, 28.16it/s]"
     ]
    },
    {
     "name": "stdout",
     "output_type": "stream",
     "text": [
      "Energy: [8934.47189119 8916.74850404 8899.07029139 8888.92368066 8891.47597906\n",
      " 8888.92368066 8888.92368066 8888.92368066 8888.92368066 8888.92368066\n",
      " 8888.92368066]\n"
     ]
    },
    {
     "name": "stderr",
     "output_type": "stream",
     "text": [
      " 73%|████████████████████████████▎          | 2106/2900 [01:17<00:28, 28.20it/s]"
     ]
    },
    {
     "name": "stdout",
     "output_type": "stream",
     "text": [
      "Energy: [8919.29950201 8888.92368066 8888.92368066 8891.47597906 8891.47597906\n",
      " 8888.92368066 8891.47597906 8888.92368066 8888.92368066 8888.92368066\n",
      " 8888.92368066]\n"
     ]
    },
    {
     "name": "stderr",
     "output_type": "stream",
     "text": [
      " 74%|████████████████████████████▉          | 2154/2900 [01:18<00:26, 27.93it/s]"
     ]
    },
    {
     "name": "stdout",
     "output_type": "stream",
     "text": [
      "Energy: [8888.92368066 8919.29950201 8891.47597906 8891.47597906 8891.47597906\n",
      " 8888.92368066 8888.92368066 8891.47597906 8888.92368066 8891.47597906\n",
      " 8891.47597906]\n"
     ]
    },
    {
     "name": "stderr",
     "output_type": "stream",
     "text": [
      " 76%|█████████████████████████████▋         | 2205/2900 [01:20<00:24, 27.91it/s]"
     ]
    },
    {
     "name": "stdout",
     "output_type": "stream",
     "text": [
      "Energy: [8888.92368066 8891.47597906 8888.92368066 8888.92368066 8888.92368066\n",
      " 8891.47597906 8888.92368066 8888.92368066 8888.92368066 8888.92368066\n",
      " 8891.47597906]\n"
     ]
    },
    {
     "name": "stderr",
     "output_type": "stream",
     "text": [
      " 78%|██████████████████████████████▎        | 2256/2900 [01:22<00:23, 27.40it/s]"
     ]
    },
    {
     "name": "stdout",
     "output_type": "stream",
     "text": [
      "Energy: [8888.92368066 8888.92368066 8888.92368066 8888.92368066 8888.92368066\n",
      " 8891.47597906 8888.92368066 8888.92368066 8891.47597906 8888.92368066\n",
      " 8891.47597906]\n"
     ]
    },
    {
     "name": "stderr",
     "output_type": "stream",
     "text": [
      " 79%|██████████████████████████████▉        | 2304/2900 [01:24<00:21, 27.85it/s]"
     ]
    },
    {
     "name": "stdout",
     "output_type": "stream",
     "text": [
      "Energy: [8888.92368066 8888.92368066 8888.92368066 8888.92368066 8888.92368066\n",
      " 8888.92368066 8888.92368066 8888.92368066 8888.92368066 8888.92368066\n",
      " 8891.47597906]\n"
     ]
    },
    {
     "name": "stderr",
     "output_type": "stream",
     "text": [
      " 81%|███████████████████████████████▋       | 2355/2900 [01:26<00:20, 26.07it/s]"
     ]
    },
    {
     "name": "stdout",
     "output_type": "stream",
     "text": [
      "Energy: [8891.47597906 8904.11677361 8888.92368066 8888.92368066 8891.47597906\n",
      " 8888.92368066 8888.92368066 8888.92368066 8888.92368066 8888.92368066\n",
      " 8888.92368066]\n"
     ]
    },
    {
     "name": "stderr",
     "output_type": "stream",
     "text": [
      " 83%|████████████████████████████████▎      | 2406/2900 [01:28<00:19, 25.53it/s]"
     ]
    },
    {
     "name": "stdout",
     "output_type": "stream",
     "text": [
      "Energy: [8891.47597906 8888.92368066 8888.92368066 8888.92368066 8891.47597906\n",
      " 8888.92368066 8891.47597906 8891.47597906 8888.92368066 8888.92368066\n",
      " 8888.92368066]\n"
     ]
    },
    {
     "name": "stderr",
     "output_type": "stream",
     "text": [
      " 85%|█████████████████████████████████      | 2457/2900 [01:30<00:16, 27.15it/s]"
     ]
    },
    {
     "name": "stdout",
     "output_type": "stream",
     "text": [
      "Energy: [8899.07029139 8904.11677361 8891.47597906 8891.47597906 8888.92368066\n",
      " 8888.92368066 8891.47597906 8888.92368066 8888.92368066 8888.92368066\n",
      " 8888.92368066]\n"
     ]
    },
    {
     "name": "stderr",
     "output_type": "stream",
     "text": [
      " 86%|█████████████████████████████████▋     | 2505/2900 [01:31<00:14, 27.43it/s]"
     ]
    },
    {
     "name": "stdout",
     "output_type": "stream",
     "text": [
      "Energy: [8891.47597906 8891.47597906 8904.11677361 8888.92368066 8888.92368066\n",
      " 8891.47597906 8888.92368066 8891.47597906 8888.92368066 8888.92368066\n",
      " 8888.92368066]\n"
     ]
    },
    {
     "name": "stderr",
     "output_type": "stream",
     "text": [
      " 88%|██████████████████████████████████▎    | 2556/2900 [01:33<00:12, 27.08it/s]"
     ]
    },
    {
     "name": "stdout",
     "output_type": "stream",
     "text": [
      "Energy: [8891.47597906 8891.47597906 8904.11677361 8891.47597906 8891.47597906\n",
      " 8891.47597906 8891.47597906 8888.92368066 8899.07029139 8888.92368066\n",
      " 8888.92368066]\n"
     ]
    },
    {
     "name": "stderr",
     "output_type": "stream",
     "text": [
      " 90%|███████████████████████████████████    | 2604/2900 [01:35<00:11, 26.83it/s]"
     ]
    },
    {
     "name": "stdout",
     "output_type": "stream",
     "text": [
      "Energy: [8904.11677361 8891.47597906 8899.07029139 8891.47597906 8891.47597906\n",
      " 8891.47597906 8891.47597906 8891.47597906 8888.92368066 8891.47597906\n",
      " 8888.92368066]\n"
     ]
    },
    {
     "name": "stderr",
     "output_type": "stream",
     "text": [
      " 92%|███████████████████████████████████▋   | 2655/2900 [01:37<00:08, 28.36it/s]"
     ]
    },
    {
     "name": "stdout",
     "output_type": "stream",
     "text": [
      "Energy: [8891.47597906 8904.11677361 8891.47597906 8891.47597906 8896.52152429\n",
      " 8891.47597906 8888.92368066 8888.92368066 8891.47597906 8891.47597906\n",
      " 8888.92368066]\n"
     ]
    },
    {
     "name": "stderr",
     "output_type": "stream",
     "text": [
      " 93%|████████████████████████████████████▍  | 2706/2900 [01:39<00:07, 27.35it/s]"
     ]
    },
    {
     "name": "stdout",
     "output_type": "stream",
     "text": [
      "Energy: [8891.47597906 8899.07029139 8891.47597906 8899.07029139 8888.92368066\n",
      " 8888.92368066 8888.92368066 8888.92368066 8888.92368066 8888.92368066\n",
      " 8888.92368066]\n"
     ]
    },
    {
     "name": "stderr",
     "output_type": "stream",
     "text": [
      " 95%|█████████████████████████████████████  | 2754/2900 [01:40<00:05, 26.65it/s]"
     ]
    },
    {
     "name": "stdout",
     "output_type": "stream",
     "text": [
      "Energy: [8891.47597906 8888.92368066 8891.47597906 8888.92368066 8896.52152429\n",
      " 8891.47597906 8891.47597906 8888.92368066 8888.92368066 8888.92368066\n",
      " 8888.92368066]\n"
     ]
    },
    {
     "name": "stderr",
     "output_type": "stream",
     "text": [
      " 97%|█████████████████████████████████████▋ | 2805/2900 [01:42<00:03, 27.12it/s]"
     ]
    },
    {
     "name": "stdout",
     "output_type": "stream",
     "text": [
      "Energy: [8896.52152429 8906.66201552 8896.52152429 8888.92368066 8888.92368066\n",
      " 8891.47597906 8888.92368066 8888.92368066 8888.92368066 8888.92368066\n",
      " 8891.47597906]\n"
     ]
    },
    {
     "name": "stderr",
     "output_type": "stream",
     "text": [
      " 98%|██████████████████████████████████████▍| 2856/2900 [01:44<00:01, 27.68it/s]"
     ]
    },
    {
     "name": "stdout",
     "output_type": "stream",
     "text": [
      "Energy: [8888.92368066 8904.11677361 8888.92368066 8899.07029139 8888.92368066\n",
      " 8888.92368066 8888.92368066 8888.92368066 8888.92368066 8888.92368066\n",
      " 8888.92368066]\n"
     ]
    },
    {
     "name": "stderr",
     "output_type": "stream",
     "text": [
      "100%|███████████████████████████████████████| 2900/2900 [01:46<00:00, 27.31it/s]\n"
     ]
    },
    {
     "name": "stdout",
     "output_type": "stream",
     "text": [
      "Fin Energy_t 8888.923680659711 Energy_gs 8888.923680659711\n",
      "c_accep 0 c_rounds 0\n",
      "Elapsed (after compilation) = 106.20472645759583\n",
      "[[181 198 192 199 189 212 217 213 215 218 214 216]\n",
      " [181 198 192 199 189 212 217 213 215 218 214 216]\n",
      " [181 198 192 199 189 212 217 213 215 218 214 216]\n",
      " [181 198 192 199 189 212 217 213 215 218 214 216]]\n",
      "[[209 197 211 181 191 218 213 217 215 216 212 214]\n",
      " [209 197 211 181 191 218 213 217 215 216 212 214]\n",
      " [209 197 211 181 191 218 213 217 215 216 212 214]\n",
      " [209 197 211 181 191 218 213 217 215 216 212 214]]\n",
      "[[209 197 211 181 191 218 213 217 215 216 212 214]\n",
      " [209 197 211 181 191 218 213 217 215 216 212 214]\n",
      " [209 197 211 181 191 218 213 217 215 216 212 214]\n",
      " [209 197 211 181 191 218 213 217 215 216 212 214]]\n",
      "[[209 197 211 181 191 218 213 217 215 216 212 214]\n",
      " [209 197 211 181 191 218 213 217 215 216 212 214]\n",
      " [209 197 211 181 191 218 213 217 215 216 212 214]\n",
      " [209 197 211 181 191 218 213 217 215 216 212 214]]\n",
      "[[181 198 192 199 189 212 217 213 215 218 214 216]\n",
      " [181 198 192 199 189 212 217 213 215 218 214 216]\n",
      " [181 198 192 199 189 212 217 213 215 218 214 216]\n",
      " [181 198 192 199 189 212 217 213 215 218 214 216]]\n",
      "[[181 198 192 199 189 212 217 213 215 218 214 216]\n",
      " [181 198 192 199 189 212 217 213 215 218 214 216]\n",
      " [181 198 192 199 189 212 217 213 215 218 214 216]\n",
      " [181 198 192 199 189 212 217 213 215 218 214 216]]\n",
      "[[181 198 192 199 189 212 217 213 215 218 214 216]\n",
      " [181 198 192 199 189 212 217 213 215 218 214 216]\n",
      " [181 198 192 199 189 212 217 213 215 218 214 216]\n",
      " [181 198 192 199 189 212 217 213 215 218 214 216]]\n",
      "[[182 185 208 188 195 218 216 213 215 214 217 212]\n",
      " [182 185 210 188 195 218 216 213 215 214 217 212]\n",
      " [182 185 210 188 195 218 216 213 215 214 217 212]\n",
      " [182 185 208 188 195 218 216 213 215 214 217 212]]\n",
      "[[181 198 192 199 189 212 217 213 215 218 214 216]\n",
      " [181 198 192 199 189 212 217 213 215 218 214 216]\n",
      " [181 198 192 199 189 212 217 213 215 218 214 216]\n",
      " [181 198 192 199 189 212 217 213 215 218 214 216]]\n",
      "[[181 198 192 199 189 212 217 213 215 218 214 216]\n",
      " [181 198 192 199 189 212 217 213 215 218 214 216]\n",
      " [181 198 192 199 189 212 217 213 215 218 214 216]\n",
      " [181 198 192 199 189 212 217 213 215 218 214 216]]\n",
      "[[180 204 197 199 200 215 216 218 217 214 212 213]\n",
      " [180 204 197 199 200 215 216 218 217 214 212 213]\n",
      " [180 204 197 199 200 215 216 218 217 214 212 213]\n",
      " [180 196 197 199 200 215 216 218 217 214 212 213]]\n",
      "[[180 204 197 199 200 215 216 218 217 214 212 213]\n",
      " [180 204 197 199 200 215 216 218 217 214 212 213]\n",
      " [180 204 197 199 200 215 216 218 217 214 212 213]\n",
      " [180 204 197 199 200 215 216 218 217 214 212 213]]\n",
      "[[180 204 197 199 200 215 216 218 217 214 212 213]\n",
      " [180 204 197 199 200 215 216 218 217 214 212 213]\n",
      " [180 204 197 199 200 215 216 218 217 214 212 213]\n",
      " [180 204 197 199 200 215 216 218 217 214 212 213]]\n",
      "[[180 204 197 199 200 215 216 218 217 214 212 213]\n",
      " [180 204 197 199 200 215 216 218 217 214 212 213]\n",
      " [180 204 197 199 200 215 216 218 217 214 212 213]\n",
      " [180 204 197 199 200 215 216 218 217 214 212 213]]\n",
      "[[209 197 211 181 191 218 213 217 215 216 212 214]\n",
      " [209 197 211 181 191 218 213 217 215 216 212 214]\n",
      " [209 197 211 181 191 218 213 217 215 216 212 214]\n",
      " [209 197 211 181 191 218 213 217 215 216 212 214]]\n",
      "[[209 197 211 181 191 218 213 217 215 216 212 214]\n",
      " [209 197 211 181 191 218 213 217 215 216 212 214]\n",
      " [209 197 211 181 191 218 213 217 215 216 212 214]\n",
      " [209 197 211 181 191 218 213 217 215 216 212 214]]\n",
      "[[181 198 192 199 189 212 217 213 215 218 214 216]\n",
      " [181 198 192 199 189 212 217 213 215 218 214 216]\n",
      " [181 198 192 199 189 212 217 213 215 218 214 216]\n",
      " [181 198 192 199 189 212 217 213 215 218 214 216]]\n",
      "[[181 198 192 199 189 212 217 213 215 218 214 216]\n",
      " [181 198 192 199 189 212 217 213 215 218 214 216]\n",
      " [181 198 192 199 189 212 217 213 215 218 214 216]\n",
      " [181 198 192 199 189 212 217 213 215 218 214 216]]\n",
      "[[203 192 207 197 191 214 213 212 215 217 216 218]\n",
      " [203 192 207 197 191 214 213 212 215 217 216 218]\n",
      " [203 192 207 197 191 214 213 212 215 217 216 218]\n",
      " [203 192 207 197 191 214 213 212 215 217 216 218]]\n",
      "[[203 192 207 197 191 214 213 212 215 217 216 218]\n",
      " [203 192 207 197 191 214 213 212 215 217 216 218]\n",
      " [203 192 207 197 191 214 213 212 215 217 216 218]\n",
      " [203 192 207 197 191 214 213 212 215 217 216 218]]\n",
      "[[181 198 192 199 189 212 217 213 215 218 214 216]\n",
      " [181 198 192 199 189 212 217 213 215 218 214 216]\n",
      " [181 198 192 199 189 212 217 213 215 218 214 216]\n",
      " [181 198 192 199 189 212 217 213 215 218 214 216]]\n",
      "[[181 198 192 199 189 212 217 213 215 218 214 216]\n",
      " [181 198 192 199 189 212 217 213 215 218 214 216]\n",
      " [181 198 192 199 189 212 217 213 215 218 214 216]\n",
      " [181 198 192 199 189 212 217 213 215 218 214 216]]\n",
      "[[211 201 207 210 200 212 218 214 213 215 217 216]\n",
      " [211 201 207 208 200 212 218 214 213 215 217 216]\n",
      " [211 201 207 208 200 212 218 214 213 215 217 216]\n",
      " [211 201 207 208 200 212 218 214 213 215 217 216]]\n",
      "[[211 201 207 208 200 212 218 214 213 215 217 216]\n",
      " [211 201 207 208 200 212 218 214 213 215 217 216]\n",
      " [211 201 207 210 200 212 218 214 213 215 217 216]\n",
      " [211 201 207 208 200 212 218 214 213 215 217 216]]\n",
      "[[203 192 207 197 191 214 213 212 215 217 216 218]\n",
      " [203 192 207 197 191 214 213 212 215 217 216 218]\n",
      " [203 192 207 197 191 214 213 212 215 217 216 218]\n",
      " [203 192 207 197 191 214 213 212 215 217 216 218]]\n",
      "[[211 201 207 210 200 212 218 214 213 215 217 216]\n",
      " [211 201 207 208 200 212 218 214 213 215 217 216]\n",
      " [211 201 207 208 200 212 218 214 213 215 217 216]\n",
      " [211 201 207 208 200 212 218 214 213 215 217 216]]\n",
      "[[211 201 207 210 200 212 218 214 213 215 217 216]\n",
      " [211 201 207 210 200 212 218 214 213 215 217 216]\n",
      " [211 201 207 210 200 212 218 214 213 215 217 216]\n",
      " [211 201 207 208 200 212 218 214 213 215 217 216]]\n",
      "[[211 201 207 208 200 212 218 214 213 215 217 216]\n",
      " [211 201 207 208 200 212 218 214 213 215 217 216]\n",
      " [211 201 207 210 200 212 218 214 213 215 217 216]\n",
      " [211 201 207 208 200 212 218 214 213 215 217 216]]\n",
      "[[211 201 207 208 200 212 218 214 213 215 217 216]\n",
      " [211 201 207 208 200 212 218 214 213 215 217 216]\n",
      " [211 201 207 210 200 212 218 214 213 215 217 216]\n",
      " [211 201 207 208 200 212 218 214 213 215 217 216]]\n",
      "[[180 204 197 199 200 215 216 218 217 214 212 213]\n",
      " [180 204 197 199 200 215 216 218 217 214 212 213]\n",
      " [180 204 197 199 200 215 216 218 217 214 212 213]\n",
      " [180 204 197 199 200 215 216 218 217 214 212 213]]\n",
      "[[211 201 207 208 200 212 218 214 213 215 217 216]\n",
      " [211 201 207 208 200 212 218 214 213 215 217 216]\n",
      " [211 201 207 208 200 212 218 214 213 215 217 216]\n",
      " [211 201 207 208 200 212 218 214 213 215 217 216]]\n",
      "[[180 204 197 199 200 215 216 218 217 214 212 213]\n",
      " [180 204 197 199 200 215 216 218 217 214 212 213]\n",
      " [180 204 197 199 200 215 216 218 217 214 212 213]\n",
      " [180 204 197 199 200 215 216 218 217 214 212 213]]\n",
      "[[182 185 210 188 195 218 216 213 215 214 217 212]\n",
      " [182 185 210 188 195 218 216 213 215 214 217 212]\n",
      " [182 185 208 188 195 218 216 213 215 214 217 212]\n",
      " [182 185 208 188 195 218 216 213 215 214 217 212]]\n",
      "[[182 185 208 188 195 218 216 213 215 214 217 212]\n",
      " [182 185 210 188 195 218 216 213 215 214 217 212]\n",
      " [182 185 208 188 195 218 216 213 215 214 217 212]\n",
      " [182 185 208 188 195 218 216 213 215 214 217 212]]\n",
      "[[180 204 197 199 200 215 216 218 217 214 212 213]\n",
      " [180 204 197 199 200 215 216 218 217 214 212 213]\n",
      " [180 204 197 199 200 215 216 218 217 214 212 213]\n",
      " [180 204 197 199 200 215 216 218 217 214 212 213]]\n",
      "[[180 204 197 199 200 215 216 218 217 214 212 213]\n",
      " [180 204 197 199 200 215 216 218 217 214 212 213]\n",
      " [180 204 197 199 200 215 216 218 217 214 212 213]\n",
      " [180 204 197 199 200 215 216 218 217 214 212 213]]\n",
      "[[182 185 210 188 195 218 216 213 215 214 217 212]\n",
      " [182 185 208 188 195 218 216 213 215 214 217 212]\n",
      " [182 185 208 188 195 218 216 213 215 214 217 212]\n",
      " [182 185 208 188 195 218 216 213 215 214 217 212]]\n",
      "[[211 201 207 208 200 212 218 214 213 215 217 216]\n",
      " [211 201 207 210 200 212 218 214 213 215 217 216]\n",
      " [211 201 207 208 200 212 218 214 213 215 217 216]\n",
      " [211 201 207 210 200 212 218 214 213 215 217 216]]\n",
      "[[182 185 210 188 195 218 216 213 215 214 217 212]\n",
      " [182 185 208 188 195 218 216 213 215 214 217 212]\n",
      " [182 185 208 188 195 218 216 213 215 214 217 212]\n",
      " [182 185 208 188 195 218 216 213 215 214 217 212]]\n",
      "[1.] [0.99086758]\n",
      "i_reps 6\n",
      "Energía ini: 34588.382460978886 /gs: 8936.583642049503\n"
     ]
    },
    {
     "name": "stderr",
     "output_type": "stream",
     "text": [
      " 31%|████████████▍                           | 906/2900 [00:33<01:13, 27.26it/s]"
     ]
    },
    {
     "name": "stdout",
     "output_type": "stream",
     "text": [
      "Energy: [9481.66223849 9236.02479919 8946.80709012 9193.43345906 8936.58364205\n",
      " 9155.7349746  9112.71852705 9075.45088834 8936.58364205 8944.18684893\n",
      " 8936.58364205]\n"
     ]
    },
    {
     "name": "stderr",
     "output_type": "stream",
     "text": [
      " 33%|█████████████▏                          | 954/2900 [00:35<01:13, 26.52it/s]"
     ]
    },
    {
     "name": "stdout",
     "output_type": "stream",
     "text": [
      "Energy: [9200.96551461 9236.02479919 8951.78743986 9193.43345906 9155.7349746\n",
      " 9112.71852705 9075.45088834 8936.58364205 8936.58364205 8944.18684893\n",
      " 8936.58364205]\n"
     ]
    },
    {
     "name": "stderr",
     "output_type": "stream",
     "text": [
      " 35%|█████████████▌                         | 1005/2900 [00:36<01:09, 27.39it/s]"
     ]
    },
    {
     "name": "stdout",
     "output_type": "stream",
     "text": [
      "Energy: [9248.49456348 9193.43345906 8936.58364205 9155.7349746  8956.75935408\n",
      " 9107.78819556 8936.58364205 8936.58364205 8936.58364205 8936.58364205\n",
      " 8944.18684893]\n"
     ]
    },
    {
     "name": "stderr",
     "output_type": "stream",
     "text": [
      " 36%|██████████████▏                        | 1056/2900 [00:38<01:06, 27.59it/s]"
     ]
    },
    {
     "name": "stdout",
     "output_type": "stream",
     "text": [
      "Energy: [9248.49456348 8944.18684893 9158.32444606 8936.58364205 8936.58364205\n",
      " 8936.58364205 8936.58364205 8936.58364205 8944.18684893 8936.58364205\n",
      " 8936.58364205]\n"
     ]
    },
    {
     "name": "stderr",
     "output_type": "stream",
     "text": [
      " 38%|██████████████▊                        | 1104/2900 [00:40<01:05, 27.46it/s]"
     ]
    },
    {
     "name": "stdout",
     "output_type": "stream",
     "text": [
      "Energy: [8949.15771332 8951.78743986 8941.55345335 8936.58364205 8936.58364205\n",
      " 8936.58364205 8936.58364205 8936.58364205 8936.58364205 8944.18684893\n",
      " 8936.58364205]\n"
     ]
    },
    {
     "name": "stderr",
     "output_type": "stream",
     "text": [
      " 40%|███████████████▌                       | 1155/2900 [00:42<01:03, 27.64it/s]"
     ]
    },
    {
     "name": "stdout",
     "output_type": "stream",
     "text": [
      "Energy: [8944.18684893 8949.15771332 8949.15771332 8936.58364205 8936.58364205\n",
      " 8944.18684893 8936.58364205 8936.58364205 8936.58364205 8936.58364205\n",
      " 8936.58364205]\n"
     ]
    },
    {
     "name": "stderr",
     "output_type": "stream",
     "text": [
      " 42%|████████████████▏                      | 1206/2900 [00:44<01:00, 27.77it/s]"
     ]
    },
    {
     "name": "stdout",
     "output_type": "stream",
     "text": [
      "Energy: [8944.18684893 8949.15771332 8949.15771332 8944.18684893 8936.58364205\n",
      " 8936.58364205 8936.58364205 8936.58364205 8936.58364205 8936.58364205\n",
      " 8936.58364205]\n"
     ]
    },
    {
     "name": "stderr",
     "output_type": "stream",
     "text": [
      " 43%|████████████████▊                      | 1254/2900 [00:46<00:59, 27.49it/s]"
     ]
    },
    {
     "name": "stdout",
     "output_type": "stream",
     "text": [
      "Energy: [8949.15771332 8944.18684893 8949.15771332 8944.18684893 8944.18684893\n",
      " 8936.58364205 8936.58364205 8936.58364205 8936.58364205 8936.58364205\n",
      " 8936.58364205]\n"
     ]
    },
    {
     "name": "stderr",
     "output_type": "stream",
     "text": [
      " 45%|█████████████████▌                     | 1305/2900 [00:47<00:57, 27.68it/s]"
     ]
    },
    {
     "name": "stdout",
     "output_type": "stream",
     "text": [
      "Energy: [8944.18684893 8944.18684893 8936.58364205 8944.18684893 8936.58364205\n",
      " 8944.18684893 8936.58364205 8936.58364205 8936.58364205 8936.58364205\n",
      " 8936.58364205]\n"
     ]
    },
    {
     "name": "stderr",
     "output_type": "stream",
     "text": [
      " 47%|██████████████████▏                    | 1356/2900 [00:49<00:56, 27.18it/s]"
     ]
    },
    {
     "name": "stdout",
     "output_type": "stream",
     "text": [
      "Energy: [8936.58364205 8936.58364205 8936.58364205 8936.58364205 8936.58364205\n",
      " 8936.58364205 8944.18684893 8936.58364205 8936.58364205 8936.58364205\n",
      " 8936.58364205]\n"
     ]
    },
    {
     "name": "stderr",
     "output_type": "stream",
     "text": [
      " 48%|██████████████████▉                    | 1404/2900 [00:51<00:56, 26.60it/s]"
     ]
    },
    {
     "name": "stdout",
     "output_type": "stream",
     "text": [
      "Energy: [8941.55345335 8951.78743986 8936.58364205 8936.58364205 8936.58364205\n",
      " 8944.18684893 8936.58364205 8936.58364205 8936.58364205 8936.58364205\n",
      " 8936.58364205]\n"
     ]
    },
    {
     "name": "stderr",
     "output_type": "stream",
     "text": [
      " 50%|███████████████████▌                   | 1458/2900 [00:53<00:52, 27.40it/s]"
     ]
    },
    {
     "name": "stdout",
     "output_type": "stream",
     "text": [
      "Energy: [8936.58364205 8936.58364205 8936.58364205 8936.58364205 8936.58364205\n",
      " 8936.58364205 8936.58364205 8936.58364205 8936.58364205 8936.58364205\n",
      " 8936.58364205]\n"
     ]
    },
    {
     "name": "stderr",
     "output_type": "stream",
     "text": [
      " 52%|████████████████████▎                  | 1506/2900 [00:55<00:51, 27.14it/s]"
     ]
    },
    {
     "name": "stdout",
     "output_type": "stream",
     "text": [
      "Energy: [8944.18684893 8936.58364205 8936.58364205 8936.58364205 8936.58364205\n",
      " 8936.58364205 8936.58364205 8936.58364205 8936.58364205 8944.18684893\n",
      " 8941.55345335]\n"
     ]
    },
    {
     "name": "stderr",
     "output_type": "stream",
     "text": [
      " 54%|████████████████████▉                  | 1554/2900 [00:57<00:50, 26.91it/s]"
     ]
    },
    {
     "name": "stdout",
     "output_type": "stream",
     "text": [
      "Energy: [8936.58364205 8936.58364205 8936.58364205 8949.15771332 8944.18684893\n",
      " 8936.58364205 8936.58364205 8936.58364205 8936.58364205 8941.55345335\n",
      " 8944.18684893]\n"
     ]
    },
    {
     "name": "stderr",
     "output_type": "stream",
     "text": [
      " 55%|█████████████████████▌                 | 1605/2900 [00:58<00:49, 26.05it/s]"
     ]
    },
    {
     "name": "stdout",
     "output_type": "stream",
     "text": [
      "Energy: [8946.80709012 8944.18684893 8936.58364205 8944.18684893 8936.58364205\n",
      " 8936.58364205 8936.58364205 8936.58364205 8936.58364205 8936.58364205\n",
      " 8936.58364205]\n"
     ]
    },
    {
     "name": "stderr",
     "output_type": "stream",
     "text": [
      " 57%|██████████████████████▎                | 1656/2900 [01:00<00:44, 28.23it/s]"
     ]
    },
    {
     "name": "stdout",
     "output_type": "stream",
     "text": [
      "Energy: [8936.58364205 8936.58364205 8944.18684893 8936.58364205 8936.58364205\n",
      " 8936.58364205 8936.58364205 8936.58364205 8936.58364205 8936.58364205\n",
      " 8936.58364205]\n"
     ]
    },
    {
     "name": "stderr",
     "output_type": "stream",
     "text": [
      " 59%|██████████████████████▉                | 1704/2900 [01:02<00:43, 27.76it/s]"
     ]
    },
    {
     "name": "stdout",
     "output_type": "stream",
     "text": [
      "Energy: [8936.58364205 8936.58364205 8936.58364205 8936.58364205 8944.18684893\n",
      " 8936.58364205 8936.58364205 8936.58364205 8936.58364205 8936.58364205\n",
      " 8936.58364205]\n"
     ]
    },
    {
     "name": "stderr",
     "output_type": "stream",
     "text": [
      " 61%|███████████████████████▌               | 1755/2900 [01:04<00:42, 27.25it/s]"
     ]
    },
    {
     "name": "stdout",
     "output_type": "stream",
     "text": [
      "Energy: [8936.58364205 8936.58364205 8949.15771332 8941.55345335 8944.18684893\n",
      " 8936.58364205 8936.58364205 8936.58364205 8936.58364205 8936.58364205\n",
      " 8936.58364205]\n"
     ]
    },
    {
     "name": "stderr",
     "output_type": "stream",
     "text": [
      " 62%|████████████████████████▎              | 1806/2900 [01:06<00:40, 27.21it/s]"
     ]
    },
    {
     "name": "stdout",
     "output_type": "stream",
     "text": [
      "Energy: [8936.58364205 8936.58364205 8936.58364205 8936.58364205 8936.58364205\n",
      " 8936.58364205 8936.58364205 8936.58364205 8936.58364205 8936.58364205\n",
      " 8936.58364205]\n"
     ]
    },
    {
     "name": "stderr",
     "output_type": "stream",
     "text": [
      " 64%|████████████████████████▉              | 1854/2900 [01:07<00:40, 26.06it/s]"
     ]
    },
    {
     "name": "stdout",
     "output_type": "stream",
     "text": [
      "Energy: [8944.18684893 8944.18684893 8936.58364205 8936.58364205 8936.58364205\n",
      " 8936.58364205 8936.58364205 8936.58364205 8936.58364205 8936.58364205\n",
      " 8936.58364205]\n"
     ]
    },
    {
     "name": "stderr",
     "output_type": "stream",
     "text": [
      " 66%|█████████████████████████▌             | 1905/2900 [01:09<00:35, 28.12it/s]"
     ]
    },
    {
     "name": "stdout",
     "output_type": "stream",
     "text": [
      "Energy: [8951.78743986 8936.58364205 8936.58364205 8936.58364205 8936.58364205\n",
      " 8936.58364205 8936.58364205 8936.58364205 8936.58364205 8936.58364205\n",
      " 8936.58364205]\n"
     ]
    },
    {
     "name": "stderr",
     "output_type": "stream",
     "text": [
      " 67%|██████████████████████████▎            | 1956/2900 [01:11<00:35, 26.44it/s]"
     ]
    },
    {
     "name": "stdout",
     "output_type": "stream",
     "text": [
      "Energy: [8944.18684893 8946.80709012 8936.58364205 8936.58364205 8936.58364205\n",
      " 8936.58364205 8941.55345335 8936.58364205 8936.58364205 8936.58364205\n",
      " 8936.58364205]\n"
     ]
    },
    {
     "name": "stderr",
     "output_type": "stream",
     "text": [
      " 69%|██████████████████████████▉            | 2004/2900 [01:13<00:33, 26.36it/s]"
     ]
    },
    {
     "name": "stdout",
     "output_type": "stream",
     "text": [
      "Energy: [8936.58364205 8936.58364205 8936.58364205 8936.58364205 8936.58364205\n",
      " 8941.55345335 8936.58364205 8936.58364205 8936.58364205 8936.58364205\n",
      " 8936.58364205]\n"
     ]
    },
    {
     "name": "stderr",
     "output_type": "stream",
     "text": [
      " 71%|███████████████████████████▋           | 2055/2900 [01:15<00:30, 27.41it/s]"
     ]
    },
    {
     "name": "stdout",
     "output_type": "stream",
     "text": [
      "Energy: [8936.58364205 8941.55345335 8936.58364205 8941.55345335 8936.58364205\n",
      " 8936.58364205 8936.58364205 8936.58364205 8936.58364205 8936.58364205\n",
      " 8944.18684893]\n"
     ]
    },
    {
     "name": "stderr",
     "output_type": "stream",
     "text": [
      " 73%|████████████████████████████▎          | 2106/2900 [01:17<00:28, 27.66it/s]"
     ]
    },
    {
     "name": "stdout",
     "output_type": "stream",
     "text": [
      "Energy: [8971.95479106 8936.58364205 8959.38541811 8936.58364205 8936.58364205\n",
      " 8936.58364205 8936.58364205 8936.58364205 8936.58364205 8944.18684893\n",
      " 8936.58364205]\n"
     ]
    },
    {
     "name": "stderr",
     "output_type": "stream",
     "text": [
      " 74%|████████████████████████████▉          | 2154/2900 [01:19<00:27, 27.03it/s]"
     ]
    },
    {
     "name": "stdout",
     "output_type": "stream",
     "text": [
      "Energy: [8951.78743986 8936.58364205 8936.58364205 8936.58364205 8941.55345335\n",
      " 8936.58364205 8936.58364205 8936.58364205 8936.58364205 8936.58364205\n",
      " 8936.58364205]\n"
     ]
    },
    {
     "name": "stderr",
     "output_type": "stream",
     "text": [
      " 76%|█████████████████████████████▋         | 2205/2900 [01:20<00:26, 26.20it/s]"
     ]
    },
    {
     "name": "stdout",
     "output_type": "stream",
     "text": [
      "Energy: [8951.78743986 8936.58364205 8936.58364205 8936.58364205 8936.58364205\n",
      " 8936.58364205 8936.58364205 8936.58364205 8936.58364205 8936.58364205\n",
      " 8936.58364205]\n"
     ]
    },
    {
     "name": "stderr",
     "output_type": "stream",
     "text": [
      " 78%|██████████████████████████████▎        | 2256/2900 [01:22<00:22, 28.32it/s]"
     ]
    },
    {
     "name": "stdout",
     "output_type": "stream",
     "text": [
      "Energy: [8936.58364205 8949.15771332 8936.58364205 8936.58364205 8936.58364205\n",
      " 8936.58364205 8936.58364205 8936.58364205 8936.58364205 8936.58364205\n",
      " 8936.58364205]\n"
     ]
    },
    {
     "name": "stderr",
     "output_type": "stream",
     "text": [
      " 79%|██████████████████████████████▉        | 2304/2900 [01:24<00:21, 27.60it/s]"
     ]
    },
    {
     "name": "stdout",
     "output_type": "stream",
     "text": [
      "Energy: [8936.58364205 8936.58364205 8936.58364205 8944.18684893 8936.58364205\n",
      " 8944.18684893 8936.58364205 8936.58364205 8936.58364205 8936.58364205\n",
      " 8936.58364205]\n"
     ]
    },
    {
     "name": "stderr",
     "output_type": "stream",
     "text": [
      " 81%|███████████████████████████████▋       | 2355/2900 [01:26<00:20, 26.60it/s]"
     ]
    },
    {
     "name": "stdout",
     "output_type": "stream",
     "text": [
      "Energy: [8941.55345335 8936.58364205 8936.58364205 8936.58364205 8944.18684893\n",
      " 8936.58364205 8936.58364205 8944.18684893 8936.58364205 8936.58364205\n",
      " 8936.58364205]\n"
     ]
    },
    {
     "name": "stderr",
     "output_type": "stream",
     "text": [
      " 83%|████████████████████████████████▎      | 2406/2900 [01:28<00:18, 26.38it/s]"
     ]
    },
    {
     "name": "stdout",
     "output_type": "stream",
     "text": [
      "Energy: [8936.58364205 8936.58364205 8936.58364205 8936.58364205 8936.58364205\n",
      " 8936.58364205 8936.58364205 8936.58364205 8936.58364205 8936.58364205\n",
      " 8936.58364205]\n"
     ]
    },
    {
     "name": "stderr",
     "output_type": "stream",
     "text": [
      " 85%|█████████████████████████████████      | 2454/2900 [01:30<00:16, 26.66it/s]"
     ]
    },
    {
     "name": "stdout",
     "output_type": "stream",
     "text": [
      "Energy: [8936.58364205 8936.58364205 8951.78743986 8936.58364205 8936.58364205\n",
      " 8936.58364205 8936.58364205 8936.58364205 8936.58364205 8936.58364205\n",
      " 8936.58364205]\n"
     ]
    },
    {
     "name": "stderr",
     "output_type": "stream",
     "text": [
      " 86%|█████████████████████████████████▋     | 2505/2900 [01:31<00:14, 28.19it/s]"
     ]
    },
    {
     "name": "stdout",
     "output_type": "stream",
     "text": [
      "Energy: [8936.58364205 8951.78743986 8956.75935408 8936.58364205 8936.58364205\n",
      " 8941.55345335 8936.58364205 8936.58364205 8936.58364205 8936.58364205\n",
      " 8936.58364205]\n"
     ]
    },
    {
     "name": "stderr",
     "output_type": "stream",
     "text": [
      " 88%|██████████████████████████████████▎    | 2556/2900 [01:33<00:12, 28.24it/s]"
     ]
    },
    {
     "name": "stdout",
     "output_type": "stream",
     "text": [
      "Energy: [8959.38541811 8936.58364205 8954.40403481 8936.58364205 8936.58364205\n",
      " 8936.58364205 8936.58364205 8936.58364205 8936.58364205 8936.58364205\n",
      " 8936.58364205]\n"
     ]
    },
    {
     "name": "stderr",
     "output_type": "stream",
     "text": [
      " 90%|███████████████████████████████████    | 2604/2900 [01:35<00:10, 27.63it/s]"
     ]
    },
    {
     "name": "stdout",
     "output_type": "stream",
     "text": [
      "Energy: [8936.58364205 8954.40403481 8936.58364205 8936.58364205 8936.58364205\n",
      " 8936.58364205 8936.58364205 8936.58364205 8936.58364205 8936.58364205\n",
      " 8936.58364205]\n"
     ]
    },
    {
     "name": "stderr",
     "output_type": "stream",
     "text": [
      " 92%|███████████████████████████████████▋   | 2655/2900 [01:37<00:08, 27.66it/s]"
     ]
    },
    {
     "name": "stdout",
     "output_type": "stream",
     "text": [
      "Energy: [8936.58364205 8936.58364205 8944.18684893 8954.40403481 8936.58364205\n",
      " 8936.58364205 8936.58364205 8936.58364205 8936.58364205 8936.58364205\n",
      " 8936.58364205]\n"
     ]
    },
    {
     "name": "stderr",
     "output_type": "stream",
     "text": [
      " 93%|████████████████████████████████████▍  | 2706/2900 [01:39<00:07, 26.67it/s]"
     ]
    },
    {
     "name": "stdout",
     "output_type": "stream",
     "text": [
      "Energy: [8936.58364205 8941.55345335 8946.80709012 8936.58364205 8936.58364205\n",
      " 8936.58364205 8936.58364205 8936.58364205 8936.58364205 8936.58364205\n",
      " 8936.58364205]\n"
     ]
    },
    {
     "name": "stderr",
     "output_type": "stream",
     "text": [
      " 95%|█████████████████████████████████████  | 2754/2900 [01:40<00:05, 27.24it/s]"
     ]
    },
    {
     "name": "stdout",
     "output_type": "stream",
     "text": [
      "Energy: [8936.58364205 8936.58364205 8949.15771332 8936.58364205 8936.58364205\n",
      " 8936.58364205 8949.15771332 8936.58364205 8936.58364205 8936.58364205\n",
      " 8936.58364205]\n"
     ]
    },
    {
     "name": "stderr",
     "output_type": "stream",
     "text": [
      " 97%|█████████████████████████████████████▋ | 2805/2900 [01:42<00:03, 28.12it/s]"
     ]
    },
    {
     "name": "stdout",
     "output_type": "stream",
     "text": [
      "Energy: [8936.58364205 8936.58364205 8936.58364205 8936.58364205 8936.58364205\n",
      " 8944.18684893 8941.55345335 8936.58364205 8936.58364205 8936.58364205\n",
      " 8936.58364205]\n"
     ]
    },
    {
     "name": "stderr",
     "output_type": "stream",
     "text": [
      " 98%|██████████████████████████████████████▍| 2856/2900 [01:44<00:01, 25.87it/s]"
     ]
    },
    {
     "name": "stdout",
     "output_type": "stream",
     "text": [
      "Energy: [8936.58364205 8936.58364205 8941.55345335 8936.58364205 8936.58364205\n",
      " 8936.58364205 8936.58364205 8936.58364205 8936.58364205 8936.58364205\n",
      " 8936.58364205]\n"
     ]
    },
    {
     "name": "stderr",
     "output_type": "stream",
     "text": [
      "100%|███████████████████████████████████████| 2900/2900 [01:46<00:00, 27.30it/s]\n"
     ]
    },
    {
     "name": "stdout",
     "output_type": "stream",
     "text": [
      "Fin Energy_t 8936.583642049503 Energy_gs 8936.583642049503\n",
      "c_accep 0 c_rounds 0\n",
      "Elapsed (after compilation) = 106.24441075325012\n",
      "[[188 203 180 200 181 214 216 213 217 215 218 212]\n",
      " [188 203 180 200 181 214 216 213 217 215 218 212]\n",
      " [188 203 180 200 181 214 216 213 217 215 218 212]\n",
      " [188 203 180 200 181 214 216 213 217 215 218 212]]\n",
      "[[188 203 180 200 181 214 216 213 217 215 218 212]\n",
      " [188 203 180 200 181 214 216 213 217 215 218 212]\n",
      " [188 203 180 200 181 214 216 213 217 215 218 212]\n",
      " [188 203 180 200 181 214 216 213 217 215 218 212]]\n",
      "[[183 194 182 199 190 216 214 217 215 212 218 213]\n",
      " [183 194 182 199 190 216 214 217 215 212 218 213]\n",
      " [183 194 182 199 190 216 214 217 215 212 218 213]\n",
      " [183 194 182 199 190 216 214 217 215 212 218 213]]\n",
      "[[196 199 181 194 206 213 212 216 215 217 214 218]\n",
      " [196 199 181 194 206 213 212 216 215 217 214 218]\n",
      " [196 199 181 194 206 213 212 216 215 217 214 218]\n",
      " [196 199 181 194 206 213 212 216 215 217 214 218]]\n",
      "[[196 199 181 194 206 213 212 216 215 217 214 218]\n",
      " [196 199 181 194 206 213 212 216 215 217 214 218]\n",
      " [196 199 181 194 206 213 212 216 215 217 214 218]\n",
      " [196 199 181 194 206 213 212 216 215 217 214 218]]\n",
      "[[196 199 181 194 206 213 212 216 215 217 214 218]\n",
      " [196 199 181 194 206 213 212 216 215 217 214 218]\n",
      " [196 199 181 194 206 213 212 216 215 217 214 218]\n",
      " [196 199 181 194 206 213 212 216 215 217 214 218]]\n",
      "[[196 199 181 194 206 213 212 216 215 217 214 218]\n",
      " [196 199 181 194 206 213 212 216 215 217 214 218]\n",
      " [196 199 181 194 206 213 212 216 215 217 214 218]\n",
      " [196 199 181 194 206 213 212 216 215 217 214 218]]\n",
      "[[195 185 184 211 202 217 215 218 213 212 216 214]\n",
      " [195 185 184 211 202 217 215 218 213 212 216 214]\n",
      " [195 185 184 211 202 217 215 218 213 212 216 214]\n",
      " [195 185 184 211 202 217 215 218 213 212 216 214]]\n",
      "[[195 185 184 211 202 217 215 218 213 212 216 214]\n",
      " [195 185 184 211 202 217 215 218 213 212 216 214]\n",
      " [195 185 184 211 202 217 215 218 213 212 216 214]\n",
      " [195 185 184 211 202 217 215 218 213 212 216 214]]\n",
      "[[196 199 181 194 206 213 212 216 215 217 214 218]\n",
      " [196 199 181 194 206 213 212 216 215 217 214 218]\n",
      " [196 199 181 194 206 213 212 216 215 217 214 218]\n",
      " [196 199 181 194 206 213 212 216 215 217 214 218]]\n",
      "[[211 196 186 193 198 217 212 214 215 216 213 218]\n",
      " [211 196 186 193 198 217 212 214 215 216 213 218]\n",
      " [211 196 186 193 198 217 212 214 215 216 213 218]\n",
      " [211 196 186 193 198 217 212 214 215 216 213 218]]\n",
      "[[211 196 186 193 198 217 212 214 215 216 213 218]\n",
      " [211 196 186 193 198 217 212 214 215 216 213 218]\n",
      " [211 196 186 193 198 217 212 214 215 216 213 218]\n",
      " [211 196 186 193 198 217 212 214 215 216 213 218]]\n",
      "[[211 196 186 193 198 217 212 214 215 216 213 218]\n",
      " [211 196 186 193 198 217 212 214 215 216 213 218]\n",
      " [211 196 186 193 198 217 212 214 215 216 213 218]\n",
      " [211 196 186 193 198 217 212 214 215 216 213 218]]\n",
      "[[188 203 180 200 181 214 216 213 217 215 218 212]\n",
      " [180 203 188 200 181 214 216 213 217 215 218 212]\n",
      " [188 203 180 200 181 214 216 213 217 215 218 212]\n",
      " [188 203 180 200 181 214 216 213 217 215 218 212]]\n",
      "[[186 187 183 198 204 213 212 217 214 215 218 216]\n",
      " [186 187 183 198 204 213 212 217 214 215 218 216]\n",
      " [186 187 183 198 204 213 212 217 214 215 218 216]\n",
      " [186 187 183 198 204 213 212 217 214 215 218 216]]\n",
      "[[188 203 180 200 181 214 216 213 217 215 218 212]\n",
      " [188 203 180 200 181 214 216 213 217 215 218 212]\n",
      " [188 203 180 200 181 214 216 213 217 215 218 212]\n",
      " [188 203 180 200 181 214 216 213 217 215 218 212]]\n",
      "[[188 203 180 200 181 214 216 213 217 215 218 212]\n",
      " [188 203 180 200 181 214 216 213 217 215 218 212]\n",
      " [188 203 180 200 181 214 216 213 217 215 218 212]\n",
      " [188 203 180 200 181 214 216 213 217 215 218 212]]\n",
      "[[188 203 180 200 181 214 216 213 217 215 218 212]\n",
      " [188 203 180 200 181 214 216 213 217 215 218 212]\n",
      " [188 203 180 200 181 214 216 213 217 215 218 212]\n",
      " [188 203 180 200 181 214 216 213 217 215 218 212]]\n",
      "[[186 187 183 198 204 213 212 217 214 215 218 216]\n",
      " [186 187 183 198 204 213 212 217 214 215 218 216]\n",
      " [186 187 183 198 204 213 212 217 214 215 218 216]\n",
      " [186 187 183 198 204 213 212 217 214 215 218 216]]\n",
      "[[211 196 186 193 198 217 212 214 215 216 213 218]\n",
      " [211 196 186 193 198 217 212 214 215 216 213 218]\n",
      " [211 196 186 193 198 217 212 214 215 216 213 218]\n",
      " [211 196 186 193 198 217 212 214 215 216 213 218]]\n",
      "[[186 187 183 198 204 213 212 217 214 215 218 216]\n",
      " [186 187 183 198 204 213 212 217 214 215 218 216]\n",
      " [186 187 183 198 204 213 212 217 214 215 218 216]\n",
      " [186 187 183 198 204 213 212 217 214 215 218 216]]\n",
      "[[211 196 186 193 198 217 212 214 215 216 213 218]\n",
      " [211 196 186 193 198 217 212 214 215 216 213 218]\n",
      " [211 196 186 193 198 217 212 214 215 216 213 218]\n",
      " [211 196 186 193 198 217 212 214 215 216 213 218]]\n",
      "[[211 196 186 193 198 217 212 214 215 216 213 218]\n",
      " [211 196 186 193 198 217 212 214 215 216 213 218]\n",
      " [211 196 186 193 198 217 212 214 215 216 213 218]\n",
      " [211 196 186 193 198 217 212 214 215 216 213 218]]\n",
      "[[197 190 199 183 200 212 218 214 215 216 213 217]\n",
      " [197 190 199 183 200 212 218 214 215 216 213 217]\n",
      " [197 190 199 183 200 212 218 214 215 216 213 217]\n",
      " [197 190 199 183 200 212 218 214 215 216 213 217]]\n",
      "[[211 196 186 193 198 217 212 214 215 216 213 218]\n",
      " [211 196 186 193 198 217 212 214 215 216 213 218]\n",
      " [211 196 186 193 198 217 212 214 215 216 213 218]\n",
      " [211 196 186 193 198 217 212 214 215 216 213 218]]\n",
      "[[197 190 199 183 200 212 218 214 215 216 213 217]\n",
      " [197 190 199 183 200 212 218 214 215 216 213 217]\n",
      " [197 190 199 183 200 212 218 214 215 216 213 217]\n",
      " [197 190 199 183 200 212 218 214 215 216 213 217]]\n",
      "[[197 190 199 183 200 212 218 214 215 216 213 217]\n",
      " [197 190 199 183 200 212 218 214 215 216 213 217]\n",
      " [197 190 199 183 200 212 218 214 215 216 213 217]\n",
      " [197 190 199 183 200 212 218 214 215 216 213 217]]\n",
      "[[186 187 183 198 204 213 212 217 214 215 218 216]\n",
      " [186 187 183 198 204 213 212 217 214 215 218 216]\n",
      " [186 187 183 198 204 213 212 217 214 215 218 216]\n",
      " [186 187 183 198 204 213 212 217 214 215 218 216]]\n",
      "[[196 199 181 194 206 213 212 216 215 217 214 218]\n",
      " [196 199 181 194 206 213 212 216 215 217 214 218]\n",
      " [196 199 181 194 206 213 212 216 215 217 214 218]\n",
      " [196 199 181 194 206 213 212 216 215 217 214 218]]\n",
      "[[196 199 181 194 206 213 212 216 215 217 214 218]\n",
      " [196 199 181 194 206 213 212 216 215 217 214 218]\n",
      " [196 199 181 194 206 213 212 216 215 217 214 218]\n",
      " [196 199 181 194 206 213 212 216 215 217 214 218]]\n",
      "[[196 199 181 194 206 213 212 216 215 217 214 218]\n",
      " [196 199 181 194 206 213 212 216 215 217 214 218]\n",
      " [196 199 181 194 206 213 212 216 215 217 214 218]\n",
      " [196 199 181 194 206 213 212 216 215 217 214 218]]\n",
      "[[195 185 184 211 202 217 215 218 213 212 216 214]\n",
      " [195 185 184 211 202 217 215 218 213 212 216 214]\n",
      " [195 185 184 211 202 217 215 218 213 212 216 214]\n",
      " [195 185 184 211 202 217 215 218 213 212 216 214]]\n",
      "[[186 187 183 198 204 213 212 217 214 215 218 216]\n",
      " [186 187 183 198 204 213 212 217 214 215 218 216]\n",
      " [186 187 183 198 204 213 212 217 214 215 218 216]\n",
      " [186 187 183 198 204 213 212 217 214 215 218 216]]\n",
      "[[195 185 184 211 202 217 215 218 213 212 216 214]\n",
      " [195 185 184 211 202 217 215 218 213 212 216 214]\n",
      " [195 185 184 211 202 217 215 218 213 212 216 214]\n",
      " [195 185 184 211 202 217 215 218 213 212 216 214]]\n",
      "[[196 199 181 194 206 213 212 216 215 217 214 218]\n",
      " [196 199 181 194 206 213 212 216 215 217 214 218]\n",
      " [196 199 181 194 206 213 212 216 215 217 214 218]\n",
      " [196 199 181 194 206 213 212 216 215 217 214 218]]\n",
      "[[196 199 181 194 206 213 212 216 215 217 214 218]\n",
      " [196 199 181 194 206 213 212 216 215 217 214 218]\n",
      " [196 199 181 194 206 213 212 216 215 217 214 218]\n",
      " [196 199 181 194 206 213 212 216 215 217 214 218]]\n",
      "[[196 199 181 194 206 213 212 216 215 217 214 218]\n",
      " [196 199 181 194 206 213 212 216 215 217 214 218]\n",
      " [196 199 181 194 206 213 212 216 215 217 214 218]\n",
      " [196 199 181 194 206 213 212 216 215 217 214 218]]\n",
      "[[196 199 181 194 206 213 212 216 215 217 214 218]\n",
      " [196 199 181 194 206 213 212 216 215 217 214 218]\n",
      " [196 199 181 194 206 213 212 216 215 217 214 218]\n",
      " [196 199 181 194 206 213 212 216 215 217 214 218]]\n",
      "[[186 187 183 198 204 213 212 217 214 215 218 216]\n",
      " [186 187 183 198 204 213 212 217 214 215 218 216]\n",
      " [186 187 183 198 204 213 212 217 214 215 218 216]\n",
      " [186 187 183 198 204 213 212 217 214 215 218 216]]\n",
      "[1.] [1.]\n",
      "i_reps 7\n",
      "Energía ini: 34213.73048487583 /gs: 8830.472329762226\n"
     ]
    },
    {
     "name": "stderr",
     "output_type": "stream",
     "text": [
      " 31%|████████████▍                           | 906/2900 [00:31<01:08, 29.08it/s]"
     ]
    },
    {
     "name": "stdout",
     "output_type": "stream",
     "text": [
      "Energy: [8838.09564007 9060.48906532 8838.09564007 8838.24305613 8833.07564441\n",
      " 8833.07564441 8833.07564441 8833.07564441 8830.47232976 8830.47232976\n",
      " 8830.47232976]\n"
     ]
    },
    {
     "name": "stderr",
     "output_type": "stream",
     "text": [
      " 33%|█████████████▏                          | 954/2900 [00:33<01:06, 29.22it/s]"
     ]
    },
    {
     "name": "stdout",
     "output_type": "stream",
     "text": [
      "Energy: [9063.0425227  8838.09564007 8853.33437535 8833.07564441 8835.66586549\n",
      " 8833.07564441 8833.07564441 8833.07564441 8830.47232976 8830.47232976\n",
      " 8830.47232976]\n"
     ]
    },
    {
     "name": "stderr",
     "output_type": "stream",
     "text": [
      " 35%|█████████████▌                         | 1005/2900 [00:35<01:10, 26.99it/s]"
     ]
    },
    {
     "name": "stdout",
     "output_type": "stream",
     "text": [
      "Energy: [9078.14928352 8830.47232976 8838.09564007 8833.07564441 8833.07564441\n",
      " 8835.66586549 8830.47232976 8830.47232976 8833.07564441 8830.47232976\n",
      " 8830.47232976]\n"
     ]
    },
    {
     "name": "stderr",
     "output_type": "stream",
     "text": [
      " 36%|██████████████▏                        | 1056/2900 [00:37<01:02, 29.50it/s]"
     ]
    },
    {
     "name": "stdout",
     "output_type": "stream",
     "text": [
      "Energy: [9032.86784523 8845.71632084 8848.31240261 8848.31240261 8843.28195909\n",
      " 8830.47232976 8835.66586549 8830.47232976 8830.47232976 8830.47232976\n",
      " 8830.47232976]\n"
     ]
    },
    {
     "name": "stderr",
     "output_type": "stream",
     "text": [
      " 38%|██████████████▊                        | 1104/2900 [00:38<01:01, 29.31it/s]"
     ]
    },
    {
     "name": "stdout",
     "output_type": "stream",
     "text": [
      "Energy: [8838.24305613 8855.92685026 8850.72881122 8830.47232976 8845.71632084\n",
      " 8835.66586549 8830.47232976 8830.47232976 8830.47232976 8830.47232976\n",
      " 8830.47232976]\n"
     ]
    },
    {
     "name": "stderr",
     "output_type": "stream",
     "text": [
      " 40%|███████████████▌                       | 1155/2900 [00:40<01:02, 28.08it/s]"
     ]
    },
    {
     "name": "stdout",
     "output_type": "stream",
     "text": [
      "Energy: [8840.69533509 8833.07564441 8833.07564441 8845.71632084 8833.07564441\n",
      " 8833.07564441 8835.66586549 8830.47232976 8833.07564441 8830.47232976\n",
      " 8830.47232976]\n"
     ]
    },
    {
     "name": "stderr",
     "output_type": "stream",
     "text": [
      " 42%|████████████████▏                      | 1206/2900 [00:42<01:00, 27.95it/s]"
     ]
    },
    {
     "name": "stdout",
     "output_type": "stream",
     "text": [
      "Energy: [8845.71632084 8855.92685026 8833.07564441 8830.47232976 8840.69533509\n",
      " 8830.47232976 8830.47232976 8833.07564441 8833.07564441 8830.47232976\n",
      " 8830.47232976]\n"
     ]
    },
    {
     "name": "stderr",
     "output_type": "stream",
     "text": [
      " 43%|████████████████▊                      | 1254/2900 [00:44<01:01, 26.58it/s]"
     ]
    },
    {
     "name": "stdout",
     "output_type": "stream",
     "text": [
      "Energy: [8858.3478658  8833.07564441 8840.69533509 8838.09564007 8833.07564441\n",
      " 8838.09564007 8830.47232976 8830.47232976 8838.09564007 8830.47232976\n",
      " 8830.47232976]\n"
     ]
    },
    {
     "name": "stderr",
     "output_type": "stream",
     "text": [
      " 45%|█████████████████▌                     | 1305/2900 [00:45<00:55, 28.72it/s]"
     ]
    },
    {
     "name": "stdout",
     "output_type": "stream",
     "text": [
      "Energy: [8835.66586549 8840.69533509 8840.69533509 8833.07564441 8848.31240261\n",
      " 8830.47232976 8830.47232976 8830.47232976 8838.09564007 8830.47232976\n",
      " 8830.47232976]\n"
     ]
    },
    {
     "name": "stderr",
     "output_type": "stream",
     "text": [
      " 47%|██████████████████▏                    | 1356/2900 [00:47<00:52, 29.32it/s]"
     ]
    },
    {
     "name": "stdout",
     "output_type": "stream",
     "text": [
      "Energy: [8843.28195909 8830.47232976 8845.71632084 8848.31240261 8833.07564441\n",
      " 8838.09564007 8830.47232976 8830.47232976 8833.07564441 8830.47232976\n",
      " 8830.47232976]\n"
     ]
    },
    {
     "name": "stderr",
     "output_type": "stream",
     "text": [
      " 48%|██████████████████▉                    | 1404/2900 [00:49<00:51, 29.01it/s]"
     ]
    },
    {
     "name": "stdout",
     "output_type": "stream",
     "text": [
      "Energy: [8848.31240261 8833.07564441 8830.47232976 8838.09564007 8830.47232976\n",
      " 8838.09564007 8833.07564441 8830.47232976 8830.47232976 8830.47232976\n",
      " 8830.47232976]\n"
     ]
    },
    {
     "name": "stderr",
     "output_type": "stream",
     "text": [
      " 50%|███████████████████▌                   | 1455/2900 [00:51<00:49, 29.29it/s]"
     ]
    },
    {
     "name": "stdout",
     "output_type": "stream",
     "text": [
      "Energy: [8873.57809985 8858.3478658  8855.92685026 8830.47232976 8838.09564007\n",
      " 8833.07564441 8830.47232976 8838.09564007 8830.47232976 8830.47232976\n",
      " 8830.47232976]\n"
     ]
    },
    {
     "name": "stderr",
     "output_type": "stream",
     "text": [
      " 52%|████████████████████▎                  | 1506/2900 [00:52<00:48, 28.99it/s]"
     ]
    },
    {
     "name": "stdout",
     "output_type": "stream",
     "text": [
      "Energy: [8840.69533509 8840.69533509 8838.09564007 8843.28195909 8833.07564441\n",
      " 8830.47232976 8830.47232976 8830.47232976 8830.47232976 8830.47232976\n",
      " 8830.47232976]\n"
     ]
    },
    {
     "name": "stderr",
     "output_type": "stream",
     "text": [
      " 54%|████████████████████▉                  | 1554/2900 [00:54<00:47, 28.37it/s]"
     ]
    },
    {
     "name": "stdout",
     "output_type": "stream",
     "text": [
      "Energy: [8845.71632084 8833.07564441 8833.07564441 8830.47232976 8830.47232976\n",
      " 8830.47232976 8838.09564007 8830.47232976 8833.07564441 8830.47232976\n",
      " 8830.47232976]\n"
     ]
    },
    {
     "name": "stderr",
     "output_type": "stream",
     "text": [
      " 55%|█████████████████████▌                 | 1605/2900 [00:56<00:45, 28.53it/s]"
     ]
    },
    {
     "name": "stdout",
     "output_type": "stream",
     "text": [
      "Energy: [8840.69533509 8830.47232976 8840.69533509 8838.09564007 8830.47232976\n",
      " 8830.47232976 8830.47232976 8838.09564007 8830.47232976 8830.47232976\n",
      " 8830.47232976]\n"
     ]
    },
    {
     "name": "stderr",
     "output_type": "stream",
     "text": [
      " 57%|██████████████████████▎                | 1656/2900 [00:58<00:44, 28.09it/s]"
     ]
    },
    {
     "name": "stdout",
     "output_type": "stream",
     "text": [
      "Energy: [8835.66586549 8830.47232976 8830.47232976 8845.71632084 8830.47232976\n",
      " 8830.47232976 8838.09564007 8830.47232976 8830.47232976 8830.47232976\n",
      " 8830.47232976]\n"
     ]
    },
    {
     "name": "stderr",
     "output_type": "stream",
     "text": [
      " 59%|██████████████████████▉                | 1704/2900 [00:59<00:42, 28.13it/s]"
     ]
    },
    {
     "name": "stdout",
     "output_type": "stream",
     "text": [
      "Energy: [8830.47232976 8830.47232976 8830.47232976 8830.47232976 8830.47232976\n",
      " 8830.47232976 8838.09564007 8830.47232976 8830.47232976 8830.47232976\n",
      " 8830.47232976]\n"
     ]
    },
    {
     "name": "stderr",
     "output_type": "stream",
     "text": [
      " 61%|███████████████████████▌               | 1755/2900 [01:01<00:38, 29.41it/s]"
     ]
    },
    {
     "name": "stdout",
     "output_type": "stream",
     "text": [
      "Energy: [8830.47232976 8845.71632084 8838.09564007 8830.47232976 8833.07564441\n",
      " 8830.47232976 8833.07564441 8830.47232976 8830.47232976 8830.47232976\n",
      " 8830.47232976]\n"
     ]
    },
    {
     "name": "stderr",
     "output_type": "stream",
     "text": [
      " 62%|████████████████████████▎              | 1806/2900 [01:03<00:37, 29.22it/s]"
     ]
    },
    {
     "name": "stdout",
     "output_type": "stream",
     "text": [
      "Energy: [8838.09564007 8830.47232976 8865.96429425 8830.47232976 8833.07564441\n",
      " 8830.47232976 8840.69533509 8833.07564441 8830.47232976 8830.47232976\n",
      " 8833.07564441]\n"
     ]
    },
    {
     "name": "stderr",
     "output_type": "stream",
     "text": [
      " 64%|████████████████████████▉              | 1854/2900 [01:05<00:36, 28.91it/s]"
     ]
    },
    {
     "name": "stdout",
     "output_type": "stream",
     "text": [
      "Energy: [8845.71632084 8838.09564007 8845.71632084 8833.07564441 8833.07564441\n",
      " 8840.69533509 8838.09564007 8830.47232976 8830.47232976 8830.47232976\n",
      " 8833.07564441]\n"
     ]
    },
    {
     "name": "stderr",
     "output_type": "stream",
     "text": [
      " 66%|█████████████████████████▌             | 1905/2900 [01:06<00:34, 28.73it/s]"
     ]
    },
    {
     "name": "stdout",
     "output_type": "stream",
     "text": [
      "Energy: [8833.07564441 8833.07564441 8833.07564441 8830.47232976 8838.09564007\n",
      " 8835.66586549 8830.47232976 8830.47232976 8830.47232976 8830.47232976\n",
      " 8830.47232976]\n"
     ]
    },
    {
     "name": "stderr",
     "output_type": "stream",
     "text": [
      " 67%|██████████████████████████▎            | 1956/2900 [01:08<00:34, 27.24it/s]"
     ]
    },
    {
     "name": "stdout",
     "output_type": "stream",
     "text": [
      "Energy: [8830.47232976 8840.69533509 8833.07564441 8833.07564441 8838.09564007\n",
      " 8833.07564441 8838.09564007 8833.07564441 8830.47232976 8830.47232976\n",
      " 8830.47232976]\n"
     ]
    },
    {
     "name": "stderr",
     "output_type": "stream",
     "text": [
      " 69%|██████████████████████████▉            | 2004/2900 [01:10<00:30, 29.14it/s]"
     ]
    },
    {
     "name": "stdout",
     "output_type": "stream",
     "text": [
      "Energy: [8848.31240261 8830.47232976 8830.47232976 8838.09564007 8853.33437535\n",
      " 8830.47232976 8833.07564441 8833.07564441 8833.07564441 8830.47232976\n",
      " 8830.47232976]\n"
     ]
    },
    {
     "name": "stderr",
     "output_type": "stream",
     "text": [
      " 71%|███████████████████████████▋           | 2055/2900 [01:12<00:29, 28.47it/s]"
     ]
    },
    {
     "name": "stdout",
     "output_type": "stream",
     "text": [
      "Energy: [8845.71632084 8838.09564007 8833.07564441 8830.47232976 8853.33437535\n",
      " 8833.07564441 8830.47232976 8830.47232976 8833.07564441 8830.47232976\n",
      " 8830.47232976]\n"
     ]
    },
    {
     "name": "stderr",
     "output_type": "stream",
     "text": [
      " 73%|████████████████████████████▎          | 2106/2900 [01:13<00:28, 28.28it/s]"
     ]
    },
    {
     "name": "stdout",
     "output_type": "stream",
     "text": [
      "Energy: [8838.09564007 8853.33437535 8838.09564007 8833.07564441 8830.47232976\n",
      " 8830.47232976 8830.47232976 8830.47232976 8830.47232976 8830.47232976\n",
      " 8830.47232976]\n"
     ]
    },
    {
     "name": "stderr",
     "output_type": "stream",
     "text": [
      " 74%|████████████████████████████▉          | 2154/2900 [01:15<00:27, 27.49it/s]"
     ]
    },
    {
     "name": "stdout",
     "output_type": "stream",
     "text": [
      "Energy: [8853.33437535 8833.07564441 8830.47232976 8833.07564441 8840.69533509\n",
      " 8830.47232976 8830.47232976 8830.47232976 8833.07564441 8830.47232976\n",
      " 8830.47232976]\n"
     ]
    },
    {
     "name": "stderr",
     "output_type": "stream",
     "text": [
      " 76%|█████████████████████████████▋         | 2205/2900 [01:17<00:25, 27.70it/s]"
     ]
    },
    {
     "name": "stdout",
     "output_type": "stream",
     "text": [
      "Energy: [8860.94980687 8830.47232976 8833.07564441 8833.07564441 8840.69533509\n",
      " 8830.47232976 8838.09564007 8833.07564441 8830.47232976 8830.47232976\n",
      " 8830.47232976]\n"
     ]
    },
    {
     "name": "stderr",
     "output_type": "stream",
     "text": [
      " 78%|██████████████████████████████▎        | 2256/2900 [01:19<00:22, 29.00it/s]"
     ]
    },
    {
     "name": "stdout",
     "output_type": "stream",
     "text": [
      "Energy: [8855.92685026 8840.69533509 8833.07564441 8840.69533509 8830.47232976\n",
      " 8830.47232976 8830.47232976 8830.47232976 8833.07564441 8830.47232976\n",
      " 8833.07564441]\n"
     ]
    },
    {
     "name": "stderr",
     "output_type": "stream",
     "text": [
      " 79%|██████████████████████████████▉        | 2304/2900 [01:20<00:20, 28.52it/s]"
     ]
    },
    {
     "name": "stdout",
     "output_type": "stream",
     "text": [
      "Energy: [8848.31240261 8845.85557501 8838.09564007 8833.07564441 8830.47232976\n",
      " 8833.07564441 8830.47232976 8830.47232976 8830.47232976 8830.47232976\n",
      " 8830.47232976]\n"
     ]
    },
    {
     "name": "stderr",
     "output_type": "stream",
     "text": [
      " 81%|███████████████████████████████▋       | 2355/2900 [01:22<00:18, 29.14it/s]"
     ]
    },
    {
     "name": "stdout",
     "output_type": "stream",
     "text": [
      "Energy: [8840.69533509 8838.09564007 8838.09564007 8830.47232976 8830.47232976\n",
      " 8830.47232976 8830.47232976 8830.47232976 8830.47232976 8830.47232976\n",
      " 8830.47232976]\n"
     ]
    },
    {
     "name": "stderr",
     "output_type": "stream",
     "text": [
      " 83%|████████████████████████████████▎      | 2406/2900 [01:24<00:16, 29.48it/s]"
     ]
    },
    {
     "name": "stdout",
     "output_type": "stream",
     "text": [
      "Energy: [8858.3478658  8830.47232976 8833.07564441 8830.47232976 8838.09564007\n",
      " 8830.47232976 8830.47232976 8830.47232976 8830.47232976 8830.47232976\n",
      " 8830.47232976]\n"
     ]
    },
    {
     "name": "stderr",
     "output_type": "stream",
     "text": [
      " 85%|█████████████████████████████████      | 2454/2900 [01:26<00:15, 28.17it/s]"
     ]
    },
    {
     "name": "stdout",
     "output_type": "stream",
     "text": [
      "Energy: [8865.96429425 8843.28195909 8838.09564007 8833.07564441 8830.47232976\n",
      " 8830.47232976 8830.47232976 8830.47232976 8830.47232976 8830.47232976\n",
      " 8830.47232976]\n"
     ]
    },
    {
     "name": "stderr",
     "output_type": "stream",
     "text": [
      " 86%|█████████████████████████████████▋     | 2505/2900 [01:27<00:13, 29.37it/s]"
     ]
    },
    {
     "name": "stdout",
     "output_type": "stream",
     "text": [
      "Energy: [8845.71632084 8833.07564441 8830.47232976 8830.47232976 8833.07564441\n",
      " 8830.47232976 8830.47232976 8830.47232976 8830.47232976 8830.47232976\n",
      " 8830.47232976]\n"
     ]
    },
    {
     "name": "stderr",
     "output_type": "stream",
     "text": [
      " 88%|██████████████████████████████████▎    | 2556/2900 [01:29<00:11, 28.72it/s]"
     ]
    },
    {
     "name": "stdout",
     "output_type": "stream",
     "text": [
      "Energy: [8883.7803961  8853.33437535 8830.47232976 8833.07564441 8833.07564441\n",
      " 8833.07564441 8833.07564441 8833.07564441 8830.47232976 8833.07564441\n",
      " 8830.47232976]\n"
     ]
    },
    {
     "name": "stderr",
     "output_type": "stream",
     "text": [
      " 90%|███████████████████████████████████    | 2604/2900 [01:31<00:10, 27.14it/s]"
     ]
    },
    {
     "name": "stdout",
     "output_type": "stream",
     "text": [
      "Energy: [8886.35850692 8860.94980687 8838.09564007 8830.47232976 8830.47232976\n",
      " 8840.69533509 8830.47232976 8830.47232976 8830.47232976 8830.47232976\n",
      " 8830.47232976]\n"
     ]
    },
    {
     "name": "stderr",
     "output_type": "stream",
     "text": [
      " 92%|███████████████████████████████████▋   | 2655/2900 [01:33<00:08, 29.28it/s]"
     ]
    },
    {
     "name": "stdout",
     "output_type": "stream",
     "text": [
      "Energy: [8848.31240261 8845.71632084 8838.09564007 8830.47232976 8838.09564007\n",
      " 8838.09564007 8833.07564441 8830.47232976 8830.47232976 8830.47232976\n",
      " 8830.47232976]\n"
     ]
    },
    {
     "name": "stderr",
     "output_type": "stream",
     "text": [
      " 93%|████████████████████████████████████▍  | 2706/2900 [01:34<00:06, 28.99it/s]"
     ]
    },
    {
     "name": "stdout",
     "output_type": "stream",
     "text": [
      "Energy: [8838.09564007 8838.09564007 8838.09564007 8835.66586549 8838.09564007\n",
      " 8838.09564007 8830.47232976 8830.47232976 8830.47232976 8830.47232976\n",
      " 8830.47232976]\n"
     ]
    },
    {
     "name": "stderr",
     "output_type": "stream",
     "text": [
      " 95%|█████████████████████████████████████  | 2754/2900 [01:36<00:05, 27.86it/s]"
     ]
    },
    {
     "name": "stdout",
     "output_type": "stream",
     "text": [
      "Energy: [8840.69533509 8850.89543587 8833.07564441 8848.31240261 8830.47232976\n",
      " 8830.47232976 8830.47232976 8830.47232976 8830.47232976 8830.47232976\n",
      " 8830.47232976]\n"
     ]
    },
    {
     "name": "stderr",
     "output_type": "stream",
     "text": [
      " 97%|█████████████████████████████████████▋ | 2805/2900 [01:38<00:03, 28.48it/s]"
     ]
    },
    {
     "name": "stdout",
     "output_type": "stream",
     "text": [
      "Energy: [8840.69533509 8843.28195909 8866.11455194 8838.09564007 8830.47232976\n",
      " 8830.47232976 8833.07564441 8830.47232976 8830.47232976 8830.47232976\n",
      " 8830.47232976]\n"
     ]
    },
    {
     "name": "stderr",
     "output_type": "stream",
     "text": [
      " 98%|██████████████████████████████████████▍| 2856/2900 [01:40<00:01, 27.91it/s]"
     ]
    },
    {
     "name": "stdout",
     "output_type": "stream",
     "text": [
      "Energy: [8871.1478989  8840.69533509 8833.07564441 8830.47232976 8845.71632084\n",
      " 8833.07564441 8830.47232976 8830.47232976 8830.47232976 8830.47232976\n",
      " 8830.47232976]\n"
     ]
    },
    {
     "name": "stderr",
     "output_type": "stream",
     "text": [
      "100%|███████████████████████████████████████| 2900/2900 [01:41<00:00, 28.51it/s]\n"
     ]
    },
    {
     "name": "stdout",
     "output_type": "stream",
     "text": [
      "Fin Energy_t 8830.472329762226 Energy_gs 8830.472329762226\n",
      "c_accep 0 c_rounds 0\n",
      "Elapsed (after compilation) = 101.71002507209778\n",
      "[[211 199 208 207 188 218 216 215 214 212 217 213]\n",
      " [211 199 208 207 188 218 216 215 214 212 217 213]\n",
      " [211 199 208 207 188 218 216 215 214 212 217 213]\n",
      " [211 199 208 207 188 218 216 215 214 212 217 213]]\n",
      "[[211 209 207 181 196 217 213 214 212 216 218 215]\n",
      " [211 209 207 181 196 217 213 214 212 216 218 215]\n",
      " [211 209 207 181 196 217 213 214 212 216 218 215]\n",
      " [211 209 207 181 196 217 213 214 212 216 218 215]]\n",
      "[[211 199 208 207 188 218 216 215 214 212 217 213]\n",
      " [211 199 208 207 188 218 216 215 214 212 217 213]\n",
      " [211 199 208 207 188 218 216 215 214 212 217 213]\n",
      " [211 199 208 207 180 218 216 215 214 212 217 213]]\n",
      "[[211 209 207 181 196 217 213 214 212 216 218 215]\n",
      " [211 209 207 181 196 217 213 214 212 216 218 215]\n",
      " [211 209 207 181 196 217 213 214 212 216 218 215]\n",
      " [211 209 207 181 196 217 213 214 212 216 218 215]]\n",
      "[[211 209 207 181 196 217 213 214 212 216 218 215]\n",
      " [211 209 207 181 196 217 213 214 212 216 218 215]\n",
      " [211 209 207 181 196 217 213 214 212 216 218 215]\n",
      " [211 209 207 181 196 217 213 214 212 216 218 215]]\n",
      "[[211 209 207 181 196 217 213 214 212 216 218 215]\n",
      " [211 209 207 181 196 217 213 214 212 216 218 215]\n",
      " [211 209 207 181 196 217 213 214 212 216 218 215]\n",
      " [211 209 207 181 196 217 213 214 212 216 218 215]]\n",
      "[[211 209 207 181 196 217 213 214 212 216 218 215]\n",
      " [211 209 207 181 196 217 213 214 212 216 218 215]\n",
      " [211 209 207 181 196 217 213 214 212 216 218 215]\n",
      " [211 209 207 181 196 217 213 214 212 216 218 215]]\n",
      "[[211 209 207 181 196 217 213 214 212 216 218 215]\n",
      " [211 209 207 181 196 217 213 214 212 216 218 215]\n",
      " [211 209 207 181 196 217 213 214 212 216 218 215]\n",
      " [211 209 207 181 196 217 213 214 212 216 218 215]]\n",
      "[[190 201 211 183 203 212 215 214 217 218 213 216]\n",
      " [190 201 211 183 203 212 215 214 217 218 213 216]\n",
      " [190 201 211 183 203 212 215 214 217 218 213 216]\n",
      " [190 201 211 183 203 212 215 214 217 218 213 216]]\n",
      "[[190 201 211 183 203 212 215 214 217 218 213 216]\n",
      " [190 201 211 183 203 212 215 214 217 218 213 216]\n",
      " [190 201 211 183 203 212 215 214 217 218 213 216]\n",
      " [190 201 211 183 203 212 215 214 217 218 213 216]]\n",
      "[[190 201 211 183 203 212 215 214 217 218 213 216]\n",
      " [190 201 211 183 203 212 215 214 217 218 213 216]\n",
      " [190 201 211 183 203 212 215 214 217 218 213 216]\n",
      " [190 201 211 183 203 212 215 214 217 218 213 216]]\n",
      "[[211 199 208 207 188 218 216 215 214 212 217 213]\n",
      " [211 199 208 207 188 218 216 215 214 212 217 213]\n",
      " [211 199 208 207 188 218 216 215 214 212 217 213]\n",
      " [211 199 208 207 188 218 216 215 214 212 217 213]]\n",
      "[[190 201 211 183 203 212 215 214 217 218 213 216]\n",
      " [190 201 211 183 203 212 215 214 217 218 213 216]\n",
      " [190 201 211 183 203 212 215 214 217 218 213 216]\n",
      " [190 201 211 183 203 212 215 214 217 218 213 216]]\n",
      "[[211 201 209 205 196 217 213 212 215 218 216 214]\n",
      " [211 201 209 205 196 217 213 212 215 218 216 214]\n",
      " [211 201 209 205 196 217 213 212 215 218 216 214]\n",
      " [211 201 209 205 196 217 213 212 215 218 216 214]]\n",
      "[[190 201 211 183 203 212 215 214 217 218 213 216]\n",
      " [190 201 211 183 203 212 215 214 217 218 213 216]\n",
      " [190 201 211 183 203 212 215 214 217 218 213 216]\n",
      " [190 201 211 183 203 212 215 214 217 218 213 216]]\n",
      "[[190 201 211 183 203 212 215 214 217 218 213 216]\n",
      " [190 201 211 183 203 212 215 214 217 218 213 216]\n",
      " [190 201 211 183 203 212 215 214 217 218 213 216]\n",
      " [190 201 211 183 203 212 215 214 217 218 213 216]]\n",
      "[[190 201 211 183 203 212 215 214 217 218 213 216]\n",
      " [190 201 211 183 203 212 215 214 217 218 213 216]\n",
      " [190 201 211 183 203 212 215 214 217 218 213 216]\n",
      " [190 201 211 183 203 212 215 214 217 218 213 216]]\n",
      "[[190 201 211 183 203 212 215 214 217 218 213 216]\n",
      " [190 201 211 183 203 212 215 214 217 218 213 216]\n",
      " [190 201 211 183 203 212 215 214 217 218 213 216]\n",
      " [190 201 211 183 203 212 215 214 217 218 213 216]]\n",
      "[[190 201 211 183 203 212 215 214 217 218 213 216]\n",
      " [190 201 211 183 203 212 215 214 217 218 213 216]\n",
      " [190 201 211 183 203 212 215 214 217 218 213 216]\n",
      " [190 201 211 183 203 212 215 214 217 218 213 216]]\n",
      "[[190 201 211 183 203 212 215 214 217 218 213 216]\n",
      " [190 201 211 183 203 212 215 214 217 218 213 216]\n",
      " [190 201 211 183 203 212 215 214 217 218 213 216]\n",
      " [190 201 211 183 203 212 215 214 217 218 213 216]]\n",
      "[[211 201 209 205 196 217 213 212 215 218 216 214]\n",
      " [211 201 209 205 196 217 213 212 215 218 216 214]\n",
      " [211 201 209 205 196 217 213 212 215 218 216 214]\n",
      " [211 201 209 205 196 217 213 212 215 218 216 214]]\n",
      "[[190 201 211 183 203 212 215 214 217 218 213 216]\n",
      " [190 201 211 183 203 212 215 214 217 218 213 216]\n",
      " [190 201 211 183 203 212 215 214 217 218 213 216]\n",
      " [190 201 211 183 203 212 215 214 217 218 213 216]]\n",
      "[[195 198 209 210 203 212 214 213 215 218 217 216]\n",
      " [195 198 209 210 203 212 214 213 215 218 217 216]\n",
      " [195 198 209 210 203 212 214 213 215 218 217 216]\n",
      " [195 198 209 210 203 212 214 213 215 218 217 216]]\n",
      "[[190 201 211 183 203 212 215 214 217 218 213 216]\n",
      " [190 201 211 183 203 212 215 214 217 218 213 216]\n",
      " [190 201 211 183 203 212 215 214 217 218 213 216]\n",
      " [190 201 211 183 203 212 215 214 217 218 213 216]]\n",
      "[[195 198 209 210 203 212 214 213 215 218 217 216]\n",
      " [195 198 209 210 203 212 214 213 215 218 217 216]\n",
      " [195 198 209 210 203 212 214 213 215 218 217 216]\n",
      " [195 198 209 210 203 212 214 213 215 218 217 216]]\n",
      "[[195 198 209 210 203 212 214 213 215 218 217 216]\n",
      " [195 198 209 210 203 212 214 213 215 218 217 216]\n",
      " [195 198 209 210 203 212 214 213 215 218 217 216]\n",
      " [195 198 209 210 203 212 214 213 215 218 217 216]]\n",
      "[[211 185 186 180 189 212 216 214 215 217 218 213]\n",
      " [211 185 186 180 189 212 216 214 215 217 218 213]\n",
      " [211 185 186 180 189 212 216 214 215 217 218 213]\n",
      " [211 185 186 180 189 212 216 214 215 217 218 213]]\n",
      "[[195 198 209 210 203 212 214 213 215 218 217 216]\n",
      " [195 198 209 210 203 212 214 213 215 218 217 216]\n",
      " [195 198 209 210 203 212 214 213 215 218 217 216]\n",
      " [195 198 209 210 203 212 214 213 215 218 217 216]]\n",
      "[[195 198 209 210 203 212 214 213 215 218 217 216]\n",
      " [195 198 209 210 203 212 214 213 215 218 217 216]\n",
      " [195 198 209 210 203 212 214 213 215 218 217 216]\n",
      " [195 198 209 210 203 212 214 213 215 218 217 216]]\n",
      "[[195 198 209 210 203 212 214 213 215 218 217 216]\n",
      " [195 198 209 210 203 212 214 213 215 218 217 216]\n",
      " [195 198 209 210 203 212 214 213 215 218 217 216]\n",
      " [195 198 209 210 203 212 214 213 215 218 217 216]]\n",
      "[[186 204 202 201 211 218 216 214 215 212 213 217]\n",
      " [186 204 202 201 211 218 216 214 215 212 213 217]\n",
      " [186 204 202 201 211 218 216 214 215 212 213 217]\n",
      " [186 204 202 201 211 218 216 214 215 212 213 217]]\n",
      "[[211 185 186 180 189 212 216 214 215 217 218 213]\n",
      " [211 185 186 180 189 212 216 214 215 217 218 213]\n",
      " [211 185 186 180 189 212 216 214 215 217 218 213]\n",
      " [211 185 186 188 189 212 216 214 215 217 218 213]]\n",
      "[[211 201 209 205 196 217 213 212 215 218 216 214]\n",
      " [211 201 209 205 196 217 213 212 215 218 216 214]\n",
      " [211 201 209 205 196 217 213 212 215 218 216 214]\n",
      " [211 201 209 205 196 217 213 212 215 218 216 214]]\n",
      "[[211 201 209 205 196 217 213 212 215 218 216 214]\n",
      " [211 201 209 205 196 217 213 212 215 218 216 214]\n",
      " [211 201 209 205 196 217 213 212 215 218 216 214]\n",
      " [211 201 209 205 196 217 213 212 215 218 216 214]]\n",
      "[[211 185 186 180 189 212 216 214 215 217 218 213]\n",
      " [211 185 186 180 189 212 216 214 215 217 218 213]\n",
      " [211 185 186 180 189 212 216 214 215 217 218 213]\n",
      " [211 185 186 188 189 212 216 214 215 217 218 213]]\n",
      "[[211 201 209 205 196 217 213 212 215 218 216 214]\n",
      " [211 201 209 205 196 217 213 212 215 218 216 214]\n",
      " [211 201 209 205 196 217 213 212 215 218 216 214]\n",
      " [211 201 209 205 196 217 213 212 215 218 216 214]]\n",
      "[[211 201 209 205 196 217 213 212 215 218 216 214]\n",
      " [211 201 209 205 196 217 213 212 215 218 216 214]\n",
      " [211 201 209 205 196 217 213 212 215 218 216 214]\n",
      " [211 201 209 205 196 217 213 212 215 218 216 214]]\n",
      "[[211 201 209 205 196 217 213 212 215 218 216 214]\n",
      " [211 201 209 205 196 217 213 212 215 218 216 214]\n",
      " [211 201 209 205 196 217 213 212 215 218 216 214]\n",
      " [211 201 209 205 196 217 213 212 215 218 216 214]]\n",
      "[[186 204 202 201 211 218 216 214 215 212 213 217]\n",
      " [186 204 202 201 211 218 216 214 215 212 213 217]\n",
      " [186 204 202 201 211 218 216 214 215 212 213 217]\n",
      " [186 204 202 201 211 218 216 214 215 212 213 217]]\n",
      "[1.] [1.]\n",
      "i_reps 8\n",
      "Energía ini: 34304.80426978215 /gs: 8913.75829296335\n"
     ]
    },
    {
     "name": "stderr",
     "output_type": "stream",
     "text": [
      " 31%|████████████▍                           | 906/2900 [00:32<01:09, 28.78it/s]"
     ]
    },
    {
     "name": "stdout",
     "output_type": "stream",
     "text": [
      "Energy: [9195.48077886 8926.33706263 9145.58166495 9125.20656339 9173.4043218\n",
      " 8913.75829296 8913.75829296 8913.75829296 8913.75829296 8913.75829296\n",
      " 8913.75829296]\n"
     ]
    },
    {
     "name": "stderr",
     "output_type": "stream",
     "text": [
      " 33%|█████████████▏                          | 954/2900 [00:33<01:07, 28.75it/s]"
     ]
    },
    {
     "name": "stdout",
     "output_type": "stream",
     "text": [
      "Energy: [9195.48077886 9145.58166495 8924.00058624 9173.4043218  9125.20656339\n",
      " 8913.75829296 8913.75829296 8913.75829296 8913.75829296 8913.75829296\n",
      " 8913.75829296]\n"
     ]
    },
    {
     "name": "stderr",
     "output_type": "stream",
     "text": [
      " 35%|█████████████▌                         | 1005/2900 [00:35<01:06, 28.51it/s]"
     ]
    },
    {
     "name": "stdout",
     "output_type": "stream",
     "text": [
      "Energy: [8933.94657088 9145.58166495 8931.60536909 9173.4043218  8913.75829296\n",
      " 8913.75829296 8913.75829296 8913.75829296 8913.75829296 8913.75829296\n",
      " 8913.75829296]\n"
     ]
    },
    {
     "name": "stderr",
     "output_type": "stream",
     "text": [
      " 36%|██████████████▏                        | 1056/2900 [00:37<01:05, 28.03it/s]"
     ]
    },
    {
     "name": "stdout",
     "output_type": "stream",
     "text": [
      "Energy: [9145.58166495 8926.33706263 8931.60536909 8921.36936735 8913.75829296\n",
      " 8913.75829296 8913.75829296 8913.75829296 8921.36936735 8913.75829296\n",
      " 8913.75829296]\n"
     ]
    },
    {
     "name": "stderr",
     "output_type": "stream",
     "text": [
      " 38%|██████████████▊                        | 1104/2900 [00:38<01:02, 28.89it/s]"
     ]
    },
    {
     "name": "stdout",
     "output_type": "stream",
     "text": [
      "Energy: [8913.75829296 8913.75829296 8913.75829296 8913.75829296 8913.75829296\n",
      " 8913.75829296 8913.75829296 8913.75829296 8921.36936735 8913.75829296\n",
      " 8913.75829296]\n"
     ]
    },
    {
     "name": "stderr",
     "output_type": "stream",
     "text": [
      " 40%|███████████████▌                       | 1155/2900 [00:40<01:00, 28.70it/s]"
     ]
    },
    {
     "name": "stdout",
     "output_type": "stream",
     "text": [
      "Energy: [8913.75829296 8921.36936735 8913.75829296 8921.36936735 8913.75829296\n",
      " 8913.75829296 8913.75829296 8913.75829296 8921.36936735 8913.75829296\n",
      " 8913.75829296]\n"
     ]
    },
    {
     "name": "stderr",
     "output_type": "stream",
     "text": [
      " 42%|████████████████▏                      | 1206/2900 [00:42<00:58, 28.82it/s]"
     ]
    },
    {
     "name": "stdout",
     "output_type": "stream",
     "text": [
      "Energy: [8921.36936735 8926.33706263 8913.75829296 8913.75829296 8913.75829296\n",
      " 8913.75829296 8913.75829296 8913.75829296 8921.36936735 8913.75829296\n",
      " 8913.75829296]\n"
     ]
    },
    {
     "name": "stderr",
     "output_type": "stream",
     "text": [
      " 43%|████████████████▊                      | 1254/2900 [00:44<00:59, 27.62it/s]"
     ]
    },
    {
     "name": "stdout",
     "output_type": "stream",
     "text": [
      "Energy: [8921.36936735 8921.36936735 8913.75829296 8913.75829296 8913.75829296\n",
      " 8921.36936735 8913.75829296 8913.75829296 8913.75829296 8913.75829296\n",
      " 8913.75829296]\n"
     ]
    },
    {
     "name": "stderr",
     "output_type": "stream",
     "text": [
      " 45%|█████████████████▌                     | 1305/2900 [00:46<00:56, 28.15it/s]"
     ]
    },
    {
     "name": "stdout",
     "output_type": "stream",
     "text": [
      "Energy: [8933.94657088 8913.75829296 8913.75829296 8913.75829296 8913.75829296\n",
      " 8913.75829296 8913.75829296 8913.75829296 8913.75829296 8913.75829296\n",
      " 8913.75829296]\n"
     ]
    },
    {
     "name": "stderr",
     "output_type": "stream",
     "text": [
      " 47%|██████████████████▏                    | 1356/2900 [00:47<00:57, 26.94it/s]"
     ]
    },
    {
     "name": "stdout",
     "output_type": "stream",
     "text": [
      "Energy: [8926.33706263 8926.33706263 8921.36936735 8913.75829296 8913.75829296\n",
      " 8913.75829296 8913.75829296 8913.75829296 8913.75829296 8913.75829296\n",
      " 8913.75829296]\n"
     ]
    },
    {
     "name": "stderr",
     "output_type": "stream",
     "text": [
      " 48%|██████████████████▉                    | 1404/2900 [00:49<00:52, 28.45it/s]"
     ]
    },
    {
     "name": "stdout",
     "output_type": "stream",
     "text": [
      "Energy: [8913.75829296 8959.07404773 8921.36936735 8913.75829296 8921.36936735\n",
      " 8913.75829296 8913.75829296 8913.75829296 8913.75829296 8913.75829296\n",
      " 8913.75829296]\n"
     ]
    },
    {
     "name": "stderr",
     "output_type": "stream",
     "text": [
      " 50%|███████████████████▌                   | 1458/2900 [00:51<00:55, 26.11it/s]"
     ]
    },
    {
     "name": "stdout",
     "output_type": "stream",
     "text": [
      "Energy: [8946.51479081 8921.36936735 8913.75829296 8913.75829296 8921.36936735\n",
      " 8913.75829296 8913.75829296 8913.75829296 8913.75829296 8913.75829296\n",
      " 8913.75829296]\n"
     ]
    },
    {
     "name": "stderr",
     "output_type": "stream",
     "text": [
      " 52%|████████████████████▎                  | 1506/2900 [00:53<00:49, 28.43it/s]"
     ]
    },
    {
     "name": "stdout",
     "output_type": "stream",
     "text": [
      "Energy: [8921.36936735 8913.75829296 8913.75829296 8913.75829296 8913.75829296\n",
      " 8913.75829296 8913.75829296 8913.75829296 8913.75829296 8913.75829296\n",
      " 8913.75829296]\n"
     ]
    },
    {
     "name": "stderr",
     "output_type": "stream",
     "text": [
      " 54%|████████████████████▉                  | 1554/2900 [00:55<00:48, 28.00it/s]"
     ]
    },
    {
     "name": "stdout",
     "output_type": "stream",
     "text": [
      "Energy: [8913.75829296 8913.75829296 8913.75829296 8913.75829296 8913.75829296\n",
      " 8913.75829296 8913.75829296 8913.75829296 8913.75829296 8913.75829296\n",
      " 8913.75829296]\n"
     ]
    },
    {
     "name": "stderr",
     "output_type": "stream",
     "text": [
      " 55%|█████████████████████▌                 | 1605/2900 [00:57<00:46, 27.78it/s]"
     ]
    },
    {
     "name": "stdout",
     "output_type": "stream",
     "text": [
      "Energy: [8913.75829296 8913.75829296 8913.75829296 8921.36936735 8926.33706263\n",
      " 8913.75829296 8913.75829296 8913.75829296 8913.75829296 8913.75829296\n",
      " 8913.75829296]\n"
     ]
    },
    {
     "name": "stderr",
     "output_type": "stream",
     "text": [
      " 57%|██████████████████████▎                | 1656/2900 [00:58<00:45, 27.18it/s]"
     ]
    },
    {
     "name": "stdout",
     "output_type": "stream",
     "text": [
      "Energy: [8921.36936735 8913.75829296 8913.75829296 8913.75829296 8913.75829296\n",
      " 8921.36936735 8913.75829296 8913.75829296 8913.75829296 8913.75829296\n",
      " 8913.75829296]\n"
     ]
    },
    {
     "name": "stderr",
     "output_type": "stream",
     "text": [
      " 59%|██████████████████████▉                | 1704/2900 [01:00<00:42, 28.05it/s]"
     ]
    },
    {
     "name": "stdout",
     "output_type": "stream",
     "text": [
      "Energy: [8913.75829296 8921.36936735 8913.75829296 8913.75829296 8913.75829296\n",
      " 8913.75829296 8913.75829296 8913.75829296 8913.75829296 8913.75829296\n",
      " 8913.75829296]\n"
     ]
    },
    {
     "name": "stderr",
     "output_type": "stream",
     "text": [
      " 61%|███████████████████████▌               | 1755/2900 [01:02<00:42, 26.78it/s]"
     ]
    },
    {
     "name": "stdout",
     "output_type": "stream",
     "text": [
      "Energy: [8926.33706263 8921.36936735 8913.75829296 8913.75829296 8913.75829296\n",
      " 8913.75829296 8913.75829296 8913.75829296 8913.75829296 8913.75829296\n",
      " 8913.75829296]\n"
     ]
    },
    {
     "name": "stderr",
     "output_type": "stream",
     "text": [
      " 62%|████████████████████████▎              | 1806/2900 [01:04<00:38, 28.65it/s]"
     ]
    },
    {
     "name": "stdout",
     "output_type": "stream",
     "text": [
      "Energy: [8913.75829296 8933.94657088 8913.75829296 8913.75829296 8921.36936735\n",
      " 8913.75829296 8913.75829296 8913.75829296 8913.75829296 8913.75829296\n",
      " 8913.75829296]\n"
     ]
    },
    {
     "name": "stderr",
     "output_type": "stream",
     "text": [
      " 64%|████████████████████████▉              | 1857/2900 [01:06<00:37, 27.59it/s]"
     ]
    },
    {
     "name": "stdout",
     "output_type": "stream",
     "text": [
      "Energy: [8921.36936735 8921.36936735 8913.75829296 8926.33706263 8913.75829296\n",
      " 8921.36936735 8913.75829296 8913.75829296 8913.75829296 8913.75829296\n",
      " 8913.75829296]\n"
     ]
    },
    {
     "name": "stderr",
     "output_type": "stream",
     "text": [
      " 66%|█████████████████████████▌             | 1905/2900 [01:07<00:34, 28.52it/s]"
     ]
    },
    {
     "name": "stdout",
     "output_type": "stream",
     "text": [
      "Energy: [8928.97781595 8921.36936735 8913.75829296 8921.36936735 8913.75829296\n",
      " 8913.75829296 8913.75829296 8913.75829296 8913.75829296 8913.75829296\n",
      " 8913.75829296]\n"
     ]
    },
    {
     "name": "stderr",
     "output_type": "stream",
     "text": [
      " 67%|██████████████████████████▎            | 1956/2900 [01:09<00:32, 28.72it/s]"
     ]
    },
    {
     "name": "stdout",
     "output_type": "stream",
     "text": [
      "Energy: [8913.75829296 8913.75829296 8921.36936735 8913.75829296 8913.75829296\n",
      " 8913.75829296 8913.75829296 8913.75829296 8913.75829296 8913.75829296\n",
      " 8913.75829296]\n"
     ]
    },
    {
     "name": "stderr",
     "output_type": "stream",
     "text": [
      " 69%|██████████████████████████▉            | 2004/2900 [01:11<00:31, 28.77it/s]"
     ]
    },
    {
     "name": "stdout",
     "output_type": "stream",
     "text": [
      "Energy: [8933.94657088 8913.75829296 8913.75829296 8913.75829296 8913.75829296\n",
      " 8913.75829296 8913.75829296 8913.75829296 8913.75829296 8913.75829296\n",
      " 8913.75829296]\n"
     ]
    },
    {
     "name": "stderr",
     "output_type": "stream",
     "text": [
      " 71%|███████████████████████████▋           | 2055/2900 [01:13<00:29, 28.40it/s]"
     ]
    },
    {
     "name": "stdout",
     "output_type": "stream",
     "text": [
      "Energy: [8913.75829296 8921.36936735 8913.75829296 8913.75829296 8913.75829296\n",
      " 8913.75829296 8913.75829296 8913.75829296 8913.75829296 8913.75829296\n",
      " 8913.75829296]\n"
     ]
    },
    {
     "name": "stderr",
     "output_type": "stream",
     "text": [
      " 73%|████████████████████████████▎          | 2106/2900 [01:14<00:28, 28.10it/s]"
     ]
    },
    {
     "name": "stdout",
     "output_type": "stream",
     "text": [
      "Energy: [8913.75829296 8921.36936735 8913.75829296 8913.75829296 8913.75829296\n",
      " 8913.75829296 8913.75829296 8913.75829296 8913.75829296 8913.75829296\n",
      " 8913.75829296]\n"
     ]
    },
    {
     "name": "stderr",
     "output_type": "stream",
     "text": [
      " 74%|████████████████████████████▉          | 2154/2900 [01:16<00:26, 28.69it/s]"
     ]
    },
    {
     "name": "stdout",
     "output_type": "stream",
     "text": [
      "Energy: [8913.75829296 8913.75829296 8921.36936735 8913.75829296 8913.75829296\n",
      " 8913.75829296 8913.75829296 8913.75829296 8913.75829296 8913.75829296\n",
      " 8913.75829296]\n"
     ]
    },
    {
     "name": "stderr",
     "output_type": "stream",
     "text": [
      " 76%|█████████████████████████████▋         | 2205/2900 [01:18<00:25, 27.24it/s]"
     ]
    },
    {
     "name": "stdout",
     "output_type": "stream",
     "text": [
      "Energy: [8913.75829296 8913.75829296 8913.75829296 8913.75829296 8913.75829296\n",
      " 8913.75829296 8913.75829296 8913.75829296 8913.75829296 8913.75829296\n",
      " 8913.75829296]\n"
     ]
    },
    {
     "name": "stderr",
     "output_type": "stream",
     "text": [
      " 78%|██████████████████████████████▎        | 2256/2900 [01:20<00:22, 28.27it/s]"
     ]
    },
    {
     "name": "stdout",
     "output_type": "stream",
     "text": [
      "Energy: [8913.75829296 8913.75829296 8924.00058624 8913.75829296 8913.75829296\n",
      " 8913.75829296 8913.75829296 8913.75829296 8913.75829296 8913.75829296\n",
      " 8913.75829296]\n"
     ]
    },
    {
     "name": "stderr",
     "output_type": "stream",
     "text": [
      " 79%|██████████████████████████████▉        | 2304/2900 [01:21<00:20, 28.84it/s]"
     ]
    },
    {
     "name": "stdout",
     "output_type": "stream",
     "text": [
      "Energy: [8924.00058624 8913.75829296 8913.75829296 8921.36936735 8913.75829296\n",
      " 8913.75829296 8913.75829296 8913.75829296 8913.75829296 8913.75829296\n",
      " 8913.75829296]\n"
     ]
    },
    {
     "name": "stderr",
     "output_type": "stream",
     "text": [
      " 81%|███████████████████████████████▋       | 2355/2900 [01:23<00:18, 28.79it/s]"
     ]
    },
    {
     "name": "stdout",
     "output_type": "stream",
     "text": [
      "Energy: [8913.75829296 8913.75829296 8921.36936735 8921.36936735 8913.75829296\n",
      " 8913.75829296 8913.75829296 8913.75829296 8913.75829296 8913.75829296\n",
      " 8913.75829296]\n"
     ]
    },
    {
     "name": "stderr",
     "output_type": "stream",
     "text": [
      " 83%|████████████████████████████████▎      | 2406/2900 [01:25<00:18, 27.27it/s]"
     ]
    },
    {
     "name": "stdout",
     "output_type": "stream",
     "text": [
      "Energy: [8913.75829296 8921.36936735 8926.33706263 8913.75829296 8913.75829296\n",
      " 8913.75829296 8913.75829296 8913.75829296 8913.75829296 8913.75829296\n",
      " 8913.75829296]\n"
     ]
    },
    {
     "name": "stderr",
     "output_type": "stream",
     "text": [
      " 85%|█████████████████████████████████      | 2454/2900 [01:27<00:15, 28.13it/s]"
     ]
    },
    {
     "name": "stdout",
     "output_type": "stream",
     "text": [
      "Energy: [8913.75829296 8933.94657088 8913.75829296 8913.75829296 8913.75829296\n",
      " 8913.75829296 8913.75829296 8913.75829296 8913.75829296 8913.75829296\n",
      " 8913.75829296]\n"
     ]
    },
    {
     "name": "stderr",
     "output_type": "stream",
     "text": [
      " 86%|█████████████████████████████████▋     | 2505/2900 [01:29<00:14, 27.61it/s]"
     ]
    },
    {
     "name": "stdout",
     "output_type": "stream",
     "text": [
      "Energy: [8928.97781595 8933.94657088 8913.75829296 8913.75829296 8913.75829296\n",
      " 8913.75829296 8913.75829296 8913.75829296 8913.75829296 8913.75829296\n",
      " 8913.75829296]\n"
     ]
    },
    {
     "name": "stderr",
     "output_type": "stream",
     "text": [
      " 88%|██████████████████████████████████▎    | 2556/2900 [01:30<00:12, 28.36it/s]"
     ]
    },
    {
     "name": "stdout",
     "output_type": "stream",
     "text": [
      "Energy: [8921.36936735 8913.75829296 8921.36936735 8921.36936735 8913.75829296\n",
      " 8913.75829296 8913.75829296 8913.75829296 8913.75829296 8913.75829296\n",
      " 8913.75829296]\n"
     ]
    },
    {
     "name": "stderr",
     "output_type": "stream",
     "text": [
      " 90%|███████████████████████████████████    | 2604/2900 [01:32<00:10, 28.81it/s]"
     ]
    },
    {
     "name": "stdout",
     "output_type": "stream",
     "text": [
      "Energy: [8913.75829296 8913.75829296 8913.75829296 8926.33706263 8913.75829296\n",
      " 8921.36936735 8913.75829296 8913.75829296 8913.75829296 8913.75829296\n",
      " 8913.75829296]\n"
     ]
    },
    {
     "name": "stderr",
     "output_type": "stream",
     "text": [
      " 92%|███████████████████████████████████▋   | 2655/2900 [01:34<00:08, 28.46it/s]"
     ]
    },
    {
     "name": "stdout",
     "output_type": "stream",
     "text": [
      "Energy: [8913.75829296 8941.55345335 8921.36936735 8913.75829296 8926.33706263\n",
      " 8913.75829296 8921.36936735 8913.75829296 8913.75829296 8913.75829296\n",
      " 8913.75829296]\n"
     ]
    },
    {
     "name": "stderr",
     "output_type": "stream",
     "text": [
      " 93%|████████████████████████████████████▍  | 2706/2900 [01:36<00:06, 27.98it/s]"
     ]
    },
    {
     "name": "stdout",
     "output_type": "stream",
     "text": [
      "Energy: [8941.55345335 8913.75829296 8926.33706263 8913.75829296 8921.36936735\n",
      " 8913.75829296 8921.36936735 8913.75829296 8913.75829296 8913.75829296\n",
      " 8913.75829296]\n"
     ]
    },
    {
     "name": "stderr",
     "output_type": "stream",
     "text": [
      " 95%|█████████████████████████████████████  | 2754/2900 [01:37<00:05, 27.41it/s]"
     ]
    },
    {
     "name": "stdout",
     "output_type": "stream",
     "text": [
      "Energy: [8913.75829296 8913.75829296 8913.75829296 8913.75829296 8913.75829296\n",
      " 8921.36936735 8913.75829296 8913.75829296 8913.75829296 8913.75829296\n",
      " 8913.75829296]\n"
     ]
    },
    {
     "name": "stderr",
     "output_type": "stream",
     "text": [
      " 97%|█████████████████████████████████████▋ | 2805/2900 [01:39<00:03, 27.78it/s]"
     ]
    },
    {
     "name": "stdout",
     "output_type": "stream",
     "text": [
      "Energy: [8913.75829296 8913.75829296 8921.36936735 8913.75829296 8921.36936735\n",
      " 8913.75829296 8913.75829296 8913.75829296 8913.75829296 8913.75829296\n",
      " 8913.75829296]\n"
     ]
    },
    {
     "name": "stderr",
     "output_type": "stream",
     "text": [
      " 98%|██████████████████████████████████████▍| 2856/2900 [01:41<00:01, 28.23it/s]"
     ]
    },
    {
     "name": "stdout",
     "output_type": "stream",
     "text": [
      "Energy: [8913.75829296 8913.75829296 8921.36936735 8913.75829296 8913.75829296\n",
      " 8913.75829296 8913.75829296 8913.75829296 8913.75829296 8913.75829296\n",
      " 8913.75829296]\n"
     ]
    },
    {
     "name": "stderr",
     "output_type": "stream",
     "text": [
      "100%|███████████████████████████████████████| 2900/2900 [01:43<00:00, 28.13it/s]\n"
     ]
    },
    {
     "name": "stdout",
     "output_type": "stream",
     "text": [
      "Fin Energy_t 8913.75829296335 Energy_gs 8913.75829296335\n",
      "c_accep 0 c_rounds 0\n",
      "Elapsed (after compilation) = 103.0828549861908\n",
      "[[200 207 192 185 183 213 218 216 215 212 217 214]\n",
      " [200 211 192 185 183 213 218 216 215 212 217 214]\n",
      " [200 207 192 185 183 213 218 216 215 212 217 214]\n",
      " [200 207 192 185 183 213 218 216 215 212 217 214]]\n",
      "[[191 186 194 202 205 216 212 215 213 214 218 217]\n",
      " [191 186 194 202 205 216 212 215 213 214 218 217]\n",
      " [191 186 194 202 205 216 212 215 213 214 218 217]\n",
      " [191 186 194 202 205 216 212 215 213 214 218 217]]\n",
      "[[180 204 188 182 183 212 213 214 215 216 217 218]\n",
      " [180 204 188 182 183 212 213 214 215 216 217 218]\n",
      " [180 204 188 182 183 212 213 214 215 216 217 218]\n",
      " [188 204 180 182 183 212 213 214 215 216 217 218]]\n",
      "[[196 205 207 200 199 216 217 213 218 214 215 212]\n",
      " [196 205 211 200 199 216 217 213 218 214 215 212]\n",
      " [196 205 207 200 199 216 217 213 218 214 215 212]\n",
      " [196 205 207 200 199 216 217 213 218 214 215 212]]\n",
      "[[196 205 207 200 199 216 217 213 218 214 215 212]\n",
      " [196 205 211 200 199 216 217 213 218 214 215 212]\n",
      " [196 205 207 200 199 216 217 213 218 214 215 212]\n",
      " [196 205 207 200 199 216 217 213 218 214 215 212]]\n",
      "[[196 205 207 200 199 216 217 213 218 214 215 212]\n",
      " [196 205 207 200 199 216 217 213 218 214 215 212]\n",
      " [196 205 207 200 199 216 217 213 218 214 215 212]\n",
      " [196 205 207 200 199 216 217 213 218 214 215 212]]\n",
      "[[180 204 188 182 183 212 213 214 215 216 217 218]\n",
      " [180 204 188 182 183 212 213 214 215 216 217 218]\n",
      " [180 204 188 182 183 212 213 214 215 216 217 218]\n",
      " [180 204 188 182 183 212 213 214 215 216 217 218]]\n",
      "[[180 204 188 182 183 212 213 214 215 216 217 218]\n",
      " [180 204 188 182 183 212 213 214 215 216 217 218]\n",
      " [180 204 188 182 183 212 213 214 215 216 217 218]\n",
      " [180 204 188 182 183 212 213 214 215 216 217 218]]\n",
      "[[180 204 188 182 183 212 213 214 215 216 217 218]\n",
      " [180 204 188 182 183 212 213 214 215 216 217 218]\n",
      " [180 204 188 182 183 212 213 214 215 216 217 218]\n",
      " [188 204 180 182 183 212 213 214 215 216 217 218]]\n",
      "[[196 205 207 200 199 216 217 213 218 214 215 212]\n",
      " [196 205 211 200 199 216 217 213 218 214 215 212]\n",
      " [196 205 207 200 199 216 217 213 218 214 215 212]\n",
      " [196 205 207 200 199 216 217 213 218 214 215 212]]\n",
      "[[192 182 188 200 181 216 218 212 215 214 217 213]\n",
      " [192 182 188 200 181 216 218 212 215 214 217 213]\n",
      " [192 182 188 200 181 216 218 212 215 214 217 213]\n",
      " [192 182 180 200 181 216 218 212 215 214 217 213]]\n",
      "[[184 207 188 182 204 217 213 214 212 216 218 215]\n",
      " [184 211 188 182 204 217 213 214 212 216 218 215]\n",
      " [184 207 188 182 204 217 213 214 212 216 218 215]\n",
      " [184 207 188 182 204 217 213 214 212 216 218 215]]\n",
      "[[200 207 192 185 183 213 218 216 215 212 217 214]\n",
      " [200 207 192 185 183 213 218 216 215 212 217 214]\n",
      " [200 207 192 185 183 213 218 216 215 212 217 214]\n",
      " [200 207 192 185 183 213 218 216 215 212 217 214]]\n",
      "[[200 207 192 185 183 213 218 216 215 212 217 214]\n",
      " [200 207 192 185 183 213 218 216 215 212 217 214]\n",
      " [200 207 192 185 183 213 218 216 215 212 217 214]\n",
      " [200 207 192 185 183 213 218 216 215 212 217 214]]\n",
      "[[200 207 192 185 183 213 218 216 215 212 217 214]\n",
      " [200 207 192 185 183 213 218 216 215 212 217 214]\n",
      " [200 207 192 185 183 213 218 216 215 212 217 214]\n",
      " [200 207 192 185 183 213 218 216 215 212 217 214]]\n",
      "[[200 207 192 185 183 213 218 216 215 212 217 214]\n",
      " [200 211 192 185 183 213 218 216 215 212 217 214]\n",
      " [200 207 192 185 183 213 218 216 215 212 217 214]\n",
      " [200 207 192 185 183 213 218 216 215 212 217 214]]\n",
      "[[192 182 188 200 181 216 218 212 215 214 217 213]\n",
      " [192 182 188 200 181 216 218 212 215 214 217 213]\n",
      " [192 182 188 200 181 216 218 212 215 214 217 213]\n",
      " [192 182 188 200 181 216 218 212 215 214 217 213]]\n",
      "[[196 205 207 200 199 216 217 213 218 214 215 212]\n",
      " [196 205 207 200 199 216 217 213 218 214 215 212]\n",
      " [196 205 207 200 199 216 217 213 218 214 215 212]\n",
      " [196 205 207 200 199 216 217 213 218 214 215 212]]\n",
      "[[192 182 188 200 181 216 218 212 215 214 217 213]\n",
      " [192 182 188 200 181 216 218 212 215 214 217 213]\n",
      " [192 182 188 200 181 216 218 212 215 214 217 213]\n",
      " [192 182 188 200 181 216 218 212 215 214 217 213]]\n",
      "[[196 205 207 200 199 216 217 213 218 214 215 212]\n",
      " [196 205 207 200 199 216 217 213 218 214 215 212]\n",
      " [196 205 207 200 199 216 217 213 218 214 215 212]\n",
      " [196 205 207 200 199 216 217 213 218 214 215 212]]\n",
      "[[196 205 207 200 199 216 217 213 218 214 215 212]\n",
      " [196 205 211 200 199 216 217 213 218 214 215 212]\n",
      " [196 205 207 200 199 216 217 213 218 214 215 212]\n",
      " [196 205 207 200 199 216 217 213 218 214 215 212]]\n",
      "[[192 182 188 200 181 216 218 212 215 214 217 213]\n",
      " [192 182 188 200 181 216 218 212 215 214 217 213]\n",
      " [192 182 188 200 181 216 218 212 215 214 217 213]\n",
      " [192 182 180 200 181 216 218 212 215 214 217 213]]\n",
      "[[192 182 188 200 181 216 218 212 215 214 217 213]\n",
      " [192 182 188 200 181 216 218 212 215 214 217 213]\n",
      " [192 182 188 200 181 216 218 212 215 214 217 213]\n",
      " [192 182 180 200 181 216 218 212 215 214 217 213]]\n",
      "[[196 205 207 200 199 216 217 213 218 214 215 212]\n",
      " [196 205 207 200 199 216 217 213 218 214 215 212]\n",
      " [196 205 207 200 199 216 217 213 218 214 215 212]\n",
      " [196 205 207 200 199 216 217 213 218 214 215 212]]\n",
      "[[196 205 207 200 199 216 217 213 218 214 215 212]\n",
      " [196 205 207 200 199 216 217 213 218 214 215 212]\n",
      " [196 205 207 200 199 216 217 213 218 214 215 212]\n",
      " [196 205 207 200 199 216 217 213 218 214 215 212]]\n",
      "[[196 205 207 200 199 216 217 213 218 214 215 212]\n",
      " [196 205 211 200 199 216 217 213 218 214 215 212]\n",
      " [196 205 207 200 199 216 217 213 218 214 215 212]\n",
      " [196 205 207 200 199 216 217 213 218 214 215 212]]\n",
      "[[184 207 188 182 204 217 213 214 212 216 218 215]\n",
      " [184 207 188 182 204 217 213 214 212 216 218 215]\n",
      " [184 207 188 182 204 217 213 214 212 216 218 215]\n",
      " [184 207 188 182 204 217 213 214 212 216 218 215]]\n",
      "[[196 205 207 200 199 216 217 213 218 214 215 212]\n",
      " [196 205 207 200 199 216 217 213 218 214 215 212]\n",
      " [196 205 207 200 199 216 217 213 218 214 215 212]\n",
      " [196 205 207 200 199 216 217 213 218 214 215 212]]\n",
      "[[181 186 199 201 182 218 213 212 216 214 217 215]\n",
      " [181 186 199 201 182 218 213 212 216 214 217 215]\n",
      " [181 186 199 201 182 218 213 212 216 214 217 215]\n",
      " [181 186 199 201 182 218 213 212 216 214 217 215]]\n",
      "[[181 186 199 201 182 218 213 212 216 214 217 215]\n",
      " [181 186 199 201 182 218 213 212 216 214 217 215]\n",
      " [181 186 199 201 182 218 213 212 216 214 217 215]\n",
      " [181 186 199 201 182 218 213 212 216 214 217 215]]\n",
      "[[184 207 188 182 204 217 213 214 212 216 218 215]\n",
      " [184 211 188 182 204 217 213 214 212 216 218 215]\n",
      " [184 207 188 182 204 217 213 214 212 216 218 215]\n",
      " [184 207 180 182 204 217 213 214 212 216 218 215]]\n",
      "[[192 182 188 200 181 216 218 212 215 214 217 213]\n",
      " [192 182 188 200 181 216 218 212 215 214 217 213]\n",
      " [192 182 188 200 181 216 218 212 215 214 217 213]\n",
      " [192 182 188 200 181 216 218 212 215 214 217 213]]\n",
      "[[192 182 188 200 181 216 218 212 215 214 217 213]\n",
      " [192 182 188 200 181 216 218 212 215 214 217 213]\n",
      " [192 182 188 200 181 216 218 212 215 214 217 213]\n",
      " [192 182 188 200 181 216 218 212 215 214 217 213]]\n",
      "[[192 182 188 200 181 216 218 212 215 214 217 213]\n",
      " [192 182 188 200 181 216 218 212 215 214 217 213]\n",
      " [192 182 188 200 181 216 218 212 215 214 217 213]\n",
      " [192 182 188 200 181 216 218 212 215 214 217 213]]\n",
      "[[196 205 207 200 199 216 217 213 218 214 215 212]\n",
      " [196 205 207 200 199 216 217 213 218 214 215 212]\n",
      " [196 205 207 200 199 216 217 213 218 214 215 212]\n",
      " [196 205 207 200 199 216 217 213 218 214 215 212]]\n",
      "[[180 204 188 182 183 212 213 214 215 216 217 218]\n",
      " [180 204 188 182 183 212 213 214 215 216 217 218]\n",
      " [180 204 188 182 183 212 213 214 215 216 217 218]\n",
      " [188 204 180 182 183 212 213 214 215 216 217 218]]\n",
      "[[196 205 207 200 199 216 217 213 218 214 215 212]\n",
      " [196 205 207 200 199 216 217 213 218 214 215 212]\n",
      " [196 205 207 200 199 216 217 213 218 214 215 212]\n",
      " [196 205 207 200 199 216 217 213 218 214 215 212]]\n",
      "[[196 205 207 200 199 216 217 213 218 214 215 212]\n",
      " [196 205 207 200 199 216 217 213 218 214 215 212]\n",
      " [196 205 207 200 199 216 217 213 218 214 215 212]\n",
      " [196 205 207 200 199 216 217 213 218 214 215 212]]\n",
      "[[196 205 207 200 199 216 217 213 218 214 215 212]\n",
      " [196 205 207 200 199 216 217 213 218 214 215 212]\n",
      " [196 205 207 200 199 216 217 213 218 214 215 212]\n",
      " [196 205 207 200 199 216 217 213 218 214 215 212]]\n",
      "[0.99086758] [1.]\n",
      "i_reps 9\n",
      "Energía ini: 34413.02033662292 /gs: 8992.10747595485\n"
     ]
    },
    {
     "name": "stderr",
     "output_type": "stream",
     "text": [
      " 31%|████████████▍                           | 906/2900 [00:31<01:09, 28.72it/s]"
     ]
    },
    {
     "name": "stdout",
     "output_type": "stream",
     "text": [
      "Energy: [9474.61944361 9230.55699111 8997.06675393 8992.10747595 8992.10747595\n",
      " 9002.31437799 9163.27977605 8992.10747595 8992.10747595 8992.10747595\n",
      " 8992.10747595]\n"
     ]
    },
    {
     "name": "stderr",
     "output_type": "stream",
     "text": [
      " 33%|█████████████▏                          | 954/2900 [00:33<01:06, 29.17it/s]"
     ]
    },
    {
     "name": "stdout",
     "output_type": "stream",
     "text": [
      "Energy: [9474.61944361 9230.55699111 8992.10747595 8992.10747595 8992.10747595\n",
      " 8992.10747595 8992.10747595 8992.10747595 8992.10747595 8992.10747595\n",
      " 8992.10747595]\n"
     ]
    },
    {
     "name": "stderr",
     "output_type": "stream",
     "text": [
      " 35%|█████████████▌                         | 1005/2900 [00:35<01:04, 29.26it/s]"
     ]
    },
    {
     "name": "stdout",
     "output_type": "stream",
     "text": [
      "Energy: [9486.95311816 8997.06675393 8992.10747595 8992.10747595 8992.10747595\n",
      " 8992.10747595 8992.10747595 8992.10747595 8992.10747595 8992.10747595\n",
      " 8992.10747595]\n"
     ]
    },
    {
     "name": "stderr",
     "output_type": "stream",
     "text": [
      " 36%|██████████████▏                        | 1056/2900 [00:37<01:03, 29.15it/s]"
     ]
    },
    {
     "name": "stdout",
     "output_type": "stream",
     "text": [
      "Energy: [9328.03304127 8992.10747595 8997.06675393 8997.06675393 8992.10747595\n",
      " 8997.06675393 8992.10747595 8992.10747595 8992.10747595 8992.10747595\n",
      " 8992.10747595]\n"
     ]
    },
    {
     "name": "stderr",
     "output_type": "stream",
     "text": [
      " 38%|██████████████▊                        | 1104/2900 [00:38<01:02, 28.75it/s]"
     ]
    },
    {
     "name": "stdout",
     "output_type": "stream",
     "text": [
      "Energy: [9345.32018415 8999.69711621 8992.10747595 8992.10747595 8997.06675393\n",
      " 8992.10747595 8992.10747595 8992.10747595 8992.10747595 8992.10747595\n",
      " 8992.10747595]\n"
     ]
    },
    {
     "name": "stderr",
     "output_type": "stream",
     "text": [
      " 40%|███████████████▌                       | 1155/2900 [00:40<01:04, 27.26it/s]"
     ]
    },
    {
     "name": "stdout",
     "output_type": "stream",
     "text": [
      "Energy: [9340.43625887 8992.10747595 9012.24554741 8992.10747595 8992.10747595\n",
      " 8992.10747595 8992.10747595 8992.10747595 8992.10747595 8992.10747595\n",
      " 8992.10747595]\n"
     ]
    },
    {
     "name": "stderr",
     "output_type": "stream",
     "text": [
      " 42%|████████████████▏                      | 1206/2900 [00:42<00:57, 29.52it/s]"
     ]
    },
    {
     "name": "stdout",
     "output_type": "stream",
     "text": [
      "Energy: [9340.43625887 8999.69711621 8992.10747595 8997.06675393 8992.10747595\n",
      " 8992.10747595 8992.10747595 8992.10747595 8992.10747595 8992.10747595\n",
      " 8992.10747595]\n"
     ]
    },
    {
     "name": "stderr",
     "output_type": "stream",
     "text": [
      " 43%|████████████████▊                      | 1254/2900 [00:44<00:56, 29.24it/s]"
     ]
    },
    {
     "name": "stdout",
     "output_type": "stream",
     "text": [
      "Energy: [9328.03304127 8997.06675393 8992.10747595 8997.06675393 8992.10747595\n",
      " 8999.69711621 8992.10747595 8992.10747595 8992.10747595 8992.10747595\n",
      " 8992.10747595]\n"
     ]
    },
    {
     "name": "stderr",
     "output_type": "stream",
     "text": [
      " 45%|█████████████████▌                     | 1305/2900 [00:45<00:54, 29.16it/s]"
     ]
    },
    {
     "name": "stdout",
     "output_type": "stream",
     "text": [
      "Energy: [8992.10747595 9007.28415355 8992.10747595 9004.65745377 8997.06675393\n",
      " 8992.10747595 8992.10747595 8992.10747595 8992.10747595 8992.10747595\n",
      " 8992.10747595]\n"
     ]
    },
    {
     "name": "stderr",
     "output_type": "stream",
     "text": [
      " 47%|██████████████████▏                    | 1356/2900 [00:47<00:52, 29.36it/s]"
     ]
    },
    {
     "name": "stdout",
     "output_type": "stream",
     "text": [
      "Energy: [8992.10747595 9012.24554741 8992.10747595 8997.06675393 8992.10747595\n",
      " 8992.10747595 8992.10747595 8992.10747595 8992.10747595 8992.10747595\n",
      " 8992.10747595]\n"
     ]
    },
    {
     "name": "stderr",
     "output_type": "stream",
     "text": [
      " 48%|██████████████████▉                    | 1404/2900 [00:49<00:51, 29.11it/s]"
     ]
    },
    {
     "name": "stdout",
     "output_type": "stream",
     "text": [
      "Energy: [9007.28415355 8992.10747595 8992.10747595 8992.10747595 8992.10747595\n",
      " 8992.10747595 8992.10747595 8992.10747595 8992.10747595 8992.10747595\n",
      " 8992.10747595]\n"
     ]
    },
    {
     "name": "stderr",
     "output_type": "stream",
     "text": [
      " 50%|███████████████████▌                   | 1455/2900 [00:50<00:51, 28.23it/s]"
     ]
    },
    {
     "name": "stdout",
     "output_type": "stream",
     "text": [
      "Energy: [8999.69711621 9007.28415355 8992.10747595 8992.10747595 8992.10747595\n",
      " 8992.10747595 8997.06675393 8992.10747595 8992.10747595 8992.10747595\n",
      " 8992.10747595]\n"
     ]
    },
    {
     "name": "stderr",
     "output_type": "stream",
     "text": [
      " 52%|████████████████████▎                  | 1506/2900 [00:52<00:50, 27.61it/s]"
     ]
    },
    {
     "name": "stdout",
     "output_type": "stream",
     "text": [
      "Energy: [8999.69711621 9004.65745377 8992.10747595 8992.10747595 8992.10747595\n",
      " 8992.10747595 8992.10747595 8992.10747595 8992.10747595 8992.10747595\n",
      " 8992.10747595]\n"
     ]
    },
    {
     "name": "stderr",
     "output_type": "stream",
     "text": [
      " 54%|████████████████████▉                  | 1554/2900 [00:54<00:48, 27.79it/s]"
     ]
    },
    {
     "name": "stdout",
     "output_type": "stream",
     "text": [
      "Energy: [8997.06675393 8992.10747595 8992.10747595 8992.10747595 8992.10747595\n",
      " 8992.10747595 8992.10747595 8992.10747595 8992.10747595 8992.10747595\n",
      " 8992.10747595]\n"
     ]
    },
    {
     "name": "stderr",
     "output_type": "stream",
     "text": [
      " 55%|█████████████████████▌                 | 1605/2900 [00:56<00:44, 29.31it/s]"
     ]
    },
    {
     "name": "stdout",
     "output_type": "stream",
     "text": [
      "Energy: [8992.10747595 8992.10747595 8992.10747595 8992.10747595 8992.10747595\n",
      " 8992.10747595 8992.10747595 8992.10747595 8992.10747595 8992.10747595\n",
      " 8992.10747595]\n"
     ]
    },
    {
     "name": "stderr",
     "output_type": "stream",
     "text": [
      " 57%|██████████████████████▎                | 1656/2900 [00:58<00:42, 29.15it/s]"
     ]
    },
    {
     "name": "stdout",
     "output_type": "stream",
     "text": [
      "Energy: [9007.28415355 8992.10747595 8992.10747595 8992.10747595 9007.28415355\n",
      " 8992.10747595 8992.10747595 8992.10747595 8992.10747595 8992.10747595\n",
      " 8992.10747595]\n"
     ]
    },
    {
     "name": "stderr",
     "output_type": "stream",
     "text": [
      " 59%|██████████████████████▉                | 1704/2900 [00:59<00:41, 28.56it/s]"
     ]
    },
    {
     "name": "stdout",
     "output_type": "stream",
     "text": [
      "Energy: [8997.06675393 8992.10747595 8992.10747595 8992.10747595 8997.06675393\n",
      " 8997.06675393 8992.10747595 8992.10747595 8992.10747595 8992.10747595\n",
      " 8992.10747595]\n"
     ]
    },
    {
     "name": "stderr",
     "output_type": "stream",
     "text": [
      " 61%|███████████████████████▌               | 1755/2900 [01:01<00:38, 29.36it/s]"
     ]
    },
    {
     "name": "stdout",
     "output_type": "stream",
     "text": [
      "Energy: [8992.10747595 8992.10747595 8992.10747595 8992.10747595 8992.10747595\n",
      " 8997.06675393 8992.10747595 8992.10747595 8992.10747595 8992.10747595\n",
      " 8992.10747595]\n"
     ]
    },
    {
     "name": "stderr",
     "output_type": "stream",
     "text": [
      " 62%|████████████████████████▎              | 1806/2900 [01:03<00:40, 26.99it/s]"
     ]
    },
    {
     "name": "stdout",
     "output_type": "stream",
     "text": [
      "Energy: [8999.69711621 8997.06675393 8992.10747595 8992.10747595 8992.10747595\n",
      " 8999.69711621 8992.10747595 8992.10747595 8992.10747595 8992.10747595\n",
      " 8992.10747595]\n"
     ]
    },
    {
     "name": "stderr",
     "output_type": "stream",
     "text": [
      " 64%|████████████████████████▉              | 1854/2900 [01:05<00:36, 28.38it/s]"
     ]
    },
    {
     "name": "stdout",
     "output_type": "stream",
     "text": [
      "Energy: [8992.10747595 8992.10747595 8992.10747595 8997.06675393 8997.06675393\n",
      " 8992.10747595 8992.10747595 8992.10747595 8999.69711621 8992.10747595\n",
      " 8992.10747595]\n"
     ]
    },
    {
     "name": "stderr",
     "output_type": "stream",
     "text": [
      " 66%|█████████████████████████▌             | 1905/2900 [01:06<00:34, 28.77it/s]"
     ]
    },
    {
     "name": "stdout",
     "output_type": "stream",
     "text": [
      "Energy: [8992.10747595 8999.69711621 8999.69711621 8992.10747595 8992.10747595\n",
      " 9004.65745377 8992.10747595 8992.10747595 8992.10747595 8992.10747595\n",
      " 8992.10747595]\n"
     ]
    },
    {
     "name": "stderr",
     "output_type": "stream",
     "text": [
      " 67%|██████████████████████████▎            | 1956/2900 [01:08<00:33, 28.10it/s]"
     ]
    },
    {
     "name": "stdout",
     "output_type": "stream",
     "text": [
      "Energy: [8999.69711621 8999.69711621 8997.06675393 8992.10747595 8992.10747595\n",
      " 8997.06675393 8992.10747595 8992.10747595 8992.10747595 8992.10747595\n",
      " 8992.10747595]\n"
     ]
    },
    {
     "name": "stderr",
     "output_type": "stream",
     "text": [
      " 69%|██████████████████████████▉            | 2004/2900 [01:10<00:30, 29.28it/s]"
     ]
    },
    {
     "name": "stdout",
     "output_type": "stream",
     "text": [
      "Energy: [9014.86859119 8997.06675393 8992.10747595 8992.10747595 8992.10747595\n",
      " 8997.06675393 9004.65745377 8992.10747595 8992.10747595 8992.10747595\n",
      " 8992.10747595]\n"
     ]
    },
    {
     "name": "stderr",
     "output_type": "stream",
     "text": [
      " 71%|███████████████████████████▋           | 2055/2900 [01:12<00:28, 29.29it/s]"
     ]
    },
    {
     "name": "stdout",
     "output_type": "stream",
     "text": [
      "Energy: [9004.65745377 9014.86859119 8997.06675393 8992.10747595 8992.10747595\n",
      " 8992.10747595 8992.10747595 8992.10747595 8992.10747595 8992.10747595\n",
      " 8992.10747595]\n"
     ]
    },
    {
     "name": "stderr",
     "output_type": "stream",
     "text": [
      " 73%|████████████████████████████▎          | 2106/2900 [01:13<00:27, 28.70it/s]"
     ]
    },
    {
     "name": "stdout",
     "output_type": "stream",
     "text": [
      "Energy: [9014.86859119 9004.65745377 9004.65745377 8992.10747595 8999.69711621\n",
      " 8992.10747595 8997.06675393 8992.10747595 8992.10747595 8992.10747595\n",
      " 8992.10747595]\n"
     ]
    },
    {
     "name": "stderr",
     "output_type": "stream",
     "text": [
      " 74%|████████████████████████████▉          | 2154/2900 [01:15<00:26, 28.25it/s]"
     ]
    },
    {
     "name": "stdout",
     "output_type": "stream",
     "text": [
      "Energy: [8992.10747595 8992.10747595 8992.10747595 8997.06675393 9004.65745377\n",
      " 8992.10747595 8992.10747595 8992.10747595 8992.10747595 8992.10747595\n",
      " 8992.10747595]\n"
     ]
    },
    {
     "name": "stderr",
     "output_type": "stream",
     "text": [
      " 76%|█████████████████████████████▋         | 2205/2900 [01:17<00:24, 28.46it/s]"
     ]
    },
    {
     "name": "stdout",
     "output_type": "stream",
     "text": [
      "Energy: [8992.10747595 8992.10747595 8992.10747595 8997.06675393 8992.10747595\n",
      " 8997.06675393 8992.10747595 8992.10747595 8992.10747595 8992.10747595\n",
      " 8992.10747595]\n"
     ]
    },
    {
     "name": "stderr",
     "output_type": "stream",
     "text": [
      " 78%|██████████████████████████████▎        | 2256/2900 [01:19<00:23, 26.92it/s]"
     ]
    },
    {
     "name": "stdout",
     "output_type": "stream",
     "text": [
      "Energy: [8992.10747595 9004.65745377 8992.10747595 8992.10747595 8992.10747595\n",
      " 8997.06675393 8992.10747595 8992.10747595 8992.10747595 8992.10747595\n",
      " 8992.10747595]\n"
     ]
    },
    {
     "name": "stderr",
     "output_type": "stream",
     "text": [
      " 79%|██████████████████████████████▉        | 2304/2900 [01:20<00:22, 26.53it/s]"
     ]
    },
    {
     "name": "stdout",
     "output_type": "stream",
     "text": [
      "Energy: [9017.47857967 8992.10747595 8992.10747595 8992.10747595 8992.10747595\n",
      " 8992.10747595 8997.06675393 8992.10747595 8997.06675393 8992.10747595\n",
      " 8992.10747595]\n"
     ]
    },
    {
     "name": "stderr",
     "output_type": "stream",
     "text": [
      " 81%|███████████████████████████████▋       | 2355/2900 [01:22<00:18, 29.13it/s]"
     ]
    },
    {
     "name": "stdout",
     "output_type": "stream",
     "text": [
      "Energy: [8999.69711621 9007.28415355 8992.10747595 8992.10747595 8992.10747595\n",
      " 8997.06675393 8992.10747595 8992.10747595 8992.10747595 8992.10747595\n",
      " 8992.10747595]\n"
     ]
    },
    {
     "name": "stderr",
     "output_type": "stream",
     "text": [
      " 83%|████████████████████████████████▎      | 2406/2900 [01:24<00:16, 29.31it/s]"
     ]
    },
    {
     "name": "stdout",
     "output_type": "stream",
     "text": [
      "Energy: [9030.02968028 8999.69711621 8992.10747595 8997.06675393 8992.10747595\n",
      " 8992.10747595 8992.10747595 8992.10747595 8992.10747595 8992.10747595\n",
      " 8992.10747595]\n"
     ]
    },
    {
     "name": "stderr",
     "output_type": "stream",
     "text": [
      " 85%|█████████████████████████████████      | 2454/2900 [01:26<00:16, 27.65it/s]"
     ]
    },
    {
     "name": "stdout",
     "output_type": "stream",
     "text": [
      "Energy: [8992.10747595 9014.86859119 8992.10747595 8992.10747595 8999.69711621\n",
      " 8992.10747595 8992.10747595 8992.10747595 8992.10747595 8992.10747595\n",
      " 8992.10747595]\n"
     ]
    },
    {
     "name": "stderr",
     "output_type": "stream",
     "text": [
      " 86%|█████████████████████████████████▋     | 2505/2900 [01:27<00:14, 28.09it/s]"
     ]
    },
    {
     "name": "stdout",
     "output_type": "stream",
     "text": [
      "Energy: [8999.69711621 8997.06675393 8999.69711621 8999.69711621 8997.06675393\n",
      " 8992.10747595 8992.10747595 8992.10747595 8992.10747595 8992.10747595\n",
      " 8992.10747595]\n"
     ]
    },
    {
     "name": "stderr",
     "output_type": "stream",
     "text": [
      " 88%|██████████████████████████████████▎    | 2556/2900 [01:29<00:11, 29.33it/s]"
     ]
    },
    {
     "name": "stdout",
     "output_type": "stream",
     "text": [
      "Energy: [9007.28415355 8999.69711621 9004.65745377 8992.10747595 8992.10747595\n",
      " 8992.10747595 8992.10747595 8992.10747595 8992.10747595 8992.10747595\n",
      " 8992.10747595]\n"
     ]
    },
    {
     "name": "stderr",
     "output_type": "stream",
     "text": [
      " 90%|███████████████████████████████████    | 2604/2900 [01:31<00:10, 29.27it/s]"
     ]
    },
    {
     "name": "stdout",
     "output_type": "stream",
     "text": [
      "Energy: [8997.06675393 8992.10747595 8992.10747595 8997.06675393 8992.10747595\n",
      " 8992.10747595 8992.10747595 8992.10747595 8992.10747595 8992.10747595\n",
      " 8992.10747595]\n"
     ]
    },
    {
     "name": "stderr",
     "output_type": "stream",
     "text": [
      " 92%|███████████████████████████████████▋   | 2655/2900 [01:33<00:08, 29.37it/s]"
     ]
    },
    {
     "name": "stdout",
     "output_type": "stream",
     "text": [
      "Energy: [8992.10747595 8992.10747595 8992.10747595 8992.10747595 8992.10747595\n",
      " 8999.69711621 8992.10747595 8992.10747595 8992.10747595 8992.10747595\n",
      " 8992.10747595]\n"
     ]
    },
    {
     "name": "stderr",
     "output_type": "stream",
     "text": [
      " 93%|████████████████████████████████████▍  | 2706/2900 [01:34<00:06, 28.42it/s]"
     ]
    },
    {
     "name": "stdout",
     "output_type": "stream",
     "text": [
      "Energy: [8999.69711621 8992.10747595 8992.10747595 8992.10747595 8999.69711621\n",
      " 8992.10747595 8992.10747595 8992.10747595 8992.10747595 8992.10747595\n",
      " 8992.10747595]\n"
     ]
    },
    {
     "name": "stderr",
     "output_type": "stream",
     "text": [
      " 95%|█████████████████████████████████████  | 2754/2900 [01:36<00:05, 28.96it/s]"
     ]
    },
    {
     "name": "stdout",
     "output_type": "stream",
     "text": [
      "Energy: [9004.65745377 8992.10747595 8997.06675393 8999.69711621 8992.10747595\n",
      " 8992.10747595 8997.06675393 8992.10747595 8997.06675393 8992.10747595\n",
      " 8992.10747595]\n"
     ]
    },
    {
     "name": "stderr",
     "output_type": "stream",
     "text": [
      " 97%|█████████████████████████████████████▋ | 2805/2900 [01:38<00:03, 28.25it/s]"
     ]
    },
    {
     "name": "stdout",
     "output_type": "stream",
     "text": [
      "Energy: [9022.45043236 8992.10747595 8992.10747595 8992.10747595 8992.10747595\n",
      " 8992.10747595 8992.10747595 8992.10747595 8992.10747595 8992.10747595\n",
      " 8992.10747595]\n"
     ]
    },
    {
     "name": "stderr",
     "output_type": "stream",
     "text": [
      " 98%|██████████████████████████████████████▍| 2856/2900 [01:40<00:01, 28.30it/s]"
     ]
    },
    {
     "name": "stdout",
     "output_type": "stream",
     "text": [
      "Energy: [8992.10747595 8997.06675393 8992.10747595 9004.65745377 8992.10747595\n",
      " 8992.10747595 9002.31437799 8992.10747595 8992.10747595 8992.10747595\n",
      " 8992.10747595]\n"
     ]
    },
    {
     "name": "stderr",
     "output_type": "stream",
     "text": [
      "100%|███████████████████████████████████████| 2900/2900 [01:41<00:00, 28.54it/s]\n"
     ]
    },
    {
     "name": "stdout",
     "output_type": "stream",
     "text": [
      "Fin Energy_t 8992.10747595485 Energy_gs 8992.10747595485\n",
      "c_accep 0 c_rounds 0\n",
      "Elapsed (after compilation) = 101.6017575263977\n",
      "[[182 206 180 194 196 214 217 218 215 213 212 216]\n",
      " [182 206 180 194 196 214 217 218 215 213 212 216]\n",
      " [182 206 180 194 196 214 217 218 215 213 212 216]\n",
      " [182 206 180 194 196 214 217 218 215 213 212 216]]\n",
      "[[182 206 180 194 196 214 217 218 215 213 212 216]\n",
      " [182 206 180 194 196 214 217 218 215 213 212 216]\n",
      " [182 206 180 194 196 214 217 218 215 213 212 216]\n",
      " [182 206 180 194 196 214 217 218 215 213 212 216]]\n",
      "[[185 194 202 204 188 213 214 217 215 218 216 212]\n",
      " [185 194 202 204 188 213 214 217 215 218 216 212]\n",
      " [185 194 202 204 188 213 214 217 215 218 216 212]\n",
      " [185 194 202 204 188 213 214 217 215 218 216 212]]\n",
      "[[185 194 202 204 188 213 214 217 215 218 216 212]\n",
      " [185 194 202 204 188 213 214 217 215 218 216 212]\n",
      " [185 194 202 204 188 213 214 217 215 218 216 212]\n",
      " [185 194 202 204 188 213 214 217 215 218 216 212]]\n",
      "[[203 194 182 183 186 212 213 214 215 218 216 217]\n",
      " [203 194 182 183 186 212 213 214 215 218 216 217]\n",
      " [203 194 182 183 186 212 213 214 215 218 216 217]\n",
      " [203 194 182 183 186 212 213 214 215 218 216 217]]\n",
      "[[203 194 182 183 186 212 213 214 215 218 216 217]\n",
      " [203 194 182 183 186 212 213 214 215 218 216 217]\n",
      " [203 194 182 183 186 212 213 214 215 218 216 217]\n",
      " [203 194 182 183 186 212 213 214 215 218 216 217]]\n",
      "[[182 208 198 184 211 213 216 217 215 214 212 218]\n",
      " [182 210 198 184 211 213 216 217 215 214 212 218]\n",
      " [182 210 198 184 211 213 216 217 215 214 212 218]\n",
      " [182 210 198 184 211 213 216 217 215 214 212 218]]\n",
      "[[182 208 198 184 211 213 216 217 215 214 212 218]\n",
      " [182 208 198 184 211 213 216 217 215 214 212 218]\n",
      " [182 210 198 184 211 213 216 217 215 214 212 218]\n",
      " [182 208 198 184 211 213 216 217 215 214 212 218]]\n",
      "[[185 194 202 204 188 213 214 217 215 218 216 212]\n",
      " [185 194 202 204 188 213 214 217 215 218 216 212]\n",
      " [185 194 202 204 188 213 214 217 215 218 216 212]\n",
      " [185 194 202 204 188 213 214 217 215 218 216 212]]\n",
      "[[185 194 202 204 188 213 214 217 215 218 216 212]\n",
      " [185 194 202 204 188 213 214 217 215 218 216 212]\n",
      " [185 194 202 204 188 213 214 217 215 218 216 212]\n",
      " [185 194 202 204 188 213 214 217 215 218 216 212]]\n",
      "[[203 194 182 183 186 212 213 214 215 218 216 217]\n",
      " [203 194 182 183 186 212 213 214 215 218 216 217]\n",
      " [203 194 182 183 186 212 213 214 215 218 216 217]\n",
      " [203 194 182 183 186 212 213 214 215 218 216 217]]\n",
      "[[185 194 202 204 188 213 214 217 215 218 216 212]\n",
      " [185 194 202 204 188 213 214 217 215 218 216 212]\n",
      " [185 194 202 204 188 213 214 217 215 218 216 212]\n",
      " [185 194 202 204 188 213 214 217 215 218 216 212]]\n",
      "[[203 194 182 183 186 212 213 214 215 218 216 217]\n",
      " [203 194 182 183 186 212 213 214 215 218 216 217]\n",
      " [203 194 182 183 186 212 213 214 215 218 216 217]\n",
      " [203 194 182 183 186 212 213 214 215 218 216 217]]\n",
      "[[203 194 182 183 186 212 213 214 215 218 216 217]\n",
      " [203 194 182 183 186 212 213 214 215 218 216 217]\n",
      " [203 194 182 183 186 212 213 214 215 218 216 217]\n",
      " [203 194 182 183 186 212 213 214 215 218 216 217]]\n",
      "[[203 194 182 183 186 212 213 214 215 218 216 217]\n",
      " [203 194 182 183 186 212 213 214 215 218 216 217]\n",
      " [203 194 182 183 186 212 213 214 215 218 216 217]\n",
      " [203 194 182 183 186 212 213 214 215 218 216 217]]\n",
      "[[203 194 182 183 186 212 213 214 215 218 216 217]\n",
      " [203 194 182 183 186 212 213 214 215 218 216 217]\n",
      " [203 194 182 183 186 212 213 214 215 218 216 217]\n",
      " [203 194 182 183 186 212 213 214 215 218 216 217]]\n",
      "[[182 208 198 184 211 213 216 217 215 214 212 218]\n",
      " [182 208 198 184 211 213 216 217 215 214 212 218]\n",
      " [182 210 198 184 211 213 216 217 215 214 212 218]\n",
      " [182 208 198 184 211 213 216 217 215 214 212 218]]\n",
      "[[182 210 198 184 211 213 216 217 215 214 212 218]\n",
      " [182 208 198 184 211 213 216 217 215 214 212 218]\n",
      " [182 210 198 184 211 213 216 217 215 214 212 218]\n",
      " [182 208 198 184 211 213 216 217 215 214 212 218]]\n",
      "[[203 194 182 183 186 212 213 214 215 218 216 217]\n",
      " [203 194 182 183 186 212 213 214 215 218 216 217]\n",
      " [203 194 182 183 186 212 213 214 215 218 216 217]\n",
      " [203 194 182 183 186 212 213 214 215 218 216 217]]\n",
      "[[203 194 182 183 186 212 213 214 215 218 216 217]\n",
      " [203 194 182 183 186 212 213 214 215 218 216 217]\n",
      " [203 194 182 183 186 212 213 214 215 218 216 217]\n",
      " [203 194 182 183 186 212 213 214 215 218 216 217]]\n",
      "[[207 187 210 200 204 217 216 218 214 213 212 215]\n",
      " [207 187 208 200 204 217 216 218 214 213 212 215]\n",
      " [207 187 210 200 204 217 216 218 214 213 212 215]\n",
      " [207 187 210 200 204 217 216 218 214 213 212 215]]\n",
      "[[185 194 202 204 188 213 214 217 215 218 216 212]\n",
      " [185 194 202 204 188 213 214 217 215 218 216 212]\n",
      " [185 194 202 204 188 213 214 217 215 218 216 212]\n",
      " [185 194 202 204 188 213 214 217 215 218 216 212]]\n",
      "[[194 205 191 201 196 214 212 218 215 213 216 217]\n",
      " [194 205 191 201 196 214 212 218 215 213 216 217]\n",
      " [194 205 191 201 196 214 212 218 215 213 216 217]\n",
      " [194 205 191 201 196 214 212 218 215 213 216 217]]\n",
      "[[194 205 191 201 196 214 212 218 215 213 216 217]\n",
      " [194 205 191 201 196 214 212 218 215 213 216 217]\n",
      " [194 205 191 201 196 214 212 218 215 213 216 217]\n",
      " [194 205 191 201 196 214 212 218 215 213 216 217]]\n",
      "[[194 205 191 201 196 214 212 218 215 213 216 217]\n",
      " [194 205 191 201 196 214 212 218 215 213 216 217]\n",
      " [194 205 191 201 196 214 212 218 215 213 216 217]\n",
      " [194 205 191 201 196 214 212 218 215 213 216 217]]\n",
      "[[194 205 191 201 196 214 212 218 215 213 216 217]\n",
      " [194 205 191 201 196 214 212 218 215 213 216 217]\n",
      " [194 205 191 201 196 214 212 218 215 213 216 217]\n",
      " [194 205 191 201 196 214 212 218 215 213 216 217]]\n",
      "[[194 205 191 201 196 214 212 218 215 213 216 217]\n",
      " [194 205 191 201 196 214 212 218 215 213 216 217]\n",
      " [194 205 191 201 196 214 212 218 215 213 216 217]\n",
      " [194 205 191 201 196 214 212 218 215 213 216 217]]\n",
      "[[203 194 182 183 186 212 213 214 215 218 216 217]\n",
      " [203 194 182 183 186 212 213 214 215 218 216 217]\n",
      " [203 194 182 183 186 212 213 214 215 218 216 217]\n",
      " [203 194 182 183 186 212 213 214 215 218 216 217]]\n",
      "[[207 187 208 200 204 217 216 218 214 213 212 215]\n",
      " [207 187 208 200 204 217 216 218 214 213 212 215]\n",
      " [207 187 208 200 204 217 216 218 214 213 212 215]\n",
      " [207 187 208 200 204 217 216 218 214 213 212 215]]\n",
      "[[207 187 208 200 204 217 216 218 214 213 212 215]\n",
      " [207 187 210 200 204 217 216 218 214 213 212 215]\n",
      " [207 187 210 200 204 217 216 218 214 213 212 215]\n",
      " [207 187 208 200 204 217 216 218 214 213 212 215]]\n",
      "[[207 187 208 200 204 217 216 218 214 213 212 215]\n",
      " [207 187 210 200 204 217 216 218 214 213 212 215]\n",
      " [207 187 210 200 204 217 216 218 214 213 212 215]\n",
      " [207 187 210 200 204 217 216 218 214 213 212 215]]\n",
      "[[207 187 208 200 204 217 216 218 214 213 212 215]\n",
      " [207 187 210 200 204 217 216 218 214 213 212 215]\n",
      " [207 187 210 200 204 217 216 218 214 213 212 215]\n",
      " [207 187 208 200 204 217 216 218 214 213 212 215]]\n",
      "[[203 194 182 183 186 212 213 214 215 218 216 217]\n",
      " [203 194 182 183 186 212 213 214 215 218 216 217]\n",
      " [203 194 182 183 186 212 213 214 215 218 216 217]\n",
      " [203 194 182 183 186 212 213 214 215 218 216 217]]\n",
      "[[198 195 190 186 191 214 213 218 215 217 216 212]\n",
      " [198 195 190 186 199 214 213 218 215 217 216 212]\n",
      " [198 195 190 186 199 214 213 218 215 217 216 212]\n",
      " [198 195 190 186 199 214 213 218 215 217 216 212]]\n",
      "[[198 195 190 186 191 214 213 218 215 217 216 212]\n",
      " [198 195 190 186 199 214 213 218 215 217 216 212]\n",
      " [198 195 190 186 199 214 213 218 215 217 216 212]\n",
      " [198 195 190 186 199 214 213 218 215 217 216 212]]\n",
      "[[198 195 190 186 199 214 213 218 215 217 216 212]\n",
      " [198 195 190 186 199 214 213 218 215 217 216 212]\n",
      " [198 195 190 186 199 214 213 218 215 217 216 212]\n",
      " [198 195 190 186 199 214 213 218 215 217 216 212]]\n",
      "[[198 195 190 186 199 214 213 218 215 217 216 212]\n",
      " [198 195 190 186 199 214 213 218 215 217 216 212]\n",
      " [198 195 190 186 199 214 213 218 215 217 216 212]\n",
      " [198 195 190 186 199 214 213 218 215 217 216 212]]\n",
      "[[198 195 190 186 191 214 213 218 215 217 216 212]\n",
      " [198 195 190 186 199 214 213 218 215 217 216 212]\n",
      " [198 195 190 186 199 214 213 218 215 217 216 212]\n",
      " [198 195 190 186 199 214 213 218 215 217 216 212]]\n",
      "[[185 194 202 204 188 213 214 217 215 218 216 212]\n",
      " [185 194 202 204 188 213 214 217 215 218 216 212]\n",
      " [185 194 202 204 188 213 214 217 215 218 216 212]\n",
      " [185 194 202 204 188 213 214 217 215 218 216 212]]\n",
      "[0.98173516] [0.98173516]\n"
     ]
    }
   ],
   "source": [
    "\n",
    "for i_prob in vector: #range(N_probs):\n",
    "    ## Cada uno de estos es un error distinto\n",
    "    A_tot = dic_A[probs[i_prob]]\n",
    "    print()\n",
    "    print()\n",
    "    print('i_prob:', i_prob, probs[i_prob], tempers[i_prob], 'alpha_t',max[i_prob],'N_t', total[i_prob])\n",
    "    N_t = len(tempers[i_prob])\n",
    "    for i_reps in range(N_reps): # Para tener estadística\n",
    "        print('i_reps', i_reps)\n",
    "        A = np.zeros((K, Nx, Nx))\n",
    "        A = A_tot[i_reps,:,:,:].copy()\n",
    "        \n",
    "        ### variables to store:\n",
    "        energies_pasos, P_store, L_store, Energy_store =  variable_store(PasosMC[i_prob],Pasos_store[i_prob], N_epochs, N_t, K, Nx)\n",
    "        P_gs, P_inv_gs, L_gs, E_gs = ground_state(A, K, Nx, alpha, beta)\n",
    "        for i_epoch in range(N_epochs):\n",
    "            c_accep, c_odd, c_rounds = 0,0,0\n",
    "            m_old, round_trip_old = 0,1\n",
    "\n",
    "            if probs[i_prob] == 0:\n",
    "                P_t, P_inv_t, L_t, Edges_L_t,Edges_NoL_t, Energy_t, ovlp_t0,ovlp_t1, suma_L_t,groups_t  = initialization_random(A, start_groups,end_groups, K, Nx, N_t, tempers, alpha, beta)\n",
    "\n",
    "            else:\n",
    "                P_t, P_inv_t, L_t, Edges_L_t,Edges_NoL_t, Energy_t, ovlp_t0,ovlp_t1, suma_L_t,groups_t  = initialization(A, start_groups,end_groups, K, Nx, N_t, tempers, alpha, beta)\n",
    "            # P_t, P_inv_t, L_t, Edges_L_t,Edges_NoL_t, Energy_t, ovlp_t0,ovlp_t1, suma_L_t,groups_t  = initialization_continuation(A,P_inv_ini, start_groups,end_groups, K, Nx, N_t, tempers, alpha, beta)\n",
    "\n",
    "            \n",
    "            \n",
    "            print('Energía ini:', Energy_t[-1], '/gs:', E_gs)\n",
    "            ## MonteCarlo \n",
    "            start = time.time()\n",
    "            count_parallel, count_long, i_long = 0,0,0\n",
    "            for i_mc in tqdm(range(0,PasosMC[i_prob])):\n",
    "                ## Starting to store sampling configurations\n",
    "                if (i_mc > Pasos_corr[i_prob]-Long_corr[i_prob]):\n",
    "                    count_long += 1\n",
    "                    if (count_long == Long_corr[i_prob]):\n",
    "                        count_long = 0\n",
    "                        print('Energy:', Energy_t)\n",
    "                        P_store[i_epoch, i_long,:,:,:] = P_inv_t.copy()\n",
    "                        Energy_store[i_epoch, i_long,:] = Energy_t.copy()\n",
    "                        L_store[i_epoch, i_long,:,:,:] = L_t.copy()\n",
    "                        i_long += 1\n",
    "                \n",
    "                energies_pasos[i_epoch,:, i_mc] = Energy_t[:]\n",
    "                # print(Energy_t)\n",
    "                for i_micro in range(Nx):\n",
    "                    tempers_loop, tempers_odd_loop, tempers_even_loop =  tempers[i_prob],tempers_odd[i_prob], tempers_even[i_prob]\n",
    "                    tempers_odd_loop, tempers_even_loop =  tempers_odd_loop.astype(int), tempers_even_loop.astype(int)\n",
    "                    # print(tempers_loop.dtype, tempers_odd_loop.dtype, tempers_even_loop.dtype)\n",
    "                    count_parallel,P_t, P_inv_t, Energy_t, ovlp_t0, ovlp_t1, L_t,suma_L_t,c_accep, c_odd, m_old, round_trip_old, c_rounds = parallel_L_knwn_change_groups( count_parallel,alpha,beta,fijado,groups_t,n_groups, start_groups, \n",
    "                                                                                                             end_groups,  A, P_t, P_inv_t, L_t,suma_L_t, Energy_t, ovlp_t0, \n",
    "                                                                                                             ovlp_t1,tempers_loop, tempers_odd_loop, tempers_even_loop,c_accep, c_odd, m_old, round_trip_old, c_rounds)\n",
    "            if i_epoch == 0:\n",
    "                print('Fin Energy_t', Energy_t[-1], 'Energy_gs', E_gs) \n",
    "                print('c_accep', c_accep,'c_rounds',  c_rounds )\n",
    "\n",
    "            \n",
    "            end = time.time()\n",
    "            print(\"Elapsed (after compilation) = %s\" % (end - start))  \n",
    "        \n",
    "        x=np.arange( len(energies_pasos[0,0,:]) )\n",
    "    \n",
    "        string = \"0.1_llarg_Celegans_cluster_\"+str(K)+\"capas_rep\"+str(i_reps)+\"_prob\"+str(probs[i_prob]) +\".pickle\"\n",
    "        d_store = {}\n",
    "        Pasos_equ = 0\n",
    "        tem = -1\n",
    "        P_store = P_store.astype(int)\n",
    "        Porcentaje_sta,Porcentaje_gs = np.zeros(N_epochs),np.zeros(N_epochs)\n",
    "        Pasos = Pasos_store[i_prob]\n",
    "        Pasos = Pasos -1\n",
    "        for i_epoch in range(N_epochs):\n",
    "            nodes_good = np.zeros((Nx))\n",
    "            nodes_maxim = np.zeros((Nx, Nx))\n",
    "            nodes_good_min = np.zeros((Nx))\n",
    "            i_p_min, i_nt_min =  0, 0\n",
    "            E_min = Energy_store[i_epoch, i_p_min, i_nt_min]\n",
    "            for i_p in range(Pasos_equ, Pasos):\n",
    "                ############## stadistics\n",
    "                P_aux = P_store[i_epoch,i_p,tem,:, :]\n",
    "                print(P_aux[:,-12:])\n",
    "                for i_x in range(Nx):\n",
    "                    ## Statistical: tem = 1\n",
    "                    n_node0 = P_aux[0,i_x]\n",
    "                    n_node1 = P_aux[1,i_x]\n",
    "                    nodes_maxim[n_node0, n_node1] += 1\n",
    "\n",
    "                ########### GROUND STATE\n",
    "                for k_nt in range(N_t):\n",
    "                    if (Energy_store[i_epoch,i_p, k_nt]<E_min):\n",
    "                        i_p_min, i_nt_min = i_p, k_nt\n",
    "                        E_min = Energy_store[i_epoch,i_p, k_nt]\n",
    "            \n",
    "            \n",
    "            for i_x in range(Nx):\n",
    "                ##############3 stadsitics\n",
    "                sorted_indices = np.argsort(nodes_maxim[i_x,:])[::-1]\n",
    "                max_value = nodes_maxim[i_x,sorted_indices[0]]\n",
    "                max_indices = sorted_indices[nodes_maxim[i_x,sorted_indices] == max_value]\n",
    "                if len(max_indices) > 1:\n",
    "                    pos = np.random.randint(len(max_indices))\n",
    "                    node = max_indices[pos]\n",
    "                else:\n",
    "                    node = max_indices[0]\n",
    "                if node == i_x:\n",
    "                    nodes_good[i_x] = 1 \n",
    "                ########## GROUND STATE\n",
    "                P_min = P_store[i_epoch,i_p_min,i_nt_min,:,:].copy()\n",
    "                n_node0, n_node1 = P_min[0,i_x], P_min[1,i_x]\n",
    "                if n_node0 == n_node1 :\n",
    "                    nodes_good_min[i_x] = 1\n",
    "\n",
    "            Porcentaje_gs[i_epoch] = np.sum(nodes_good_min)/Nx\n",
    "            Porcentaje_sta[i_epoch] = np.sum(nodes_good)/(Nx)\n",
    "        \n",
    "        print(Porcentaje_gs,Porcentaje_sta)\n",
    "        d_store[\"Probabilidad_error\"] = probs[i_prob] \n",
    "        d_store[\"Datos_energy\"] = energies_pasos\n",
    "        d_store[\"Porcentaje_gs\"] = Porcentaje_gs\n",
    "        d_store[\"Porcentaje_sta\"] = Porcentaje_sta\n",
    "        d_store[\"temper\"] = tempers\n",
    "        d_store[\"A\"] = A       \n",
    "        d_store[\"E_groundtruth\"] = E_gs\n",
    "        d_store[\"Pasos_corr_ini\"] = Pasos_corr[i_prob] \n",
    "        d_store[\"Step_corr\"] = Long_corr[i_prob] \n",
    "        \n",
    "        with open(string, 'wb') as file:\n",
    "            pickle.dump(d_store, file)\n",
    "    \n",
    "\n",
    "    "
   ]
  },
  {
   "cell_type": "code",
   "execution_count": null,
   "id": "d0bddc7b-2c0d-4049-b252-49cfd589c342",
   "metadata": {},
   "outputs": [],
   "source": [
    "Porcentaje_sta"
   ]
  },
  {
   "cell_type": "code",
   "execution_count": null,
   "id": "59b28a1a-4923-4c86-b1bb-8026f8d1d37d",
   "metadata": {},
   "outputs": [],
   "source": [
    "max_step = 8000\n",
    "x=np.arange( len(energies_pasos[0,0,:max_step]) )\n",
    "for k_nt in range(0,N_t):\n",
    "    energies_pasos_temper = energies_pasos[0,k_nt,:max_step] \n",
    "    # plt.plot(x[:],energies_pasos_temper[:],'.',color = 'gray',label='%s beta' % tempers[k_nt])\n",
    "    plt.plot(x[:],energies_pasos_temper[:max_step],'-',label='%s beta' % tempers_loop[k_nt])\n",
    "    plt.xlabel('iteration')\n",
    "    plt.ylabel('Energy per node')\n",
    "# plt.legend()\n",
    "\n",
    "temper = -1# np.where(tempers == 1)[0][0]\n",
    "energies_pasos_temper = energies_pasos[0,temper,:max_step] \n",
    "plt.plot(x[:],energies_pasos_temper[:max_step],'b.',label='%s beta' % tempers_loop[k_nt])\n",
    "plt.show()"
   ]
  },
  {
   "cell_type": "code",
   "execution_count": null,
   "id": "59e8ec01-0bb4-4d41-8242-ee57648d6b38",
   "metadata": {},
   "outputs": [],
   "source": [
    "suma = 0\n",
    "for i_x in range(Nx):\n",
    "    node0 = P_store[0,0,-1,0, i_x]\n",
    "    node1 = P_store[0,0,-1,1, i_x]\n",
    "    if node0 == node1:\n",
    "        suma += 1\n",
    "print(suma/Nx)"
   ]
  },
  {
   "cell_type": "code",
   "execution_count": null,
   "id": "a38927b8-8f5d-4e98-a5d5-36c65c118dba",
   "metadata": {},
   "outputs": [],
   "source": [
    "np.where(Energy_store[0,:-1,-1]== np.min(Energy_store[0,:-1,-1]))[0]"
   ]
  },
  {
   "cell_type": "code",
   "execution_count": null,
   "id": "028c9fa1-455e-48d5-acda-667ff70a70c9",
   "metadata": {},
   "outputs": [],
   "source": []
  },
  {
   "cell_type": "code",
   "execution_count": null,
   "id": "565af7c7-80a0-491d-af20-c37c222b22cb",
   "metadata": {},
   "outputs": [],
   "source": [
    "## Final energy\n",
    "Energy_calculada = np.zeros((N_t))\n",
    "for k_nt in range(N_t):\n",
    "    Edges_L= K*sum(sum(L_t[k_nt,:,:]))\n",
    "    Edges_NoL = Edges_sum - Edges_L\n",
    "    overlap_0, overlap_1 = overlap_total_prob(L_t[k_nt,:,:],A,P_inv_t[k_nt,:,:])\n",
    "    Energy_calculada[k_nt] = hamiltonian_prob(Edges_NoL, Edges_L, overlap_0,overlap_1,alpha, beta)\n",
    "    \n",
    "print('Energy final:', Energy_t, '/Computed final:', Energy_calculada) "
   ]
  },
  {
   "cell_type": "code",
   "execution_count": null,
   "id": "8c52530d-2844-4c24-a3d7-dc1c82a7ed5e",
   "metadata": {},
   "outputs": [],
   "source": []
  }
 ],
 "metadata": {
  "kernelspec": {
   "display_name": "Python 3 (ipykernel)",
   "language": "python",
   "name": "python3"
  },
  "language_info": {
   "codemirror_mode": {
    "name": "ipython",
    "version": 3
   },
   "file_extension": ".py",
   "mimetype": "text/x-python",
   "name": "python",
   "nbconvert_exporter": "python",
   "pygments_lexer": "ipython3",
   "version": "3.10.12"
  }
 },
 "nbformat": 4,
 "nbformat_minor": 5
}
